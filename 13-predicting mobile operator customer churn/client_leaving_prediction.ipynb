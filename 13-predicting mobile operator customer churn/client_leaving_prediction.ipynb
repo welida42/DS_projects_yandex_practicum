{
 "cells": [
  {
   "cell_type": "markdown",
   "metadata": {},
   "source": [
    "# Телеком\n",
    "\n",
    "Оператор связи хочет научиться прогнозировать отток клиентов. Если выяснится, что пользователь планирует уйти, ему будут предложены промокоды и специальные условия. Команда оператора собрала персональные данные о некоторых клиентах, информацию об их тарифах и договорах\n",
    "\n",
    "**Цель:** построить модель машинного обучения, которая предскажет отток клиентов компании с метрикой ROC-AUC больше 0.85.\n",
    "\n",
    "Данные состоят из файлов, полученных из разных источников:\n",
    "\n",
    "- `contract.csv` — информация о договоре;\n",
    "- `personal.csv` — персональные данные клиента;\n",
    "- `internet.csv` — информация об интернет-услугах;\n",
    "- `phone.csv` — информация об услугах телефонии."
   ]
  },
  {
   "cell_type": "markdown",
   "metadata": {},
   "source": [
    "contract.csv:\n",
    "\n",
    "- customerID - уникальный ID клиента\n",
    "- BeginDate - дата начала пользования услугами\n",
    "- EndDate - дата окончания пользования услугами\n",
    "- Type - Тип оплаты за услуги (Month-to-month, One year, Two year)\n",
    "- PaperlessBilling - безналичный расчет\n",
    "- PaymentMethod - способы оплаты за услуги (Electronic check, Mailed check, Bank transfer (automatic), Credit card (automatic))\n",
    "- MonthlyCharges - ежемесячные платежи\n",
    "- TotalCharges - общая сумма платежа\n",
    "\n",
    "personal.csv:\n",
    "\n",
    "- customerID - уникальный ID клиента\n",
    "- gender - пол клиента\n",
    "- Partner - наличие супруга(и)\n",
    "- Dependents - наличие иждивенцев\n",
    "- SeniorCitizen - пенсионер\n",
    "\n",
    "internet.csv:\n",
    "\n",
    "- customerID - уникальный ID клиента\n",
    "- InternetService - вид подключения интернет-соединения (DSL, Fiber optic)\n",
    "- OnlineSecurity - блокировка небезопасных сайтов\n",
    "- OnlineBackup - облачное хранилище файлов\n",
    "- DeviceProtection - Наличие услуги антивируса\n",
    "- TechSupport - выделенная линии технической поддержки\n",
    "- StreamingTV - стриминговое телевидения\n",
    "- StreamingMovies - каталог фильмов\n",
    "\n",
    "phone.csv:\n",
    "\n",
    "- customerID - уникальный ID клиента\n",
    "- MultipleLines - наличие возможности ведения параллельных линий во время звонка"
   ]
  },
  {
   "cell_type": "markdown",
   "metadata": {},
   "source": [
    "# План работы"
   ]
  },
  {
   "cell_type": "markdown",
   "metadata": {},
   "source": [
    "Провести предобработку данных:\n",
    "- проверить на пропуски, дубликаты, выбросы, привести признаки к необходимому формату и объеденить таблицу. \n",
    "\n",
    "Провести исследовательский анализ:\n",
    "- посмотреть на распределение целевого признака\n",
    "- посмотреть на другие признаки и оценить их влияние на целевой\n",
    "\n",
    "Построить модель:\n",
    "- подготовить данные к обучению модели (кодирование категориальных и масштабирование кол-ных признаков, разбивка на обучающую и тестовую выборку)\n",
    "- обучить несколько моделей с подбором оптимальных для нее параметров для массимизация метрики (roc auc, accuracy) \n",
    "- выбрать лучшую модель и подвести итоги"
   ]
  },
  {
   "cell_type": "markdown",
   "metadata": {},
   "source": [
    "## Исследовательский анализ данных"
   ]
  },
  {
   "cell_type": "markdown",
   "metadata": {},
   "source": [
    "### Предварительный анализ"
   ]
  },
  {
   "cell_type": "code",
   "execution_count": 1,
   "metadata": {},
   "outputs": [],
   "source": [
    "import pandas as pd\n",
    "import seaborn as sns\n",
    "import matplotlib.pyplot as plt\n",
    "\n",
    "from sklearn.preprocessing import StandardScaler\n",
    "from sklearn.model_selection import train_test_split, GridSearchCV\n",
    "from sklearn.metrics import accuracy_score, roc_auc_score, roc_curve\n",
    "\n",
    "from sklearn.tree import DecisionTreeClassifier\n",
    "from sklearn.linear_model import LogisticRegression\n",
    "from sklearn.ensemble import RandomForestClassifier\n",
    "from sklearn.dummy import DummyClassifier\n",
    "import lightgbm\n",
    "from lightgbm import LGBMClassifier\n",
    "from catboost import CatBoostClassifier\n",
    "\n",
    "pd.options.mode.chained_assignment = None"
   ]
  },
  {
   "cell_type": "code",
   "execution_count": 2,
   "metadata": {},
   "outputs": [],
   "source": [
    "# /datasets/final_provider/   customerID\n",
    "\n",
    "df_contract = pd.read_csv('/datasets/final_provider/contract.csv')\n",
    "df_personal = pd.read_csv('/datasets/final_provider/personal.csv')\n",
    "df_internet = pd.read_csv('/datasets/final_provider/internet.csv')\n",
    "df_phone = pd.read_csv('/datasets/final_provider/phone.csv')"
   ]
  },
  {
   "cell_type": "code",
   "execution_count": 3,
   "metadata": {
    "scrolled": false
   },
   "outputs": [
    {
     "data": {
      "text/html": [
       "<div>\n",
       "<style scoped>\n",
       "    .dataframe tbody tr th:only-of-type {\n",
       "        vertical-align: middle;\n",
       "    }\n",
       "\n",
       "    .dataframe tbody tr th {\n",
       "        vertical-align: top;\n",
       "    }\n",
       "\n",
       "    .dataframe thead th {\n",
       "        text-align: right;\n",
       "    }\n",
       "</style>\n",
       "<table border=\"1\" class=\"dataframe\">\n",
       "  <thead>\n",
       "    <tr style=\"text-align: right;\">\n",
       "      <th></th>\n",
       "      <th>customerID</th>\n",
       "      <th>BeginDate</th>\n",
       "      <th>EndDate</th>\n",
       "      <th>Type</th>\n",
       "      <th>PaperlessBilling</th>\n",
       "      <th>PaymentMethod</th>\n",
       "      <th>MonthlyCharges</th>\n",
       "      <th>TotalCharges</th>\n",
       "    </tr>\n",
       "  </thead>\n",
       "  <tbody>\n",
       "    <tr>\n",
       "      <th>0</th>\n",
       "      <td>7590-VHVEG</td>\n",
       "      <td>2020-01-01</td>\n",
       "      <td>No</td>\n",
       "      <td>Month-to-month</td>\n",
       "      <td>Yes</td>\n",
       "      <td>Electronic check</td>\n",
       "      <td>29.85</td>\n",
       "      <td>29.85</td>\n",
       "    </tr>\n",
       "    <tr>\n",
       "      <th>1</th>\n",
       "      <td>5575-GNVDE</td>\n",
       "      <td>2017-04-01</td>\n",
       "      <td>No</td>\n",
       "      <td>One year</td>\n",
       "      <td>No</td>\n",
       "      <td>Mailed check</td>\n",
       "      <td>56.95</td>\n",
       "      <td>1889.5</td>\n",
       "    </tr>\n",
       "    <tr>\n",
       "      <th>2</th>\n",
       "      <td>3668-QPYBK</td>\n",
       "      <td>2019-10-01</td>\n",
       "      <td>2019-12-01 00:00:00</td>\n",
       "      <td>Month-to-month</td>\n",
       "      <td>Yes</td>\n",
       "      <td>Mailed check</td>\n",
       "      <td>53.85</td>\n",
       "      <td>108.15</td>\n",
       "    </tr>\n",
       "    <tr>\n",
       "      <th>3</th>\n",
       "      <td>7795-CFOCW</td>\n",
       "      <td>2016-05-01</td>\n",
       "      <td>No</td>\n",
       "      <td>One year</td>\n",
       "      <td>No</td>\n",
       "      <td>Bank transfer (automatic)</td>\n",
       "      <td>42.30</td>\n",
       "      <td>1840.75</td>\n",
       "    </tr>\n",
       "    <tr>\n",
       "      <th>4</th>\n",
       "      <td>9237-HQITU</td>\n",
       "      <td>2019-09-01</td>\n",
       "      <td>2019-11-01 00:00:00</td>\n",
       "      <td>Month-to-month</td>\n",
       "      <td>Yes</td>\n",
       "      <td>Electronic check</td>\n",
       "      <td>70.70</td>\n",
       "      <td>151.65</td>\n",
       "    </tr>\n",
       "    <tr>\n",
       "      <th>...</th>\n",
       "      <td>...</td>\n",
       "      <td>...</td>\n",
       "      <td>...</td>\n",
       "      <td>...</td>\n",
       "      <td>...</td>\n",
       "      <td>...</td>\n",
       "      <td>...</td>\n",
       "      <td>...</td>\n",
       "    </tr>\n",
       "    <tr>\n",
       "      <th>7038</th>\n",
       "      <td>6840-RESVB</td>\n",
       "      <td>2018-02-01</td>\n",
       "      <td>No</td>\n",
       "      <td>One year</td>\n",
       "      <td>Yes</td>\n",
       "      <td>Mailed check</td>\n",
       "      <td>84.80</td>\n",
       "      <td>1990.5</td>\n",
       "    </tr>\n",
       "    <tr>\n",
       "      <th>7039</th>\n",
       "      <td>2234-XADUH</td>\n",
       "      <td>2014-02-01</td>\n",
       "      <td>No</td>\n",
       "      <td>One year</td>\n",
       "      <td>Yes</td>\n",
       "      <td>Credit card (automatic)</td>\n",
       "      <td>103.20</td>\n",
       "      <td>7362.9</td>\n",
       "    </tr>\n",
       "    <tr>\n",
       "      <th>7040</th>\n",
       "      <td>4801-JZAZL</td>\n",
       "      <td>2019-03-01</td>\n",
       "      <td>No</td>\n",
       "      <td>Month-to-month</td>\n",
       "      <td>Yes</td>\n",
       "      <td>Electronic check</td>\n",
       "      <td>29.60</td>\n",
       "      <td>346.45</td>\n",
       "    </tr>\n",
       "    <tr>\n",
       "      <th>7041</th>\n",
       "      <td>8361-LTMKD</td>\n",
       "      <td>2019-07-01</td>\n",
       "      <td>2019-11-01 00:00:00</td>\n",
       "      <td>Month-to-month</td>\n",
       "      <td>Yes</td>\n",
       "      <td>Mailed check</td>\n",
       "      <td>74.40</td>\n",
       "      <td>306.6</td>\n",
       "    </tr>\n",
       "    <tr>\n",
       "      <th>7042</th>\n",
       "      <td>3186-AJIEK</td>\n",
       "      <td>2014-08-01</td>\n",
       "      <td>No</td>\n",
       "      <td>Two year</td>\n",
       "      <td>Yes</td>\n",
       "      <td>Bank transfer (automatic)</td>\n",
       "      <td>105.65</td>\n",
       "      <td>6844.5</td>\n",
       "    </tr>\n",
       "  </tbody>\n",
       "</table>\n",
       "<p>7043 rows × 8 columns</p>\n",
       "</div>"
      ],
      "text/plain": [
       "      customerID   BeginDate              EndDate            Type  \\\n",
       "0     7590-VHVEG  2020-01-01                   No  Month-to-month   \n",
       "1     5575-GNVDE  2017-04-01                   No        One year   \n",
       "2     3668-QPYBK  2019-10-01  2019-12-01 00:00:00  Month-to-month   \n",
       "3     7795-CFOCW  2016-05-01                   No        One year   \n",
       "4     9237-HQITU  2019-09-01  2019-11-01 00:00:00  Month-to-month   \n",
       "...          ...         ...                  ...             ...   \n",
       "7038  6840-RESVB  2018-02-01                   No        One year   \n",
       "7039  2234-XADUH  2014-02-01                   No        One year   \n",
       "7040  4801-JZAZL  2019-03-01                   No  Month-to-month   \n",
       "7041  8361-LTMKD  2019-07-01  2019-11-01 00:00:00  Month-to-month   \n",
       "7042  3186-AJIEK  2014-08-01                   No        Two year   \n",
       "\n",
       "     PaperlessBilling              PaymentMethod  MonthlyCharges TotalCharges  \n",
       "0                 Yes           Electronic check           29.85        29.85  \n",
       "1                  No               Mailed check           56.95       1889.5  \n",
       "2                 Yes               Mailed check           53.85       108.15  \n",
       "3                  No  Bank transfer (automatic)           42.30      1840.75  \n",
       "4                 Yes           Electronic check           70.70       151.65  \n",
       "...               ...                        ...             ...          ...  \n",
       "7038              Yes               Mailed check           84.80       1990.5  \n",
       "7039              Yes    Credit card (automatic)          103.20       7362.9  \n",
       "7040              Yes           Electronic check           29.60       346.45  \n",
       "7041              Yes               Mailed check           74.40        306.6  \n",
       "7042              Yes  Bank transfer (automatic)          105.65       6844.5  \n",
       "\n",
       "[7043 rows x 8 columns]"
      ]
     },
     "metadata": {},
     "output_type": "display_data"
    },
    {
     "name": "stdout",
     "output_type": "stream",
     "text": [
      "<class 'pandas.core.frame.DataFrame'>\n",
      "RangeIndex: 7043 entries, 0 to 7042\n",
      "Data columns (total 8 columns):\n",
      " #   Column            Non-Null Count  Dtype  \n",
      "---  ------            --------------  -----  \n",
      " 0   customerID        7043 non-null   object \n",
      " 1   BeginDate         7043 non-null   object \n",
      " 2   EndDate           7043 non-null   object \n",
      " 3   Type              7043 non-null   object \n",
      " 4   PaperlessBilling  7043 non-null   object \n",
      " 5   PaymentMethod     7043 non-null   object \n",
      " 6   MonthlyCharges    7043 non-null   float64\n",
      " 7   TotalCharges      7043 non-null   object \n",
      "dtypes: float64(1), object(7)\n",
      "memory usage: 440.3+ KB\n"
     ]
    },
    {
     "data": {
      "text/html": [
       "<div>\n",
       "<style scoped>\n",
       "    .dataframe tbody tr th:only-of-type {\n",
       "        vertical-align: middle;\n",
       "    }\n",
       "\n",
       "    .dataframe tbody tr th {\n",
       "        vertical-align: top;\n",
       "    }\n",
       "\n",
       "    .dataframe thead th {\n",
       "        text-align: right;\n",
       "    }\n",
       "</style>\n",
       "<table border=\"1\" class=\"dataframe\">\n",
       "  <thead>\n",
       "    <tr style=\"text-align: right;\">\n",
       "      <th></th>\n",
       "      <th>MonthlyCharges</th>\n",
       "    </tr>\n",
       "  </thead>\n",
       "  <tbody>\n",
       "    <tr>\n",
       "      <th>count</th>\n",
       "      <td>7043.000000</td>\n",
       "    </tr>\n",
       "    <tr>\n",
       "      <th>mean</th>\n",
       "      <td>64.761692</td>\n",
       "    </tr>\n",
       "    <tr>\n",
       "      <th>std</th>\n",
       "      <td>30.090047</td>\n",
       "    </tr>\n",
       "    <tr>\n",
       "      <th>min</th>\n",
       "      <td>18.250000</td>\n",
       "    </tr>\n",
       "    <tr>\n",
       "      <th>25%</th>\n",
       "      <td>35.500000</td>\n",
       "    </tr>\n",
       "    <tr>\n",
       "      <th>50%</th>\n",
       "      <td>70.350000</td>\n",
       "    </tr>\n",
       "    <tr>\n",
       "      <th>75%</th>\n",
       "      <td>89.850000</td>\n",
       "    </tr>\n",
       "    <tr>\n",
       "      <th>max</th>\n",
       "      <td>118.750000</td>\n",
       "    </tr>\n",
       "  </tbody>\n",
       "</table>\n",
       "</div>"
      ],
      "text/plain": [
       "       MonthlyCharges\n",
       "count     7043.000000\n",
       "mean        64.761692\n",
       "std         30.090047\n",
       "min         18.250000\n",
       "25%         35.500000\n",
       "50%         70.350000\n",
       "75%         89.850000\n",
       "max        118.750000"
      ]
     },
     "metadata": {},
     "output_type": "display_data"
    },
    {
     "name": "stdout",
     "output_type": "stream",
     "text": [
      "Дубликаты: 0\n"
     ]
    },
    {
     "data": {
      "text/html": [
       "<div>\n",
       "<style scoped>\n",
       "    .dataframe tbody tr th:only-of-type {\n",
       "        vertical-align: middle;\n",
       "    }\n",
       "\n",
       "    .dataframe tbody tr th {\n",
       "        vertical-align: top;\n",
       "    }\n",
       "\n",
       "    .dataframe thead th {\n",
       "        text-align: right;\n",
       "    }\n",
       "</style>\n",
       "<table border=\"1\" class=\"dataframe\">\n",
       "  <thead>\n",
       "    <tr style=\"text-align: right;\">\n",
       "      <th></th>\n",
       "      <th>customerID</th>\n",
       "      <th>gender</th>\n",
       "      <th>SeniorCitizen</th>\n",
       "      <th>Partner</th>\n",
       "      <th>Dependents</th>\n",
       "    </tr>\n",
       "  </thead>\n",
       "  <tbody>\n",
       "    <tr>\n",
       "      <th>0</th>\n",
       "      <td>7590-VHVEG</td>\n",
       "      <td>Female</td>\n",
       "      <td>0</td>\n",
       "      <td>Yes</td>\n",
       "      <td>No</td>\n",
       "    </tr>\n",
       "    <tr>\n",
       "      <th>1</th>\n",
       "      <td>5575-GNVDE</td>\n",
       "      <td>Male</td>\n",
       "      <td>0</td>\n",
       "      <td>No</td>\n",
       "      <td>No</td>\n",
       "    </tr>\n",
       "    <tr>\n",
       "      <th>2</th>\n",
       "      <td>3668-QPYBK</td>\n",
       "      <td>Male</td>\n",
       "      <td>0</td>\n",
       "      <td>No</td>\n",
       "      <td>No</td>\n",
       "    </tr>\n",
       "    <tr>\n",
       "      <th>3</th>\n",
       "      <td>7795-CFOCW</td>\n",
       "      <td>Male</td>\n",
       "      <td>0</td>\n",
       "      <td>No</td>\n",
       "      <td>No</td>\n",
       "    </tr>\n",
       "    <tr>\n",
       "      <th>4</th>\n",
       "      <td>9237-HQITU</td>\n",
       "      <td>Female</td>\n",
       "      <td>0</td>\n",
       "      <td>No</td>\n",
       "      <td>No</td>\n",
       "    </tr>\n",
       "    <tr>\n",
       "      <th>...</th>\n",
       "      <td>...</td>\n",
       "      <td>...</td>\n",
       "      <td>...</td>\n",
       "      <td>...</td>\n",
       "      <td>...</td>\n",
       "    </tr>\n",
       "    <tr>\n",
       "      <th>7038</th>\n",
       "      <td>6840-RESVB</td>\n",
       "      <td>Male</td>\n",
       "      <td>0</td>\n",
       "      <td>Yes</td>\n",
       "      <td>Yes</td>\n",
       "    </tr>\n",
       "    <tr>\n",
       "      <th>7039</th>\n",
       "      <td>2234-XADUH</td>\n",
       "      <td>Female</td>\n",
       "      <td>0</td>\n",
       "      <td>Yes</td>\n",
       "      <td>Yes</td>\n",
       "    </tr>\n",
       "    <tr>\n",
       "      <th>7040</th>\n",
       "      <td>4801-JZAZL</td>\n",
       "      <td>Female</td>\n",
       "      <td>0</td>\n",
       "      <td>Yes</td>\n",
       "      <td>Yes</td>\n",
       "    </tr>\n",
       "    <tr>\n",
       "      <th>7041</th>\n",
       "      <td>8361-LTMKD</td>\n",
       "      <td>Male</td>\n",
       "      <td>1</td>\n",
       "      <td>Yes</td>\n",
       "      <td>No</td>\n",
       "    </tr>\n",
       "    <tr>\n",
       "      <th>7042</th>\n",
       "      <td>3186-AJIEK</td>\n",
       "      <td>Male</td>\n",
       "      <td>0</td>\n",
       "      <td>No</td>\n",
       "      <td>No</td>\n",
       "    </tr>\n",
       "  </tbody>\n",
       "</table>\n",
       "<p>7043 rows × 5 columns</p>\n",
       "</div>"
      ],
      "text/plain": [
       "      customerID  gender  SeniorCitizen Partner Dependents\n",
       "0     7590-VHVEG  Female              0     Yes         No\n",
       "1     5575-GNVDE    Male              0      No         No\n",
       "2     3668-QPYBK    Male              0      No         No\n",
       "3     7795-CFOCW    Male              0      No         No\n",
       "4     9237-HQITU  Female              0      No         No\n",
       "...          ...     ...            ...     ...        ...\n",
       "7038  6840-RESVB    Male              0     Yes        Yes\n",
       "7039  2234-XADUH  Female              0     Yes        Yes\n",
       "7040  4801-JZAZL  Female              0     Yes        Yes\n",
       "7041  8361-LTMKD    Male              1     Yes         No\n",
       "7042  3186-AJIEK    Male              0      No         No\n",
       "\n",
       "[7043 rows x 5 columns]"
      ]
     },
     "metadata": {},
     "output_type": "display_data"
    },
    {
     "name": "stdout",
     "output_type": "stream",
     "text": [
      "<class 'pandas.core.frame.DataFrame'>\n",
      "RangeIndex: 7043 entries, 0 to 7042\n",
      "Data columns (total 5 columns):\n",
      " #   Column         Non-Null Count  Dtype \n",
      "---  ------         --------------  ----- \n",
      " 0   customerID     7043 non-null   object\n",
      " 1   gender         7043 non-null   object\n",
      " 2   SeniorCitizen  7043 non-null   int64 \n",
      " 3   Partner        7043 non-null   object\n",
      " 4   Dependents     7043 non-null   object\n",
      "dtypes: int64(1), object(4)\n",
      "memory usage: 275.2+ KB\n"
     ]
    },
    {
     "data": {
      "text/html": [
       "<div>\n",
       "<style scoped>\n",
       "    .dataframe tbody tr th:only-of-type {\n",
       "        vertical-align: middle;\n",
       "    }\n",
       "\n",
       "    .dataframe tbody tr th {\n",
       "        vertical-align: top;\n",
       "    }\n",
       "\n",
       "    .dataframe thead th {\n",
       "        text-align: right;\n",
       "    }\n",
       "</style>\n",
       "<table border=\"1\" class=\"dataframe\">\n",
       "  <thead>\n",
       "    <tr style=\"text-align: right;\">\n",
       "      <th></th>\n",
       "      <th>SeniorCitizen</th>\n",
       "    </tr>\n",
       "  </thead>\n",
       "  <tbody>\n",
       "    <tr>\n",
       "      <th>count</th>\n",
       "      <td>7043.000000</td>\n",
       "    </tr>\n",
       "    <tr>\n",
       "      <th>mean</th>\n",
       "      <td>0.162147</td>\n",
       "    </tr>\n",
       "    <tr>\n",
       "      <th>std</th>\n",
       "      <td>0.368612</td>\n",
       "    </tr>\n",
       "    <tr>\n",
       "      <th>min</th>\n",
       "      <td>0.000000</td>\n",
       "    </tr>\n",
       "    <tr>\n",
       "      <th>25%</th>\n",
       "      <td>0.000000</td>\n",
       "    </tr>\n",
       "    <tr>\n",
       "      <th>50%</th>\n",
       "      <td>0.000000</td>\n",
       "    </tr>\n",
       "    <tr>\n",
       "      <th>75%</th>\n",
       "      <td>0.000000</td>\n",
       "    </tr>\n",
       "    <tr>\n",
       "      <th>max</th>\n",
       "      <td>1.000000</td>\n",
       "    </tr>\n",
       "  </tbody>\n",
       "</table>\n",
       "</div>"
      ],
      "text/plain": [
       "       SeniorCitizen\n",
       "count    7043.000000\n",
       "mean        0.162147\n",
       "std         0.368612\n",
       "min         0.000000\n",
       "25%         0.000000\n",
       "50%         0.000000\n",
       "75%         0.000000\n",
       "max         1.000000"
      ]
     },
     "metadata": {},
     "output_type": "display_data"
    },
    {
     "name": "stdout",
     "output_type": "stream",
     "text": [
      "Дубликаты: 0\n"
     ]
    },
    {
     "data": {
      "text/html": [
       "<div>\n",
       "<style scoped>\n",
       "    .dataframe tbody tr th:only-of-type {\n",
       "        vertical-align: middle;\n",
       "    }\n",
       "\n",
       "    .dataframe tbody tr th {\n",
       "        vertical-align: top;\n",
       "    }\n",
       "\n",
       "    .dataframe thead th {\n",
       "        text-align: right;\n",
       "    }\n",
       "</style>\n",
       "<table border=\"1\" class=\"dataframe\">\n",
       "  <thead>\n",
       "    <tr style=\"text-align: right;\">\n",
       "      <th></th>\n",
       "      <th>customerID</th>\n",
       "      <th>InternetService</th>\n",
       "      <th>OnlineSecurity</th>\n",
       "      <th>OnlineBackup</th>\n",
       "      <th>DeviceProtection</th>\n",
       "      <th>TechSupport</th>\n",
       "      <th>StreamingTV</th>\n",
       "      <th>StreamingMovies</th>\n",
       "    </tr>\n",
       "  </thead>\n",
       "  <tbody>\n",
       "    <tr>\n",
       "      <th>0</th>\n",
       "      <td>7590-VHVEG</td>\n",
       "      <td>DSL</td>\n",
       "      <td>No</td>\n",
       "      <td>Yes</td>\n",
       "      <td>No</td>\n",
       "      <td>No</td>\n",
       "      <td>No</td>\n",
       "      <td>No</td>\n",
       "    </tr>\n",
       "    <tr>\n",
       "      <th>1</th>\n",
       "      <td>5575-GNVDE</td>\n",
       "      <td>DSL</td>\n",
       "      <td>Yes</td>\n",
       "      <td>No</td>\n",
       "      <td>Yes</td>\n",
       "      <td>No</td>\n",
       "      <td>No</td>\n",
       "      <td>No</td>\n",
       "    </tr>\n",
       "    <tr>\n",
       "      <th>2</th>\n",
       "      <td>3668-QPYBK</td>\n",
       "      <td>DSL</td>\n",
       "      <td>Yes</td>\n",
       "      <td>Yes</td>\n",
       "      <td>No</td>\n",
       "      <td>No</td>\n",
       "      <td>No</td>\n",
       "      <td>No</td>\n",
       "    </tr>\n",
       "    <tr>\n",
       "      <th>3</th>\n",
       "      <td>7795-CFOCW</td>\n",
       "      <td>DSL</td>\n",
       "      <td>Yes</td>\n",
       "      <td>No</td>\n",
       "      <td>Yes</td>\n",
       "      <td>Yes</td>\n",
       "      <td>No</td>\n",
       "      <td>No</td>\n",
       "    </tr>\n",
       "    <tr>\n",
       "      <th>4</th>\n",
       "      <td>9237-HQITU</td>\n",
       "      <td>Fiber optic</td>\n",
       "      <td>No</td>\n",
       "      <td>No</td>\n",
       "      <td>No</td>\n",
       "      <td>No</td>\n",
       "      <td>No</td>\n",
       "      <td>No</td>\n",
       "    </tr>\n",
       "    <tr>\n",
       "      <th>...</th>\n",
       "      <td>...</td>\n",
       "      <td>...</td>\n",
       "      <td>...</td>\n",
       "      <td>...</td>\n",
       "      <td>...</td>\n",
       "      <td>...</td>\n",
       "      <td>...</td>\n",
       "      <td>...</td>\n",
       "    </tr>\n",
       "    <tr>\n",
       "      <th>5512</th>\n",
       "      <td>6840-RESVB</td>\n",
       "      <td>DSL</td>\n",
       "      <td>Yes</td>\n",
       "      <td>No</td>\n",
       "      <td>Yes</td>\n",
       "      <td>Yes</td>\n",
       "      <td>Yes</td>\n",
       "      <td>Yes</td>\n",
       "    </tr>\n",
       "    <tr>\n",
       "      <th>5513</th>\n",
       "      <td>2234-XADUH</td>\n",
       "      <td>Fiber optic</td>\n",
       "      <td>No</td>\n",
       "      <td>Yes</td>\n",
       "      <td>Yes</td>\n",
       "      <td>No</td>\n",
       "      <td>Yes</td>\n",
       "      <td>Yes</td>\n",
       "    </tr>\n",
       "    <tr>\n",
       "      <th>5514</th>\n",
       "      <td>4801-JZAZL</td>\n",
       "      <td>DSL</td>\n",
       "      <td>Yes</td>\n",
       "      <td>No</td>\n",
       "      <td>No</td>\n",
       "      <td>No</td>\n",
       "      <td>No</td>\n",
       "      <td>No</td>\n",
       "    </tr>\n",
       "    <tr>\n",
       "      <th>5515</th>\n",
       "      <td>8361-LTMKD</td>\n",
       "      <td>Fiber optic</td>\n",
       "      <td>No</td>\n",
       "      <td>No</td>\n",
       "      <td>No</td>\n",
       "      <td>No</td>\n",
       "      <td>No</td>\n",
       "      <td>No</td>\n",
       "    </tr>\n",
       "    <tr>\n",
       "      <th>5516</th>\n",
       "      <td>3186-AJIEK</td>\n",
       "      <td>Fiber optic</td>\n",
       "      <td>Yes</td>\n",
       "      <td>No</td>\n",
       "      <td>Yes</td>\n",
       "      <td>Yes</td>\n",
       "      <td>Yes</td>\n",
       "      <td>Yes</td>\n",
       "    </tr>\n",
       "  </tbody>\n",
       "</table>\n",
       "<p>5517 rows × 8 columns</p>\n",
       "</div>"
      ],
      "text/plain": [
       "      customerID InternetService OnlineSecurity OnlineBackup DeviceProtection  \\\n",
       "0     7590-VHVEG             DSL             No          Yes               No   \n",
       "1     5575-GNVDE             DSL            Yes           No              Yes   \n",
       "2     3668-QPYBK             DSL            Yes          Yes               No   \n",
       "3     7795-CFOCW             DSL            Yes           No              Yes   \n",
       "4     9237-HQITU     Fiber optic             No           No               No   \n",
       "...          ...             ...            ...          ...              ...   \n",
       "5512  6840-RESVB             DSL            Yes           No              Yes   \n",
       "5513  2234-XADUH     Fiber optic             No          Yes              Yes   \n",
       "5514  4801-JZAZL             DSL            Yes           No               No   \n",
       "5515  8361-LTMKD     Fiber optic             No           No               No   \n",
       "5516  3186-AJIEK     Fiber optic            Yes           No              Yes   \n",
       "\n",
       "     TechSupport StreamingTV StreamingMovies  \n",
       "0             No          No              No  \n",
       "1             No          No              No  \n",
       "2             No          No              No  \n",
       "3            Yes          No              No  \n",
       "4             No          No              No  \n",
       "...          ...         ...             ...  \n",
       "5512         Yes         Yes             Yes  \n",
       "5513          No         Yes             Yes  \n",
       "5514          No          No              No  \n",
       "5515          No          No              No  \n",
       "5516         Yes         Yes             Yes  \n",
       "\n",
       "[5517 rows x 8 columns]"
      ]
     },
     "metadata": {},
     "output_type": "display_data"
    },
    {
     "name": "stdout",
     "output_type": "stream",
     "text": [
      "<class 'pandas.core.frame.DataFrame'>\n",
      "RangeIndex: 5517 entries, 0 to 5516\n",
      "Data columns (total 8 columns):\n",
      " #   Column            Non-Null Count  Dtype \n",
      "---  ------            --------------  ----- \n",
      " 0   customerID        5517 non-null   object\n",
      " 1   InternetService   5517 non-null   object\n",
      " 2   OnlineSecurity    5517 non-null   object\n",
      " 3   OnlineBackup      5517 non-null   object\n",
      " 4   DeviceProtection  5517 non-null   object\n",
      " 5   TechSupport       5517 non-null   object\n",
      " 6   StreamingTV       5517 non-null   object\n",
      " 7   StreamingMovies   5517 non-null   object\n",
      "dtypes: object(8)\n",
      "memory usage: 344.9+ KB\n"
     ]
    },
    {
     "data": {
      "text/html": [
       "<div>\n",
       "<style scoped>\n",
       "    .dataframe tbody tr th:only-of-type {\n",
       "        vertical-align: middle;\n",
       "    }\n",
       "\n",
       "    .dataframe tbody tr th {\n",
       "        vertical-align: top;\n",
       "    }\n",
       "\n",
       "    .dataframe thead th {\n",
       "        text-align: right;\n",
       "    }\n",
       "</style>\n",
       "<table border=\"1\" class=\"dataframe\">\n",
       "  <thead>\n",
       "    <tr style=\"text-align: right;\">\n",
       "      <th></th>\n",
       "      <th>customerID</th>\n",
       "      <th>InternetService</th>\n",
       "      <th>OnlineSecurity</th>\n",
       "      <th>OnlineBackup</th>\n",
       "      <th>DeviceProtection</th>\n",
       "      <th>TechSupport</th>\n",
       "      <th>StreamingTV</th>\n",
       "      <th>StreamingMovies</th>\n",
       "    </tr>\n",
       "  </thead>\n",
       "  <tbody>\n",
       "    <tr>\n",
       "      <th>count</th>\n",
       "      <td>5517</td>\n",
       "      <td>5517</td>\n",
       "      <td>5517</td>\n",
       "      <td>5517</td>\n",
       "      <td>5517</td>\n",
       "      <td>5517</td>\n",
       "      <td>5517</td>\n",
       "      <td>5517</td>\n",
       "    </tr>\n",
       "    <tr>\n",
       "      <th>unique</th>\n",
       "      <td>5517</td>\n",
       "      <td>2</td>\n",
       "      <td>2</td>\n",
       "      <td>2</td>\n",
       "      <td>2</td>\n",
       "      <td>2</td>\n",
       "      <td>2</td>\n",
       "      <td>2</td>\n",
       "    </tr>\n",
       "    <tr>\n",
       "      <th>top</th>\n",
       "      <td>0233-FTHAV</td>\n",
       "      <td>Fiber optic</td>\n",
       "      <td>No</td>\n",
       "      <td>No</td>\n",
       "      <td>No</td>\n",
       "      <td>No</td>\n",
       "      <td>No</td>\n",
       "      <td>No</td>\n",
       "    </tr>\n",
       "    <tr>\n",
       "      <th>freq</th>\n",
       "      <td>1</td>\n",
       "      <td>3096</td>\n",
       "      <td>3498</td>\n",
       "      <td>3088</td>\n",
       "      <td>3095</td>\n",
       "      <td>3473</td>\n",
       "      <td>2810</td>\n",
       "      <td>2785</td>\n",
       "    </tr>\n",
       "  </tbody>\n",
       "</table>\n",
       "</div>"
      ],
      "text/plain": [
       "        customerID InternetService OnlineSecurity OnlineBackup  \\\n",
       "count         5517            5517           5517         5517   \n",
       "unique        5517               2              2            2   \n",
       "top     0233-FTHAV     Fiber optic             No           No   \n",
       "freq             1            3096           3498         3088   \n",
       "\n",
       "       DeviceProtection TechSupport StreamingTV StreamingMovies  \n",
       "count              5517        5517        5517            5517  \n",
       "unique                2           2           2               2  \n",
       "top                  No          No          No              No  \n",
       "freq               3095        3473        2810            2785  "
      ]
     },
     "metadata": {},
     "output_type": "display_data"
    },
    {
     "name": "stdout",
     "output_type": "stream",
     "text": [
      "Дубликаты: 0\n"
     ]
    },
    {
     "data": {
      "text/html": [
       "<div>\n",
       "<style scoped>\n",
       "    .dataframe tbody tr th:only-of-type {\n",
       "        vertical-align: middle;\n",
       "    }\n",
       "\n",
       "    .dataframe tbody tr th {\n",
       "        vertical-align: top;\n",
       "    }\n",
       "\n",
       "    .dataframe thead th {\n",
       "        text-align: right;\n",
       "    }\n",
       "</style>\n",
       "<table border=\"1\" class=\"dataframe\">\n",
       "  <thead>\n",
       "    <tr style=\"text-align: right;\">\n",
       "      <th></th>\n",
       "      <th>customerID</th>\n",
       "      <th>MultipleLines</th>\n",
       "    </tr>\n",
       "  </thead>\n",
       "  <tbody>\n",
       "    <tr>\n",
       "      <th>0</th>\n",
       "      <td>5575-GNVDE</td>\n",
       "      <td>No</td>\n",
       "    </tr>\n",
       "    <tr>\n",
       "      <th>1</th>\n",
       "      <td>3668-QPYBK</td>\n",
       "      <td>No</td>\n",
       "    </tr>\n",
       "    <tr>\n",
       "      <th>2</th>\n",
       "      <td>9237-HQITU</td>\n",
       "      <td>No</td>\n",
       "    </tr>\n",
       "    <tr>\n",
       "      <th>3</th>\n",
       "      <td>9305-CDSKC</td>\n",
       "      <td>Yes</td>\n",
       "    </tr>\n",
       "    <tr>\n",
       "      <th>4</th>\n",
       "      <td>1452-KIOVK</td>\n",
       "      <td>Yes</td>\n",
       "    </tr>\n",
       "    <tr>\n",
       "      <th>...</th>\n",
       "      <td>...</td>\n",
       "      <td>...</td>\n",
       "    </tr>\n",
       "    <tr>\n",
       "      <th>6356</th>\n",
       "      <td>2569-WGERO</td>\n",
       "      <td>No</td>\n",
       "    </tr>\n",
       "    <tr>\n",
       "      <th>6357</th>\n",
       "      <td>6840-RESVB</td>\n",
       "      <td>Yes</td>\n",
       "    </tr>\n",
       "    <tr>\n",
       "      <th>6358</th>\n",
       "      <td>2234-XADUH</td>\n",
       "      <td>Yes</td>\n",
       "    </tr>\n",
       "    <tr>\n",
       "      <th>6359</th>\n",
       "      <td>8361-LTMKD</td>\n",
       "      <td>Yes</td>\n",
       "    </tr>\n",
       "    <tr>\n",
       "      <th>6360</th>\n",
       "      <td>3186-AJIEK</td>\n",
       "      <td>No</td>\n",
       "    </tr>\n",
       "  </tbody>\n",
       "</table>\n",
       "<p>6361 rows × 2 columns</p>\n",
       "</div>"
      ],
      "text/plain": [
       "      customerID MultipleLines\n",
       "0     5575-GNVDE            No\n",
       "1     3668-QPYBK            No\n",
       "2     9237-HQITU            No\n",
       "3     9305-CDSKC           Yes\n",
       "4     1452-KIOVK           Yes\n",
       "...          ...           ...\n",
       "6356  2569-WGERO            No\n",
       "6357  6840-RESVB           Yes\n",
       "6358  2234-XADUH           Yes\n",
       "6359  8361-LTMKD           Yes\n",
       "6360  3186-AJIEK            No\n",
       "\n",
       "[6361 rows x 2 columns]"
      ]
     },
     "metadata": {},
     "output_type": "display_data"
    },
    {
     "name": "stdout",
     "output_type": "stream",
     "text": [
      "<class 'pandas.core.frame.DataFrame'>\n",
      "RangeIndex: 6361 entries, 0 to 6360\n",
      "Data columns (total 2 columns):\n",
      " #   Column         Non-Null Count  Dtype \n",
      "---  ------         --------------  ----- \n",
      " 0   customerID     6361 non-null   object\n",
      " 1   MultipleLines  6361 non-null   object\n",
      "dtypes: object(2)\n",
      "memory usage: 99.5+ KB\n"
     ]
    },
    {
     "data": {
      "text/html": [
       "<div>\n",
       "<style scoped>\n",
       "    .dataframe tbody tr th:only-of-type {\n",
       "        vertical-align: middle;\n",
       "    }\n",
       "\n",
       "    .dataframe tbody tr th {\n",
       "        vertical-align: top;\n",
       "    }\n",
       "\n",
       "    .dataframe thead th {\n",
       "        text-align: right;\n",
       "    }\n",
       "</style>\n",
       "<table border=\"1\" class=\"dataframe\">\n",
       "  <thead>\n",
       "    <tr style=\"text-align: right;\">\n",
       "      <th></th>\n",
       "      <th>customerID</th>\n",
       "      <th>MultipleLines</th>\n",
       "    </tr>\n",
       "  </thead>\n",
       "  <tbody>\n",
       "    <tr>\n",
       "      <th>count</th>\n",
       "      <td>6361</td>\n",
       "      <td>6361</td>\n",
       "    </tr>\n",
       "    <tr>\n",
       "      <th>unique</th>\n",
       "      <td>6361</td>\n",
       "      <td>2</td>\n",
       "    </tr>\n",
       "    <tr>\n",
       "      <th>top</th>\n",
       "      <td>6266-QHOJZ</td>\n",
       "      <td>No</td>\n",
       "    </tr>\n",
       "    <tr>\n",
       "      <th>freq</th>\n",
       "      <td>1</td>\n",
       "      <td>3390</td>\n",
       "    </tr>\n",
       "  </tbody>\n",
       "</table>\n",
       "</div>"
      ],
      "text/plain": [
       "        customerID MultipleLines\n",
       "count         6361          6361\n",
       "unique        6361             2\n",
       "top     6266-QHOJZ            No\n",
       "freq             1          3390"
      ]
     },
     "metadata": {},
     "output_type": "display_data"
    },
    {
     "name": "stdout",
     "output_type": "stream",
     "text": [
      "Дубликаты: 0\n"
     ]
    }
   ],
   "source": [
    "df_list = [df_contract, df_personal, df_internet, df_phone]\n",
    "for df in df_list:\n",
    "    display(df)\n",
    "    df.info()\n",
    "    display(df.describe())\n",
    "    print(\"Дубликаты:\", sum(df.duplicated()))"
   ]
  },
  {
   "cell_type": "markdown",
   "metadata": {},
   "source": [
    "- дубликатов и явных выбросов и пропусков не обнаружено, признак TotalCharges имеет тип object, что говорит о наличии в ней не только числовых значений. \n",
    "- так же стоит проанализировать признаки BeginDate, EndDate и привести их к единому по логиге типу.\n",
    "- наблюдений в таблицах df_internet (5517) и df_phone (6361) меньше общего кол-ва клиентов ((customerID - 7043), нкжно это иметь ввиду при дальнейшем объединении таблиц и подумать как заполнить образовавшиеся пропуски"
   ]
  },
  {
   "cell_type": "markdown",
   "metadata": {},
   "source": [
    "### Предобработка данных"
   ]
  },
  {
   "cell_type": "code",
   "execution_count": 4,
   "metadata": {},
   "outputs": [],
   "source": [
    "df_contract['temp_TotalCharges'] = pd.to_numeric(df_contract['TotalCharges'],errors='coerce')"
   ]
  },
  {
   "cell_type": "code",
   "execution_count": 5,
   "metadata": {},
   "outputs": [
    {
     "data": {
      "text/html": [
       "<div>\n",
       "<style scoped>\n",
       "    .dataframe tbody tr th:only-of-type {\n",
       "        vertical-align: middle;\n",
       "    }\n",
       "\n",
       "    .dataframe tbody tr th {\n",
       "        vertical-align: top;\n",
       "    }\n",
       "\n",
       "    .dataframe thead th {\n",
       "        text-align: right;\n",
       "    }\n",
       "</style>\n",
       "<table border=\"1\" class=\"dataframe\">\n",
       "  <thead>\n",
       "    <tr style=\"text-align: right;\">\n",
       "      <th></th>\n",
       "      <th>customerID</th>\n",
       "      <th>BeginDate</th>\n",
       "      <th>EndDate</th>\n",
       "      <th>Type</th>\n",
       "      <th>PaperlessBilling</th>\n",
       "      <th>PaymentMethod</th>\n",
       "      <th>MonthlyCharges</th>\n",
       "      <th>TotalCharges</th>\n",
       "      <th>temp_TotalCharges</th>\n",
       "    </tr>\n",
       "  </thead>\n",
       "  <tbody>\n",
       "    <tr>\n",
       "      <th>488</th>\n",
       "      <td>4472-LVYGI</td>\n",
       "      <td>2020-02-01</td>\n",
       "      <td>No</td>\n",
       "      <td>Two year</td>\n",
       "      <td>Yes</td>\n",
       "      <td>Bank transfer (automatic)</td>\n",
       "      <td>52.55</td>\n",
       "      <td></td>\n",
       "      <td>NaN</td>\n",
       "    </tr>\n",
       "    <tr>\n",
       "      <th>753</th>\n",
       "      <td>3115-CZMZD</td>\n",
       "      <td>2020-02-01</td>\n",
       "      <td>No</td>\n",
       "      <td>Two year</td>\n",
       "      <td>No</td>\n",
       "      <td>Mailed check</td>\n",
       "      <td>20.25</td>\n",
       "      <td></td>\n",
       "      <td>NaN</td>\n",
       "    </tr>\n",
       "    <tr>\n",
       "      <th>936</th>\n",
       "      <td>5709-LVOEQ</td>\n",
       "      <td>2020-02-01</td>\n",
       "      <td>No</td>\n",
       "      <td>Two year</td>\n",
       "      <td>No</td>\n",
       "      <td>Mailed check</td>\n",
       "      <td>80.85</td>\n",
       "      <td></td>\n",
       "      <td>NaN</td>\n",
       "    </tr>\n",
       "    <tr>\n",
       "      <th>1082</th>\n",
       "      <td>4367-NUYAO</td>\n",
       "      <td>2020-02-01</td>\n",
       "      <td>No</td>\n",
       "      <td>Two year</td>\n",
       "      <td>No</td>\n",
       "      <td>Mailed check</td>\n",
       "      <td>25.75</td>\n",
       "      <td></td>\n",
       "      <td>NaN</td>\n",
       "    </tr>\n",
       "    <tr>\n",
       "      <th>1340</th>\n",
       "      <td>1371-DWPAZ</td>\n",
       "      <td>2020-02-01</td>\n",
       "      <td>No</td>\n",
       "      <td>Two year</td>\n",
       "      <td>No</td>\n",
       "      <td>Credit card (automatic)</td>\n",
       "      <td>56.05</td>\n",
       "      <td></td>\n",
       "      <td>NaN</td>\n",
       "    </tr>\n",
       "    <tr>\n",
       "      <th>3331</th>\n",
       "      <td>7644-OMVMY</td>\n",
       "      <td>2020-02-01</td>\n",
       "      <td>No</td>\n",
       "      <td>Two year</td>\n",
       "      <td>No</td>\n",
       "      <td>Mailed check</td>\n",
       "      <td>19.85</td>\n",
       "      <td></td>\n",
       "      <td>NaN</td>\n",
       "    </tr>\n",
       "    <tr>\n",
       "      <th>3826</th>\n",
       "      <td>3213-VVOLG</td>\n",
       "      <td>2020-02-01</td>\n",
       "      <td>No</td>\n",
       "      <td>Two year</td>\n",
       "      <td>No</td>\n",
       "      <td>Mailed check</td>\n",
       "      <td>25.35</td>\n",
       "      <td></td>\n",
       "      <td>NaN</td>\n",
       "    </tr>\n",
       "    <tr>\n",
       "      <th>4380</th>\n",
       "      <td>2520-SGTTA</td>\n",
       "      <td>2020-02-01</td>\n",
       "      <td>No</td>\n",
       "      <td>Two year</td>\n",
       "      <td>No</td>\n",
       "      <td>Mailed check</td>\n",
       "      <td>20.00</td>\n",
       "      <td></td>\n",
       "      <td>NaN</td>\n",
       "    </tr>\n",
       "    <tr>\n",
       "      <th>5218</th>\n",
       "      <td>2923-ARZLG</td>\n",
       "      <td>2020-02-01</td>\n",
       "      <td>No</td>\n",
       "      <td>One year</td>\n",
       "      <td>Yes</td>\n",
       "      <td>Mailed check</td>\n",
       "      <td>19.70</td>\n",
       "      <td></td>\n",
       "      <td>NaN</td>\n",
       "    </tr>\n",
       "    <tr>\n",
       "      <th>6670</th>\n",
       "      <td>4075-WKNIU</td>\n",
       "      <td>2020-02-01</td>\n",
       "      <td>No</td>\n",
       "      <td>Two year</td>\n",
       "      <td>No</td>\n",
       "      <td>Mailed check</td>\n",
       "      <td>73.35</td>\n",
       "      <td></td>\n",
       "      <td>NaN</td>\n",
       "    </tr>\n",
       "    <tr>\n",
       "      <th>6754</th>\n",
       "      <td>2775-SEFEE</td>\n",
       "      <td>2020-02-01</td>\n",
       "      <td>No</td>\n",
       "      <td>Two year</td>\n",
       "      <td>Yes</td>\n",
       "      <td>Bank transfer (automatic)</td>\n",
       "      <td>61.90</td>\n",
       "      <td></td>\n",
       "      <td>NaN</td>\n",
       "    </tr>\n",
       "  </tbody>\n",
       "</table>\n",
       "</div>"
      ],
      "text/plain": [
       "      customerID   BeginDate EndDate      Type PaperlessBilling  \\\n",
       "488   4472-LVYGI  2020-02-01      No  Two year              Yes   \n",
       "753   3115-CZMZD  2020-02-01      No  Two year               No   \n",
       "936   5709-LVOEQ  2020-02-01      No  Two year               No   \n",
       "1082  4367-NUYAO  2020-02-01      No  Two year               No   \n",
       "1340  1371-DWPAZ  2020-02-01      No  Two year               No   \n",
       "3331  7644-OMVMY  2020-02-01      No  Two year               No   \n",
       "3826  3213-VVOLG  2020-02-01      No  Two year               No   \n",
       "4380  2520-SGTTA  2020-02-01      No  Two year               No   \n",
       "5218  2923-ARZLG  2020-02-01      No  One year              Yes   \n",
       "6670  4075-WKNIU  2020-02-01      No  Two year               No   \n",
       "6754  2775-SEFEE  2020-02-01      No  Two year              Yes   \n",
       "\n",
       "                  PaymentMethod  MonthlyCharges TotalCharges  \\\n",
       "488   Bank transfer (automatic)           52.55                \n",
       "753                Mailed check           20.25                \n",
       "936                Mailed check           80.85                \n",
       "1082               Mailed check           25.75                \n",
       "1340    Credit card (automatic)           56.05                \n",
       "3331               Mailed check           19.85                \n",
       "3826               Mailed check           25.35                \n",
       "4380               Mailed check           20.00                \n",
       "5218               Mailed check           19.70                \n",
       "6670               Mailed check           73.35                \n",
       "6754  Bank transfer (automatic)           61.90                \n",
       "\n",
       "      temp_TotalCharges  \n",
       "488                 NaN  \n",
       "753                 NaN  \n",
       "936                 NaN  \n",
       "1082                NaN  \n",
       "1340                NaN  \n",
       "3331                NaN  \n",
       "3826                NaN  \n",
       "4380                NaN  \n",
       "5218                NaN  \n",
       "6670                NaN  \n",
       "6754                NaN  "
      ]
     },
     "execution_count": 5,
     "metadata": {},
     "output_type": "execute_result"
    }
   ],
   "source": [
    "df_contract[df_contract['temp_TotalCharges'].isna()]"
   ]
  },
  {
   "cell_type": "markdown",
   "metadata": {},
   "source": [
    "Пропуски в TotalCharges соответсвуют дате подписания контракта в 2020-02-01, что является последним днем содержащие наши данные. Эти строки можно удалить, не потеряв в информативности. "
   ]
  },
  {
   "cell_type": "code",
   "execution_count": 6,
   "metadata": {},
   "outputs": [
    {
     "data": {
      "text/html": [
       "<div>\n",
       "<style scoped>\n",
       "    .dataframe tbody tr th:only-of-type {\n",
       "        vertical-align: middle;\n",
       "    }\n",
       "\n",
       "    .dataframe tbody tr th {\n",
       "        vertical-align: top;\n",
       "    }\n",
       "\n",
       "    .dataframe thead th {\n",
       "        text-align: right;\n",
       "    }\n",
       "</style>\n",
       "<table border=\"1\" class=\"dataframe\">\n",
       "  <thead>\n",
       "    <tr style=\"text-align: right;\">\n",
       "      <th></th>\n",
       "      <th>customerID</th>\n",
       "      <th>BeginDate</th>\n",
       "      <th>EndDate</th>\n",
       "      <th>Type</th>\n",
       "      <th>PaperlessBilling</th>\n",
       "      <th>PaymentMethod</th>\n",
       "      <th>MonthlyCharges</th>\n",
       "      <th>TotalCharges</th>\n",
       "      <th>temp_TotalCharges</th>\n",
       "    </tr>\n",
       "  </thead>\n",
       "  <tbody>\n",
       "    <tr>\n",
       "      <th>0</th>\n",
       "      <td>7590-VHVEG</td>\n",
       "      <td>2020-01-01</td>\n",
       "      <td>No</td>\n",
       "      <td>Month-to-month</td>\n",
       "      <td>Yes</td>\n",
       "      <td>Electronic check</td>\n",
       "      <td>29.85</td>\n",
       "      <td>29.85</td>\n",
       "      <td>29.85</td>\n",
       "    </tr>\n",
       "    <tr>\n",
       "      <th>1</th>\n",
       "      <td>5575-GNVDE</td>\n",
       "      <td>2017-04-01</td>\n",
       "      <td>No</td>\n",
       "      <td>One year</td>\n",
       "      <td>No</td>\n",
       "      <td>Mailed check</td>\n",
       "      <td>56.95</td>\n",
       "      <td>1889.50</td>\n",
       "      <td>1889.50</td>\n",
       "    </tr>\n",
       "    <tr>\n",
       "      <th>2</th>\n",
       "      <td>3668-QPYBK</td>\n",
       "      <td>2019-10-01</td>\n",
       "      <td>2019-12-01 00:00:00</td>\n",
       "      <td>Month-to-month</td>\n",
       "      <td>Yes</td>\n",
       "      <td>Mailed check</td>\n",
       "      <td>53.85</td>\n",
       "      <td>108.15</td>\n",
       "      <td>108.15</td>\n",
       "    </tr>\n",
       "    <tr>\n",
       "      <th>3</th>\n",
       "      <td>7795-CFOCW</td>\n",
       "      <td>2016-05-01</td>\n",
       "      <td>No</td>\n",
       "      <td>One year</td>\n",
       "      <td>No</td>\n",
       "      <td>Bank transfer (automatic)</td>\n",
       "      <td>42.30</td>\n",
       "      <td>1840.75</td>\n",
       "      <td>1840.75</td>\n",
       "    </tr>\n",
       "    <tr>\n",
       "      <th>4</th>\n",
       "      <td>9237-HQITU</td>\n",
       "      <td>2019-09-01</td>\n",
       "      <td>2019-11-01 00:00:00</td>\n",
       "      <td>Month-to-month</td>\n",
       "      <td>Yes</td>\n",
       "      <td>Electronic check</td>\n",
       "      <td>70.70</td>\n",
       "      <td>151.65</td>\n",
       "      <td>151.65</td>\n",
       "    </tr>\n",
       "    <tr>\n",
       "      <th>...</th>\n",
       "      <td>...</td>\n",
       "      <td>...</td>\n",
       "      <td>...</td>\n",
       "      <td>...</td>\n",
       "      <td>...</td>\n",
       "      <td>...</td>\n",
       "      <td>...</td>\n",
       "      <td>...</td>\n",
       "      <td>...</td>\n",
       "    </tr>\n",
       "    <tr>\n",
       "      <th>7038</th>\n",
       "      <td>6840-RESVB</td>\n",
       "      <td>2018-02-01</td>\n",
       "      <td>No</td>\n",
       "      <td>One year</td>\n",
       "      <td>Yes</td>\n",
       "      <td>Mailed check</td>\n",
       "      <td>84.80</td>\n",
       "      <td>1990.50</td>\n",
       "      <td>1990.50</td>\n",
       "    </tr>\n",
       "    <tr>\n",
       "      <th>7039</th>\n",
       "      <td>2234-XADUH</td>\n",
       "      <td>2014-02-01</td>\n",
       "      <td>No</td>\n",
       "      <td>One year</td>\n",
       "      <td>Yes</td>\n",
       "      <td>Credit card (automatic)</td>\n",
       "      <td>103.20</td>\n",
       "      <td>7362.90</td>\n",
       "      <td>7362.90</td>\n",
       "    </tr>\n",
       "    <tr>\n",
       "      <th>7040</th>\n",
       "      <td>4801-JZAZL</td>\n",
       "      <td>2019-03-01</td>\n",
       "      <td>No</td>\n",
       "      <td>Month-to-month</td>\n",
       "      <td>Yes</td>\n",
       "      <td>Electronic check</td>\n",
       "      <td>29.60</td>\n",
       "      <td>346.45</td>\n",
       "      <td>346.45</td>\n",
       "    </tr>\n",
       "    <tr>\n",
       "      <th>7041</th>\n",
       "      <td>8361-LTMKD</td>\n",
       "      <td>2019-07-01</td>\n",
       "      <td>2019-11-01 00:00:00</td>\n",
       "      <td>Month-to-month</td>\n",
       "      <td>Yes</td>\n",
       "      <td>Mailed check</td>\n",
       "      <td>74.40</td>\n",
       "      <td>306.60</td>\n",
       "      <td>306.60</td>\n",
       "    </tr>\n",
       "    <tr>\n",
       "      <th>7042</th>\n",
       "      <td>3186-AJIEK</td>\n",
       "      <td>2014-08-01</td>\n",
       "      <td>No</td>\n",
       "      <td>Two year</td>\n",
       "      <td>Yes</td>\n",
       "      <td>Bank transfer (automatic)</td>\n",
       "      <td>105.65</td>\n",
       "      <td>6844.50</td>\n",
       "      <td>6844.50</td>\n",
       "    </tr>\n",
       "  </tbody>\n",
       "</table>\n",
       "<p>7032 rows × 9 columns</p>\n",
       "</div>"
      ],
      "text/plain": [
       "      customerID   BeginDate              EndDate            Type  \\\n",
       "0     7590-VHVEG  2020-01-01                   No  Month-to-month   \n",
       "1     5575-GNVDE  2017-04-01                   No        One year   \n",
       "2     3668-QPYBK  2019-10-01  2019-12-01 00:00:00  Month-to-month   \n",
       "3     7795-CFOCW  2016-05-01                   No        One year   \n",
       "4     9237-HQITU  2019-09-01  2019-11-01 00:00:00  Month-to-month   \n",
       "...          ...         ...                  ...             ...   \n",
       "7038  6840-RESVB  2018-02-01                   No        One year   \n",
       "7039  2234-XADUH  2014-02-01                   No        One year   \n",
       "7040  4801-JZAZL  2019-03-01                   No  Month-to-month   \n",
       "7041  8361-LTMKD  2019-07-01  2019-11-01 00:00:00  Month-to-month   \n",
       "7042  3186-AJIEK  2014-08-01                   No        Two year   \n",
       "\n",
       "     PaperlessBilling              PaymentMethod  MonthlyCharges  \\\n",
       "0                 Yes           Electronic check           29.85   \n",
       "1                  No               Mailed check           56.95   \n",
       "2                 Yes               Mailed check           53.85   \n",
       "3                  No  Bank transfer (automatic)           42.30   \n",
       "4                 Yes           Electronic check           70.70   \n",
       "...               ...                        ...             ...   \n",
       "7038              Yes               Mailed check           84.80   \n",
       "7039              Yes    Credit card (automatic)          103.20   \n",
       "7040              Yes           Electronic check           29.60   \n",
       "7041              Yes               Mailed check           74.40   \n",
       "7042              Yes  Bank transfer (automatic)          105.65   \n",
       "\n",
       "      TotalCharges  temp_TotalCharges  \n",
       "0            29.85              29.85  \n",
       "1          1889.50            1889.50  \n",
       "2           108.15             108.15  \n",
       "3          1840.75            1840.75  \n",
       "4           151.65             151.65  \n",
       "...            ...                ...  \n",
       "7038       1990.50            1990.50  \n",
       "7039       7362.90            7362.90  \n",
       "7040        346.45             346.45  \n",
       "7041        306.60             306.60  \n",
       "7042       6844.50            6844.50  \n",
       "\n",
       "[7032 rows x 9 columns]"
      ]
     },
     "execution_count": 6,
     "metadata": {},
     "output_type": "execute_result"
    }
   ],
   "source": [
    "df_contract = df_contract[~df_contract['temp_TotalCharges'].isna()]\n",
    "df_contract['TotalCharges'] = df_contract['TotalCharges'].astype('float')\n",
    "df_contract"
   ]
  },
  {
   "cell_type": "code",
   "execution_count": 7,
   "metadata": {},
   "outputs": [
    {
     "name": "stdout",
     "output_type": "stream",
     "text": [
      "<class 'pandas.core.frame.DataFrame'>\n",
      "Int64Index: 7032 entries, 0 to 7042\n",
      "Data columns (total 9 columns):\n",
      " #   Column             Non-Null Count  Dtype  \n",
      "---  ------             --------------  -----  \n",
      " 0   customerID         7032 non-null   object \n",
      " 1   BeginDate          7032 non-null   object \n",
      " 2   EndDate            7032 non-null   object \n",
      " 3   Type               7032 non-null   object \n",
      " 4   PaperlessBilling   7032 non-null   object \n",
      " 5   PaymentMethod      7032 non-null   object \n",
      " 6   MonthlyCharges     7032 non-null   float64\n",
      " 7   TotalCharges       7032 non-null   float64\n",
      " 8   temp_TotalCharges  7032 non-null   float64\n",
      "dtypes: float64(3), object(6)\n",
      "memory usage: 549.4+ KB\n"
     ]
    }
   ],
   "source": [
    "df_contract.info()"
   ]
  },
  {
   "cell_type": "code",
   "execution_count": 8,
   "metadata": {},
   "outputs": [
    {
     "data": {
      "text/plain": [
       "5163"
      ]
     },
     "execution_count": 8,
     "metadata": {},
     "output_type": "execute_result"
    }
   ],
   "source": [
    "sum(df_contract['EndDate']=='No')"
   ]
  },
  {
   "cell_type": "code",
   "execution_count": 9,
   "metadata": {},
   "outputs": [
    {
     "data": {
      "text/plain": [
       "Yes    4168\n",
       "No     2864\n",
       "Name: PaperlessBilling, dtype: int64"
      ]
     },
     "execution_count": 9,
     "metadata": {},
     "output_type": "execute_result"
    }
   ],
   "source": [
    "df_contract['PaperlessBilling'].value_counts()"
   ]
  },
  {
   "cell_type": "code",
   "execution_count": 10,
   "metadata": {},
   "outputs": [],
   "source": [
    "df_contract['is_left'] = df_contract['EndDate'] != 'No'\n",
    "#df_contract['PaperlessBilling'] = df_contract['PaperlessBilling'] == 'Yes'\n"
   ]
  },
  {
   "cell_type": "code",
   "execution_count": 11,
   "metadata": {},
   "outputs": [
    {
     "data": {
      "text/html": [
       "<div>\n",
       "<style scoped>\n",
       "    .dataframe tbody tr th:only-of-type {\n",
       "        vertical-align: middle;\n",
       "    }\n",
       "\n",
       "    .dataframe tbody tr th {\n",
       "        vertical-align: top;\n",
       "    }\n",
       "\n",
       "    .dataframe thead th {\n",
       "        text-align: right;\n",
       "    }\n",
       "</style>\n",
       "<table border=\"1\" class=\"dataframe\">\n",
       "  <thead>\n",
       "    <tr style=\"text-align: right;\">\n",
       "      <th></th>\n",
       "      <th>customerID</th>\n",
       "      <th>BeginDate</th>\n",
       "      <th>EndDate</th>\n",
       "      <th>Type</th>\n",
       "      <th>PaperlessBilling</th>\n",
       "      <th>PaymentMethod</th>\n",
       "      <th>MonthlyCharges</th>\n",
       "      <th>TotalCharges</th>\n",
       "      <th>temp_TotalCharges</th>\n",
       "      <th>is_left</th>\n",
       "    </tr>\n",
       "  </thead>\n",
       "  <tbody>\n",
       "    <tr>\n",
       "      <th>0</th>\n",
       "      <td>7590-VHVEG</td>\n",
       "      <td>2020-01-01</td>\n",
       "      <td>No</td>\n",
       "      <td>Month-to-month</td>\n",
       "      <td>Yes</td>\n",
       "      <td>Electronic check</td>\n",
       "      <td>29.85</td>\n",
       "      <td>29.85</td>\n",
       "      <td>29.85</td>\n",
       "      <td>False</td>\n",
       "    </tr>\n",
       "    <tr>\n",
       "      <th>1</th>\n",
       "      <td>5575-GNVDE</td>\n",
       "      <td>2017-04-01</td>\n",
       "      <td>No</td>\n",
       "      <td>One year</td>\n",
       "      <td>No</td>\n",
       "      <td>Mailed check</td>\n",
       "      <td>56.95</td>\n",
       "      <td>1889.50</td>\n",
       "      <td>1889.50</td>\n",
       "      <td>False</td>\n",
       "    </tr>\n",
       "    <tr>\n",
       "      <th>2</th>\n",
       "      <td>3668-QPYBK</td>\n",
       "      <td>2019-10-01</td>\n",
       "      <td>2019-12-01 00:00:00</td>\n",
       "      <td>Month-to-month</td>\n",
       "      <td>Yes</td>\n",
       "      <td>Mailed check</td>\n",
       "      <td>53.85</td>\n",
       "      <td>108.15</td>\n",
       "      <td>108.15</td>\n",
       "      <td>True</td>\n",
       "    </tr>\n",
       "    <tr>\n",
       "      <th>3</th>\n",
       "      <td>7795-CFOCW</td>\n",
       "      <td>2016-05-01</td>\n",
       "      <td>No</td>\n",
       "      <td>One year</td>\n",
       "      <td>No</td>\n",
       "      <td>Bank transfer (automatic)</td>\n",
       "      <td>42.30</td>\n",
       "      <td>1840.75</td>\n",
       "      <td>1840.75</td>\n",
       "      <td>False</td>\n",
       "    </tr>\n",
       "    <tr>\n",
       "      <th>4</th>\n",
       "      <td>9237-HQITU</td>\n",
       "      <td>2019-09-01</td>\n",
       "      <td>2019-11-01 00:00:00</td>\n",
       "      <td>Month-to-month</td>\n",
       "      <td>Yes</td>\n",
       "      <td>Electronic check</td>\n",
       "      <td>70.70</td>\n",
       "      <td>151.65</td>\n",
       "      <td>151.65</td>\n",
       "      <td>True</td>\n",
       "    </tr>\n",
       "    <tr>\n",
       "      <th>...</th>\n",
       "      <td>...</td>\n",
       "      <td>...</td>\n",
       "      <td>...</td>\n",
       "      <td>...</td>\n",
       "      <td>...</td>\n",
       "      <td>...</td>\n",
       "      <td>...</td>\n",
       "      <td>...</td>\n",
       "      <td>...</td>\n",
       "      <td>...</td>\n",
       "    </tr>\n",
       "    <tr>\n",
       "      <th>7038</th>\n",
       "      <td>6840-RESVB</td>\n",
       "      <td>2018-02-01</td>\n",
       "      <td>No</td>\n",
       "      <td>One year</td>\n",
       "      <td>Yes</td>\n",
       "      <td>Mailed check</td>\n",
       "      <td>84.80</td>\n",
       "      <td>1990.50</td>\n",
       "      <td>1990.50</td>\n",
       "      <td>False</td>\n",
       "    </tr>\n",
       "    <tr>\n",
       "      <th>7039</th>\n",
       "      <td>2234-XADUH</td>\n",
       "      <td>2014-02-01</td>\n",
       "      <td>No</td>\n",
       "      <td>One year</td>\n",
       "      <td>Yes</td>\n",
       "      <td>Credit card (automatic)</td>\n",
       "      <td>103.20</td>\n",
       "      <td>7362.90</td>\n",
       "      <td>7362.90</td>\n",
       "      <td>False</td>\n",
       "    </tr>\n",
       "    <tr>\n",
       "      <th>7040</th>\n",
       "      <td>4801-JZAZL</td>\n",
       "      <td>2019-03-01</td>\n",
       "      <td>No</td>\n",
       "      <td>Month-to-month</td>\n",
       "      <td>Yes</td>\n",
       "      <td>Electronic check</td>\n",
       "      <td>29.60</td>\n",
       "      <td>346.45</td>\n",
       "      <td>346.45</td>\n",
       "      <td>False</td>\n",
       "    </tr>\n",
       "    <tr>\n",
       "      <th>7041</th>\n",
       "      <td>8361-LTMKD</td>\n",
       "      <td>2019-07-01</td>\n",
       "      <td>2019-11-01 00:00:00</td>\n",
       "      <td>Month-to-month</td>\n",
       "      <td>Yes</td>\n",
       "      <td>Mailed check</td>\n",
       "      <td>74.40</td>\n",
       "      <td>306.60</td>\n",
       "      <td>306.60</td>\n",
       "      <td>True</td>\n",
       "    </tr>\n",
       "    <tr>\n",
       "      <th>7042</th>\n",
       "      <td>3186-AJIEK</td>\n",
       "      <td>2014-08-01</td>\n",
       "      <td>No</td>\n",
       "      <td>Two year</td>\n",
       "      <td>Yes</td>\n",
       "      <td>Bank transfer (automatic)</td>\n",
       "      <td>105.65</td>\n",
       "      <td>6844.50</td>\n",
       "      <td>6844.50</td>\n",
       "      <td>False</td>\n",
       "    </tr>\n",
       "  </tbody>\n",
       "</table>\n",
       "<p>7032 rows × 10 columns</p>\n",
       "</div>"
      ],
      "text/plain": [
       "      customerID   BeginDate              EndDate            Type  \\\n",
       "0     7590-VHVEG  2020-01-01                   No  Month-to-month   \n",
       "1     5575-GNVDE  2017-04-01                   No        One year   \n",
       "2     3668-QPYBK  2019-10-01  2019-12-01 00:00:00  Month-to-month   \n",
       "3     7795-CFOCW  2016-05-01                   No        One year   \n",
       "4     9237-HQITU  2019-09-01  2019-11-01 00:00:00  Month-to-month   \n",
       "...          ...         ...                  ...             ...   \n",
       "7038  6840-RESVB  2018-02-01                   No        One year   \n",
       "7039  2234-XADUH  2014-02-01                   No        One year   \n",
       "7040  4801-JZAZL  2019-03-01                   No  Month-to-month   \n",
       "7041  8361-LTMKD  2019-07-01  2019-11-01 00:00:00  Month-to-month   \n",
       "7042  3186-AJIEK  2014-08-01                   No        Two year   \n",
       "\n",
       "     PaperlessBilling              PaymentMethod  MonthlyCharges  \\\n",
       "0                 Yes           Electronic check           29.85   \n",
       "1                  No               Mailed check           56.95   \n",
       "2                 Yes               Mailed check           53.85   \n",
       "3                  No  Bank transfer (automatic)           42.30   \n",
       "4                 Yes           Electronic check           70.70   \n",
       "...               ...                        ...             ...   \n",
       "7038              Yes               Mailed check           84.80   \n",
       "7039              Yes    Credit card (automatic)          103.20   \n",
       "7040              Yes           Electronic check           29.60   \n",
       "7041              Yes               Mailed check           74.40   \n",
       "7042              Yes  Bank transfer (automatic)          105.65   \n",
       "\n",
       "      TotalCharges  temp_TotalCharges  is_left  \n",
       "0            29.85              29.85    False  \n",
       "1          1889.50            1889.50    False  \n",
       "2           108.15             108.15     True  \n",
       "3          1840.75            1840.75    False  \n",
       "4           151.65             151.65     True  \n",
       "...            ...                ...      ...  \n",
       "7038       1990.50            1990.50    False  \n",
       "7039       7362.90            7362.90    False  \n",
       "7040        346.45             346.45    False  \n",
       "7041        306.60             306.60     True  \n",
       "7042       6844.50            6844.50    False  \n",
       "\n",
       "[7032 rows x 10 columns]"
      ]
     },
     "execution_count": 11,
     "metadata": {},
     "output_type": "execute_result"
    }
   ],
   "source": [
    "df_contract"
   ]
  },
  {
   "cell_type": "code",
   "execution_count": 12,
   "metadata": {},
   "outputs": [
    {
     "data": {
      "text/html": [
       "<div>\n",
       "<style scoped>\n",
       "    .dataframe tbody tr th:only-of-type {\n",
       "        vertical-align: middle;\n",
       "    }\n",
       "\n",
       "    .dataframe tbody tr th {\n",
       "        vertical-align: top;\n",
       "    }\n",
       "\n",
       "    .dataframe thead th {\n",
       "        text-align: right;\n",
       "    }\n",
       "</style>\n",
       "<table border=\"1\" class=\"dataframe\">\n",
       "  <thead>\n",
       "    <tr style=\"text-align: right;\">\n",
       "      <th></th>\n",
       "      <th>customerID</th>\n",
       "      <th>BeginDate</th>\n",
       "      <th>EndDate</th>\n",
       "      <th>Type</th>\n",
       "      <th>PaperlessBilling</th>\n",
       "      <th>PaymentMethod</th>\n",
       "      <th>MonthlyCharges</th>\n",
       "      <th>TotalCharges</th>\n",
       "      <th>temp_TotalCharges</th>\n",
       "      <th>is_left</th>\n",
       "    </tr>\n",
       "  </thead>\n",
       "  <tbody>\n",
       "    <tr>\n",
       "      <th>0</th>\n",
       "      <td>7590-VHVEG</td>\n",
       "      <td>2020-01-01</td>\n",
       "      <td>2020-02-01</td>\n",
       "      <td>Month-to-month</td>\n",
       "      <td>Yes</td>\n",
       "      <td>Electronic check</td>\n",
       "      <td>29.85</td>\n",
       "      <td>29.85</td>\n",
       "      <td>29.85</td>\n",
       "      <td>False</td>\n",
       "    </tr>\n",
       "    <tr>\n",
       "      <th>1</th>\n",
       "      <td>5575-GNVDE</td>\n",
       "      <td>2017-04-01</td>\n",
       "      <td>2020-02-01</td>\n",
       "      <td>One year</td>\n",
       "      <td>No</td>\n",
       "      <td>Mailed check</td>\n",
       "      <td>56.95</td>\n",
       "      <td>1889.50</td>\n",
       "      <td>1889.50</td>\n",
       "      <td>False</td>\n",
       "    </tr>\n",
       "    <tr>\n",
       "      <th>2</th>\n",
       "      <td>3668-QPYBK</td>\n",
       "      <td>2019-10-01</td>\n",
       "      <td>2019-12-01 00:00:00</td>\n",
       "      <td>Month-to-month</td>\n",
       "      <td>Yes</td>\n",
       "      <td>Mailed check</td>\n",
       "      <td>53.85</td>\n",
       "      <td>108.15</td>\n",
       "      <td>108.15</td>\n",
       "      <td>True</td>\n",
       "    </tr>\n",
       "    <tr>\n",
       "      <th>3</th>\n",
       "      <td>7795-CFOCW</td>\n",
       "      <td>2016-05-01</td>\n",
       "      <td>2020-02-01</td>\n",
       "      <td>One year</td>\n",
       "      <td>No</td>\n",
       "      <td>Bank transfer (automatic)</td>\n",
       "      <td>42.30</td>\n",
       "      <td>1840.75</td>\n",
       "      <td>1840.75</td>\n",
       "      <td>False</td>\n",
       "    </tr>\n",
       "    <tr>\n",
       "      <th>4</th>\n",
       "      <td>9237-HQITU</td>\n",
       "      <td>2019-09-01</td>\n",
       "      <td>2019-11-01 00:00:00</td>\n",
       "      <td>Month-to-month</td>\n",
       "      <td>Yes</td>\n",
       "      <td>Electronic check</td>\n",
       "      <td>70.70</td>\n",
       "      <td>151.65</td>\n",
       "      <td>151.65</td>\n",
       "      <td>True</td>\n",
       "    </tr>\n",
       "    <tr>\n",
       "      <th>...</th>\n",
       "      <td>...</td>\n",
       "      <td>...</td>\n",
       "      <td>...</td>\n",
       "      <td>...</td>\n",
       "      <td>...</td>\n",
       "      <td>...</td>\n",
       "      <td>...</td>\n",
       "      <td>...</td>\n",
       "      <td>...</td>\n",
       "      <td>...</td>\n",
       "    </tr>\n",
       "    <tr>\n",
       "      <th>7038</th>\n",
       "      <td>6840-RESVB</td>\n",
       "      <td>2018-02-01</td>\n",
       "      <td>2020-02-01</td>\n",
       "      <td>One year</td>\n",
       "      <td>Yes</td>\n",
       "      <td>Mailed check</td>\n",
       "      <td>84.80</td>\n",
       "      <td>1990.50</td>\n",
       "      <td>1990.50</td>\n",
       "      <td>False</td>\n",
       "    </tr>\n",
       "    <tr>\n",
       "      <th>7039</th>\n",
       "      <td>2234-XADUH</td>\n",
       "      <td>2014-02-01</td>\n",
       "      <td>2020-02-01</td>\n",
       "      <td>One year</td>\n",
       "      <td>Yes</td>\n",
       "      <td>Credit card (automatic)</td>\n",
       "      <td>103.20</td>\n",
       "      <td>7362.90</td>\n",
       "      <td>7362.90</td>\n",
       "      <td>False</td>\n",
       "    </tr>\n",
       "    <tr>\n",
       "      <th>7040</th>\n",
       "      <td>4801-JZAZL</td>\n",
       "      <td>2019-03-01</td>\n",
       "      <td>2020-02-01</td>\n",
       "      <td>Month-to-month</td>\n",
       "      <td>Yes</td>\n",
       "      <td>Electronic check</td>\n",
       "      <td>29.60</td>\n",
       "      <td>346.45</td>\n",
       "      <td>346.45</td>\n",
       "      <td>False</td>\n",
       "    </tr>\n",
       "    <tr>\n",
       "      <th>7041</th>\n",
       "      <td>8361-LTMKD</td>\n",
       "      <td>2019-07-01</td>\n",
       "      <td>2019-11-01 00:00:00</td>\n",
       "      <td>Month-to-month</td>\n",
       "      <td>Yes</td>\n",
       "      <td>Mailed check</td>\n",
       "      <td>74.40</td>\n",
       "      <td>306.60</td>\n",
       "      <td>306.60</td>\n",
       "      <td>True</td>\n",
       "    </tr>\n",
       "    <tr>\n",
       "      <th>7042</th>\n",
       "      <td>3186-AJIEK</td>\n",
       "      <td>2014-08-01</td>\n",
       "      <td>2020-02-01</td>\n",
       "      <td>Two year</td>\n",
       "      <td>Yes</td>\n",
       "      <td>Bank transfer (automatic)</td>\n",
       "      <td>105.65</td>\n",
       "      <td>6844.50</td>\n",
       "      <td>6844.50</td>\n",
       "      <td>False</td>\n",
       "    </tr>\n",
       "  </tbody>\n",
       "</table>\n",
       "<p>7032 rows × 10 columns</p>\n",
       "</div>"
      ],
      "text/plain": [
       "      customerID   BeginDate              EndDate            Type  \\\n",
       "0     7590-VHVEG  2020-01-01           2020-02-01  Month-to-month   \n",
       "1     5575-GNVDE  2017-04-01           2020-02-01        One year   \n",
       "2     3668-QPYBK  2019-10-01  2019-12-01 00:00:00  Month-to-month   \n",
       "3     7795-CFOCW  2016-05-01           2020-02-01        One year   \n",
       "4     9237-HQITU  2019-09-01  2019-11-01 00:00:00  Month-to-month   \n",
       "...          ...         ...                  ...             ...   \n",
       "7038  6840-RESVB  2018-02-01           2020-02-01        One year   \n",
       "7039  2234-XADUH  2014-02-01           2020-02-01        One year   \n",
       "7040  4801-JZAZL  2019-03-01           2020-02-01  Month-to-month   \n",
       "7041  8361-LTMKD  2019-07-01  2019-11-01 00:00:00  Month-to-month   \n",
       "7042  3186-AJIEK  2014-08-01           2020-02-01        Two year   \n",
       "\n",
       "     PaperlessBilling              PaymentMethod  MonthlyCharges  \\\n",
       "0                 Yes           Electronic check           29.85   \n",
       "1                  No               Mailed check           56.95   \n",
       "2                 Yes               Mailed check           53.85   \n",
       "3                  No  Bank transfer (automatic)           42.30   \n",
       "4                 Yes           Electronic check           70.70   \n",
       "...               ...                        ...             ...   \n",
       "7038              Yes               Mailed check           84.80   \n",
       "7039              Yes    Credit card (automatic)          103.20   \n",
       "7040              Yes           Electronic check           29.60   \n",
       "7041              Yes               Mailed check           74.40   \n",
       "7042              Yes  Bank transfer (automatic)          105.65   \n",
       "\n",
       "      TotalCharges  temp_TotalCharges  is_left  \n",
       "0            29.85              29.85    False  \n",
       "1          1889.50            1889.50    False  \n",
       "2           108.15             108.15     True  \n",
       "3          1840.75            1840.75    False  \n",
       "4           151.65             151.65     True  \n",
       "...            ...                ...      ...  \n",
       "7038       1990.50            1990.50    False  \n",
       "7039       7362.90            7362.90    False  \n",
       "7040        346.45             346.45    False  \n",
       "7041        306.60             306.60     True  \n",
       "7042       6844.50            6844.50    False  \n",
       "\n",
       "[7032 rows x 10 columns]"
      ]
     },
     "execution_count": 12,
     "metadata": {},
     "output_type": "execute_result"
    }
   ],
   "source": [
    "# EndDate=2020-02-01'\n",
    "df_contract['EndDate'] = df_contract['EndDate'].replace('No','2020-02-01')\n",
    "df_contract"
   ]
  },
  {
   "cell_type": "code",
   "execution_count": 13,
   "metadata": {},
   "outputs": [],
   "source": [
    "df_contract['EndDate'] = pd.to_datetime(df_contract['EndDate'])\n",
    "df_contract['BeginDate'] = pd.to_datetime(df_contract['BeginDate'])"
   ]
  },
  {
   "cell_type": "code",
   "execution_count": 14,
   "metadata": {},
   "outputs": [],
   "source": [
    "# df_contract['duration_months'] = (((df_contract['EndDate'].dt.year - df_contract['BeginDate'].dt.year) * 12) + \n",
    "#                      df_contract['EndDate'].dt.month - df_contract['BeginDate'].dt.month)\n",
    "\n",
    "df_contract['duration_days'] = (df_contract['EndDate'] - df_contract['BeginDate']).dt.days"
   ]
  },
  {
   "cell_type": "code",
   "execution_count": 15,
   "metadata": {},
   "outputs": [
    {
     "data": {
      "text/html": [
       "<div>\n",
       "<style scoped>\n",
       "    .dataframe tbody tr th:only-of-type {\n",
       "        vertical-align: middle;\n",
       "    }\n",
       "\n",
       "    .dataframe tbody tr th {\n",
       "        vertical-align: top;\n",
       "    }\n",
       "\n",
       "    .dataframe thead th {\n",
       "        text-align: right;\n",
       "    }\n",
       "</style>\n",
       "<table border=\"1\" class=\"dataframe\">\n",
       "  <thead>\n",
       "    <tr style=\"text-align: right;\">\n",
       "      <th></th>\n",
       "      <th>customerID</th>\n",
       "      <th>BeginDate</th>\n",
       "      <th>EndDate</th>\n",
       "      <th>Type</th>\n",
       "      <th>PaperlessBilling</th>\n",
       "      <th>PaymentMethod</th>\n",
       "      <th>MonthlyCharges</th>\n",
       "      <th>TotalCharges</th>\n",
       "      <th>temp_TotalCharges</th>\n",
       "      <th>is_left</th>\n",
       "      <th>duration_days</th>\n",
       "    </tr>\n",
       "  </thead>\n",
       "  <tbody>\n",
       "    <tr>\n",
       "      <th>0</th>\n",
       "      <td>7590-VHVEG</td>\n",
       "      <td>2020-01-01</td>\n",
       "      <td>2020-02-01</td>\n",
       "      <td>Month-to-month</td>\n",
       "      <td>Yes</td>\n",
       "      <td>Electronic check</td>\n",
       "      <td>29.85</td>\n",
       "      <td>29.85</td>\n",
       "      <td>29.85</td>\n",
       "      <td>False</td>\n",
       "      <td>31</td>\n",
       "    </tr>\n",
       "    <tr>\n",
       "      <th>1</th>\n",
       "      <td>5575-GNVDE</td>\n",
       "      <td>2017-04-01</td>\n",
       "      <td>2020-02-01</td>\n",
       "      <td>One year</td>\n",
       "      <td>No</td>\n",
       "      <td>Mailed check</td>\n",
       "      <td>56.95</td>\n",
       "      <td>1889.50</td>\n",
       "      <td>1889.50</td>\n",
       "      <td>False</td>\n",
       "      <td>1036</td>\n",
       "    </tr>\n",
       "    <tr>\n",
       "      <th>2</th>\n",
       "      <td>3668-QPYBK</td>\n",
       "      <td>2019-10-01</td>\n",
       "      <td>2019-12-01</td>\n",
       "      <td>Month-to-month</td>\n",
       "      <td>Yes</td>\n",
       "      <td>Mailed check</td>\n",
       "      <td>53.85</td>\n",
       "      <td>108.15</td>\n",
       "      <td>108.15</td>\n",
       "      <td>True</td>\n",
       "      <td>61</td>\n",
       "    </tr>\n",
       "    <tr>\n",
       "      <th>3</th>\n",
       "      <td>7795-CFOCW</td>\n",
       "      <td>2016-05-01</td>\n",
       "      <td>2020-02-01</td>\n",
       "      <td>One year</td>\n",
       "      <td>No</td>\n",
       "      <td>Bank transfer (automatic)</td>\n",
       "      <td>42.30</td>\n",
       "      <td>1840.75</td>\n",
       "      <td>1840.75</td>\n",
       "      <td>False</td>\n",
       "      <td>1371</td>\n",
       "    </tr>\n",
       "    <tr>\n",
       "      <th>4</th>\n",
       "      <td>9237-HQITU</td>\n",
       "      <td>2019-09-01</td>\n",
       "      <td>2019-11-01</td>\n",
       "      <td>Month-to-month</td>\n",
       "      <td>Yes</td>\n",
       "      <td>Electronic check</td>\n",
       "      <td>70.70</td>\n",
       "      <td>151.65</td>\n",
       "      <td>151.65</td>\n",
       "      <td>True</td>\n",
       "      <td>61</td>\n",
       "    </tr>\n",
       "    <tr>\n",
       "      <th>...</th>\n",
       "      <td>...</td>\n",
       "      <td>...</td>\n",
       "      <td>...</td>\n",
       "      <td>...</td>\n",
       "      <td>...</td>\n",
       "      <td>...</td>\n",
       "      <td>...</td>\n",
       "      <td>...</td>\n",
       "      <td>...</td>\n",
       "      <td>...</td>\n",
       "      <td>...</td>\n",
       "    </tr>\n",
       "    <tr>\n",
       "      <th>7038</th>\n",
       "      <td>6840-RESVB</td>\n",
       "      <td>2018-02-01</td>\n",
       "      <td>2020-02-01</td>\n",
       "      <td>One year</td>\n",
       "      <td>Yes</td>\n",
       "      <td>Mailed check</td>\n",
       "      <td>84.80</td>\n",
       "      <td>1990.50</td>\n",
       "      <td>1990.50</td>\n",
       "      <td>False</td>\n",
       "      <td>730</td>\n",
       "    </tr>\n",
       "    <tr>\n",
       "      <th>7039</th>\n",
       "      <td>2234-XADUH</td>\n",
       "      <td>2014-02-01</td>\n",
       "      <td>2020-02-01</td>\n",
       "      <td>One year</td>\n",
       "      <td>Yes</td>\n",
       "      <td>Credit card (automatic)</td>\n",
       "      <td>103.20</td>\n",
       "      <td>7362.90</td>\n",
       "      <td>7362.90</td>\n",
       "      <td>False</td>\n",
       "      <td>2191</td>\n",
       "    </tr>\n",
       "    <tr>\n",
       "      <th>7040</th>\n",
       "      <td>4801-JZAZL</td>\n",
       "      <td>2019-03-01</td>\n",
       "      <td>2020-02-01</td>\n",
       "      <td>Month-to-month</td>\n",
       "      <td>Yes</td>\n",
       "      <td>Electronic check</td>\n",
       "      <td>29.60</td>\n",
       "      <td>346.45</td>\n",
       "      <td>346.45</td>\n",
       "      <td>False</td>\n",
       "      <td>337</td>\n",
       "    </tr>\n",
       "    <tr>\n",
       "      <th>7041</th>\n",
       "      <td>8361-LTMKD</td>\n",
       "      <td>2019-07-01</td>\n",
       "      <td>2019-11-01</td>\n",
       "      <td>Month-to-month</td>\n",
       "      <td>Yes</td>\n",
       "      <td>Mailed check</td>\n",
       "      <td>74.40</td>\n",
       "      <td>306.60</td>\n",
       "      <td>306.60</td>\n",
       "      <td>True</td>\n",
       "      <td>123</td>\n",
       "    </tr>\n",
       "    <tr>\n",
       "      <th>7042</th>\n",
       "      <td>3186-AJIEK</td>\n",
       "      <td>2014-08-01</td>\n",
       "      <td>2020-02-01</td>\n",
       "      <td>Two year</td>\n",
       "      <td>Yes</td>\n",
       "      <td>Bank transfer (automatic)</td>\n",
       "      <td>105.65</td>\n",
       "      <td>6844.50</td>\n",
       "      <td>6844.50</td>\n",
       "      <td>False</td>\n",
       "      <td>2010</td>\n",
       "    </tr>\n",
       "  </tbody>\n",
       "</table>\n",
       "<p>7032 rows × 11 columns</p>\n",
       "</div>"
      ],
      "text/plain": [
       "      customerID  BeginDate    EndDate            Type PaperlessBilling  \\\n",
       "0     7590-VHVEG 2020-01-01 2020-02-01  Month-to-month              Yes   \n",
       "1     5575-GNVDE 2017-04-01 2020-02-01        One year               No   \n",
       "2     3668-QPYBK 2019-10-01 2019-12-01  Month-to-month              Yes   \n",
       "3     7795-CFOCW 2016-05-01 2020-02-01        One year               No   \n",
       "4     9237-HQITU 2019-09-01 2019-11-01  Month-to-month              Yes   \n",
       "...          ...        ...        ...             ...              ...   \n",
       "7038  6840-RESVB 2018-02-01 2020-02-01        One year              Yes   \n",
       "7039  2234-XADUH 2014-02-01 2020-02-01        One year              Yes   \n",
       "7040  4801-JZAZL 2019-03-01 2020-02-01  Month-to-month              Yes   \n",
       "7041  8361-LTMKD 2019-07-01 2019-11-01  Month-to-month              Yes   \n",
       "7042  3186-AJIEK 2014-08-01 2020-02-01        Two year              Yes   \n",
       "\n",
       "                  PaymentMethod  MonthlyCharges  TotalCharges  \\\n",
       "0              Electronic check           29.85         29.85   \n",
       "1                  Mailed check           56.95       1889.50   \n",
       "2                  Mailed check           53.85        108.15   \n",
       "3     Bank transfer (automatic)           42.30       1840.75   \n",
       "4              Electronic check           70.70        151.65   \n",
       "...                         ...             ...           ...   \n",
       "7038               Mailed check           84.80       1990.50   \n",
       "7039    Credit card (automatic)          103.20       7362.90   \n",
       "7040           Electronic check           29.60        346.45   \n",
       "7041               Mailed check           74.40        306.60   \n",
       "7042  Bank transfer (automatic)          105.65       6844.50   \n",
       "\n",
       "      temp_TotalCharges  is_left  duration_days  \n",
       "0                 29.85    False             31  \n",
       "1               1889.50    False           1036  \n",
       "2                108.15     True             61  \n",
       "3               1840.75    False           1371  \n",
       "4                151.65     True             61  \n",
       "...                 ...      ...            ...  \n",
       "7038            1990.50    False            730  \n",
       "7039            7362.90    False           2191  \n",
       "7040             346.45    False            337  \n",
       "7041             306.60     True            123  \n",
       "7042            6844.50    False           2010  \n",
       "\n",
       "[7032 rows x 11 columns]"
      ]
     },
     "execution_count": 15,
     "metadata": {},
     "output_type": "execute_result"
    }
   ],
   "source": [
    "df_contract"
   ]
  },
  {
   "cell_type": "code",
   "execution_count": 16,
   "metadata": {},
   "outputs": [
    {
     "data": {
      "text/plain": [
       "Electronic check             2365\n",
       "Mailed check                 1604\n",
       "Bank transfer (automatic)    1542\n",
       "Credit card (automatic)      1521\n",
       "Name: PaymentMethod, dtype: int64"
      ]
     },
     "execution_count": 16,
     "metadata": {},
     "output_type": "execute_result"
    }
   ],
   "source": [
    "df_contract['PaymentMethod'].value_counts()"
   ]
  },
  {
   "cell_type": "code",
   "execution_count": 17,
   "metadata": {},
   "outputs": [
    {
     "data": {
      "text/plain": [
       "Month-to-month    3875\n",
       "Two year          1685\n",
       "One year          1472\n",
       "Name: Type, dtype: int64"
      ]
     },
     "execution_count": 17,
     "metadata": {},
     "output_type": "execute_result"
    }
   ],
   "source": [
    "df_contract['Type'].value_counts()"
   ]
  },
  {
   "cell_type": "code",
   "execution_count": 18,
   "metadata": {},
   "outputs": [
    {
     "data": {
      "text/html": [
       "<div>\n",
       "<style scoped>\n",
       "    .dataframe tbody tr th:only-of-type {\n",
       "        vertical-align: middle;\n",
       "    }\n",
       "\n",
       "    .dataframe tbody tr th {\n",
       "        vertical-align: top;\n",
       "    }\n",
       "\n",
       "    .dataframe thead th {\n",
       "        text-align: right;\n",
       "    }\n",
       "</style>\n",
       "<table border=\"1\" class=\"dataframe\">\n",
       "  <thead>\n",
       "    <tr style=\"text-align: right;\">\n",
       "      <th></th>\n",
       "      <th>customerID</th>\n",
       "      <th>Type</th>\n",
       "      <th>PaperlessBilling</th>\n",
       "      <th>PaymentMethod</th>\n",
       "      <th>MonthlyCharges</th>\n",
       "      <th>TotalCharges</th>\n",
       "      <th>is_left</th>\n",
       "      <th>duration_days</th>\n",
       "    </tr>\n",
       "  </thead>\n",
       "  <tbody>\n",
       "    <tr>\n",
       "      <th>0</th>\n",
       "      <td>7590-VHVEG</td>\n",
       "      <td>Month-to-month</td>\n",
       "      <td>Yes</td>\n",
       "      <td>Electronic check</td>\n",
       "      <td>29.85</td>\n",
       "      <td>29.85</td>\n",
       "      <td>False</td>\n",
       "      <td>31</td>\n",
       "    </tr>\n",
       "    <tr>\n",
       "      <th>1</th>\n",
       "      <td>5575-GNVDE</td>\n",
       "      <td>One year</td>\n",
       "      <td>No</td>\n",
       "      <td>Mailed check</td>\n",
       "      <td>56.95</td>\n",
       "      <td>1889.50</td>\n",
       "      <td>False</td>\n",
       "      <td>1036</td>\n",
       "    </tr>\n",
       "    <tr>\n",
       "      <th>2</th>\n",
       "      <td>3668-QPYBK</td>\n",
       "      <td>Month-to-month</td>\n",
       "      <td>Yes</td>\n",
       "      <td>Mailed check</td>\n",
       "      <td>53.85</td>\n",
       "      <td>108.15</td>\n",
       "      <td>True</td>\n",
       "      <td>61</td>\n",
       "    </tr>\n",
       "    <tr>\n",
       "      <th>3</th>\n",
       "      <td>7795-CFOCW</td>\n",
       "      <td>One year</td>\n",
       "      <td>No</td>\n",
       "      <td>Bank transfer (automatic)</td>\n",
       "      <td>42.30</td>\n",
       "      <td>1840.75</td>\n",
       "      <td>False</td>\n",
       "      <td>1371</td>\n",
       "    </tr>\n",
       "    <tr>\n",
       "      <th>4</th>\n",
       "      <td>9237-HQITU</td>\n",
       "      <td>Month-to-month</td>\n",
       "      <td>Yes</td>\n",
       "      <td>Electronic check</td>\n",
       "      <td>70.70</td>\n",
       "      <td>151.65</td>\n",
       "      <td>True</td>\n",
       "      <td>61</td>\n",
       "    </tr>\n",
       "    <tr>\n",
       "      <th>...</th>\n",
       "      <td>...</td>\n",
       "      <td>...</td>\n",
       "      <td>...</td>\n",
       "      <td>...</td>\n",
       "      <td>...</td>\n",
       "      <td>...</td>\n",
       "      <td>...</td>\n",
       "      <td>...</td>\n",
       "    </tr>\n",
       "    <tr>\n",
       "      <th>7038</th>\n",
       "      <td>6840-RESVB</td>\n",
       "      <td>One year</td>\n",
       "      <td>Yes</td>\n",
       "      <td>Mailed check</td>\n",
       "      <td>84.80</td>\n",
       "      <td>1990.50</td>\n",
       "      <td>False</td>\n",
       "      <td>730</td>\n",
       "    </tr>\n",
       "    <tr>\n",
       "      <th>7039</th>\n",
       "      <td>2234-XADUH</td>\n",
       "      <td>One year</td>\n",
       "      <td>Yes</td>\n",
       "      <td>Credit card (automatic)</td>\n",
       "      <td>103.20</td>\n",
       "      <td>7362.90</td>\n",
       "      <td>False</td>\n",
       "      <td>2191</td>\n",
       "    </tr>\n",
       "    <tr>\n",
       "      <th>7040</th>\n",
       "      <td>4801-JZAZL</td>\n",
       "      <td>Month-to-month</td>\n",
       "      <td>Yes</td>\n",
       "      <td>Electronic check</td>\n",
       "      <td>29.60</td>\n",
       "      <td>346.45</td>\n",
       "      <td>False</td>\n",
       "      <td>337</td>\n",
       "    </tr>\n",
       "    <tr>\n",
       "      <th>7041</th>\n",
       "      <td>8361-LTMKD</td>\n",
       "      <td>Month-to-month</td>\n",
       "      <td>Yes</td>\n",
       "      <td>Mailed check</td>\n",
       "      <td>74.40</td>\n",
       "      <td>306.60</td>\n",
       "      <td>True</td>\n",
       "      <td>123</td>\n",
       "    </tr>\n",
       "    <tr>\n",
       "      <th>7042</th>\n",
       "      <td>3186-AJIEK</td>\n",
       "      <td>Two year</td>\n",
       "      <td>Yes</td>\n",
       "      <td>Bank transfer (automatic)</td>\n",
       "      <td>105.65</td>\n",
       "      <td>6844.50</td>\n",
       "      <td>False</td>\n",
       "      <td>2010</td>\n",
       "    </tr>\n",
       "  </tbody>\n",
       "</table>\n",
       "<p>7032 rows × 8 columns</p>\n",
       "</div>"
      ],
      "text/plain": [
       "      customerID            Type PaperlessBilling              PaymentMethod  \\\n",
       "0     7590-VHVEG  Month-to-month              Yes           Electronic check   \n",
       "1     5575-GNVDE        One year               No               Mailed check   \n",
       "2     3668-QPYBK  Month-to-month              Yes               Mailed check   \n",
       "3     7795-CFOCW        One year               No  Bank transfer (automatic)   \n",
       "4     9237-HQITU  Month-to-month              Yes           Electronic check   \n",
       "...          ...             ...              ...                        ...   \n",
       "7038  6840-RESVB        One year              Yes               Mailed check   \n",
       "7039  2234-XADUH        One year              Yes    Credit card (automatic)   \n",
       "7040  4801-JZAZL  Month-to-month              Yes           Electronic check   \n",
       "7041  8361-LTMKD  Month-to-month              Yes               Mailed check   \n",
       "7042  3186-AJIEK        Two year              Yes  Bank transfer (automatic)   \n",
       "\n",
       "      MonthlyCharges  TotalCharges  is_left  duration_days  \n",
       "0              29.85         29.85    False             31  \n",
       "1              56.95       1889.50    False           1036  \n",
       "2              53.85        108.15     True             61  \n",
       "3              42.30       1840.75    False           1371  \n",
       "4              70.70        151.65     True             61  \n",
       "...              ...           ...      ...            ...  \n",
       "7038           84.80       1990.50    False            730  \n",
       "7039          103.20       7362.90    False           2191  \n",
       "7040           29.60        346.45    False            337  \n",
       "7041           74.40        306.60     True            123  \n",
       "7042          105.65       6844.50    False           2010  \n",
       "\n",
       "[7032 rows x 8 columns]"
      ]
     },
     "execution_count": 18,
     "metadata": {},
     "output_type": "execute_result"
    }
   ],
   "source": [
    "df_contract.drop(columns=['BeginDate', 'EndDate', 'temp_TotalCharges'], inplace=True)\n",
    "df_contract"
   ]
  },
  {
   "cell_type": "markdown",
   "metadata": {},
   "source": [
    "Удалили лишние столбцы, в т.ч. даты пользования услугой, т.к. для обучения модели создали столбец с продолжительностью пользования, а сохраненеие EndDate и вовсе черевато утечкой данных для обучения"
   ]
  },
  {
   "cell_type": "code",
   "execution_count": 19,
   "metadata": {},
   "outputs": [
    {
     "data": {
      "text/html": [
       "<div>\n",
       "<style scoped>\n",
       "    .dataframe tbody tr th:only-of-type {\n",
       "        vertical-align: middle;\n",
       "    }\n",
       "\n",
       "    .dataframe tbody tr th {\n",
       "        vertical-align: top;\n",
       "    }\n",
       "\n",
       "    .dataframe thead th {\n",
       "        text-align: right;\n",
       "    }\n",
       "</style>\n",
       "<table border=\"1\" class=\"dataframe\">\n",
       "  <thead>\n",
       "    <tr style=\"text-align: right;\">\n",
       "      <th></th>\n",
       "      <th>customerID</th>\n",
       "      <th>gender</th>\n",
       "      <th>SeniorCitizen</th>\n",
       "      <th>Partner</th>\n",
       "      <th>Dependents</th>\n",
       "    </tr>\n",
       "  </thead>\n",
       "  <tbody>\n",
       "    <tr>\n",
       "      <th>0</th>\n",
       "      <td>7590-VHVEG</td>\n",
       "      <td>Female</td>\n",
       "      <td>0</td>\n",
       "      <td>Yes</td>\n",
       "      <td>No</td>\n",
       "    </tr>\n",
       "    <tr>\n",
       "      <th>1</th>\n",
       "      <td>5575-GNVDE</td>\n",
       "      <td>Male</td>\n",
       "      <td>0</td>\n",
       "      <td>No</td>\n",
       "      <td>No</td>\n",
       "    </tr>\n",
       "    <tr>\n",
       "      <th>2</th>\n",
       "      <td>3668-QPYBK</td>\n",
       "      <td>Male</td>\n",
       "      <td>0</td>\n",
       "      <td>No</td>\n",
       "      <td>No</td>\n",
       "    </tr>\n",
       "    <tr>\n",
       "      <th>3</th>\n",
       "      <td>7795-CFOCW</td>\n",
       "      <td>Male</td>\n",
       "      <td>0</td>\n",
       "      <td>No</td>\n",
       "      <td>No</td>\n",
       "    </tr>\n",
       "    <tr>\n",
       "      <th>4</th>\n",
       "      <td>9237-HQITU</td>\n",
       "      <td>Female</td>\n",
       "      <td>0</td>\n",
       "      <td>No</td>\n",
       "      <td>No</td>\n",
       "    </tr>\n",
       "    <tr>\n",
       "      <th>...</th>\n",
       "      <td>...</td>\n",
       "      <td>...</td>\n",
       "      <td>...</td>\n",
       "      <td>...</td>\n",
       "      <td>...</td>\n",
       "    </tr>\n",
       "    <tr>\n",
       "      <th>7038</th>\n",
       "      <td>6840-RESVB</td>\n",
       "      <td>Male</td>\n",
       "      <td>0</td>\n",
       "      <td>Yes</td>\n",
       "      <td>Yes</td>\n",
       "    </tr>\n",
       "    <tr>\n",
       "      <th>7039</th>\n",
       "      <td>2234-XADUH</td>\n",
       "      <td>Female</td>\n",
       "      <td>0</td>\n",
       "      <td>Yes</td>\n",
       "      <td>Yes</td>\n",
       "    </tr>\n",
       "    <tr>\n",
       "      <th>7040</th>\n",
       "      <td>4801-JZAZL</td>\n",
       "      <td>Female</td>\n",
       "      <td>0</td>\n",
       "      <td>Yes</td>\n",
       "      <td>Yes</td>\n",
       "    </tr>\n",
       "    <tr>\n",
       "      <th>7041</th>\n",
       "      <td>8361-LTMKD</td>\n",
       "      <td>Male</td>\n",
       "      <td>1</td>\n",
       "      <td>Yes</td>\n",
       "      <td>No</td>\n",
       "    </tr>\n",
       "    <tr>\n",
       "      <th>7042</th>\n",
       "      <td>3186-AJIEK</td>\n",
       "      <td>Male</td>\n",
       "      <td>0</td>\n",
       "      <td>No</td>\n",
       "      <td>No</td>\n",
       "    </tr>\n",
       "  </tbody>\n",
       "</table>\n",
       "<p>7043 rows × 5 columns</p>\n",
       "</div>"
      ],
      "text/plain": [
       "      customerID  gender  SeniorCitizen Partner Dependents\n",
       "0     7590-VHVEG  Female              0     Yes         No\n",
       "1     5575-GNVDE    Male              0      No         No\n",
       "2     3668-QPYBK    Male              0      No         No\n",
       "3     7795-CFOCW    Male              0      No         No\n",
       "4     9237-HQITU  Female              0      No         No\n",
       "...          ...     ...            ...     ...        ...\n",
       "7038  6840-RESVB    Male              0     Yes        Yes\n",
       "7039  2234-XADUH  Female              0     Yes        Yes\n",
       "7040  4801-JZAZL  Female              0     Yes        Yes\n",
       "7041  8361-LTMKD    Male              1     Yes         No\n",
       "7042  3186-AJIEK    Male              0      No         No\n",
       "\n",
       "[7043 rows x 5 columns]"
      ]
     },
     "execution_count": 19,
     "metadata": {},
     "output_type": "execute_result"
    }
   ],
   "source": [
    "df_personal"
   ]
  },
  {
   "cell_type": "code",
   "execution_count": 20,
   "metadata": {},
   "outputs": [
    {
     "data": {
      "text/html": [
       "<div>\n",
       "<style scoped>\n",
       "    .dataframe tbody tr th:only-of-type {\n",
       "        vertical-align: middle;\n",
       "    }\n",
       "\n",
       "    .dataframe tbody tr th {\n",
       "        vertical-align: top;\n",
       "    }\n",
       "\n",
       "    .dataframe thead th {\n",
       "        text-align: right;\n",
       "    }\n",
       "</style>\n",
       "<table border=\"1\" class=\"dataframe\">\n",
       "  <thead>\n",
       "    <tr style=\"text-align: right;\">\n",
       "      <th></th>\n",
       "      <th>SeniorCitizen</th>\n",
       "    </tr>\n",
       "  </thead>\n",
       "  <tbody>\n",
       "    <tr>\n",
       "      <th>count</th>\n",
       "      <td>7043.000000</td>\n",
       "    </tr>\n",
       "    <tr>\n",
       "      <th>mean</th>\n",
       "      <td>0.162147</td>\n",
       "    </tr>\n",
       "    <tr>\n",
       "      <th>std</th>\n",
       "      <td>0.368612</td>\n",
       "    </tr>\n",
       "    <tr>\n",
       "      <th>min</th>\n",
       "      <td>0.000000</td>\n",
       "    </tr>\n",
       "    <tr>\n",
       "      <th>25%</th>\n",
       "      <td>0.000000</td>\n",
       "    </tr>\n",
       "    <tr>\n",
       "      <th>50%</th>\n",
       "      <td>0.000000</td>\n",
       "    </tr>\n",
       "    <tr>\n",
       "      <th>75%</th>\n",
       "      <td>0.000000</td>\n",
       "    </tr>\n",
       "    <tr>\n",
       "      <th>max</th>\n",
       "      <td>1.000000</td>\n",
       "    </tr>\n",
       "  </tbody>\n",
       "</table>\n",
       "</div>"
      ],
      "text/plain": [
       "       SeniorCitizen\n",
       "count    7043.000000\n",
       "mean        0.162147\n",
       "std         0.368612\n",
       "min         0.000000\n",
       "25%         0.000000\n",
       "50%         0.000000\n",
       "75%         0.000000\n",
       "max         1.000000"
      ]
     },
     "execution_count": 20,
     "metadata": {},
     "output_type": "execute_result"
    }
   ],
   "source": [
    "df_personal.describe()"
   ]
  },
  {
   "cell_type": "code",
   "execution_count": 21,
   "metadata": {},
   "outputs": [],
   "source": [
    "# заменяем кол-ные переменные, потом их вместе закодируем ohe\n",
    "df_personal['SeniorCitizen'] = df_personal['SeniorCitizen'].replace(1, 'Yes')\n",
    "df_personal['SeniorCitizen'] = df_personal['SeniorCitizen'].replace(0, 'No')"
   ]
  },
  {
   "cell_type": "code",
   "execution_count": 22,
   "metadata": {},
   "outputs": [
    {
     "data": {
      "text/html": [
       "<div>\n",
       "<style scoped>\n",
       "    .dataframe tbody tr th:only-of-type {\n",
       "        vertical-align: middle;\n",
       "    }\n",
       "\n",
       "    .dataframe tbody tr th {\n",
       "        vertical-align: top;\n",
       "    }\n",
       "\n",
       "    .dataframe thead th {\n",
       "        text-align: right;\n",
       "    }\n",
       "</style>\n",
       "<table border=\"1\" class=\"dataframe\">\n",
       "  <thead>\n",
       "    <tr style=\"text-align: right;\">\n",
       "      <th></th>\n",
       "      <th>customerID</th>\n",
       "      <th>gender</th>\n",
       "      <th>SeniorCitizen</th>\n",
       "      <th>Partner</th>\n",
       "      <th>Dependents</th>\n",
       "    </tr>\n",
       "  </thead>\n",
       "  <tbody>\n",
       "    <tr>\n",
       "      <th>count</th>\n",
       "      <td>7043</td>\n",
       "      <td>7043</td>\n",
       "      <td>7043</td>\n",
       "      <td>7043</td>\n",
       "      <td>7043</td>\n",
       "    </tr>\n",
       "    <tr>\n",
       "      <th>unique</th>\n",
       "      <td>7043</td>\n",
       "      <td>2</td>\n",
       "      <td>2</td>\n",
       "      <td>2</td>\n",
       "      <td>2</td>\n",
       "    </tr>\n",
       "    <tr>\n",
       "      <th>top</th>\n",
       "      <td>6266-QHOJZ</td>\n",
       "      <td>Male</td>\n",
       "      <td>No</td>\n",
       "      <td>No</td>\n",
       "      <td>No</td>\n",
       "    </tr>\n",
       "    <tr>\n",
       "      <th>freq</th>\n",
       "      <td>1</td>\n",
       "      <td>3555</td>\n",
       "      <td>5901</td>\n",
       "      <td>3641</td>\n",
       "      <td>4933</td>\n",
       "    </tr>\n",
       "  </tbody>\n",
       "</table>\n",
       "</div>"
      ],
      "text/plain": [
       "        customerID gender SeniorCitizen Partner Dependents\n",
       "count         7043   7043          7043    7043       7043\n",
       "unique        7043      2             2       2          2\n",
       "top     6266-QHOJZ   Male            No      No         No\n",
       "freq             1   3555          5901    3641       4933"
      ]
     },
     "execution_count": 22,
     "metadata": {},
     "output_type": "execute_result"
    }
   ],
   "source": [
    "df_personal.describe()"
   ]
  },
  {
   "cell_type": "code",
   "execution_count": 23,
   "metadata": {},
   "outputs": [],
   "source": [
    "# df_personal['Partner'] = df_personal['Partner'] == 'Yes'\n",
    "# df_personal['Dependents'] = df_personal['Dependents'] == 'Yes'\n",
    "# df_personal"
   ]
  },
  {
   "cell_type": "code",
   "execution_count": 24,
   "metadata": {},
   "outputs": [
    {
     "data": {
      "text/html": [
       "<div>\n",
       "<style scoped>\n",
       "    .dataframe tbody tr th:only-of-type {\n",
       "        vertical-align: middle;\n",
       "    }\n",
       "\n",
       "    .dataframe tbody tr th {\n",
       "        vertical-align: top;\n",
       "    }\n",
       "\n",
       "    .dataframe thead th {\n",
       "        text-align: right;\n",
       "    }\n",
       "</style>\n",
       "<table border=\"1\" class=\"dataframe\">\n",
       "  <thead>\n",
       "    <tr style=\"text-align: right;\">\n",
       "      <th></th>\n",
       "      <th>customerID</th>\n",
       "      <th>InternetService</th>\n",
       "      <th>OnlineSecurity</th>\n",
       "      <th>OnlineBackup</th>\n",
       "      <th>DeviceProtection</th>\n",
       "      <th>TechSupport</th>\n",
       "      <th>StreamingTV</th>\n",
       "      <th>StreamingMovies</th>\n",
       "    </tr>\n",
       "  </thead>\n",
       "  <tbody>\n",
       "    <tr>\n",
       "      <th>0</th>\n",
       "      <td>7590-VHVEG</td>\n",
       "      <td>DSL</td>\n",
       "      <td>No</td>\n",
       "      <td>Yes</td>\n",
       "      <td>No</td>\n",
       "      <td>No</td>\n",
       "      <td>No</td>\n",
       "      <td>No</td>\n",
       "    </tr>\n",
       "    <tr>\n",
       "      <th>1</th>\n",
       "      <td>5575-GNVDE</td>\n",
       "      <td>DSL</td>\n",
       "      <td>Yes</td>\n",
       "      <td>No</td>\n",
       "      <td>Yes</td>\n",
       "      <td>No</td>\n",
       "      <td>No</td>\n",
       "      <td>No</td>\n",
       "    </tr>\n",
       "    <tr>\n",
       "      <th>2</th>\n",
       "      <td>3668-QPYBK</td>\n",
       "      <td>DSL</td>\n",
       "      <td>Yes</td>\n",
       "      <td>Yes</td>\n",
       "      <td>No</td>\n",
       "      <td>No</td>\n",
       "      <td>No</td>\n",
       "      <td>No</td>\n",
       "    </tr>\n",
       "    <tr>\n",
       "      <th>3</th>\n",
       "      <td>7795-CFOCW</td>\n",
       "      <td>DSL</td>\n",
       "      <td>Yes</td>\n",
       "      <td>No</td>\n",
       "      <td>Yes</td>\n",
       "      <td>Yes</td>\n",
       "      <td>No</td>\n",
       "      <td>No</td>\n",
       "    </tr>\n",
       "    <tr>\n",
       "      <th>4</th>\n",
       "      <td>9237-HQITU</td>\n",
       "      <td>Fiber optic</td>\n",
       "      <td>No</td>\n",
       "      <td>No</td>\n",
       "      <td>No</td>\n",
       "      <td>No</td>\n",
       "      <td>No</td>\n",
       "      <td>No</td>\n",
       "    </tr>\n",
       "    <tr>\n",
       "      <th>...</th>\n",
       "      <td>...</td>\n",
       "      <td>...</td>\n",
       "      <td>...</td>\n",
       "      <td>...</td>\n",
       "      <td>...</td>\n",
       "      <td>...</td>\n",
       "      <td>...</td>\n",
       "      <td>...</td>\n",
       "    </tr>\n",
       "    <tr>\n",
       "      <th>5512</th>\n",
       "      <td>6840-RESVB</td>\n",
       "      <td>DSL</td>\n",
       "      <td>Yes</td>\n",
       "      <td>No</td>\n",
       "      <td>Yes</td>\n",
       "      <td>Yes</td>\n",
       "      <td>Yes</td>\n",
       "      <td>Yes</td>\n",
       "    </tr>\n",
       "    <tr>\n",
       "      <th>5513</th>\n",
       "      <td>2234-XADUH</td>\n",
       "      <td>Fiber optic</td>\n",
       "      <td>No</td>\n",
       "      <td>Yes</td>\n",
       "      <td>Yes</td>\n",
       "      <td>No</td>\n",
       "      <td>Yes</td>\n",
       "      <td>Yes</td>\n",
       "    </tr>\n",
       "    <tr>\n",
       "      <th>5514</th>\n",
       "      <td>4801-JZAZL</td>\n",
       "      <td>DSL</td>\n",
       "      <td>Yes</td>\n",
       "      <td>No</td>\n",
       "      <td>No</td>\n",
       "      <td>No</td>\n",
       "      <td>No</td>\n",
       "      <td>No</td>\n",
       "    </tr>\n",
       "    <tr>\n",
       "      <th>5515</th>\n",
       "      <td>8361-LTMKD</td>\n",
       "      <td>Fiber optic</td>\n",
       "      <td>No</td>\n",
       "      <td>No</td>\n",
       "      <td>No</td>\n",
       "      <td>No</td>\n",
       "      <td>No</td>\n",
       "      <td>No</td>\n",
       "    </tr>\n",
       "    <tr>\n",
       "      <th>5516</th>\n",
       "      <td>3186-AJIEK</td>\n",
       "      <td>Fiber optic</td>\n",
       "      <td>Yes</td>\n",
       "      <td>No</td>\n",
       "      <td>Yes</td>\n",
       "      <td>Yes</td>\n",
       "      <td>Yes</td>\n",
       "      <td>Yes</td>\n",
       "    </tr>\n",
       "  </tbody>\n",
       "</table>\n",
       "<p>5517 rows × 8 columns</p>\n",
       "</div>"
      ],
      "text/plain": [
       "      customerID InternetService OnlineSecurity OnlineBackup DeviceProtection  \\\n",
       "0     7590-VHVEG             DSL             No          Yes               No   \n",
       "1     5575-GNVDE             DSL            Yes           No              Yes   \n",
       "2     3668-QPYBK             DSL            Yes          Yes               No   \n",
       "3     7795-CFOCW             DSL            Yes           No              Yes   \n",
       "4     9237-HQITU     Fiber optic             No           No               No   \n",
       "...          ...             ...            ...          ...              ...   \n",
       "5512  6840-RESVB             DSL            Yes           No              Yes   \n",
       "5513  2234-XADUH     Fiber optic             No          Yes              Yes   \n",
       "5514  4801-JZAZL             DSL            Yes           No               No   \n",
       "5515  8361-LTMKD     Fiber optic             No           No               No   \n",
       "5516  3186-AJIEK     Fiber optic            Yes           No              Yes   \n",
       "\n",
       "     TechSupport StreamingTV StreamingMovies  \n",
       "0             No          No              No  \n",
       "1             No          No              No  \n",
       "2             No          No              No  \n",
       "3            Yes          No              No  \n",
       "4             No          No              No  \n",
       "...          ...         ...             ...  \n",
       "5512         Yes         Yes             Yes  \n",
       "5513          No         Yes             Yes  \n",
       "5514          No          No              No  \n",
       "5515          No          No              No  \n",
       "5516         Yes         Yes             Yes  \n",
       "\n",
       "[5517 rows x 8 columns]"
      ]
     },
     "execution_count": 24,
     "metadata": {},
     "output_type": "execute_result"
    }
   ],
   "source": [
    "df_internet"
   ]
  },
  {
   "cell_type": "code",
   "execution_count": 25,
   "metadata": {
    "scrolled": true
   },
   "outputs": [
    {
     "data": {
      "text/html": [
       "<div>\n",
       "<style scoped>\n",
       "    .dataframe tbody tr th:only-of-type {\n",
       "        vertical-align: middle;\n",
       "    }\n",
       "\n",
       "    .dataframe tbody tr th {\n",
       "        vertical-align: top;\n",
       "    }\n",
       "\n",
       "    .dataframe thead th {\n",
       "        text-align: right;\n",
       "    }\n",
       "</style>\n",
       "<table border=\"1\" class=\"dataframe\">\n",
       "  <thead>\n",
       "    <tr style=\"text-align: right;\">\n",
       "      <th></th>\n",
       "      <th>customerID</th>\n",
       "      <th>InternetService</th>\n",
       "      <th>OnlineSecurity</th>\n",
       "      <th>OnlineBackup</th>\n",
       "      <th>DeviceProtection</th>\n",
       "      <th>TechSupport</th>\n",
       "      <th>StreamingTV</th>\n",
       "      <th>StreamingMovies</th>\n",
       "    </tr>\n",
       "  </thead>\n",
       "  <tbody>\n",
       "    <tr>\n",
       "      <th>count</th>\n",
       "      <td>5517</td>\n",
       "      <td>5517</td>\n",
       "      <td>5517</td>\n",
       "      <td>5517</td>\n",
       "      <td>5517</td>\n",
       "      <td>5517</td>\n",
       "      <td>5517</td>\n",
       "      <td>5517</td>\n",
       "    </tr>\n",
       "    <tr>\n",
       "      <th>unique</th>\n",
       "      <td>5517</td>\n",
       "      <td>2</td>\n",
       "      <td>2</td>\n",
       "      <td>2</td>\n",
       "      <td>2</td>\n",
       "      <td>2</td>\n",
       "      <td>2</td>\n",
       "      <td>2</td>\n",
       "    </tr>\n",
       "    <tr>\n",
       "      <th>top</th>\n",
       "      <td>0233-FTHAV</td>\n",
       "      <td>Fiber optic</td>\n",
       "      <td>No</td>\n",
       "      <td>No</td>\n",
       "      <td>No</td>\n",
       "      <td>No</td>\n",
       "      <td>No</td>\n",
       "      <td>No</td>\n",
       "    </tr>\n",
       "    <tr>\n",
       "      <th>freq</th>\n",
       "      <td>1</td>\n",
       "      <td>3096</td>\n",
       "      <td>3498</td>\n",
       "      <td>3088</td>\n",
       "      <td>3095</td>\n",
       "      <td>3473</td>\n",
       "      <td>2810</td>\n",
       "      <td>2785</td>\n",
       "    </tr>\n",
       "  </tbody>\n",
       "</table>\n",
       "</div>"
      ],
      "text/plain": [
       "        customerID InternetService OnlineSecurity OnlineBackup  \\\n",
       "count         5517            5517           5517         5517   \n",
       "unique        5517               2              2            2   \n",
       "top     0233-FTHAV     Fiber optic             No           No   \n",
       "freq             1            3096           3498         3088   \n",
       "\n",
       "       DeviceProtection TechSupport StreamingTV StreamingMovies  \n",
       "count              5517        5517        5517            5517  \n",
       "unique                2           2           2               2  \n",
       "top                  No          No          No              No  \n",
       "freq               3095        3473        2810            2785  "
      ]
     },
     "execution_count": 25,
     "metadata": {},
     "output_type": "execute_result"
    }
   ],
   "source": [
    "df_internet.describe()"
   ]
  },
  {
   "cell_type": "code",
   "execution_count": 29,
   "metadata": {},
   "outputs": [
    {
     "data": {
      "text/html": [
       "<div>\n",
       "<style scoped>\n",
       "    .dataframe tbody tr th:only-of-type {\n",
       "        vertical-align: middle;\n",
       "    }\n",
       "\n",
       "    .dataframe tbody tr th {\n",
       "        vertical-align: top;\n",
       "    }\n",
       "\n",
       "    .dataframe thead th {\n",
       "        text-align: right;\n",
       "    }\n",
       "</style>\n",
       "<table border=\"1\" class=\"dataframe\">\n",
       "  <thead>\n",
       "    <tr style=\"text-align: right;\">\n",
       "      <th></th>\n",
       "      <th>customerID</th>\n",
       "      <th>InternetService</th>\n",
       "      <th>OnlineSecurity</th>\n",
       "      <th>OnlineBackup</th>\n",
       "      <th>DeviceProtection</th>\n",
       "      <th>TechSupport</th>\n",
       "      <th>StreamingTV</th>\n",
       "      <th>StreamingMovies</th>\n",
       "    </tr>\n",
       "  </thead>\n",
       "  <tbody>\n",
       "    <tr>\n",
       "      <th>0</th>\n",
       "      <td>7590-VHVEG</td>\n",
       "      <td>DSL</td>\n",
       "      <td>No</td>\n",
       "      <td>Yes</td>\n",
       "      <td>No</td>\n",
       "      <td>No</td>\n",
       "      <td>No</td>\n",
       "      <td>No</td>\n",
       "    </tr>\n",
       "    <tr>\n",
       "      <th>1</th>\n",
       "      <td>5575-GNVDE</td>\n",
       "      <td>DSL</td>\n",
       "      <td>Yes</td>\n",
       "      <td>No</td>\n",
       "      <td>Yes</td>\n",
       "      <td>No</td>\n",
       "      <td>No</td>\n",
       "      <td>No</td>\n",
       "    </tr>\n",
       "    <tr>\n",
       "      <th>2</th>\n",
       "      <td>3668-QPYBK</td>\n",
       "      <td>DSL</td>\n",
       "      <td>Yes</td>\n",
       "      <td>Yes</td>\n",
       "      <td>No</td>\n",
       "      <td>No</td>\n",
       "      <td>No</td>\n",
       "      <td>No</td>\n",
       "    </tr>\n",
       "    <tr>\n",
       "      <th>3</th>\n",
       "      <td>7795-CFOCW</td>\n",
       "      <td>DSL</td>\n",
       "      <td>Yes</td>\n",
       "      <td>No</td>\n",
       "      <td>Yes</td>\n",
       "      <td>Yes</td>\n",
       "      <td>No</td>\n",
       "      <td>No</td>\n",
       "    </tr>\n",
       "    <tr>\n",
       "      <th>4</th>\n",
       "      <td>9237-HQITU</td>\n",
       "      <td>Fiber optic</td>\n",
       "      <td>No</td>\n",
       "      <td>No</td>\n",
       "      <td>No</td>\n",
       "      <td>No</td>\n",
       "      <td>No</td>\n",
       "      <td>No</td>\n",
       "    </tr>\n",
       "    <tr>\n",
       "      <th>...</th>\n",
       "      <td>...</td>\n",
       "      <td>...</td>\n",
       "      <td>...</td>\n",
       "      <td>...</td>\n",
       "      <td>...</td>\n",
       "      <td>...</td>\n",
       "      <td>...</td>\n",
       "      <td>...</td>\n",
       "    </tr>\n",
       "    <tr>\n",
       "      <th>5512</th>\n",
       "      <td>6840-RESVB</td>\n",
       "      <td>DSL</td>\n",
       "      <td>Yes</td>\n",
       "      <td>No</td>\n",
       "      <td>Yes</td>\n",
       "      <td>Yes</td>\n",
       "      <td>Yes</td>\n",
       "      <td>Yes</td>\n",
       "    </tr>\n",
       "    <tr>\n",
       "      <th>5513</th>\n",
       "      <td>2234-XADUH</td>\n",
       "      <td>Fiber optic</td>\n",
       "      <td>No</td>\n",
       "      <td>Yes</td>\n",
       "      <td>Yes</td>\n",
       "      <td>No</td>\n",
       "      <td>Yes</td>\n",
       "      <td>Yes</td>\n",
       "    </tr>\n",
       "    <tr>\n",
       "      <th>5514</th>\n",
       "      <td>4801-JZAZL</td>\n",
       "      <td>DSL</td>\n",
       "      <td>Yes</td>\n",
       "      <td>No</td>\n",
       "      <td>No</td>\n",
       "      <td>No</td>\n",
       "      <td>No</td>\n",
       "      <td>No</td>\n",
       "    </tr>\n",
       "    <tr>\n",
       "      <th>5515</th>\n",
       "      <td>8361-LTMKD</td>\n",
       "      <td>Fiber optic</td>\n",
       "      <td>No</td>\n",
       "      <td>No</td>\n",
       "      <td>No</td>\n",
       "      <td>No</td>\n",
       "      <td>No</td>\n",
       "      <td>No</td>\n",
       "    </tr>\n",
       "    <tr>\n",
       "      <th>5516</th>\n",
       "      <td>3186-AJIEK</td>\n",
       "      <td>Fiber optic</td>\n",
       "      <td>Yes</td>\n",
       "      <td>No</td>\n",
       "      <td>Yes</td>\n",
       "      <td>Yes</td>\n",
       "      <td>Yes</td>\n",
       "      <td>Yes</td>\n",
       "    </tr>\n",
       "  </tbody>\n",
       "</table>\n",
       "<p>5517 rows × 8 columns</p>\n",
       "</div>"
      ],
      "text/plain": [
       "      customerID InternetService OnlineSecurity OnlineBackup DeviceProtection  \\\n",
       "0     7590-VHVEG             DSL             No          Yes               No   \n",
       "1     5575-GNVDE             DSL            Yes           No              Yes   \n",
       "2     3668-QPYBK             DSL            Yes          Yes               No   \n",
       "3     7795-CFOCW             DSL            Yes           No              Yes   \n",
       "4     9237-HQITU     Fiber optic             No           No               No   \n",
       "...          ...             ...            ...          ...              ...   \n",
       "5512  6840-RESVB             DSL            Yes           No              Yes   \n",
       "5513  2234-XADUH     Fiber optic             No          Yes              Yes   \n",
       "5514  4801-JZAZL             DSL            Yes           No               No   \n",
       "5515  8361-LTMKD     Fiber optic             No           No               No   \n",
       "5516  3186-AJIEK     Fiber optic            Yes           No              Yes   \n",
       "\n",
       "     TechSupport StreamingTV StreamingMovies  \n",
       "0             No          No              No  \n",
       "1             No          No              No  \n",
       "2             No          No              No  \n",
       "3            Yes          No              No  \n",
       "4             No          No              No  \n",
       "...          ...         ...             ...  \n",
       "5512         Yes         Yes             Yes  \n",
       "5513          No         Yes             Yes  \n",
       "5514          No          No              No  \n",
       "5515          No          No              No  \n",
       "5516         Yes         Yes             Yes  \n",
       "\n",
       "[5517 rows x 8 columns]"
      ]
     },
     "execution_count": 29,
     "metadata": {},
     "output_type": "execute_result"
    }
   ],
   "source": [
    "df_internet"
   ]
  },
  {
   "cell_type": "code",
   "execution_count": 30,
   "metadata": {},
   "outputs": [
    {
     "data": {
      "text/html": [
       "<div>\n",
       "<style scoped>\n",
       "    .dataframe tbody tr th:only-of-type {\n",
       "        vertical-align: middle;\n",
       "    }\n",
       "\n",
       "    .dataframe tbody tr th {\n",
       "        vertical-align: top;\n",
       "    }\n",
       "\n",
       "    .dataframe thead th {\n",
       "        text-align: right;\n",
       "    }\n",
       "</style>\n",
       "<table border=\"1\" class=\"dataframe\">\n",
       "  <thead>\n",
       "    <tr style=\"text-align: right;\">\n",
       "      <th></th>\n",
       "      <th>customerID</th>\n",
       "      <th>MultipleLines</th>\n",
       "    </tr>\n",
       "  </thead>\n",
       "  <tbody>\n",
       "    <tr>\n",
       "      <th>0</th>\n",
       "      <td>5575-GNVDE</td>\n",
       "      <td>No</td>\n",
       "    </tr>\n",
       "    <tr>\n",
       "      <th>1</th>\n",
       "      <td>3668-QPYBK</td>\n",
       "      <td>No</td>\n",
       "    </tr>\n",
       "    <tr>\n",
       "      <th>2</th>\n",
       "      <td>9237-HQITU</td>\n",
       "      <td>No</td>\n",
       "    </tr>\n",
       "    <tr>\n",
       "      <th>3</th>\n",
       "      <td>9305-CDSKC</td>\n",
       "      <td>Yes</td>\n",
       "    </tr>\n",
       "    <tr>\n",
       "      <th>4</th>\n",
       "      <td>1452-KIOVK</td>\n",
       "      <td>Yes</td>\n",
       "    </tr>\n",
       "    <tr>\n",
       "      <th>...</th>\n",
       "      <td>...</td>\n",
       "      <td>...</td>\n",
       "    </tr>\n",
       "    <tr>\n",
       "      <th>6356</th>\n",
       "      <td>2569-WGERO</td>\n",
       "      <td>No</td>\n",
       "    </tr>\n",
       "    <tr>\n",
       "      <th>6357</th>\n",
       "      <td>6840-RESVB</td>\n",
       "      <td>Yes</td>\n",
       "    </tr>\n",
       "    <tr>\n",
       "      <th>6358</th>\n",
       "      <td>2234-XADUH</td>\n",
       "      <td>Yes</td>\n",
       "    </tr>\n",
       "    <tr>\n",
       "      <th>6359</th>\n",
       "      <td>8361-LTMKD</td>\n",
       "      <td>Yes</td>\n",
       "    </tr>\n",
       "    <tr>\n",
       "      <th>6360</th>\n",
       "      <td>3186-AJIEK</td>\n",
       "      <td>No</td>\n",
       "    </tr>\n",
       "  </tbody>\n",
       "</table>\n",
       "<p>6361 rows × 2 columns</p>\n",
       "</div>"
      ],
      "text/plain": [
       "      customerID MultipleLines\n",
       "0     5575-GNVDE            No\n",
       "1     3668-QPYBK            No\n",
       "2     9237-HQITU            No\n",
       "3     9305-CDSKC           Yes\n",
       "4     1452-KIOVK           Yes\n",
       "...          ...           ...\n",
       "6356  2569-WGERO            No\n",
       "6357  6840-RESVB           Yes\n",
       "6358  2234-XADUH           Yes\n",
       "6359  8361-LTMKD           Yes\n",
       "6360  3186-AJIEK            No\n",
       "\n",
       "[6361 rows x 2 columns]"
      ]
     },
     "execution_count": 30,
     "metadata": {},
     "output_type": "execute_result"
    }
   ],
   "source": [
    "df_phone"
   ]
  },
  {
   "cell_type": "code",
   "execution_count": 31,
   "metadata": {},
   "outputs": [
    {
     "data": {
      "text/html": [
       "<div>\n",
       "<style scoped>\n",
       "    .dataframe tbody tr th:only-of-type {\n",
       "        vertical-align: middle;\n",
       "    }\n",
       "\n",
       "    .dataframe tbody tr th {\n",
       "        vertical-align: top;\n",
       "    }\n",
       "\n",
       "    .dataframe thead th {\n",
       "        text-align: right;\n",
       "    }\n",
       "</style>\n",
       "<table border=\"1\" class=\"dataframe\">\n",
       "  <thead>\n",
       "    <tr style=\"text-align: right;\">\n",
       "      <th></th>\n",
       "      <th>customerID</th>\n",
       "      <th>MultipleLines</th>\n",
       "    </tr>\n",
       "  </thead>\n",
       "  <tbody>\n",
       "    <tr>\n",
       "      <th>count</th>\n",
       "      <td>6361</td>\n",
       "      <td>6361</td>\n",
       "    </tr>\n",
       "    <tr>\n",
       "      <th>unique</th>\n",
       "      <td>6361</td>\n",
       "      <td>2</td>\n",
       "    </tr>\n",
       "    <tr>\n",
       "      <th>top</th>\n",
       "      <td>6266-QHOJZ</td>\n",
       "      <td>No</td>\n",
       "    </tr>\n",
       "    <tr>\n",
       "      <th>freq</th>\n",
       "      <td>1</td>\n",
       "      <td>3390</td>\n",
       "    </tr>\n",
       "  </tbody>\n",
       "</table>\n",
       "</div>"
      ],
      "text/plain": [
       "        customerID MultipleLines\n",
       "count         6361          6361\n",
       "unique        6361             2\n",
       "top     6266-QHOJZ            No\n",
       "freq             1          3390"
      ]
     },
     "execution_count": 31,
     "metadata": {},
     "output_type": "execute_result"
    }
   ],
   "source": [
    "df_phone.describe()"
   ]
  },
  {
   "cell_type": "code",
   "execution_count": 32,
   "metadata": {},
   "outputs": [
    {
     "data": {
      "text/plain": [
       "No     3390\n",
       "Yes    2971\n",
       "Name: MultipleLines, dtype: int64"
      ]
     },
     "execution_count": 32,
     "metadata": {},
     "output_type": "execute_result"
    }
   ],
   "source": [
    "df_phone['MultipleLines'].value_counts()"
   ]
  },
  {
   "cell_type": "code",
   "execution_count": 33,
   "metadata": {},
   "outputs": [
    {
     "data": {
      "text/html": [
       "<div>\n",
       "<style scoped>\n",
       "    .dataframe tbody tr th:only-of-type {\n",
       "        vertical-align: middle;\n",
       "    }\n",
       "\n",
       "    .dataframe tbody tr th {\n",
       "        vertical-align: top;\n",
       "    }\n",
       "\n",
       "    .dataframe thead th {\n",
       "        text-align: right;\n",
       "    }\n",
       "</style>\n",
       "<table border=\"1\" class=\"dataframe\">\n",
       "  <thead>\n",
       "    <tr style=\"text-align: right;\">\n",
       "      <th></th>\n",
       "      <th>customerID</th>\n",
       "      <th>Type</th>\n",
       "      <th>PaperlessBilling</th>\n",
       "      <th>PaymentMethod</th>\n",
       "      <th>MonthlyCharges</th>\n",
       "      <th>TotalCharges</th>\n",
       "      <th>is_left</th>\n",
       "      <th>duration_days</th>\n",
       "    </tr>\n",
       "  </thead>\n",
       "  <tbody>\n",
       "    <tr>\n",
       "      <th>0</th>\n",
       "      <td>7590-VHVEG</td>\n",
       "      <td>Month-to-month</td>\n",
       "      <td>Yes</td>\n",
       "      <td>Electronic check</td>\n",
       "      <td>29.85</td>\n",
       "      <td>29.85</td>\n",
       "      <td>False</td>\n",
       "      <td>31</td>\n",
       "    </tr>\n",
       "    <tr>\n",
       "      <th>1</th>\n",
       "      <td>5575-GNVDE</td>\n",
       "      <td>One year</td>\n",
       "      <td>No</td>\n",
       "      <td>Mailed check</td>\n",
       "      <td>56.95</td>\n",
       "      <td>1889.50</td>\n",
       "      <td>False</td>\n",
       "      <td>1036</td>\n",
       "    </tr>\n",
       "    <tr>\n",
       "      <th>2</th>\n",
       "      <td>3668-QPYBK</td>\n",
       "      <td>Month-to-month</td>\n",
       "      <td>Yes</td>\n",
       "      <td>Mailed check</td>\n",
       "      <td>53.85</td>\n",
       "      <td>108.15</td>\n",
       "      <td>True</td>\n",
       "      <td>61</td>\n",
       "    </tr>\n",
       "    <tr>\n",
       "      <th>3</th>\n",
       "      <td>7795-CFOCW</td>\n",
       "      <td>One year</td>\n",
       "      <td>No</td>\n",
       "      <td>Bank transfer (automatic)</td>\n",
       "      <td>42.30</td>\n",
       "      <td>1840.75</td>\n",
       "      <td>False</td>\n",
       "      <td>1371</td>\n",
       "    </tr>\n",
       "    <tr>\n",
       "      <th>4</th>\n",
       "      <td>9237-HQITU</td>\n",
       "      <td>Month-to-month</td>\n",
       "      <td>Yes</td>\n",
       "      <td>Electronic check</td>\n",
       "      <td>70.70</td>\n",
       "      <td>151.65</td>\n",
       "      <td>True</td>\n",
       "      <td>61</td>\n",
       "    </tr>\n",
       "    <tr>\n",
       "      <th>...</th>\n",
       "      <td>...</td>\n",
       "      <td>...</td>\n",
       "      <td>...</td>\n",
       "      <td>...</td>\n",
       "      <td>...</td>\n",
       "      <td>...</td>\n",
       "      <td>...</td>\n",
       "      <td>...</td>\n",
       "    </tr>\n",
       "    <tr>\n",
       "      <th>7038</th>\n",
       "      <td>6840-RESVB</td>\n",
       "      <td>One year</td>\n",
       "      <td>Yes</td>\n",
       "      <td>Mailed check</td>\n",
       "      <td>84.80</td>\n",
       "      <td>1990.50</td>\n",
       "      <td>False</td>\n",
       "      <td>730</td>\n",
       "    </tr>\n",
       "    <tr>\n",
       "      <th>7039</th>\n",
       "      <td>2234-XADUH</td>\n",
       "      <td>One year</td>\n",
       "      <td>Yes</td>\n",
       "      <td>Credit card (automatic)</td>\n",
       "      <td>103.20</td>\n",
       "      <td>7362.90</td>\n",
       "      <td>False</td>\n",
       "      <td>2191</td>\n",
       "    </tr>\n",
       "    <tr>\n",
       "      <th>7040</th>\n",
       "      <td>4801-JZAZL</td>\n",
       "      <td>Month-to-month</td>\n",
       "      <td>Yes</td>\n",
       "      <td>Electronic check</td>\n",
       "      <td>29.60</td>\n",
       "      <td>346.45</td>\n",
       "      <td>False</td>\n",
       "      <td>337</td>\n",
       "    </tr>\n",
       "    <tr>\n",
       "      <th>7041</th>\n",
       "      <td>8361-LTMKD</td>\n",
       "      <td>Month-to-month</td>\n",
       "      <td>Yes</td>\n",
       "      <td>Mailed check</td>\n",
       "      <td>74.40</td>\n",
       "      <td>306.60</td>\n",
       "      <td>True</td>\n",
       "      <td>123</td>\n",
       "    </tr>\n",
       "    <tr>\n",
       "      <th>7042</th>\n",
       "      <td>3186-AJIEK</td>\n",
       "      <td>Two year</td>\n",
       "      <td>Yes</td>\n",
       "      <td>Bank transfer (automatic)</td>\n",
       "      <td>105.65</td>\n",
       "      <td>6844.50</td>\n",
       "      <td>False</td>\n",
       "      <td>2010</td>\n",
       "    </tr>\n",
       "  </tbody>\n",
       "</table>\n",
       "<p>7032 rows × 8 columns</p>\n",
       "</div>"
      ],
      "text/plain": [
       "      customerID            Type PaperlessBilling              PaymentMethod  \\\n",
       "0     7590-VHVEG  Month-to-month              Yes           Electronic check   \n",
       "1     5575-GNVDE        One year               No               Mailed check   \n",
       "2     3668-QPYBK  Month-to-month              Yes               Mailed check   \n",
       "3     7795-CFOCW        One year               No  Bank transfer (automatic)   \n",
       "4     9237-HQITU  Month-to-month              Yes           Electronic check   \n",
       "...          ...             ...              ...                        ...   \n",
       "7038  6840-RESVB        One year              Yes               Mailed check   \n",
       "7039  2234-XADUH        One year              Yes    Credit card (automatic)   \n",
       "7040  4801-JZAZL  Month-to-month              Yes           Electronic check   \n",
       "7041  8361-LTMKD  Month-to-month              Yes               Mailed check   \n",
       "7042  3186-AJIEK        Two year              Yes  Bank transfer (automatic)   \n",
       "\n",
       "      MonthlyCharges  TotalCharges  is_left  duration_days  \n",
       "0              29.85         29.85    False             31  \n",
       "1              56.95       1889.50    False           1036  \n",
       "2              53.85        108.15     True             61  \n",
       "3              42.30       1840.75    False           1371  \n",
       "4              70.70        151.65     True             61  \n",
       "...              ...           ...      ...            ...  \n",
       "7038           84.80       1990.50    False            730  \n",
       "7039          103.20       7362.90    False           2191  \n",
       "7040           29.60        346.45    False            337  \n",
       "7041           74.40        306.60     True            123  \n",
       "7042          105.65       6844.50    False           2010  \n",
       "\n",
       "[7032 rows x 8 columns]"
      ]
     },
     "execution_count": 33,
     "metadata": {},
     "output_type": "execute_result"
    }
   ],
   "source": [
    "df_contract"
   ]
  },
  {
   "cell_type": "markdown",
   "metadata": {},
   "source": [
    "### Анализ данных"
   ]
  },
  {
   "cell_type": "code",
   "execution_count": 34,
   "metadata": {},
   "outputs": [
    {
     "data": {
      "text/html": [
       "<div>\n",
       "<style scoped>\n",
       "    .dataframe tbody tr th:only-of-type {\n",
       "        vertical-align: middle;\n",
       "    }\n",
       "\n",
       "    .dataframe tbody tr th {\n",
       "        vertical-align: top;\n",
       "    }\n",
       "\n",
       "    .dataframe thead th {\n",
       "        text-align: right;\n",
       "    }\n",
       "</style>\n",
       "<table border=\"1\" class=\"dataframe\">\n",
       "  <thead>\n",
       "    <tr style=\"text-align: right;\">\n",
       "      <th></th>\n",
       "      <th>MonthlyCharges</th>\n",
       "      <th>TotalCharges</th>\n",
       "      <th>duration_days</th>\n",
       "    </tr>\n",
       "  </thead>\n",
       "  <tbody>\n",
       "    <tr>\n",
       "      <th>count</th>\n",
       "      <td>7032.000000</td>\n",
       "      <td>7032.000000</td>\n",
       "      <td>7032.000000</td>\n",
       "    </tr>\n",
       "    <tr>\n",
       "      <th>mean</th>\n",
       "      <td>64.798208</td>\n",
       "      <td>2283.300441</td>\n",
       "      <td>987.538538</td>\n",
       "    </tr>\n",
       "    <tr>\n",
       "      <th>std</th>\n",
       "      <td>30.085974</td>\n",
       "      <td>2266.771362</td>\n",
       "      <td>747.153663</td>\n",
       "    </tr>\n",
       "    <tr>\n",
       "      <th>min</th>\n",
       "      <td>18.250000</td>\n",
       "      <td>18.800000</td>\n",
       "      <td>30.000000</td>\n",
       "    </tr>\n",
       "    <tr>\n",
       "      <th>25%</th>\n",
       "      <td>35.587500</td>\n",
       "      <td>401.450000</td>\n",
       "      <td>275.000000</td>\n",
       "    </tr>\n",
       "    <tr>\n",
       "      <th>50%</th>\n",
       "      <td>70.350000</td>\n",
       "      <td>1397.475000</td>\n",
       "      <td>883.000000</td>\n",
       "    </tr>\n",
       "    <tr>\n",
       "      <th>75%</th>\n",
       "      <td>89.862500</td>\n",
       "      <td>3794.737500</td>\n",
       "      <td>1676.000000</td>\n",
       "    </tr>\n",
       "    <tr>\n",
       "      <th>max</th>\n",
       "      <td>118.750000</td>\n",
       "      <td>8684.800000</td>\n",
       "      <td>2191.000000</td>\n",
       "    </tr>\n",
       "  </tbody>\n",
       "</table>\n",
       "</div>"
      ],
      "text/plain": [
       "       MonthlyCharges  TotalCharges  duration_days\n",
       "count     7032.000000   7032.000000    7032.000000\n",
       "mean        64.798208   2283.300441     987.538538\n",
       "std         30.085974   2266.771362     747.153663\n",
       "min         18.250000     18.800000      30.000000\n",
       "25%         35.587500    401.450000     275.000000\n",
       "50%         70.350000   1397.475000     883.000000\n",
       "75%         89.862500   3794.737500    1676.000000\n",
       "max        118.750000   8684.800000    2191.000000"
      ]
     },
     "execution_count": 34,
     "metadata": {},
     "output_type": "execute_result"
    }
   ],
   "source": [
    "df_contract.describe()"
   ]
  },
  {
   "cell_type": "code",
   "execution_count": 35,
   "metadata": {},
   "outputs": [
    {
     "data": {
      "text/plain": [
       "False    5163\n",
       "True     1869\n",
       "Name: is_left, dtype: int64"
      ]
     },
     "execution_count": 35,
     "metadata": {},
     "output_type": "execute_result"
    }
   ],
   "source": [
    "df_contract['is_left'].value_counts()"
   ]
  },
  {
   "cell_type": "code",
   "execution_count": 36,
   "metadata": {},
   "outputs": [
    {
     "data": {
      "text/plain": [
       "<seaborn.axisgrid.PairGrid at 0x7faaa96a66a0>"
      ]
     },
     "execution_count": 36,
     "metadata": {},
     "output_type": "execute_result"
    },
    {
     "data": {
      "image/png": "[encoded data removed]",
      "text/plain": [
       "<Figure size 601.25x540 with 12 Axes>"
      ]
     },
     "metadata": {
      "needs_background": "light"
     },
     "output_type": "display_data"
    }
   ],
   "source": [
    "sns.pairplot(df_contract, hue='is_left') "
   ]
  },
  {
   "cell_type": "markdown",
   "metadata": {},
   "source": [
    "- с увеличением помесячных платежей кол-во ушедших увеличивается, можно отметить резкий рост с платежа=60\n",
    "- в первые месяцы кол-во ушедших клиентов велико, почти каждый второй уходит, однако со временем их кол-во уменьшается.\n",
    "- среди пользователелей пользующиеся безналичнам расчетом доля ущедших больше"
   ]
  },
  {
   "cell_type": "code",
   "execution_count": 37,
   "metadata": {},
   "outputs": [],
   "source": [
    "df = (df_contract.merge(df_personal, on =['customerID'], how='inner')\n",
    "                .merge(df_internet, on =['customerID'], how='left')\n",
    "                .merge(df_phone, on =['customerID'], how='left'))\n"
   ]
  },
  {
   "cell_type": "code",
   "execution_count": 38,
   "metadata": {
    "scrolled": false
   },
   "outputs": [
    {
     "name": "stdout",
     "output_type": "stream",
     "text": [
      "<class 'pandas.core.frame.DataFrame'>\n",
      "Int64Index: 7032 entries, 0 to 7031\n",
      "Data columns (total 20 columns):\n",
      " #   Column            Non-Null Count  Dtype  \n",
      "---  ------            --------------  -----  \n",
      " 0   customerID        7032 non-null   object \n",
      " 1   Type              7032 non-null   object \n",
      " 2   PaperlessBilling  7032 non-null   object \n",
      " 3   PaymentMethod     7032 non-null   object \n",
      " 4   MonthlyCharges    7032 non-null   float64\n",
      " 5   TotalCharges      7032 non-null   float64\n",
      " 6   is_left           7032 non-null   bool   \n",
      " 7   duration_days     7032 non-null   int64  \n",
      " 8   gender            7032 non-null   object \n",
      " 9   SeniorCitizen     7032 non-null   object \n",
      " 10  Partner           7032 non-null   object \n",
      " 11  Dependents        7032 non-null   object \n",
      " 12  InternetService   5512 non-null   object \n",
      " 13  OnlineSecurity    5512 non-null   object \n",
      " 14  OnlineBackup      5512 non-null   object \n",
      " 15  DeviceProtection  5512 non-null   object \n",
      " 16  TechSupport       5512 non-null   object \n",
      " 17  StreamingTV       5512 non-null   object \n",
      " 18  StreamingMovies   5512 non-null   object \n",
      " 19  MultipleLines     6352 non-null   object \n",
      "dtypes: bool(1), float64(2), int64(1), object(16)\n",
      "memory usage: 1.1+ MB\n"
     ]
    }
   ],
   "source": [
    "df.info()"
   ]
  },
  {
   "cell_type": "code",
   "execution_count": 39,
   "metadata": {},
   "outputs": [],
   "source": [
    "for col in df_internet.columns:\n",
    "     if col != 'customerID':\n",
    "        #if col != 'InternetService':\n",
    "        df[col].fillna(\"No\", inplace=True)\n",
    "            #df[col] = (df[col] == 'Yes').astype(int)"
   ]
  },
  {
   "cell_type": "code",
   "execution_count": 40,
   "metadata": {},
   "outputs": [],
   "source": [
    "df['MultipleLines'].fillna('No', inplace=True)"
   ]
  },
  {
   "cell_type": "code",
   "execution_count": 41,
   "metadata": {},
   "outputs": [
    {
     "name": "stdout",
     "output_type": "stream",
     "text": [
      "<class 'pandas.core.frame.DataFrame'>\n",
      "Int64Index: 7032 entries, 0 to 7031\n",
      "Data columns (total 20 columns):\n",
      " #   Column            Non-Null Count  Dtype  \n",
      "---  ------            --------------  -----  \n",
      " 0   customerID        7032 non-null   object \n",
      " 1   Type              7032 non-null   object \n",
      " 2   PaperlessBilling  7032 non-null   object \n",
      " 3   PaymentMethod     7032 non-null   object \n",
      " 4   MonthlyCharges    7032 non-null   float64\n",
      " 5   TotalCharges      7032 non-null   float64\n",
      " 6   is_left           7032 non-null   bool   \n",
      " 7   duration_days     7032 non-null   int64  \n",
      " 8   gender            7032 non-null   object \n",
      " 9   SeniorCitizen     7032 non-null   object \n",
      " 10  Partner           7032 non-null   object \n",
      " 11  Dependents        7032 non-null   object \n",
      " 12  InternetService   7032 non-null   object \n",
      " 13  OnlineSecurity    7032 non-null   object \n",
      " 14  OnlineBackup      7032 non-null   object \n",
      " 15  DeviceProtection  7032 non-null   object \n",
      " 16  TechSupport       7032 non-null   object \n",
      " 17  StreamingTV       7032 non-null   object \n",
      " 18  StreamingMovies   7032 non-null   object \n",
      " 19  MultipleLines     7032 non-null   object \n",
      "dtypes: bool(1), float64(2), int64(1), object(16)\n",
      "memory usage: 1.1+ MB\n"
     ]
    }
   ],
   "source": [
    "df.info()"
   ]
  },
  {
   "cell_type": "markdown",
   "metadata": {},
   "source": [
    "## Создание модели прогноза"
   ]
  },
  {
   "cell_type": "markdown",
   "metadata": {},
   "source": [
    "### Подготовка данных к обучению"
   ]
  },
  {
   "cell_type": "code",
   "execution_count": 42,
   "metadata": {},
   "outputs": [
    {
     "data": {
      "text/plain": [
       "False    5163\n",
       "True     1869\n",
       "Name: is_left, dtype: int64"
      ]
     },
     "execution_count": 42,
     "metadata": {},
     "output_type": "execute_result"
    }
   ],
   "source": [
    "df['is_left'].value_counts()"
   ]
  },
  {
   "cell_type": "code",
   "execution_count": 43,
   "metadata": {},
   "outputs": [
    {
     "name": "stdout",
     "output_type": "stream",
     "text": [
      "<class 'pandas.core.frame.DataFrame'>\n",
      "Index: 7032 entries, 7590-VHVEG to 3186-AJIEK\n",
      "Data columns (total 23 columns):\n",
      " #   Column                                 Non-Null Count  Dtype  \n",
      "---  ------                                 --------------  -----  \n",
      " 0   MonthlyCharges                         7032 non-null   float64\n",
      " 1   TotalCharges                           7032 non-null   float64\n",
      " 2   is_left                                7032 non-null   bool   \n",
      " 3   duration_days                          7032 non-null   int64  \n",
      " 4   Type_One year                          7032 non-null   uint8  \n",
      " 5   Type_Two year                          7032 non-null   uint8  \n",
      " 6   PaperlessBilling_Yes                   7032 non-null   uint8  \n",
      " 7   PaymentMethod_Credit card (automatic)  7032 non-null   uint8  \n",
      " 8   PaymentMethod_Electronic check         7032 non-null   uint8  \n",
      " 9   PaymentMethod_Mailed check             7032 non-null   uint8  \n",
      " 10  gender_Male                            7032 non-null   uint8  \n",
      " 11  SeniorCitizen_Yes                      7032 non-null   uint8  \n",
      " 12  Partner_Yes                            7032 non-null   uint8  \n",
      " 13  Dependents_Yes                         7032 non-null   uint8  \n",
      " 14  InternetService_Fiber optic            7032 non-null   uint8  \n",
      " 15  InternetService_No                     7032 non-null   uint8  \n",
      " 16  OnlineSecurity_Yes                     7032 non-null   uint8  \n",
      " 17  OnlineBackup_Yes                       7032 non-null   uint8  \n",
      " 18  DeviceProtection_Yes                   7032 non-null   uint8  \n",
      " 19  TechSupport_Yes                        7032 non-null   uint8  \n",
      " 20  StreamingTV_Yes                        7032 non-null   uint8  \n",
      " 21  StreamingMovies_Yes                    7032 non-null   uint8  \n",
      " 22  MultipleLines_Yes                      7032 non-null   uint8  \n",
      "dtypes: bool(1), float64(2), int64(1), uint8(19)\n",
      "memory usage: 357.1+ KB\n"
     ]
    },
    {
     "data": {
      "text/html": [
       "<div>\n",
       "<style scoped>\n",
       "    .dataframe tbody tr th:only-of-type {\n",
       "        vertical-align: middle;\n",
       "    }\n",
       "\n",
       "    .dataframe tbody tr th {\n",
       "        vertical-align: top;\n",
       "    }\n",
       "\n",
       "    .dataframe thead th {\n",
       "        text-align: right;\n",
       "    }\n",
       "</style>\n",
       "<table border=\"1\" class=\"dataframe\">\n",
       "  <thead>\n",
       "    <tr style=\"text-align: right;\">\n",
       "      <th></th>\n",
       "      <th>MonthlyCharges</th>\n",
       "      <th>TotalCharges</th>\n",
       "      <th>is_left</th>\n",
       "      <th>duration_days</th>\n",
       "      <th>Type_One year</th>\n",
       "      <th>Type_Two year</th>\n",
       "      <th>PaperlessBilling_Yes</th>\n",
       "      <th>PaymentMethod_Credit card (automatic)</th>\n",
       "      <th>PaymentMethod_Electronic check</th>\n",
       "      <th>PaymentMethod_Mailed check</th>\n",
       "      <th>...</th>\n",
       "      <th>Dependents_Yes</th>\n",
       "      <th>InternetService_Fiber optic</th>\n",
       "      <th>InternetService_No</th>\n",
       "      <th>OnlineSecurity_Yes</th>\n",
       "      <th>OnlineBackup_Yes</th>\n",
       "      <th>DeviceProtection_Yes</th>\n",
       "      <th>TechSupport_Yes</th>\n",
       "      <th>StreamingTV_Yes</th>\n",
       "      <th>StreamingMovies_Yes</th>\n",
       "      <th>MultipleLines_Yes</th>\n",
       "    </tr>\n",
       "    <tr>\n",
       "      <th>customerID</th>\n",
       "      <th></th>\n",
       "      <th></th>\n",
       "      <th></th>\n",
       "      <th></th>\n",
       "      <th></th>\n",
       "      <th></th>\n",
       "      <th></th>\n",
       "      <th></th>\n",
       "      <th></th>\n",
       "      <th></th>\n",
       "      <th></th>\n",
       "      <th></th>\n",
       "      <th></th>\n",
       "      <th></th>\n",
       "      <th></th>\n",
       "      <th></th>\n",
       "      <th></th>\n",
       "      <th></th>\n",
       "      <th></th>\n",
       "      <th></th>\n",
       "      <th></th>\n",
       "    </tr>\n",
       "  </thead>\n",
       "  <tbody>\n",
       "    <tr>\n",
       "      <th>7590-VHVEG</th>\n",
       "      <td>29.85</td>\n",
       "      <td>29.85</td>\n",
       "      <td>False</td>\n",
       "      <td>31</td>\n",
       "      <td>0</td>\n",
       "      <td>0</td>\n",
       "      <td>1</td>\n",
       "      <td>0</td>\n",
       "      <td>1</td>\n",
       "      <td>0</td>\n",
       "      <td>...</td>\n",
       "      <td>0</td>\n",
       "      <td>0</td>\n",
       "      <td>0</td>\n",
       "      <td>0</td>\n",
       "      <td>1</td>\n",
       "      <td>0</td>\n",
       "      <td>0</td>\n",
       "      <td>0</td>\n",
       "      <td>0</td>\n",
       "      <td>0</td>\n",
       "    </tr>\n",
       "    <tr>\n",
       "      <th>5575-GNVDE</th>\n",
       "      <td>56.95</td>\n",
       "      <td>1889.50</td>\n",
       "      <td>False</td>\n",
       "      <td>1036</td>\n",
       "      <td>1</td>\n",
       "      <td>0</td>\n",
       "      <td>0</td>\n",
       "      <td>0</td>\n",
       "      <td>0</td>\n",
       "      <td>1</td>\n",
       "      <td>...</td>\n",
       "      <td>0</td>\n",
       "      <td>0</td>\n",
       "      <td>0</td>\n",
       "      <td>1</td>\n",
       "      <td>0</td>\n",
       "      <td>1</td>\n",
       "      <td>0</td>\n",
       "      <td>0</td>\n",
       "      <td>0</td>\n",
       "      <td>0</td>\n",
       "    </tr>\n",
       "    <tr>\n",
       "      <th>3668-QPYBK</th>\n",
       "      <td>53.85</td>\n",
       "      <td>108.15</td>\n",
       "      <td>True</td>\n",
       "      <td>61</td>\n",
       "      <td>0</td>\n",
       "      <td>0</td>\n",
       "      <td>1</td>\n",
       "      <td>0</td>\n",
       "      <td>0</td>\n",
       "      <td>1</td>\n",
       "      <td>...</td>\n",
       "      <td>0</td>\n",
       "      <td>0</td>\n",
       "      <td>0</td>\n",
       "      <td>1</td>\n",
       "      <td>1</td>\n",
       "      <td>0</td>\n",
       "      <td>0</td>\n",
       "      <td>0</td>\n",
       "      <td>0</td>\n",
       "      <td>0</td>\n",
       "    </tr>\n",
       "    <tr>\n",
       "      <th>7795-CFOCW</th>\n",
       "      <td>42.30</td>\n",
       "      <td>1840.75</td>\n",
       "      <td>False</td>\n",
       "      <td>1371</td>\n",
       "      <td>1</td>\n",
       "      <td>0</td>\n",
       "      <td>0</td>\n",
       "      <td>0</td>\n",
       "      <td>0</td>\n",
       "      <td>0</td>\n",
       "      <td>...</td>\n",
       "      <td>0</td>\n",
       "      <td>0</td>\n",
       "      <td>0</td>\n",
       "      <td>1</td>\n",
       "      <td>0</td>\n",
       "      <td>1</td>\n",
       "      <td>1</td>\n",
       "      <td>0</td>\n",
       "      <td>0</td>\n",
       "      <td>0</td>\n",
       "    </tr>\n",
       "    <tr>\n",
       "      <th>9237-HQITU</th>\n",
       "      <td>70.70</td>\n",
       "      <td>151.65</td>\n",
       "      <td>True</td>\n",
       "      <td>61</td>\n",
       "      <td>0</td>\n",
       "      <td>0</td>\n",
       "      <td>1</td>\n",
       "      <td>0</td>\n",
       "      <td>1</td>\n",
       "      <td>0</td>\n",
       "      <td>...</td>\n",
       "      <td>0</td>\n",
       "      <td>1</td>\n",
       "      <td>0</td>\n",
       "      <td>0</td>\n",
       "      <td>0</td>\n",
       "      <td>0</td>\n",
       "      <td>0</td>\n",
       "      <td>0</td>\n",
       "      <td>0</td>\n",
       "      <td>0</td>\n",
       "    </tr>\n",
       "  </tbody>\n",
       "</table>\n",
       "<p>5 rows × 23 columns</p>\n",
       "</div>"
      ],
      "text/plain": [
       "            MonthlyCharges  TotalCharges  is_left  duration_days  \\\n",
       "customerID                                                         \n",
       "7590-VHVEG           29.85         29.85    False             31   \n",
       "5575-GNVDE           56.95       1889.50    False           1036   \n",
       "3668-QPYBK           53.85        108.15     True             61   \n",
       "7795-CFOCW           42.30       1840.75    False           1371   \n",
       "9237-HQITU           70.70        151.65     True             61   \n",
       "\n",
       "            Type_One year  Type_Two year  PaperlessBilling_Yes  \\\n",
       "customerID                                                       \n",
       "7590-VHVEG              0              0                     1   \n",
       "5575-GNVDE              1              0                     0   \n",
       "3668-QPYBK              0              0                     1   \n",
       "7795-CFOCW              1              0                     0   \n",
       "9237-HQITU              0              0                     1   \n",
       "\n",
       "            PaymentMethod_Credit card (automatic)  \\\n",
       "customerID                                          \n",
       "7590-VHVEG                                      0   \n",
       "5575-GNVDE                                      0   \n",
       "3668-QPYBK                                      0   \n",
       "7795-CFOCW                                      0   \n",
       "9237-HQITU                                      0   \n",
       "\n",
       "            PaymentMethod_Electronic check  PaymentMethod_Mailed check  ...  \\\n",
       "customerID                                                              ...   \n",
       "7590-VHVEG                               1                           0  ...   \n",
       "5575-GNVDE                               0                           1  ...   \n",
       "3668-QPYBK                               0                           1  ...   \n",
       "7795-CFOCW                               0                           0  ...   \n",
       "9237-HQITU                               1                           0  ...   \n",
       "\n",
       "            Dependents_Yes  InternetService_Fiber optic  InternetService_No  \\\n",
       "customerID                                                                    \n",
       "7590-VHVEG               0                            0                   0   \n",
       "5575-GNVDE               0                            0                   0   \n",
       "3668-QPYBK               0                            0                   0   \n",
       "7795-CFOCW               0                            0                   0   \n",
       "9237-HQITU               0                            1                   0   \n",
       "\n",
       "            OnlineSecurity_Yes  OnlineBackup_Yes  DeviceProtection_Yes  \\\n",
       "customerID                                                               \n",
       "7590-VHVEG                   0                 1                     0   \n",
       "5575-GNVDE                   1                 0                     1   \n",
       "3668-QPYBK                   1                 1                     0   \n",
       "7795-CFOCW                   1                 0                     1   \n",
       "9237-HQITU                   0                 0                     0   \n",
       "\n",
       "            TechSupport_Yes  StreamingTV_Yes  StreamingMovies_Yes  \\\n",
       "customerID                                                          \n",
       "7590-VHVEG                0                0                    0   \n",
       "5575-GNVDE                0                0                    0   \n",
       "3668-QPYBK                0                0                    0   \n",
       "7795-CFOCW                1                0                    0   \n",
       "9237-HQITU                0                0                    0   \n",
       "\n",
       "            MultipleLines_Yes  \n",
       "customerID                     \n",
       "7590-VHVEG                  0  \n",
       "5575-GNVDE                  0  \n",
       "3668-QPYBK                  0  \n",
       "7795-CFOCW                  0  \n",
       "9237-HQITU                  0  \n",
       "\n",
       "[5 rows x 23 columns]"
      ]
     },
     "execution_count": 43,
     "metadata": {},
     "output_type": "execute_result"
    }
   ],
   "source": [
    "df_ohe = df.copy().set_index('customerID')\n",
    "df_ohe = pd.get_dummies(df_ohe, drop_first=True)\n",
    "df_ohe.info()\n",
    "df_ohe.head()"
   ]
  },
  {
   "cell_type": "code",
   "execution_count": 44,
   "metadata": {},
   "outputs": [],
   "source": [
    "df_ohe['is_left'] = df_ohe['is_left'].astype(int)"
   ]
  },
  {
   "cell_type": "code",
   "execution_count": 45,
   "metadata": {},
   "outputs": [],
   "source": [
    "X = df_ohe.drop(columns='is_left')\n",
    "y = df_ohe['is_left']"
   ]
  },
  {
   "cell_type": "code",
   "execution_count": 46,
   "metadata": {},
   "outputs": [
    {
     "data": {
      "text/plain": [
       "((5274, 22), (1758, 22), (5274,), (1758,))"
      ]
     },
     "execution_count": 46,
     "metadata": {},
     "output_type": "execute_result"
    }
   ],
   "source": [
    "X_train, X_test, y_train, y_test = train_test_split(X, y, test_size=0.25, random_state=42, stratify=y)\n",
    "X_train.shape, X_test.shape, y_train.shape, y_test.shape"
   ]
  },
  {
   "cell_type": "code",
   "execution_count": 47,
   "metadata": {},
   "outputs": [],
   "source": [
    "numeric = ['MonthlyCharges', 'TotalCharges', 'duration_days']"
   ]
  },
  {
   "cell_type": "code",
   "execution_count": 48,
   "metadata": {},
   "outputs": [],
   "source": [
    "scaler = StandardScaler()\n",
    "scaler.fit(X_train[numeric])\n",
    "X_train[numeric] = scaler.transform(X_train[numeric])\n",
    "X_test[numeric] = scaler.transform(X_test[numeric])"
   ]
  },
  {
   "cell_type": "code",
   "execution_count": 49,
   "metadata": {
    "scrolled": true
   },
   "outputs": [
    {
     "data": {
      "text/html": [
       "<div>\n",
       "<style scoped>\n",
       "    .dataframe tbody tr th:only-of-type {\n",
       "        vertical-align: middle;\n",
       "    }\n",
       "\n",
       "    .dataframe tbody tr th {\n",
       "        vertical-align: top;\n",
       "    }\n",
       "\n",
       "    .dataframe thead th {\n",
       "        text-align: right;\n",
       "    }\n",
       "</style>\n",
       "<table border=\"1\" class=\"dataframe\">\n",
       "  <thead>\n",
       "    <tr style=\"text-align: right;\">\n",
       "      <th></th>\n",
       "      <th>MonthlyCharges</th>\n",
       "      <th>TotalCharges</th>\n",
       "      <th>duration_days</th>\n",
       "      <th>Type_One year</th>\n",
       "      <th>Type_Two year</th>\n",
       "      <th>PaperlessBilling_Yes</th>\n",
       "      <th>PaymentMethod_Credit card (automatic)</th>\n",
       "      <th>PaymentMethod_Electronic check</th>\n",
       "      <th>PaymentMethod_Mailed check</th>\n",
       "      <th>gender_Male</th>\n",
       "      <th>...</th>\n",
       "      <th>Dependents_Yes</th>\n",
       "      <th>InternetService_Fiber optic</th>\n",
       "      <th>InternetService_No</th>\n",
       "      <th>OnlineSecurity_Yes</th>\n",
       "      <th>OnlineBackup_Yes</th>\n",
       "      <th>DeviceProtection_Yes</th>\n",
       "      <th>TechSupport_Yes</th>\n",
       "      <th>StreamingTV_Yes</th>\n",
       "      <th>StreamingMovies_Yes</th>\n",
       "      <th>MultipleLines_Yes</th>\n",
       "    </tr>\n",
       "    <tr>\n",
       "      <th>customerID</th>\n",
       "      <th></th>\n",
       "      <th></th>\n",
       "      <th></th>\n",
       "      <th></th>\n",
       "      <th></th>\n",
       "      <th></th>\n",
       "      <th></th>\n",
       "      <th></th>\n",
       "      <th></th>\n",
       "      <th></th>\n",
       "      <th></th>\n",
       "      <th></th>\n",
       "      <th></th>\n",
       "      <th></th>\n",
       "      <th></th>\n",
       "      <th></th>\n",
       "      <th></th>\n",
       "      <th></th>\n",
       "      <th></th>\n",
       "      <th></th>\n",
       "      <th></th>\n",
       "    </tr>\n",
       "  </thead>\n",
       "  <tbody>\n",
       "    <tr>\n",
       "      <th>6849-OYAMU</th>\n",
       "      <td>1.162877</td>\n",
       "      <td>-0.179659</td>\n",
       "      <td>-0.550397</td>\n",
       "      <td>1</td>\n",
       "      <td>0</td>\n",
       "      <td>0</td>\n",
       "      <td>0</td>\n",
       "      <td>0</td>\n",
       "      <td>0</td>\n",
       "      <td>1</td>\n",
       "      <td>...</td>\n",
       "      <td>1</td>\n",
       "      <td>1</td>\n",
       "      <td>0</td>\n",
       "      <td>0</td>\n",
       "      <td>1</td>\n",
       "      <td>0</td>\n",
       "      <td>1</td>\n",
       "      <td>1</td>\n",
       "      <td>1</td>\n",
       "      <td>0</td>\n",
       "    </tr>\n",
       "    <tr>\n",
       "      <th>6629-CZTTH</th>\n",
       "      <td>-0.305269</td>\n",
       "      <td>-0.984606</td>\n",
       "      <td>-1.283861</td>\n",
       "      <td>0</td>\n",
       "      <td>0</td>\n",
       "      <td>1</td>\n",
       "      <td>0</td>\n",
       "      <td>0</td>\n",
       "      <td>1</td>\n",
       "      <td>1</td>\n",
       "      <td>...</td>\n",
       "      <td>0</td>\n",
       "      <td>0</td>\n",
       "      <td>0</td>\n",
       "      <td>0</td>\n",
       "      <td>0</td>\n",
       "      <td>0</td>\n",
       "      <td>0</td>\n",
       "      <td>0</td>\n",
       "      <td>1</td>\n",
       "      <td>0</td>\n",
       "    </tr>\n",
       "    <tr>\n",
       "      <th>3452-SRFEG</th>\n",
       "      <td>0.321096</td>\n",
       "      <td>0.624738</td>\n",
       "      <td>0.671596</td>\n",
       "      <td>0</td>\n",
       "      <td>0</td>\n",
       "      <td>1</td>\n",
       "      <td>0</td>\n",
       "      <td>0</td>\n",
       "      <td>0</td>\n",
       "      <td>1</td>\n",
       "      <td>...</td>\n",
       "      <td>0</td>\n",
       "      <td>1</td>\n",
       "      <td>0</td>\n",
       "      <td>0</td>\n",
       "      <td>0</td>\n",
       "      <td>0</td>\n",
       "      <td>0</td>\n",
       "      <td>0</td>\n",
       "      <td>0</td>\n",
       "      <td>1</td>\n",
       "    </tr>\n",
       "    <tr>\n",
       "      <th>5129-HHMZC</th>\n",
       "      <td>0.713817</td>\n",
       "      <td>0.560688</td>\n",
       "      <td>0.428001</td>\n",
       "      <td>0</td>\n",
       "      <td>1</td>\n",
       "      <td>0</td>\n",
       "      <td>1</td>\n",
       "      <td>0</td>\n",
       "      <td>0</td>\n",
       "      <td>0</td>\n",
       "      <td>...</td>\n",
       "      <td>0</td>\n",
       "      <td>0</td>\n",
       "      <td>0</td>\n",
       "      <td>1</td>\n",
       "      <td>1</td>\n",
       "      <td>0</td>\n",
       "      <td>1</td>\n",
       "      <td>1</td>\n",
       "      <td>1</td>\n",
       "      <td>1</td>\n",
       "    </tr>\n",
       "    <tr>\n",
       "      <th>2135-RXIHG</th>\n",
       "      <td>-0.638336</td>\n",
       "      <td>-0.989019</td>\n",
       "      <td>-1.283861</td>\n",
       "      <td>0</td>\n",
       "      <td>0</td>\n",
       "      <td>1</td>\n",
       "      <td>0</td>\n",
       "      <td>1</td>\n",
       "      <td>0</td>\n",
       "      <td>1</td>\n",
       "      <td>...</td>\n",
       "      <td>0</td>\n",
       "      <td>0</td>\n",
       "      <td>0</td>\n",
       "      <td>0</td>\n",
       "      <td>0</td>\n",
       "      <td>0</td>\n",
       "      <td>0</td>\n",
       "      <td>0</td>\n",
       "      <td>0</td>\n",
       "      <td>0</td>\n",
       "    </tr>\n",
       "  </tbody>\n",
       "</table>\n",
       "<p>5 rows × 22 columns</p>\n",
       "</div>"
      ],
      "text/plain": [
       "            MonthlyCharges  TotalCharges  duration_days  Type_One year  \\\n",
       "customerID                                                               \n",
       "6849-OYAMU        1.162877     -0.179659      -0.550397              1   \n",
       "6629-CZTTH       -0.305269     -0.984606      -1.283861              0   \n",
       "3452-SRFEG        0.321096      0.624738       0.671596              0   \n",
       "5129-HHMZC        0.713817      0.560688       0.428001              0   \n",
       "2135-RXIHG       -0.638336     -0.989019      -1.283861              0   \n",
       "\n",
       "            Type_Two year  PaperlessBilling_Yes  \\\n",
       "customerID                                        \n",
       "6849-OYAMU              0                     0   \n",
       "6629-CZTTH              0                     1   \n",
       "3452-SRFEG              0                     1   \n",
       "5129-HHMZC              1                     0   \n",
       "2135-RXIHG              0                     1   \n",
       "\n",
       "            PaymentMethod_Credit card (automatic)  \\\n",
       "customerID                                          \n",
       "6849-OYAMU                                      0   \n",
       "6629-CZTTH                                      0   \n",
       "3452-SRFEG                                      0   \n",
       "5129-HHMZC                                      1   \n",
       "2135-RXIHG                                      0   \n",
       "\n",
       "            PaymentMethod_Electronic check  PaymentMethod_Mailed check  \\\n",
       "customerID                                                               \n",
       "6849-OYAMU                               0                           0   \n",
       "6629-CZTTH                               0                           1   \n",
       "3452-SRFEG                               0                           0   \n",
       "5129-HHMZC                               0                           0   \n",
       "2135-RXIHG                               1                           0   \n",
       "\n",
       "            gender_Male  ...  Dependents_Yes  InternetService_Fiber optic  \\\n",
       "customerID               ...                                                \n",
       "6849-OYAMU            1  ...               1                            1   \n",
       "6629-CZTTH            1  ...               0                            0   \n",
       "3452-SRFEG            1  ...               0                            1   \n",
       "5129-HHMZC            0  ...               0                            0   \n",
       "2135-RXIHG            1  ...               0                            0   \n",
       "\n",
       "            InternetService_No  OnlineSecurity_Yes  OnlineBackup_Yes  \\\n",
       "customerID                                                             \n",
       "6849-OYAMU                   0                   0                 1   \n",
       "6629-CZTTH                   0                   0                 0   \n",
       "3452-SRFEG                   0                   0                 0   \n",
       "5129-HHMZC                   0                   1                 1   \n",
       "2135-RXIHG                   0                   0                 0   \n",
       "\n",
       "            DeviceProtection_Yes  TechSupport_Yes  StreamingTV_Yes  \\\n",
       "customerID                                                           \n",
       "6849-OYAMU                     0                1                1   \n",
       "6629-CZTTH                     0                0                0   \n",
       "3452-SRFEG                     0                0                0   \n",
       "5129-HHMZC                     0                1                1   \n",
       "2135-RXIHG                     0                0                0   \n",
       "\n",
       "            StreamingMovies_Yes  MultipleLines_Yes  \n",
       "customerID                                          \n",
       "6849-OYAMU                    1                  0  \n",
       "6629-CZTTH                    1                  0  \n",
       "3452-SRFEG                    0                  1  \n",
       "5129-HHMZC                    1                  1  \n",
       "2135-RXIHG                    0                  0  \n",
       "\n",
       "[5 rows x 22 columns]"
      ]
     },
     "execution_count": 49,
     "metadata": {},
     "output_type": "execute_result"
    }
   ],
   "source": [
    "X_train.head()"
   ]
  },
  {
   "cell_type": "markdown",
   "metadata": {},
   "source": [
    "### LogisticRegression, RandomForestClassifier, DecisionTreeClassifier"
   ]
  },
  {
   "cell_type": "code",
   "execution_count": 50,
   "metadata": {},
   "outputs": [],
   "source": [
    "def models_train_metrics(features_train, features_valid, target_train, target_valid):\n",
    "    \n",
    "    models = {'Decision Tree': DecisionTreeClassifier(random_state=42), \n",
    "              'Random Forest': RandomForestClassifier(random_state=42),\n",
    "              'Logistic Regression': LogisticRegression(random_state=42)}\n",
    "   \n",
    "    table = {}\n",
    "    for model in models:\n",
    "        scores = {}\n",
    "        cur_model = models[model]\n",
    "        cur_model.fit(features_train, target_train)\n",
    "        prediction = cur_model.predict(features_valid) \n",
    "        prediction_ra = cur_model.predict_proba(features_valid)[:, 1]\n",
    "        scores['accuracy'] = accuracy_score(target_valid, prediction)\n",
    "        scores['roc_auc'] = roc_auc_score(target_valid, prediction_ra)\n",
    "        table[model]=scores\n",
    "    return pd.DataFrame(table)"
   ]
  },
  {
   "cell_type": "code",
   "execution_count": 51,
   "metadata": {},
   "outputs": [
    {
     "name": "stdout",
     "output_type": "stream",
     "text": [
      "CPU times: user 1 s, sys: 816 ms, total: 1.82 s\n",
      "Wall time: 1.85 s\n"
     ]
    },
    {
     "data": {
      "text/html": [
       "<div>\n",
       "<style scoped>\n",
       "    .dataframe tbody tr th:only-of-type {\n",
       "        vertical-align: middle;\n",
       "    }\n",
       "\n",
       "    .dataframe tbody tr th {\n",
       "        vertical-align: top;\n",
       "    }\n",
       "\n",
       "    .dataframe thead th {\n",
       "        text-align: right;\n",
       "    }\n",
       "</style>\n",
       "<table border=\"1\" class=\"dataframe\">\n",
       "  <thead>\n",
       "    <tr style=\"text-align: right;\">\n",
       "      <th></th>\n",
       "      <th>Decision Tree</th>\n",
       "      <th>Random Forest</th>\n",
       "      <th>Logistic Regression</th>\n",
       "    </tr>\n",
       "  </thead>\n",
       "  <tbody>\n",
       "    <tr>\n",
       "      <th>accuracy</th>\n",
       "      <td>0.762230</td>\n",
       "      <td>0.808874</td>\n",
       "      <td>0.810011</td>\n",
       "    </tr>\n",
       "    <tr>\n",
       "      <th>roc_auc</th>\n",
       "      <td>0.694429</td>\n",
       "      <td>0.840645</td>\n",
       "      <td>0.840516</td>\n",
       "    </tr>\n",
       "  </tbody>\n",
       "</table>\n",
       "</div>"
      ],
      "text/plain": [
       "          Decision Tree  Random Forest  Logistic Regression\n",
       "accuracy       0.762230       0.808874             0.810011\n",
       "roc_auc        0.694429       0.840645             0.840516"
      ]
     },
     "execution_count": 51,
     "metadata": {},
     "output_type": "execute_result"
    }
   ],
   "source": [
    "%%time\n",
    "simple_models = models_train_metrics(X_train, X_test, y_train, y_test)\n",
    "simple_models"
   ]
  },
  {
   "cell_type": "markdown",
   "metadata": {},
   "source": [
    "Logistic Regression и Random Fores имеют примерно равные показатели измеряемых метрик, а близки к удовлетворению поставленных целей. Если дальнейшая модель с применением бустинга не покажет лучшего результата, можно будет доработать одну из моделей путем подбора оптимальных параметров."
   ]
  },
  {
   "cell_type": "markdown",
   "metadata": {},
   "source": [
    "### LGBMClassifier"
   ]
  },
  {
   "cell_type": "code",
   "execution_count": 52,
   "metadata": {},
   "outputs": [
    {
     "name": "stdout",
     "output_type": "stream",
     "text": [
      "Fitting 3 folds for each of 6 candidates, totalling 18 fits\n",
      "[CV 1/3] END ..................max_depth=4, n_estimators=200; total time=  34.3s\n",
      "[CV 2/3] END ..................max_depth=4, n_estimators=200; total time=  51.0s\n",
      "[CV 3/3] END ..................max_depth=4, n_estimators=200; total time= 5.1min\n",
      "[CV 1/3] END ..................max_depth=4, n_estimators=400; total time= 2.8min\n",
      "[CV 2/3] END ..................max_depth=4, n_estimators=400; total time= 1.2min\n",
      "[CV 3/3] END ..................max_depth=4, n_estimators=400; total time=  59.9s\n",
      "[CV 1/3] END .................max_depth=10, n_estimators=200; total time= 2.6min\n",
      "[CV 2/3] END .................max_depth=10, n_estimators=200; total time= 2.5min\n",
      "[CV 3/3] END .................max_depth=10, n_estimators=200; total time= 2.6min\n",
      "[CV 1/3] END .................max_depth=10, n_estimators=400; total time= 5.5min\n",
      "[CV 2/3] END .................max_depth=10, n_estimators=400; total time= 4.1min\n",
      "[CV 3/3] END .................max_depth=10, n_estimators=400; total time=   7.3s\n",
      "[CV 1/3] END .................max_depth=20, n_estimators=200; total time=   8.5s\n",
      "[CV 2/3] END .................max_depth=20, n_estimators=200; total time=   5.2s\n",
      "[CV 3/3] END .................max_depth=20, n_estimators=200; total time=   5.1s\n",
      "[CV 1/3] END .................max_depth=20, n_estimators=400; total time=  13.7s\n",
      "[CV 2/3] END .................max_depth=20, n_estimators=400; total time=  10.6s\n",
      "[CV 3/3] END .................max_depth=20, n_estimators=400; total time=  10.6s\n",
      "model params:  {'max_depth': 4, 'n_estimators': 400}\n",
      "LGBMClassifier roc_auc: 0.889\n",
      "CPU times: user 29min 19s, sys: 14.5 s, total: 29min 33s\n",
      "Wall time: 29min 48s\n"
     ]
    }
   ],
   "source": [
    "%%time\n",
    "params = {\n",
    "     'n_estimators': [200, 400],\n",
    "     'max_depth': [4, 10, 20]\n",
    "}\n",
    "\n",
    "grid = GridSearchCV(LGBMClassifier(random_state=42, \n",
    "                                   objective='binary',\n",
    "                                   class_weight='balanced', num_leaves=100),\n",
    "                    param_grid=params, verbose=3, \n",
    "                    cv=3, n_jobs=-1, scoring='roc_auc') \n",
    "grid.fit(X_train, y_train)\n",
    "\n",
    "\n",
    "print('model params: ', grid.best_params_)\n",
    "print(f\"LGBMClassifier roc_auc: {grid.best_score_:.3f}\")"
   ]
  },
  {
   "cell_type": "code",
   "execution_count": 53,
   "metadata": {},
   "outputs": [
    {
     "name": "stdout",
     "output_type": "stream",
     "text": [
      "LGBMClassifier roc_auc: 0.911\n",
      "LGBMClassifier accuracy: 0.838\n"
     ]
    }
   ],
   "source": [
    "model = LGBMClassifier(**grid.best_params_, random_state = 42)\n",
    "model.fit(X_train, y_train)\n",
    "\n",
    "pred = model.predict_proba(X_test)[:, 1]\n",
    "roc_auc = roc_auc_score(y_test, pred)\n",
    "print(f\"LGBMClassifier roc_auc: {roc_auc:.3f}\")\n",
    "accuracy = accuracy_score(y_test, grid.best_estimator_.predict(X_test))\n",
    "print(f\"LGBMClassifier accuracy: {accuracy:.3f}\")"
   ]
  },
  {
   "cell_type": "code",
   "execution_count": 54,
   "metadata": {},
   "outputs": [
    {
     "data": {
      "text/plain": [
       "<AxesSubplot:title={'center':'Feature importance'}, xlabel='Feature importance', ylabel='Features'>"
      ]
     },
     "execution_count": 54,
     "metadata": {},
     "output_type": "execute_result"
    },
    {
     "data": {
      "image/png": "[encoded data removed]",
      "text/plain": [
       "<Figure size 432x288 with 1 Axes>"
      ]
     },
     "metadata": {
      "needs_background": "light"
     },
     "output_type": "display_data"
    }
   ],
   "source": [
    "lightgbm.plot_importance(grid.best_estimator_)"
   ]
  },
  {
   "cell_type": "markdown",
   "metadata": {},
   "source": [
    "Отметим, что наибольшую значимость для нашей  модели имеют количественные признаки (оплата и продолжительность услуги)."
   ]
  },
  {
   "cell_type": "code",
   "execution_count": 55,
   "metadata": {
    "scrolled": true
   },
   "outputs": [
    {
     "data": {
      "image/png": "[encoded data removed]",
      "text/plain": [
       "<Figure size 432x288 with 1 Axes>"
      ]
     },
     "metadata": {
      "needs_background": "light"
     },
     "output_type": "display_data"
    }
   ],
   "source": [
    "def make_roc_curve(target, probabilities_one):\n",
    "    fpr, tpr, thresholds = roc_curve(target, probabilities_one)\n",
    "\n",
    "    plt.figure()\n",
    "    plt.plot(fpr, tpr)\n",
    "    plt.plot([0, 1], [0, 1], linestyle='--')\n",
    "    plt.xlim([0.0, 1.0])\n",
    "    plt.ylim([0.0, 1.0])\n",
    "    plt.xlabel('False Positive Rate')\n",
    "    plt.ylabel('True Positive Rate')\n",
    "    plt.title('ROC-кривая')\n",
    "    plt.show()\n",
    "    \n",
    "make_roc_curve(y_test, pred)"
   ]
  },
  {
   "cell_type": "code",
   "execution_count": 56,
   "metadata": {},
   "outputs": [
    {
     "data": {
      "text/html": [
       "<div>\n",
       "<style scoped>\n",
       "    .dataframe tbody tr th:only-of-type {\n",
       "        vertical-align: middle;\n",
       "    }\n",
       "\n",
       "    .dataframe tbody tr th {\n",
       "        vertical-align: top;\n",
       "    }\n",
       "\n",
       "    .dataframe thead th {\n",
       "        text-align: right;\n",
       "    }\n",
       "</style>\n",
       "<table border=\"1\" class=\"dataframe\">\n",
       "  <thead>\n",
       "    <tr style=\"text-align: right;\">\n",
       "      <th></th>\n",
       "      <th>Decision Tree</th>\n",
       "      <th>Random Forest</th>\n",
       "      <th>Logistic Regression</th>\n",
       "      <th>LGBMClassifier</th>\n",
       "    </tr>\n",
       "  </thead>\n",
       "  <tbody>\n",
       "    <tr>\n",
       "      <th>accuracy</th>\n",
       "      <td>0.762230</td>\n",
       "      <td>0.808874</td>\n",
       "      <td>0.810011</td>\n",
       "      <td>0.838453</td>\n",
       "    </tr>\n",
       "    <tr>\n",
       "      <th>roc_auc</th>\n",
       "      <td>0.694429</td>\n",
       "      <td>0.840645</td>\n",
       "      <td>0.840516</td>\n",
       "      <td>0.911108</td>\n",
       "    </tr>\n",
       "  </tbody>\n",
       "</table>\n",
       "</div>"
      ],
      "text/plain": [
       "          Decision Tree  Random Forest  Logistic Regression  LGBMClassifier\n",
       "accuracy       0.762230       0.808874             0.810011        0.838453\n",
       "roc_auc        0.694429       0.840645             0.840516        0.911108"
      ]
     },
     "execution_count": 56,
     "metadata": {},
     "output_type": "execute_result"
    }
   ],
   "source": [
    "simple_models['LGBMClassifier'] = [accuracy, roc_auc]\n",
    "simple_models"
   ]
  },
  {
   "cell_type": "markdown",
   "metadata": {},
   "source": [
    "Модель LGBMClassifier показала результат roc_auc: 0.91, что полностью удовлетворяет поставленным задачам."
   ]
  },
  {
   "cell_type": "markdown",
   "metadata": {},
   "source": [
    "## Вывод"
   ]
  },
  {
   "cell_type": "markdown",
   "metadata": {},
   "source": [
    "Провдена предобработка данных, с заполнением пропущенных значений и удалением неполных наблюдений. В результате исследовательского анализа выявлено, что:\n",
    "- с увеличением помесячных платежей кол-во ушедших клиентов увеличивается\n",
    "- в первые месяцы кол-во ушедших клиентов велико, однако со временем их кол-во уменьшается.\n",
    "- большая доля ушедших среди пользователелей пользующиеся безналичнам расчетом \n",
    "\n",
    "Вышеперечисленные факторы имели решающее значение, что подтверждено показателями влияния признаков на лучшую из расмотренных моделей.\n",
    "\n",
    "Обучив 4 различных моделей, лучшие показатели метрики показала модель LGBMClassifier с показателями:\n",
    "- roc_auc: 0.91\n",
    "- accuracy: 0.83\n",
    "\n",
    "Рекомдуем использовать LGBMClassifier для решения задачи предсказания оттока клиентов компании."
   ]
  },
  {
   "cell_type": "markdown",
   "metadata": {},
   "source": [
    "# Отчет"
   ]
  },
  {
   "cell_type": "markdown",
   "metadata": {},
   "source": [
    "Проект выполнялся в соответствии с намеченным планом, все пункты которого удалось выполнить. \n",
    "\n",
    "Основная трудность состояла в достижении приемлемых в соответствии с целью показателей метрики roc - auc (от 0.85), чего не удавалось достичь ни с одной из расмотренных моделей и долгим подбором оптимальных параметров. Решена проблема была путем добавления одного из ключевого признака для модели - продожительность пользования услуг клиентом.\n",
    "\n",
    "Ключевыми шагами можно выделить анализ целевого признака и влияние на него других. Этот этап позволил осознать важность и завести признак продолжительности пользования услугами компании. Сначало это было посчитано в месяцах, что не оказало значительного эффекта, однако пересчет его в дни позволило добиться поставленной цели.\n",
    "\n",
    "Лучшие показатели метрики показала модель с применением градиентного бустинга LGBMClassifier при параметрах:\n",
    "'max_depth': 4, 'n_estimators': 400, objective='binary', class_weight='balanced', num_leaves=100.\n",
    "\n",
    "Показатели метрики:\n",
    "- roc_auc: 0.91\n",
    "- accuracy: 0.83\n"
   ]
  },
  {
   "cell_type": "code",
   "execution_count": null,
   "metadata": {},
   "outputs": [],
   "source": []
  }
 ],
 "metadata": {
  "ExecuteTimeLog": [
   {
    "duration": 80,
    "start_time": "2022-07-11T12:13:44.913Z"
   },
   {
    "duration": 1634,
    "start_time": "2022-07-11T12:14:55.331Z"
   },
   {
    "duration": 698,
    "start_time": "2022-07-11T12:19:49.838Z"
   },
   {
    "duration": 19,
    "start_time": "2022-07-11T12:19:56.966Z"
   },
   {
    "duration": 3,
    "start_time": "2022-07-11T12:39:33.981Z"
   },
   {
    "duration": 18,
    "start_time": "2022-07-11T12:39:45.681Z"
   },
   {
    "duration": 39,
    "start_time": "2022-07-11T12:40:01.906Z"
   },
   {
    "duration": 50,
    "start_time": "2022-07-11T12:43:13.953Z"
   },
   {
    "duration": 76,
    "start_time": "2022-07-11T12:43:22.323Z"
   },
   {
    "duration": 113,
    "start_time": "2022-07-11T12:44:26.885Z"
   },
   {
    "duration": 133,
    "start_time": "2022-07-11T12:44:50.256Z"
   },
   {
    "duration": 137,
    "start_time": "2022-07-11T12:54:54.696Z"
   },
   {
    "duration": 160,
    "start_time": "2022-07-11T12:55:25.600Z"
   },
   {
    "duration": 151,
    "start_time": "2022-07-11T12:55:43.832Z"
   },
   {
    "duration": 137,
    "start_time": "2022-07-11T12:57:21.662Z"
   },
   {
    "duration": 172,
    "start_time": "2022-07-11T13:00:03.900Z"
   },
   {
    "duration": 41,
    "start_time": "2022-07-12T07:46:45.495Z"
   },
   {
    "duration": 1618,
    "start_time": "2022-07-12T07:46:53.324Z"
   },
   {
    "duration": 683,
    "start_time": "2022-07-12T07:46:54.944Z"
   },
   {
    "duration": 140,
    "start_time": "2022-07-12T07:46:55.629Z"
   },
   {
    "duration": 12,
    "start_time": "2022-07-12T07:46:55.770Z"
   },
   {
    "duration": 10,
    "start_time": "2022-07-12T07:47:06.100Z"
   },
   {
    "duration": 753,
    "start_time": "2022-07-12T07:47:18.831Z"
   },
   {
    "duration": 389,
    "start_time": "2022-07-12T07:48:02.679Z"
   },
   {
    "duration": 5,
    "start_time": "2022-07-12T07:48:34.080Z"
   },
   {
    "duration": 1353,
    "start_time": "2022-07-12T07:52:41.522Z"
   },
   {
    "duration": 7,
    "start_time": "2022-07-12T07:52:58.178Z"
   },
   {
    "duration": 6,
    "start_time": "2022-07-12T07:54:22.070Z"
   },
   {
    "duration": 7,
    "start_time": "2022-07-12T07:55:00.566Z"
   },
   {
    "duration": 12,
    "start_time": "2022-07-12T07:55:28.208Z"
   },
   {
    "duration": 7,
    "start_time": "2022-07-12T07:57:23.542Z"
   },
   {
    "duration": 18,
    "start_time": "2022-07-12T07:57:39.396Z"
   },
   {
    "duration": 8,
    "start_time": "2022-07-12T08:55:57.938Z"
   },
   {
    "duration": 9,
    "start_time": "2022-07-12T08:56:05.105Z"
   },
   {
    "duration": 12,
    "start_time": "2022-07-12T08:59:52.770Z"
   },
   {
    "duration": 5,
    "start_time": "2022-07-12T09:00:37.237Z"
   },
   {
    "duration": 1596,
    "start_time": "2022-07-13T07:23:18.802Z"
   },
   {
    "duration": 423,
    "start_time": "2022-07-13T07:23:20.400Z"
   },
   {
    "duration": 153,
    "start_time": "2022-07-13T07:23:20.825Z"
   },
   {
    "duration": 25,
    "start_time": "2022-07-13T07:23:20.979Z"
   },
   {
    "duration": 3,
    "start_time": "2022-07-13T07:23:21.006Z"
   },
   {
    "duration": 9,
    "start_time": "2022-07-13T07:23:21.010Z"
   },
   {
    "duration": 1449,
    "start_time": "2022-07-13T07:23:21.021Z"
   },
   {
    "duration": 0,
    "start_time": "2022-07-13T07:23:22.472Z"
   },
   {
    "duration": 0,
    "start_time": "2022-07-13T07:23:22.473Z"
   },
   {
    "duration": 0,
    "start_time": "2022-07-13T07:23:22.474Z"
   },
   {
    "duration": 7,
    "start_time": "2022-07-13T07:41:45.579Z"
   },
   {
    "duration": 21,
    "start_time": "2022-07-13T07:41:55.005Z"
   },
   {
    "duration": 15,
    "start_time": "2022-07-13T07:42:19.783Z"
   },
   {
    "duration": 20,
    "start_time": "2022-07-13T07:44:19.634Z"
   },
   {
    "duration": 23,
    "start_time": "2022-07-13T07:45:32.518Z"
   },
   {
    "duration": 17,
    "start_time": "2022-07-13T08:03:45.531Z"
   },
   {
    "duration": 9,
    "start_time": "2022-07-13T08:04:38.430Z"
   },
   {
    "duration": 13,
    "start_time": "2022-07-13T08:04:41.218Z"
   },
   {
    "duration": 1729,
    "start_time": "2022-07-13T08:05:06.130Z"
   },
   {
    "duration": 127,
    "start_time": "2022-07-13T08:05:07.861Z"
   },
   {
    "duration": 238,
    "start_time": "2022-07-13T08:05:07.990Z"
   },
   {
    "duration": 9,
    "start_time": "2022-07-13T08:05:08.230Z"
   },
   {
    "duration": 25,
    "start_time": "2022-07-13T08:05:08.241Z"
   },
   {
    "duration": 23,
    "start_time": "2022-07-13T08:05:08.268Z"
   },
   {
    "duration": 22,
    "start_time": "2022-07-13T08:05:08.293Z"
   },
   {
    "duration": 38,
    "start_time": "2022-07-13T08:05:08.318Z"
   },
   {
    "duration": 29,
    "start_time": "2022-07-13T08:05:08.357Z"
   },
   {
    "duration": 6,
    "start_time": "2022-07-13T08:50:42.706Z"
   },
   {
    "duration": 5,
    "start_time": "2022-07-13T08:50:57.195Z"
   },
   {
    "duration": 1496,
    "start_time": "2022-07-13T08:54:30.517Z"
   },
   {
    "duration": 1597,
    "start_time": "2022-07-13T08:55:50.856Z"
   },
   {
    "duration": 23,
    "start_time": "2022-07-13T08:56:26.490Z"
   },
   {
    "duration": 4,
    "start_time": "2022-07-13T08:56:59.002Z"
   },
   {
    "duration": 1567,
    "start_time": "2022-07-13T08:57:06.304Z"
   },
   {
    "duration": 114,
    "start_time": "2022-07-13T08:57:07.874Z"
   },
   {
    "duration": 173,
    "start_time": "2022-07-13T08:57:07.990Z"
   },
   {
    "duration": 7,
    "start_time": "2022-07-13T08:57:08.165Z"
   },
   {
    "duration": 34,
    "start_time": "2022-07-13T08:57:08.174Z"
   },
   {
    "duration": 23,
    "start_time": "2022-07-13T08:57:08.210Z"
   },
   {
    "duration": 12,
    "start_time": "2022-07-13T08:57:08.234Z"
   },
   {
    "duration": 6,
    "start_time": "2022-07-13T08:57:08.248Z"
   },
   {
    "duration": 49,
    "start_time": "2022-07-13T08:57:08.256Z"
   },
   {
    "duration": 7,
    "start_time": "2022-07-13T08:57:08.306Z"
   },
   {
    "duration": 12,
    "start_time": "2022-07-13T08:58:10.672Z"
   },
   {
    "duration": 7,
    "start_time": "2022-07-13T09:08:26.385Z"
   },
   {
    "duration": 6,
    "start_time": "2022-07-13T09:08:57.274Z"
   },
   {
    "duration": 14,
    "start_time": "2022-07-13T09:09:10.619Z"
   },
   {
    "duration": 19,
    "start_time": "2022-07-13T09:09:17.179Z"
   },
   {
    "duration": 1407,
    "start_time": "2022-07-13T09:09:27.852Z"
   },
   {
    "duration": 107,
    "start_time": "2022-07-13T09:09:29.261Z"
   },
   {
    "duration": 162,
    "start_time": "2022-07-13T09:09:29.370Z"
   },
   {
    "duration": 6,
    "start_time": "2022-07-13T09:09:29.533Z"
   },
   {
    "duration": 17,
    "start_time": "2022-07-13T09:09:29.541Z"
   },
   {
    "duration": 46,
    "start_time": "2022-07-13T09:09:29.559Z"
   },
   {
    "duration": 13,
    "start_time": "2022-07-13T09:09:29.607Z"
   },
   {
    "duration": 5,
    "start_time": "2022-07-13T09:09:29.622Z"
   },
   {
    "duration": 21,
    "start_time": "2022-07-13T09:09:29.628Z"
   },
   {
    "duration": 7,
    "start_time": "2022-07-13T09:09:29.651Z"
   },
   {
    "duration": 6,
    "start_time": "2022-07-13T09:09:29.660Z"
   },
   {
    "duration": 53,
    "start_time": "2022-07-13T09:09:29.668Z"
   },
   {
    "duration": 21,
    "start_time": "2022-07-13T09:27:03.693Z"
   },
   {
    "duration": 130,
    "start_time": "2022-07-13T09:30:20.214Z"
   },
   {
    "duration": 10,
    "start_time": "2022-07-13T09:30:57.591Z"
   },
   {
    "duration": 10,
    "start_time": "2022-07-13T09:31:16.207Z"
   },
   {
    "duration": 10,
    "start_time": "2022-07-13T09:31:20.607Z"
   },
   {
    "duration": 9,
    "start_time": "2022-07-13T09:32:10.386Z"
   },
   {
    "duration": 12,
    "start_time": "2022-07-13T09:32:23.161Z"
   },
   {
    "duration": 13,
    "start_time": "2022-07-13T09:34:18.342Z"
   },
   {
    "duration": 13,
    "start_time": "2022-07-13T09:34:19.535Z"
   },
   {
    "duration": 31,
    "start_time": "2022-07-13T09:34:26.735Z"
   },
   {
    "duration": 10,
    "start_time": "2022-07-13T09:38:49.338Z"
   },
   {
    "duration": 22,
    "start_time": "2022-07-13T09:40:45.953Z"
   },
   {
    "duration": 23,
    "start_time": "2022-07-13T09:42:26.453Z"
   },
   {
    "duration": 12,
    "start_time": "2022-07-13T09:42:41.054Z"
   },
   {
    "duration": 10,
    "start_time": "2022-07-13T09:42:45.454Z"
   },
   {
    "duration": 11,
    "start_time": "2022-07-13T09:42:50.404Z"
   },
   {
    "duration": 11,
    "start_time": "2022-07-13T09:43:46.430Z"
   },
   {
    "duration": 12,
    "start_time": "2022-07-13T09:47:46.177Z"
   },
   {
    "duration": 19,
    "start_time": "2022-07-13T09:48:21.810Z"
   },
   {
    "duration": 13,
    "start_time": "2022-07-13T09:48:26.985Z"
   },
   {
    "duration": 22,
    "start_time": "2022-07-13T09:48:40.787Z"
   },
   {
    "duration": 16,
    "start_time": "2022-07-13T09:50:57.681Z"
   },
   {
    "duration": 79,
    "start_time": "2022-07-13T09:51:04.697Z"
   },
   {
    "duration": 14,
    "start_time": "2022-07-13T09:51:07.668Z"
   },
   {
    "duration": 21,
    "start_time": "2022-07-13T09:51:10.961Z"
   },
   {
    "duration": 32,
    "start_time": "2022-07-13T09:51:26.713Z"
   },
   {
    "duration": 12,
    "start_time": "2022-07-13T09:51:48.491Z"
   },
   {
    "duration": 5,
    "start_time": "2022-07-13T09:57:22.564Z"
   },
   {
    "duration": 37,
    "start_time": "2022-07-13T09:57:26.666Z"
   },
   {
    "duration": 9,
    "start_time": "2022-07-13T09:58:45.635Z"
   },
   {
    "duration": 23,
    "start_time": "2022-07-13T09:58:47.907Z"
   },
   {
    "duration": 8,
    "start_time": "2022-07-13T10:00:27.570Z"
   },
   {
    "duration": 27,
    "start_time": "2022-07-13T10:00:29.865Z"
   },
   {
    "duration": 8,
    "start_time": "2022-07-13T10:03:27.904Z"
   },
   {
    "duration": 8,
    "start_time": "2022-07-13T10:03:43.584Z"
   },
   {
    "duration": 10,
    "start_time": "2022-07-13T10:03:46.760Z"
   },
   {
    "duration": 23,
    "start_time": "2022-07-13T10:03:49.958Z"
   },
   {
    "duration": 9,
    "start_time": "2022-07-13T10:04:28.994Z"
   },
   {
    "duration": 24,
    "start_time": "2022-07-13T10:04:30.410Z"
   },
   {
    "duration": 10,
    "start_time": "2022-07-13T10:06:17.959Z"
   },
   {
    "duration": 22,
    "start_time": "2022-07-13T10:06:18.567Z"
   },
   {
    "duration": 8,
    "start_time": "2022-07-13T10:12:06.565Z"
   },
   {
    "duration": 27,
    "start_time": "2022-07-13T10:12:08.925Z"
   },
   {
    "duration": 8,
    "start_time": "2022-07-13T10:12:51.526Z"
   },
   {
    "duration": 25,
    "start_time": "2022-07-13T10:12:52.054Z"
   },
   {
    "duration": 8,
    "start_time": "2022-07-13T10:15:44.038Z"
   },
   {
    "duration": 24,
    "start_time": "2022-07-13T10:15:44.536Z"
   },
   {
    "duration": 8,
    "start_time": "2022-07-13T10:16:03.375Z"
   },
   {
    "duration": 22,
    "start_time": "2022-07-13T10:16:04.103Z"
   },
   {
    "duration": 1546,
    "start_time": "2022-07-13T10:17:04.015Z"
   },
   {
    "duration": 106,
    "start_time": "2022-07-13T10:17:05.563Z"
   },
   {
    "duration": 167,
    "start_time": "2022-07-13T10:17:05.670Z"
   },
   {
    "duration": 7,
    "start_time": "2022-07-13T10:17:05.839Z"
   },
   {
    "duration": 30,
    "start_time": "2022-07-13T10:17:05.848Z"
   },
   {
    "duration": 41,
    "start_time": "2022-07-13T10:17:05.880Z"
   },
   {
    "duration": 13,
    "start_time": "2022-07-13T10:17:05.922Z"
   },
   {
    "duration": 9,
    "start_time": "2022-07-13T10:17:05.936Z"
   },
   {
    "duration": 23,
    "start_time": "2022-07-13T10:17:05.947Z"
   },
   {
    "duration": 16,
    "start_time": "2022-07-13T10:17:05.971Z"
   },
   {
    "duration": 21,
    "start_time": "2022-07-13T10:17:05.989Z"
   },
   {
    "duration": 23,
    "start_time": "2022-07-13T10:17:06.012Z"
   },
   {
    "duration": 899,
    "start_time": "2022-07-13T10:17:06.036Z"
   },
   {
    "duration": 0,
    "start_time": "2022-07-13T10:17:06.936Z"
   },
   {
    "duration": 0,
    "start_time": "2022-07-13T10:17:06.938Z"
   },
   {
    "duration": 9,
    "start_time": "2022-07-13T10:17:30.787Z"
   },
   {
    "duration": 10,
    "start_time": "2022-07-13T10:17:37.699Z"
   },
   {
    "duration": 23,
    "start_time": "2022-07-13T10:17:38.394Z"
   },
   {
    "duration": 8,
    "start_time": "2022-07-13T10:18:19.405Z"
   },
   {
    "duration": 22,
    "start_time": "2022-07-13T10:18:20.064Z"
   },
   {
    "duration": 7,
    "start_time": "2022-07-13T10:19:06.022Z"
   },
   {
    "duration": 1479,
    "start_time": "2022-07-13T10:20:27.899Z"
   },
   {
    "duration": 109,
    "start_time": "2022-07-13T10:20:29.381Z"
   },
   {
    "duration": 165,
    "start_time": "2022-07-13T10:20:29.492Z"
   },
   {
    "duration": 6,
    "start_time": "2022-07-13T10:20:29.659Z"
   },
   {
    "duration": 39,
    "start_time": "2022-07-13T10:20:29.668Z"
   },
   {
    "duration": 35,
    "start_time": "2022-07-13T10:20:29.709Z"
   },
   {
    "duration": 13,
    "start_time": "2022-07-13T10:20:29.745Z"
   },
   {
    "duration": 8,
    "start_time": "2022-07-13T10:20:29.760Z"
   },
   {
    "duration": 25,
    "start_time": "2022-07-13T10:20:29.769Z"
   },
   {
    "duration": 14,
    "start_time": "2022-07-13T10:20:29.796Z"
   },
   {
    "duration": 72,
    "start_time": "2022-07-13T10:20:29.812Z"
   },
   {
    "duration": 57,
    "start_time": "2022-07-13T10:20:29.886Z"
   },
   {
    "duration": 33,
    "start_time": "2022-07-13T10:20:29.945Z"
   },
   {
    "duration": 24,
    "start_time": "2022-07-13T10:20:29.981Z"
   },
   {
    "duration": 21,
    "start_time": "2022-07-13T10:20:30.007Z"
   },
   {
    "duration": 33,
    "start_time": "2022-07-13T10:20:30.030Z"
   },
   {
    "duration": 7,
    "start_time": "2022-07-13T10:21:39.888Z"
   },
   {
    "duration": 22,
    "start_time": "2022-07-13T10:27:57.180Z"
   },
   {
    "duration": 16,
    "start_time": "2022-07-13T10:28:13.371Z"
   },
   {
    "duration": 1469,
    "start_time": "2022-07-13T11:28:24.044Z"
   },
   {
    "duration": 135,
    "start_time": "2022-07-13T11:28:25.515Z"
   },
   {
    "duration": 194,
    "start_time": "2022-07-13T11:28:25.651Z"
   },
   {
    "duration": 7,
    "start_time": "2022-07-13T11:28:25.847Z"
   },
   {
    "duration": 21,
    "start_time": "2022-07-13T11:28:25.857Z"
   },
   {
    "duration": 30,
    "start_time": "2022-07-13T11:28:25.905Z"
   },
   {
    "duration": 14,
    "start_time": "2022-07-13T11:28:25.937Z"
   },
   {
    "duration": 10,
    "start_time": "2022-07-13T11:28:25.953Z"
   },
   {
    "duration": 9,
    "start_time": "2022-07-13T11:28:25.965Z"
   },
   {
    "duration": 6,
    "start_time": "2022-07-13T11:28:26.003Z"
   },
   {
    "duration": 24,
    "start_time": "2022-07-13T11:28:26.011Z"
   },
   {
    "duration": 24,
    "start_time": "2022-07-13T11:28:26.037Z"
   },
   {
    "duration": 9,
    "start_time": "2022-07-13T11:28:26.062Z"
   },
   {
    "duration": 33,
    "start_time": "2022-07-13T11:28:26.074Z"
   },
   {
    "duration": 27,
    "start_time": "2022-07-13T11:28:26.109Z"
   },
   {
    "duration": 8,
    "start_time": "2022-07-13T11:28:26.138Z"
   },
   {
    "duration": 10,
    "start_time": "2022-07-13T11:28:26.148Z"
   },
   {
    "duration": 54,
    "start_time": "2022-07-13T11:28:26.160Z"
   },
   {
    "duration": 1553,
    "start_time": "2022-07-13T11:28:43.384Z"
   },
   {
    "duration": 148,
    "start_time": "2022-07-13T11:28:44.939Z"
   },
   {
    "duration": 167,
    "start_time": "2022-07-13T11:28:45.089Z"
   },
   {
    "duration": 6,
    "start_time": "2022-07-13T11:28:45.258Z"
   },
   {
    "duration": 18,
    "start_time": "2022-07-13T11:28:45.266Z"
   },
   {
    "duration": 22,
    "start_time": "2022-07-13T11:28:45.305Z"
   },
   {
    "duration": 15,
    "start_time": "2022-07-13T11:28:45.329Z"
   },
   {
    "duration": 24,
    "start_time": "2022-07-13T11:28:45.346Z"
   },
   {
    "duration": 7,
    "start_time": "2022-07-13T11:28:45.372Z"
   },
   {
    "duration": 24,
    "start_time": "2022-07-13T11:28:45.383Z"
   },
   {
    "duration": 36,
    "start_time": "2022-07-13T11:28:45.411Z"
   },
   {
    "duration": 20,
    "start_time": "2022-07-13T11:28:45.449Z"
   },
   {
    "duration": 7,
    "start_time": "2022-07-13T11:28:45.471Z"
   },
   {
    "duration": 13,
    "start_time": "2022-07-13T11:28:45.480Z"
   },
   {
    "duration": 38,
    "start_time": "2022-07-13T11:28:45.495Z"
   },
   {
    "duration": 7,
    "start_time": "2022-07-13T11:28:45.535Z"
   },
   {
    "duration": 10,
    "start_time": "2022-07-13T11:28:45.544Z"
   },
   {
    "duration": 48,
    "start_time": "2022-07-13T11:28:45.556Z"
   },
   {
    "duration": 1615,
    "start_time": "2022-07-13T11:29:35.291Z"
   },
   {
    "duration": 157,
    "start_time": "2022-07-13T11:29:36.909Z"
   },
   {
    "duration": 184,
    "start_time": "2022-07-13T11:29:37.068Z"
   },
   {
    "duration": 8,
    "start_time": "2022-07-13T11:29:37.254Z"
   },
   {
    "duration": 46,
    "start_time": "2022-07-13T11:29:37.266Z"
   },
   {
    "duration": 27,
    "start_time": "2022-07-13T11:29:37.315Z"
   },
   {
    "duration": 14,
    "start_time": "2022-07-13T11:29:37.344Z"
   },
   {
    "duration": 6,
    "start_time": "2022-07-13T11:29:37.359Z"
   },
   {
    "duration": 38,
    "start_time": "2022-07-13T11:29:37.367Z"
   },
   {
    "duration": 6,
    "start_time": "2022-07-13T11:29:37.407Z"
   },
   {
    "duration": 26,
    "start_time": "2022-07-13T11:29:37.414Z"
   },
   {
    "duration": 24,
    "start_time": "2022-07-13T11:29:37.441Z"
   },
   {
    "duration": 12,
    "start_time": "2022-07-13T11:29:37.466Z"
   },
   {
    "duration": 28,
    "start_time": "2022-07-13T11:29:37.481Z"
   },
   {
    "duration": 21,
    "start_time": "2022-07-13T11:29:37.511Z"
   },
   {
    "duration": 6,
    "start_time": "2022-07-13T11:29:37.533Z"
   },
   {
    "duration": 10,
    "start_time": "2022-07-13T11:29:37.540Z"
   },
   {
    "duration": 23,
    "start_time": "2022-07-13T11:29:37.551Z"
   },
   {
    "duration": 13,
    "start_time": "2022-07-13T11:30:44.850Z"
   },
   {
    "duration": 19,
    "start_time": "2022-07-13T11:32:55.599Z"
   },
   {
    "duration": 14,
    "start_time": "2022-07-13T11:39:02.865Z"
   },
   {
    "duration": 26,
    "start_time": "2022-07-13T11:39:30.918Z"
   },
   {
    "duration": 31,
    "start_time": "2022-07-13T11:40:00.014Z"
   },
   {
    "duration": 12,
    "start_time": "2022-07-13T11:40:11.862Z"
   },
   {
    "duration": 121,
    "start_time": "2022-07-13T11:40:52.676Z"
   },
   {
    "duration": 6,
    "start_time": "2022-07-13T11:40:55.977Z"
   },
   {
    "duration": 7,
    "start_time": "2022-07-13T11:41:02.963Z"
   },
   {
    "duration": 8,
    "start_time": "2022-07-13T11:41:10.874Z"
   },
   {
    "duration": 9,
    "start_time": "2022-07-13T11:41:16.571Z"
   },
   {
    "duration": 1419,
    "start_time": "2022-07-13T11:44:10.297Z"
   },
   {
    "duration": 6,
    "start_time": "2022-07-13T11:44:25.080Z"
   },
   {
    "duration": 15,
    "start_time": "2022-07-13T11:44:40.801Z"
   },
   {
    "duration": 1597,
    "start_time": "2022-07-13T11:45:48.420Z"
   },
   {
    "duration": 160,
    "start_time": "2022-07-13T11:45:50.019Z"
   },
   {
    "duration": 187,
    "start_time": "2022-07-13T11:45:50.181Z"
   },
   {
    "duration": 6,
    "start_time": "2022-07-13T11:45:50.370Z"
   },
   {
    "duration": 38,
    "start_time": "2022-07-13T11:45:50.378Z"
   },
   {
    "duration": 19,
    "start_time": "2022-07-13T11:45:50.417Z"
   },
   {
    "duration": 13,
    "start_time": "2022-07-13T11:45:50.438Z"
   },
   {
    "duration": 5,
    "start_time": "2022-07-13T11:45:50.452Z"
   },
   {
    "duration": 14,
    "start_time": "2022-07-13T11:45:50.458Z"
   },
   {
    "duration": 6,
    "start_time": "2022-07-13T11:45:50.504Z"
   },
   {
    "duration": 33,
    "start_time": "2022-07-13T11:45:50.512Z"
   },
   {
    "duration": 20,
    "start_time": "2022-07-13T11:45:50.547Z"
   },
   {
    "duration": 8,
    "start_time": "2022-07-13T11:45:50.569Z"
   },
   {
    "duration": 29,
    "start_time": "2022-07-13T11:45:50.579Z"
   },
   {
    "duration": 23,
    "start_time": "2022-07-13T11:45:50.610Z"
   },
   {
    "duration": 5,
    "start_time": "2022-07-13T11:45:50.635Z"
   },
   {
    "duration": 9,
    "start_time": "2022-07-13T11:45:50.642Z"
   },
   {
    "duration": 40,
    "start_time": "2022-07-13T11:45:50.652Z"
   },
   {
    "duration": 22,
    "start_time": "2022-07-13T11:45:50.693Z"
   },
   {
    "duration": 18,
    "start_time": "2022-07-13T11:45:50.717Z"
   },
   {
    "duration": 22,
    "start_time": "2022-07-13T11:45:50.737Z"
   },
   {
    "duration": 16,
    "start_time": "2022-07-13T11:45:50.760Z"
   },
   {
    "duration": 16,
    "start_time": "2022-07-13T11:45:50.805Z"
   },
   {
    "duration": 32,
    "start_time": "2022-07-13T11:48:18.362Z"
   },
   {
    "duration": 5,
    "start_time": "2022-07-13T11:50:11.767Z"
   },
   {
    "duration": 125,
    "start_time": "2022-07-13T11:51:18.874Z"
   },
   {
    "duration": 23,
    "start_time": "2022-07-13T11:51:26.271Z"
   },
   {
    "duration": 19,
    "start_time": "2022-07-13T11:51:32.172Z"
   },
   {
    "duration": 14,
    "start_time": "2022-07-13T11:56:04.158Z"
   },
   {
    "duration": 1540,
    "start_time": "2022-07-13T11:57:19.366Z"
   },
   {
    "duration": 5,
    "start_time": "2022-07-13T11:58:01.170Z"
   },
   {
    "duration": 5,
    "start_time": "2022-07-13T11:58:05.799Z"
   },
   {
    "duration": 10,
    "start_time": "2022-07-13T11:58:51.081Z"
   },
   {
    "duration": 16,
    "start_time": "2022-07-13T11:58:57.654Z"
   },
   {
    "duration": 1504,
    "start_time": "2022-07-13T11:59:44.872Z"
   },
   {
    "duration": 566,
    "start_time": "2022-07-13T11:59:46.378Z"
   },
   {
    "duration": 180,
    "start_time": "2022-07-13T11:59:46.946Z"
   },
   {
    "duration": 8,
    "start_time": "2022-07-13T11:59:47.128Z"
   },
   {
    "duration": 24,
    "start_time": "2022-07-13T11:59:47.139Z"
   },
   {
    "duration": 40,
    "start_time": "2022-07-13T11:59:47.165Z"
   },
   {
    "duration": 13,
    "start_time": "2022-07-13T11:59:47.207Z"
   },
   {
    "duration": 6,
    "start_time": "2022-07-13T11:59:47.222Z"
   },
   {
    "duration": 14,
    "start_time": "2022-07-13T11:59:47.230Z"
   },
   {
    "duration": 18,
    "start_time": "2022-07-13T11:59:47.246Z"
   },
   {
    "duration": 37,
    "start_time": "2022-07-13T11:59:47.266Z"
   },
   {
    "duration": 21,
    "start_time": "2022-07-13T11:59:47.305Z"
   },
   {
    "duration": 8,
    "start_time": "2022-07-13T11:59:47.329Z"
   },
   {
    "duration": 8,
    "start_time": "2022-07-13T11:59:47.340Z"
   },
   {
    "duration": 24,
    "start_time": "2022-07-13T11:59:47.350Z"
   },
   {
    "duration": 35,
    "start_time": "2022-07-13T11:59:47.375Z"
   },
   {
    "duration": 9,
    "start_time": "2022-07-13T11:59:47.412Z"
   },
   {
    "duration": 31,
    "start_time": "2022-07-13T11:59:47.423Z"
   },
   {
    "duration": 16,
    "start_time": "2022-07-13T11:59:47.458Z"
   },
   {
    "duration": 34,
    "start_time": "2022-07-13T11:59:47.476Z"
   },
   {
    "duration": 28,
    "start_time": "2022-07-13T11:59:47.511Z"
   },
   {
    "duration": 16,
    "start_time": "2022-07-13T11:59:47.541Z"
   },
   {
    "duration": 13,
    "start_time": "2022-07-13T11:59:47.559Z"
   },
   {
    "duration": 50,
    "start_time": "2022-07-13T11:59:47.574Z"
   },
   {
    "duration": 4,
    "start_time": "2022-07-13T11:59:47.626Z"
   },
   {
    "duration": 9,
    "start_time": "2022-07-13T11:59:47.631Z"
   },
   {
    "duration": 14,
    "start_time": "2022-07-13T11:59:47.642Z"
   },
   {
    "duration": 16,
    "start_time": "2022-07-13T11:59:47.658Z"
   },
   {
    "duration": 1537,
    "start_time": "2022-07-13T12:00:30.081Z"
   },
   {
    "duration": 280,
    "start_time": "2022-07-13T12:00:31.621Z"
   },
   {
    "duration": 208,
    "start_time": "2022-07-13T12:00:31.903Z"
   },
   {
    "duration": 6,
    "start_time": "2022-07-13T12:00:32.114Z"
   },
   {
    "duration": 40,
    "start_time": "2022-07-13T12:00:32.122Z"
   },
   {
    "duration": 28,
    "start_time": "2022-07-13T12:00:32.164Z"
   },
   {
    "duration": 13,
    "start_time": "2022-07-13T12:00:32.194Z"
   },
   {
    "duration": 10,
    "start_time": "2022-07-13T12:00:32.209Z"
   },
   {
    "duration": 9,
    "start_time": "2022-07-13T12:00:32.221Z"
   },
   {
    "duration": 8,
    "start_time": "2022-07-13T12:00:32.231Z"
   },
   {
    "duration": 22,
    "start_time": "2022-07-13T12:00:32.241Z"
   },
   {
    "duration": 48,
    "start_time": "2022-07-13T12:00:32.265Z"
   },
   {
    "duration": 9,
    "start_time": "2022-07-13T12:00:32.315Z"
   },
   {
    "duration": 8,
    "start_time": "2022-07-13T12:00:32.328Z"
   },
   {
    "duration": 21,
    "start_time": "2022-07-13T12:00:32.338Z"
   },
   {
    "duration": 7,
    "start_time": "2022-07-13T12:00:32.361Z"
   },
   {
    "duration": 36,
    "start_time": "2022-07-13T12:00:32.369Z"
   },
   {
    "duration": 21,
    "start_time": "2022-07-13T12:00:32.407Z"
   },
   {
    "duration": 13,
    "start_time": "2022-07-13T12:00:32.429Z"
   },
   {
    "duration": 15,
    "start_time": "2022-07-13T12:00:32.444Z"
   },
   {
    "duration": 50,
    "start_time": "2022-07-13T12:00:32.461Z"
   },
   {
    "duration": 20,
    "start_time": "2022-07-13T12:00:32.513Z"
   },
   {
    "duration": 25,
    "start_time": "2022-07-13T12:00:32.535Z"
   },
   {
    "duration": 46,
    "start_time": "2022-07-13T12:00:32.562Z"
   },
   {
    "duration": 4,
    "start_time": "2022-07-13T12:00:32.610Z"
   },
   {
    "duration": 16,
    "start_time": "2022-07-13T12:00:32.616Z"
   },
   {
    "duration": 15,
    "start_time": "2022-07-13T12:00:32.633Z"
   },
   {
    "duration": 19,
    "start_time": "2022-07-13T12:00:32.650Z"
   },
   {
    "duration": 9,
    "start_time": "2022-07-13T12:14:23.519Z"
   },
   {
    "duration": 80,
    "start_time": "2022-07-13T12:15:11.965Z"
   },
   {
    "duration": 100,
    "start_time": "2022-07-13T12:15:21.273Z"
   },
   {
    "duration": 5,
    "start_time": "2022-07-13T12:16:53.900Z"
   },
   {
    "duration": 16,
    "start_time": "2022-07-13T12:17:08.172Z"
   },
   {
    "duration": 10,
    "start_time": "2022-07-13T12:17:25.669Z"
   },
   {
    "duration": 38,
    "start_time": "2022-07-13T12:17:46.066Z"
   },
   {
    "duration": 15,
    "start_time": "2022-07-13T12:18:04.692Z"
   },
   {
    "duration": 13,
    "start_time": "2022-07-13T12:18:07.504Z"
   },
   {
    "duration": 4,
    "start_time": "2022-07-13T12:18:12.177Z"
   },
   {
    "duration": 18,
    "start_time": "2022-07-13T12:18:12.885Z"
   },
   {
    "duration": 1588,
    "start_time": "2022-07-13T12:18:26.821Z"
   },
   {
    "duration": 197,
    "start_time": "2022-07-13T12:18:28.411Z"
   },
   {
    "duration": 204,
    "start_time": "2022-07-13T12:18:28.611Z"
   },
   {
    "duration": 7,
    "start_time": "2022-07-13T12:18:28.817Z"
   },
   {
    "duration": 25,
    "start_time": "2022-07-13T12:18:28.826Z"
   },
   {
    "duration": 53,
    "start_time": "2022-07-13T12:18:28.854Z"
   },
   {
    "duration": 20,
    "start_time": "2022-07-13T12:18:28.910Z"
   },
   {
    "duration": 13,
    "start_time": "2022-07-13T12:18:28.932Z"
   },
   {
    "duration": 10,
    "start_time": "2022-07-13T12:18:28.949Z"
   },
   {
    "duration": 11,
    "start_time": "2022-07-13T12:18:28.961Z"
   },
   {
    "duration": 45,
    "start_time": "2022-07-13T12:18:28.974Z"
   },
   {
    "duration": 32,
    "start_time": "2022-07-13T12:18:29.021Z"
   },
   {
    "duration": 13,
    "start_time": "2022-07-13T12:18:29.055Z"
   },
   {
    "duration": 39,
    "start_time": "2022-07-13T12:18:29.071Z"
   },
   {
    "duration": 34,
    "start_time": "2022-07-13T12:18:29.113Z"
   },
   {
    "duration": 6,
    "start_time": "2022-07-13T12:18:29.149Z"
   },
   {
    "duration": 9,
    "start_time": "2022-07-13T12:18:29.157Z"
   },
   {
    "duration": 45,
    "start_time": "2022-07-13T12:18:29.167Z"
   },
   {
    "duration": 12,
    "start_time": "2022-07-13T12:18:29.214Z"
   },
   {
    "duration": 14,
    "start_time": "2022-07-13T12:18:29.227Z"
   },
   {
    "duration": 22,
    "start_time": "2022-07-13T12:18:29.243Z"
   },
   {
    "duration": 52,
    "start_time": "2022-07-13T12:18:29.267Z"
   },
   {
    "duration": 13,
    "start_time": "2022-07-13T12:18:29.320Z"
   },
   {
    "duration": 33,
    "start_time": "2022-07-13T12:18:29.335Z"
   },
   {
    "duration": 3,
    "start_time": "2022-07-13T12:18:29.370Z"
   },
   {
    "duration": 32,
    "start_time": "2022-07-13T12:18:29.375Z"
   },
   {
    "duration": 12,
    "start_time": "2022-07-13T12:18:29.410Z"
   },
   {
    "duration": 17,
    "start_time": "2022-07-13T12:18:29.424Z"
   },
   {
    "duration": 13,
    "start_time": "2022-07-13T12:18:29.442Z"
   },
   {
    "duration": 6,
    "start_time": "2022-07-13T12:18:29.457Z"
   },
   {
    "duration": 46,
    "start_time": "2022-07-13T12:18:29.465Z"
   },
   {
    "duration": 7,
    "start_time": "2022-07-13T12:18:49.657Z"
   },
   {
    "duration": 19,
    "start_time": "2022-07-13T12:20:47.326Z"
   },
   {
    "duration": 18,
    "start_time": "2022-07-13T12:31:21.792Z"
   },
   {
    "duration": 3037,
    "start_time": "2022-07-13T12:31:50.776Z"
   },
   {
    "duration": 8161,
    "start_time": "2022-07-13T12:32:19.548Z"
   },
   {
    "duration": 7152,
    "start_time": "2022-07-13T12:34:57.009Z"
   },
   {
    "duration": 8036,
    "start_time": "2022-07-13T12:35:19.057Z"
   },
   {
    "duration": 7591,
    "start_time": "2022-07-13T12:40:01.477Z"
   },
   {
    "duration": 21,
    "start_time": "2022-07-13T12:51:29.368Z"
   },
   {
    "duration": 6,
    "start_time": "2022-07-13T12:51:57.712Z"
   },
   {
    "duration": 1491,
    "start_time": "2022-07-13T12:52:57.352Z"
   },
   {
    "duration": 153,
    "start_time": "2022-07-13T12:52:58.845Z"
   },
   {
    "duration": 183,
    "start_time": "2022-07-13T12:52:59.000Z"
   },
   {
    "duration": 22,
    "start_time": "2022-07-13T12:52:59.185Z"
   },
   {
    "duration": 17,
    "start_time": "2022-07-13T12:52:59.210Z"
   },
   {
    "duration": 20,
    "start_time": "2022-07-13T12:52:59.229Z"
   },
   {
    "duration": 12,
    "start_time": "2022-07-13T12:52:59.251Z"
   },
   {
    "duration": 40,
    "start_time": "2022-07-13T12:52:59.265Z"
   },
   {
    "duration": 8,
    "start_time": "2022-07-13T12:52:59.307Z"
   },
   {
    "duration": 9,
    "start_time": "2022-07-13T12:52:59.317Z"
   },
   {
    "duration": 31,
    "start_time": "2022-07-13T12:52:59.328Z"
   },
   {
    "duration": 44,
    "start_time": "2022-07-13T12:52:59.361Z"
   },
   {
    "duration": 8,
    "start_time": "2022-07-13T12:52:59.407Z"
   },
   {
    "duration": 12,
    "start_time": "2022-07-13T12:52:59.418Z"
   },
   {
    "duration": 23,
    "start_time": "2022-07-13T12:52:59.432Z"
   },
   {
    "duration": 6,
    "start_time": "2022-07-13T12:52:59.457Z"
   },
   {
    "duration": 11,
    "start_time": "2022-07-13T12:52:59.466Z"
   },
   {
    "duration": 45,
    "start_time": "2022-07-13T12:52:59.479Z"
   },
   {
    "duration": 12,
    "start_time": "2022-07-13T12:52:59.526Z"
   },
   {
    "duration": 28,
    "start_time": "2022-07-13T12:52:59.539Z"
   },
   {
    "duration": 53,
    "start_time": "2022-07-13T12:52:59.570Z"
   },
   {
    "duration": 16,
    "start_time": "2022-07-13T12:52:59.625Z"
   },
   {
    "duration": 12,
    "start_time": "2022-07-13T12:52:59.643Z"
   },
   {
    "duration": 48,
    "start_time": "2022-07-13T12:52:59.657Z"
   },
   {
    "duration": 5,
    "start_time": "2022-07-13T12:52:59.707Z"
   },
   {
    "duration": 7,
    "start_time": "2022-07-13T12:52:59.713Z"
   },
   {
    "duration": 14,
    "start_time": "2022-07-13T12:52:59.722Z"
   },
   {
    "duration": 17,
    "start_time": "2022-07-13T12:52:59.738Z"
   },
   {
    "duration": 10,
    "start_time": "2022-07-13T12:52:59.756Z"
   },
   {
    "duration": 8,
    "start_time": "2022-07-13T12:52:59.769Z"
   },
   {
    "duration": 21,
    "start_time": "2022-07-13T12:52:59.803Z"
   },
   {
    "duration": 7,
    "start_time": "2022-07-13T12:52:59.826Z"
   },
   {
    "duration": 25,
    "start_time": "2022-07-13T12:52:59.834Z"
   },
   {
    "duration": 46,
    "start_time": "2022-07-13T12:52:59.861Z"
   },
   {
    "duration": 7911,
    "start_time": "2022-07-13T12:52:59.910Z"
   },
   {
    "duration": 7107,
    "start_time": "2022-07-13T12:53:07.824Z"
   },
   {
    "duration": 5,
    "start_time": "2022-07-13T12:53:14.933Z"
   },
   {
    "duration": 16,
    "start_time": "2022-07-13T13:14:54.941Z"
   },
   {
    "duration": 21,
    "start_time": "2022-07-13T13:15:05.145Z"
   },
   {
    "duration": 24,
    "start_time": "2022-07-13T13:15:25.688Z"
   },
   {
    "duration": 75,
    "start_time": "2022-07-13T13:16:46.968Z"
   },
   {
    "duration": 1620,
    "start_time": "2022-07-13T13:17:38.624Z"
   },
   {
    "duration": 124,
    "start_time": "2022-07-13T13:17:40.247Z"
   },
   {
    "duration": 210,
    "start_time": "2022-07-13T13:17:40.374Z"
   },
   {
    "duration": 10,
    "start_time": "2022-07-13T13:17:40.605Z"
   },
   {
    "duration": 26,
    "start_time": "2022-07-13T13:17:40.618Z"
   },
   {
    "duration": 24,
    "start_time": "2022-07-13T13:17:40.646Z"
   },
   {
    "duration": 36,
    "start_time": "2022-07-13T13:17:40.672Z"
   },
   {
    "duration": 7,
    "start_time": "2022-07-13T13:17:40.710Z"
   },
   {
    "duration": 17,
    "start_time": "2022-07-13T13:17:40.718Z"
   },
   {
    "duration": 9,
    "start_time": "2022-07-13T13:17:40.739Z"
   },
   {
    "duration": 29,
    "start_time": "2022-07-13T13:17:40.750Z"
   },
   {
    "duration": 45,
    "start_time": "2022-07-13T13:17:40.781Z"
   },
   {
    "duration": 10,
    "start_time": "2022-07-13T13:17:40.829Z"
   },
   {
    "duration": 10,
    "start_time": "2022-07-13T13:17:40.842Z"
   },
   {
    "duration": 59,
    "start_time": "2022-07-13T13:17:40.855Z"
   },
   {
    "duration": 10,
    "start_time": "2022-07-13T13:17:40.916Z"
   },
   {
    "duration": 7,
    "start_time": "2022-07-13T13:17:40.928Z"
   },
   {
    "duration": 24,
    "start_time": "2022-07-13T13:17:40.937Z"
   },
   {
    "duration": 48,
    "start_time": "2022-07-13T13:17:40.964Z"
   },
   {
    "duration": 26,
    "start_time": "2022-07-13T13:17:41.014Z"
   },
   {
    "duration": 27,
    "start_time": "2022-07-13T13:17:41.042Z"
   },
   {
    "duration": 39,
    "start_time": "2022-07-13T13:17:41.071Z"
   },
   {
    "duration": 20,
    "start_time": "2022-07-13T13:17:41.112Z"
   },
   {
    "duration": 35,
    "start_time": "2022-07-13T13:17:41.134Z"
   },
   {
    "duration": 4,
    "start_time": "2022-07-13T13:17:41.171Z"
   },
   {
    "duration": 5,
    "start_time": "2022-07-13T13:17:41.204Z"
   },
   {
    "duration": 15,
    "start_time": "2022-07-13T13:17:41.211Z"
   },
   {
    "duration": 18,
    "start_time": "2022-07-13T13:17:41.228Z"
   },
   {
    "duration": 11,
    "start_time": "2022-07-13T13:17:41.248Z"
   },
   {
    "duration": 7,
    "start_time": "2022-07-13T13:17:41.261Z"
   },
   {
    "duration": 45,
    "start_time": "2022-07-13T13:17:41.270Z"
   },
   {
    "duration": 19,
    "start_time": "2022-07-13T13:17:41.317Z"
   },
   {
    "duration": 19,
    "start_time": "2022-07-13T13:17:41.339Z"
   },
   {
    "duration": 18,
    "start_time": "2022-07-13T13:17:41.359Z"
   },
   {
    "duration": 8451,
    "start_time": "2022-07-13T13:17:41.378Z"
   },
   {
    "duration": 8030,
    "start_time": "2022-07-13T13:17:49.831Z"
   },
   {
    "duration": 6,
    "start_time": "2022-07-13T13:17:57.863Z"
   },
   {
    "duration": 80,
    "start_time": "2022-07-13T13:17:57.871Z"
   },
   {
    "duration": 0,
    "start_time": "2022-07-13T13:17:57.952Z"
   },
   {
    "duration": 100,
    "start_time": "2022-07-13T13:18:41.832Z"
   },
   {
    "duration": 1663,
    "start_time": "2022-07-13T13:19:17.582Z"
   },
   {
    "duration": 131,
    "start_time": "2022-07-13T13:19:19.247Z"
   },
   {
    "duration": 224,
    "start_time": "2022-07-13T13:19:19.380Z"
   },
   {
    "duration": 6,
    "start_time": "2022-07-13T13:19:19.606Z"
   },
   {
    "duration": 36,
    "start_time": "2022-07-13T13:19:19.615Z"
   },
   {
    "duration": 21,
    "start_time": "2022-07-13T13:19:19.653Z"
   },
   {
    "duration": 15,
    "start_time": "2022-07-13T13:19:19.676Z"
   },
   {
    "duration": 9,
    "start_time": "2022-07-13T13:19:19.705Z"
   },
   {
    "duration": 30,
    "start_time": "2022-07-13T13:19:19.715Z"
   },
   {
    "duration": 11,
    "start_time": "2022-07-13T13:19:19.747Z"
   },
   {
    "duration": 32,
    "start_time": "2022-07-13T13:19:19.760Z"
   },
   {
    "duration": 29,
    "start_time": "2022-07-13T13:19:19.794Z"
   },
   {
    "duration": 18,
    "start_time": "2022-07-13T13:19:19.825Z"
   },
   {
    "duration": 9,
    "start_time": "2022-07-13T13:19:19.846Z"
   },
   {
    "duration": 33,
    "start_time": "2022-07-13T13:19:19.857Z"
   },
   {
    "duration": 18,
    "start_time": "2022-07-13T13:19:19.892Z"
   },
   {
    "duration": 28,
    "start_time": "2022-07-13T13:19:19.912Z"
   },
   {
    "duration": 30,
    "start_time": "2022-07-13T13:19:19.942Z"
   },
   {
    "duration": 17,
    "start_time": "2022-07-13T13:19:19.974Z"
   },
   {
    "duration": 20,
    "start_time": "2022-07-13T13:19:19.993Z"
   },
   {
    "duration": 56,
    "start_time": "2022-07-13T13:19:20.015Z"
   },
   {
    "duration": 21,
    "start_time": "2022-07-13T13:19:20.073Z"
   },
   {
    "duration": 68,
    "start_time": "2022-07-13T13:19:20.096Z"
   },
   {
    "duration": 68,
    "start_time": "2022-07-13T13:19:20.166Z"
   },
   {
    "duration": 14,
    "start_time": "2022-07-13T13:19:20.237Z"
   },
   {
    "duration": 15,
    "start_time": "2022-07-13T13:19:20.254Z"
   },
   {
    "duration": 11,
    "start_time": "2022-07-13T13:19:20.271Z"
   },
   {
    "duration": 21,
    "start_time": "2022-07-13T13:19:20.284Z"
   },
   {
    "duration": 36,
    "start_time": "2022-07-13T13:19:20.306Z"
   },
   {
    "duration": 7,
    "start_time": "2022-07-13T13:19:20.343Z"
   },
   {
    "duration": 32,
    "start_time": "2022-07-13T13:19:20.352Z"
   },
   {
    "duration": 7,
    "start_time": "2022-07-13T13:19:20.387Z"
   },
   {
    "duration": 49,
    "start_time": "2022-07-13T13:19:20.396Z"
   },
   {
    "duration": 25,
    "start_time": "2022-07-13T13:19:20.447Z"
   },
   {
    "duration": 8960,
    "start_time": "2022-07-13T13:19:20.475Z"
   },
   {
    "duration": 8842,
    "start_time": "2022-07-13T13:19:29.437Z"
   },
   {
    "duration": 6,
    "start_time": "2022-07-13T13:19:38.281Z"
   },
   {
    "duration": 106,
    "start_time": "2022-07-13T13:19:38.289Z"
   },
   {
    "duration": 0,
    "start_time": "2022-07-13T13:19:38.397Z"
   },
   {
    "duration": 29,
    "start_time": "2022-07-13T13:20:01.457Z"
   },
   {
    "duration": 43,
    "start_time": "2022-07-13T13:20:08.715Z"
   },
   {
    "duration": 27,
    "start_time": "2022-07-13T13:20:28.922Z"
   },
   {
    "duration": 1573,
    "start_time": "2022-07-13T13:23:54.076Z"
   },
   {
    "duration": 183,
    "start_time": "2022-07-13T13:23:55.651Z"
   },
   {
    "duration": 191,
    "start_time": "2022-07-13T13:23:55.836Z"
   },
   {
    "duration": 7,
    "start_time": "2022-07-13T13:23:56.029Z"
   },
   {
    "duration": 18,
    "start_time": "2022-07-13T13:23:56.038Z"
   },
   {
    "duration": 19,
    "start_time": "2022-07-13T13:23:56.058Z"
   },
   {
    "duration": 34,
    "start_time": "2022-07-13T13:23:56.079Z"
   },
   {
    "duration": 15,
    "start_time": "2022-07-13T13:23:56.115Z"
   },
   {
    "duration": 11,
    "start_time": "2022-07-13T13:23:56.132Z"
   },
   {
    "duration": 13,
    "start_time": "2022-07-13T13:23:56.145Z"
   },
   {
    "duration": 22,
    "start_time": "2022-07-13T13:23:56.159Z"
   },
   {
    "duration": 40,
    "start_time": "2022-07-13T13:23:56.182Z"
   },
   {
    "duration": 13,
    "start_time": "2022-07-13T13:23:56.224Z"
   },
   {
    "duration": 11,
    "start_time": "2022-07-13T13:23:56.241Z"
   },
   {
    "duration": 55,
    "start_time": "2022-07-13T13:23:56.254Z"
   },
   {
    "duration": 8,
    "start_time": "2022-07-13T13:23:56.311Z"
   },
   {
    "duration": 9,
    "start_time": "2022-07-13T13:23:56.321Z"
   },
   {
    "duration": 19,
    "start_time": "2022-07-13T13:23:56.332Z"
   },
   {
    "duration": 14,
    "start_time": "2022-07-13T13:23:56.353Z"
   },
   {
    "duration": 37,
    "start_time": "2022-07-13T13:23:56.369Z"
   },
   {
    "duration": 31,
    "start_time": "2022-07-13T13:23:56.408Z"
   },
   {
    "duration": 13,
    "start_time": "2022-07-13T13:23:56.441Z"
   },
   {
    "duration": 14,
    "start_time": "2022-07-13T13:23:56.456Z"
   },
   {
    "duration": 71,
    "start_time": "2022-07-13T13:23:56.472Z"
   },
   {
    "duration": 8,
    "start_time": "2022-07-13T13:23:56.546Z"
   },
   {
    "duration": 9,
    "start_time": "2022-07-13T13:23:56.557Z"
   },
   {
    "duration": 26,
    "start_time": "2022-07-13T13:23:56.570Z"
   },
   {
    "duration": 39,
    "start_time": "2022-07-13T13:23:56.598Z"
   },
   {
    "duration": 14,
    "start_time": "2022-07-13T13:23:56.639Z"
   },
   {
    "duration": 7,
    "start_time": "2022-07-13T13:23:56.656Z"
   },
   {
    "duration": 28,
    "start_time": "2022-07-13T13:23:56.665Z"
   },
   {
    "duration": 8,
    "start_time": "2022-07-13T13:23:56.696Z"
   },
   {
    "duration": 38,
    "start_time": "2022-07-13T13:23:56.706Z"
   },
   {
    "duration": 21,
    "start_time": "2022-07-13T13:23:56.747Z"
   },
   {
    "duration": 4424,
    "start_time": "2022-07-13T13:23:56.770Z"
   },
   {
    "duration": 6,
    "start_time": "2022-07-13T13:24:01.196Z"
   },
   {
    "duration": 40,
    "start_time": "2022-07-13T13:24:01.204Z"
   },
   {
    "duration": 31,
    "start_time": "2022-07-13T13:24:01.246Z"
   },
   {
    "duration": 33,
    "start_time": "2022-07-13T13:24:01.280Z"
   },
   {
    "duration": 1673,
    "start_time": "2022-07-13T13:24:52.054Z"
   },
   {
    "duration": 230,
    "start_time": "2022-07-13T13:24:53.731Z"
   },
   {
    "duration": 285,
    "start_time": "2022-07-13T13:24:53.963Z"
   },
   {
    "duration": 12,
    "start_time": "2022-07-13T13:24:54.252Z"
   },
   {
    "duration": 42,
    "start_time": "2022-07-13T13:24:54.267Z"
   },
   {
    "duration": 52,
    "start_time": "2022-07-13T13:24:54.312Z"
   },
   {
    "duration": 17,
    "start_time": "2022-07-13T13:24:54.366Z"
   },
   {
    "duration": 23,
    "start_time": "2022-07-13T13:24:54.385Z"
   },
   {
    "duration": 26,
    "start_time": "2022-07-13T13:24:54.413Z"
   },
   {
    "duration": 14,
    "start_time": "2022-07-13T13:24:54.442Z"
   },
   {
    "duration": 26,
    "start_time": "2022-07-13T13:24:54.458Z"
   },
   {
    "duration": 37,
    "start_time": "2022-07-13T13:24:54.486Z"
   },
   {
    "duration": 12,
    "start_time": "2022-07-13T13:24:54.526Z"
   },
   {
    "duration": 10,
    "start_time": "2022-07-13T13:24:54.543Z"
   },
   {
    "duration": 59,
    "start_time": "2022-07-13T13:24:54.555Z"
   },
   {
    "duration": 19,
    "start_time": "2022-07-13T13:24:54.616Z"
   },
   {
    "duration": 11,
    "start_time": "2022-07-13T13:24:54.637Z"
   },
   {
    "duration": 25,
    "start_time": "2022-07-13T13:24:54.649Z"
   },
   {
    "duration": 36,
    "start_time": "2022-07-13T13:24:54.676Z"
   },
   {
    "duration": 29,
    "start_time": "2022-07-13T13:24:54.715Z"
   },
   {
    "duration": 27,
    "start_time": "2022-07-13T13:24:54.747Z"
   },
   {
    "duration": 36,
    "start_time": "2022-07-13T13:24:54.776Z"
   },
   {
    "duration": 34,
    "start_time": "2022-07-13T13:24:54.813Z"
   },
   {
    "duration": 60,
    "start_time": "2022-07-13T13:24:54.849Z"
   },
   {
    "duration": 5,
    "start_time": "2022-07-13T13:24:54.911Z"
   },
   {
    "duration": 26,
    "start_time": "2022-07-13T13:24:54.918Z"
   },
   {
    "duration": 18,
    "start_time": "2022-07-13T13:24:54.947Z"
   },
   {
    "duration": 20,
    "start_time": "2022-07-13T13:24:54.968Z"
   },
   {
    "duration": 33,
    "start_time": "2022-07-13T13:24:54.991Z"
   },
   {
    "duration": 7,
    "start_time": "2022-07-13T13:24:55.026Z"
   },
   {
    "duration": 32,
    "start_time": "2022-07-13T13:24:55.034Z"
   },
   {
    "duration": 7,
    "start_time": "2022-07-13T13:24:55.068Z"
   },
   {
    "duration": 39,
    "start_time": "2022-07-13T13:24:55.077Z"
   },
   {
    "duration": 25,
    "start_time": "2022-07-13T13:24:55.118Z"
   },
   {
    "duration": 7948,
    "start_time": "2022-07-13T13:24:55.145Z"
   },
   {
    "duration": 7,
    "start_time": "2022-07-13T13:25:03.095Z"
   },
   {
    "duration": 35,
    "start_time": "2022-07-13T13:25:03.104Z"
   },
   {
    "duration": 30,
    "start_time": "2022-07-13T13:25:03.141Z"
   },
   {
    "duration": 16,
    "start_time": "2022-07-13T13:25:03.172Z"
   },
   {
    "duration": 6,
    "start_time": "2022-07-13T13:33:30.846Z"
   },
   {
    "duration": 466,
    "start_time": "2022-07-13T13:34:10.946Z"
   },
   {
    "duration": 1874,
    "start_time": "2022-07-13T13:35:26.850Z"
   },
   {
    "duration": 160,
    "start_time": "2022-07-13T13:35:28.727Z"
   },
   {
    "duration": 216,
    "start_time": "2022-07-13T13:35:28.889Z"
   },
   {
    "duration": 13,
    "start_time": "2022-07-13T13:35:29.107Z"
   },
   {
    "duration": 24,
    "start_time": "2022-07-13T13:35:29.122Z"
   },
   {
    "duration": 27,
    "start_time": "2022-07-13T13:35:29.148Z"
   },
   {
    "duration": 37,
    "start_time": "2022-07-13T13:35:29.178Z"
   },
   {
    "duration": 11,
    "start_time": "2022-07-13T13:35:29.221Z"
   },
   {
    "duration": 11,
    "start_time": "2022-07-13T13:35:29.234Z"
   },
   {
    "duration": 13,
    "start_time": "2022-07-13T13:35:29.248Z"
   },
   {
    "duration": 53,
    "start_time": "2022-07-13T13:35:29.263Z"
   },
   {
    "duration": 50,
    "start_time": "2022-07-13T13:35:29.317Z"
   },
   {
    "duration": 12,
    "start_time": "2022-07-13T13:35:29.369Z"
   },
   {
    "duration": 14,
    "start_time": "2022-07-13T13:35:29.385Z"
   },
   {
    "duration": 32,
    "start_time": "2022-07-13T13:35:29.401Z"
   },
   {
    "duration": 20,
    "start_time": "2022-07-13T13:35:29.434Z"
   },
   {
    "duration": 11,
    "start_time": "2022-07-13T13:35:29.456Z"
   },
   {
    "duration": 38,
    "start_time": "2022-07-13T13:35:29.469Z"
   },
   {
    "duration": 21,
    "start_time": "2022-07-13T13:35:29.509Z"
   },
   {
    "duration": 19,
    "start_time": "2022-07-13T13:35:29.532Z"
   },
   {
    "duration": 26,
    "start_time": "2022-07-13T13:35:29.553Z"
   },
   {
    "duration": 39,
    "start_time": "2022-07-13T13:35:29.581Z"
   },
   {
    "duration": 22,
    "start_time": "2022-07-13T13:35:29.622Z"
   },
   {
    "duration": 35,
    "start_time": "2022-07-13T13:35:29.646Z"
   },
   {
    "duration": 4,
    "start_time": "2022-07-13T13:35:29.683Z"
   },
   {
    "duration": 22,
    "start_time": "2022-07-13T13:35:29.689Z"
   },
   {
    "duration": 16,
    "start_time": "2022-07-13T13:35:29.720Z"
   },
   {
    "duration": 17,
    "start_time": "2022-07-13T13:35:29.738Z"
   },
   {
    "duration": 13,
    "start_time": "2022-07-13T13:35:29.757Z"
   },
   {
    "duration": 9,
    "start_time": "2022-07-13T13:35:29.772Z"
   },
   {
    "duration": 46,
    "start_time": "2022-07-13T13:35:29.783Z"
   },
   {
    "duration": 11,
    "start_time": "2022-07-13T13:35:29.832Z"
   },
   {
    "duration": 28,
    "start_time": "2022-07-13T13:35:29.845Z"
   },
   {
    "duration": 21,
    "start_time": "2022-07-13T13:35:29.876Z"
   },
   {
    "duration": 8326,
    "start_time": "2022-07-13T13:35:29.908Z"
   },
   {
    "duration": 8,
    "start_time": "2022-07-13T13:35:38.236Z"
   },
   {
    "duration": 50,
    "start_time": "2022-07-13T13:35:38.246Z"
   },
   {
    "duration": 43,
    "start_time": "2022-07-13T13:35:38.298Z"
   },
   {
    "duration": 20,
    "start_time": "2022-07-13T13:35:38.343Z"
   },
   {
    "duration": 161,
    "start_time": "2022-07-13T13:35:38.365Z"
   },
   {
    "duration": 12,
    "start_time": "2022-07-13T13:47:31.122Z"
   },
   {
    "duration": 18,
    "start_time": "2022-07-13T13:49:34.122Z"
   },
   {
    "duration": 46,
    "start_time": "2022-07-13T13:49:41.593Z"
   },
   {
    "duration": 30,
    "start_time": "2022-07-13T13:59:21.214Z"
   },
   {
    "duration": 21,
    "start_time": "2022-07-13T14:04:01.597Z"
   },
   {
    "duration": 1380,
    "start_time": "2022-07-13T14:05:11.291Z"
   },
   {
    "duration": 10,
    "start_time": "2022-07-13T14:05:17.561Z"
   },
   {
    "duration": 1305,
    "start_time": "2022-07-13T14:05:27.776Z"
   },
   {
    "duration": 25,
    "start_time": "2022-07-13T14:05:36.673Z"
   },
   {
    "duration": 4314,
    "start_time": "2022-07-13T14:06:44.084Z"
   },
   {
    "duration": 11,
    "start_time": "2022-07-13T14:13:15.254Z"
   },
   {
    "duration": 20202,
    "start_time": "2022-07-13T14:13:26.969Z"
   },
   {
    "duration": 25416,
    "start_time": "2022-07-13T14:17:41.829Z"
   },
   {
    "duration": 1485,
    "start_time": "2022-07-13T14:33:20.863Z"
   },
   {
    "duration": 118,
    "start_time": "2022-07-13T14:33:22.350Z"
   },
   {
    "duration": 171,
    "start_time": "2022-07-13T14:33:22.470Z"
   },
   {
    "duration": 7,
    "start_time": "2022-07-13T14:33:22.643Z"
   },
   {
    "duration": 16,
    "start_time": "2022-07-13T14:33:22.652Z"
   },
   {
    "duration": 49,
    "start_time": "2022-07-13T14:33:22.670Z"
   },
   {
    "duration": 13,
    "start_time": "2022-07-13T14:33:22.721Z"
   },
   {
    "duration": 5,
    "start_time": "2022-07-13T14:33:22.736Z"
   },
   {
    "duration": 13,
    "start_time": "2022-07-13T14:33:22.743Z"
   },
   {
    "duration": 12,
    "start_time": "2022-07-13T14:33:22.757Z"
   },
   {
    "duration": 41,
    "start_time": "2022-07-13T14:33:22.770Z"
   },
   {
    "duration": 22,
    "start_time": "2022-07-13T14:33:22.813Z"
   },
   {
    "duration": 7,
    "start_time": "2022-07-13T14:33:22.837Z"
   },
   {
    "duration": 10,
    "start_time": "2022-07-13T14:33:22.847Z"
   },
   {
    "duration": 46,
    "start_time": "2022-07-13T14:33:22.859Z"
   },
   {
    "duration": 6,
    "start_time": "2022-07-13T14:33:22.907Z"
   },
   {
    "duration": 9,
    "start_time": "2022-07-13T14:33:22.915Z"
   },
   {
    "duration": 21,
    "start_time": "2022-07-13T14:33:22.925Z"
   },
   {
    "duration": 13,
    "start_time": "2022-07-13T14:33:22.948Z"
   },
   {
    "duration": 42,
    "start_time": "2022-07-13T14:33:22.963Z"
   },
   {
    "duration": 24,
    "start_time": "2022-07-13T14:33:23.007Z"
   },
   {
    "duration": 15,
    "start_time": "2022-07-13T14:33:23.033Z"
   },
   {
    "duration": 14,
    "start_time": "2022-07-13T14:33:23.050Z"
   },
   {
    "duration": 61,
    "start_time": "2022-07-13T14:33:23.066Z"
   },
   {
    "duration": 4,
    "start_time": "2022-07-13T14:33:23.129Z"
   },
   {
    "duration": 9,
    "start_time": "2022-07-13T14:33:23.134Z"
   },
   {
    "duration": 11,
    "start_time": "2022-07-13T14:33:23.145Z"
   },
   {
    "duration": 15,
    "start_time": "2022-07-13T14:33:23.157Z"
   },
   {
    "duration": 35,
    "start_time": "2022-07-13T14:33:23.173Z"
   },
   {
    "duration": 7,
    "start_time": "2022-07-13T14:33:23.210Z"
   },
   {
    "duration": 14,
    "start_time": "2022-07-13T14:33:23.219Z"
   },
   {
    "duration": 6,
    "start_time": "2022-07-13T14:33:23.235Z"
   },
   {
    "duration": 21,
    "start_time": "2022-07-13T14:33:23.242Z"
   },
   {
    "duration": 41,
    "start_time": "2022-07-13T14:33:23.265Z"
   },
   {
    "duration": 7390,
    "start_time": "2022-07-13T14:33:23.308Z"
   },
   {
    "duration": 6,
    "start_time": "2022-07-13T14:33:30.700Z"
   },
   {
    "duration": 4014,
    "start_time": "2022-07-13T14:33:30.707Z"
   },
   {
    "duration": 19811,
    "start_time": "2022-07-13T14:33:34.722Z"
   },
   {
    "duration": 36,
    "start_time": "2022-07-13T14:33:54.534Z"
   },
   {
    "duration": 2,
    "start_time": "2022-07-13T14:33:54.572Z"
   },
   {
    "duration": 121,
    "start_time": "2022-07-13T14:33:54.577Z"
   },
   {
    "duration": 0,
    "start_time": "2022-07-13T14:33:54.700Z"
   },
   {
    "duration": 0,
    "start_time": "2022-07-13T14:33:54.704Z"
   },
   {
    "duration": 13,
    "start_time": "2022-07-13T14:38:00.542Z"
   },
   {
    "duration": 3,
    "start_time": "2022-07-13T14:38:21.920Z"
   },
   {
    "duration": 26,
    "start_time": "2022-07-13T14:38:59.121Z"
   },
   {
    "duration": 25725,
    "start_time": "2022-07-13T14:39:02.122Z"
   },
   {
    "duration": 1548,
    "start_time": "2022-07-14T03:22:12.287Z"
   },
   {
    "duration": 172,
    "start_time": "2022-07-14T03:22:13.837Z"
   },
   {
    "duration": 142,
    "start_time": "2022-07-14T03:22:14.010Z"
   },
   {
    "duration": 5,
    "start_time": "2022-07-14T03:22:14.154Z"
   },
   {
    "duration": 18,
    "start_time": "2022-07-14T03:22:14.161Z"
   },
   {
    "duration": 17,
    "start_time": "2022-07-14T03:22:14.201Z"
   },
   {
    "duration": 10,
    "start_time": "2022-07-14T03:22:14.219Z"
   },
   {
    "duration": 7,
    "start_time": "2022-07-14T03:22:14.230Z"
   },
   {
    "duration": 9,
    "start_time": "2022-07-14T03:22:14.238Z"
   },
   {
    "duration": 7,
    "start_time": "2022-07-14T03:22:14.249Z"
   },
   {
    "duration": 26,
    "start_time": "2022-07-14T03:22:14.257Z"
   },
   {
    "duration": 38,
    "start_time": "2022-07-14T03:22:14.284Z"
   },
   {
    "duration": 7,
    "start_time": "2022-07-14T03:22:14.324Z"
   },
   {
    "duration": 15,
    "start_time": "2022-07-14T03:22:14.332Z"
   },
   {
    "duration": 26,
    "start_time": "2022-07-14T03:22:14.348Z"
   },
   {
    "duration": 4,
    "start_time": "2022-07-14T03:22:14.376Z"
   },
   {
    "duration": 22,
    "start_time": "2022-07-14T03:22:14.382Z"
   },
   {
    "duration": 21,
    "start_time": "2022-07-14T03:22:14.406Z"
   },
   {
    "duration": 10,
    "start_time": "2022-07-14T03:22:14.429Z"
   },
   {
    "duration": 20,
    "start_time": "2022-07-14T03:22:14.440Z"
   },
   {
    "duration": 19,
    "start_time": "2022-07-14T03:22:14.461Z"
   },
   {
    "duration": 26,
    "start_time": "2022-07-14T03:22:14.481Z"
   },
   {
    "duration": 11,
    "start_time": "2022-07-14T03:22:14.509Z"
   },
   {
    "duration": 27,
    "start_time": "2022-07-14T03:22:14.522Z"
   },
   {
    "duration": 3,
    "start_time": "2022-07-14T03:22:14.550Z"
   },
   {
    "duration": 10,
    "start_time": "2022-07-14T03:22:14.555Z"
   },
   {
    "duration": 11,
    "start_time": "2022-07-14T03:22:14.567Z"
   },
   {
    "duration": 30,
    "start_time": "2022-07-14T03:22:14.580Z"
   },
   {
    "duration": 9,
    "start_time": "2022-07-14T03:22:14.611Z"
   },
   {
    "duration": 11,
    "start_time": "2022-07-14T03:22:14.621Z"
   },
   {
    "duration": 15,
    "start_time": "2022-07-14T03:22:14.633Z"
   },
   {
    "duration": 4,
    "start_time": "2022-07-14T03:22:14.650Z"
   },
   {
    "duration": 16,
    "start_time": "2022-07-14T03:22:14.656Z"
   },
   {
    "duration": 40,
    "start_time": "2022-07-14T03:22:14.674Z"
   },
   {
    "duration": 6813,
    "start_time": "2022-07-14T03:22:14.715Z"
   },
   {
    "duration": 7,
    "start_time": "2022-07-14T03:22:21.530Z"
   },
   {
    "duration": 3565,
    "start_time": "2022-07-14T03:22:21.538Z"
   },
   {
    "duration": 17977,
    "start_time": "2022-07-14T03:22:25.105Z"
   },
   {
    "duration": 33,
    "start_time": "2022-07-14T03:22:43.084Z"
   },
   {
    "duration": 22843,
    "start_time": "2022-07-14T03:22:43.118Z"
   },
   {
    "duration": 0,
    "start_time": "2022-07-14T03:23:05.963Z"
   },
   {
    "duration": 0,
    "start_time": "2022-07-14T03:23:05.964Z"
   },
   {
    "duration": 9,
    "start_time": "2022-07-14T04:26:48.167Z"
   },
   {
    "duration": 4459,
    "start_time": "2022-07-14T04:27:01.585Z"
   },
   {
    "duration": 12,
    "start_time": "2022-07-14T04:27:29.738Z"
   },
   {
    "duration": 15,
    "start_time": "2022-07-14T04:28:16.636Z"
   },
   {
    "duration": 12,
    "start_time": "2022-07-14T04:30:43.593Z"
   },
   {
    "duration": 4,
    "start_time": "2022-07-14T04:32:36.302Z"
   },
   {
    "duration": 10,
    "start_time": "2022-07-14T04:32:45.839Z"
   },
   {
    "duration": 12,
    "start_time": "2022-07-14T04:33:09.672Z"
   },
   {
    "duration": 4,
    "start_time": "2022-07-14T04:33:19.703Z"
   },
   {
    "duration": 1440,
    "start_time": "2022-07-14T04:33:33.815Z"
   },
   {
    "duration": 71,
    "start_time": "2022-07-14T04:33:35.258Z"
   },
   {
    "duration": 148,
    "start_time": "2022-07-14T04:33:35.331Z"
   },
   {
    "duration": 24,
    "start_time": "2022-07-14T04:33:35.481Z"
   },
   {
    "duration": 21,
    "start_time": "2022-07-14T04:33:35.507Z"
   },
   {
    "duration": 20,
    "start_time": "2022-07-14T04:33:35.529Z"
   },
   {
    "duration": 14,
    "start_time": "2022-07-14T04:33:35.551Z"
   },
   {
    "duration": 11,
    "start_time": "2022-07-14T04:33:35.567Z"
   },
   {
    "duration": 7,
    "start_time": "2022-07-14T04:33:35.601Z"
   },
   {
    "duration": 12,
    "start_time": "2022-07-14T04:33:35.610Z"
   },
   {
    "duration": 34,
    "start_time": "2022-07-14T04:33:35.623Z"
   },
   {
    "duration": 22,
    "start_time": "2022-07-14T04:33:35.659Z"
   },
   {
    "duration": 17,
    "start_time": "2022-07-14T04:33:35.683Z"
   },
   {
    "duration": 8,
    "start_time": "2022-07-14T04:33:35.704Z"
   },
   {
    "duration": 21,
    "start_time": "2022-07-14T04:33:35.713Z"
   },
   {
    "duration": 5,
    "start_time": "2022-07-14T04:33:35.736Z"
   },
   {
    "duration": 12,
    "start_time": "2022-07-14T04:33:35.742Z"
   },
   {
    "duration": 26,
    "start_time": "2022-07-14T04:33:35.755Z"
   },
   {
    "duration": 27,
    "start_time": "2022-07-14T04:33:35.783Z"
   },
   {
    "duration": 15,
    "start_time": "2022-07-14T04:33:35.812Z"
   },
   {
    "duration": 33,
    "start_time": "2022-07-14T04:33:35.830Z"
   },
   {
    "duration": 14,
    "start_time": "2022-07-14T04:33:35.865Z"
   },
   {
    "duration": 26,
    "start_time": "2022-07-14T04:33:35.881Z"
   },
   {
    "duration": 30,
    "start_time": "2022-07-14T04:33:35.909Z"
   },
   {
    "duration": 3,
    "start_time": "2022-07-14T04:33:35.941Z"
   },
   {
    "duration": 9,
    "start_time": "2022-07-14T04:33:35.946Z"
   },
   {
    "duration": 12,
    "start_time": "2022-07-14T04:33:35.956Z"
   },
   {
    "duration": 15,
    "start_time": "2022-07-14T04:33:35.970Z"
   },
   {
    "duration": 22,
    "start_time": "2022-07-14T04:33:35.986Z"
   },
   {
    "duration": 9,
    "start_time": "2022-07-14T04:33:36.009Z"
   },
   {
    "duration": 18,
    "start_time": "2022-07-14T04:33:36.019Z"
   },
   {
    "duration": 5,
    "start_time": "2022-07-14T04:33:36.038Z"
   },
   {
    "duration": 19,
    "start_time": "2022-07-14T04:33:36.045Z"
   },
   {
    "duration": 35,
    "start_time": "2022-07-14T04:33:36.065Z"
   },
   {
    "duration": 6710,
    "start_time": "2022-07-14T04:33:36.102Z"
   },
   {
    "duration": 6,
    "start_time": "2022-07-14T04:33:42.814Z"
   },
   {
    "duration": 29,
    "start_time": "2022-07-14T04:33:42.821Z"
   },
   {
    "duration": 20,
    "start_time": "2022-07-14T04:33:42.852Z"
   },
   {
    "duration": 23,
    "start_time": "2022-07-14T04:33:42.874Z"
   },
   {
    "duration": 14,
    "start_time": "2022-07-14T04:33:42.898Z"
   },
   {
    "duration": 3594,
    "start_time": "2022-07-14T04:33:42.916Z"
   },
   {
    "duration": 18490,
    "start_time": "2022-07-14T04:33:46.511Z"
   },
   {
    "duration": 31,
    "start_time": "2022-07-14T04:34:05.004Z"
   },
   {
    "duration": 22706,
    "start_time": "2022-07-14T04:34:05.036Z"
   },
   {
    "duration": 0,
    "start_time": "2022-07-14T04:34:27.744Z"
   },
   {
    "duration": 0,
    "start_time": "2022-07-14T04:34:27.745Z"
   },
   {
    "duration": 9,
    "start_time": "2022-07-14T04:35:59.231Z"
   },
   {
    "duration": 13,
    "start_time": "2022-07-14T04:37:51.930Z"
   },
   {
    "duration": 12,
    "start_time": "2022-07-14T04:38:01.267Z"
   },
   {
    "duration": 14,
    "start_time": "2022-07-14T04:39:34.044Z"
   },
   {
    "duration": 1339,
    "start_time": "2022-07-14T04:41:12.734Z"
   },
   {
    "duration": 65,
    "start_time": "2022-07-14T04:41:14.076Z"
   },
   {
    "duration": 136,
    "start_time": "2022-07-14T04:41:14.142Z"
   },
   {
    "duration": 23,
    "start_time": "2022-07-14T04:41:14.280Z"
   },
   {
    "duration": 30,
    "start_time": "2022-07-14T04:41:14.305Z"
   },
   {
    "duration": 20,
    "start_time": "2022-07-14T04:41:14.336Z"
   },
   {
    "duration": 10,
    "start_time": "2022-07-14T04:41:14.358Z"
   },
   {
    "duration": 4,
    "start_time": "2022-07-14T04:41:14.370Z"
   },
   {
    "duration": 9,
    "start_time": "2022-07-14T04:41:14.375Z"
   },
   {
    "duration": 16,
    "start_time": "2022-07-14T04:41:14.385Z"
   },
   {
    "duration": 20,
    "start_time": "2022-07-14T04:41:14.403Z"
   },
   {
    "duration": 32,
    "start_time": "2022-07-14T04:41:14.425Z"
   },
   {
    "duration": 8,
    "start_time": "2022-07-14T04:41:14.459Z"
   },
   {
    "duration": 8,
    "start_time": "2022-07-14T04:41:14.471Z"
   },
   {
    "duration": 36,
    "start_time": "2022-07-14T04:41:14.480Z"
   },
   {
    "duration": 6,
    "start_time": "2022-07-14T04:41:14.517Z"
   },
   {
    "duration": 8,
    "start_time": "2022-07-14T04:41:14.524Z"
   },
   {
    "duration": 17,
    "start_time": "2022-07-14T04:41:14.534Z"
   },
   {
    "duration": 12,
    "start_time": "2022-07-14T04:41:14.553Z"
   },
   {
    "duration": 37,
    "start_time": "2022-07-14T04:41:14.566Z"
   },
   {
    "duration": 23,
    "start_time": "2022-07-14T04:41:14.605Z"
   },
   {
    "duration": 12,
    "start_time": "2022-07-14T04:41:14.629Z"
   },
   {
    "duration": 11,
    "start_time": "2022-07-14T04:41:14.643Z"
   },
   {
    "duration": 29,
    "start_time": "2022-07-14T04:41:14.656Z"
   },
   {
    "duration": 3,
    "start_time": "2022-07-14T04:41:14.701Z"
   },
   {
    "duration": 8,
    "start_time": "2022-07-14T04:41:14.706Z"
   },
   {
    "duration": 15,
    "start_time": "2022-07-14T04:41:14.715Z"
   },
   {
    "duration": 23,
    "start_time": "2022-07-14T04:41:14.732Z"
   },
   {
    "duration": 18,
    "start_time": "2022-07-14T04:41:14.756Z"
   },
   {
    "duration": 12,
    "start_time": "2022-07-14T04:41:14.775Z"
   },
   {
    "duration": 17,
    "start_time": "2022-07-14T04:41:14.788Z"
   },
   {
    "duration": 5,
    "start_time": "2022-07-14T04:41:14.806Z"
   },
   {
    "duration": 20,
    "start_time": "2022-07-14T04:41:14.812Z"
   },
   {
    "duration": 14,
    "start_time": "2022-07-14T04:41:14.834Z"
   },
   {
    "duration": 13,
    "start_time": "2022-07-14T04:41:14.849Z"
   },
   {
    "duration": 6816,
    "start_time": "2022-07-14T04:41:14.864Z"
   },
   {
    "duration": 24,
    "start_time": "2022-07-14T04:41:21.682Z"
   },
   {
    "duration": 14,
    "start_time": "2022-07-14T04:41:21.708Z"
   },
   {
    "duration": 2,
    "start_time": "2022-07-14T04:41:21.723Z"
   },
   {
    "duration": 34,
    "start_time": "2022-07-14T04:41:21.727Z"
   },
   {
    "duration": 1406,
    "start_time": "2022-07-14T04:50:05.581Z"
   },
   {
    "duration": 64,
    "start_time": "2022-07-14T04:50:06.989Z"
   },
   {
    "duration": 158,
    "start_time": "2022-07-14T04:50:07.055Z"
   },
   {
    "duration": 6,
    "start_time": "2022-07-14T04:50:07.215Z"
   },
   {
    "duration": 15,
    "start_time": "2022-07-14T04:50:07.223Z"
   },
   {
    "duration": 18,
    "start_time": "2022-07-14T04:50:07.239Z"
   },
   {
    "duration": 11,
    "start_time": "2022-07-14T04:50:07.258Z"
   },
   {
    "duration": 31,
    "start_time": "2022-07-14T04:50:07.270Z"
   },
   {
    "duration": 5,
    "start_time": "2022-07-14T04:50:07.303Z"
   },
   {
    "duration": 7,
    "start_time": "2022-07-14T04:50:07.310Z"
   },
   {
    "duration": 20,
    "start_time": "2022-07-14T04:50:07.318Z"
   },
   {
    "duration": 21,
    "start_time": "2022-07-14T04:50:07.339Z"
   },
   {
    "duration": 8,
    "start_time": "2022-07-14T04:50:07.361Z"
   },
   {
    "duration": 9,
    "start_time": "2022-07-14T04:50:07.400Z"
   },
   {
    "duration": 21,
    "start_time": "2022-07-14T04:50:07.410Z"
   },
   {
    "duration": 6,
    "start_time": "2022-07-14T04:50:07.433Z"
   },
   {
    "duration": 10,
    "start_time": "2022-07-14T04:50:07.440Z"
   },
   {
    "duration": 18,
    "start_time": "2022-07-14T04:50:07.451Z"
   },
   {
    "duration": 35,
    "start_time": "2022-07-14T04:50:07.470Z"
   },
   {
    "duration": 13,
    "start_time": "2022-07-14T04:50:07.507Z"
   },
   {
    "duration": 19,
    "start_time": "2022-07-14T04:50:07.522Z"
   },
   {
    "duration": 2,
    "start_time": "2022-07-14T04:50:07.543Z"
   },
   {
    "duration": 14,
    "start_time": "2022-07-14T04:50:07.546Z"
   },
   {
    "duration": 47,
    "start_time": "2022-07-14T04:50:07.562Z"
   },
   {
    "duration": 2,
    "start_time": "2022-07-14T04:50:07.610Z"
   },
   {
    "duration": 5,
    "start_time": "2022-07-14T04:50:07.613Z"
   },
   {
    "duration": 6,
    "start_time": "2022-07-14T04:50:07.620Z"
   },
   {
    "duration": 14,
    "start_time": "2022-07-14T04:50:07.627Z"
   },
   {
    "duration": 9,
    "start_time": "2022-07-14T04:50:07.642Z"
   },
   {
    "duration": 5,
    "start_time": "2022-07-14T04:50:07.653Z"
   },
   {
    "duration": 14,
    "start_time": "2022-07-14T04:50:07.659Z"
   },
   {
    "duration": 4,
    "start_time": "2022-07-14T04:50:07.675Z"
   },
   {
    "duration": 16,
    "start_time": "2022-07-14T04:50:07.701Z"
   },
   {
    "duration": 14,
    "start_time": "2022-07-14T04:50:07.719Z"
   },
   {
    "duration": 5,
    "start_time": "2022-07-14T04:50:07.734Z"
   },
   {
    "duration": 6491,
    "start_time": "2022-07-14T04:50:07.741Z"
   },
   {
    "duration": 22,
    "start_time": "2022-07-14T04:50:14.234Z"
   },
   {
    "duration": 14,
    "start_time": "2022-07-14T04:50:14.258Z"
   },
   {
    "duration": 8,
    "start_time": "2022-07-14T04:50:14.273Z"
   },
   {
    "duration": 5,
    "start_time": "2022-07-14T04:50:14.283Z"
   },
   {
    "duration": 32,
    "start_time": "2022-07-14T04:50:14.290Z"
   },
   {
    "duration": 17,
    "start_time": "2022-07-14T04:55:36.501Z"
   },
   {
    "duration": 1356,
    "start_time": "2022-07-14T04:56:27.185Z"
   },
   {
    "duration": 62,
    "start_time": "2022-07-14T04:56:28.543Z"
   },
   {
    "duration": 161,
    "start_time": "2022-07-14T04:56:28.606Z"
   },
   {
    "duration": 6,
    "start_time": "2022-07-14T04:56:28.769Z"
   },
   {
    "duration": 35,
    "start_time": "2022-07-14T04:56:28.778Z"
   },
   {
    "duration": 18,
    "start_time": "2022-07-14T04:56:28.815Z"
   },
   {
    "duration": 10,
    "start_time": "2022-07-14T04:56:28.835Z"
   },
   {
    "duration": 12,
    "start_time": "2022-07-14T04:56:28.847Z"
   },
   {
    "duration": 10,
    "start_time": "2022-07-14T04:56:28.860Z"
   },
   {
    "duration": 8,
    "start_time": "2022-07-14T04:56:28.872Z"
   },
   {
    "duration": 19,
    "start_time": "2022-07-14T04:56:28.901Z"
   },
   {
    "duration": 22,
    "start_time": "2022-07-14T04:56:28.922Z"
   },
   {
    "duration": 7,
    "start_time": "2022-07-14T04:56:28.946Z"
   },
   {
    "duration": 11,
    "start_time": "2022-07-14T04:56:28.956Z"
   },
   {
    "duration": 45,
    "start_time": "2022-07-14T04:56:28.969Z"
   },
   {
    "duration": 12,
    "start_time": "2022-07-14T04:56:29.016Z"
   },
   {
    "duration": 11,
    "start_time": "2022-07-14T04:56:29.029Z"
   },
   {
    "duration": 24,
    "start_time": "2022-07-14T04:56:29.042Z"
   },
   {
    "duration": 11,
    "start_time": "2022-07-14T04:56:29.068Z"
   },
   {
    "duration": 29,
    "start_time": "2022-07-14T04:56:29.081Z"
   },
   {
    "duration": 22,
    "start_time": "2022-07-14T04:56:29.112Z"
   },
   {
    "duration": 2,
    "start_time": "2022-07-14T04:56:29.136Z"
   },
   {
    "duration": 23,
    "start_time": "2022-07-14T04:56:29.140Z"
   },
   {
    "duration": 41,
    "start_time": "2022-07-14T04:56:29.164Z"
   },
   {
    "duration": 2,
    "start_time": "2022-07-14T04:56:29.207Z"
   },
   {
    "duration": 10,
    "start_time": "2022-07-14T04:56:29.210Z"
   },
   {
    "duration": 7,
    "start_time": "2022-07-14T04:56:29.221Z"
   },
   {
    "duration": 18,
    "start_time": "2022-07-14T04:56:29.229Z"
   },
   {
    "duration": 8,
    "start_time": "2022-07-14T04:56:29.248Z"
   },
   {
    "duration": 5,
    "start_time": "2022-07-14T04:56:29.258Z"
   },
   {
    "duration": 12,
    "start_time": "2022-07-14T04:56:29.265Z"
   },
   {
    "duration": 23,
    "start_time": "2022-07-14T04:56:29.278Z"
   },
   {
    "duration": 14,
    "start_time": "2022-07-14T04:56:29.303Z"
   },
   {
    "duration": 17,
    "start_time": "2022-07-14T04:56:29.319Z"
   },
   {
    "duration": 5,
    "start_time": "2022-07-14T04:56:29.337Z"
   },
   {
    "duration": 6713,
    "start_time": "2022-07-14T04:56:29.343Z"
   },
   {
    "duration": 24,
    "start_time": "2022-07-14T04:56:36.058Z"
   },
   {
    "duration": 16,
    "start_time": "2022-07-14T04:56:36.084Z"
   },
   {
    "duration": 2,
    "start_time": "2022-07-14T04:56:36.102Z"
   },
   {
    "duration": 10,
    "start_time": "2022-07-14T04:56:36.106Z"
   },
   {
    "duration": 30,
    "start_time": "2022-07-14T04:56:36.119Z"
   },
   {
    "duration": 14868,
    "start_time": "2022-07-14T04:57:31.035Z"
   },
   {
    "duration": 15,
    "start_time": "2022-07-14T05:02:57.703Z"
   },
   {
    "duration": 28,
    "start_time": "2022-07-14T05:03:08.273Z"
   },
   {
    "duration": 15,
    "start_time": "2022-07-14T05:03:25.593Z"
   },
   {
    "duration": 1419,
    "start_time": "2022-07-14T05:05:36.776Z"
   },
   {
    "duration": 65,
    "start_time": "2022-07-14T05:05:38.196Z"
   },
   {
    "duration": 156,
    "start_time": "2022-07-14T05:05:38.262Z"
   },
   {
    "duration": 5,
    "start_time": "2022-07-14T05:05:38.420Z"
   },
   {
    "duration": 18,
    "start_time": "2022-07-14T05:05:38.427Z"
   },
   {
    "duration": 20,
    "start_time": "2022-07-14T05:05:38.446Z"
   },
   {
    "duration": 33,
    "start_time": "2022-07-14T05:05:38.468Z"
   },
   {
    "duration": 5,
    "start_time": "2022-07-14T05:05:38.503Z"
   },
   {
    "duration": 9,
    "start_time": "2022-07-14T05:05:38.509Z"
   },
   {
    "duration": 7,
    "start_time": "2022-07-14T05:05:38.520Z"
   },
   {
    "duration": 22,
    "start_time": "2022-07-14T05:05:38.528Z"
   },
   {
    "duration": 17,
    "start_time": "2022-07-14T05:05:38.551Z"
   },
   {
    "duration": 33,
    "start_time": "2022-07-14T05:05:38.570Z"
   },
   {
    "duration": 12,
    "start_time": "2022-07-14T05:05:38.607Z"
   },
   {
    "duration": 20,
    "start_time": "2022-07-14T05:05:38.621Z"
   },
   {
    "duration": 5,
    "start_time": "2022-07-14T05:05:38.642Z"
   },
   {
    "duration": 14,
    "start_time": "2022-07-14T05:05:38.648Z"
   },
   {
    "duration": 22,
    "start_time": "2022-07-14T05:05:38.663Z"
   },
   {
    "duration": 22,
    "start_time": "2022-07-14T05:05:38.687Z"
   },
   {
    "duration": 18,
    "start_time": "2022-07-14T05:05:38.710Z"
   },
   {
    "duration": 24,
    "start_time": "2022-07-14T05:05:38.729Z"
   },
   {
    "duration": 3,
    "start_time": "2022-07-14T05:05:38.755Z"
   },
   {
    "duration": 32,
    "start_time": "2022-07-14T05:05:38.759Z"
   },
   {
    "duration": 44,
    "start_time": "2022-07-14T05:05:38.793Z"
   },
   {
    "duration": 2,
    "start_time": "2022-07-14T05:05:38.839Z"
   },
   {
    "duration": 9,
    "start_time": "2022-07-14T05:05:38.842Z"
   },
   {
    "duration": 11,
    "start_time": "2022-07-14T05:05:38.852Z"
   },
   {
    "duration": 22,
    "start_time": "2022-07-14T05:05:38.864Z"
   },
   {
    "duration": 16,
    "start_time": "2022-07-14T05:05:38.888Z"
   },
   {
    "duration": 11,
    "start_time": "2022-07-14T05:05:38.906Z"
   },
   {
    "duration": 15,
    "start_time": "2022-07-14T05:05:38.918Z"
   },
   {
    "duration": 5,
    "start_time": "2022-07-14T05:05:38.935Z"
   },
   {
    "duration": 17,
    "start_time": "2022-07-14T05:05:38.941Z"
   },
   {
    "duration": 19,
    "start_time": "2022-07-14T05:05:38.960Z"
   },
   {
    "duration": 6,
    "start_time": "2022-07-14T05:05:38.980Z"
   },
   {
    "duration": 6807,
    "start_time": "2022-07-14T05:05:39.001Z"
   },
   {
    "duration": 27,
    "start_time": "2022-07-14T05:05:45.810Z"
   },
   {
    "duration": 15,
    "start_time": "2022-07-14T05:05:45.839Z"
   },
   {
    "duration": 13,
    "start_time": "2022-07-14T05:05:45.856Z"
   },
   {
    "duration": 36,
    "start_time": "2022-07-14T05:05:45.871Z"
   },
   {
    "duration": 26,
    "start_time": "2022-07-14T05:05:45.910Z"
   },
   {
    "duration": 54884,
    "start_time": "2022-07-14T05:05:45.937Z"
   },
   {
    "duration": 1194,
    "start_time": "2022-07-14T05:06:40.823Z"
   },
   {
    "duration": 1471,
    "start_time": "2022-07-14T05:06:44.281Z"
   },
   {
    "duration": 6,
    "start_time": "2022-07-14T05:06:56.626Z"
   },
   {
    "duration": 1330,
    "start_time": "2022-07-14T05:07:51.252Z"
   },
   {
    "duration": 66,
    "start_time": "2022-07-14T05:07:52.584Z"
   },
   {
    "duration": 166,
    "start_time": "2022-07-14T05:07:52.652Z"
   },
   {
    "duration": 5,
    "start_time": "2022-07-14T05:07:52.821Z"
   },
   {
    "duration": 15,
    "start_time": "2022-07-14T05:07:52.828Z"
   },
   {
    "duration": 18,
    "start_time": "2022-07-14T05:07:52.845Z"
   },
   {
    "duration": 42,
    "start_time": "2022-07-14T05:07:52.864Z"
   },
   {
    "duration": 6,
    "start_time": "2022-07-14T05:07:52.907Z"
   },
   {
    "duration": 10,
    "start_time": "2022-07-14T05:07:52.914Z"
   },
   {
    "duration": 9,
    "start_time": "2022-07-14T05:07:52.927Z"
   },
   {
    "duration": 20,
    "start_time": "2022-07-14T05:07:52.937Z"
   },
   {
    "duration": 22,
    "start_time": "2022-07-14T05:07:52.958Z"
   },
   {
    "duration": 26,
    "start_time": "2022-07-14T05:07:52.982Z"
   },
   {
    "duration": 9,
    "start_time": "2022-07-14T05:07:53.010Z"
   },
   {
    "duration": 25,
    "start_time": "2022-07-14T05:07:53.020Z"
   },
   {
    "duration": 8,
    "start_time": "2022-07-14T05:07:53.047Z"
   },
   {
    "duration": 9,
    "start_time": "2022-07-14T05:07:53.057Z"
   },
   {
    "duration": 35,
    "start_time": "2022-07-14T05:07:53.067Z"
   },
   {
    "duration": 12,
    "start_time": "2022-07-14T05:07:53.103Z"
   },
   {
    "duration": 13,
    "start_time": "2022-07-14T05:07:53.116Z"
   },
   {
    "duration": 20,
    "start_time": "2022-07-14T05:07:53.130Z"
   },
   {
    "duration": 2,
    "start_time": "2022-07-14T05:07:53.151Z"
   },
   {
    "duration": 18,
    "start_time": "2022-07-14T05:07:53.155Z"
   },
   {
    "duration": 47,
    "start_time": "2022-07-14T05:07:53.174Z"
   },
   {
    "duration": 2,
    "start_time": "2022-07-14T05:07:53.223Z"
   },
   {
    "duration": 7,
    "start_time": "2022-07-14T05:07:53.226Z"
   },
   {
    "duration": 7,
    "start_time": "2022-07-14T05:07:53.235Z"
   },
   {
    "duration": 13,
    "start_time": "2022-07-14T05:07:53.245Z"
   },
   {
    "duration": 11,
    "start_time": "2022-07-14T05:07:53.260Z"
   },
   {
    "duration": 34,
    "start_time": "2022-07-14T05:07:53.272Z"
   },
   {
    "duration": 15,
    "start_time": "2022-07-14T05:07:53.308Z"
   },
   {
    "duration": 9,
    "start_time": "2022-07-14T05:07:53.324Z"
   },
   {
    "duration": 19,
    "start_time": "2022-07-14T05:07:53.334Z"
   },
   {
    "duration": 19,
    "start_time": "2022-07-14T05:07:53.354Z"
   },
   {
    "duration": 6,
    "start_time": "2022-07-14T05:07:53.374Z"
   },
   {
    "duration": 6996,
    "start_time": "2022-07-14T05:07:53.381Z"
   },
   {
    "duration": 26,
    "start_time": "2022-07-14T05:08:00.379Z"
   },
   {
    "duration": 16,
    "start_time": "2022-07-14T05:08:00.408Z"
   },
   {
    "duration": 14,
    "start_time": "2022-07-14T05:08:00.426Z"
   },
   {
    "duration": 18,
    "start_time": "2022-07-14T05:08:00.442Z"
   },
   {
    "duration": 41,
    "start_time": "2022-07-14T05:08:00.462Z"
   },
   {
    "duration": 6,
    "start_time": "2022-07-14T05:08:00.505Z"
   },
   {
    "duration": 9,
    "start_time": "2022-07-14T05:08:00.513Z"
   },
   {
    "duration": 14,
    "start_time": "2022-07-14T05:09:12.690Z"
   },
   {
    "duration": 7,
    "start_time": "2022-07-14T05:09:18.794Z"
   },
   {
    "duration": 6,
    "start_time": "2022-07-14T05:09:30.683Z"
   },
   {
    "duration": 5,
    "start_time": "2022-07-14T05:09:39.099Z"
   },
   {
    "duration": 7,
    "start_time": "2022-07-14T05:10:39.606Z"
   },
   {
    "duration": 21,
    "start_time": "2022-07-14T05:10:42.782Z"
   },
   {
    "duration": 5,
    "start_time": "2022-07-14T05:11:57.290Z"
   },
   {
    "duration": 28,
    "start_time": "2022-07-14T05:12:17.161Z"
   },
   {
    "duration": 5,
    "start_time": "2022-07-14T05:15:12.978Z"
   },
   {
    "duration": 20,
    "start_time": "2022-07-14T05:15:15.858Z"
   },
   {
    "duration": 1168,
    "start_time": "2022-07-14T05:15:48.699Z"
   },
   {
    "duration": 5,
    "start_time": "2022-07-14T05:15:57.851Z"
   },
   {
    "duration": 16,
    "start_time": "2022-07-14T05:15:59.267Z"
   },
   {
    "duration": 11,
    "start_time": "2022-07-14T05:16:55.664Z"
   },
   {
    "duration": 73016,
    "start_time": "2022-07-14T05:17:05.126Z"
   },
   {
    "duration": 20,
    "start_time": "2022-07-14T05:33:35.175Z"
   },
   {
    "duration": 11,
    "start_time": "2022-07-14T05:33:48.126Z"
   },
   {
    "duration": 39,
    "start_time": "2022-07-14T05:34:05.509Z"
   },
   {
    "duration": 60,
    "start_time": "2022-07-14T05:34:12.154Z"
   },
   {
    "duration": 47,
    "start_time": "2022-07-14T05:34:22.602Z"
   },
   {
    "duration": 23,
    "start_time": "2022-07-14T05:34:25.786Z"
   },
   {
    "duration": 15,
    "start_time": "2022-07-14T05:34:42.308Z"
   },
   {
    "duration": 15,
    "start_time": "2022-07-14T05:34:56.316Z"
   },
   {
    "duration": 19,
    "start_time": "2022-07-14T05:35:10.828Z"
   },
   {
    "duration": 10,
    "start_time": "2022-07-14T05:35:40.094Z"
   },
   {
    "duration": 20,
    "start_time": "2022-07-14T05:35:45.237Z"
   },
   {
    "duration": 10,
    "start_time": "2022-07-14T05:36:20.654Z"
   },
   {
    "duration": 74961,
    "start_time": "2022-07-14T05:36:27.031Z"
   },
   {
    "duration": 8,
    "start_time": "2022-07-14T05:42:08.398Z"
   },
   {
    "duration": 4,
    "start_time": "2022-07-14T05:42:54.383Z"
   },
   {
    "duration": 10,
    "start_time": "2022-07-14T05:47:33.010Z"
   },
   {
    "duration": 14,
    "start_time": "2022-07-14T05:48:33.933Z"
   },
   {
    "duration": 9,
    "start_time": "2022-07-14T05:48:47.366Z"
   },
   {
    "duration": 47,
    "start_time": "2022-07-14T05:53:56.090Z"
   },
   {
    "duration": 19,
    "start_time": "2022-07-14T05:54:41.884Z"
   },
   {
    "duration": 1057,
    "start_time": "2022-07-14T06:00:37.754Z"
   },
   {
    "duration": 1415,
    "start_time": "2022-07-14T06:07:53.636Z"
   },
   {
    "duration": 69,
    "start_time": "2022-07-14T06:07:55.053Z"
   },
   {
    "duration": 213,
    "start_time": "2022-07-14T06:07:55.124Z"
   },
   {
    "duration": 7,
    "start_time": "2022-07-14T06:07:55.339Z"
   },
   {
    "duration": 32,
    "start_time": "2022-07-14T06:07:55.350Z"
   },
   {
    "duration": 41,
    "start_time": "2022-07-14T06:07:55.384Z"
   },
   {
    "duration": 12,
    "start_time": "2022-07-14T06:07:55.426Z"
   },
   {
    "duration": 4,
    "start_time": "2022-07-14T06:07:55.440Z"
   },
   {
    "duration": 9,
    "start_time": "2022-07-14T06:07:55.446Z"
   },
   {
    "duration": 9,
    "start_time": "2022-07-14T06:07:55.456Z"
   },
   {
    "duration": 42,
    "start_time": "2022-07-14T06:07:55.466Z"
   },
   {
    "duration": 20,
    "start_time": "2022-07-14T06:07:55.510Z"
   },
   {
    "duration": 8,
    "start_time": "2022-07-14T06:07:55.532Z"
   },
   {
    "duration": 13,
    "start_time": "2022-07-14T06:07:55.543Z"
   },
   {
    "duration": 44,
    "start_time": "2022-07-14T06:07:55.558Z"
   },
   {
    "duration": 6,
    "start_time": "2022-07-14T06:07:55.603Z"
   },
   {
    "duration": 9,
    "start_time": "2022-07-14T06:07:55.611Z"
   },
   {
    "duration": 22,
    "start_time": "2022-07-14T06:07:55.621Z"
   },
   {
    "duration": 12,
    "start_time": "2022-07-14T06:07:55.644Z"
   },
   {
    "duration": 13,
    "start_time": "2022-07-14T06:07:55.658Z"
   },
   {
    "duration": 44,
    "start_time": "2022-07-14T06:07:55.673Z"
   },
   {
    "duration": 2,
    "start_time": "2022-07-14T06:07:55.719Z"
   },
   {
    "duration": 17,
    "start_time": "2022-07-14T06:07:55.723Z"
   },
   {
    "duration": 32,
    "start_time": "2022-07-14T06:07:55.741Z"
   },
   {
    "duration": 2,
    "start_time": "2022-07-14T06:07:55.775Z"
   },
   {
    "duration": 3,
    "start_time": "2022-07-14T06:07:55.801Z"
   },
   {
    "duration": 8,
    "start_time": "2022-07-14T06:07:55.805Z"
   },
   {
    "duration": 29,
    "start_time": "2022-07-14T06:07:55.814Z"
   },
   {
    "duration": 17,
    "start_time": "2022-07-14T06:07:55.845Z"
   },
   {
    "duration": 9,
    "start_time": "2022-07-14T06:07:55.864Z"
   },
   {
    "duration": 19,
    "start_time": "2022-07-14T06:07:55.874Z"
   },
   {
    "duration": 7,
    "start_time": "2022-07-14T06:07:55.895Z"
   },
   {
    "duration": 18,
    "start_time": "2022-07-14T06:07:55.904Z"
   },
   {
    "duration": 25,
    "start_time": "2022-07-14T06:07:55.924Z"
   },
   {
    "duration": 7,
    "start_time": "2022-07-14T06:07:55.951Z"
   },
   {
    "duration": 7112,
    "start_time": "2022-07-14T06:07:55.960Z"
   },
   {
    "duration": 24,
    "start_time": "2022-07-14T06:08:03.074Z"
   },
   {
    "duration": 16,
    "start_time": "2022-07-14T06:08:03.099Z"
   },
   {
    "duration": 7,
    "start_time": "2022-07-14T06:08:03.116Z"
   },
   {
    "duration": 39,
    "start_time": "2022-07-14T06:08:03.124Z"
   },
   {
    "duration": 15,
    "start_time": "2022-07-14T06:08:03.167Z"
   },
   {
    "duration": 14,
    "start_time": "2022-07-14T06:08:03.183Z"
   },
   {
    "duration": 791,
    "start_time": "2022-07-14T06:08:03.198Z"
   },
   {
    "duration": 121,
    "start_time": "2022-07-14T06:08:03.991Z"
   },
   {
    "duration": 124,
    "start_time": "2022-07-14T06:08:04.114Z"
   },
   {
    "duration": 107,
    "start_time": "2022-07-14T06:08:04.239Z"
   },
   {
    "duration": 0,
    "start_time": "2022-07-14T06:08:04.348Z"
   },
   {
    "duration": 0,
    "start_time": "2022-07-14T06:08:04.349Z"
   },
   {
    "duration": 6,
    "start_time": "2022-07-14T06:10:12.782Z"
   },
   {
    "duration": 6,
    "start_time": "2022-07-14T06:10:26.541Z"
   },
   {
    "duration": 1403,
    "start_time": "2022-07-14T06:11:28.368Z"
   },
   {
    "duration": 66,
    "start_time": "2022-07-14T06:11:29.773Z"
   },
   {
    "duration": 132,
    "start_time": "2022-07-14T06:11:29.840Z"
   },
   {
    "duration": 5,
    "start_time": "2022-07-14T06:11:29.974Z"
   },
   {
    "duration": 66,
    "start_time": "2022-07-14T06:11:29.980Z"
   },
   {
    "duration": 37,
    "start_time": "2022-07-14T06:11:30.048Z"
   },
   {
    "duration": 11,
    "start_time": "2022-07-14T06:11:30.087Z"
   },
   {
    "duration": 13,
    "start_time": "2022-07-14T06:11:30.100Z"
   },
   {
    "duration": 13,
    "start_time": "2022-07-14T06:11:30.115Z"
   },
   {
    "duration": 17,
    "start_time": "2022-07-14T06:11:30.131Z"
   },
   {
    "duration": 27,
    "start_time": "2022-07-14T06:11:30.149Z"
   },
   {
    "duration": 30,
    "start_time": "2022-07-14T06:11:30.177Z"
   },
   {
    "duration": 8,
    "start_time": "2022-07-14T06:11:30.209Z"
   },
   {
    "duration": 22,
    "start_time": "2022-07-14T06:11:30.218Z"
   },
   {
    "duration": 21,
    "start_time": "2022-07-14T06:11:30.242Z"
   },
   {
    "duration": 8,
    "start_time": "2022-07-14T06:11:30.264Z"
   },
   {
    "duration": 21,
    "start_time": "2022-07-14T06:11:30.274Z"
   },
   {
    "duration": 31,
    "start_time": "2022-07-14T06:11:30.297Z"
   },
   {
    "duration": 17,
    "start_time": "2022-07-14T06:11:30.329Z"
   },
   {
    "duration": 20,
    "start_time": "2022-07-14T06:11:30.348Z"
   },
   {
    "duration": 19,
    "start_time": "2022-07-14T06:11:30.370Z"
   },
   {
    "duration": 2,
    "start_time": "2022-07-14T06:11:30.390Z"
   },
   {
    "duration": 16,
    "start_time": "2022-07-14T06:11:30.394Z"
   },
   {
    "duration": 42,
    "start_time": "2022-07-14T06:11:30.412Z"
   },
   {
    "duration": 3,
    "start_time": "2022-07-14T06:11:30.455Z"
   },
   {
    "duration": 13,
    "start_time": "2022-07-14T06:11:30.459Z"
   },
   {
    "duration": 13,
    "start_time": "2022-07-14T06:11:30.474Z"
   },
   {
    "duration": 34,
    "start_time": "2022-07-14T06:11:30.490Z"
   },
   {
    "duration": 17,
    "start_time": "2022-07-14T06:11:30.526Z"
   },
   {
    "duration": 17,
    "start_time": "2022-07-14T06:11:30.545Z"
   },
   {
    "duration": 23,
    "start_time": "2022-07-14T06:11:30.563Z"
   },
   {
    "duration": 5,
    "start_time": "2022-07-14T06:11:30.588Z"
   },
   {
    "duration": 37,
    "start_time": "2022-07-14T06:11:30.594Z"
   },
   {
    "duration": 26,
    "start_time": "2022-07-14T06:11:30.633Z"
   },
   {
    "duration": 7,
    "start_time": "2022-07-14T06:11:30.661Z"
   },
   {
    "duration": 6882,
    "start_time": "2022-07-14T06:11:30.670Z"
   },
   {
    "duration": 23,
    "start_time": "2022-07-14T06:11:37.554Z"
   },
   {
    "duration": 14,
    "start_time": "2022-07-14T06:11:37.579Z"
   },
   {
    "duration": 7,
    "start_time": "2022-07-14T06:11:37.595Z"
   },
   {
    "duration": 9,
    "start_time": "2022-07-14T06:11:37.603Z"
   },
   {
    "duration": 18,
    "start_time": "2022-07-14T06:11:37.613Z"
   },
   {
    "duration": 5,
    "start_time": "2022-07-14T06:11:37.632Z"
   },
   {
    "duration": 7,
    "start_time": "2022-07-14T06:11:37.639Z"
   },
   {
    "duration": 745,
    "start_time": "2022-07-14T06:11:37.647Z"
   },
   {
    "duration": 114,
    "start_time": "2022-07-14T06:11:38.394Z"
   },
   {
    "duration": 126,
    "start_time": "2022-07-14T06:11:38.510Z"
   },
   {
    "duration": 109,
    "start_time": "2022-07-14T06:11:38.637Z"
   },
   {
    "duration": 0,
    "start_time": "2022-07-14T06:11:38.748Z"
   },
   {
    "duration": 0,
    "start_time": "2022-07-14T06:11:38.749Z"
   },
   {
    "duration": 7,
    "start_time": "2022-07-14T06:20:40.762Z"
   },
   {
    "duration": 51,
    "start_time": "2022-07-14T06:20:42.363Z"
   },
   {
    "duration": 1432,
    "start_time": "2022-07-14T06:23:05.392Z"
   },
   {
    "duration": 68,
    "start_time": "2022-07-14T06:23:06.825Z"
   },
   {
    "duration": 159,
    "start_time": "2022-07-14T06:23:06.895Z"
   },
   {
    "duration": 5,
    "start_time": "2022-07-14T06:23:07.056Z"
   },
   {
    "duration": 39,
    "start_time": "2022-07-14T06:23:07.063Z"
   },
   {
    "duration": 23,
    "start_time": "2022-07-14T06:23:07.104Z"
   },
   {
    "duration": 12,
    "start_time": "2022-07-14T06:23:07.128Z"
   },
   {
    "duration": 10,
    "start_time": "2022-07-14T06:23:07.142Z"
   },
   {
    "duration": 9,
    "start_time": "2022-07-14T06:23:07.153Z"
   },
   {
    "duration": 6,
    "start_time": "2022-07-14T06:23:07.164Z"
   },
   {
    "duration": 37,
    "start_time": "2022-07-14T06:23:07.172Z"
   },
   {
    "duration": 20,
    "start_time": "2022-07-14T06:23:07.210Z"
   },
   {
    "duration": 8,
    "start_time": "2022-07-14T06:23:07.231Z"
   },
   {
    "duration": 13,
    "start_time": "2022-07-14T06:23:07.240Z"
   },
   {
    "duration": 20,
    "start_time": "2022-07-14T06:23:07.254Z"
   },
   {
    "duration": 25,
    "start_time": "2022-07-14T06:23:07.275Z"
   },
   {
    "duration": 5,
    "start_time": "2022-07-14T06:23:07.302Z"
   },
   {
    "duration": 18,
    "start_time": "2022-07-14T06:23:07.309Z"
   },
   {
    "duration": 11,
    "start_time": "2022-07-14T06:23:07.329Z"
   },
   {
    "duration": 13,
    "start_time": "2022-07-14T06:23:07.342Z"
   },
   {
    "duration": 47,
    "start_time": "2022-07-14T06:23:07.357Z"
   },
   {
    "duration": 2,
    "start_time": "2022-07-14T06:23:07.406Z"
   },
   {
    "duration": 14,
    "start_time": "2022-07-14T06:23:07.410Z"
   },
   {
    "duration": 34,
    "start_time": "2022-07-14T06:23:07.426Z"
   },
   {
    "duration": 2,
    "start_time": "2022-07-14T06:23:07.462Z"
   },
   {
    "duration": 12,
    "start_time": "2022-07-14T06:23:07.466Z"
   },
   {
    "duration": 22,
    "start_time": "2022-07-14T06:23:07.480Z"
   },
   {
    "duration": 17,
    "start_time": "2022-07-14T06:23:07.505Z"
   },
   {
    "duration": 15,
    "start_time": "2022-07-14T06:23:07.524Z"
   },
   {
    "duration": 11,
    "start_time": "2022-07-14T06:23:07.540Z"
   },
   {
    "duration": 18,
    "start_time": "2022-07-14T06:23:07.553Z"
   },
   {
    "duration": 6,
    "start_time": "2022-07-14T06:23:07.572Z"
   },
   {
    "duration": 23,
    "start_time": "2022-07-14T06:23:07.579Z"
   },
   {
    "duration": 16,
    "start_time": "2022-07-14T06:23:07.604Z"
   },
   {
    "duration": 6,
    "start_time": "2022-07-14T06:23:07.621Z"
   },
   {
    "duration": 3787,
    "start_time": "2022-07-14T06:23:07.629Z"
   },
   {
    "duration": 20,
    "start_time": "2022-07-14T06:23:11.418Z"
   },
   {
    "duration": 14,
    "start_time": "2022-07-14T06:23:11.439Z"
   },
   {
    "duration": 7,
    "start_time": "2022-07-14T06:23:11.455Z"
   },
   {
    "duration": 10,
    "start_time": "2022-07-14T06:23:11.464Z"
   },
   {
    "duration": 26,
    "start_time": "2022-07-14T06:23:11.476Z"
   },
   {
    "duration": 22,
    "start_time": "2022-07-14T06:23:11.504Z"
   },
   {
    "duration": 57,
    "start_time": "2022-07-14T06:23:11.528Z"
   },
   {
    "duration": 4,
    "start_time": "2022-07-14T06:23:11.586Z"
   },
   {
    "duration": 19,
    "start_time": "2022-07-14T06:23:11.592Z"
   },
   {
    "duration": 106,
    "start_time": "2022-07-14T06:23:11.612Z"
   },
   {
    "duration": 0,
    "start_time": "2022-07-14T06:23:11.720Z"
   },
   {
    "duration": 0,
    "start_time": "2022-07-14T06:23:11.721Z"
   },
   {
    "duration": 5,
    "start_time": "2022-07-14T06:29:25.879Z"
   },
   {
    "duration": 29,
    "start_time": "2022-07-14T06:29:34.295Z"
   },
   {
    "duration": 6,
    "start_time": "2022-07-14T06:30:00.519Z"
   },
   {
    "duration": 1432,
    "start_time": "2022-07-14T06:30:14.501Z"
   },
   {
    "duration": 69,
    "start_time": "2022-07-14T06:30:15.935Z"
   },
   {
    "duration": 165,
    "start_time": "2022-07-14T06:30:16.008Z"
   },
   {
    "duration": 27,
    "start_time": "2022-07-14T06:30:16.175Z"
   },
   {
    "duration": 27,
    "start_time": "2022-07-14T06:30:16.203Z"
   },
   {
    "duration": 20,
    "start_time": "2022-07-14T06:30:16.231Z"
   },
   {
    "duration": 11,
    "start_time": "2022-07-14T06:30:16.253Z"
   },
   {
    "duration": 5,
    "start_time": "2022-07-14T06:30:16.265Z"
   },
   {
    "duration": 9,
    "start_time": "2022-07-14T06:30:16.273Z"
   },
   {
    "duration": 18,
    "start_time": "2022-07-14T06:30:16.283Z"
   },
   {
    "duration": 18,
    "start_time": "2022-07-14T06:30:16.302Z"
   },
   {
    "duration": 26,
    "start_time": "2022-07-14T06:30:16.321Z"
   },
   {
    "duration": 8,
    "start_time": "2022-07-14T06:30:16.350Z"
   },
   {
    "duration": 14,
    "start_time": "2022-07-14T06:30:16.360Z"
   },
   {
    "duration": 40,
    "start_time": "2022-07-14T06:30:16.376Z"
   },
   {
    "duration": 6,
    "start_time": "2022-07-14T06:30:16.418Z"
   },
   {
    "duration": 14,
    "start_time": "2022-07-14T06:30:16.425Z"
   },
   {
    "duration": 21,
    "start_time": "2022-07-14T06:30:16.440Z"
   },
   {
    "duration": 11,
    "start_time": "2022-07-14T06:30:16.463Z"
   },
   {
    "duration": 28,
    "start_time": "2022-07-14T06:30:16.475Z"
   },
   {
    "duration": 5,
    "start_time": "2022-07-14T06:30:16.504Z"
   },
   {
    "duration": 24,
    "start_time": "2022-07-14T06:30:16.511Z"
   },
   {
    "duration": 2,
    "start_time": "2022-07-14T06:30:16.536Z"
   },
   {
    "duration": 20,
    "start_time": "2022-07-14T06:30:16.540Z"
   },
   {
    "duration": 42,
    "start_time": "2022-07-14T06:30:16.562Z"
   },
   {
    "duration": 2,
    "start_time": "2022-07-14T06:30:16.606Z"
   },
   {
    "duration": 7,
    "start_time": "2022-07-14T06:30:16.611Z"
   },
   {
    "duration": 5,
    "start_time": "2022-07-14T06:30:16.619Z"
   },
   {
    "duration": 16,
    "start_time": "2022-07-14T06:30:16.625Z"
   },
   {
    "duration": 11,
    "start_time": "2022-07-14T06:30:16.643Z"
   },
   {
    "duration": 5,
    "start_time": "2022-07-14T06:30:16.655Z"
   },
   {
    "duration": 17,
    "start_time": "2022-07-14T06:30:16.662Z"
   },
   {
    "duration": 24,
    "start_time": "2022-07-14T06:30:16.680Z"
   },
   {
    "duration": 16,
    "start_time": "2022-07-14T06:30:16.706Z"
   },
   {
    "duration": 28,
    "start_time": "2022-07-14T06:30:16.724Z"
   },
   {
    "duration": 10,
    "start_time": "2022-07-14T06:30:16.754Z"
   },
   {
    "duration": 3834,
    "start_time": "2022-07-14T06:30:16.766Z"
   },
   {
    "duration": 21,
    "start_time": "2022-07-14T06:30:20.602Z"
   },
   {
    "duration": 14,
    "start_time": "2022-07-14T06:30:20.625Z"
   },
   {
    "duration": 7,
    "start_time": "2022-07-14T06:30:20.641Z"
   },
   {
    "duration": 10,
    "start_time": "2022-07-14T06:30:20.649Z"
   },
   {
    "duration": 22,
    "start_time": "2022-07-14T06:30:20.661Z"
   },
   {
    "duration": 7,
    "start_time": "2022-07-14T06:30:20.700Z"
   },
   {
    "duration": 55,
    "start_time": "2022-07-14T06:30:20.709Z"
   },
   {
    "duration": 4,
    "start_time": "2022-07-14T06:30:20.766Z"
   },
   {
    "duration": 13,
    "start_time": "2022-07-14T06:30:20.771Z"
   },
   {
    "duration": 106,
    "start_time": "2022-07-14T06:30:20.801Z"
   },
   {
    "duration": 1,
    "start_time": "2022-07-14T06:30:20.908Z"
   },
   {
    "duration": 0,
    "start_time": "2022-07-14T06:30:20.910Z"
   },
   {
    "duration": 2,
    "start_time": "2022-07-14T06:34:52.580Z"
   },
   {
    "duration": 10,
    "start_time": "2022-07-14T06:35:20.316Z"
   },
   {
    "duration": 5,
    "start_time": "2022-07-14T06:35:38.238Z"
   },
   {
    "duration": 9,
    "start_time": "2022-07-14T06:36:13.696Z"
   },
   {
    "duration": 12,
    "start_time": "2022-07-14T06:36:56.490Z"
   },
   {
    "duration": 5,
    "start_time": "2022-07-14T06:37:18.172Z"
   },
   {
    "duration": 58,
    "start_time": "2022-07-14T06:42:16.074Z"
   },
   {
    "duration": 5,
    "start_time": "2022-07-14T06:42:26.050Z"
   },
   {
    "duration": 11,
    "start_time": "2022-07-14T06:42:52.612Z"
   },
   {
    "duration": 3,
    "start_time": "2022-07-14T06:42:54.906Z"
   },
   {
    "duration": 16,
    "start_time": "2022-07-14T06:42:58.651Z"
   },
   {
    "duration": 5,
    "start_time": "2022-07-14T06:42:59.939Z"
   },
   {
    "duration": 22,
    "start_time": "2022-07-14T06:43:06.612Z"
   },
   {
    "duration": 16,
    "start_time": "2022-07-14T06:48:04.689Z"
   },
   {
    "duration": 5,
    "start_time": "2022-07-14T06:57:10.704Z"
   },
   {
    "duration": 67,
    "start_time": "2022-07-14T06:57:12.152Z"
   },
   {
    "duration": 4,
    "start_time": "2022-07-14T06:58:07.235Z"
   },
   {
    "duration": 839,
    "start_time": "2022-07-14T06:58:11.963Z"
   },
   {
    "duration": 10,
    "start_time": "2022-07-14T06:59:15.085Z"
   },
   {
    "duration": 3,
    "start_time": "2022-07-14T06:59:16.565Z"
   },
   {
    "duration": 22,
    "start_time": "2022-07-14T06:59:17.053Z"
   },
   {
    "duration": 15,
    "start_time": "2022-07-14T06:59:18.102Z"
   },
   {
    "duration": 5,
    "start_time": "2022-07-14T06:59:25.710Z"
   },
   {
    "duration": 933,
    "start_time": "2022-07-14T06:59:26.477Z"
   },
   {
    "duration": 1402,
    "start_time": "2022-07-14T07:02:10.059Z"
   },
   {
    "duration": 109,
    "start_time": "2022-07-14T07:02:11.463Z"
   },
   {
    "duration": 161,
    "start_time": "2022-07-14T07:02:11.573Z"
   },
   {
    "duration": 6,
    "start_time": "2022-07-14T07:02:11.736Z"
   },
   {
    "duration": 34,
    "start_time": "2022-07-14T07:02:11.745Z"
   },
   {
    "duration": 39,
    "start_time": "2022-07-14T07:02:11.781Z"
   },
   {
    "duration": 16,
    "start_time": "2022-07-14T07:02:11.822Z"
   },
   {
    "duration": 19,
    "start_time": "2022-07-14T07:02:11.840Z"
   },
   {
    "duration": 14,
    "start_time": "2022-07-14T07:02:11.860Z"
   },
   {
    "duration": 27,
    "start_time": "2022-07-14T07:02:11.875Z"
   },
   {
    "duration": 45,
    "start_time": "2022-07-14T07:02:11.904Z"
   },
   {
    "duration": 29,
    "start_time": "2022-07-14T07:02:11.951Z"
   },
   {
    "duration": 40,
    "start_time": "2022-07-14T07:02:11.981Z"
   },
   {
    "duration": 26,
    "start_time": "2022-07-14T07:02:12.026Z"
   },
   {
    "duration": 58,
    "start_time": "2022-07-14T07:02:12.054Z"
   },
   {
    "duration": 26,
    "start_time": "2022-07-14T07:02:12.114Z"
   },
   {
    "duration": 26,
    "start_time": "2022-07-14T07:02:12.141Z"
   },
   {
    "duration": 27,
    "start_time": "2022-07-14T07:02:12.169Z"
   },
   {
    "duration": 53,
    "start_time": "2022-07-14T07:02:12.198Z"
   },
   {
    "duration": 33,
    "start_time": "2022-07-14T07:02:12.253Z"
   },
   {
    "duration": 20,
    "start_time": "2022-07-14T07:02:12.288Z"
   },
   {
    "duration": 47,
    "start_time": "2022-07-14T07:02:12.310Z"
   },
   {
    "duration": 3,
    "start_time": "2022-07-14T07:02:12.359Z"
   },
   {
    "duration": 33,
    "start_time": "2022-07-14T07:02:12.364Z"
   },
   {
    "duration": 48,
    "start_time": "2022-07-14T07:02:12.399Z"
   },
   {
    "duration": 8,
    "start_time": "2022-07-14T07:02:12.449Z"
   },
   {
    "duration": 40,
    "start_time": "2022-07-14T07:02:12.459Z"
   },
   {
    "duration": 23,
    "start_time": "2022-07-14T07:02:12.501Z"
   },
   {
    "duration": 35,
    "start_time": "2022-07-14T07:02:12.526Z"
   },
   {
    "duration": 16,
    "start_time": "2022-07-14T07:02:12.563Z"
   },
   {
    "duration": 20,
    "start_time": "2022-07-14T07:02:12.581Z"
   },
   {
    "duration": 34,
    "start_time": "2022-07-14T07:02:12.603Z"
   },
   {
    "duration": 13,
    "start_time": "2022-07-14T07:02:12.639Z"
   },
   {
    "duration": 16,
    "start_time": "2022-07-14T07:02:12.653Z"
   },
   {
    "duration": 17,
    "start_time": "2022-07-14T07:02:12.671Z"
   },
   {
    "duration": 6,
    "start_time": "2022-07-14T07:02:12.690Z"
   },
   {
    "duration": 4082,
    "start_time": "2022-07-14T07:02:12.697Z"
   },
   {
    "duration": 37,
    "start_time": "2022-07-14T07:02:16.781Z"
   },
   {
    "duration": 21,
    "start_time": "2022-07-14T07:02:16.820Z"
   },
   {
    "duration": 15,
    "start_time": "2022-07-14T07:02:16.843Z"
   },
   {
    "duration": 4,
    "start_time": "2022-07-14T07:02:16.863Z"
   },
   {
    "duration": 32,
    "start_time": "2022-07-14T07:02:16.869Z"
   },
   {
    "duration": 6,
    "start_time": "2022-07-14T07:02:16.903Z"
   },
   {
    "duration": 94,
    "start_time": "2022-07-14T07:02:16.911Z"
   },
   {
    "duration": 5,
    "start_time": "2022-07-14T07:02:17.007Z"
   },
   {
    "duration": 16,
    "start_time": "2022-07-14T07:02:17.014Z"
   },
   {
    "duration": 3,
    "start_time": "2022-07-14T07:02:17.032Z"
   },
   {
    "duration": 19,
    "start_time": "2022-07-14T07:02:17.037Z"
   },
   {
    "duration": 15,
    "start_time": "2022-07-14T07:02:17.058Z"
   },
   {
    "duration": 35,
    "start_time": "2022-07-14T07:02:17.075Z"
   },
   {
    "duration": 1792,
    "start_time": "2022-07-14T07:02:17.112Z"
   },
   {
    "duration": 1379,
    "start_time": "2022-07-14T07:23:40.041Z"
   },
   {
    "duration": 112,
    "start_time": "2022-07-14T07:23:41.422Z"
   },
   {
    "duration": 168,
    "start_time": "2022-07-14T07:23:41.536Z"
   },
   {
    "duration": 9,
    "start_time": "2022-07-14T07:23:41.706Z"
   },
   {
    "duration": 27,
    "start_time": "2022-07-14T07:23:41.717Z"
   },
   {
    "duration": 21,
    "start_time": "2022-07-14T07:23:41.745Z"
   },
   {
    "duration": 10,
    "start_time": "2022-07-14T07:23:41.768Z"
   },
   {
    "duration": 5,
    "start_time": "2022-07-14T07:23:41.779Z"
   },
   {
    "duration": 23,
    "start_time": "2022-07-14T07:23:41.785Z"
   },
   {
    "duration": 6,
    "start_time": "2022-07-14T07:23:41.811Z"
   },
   {
    "duration": 20,
    "start_time": "2022-07-14T07:23:41.819Z"
   },
   {
    "duration": 19,
    "start_time": "2022-07-14T07:23:41.841Z"
   },
   {
    "duration": 9,
    "start_time": "2022-07-14T07:23:41.861Z"
   },
   {
    "duration": 12,
    "start_time": "2022-07-14T07:23:41.872Z"
   },
   {
    "duration": 27,
    "start_time": "2022-07-14T07:23:41.901Z"
   },
   {
    "duration": 14,
    "start_time": "2022-07-14T07:23:41.932Z"
   },
   {
    "duration": 13,
    "start_time": "2022-07-14T07:23:41.948Z"
   },
   {
    "duration": 32,
    "start_time": "2022-07-14T07:23:41.963Z"
   },
   {
    "duration": 20,
    "start_time": "2022-07-14T07:23:41.997Z"
   },
   {
    "duration": 31,
    "start_time": "2022-07-14T07:23:42.020Z"
   },
   {
    "duration": 9,
    "start_time": "2022-07-14T07:23:42.053Z"
   },
   {
    "duration": 36,
    "start_time": "2022-07-14T07:23:42.063Z"
   },
   {
    "duration": 4,
    "start_time": "2022-07-14T07:23:42.101Z"
   },
   {
    "duration": 33,
    "start_time": "2022-07-14T07:23:42.107Z"
   },
   {
    "duration": 40,
    "start_time": "2022-07-14T07:23:42.141Z"
   },
   {
    "duration": 3,
    "start_time": "2022-07-14T07:23:42.182Z"
   },
   {
    "duration": 6,
    "start_time": "2022-07-14T07:23:42.187Z"
   },
   {
    "duration": 8,
    "start_time": "2022-07-14T07:23:42.196Z"
   },
   {
    "duration": 19,
    "start_time": "2022-07-14T07:23:42.206Z"
   },
   {
    "duration": 15,
    "start_time": "2022-07-14T07:23:42.227Z"
   },
   {
    "duration": 9,
    "start_time": "2022-07-14T07:23:42.243Z"
   },
   {
    "duration": 17,
    "start_time": "2022-07-14T07:23:42.254Z"
   },
   {
    "duration": 5,
    "start_time": "2022-07-14T07:23:42.272Z"
   },
   {
    "duration": 24,
    "start_time": "2022-07-14T07:23:42.278Z"
   },
   {
    "duration": 23,
    "start_time": "2022-07-14T07:23:42.304Z"
   },
   {
    "duration": 5,
    "start_time": "2022-07-14T07:23:42.329Z"
   },
   {
    "duration": 4112,
    "start_time": "2022-07-14T07:23:42.335Z"
   },
   {
    "duration": 21,
    "start_time": "2022-07-14T07:23:46.448Z"
   },
   {
    "duration": 31,
    "start_time": "2022-07-14T07:23:46.470Z"
   },
   {
    "duration": 28,
    "start_time": "2022-07-14T07:23:46.502Z"
   },
   {
    "duration": 23,
    "start_time": "2022-07-14T07:23:46.532Z"
   },
   {
    "duration": 34,
    "start_time": "2022-07-14T07:23:46.557Z"
   },
   {
    "duration": 10,
    "start_time": "2022-07-14T07:23:46.593Z"
   },
   {
    "duration": 66,
    "start_time": "2022-07-14T07:23:46.605Z"
   },
   {
    "duration": 4,
    "start_time": "2022-07-14T07:23:46.673Z"
   },
   {
    "duration": 27,
    "start_time": "2022-07-14T07:23:46.678Z"
   },
   {
    "duration": 3,
    "start_time": "2022-07-14T07:23:46.706Z"
   },
   {
    "duration": 48,
    "start_time": "2022-07-14T07:23:46.711Z"
   },
   {
    "duration": 25,
    "start_time": "2022-07-14T07:23:46.761Z"
   },
   {
    "duration": 22,
    "start_time": "2022-07-14T07:23:46.788Z"
   },
   {
    "duration": 1889,
    "start_time": "2022-07-14T07:23:46.812Z"
   },
   {
    "duration": 1585,
    "start_time": "2022-07-14T07:27:35.061Z"
   },
   {
    "duration": 109,
    "start_time": "2022-07-14T07:27:36.648Z"
   },
   {
    "duration": 169,
    "start_time": "2022-07-14T07:27:36.759Z"
   },
   {
    "duration": 7,
    "start_time": "2022-07-14T07:27:36.931Z"
   },
   {
    "duration": 21,
    "start_time": "2022-07-14T07:27:36.940Z"
   },
   {
    "duration": 19,
    "start_time": "2022-07-14T07:27:36.962Z"
   },
   {
    "duration": 16,
    "start_time": "2022-07-14T07:27:37.001Z"
   },
   {
    "duration": 12,
    "start_time": "2022-07-14T07:27:37.019Z"
   },
   {
    "duration": 13,
    "start_time": "2022-07-14T07:27:37.033Z"
   },
   {
    "duration": 13,
    "start_time": "2022-07-14T07:27:37.047Z"
   },
   {
    "duration": 24,
    "start_time": "2022-07-14T07:27:37.061Z"
   },
   {
    "duration": 24,
    "start_time": "2022-07-14T07:27:37.086Z"
   },
   {
    "duration": 8,
    "start_time": "2022-07-14T07:27:37.112Z"
   },
   {
    "duration": 18,
    "start_time": "2022-07-14T07:27:37.124Z"
   },
   {
    "duration": 21,
    "start_time": "2022-07-14T07:27:37.144Z"
   },
   {
    "duration": 6,
    "start_time": "2022-07-14T07:27:37.167Z"
   },
   {
    "duration": 29,
    "start_time": "2022-07-14T07:27:37.174Z"
   },
   {
    "duration": 33,
    "start_time": "2022-07-14T07:27:37.205Z"
   },
   {
    "duration": 11,
    "start_time": "2022-07-14T07:27:37.240Z"
   },
   {
    "duration": 17,
    "start_time": "2022-07-14T07:27:37.253Z"
   },
   {
    "duration": 5,
    "start_time": "2022-07-14T07:27:37.271Z"
   },
   {
    "duration": 38,
    "start_time": "2022-07-14T07:27:37.277Z"
   },
   {
    "duration": 3,
    "start_time": "2022-07-14T07:27:37.317Z"
   },
   {
    "duration": 19,
    "start_time": "2022-07-14T07:27:37.322Z"
   },
   {
    "duration": 29,
    "start_time": "2022-07-14T07:27:37.343Z"
   },
   {
    "duration": 2,
    "start_time": "2022-07-14T07:27:37.373Z"
   },
   {
    "duration": 9,
    "start_time": "2022-07-14T07:27:37.377Z"
   },
   {
    "duration": 14,
    "start_time": "2022-07-14T07:27:37.400Z"
   },
   {
    "duration": 20,
    "start_time": "2022-07-14T07:27:37.416Z"
   },
   {
    "duration": 14,
    "start_time": "2022-07-14T07:27:37.438Z"
   },
   {
    "duration": 25,
    "start_time": "2022-07-14T07:27:37.453Z"
   },
   {
    "duration": 7,
    "start_time": "2022-07-14T07:27:37.480Z"
   },
   {
    "duration": 43,
    "start_time": "2022-07-14T07:27:37.489Z"
   },
   {
    "duration": 31,
    "start_time": "2022-07-14T07:27:37.534Z"
   },
   {
    "duration": 6,
    "start_time": "2022-07-14T07:27:37.567Z"
   },
   {
    "duration": 3987,
    "start_time": "2022-07-14T07:27:37.574Z"
   },
   {
    "duration": 22,
    "start_time": "2022-07-14T07:27:41.562Z"
   },
   {
    "duration": 27,
    "start_time": "2022-07-14T07:27:41.586Z"
   },
   {
    "duration": 10,
    "start_time": "2022-07-14T07:27:41.615Z"
   },
   {
    "duration": 8,
    "start_time": "2022-07-14T07:27:41.627Z"
   },
   {
    "duration": 16,
    "start_time": "2022-07-14T07:27:41.638Z"
   },
   {
    "duration": 5,
    "start_time": "2022-07-14T07:27:41.656Z"
   },
   {
    "duration": 95,
    "start_time": "2022-07-14T07:27:41.663Z"
   },
   {
    "duration": 5,
    "start_time": "2022-07-14T07:27:41.760Z"
   },
   {
    "duration": 16,
    "start_time": "2022-07-14T07:27:41.767Z"
   },
   {
    "duration": 18,
    "start_time": "2022-07-14T07:27:41.785Z"
   },
   {
    "duration": 19,
    "start_time": "2022-07-14T07:27:41.805Z"
   },
   {
    "duration": 16,
    "start_time": "2022-07-14T07:27:41.826Z"
   },
   {
    "duration": 3,
    "start_time": "2022-07-14T07:27:41.844Z"
   },
   {
    "duration": 2956,
    "start_time": "2022-07-14T07:27:41.849Z"
   },
   {
    "duration": 26,
    "start_time": "2022-07-14T07:31:26.500Z"
   },
   {
    "duration": 7,
    "start_time": "2022-07-14T08:04:22.831Z"
   },
   {
    "duration": 2444,
    "start_time": "2022-07-14T08:04:33.193Z"
   },
   {
    "duration": 510,
    "start_time": "2022-07-14T08:04:35.639Z"
   },
   {
    "duration": 235,
    "start_time": "2022-07-14T08:04:36.151Z"
   },
   {
    "duration": 11,
    "start_time": "2022-07-14T08:04:36.395Z"
   },
   {
    "duration": 36,
    "start_time": "2022-07-14T08:04:36.413Z"
   },
   {
    "duration": 45,
    "start_time": "2022-07-14T08:04:36.451Z"
   },
   {
    "duration": 50,
    "start_time": "2022-07-14T08:04:36.498Z"
   },
   {
    "duration": 55,
    "start_time": "2022-07-14T08:04:36.550Z"
   },
   {
    "duration": 23,
    "start_time": "2022-07-14T08:04:36.607Z"
   },
   {
    "duration": 50,
    "start_time": "2022-07-14T08:04:36.632Z"
   },
   {
    "duration": 65,
    "start_time": "2022-07-14T08:04:36.687Z"
   },
   {
    "duration": 78,
    "start_time": "2022-07-14T08:04:36.754Z"
   },
   {
    "duration": 73,
    "start_time": "2022-07-14T08:04:36.833Z"
   },
   {
    "duration": 20,
    "start_time": "2022-07-14T08:04:36.910Z"
   },
   {
    "duration": 41,
    "start_time": "2022-07-14T08:04:36.932Z"
   },
   {
    "duration": 44,
    "start_time": "2022-07-14T08:04:36.974Z"
   },
   {
    "duration": 36,
    "start_time": "2022-07-14T08:04:37.020Z"
   },
   {
    "duration": 51,
    "start_time": "2022-07-14T08:04:37.058Z"
   },
   {
    "duration": 14,
    "start_time": "2022-07-14T08:04:37.112Z"
   },
   {
    "duration": 26,
    "start_time": "2022-07-14T08:04:37.128Z"
   },
   {
    "duration": 14,
    "start_time": "2022-07-14T08:04:37.155Z"
   },
   {
    "duration": 56,
    "start_time": "2022-07-14T08:04:37.170Z"
   },
   {
    "duration": 2,
    "start_time": "2022-07-14T08:04:37.228Z"
   },
   {
    "duration": 21,
    "start_time": "2022-07-14T08:04:37.231Z"
   },
   {
    "duration": 49,
    "start_time": "2022-07-14T08:04:37.253Z"
   },
   {
    "duration": 6,
    "start_time": "2022-07-14T08:04:37.304Z"
   },
   {
    "duration": 12,
    "start_time": "2022-07-14T08:04:37.312Z"
   },
   {
    "duration": 6,
    "start_time": "2022-07-14T08:04:37.325Z"
   },
   {
    "duration": 17,
    "start_time": "2022-07-14T08:04:37.332Z"
   },
   {
    "duration": 10,
    "start_time": "2022-07-14T08:04:37.350Z"
   },
   {
    "duration": 41,
    "start_time": "2022-07-14T08:04:37.367Z"
   },
   {
    "duration": 5,
    "start_time": "2022-07-14T08:04:37.409Z"
   },
   {
    "duration": 15,
    "start_time": "2022-07-14T08:04:37.415Z"
   },
   {
    "duration": 18,
    "start_time": "2022-07-14T08:04:37.432Z"
   },
   {
    "duration": 4,
    "start_time": "2022-07-14T08:04:37.452Z"
   },
   {
    "duration": 4538,
    "start_time": "2022-07-14T08:04:37.458Z"
   },
   {
    "duration": 21,
    "start_time": "2022-07-14T08:04:41.998Z"
   },
   {
    "duration": 32,
    "start_time": "2022-07-14T08:04:42.020Z"
   },
   {
    "duration": 39,
    "start_time": "2022-07-14T08:04:42.053Z"
   },
   {
    "duration": 20,
    "start_time": "2022-07-14T08:04:42.094Z"
   },
   {
    "duration": 31,
    "start_time": "2022-07-14T08:04:42.117Z"
   },
   {
    "duration": 52,
    "start_time": "2022-07-14T08:04:42.149Z"
   },
   {
    "duration": 84,
    "start_time": "2022-07-14T08:04:42.203Z"
   },
   {
    "duration": 7,
    "start_time": "2022-07-14T08:04:42.288Z"
   },
   {
    "duration": 29,
    "start_time": "2022-07-14T08:04:42.298Z"
   },
   {
    "duration": 13,
    "start_time": "2022-07-14T08:04:42.328Z"
   },
   {
    "duration": 58,
    "start_time": "2022-07-14T08:04:42.343Z"
   },
   {
    "duration": 20,
    "start_time": "2022-07-14T08:04:42.402Z"
   },
   {
    "duration": 16,
    "start_time": "2022-07-14T08:04:42.423Z"
   },
   {
    "duration": 2225,
    "start_time": "2022-07-14T08:04:42.440Z"
   },
   {
    "duration": 48,
    "start_time": "2022-07-14T08:04:44.668Z"
   },
   {
    "duration": 3,
    "start_time": "2022-07-14T08:04:44.718Z"
   },
   {
    "duration": 11,
    "start_time": "2022-07-14T08:04:44.723Z"
   },
   {
    "duration": 142,
    "start_time": "2022-07-14T08:04:44.736Z"
   },
   {
    "duration": 596860,
    "start_time": "2022-07-14T08:05:14.727Z"
   },
   {
    "duration": 3,
    "start_time": "2022-07-14T08:16:45.173Z"
   },
   {
    "duration": 545302,
    "start_time": "2022-07-14T08:16:46.564Z"
   },
   {
    "duration": 106200,
    "start_time": "2022-07-14T08:30:01.860Z"
   },
   {
    "duration": 39571,
    "start_time": "2022-07-14T08:31:53.890Z"
   },
   {
    "duration": 4,
    "start_time": "2022-07-14T08:35:58.285Z"
   },
   {
    "duration": 1338,
    "start_time": "2022-07-14T08:36:00.028Z"
   },
   {
    "duration": 47,
    "start_time": "2022-07-14T08:52:49.544Z"
   },
   {
    "duration": 47,
    "start_time": "2022-07-14T08:53:08.143Z"
   },
   {
    "duration": 976,
    "start_time": "2022-07-14T08:53:35.985Z"
   },
   {
    "duration": 831,
    "start_time": "2022-07-14T08:54:17.939Z"
   },
   {
    "duration": 2808,
    "start_time": "2022-07-14T08:55:02.957Z"
   },
   {
    "duration": 2403,
    "start_time": "2022-07-14T08:55:11.572Z"
   },
   {
    "duration": 68114,
    "start_time": "2022-07-14T08:55:20.348Z"
   },
   {
    "duration": 31542,
    "start_time": "2022-07-14T08:56:36.136Z"
   },
   {
    "duration": 38267,
    "start_time": "2022-07-14T08:57:12.595Z"
   },
   {
    "duration": 3958,
    "start_time": "2022-07-14T08:58:09.013Z"
   },
   {
    "duration": 327,
    "start_time": "2022-07-14T08:58:23.541Z"
   },
   {
    "duration": 484,
    "start_time": "2022-07-14T08:58:27.493Z"
   },
   {
    "duration": 671,
    "start_time": "2022-07-14T08:58:38.790Z"
   },
   {
    "duration": 654,
    "start_time": "2022-07-14T08:58:51.510Z"
   },
   {
    "duration": 569,
    "start_time": "2022-07-14T08:58:57.303Z"
   },
   {
    "duration": 10,
    "start_time": "2022-07-14T09:00:55.723Z"
   },
   {
    "duration": 21,
    "start_time": "2022-07-14T09:01:20.036Z"
   },
   {
    "duration": 12,
    "start_time": "2022-07-14T09:01:24.830Z"
   },
   {
    "duration": 3,
    "start_time": "2022-07-14T09:03:57.408Z"
   },
   {
    "duration": 9,
    "start_time": "2022-07-14T09:04:43.405Z"
   },
   {
    "duration": 643,
    "start_time": "2022-07-14T09:05:07.479Z"
   },
   {
    "duration": 1454,
    "start_time": "2022-07-14T09:07:14.524Z"
   },
   {
    "duration": 104,
    "start_time": "2022-07-14T09:07:15.981Z"
   },
   {
    "duration": 175,
    "start_time": "2022-07-14T09:07:16.086Z"
   },
   {
    "duration": 7,
    "start_time": "2022-07-14T09:07:16.263Z"
   },
   {
    "duration": 29,
    "start_time": "2022-07-14T09:07:16.271Z"
   },
   {
    "duration": 26,
    "start_time": "2022-07-14T09:07:16.304Z"
   },
   {
    "duration": 32,
    "start_time": "2022-07-14T09:07:16.338Z"
   },
   {
    "duration": 29,
    "start_time": "2022-07-14T09:07:16.372Z"
   },
   {
    "duration": 17,
    "start_time": "2022-07-14T09:07:16.403Z"
   },
   {
    "duration": 33,
    "start_time": "2022-07-14T09:07:16.424Z"
   },
   {
    "duration": 34,
    "start_time": "2022-07-14T09:07:16.459Z"
   },
   {
    "duration": 22,
    "start_time": "2022-07-14T09:07:16.496Z"
   },
   {
    "duration": 14,
    "start_time": "2022-07-14T09:07:16.521Z"
   },
   {
    "duration": 20,
    "start_time": "2022-07-14T09:07:16.540Z"
   },
   {
    "duration": 36,
    "start_time": "2022-07-14T09:07:16.563Z"
   },
   {
    "duration": 9,
    "start_time": "2022-07-14T09:07:16.601Z"
   },
   {
    "duration": 16,
    "start_time": "2022-07-14T09:07:16.612Z"
   },
   {
    "duration": 32,
    "start_time": "2022-07-14T09:07:16.629Z"
   },
   {
    "duration": 31,
    "start_time": "2022-07-14T09:07:16.664Z"
   },
   {
    "duration": 35,
    "start_time": "2022-07-14T09:07:16.697Z"
   },
   {
    "duration": 8,
    "start_time": "2022-07-14T09:07:16.735Z"
   },
   {
    "duration": 24,
    "start_time": "2022-07-14T09:07:16.744Z"
   },
   {
    "duration": 3,
    "start_time": "2022-07-14T09:07:16.769Z"
   },
   {
    "duration": 27,
    "start_time": "2022-07-14T09:07:16.773Z"
   },
   {
    "duration": 29,
    "start_time": "2022-07-14T09:07:16.802Z"
   },
   {
    "duration": 3,
    "start_time": "2022-07-14T09:07:16.833Z"
   },
   {
    "duration": 24,
    "start_time": "2022-07-14T09:07:16.837Z"
   },
   {
    "duration": 10,
    "start_time": "2022-07-14T09:07:16.867Z"
   },
   {
    "duration": 22,
    "start_time": "2022-07-14T09:07:16.879Z"
   },
   {
    "duration": 15,
    "start_time": "2022-07-14T09:07:16.903Z"
   },
   {
    "duration": 19,
    "start_time": "2022-07-14T09:07:16.920Z"
   },
   {
    "duration": 23,
    "start_time": "2022-07-14T09:07:16.941Z"
   },
   {
    "duration": 18,
    "start_time": "2022-07-14T09:07:16.965Z"
   },
   {
    "duration": 26,
    "start_time": "2022-07-14T09:07:16.985Z"
   },
   {
    "duration": 6,
    "start_time": "2022-07-14T09:07:17.013Z"
   },
   {
    "duration": 3804,
    "start_time": "2022-07-14T09:07:17.020Z"
   },
   {
    "duration": 22,
    "start_time": "2022-07-14T09:07:20.826Z"
   },
   {
    "duration": 16,
    "start_time": "2022-07-14T09:07:20.849Z"
   },
   {
    "duration": 7,
    "start_time": "2022-07-14T09:07:20.867Z"
   },
   {
    "duration": 8,
    "start_time": "2022-07-14T09:07:20.875Z"
   },
   {
    "duration": 17,
    "start_time": "2022-07-14T09:07:20.885Z"
   },
   {
    "duration": 5,
    "start_time": "2022-07-14T09:07:20.904Z"
   },
   {
    "duration": 86,
    "start_time": "2022-07-14T09:07:20.911Z"
   },
   {
    "duration": 4,
    "start_time": "2022-07-14T09:07:20.999Z"
   },
   {
    "duration": 12,
    "start_time": "2022-07-14T09:07:21.005Z"
   },
   {
    "duration": 20,
    "start_time": "2022-07-14T09:07:21.020Z"
   },
   {
    "duration": 21,
    "start_time": "2022-07-14T09:07:21.042Z"
   },
   {
    "duration": 31,
    "start_time": "2022-07-14T09:07:21.066Z"
   },
   {
    "duration": 20,
    "start_time": "2022-07-14T09:07:21.099Z"
   },
   {
    "duration": 4,
    "start_time": "2022-07-14T09:07:21.121Z"
   },
   {
    "duration": 1537,
    "start_time": "2022-07-14T09:07:21.127Z"
   },
   {
    "duration": 25,
    "start_time": "2022-07-14T09:07:22.666Z"
   },
   {
    "duration": 3,
    "start_time": "2022-07-14T09:07:22.693Z"
   },
   {
    "duration": 10,
    "start_time": "2022-07-14T09:07:22.698Z"
   },
   {
    "duration": 114663,
    "start_time": "2022-07-14T09:07:22.710Z"
   },
   {
    "duration": 465891,
    "start_time": "2022-07-14T09:09:17.375Z"
   },
   {
    "duration": 122096,
    "start_time": "2022-07-14T09:17:03.268Z"
   },
   {
    "duration": 114128,
    "start_time": "2022-07-14T09:19:05.366Z"
   },
   {
    "duration": 3,
    "start_time": "2022-07-14T09:20:59.563Z"
   },
   {
    "duration": 5684,
    "start_time": "2022-07-14T09:20:59.568Z"
   },
   {
    "duration": 4,
    "start_time": "2022-07-14T09:28:41.689Z"
   },
   {
    "duration": 1061,
    "start_time": "2022-07-14T09:28:44.504Z"
   },
   {
    "duration": 5,
    "start_time": "2022-07-14T09:28:56.937Z"
   },
   {
    "duration": 1341,
    "start_time": "2022-07-14T09:28:57.921Z"
   },
   {
    "duration": 3,
    "start_time": "2022-07-14T09:33:06.172Z"
   },
   {
    "duration": 10,
    "start_time": "2022-07-14T09:33:09.324Z"
   },
   {
    "duration": 109,
    "start_time": "2022-07-14T09:33:10.508Z"
   },
   {
    "duration": 4406,
    "start_time": "2022-07-14T09:33:20.035Z"
   },
   {
    "duration": 4,
    "start_time": "2022-07-14T09:38:14.008Z"
   },
   {
    "duration": 1482,
    "start_time": "2022-07-14T09:39:00.960Z"
   },
   {
    "duration": 103,
    "start_time": "2022-07-14T09:39:02.445Z"
   },
   {
    "duration": 155,
    "start_time": "2022-07-14T09:39:02.550Z"
   },
   {
    "duration": 12,
    "start_time": "2022-07-14T09:39:02.708Z"
   },
   {
    "duration": 32,
    "start_time": "2022-07-14T09:39:02.722Z"
   },
   {
    "duration": 23,
    "start_time": "2022-07-14T09:39:02.760Z"
   },
   {
    "duration": 11,
    "start_time": "2022-07-14T09:39:02.785Z"
   },
   {
    "duration": 4,
    "start_time": "2022-07-14T09:39:02.798Z"
   },
   {
    "duration": 9,
    "start_time": "2022-07-14T09:39:02.804Z"
   },
   {
    "duration": 8,
    "start_time": "2022-07-14T09:39:02.816Z"
   },
   {
    "duration": 65,
    "start_time": "2022-07-14T09:39:02.825Z"
   },
   {
    "duration": 20,
    "start_time": "2022-07-14T09:39:02.892Z"
   },
   {
    "duration": 8,
    "start_time": "2022-07-14T09:39:02.914Z"
   },
   {
    "duration": 10,
    "start_time": "2022-07-14T09:39:02.924Z"
   },
   {
    "duration": 34,
    "start_time": "2022-07-14T09:39:02.935Z"
   },
   {
    "duration": 11,
    "start_time": "2022-07-14T09:39:02.971Z"
   },
   {
    "duration": 16,
    "start_time": "2022-07-14T09:39:02.984Z"
   },
   {
    "duration": 29,
    "start_time": "2022-07-14T09:39:03.002Z"
   },
   {
    "duration": 16,
    "start_time": "2022-07-14T09:39:03.033Z"
   },
   {
    "duration": 20,
    "start_time": "2022-07-14T09:39:03.051Z"
   },
   {
    "duration": 5,
    "start_time": "2022-07-14T09:39:03.072Z"
   },
   {
    "duration": 29,
    "start_time": "2022-07-14T09:39:03.078Z"
   },
   {
    "duration": 2,
    "start_time": "2022-07-14T09:39:03.108Z"
   },
   {
    "duration": 18,
    "start_time": "2022-07-14T09:39:03.112Z"
   },
   {
    "duration": 48,
    "start_time": "2022-07-14T09:39:03.132Z"
   },
   {
    "duration": 2,
    "start_time": "2022-07-14T09:39:03.182Z"
   },
   {
    "duration": 14,
    "start_time": "2022-07-14T09:39:03.186Z"
   },
   {
    "duration": 6,
    "start_time": "2022-07-14T09:39:03.203Z"
   },
   {
    "duration": 15,
    "start_time": "2022-07-14T09:39:03.211Z"
   },
   {
    "duration": 17,
    "start_time": "2022-07-14T09:39:03.228Z"
   },
   {
    "duration": 22,
    "start_time": "2022-07-14T09:39:03.247Z"
   },
   {
    "duration": 6,
    "start_time": "2022-07-14T09:39:03.271Z"
   },
   {
    "duration": 33,
    "start_time": "2022-07-14T09:39:03.279Z"
   },
   {
    "duration": 26,
    "start_time": "2022-07-14T09:39:03.314Z"
   },
   {
    "duration": 6,
    "start_time": "2022-07-14T09:39:03.342Z"
   },
   {
    "duration": 3962,
    "start_time": "2022-07-14T09:39:03.350Z"
   },
   {
    "duration": 21,
    "start_time": "2022-07-14T09:39:07.314Z"
   },
   {
    "duration": 15,
    "start_time": "2022-07-14T09:39:07.337Z"
   },
   {
    "duration": 8,
    "start_time": "2022-07-14T09:39:07.353Z"
   },
   {
    "duration": 6,
    "start_time": "2022-07-14T09:39:07.362Z"
   },
   {
    "duration": 16,
    "start_time": "2022-07-14T09:39:07.370Z"
   },
   {
    "duration": 5,
    "start_time": "2022-07-14T09:39:07.389Z"
   },
   {
    "duration": 71,
    "start_time": "2022-07-14T09:39:07.396Z"
   },
   {
    "duration": 3,
    "start_time": "2022-07-14T09:39:07.469Z"
   },
   {
    "duration": 9,
    "start_time": "2022-07-14T09:39:07.474Z"
   },
   {
    "duration": 15,
    "start_time": "2022-07-14T09:39:07.485Z"
   },
   {
    "duration": 3,
    "start_time": "2022-07-14T09:39:07.502Z"
   },
   {
    "duration": 27,
    "start_time": "2022-07-14T09:39:07.507Z"
   },
   {
    "duration": 25,
    "start_time": "2022-07-14T09:39:07.562Z"
   },
   {
    "duration": 6,
    "start_time": "2022-07-14T09:39:07.589Z"
   },
   {
    "duration": 5077,
    "start_time": "2022-07-14T09:39:07.597Z"
   },
   {
    "duration": 25,
    "start_time": "2022-07-14T09:39:12.762Z"
   },
   {
    "duration": 9,
    "start_time": "2022-07-14T09:39:12.789Z"
   },
   {
    "duration": 13,
    "start_time": "2022-07-14T09:39:12.800Z"
   },
   {
    "duration": 6,
    "start_time": "2022-07-14T09:39:12.815Z"
   },
   {
    "duration": 5,
    "start_time": "2022-07-14T09:39:12.823Z"
   },
   {
    "duration": 7,
    "start_time": "2022-07-14T09:39:12.830Z"
   },
   {
    "duration": 11,
    "start_time": "2022-07-14T09:39:12.838Z"
   },
   {
    "duration": 10,
    "start_time": "2022-07-14T09:39:12.851Z"
   },
   {
    "duration": 9,
    "start_time": "2022-07-14T09:39:12.862Z"
   },
   {
    "duration": 4522,
    "start_time": "2022-07-14T09:39:12.874Z"
   },
   {
    "duration": 1318,
    "start_time": "2022-07-14T09:41:58.484Z"
   },
   {
    "duration": 1416,
    "start_time": "2022-07-14T09:42:16.810Z"
   },
   {
    "duration": 104,
    "start_time": "2022-07-14T09:42:18.228Z"
   },
   {
    "duration": 154,
    "start_time": "2022-07-14T09:42:18.334Z"
   },
   {
    "duration": 5,
    "start_time": "2022-07-14T09:42:18.490Z"
   },
   {
    "duration": 29,
    "start_time": "2022-07-14T09:42:18.497Z"
   },
   {
    "duration": 34,
    "start_time": "2022-07-14T09:42:18.528Z"
   },
   {
    "duration": 12,
    "start_time": "2022-07-14T09:42:18.564Z"
   },
   {
    "duration": 10,
    "start_time": "2022-07-14T09:42:18.577Z"
   },
   {
    "duration": 8,
    "start_time": "2022-07-14T09:42:18.589Z"
   },
   {
    "duration": 11,
    "start_time": "2022-07-14T09:42:18.599Z"
   },
   {
    "duration": 26,
    "start_time": "2022-07-14T09:42:18.611Z"
   },
   {
    "duration": 30,
    "start_time": "2022-07-14T09:42:18.639Z"
   },
   {
    "duration": 26,
    "start_time": "2022-07-14T09:42:18.671Z"
   },
   {
    "duration": 8,
    "start_time": "2022-07-14T09:42:18.699Z"
   },
   {
    "duration": 34,
    "start_time": "2022-07-14T09:42:18.708Z"
   },
   {
    "duration": 11,
    "start_time": "2022-07-14T09:42:18.743Z"
   },
   {
    "duration": 9,
    "start_time": "2022-07-14T09:42:18.756Z"
   },
   {
    "duration": 28,
    "start_time": "2022-07-14T09:42:18.767Z"
   },
   {
    "duration": 11,
    "start_time": "2022-07-14T09:42:18.796Z"
   },
   {
    "duration": 22,
    "start_time": "2022-07-14T09:42:18.808Z"
   },
   {
    "duration": 11,
    "start_time": "2022-07-14T09:42:18.831Z"
   },
   {
    "duration": 25,
    "start_time": "2022-07-14T09:42:18.844Z"
   },
   {
    "duration": 3,
    "start_time": "2022-07-14T09:42:18.871Z"
   },
   {
    "duration": 20,
    "start_time": "2022-07-14T09:42:18.875Z"
   },
   {
    "duration": 33,
    "start_time": "2022-07-14T09:42:18.896Z"
   },
   {
    "duration": 3,
    "start_time": "2022-07-14T09:42:18.931Z"
   },
   {
    "duration": 15,
    "start_time": "2022-07-14T09:42:18.935Z"
   },
   {
    "duration": 8,
    "start_time": "2022-07-14T09:42:18.953Z"
   },
   {
    "duration": 24,
    "start_time": "2022-07-14T09:42:18.963Z"
   },
   {
    "duration": 16,
    "start_time": "2022-07-14T09:42:18.988Z"
   },
   {
    "duration": 26,
    "start_time": "2022-07-14T09:42:19.006Z"
   },
   {
    "duration": 6,
    "start_time": "2022-07-14T09:42:19.034Z"
   },
   {
    "duration": 23,
    "start_time": "2022-07-14T09:42:19.041Z"
   },
   {
    "duration": 27,
    "start_time": "2022-07-14T09:42:19.066Z"
   },
   {
    "duration": 5,
    "start_time": "2022-07-14T09:42:19.095Z"
   },
   {
    "duration": 3747,
    "start_time": "2022-07-14T09:42:19.101Z"
   },
   {
    "duration": 24,
    "start_time": "2022-07-14T09:42:22.850Z"
   },
   {
    "duration": 15,
    "start_time": "2022-07-14T09:42:22.876Z"
   },
   {
    "duration": 8,
    "start_time": "2022-07-14T09:42:22.893Z"
   },
   {
    "duration": 8,
    "start_time": "2022-07-14T09:42:22.902Z"
   },
   {
    "duration": 18,
    "start_time": "2022-07-14T09:42:22.912Z"
   },
   {
    "duration": 6,
    "start_time": "2022-07-14T09:42:22.931Z"
   },
   {
    "duration": 72,
    "start_time": "2022-07-14T09:42:22.938Z"
   },
   {
    "duration": 3,
    "start_time": "2022-07-14T09:42:23.012Z"
   },
   {
    "duration": 7,
    "start_time": "2022-07-14T09:42:23.017Z"
   },
   {
    "duration": 11,
    "start_time": "2022-07-14T09:42:23.025Z"
   },
   {
    "duration": 2,
    "start_time": "2022-07-14T09:42:23.037Z"
   },
   {
    "duration": 134,
    "start_time": "2022-07-14T09:42:23.041Z"
   },
   {
    "duration": 0,
    "start_time": "2022-07-14T09:42:23.176Z"
   },
   {
    "duration": 0,
    "start_time": "2022-07-14T09:42:23.178Z"
   },
   {
    "duration": 0,
    "start_time": "2022-07-14T09:42:23.179Z"
   },
   {
    "duration": 0,
    "start_time": "2022-07-14T09:42:23.181Z"
   },
   {
    "duration": 0,
    "start_time": "2022-07-14T09:42:23.182Z"
   },
   {
    "duration": 0,
    "start_time": "2022-07-14T09:42:23.183Z"
   },
   {
    "duration": 0,
    "start_time": "2022-07-14T09:42:23.184Z"
   },
   {
    "duration": 0,
    "start_time": "2022-07-14T09:42:23.185Z"
   },
   {
    "duration": 0,
    "start_time": "2022-07-14T09:42:23.187Z"
   },
   {
    "duration": 0,
    "start_time": "2022-07-14T09:42:23.188Z"
   },
   {
    "duration": 0,
    "start_time": "2022-07-14T09:42:23.188Z"
   },
   {
    "duration": 0,
    "start_time": "2022-07-14T09:42:23.189Z"
   },
   {
    "duration": 0,
    "start_time": "2022-07-14T09:42:23.190Z"
   },
   {
    "duration": 1434,
    "start_time": "2022-07-14T09:43:59.121Z"
   },
   {
    "duration": 100,
    "start_time": "2022-07-14T09:44:00.557Z"
   },
   {
    "duration": 169,
    "start_time": "2022-07-14T09:44:00.662Z"
   },
   {
    "duration": 5,
    "start_time": "2022-07-14T09:44:00.833Z"
   },
   {
    "duration": 16,
    "start_time": "2022-07-14T09:44:00.861Z"
   },
   {
    "duration": 42,
    "start_time": "2022-07-14T09:44:00.880Z"
   },
   {
    "duration": 22,
    "start_time": "2022-07-14T09:44:00.924Z"
   },
   {
    "duration": 19,
    "start_time": "2022-07-14T09:44:00.948Z"
   },
   {
    "duration": 23,
    "start_time": "2022-07-14T09:44:00.969Z"
   },
   {
    "duration": 25,
    "start_time": "2022-07-14T09:44:00.994Z"
   },
   {
    "duration": 38,
    "start_time": "2022-07-14T09:44:01.021Z"
   },
   {
    "duration": 41,
    "start_time": "2022-07-14T09:44:01.060Z"
   },
   {
    "duration": 38,
    "start_time": "2022-07-14T09:44:01.104Z"
   },
   {
    "duration": 23,
    "start_time": "2022-07-14T09:44:01.144Z"
   },
   {
    "duration": 37,
    "start_time": "2022-07-14T09:44:01.168Z"
   },
   {
    "duration": 31,
    "start_time": "2022-07-14T09:44:01.207Z"
   },
   {
    "duration": 34,
    "start_time": "2022-07-14T09:44:01.239Z"
   },
   {
    "duration": 45,
    "start_time": "2022-07-14T09:44:01.275Z"
   },
   {
    "duration": 16,
    "start_time": "2022-07-14T09:44:01.322Z"
   },
   {
    "duration": 30,
    "start_time": "2022-07-14T09:44:01.340Z"
   },
   {
    "duration": 18,
    "start_time": "2022-07-14T09:44:01.372Z"
   },
   {
    "duration": 60,
    "start_time": "2022-07-14T09:44:01.392Z"
   },
   {
    "duration": 8,
    "start_time": "2022-07-14T09:44:01.455Z"
   },
   {
    "duration": 70,
    "start_time": "2022-07-14T09:44:01.466Z"
   },
   {
    "duration": 59,
    "start_time": "2022-07-14T09:44:01.539Z"
   },
   {
    "duration": 4,
    "start_time": "2022-07-14T09:44:01.600Z"
   },
   {
    "duration": 12,
    "start_time": "2022-07-14T09:44:01.606Z"
   },
   {
    "duration": 21,
    "start_time": "2022-07-14T09:44:01.620Z"
   },
   {
    "duration": 27,
    "start_time": "2022-07-14T09:44:01.643Z"
   },
   {
    "duration": 32,
    "start_time": "2022-07-14T09:44:01.673Z"
   },
   {
    "duration": 35,
    "start_time": "2022-07-14T09:44:01.707Z"
   },
   {
    "duration": 46,
    "start_time": "2022-07-14T09:44:01.744Z"
   },
   {
    "duration": 51,
    "start_time": "2022-07-14T09:44:01.792Z"
   },
   {
    "duration": 38,
    "start_time": "2022-07-14T09:44:01.845Z"
   },
   {
    "duration": 27,
    "start_time": "2022-07-14T09:44:01.885Z"
   },
   {
    "duration": 3922,
    "start_time": "2022-07-14T09:44:01.914Z"
   },
   {
    "duration": 21,
    "start_time": "2022-07-14T09:44:05.839Z"
   },
   {
    "duration": 20,
    "start_time": "2022-07-14T09:44:05.861Z"
   },
   {
    "duration": 7,
    "start_time": "2022-07-14T09:44:05.883Z"
   },
   {
    "duration": 6,
    "start_time": "2022-07-14T09:44:05.895Z"
   },
   {
    "duration": 24,
    "start_time": "2022-07-14T09:44:05.902Z"
   },
   {
    "duration": 6,
    "start_time": "2022-07-14T09:44:05.928Z"
   },
   {
    "duration": 65,
    "start_time": "2022-07-14T09:44:05.935Z"
   },
   {
    "duration": 4,
    "start_time": "2022-07-14T09:44:06.002Z"
   },
   {
    "duration": 24,
    "start_time": "2022-07-14T09:44:06.007Z"
   },
   {
    "duration": 11,
    "start_time": "2022-07-14T09:44:06.033Z"
   },
   {
    "duration": 3,
    "start_time": "2022-07-14T09:44:06.046Z"
   },
   {
    "duration": 27,
    "start_time": "2022-07-14T09:44:06.051Z"
   },
   {
    "duration": 24,
    "start_time": "2022-07-14T09:44:06.080Z"
   },
   {
    "duration": 6,
    "start_time": "2022-07-14T09:44:06.106Z"
   },
   {
    "duration": 1249,
    "start_time": "2022-07-14T09:44:06.114Z"
   },
   {
    "duration": 110,
    "start_time": "2022-07-14T09:44:07.365Z"
   },
   {
    "duration": 3,
    "start_time": "2022-07-14T09:44:07.477Z"
   },
   {
    "duration": 30,
    "start_time": "2022-07-14T09:44:07.481Z"
   },
   {
    "duration": 18,
    "start_time": "2022-07-14T09:44:07.512Z"
   },
   {
    "duration": 45,
    "start_time": "2022-07-14T09:44:07.532Z"
   },
   {
    "duration": 17,
    "start_time": "2022-07-14T09:44:07.579Z"
   },
   {
    "duration": 32,
    "start_time": "2022-07-14T09:44:07.598Z"
   },
   {
    "duration": 31,
    "start_time": "2022-07-14T09:44:07.631Z"
   },
   {
    "duration": 24,
    "start_time": "2022-07-14T09:44:07.664Z"
   },
   {
    "duration": 3937,
    "start_time": "2022-07-14T09:44:07.689Z"
   },
   {
    "duration": 4,
    "start_time": "2022-07-14T09:46:05.422Z"
   },
   {
    "duration": 132943,
    "start_time": "2022-07-14T09:46:07.631Z"
   },
   {
    "duration": 523130,
    "start_time": "2022-07-14T09:48:50.039Z"
   },
   {
    "duration": 109081,
    "start_time": "2022-07-14T09:57:41.604Z"
   },
   {
    "duration": 107185,
    "start_time": "2022-07-14T09:59:30.688Z"
   },
   {
    "duration": 127667,
    "start_time": "2022-07-14T10:02:26.097Z"
   },
   {
    "duration": 1307944,
    "start_time": "2022-07-14T10:12:50.041Z"
   },
   {
    "duration": 5,
    "start_time": "2022-07-14T10:36:10.431Z"
   },
   {
    "duration": 5,
    "start_time": "2022-07-14T10:37:48.116Z"
   },
   {
    "duration": 392,
    "start_time": "2022-07-14T10:38:03.561Z"
   },
   {
    "duration": 1420,
    "start_time": "2022-07-14T11:08:35.796Z"
   },
   {
    "duration": 103,
    "start_time": "2022-07-14T11:08:37.218Z"
   },
   {
    "duration": 170,
    "start_time": "2022-07-14T11:08:37.323Z"
   },
   {
    "duration": 6,
    "start_time": "2022-07-14T11:08:37.494Z"
   },
   {
    "duration": 18,
    "start_time": "2022-07-14T11:08:37.502Z"
   },
   {
    "duration": 18,
    "start_time": "2022-07-14T11:08:37.522Z"
   },
   {
    "duration": 12,
    "start_time": "2022-07-14T11:08:37.561Z"
   },
   {
    "duration": 12,
    "start_time": "2022-07-14T11:08:37.575Z"
   },
   {
    "duration": 16,
    "start_time": "2022-07-14T11:08:37.588Z"
   },
   {
    "duration": 6,
    "start_time": "2022-07-14T11:08:37.606Z"
   },
   {
    "duration": 21,
    "start_time": "2022-07-14T11:08:37.614Z"
   },
   {
    "duration": 25,
    "start_time": "2022-07-14T11:08:37.637Z"
   },
   {
    "duration": 10,
    "start_time": "2022-07-14T11:08:37.664Z"
   },
   {
    "duration": 5,
    "start_time": "2022-07-14T11:08:37.677Z"
   },
   {
    "duration": 22,
    "start_time": "2022-07-14T11:08:37.684Z"
   },
   {
    "duration": 8,
    "start_time": "2022-07-14T11:08:37.708Z"
   },
   {
    "duration": 9,
    "start_time": "2022-07-14T11:08:37.717Z"
   },
   {
    "duration": 41,
    "start_time": "2022-07-14T11:08:37.727Z"
   },
   {
    "duration": 12,
    "start_time": "2022-07-14T11:08:37.770Z"
   },
   {
    "duration": 13,
    "start_time": "2022-07-14T11:08:37.783Z"
   },
   {
    "duration": 5,
    "start_time": "2022-07-14T11:08:37.797Z"
   },
   {
    "duration": 29,
    "start_time": "2022-07-14T11:08:37.803Z"
   },
   {
    "duration": 26,
    "start_time": "2022-07-14T11:08:37.834Z"
   },
   {
    "duration": 12,
    "start_time": "2022-07-14T11:08:37.862Z"
   },
   {
    "duration": 30,
    "start_time": "2022-07-14T11:08:37.876Z"
   },
   {
    "duration": 3,
    "start_time": "2022-07-14T11:08:37.907Z"
   },
   {
    "duration": 10,
    "start_time": "2022-07-14T11:08:37.911Z"
   },
   {
    "duration": 5,
    "start_time": "2022-07-14T11:08:37.922Z"
   },
   {
    "duration": 37,
    "start_time": "2022-07-14T11:08:37.929Z"
   },
   {
    "duration": 10,
    "start_time": "2022-07-14T11:08:37.968Z"
   },
   {
    "duration": 17,
    "start_time": "2022-07-14T11:08:37.979Z"
   },
   {
    "duration": 6,
    "start_time": "2022-07-14T11:08:37.997Z"
   },
   {
    "duration": 20,
    "start_time": "2022-07-14T11:08:38.004Z"
   },
   {
    "duration": 53,
    "start_time": "2022-07-14T11:08:38.026Z"
   },
   {
    "duration": 6,
    "start_time": "2022-07-14T11:08:38.081Z"
   },
   {
    "duration": 3983,
    "start_time": "2022-07-14T11:08:38.089Z"
   },
   {
    "duration": 24,
    "start_time": "2022-07-14T11:08:42.074Z"
   },
   {
    "duration": 16,
    "start_time": "2022-07-14T11:08:42.099Z"
   },
   {
    "duration": 7,
    "start_time": "2022-07-14T11:08:42.117Z"
   },
   {
    "duration": 6,
    "start_time": "2022-07-14T11:08:42.126Z"
   },
   {
    "duration": 35,
    "start_time": "2022-07-14T11:08:42.137Z"
   },
   {
    "duration": 11,
    "start_time": "2022-07-14T11:08:42.174Z"
   },
   {
    "duration": 58,
    "start_time": "2022-07-14T11:08:42.187Z"
   },
   {
    "duration": 4,
    "start_time": "2022-07-14T11:08:42.260Z"
   },
   {
    "duration": 9,
    "start_time": "2022-07-14T11:08:42.265Z"
   },
   {
    "duration": 13,
    "start_time": "2022-07-14T11:08:42.275Z"
   },
   {
    "duration": 3,
    "start_time": "2022-07-14T11:08:42.290Z"
   },
   {
    "duration": 16,
    "start_time": "2022-07-14T11:08:42.295Z"
   },
   {
    "duration": 20,
    "start_time": "2022-07-14T11:08:42.313Z"
   },
   {
    "duration": 6,
    "start_time": "2022-07-14T11:08:42.361Z"
   },
   {
    "duration": 1993,
    "start_time": "2022-07-14T11:08:42.369Z"
   },
   {
    "duration": 2,
    "start_time": "2022-07-14T11:08:44.364Z"
   },
   {
    "duration": 6,
    "start_time": "2022-07-14T11:08:44.368Z"
   },
   {
    "duration": 7,
    "start_time": "2022-07-14T11:08:44.375Z"
   },
   {
    "duration": 55081,
    "start_time": "2022-07-14T11:08:44.384Z"
   },
   {
    "duration": 11,
    "start_time": "2022-07-14T11:09:39.468Z"
   },
   {
    "duration": 0,
    "start_time": "2022-07-14T11:09:39.480Z"
   },
   {
    "duration": 1591,
    "start_time": "2022-07-14T12:23:50.949Z"
   },
   {
    "duration": 325,
    "start_time": "2022-07-14T12:23:52.543Z"
   },
   {
    "duration": 144,
    "start_time": "2022-07-14T12:23:52.873Z"
   },
   {
    "duration": 7,
    "start_time": "2022-07-14T12:23:53.039Z"
   },
   {
    "duration": 19,
    "start_time": "2022-07-14T12:23:53.047Z"
   },
   {
    "duration": 19,
    "start_time": "2022-07-14T12:23:53.068Z"
   },
   {
    "duration": 13,
    "start_time": "2022-07-14T12:23:53.088Z"
   },
   {
    "duration": 5,
    "start_time": "2022-07-14T12:23:53.102Z"
   },
   {
    "duration": 31,
    "start_time": "2022-07-14T12:23:53.110Z"
   },
   {
    "duration": 10,
    "start_time": "2022-07-14T12:23:53.142Z"
   },
   {
    "duration": 23,
    "start_time": "2022-07-14T12:23:53.154Z"
   },
   {
    "duration": 17,
    "start_time": "2022-07-14T12:23:53.179Z"
   },
   {
    "duration": 7,
    "start_time": "2022-07-14T12:23:53.198Z"
   },
   {
    "duration": 7,
    "start_time": "2022-07-14T12:23:53.207Z"
   },
   {
    "duration": 42,
    "start_time": "2022-07-14T12:23:53.216Z"
   },
   {
    "duration": 7,
    "start_time": "2022-07-14T12:23:53.260Z"
   },
   {
    "duration": 12,
    "start_time": "2022-07-14T12:23:53.269Z"
   },
   {
    "duration": 19,
    "start_time": "2022-07-14T12:23:53.284Z"
   },
   {
    "duration": 41,
    "start_time": "2022-07-14T12:23:53.305Z"
   },
   {
    "duration": 17,
    "start_time": "2022-07-14T12:23:53.348Z"
   },
   {
    "duration": 6,
    "start_time": "2022-07-14T12:23:53.366Z"
   },
   {
    "duration": 25,
    "start_time": "2022-07-14T12:23:53.374Z"
   },
   {
    "duration": 2,
    "start_time": "2022-07-14T12:23:53.400Z"
   },
   {
    "duration": 16,
    "start_time": "2022-07-14T12:23:53.404Z"
   },
   {
    "duration": 44,
    "start_time": "2022-07-14T12:23:53.421Z"
   },
   {
    "duration": 2,
    "start_time": "2022-07-14T12:23:53.467Z"
   },
   {
    "duration": 7,
    "start_time": "2022-07-14T12:23:53.473Z"
   },
   {
    "duration": 6,
    "start_time": "2022-07-14T12:23:53.482Z"
   },
   {
    "duration": 19,
    "start_time": "2022-07-14T12:23:53.490Z"
   },
   {
    "duration": 30,
    "start_time": "2022-07-14T12:23:53.511Z"
   },
   {
    "duration": 18,
    "start_time": "2022-07-14T12:23:53.544Z"
   },
   {
    "duration": 6,
    "start_time": "2022-07-14T12:23:53.564Z"
   },
   {
    "duration": 19,
    "start_time": "2022-07-14T12:23:53.572Z"
   },
   {
    "duration": 26,
    "start_time": "2022-07-14T12:23:53.592Z"
   },
   {
    "duration": 21,
    "start_time": "2022-07-14T12:23:53.620Z"
   },
   {
    "duration": 4105,
    "start_time": "2022-07-14T12:23:53.642Z"
   },
   {
    "duration": 30,
    "start_time": "2022-07-14T12:23:57.748Z"
   },
   {
    "duration": 18,
    "start_time": "2022-07-14T12:23:57.780Z"
   },
   {
    "duration": 7,
    "start_time": "2022-07-14T12:23:57.799Z"
   },
   {
    "duration": 7,
    "start_time": "2022-07-14T12:23:57.808Z"
   },
   {
    "duration": 36,
    "start_time": "2022-07-14T12:23:57.817Z"
   },
   {
    "duration": 6,
    "start_time": "2022-07-14T12:23:57.854Z"
   },
   {
    "duration": 60,
    "start_time": "2022-07-14T12:23:57.861Z"
   },
   {
    "duration": 3,
    "start_time": "2022-07-14T12:23:57.941Z"
   },
   {
    "duration": 9,
    "start_time": "2022-07-14T12:23:57.945Z"
   },
   {
    "duration": 11,
    "start_time": "2022-07-14T12:23:57.956Z"
   },
   {
    "duration": 3,
    "start_time": "2022-07-14T12:23:57.968Z"
   },
   {
    "duration": 17,
    "start_time": "2022-07-14T12:23:57.972Z"
   },
   {
    "duration": 16,
    "start_time": "2022-07-14T12:23:57.990Z"
   },
   {
    "duration": 6,
    "start_time": "2022-07-14T12:23:58.008Z"
   },
   {
    "duration": 1227,
    "start_time": "2022-07-14T12:23:58.015Z"
   },
   {
    "duration": 2,
    "start_time": "2022-07-14T12:23:59.244Z"
   },
   {
    "duration": 5,
    "start_time": "2022-07-14T12:23:59.248Z"
   },
   {
    "duration": 10,
    "start_time": "2022-07-14T12:23:59.255Z"
   },
   {
    "duration": 34973,
    "start_time": "2022-07-14T12:23:59.267Z"
   },
   {
    "duration": 338,
    "start_time": "2022-07-14T12:24:34.242Z"
   },
   {
    "duration": 0,
    "start_time": "2022-07-14T12:24:34.582Z"
   },
   {
    "duration": 185,
    "start_time": "2022-07-14T12:26:24.762Z"
   },
   {
    "duration": 166,
    "start_time": "2022-07-14T12:26:49.885Z"
   },
   {
    "duration": 7991,
    "start_time": "2022-07-14T12:26:53.151Z"
   },
   {
    "duration": 420,
    "start_time": "2022-07-14T12:29:46.987Z"
   },
   {
    "duration": 1589,
    "start_time": "2022-07-14T12:30:07.616Z"
   },
   {
    "duration": 110,
    "start_time": "2022-07-14T12:30:09.207Z"
   },
   {
    "duration": 168,
    "start_time": "2022-07-14T12:30:09.320Z"
   },
   {
    "duration": 6,
    "start_time": "2022-07-14T12:30:09.491Z"
   },
   {
    "duration": 43,
    "start_time": "2022-07-14T12:30:09.498Z"
   },
   {
    "duration": 21,
    "start_time": "2022-07-14T12:30:09.543Z"
   },
   {
    "duration": 13,
    "start_time": "2022-07-14T12:30:09.566Z"
   },
   {
    "duration": 10,
    "start_time": "2022-07-14T12:30:09.580Z"
   },
   {
    "duration": 10,
    "start_time": "2022-07-14T12:30:09.592Z"
   },
   {
    "duration": 6,
    "start_time": "2022-07-14T12:30:09.605Z"
   },
   {
    "duration": 45,
    "start_time": "2022-07-14T12:30:09.613Z"
   },
   {
    "duration": 23,
    "start_time": "2022-07-14T12:30:09.660Z"
   },
   {
    "duration": 9,
    "start_time": "2022-07-14T12:30:09.685Z"
   },
   {
    "duration": 11,
    "start_time": "2022-07-14T12:30:09.696Z"
   },
   {
    "duration": 40,
    "start_time": "2022-07-14T12:30:09.709Z"
   },
   {
    "duration": 6,
    "start_time": "2022-07-14T12:30:09.751Z"
   },
   {
    "duration": 12,
    "start_time": "2022-07-14T12:30:09.758Z"
   },
   {
    "duration": 21,
    "start_time": "2022-07-14T12:30:09.772Z"
   },
   {
    "duration": 11,
    "start_time": "2022-07-14T12:30:09.795Z"
   },
   {
    "duration": 39,
    "start_time": "2022-07-14T12:30:09.809Z"
   },
   {
    "duration": 5,
    "start_time": "2022-07-14T12:30:09.850Z"
   },
   {
    "duration": 27,
    "start_time": "2022-07-14T12:30:09.856Z"
   },
   {
    "duration": 3,
    "start_time": "2022-07-14T12:30:09.884Z"
   },
   {
    "duration": 20,
    "start_time": "2022-07-14T12:30:09.888Z"
   },
   {
    "duration": 46,
    "start_time": "2022-07-14T12:30:09.910Z"
   },
   {
    "duration": 2,
    "start_time": "2022-07-14T12:30:09.958Z"
   },
   {
    "duration": 16,
    "start_time": "2022-07-14T12:30:09.961Z"
   },
   {
    "duration": 6,
    "start_time": "2022-07-14T12:30:09.981Z"
   },
   {
    "duration": 19,
    "start_time": "2022-07-14T12:30:09.988Z"
   },
   {
    "duration": 23,
    "start_time": "2022-07-14T12:30:10.009Z"
   },
   {
    "duration": 23,
    "start_time": "2022-07-14T12:30:10.034Z"
   },
   {
    "duration": 7,
    "start_time": "2022-07-14T12:30:10.059Z"
   },
   {
    "duration": 25,
    "start_time": "2022-07-14T12:30:10.068Z"
   },
   {
    "duration": 25,
    "start_time": "2022-07-14T12:30:10.095Z"
   },
   {
    "duration": 5,
    "start_time": "2022-07-14T12:30:10.122Z"
   },
   {
    "duration": 4066,
    "start_time": "2022-07-14T12:30:10.129Z"
   },
   {
    "duration": 23,
    "start_time": "2022-07-14T12:30:14.196Z"
   },
   {
    "duration": 23,
    "start_time": "2022-07-14T12:30:14.220Z"
   },
   {
    "duration": 7,
    "start_time": "2022-07-14T12:30:14.245Z"
   },
   {
    "duration": 10,
    "start_time": "2022-07-14T12:30:14.254Z"
   },
   {
    "duration": 24,
    "start_time": "2022-07-14T12:30:14.265Z"
   },
   {
    "duration": 6,
    "start_time": "2022-07-14T12:30:14.290Z"
   },
   {
    "duration": 71,
    "start_time": "2022-07-14T12:30:14.298Z"
   },
   {
    "duration": 3,
    "start_time": "2022-07-14T12:30:14.371Z"
   },
   {
    "duration": 8,
    "start_time": "2022-07-14T12:30:14.376Z"
   },
   {
    "duration": 15,
    "start_time": "2022-07-14T12:30:14.386Z"
   },
   {
    "duration": 2,
    "start_time": "2022-07-14T12:30:14.403Z"
   },
   {
    "duration": 38,
    "start_time": "2022-07-14T12:30:14.407Z"
   },
   {
    "duration": 16,
    "start_time": "2022-07-14T12:30:14.447Z"
   },
   {
    "duration": 6,
    "start_time": "2022-07-14T12:30:14.464Z"
   },
   {
    "duration": 1177,
    "start_time": "2022-07-14T12:30:14.471Z"
   },
   {
    "duration": 35999,
    "start_time": "2022-07-14T12:30:15.649Z"
   },
   {
    "duration": 199,
    "start_time": "2022-07-14T12:30:51.649Z"
   },
   {
    "duration": 4394,
    "start_time": "2022-07-14T12:30:51.849Z"
   },
   {
    "duration": 459,
    "start_time": "2022-07-14T12:30:56.244Z"
   },
   {
    "duration": 1536,
    "start_time": "2022-07-14T15:24:47.622Z"
   },
   {
    "duration": 316,
    "start_time": "2022-07-14T15:24:49.160Z"
   },
   {
    "duration": 142,
    "start_time": "2022-07-14T15:24:49.478Z"
   },
   {
    "duration": 5,
    "start_time": "2022-07-14T15:24:49.622Z"
   },
   {
    "duration": 17,
    "start_time": "2022-07-14T15:24:49.628Z"
   },
   {
    "duration": 17,
    "start_time": "2022-07-14T15:24:49.646Z"
   },
   {
    "duration": 10,
    "start_time": "2022-07-14T15:24:49.664Z"
   },
   {
    "duration": 27,
    "start_time": "2022-07-14T15:24:49.675Z"
   },
   {
    "duration": 4,
    "start_time": "2022-07-14T15:24:49.704Z"
   },
   {
    "duration": 6,
    "start_time": "2022-07-14T15:24:49.710Z"
   },
   {
    "duration": 17,
    "start_time": "2022-07-14T15:24:49.717Z"
   },
   {
    "duration": 17,
    "start_time": "2022-07-14T15:24:49.735Z"
   },
   {
    "duration": 7,
    "start_time": "2022-07-14T15:24:49.754Z"
   },
   {
    "duration": 6,
    "start_time": "2022-07-14T15:24:49.762Z"
   },
   {
    "duration": 47,
    "start_time": "2022-07-14T15:24:49.769Z"
   },
   {
    "duration": 6,
    "start_time": "2022-07-14T15:24:49.817Z"
   },
   {
    "duration": 10,
    "start_time": "2022-07-14T15:24:49.824Z"
   },
   {
    "duration": 16,
    "start_time": "2022-07-14T15:24:49.835Z"
   },
   {
    "duration": 10,
    "start_time": "2022-07-14T15:24:49.853Z"
   },
   {
    "duration": 14,
    "start_time": "2022-07-14T15:24:49.864Z"
   },
   {
    "duration": 25,
    "start_time": "2022-07-14T15:24:49.879Z"
   },
   {
    "duration": 23,
    "start_time": "2022-07-14T15:24:49.905Z"
   },
   {
    "duration": 1,
    "start_time": "2022-07-14T15:24:49.930Z"
   },
   {
    "duration": 13,
    "start_time": "2022-07-14T15:24:49.933Z"
   },
   {
    "duration": 30,
    "start_time": "2022-07-14T15:24:49.948Z"
   },
   {
    "duration": 2,
    "start_time": "2022-07-14T15:24:49.980Z"
   },
   {
    "duration": 3,
    "start_time": "2022-07-14T15:24:50.002Z"
   },
   {
    "duration": 7,
    "start_time": "2022-07-14T15:24:50.009Z"
   },
   {
    "duration": 17,
    "start_time": "2022-07-14T15:24:50.017Z"
   },
   {
    "duration": 13,
    "start_time": "2022-07-14T15:24:50.035Z"
   },
   {
    "duration": 21,
    "start_time": "2022-07-14T15:24:50.050Z"
   },
   {
    "duration": 5,
    "start_time": "2022-07-14T15:24:50.073Z"
   },
   {
    "duration": 39,
    "start_time": "2022-07-14T15:24:50.080Z"
   },
   {
    "duration": 18,
    "start_time": "2022-07-14T15:24:50.120Z"
   },
   {
    "duration": 4,
    "start_time": "2022-07-14T15:24:50.140Z"
   },
   {
    "duration": 3654,
    "start_time": "2022-07-14T15:24:50.146Z"
   },
   {
    "duration": 19,
    "start_time": "2022-07-14T15:24:53.802Z"
   },
   {
    "duration": 14,
    "start_time": "2022-07-14T15:24:53.822Z"
   },
   {
    "duration": 6,
    "start_time": "2022-07-14T15:24:53.838Z"
   },
   {
    "duration": 5,
    "start_time": "2022-07-14T15:24:53.846Z"
   },
   {
    "duration": 13,
    "start_time": "2022-07-14T15:24:53.852Z"
   },
   {
    "duration": 38,
    "start_time": "2022-07-14T15:24:53.867Z"
   },
   {
    "duration": 51,
    "start_time": "2022-07-14T15:24:53.906Z"
   },
   {
    "duration": 3,
    "start_time": "2022-07-14T15:24:53.959Z"
   },
   {
    "duration": 6,
    "start_time": "2022-07-14T15:24:53.963Z"
   },
   {
    "duration": 8,
    "start_time": "2022-07-14T15:24:53.971Z"
   },
   {
    "duration": 2,
    "start_time": "2022-07-14T15:24:53.981Z"
   },
   {
    "duration": 31,
    "start_time": "2022-07-14T15:24:53.984Z"
   },
   {
    "duration": 14,
    "start_time": "2022-07-14T15:24:54.016Z"
   },
   {
    "duration": 4,
    "start_time": "2022-07-14T15:24:54.031Z"
   },
   {
    "duration": 873,
    "start_time": "2022-07-14T15:24:54.036Z"
   },
   {
    "duration": 29097,
    "start_time": "2022-07-14T15:24:54.910Z"
   },
   {
    "duration": 196,
    "start_time": "2022-07-14T15:25:24.009Z"
   },
   {
    "duration": 3406,
    "start_time": "2022-07-14T15:25:24.206Z"
   },
   {
    "duration": 424,
    "start_time": "2022-07-14T15:25:27.613Z"
   },
   {
    "duration": 1373,
    "start_time": "2022-07-14T15:29:38.391Z"
   },
   {
    "duration": 104,
    "start_time": "2022-07-14T15:29:39.765Z"
   },
   {
    "duration": 153,
    "start_time": "2022-07-14T15:29:39.871Z"
   },
   {
    "duration": 5,
    "start_time": "2022-07-14T15:29:40.026Z"
   },
   {
    "duration": 24,
    "start_time": "2022-07-14T15:29:40.032Z"
   },
   {
    "duration": 16,
    "start_time": "2022-07-14T15:29:40.057Z"
   },
   {
    "duration": 9,
    "start_time": "2022-07-14T15:29:40.075Z"
   },
   {
    "duration": 18,
    "start_time": "2022-07-14T15:29:40.086Z"
   },
   {
    "duration": 8,
    "start_time": "2022-07-14T15:29:40.106Z"
   },
   {
    "duration": 5,
    "start_time": "2022-07-14T15:29:40.116Z"
   },
   {
    "duration": 19,
    "start_time": "2022-07-14T15:29:40.122Z"
   },
   {
    "duration": 15,
    "start_time": "2022-07-14T15:29:40.142Z"
   },
   {
    "duration": 7,
    "start_time": "2022-07-14T15:29:40.158Z"
   },
   {
    "duration": 7,
    "start_time": "2022-07-14T15:29:40.166Z"
   },
   {
    "duration": 42,
    "start_time": "2022-07-14T15:29:40.174Z"
   },
   {
    "duration": 5,
    "start_time": "2022-07-14T15:29:40.217Z"
   },
   {
    "duration": 7,
    "start_time": "2022-07-14T15:29:40.223Z"
   },
   {
    "duration": 20,
    "start_time": "2022-07-14T15:29:40.231Z"
   },
   {
    "duration": 11,
    "start_time": "2022-07-14T15:29:40.252Z"
   },
   {
    "duration": 13,
    "start_time": "2022-07-14T15:29:40.264Z"
   },
   {
    "duration": 25,
    "start_time": "2022-07-14T15:29:40.279Z"
   },
   {
    "duration": 23,
    "start_time": "2022-07-14T15:29:40.306Z"
   },
   {
    "duration": 2,
    "start_time": "2022-07-14T15:29:40.330Z"
   },
   {
    "duration": 15,
    "start_time": "2022-07-14T15:29:40.334Z"
   },
   {
    "duration": 26,
    "start_time": "2022-07-14T15:29:40.351Z"
   },
   {
    "duration": 2,
    "start_time": "2022-07-14T15:29:40.379Z"
   },
   {
    "duration": 3,
    "start_time": "2022-07-14T15:29:40.401Z"
   },
   {
    "duration": 5,
    "start_time": "2022-07-14T15:29:40.407Z"
   },
   {
    "duration": 18,
    "start_time": "2022-07-14T15:29:40.413Z"
   },
   {
    "duration": 10,
    "start_time": "2022-07-14T15:29:40.432Z"
   },
   {
    "duration": 14,
    "start_time": "2022-07-14T15:29:40.443Z"
   },
   {
    "duration": 4,
    "start_time": "2022-07-14T15:29:40.459Z"
   },
   {
    "duration": 17,
    "start_time": "2022-07-14T15:29:40.464Z"
   },
   {
    "duration": 15,
    "start_time": "2022-07-14T15:29:40.501Z"
   },
   {
    "duration": 5,
    "start_time": "2022-07-14T15:29:40.518Z"
   },
   {
    "duration": 3580,
    "start_time": "2022-07-14T15:29:40.524Z"
   },
   {
    "duration": 19,
    "start_time": "2022-07-14T15:29:44.106Z"
   },
   {
    "duration": 14,
    "start_time": "2022-07-14T15:29:44.126Z"
   },
   {
    "duration": 6,
    "start_time": "2022-07-14T15:29:44.141Z"
   },
   {
    "duration": 5,
    "start_time": "2022-07-14T15:29:44.148Z"
   },
   {
    "duration": 16,
    "start_time": "2022-07-14T15:29:44.154Z"
   },
   {
    "duration": 4,
    "start_time": "2022-07-14T15:29:44.171Z"
   },
   {
    "duration": 69,
    "start_time": "2022-07-14T15:29:44.176Z"
   },
   {
    "duration": 3,
    "start_time": "2022-07-14T15:29:44.246Z"
   },
   {
    "duration": 9,
    "start_time": "2022-07-14T15:29:44.250Z"
   },
   {
    "duration": 9,
    "start_time": "2022-07-14T15:29:44.260Z"
   },
   {
    "duration": 3,
    "start_time": "2022-07-14T15:29:44.270Z"
   },
   {
    "duration": 38,
    "start_time": "2022-07-14T15:29:44.274Z"
   },
   {
    "duration": 13,
    "start_time": "2022-07-14T15:29:44.313Z"
   },
   {
    "duration": 4,
    "start_time": "2022-07-14T15:29:44.327Z"
   },
   {
    "duration": 881,
    "start_time": "2022-07-14T15:29:44.332Z"
   },
   {
    "duration": 98,
    "start_time": "2022-07-14T15:29:45.215Z"
   },
   {
    "duration": 0,
    "start_time": "2022-07-14T15:29:45.314Z"
   },
   {
    "duration": 0,
    "start_time": "2022-07-14T15:29:45.316Z"
   },
   {
    "duration": 0,
    "start_time": "2022-07-14T15:29:45.317Z"
   },
   {
    "duration": 76822,
    "start_time": "2022-07-14T15:30:40.694Z"
   },
   {
    "duration": 189,
    "start_time": "2022-07-14T15:31:57.518Z"
   },
   {
    "duration": 1594,
    "start_time": "2022-07-14T15:31:57.708Z"
   },
   {
    "duration": 388,
    "start_time": "2022-07-14T15:31:59.304Z"
   },
   {
    "duration": 8,
    "start_time": "2022-07-14T15:35:19.216Z"
   },
   {
    "duration": 8,
    "start_time": "2022-07-14T15:35:52.704Z"
   },
   {
    "duration": 1347,
    "start_time": "2022-07-14T15:45:05.514Z"
   },
   {
    "duration": 100,
    "start_time": "2022-07-14T15:45:06.862Z"
   },
   {
    "duration": 138,
    "start_time": "2022-07-14T15:45:06.964Z"
   },
   {
    "duration": 5,
    "start_time": "2022-07-14T15:45:07.104Z"
   },
   {
    "duration": 29,
    "start_time": "2022-07-14T15:45:07.110Z"
   },
   {
    "duration": 18,
    "start_time": "2022-07-14T15:45:07.140Z"
   },
   {
    "duration": 10,
    "start_time": "2022-07-14T15:45:07.160Z"
   },
   {
    "duration": 9,
    "start_time": "2022-07-14T15:45:07.172Z"
   },
   {
    "duration": 17,
    "start_time": "2022-07-14T15:45:07.183Z"
   },
   {
    "duration": 20,
    "start_time": "2022-07-14T15:45:07.202Z"
   },
   {
    "duration": 32,
    "start_time": "2022-07-14T15:45:07.223Z"
   },
   {
    "duration": 32,
    "start_time": "2022-07-14T15:45:07.257Z"
   },
   {
    "duration": 15,
    "start_time": "2022-07-14T15:45:07.290Z"
   },
   {
    "duration": 17,
    "start_time": "2022-07-14T15:45:07.306Z"
   },
   {
    "duration": 28,
    "start_time": "2022-07-14T15:45:07.325Z"
   },
   {
    "duration": 10,
    "start_time": "2022-07-14T15:45:07.354Z"
   },
   {
    "duration": 18,
    "start_time": "2022-07-14T15:45:07.365Z"
   },
   {
    "duration": 38,
    "start_time": "2022-07-14T15:45:07.385Z"
   },
   {
    "duration": 48,
    "start_time": "2022-07-14T15:45:07.425Z"
   },
   {
    "duration": 42,
    "start_time": "2022-07-14T15:45:07.474Z"
   },
   {
    "duration": 6,
    "start_time": "2022-07-14T15:45:07.518Z"
   },
   {
    "duration": 52,
    "start_time": "2022-07-14T15:45:07.526Z"
   },
   {
    "duration": 9,
    "start_time": "2022-07-14T15:45:07.580Z"
   },
   {
    "duration": 30,
    "start_time": "2022-07-14T15:45:07.591Z"
   },
   {
    "duration": 41,
    "start_time": "2022-07-14T15:45:07.623Z"
   },
   {
    "duration": 2,
    "start_time": "2022-07-14T15:45:07.665Z"
   },
   {
    "duration": 5,
    "start_time": "2022-07-14T15:45:07.668Z"
   },
   {
    "duration": 16,
    "start_time": "2022-07-14T15:45:07.677Z"
   },
   {
    "duration": 28,
    "start_time": "2022-07-14T15:45:07.695Z"
   },
   {
    "duration": 12,
    "start_time": "2022-07-14T15:45:07.725Z"
   },
   {
    "duration": 38,
    "start_time": "2022-07-14T15:45:07.739Z"
   },
   {
    "duration": 10,
    "start_time": "2022-07-14T15:45:07.778Z"
   },
   {
    "duration": 25,
    "start_time": "2022-07-14T15:45:07.789Z"
   },
   {
    "duration": 44,
    "start_time": "2022-07-14T15:45:07.815Z"
   },
   {
    "duration": 12,
    "start_time": "2022-07-14T15:45:07.861Z"
   },
   {
    "duration": 3390,
    "start_time": "2022-07-14T15:45:07.875Z"
   },
   {
    "duration": 21,
    "start_time": "2022-07-14T15:45:11.266Z"
   },
   {
    "duration": 24,
    "start_time": "2022-07-14T15:45:11.289Z"
   },
   {
    "duration": 16,
    "start_time": "2022-07-14T15:45:11.314Z"
   },
   {
    "duration": 21,
    "start_time": "2022-07-14T15:45:11.332Z"
   },
   {
    "duration": 27,
    "start_time": "2022-07-14T15:45:11.355Z"
   },
   {
    "duration": 9,
    "start_time": "2022-07-14T15:45:11.384Z"
   },
   {
    "duration": 87,
    "start_time": "2022-07-14T15:45:11.394Z"
   },
   {
    "duration": 3,
    "start_time": "2022-07-14T15:45:11.482Z"
   },
   {
    "duration": 36,
    "start_time": "2022-07-14T15:45:11.486Z"
   },
   {
    "duration": 18,
    "start_time": "2022-07-14T15:45:11.524Z"
   },
   {
    "duration": 37,
    "start_time": "2022-07-14T15:45:11.544Z"
   },
   {
    "duration": 72,
    "start_time": "2022-07-14T15:45:11.582Z"
   },
   {
    "duration": 39,
    "start_time": "2022-07-14T15:45:11.656Z"
   },
   {
    "duration": 8,
    "start_time": "2022-07-14T15:45:11.696Z"
   },
   {
    "duration": 1096,
    "start_time": "2022-07-14T15:45:11.705Z"
   },
   {
    "duration": 114010,
    "start_time": "2022-07-14T15:45:12.803Z"
   },
   {
    "duration": 97,
    "start_time": "2022-07-14T15:47:06.815Z"
   },
   {
    "duration": 1696,
    "start_time": "2022-07-14T15:47:06.914Z"
   },
   {
    "duration": 414,
    "start_time": "2022-07-14T15:47:08.612Z"
   },
   {
    "duration": 8,
    "start_time": "2022-07-14T15:47:09.028Z"
   },
   {
    "duration": 1318,
    "start_time": "2022-07-14T15:59:18.148Z"
   },
   {
    "duration": 102,
    "start_time": "2022-07-14T15:59:19.468Z"
   },
   {
    "duration": 143,
    "start_time": "2022-07-14T15:59:19.572Z"
   },
   {
    "duration": 6,
    "start_time": "2022-07-14T15:59:19.717Z"
   },
   {
    "duration": 19,
    "start_time": "2022-07-14T15:59:19.725Z"
   },
   {
    "duration": 21,
    "start_time": "2022-07-14T15:59:19.746Z"
   },
   {
    "duration": 10,
    "start_time": "2022-07-14T15:59:19.769Z"
   },
   {
    "duration": 23,
    "start_time": "2022-07-14T15:59:19.780Z"
   },
   {
    "duration": 8,
    "start_time": "2022-07-14T15:59:19.805Z"
   },
   {
    "duration": 13,
    "start_time": "2022-07-14T15:59:19.815Z"
   },
   {
    "duration": 32,
    "start_time": "2022-07-14T15:59:19.829Z"
   },
   {
    "duration": 20,
    "start_time": "2022-07-14T15:59:19.862Z"
   },
   {
    "duration": 8,
    "start_time": "2022-07-14T15:59:19.884Z"
   },
   {
    "duration": 4,
    "start_time": "2022-07-14T15:59:19.901Z"
   },
   {
    "duration": 19,
    "start_time": "2022-07-14T15:59:19.907Z"
   },
   {
    "duration": 5,
    "start_time": "2022-07-14T15:59:19.928Z"
   },
   {
    "duration": 12,
    "start_time": "2022-07-14T15:59:19.934Z"
   },
   {
    "duration": 16,
    "start_time": "2022-07-14T15:59:19.947Z"
   },
   {
    "duration": 10,
    "start_time": "2022-07-14T15:59:19.965Z"
   },
   {
    "duration": 32,
    "start_time": "2022-07-14T15:59:19.977Z"
   },
   {
    "duration": 5,
    "start_time": "2022-07-14T15:59:20.010Z"
   },
   {
    "duration": 24,
    "start_time": "2022-07-14T15:59:20.016Z"
   },
   {
    "duration": 2,
    "start_time": "2022-07-14T15:59:20.041Z"
   },
   {
    "duration": 17,
    "start_time": "2022-07-14T15:59:20.045Z"
   },
   {
    "duration": 47,
    "start_time": "2022-07-14T15:59:20.063Z"
   },
   {
    "duration": 2,
    "start_time": "2022-07-14T15:59:20.112Z"
   },
   {
    "duration": 5,
    "start_time": "2022-07-14T15:59:20.115Z"
   },
   {
    "duration": 5,
    "start_time": "2022-07-14T15:59:20.121Z"
   },
   {
    "duration": 17,
    "start_time": "2022-07-14T15:59:20.127Z"
   },
   {
    "duration": 9,
    "start_time": "2022-07-14T15:59:20.146Z"
   },
   {
    "duration": 16,
    "start_time": "2022-07-14T15:59:20.156Z"
   },
   {
    "duration": 5,
    "start_time": "2022-07-14T15:59:20.174Z"
   },
   {
    "duration": 30,
    "start_time": "2022-07-14T15:59:20.180Z"
   },
   {
    "duration": 17,
    "start_time": "2022-07-14T15:59:20.211Z"
   },
   {
    "duration": 5,
    "start_time": "2022-07-14T15:59:20.229Z"
   },
   {
    "duration": 3453,
    "start_time": "2022-07-14T15:59:20.235Z"
   },
   {
    "duration": 28,
    "start_time": "2022-07-14T15:59:23.690Z"
   },
   {
    "duration": 15,
    "start_time": "2022-07-14T15:59:23.720Z"
   },
   {
    "duration": 9,
    "start_time": "2022-07-14T15:59:23.736Z"
   },
   {
    "duration": 17,
    "start_time": "2022-07-14T15:59:23.747Z"
   },
   {
    "duration": 26,
    "start_time": "2022-07-14T15:59:23.768Z"
   },
   {
    "duration": 17,
    "start_time": "2022-07-14T15:59:23.795Z"
   },
   {
    "duration": 56,
    "start_time": "2022-07-14T15:59:23.813Z"
   },
   {
    "duration": 3,
    "start_time": "2022-07-14T15:59:23.870Z"
   },
   {
    "duration": 9,
    "start_time": "2022-07-14T15:59:23.874Z"
   },
   {
    "duration": 11,
    "start_time": "2022-07-14T15:59:23.884Z"
   },
   {
    "duration": 2,
    "start_time": "2022-07-14T15:59:23.896Z"
   },
   {
    "duration": 15,
    "start_time": "2022-07-14T15:59:23.900Z"
   },
   {
    "duration": 13,
    "start_time": "2022-07-14T15:59:23.916Z"
   },
   {
    "duration": 4,
    "start_time": "2022-07-14T15:59:23.930Z"
   },
   {
    "duration": 973,
    "start_time": "2022-07-14T15:59:23.935Z"
   },
   {
    "duration": 73193,
    "start_time": "2022-07-14T15:59:24.910Z"
   },
   {
    "duration": 98,
    "start_time": "2022-07-14T16:00:38.105Z"
   },
   {
    "duration": 1502,
    "start_time": "2022-07-14T16:00:38.204Z"
   },
   {
    "duration": 426,
    "start_time": "2022-07-14T16:00:39.707Z"
   },
   {
    "duration": 8,
    "start_time": "2022-07-14T16:00:40.134Z"
   },
   {
    "duration": 1311,
    "start_time": "2022-07-14T16:15:09.358Z"
   },
   {
    "duration": 99,
    "start_time": "2022-07-14T16:15:10.670Z"
   },
   {
    "duration": 137,
    "start_time": "2022-07-14T16:15:10.770Z"
   },
   {
    "duration": 5,
    "start_time": "2022-07-14T16:15:10.909Z"
   },
   {
    "duration": 14,
    "start_time": "2022-07-14T16:15:10.915Z"
   },
   {
    "duration": 15,
    "start_time": "2022-07-14T16:15:10.931Z"
   },
   {
    "duration": 10,
    "start_time": "2022-07-14T16:15:10.947Z"
   },
   {
    "duration": 4,
    "start_time": "2022-07-14T16:15:10.959Z"
   },
   {
    "duration": 8,
    "start_time": "2022-07-14T16:15:10.964Z"
   },
   {
    "duration": 3,
    "start_time": "2022-07-14T16:15:11.004Z"
   },
   {
    "duration": 19,
    "start_time": "2022-07-14T16:15:11.009Z"
   },
   {
    "duration": 15,
    "start_time": "2022-07-14T16:15:11.030Z"
   },
   {
    "duration": 8,
    "start_time": "2022-07-14T16:15:11.046Z"
   },
   {
    "duration": 4,
    "start_time": "2022-07-14T16:15:11.056Z"
   },
   {
    "duration": 44,
    "start_time": "2022-07-14T16:15:11.062Z"
   },
   {
    "duration": 8,
    "start_time": "2022-07-14T16:15:11.107Z"
   },
   {
    "duration": 6,
    "start_time": "2022-07-14T16:15:11.116Z"
   },
   {
    "duration": 15,
    "start_time": "2022-07-14T16:15:11.124Z"
   },
   {
    "duration": 10,
    "start_time": "2022-07-14T16:15:11.140Z"
   },
   {
    "duration": 11,
    "start_time": "2022-07-14T16:15:11.152Z"
   },
   {
    "duration": 5,
    "start_time": "2022-07-14T16:15:11.164Z"
   },
   {
    "duration": 48,
    "start_time": "2022-07-14T16:15:11.171Z"
   },
   {
    "duration": 2,
    "start_time": "2022-07-14T16:15:11.220Z"
   },
   {
    "duration": 15,
    "start_time": "2022-07-14T16:15:11.224Z"
   },
   {
    "duration": 25,
    "start_time": "2022-07-14T16:15:11.240Z"
   },
   {
    "duration": 2,
    "start_time": "2022-07-14T16:15:11.267Z"
   },
   {
    "duration": 5,
    "start_time": "2022-07-14T16:15:11.270Z"
   },
   {
    "duration": 2,
    "start_time": "2022-07-14T16:15:11.278Z"
   },
   {
    "duration": 13,
    "start_time": "2022-07-14T16:15:11.303Z"
   },
   {
    "duration": 9,
    "start_time": "2022-07-14T16:15:11.318Z"
   },
   {
    "duration": 14,
    "start_time": "2022-07-14T16:15:11.329Z"
   },
   {
    "duration": 5,
    "start_time": "2022-07-14T16:15:11.344Z"
   },
   {
    "duration": 15,
    "start_time": "2022-07-14T16:15:11.350Z"
   },
   {
    "duration": 38,
    "start_time": "2022-07-14T16:15:11.366Z"
   },
   {
    "duration": 5,
    "start_time": "2022-07-14T16:15:11.405Z"
   },
   {
    "duration": 3456,
    "start_time": "2022-07-14T16:15:11.411Z"
   },
   {
    "duration": 20,
    "start_time": "2022-07-14T16:15:14.868Z"
   },
   {
    "duration": 14,
    "start_time": "2022-07-14T16:15:14.901Z"
   },
   {
    "duration": 6,
    "start_time": "2022-07-14T16:15:14.916Z"
   },
   {
    "duration": 5,
    "start_time": "2022-07-14T16:15:14.923Z"
   },
   {
    "duration": 17,
    "start_time": "2022-07-14T16:15:14.930Z"
   },
   {
    "duration": 6,
    "start_time": "2022-07-14T16:15:14.948Z"
   },
   {
    "duration": 70,
    "start_time": "2022-07-14T16:15:14.955Z"
   },
   {
    "duration": 4,
    "start_time": "2022-07-14T16:15:15.026Z"
   },
   {
    "duration": 10,
    "start_time": "2022-07-14T16:15:15.031Z"
   },
   {
    "duration": 13,
    "start_time": "2022-07-14T16:15:15.042Z"
   },
   {
    "duration": 4,
    "start_time": "2022-07-14T16:15:15.056Z"
   },
   {
    "duration": 20,
    "start_time": "2022-07-14T16:15:15.061Z"
   },
   {
    "duration": 21,
    "start_time": "2022-07-14T16:15:15.083Z"
   },
   {
    "duration": 3,
    "start_time": "2022-07-14T16:15:15.105Z"
   },
   {
    "duration": 897,
    "start_time": "2022-07-14T16:15:15.110Z"
   },
   {
    "duration": 71603,
    "start_time": "2022-07-14T16:15:16.008Z"
   },
   {
    "duration": 101,
    "start_time": "2022-07-14T16:16:27.613Z"
   },
   {
    "duration": 1687,
    "start_time": "2022-07-14T16:16:27.716Z"
   },
   {
    "duration": 404,
    "start_time": "2022-07-14T16:16:29.405Z"
   },
   {
    "duration": 9,
    "start_time": "2022-07-14T16:16:29.811Z"
   },
   {
    "duration": 1309,
    "start_time": "2022-07-14T16:19:52.361Z"
   },
   {
    "duration": 100,
    "start_time": "2022-07-14T16:19:53.672Z"
   },
   {
    "duration": 139,
    "start_time": "2022-07-14T16:19:53.774Z"
   },
   {
    "duration": 5,
    "start_time": "2022-07-14T16:19:53.915Z"
   },
   {
    "duration": 15,
    "start_time": "2022-07-14T16:19:53.921Z"
   },
   {
    "duration": 15,
    "start_time": "2022-07-14T16:19:53.938Z"
   },
   {
    "duration": 10,
    "start_time": "2022-07-14T16:19:53.954Z"
   },
   {
    "duration": 4,
    "start_time": "2022-07-14T16:19:53.966Z"
   },
   {
    "duration": 5,
    "start_time": "2022-07-14T16:19:54.002Z"
   },
   {
    "duration": 4,
    "start_time": "2022-07-14T16:19:54.009Z"
   },
   {
    "duration": 20,
    "start_time": "2022-07-14T16:19:54.014Z"
   },
   {
    "duration": 33,
    "start_time": "2022-07-14T16:19:54.036Z"
   },
   {
    "duration": 11,
    "start_time": "2022-07-14T16:19:54.070Z"
   },
   {
    "duration": 4,
    "start_time": "2022-07-14T16:19:54.082Z"
   },
   {
    "duration": 17,
    "start_time": "2022-07-14T16:19:54.088Z"
   },
   {
    "duration": 5,
    "start_time": "2022-07-14T16:19:54.106Z"
   },
   {
    "duration": 7,
    "start_time": "2022-07-14T16:19:54.113Z"
   },
   {
    "duration": 15,
    "start_time": "2022-07-14T16:19:54.121Z"
   },
   {
    "duration": 10,
    "start_time": "2022-07-14T16:19:54.137Z"
   },
   {
    "duration": 13,
    "start_time": "2022-07-14T16:19:54.148Z"
   },
   {
    "duration": 4,
    "start_time": "2022-07-14T16:19:54.162Z"
   },
   {
    "duration": 44,
    "start_time": "2022-07-14T16:19:54.168Z"
   },
   {
    "duration": 3,
    "start_time": "2022-07-14T16:19:54.213Z"
   },
   {
    "duration": 15,
    "start_time": "2022-07-14T16:19:54.217Z"
   },
   {
    "duration": 27,
    "start_time": "2022-07-14T16:19:54.233Z"
   },
   {
    "duration": 3,
    "start_time": "2022-07-14T16:19:54.261Z"
   },
   {
    "duration": 4,
    "start_time": "2022-07-14T16:19:54.265Z"
   },
   {
    "duration": 3,
    "start_time": "2022-07-14T16:19:54.272Z"
   },
   {
    "duration": 31,
    "start_time": "2022-07-14T16:19:54.276Z"
   },
   {
    "duration": 9,
    "start_time": "2022-07-14T16:19:54.309Z"
   },
   {
    "duration": 17,
    "start_time": "2022-07-14T16:19:54.319Z"
   },
   {
    "duration": 5,
    "start_time": "2022-07-14T16:19:54.337Z"
   },
   {
    "duration": 15,
    "start_time": "2022-07-14T16:19:54.343Z"
   },
   {
    "duration": 17,
    "start_time": "2022-07-14T16:19:54.359Z"
   },
   {
    "duration": 5,
    "start_time": "2022-07-14T16:19:54.401Z"
   },
   {
    "duration": 3504,
    "start_time": "2022-07-14T16:19:54.407Z"
   },
   {
    "duration": 19,
    "start_time": "2022-07-14T16:19:57.913Z"
   },
   {
    "duration": 14,
    "start_time": "2022-07-14T16:19:57.933Z"
   },
   {
    "duration": 7,
    "start_time": "2022-07-14T16:19:57.948Z"
   },
   {
    "duration": 5,
    "start_time": "2022-07-14T16:19:57.957Z"
   },
   {
    "duration": 14,
    "start_time": "2022-07-14T16:19:57.963Z"
   },
   {
    "duration": 6,
    "start_time": "2022-07-14T16:19:58.002Z"
   },
   {
    "duration": 50,
    "start_time": "2022-07-14T16:19:58.009Z"
   },
   {
    "duration": 3,
    "start_time": "2022-07-14T16:19:58.060Z"
   },
   {
    "duration": 9,
    "start_time": "2022-07-14T16:19:58.064Z"
   },
   {
    "duration": 28,
    "start_time": "2022-07-14T16:19:58.075Z"
   },
   {
    "duration": 2,
    "start_time": "2022-07-14T16:19:58.105Z"
   },
   {
    "duration": 17,
    "start_time": "2022-07-14T16:19:58.108Z"
   },
   {
    "duration": 14,
    "start_time": "2022-07-14T16:19:58.126Z"
   },
   {
    "duration": 9,
    "start_time": "2022-07-14T16:19:58.141Z"
   },
   {
    "duration": 851,
    "start_time": "2022-07-14T16:19:58.151Z"
   },
   {
    "duration": 75509,
    "start_time": "2022-07-14T16:19:59.004Z"
   },
   {
    "duration": 1704,
    "start_time": "2022-07-14T16:21:14.514Z"
   },
   {
    "duration": 428,
    "start_time": "2022-07-14T16:21:16.220Z"
   },
   {
    "duration": 8,
    "start_time": "2022-07-14T16:21:16.650Z"
   },
   {
    "duration": 98,
    "start_time": "2022-07-14T16:51:17.901Z"
   },
   {
    "duration": 99,
    "start_time": "2022-07-14T16:59:39.947Z"
   },
   {
    "duration": 8,
    "start_time": "2022-07-14T17:01:21.475Z"
   },
   {
    "duration": 1491,
    "start_time": "2022-07-14T17:31:07.382Z"
   },
   {
    "duration": 103,
    "start_time": "2022-07-14T17:31:08.875Z"
   },
   {
    "duration": 143,
    "start_time": "2022-07-14T17:31:08.980Z"
   },
   {
    "duration": 6,
    "start_time": "2022-07-14T17:31:09.124Z"
   },
   {
    "duration": 23,
    "start_time": "2022-07-14T17:31:09.131Z"
   },
   {
    "duration": 16,
    "start_time": "2022-07-14T17:31:09.156Z"
   },
   {
    "duration": 10,
    "start_time": "2022-07-14T17:31:09.173Z"
   },
   {
    "duration": 4,
    "start_time": "2022-07-14T17:31:09.202Z"
   },
   {
    "duration": 8,
    "start_time": "2022-07-14T17:31:09.207Z"
   },
   {
    "duration": 8,
    "start_time": "2022-07-14T17:31:09.216Z"
   },
   {
    "duration": 22,
    "start_time": "2022-07-14T17:31:09.225Z"
   },
   {
    "duration": 16,
    "start_time": "2022-07-14T17:31:09.248Z"
   },
   {
    "duration": 7,
    "start_time": "2022-07-14T17:31:09.265Z"
   },
   {
    "duration": 4,
    "start_time": "2022-07-14T17:31:09.274Z"
   },
   {
    "duration": 36,
    "start_time": "2022-07-14T17:31:09.279Z"
   },
   {
    "duration": 6,
    "start_time": "2022-07-14T17:31:09.316Z"
   },
   {
    "duration": 9,
    "start_time": "2022-07-14T17:31:09.323Z"
   },
   {
    "duration": 18,
    "start_time": "2022-07-14T17:31:09.333Z"
   },
   {
    "duration": 14,
    "start_time": "2022-07-14T17:31:09.353Z"
   },
   {
    "duration": 13,
    "start_time": "2022-07-14T17:31:09.368Z"
   },
   {
    "duration": 5,
    "start_time": "2022-07-14T17:31:09.382Z"
   },
   {
    "duration": 20,
    "start_time": "2022-07-14T17:31:09.402Z"
   },
   {
    "duration": 2,
    "start_time": "2022-07-14T17:31:09.424Z"
   },
   {
    "duration": 20,
    "start_time": "2022-07-14T17:31:09.428Z"
   },
   {
    "duration": 27,
    "start_time": "2022-07-14T17:31:09.450Z"
   },
   {
    "duration": 3,
    "start_time": "2022-07-14T17:31:09.478Z"
   },
   {
    "duration": 2,
    "start_time": "2022-07-14T17:31:09.502Z"
   },
   {
    "duration": 5,
    "start_time": "2022-07-14T17:31:09.506Z"
   },
   {
    "duration": 15,
    "start_time": "2022-07-14T17:31:09.512Z"
   },
   {
    "duration": 15,
    "start_time": "2022-07-14T17:31:09.528Z"
   },
   {
    "duration": 27,
    "start_time": "2022-07-14T17:31:09.544Z"
   },
   {
    "duration": 5,
    "start_time": "2022-07-14T17:31:09.573Z"
   },
   {
    "duration": 15,
    "start_time": "2022-07-14T17:31:09.579Z"
   },
   {
    "duration": 14,
    "start_time": "2022-07-14T17:31:09.602Z"
   },
   {
    "duration": 4,
    "start_time": "2022-07-14T17:31:09.617Z"
   },
   {
    "duration": 3507,
    "start_time": "2022-07-14T17:31:09.622Z"
   },
   {
    "duration": 28,
    "start_time": "2022-07-14T17:31:13.130Z"
   },
   {
    "duration": 14,
    "start_time": "2022-07-14T17:31:13.160Z"
   },
   {
    "duration": 7,
    "start_time": "2022-07-14T17:31:13.175Z"
   },
   {
    "duration": 34,
    "start_time": "2022-07-14T17:31:13.183Z"
   },
   {
    "duration": 14,
    "start_time": "2022-07-14T17:31:13.223Z"
   },
   {
    "duration": 5,
    "start_time": "2022-07-14T17:31:13.238Z"
   },
   {
    "duration": 59,
    "start_time": "2022-07-14T17:31:13.245Z"
   },
   {
    "duration": 3,
    "start_time": "2022-07-14T17:31:13.307Z"
   },
   {
    "duration": 16,
    "start_time": "2022-07-14T17:31:13.312Z"
   },
   {
    "duration": 21,
    "start_time": "2022-07-14T17:31:13.329Z"
   },
   {
    "duration": 4,
    "start_time": "2022-07-14T17:31:13.351Z"
   },
   {
    "duration": 17,
    "start_time": "2022-07-14T17:31:13.356Z"
   },
   {
    "duration": 14,
    "start_time": "2022-07-14T17:31:13.374Z"
   },
   {
    "duration": 13,
    "start_time": "2022-07-14T17:31:13.389Z"
   },
   {
    "duration": 1201,
    "start_time": "2022-07-14T17:31:13.404Z"
   },
   {
    "duration": 119199,
    "start_time": "2022-07-14T17:31:14.612Z"
   },
   {
    "duration": 1502,
    "start_time": "2022-07-14T17:33:13.812Z"
   },
   {
    "duration": 430,
    "start_time": "2022-07-14T17:33:15.316Z"
   },
   {
    "duration": 109,
    "start_time": "2022-07-14T17:33:15.747Z"
   },
   {
    "duration": 8,
    "start_time": "2022-07-14T17:33:15.857Z"
   },
   {
    "duration": 1507,
    "start_time": "2022-07-16T07:47:19.765Z"
   },
   {
    "duration": 300,
    "start_time": "2022-07-16T07:47:21.273Z"
   },
   {
    "duration": 157,
    "start_time": "2022-07-16T07:47:21.574Z"
   },
   {
    "duration": 8,
    "start_time": "2022-07-16T07:47:21.734Z"
   },
   {
    "duration": 23,
    "start_time": "2022-07-16T07:47:21.744Z"
   },
   {
    "duration": 49,
    "start_time": "2022-07-16T07:47:21.769Z"
   },
   {
    "duration": 11,
    "start_time": "2022-07-16T07:47:21.820Z"
   },
   {
    "duration": 13,
    "start_time": "2022-07-16T07:47:21.833Z"
   },
   {
    "duration": 29,
    "start_time": "2022-07-16T07:47:21.847Z"
   },
   {
    "duration": 20,
    "start_time": "2022-07-16T07:47:21.879Z"
   },
   {
    "duration": 36,
    "start_time": "2022-07-16T07:47:21.902Z"
   },
   {
    "duration": 35,
    "start_time": "2022-07-16T07:47:21.940Z"
   },
   {
    "duration": 27,
    "start_time": "2022-07-16T07:47:21.977Z"
   },
   {
    "duration": 7,
    "start_time": "2022-07-16T07:47:22.006Z"
   },
   {
    "duration": 36,
    "start_time": "2022-07-16T07:47:22.015Z"
   },
   {
    "duration": 9,
    "start_time": "2022-07-16T07:47:22.052Z"
   },
   {
    "duration": 10,
    "start_time": "2022-07-16T07:47:22.063Z"
   },
   {
    "duration": 21,
    "start_time": "2022-07-16T07:47:22.075Z"
   },
   {
    "duration": 11,
    "start_time": "2022-07-16T07:47:22.098Z"
   },
   {
    "duration": 19,
    "start_time": "2022-07-16T07:47:22.111Z"
   },
   {
    "duration": 6,
    "start_time": "2022-07-16T07:47:22.131Z"
   },
   {
    "duration": 29,
    "start_time": "2022-07-16T07:47:22.138Z"
   },
   {
    "duration": 2,
    "start_time": "2022-07-16T07:47:22.169Z"
   },
   {
    "duration": 31,
    "start_time": "2022-07-16T07:47:22.173Z"
   },
   {
    "duration": 47,
    "start_time": "2022-07-16T07:47:22.206Z"
   },
   {
    "duration": 2,
    "start_time": "2022-07-16T07:47:22.255Z"
   },
   {
    "duration": 11,
    "start_time": "2022-07-16T07:47:22.259Z"
   },
   {
    "duration": 13,
    "start_time": "2022-07-16T07:47:22.275Z"
   },
   {
    "duration": 27,
    "start_time": "2022-07-16T07:47:22.289Z"
   },
   {
    "duration": 23,
    "start_time": "2022-07-16T07:47:22.318Z"
   },
   {
    "duration": 32,
    "start_time": "2022-07-16T07:47:22.343Z"
   },
   {
    "duration": 8,
    "start_time": "2022-07-16T07:47:22.378Z"
   },
   {
    "duration": 24,
    "start_time": "2022-07-16T07:47:22.388Z"
   },
   {
    "duration": 20,
    "start_time": "2022-07-16T07:47:22.414Z"
   },
   {
    "duration": 6,
    "start_time": "2022-07-16T07:47:22.437Z"
   },
   {
    "duration": 6930,
    "start_time": "2022-07-16T07:47:22.445Z"
   },
   {
    "duration": 37,
    "start_time": "2022-07-16T07:47:29.376Z"
   },
   {
    "duration": 14,
    "start_time": "2022-07-16T07:47:29.415Z"
   },
   {
    "duration": 10,
    "start_time": "2022-07-16T07:47:29.431Z"
   },
   {
    "duration": 11,
    "start_time": "2022-07-16T07:47:29.442Z"
   },
   {
    "duration": 24,
    "start_time": "2022-07-16T07:47:29.455Z"
   },
   {
    "duration": 24,
    "start_time": "2022-07-16T07:47:29.481Z"
   },
   {
    "duration": 67,
    "start_time": "2022-07-16T07:47:29.507Z"
   },
   {
    "duration": 4,
    "start_time": "2022-07-16T07:47:29.576Z"
   },
   {
    "duration": 20,
    "start_time": "2022-07-16T07:47:29.582Z"
   },
   {
    "duration": 15,
    "start_time": "2022-07-16T07:47:29.605Z"
   },
   {
    "duration": 9,
    "start_time": "2022-07-16T07:47:29.622Z"
   },
   {
    "duration": 26,
    "start_time": "2022-07-16T07:47:29.633Z"
   },
   {
    "duration": 24,
    "start_time": "2022-07-16T07:47:29.661Z"
   },
   {
    "duration": 13,
    "start_time": "2022-07-16T07:47:29.688Z"
   },
   {
    "duration": 898,
    "start_time": "2022-07-16T07:47:29.703Z"
   },
   {
    "duration": 102,
    "start_time": "2022-07-16T11:50:45.297Z"
   },
   {
    "duration": 1892,
    "start_time": "2022-07-16T12:02:11.733Z"
   },
   {
    "duration": 397,
    "start_time": "2022-07-16T12:02:13.627Z"
   },
   {
    "duration": 193,
    "start_time": "2022-07-16T12:02:14.026Z"
   },
   {
    "duration": 5,
    "start_time": "2022-07-16T12:02:14.222Z"
   },
   {
    "duration": 38,
    "start_time": "2022-07-16T12:02:14.229Z"
   },
   {
    "duration": 29,
    "start_time": "2022-07-16T12:02:14.268Z"
   },
   {
    "duration": 12,
    "start_time": "2022-07-16T12:02:14.299Z"
   },
   {
    "duration": 5,
    "start_time": "2022-07-16T12:02:14.313Z"
   },
   {
    "duration": 7,
    "start_time": "2022-07-16T12:02:14.319Z"
   },
   {
    "duration": 27,
    "start_time": "2022-07-16T12:02:14.329Z"
   },
   {
    "duration": 34,
    "start_time": "2022-07-16T12:02:14.360Z"
   },
   {
    "duration": 23,
    "start_time": "2022-07-16T12:02:14.395Z"
   },
   {
    "duration": 8,
    "start_time": "2022-07-16T12:02:14.420Z"
   },
   {
    "duration": 5,
    "start_time": "2022-07-16T12:02:14.430Z"
   },
   {
    "duration": 42,
    "start_time": "2022-07-16T12:02:14.436Z"
   },
   {
    "duration": 9,
    "start_time": "2022-07-16T12:02:14.480Z"
   },
   {
    "duration": 7,
    "start_time": "2022-07-16T12:02:14.490Z"
   },
   {
    "duration": 20,
    "start_time": "2022-07-16T12:02:14.499Z"
   },
   {
    "duration": 11,
    "start_time": "2022-07-16T12:02:14.521Z"
   },
   {
    "duration": 40,
    "start_time": "2022-07-16T12:02:14.533Z"
   },
   {
    "duration": 9,
    "start_time": "2022-07-16T12:02:14.579Z"
   },
   {
    "duration": 29,
    "start_time": "2022-07-16T12:02:14.590Z"
   },
   {
    "duration": 4,
    "start_time": "2022-07-16T12:02:14.621Z"
   },
   {
    "duration": 21,
    "start_time": "2022-07-16T12:02:14.626Z"
   },
   {
    "duration": 39,
    "start_time": "2022-07-16T12:02:14.658Z"
   },
   {
    "duration": 2,
    "start_time": "2022-07-16T12:02:14.698Z"
   },
   {
    "duration": 6,
    "start_time": "2022-07-16T12:02:14.702Z"
   },
   {
    "duration": 2,
    "start_time": "2022-07-16T12:02:14.712Z"
   },
   {
    "duration": 17,
    "start_time": "2022-07-16T12:02:14.716Z"
   },
   {
    "duration": 31,
    "start_time": "2022-07-16T12:02:14.735Z"
   },
   {
    "duration": 21,
    "start_time": "2022-07-16T12:02:14.772Z"
   },
   {
    "duration": 21,
    "start_time": "2022-07-16T12:02:14.795Z"
   },
   {
    "duration": 30,
    "start_time": "2022-07-16T12:02:14.817Z"
   },
   {
    "duration": 67,
    "start_time": "2022-07-16T12:02:14.848Z"
   },
   {
    "duration": 17,
    "start_time": "2022-07-16T12:02:14.917Z"
   },
   {
    "duration": 4815,
    "start_time": "2022-07-16T12:02:14.936Z"
   },
   {
    "duration": 37,
    "start_time": "2022-07-16T12:02:19.755Z"
   },
   {
    "duration": 15,
    "start_time": "2022-07-16T12:02:19.794Z"
   },
   {
    "duration": 7,
    "start_time": "2022-07-16T12:02:19.810Z"
   },
   {
    "duration": 8,
    "start_time": "2022-07-16T12:02:19.819Z"
   },
   {
    "duration": 48,
    "start_time": "2022-07-16T12:02:19.828Z"
   },
   {
    "duration": 17,
    "start_time": "2022-07-16T12:02:19.880Z"
   },
   {
    "duration": 80,
    "start_time": "2022-07-16T12:02:19.898Z"
   },
   {
    "duration": 4,
    "start_time": "2022-07-16T12:02:19.984Z"
   },
   {
    "duration": 11,
    "start_time": "2022-07-16T12:02:19.990Z"
   },
   {
    "duration": 12,
    "start_time": "2022-07-16T12:02:20.003Z"
   },
   {
    "duration": 8,
    "start_time": "2022-07-16T12:02:20.017Z"
   },
   {
    "duration": 25,
    "start_time": "2022-07-16T12:02:20.027Z"
   },
   {
    "duration": 28,
    "start_time": "2022-07-16T12:02:20.054Z"
   },
   {
    "duration": 5,
    "start_time": "2022-07-16T12:02:20.086Z"
   },
   {
    "duration": 1968,
    "start_time": "2022-07-16T12:02:20.093Z"
   },
   {
    "duration": 1788891,
    "start_time": "2022-07-16T12:02:22.069Z"
   },
   {
    "duration": 2794,
    "start_time": "2022-07-16T12:32:10.961Z"
   },
   {
    "duration": 456,
    "start_time": "2022-07-16T12:32:13.757Z"
   },
   {
    "duration": 129,
    "start_time": "2022-07-16T12:32:14.214Z"
   },
   {
    "duration": 14,
    "start_time": "2022-07-16T12:32:14.344Z"
   }
  ],
  "kernelspec": {
   "display_name": "Python 3 (ipykernel)",
   "language": "python",
   "name": "python3"
  },
  "language_info": {
   "codemirror_mode": {
    "name": "ipython",
    "version": 3
   },
   "file_extension": ".py",
   "mimetype": "text/x-python",
   "name": "python",
   "nbconvert_exporter": "python",
   "pygments_lexer": "ipython3",
   "version": "3.9.5"
  },
  "toc": {
   "base_numbering": 1,
   "nav_menu": {},
   "number_sections": true,
   "sideBar": true,
   "skip_h1_title": true,
   "title_cell": "Table of Contents",
   "title_sidebar": "Contents",
   "toc_cell": false,
   "toc_position": {},
   "toc_section_display": true,
   "toc_window_display": true
  }
 },
 "nbformat": 4,
 "nbformat_minor": 2
}
