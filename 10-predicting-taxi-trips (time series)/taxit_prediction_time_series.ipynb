{
 "cells": [
  {
   "cell_type": "markdown",
   "metadata": {
    "toc": true
   },
   "source": [
    "<h1>Содержание<span class=\"tocSkip\"></span></h1>\n",
    "<div class=\"toc\"><ul class=\"toc-item\"><li><span><a href=\"#Подготовка\" data-toc-modified-id=\"Подготовка-1\"><span class=\"toc-item-num\">1&nbsp;&nbsp;</span>Подготовка</a></span></li><li><span><a href=\"#Анализ\" data-toc-modified-id=\"Анализ-2\"><span class=\"toc-item-num\">2&nbsp;&nbsp;</span>Анализ</a></span></li><li><span><a href=\"#Обучение\" data-toc-modified-id=\"Обучение-3\"><span class=\"toc-item-num\">3&nbsp;&nbsp;</span>Обучение</a></span></li><li><span><a href=\"#Тестирование\" data-toc-modified-id=\"Тестирование-4\"><span class=\"toc-item-num\">4&nbsp;&nbsp;</span>Тестирование</a></span></li><li><span><a href=\"#Вывод\" data-toc-modified-id=\"Вывод-5\"><span class=\"toc-item-num\">5&nbsp;&nbsp;</span>Вывод</a></span></li></ul></div>"
   ]
  },
  {
   "cell_type": "markdown",
   "metadata": {},
   "source": [
    "#  Прогнозирование заказов такси"
   ]
  },
  {
   "cell_type": "markdown",
   "metadata": {},
   "source": [
    "Компания «Чётенькое такси» собрала исторические данные о заказах такси в аэропортах. Чтобы привлекать больше водителей в период пиковой нагрузки, нужно спрогнозировать количество заказов такси на следующий час. Постройте модель для такого предсказания.\n",
    "\n",
    "Значение метрики *RMSE* на тестовой выборке должно быть не больше 48.\n",
    "\n",
    "Вам нужно:\n",
    "\n",
    "1. Загрузить данные и выполнить их ресемплирование по одному часу.\n",
    "2. Проанализировать данные.\n",
    "3. Обучить разные модели с различными гиперпараметрами. Сделать тестовую выборку размером 10% от исходных данных.\n",
    "4. Проверить данные на тестовой выборке и сделать выводы.\n",
    "\n",
    "\n",
    "Данные лежат в файле `taxi.csv`. Количество заказов находится в столбце `num_orders` (от англ. *number of orders*, «число заказов»)."
   ]
  },
  {
   "cell_type": "markdown",
   "metadata": {},
   "source": [
    "## Подготовка"
   ]
  },
  {
   "cell_type": "code",
   "execution_count": 1,
   "metadata": {},
   "outputs": [],
   "source": [
    "import pandas as pd\n",
    "import numpy as np\n",
    "\n",
    "import matplotlib.pyplot as plt\n",
    "from sklearn.model_selection import train_test_split, TimeSeriesSplit, GridSearchCV\n",
    "from sklearn.metrics import mean_squared_error\n",
    "from statsmodels.tsa.seasonal import seasonal_decompose\n",
    "from sklearn.linear_model import LinearRegression\n",
    "from lightgbm import LGBMRegressor\n",
    "\n",
    "from pylab import rcParams\n",
    "rcParams['figure.figsize'] = 15, 5\n",
    "pd.options.mode.chained_assignment = None"
   ]
  },
  {
   "cell_type": "code",
   "execution_count": 2,
   "metadata": {},
   "outputs": [
    {
     "name": "stdout",
     "output_type": "stream",
     "text": [
      "<class 'pandas.core.frame.DataFrame'>\n",
      "DatetimeIndex: 26496 entries, 2018-03-01 00:00:00 to 2018-08-31 23:50:00\n",
      "Data columns (total 1 columns):\n",
      " #   Column      Non-Null Count  Dtype\n",
      "---  ------      --------------  -----\n",
      " 0   num_orders  26496 non-null  int64\n",
      "dtypes: int64(1)\n",
      "memory usage: 414.0 KB\n",
      "True\n"
     ]
    },
    {
     "data": {
      "text/html": [
       "<div>\n",
       "<style scoped>\n",
       "    .dataframe tbody tr th:only-of-type {\n",
       "        vertical-align: middle;\n",
       "    }\n",
       "\n",
       "    .dataframe tbody tr th {\n",
       "        vertical-align: top;\n",
       "    }\n",
       "\n",
       "    .dataframe thead th {\n",
       "        text-align: right;\n",
       "    }\n",
       "</style>\n",
       "<table border=\"1\" class=\"dataframe\">\n",
       "  <thead>\n",
       "    <tr style=\"text-align: right;\">\n",
       "      <th></th>\n",
       "      <th>num_orders</th>\n",
       "    </tr>\n",
       "    <tr>\n",
       "      <th>datetime</th>\n",
       "      <th></th>\n",
       "    </tr>\n",
       "  </thead>\n",
       "  <tbody>\n",
       "    <tr>\n",
       "      <th>2018-03-01 00:00:00</th>\n",
       "      <td>9</td>\n",
       "    </tr>\n",
       "    <tr>\n",
       "      <th>2018-03-01 00:10:00</th>\n",
       "      <td>14</td>\n",
       "    </tr>\n",
       "    <tr>\n",
       "      <th>2018-03-01 00:20:00</th>\n",
       "      <td>28</td>\n",
       "    </tr>\n",
       "    <tr>\n",
       "      <th>2018-03-01 00:30:00</th>\n",
       "      <td>20</td>\n",
       "    </tr>\n",
       "    <tr>\n",
       "      <th>2018-03-01 00:40:00</th>\n",
       "      <td>32</td>\n",
       "    </tr>\n",
       "    <tr>\n",
       "      <th>...</th>\n",
       "      <td>...</td>\n",
       "    </tr>\n",
       "    <tr>\n",
       "      <th>2018-08-31 23:10:00</th>\n",
       "      <td>32</td>\n",
       "    </tr>\n",
       "    <tr>\n",
       "      <th>2018-08-31 23:20:00</th>\n",
       "      <td>24</td>\n",
       "    </tr>\n",
       "    <tr>\n",
       "      <th>2018-08-31 23:30:00</th>\n",
       "      <td>27</td>\n",
       "    </tr>\n",
       "    <tr>\n",
       "      <th>2018-08-31 23:40:00</th>\n",
       "      <td>39</td>\n",
       "    </tr>\n",
       "    <tr>\n",
       "      <th>2018-08-31 23:50:00</th>\n",
       "      <td>53</td>\n",
       "    </tr>\n",
       "  </tbody>\n",
       "</table>\n",
       "<p>26496 rows × 1 columns</p>\n",
       "</div>"
      ],
      "text/plain": [
       "                     num_orders\n",
       "datetime                       \n",
       "2018-03-01 00:00:00           9\n",
       "2018-03-01 00:10:00          14\n",
       "2018-03-01 00:20:00          28\n",
       "2018-03-01 00:30:00          20\n",
       "2018-03-01 00:40:00          32\n",
       "...                         ...\n",
       "2018-08-31 23:10:00          32\n",
       "2018-08-31 23:20:00          24\n",
       "2018-08-31 23:30:00          27\n",
       "2018-08-31 23:40:00          39\n",
       "2018-08-31 23:50:00          53\n",
       "\n",
       "[26496 rows x 1 columns]"
      ]
     },
     "execution_count": 2,
     "metadata": {},
     "output_type": "execute_result"
    }
   ],
   "source": [
    "df = pd.read_csv('/datasets/taxi.csv', index_col=\"datetime\", parse_dates=[0])\n",
    "df.info()\n",
    "print(df.index.is_monotonic)\n",
    "df"
   ]
  },
  {
   "cell_type": "code",
   "execution_count": 3,
   "metadata": {},
   "outputs": [
    {
     "data": {
      "text/html": [
       "<div>\n",
       "<style scoped>\n",
       "    .dataframe tbody tr th:only-of-type {\n",
       "        vertical-align: middle;\n",
       "    }\n",
       "\n",
       "    .dataframe tbody tr th {\n",
       "        vertical-align: top;\n",
       "    }\n",
       "\n",
       "    .dataframe thead th {\n",
       "        text-align: right;\n",
       "    }\n",
       "</style>\n",
       "<table border=\"1\" class=\"dataframe\">\n",
       "  <thead>\n",
       "    <tr style=\"text-align: right;\">\n",
       "      <th></th>\n",
       "      <th>num_orders</th>\n",
       "    </tr>\n",
       "    <tr>\n",
       "      <th>datetime</th>\n",
       "      <th></th>\n",
       "    </tr>\n",
       "  </thead>\n",
       "  <tbody>\n",
       "    <tr>\n",
       "      <th>2018-03-01 00:00:00</th>\n",
       "      <td>124</td>\n",
       "    </tr>\n",
       "    <tr>\n",
       "      <th>2018-03-01 01:00:00</th>\n",
       "      <td>85</td>\n",
       "    </tr>\n",
       "    <tr>\n",
       "      <th>2018-03-01 02:00:00</th>\n",
       "      <td>71</td>\n",
       "    </tr>\n",
       "    <tr>\n",
       "      <th>2018-03-01 03:00:00</th>\n",
       "      <td>66</td>\n",
       "    </tr>\n",
       "    <tr>\n",
       "      <th>2018-03-01 04:00:00</th>\n",
       "      <td>43</td>\n",
       "    </tr>\n",
       "    <tr>\n",
       "      <th>...</th>\n",
       "      <td>...</td>\n",
       "    </tr>\n",
       "    <tr>\n",
       "      <th>2018-08-31 19:00:00</th>\n",
       "      <td>136</td>\n",
       "    </tr>\n",
       "    <tr>\n",
       "      <th>2018-08-31 20:00:00</th>\n",
       "      <td>154</td>\n",
       "    </tr>\n",
       "    <tr>\n",
       "      <th>2018-08-31 21:00:00</th>\n",
       "      <td>159</td>\n",
       "    </tr>\n",
       "    <tr>\n",
       "      <th>2018-08-31 22:00:00</th>\n",
       "      <td>223</td>\n",
       "    </tr>\n",
       "    <tr>\n",
       "      <th>2018-08-31 23:00:00</th>\n",
       "      <td>205</td>\n",
       "    </tr>\n",
       "  </tbody>\n",
       "</table>\n",
       "<p>4416 rows × 1 columns</p>\n",
       "</div>"
      ],
      "text/plain": [
       "                     num_orders\n",
       "datetime                       \n",
       "2018-03-01 00:00:00         124\n",
       "2018-03-01 01:00:00          85\n",
       "2018-03-01 02:00:00          71\n",
       "2018-03-01 03:00:00          66\n",
       "2018-03-01 04:00:00          43\n",
       "...                         ...\n",
       "2018-08-31 19:00:00         136\n",
       "2018-08-31 20:00:00         154\n",
       "2018-08-31 21:00:00         159\n",
       "2018-08-31 22:00:00         223\n",
       "2018-08-31 23:00:00         205\n",
       "\n",
       "[4416 rows x 1 columns]"
      ]
     },
     "execution_count": 3,
     "metadata": {},
     "output_type": "execute_result"
    }
   ],
   "source": [
    "df = df.resample('1H').sum()\n",
    "df_day = df.resample('1D').sum()\n",
    "df"
   ]
  },
  {
   "cell_type": "markdown",
   "metadata": {},
   "source": [
    "Данные упорядочены и в норме. "
   ]
  },
  {
   "cell_type": "markdown",
   "metadata": {},
   "source": [
    "## Анализ"
   ]
  },
  {
   "cell_type": "markdown",
   "metadata": {},
   "source": [
    "Проведем анализ заказов по дням и часам на разных временных отрезках."
   ]
  },
  {
   "cell_type": "code",
   "execution_count": 4,
   "metadata": {},
   "outputs": [
    {
     "data": {
      "image/png": "[encoded data removed]",
      "text/plain": [
       "<Figure size 864x576 with 3 Axes>"
      ]
     },
     "metadata": {
      "needs_background": "light"
     },
     "output_type": "display_data"
    }
   ],
   "source": [
    "decomposed = seasonal_decompose(df_day)\n",
    "\n",
    "\n",
    "plt.figure(figsize=(12, 8))\n",
    "plt.subplot(311)\n",
    "decomposed.trend.plot(ax=plt.gca())\n",
    "plt.title('Trend')\n",
    "plt.subplot(312)\n",
    "decomposed.seasonal.plot(ax=plt.gca())\n",
    "plt.title('Seasonality')\n",
    "plt.subplot(313)\n",
    "decomposed.resid.plot(ax=plt.gca())\n",
    "plt.title('Residuals')\n",
    "plt.tight_layout()"
   ]
  },
  {
   "cell_type": "code",
   "execution_count": 5,
   "metadata": {},
   "outputs": [
    {
     "data": {
      "image/png": "[encoded data removed]",
      "text/plain": [
       "<Figure size 864x576 with 3 Axes>"
      ]
     },
     "metadata": {
      "needs_background": "light"
     },
     "output_type": "display_data"
    }
   ],
   "source": [
    "decomposed = seasonal_decompose(df_day['2018-08':'2018-08'])\n",
    "\n",
    "plt.figure(figsize=(12, 8))\n",
    "plt.subplot(311)\n",
    "decomposed.trend.plot(ax=plt.gca())\n",
    "plt.title('Trend')\n",
    "plt.subplot(312)\n",
    "decomposed.seasonal.plot(ax=plt.gca())\n",
    "plt.title('Seasonality')\n",
    "plt.subplot(313)\n",
    "decomposed.resid.plot(ax=plt.gca())\n",
    "plt.title('Residuals')\n",
    "plt.tight_layout()"
   ]
  },
  {
   "cell_type": "markdown",
   "metadata": {},
   "source": [
    "Декомпозировав данные по дням, можно увидеть тренд на увеличение заказов такси, а также их сезонные пики в выходные дни. "
   ]
  },
  {
   "cell_type": "code",
   "execution_count": 6,
   "metadata": {},
   "outputs": [
    {
     "data": {
      "image/png": "[encoded data removed]",
      "text/plain": [
       "<Figure size 864x576 with 3 Axes>"
      ]
     },
     "metadata": {
      "needs_background": "light"
     },
     "output_type": "display_data"
    }
   ],
   "source": [
    "decomposed = seasonal_decompose(df)\n",
    "\n",
    "plt.figure(figsize=(12, 8))\n",
    "plt.subplot(311)\n",
    "decomposed.trend.plot(ax=plt.gca())\n",
    "plt.title('Trend')\n",
    "plt.subplot(312)\n",
    "decomposed.seasonal.plot(ax=plt.gca())\n",
    "plt.title('Seasonality')\n",
    "plt.subplot(313)\n",
    "decomposed.resid.plot(ax=plt.gca())\n",
    "plt.title('Residuals')\n",
    "plt.tight_layout()"
   ]
  },
  {
   "cell_type": "code",
   "execution_count": 7,
   "metadata": {
    "scrolled": false
   },
   "outputs": [
    {
     "data": {
      "image/png": "[encoded data removed]",
      "text/plain": [
       "<Figure size 864x576 with 3 Axes>"
      ]
     },
     "metadata": {
      "needs_background": "light"
     },
     "output_type": "display_data"
    }
   ],
   "source": [
    "decomposed = seasonal_decompose(df['2018-08':'2018-08'])\n",
    "\n",
    "plt.figure(figsize=(12, 8))\n",
    "plt.subplot(311)\n",
    "decomposed.trend.plot(ax=plt.gca())\n",
    "plt.title('Trend')\n",
    "plt.subplot(312)\n",
    "decomposed.seasonal.plot(ax=plt.gca())\n",
    "plt.title('Seasonality')\n",
    "plt.subplot(313)\n",
    "decomposed.resid.plot(ax=plt.gca())\n",
    "plt.title('Residuals')\n",
    "plt.tight_layout()"
   ]
  },
  {
   "cell_type": "code",
   "execution_count": 8,
   "metadata": {},
   "outputs": [
    {
     "data": {
      "text/plain": [
       "<AxesSubplot:xlabel='datetime'>"
      ]
     },
     "execution_count": 8,
     "metadata": {},
     "output_type": "execute_result"
    },
    {
     "data": {
      "image/png": "[encoded data removed]",
      "text/plain": [
       "<Figure size 1080x360 with 1 Axes>"
      ]
     },
     "metadata": {
      "needs_background": "light"
     },
     "output_type": "display_data"
    }
   ],
   "source": [
    "seasonal_decompose(df['2018-08-23':'2018-08-30']).seasonal.plot(ax=plt.gca())"
   ]
  },
  {
   "cell_type": "markdown",
   "metadata": {},
   "source": [
    "Декомпозировав данные по часам, можно увидеть сезонность увличения заказов к вечеру, и их резкое снижение ночью. "
   ]
  },
  {
   "cell_type": "markdown",
   "metadata": {},
   "source": [
    "## Обучение"
   ]
  },
  {
   "cell_type": "markdown",
   "metadata": {},
   "source": [
    "Для проверки модели на адекватность, новое значение x(t) будем прогнозировать предыдущим значением ряда, то есть x(t-1)."
   ]
  },
  {
   "cell_type": "code",
   "execution_count": 9,
   "metadata": {},
   "outputs": [
    {
     "name": "stdout",
     "output_type": "stream",
     "text": [
      "RMSE pred_previous модели: 58.856486242815066\n"
     ]
    }
   ],
   "source": [
    "train, test = train_test_split(df, shuffle=False, test_size=0.1)\n",
    "train = train.dropna()\n",
    "pred_previous = test.shift()\n",
    "pred_previous.iloc[0] = train.iloc[-1]\n",
    "rmse =  mean_squared_error(test['num_orders'], pred_previous['num_orders'], squared=False)\n",
    "print(\"RMSE pred_previous модели:\", rmse)"
   ]
  },
  {
   "cell_type": "code",
   "execution_count": 10,
   "metadata": {},
   "outputs": [],
   "source": [
    "def make_features(data, max_lag, rolling_mean_size):\n",
    "    new = data.copy()\n",
    "    new['dayofweek'] = new.index.dayofweek\n",
    "    new['hour'] = new.index.hour\n",
    "    for lag in range(1, max_lag + 1):\n",
    "        new['lag_{}'.format(lag)] = new['num_orders'].shift(lag)\n",
    "\n",
    "    new['rolling_mean'] = new['num_orders'].shift().rolling(rolling_mean_size).mean()\n",
    "    return new"
   ]
  },
  {
   "cell_type": "code",
   "execution_count": 11,
   "metadata": {},
   "outputs": [],
   "source": [
    "data = make_features(df, 24, 72)"
   ]
  },
  {
   "cell_type": "code",
   "execution_count": 12,
   "metadata": {
    "scrolled": false
   },
   "outputs": [
    {
     "data": {
      "text/html": [
       "<div>\n",
       "<style scoped>\n",
       "    .dataframe tbody tr th:only-of-type {\n",
       "        vertical-align: middle;\n",
       "    }\n",
       "\n",
       "    .dataframe tbody tr th {\n",
       "        vertical-align: top;\n",
       "    }\n",
       "\n",
       "    .dataframe thead th {\n",
       "        text-align: right;\n",
       "    }\n",
       "</style>\n",
       "<table border=\"1\" class=\"dataframe\">\n",
       "  <thead>\n",
       "    <tr style=\"text-align: right;\">\n",
       "      <th></th>\n",
       "      <th>num_orders</th>\n",
       "    </tr>\n",
       "    <tr>\n",
       "      <th>datetime</th>\n",
       "      <th></th>\n",
       "    </tr>\n",
       "  </thead>\n",
       "  <tbody>\n",
       "    <tr>\n",
       "      <th>2018-03-01 00:00:00</th>\n",
       "      <td>124</td>\n",
       "    </tr>\n",
       "    <tr>\n",
       "      <th>2018-03-01 01:00:00</th>\n",
       "      <td>85</td>\n",
       "    </tr>\n",
       "    <tr>\n",
       "      <th>2018-03-01 02:00:00</th>\n",
       "      <td>71</td>\n",
       "    </tr>\n",
       "    <tr>\n",
       "      <th>2018-03-01 03:00:00</th>\n",
       "      <td>66</td>\n",
       "    </tr>\n",
       "    <tr>\n",
       "      <th>2018-03-01 04:00:00</th>\n",
       "      <td>43</td>\n",
       "    </tr>\n",
       "    <tr>\n",
       "      <th>...</th>\n",
       "      <td>...</td>\n",
       "    </tr>\n",
       "    <tr>\n",
       "      <th>2018-08-31 19:00:00</th>\n",
       "      <td>136</td>\n",
       "    </tr>\n",
       "    <tr>\n",
       "      <th>2018-08-31 20:00:00</th>\n",
       "      <td>154</td>\n",
       "    </tr>\n",
       "    <tr>\n",
       "      <th>2018-08-31 21:00:00</th>\n",
       "      <td>159</td>\n",
       "    </tr>\n",
       "    <tr>\n",
       "      <th>2018-08-31 22:00:00</th>\n",
       "      <td>223</td>\n",
       "    </tr>\n",
       "    <tr>\n",
       "      <th>2018-08-31 23:00:00</th>\n",
       "      <td>205</td>\n",
       "    </tr>\n",
       "  </tbody>\n",
       "</table>\n",
       "<p>4416 rows × 1 columns</p>\n",
       "</div>"
      ],
      "text/plain": [
       "                     num_orders\n",
       "datetime                       \n",
       "2018-03-01 00:00:00         124\n",
       "2018-03-01 01:00:00          85\n",
       "2018-03-01 02:00:00          71\n",
       "2018-03-01 03:00:00          66\n",
       "2018-03-01 04:00:00          43\n",
       "...                         ...\n",
       "2018-08-31 19:00:00         136\n",
       "2018-08-31 20:00:00         154\n",
       "2018-08-31 21:00:00         159\n",
       "2018-08-31 22:00:00         223\n",
       "2018-08-31 23:00:00         205\n",
       "\n",
       "[4416 rows x 1 columns]"
      ]
     },
     "execution_count": 12,
     "metadata": {},
     "output_type": "execute_result"
    }
   ],
   "source": [
    "df"
   ]
  },
  {
   "cell_type": "code",
   "execution_count": 13,
   "metadata": {},
   "outputs": [
    {
     "data": {
      "text/html": [
       "<div>\n",
       "<style scoped>\n",
       "    .dataframe tbody tr th:only-of-type {\n",
       "        vertical-align: middle;\n",
       "    }\n",
       "\n",
       "    .dataframe tbody tr th {\n",
       "        vertical-align: top;\n",
       "    }\n",
       "\n",
       "    .dataframe thead th {\n",
       "        text-align: right;\n",
       "    }\n",
       "</style>\n",
       "<table border=\"1\" class=\"dataframe\">\n",
       "  <thead>\n",
       "    <tr style=\"text-align: right;\">\n",
       "      <th></th>\n",
       "      <th>num_orders</th>\n",
       "      <th>dayofweek</th>\n",
       "      <th>hour</th>\n",
       "      <th>lag_1</th>\n",
       "      <th>lag_2</th>\n",
       "      <th>lag_3</th>\n",
       "      <th>lag_4</th>\n",
       "      <th>lag_5</th>\n",
       "      <th>lag_6</th>\n",
       "      <th>lag_7</th>\n",
       "      <th>...</th>\n",
       "      <th>lag_16</th>\n",
       "      <th>lag_17</th>\n",
       "      <th>lag_18</th>\n",
       "      <th>lag_19</th>\n",
       "      <th>lag_20</th>\n",
       "      <th>lag_21</th>\n",
       "      <th>lag_22</th>\n",
       "      <th>lag_23</th>\n",
       "      <th>lag_24</th>\n",
       "      <th>rolling_mean</th>\n",
       "    </tr>\n",
       "    <tr>\n",
       "      <th>datetime</th>\n",
       "      <th></th>\n",
       "      <th></th>\n",
       "      <th></th>\n",
       "      <th></th>\n",
       "      <th></th>\n",
       "      <th></th>\n",
       "      <th></th>\n",
       "      <th></th>\n",
       "      <th></th>\n",
       "      <th></th>\n",
       "      <th></th>\n",
       "      <th></th>\n",
       "      <th></th>\n",
       "      <th></th>\n",
       "      <th></th>\n",
       "      <th></th>\n",
       "      <th></th>\n",
       "      <th></th>\n",
       "      <th></th>\n",
       "      <th></th>\n",
       "      <th></th>\n",
       "    </tr>\n",
       "  </thead>\n",
       "  <tbody>\n",
       "    <tr>\n",
       "      <th>2018-03-01 00:00:00</th>\n",
       "      <td>124</td>\n",
       "      <td>3</td>\n",
       "      <td>0</td>\n",
       "      <td>NaN</td>\n",
       "      <td>NaN</td>\n",
       "      <td>NaN</td>\n",
       "      <td>NaN</td>\n",
       "      <td>NaN</td>\n",
       "      <td>NaN</td>\n",
       "      <td>NaN</td>\n",
       "      <td>...</td>\n",
       "      <td>NaN</td>\n",
       "      <td>NaN</td>\n",
       "      <td>NaN</td>\n",
       "      <td>NaN</td>\n",
       "      <td>NaN</td>\n",
       "      <td>NaN</td>\n",
       "      <td>NaN</td>\n",
       "      <td>NaN</td>\n",
       "      <td>NaN</td>\n",
       "      <td>NaN</td>\n",
       "    </tr>\n",
       "    <tr>\n",
       "      <th>2018-03-01 01:00:00</th>\n",
       "      <td>85</td>\n",
       "      <td>3</td>\n",
       "      <td>1</td>\n",
       "      <td>124.0</td>\n",
       "      <td>NaN</td>\n",
       "      <td>NaN</td>\n",
       "      <td>NaN</td>\n",
       "      <td>NaN</td>\n",
       "      <td>NaN</td>\n",
       "      <td>NaN</td>\n",
       "      <td>...</td>\n",
       "      <td>NaN</td>\n",
       "      <td>NaN</td>\n",
       "      <td>NaN</td>\n",
       "      <td>NaN</td>\n",
       "      <td>NaN</td>\n",
       "      <td>NaN</td>\n",
       "      <td>NaN</td>\n",
       "      <td>NaN</td>\n",
       "      <td>NaN</td>\n",
       "      <td>NaN</td>\n",
       "    </tr>\n",
       "    <tr>\n",
       "      <th>2018-03-01 02:00:00</th>\n",
       "      <td>71</td>\n",
       "      <td>3</td>\n",
       "      <td>2</td>\n",
       "      <td>85.0</td>\n",
       "      <td>124.0</td>\n",
       "      <td>NaN</td>\n",
       "      <td>NaN</td>\n",
       "      <td>NaN</td>\n",
       "      <td>NaN</td>\n",
       "      <td>NaN</td>\n",
       "      <td>...</td>\n",
       "      <td>NaN</td>\n",
       "      <td>NaN</td>\n",
       "      <td>NaN</td>\n",
       "      <td>NaN</td>\n",
       "      <td>NaN</td>\n",
       "      <td>NaN</td>\n",
       "      <td>NaN</td>\n",
       "      <td>NaN</td>\n",
       "      <td>NaN</td>\n",
       "      <td>NaN</td>\n",
       "    </tr>\n",
       "    <tr>\n",
       "      <th>2018-03-01 03:00:00</th>\n",
       "      <td>66</td>\n",
       "      <td>3</td>\n",
       "      <td>3</td>\n",
       "      <td>71.0</td>\n",
       "      <td>85.0</td>\n",
       "      <td>124.0</td>\n",
       "      <td>NaN</td>\n",
       "      <td>NaN</td>\n",
       "      <td>NaN</td>\n",
       "      <td>NaN</td>\n",
       "      <td>...</td>\n",
       "      <td>NaN</td>\n",
       "      <td>NaN</td>\n",
       "      <td>NaN</td>\n",
       "      <td>NaN</td>\n",
       "      <td>NaN</td>\n",
       "      <td>NaN</td>\n",
       "      <td>NaN</td>\n",
       "      <td>NaN</td>\n",
       "      <td>NaN</td>\n",
       "      <td>NaN</td>\n",
       "    </tr>\n",
       "    <tr>\n",
       "      <th>2018-03-01 04:00:00</th>\n",
       "      <td>43</td>\n",
       "      <td>3</td>\n",
       "      <td>4</td>\n",
       "      <td>66.0</td>\n",
       "      <td>71.0</td>\n",
       "      <td>85.0</td>\n",
       "      <td>124.0</td>\n",
       "      <td>NaN</td>\n",
       "      <td>NaN</td>\n",
       "      <td>NaN</td>\n",
       "      <td>...</td>\n",
       "      <td>NaN</td>\n",
       "      <td>NaN</td>\n",
       "      <td>NaN</td>\n",
       "      <td>NaN</td>\n",
       "      <td>NaN</td>\n",
       "      <td>NaN</td>\n",
       "      <td>NaN</td>\n",
       "      <td>NaN</td>\n",
       "      <td>NaN</td>\n",
       "      <td>NaN</td>\n",
       "    </tr>\n",
       "    <tr>\n",
       "      <th>...</th>\n",
       "      <td>...</td>\n",
       "      <td>...</td>\n",
       "      <td>...</td>\n",
       "      <td>...</td>\n",
       "      <td>...</td>\n",
       "      <td>...</td>\n",
       "      <td>...</td>\n",
       "      <td>...</td>\n",
       "      <td>...</td>\n",
       "      <td>...</td>\n",
       "      <td>...</td>\n",
       "      <td>...</td>\n",
       "      <td>...</td>\n",
       "      <td>...</td>\n",
       "      <td>...</td>\n",
       "      <td>...</td>\n",
       "      <td>...</td>\n",
       "      <td>...</td>\n",
       "      <td>...</td>\n",
       "      <td>...</td>\n",
       "      <td>...</td>\n",
       "    </tr>\n",
       "    <tr>\n",
       "      <th>2018-08-31 19:00:00</th>\n",
       "      <td>136</td>\n",
       "      <td>4</td>\n",
       "      <td>19</td>\n",
       "      <td>207.0</td>\n",
       "      <td>217.0</td>\n",
       "      <td>197.0</td>\n",
       "      <td>116.0</td>\n",
       "      <td>133.0</td>\n",
       "      <td>166.0</td>\n",
       "      <td>136.0</td>\n",
       "      <td>...</td>\n",
       "      <td>99.0</td>\n",
       "      <td>230.0</td>\n",
       "      <td>194.0</td>\n",
       "      <td>276.0</td>\n",
       "      <td>246.0</td>\n",
       "      <td>158.0</td>\n",
       "      <td>198.0</td>\n",
       "      <td>142.0</td>\n",
       "      <td>72.0</td>\n",
       "      <td>162.861111</td>\n",
       "    </tr>\n",
       "    <tr>\n",
       "      <th>2018-08-31 20:00:00</th>\n",
       "      <td>154</td>\n",
       "      <td>4</td>\n",
       "      <td>20</td>\n",
       "      <td>136.0</td>\n",
       "      <td>207.0</td>\n",
       "      <td>217.0</td>\n",
       "      <td>197.0</td>\n",
       "      <td>116.0</td>\n",
       "      <td>133.0</td>\n",
       "      <td>166.0</td>\n",
       "      <td>...</td>\n",
       "      <td>268.0</td>\n",
       "      <td>99.0</td>\n",
       "      <td>230.0</td>\n",
       "      <td>194.0</td>\n",
       "      <td>276.0</td>\n",
       "      <td>246.0</td>\n",
       "      <td>158.0</td>\n",
       "      <td>198.0</td>\n",
       "      <td>142.0</td>\n",
       "      <td>163.208333</td>\n",
       "    </tr>\n",
       "    <tr>\n",
       "      <th>2018-08-31 21:00:00</th>\n",
       "      <td>159</td>\n",
       "      <td>4</td>\n",
       "      <td>21</td>\n",
       "      <td>154.0</td>\n",
       "      <td>136.0</td>\n",
       "      <td>207.0</td>\n",
       "      <td>217.0</td>\n",
       "      <td>197.0</td>\n",
       "      <td>116.0</td>\n",
       "      <td>133.0</td>\n",
       "      <td>...</td>\n",
       "      <td>78.0</td>\n",
       "      <td>268.0</td>\n",
       "      <td>99.0</td>\n",
       "      <td>230.0</td>\n",
       "      <td>194.0</td>\n",
       "      <td>276.0</td>\n",
       "      <td>246.0</td>\n",
       "      <td>158.0</td>\n",
       "      <td>198.0</td>\n",
       "      <td>164.041667</td>\n",
       "    </tr>\n",
       "    <tr>\n",
       "      <th>2018-08-31 22:00:00</th>\n",
       "      <td>223</td>\n",
       "      <td>4</td>\n",
       "      <td>22</td>\n",
       "      <td>159.0</td>\n",
       "      <td>154.0</td>\n",
       "      <td>136.0</td>\n",
       "      <td>207.0</td>\n",
       "      <td>217.0</td>\n",
       "      <td>197.0</td>\n",
       "      <td>116.0</td>\n",
       "      <td>...</td>\n",
       "      <td>35.0</td>\n",
       "      <td>78.0</td>\n",
       "      <td>268.0</td>\n",
       "      <td>99.0</td>\n",
       "      <td>230.0</td>\n",
       "      <td>194.0</td>\n",
       "      <td>276.0</td>\n",
       "      <td>246.0</td>\n",
       "      <td>158.0</td>\n",
       "      <td>163.625000</td>\n",
       "    </tr>\n",
       "    <tr>\n",
       "      <th>2018-08-31 23:00:00</th>\n",
       "      <td>205</td>\n",
       "      <td>4</td>\n",
       "      <td>23</td>\n",
       "      <td>223.0</td>\n",
       "      <td>159.0</td>\n",
       "      <td>154.0</td>\n",
       "      <td>136.0</td>\n",
       "      <td>207.0</td>\n",
       "      <td>217.0</td>\n",
       "      <td>197.0</td>\n",
       "      <td>...</td>\n",
       "      <td>46.0</td>\n",
       "      <td>35.0</td>\n",
       "      <td>78.0</td>\n",
       "      <td>268.0</td>\n",
       "      <td>99.0</td>\n",
       "      <td>230.0</td>\n",
       "      <td>194.0</td>\n",
       "      <td>276.0</td>\n",
       "      <td>246.0</td>\n",
       "      <td>164.500000</td>\n",
       "    </tr>\n",
       "  </tbody>\n",
       "</table>\n",
       "<p>4416 rows × 28 columns</p>\n",
       "</div>"
      ],
      "text/plain": [
       "                     num_orders  dayofweek  hour  lag_1  lag_2  lag_3  lag_4  \\\n",
       "datetime                                                                       \n",
       "2018-03-01 00:00:00         124          3     0    NaN    NaN    NaN    NaN   \n",
       "2018-03-01 01:00:00          85          3     1  124.0    NaN    NaN    NaN   \n",
       "2018-03-01 02:00:00          71          3     2   85.0  124.0    NaN    NaN   \n",
       "2018-03-01 03:00:00          66          3     3   71.0   85.0  124.0    NaN   \n",
       "2018-03-01 04:00:00          43          3     4   66.0   71.0   85.0  124.0   \n",
       "...                         ...        ...   ...    ...    ...    ...    ...   \n",
       "2018-08-31 19:00:00         136          4    19  207.0  217.0  197.0  116.0   \n",
       "2018-08-31 20:00:00         154          4    20  136.0  207.0  217.0  197.0   \n",
       "2018-08-31 21:00:00         159          4    21  154.0  136.0  207.0  217.0   \n",
       "2018-08-31 22:00:00         223          4    22  159.0  154.0  136.0  207.0   \n",
       "2018-08-31 23:00:00         205          4    23  223.0  159.0  154.0  136.0   \n",
       "\n",
       "                     lag_5  lag_6  lag_7  ...  lag_16  lag_17  lag_18  lag_19  \\\n",
       "datetime                                  ...                                   \n",
       "2018-03-01 00:00:00    NaN    NaN    NaN  ...     NaN     NaN     NaN     NaN   \n",
       "2018-03-01 01:00:00    NaN    NaN    NaN  ...     NaN     NaN     NaN     NaN   \n",
       "2018-03-01 02:00:00    NaN    NaN    NaN  ...     NaN     NaN     NaN     NaN   \n",
       "2018-03-01 03:00:00    NaN    NaN    NaN  ...     NaN     NaN     NaN     NaN   \n",
       "2018-03-01 04:00:00    NaN    NaN    NaN  ...     NaN     NaN     NaN     NaN   \n",
       "...                    ...    ...    ...  ...     ...     ...     ...     ...   \n",
       "2018-08-31 19:00:00  133.0  166.0  136.0  ...    99.0   230.0   194.0   276.0   \n",
       "2018-08-31 20:00:00  116.0  133.0  166.0  ...   268.0    99.0   230.0   194.0   \n",
       "2018-08-31 21:00:00  197.0  116.0  133.0  ...    78.0   268.0    99.0   230.0   \n",
       "2018-08-31 22:00:00  217.0  197.0  116.0  ...    35.0    78.0   268.0    99.0   \n",
       "2018-08-31 23:00:00  207.0  217.0  197.0  ...    46.0    35.0    78.0   268.0   \n",
       "\n",
       "                     lag_20  lag_21  lag_22  lag_23  lag_24  rolling_mean  \n",
       "datetime                                                                   \n",
       "2018-03-01 00:00:00     NaN     NaN     NaN     NaN     NaN           NaN  \n",
       "2018-03-01 01:00:00     NaN     NaN     NaN     NaN     NaN           NaN  \n",
       "2018-03-01 02:00:00     NaN     NaN     NaN     NaN     NaN           NaN  \n",
       "2018-03-01 03:00:00     NaN     NaN     NaN     NaN     NaN           NaN  \n",
       "2018-03-01 04:00:00     NaN     NaN     NaN     NaN     NaN           NaN  \n",
       "...                     ...     ...     ...     ...     ...           ...  \n",
       "2018-08-31 19:00:00   246.0   158.0   198.0   142.0    72.0    162.861111  \n",
       "2018-08-31 20:00:00   276.0   246.0   158.0   198.0   142.0    163.208333  \n",
       "2018-08-31 21:00:00   194.0   276.0   246.0   158.0   198.0    164.041667  \n",
       "2018-08-31 22:00:00   230.0   194.0   276.0   246.0   158.0    163.625000  \n",
       "2018-08-31 23:00:00    99.0   230.0   194.0   276.0   246.0    164.500000  \n",
       "\n",
       "[4416 rows x 28 columns]"
      ]
     },
     "execution_count": 13,
     "metadata": {},
     "output_type": "execute_result"
    }
   ],
   "source": [
    "data"
   ]
  },
  {
   "cell_type": "code",
   "execution_count": 14,
   "metadata": {},
   "outputs": [
    {
     "data": {
      "text/html": [
       "<div>\n",
       "<style scoped>\n",
       "    .dataframe tbody tr th:only-of-type {\n",
       "        vertical-align: middle;\n",
       "    }\n",
       "\n",
       "    .dataframe tbody tr th {\n",
       "        vertical-align: top;\n",
       "    }\n",
       "\n",
       "    .dataframe thead th {\n",
       "        text-align: right;\n",
       "    }\n",
       "</style>\n",
       "<table border=\"1\" class=\"dataframe\">\n",
       "  <thead>\n",
       "    <tr style=\"text-align: right;\">\n",
       "      <th></th>\n",
       "      <th>num_orders</th>\n",
       "      <th>dayofweek</th>\n",
       "      <th>hour</th>\n",
       "      <th>lag_1</th>\n",
       "      <th>lag_2</th>\n",
       "      <th>lag_3</th>\n",
       "      <th>lag_4</th>\n",
       "      <th>lag_5</th>\n",
       "      <th>lag_6</th>\n",
       "      <th>lag_7</th>\n",
       "      <th>...</th>\n",
       "      <th>lag_16</th>\n",
       "      <th>lag_17</th>\n",
       "      <th>lag_18</th>\n",
       "      <th>lag_19</th>\n",
       "      <th>lag_20</th>\n",
       "      <th>lag_21</th>\n",
       "      <th>lag_22</th>\n",
       "      <th>lag_23</th>\n",
       "      <th>lag_24</th>\n",
       "      <th>rolling_mean</th>\n",
       "    </tr>\n",
       "    <tr>\n",
       "      <th>datetime</th>\n",
       "      <th></th>\n",
       "      <th></th>\n",
       "      <th></th>\n",
       "      <th></th>\n",
       "      <th></th>\n",
       "      <th></th>\n",
       "      <th></th>\n",
       "      <th></th>\n",
       "      <th></th>\n",
       "      <th></th>\n",
       "      <th></th>\n",
       "      <th></th>\n",
       "      <th></th>\n",
       "      <th></th>\n",
       "      <th></th>\n",
       "      <th></th>\n",
       "      <th></th>\n",
       "      <th></th>\n",
       "      <th></th>\n",
       "      <th></th>\n",
       "      <th></th>\n",
       "    </tr>\n",
       "  </thead>\n",
       "  <tbody>\n",
       "    <tr>\n",
       "      <th>2018-03-01 00:00:00</th>\n",
       "      <td>124</td>\n",
       "      <td>3</td>\n",
       "      <td>0</td>\n",
       "      <td>NaN</td>\n",
       "      <td>NaN</td>\n",
       "      <td>NaN</td>\n",
       "      <td>NaN</td>\n",
       "      <td>NaN</td>\n",
       "      <td>NaN</td>\n",
       "      <td>NaN</td>\n",
       "      <td>...</td>\n",
       "      <td>NaN</td>\n",
       "      <td>NaN</td>\n",
       "      <td>NaN</td>\n",
       "      <td>NaN</td>\n",
       "      <td>NaN</td>\n",
       "      <td>NaN</td>\n",
       "      <td>NaN</td>\n",
       "      <td>NaN</td>\n",
       "      <td>NaN</td>\n",
       "      <td>NaN</td>\n",
       "    </tr>\n",
       "    <tr>\n",
       "      <th>2018-03-01 01:00:00</th>\n",
       "      <td>85</td>\n",
       "      <td>3</td>\n",
       "      <td>1</td>\n",
       "      <td>124.0</td>\n",
       "      <td>NaN</td>\n",
       "      <td>NaN</td>\n",
       "      <td>NaN</td>\n",
       "      <td>NaN</td>\n",
       "      <td>NaN</td>\n",
       "      <td>NaN</td>\n",
       "      <td>...</td>\n",
       "      <td>NaN</td>\n",
       "      <td>NaN</td>\n",
       "      <td>NaN</td>\n",
       "      <td>NaN</td>\n",
       "      <td>NaN</td>\n",
       "      <td>NaN</td>\n",
       "      <td>NaN</td>\n",
       "      <td>NaN</td>\n",
       "      <td>NaN</td>\n",
       "      <td>NaN</td>\n",
       "    </tr>\n",
       "    <tr>\n",
       "      <th>2018-03-01 02:00:00</th>\n",
       "      <td>71</td>\n",
       "      <td>3</td>\n",
       "      <td>2</td>\n",
       "      <td>85.0</td>\n",
       "      <td>124.0</td>\n",
       "      <td>NaN</td>\n",
       "      <td>NaN</td>\n",
       "      <td>NaN</td>\n",
       "      <td>NaN</td>\n",
       "      <td>NaN</td>\n",
       "      <td>...</td>\n",
       "      <td>NaN</td>\n",
       "      <td>NaN</td>\n",
       "      <td>NaN</td>\n",
       "      <td>NaN</td>\n",
       "      <td>NaN</td>\n",
       "      <td>NaN</td>\n",
       "      <td>NaN</td>\n",
       "      <td>NaN</td>\n",
       "      <td>NaN</td>\n",
       "      <td>NaN</td>\n",
       "    </tr>\n",
       "    <tr>\n",
       "      <th>2018-03-01 03:00:00</th>\n",
       "      <td>66</td>\n",
       "      <td>3</td>\n",
       "      <td>3</td>\n",
       "      <td>71.0</td>\n",
       "      <td>85.0</td>\n",
       "      <td>124.0</td>\n",
       "      <td>NaN</td>\n",
       "      <td>NaN</td>\n",
       "      <td>NaN</td>\n",
       "      <td>NaN</td>\n",
       "      <td>...</td>\n",
       "      <td>NaN</td>\n",
       "      <td>NaN</td>\n",
       "      <td>NaN</td>\n",
       "      <td>NaN</td>\n",
       "      <td>NaN</td>\n",
       "      <td>NaN</td>\n",
       "      <td>NaN</td>\n",
       "      <td>NaN</td>\n",
       "      <td>NaN</td>\n",
       "      <td>NaN</td>\n",
       "    </tr>\n",
       "    <tr>\n",
       "      <th>2018-03-01 04:00:00</th>\n",
       "      <td>43</td>\n",
       "      <td>3</td>\n",
       "      <td>4</td>\n",
       "      <td>66.0</td>\n",
       "      <td>71.0</td>\n",
       "      <td>85.0</td>\n",
       "      <td>124.0</td>\n",
       "      <td>NaN</td>\n",
       "      <td>NaN</td>\n",
       "      <td>NaN</td>\n",
       "      <td>...</td>\n",
       "      <td>NaN</td>\n",
       "      <td>NaN</td>\n",
       "      <td>NaN</td>\n",
       "      <td>NaN</td>\n",
       "      <td>NaN</td>\n",
       "      <td>NaN</td>\n",
       "      <td>NaN</td>\n",
       "      <td>NaN</td>\n",
       "      <td>NaN</td>\n",
       "      <td>NaN</td>\n",
       "    </tr>\n",
       "    <tr>\n",
       "      <th>...</th>\n",
       "      <td>...</td>\n",
       "      <td>...</td>\n",
       "      <td>...</td>\n",
       "      <td>...</td>\n",
       "      <td>...</td>\n",
       "      <td>...</td>\n",
       "      <td>...</td>\n",
       "      <td>...</td>\n",
       "      <td>...</td>\n",
       "      <td>...</td>\n",
       "      <td>...</td>\n",
       "      <td>...</td>\n",
       "      <td>...</td>\n",
       "      <td>...</td>\n",
       "      <td>...</td>\n",
       "      <td>...</td>\n",
       "      <td>...</td>\n",
       "      <td>...</td>\n",
       "      <td>...</td>\n",
       "      <td>...</td>\n",
       "      <td>...</td>\n",
       "    </tr>\n",
       "    <tr>\n",
       "      <th>2018-08-31 19:00:00</th>\n",
       "      <td>136</td>\n",
       "      <td>4</td>\n",
       "      <td>19</td>\n",
       "      <td>207.0</td>\n",
       "      <td>217.0</td>\n",
       "      <td>197.0</td>\n",
       "      <td>116.0</td>\n",
       "      <td>133.0</td>\n",
       "      <td>166.0</td>\n",
       "      <td>136.0</td>\n",
       "      <td>...</td>\n",
       "      <td>99.0</td>\n",
       "      <td>230.0</td>\n",
       "      <td>194.0</td>\n",
       "      <td>276.0</td>\n",
       "      <td>246.0</td>\n",
       "      <td>158.0</td>\n",
       "      <td>198.0</td>\n",
       "      <td>142.0</td>\n",
       "      <td>72.0</td>\n",
       "      <td>162.861111</td>\n",
       "    </tr>\n",
       "    <tr>\n",
       "      <th>2018-08-31 20:00:00</th>\n",
       "      <td>154</td>\n",
       "      <td>4</td>\n",
       "      <td>20</td>\n",
       "      <td>136.0</td>\n",
       "      <td>207.0</td>\n",
       "      <td>217.0</td>\n",
       "      <td>197.0</td>\n",
       "      <td>116.0</td>\n",
       "      <td>133.0</td>\n",
       "      <td>166.0</td>\n",
       "      <td>...</td>\n",
       "      <td>268.0</td>\n",
       "      <td>99.0</td>\n",
       "      <td>230.0</td>\n",
       "      <td>194.0</td>\n",
       "      <td>276.0</td>\n",
       "      <td>246.0</td>\n",
       "      <td>158.0</td>\n",
       "      <td>198.0</td>\n",
       "      <td>142.0</td>\n",
       "      <td>163.208333</td>\n",
       "    </tr>\n",
       "    <tr>\n",
       "      <th>2018-08-31 21:00:00</th>\n",
       "      <td>159</td>\n",
       "      <td>4</td>\n",
       "      <td>21</td>\n",
       "      <td>154.0</td>\n",
       "      <td>136.0</td>\n",
       "      <td>207.0</td>\n",
       "      <td>217.0</td>\n",
       "      <td>197.0</td>\n",
       "      <td>116.0</td>\n",
       "      <td>133.0</td>\n",
       "      <td>...</td>\n",
       "      <td>78.0</td>\n",
       "      <td>268.0</td>\n",
       "      <td>99.0</td>\n",
       "      <td>230.0</td>\n",
       "      <td>194.0</td>\n",
       "      <td>276.0</td>\n",
       "      <td>246.0</td>\n",
       "      <td>158.0</td>\n",
       "      <td>198.0</td>\n",
       "      <td>164.041667</td>\n",
       "    </tr>\n",
       "    <tr>\n",
       "      <th>2018-08-31 22:00:00</th>\n",
       "      <td>223</td>\n",
       "      <td>4</td>\n",
       "      <td>22</td>\n",
       "      <td>159.0</td>\n",
       "      <td>154.0</td>\n",
       "      <td>136.0</td>\n",
       "      <td>207.0</td>\n",
       "      <td>217.0</td>\n",
       "      <td>197.0</td>\n",
       "      <td>116.0</td>\n",
       "      <td>...</td>\n",
       "      <td>35.0</td>\n",
       "      <td>78.0</td>\n",
       "      <td>268.0</td>\n",
       "      <td>99.0</td>\n",
       "      <td>230.0</td>\n",
       "      <td>194.0</td>\n",
       "      <td>276.0</td>\n",
       "      <td>246.0</td>\n",
       "      <td>158.0</td>\n",
       "      <td>163.625000</td>\n",
       "    </tr>\n",
       "    <tr>\n",
       "      <th>2018-08-31 23:00:00</th>\n",
       "      <td>205</td>\n",
       "      <td>4</td>\n",
       "      <td>23</td>\n",
       "      <td>223.0</td>\n",
       "      <td>159.0</td>\n",
       "      <td>154.0</td>\n",
       "      <td>136.0</td>\n",
       "      <td>207.0</td>\n",
       "      <td>217.0</td>\n",
       "      <td>197.0</td>\n",
       "      <td>...</td>\n",
       "      <td>46.0</td>\n",
       "      <td>35.0</td>\n",
       "      <td>78.0</td>\n",
       "      <td>268.0</td>\n",
       "      <td>99.0</td>\n",
       "      <td>230.0</td>\n",
       "      <td>194.0</td>\n",
       "      <td>276.0</td>\n",
       "      <td>246.0</td>\n",
       "      <td>164.500000</td>\n",
       "    </tr>\n",
       "  </tbody>\n",
       "</table>\n",
       "<p>4416 rows × 28 columns</p>\n",
       "</div>"
      ],
      "text/plain": [
       "                     num_orders  dayofweek  hour  lag_1  lag_2  lag_3  lag_4  \\\n",
       "datetime                                                                       \n",
       "2018-03-01 00:00:00         124          3     0    NaN    NaN    NaN    NaN   \n",
       "2018-03-01 01:00:00          85          3     1  124.0    NaN    NaN    NaN   \n",
       "2018-03-01 02:00:00          71          3     2   85.0  124.0    NaN    NaN   \n",
       "2018-03-01 03:00:00          66          3     3   71.0   85.0  124.0    NaN   \n",
       "2018-03-01 04:00:00          43          3     4   66.0   71.0   85.0  124.0   \n",
       "...                         ...        ...   ...    ...    ...    ...    ...   \n",
       "2018-08-31 19:00:00         136          4    19  207.0  217.0  197.0  116.0   \n",
       "2018-08-31 20:00:00         154          4    20  136.0  207.0  217.0  197.0   \n",
       "2018-08-31 21:00:00         159          4    21  154.0  136.0  207.0  217.0   \n",
       "2018-08-31 22:00:00         223          4    22  159.0  154.0  136.0  207.0   \n",
       "2018-08-31 23:00:00         205          4    23  223.0  159.0  154.0  136.0   \n",
       "\n",
       "                     lag_5  lag_6  lag_7  ...  lag_16  lag_17  lag_18  lag_19  \\\n",
       "datetime                                  ...                                   \n",
       "2018-03-01 00:00:00    NaN    NaN    NaN  ...     NaN     NaN     NaN     NaN   \n",
       "2018-03-01 01:00:00    NaN    NaN    NaN  ...     NaN     NaN     NaN     NaN   \n",
       "2018-03-01 02:00:00    NaN    NaN    NaN  ...     NaN     NaN     NaN     NaN   \n",
       "2018-03-01 03:00:00    NaN    NaN    NaN  ...     NaN     NaN     NaN     NaN   \n",
       "2018-03-01 04:00:00    NaN    NaN    NaN  ...     NaN     NaN     NaN     NaN   \n",
       "...                    ...    ...    ...  ...     ...     ...     ...     ...   \n",
       "2018-08-31 19:00:00  133.0  166.0  136.0  ...    99.0   230.0   194.0   276.0   \n",
       "2018-08-31 20:00:00  116.0  133.0  166.0  ...   268.0    99.0   230.0   194.0   \n",
       "2018-08-31 21:00:00  197.0  116.0  133.0  ...    78.0   268.0    99.0   230.0   \n",
       "2018-08-31 22:00:00  217.0  197.0  116.0  ...    35.0    78.0   268.0    99.0   \n",
       "2018-08-31 23:00:00  207.0  217.0  197.0  ...    46.0    35.0    78.0   268.0   \n",
       "\n",
       "                     lag_20  lag_21  lag_22  lag_23  lag_24  rolling_mean  \n",
       "datetime                                                                   \n",
       "2018-03-01 00:00:00     NaN     NaN     NaN     NaN     NaN           NaN  \n",
       "2018-03-01 01:00:00     NaN     NaN     NaN     NaN     NaN           NaN  \n",
       "2018-03-01 02:00:00     NaN     NaN     NaN     NaN     NaN           NaN  \n",
       "2018-03-01 03:00:00     NaN     NaN     NaN     NaN     NaN           NaN  \n",
       "2018-03-01 04:00:00     NaN     NaN     NaN     NaN     NaN           NaN  \n",
       "...                     ...     ...     ...     ...     ...           ...  \n",
       "2018-08-31 19:00:00   246.0   158.0   198.0   142.0    72.0    162.861111  \n",
       "2018-08-31 20:00:00   276.0   246.0   158.0   198.0   142.0    163.208333  \n",
       "2018-08-31 21:00:00   194.0   276.0   246.0   158.0   198.0    164.041667  \n",
       "2018-08-31 22:00:00   230.0   194.0   276.0   246.0   158.0    163.625000  \n",
       "2018-08-31 23:00:00    99.0   230.0   194.0   276.0   246.0    164.500000  \n",
       "\n",
       "[4416 rows x 28 columns]"
      ]
     },
     "execution_count": 14,
     "metadata": {},
     "output_type": "execute_result"
    }
   ],
   "source": [
    "train, test = train_test_split(data, shuffle=False, test_size=0.1)\n",
    "train = train.dropna()\n",
    "data"
   ]
  },
  {
   "cell_type": "code",
   "execution_count": 15,
   "metadata": {},
   "outputs": [
    {
     "data": {
      "text/html": [
       "<div>\n",
       "<style scoped>\n",
       "    .dataframe tbody tr th:only-of-type {\n",
       "        vertical-align: middle;\n",
       "    }\n",
       "\n",
       "    .dataframe tbody tr th {\n",
       "        vertical-align: top;\n",
       "    }\n",
       "\n",
       "    .dataframe thead th {\n",
       "        text-align: right;\n",
       "    }\n",
       "</style>\n",
       "<table border=\"1\" class=\"dataframe\">\n",
       "  <thead>\n",
       "    <tr style=\"text-align: right;\">\n",
       "      <th></th>\n",
       "      <th>num_orders</th>\n",
       "      <th>dayofweek</th>\n",
       "      <th>hour</th>\n",
       "      <th>lag_1</th>\n",
       "      <th>lag_2</th>\n",
       "      <th>lag_3</th>\n",
       "      <th>lag_4</th>\n",
       "      <th>lag_5</th>\n",
       "      <th>lag_6</th>\n",
       "      <th>lag_7</th>\n",
       "      <th>...</th>\n",
       "      <th>lag_16</th>\n",
       "      <th>lag_17</th>\n",
       "      <th>lag_18</th>\n",
       "      <th>lag_19</th>\n",
       "      <th>lag_20</th>\n",
       "      <th>lag_21</th>\n",
       "      <th>lag_22</th>\n",
       "      <th>lag_23</th>\n",
       "      <th>lag_24</th>\n",
       "      <th>rolling_mean</th>\n",
       "    </tr>\n",
       "    <tr>\n",
       "      <th>datetime</th>\n",
       "      <th></th>\n",
       "      <th></th>\n",
       "      <th></th>\n",
       "      <th></th>\n",
       "      <th></th>\n",
       "      <th></th>\n",
       "      <th></th>\n",
       "      <th></th>\n",
       "      <th></th>\n",
       "      <th></th>\n",
       "      <th></th>\n",
       "      <th></th>\n",
       "      <th></th>\n",
       "      <th></th>\n",
       "      <th></th>\n",
       "      <th></th>\n",
       "      <th></th>\n",
       "      <th></th>\n",
       "      <th></th>\n",
       "      <th></th>\n",
       "      <th></th>\n",
       "    </tr>\n",
       "  </thead>\n",
       "  <tbody>\n",
       "    <tr>\n",
       "      <th>2018-03-04 00:00:00</th>\n",
       "      <td>75</td>\n",
       "      <td>6</td>\n",
       "      <td>0</td>\n",
       "      <td>43.0</td>\n",
       "      <td>63.0</td>\n",
       "      <td>48.0</td>\n",
       "      <td>83.0</td>\n",
       "      <td>30.0</td>\n",
       "      <td>68.0</td>\n",
       "      <td>49.0</td>\n",
       "      <td>...</td>\n",
       "      <td>56.0</td>\n",
       "      <td>17.0</td>\n",
       "      <td>9.0</td>\n",
       "      <td>15.0</td>\n",
       "      <td>44.0</td>\n",
       "      <td>64.0</td>\n",
       "      <td>25.0</td>\n",
       "      <td>108.0</td>\n",
       "      <td>163.0</td>\n",
       "      <td>57.777778</td>\n",
       "    </tr>\n",
       "    <tr>\n",
       "      <th>2018-03-04 01:00:00</th>\n",
       "      <td>60</td>\n",
       "      <td>6</td>\n",
       "      <td>1</td>\n",
       "      <td>75.0</td>\n",
       "      <td>43.0</td>\n",
       "      <td>63.0</td>\n",
       "      <td>48.0</td>\n",
       "      <td>83.0</td>\n",
       "      <td>30.0</td>\n",
       "      <td>68.0</td>\n",
       "      <td>...</td>\n",
       "      <td>73.0</td>\n",
       "      <td>56.0</td>\n",
       "      <td>17.0</td>\n",
       "      <td>9.0</td>\n",
       "      <td>15.0</td>\n",
       "      <td>44.0</td>\n",
       "      <td>64.0</td>\n",
       "      <td>25.0</td>\n",
       "      <td>108.0</td>\n",
       "      <td>57.097222</td>\n",
       "    </tr>\n",
       "    <tr>\n",
       "      <th>2018-03-04 02:00:00</th>\n",
       "      <td>26</td>\n",
       "      <td>6</td>\n",
       "      <td>2</td>\n",
       "      <td>60.0</td>\n",
       "      <td>75.0</td>\n",
       "      <td>43.0</td>\n",
       "      <td>63.0</td>\n",
       "      <td>48.0</td>\n",
       "      <td>83.0</td>\n",
       "      <td>30.0</td>\n",
       "      <td>...</td>\n",
       "      <td>52.0</td>\n",
       "      <td>73.0</td>\n",
       "      <td>56.0</td>\n",
       "      <td>17.0</td>\n",
       "      <td>9.0</td>\n",
       "      <td>15.0</td>\n",
       "      <td>44.0</td>\n",
       "      <td>64.0</td>\n",
       "      <td>25.0</td>\n",
       "      <td>56.750000</td>\n",
       "    </tr>\n",
       "    <tr>\n",
       "      <th>2018-03-04 03:00:00</th>\n",
       "      <td>42</td>\n",
       "      <td>6</td>\n",
       "      <td>3</td>\n",
       "      <td>26.0</td>\n",
       "      <td>60.0</td>\n",
       "      <td>75.0</td>\n",
       "      <td>43.0</td>\n",
       "      <td>63.0</td>\n",
       "      <td>48.0</td>\n",
       "      <td>83.0</td>\n",
       "      <td>...</td>\n",
       "      <td>57.0</td>\n",
       "      <td>52.0</td>\n",
       "      <td>73.0</td>\n",
       "      <td>56.0</td>\n",
       "      <td>17.0</td>\n",
       "      <td>9.0</td>\n",
       "      <td>15.0</td>\n",
       "      <td>44.0</td>\n",
       "      <td>64.0</td>\n",
       "      <td>56.125000</td>\n",
       "    </tr>\n",
       "    <tr>\n",
       "      <th>2018-03-04 04:00:00</th>\n",
       "      <td>27</td>\n",
       "      <td>6</td>\n",
       "      <td>4</td>\n",
       "      <td>42.0</td>\n",
       "      <td>26.0</td>\n",
       "      <td>60.0</td>\n",
       "      <td>75.0</td>\n",
       "      <td>43.0</td>\n",
       "      <td>63.0</td>\n",
       "      <td>48.0</td>\n",
       "      <td>...</td>\n",
       "      <td>32.0</td>\n",
       "      <td>57.0</td>\n",
       "      <td>52.0</td>\n",
       "      <td>73.0</td>\n",
       "      <td>56.0</td>\n",
       "      <td>17.0</td>\n",
       "      <td>9.0</td>\n",
       "      <td>15.0</td>\n",
       "      <td>44.0</td>\n",
       "      <td>55.791667</td>\n",
       "    </tr>\n",
       "    <tr>\n",
       "      <th>...</th>\n",
       "      <td>...</td>\n",
       "      <td>...</td>\n",
       "      <td>...</td>\n",
       "      <td>...</td>\n",
       "      <td>...</td>\n",
       "      <td>...</td>\n",
       "      <td>...</td>\n",
       "      <td>...</td>\n",
       "      <td>...</td>\n",
       "      <td>...</td>\n",
       "      <td>...</td>\n",
       "      <td>...</td>\n",
       "      <td>...</td>\n",
       "      <td>...</td>\n",
       "      <td>...</td>\n",
       "      <td>...</td>\n",
       "      <td>...</td>\n",
       "      <td>...</td>\n",
       "      <td>...</td>\n",
       "      <td>...</td>\n",
       "      <td>...</td>\n",
       "    </tr>\n",
       "    <tr>\n",
       "      <th>2018-08-13 09:00:00</th>\n",
       "      <td>137</td>\n",
       "      <td>0</td>\n",
       "      <td>9</td>\n",
       "      <td>91.0</td>\n",
       "      <td>39.0</td>\n",
       "      <td>66.0</td>\n",
       "      <td>83.0</td>\n",
       "      <td>143.0</td>\n",
       "      <td>168.0</td>\n",
       "      <td>437.0</td>\n",
       "      <td>...</td>\n",
       "      <td>115.0</td>\n",
       "      <td>153.0</td>\n",
       "      <td>149.0</td>\n",
       "      <td>104.0</td>\n",
       "      <td>120.0</td>\n",
       "      <td>123.0</td>\n",
       "      <td>81.0</td>\n",
       "      <td>108.0</td>\n",
       "      <td>108.0</td>\n",
       "      <td>123.680556</td>\n",
       "    </tr>\n",
       "    <tr>\n",
       "      <th>2018-08-13 10:00:00</th>\n",
       "      <td>156</td>\n",
       "      <td>0</td>\n",
       "      <td>10</td>\n",
       "      <td>137.0</td>\n",
       "      <td>91.0</td>\n",
       "      <td>39.0</td>\n",
       "      <td>66.0</td>\n",
       "      <td>83.0</td>\n",
       "      <td>143.0</td>\n",
       "      <td>168.0</td>\n",
       "      <td>...</td>\n",
       "      <td>78.0</td>\n",
       "      <td>115.0</td>\n",
       "      <td>153.0</td>\n",
       "      <td>149.0</td>\n",
       "      <td>104.0</td>\n",
       "      <td>120.0</td>\n",
       "      <td>123.0</td>\n",
       "      <td>81.0</td>\n",
       "      <td>108.0</td>\n",
       "      <td>124.458333</td>\n",
       "    </tr>\n",
       "    <tr>\n",
       "      <th>2018-08-13 11:00:00</th>\n",
       "      <td>144</td>\n",
       "      <td>0</td>\n",
       "      <td>11</td>\n",
       "      <td>156.0</td>\n",
       "      <td>137.0</td>\n",
       "      <td>91.0</td>\n",
       "      <td>39.0</td>\n",
       "      <td>66.0</td>\n",
       "      <td>83.0</td>\n",
       "      <td>143.0</td>\n",
       "      <td>...</td>\n",
       "      <td>82.0</td>\n",
       "      <td>78.0</td>\n",
       "      <td>115.0</td>\n",
       "      <td>153.0</td>\n",
       "      <td>149.0</td>\n",
       "      <td>104.0</td>\n",
       "      <td>120.0</td>\n",
       "      <td>123.0</td>\n",
       "      <td>81.0</td>\n",
       "      <td>124.500000</td>\n",
       "    </tr>\n",
       "    <tr>\n",
       "      <th>2018-08-13 12:00:00</th>\n",
       "      <td>92</td>\n",
       "      <td>0</td>\n",
       "      <td>12</td>\n",
       "      <td>144.0</td>\n",
       "      <td>156.0</td>\n",
       "      <td>137.0</td>\n",
       "      <td>91.0</td>\n",
       "      <td>39.0</td>\n",
       "      <td>66.0</td>\n",
       "      <td>83.0</td>\n",
       "      <td>...</td>\n",
       "      <td>98.0</td>\n",
       "      <td>82.0</td>\n",
       "      <td>78.0</td>\n",
       "      <td>115.0</td>\n",
       "      <td>153.0</td>\n",
       "      <td>149.0</td>\n",
       "      <td>104.0</td>\n",
       "      <td>120.0</td>\n",
       "      <td>123.0</td>\n",
       "      <td>124.180556</td>\n",
       "    </tr>\n",
       "    <tr>\n",
       "      <th>2018-08-13 13:00:00</th>\n",
       "      <td>119</td>\n",
       "      <td>0</td>\n",
       "      <td>13</td>\n",
       "      <td>92.0</td>\n",
       "      <td>144.0</td>\n",
       "      <td>156.0</td>\n",
       "      <td>137.0</td>\n",
       "      <td>91.0</td>\n",
       "      <td>39.0</td>\n",
       "      <td>66.0</td>\n",
       "      <td>...</td>\n",
       "      <td>135.0</td>\n",
       "      <td>98.0</td>\n",
       "      <td>82.0</td>\n",
       "      <td>78.0</td>\n",
       "      <td>115.0</td>\n",
       "      <td>153.0</td>\n",
       "      <td>149.0</td>\n",
       "      <td>104.0</td>\n",
       "      <td>120.0</td>\n",
       "      <td>123.902778</td>\n",
       "    </tr>\n",
       "  </tbody>\n",
       "</table>\n",
       "<p>3902 rows × 28 columns</p>\n",
       "</div>"
      ],
      "text/plain": [
       "                     num_orders  dayofweek  hour  lag_1  lag_2  lag_3  lag_4  \\\n",
       "datetime                                                                       \n",
       "2018-03-04 00:00:00          75          6     0   43.0   63.0   48.0   83.0   \n",
       "2018-03-04 01:00:00          60          6     1   75.0   43.0   63.0   48.0   \n",
       "2018-03-04 02:00:00          26          6     2   60.0   75.0   43.0   63.0   \n",
       "2018-03-04 03:00:00          42          6     3   26.0   60.0   75.0   43.0   \n",
       "2018-03-04 04:00:00          27          6     4   42.0   26.0   60.0   75.0   \n",
       "...                         ...        ...   ...    ...    ...    ...    ...   \n",
       "2018-08-13 09:00:00         137          0     9   91.0   39.0   66.0   83.0   \n",
       "2018-08-13 10:00:00         156          0    10  137.0   91.0   39.0   66.0   \n",
       "2018-08-13 11:00:00         144          0    11  156.0  137.0   91.0   39.0   \n",
       "2018-08-13 12:00:00          92          0    12  144.0  156.0  137.0   91.0   \n",
       "2018-08-13 13:00:00         119          0    13   92.0  144.0  156.0  137.0   \n",
       "\n",
       "                     lag_5  lag_6  lag_7  ...  lag_16  lag_17  lag_18  lag_19  \\\n",
       "datetime                                  ...                                   \n",
       "2018-03-04 00:00:00   30.0   68.0   49.0  ...    56.0    17.0     9.0    15.0   \n",
       "2018-03-04 01:00:00   83.0   30.0   68.0  ...    73.0    56.0    17.0     9.0   \n",
       "2018-03-04 02:00:00   48.0   83.0   30.0  ...    52.0    73.0    56.0    17.0   \n",
       "2018-03-04 03:00:00   63.0   48.0   83.0  ...    57.0    52.0    73.0    56.0   \n",
       "2018-03-04 04:00:00   43.0   63.0   48.0  ...    32.0    57.0    52.0    73.0   \n",
       "...                    ...    ...    ...  ...     ...     ...     ...     ...   \n",
       "2018-08-13 09:00:00  143.0  168.0  437.0  ...   115.0   153.0   149.0   104.0   \n",
       "2018-08-13 10:00:00   83.0  143.0  168.0  ...    78.0   115.0   153.0   149.0   \n",
       "2018-08-13 11:00:00   66.0   83.0  143.0  ...    82.0    78.0   115.0   153.0   \n",
       "2018-08-13 12:00:00   39.0   66.0   83.0  ...    98.0    82.0    78.0   115.0   \n",
       "2018-08-13 13:00:00   91.0   39.0   66.0  ...   135.0    98.0    82.0    78.0   \n",
       "\n",
       "                     lag_20  lag_21  lag_22  lag_23  lag_24  rolling_mean  \n",
       "datetime                                                                   \n",
       "2018-03-04 00:00:00    44.0    64.0    25.0   108.0   163.0     57.777778  \n",
       "2018-03-04 01:00:00    15.0    44.0    64.0    25.0   108.0     57.097222  \n",
       "2018-03-04 02:00:00     9.0    15.0    44.0    64.0    25.0     56.750000  \n",
       "2018-03-04 03:00:00    17.0     9.0    15.0    44.0    64.0     56.125000  \n",
       "2018-03-04 04:00:00    56.0    17.0     9.0    15.0    44.0     55.791667  \n",
       "...                     ...     ...     ...     ...     ...           ...  \n",
       "2018-08-13 09:00:00   120.0   123.0    81.0   108.0   108.0    123.680556  \n",
       "2018-08-13 10:00:00   104.0   120.0   123.0    81.0   108.0    124.458333  \n",
       "2018-08-13 11:00:00   149.0   104.0   120.0   123.0    81.0    124.500000  \n",
       "2018-08-13 12:00:00   153.0   149.0   104.0   120.0   123.0    124.180556  \n",
       "2018-08-13 13:00:00   115.0   153.0   149.0   104.0   120.0    123.902778  \n",
       "\n",
       "[3902 rows x 28 columns]"
      ]
     },
     "execution_count": 15,
     "metadata": {},
     "output_type": "execute_result"
    }
   ],
   "source": [
    "train"
   ]
  },
  {
   "cell_type": "code",
   "execution_count": 16,
   "metadata": {},
   "outputs": [],
   "source": [
    "X_train = train.drop(columns=['num_orders'])\n",
    "y_train = train['num_orders']\n",
    "X_test = test.drop(columns=['num_orders'])\n",
    "y_test = test['num_orders']"
   ]
  },
  {
   "cell_type": "code",
   "execution_count": 17,
   "metadata": {},
   "outputs": [],
   "source": [
    "tscv = TimeSeriesSplit(n_splits=3)"
   ]
  },
  {
   "cell_type": "code",
   "execution_count": 18,
   "metadata": {},
   "outputs": [
    {
     "name": "stdout",
     "output_type": "stream",
     "text": [
      "RMSE обучающей выборки: 25.767809402487718\n",
      "RMSE тестовой выборки:  44.78967634623685\n"
     ]
    }
   ],
   "source": [
    "LR = LinearRegression()\n",
    "LR.fit(X_train, y_train)\n",
    "predicts_train = LR.predict(X_train)\n",
    "print(\"RMSE обучающей выборки:\", mean_squared_error(y_train, predicts_train, squared=False))\n",
    "\n",
    "predicts_test = LR.predict(X_test)\n",
    "print(\"RMSE тестовой выборки: \", mean_squared_error(y_test, predicts_test, squared=False))"
   ]
  },
  {
   "cell_type": "code",
   "execution_count": 19,
   "metadata": {},
   "outputs": [
    {
     "data": {
      "text/plain": [
       "LGBMRegressor(metric='rmse', random_state=42)"
      ]
     },
     "execution_count": 19,
     "metadata": {},
     "output_type": "execute_result"
    }
   ],
   "source": [
    "model = LGBMRegressor(metric='rmse', n_jobs=-1, random_state=42) \n",
    "model.fit(X_train, y_train, eval_metric='rmse')"
   ]
  },
  {
   "cell_type": "code",
   "execution_count": 20,
   "metadata": {},
   "outputs": [
    {
     "name": "stdout",
     "output_type": "stream",
     "text": [
      "RMSE of LightGBM обучающей выборки: 12.199921447377706\n",
      "RMSE of LightGBM тестовой выборки: 40.53139061970779\n"
     ]
    }
   ],
   "source": [
    "predicts_train = model.predict(X_train)\n",
    "print(\"RMSE of LightGBM обучающей выборки:\", mean_squared_error(y_train, predicts_train, squared=False))\n",
    "predicts_test = model.predict(X_test)\n",
    "print(\"RMSE of LightGBM тестовой выборки:\", mean_squared_error(y_test, predicts_test, squared=False))"
   ]
  },
  {
   "cell_type": "markdown",
   "metadata": {},
   "source": [
    "Подберем параметры для модели при помощи GridSearchCV."
   ]
  },
  {
   "cell_type": "code",
   "execution_count": 21,
   "metadata": {},
   "outputs": [],
   "source": [
    "params = {\n",
    "     'n_estimators': [200, 400],\n",
    "    'learning_rate': [0.02, 0.1],\n",
    "    'max_depth': [6, 12, 18]\n",
    "}"
   ]
  },
  {
   "cell_type": "code",
   "execution_count": 22,
   "metadata": {},
   "outputs": [
    {
     "name": "stdout",
     "output_type": "stream",
     "text": [
      "Fitting 3 folds for each of 12 candidates, totalling 36 fits\n",
      "[CV 1/3] END learning_rate=0.02, max_depth=6, n_estimators=200; total time=  12.2s\n",
      "[CV 2/3] END learning_rate=0.02, max_depth=6, n_estimators=200; total time=  18.4s\n",
      "[CV 3/3] END learning_rate=0.02, max_depth=6, n_estimators=200; total time=  17.3s\n",
      "[CV 1/3] END learning_rate=0.02, max_depth=6, n_estimators=400; total time=  27.7s\n",
      "[CV 2/3] END learning_rate=0.02, max_depth=6, n_estimators=400; total time=  45.0s\n",
      "[CV 3/3] END learning_rate=0.02, max_depth=6, n_estimators=400; total time=  35.0s\n",
      "[CV 1/3] END learning_rate=0.02, max_depth=12, n_estimators=200; total time=  20.2s\n",
      "[CV 2/3] END learning_rate=0.02, max_depth=12, n_estimators=200; total time=  21.3s\n",
      "[CV 3/3] END learning_rate=0.02, max_depth=12, n_estimators=200; total time=  23.1s\n",
      "[CV 1/3] END learning_rate=0.02, max_depth=12, n_estimators=400; total time=  34.8s\n",
      "[CV 2/3] END learning_rate=0.02, max_depth=12, n_estimators=400; total time=  46.0s\n",
      "[CV 3/3] END learning_rate=0.02, max_depth=12, n_estimators=400; total time=  39.3s\n",
      "[CV 1/3] END learning_rate=0.02, max_depth=18, n_estimators=200; total time= 1.4min\n",
      "[CV 2/3] END learning_rate=0.02, max_depth=18, n_estimators=200; total time=  20.4s\n",
      "[CV 3/3] END learning_rate=0.02, max_depth=18, n_estimators=200; total time=  39.1s\n",
      "[CV 1/3] END learning_rate=0.02, max_depth=18, n_estimators=400; total time=  58.7s\n",
      "[CV 2/3] END learning_rate=0.02, max_depth=18, n_estimators=400; total time=  46.2s\n",
      "[CV 3/3] END learning_rate=0.02, max_depth=18, n_estimators=400; total time= 1.4min\n",
      "[CV 1/3] END learning_rate=0.1, max_depth=6, n_estimators=200; total time=  11.6s\n",
      "[CV 2/3] END learning_rate=0.1, max_depth=6, n_estimators=200; total time=  16.7s\n",
      "[CV 3/3] END learning_rate=0.1, max_depth=6, n_estimators=200; total time=  20.4s\n",
      "[CV 1/3] END learning_rate=0.1, max_depth=6, n_estimators=400; total time=  17.9s\n",
      "[CV 2/3] END learning_rate=0.1, max_depth=6, n_estimators=400; total time=  25.8s\n",
      "[CV 3/3] END learning_rate=0.1, max_depth=6, n_estimators=400; total time=  31.1s\n",
      "[CV 1/3] END learning_rate=0.1, max_depth=12, n_estimators=200; total time=  17.2s\n",
      "[CV 2/3] END learning_rate=0.1, max_depth=12, n_estimators=200; total time=  25.5s\n",
      "[CV 3/3] END learning_rate=0.1, max_depth=12, n_estimators=200; total time=  33.4s\n",
      "[CV 1/3] END learning_rate=0.1, max_depth=12, n_estimators=400; total time=  35.2s\n",
      "[CV 2/3] END learning_rate=0.1, max_depth=12, n_estimators=400; total time= 1.2min\n",
      "[CV 3/3] END learning_rate=0.1, max_depth=12, n_estimators=400; total time=  49.1s\n",
      "[CV 1/3] END learning_rate=0.1, max_depth=18, n_estimators=200; total time=  16.4s\n",
      "[CV 2/3] END learning_rate=0.1, max_depth=18, n_estimators=200; total time=  34.6s\n",
      "[CV 3/3] END learning_rate=0.1, max_depth=18, n_estimators=200; total time=  31.7s\n",
      "[CV 1/3] END learning_rate=0.1, max_depth=18, n_estimators=400; total time= 2.5min\n",
      "[CV 2/3] END learning_rate=0.1, max_depth=18, n_estimators=400; total time= 1.0min\n",
      "[CV 3/3] END learning_rate=0.1, max_depth=18, n_estimators=400; total time= 2.4min\n",
      "{'learning_rate': 0.02, 'max_depth': 12, 'n_estimators': 400}\n",
      "RMSE of LightGBM тестовой выборки: 41.21340889981437\n"
     ]
    }
   ],
   "source": [
    "grid = GridSearchCV(LGBMRegressor(random_state=42),  param_grid=params, verbose=3, \n",
    "                    cv=tscv, n_jobs=-1, scoring='neg_mean_squared_error', refit=False) \n",
    "grid.fit(X_train, y_train)\n",
    "\n",
    "model = LGBMRegressor(**grid.best_params_, random_state = 42)\n",
    "model.fit(X_train, y_train)\n",
    "predicts_test = model.predict(X_test)\n",
    "print(grid.best_params_)\n",
    "print(\"RMSE of LightGBM тестовой выборки:\", mean_squared_error(y_test, predicts_test, squared=False))"
   ]
  },
  {
   "cell_type": "markdown",
   "metadata": {},
   "source": [
    "## Тестирование"
   ]
  },
  {
   "cell_type": "code",
   "execution_count": 23,
   "metadata": {},
   "outputs": [
    {
     "name": "stdout",
     "output_type": "stream",
     "text": [
      "RMSE of LightGBM тестовой выборки: 41.21340889981437\n"
     ]
    }
   ],
   "source": [
    "model = LGBMRegressor(metric='rmse', learning_rate=0.02, max_depth=12, n_estimators=400, n_jobs=-1, random_state=42) \n",
    "model.fit(X_train, y_train)\n",
    "predicts_test = model.predict(X_test)\n",
    "print(\"RMSE of LightGBM тестовой выборки:\", mean_squared_error(y_test, predicts_test, squared=False))"
   ]
  },
  {
   "cell_type": "code",
   "execution_count": 24,
   "metadata": {},
   "outputs": [
    {
     "data": {
      "image/png": "[encoded data removed]",
      "text/plain": [
       "<Figure size 1080x360 with 1 Axes>"
      ]
     },
     "metadata": {
      "needs_background": "light"
     },
     "output_type": "display_data"
    }
   ],
   "source": [
    "predictions_taxi = pd.DataFrame(data=predicts_test, columns=['predictions'], index=X_test.index)\n",
    "pd.merge(y_test, predictions_taxi, how = 'left', left_index = True, right_index = True).plot();"
   ]
  },
  {
   "cell_type": "markdown",
   "metadata": {},
   "source": [
    "## Вывод"
   ]
  },
  {
   "cell_type": "markdown",
   "metadata": {},
   "source": [
    "Лучше всего для нашей задачи подошла модель LGBMRegressor: RMSE = 41.21.\n",
    "\n",
    "Хуже результат  показала линейная регрессия, но даже ее результат лучше требуемого: 44.78 < 48.\n",
    "\n",
    "Как видно из графика выше, наша модель хорошо предсказывает и улавливает сезонность заказов в течении дня, однако плохо улавливает увеличание заказов в выходные дни."
   ]
  }
 ],
 "metadata": {
  "ExecuteTimeLog": [
   {
    "duration": 2064,
    "start_time": "2022-06-26T07:22:34.303Z"
   },
   {
    "duration": 171,
    "start_time": "2022-06-26T07:23:05.383Z"
   },
   {
    "duration": 64,
    "start_time": "2022-06-26T07:23:39.391Z"
   },
   {
    "duration": 72,
    "start_time": "2022-06-26T07:24:18.810Z"
   },
   {
    "duration": 18,
    "start_time": "2022-06-26T07:29:32.062Z"
   },
   {
    "duration": 161,
    "start_time": "2022-06-26T07:34:17.017Z"
   },
   {
    "duration": 140,
    "start_time": "2022-06-26T07:56:09.662Z"
   },
   {
    "duration": 12,
    "start_time": "2022-06-26T07:56:27.341Z"
   },
   {
    "duration": 331,
    "start_time": "2022-06-26T07:57:26.650Z"
   },
   {
    "duration": 256,
    "start_time": "2022-06-26T08:01:00.577Z"
   },
   {
    "duration": 331,
    "start_time": "2022-06-26T08:01:12.123Z"
   },
   {
    "duration": 259,
    "start_time": "2022-06-26T08:01:39.493Z"
   },
   {
    "duration": 16,
    "start_time": "2022-06-26T08:11:36.564Z"
   },
   {
    "duration": 83,
    "start_time": "2022-06-26T08:14:08.003Z"
   },
   {
    "duration": 93,
    "start_time": "2022-06-26T08:14:15.899Z"
   },
   {
    "duration": 31,
    "start_time": "2022-06-26T08:15:00.683Z"
   },
   {
    "duration": 25,
    "start_time": "2022-06-26T08:16:03.718Z"
   },
   {
    "duration": 13,
    "start_time": "2022-06-26T08:18:34.636Z"
   },
   {
    "duration": 25,
    "start_time": "2022-06-26T08:20:00.640Z"
   },
   {
    "duration": 1541,
    "start_time": "2022-06-26T08:20:42.437Z"
   },
   {
    "duration": 72,
    "start_time": "2022-06-26T08:20:43.981Z"
   },
   {
    "duration": 15,
    "start_time": "2022-06-26T08:20:44.054Z"
   },
   {
    "duration": 183,
    "start_time": "2022-06-26T08:20:44.071Z"
   },
   {
    "duration": 7,
    "start_time": "2022-06-26T08:20:44.256Z"
   },
   {
    "duration": 695,
    "start_time": "2022-06-26T08:20:44.265Z"
   },
   {
    "duration": 12,
    "start_time": "2022-06-26T08:20:44.963Z"
   },
   {
    "duration": 1564,
    "start_time": "2022-06-26T08:21:46.618Z"
   },
   {
    "duration": 69,
    "start_time": "2022-06-26T08:21:48.184Z"
   },
   {
    "duration": 17,
    "start_time": "2022-06-26T08:21:48.255Z"
   },
   {
    "duration": 270,
    "start_time": "2022-06-26T08:21:48.274Z"
   },
   {
    "duration": 8,
    "start_time": "2022-06-26T08:21:48.545Z"
   },
   {
    "duration": 694,
    "start_time": "2022-06-26T08:21:48.554Z"
   },
   {
    "duration": 10,
    "start_time": "2022-06-26T08:21:49.250Z"
   },
   {
    "duration": 775,
    "start_time": "2022-06-26T08:22:15.392Z"
   },
   {
    "duration": 864,
    "start_time": "2022-06-26T08:22:29.207Z"
   },
   {
    "duration": 678,
    "start_time": "2022-06-26T08:22:38.727Z"
   },
   {
    "duration": 676,
    "start_time": "2022-06-26T08:23:00.375Z"
   },
   {
    "duration": 1471,
    "start_time": "2022-06-26T08:25:30.996Z"
   },
   {
    "duration": 74,
    "start_time": "2022-06-26T08:25:32.469Z"
   },
   {
    "duration": 15,
    "start_time": "2022-06-26T08:25:32.544Z"
   },
   {
    "duration": 772,
    "start_time": "2022-06-26T08:25:32.562Z"
   },
   {
    "duration": 9,
    "start_time": "2022-06-26T08:25:33.336Z"
   },
   {
    "duration": 958,
    "start_time": "2022-06-26T08:26:56.167Z"
   },
   {
    "duration": 134,
    "start_time": "2022-06-26T08:30:42.441Z"
   },
   {
    "duration": 11,
    "start_time": "2022-06-26T08:30:47.738Z"
   },
   {
    "duration": 11,
    "start_time": "2022-06-26T08:30:51.713Z"
   },
   {
    "duration": 717,
    "start_time": "2022-06-26T08:30:53.569Z"
   },
   {
    "duration": 821,
    "start_time": "2022-06-26T08:30:56.346Z"
   },
   {
    "duration": 823,
    "start_time": "2022-06-26T08:32:45.031Z"
   },
   {
    "duration": 11,
    "start_time": "2022-06-26T08:32:56.702Z"
   },
   {
    "duration": 693,
    "start_time": "2022-06-26T08:32:59.110Z"
   },
   {
    "duration": 692,
    "start_time": "2022-06-26T08:33:00.903Z"
   },
   {
    "duration": 781,
    "start_time": "2022-06-26T08:33:02.814Z"
   },
   {
    "duration": 823,
    "start_time": "2022-06-26T08:41:13.530Z"
   },
   {
    "duration": 749,
    "start_time": "2022-06-26T08:41:34.603Z"
   },
   {
    "duration": 649,
    "start_time": "2022-06-26T08:41:37.715Z"
   },
   {
    "duration": 708,
    "start_time": "2022-06-26T08:41:48.156Z"
   },
   {
    "duration": 380,
    "start_time": "2022-06-26T08:55:44.732Z"
   },
   {
    "duration": 293,
    "start_time": "2022-06-26T08:56:45.142Z"
   },
   {
    "duration": 262,
    "start_time": "2022-06-26T08:56:53.679Z"
   },
   {
    "duration": 25,
    "start_time": "2022-06-26T08:57:53.377Z"
   },
   {
    "duration": 1509,
    "start_time": "2022-06-26T08:58:01.079Z"
   },
   {
    "duration": 72,
    "start_time": "2022-06-26T08:58:02.590Z"
   },
   {
    "duration": 11,
    "start_time": "2022-06-26T08:58:02.664Z"
   },
   {
    "duration": 741,
    "start_time": "2022-06-26T08:58:02.677Z"
   },
   {
    "duration": 742,
    "start_time": "2022-06-26T08:58:03.421Z"
   },
   {
    "duration": 925,
    "start_time": "2022-06-26T08:58:04.165Z"
   },
   {
    "duration": 724,
    "start_time": "2022-06-26T08:58:05.092Z"
   },
   {
    "duration": 270,
    "start_time": "2022-06-26T08:58:05.818Z"
   },
   {
    "duration": 288,
    "start_time": "2022-06-26T08:58:06.090Z"
   },
   {
    "duration": 14,
    "start_time": "2022-06-26T08:58:06.380Z"
   },
   {
    "duration": 135,
    "start_time": "2022-06-26T09:01:03.601Z"
   },
   {
    "duration": 23,
    "start_time": "2022-06-26T09:01:31.851Z"
   },
   {
    "duration": 1532,
    "start_time": "2022-06-26T09:01:46.472Z"
   },
   {
    "duration": 67,
    "start_time": "2022-06-26T09:01:48.006Z"
   },
   {
    "duration": 11,
    "start_time": "2022-06-26T09:01:48.075Z"
   },
   {
    "duration": 714,
    "start_time": "2022-06-26T09:01:48.088Z"
   },
   {
    "duration": 645,
    "start_time": "2022-06-26T09:01:48.804Z"
   },
   {
    "duration": 858,
    "start_time": "2022-06-26T09:01:49.451Z"
   },
   {
    "duration": 709,
    "start_time": "2022-06-26T09:01:50.310Z"
   },
   {
    "duration": 277,
    "start_time": "2022-06-26T09:01:51.020Z"
   },
   {
    "duration": 288,
    "start_time": "2022-06-26T09:01:51.299Z"
   },
   {
    "duration": 14,
    "start_time": "2022-06-26T09:01:51.589Z"
   },
   {
    "duration": 348,
    "start_time": "2022-06-26T09:02:47.810Z"
   },
   {
    "duration": 238,
    "start_time": "2022-06-26T09:03:09.787Z"
   },
   {
    "duration": 282,
    "start_time": "2022-06-26T09:03:15.547Z"
   },
   {
    "duration": 291,
    "start_time": "2022-06-26T09:03:27.307Z"
   },
   {
    "duration": 281,
    "start_time": "2022-06-26T09:03:40.802Z"
   },
   {
    "duration": 5,
    "start_time": "2022-06-26T09:18:32.139Z"
   },
   {
    "duration": 15,
    "start_time": "2022-06-26T09:18:36.062Z"
   },
   {
    "duration": 407,
    "start_time": "2022-06-26T09:18:49.943Z"
   },
   {
    "duration": 1740,
    "start_time": "2022-06-26T09:20:08.513Z"
   },
   {
    "duration": 67,
    "start_time": "2022-06-26T09:20:10.255Z"
   },
   {
    "duration": 12,
    "start_time": "2022-06-26T09:20:10.326Z"
   },
   {
    "duration": 760,
    "start_time": "2022-06-26T09:20:10.341Z"
   },
   {
    "duration": 714,
    "start_time": "2022-06-26T09:20:11.103Z"
   },
   {
    "duration": 893,
    "start_time": "2022-06-26T09:20:11.819Z"
   },
   {
    "duration": 761,
    "start_time": "2022-06-26T09:20:12.714Z"
   },
   {
    "duration": 3,
    "start_time": "2022-06-26T09:20:13.477Z"
   },
   {
    "duration": 6,
    "start_time": "2022-06-26T09:20:13.481Z"
   },
   {
    "duration": 18,
    "start_time": "2022-06-26T09:20:13.488Z"
   },
   {
    "duration": 296,
    "start_time": "2022-06-26T09:20:13.508Z"
   },
   {
    "duration": 11,
    "start_time": "2022-06-26T09:20:13.806Z"
   },
   {
    "duration": 128,
    "start_time": "2022-06-26T09:21:35.118Z"
   },
   {
    "duration": 1549,
    "start_time": "2022-06-26T09:21:51.532Z"
   },
   {
    "duration": 67,
    "start_time": "2022-06-26T09:21:53.083Z"
   },
   {
    "duration": 12,
    "start_time": "2022-06-26T09:21:53.151Z"
   },
   {
    "duration": 749,
    "start_time": "2022-06-26T09:21:53.165Z"
   },
   {
    "duration": 734,
    "start_time": "2022-06-26T09:21:53.916Z"
   },
   {
    "duration": 864,
    "start_time": "2022-06-26T09:21:54.652Z"
   },
   {
    "duration": 765,
    "start_time": "2022-06-26T09:21:55.518Z"
   },
   {
    "duration": 696,
    "start_time": "2022-06-26T09:21:56.285Z"
   },
   {
    "duration": 3,
    "start_time": "2022-06-26T09:21:56.984Z"
   },
   {
    "duration": 6,
    "start_time": "2022-06-26T09:21:56.988Z"
   },
   {
    "duration": 17,
    "start_time": "2022-06-26T09:21:56.996Z"
   },
   {
    "duration": 288,
    "start_time": "2022-06-26T09:21:57.015Z"
   },
   {
    "duration": 14,
    "start_time": "2022-06-26T09:21:57.306Z"
   },
   {
    "duration": 132,
    "start_time": "2022-06-26T09:22:36.304Z"
   },
   {
    "duration": 1641,
    "start_time": "2022-06-26T09:22:45.756Z"
   },
   {
    "duration": 76,
    "start_time": "2022-06-26T09:22:47.400Z"
   },
   {
    "duration": 13,
    "start_time": "2022-06-26T09:22:47.478Z"
   },
   {
    "duration": 773,
    "start_time": "2022-06-26T09:22:47.493Z"
   },
   {
    "duration": 732,
    "start_time": "2022-06-26T09:22:48.269Z"
   },
   {
    "duration": 933,
    "start_time": "2022-06-26T09:22:49.003Z"
   },
   {
    "duration": 807,
    "start_time": "2022-06-26T09:22:49.938Z"
   },
   {
    "duration": 560,
    "start_time": "2022-06-26T09:22:50.746Z"
   },
   {
    "duration": 3,
    "start_time": "2022-06-26T09:22:51.308Z"
   },
   {
    "duration": 14,
    "start_time": "2022-06-26T09:22:51.313Z"
   },
   {
    "duration": 20,
    "start_time": "2022-06-26T09:22:51.329Z"
   },
   {
    "duration": 276,
    "start_time": "2022-06-26T09:22:51.351Z"
   },
   {
    "duration": 31,
    "start_time": "2022-06-26T09:22:51.628Z"
   },
   {
    "duration": 128,
    "start_time": "2022-06-26T09:23:52.595Z"
   },
   {
    "duration": 1543,
    "start_time": "2022-06-26T09:26:59.700Z"
   },
   {
    "duration": 70,
    "start_time": "2022-06-26T09:27:01.245Z"
   },
   {
    "duration": 13,
    "start_time": "2022-06-26T09:27:01.318Z"
   },
   {
    "duration": 789,
    "start_time": "2022-06-26T09:27:01.333Z"
   },
   {
    "duration": 705,
    "start_time": "2022-06-26T09:27:02.126Z"
   },
   {
    "duration": 870,
    "start_time": "2022-06-26T09:27:02.833Z"
   },
   {
    "duration": 785,
    "start_time": "2022-06-26T09:27:03.704Z"
   },
   {
    "duration": 160,
    "start_time": "2022-06-26T09:27:04.492Z"
   },
   {
    "duration": 2,
    "start_time": "2022-06-26T09:27:04.654Z"
   },
   {
    "duration": 6,
    "start_time": "2022-06-26T09:27:04.658Z"
   },
   {
    "duration": 16,
    "start_time": "2022-06-26T09:27:04.665Z"
   },
   {
    "duration": 285,
    "start_time": "2022-06-26T09:27:04.682Z"
   },
   {
    "duration": 12,
    "start_time": "2022-06-26T09:27:04.969Z"
   },
   {
    "duration": 135,
    "start_time": "2022-06-26T09:28:10.553Z"
   },
   {
    "duration": 1502,
    "start_time": "2022-06-26T09:28:18.198Z"
   },
   {
    "duration": 68,
    "start_time": "2022-06-26T09:28:19.702Z"
   },
   {
    "duration": 12,
    "start_time": "2022-06-26T09:28:19.771Z"
   },
   {
    "duration": 793,
    "start_time": "2022-06-26T09:28:19.785Z"
   },
   {
    "duration": 682,
    "start_time": "2022-06-26T09:28:20.580Z"
   },
   {
    "duration": 836,
    "start_time": "2022-06-26T09:28:21.264Z"
   },
   {
    "duration": 730,
    "start_time": "2022-06-26T09:28:22.102Z"
   },
   {
    "duration": 189,
    "start_time": "2022-06-26T09:28:22.833Z"
   },
   {
    "duration": 3,
    "start_time": "2022-06-26T09:28:23.023Z"
   },
   {
    "duration": 15,
    "start_time": "2022-06-26T09:28:23.027Z"
   },
   {
    "duration": 3,
    "start_time": "2022-06-26T09:28:23.043Z"
   },
   {
    "duration": 246,
    "start_time": "2022-06-26T09:28:23.047Z"
   },
   {
    "duration": 10,
    "start_time": "2022-06-26T09:28:23.295Z"
   },
   {
    "duration": 1539,
    "start_time": "2022-06-26T09:29:23.534Z"
   },
   {
    "duration": 67,
    "start_time": "2022-06-26T09:29:25.075Z"
   },
   {
    "duration": 12,
    "start_time": "2022-06-26T09:29:25.144Z"
   },
   {
    "duration": 784,
    "start_time": "2022-06-26T09:29:25.158Z"
   },
   {
    "duration": 697,
    "start_time": "2022-06-26T09:29:25.944Z"
   },
   {
    "duration": 887,
    "start_time": "2022-06-26T09:29:26.643Z"
   },
   {
    "duration": 736,
    "start_time": "2022-06-26T09:29:27.532Z"
   },
   {
    "duration": 190,
    "start_time": "2022-06-26T09:29:28.269Z"
   },
   {
    "duration": 2,
    "start_time": "2022-06-26T09:29:28.461Z"
   },
   {
    "duration": 4,
    "start_time": "2022-06-26T09:29:28.465Z"
   },
   {
    "duration": 4,
    "start_time": "2022-06-26T09:29:28.471Z"
   },
   {
    "duration": 266,
    "start_time": "2022-06-26T09:29:28.477Z"
   },
   {
    "duration": 11,
    "start_time": "2022-06-26T09:29:28.744Z"
   },
   {
    "duration": 1590,
    "start_time": "2022-06-26T09:29:49.427Z"
   },
   {
    "duration": 70,
    "start_time": "2022-06-26T09:29:51.019Z"
   },
   {
    "duration": 12,
    "start_time": "2022-06-26T09:29:51.090Z"
   },
   {
    "duration": 798,
    "start_time": "2022-06-26T09:29:51.104Z"
   },
   {
    "duration": 729,
    "start_time": "2022-06-26T09:29:51.904Z"
   },
   {
    "duration": 850,
    "start_time": "2022-06-26T09:29:52.635Z"
   },
   {
    "duration": 717,
    "start_time": "2022-06-26T09:29:53.486Z"
   },
   {
    "duration": 213,
    "start_time": "2022-06-26T09:29:54.204Z"
   },
   {
    "duration": 2,
    "start_time": "2022-06-26T09:29:54.419Z"
   },
   {
    "duration": 6,
    "start_time": "2022-06-26T09:29:54.423Z"
   },
   {
    "duration": 13,
    "start_time": "2022-06-26T09:29:54.430Z"
   },
   {
    "duration": 287,
    "start_time": "2022-06-26T09:29:54.444Z"
   },
   {
    "duration": 16,
    "start_time": "2022-06-26T09:29:54.733Z"
   },
   {
    "duration": 12,
    "start_time": "2022-06-26T09:30:54.123Z"
   },
   {
    "duration": 391,
    "start_time": "2022-06-26T09:30:56.076Z"
   },
   {
    "duration": 128,
    "start_time": "2022-06-26T09:36:40.497Z"
   },
   {
    "duration": 1544,
    "start_time": "2022-06-26T09:38:13.786Z"
   },
   {
    "duration": 69,
    "start_time": "2022-06-26T09:38:15.332Z"
   },
   {
    "duration": 13,
    "start_time": "2022-06-26T09:38:15.402Z"
   },
   {
    "duration": 821,
    "start_time": "2022-06-26T09:38:15.417Z"
   },
   {
    "duration": 786,
    "start_time": "2022-06-26T09:38:16.240Z"
   },
   {
    "duration": 878,
    "start_time": "2022-06-26T09:38:17.028Z"
   },
   {
    "duration": 727,
    "start_time": "2022-06-26T09:38:17.908Z"
   },
   {
    "duration": 221,
    "start_time": "2022-06-26T09:38:18.641Z"
   },
   {
    "duration": 3,
    "start_time": "2022-06-26T09:38:18.864Z"
   },
   {
    "duration": 5,
    "start_time": "2022-06-26T09:38:18.869Z"
   },
   {
    "duration": 14,
    "start_time": "2022-06-26T09:38:18.876Z"
   },
   {
    "duration": 160,
    "start_time": "2022-06-26T09:38:18.892Z"
   },
   {
    "duration": 10,
    "start_time": "2022-06-26T09:41:24.078Z"
   },
   {
    "duration": 10,
    "start_time": "2022-06-26T09:41:54.256Z"
   },
   {
    "duration": 10,
    "start_time": "2022-06-26T09:42:00.254Z"
   },
   {
    "duration": 11,
    "start_time": "2022-06-26T09:43:05.373Z"
   },
   {
    "duration": 9,
    "start_time": "2022-06-26T09:43:56.108Z"
   },
   {
    "duration": 9,
    "start_time": "2022-06-26T09:44:04.618Z"
   },
   {
    "duration": 10,
    "start_time": "2022-06-26T09:44:12.907Z"
   },
   {
    "duration": 318,
    "start_time": "2022-06-26T09:46:47.204Z"
   },
   {
    "duration": 384,
    "start_time": "2022-06-26T09:47:22.828Z"
   },
   {
    "duration": 4,
    "start_time": "2022-06-26T09:47:46.964Z"
   },
   {
    "duration": 4,
    "start_time": "2022-06-26T10:08:37.301Z"
   },
   {
    "duration": 25,
    "start_time": "2022-06-26T10:10:07.881Z"
   },
   {
    "duration": 41,
    "start_time": "2022-06-26T10:10:12.545Z"
   },
   {
    "duration": 26,
    "start_time": "2022-06-26T10:10:41.984Z"
   },
   {
    "duration": 39,
    "start_time": "2022-06-26T10:10:42.610Z"
   },
   {
    "duration": 1475,
    "start_time": "2022-06-26T10:10:50.700Z"
   },
   {
    "duration": 67,
    "start_time": "2022-06-26T10:10:52.178Z"
   },
   {
    "duration": 12,
    "start_time": "2022-06-26T10:10:52.247Z"
   },
   {
    "duration": 749,
    "start_time": "2022-06-26T10:10:52.261Z"
   },
   {
    "duration": 688,
    "start_time": "2022-06-26T10:10:53.012Z"
   },
   {
    "duration": 889,
    "start_time": "2022-06-26T10:10:53.702Z"
   },
   {
    "duration": 691,
    "start_time": "2022-06-26T10:10:54.592Z"
   },
   {
    "duration": 225,
    "start_time": "2022-06-26T10:10:55.284Z"
   },
   {
    "duration": 11,
    "start_time": "2022-06-26T10:10:55.511Z"
   },
   {
    "duration": 4,
    "start_time": "2022-06-26T10:10:55.542Z"
   },
   {
    "duration": 38,
    "start_time": "2022-06-26T10:10:55.548Z"
   },
   {
    "duration": 64,
    "start_time": "2022-06-26T10:10:55.588Z"
   },
   {
    "duration": 1558,
    "start_time": "2022-06-26T10:11:25.759Z"
   },
   {
    "duration": 73,
    "start_time": "2022-06-26T10:11:27.320Z"
   },
   {
    "duration": 16,
    "start_time": "2022-06-26T10:11:27.395Z"
   },
   {
    "duration": 813,
    "start_time": "2022-06-26T10:11:27.413Z"
   },
   {
    "duration": 674,
    "start_time": "2022-06-26T10:11:28.228Z"
   },
   {
    "duration": 851,
    "start_time": "2022-06-26T10:11:28.904Z"
   },
   {
    "duration": 745,
    "start_time": "2022-06-26T10:11:29.756Z"
   },
   {
    "duration": 211,
    "start_time": "2022-06-26T10:11:30.503Z"
   },
   {
    "duration": 10,
    "start_time": "2022-06-26T10:11:30.716Z"
   },
   {
    "duration": 18,
    "start_time": "2022-06-26T10:11:30.727Z"
   },
   {
    "duration": 25,
    "start_time": "2022-06-26T10:11:30.747Z"
   },
   {
    "duration": 25,
    "start_time": "2022-06-26T10:11:30.774Z"
   },
   {
    "duration": 27,
    "start_time": "2022-06-26T10:14:14.195Z"
   },
   {
    "duration": 25,
    "start_time": "2022-06-26T10:14:32.732Z"
   },
   {
    "duration": 1541,
    "start_time": "2022-06-26T10:15:43.941Z"
   },
   {
    "duration": 67,
    "start_time": "2022-06-26T10:15:45.484Z"
   },
   {
    "duration": 11,
    "start_time": "2022-06-26T10:15:45.553Z"
   },
   {
    "duration": 724,
    "start_time": "2022-06-26T10:15:45.567Z"
   },
   {
    "duration": 767,
    "start_time": "2022-06-26T10:15:46.293Z"
   },
   {
    "duration": 883,
    "start_time": "2022-06-26T10:15:47.062Z"
   },
   {
    "duration": 746,
    "start_time": "2022-06-26T10:15:47.947Z"
   },
   {
    "duration": 231,
    "start_time": "2022-06-26T10:15:48.695Z"
   },
   {
    "duration": 21,
    "start_time": "2022-06-26T10:15:48.928Z"
   },
   {
    "duration": 4,
    "start_time": "2022-06-26T10:15:48.953Z"
   },
   {
    "duration": 19,
    "start_time": "2022-06-26T10:15:48.959Z"
   },
   {
    "duration": 30,
    "start_time": "2022-06-26T10:15:48.980Z"
   },
   {
    "duration": 27,
    "start_time": "2022-06-26T10:15:49.043Z"
   },
   {
    "duration": 121,
    "start_time": "2022-06-26T10:19:52.580Z"
   },
   {
    "duration": 27,
    "start_time": "2022-06-26T10:21:02.590Z"
   },
   {
    "duration": 107,
    "start_time": "2022-06-26T10:21:08.039Z"
   },
   {
    "duration": 122,
    "start_time": "2022-06-26T10:22:03.401Z"
   },
   {
    "duration": 1542,
    "start_time": "2022-06-26T10:22:34.266Z"
   },
   {
    "duration": 69,
    "start_time": "2022-06-26T10:22:35.811Z"
   },
   {
    "duration": 11,
    "start_time": "2022-06-26T10:22:35.885Z"
   },
   {
    "duration": 783,
    "start_time": "2022-06-26T10:22:35.898Z"
   },
   {
    "duration": 807,
    "start_time": "2022-06-26T10:22:36.683Z"
   },
   {
    "duration": 909,
    "start_time": "2022-06-26T10:22:37.492Z"
   },
   {
    "duration": 753,
    "start_time": "2022-06-26T10:22:38.404Z"
   },
   {
    "duration": 224,
    "start_time": "2022-06-26T10:22:39.160Z"
   },
   {
    "duration": 10,
    "start_time": "2022-06-26T10:22:39.386Z"
   },
   {
    "duration": 4,
    "start_time": "2022-06-26T10:22:39.398Z"
   },
   {
    "duration": 40,
    "start_time": "2022-06-26T10:22:39.404Z"
   },
   {
    "duration": 29,
    "start_time": "2022-06-26T10:22:39.446Z"
   },
   {
    "duration": 25,
    "start_time": "2022-06-26T10:22:39.478Z"
   },
   {
    "duration": 9,
    "start_time": "2022-06-26T10:22:39.505Z"
   },
   {
    "duration": 106,
    "start_time": "2022-06-26T10:22:39.516Z"
   },
   {
    "duration": 114,
    "start_time": "2022-06-26T10:34:37.014Z"
   },
   {
    "duration": 17,
    "start_time": "2022-06-26T10:39:20.050Z"
   },
   {
    "duration": 1556,
    "start_time": "2022-06-26T10:40:00.832Z"
   },
   {
    "duration": 69,
    "start_time": "2022-06-26T10:40:02.391Z"
   },
   {
    "duration": 19,
    "start_time": "2022-06-26T10:40:02.462Z"
   },
   {
    "duration": 789,
    "start_time": "2022-06-26T10:40:02.485Z"
   },
   {
    "duration": 725,
    "start_time": "2022-06-26T10:40:03.276Z"
   },
   {
    "duration": 923,
    "start_time": "2022-06-26T10:40:04.004Z"
   },
   {
    "duration": 761,
    "start_time": "2022-06-26T10:40:04.929Z"
   },
   {
    "duration": 243,
    "start_time": "2022-06-26T10:40:05.692Z"
   },
   {
    "duration": 15,
    "start_time": "2022-06-26T10:40:05.942Z"
   },
   {
    "duration": 8,
    "start_time": "2022-06-26T10:40:05.961Z"
   },
   {
    "duration": 28,
    "start_time": "2022-06-26T10:40:05.971Z"
   },
   {
    "duration": 104,
    "start_time": "2022-06-26T10:40:06.001Z"
   },
   {
    "duration": 55,
    "start_time": "2022-06-26T10:40:06.107Z"
   },
   {
    "duration": 6,
    "start_time": "2022-06-26T10:40:06.164Z"
   },
   {
    "duration": 175,
    "start_time": "2022-06-26T10:40:06.172Z"
   },
   {
    "duration": 1609,
    "start_time": "2022-06-26T10:43:07.122Z"
   },
   {
    "duration": 68,
    "start_time": "2022-06-26T10:43:08.733Z"
   },
   {
    "duration": 14,
    "start_time": "2022-06-26T10:43:08.803Z"
   },
   {
    "duration": 791,
    "start_time": "2022-06-26T10:43:08.819Z"
   },
   {
    "duration": 683,
    "start_time": "2022-06-26T10:43:09.612Z"
   },
   {
    "duration": 874,
    "start_time": "2022-06-26T10:43:10.297Z"
   },
   {
    "duration": 718,
    "start_time": "2022-06-26T10:43:11.173Z"
   },
   {
    "duration": 220,
    "start_time": "2022-06-26T10:43:11.893Z"
   },
   {
    "duration": 10,
    "start_time": "2022-06-26T10:43:12.114Z"
   },
   {
    "duration": 18,
    "start_time": "2022-06-26T10:43:12.125Z"
   },
   {
    "duration": 15,
    "start_time": "2022-06-26T10:43:12.145Z"
   },
   {
    "duration": 28,
    "start_time": "2022-06-26T10:43:12.162Z"
   },
   {
    "duration": 52,
    "start_time": "2022-06-26T10:43:12.191Z"
   },
   {
    "duration": 6,
    "start_time": "2022-06-26T10:43:12.246Z"
   },
   {
    "duration": 88,
    "start_time": "2022-06-26T10:43:12.254Z"
   },
   {
    "duration": 1557,
    "start_time": "2022-06-26T10:43:32.585Z"
   },
   {
    "duration": 67,
    "start_time": "2022-06-26T10:43:34.144Z"
   },
   {
    "duration": 12,
    "start_time": "2022-06-26T10:43:34.213Z"
   },
   {
    "duration": 787,
    "start_time": "2022-06-26T10:43:34.227Z"
   },
   {
    "duration": 808,
    "start_time": "2022-06-26T10:43:35.017Z"
   },
   {
    "duration": 930,
    "start_time": "2022-06-26T10:43:35.827Z"
   },
   {
    "duration": 912,
    "start_time": "2022-06-26T10:43:36.759Z"
   },
   {
    "duration": 210,
    "start_time": "2022-06-26T10:43:37.673Z"
   },
   {
    "duration": 9,
    "start_time": "2022-06-26T10:43:37.885Z"
   },
   {
    "duration": 4,
    "start_time": "2022-06-26T10:43:37.896Z"
   },
   {
    "duration": 55,
    "start_time": "2022-06-26T10:43:37.901Z"
   },
   {
    "duration": 41,
    "start_time": "2022-06-26T10:43:37.957Z"
   },
   {
    "duration": 58,
    "start_time": "2022-06-26T10:43:37.999Z"
   },
   {
    "duration": 11,
    "start_time": "2022-06-26T10:43:38.060Z"
   },
   {
    "duration": 170,
    "start_time": "2022-06-26T10:43:38.073Z"
   },
   {
    "duration": 1472,
    "start_time": "2022-06-26T10:44:15.678Z"
   },
   {
    "duration": 72,
    "start_time": "2022-06-26T10:44:17.156Z"
   },
   {
    "duration": 13,
    "start_time": "2022-06-26T10:44:17.230Z"
   },
   {
    "duration": 765,
    "start_time": "2022-06-26T10:44:17.245Z"
   },
   {
    "duration": 681,
    "start_time": "2022-06-26T10:44:18.012Z"
   },
   {
    "duration": 860,
    "start_time": "2022-06-26T10:44:18.695Z"
   },
   {
    "duration": 725,
    "start_time": "2022-06-26T10:44:19.557Z"
   },
   {
    "duration": 217,
    "start_time": "2022-06-26T10:44:20.284Z"
   },
   {
    "duration": 10,
    "start_time": "2022-06-26T10:44:20.503Z"
   },
   {
    "duration": 3,
    "start_time": "2022-06-26T10:44:20.515Z"
   },
   {
    "duration": 41,
    "start_time": "2022-06-26T10:44:20.520Z"
   },
   {
    "duration": 38,
    "start_time": "2022-06-26T10:44:20.563Z"
   },
   {
    "duration": 61,
    "start_time": "2022-06-26T10:44:20.603Z"
   },
   {
    "duration": 6,
    "start_time": "2022-06-26T10:44:20.668Z"
   },
   {
    "duration": 173,
    "start_time": "2022-06-26T10:44:20.676Z"
   },
   {
    "duration": 237,
    "start_time": "2022-06-26T10:49:00.089Z"
   },
   {
    "duration": 1601,
    "start_time": "2022-06-26T10:49:23.450Z"
   },
   {
    "duration": 20,
    "start_time": "2022-06-26T10:51:23.775Z"
   },
   {
    "duration": 34,
    "start_time": "2022-06-26T10:59:16.274Z"
   },
   {
    "duration": 116,
    "start_time": "2022-06-26T11:01:19.447Z"
   },
   {
    "duration": 9278,
    "start_time": "2022-06-26T11:01:27.183Z"
   },
   {
    "duration": 13,
    "start_time": "2022-06-26T11:02:24.547Z"
   },
   {
    "duration": 5,
    "start_time": "2022-06-26T11:08:33.112Z"
   },
   {
    "duration": 3,
    "start_time": "2022-06-26T11:09:22.729Z"
   },
   {
    "duration": 7,
    "start_time": "2022-06-26T11:10:23.884Z"
   },
   {
    "duration": 1660,
    "start_time": "2022-06-26T11:13:37.291Z"
   },
   {
    "duration": 15,
    "start_time": "2022-06-26T11:15:06.463Z"
   },
   {
    "duration": 34,
    "start_time": "2022-06-26T11:15:12.791Z"
   },
   {
    "duration": 23,
    "start_time": "2022-06-26T11:16:48.835Z"
   },
   {
    "duration": 94,
    "start_time": "2022-06-26T11:17:37.550Z"
   },
   {
    "duration": 1570,
    "start_time": "2022-06-26T11:18:07.874Z"
   },
   {
    "duration": 90,
    "start_time": "2022-06-26T11:18:12.254Z"
   },
   {
    "duration": 10,
    "start_time": "2022-06-26T11:19:36.466Z"
   },
   {
    "duration": 25,
    "start_time": "2022-06-26T11:20:08.746Z"
   },
   {
    "duration": 1560,
    "start_time": "2022-06-26T12:05:26.262Z"
   },
   {
    "duration": 134,
    "start_time": "2022-06-26T12:05:27.825Z"
   },
   {
    "duration": 13,
    "start_time": "2022-06-26T12:05:27.961Z"
   },
   {
    "duration": 821,
    "start_time": "2022-06-26T12:05:27.976Z"
   },
   {
    "duration": 844,
    "start_time": "2022-06-26T12:05:28.799Z"
   },
   {
    "duration": 699,
    "start_time": "2022-06-26T12:05:29.645Z"
   },
   {
    "duration": 691,
    "start_time": "2022-06-26T12:05:30.346Z"
   },
   {
    "duration": 238,
    "start_time": "2022-06-26T12:05:31.039Z"
   },
   {
    "duration": 18,
    "start_time": "2022-06-26T12:05:31.279Z"
   },
   {
    "duration": 9,
    "start_time": "2022-06-26T12:05:31.300Z"
   },
   {
    "duration": 31,
    "start_time": "2022-06-26T12:05:31.311Z"
   },
   {
    "duration": 53,
    "start_time": "2022-06-26T12:05:31.344Z"
   },
   {
    "duration": 32,
    "start_time": "2022-06-26T12:05:31.399Z"
   },
   {
    "duration": 5,
    "start_time": "2022-06-26T12:05:31.433Z"
   },
   {
    "duration": 160,
    "start_time": "2022-06-26T12:05:31.440Z"
   },
   {
    "duration": 4004,
    "start_time": "2022-06-26T12:05:31.602Z"
   },
   {
    "duration": 96,
    "start_time": "2022-06-26T12:05:35.609Z"
   },
   {
    "duration": 45698,
    "start_time": "2022-06-26T12:05:35.707Z"
   },
   {
    "duration": 4,
    "start_time": "2022-06-26T12:06:21.407Z"
   },
   {
    "duration": 81,
    "start_time": "2022-06-26T12:06:21.413Z"
   },
   {
    "duration": 15,
    "start_time": "2022-06-26T12:06:21.496Z"
   },
   {
    "duration": 85,
    "start_time": "2022-06-26T12:08:51.122Z"
   },
   {
    "duration": 147929,
    "start_time": "2022-06-26T12:10:58.679Z"
   },
   {
    "duration": 101,
    "start_time": "2022-06-26T12:13:32.310Z"
   },
   {
    "duration": 136061,
    "start_time": "2022-06-26T12:13:47.054Z"
   },
   {
    "duration": 7,
    "start_time": "2022-06-26T12:17:15.821Z"
   },
   {
    "duration": 7,
    "start_time": "2022-06-26T12:17:29.222Z"
   },
   {
    "duration": 33,
    "start_time": "2022-06-26T12:17:53.182Z"
   },
   {
    "duration": 7228,
    "start_time": "2022-06-26T12:18:31.480Z"
   },
   {
    "duration": 43,
    "start_time": "2022-06-26T12:18:57.650Z"
   },
   {
    "duration": 1226,
    "start_time": "2022-06-26T12:20:23.677Z"
   },
   {
    "duration": 107,
    "start_time": "2022-06-26T12:25:39.922Z"
   },
   {
    "duration": 1320,
    "start_time": "2022-06-26T12:26:38.380Z"
   },
   {
    "duration": 226,
    "start_time": "2022-06-26T12:26:47.795Z"
   },
   {
    "duration": 10,
    "start_time": "2022-06-26T12:28:40.358Z"
   },
   {
    "duration": 196,
    "start_time": "2022-06-26T12:29:59.809Z"
   },
   {
    "duration": 321,
    "start_time": "2022-06-26T12:30:38.101Z"
   },
   {
    "duration": 251,
    "start_time": "2022-06-26T12:30:54.095Z"
   },
   {
    "duration": 32,
    "start_time": "2022-06-26T12:32:07.984Z"
   },
   {
    "duration": 212,
    "start_time": "2022-06-26T12:33:10.003Z"
   },
   {
    "duration": 231,
    "start_time": "2022-06-26T12:34:23.974Z"
   },
   {
    "duration": 235,
    "start_time": "2022-06-26T12:34:48.624Z"
   },
   {
    "duration": 12,
    "start_time": "2022-06-26T12:35:26.945Z"
   },
   {
    "duration": 258,
    "start_time": "2022-06-26T12:35:40.544Z"
   },
   {
    "duration": 4,
    "start_time": "2022-06-26T12:36:30.931Z"
   },
   {
    "duration": 233,
    "start_time": "2022-06-26T12:36:37.907Z"
   },
   {
    "duration": 233,
    "start_time": "2022-06-26T12:39:14.305Z"
   },
   {
    "duration": 13,
    "start_time": "2022-06-26T12:45:03.574Z"
   },
   {
    "duration": 247,
    "start_time": "2022-06-26T12:45:14.487Z"
   },
   {
    "duration": 1385,
    "start_time": "2022-06-26T12:48:37.307Z"
   },
   {
    "duration": 71,
    "start_time": "2022-06-26T12:48:38.693Z"
   },
   {
    "duration": 10,
    "start_time": "2022-06-26T12:48:38.766Z"
   },
   {
    "duration": 779,
    "start_time": "2022-06-26T12:48:38.778Z"
   },
   {
    "duration": 635,
    "start_time": "2022-06-26T12:48:39.559Z"
   },
   {
    "duration": 824,
    "start_time": "2022-06-26T12:48:40.196Z"
   },
   {
    "duration": 672,
    "start_time": "2022-06-26T12:48:41.022Z"
   },
   {
    "duration": 179,
    "start_time": "2022-06-26T12:48:41.696Z"
   },
   {
    "duration": 21,
    "start_time": "2022-06-26T12:48:41.877Z"
   },
   {
    "duration": 5,
    "start_time": "2022-06-26T12:48:41.899Z"
   },
   {
    "duration": 23,
    "start_time": "2022-06-26T12:48:41.906Z"
   },
   {
    "duration": 36,
    "start_time": "2022-06-26T12:48:41.931Z"
   },
   {
    "duration": 50,
    "start_time": "2022-06-26T12:48:41.969Z"
   },
   {
    "duration": 6,
    "start_time": "2022-06-26T12:48:42.021Z"
   },
   {
    "duration": 167,
    "start_time": "2022-06-26T12:48:42.028Z"
   },
   {
    "duration": 1305,
    "start_time": "2022-06-26T12:48:42.198Z"
   },
   {
    "duration": 96,
    "start_time": "2022-06-26T12:48:43.505Z"
   },
   {
    "duration": 2093,
    "start_time": "2022-06-26T12:48:43.603Z"
   },
   {
    "duration": 4,
    "start_time": "2022-06-26T12:48:45.698Z"
   },
   {
    "duration": 91,
    "start_time": "2022-06-26T12:48:45.704Z"
   },
   {
    "duration": 3910,
    "start_time": "2022-06-26T12:48:45.797Z"
   },
   {
    "duration": 187,
    "start_time": "2022-06-26T12:48:49.708Z"
   },
   {
    "duration": 1209,
    "start_time": "2022-06-26T12:48:49.897Z"
   },
   {
    "duration": 325,
    "start_time": "2022-06-26T12:48:51.108Z"
   },
   {
    "duration": 58,
    "start_time": "2022-06-26T12:50:39.139Z"
   },
   {
    "duration": 1354,
    "start_time": "2022-06-26T12:52:03.741Z"
   },
   {
    "duration": 62,
    "start_time": "2022-06-26T12:52:05.097Z"
   },
   {
    "duration": 10,
    "start_time": "2022-06-26T12:52:05.161Z"
   },
   {
    "duration": 732,
    "start_time": "2022-06-26T12:52:05.173Z"
   },
   {
    "duration": 650,
    "start_time": "2022-06-26T12:52:05.907Z"
   },
   {
    "duration": 722,
    "start_time": "2022-06-26T12:52:06.559Z"
   },
   {
    "duration": 662,
    "start_time": "2022-06-26T12:52:07.283Z"
   },
   {
    "duration": 207,
    "start_time": "2022-06-26T12:52:07.947Z"
   },
   {
    "duration": 11,
    "start_time": "2022-06-26T12:52:08.156Z"
   },
   {
    "duration": 4,
    "start_time": "2022-06-26T12:52:08.169Z"
   },
   {
    "duration": 40,
    "start_time": "2022-06-26T12:52:08.175Z"
   },
   {
    "duration": 38,
    "start_time": "2022-06-26T12:52:08.217Z"
   },
   {
    "duration": 56,
    "start_time": "2022-06-26T12:52:08.257Z"
   },
   {
    "duration": 5,
    "start_time": "2022-06-26T12:52:08.317Z"
   },
   {
    "duration": 177,
    "start_time": "2022-06-26T12:52:08.323Z"
   },
   {
    "duration": 1500,
    "start_time": "2022-06-26T12:52:08.502Z"
   },
   {
    "duration": 93,
    "start_time": "2022-06-26T12:52:10.004Z"
   },
   {
    "duration": 2000,
    "start_time": "2022-06-26T12:52:10.099Z"
   },
   {
    "duration": 4,
    "start_time": "2022-06-26T12:52:12.100Z"
   },
   {
    "duration": 94,
    "start_time": "2022-06-26T12:52:12.106Z"
   },
   {
    "duration": 3699,
    "start_time": "2022-06-26T12:52:12.202Z"
   },
   {
    "duration": 104,
    "start_time": "2022-06-26T12:52:15.903Z"
   },
   {
    "duration": 1286,
    "start_time": "2022-06-26T12:52:16.009Z"
   },
   {
    "duration": 269,
    "start_time": "2022-06-26T12:52:17.297Z"
   },
   {
    "duration": 1335,
    "start_time": "2022-06-26T12:52:54.850Z"
   },
   {
    "duration": 62,
    "start_time": "2022-06-26T12:52:56.187Z"
   },
   {
    "duration": 11,
    "start_time": "2022-06-26T12:52:56.251Z"
   },
   {
    "duration": 678,
    "start_time": "2022-06-26T12:52:56.263Z"
   },
   {
    "duration": 661,
    "start_time": "2022-06-26T12:52:56.943Z"
   },
   {
    "duration": 798,
    "start_time": "2022-06-26T12:52:57.606Z"
   },
   {
    "duration": 789,
    "start_time": "2022-06-26T12:52:58.405Z"
   },
   {
    "duration": 189,
    "start_time": "2022-06-26T12:52:59.196Z"
   },
   {
    "duration": 13,
    "start_time": "2022-06-26T12:52:59.387Z"
   },
   {
    "duration": 4,
    "start_time": "2022-06-26T12:52:59.401Z"
   },
   {
    "duration": 22,
    "start_time": "2022-06-26T12:52:59.407Z"
   },
   {
    "duration": 35,
    "start_time": "2022-06-26T12:52:59.431Z"
   },
   {
    "duration": 54,
    "start_time": "2022-06-26T12:52:59.468Z"
   },
   {
    "duration": 5,
    "start_time": "2022-06-26T12:52:59.525Z"
   },
   {
    "duration": 168,
    "start_time": "2022-06-26T12:52:59.531Z"
   },
   {
    "duration": 1494,
    "start_time": "2022-06-26T12:52:59.701Z"
   },
   {
    "duration": 18,
    "start_time": "2022-06-26T12:53:01.197Z"
   },
   {
    "duration": 2808,
    "start_time": "2022-06-26T12:53:01.295Z"
   },
   {
    "duration": 4,
    "start_time": "2022-06-26T12:53:04.105Z"
   },
   {
    "duration": 93,
    "start_time": "2022-06-26T12:53:04.111Z"
   },
   {
    "duration": 7002,
    "start_time": "2022-06-26T12:53:04.205Z"
   },
   {
    "duration": 98,
    "start_time": "2022-06-26T12:53:11.209Z"
   },
   {
    "duration": 1902,
    "start_time": "2022-06-26T12:53:11.308Z"
   },
   {
    "duration": 331,
    "start_time": "2022-06-26T12:53:13.212Z"
   },
   {
    "duration": 31,
    "start_time": "2022-06-26T12:57:48.404Z"
   },
   {
    "duration": 25,
    "start_time": "2022-06-26T12:58:01.212Z"
   },
   {
    "duration": 72,
    "start_time": "2022-06-26T12:58:10.180Z"
   },
   {
    "duration": 33,
    "start_time": "2022-06-26T12:59:08.128Z"
   },
   {
    "duration": 230,
    "start_time": "2022-06-26T13:00:55.722Z"
   },
   {
    "duration": 1443,
    "start_time": "2022-06-26T13:05:18.687Z"
   },
   {
    "duration": 66,
    "start_time": "2022-06-26T13:05:20.132Z"
   },
   {
    "duration": 13,
    "start_time": "2022-06-26T13:05:20.199Z"
   },
   {
    "duration": 711,
    "start_time": "2022-06-26T13:05:20.214Z"
   },
   {
    "duration": 638,
    "start_time": "2022-06-26T13:05:20.927Z"
   },
   {
    "duration": 780,
    "start_time": "2022-06-26T13:05:21.567Z"
   },
   {
    "duration": 674,
    "start_time": "2022-06-26T13:05:22.349Z"
   },
   {
    "duration": 185,
    "start_time": "2022-06-26T13:05:23.025Z"
   },
   {
    "duration": 12,
    "start_time": "2022-06-26T13:05:23.213Z"
   },
   {
    "duration": 9,
    "start_time": "2022-06-26T13:05:23.226Z"
   },
   {
    "duration": 29,
    "start_time": "2022-06-26T13:05:23.237Z"
   },
   {
    "duration": 44,
    "start_time": "2022-06-26T13:05:23.267Z"
   },
   {
    "duration": 31,
    "start_time": "2022-06-26T13:05:23.312Z"
   },
   {
    "duration": 5,
    "start_time": "2022-06-26T13:05:23.346Z"
   },
   {
    "duration": 243,
    "start_time": "2022-06-26T13:05:23.352Z"
   },
   {
    "duration": 1406,
    "start_time": "2022-06-26T13:05:23.597Z"
   },
   {
    "duration": 99,
    "start_time": "2022-06-26T13:05:25.004Z"
   },
   {
    "duration": 2099,
    "start_time": "2022-06-26T13:05:25.105Z"
   },
   {
    "duration": 4,
    "start_time": "2022-06-26T13:05:27.206Z"
   },
   {
    "duration": 188,
    "start_time": "2022-06-26T13:05:27.211Z"
   },
   {
    "duration": 3614,
    "start_time": "2022-06-26T13:05:27.401Z"
   },
   {
    "duration": 102,
    "start_time": "2022-06-26T13:05:31.094Z"
   },
   {
    "duration": 1506,
    "start_time": "2022-06-26T13:05:31.198Z"
   },
   {
    "duration": 326,
    "start_time": "2022-06-26T13:05:32.706Z"
   },
   {
    "duration": 1380,
    "start_time": "2022-06-26T13:23:32.121Z"
   },
   {
    "duration": 59,
    "start_time": "2022-06-26T13:23:33.503Z"
   },
   {
    "duration": 17,
    "start_time": "2022-06-26T13:23:33.563Z"
   },
   {
    "duration": 731,
    "start_time": "2022-06-26T13:23:33.582Z"
   },
   {
    "duration": 682,
    "start_time": "2022-06-26T13:23:34.316Z"
   },
   {
    "duration": 824,
    "start_time": "2022-06-26T13:23:34.999Z"
   },
   {
    "duration": 703,
    "start_time": "2022-06-26T13:23:35.825Z"
   },
   {
    "duration": 194,
    "start_time": "2022-06-26T13:23:36.530Z"
   },
   {
    "duration": 9,
    "start_time": "2022-06-26T13:23:36.726Z"
   },
   {
    "duration": 6,
    "start_time": "2022-06-26T13:23:36.737Z"
   },
   {
    "duration": 23,
    "start_time": "2022-06-26T13:23:36.744Z"
   },
   {
    "duration": 59,
    "start_time": "2022-06-26T13:23:36.769Z"
   },
   {
    "duration": 33,
    "start_time": "2022-06-26T13:23:36.829Z"
   },
   {
    "duration": 5,
    "start_time": "2022-06-26T13:23:36.864Z"
   },
   {
    "duration": 231,
    "start_time": "2022-06-26T13:23:36.871Z"
   },
   {
    "duration": 207002,
    "start_time": "2022-06-26T13:23:37.105Z"
   },
   {
    "duration": 190,
    "start_time": "2022-06-26T13:27:04.109Z"
   },
   {
    "duration": 168596,
    "start_time": "2022-06-26T13:27:04.301Z"
   },
   {
    "duration": 4,
    "start_time": "2022-06-26T13:29:52.899Z"
   },
   {
    "duration": 114,
    "start_time": "2022-06-26T13:29:52.905Z"
   },
   {
    "duration": 585980,
    "start_time": "2022-06-26T13:29:53.021Z"
   },
   {
    "duration": 191,
    "start_time": "2022-06-26T13:39:39.003Z"
   },
   {
    "duration": 232901,
    "start_time": "2022-06-26T13:39:39.197Z"
   },
   {
    "duration": 261,
    "start_time": "2022-06-26T13:43:32.100Z"
   },
   {
    "duration": 72,
    "start_time": "2022-06-27T07:59:18.920Z"
   },
   {
    "duration": 1915,
    "start_time": "2022-06-27T08:00:02.323Z"
   },
   {
    "duration": 4,
    "start_time": "2022-06-27T08:00:19.065Z"
   },
   {
    "duration": 3,
    "start_time": "2022-06-27T08:04:29.385Z"
   },
   {
    "duration": 114,
    "start_time": "2022-06-27T08:04:42.594Z"
   },
   {
    "duration": 1445,
    "start_time": "2022-06-27T08:26:53.630Z"
   },
   {
    "duration": 112,
    "start_time": "2022-06-27T08:26:55.077Z"
   },
   {
    "duration": 17,
    "start_time": "2022-06-27T08:26:55.191Z"
   },
   {
    "duration": 724,
    "start_time": "2022-06-27T08:26:55.210Z"
   },
   {
    "duration": 678,
    "start_time": "2022-06-27T08:26:55.938Z"
   },
   {
    "duration": 838,
    "start_time": "2022-06-27T08:26:56.626Z"
   },
   {
    "duration": 704,
    "start_time": "2022-06-27T08:26:57.465Z"
   },
   {
    "duration": 185,
    "start_time": "2022-06-27T08:26:58.171Z"
   },
   {
    "duration": 9,
    "start_time": "2022-06-27T08:26:58.357Z"
   },
   {
    "duration": 5,
    "start_time": "2022-06-27T08:26:58.367Z"
   },
   {
    "duration": 24,
    "start_time": "2022-06-27T08:26:58.374Z"
   },
   {
    "duration": 54,
    "start_time": "2022-06-27T08:26:58.399Z"
   },
   {
    "duration": 2,
    "start_time": "2022-06-27T08:26:58.455Z"
   },
   {
    "duration": 44,
    "start_time": "2022-06-27T08:26:58.460Z"
   },
   {
    "duration": 47,
    "start_time": "2022-06-27T08:26:58.505Z"
   },
   {
    "duration": 5,
    "start_time": "2022-06-27T08:26:58.553Z"
   },
   {
    "duration": 5,
    "start_time": "2022-06-27T08:26:58.560Z"
   },
   {
    "duration": 176,
    "start_time": "2022-06-27T08:26:58.566Z"
   },
   {
    "duration": 20911,
    "start_time": "2022-06-27T08:26:58.744Z"
   },
   {
    "duration": 114,
    "start_time": "2022-06-27T08:27:19.723Z"
   },
   {
    "duration": 8904,
    "start_time": "2022-06-27T08:27:19.839Z"
   },
   {
    "duration": 4,
    "start_time": "2022-06-27T08:27:28.745Z"
   },
   {
    "duration": 196,
    "start_time": "2022-06-27T08:27:28.750Z"
   },
   {
    "duration": 39477,
    "start_time": "2022-06-27T08:27:28.948Z"
   },
   {
    "duration": 120,
    "start_time": "2022-06-27T08:28:08.426Z"
   },
   {
    "duration": 4,
    "start_time": "2022-06-27T08:28:08.547Z"
   },
   {
    "duration": 181,
    "start_time": "2022-06-27T08:28:08.553Z"
   },
   {
    "duration": 0,
    "start_time": "2022-06-27T08:28:08.737Z"
   },
   {
    "duration": 0,
    "start_time": "2022-06-27T08:28:08.738Z"
   },
   {
    "duration": 1500,
    "start_time": "2022-06-27T08:30:38.689Z"
   },
   {
    "duration": 65,
    "start_time": "2022-06-27T08:30:40.192Z"
   },
   {
    "duration": 17,
    "start_time": "2022-06-27T08:30:40.260Z"
   },
   {
    "duration": 728,
    "start_time": "2022-06-27T08:30:40.279Z"
   },
   {
    "duration": 684,
    "start_time": "2022-06-27T08:30:41.009Z"
   },
   {
    "duration": 899,
    "start_time": "2022-06-27T08:30:41.695Z"
   },
   {
    "duration": 786,
    "start_time": "2022-06-27T08:30:42.596Z"
   },
   {
    "duration": 196,
    "start_time": "2022-06-27T08:30:43.384Z"
   },
   {
    "duration": 9,
    "start_time": "2022-06-27T08:30:43.581Z"
   },
   {
    "duration": 29,
    "start_time": "2022-06-27T08:30:43.592Z"
   },
   {
    "duration": 52,
    "start_time": "2022-06-27T08:30:43.623Z"
   },
   {
    "duration": 8,
    "start_time": "2022-06-27T08:30:43.677Z"
   },
   {
    "duration": 30,
    "start_time": "2022-06-27T08:30:43.687Z"
   },
   {
    "duration": 30,
    "start_time": "2022-06-27T08:30:43.719Z"
   },
   {
    "duration": 30,
    "start_time": "2022-06-27T08:30:43.751Z"
   },
   {
    "duration": 14,
    "start_time": "2022-06-27T08:30:43.783Z"
   },
   {
    "duration": 37,
    "start_time": "2022-06-27T08:30:43.799Z"
   },
   {
    "duration": 209,
    "start_time": "2022-06-27T08:30:43.838Z"
   },
   {
    "duration": 0,
    "start_time": "2022-06-27T08:30:44.049Z"
   },
   {
    "duration": 0,
    "start_time": "2022-06-27T08:30:44.050Z"
   },
   {
    "duration": 0,
    "start_time": "2022-06-27T08:30:44.052Z"
   },
   {
    "duration": 0,
    "start_time": "2022-06-27T08:30:44.053Z"
   },
   {
    "duration": 0,
    "start_time": "2022-06-27T08:30:44.055Z"
   },
   {
    "duration": 0,
    "start_time": "2022-06-27T08:30:44.056Z"
   },
   {
    "duration": 1442,
    "start_time": "2022-06-27T08:31:29.621Z"
   },
   {
    "duration": 56,
    "start_time": "2022-06-27T08:31:31.065Z"
   },
   {
    "duration": 28,
    "start_time": "2022-06-27T08:31:31.122Z"
   },
   {
    "duration": 754,
    "start_time": "2022-06-27T08:31:31.153Z"
   },
   {
    "duration": 677,
    "start_time": "2022-06-27T08:31:31.909Z"
   },
   {
    "duration": 908,
    "start_time": "2022-06-27T08:31:32.587Z"
   },
   {
    "duration": 697,
    "start_time": "2022-06-27T08:31:33.497Z"
   },
   {
    "duration": 207,
    "start_time": "2022-06-27T08:31:34.195Z"
   },
   {
    "duration": 20,
    "start_time": "2022-06-27T08:31:34.404Z"
   },
   {
    "duration": 9,
    "start_time": "2022-06-27T08:31:34.427Z"
   },
   {
    "duration": 26,
    "start_time": "2022-06-27T08:31:34.437Z"
   },
   {
    "duration": 9,
    "start_time": "2022-06-27T08:31:34.465Z"
   },
   {
    "duration": 37,
    "start_time": "2022-06-27T08:31:34.475Z"
   },
   {
    "duration": 17,
    "start_time": "2022-06-27T08:31:34.525Z"
   },
   {
    "duration": 10,
    "start_time": "2022-06-27T08:31:34.543Z"
   },
   {
    "duration": 8,
    "start_time": "2022-06-27T08:31:34.554Z"
   },
   {
    "duration": 6,
    "start_time": "2022-06-27T08:31:34.564Z"
   },
   {
    "duration": 192,
    "start_time": "2022-06-27T08:31:34.571Z"
   },
   {
    "duration": 0,
    "start_time": "2022-06-27T08:31:34.765Z"
   },
   {
    "duration": 0,
    "start_time": "2022-06-27T08:31:34.766Z"
   },
   {
    "duration": 0,
    "start_time": "2022-06-27T08:31:34.767Z"
   },
   {
    "duration": 0,
    "start_time": "2022-06-27T08:31:34.768Z"
   },
   {
    "duration": 0,
    "start_time": "2022-06-27T08:31:34.769Z"
   },
   {
    "duration": 0,
    "start_time": "2022-06-27T08:31:34.770Z"
   },
   {
    "duration": 1391,
    "start_time": "2022-06-27T08:33:10.910Z"
   },
   {
    "duration": 60,
    "start_time": "2022-06-27T08:33:12.303Z"
   },
   {
    "duration": 19,
    "start_time": "2022-06-27T08:33:12.364Z"
   },
   {
    "duration": 793,
    "start_time": "2022-06-27T08:33:12.386Z"
   },
   {
    "duration": 653,
    "start_time": "2022-06-27T08:33:13.181Z"
   },
   {
    "duration": 829,
    "start_time": "2022-06-27T08:33:13.838Z"
   },
   {
    "duration": 694,
    "start_time": "2022-06-27T08:33:14.669Z"
   },
   {
    "duration": 206,
    "start_time": "2022-06-27T08:33:15.364Z"
   },
   {
    "duration": 9,
    "start_time": "2022-06-27T08:33:15.572Z"
   },
   {
    "duration": 4,
    "start_time": "2022-06-27T08:33:15.583Z"
   },
   {
    "duration": 41,
    "start_time": "2022-06-27T08:33:15.588Z"
   },
   {
    "duration": 13,
    "start_time": "2022-06-27T08:33:15.631Z"
   },
   {
    "duration": 36,
    "start_time": "2022-06-27T08:33:15.645Z"
   },
   {
    "duration": 59,
    "start_time": "2022-06-27T08:33:15.682Z"
   },
   {
    "duration": 32,
    "start_time": "2022-06-27T08:33:15.743Z"
   },
   {
    "duration": 5,
    "start_time": "2022-06-27T08:33:15.776Z"
   },
   {
    "duration": 5,
    "start_time": "2022-06-27T08:33:15.783Z"
   },
   {
    "duration": 160,
    "start_time": "2022-06-27T08:33:15.789Z"
   },
   {
    "duration": 34280,
    "start_time": "2022-06-27T08:33:15.952Z"
   },
   {
    "duration": 109,
    "start_time": "2022-06-27T08:33:50.243Z"
   },
   {
    "duration": 76,
    "start_time": "2022-06-27T08:33:50.354Z"
   },
   {
    "duration": 124,
    "start_time": "2022-06-27T08:33:50.432Z"
   },
   {
    "duration": 0,
    "start_time": "2022-06-27T08:33:50.557Z"
   },
   {
    "duration": 0,
    "start_time": "2022-06-27T08:33:50.559Z"
   },
   {
    "duration": 7263,
    "start_time": "2022-06-27T08:34:48.582Z"
   },
   {
    "duration": 234812,
    "start_time": "2022-06-27T08:37:11.243Z"
   },
   {
    "duration": 1386,
    "start_time": "2022-06-27T08:41:19.893Z"
   },
   {
    "duration": 56,
    "start_time": "2022-06-27T08:41:21.281Z"
   },
   {
    "duration": 16,
    "start_time": "2022-06-27T08:41:21.339Z"
   },
   {
    "duration": 710,
    "start_time": "2022-06-27T08:41:21.357Z"
   },
   {
    "duration": 679,
    "start_time": "2022-06-27T08:41:22.069Z"
   },
   {
    "duration": 829,
    "start_time": "2022-06-27T08:41:22.750Z"
   },
   {
    "duration": 677,
    "start_time": "2022-06-27T08:41:23.581Z"
   },
   {
    "duration": 191,
    "start_time": "2022-06-27T08:41:24.259Z"
   },
   {
    "duration": 9,
    "start_time": "2022-06-27T08:41:24.451Z"
   },
   {
    "duration": 11,
    "start_time": "2022-06-27T08:41:24.462Z"
   },
   {
    "duration": 41,
    "start_time": "2022-06-27T08:41:24.474Z"
   },
   {
    "duration": 18,
    "start_time": "2022-06-27T08:41:24.516Z"
   },
   {
    "duration": 38,
    "start_time": "2022-06-27T08:41:24.535Z"
   },
   {
    "duration": 33,
    "start_time": "2022-06-27T08:41:24.575Z"
   },
   {
    "duration": 32,
    "start_time": "2022-06-27T08:41:24.609Z"
   },
   {
    "duration": 4,
    "start_time": "2022-06-27T08:41:24.643Z"
   },
   {
    "duration": 8,
    "start_time": "2022-06-27T08:41:24.649Z"
   },
   {
    "duration": 82,
    "start_time": "2022-06-27T08:41:24.658Z"
   },
   {
    "duration": 13303,
    "start_time": "2022-06-27T08:41:24.743Z"
   },
   {
    "duration": 184,
    "start_time": "2022-06-27T08:41:38.048Z"
   },
   {
    "duration": 6,
    "start_time": "2022-06-27T08:41:38.234Z"
   },
   {
    "duration": 1489033,
    "start_time": "2022-06-27T08:41:38.242Z"
   },
   {
    "duration": 0,
    "start_time": "2022-06-27T09:06:27.277Z"
   },
   {
    "duration": 0,
    "start_time": "2022-06-27T09:06:27.278Z"
   },
   {
    "duration": 4,
    "start_time": "2022-06-27T09:07:04.771Z"
   },
   {
    "duration": 50696,
    "start_time": "2022-06-27T09:11:00.737Z"
   },
   {
    "duration": 1384,
    "start_time": "2022-06-27T09:15:56.507Z"
   },
   {
    "duration": 64,
    "start_time": "2022-06-27T09:15:57.893Z"
   },
   {
    "duration": 17,
    "start_time": "2022-06-27T09:15:57.959Z"
   },
   {
    "duration": 712,
    "start_time": "2022-06-27T09:15:57.978Z"
   },
   {
    "duration": 648,
    "start_time": "2022-06-27T09:15:58.693Z"
   },
   {
    "duration": 843,
    "start_time": "2022-06-27T09:15:59.343Z"
   },
   {
    "duration": 688,
    "start_time": "2022-06-27T09:16:00.188Z"
   },
   {
    "duration": 197,
    "start_time": "2022-06-27T09:16:00.878Z"
   },
   {
    "duration": 8,
    "start_time": "2022-06-27T09:16:01.077Z"
   },
   {
    "duration": 9,
    "start_time": "2022-06-27T09:16:01.087Z"
   },
   {
    "duration": 46,
    "start_time": "2022-06-27T09:16:01.097Z"
   },
   {
    "duration": 26,
    "start_time": "2022-06-27T09:16:01.145Z"
   },
   {
    "duration": 60,
    "start_time": "2022-06-27T09:16:01.172Z"
   },
   {
    "duration": 39,
    "start_time": "2022-06-27T09:16:01.234Z"
   },
   {
    "duration": 32,
    "start_time": "2022-06-27T09:16:01.275Z"
   },
   {
    "duration": 10,
    "start_time": "2022-06-27T09:16:01.327Z"
   },
   {
    "duration": 25,
    "start_time": "2022-06-27T09:16:01.339Z"
   },
   {
    "duration": 162,
    "start_time": "2022-06-27T09:16:01.365Z"
   },
   {
    "duration": 15104,
    "start_time": "2022-06-27T09:16:01.529Z"
   },
   {
    "duration": 107,
    "start_time": "2022-06-27T09:16:16.638Z"
   },
   {
    "duration": 5,
    "start_time": "2022-06-27T09:16:16.747Z"
   },
   {
    "duration": 1547380,
    "start_time": "2022-06-27T09:16:16.754Z"
   },
   {
    "duration": 63610,
    "start_time": "2022-06-27T09:42:04.136Z"
   },
   {
    "duration": 322,
    "start_time": "2022-06-27T09:43:07.748Z"
   }
  ],
  "kernelspec": {
   "display_name": "Python 3 (ipykernel)",
   "language": "python",
   "name": "python3"
  },
  "language_info": {
   "codemirror_mode": {
    "name": "ipython",
    "version": 3
   },
   "file_extension": ".py",
   "mimetype": "text/x-python",
   "name": "python",
   "nbconvert_exporter": "python",
   "pygments_lexer": "ipython3",
   "version": "3.9.5"
  },
  "toc": {
   "base_numbering": 1,
   "nav_menu": {
    "height": "127px",
    "width": "188px"
   },
   "number_sections": true,
   "sideBar": true,
   "skip_h1_title": true,
   "title_cell": "Содержание",
   "title_sidebar": "Contents",
   "toc_cell": true,
   "toc_position": {
    "height": "calc(100% - 180px)",
    "left": "10px",
    "top": "150px",
    "width": "165px"
   },
   "toc_section_display": true,
   "toc_window_display": false
  }
 },
 "nbformat": 4,
 "nbformat_minor": 2
}
