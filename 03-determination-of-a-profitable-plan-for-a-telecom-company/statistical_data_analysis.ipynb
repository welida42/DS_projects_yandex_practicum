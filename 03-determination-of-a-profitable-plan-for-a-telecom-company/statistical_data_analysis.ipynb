{
 "cells": [
  {
   "cell_type": "markdown",
   "metadata": {},
   "source": [
    "# Содержание\n",
    "\n",
    "[1 Анализ и изучение общей информации](#1)\n",
    "\n",
    "- [1.1 Вывод](#11)\n",
    "\n",
    "[2 Предобработка данных](#2)\n",
    "\n",
    "- [2.1 Предобработка и замена типов данных](#21)\n",
    "\n",
    "- [2.2 Подсчет предоставленных услуг пользователям по месяцам](#22)\n",
    "\n",
    "- [2.3 Помесячная выручка с каждого пользователя](#23)\n",
    "\n",
    "- [2.4 Вывод](#24)\n",
    "\n",
    "[3 Анализ данных](#3)\n",
    "\n",
    "- [3.1 Вывод](#31)\n",
    "\n",
    "[4 Проверка гипотез](#4)\n",
    "\n",
    "- [4.1 Cредняя выручка пользователей тарифов «Ультра» и «Смарт» различаются](#41)\n",
    "\n",
    "- [4.2 Cредняя выручка пользователей из Москвы отличается от выручки пользователей из других регионов](#42)\n",
    "\n",
    "[5 Общий вывод](#5)\n"
   ]
  },
  {
   "cell_type": "markdown",
   "metadata": {},
   "source": [
    "# Определение перспективного тарифа для телеком-компании\n",
    "\n",
    "Cделать предварительный анализ тарифов «Смарт» и «Ультра» на небольшой выборке клиентов компании «Мегалайн» — федерального оператора сотовой связи. Предоставлены данные 500 пользователей «Мегалайна»: кто они, откуда, каким тарифом пользуются, сколько звонков и сообщений каждый отправил за 2018 год. Чтобы скорректировать рекламный бюджет и понять какой тариф приносит больше денег нужно проанализировать поведение клиентов и сделать вывод — какой тариф лучше."
   ]
  },
  {
   "cell_type": "markdown",
   "metadata": {},
   "source": [
    "<a id='1'></a>\n",
    "## Анализ и изучение общей информации"
   ]
  },
  {
   "cell_type": "code",
   "execution_count": 1,
   "metadata": {},
   "outputs": [],
   "source": [
    "import pandas as pd\n",
    "import numpy as np\n",
    "import seaborn as sb\n",
    "import matplotlib.pyplot as plt\n",
    "import math\n",
    "from scipy import stats as st\n",
    "\n",
    "df_calls = pd.read_csv(\"/datasets/calls.csv\")\n",
    "df_internet = pd.read_csv(\"/datasets/internet.csv\", index_col=0)\n",
    "df_messages = pd.read_csv(\"/datasets/messages.csv\")\n",
    "df_tariffs = pd.read_csv(\"/datasets/tariffs.csv\")\n",
    "df_users = pd.read_csv(\"/datasets/users.csv\")"
   ]
  },
  {
   "cell_type": "code",
   "execution_count": 2,
   "metadata": {
    "scrolled": false
   },
   "outputs": [
    {
     "data": {
      "text/html": [
       "<div>\n",
       "<style scoped>\n",
       "    .dataframe tbody tr th:only-of-type {\n",
       "        vertical-align: middle;\n",
       "    }\n",
       "\n",
       "    .dataframe tbody tr th {\n",
       "        vertical-align: top;\n",
       "    }\n",
       "\n",
       "    .dataframe thead th {\n",
       "        text-align: right;\n",
       "    }\n",
       "</style>\n",
       "<table border=\"1\" class=\"dataframe\">\n",
       "  <thead>\n",
       "    <tr style=\"text-align: right;\">\n",
       "      <th></th>\n",
       "      <th>user_id</th>\n",
       "      <th>age</th>\n",
       "      <th>churn_date</th>\n",
       "      <th>city</th>\n",
       "      <th>first_name</th>\n",
       "      <th>last_name</th>\n",
       "      <th>reg_date</th>\n",
       "      <th>tariff</th>\n",
       "    </tr>\n",
       "  </thead>\n",
       "  <tbody>\n",
       "    <tr>\n",
       "      <td>0</td>\n",
       "      <td>1000</td>\n",
       "      <td>52</td>\n",
       "      <td>NaN</td>\n",
       "      <td>Краснодар</td>\n",
       "      <td>Рафаил</td>\n",
       "      <td>Верещагин</td>\n",
       "      <td>2018-05-25</td>\n",
       "      <td>ultra</td>\n",
       "    </tr>\n",
       "    <tr>\n",
       "      <td>1</td>\n",
       "      <td>1001</td>\n",
       "      <td>41</td>\n",
       "      <td>NaN</td>\n",
       "      <td>Москва</td>\n",
       "      <td>Иван</td>\n",
       "      <td>Ежов</td>\n",
       "      <td>2018-11-01</td>\n",
       "      <td>smart</td>\n",
       "    </tr>\n",
       "    <tr>\n",
       "      <td>2</td>\n",
       "      <td>1002</td>\n",
       "      <td>59</td>\n",
       "      <td>NaN</td>\n",
       "      <td>Стерлитамак</td>\n",
       "      <td>Евгений</td>\n",
       "      <td>Абрамович</td>\n",
       "      <td>2018-06-17</td>\n",
       "      <td>smart</td>\n",
       "    </tr>\n",
       "    <tr>\n",
       "      <td>3</td>\n",
       "      <td>1003</td>\n",
       "      <td>23</td>\n",
       "      <td>NaN</td>\n",
       "      <td>Москва</td>\n",
       "      <td>Белла</td>\n",
       "      <td>Белякова</td>\n",
       "      <td>2018-08-17</td>\n",
       "      <td>ultra</td>\n",
       "    </tr>\n",
       "    <tr>\n",
       "      <td>4</td>\n",
       "      <td>1004</td>\n",
       "      <td>68</td>\n",
       "      <td>NaN</td>\n",
       "      <td>Новокузнецк</td>\n",
       "      <td>Татьяна</td>\n",
       "      <td>Авдеенко</td>\n",
       "      <td>2018-05-14</td>\n",
       "      <td>ultra</td>\n",
       "    </tr>\n",
       "  </tbody>\n",
       "</table>\n",
       "</div>"
      ],
      "text/plain": [
       "   user_id  age churn_date         city first_name  last_name    reg_date  \\\n",
       "0     1000   52        NaN    Краснодар     Рафаил  Верещагин  2018-05-25   \n",
       "1     1001   41        NaN       Москва       Иван       Ежов  2018-11-01   \n",
       "2     1002   59        NaN  Стерлитамак    Евгений  Абрамович  2018-06-17   \n",
       "3     1003   23        NaN       Москва      Белла   Белякова  2018-08-17   \n",
       "4     1004   68        NaN  Новокузнецк    Татьяна   Авдеенко  2018-05-14   \n",
       "\n",
       "  tariff  \n",
       "0  ultra  \n",
       "1  smart  \n",
       "2  smart  \n",
       "3  ultra  \n",
       "4  ultra  "
      ]
     },
     "metadata": {},
     "output_type": "display_data"
    },
    {
     "name": "stdout",
     "output_type": "stream",
     "text": [
      "<class 'pandas.core.frame.DataFrame'>\n",
      "RangeIndex: 500 entries, 0 to 499\n",
      "Data columns (total 8 columns):\n",
      "user_id       500 non-null int64\n",
      "age           500 non-null int64\n",
      "churn_date    38 non-null object\n",
      "city          500 non-null object\n",
      "first_name    500 non-null object\n",
      "last_name     500 non-null object\n",
      "reg_date      500 non-null object\n",
      "tariff        500 non-null object\n",
      "dtypes: int64(2), object(6)\n",
      "memory usage: 31.4+ KB\n"
     ]
    },
    {
     "data": {
      "text/plain": [
       "user_id         0\n",
       "age             0\n",
       "churn_date    462\n",
       "city            0\n",
       "first_name      0\n",
       "last_name       0\n",
       "reg_date        0\n",
       "tariff          0\n",
       "dtype: int64"
      ]
     },
     "metadata": {},
     "output_type": "display_data"
    },
    {
     "name": "stdout",
     "output_type": "stream",
     "text": [
      "duplicated 0\n"
     ]
    },
    {
     "data": {
      "text/html": [
       "<div>\n",
       "<style scoped>\n",
       "    .dataframe tbody tr th:only-of-type {\n",
       "        vertical-align: middle;\n",
       "    }\n",
       "\n",
       "    .dataframe tbody tr th {\n",
       "        vertical-align: top;\n",
       "    }\n",
       "\n",
       "    .dataframe thead th {\n",
       "        text-align: right;\n",
       "    }\n",
       "</style>\n",
       "<table border=\"1\" class=\"dataframe\">\n",
       "  <thead>\n",
       "    <tr style=\"text-align: right;\">\n",
       "      <th></th>\n",
       "      <th>user_id</th>\n",
       "      <th>age</th>\n",
       "    </tr>\n",
       "  </thead>\n",
       "  <tbody>\n",
       "    <tr>\n",
       "      <td>count</td>\n",
       "      <td>500.000000</td>\n",
       "      <td>500.00000</td>\n",
       "    </tr>\n",
       "    <tr>\n",
       "      <td>mean</td>\n",
       "      <td>1249.500000</td>\n",
       "      <td>46.58800</td>\n",
       "    </tr>\n",
       "    <tr>\n",
       "      <td>std</td>\n",
       "      <td>144.481833</td>\n",
       "      <td>16.66763</td>\n",
       "    </tr>\n",
       "    <tr>\n",
       "      <td>min</td>\n",
       "      <td>1000.000000</td>\n",
       "      <td>18.00000</td>\n",
       "    </tr>\n",
       "    <tr>\n",
       "      <td>25%</td>\n",
       "      <td>1124.750000</td>\n",
       "      <td>32.00000</td>\n",
       "    </tr>\n",
       "    <tr>\n",
       "      <td>50%</td>\n",
       "      <td>1249.500000</td>\n",
       "      <td>46.00000</td>\n",
       "    </tr>\n",
       "    <tr>\n",
       "      <td>75%</td>\n",
       "      <td>1374.250000</td>\n",
       "      <td>62.00000</td>\n",
       "    </tr>\n",
       "    <tr>\n",
       "      <td>max</td>\n",
       "      <td>1499.000000</td>\n",
       "      <td>75.00000</td>\n",
       "    </tr>\n",
       "  </tbody>\n",
       "</table>\n",
       "</div>"
      ],
      "text/plain": [
       "           user_id        age\n",
       "count   500.000000  500.00000\n",
       "mean   1249.500000   46.58800\n",
       "std     144.481833   16.66763\n",
       "min    1000.000000   18.00000\n",
       "25%    1124.750000   32.00000\n",
       "50%    1249.500000   46.00000\n",
       "75%    1374.250000   62.00000\n",
       "max    1499.000000   75.00000"
      ]
     },
     "metadata": {},
     "output_type": "display_data"
    },
    {
     "data": {
      "text/html": [
       "<div>\n",
       "<style scoped>\n",
       "    .dataframe tbody tr th:only-of-type {\n",
       "        vertical-align: middle;\n",
       "    }\n",
       "\n",
       "    .dataframe tbody tr th {\n",
       "        vertical-align: top;\n",
       "    }\n",
       "\n",
       "    .dataframe thead th {\n",
       "        text-align: right;\n",
       "    }\n",
       "</style>\n",
       "<table border=\"1\" class=\"dataframe\">\n",
       "  <thead>\n",
       "    <tr style=\"text-align: right;\">\n",
       "      <th></th>\n",
       "      <th>id</th>\n",
       "      <th>call_date</th>\n",
       "      <th>duration</th>\n",
       "      <th>user_id</th>\n",
       "    </tr>\n",
       "  </thead>\n",
       "  <tbody>\n",
       "    <tr>\n",
       "      <td>0</td>\n",
       "      <td>1000_0</td>\n",
       "      <td>2018-07-25</td>\n",
       "      <td>0.00</td>\n",
       "      <td>1000</td>\n",
       "    </tr>\n",
       "    <tr>\n",
       "      <td>1</td>\n",
       "      <td>1000_1</td>\n",
       "      <td>2018-08-17</td>\n",
       "      <td>0.00</td>\n",
       "      <td>1000</td>\n",
       "    </tr>\n",
       "    <tr>\n",
       "      <td>2</td>\n",
       "      <td>1000_2</td>\n",
       "      <td>2018-06-11</td>\n",
       "      <td>2.85</td>\n",
       "      <td>1000</td>\n",
       "    </tr>\n",
       "    <tr>\n",
       "      <td>3</td>\n",
       "      <td>1000_3</td>\n",
       "      <td>2018-09-21</td>\n",
       "      <td>13.80</td>\n",
       "      <td>1000</td>\n",
       "    </tr>\n",
       "    <tr>\n",
       "      <td>4</td>\n",
       "      <td>1000_4</td>\n",
       "      <td>2018-12-15</td>\n",
       "      <td>5.18</td>\n",
       "      <td>1000</td>\n",
       "    </tr>\n",
       "  </tbody>\n",
       "</table>\n",
       "</div>"
      ],
      "text/plain": [
       "       id   call_date  duration  user_id\n",
       "0  1000_0  2018-07-25      0.00     1000\n",
       "1  1000_1  2018-08-17      0.00     1000\n",
       "2  1000_2  2018-06-11      2.85     1000\n",
       "3  1000_3  2018-09-21     13.80     1000\n",
       "4  1000_4  2018-12-15      5.18     1000"
      ]
     },
     "metadata": {},
     "output_type": "display_data"
    },
    {
     "name": "stdout",
     "output_type": "stream",
     "text": [
      "<class 'pandas.core.frame.DataFrame'>\n",
      "RangeIndex: 202607 entries, 0 to 202606\n",
      "Data columns (total 4 columns):\n",
      "id           202607 non-null object\n",
      "call_date    202607 non-null object\n",
      "duration     202607 non-null float64\n",
      "user_id      202607 non-null int64\n",
      "dtypes: float64(1), int64(1), object(2)\n",
      "memory usage: 6.2+ MB\n"
     ]
    },
    {
     "data": {
      "text/plain": [
       "id           0\n",
       "call_date    0\n",
       "duration     0\n",
       "user_id      0\n",
       "dtype: int64"
      ]
     },
     "metadata": {},
     "output_type": "display_data"
    },
    {
     "name": "stdout",
     "output_type": "stream",
     "text": [
      "duplicated 0\n"
     ]
    },
    {
     "data": {
      "text/html": [
       "<div>\n",
       "<style scoped>\n",
       "    .dataframe tbody tr th:only-of-type {\n",
       "        vertical-align: middle;\n",
       "    }\n",
       "\n",
       "    .dataframe tbody tr th {\n",
       "        vertical-align: top;\n",
       "    }\n",
       "\n",
       "    .dataframe thead th {\n",
       "        text-align: right;\n",
       "    }\n",
       "</style>\n",
       "<table border=\"1\" class=\"dataframe\">\n",
       "  <thead>\n",
       "    <tr style=\"text-align: right;\">\n",
       "      <th></th>\n",
       "      <th>duration</th>\n",
       "      <th>user_id</th>\n",
       "    </tr>\n",
       "  </thead>\n",
       "  <tbody>\n",
       "    <tr>\n",
       "      <td>count</td>\n",
       "      <td>202607.000000</td>\n",
       "      <td>202607.000000</td>\n",
       "    </tr>\n",
       "    <tr>\n",
       "      <td>mean</td>\n",
       "      <td>6.755887</td>\n",
       "      <td>1253.940619</td>\n",
       "    </tr>\n",
       "    <tr>\n",
       "      <td>std</td>\n",
       "      <td>5.843365</td>\n",
       "      <td>144.722751</td>\n",
       "    </tr>\n",
       "    <tr>\n",
       "      <td>min</td>\n",
       "      <td>0.000000</td>\n",
       "      <td>1000.000000</td>\n",
       "    </tr>\n",
       "    <tr>\n",
       "      <td>25%</td>\n",
       "      <td>1.300000</td>\n",
       "      <td>1126.000000</td>\n",
       "    </tr>\n",
       "    <tr>\n",
       "      <td>50%</td>\n",
       "      <td>6.000000</td>\n",
       "      <td>1260.000000</td>\n",
       "    </tr>\n",
       "    <tr>\n",
       "      <td>75%</td>\n",
       "      <td>10.700000</td>\n",
       "      <td>1379.000000</td>\n",
       "    </tr>\n",
       "    <tr>\n",
       "      <td>max</td>\n",
       "      <td>38.000000</td>\n",
       "      <td>1499.000000</td>\n",
       "    </tr>\n",
       "  </tbody>\n",
       "</table>\n",
       "</div>"
      ],
      "text/plain": [
       "            duration        user_id\n",
       "count  202607.000000  202607.000000\n",
       "mean        6.755887    1253.940619\n",
       "std         5.843365     144.722751\n",
       "min         0.000000    1000.000000\n",
       "25%         1.300000    1126.000000\n",
       "50%         6.000000    1260.000000\n",
       "75%        10.700000    1379.000000\n",
       "max        38.000000    1499.000000"
      ]
     },
     "metadata": {},
     "output_type": "display_data"
    },
    {
     "data": {
      "text/html": [
       "<div>\n",
       "<style scoped>\n",
       "    .dataframe tbody tr th:only-of-type {\n",
       "        vertical-align: middle;\n",
       "    }\n",
       "\n",
       "    .dataframe tbody tr th {\n",
       "        vertical-align: top;\n",
       "    }\n",
       "\n",
       "    .dataframe thead th {\n",
       "        text-align: right;\n",
       "    }\n",
       "</style>\n",
       "<table border=\"1\" class=\"dataframe\">\n",
       "  <thead>\n",
       "    <tr style=\"text-align: right;\">\n",
       "      <th></th>\n",
       "      <th>id</th>\n",
       "      <th>message_date</th>\n",
       "      <th>user_id</th>\n",
       "    </tr>\n",
       "  </thead>\n",
       "  <tbody>\n",
       "    <tr>\n",
       "      <td>0</td>\n",
       "      <td>1000_0</td>\n",
       "      <td>2018-06-27</td>\n",
       "      <td>1000</td>\n",
       "    </tr>\n",
       "    <tr>\n",
       "      <td>1</td>\n",
       "      <td>1000_1</td>\n",
       "      <td>2018-10-08</td>\n",
       "      <td>1000</td>\n",
       "    </tr>\n",
       "    <tr>\n",
       "      <td>2</td>\n",
       "      <td>1000_2</td>\n",
       "      <td>2018-08-04</td>\n",
       "      <td>1000</td>\n",
       "    </tr>\n",
       "    <tr>\n",
       "      <td>3</td>\n",
       "      <td>1000_3</td>\n",
       "      <td>2018-06-16</td>\n",
       "      <td>1000</td>\n",
       "    </tr>\n",
       "    <tr>\n",
       "      <td>4</td>\n",
       "      <td>1000_4</td>\n",
       "      <td>2018-12-05</td>\n",
       "      <td>1000</td>\n",
       "    </tr>\n",
       "  </tbody>\n",
       "</table>\n",
       "</div>"
      ],
      "text/plain": [
       "       id message_date  user_id\n",
       "0  1000_0   2018-06-27     1000\n",
       "1  1000_1   2018-10-08     1000\n",
       "2  1000_2   2018-08-04     1000\n",
       "3  1000_3   2018-06-16     1000\n",
       "4  1000_4   2018-12-05     1000"
      ]
     },
     "metadata": {},
     "output_type": "display_data"
    },
    {
     "name": "stdout",
     "output_type": "stream",
     "text": [
      "<class 'pandas.core.frame.DataFrame'>\n",
      "RangeIndex: 123036 entries, 0 to 123035\n",
      "Data columns (total 3 columns):\n",
      "id              123036 non-null object\n",
      "message_date    123036 non-null object\n",
      "user_id         123036 non-null int64\n",
      "dtypes: int64(1), object(2)\n",
      "memory usage: 2.8+ MB\n"
     ]
    },
    {
     "data": {
      "text/plain": [
       "id              0\n",
       "message_date    0\n",
       "user_id         0\n",
       "dtype: int64"
      ]
     },
     "metadata": {},
     "output_type": "display_data"
    },
    {
     "name": "stdout",
     "output_type": "stream",
     "text": [
      "duplicated 0\n"
     ]
    },
    {
     "data": {
      "text/html": [
       "<div>\n",
       "<style scoped>\n",
       "    .dataframe tbody tr th:only-of-type {\n",
       "        vertical-align: middle;\n",
       "    }\n",
       "\n",
       "    .dataframe tbody tr th {\n",
       "        vertical-align: top;\n",
       "    }\n",
       "\n",
       "    .dataframe thead th {\n",
       "        text-align: right;\n",
       "    }\n",
       "</style>\n",
       "<table border=\"1\" class=\"dataframe\">\n",
       "  <thead>\n",
       "    <tr style=\"text-align: right;\">\n",
       "      <th></th>\n",
       "      <th>user_id</th>\n",
       "    </tr>\n",
       "  </thead>\n",
       "  <tbody>\n",
       "    <tr>\n",
       "      <td>count</td>\n",
       "      <td>123036.000000</td>\n",
       "    </tr>\n",
       "    <tr>\n",
       "      <td>mean</td>\n",
       "      <td>1256.989410</td>\n",
       "    </tr>\n",
       "    <tr>\n",
       "      <td>std</td>\n",
       "      <td>143.523967</td>\n",
       "    </tr>\n",
       "    <tr>\n",
       "      <td>min</td>\n",
       "      <td>1000.000000</td>\n",
       "    </tr>\n",
       "    <tr>\n",
       "      <td>25%</td>\n",
       "      <td>1134.000000</td>\n",
       "    </tr>\n",
       "    <tr>\n",
       "      <td>50%</td>\n",
       "      <td>1271.000000</td>\n",
       "    </tr>\n",
       "    <tr>\n",
       "      <td>75%</td>\n",
       "      <td>1381.000000</td>\n",
       "    </tr>\n",
       "    <tr>\n",
       "      <td>max</td>\n",
       "      <td>1499.000000</td>\n",
       "    </tr>\n",
       "  </tbody>\n",
       "</table>\n",
       "</div>"
      ],
      "text/plain": [
       "             user_id\n",
       "count  123036.000000\n",
       "mean     1256.989410\n",
       "std       143.523967\n",
       "min      1000.000000\n",
       "25%      1134.000000\n",
       "50%      1271.000000\n",
       "75%      1381.000000\n",
       "max      1499.000000"
      ]
     },
     "metadata": {},
     "output_type": "display_data"
    },
    {
     "data": {
      "text/html": [
       "<div>\n",
       "<style scoped>\n",
       "    .dataframe tbody tr th:only-of-type {\n",
       "        vertical-align: middle;\n",
       "    }\n",
       "\n",
       "    .dataframe tbody tr th {\n",
       "        vertical-align: top;\n",
       "    }\n",
       "\n",
       "    .dataframe thead th {\n",
       "        text-align: right;\n",
       "    }\n",
       "</style>\n",
       "<table border=\"1\" class=\"dataframe\">\n",
       "  <thead>\n",
       "    <tr style=\"text-align: right;\">\n",
       "      <th></th>\n",
       "      <th>id</th>\n",
       "      <th>mb_used</th>\n",
       "      <th>session_date</th>\n",
       "      <th>user_id</th>\n",
       "    </tr>\n",
       "  </thead>\n",
       "  <tbody>\n",
       "    <tr>\n",
       "      <td>0</td>\n",
       "      <td>1000_0</td>\n",
       "      <td>112.95</td>\n",
       "      <td>2018-11-25</td>\n",
       "      <td>1000</td>\n",
       "    </tr>\n",
       "    <tr>\n",
       "      <td>1</td>\n",
       "      <td>1000_1</td>\n",
       "      <td>1052.81</td>\n",
       "      <td>2018-09-07</td>\n",
       "      <td>1000</td>\n",
       "    </tr>\n",
       "    <tr>\n",
       "      <td>2</td>\n",
       "      <td>1000_2</td>\n",
       "      <td>1197.26</td>\n",
       "      <td>2018-06-25</td>\n",
       "      <td>1000</td>\n",
       "    </tr>\n",
       "    <tr>\n",
       "      <td>3</td>\n",
       "      <td>1000_3</td>\n",
       "      <td>550.27</td>\n",
       "      <td>2018-08-22</td>\n",
       "      <td>1000</td>\n",
       "    </tr>\n",
       "    <tr>\n",
       "      <td>4</td>\n",
       "      <td>1000_4</td>\n",
       "      <td>302.56</td>\n",
       "      <td>2018-09-24</td>\n",
       "      <td>1000</td>\n",
       "    </tr>\n",
       "  </tbody>\n",
       "</table>\n",
       "</div>"
      ],
      "text/plain": [
       "       id  mb_used session_date  user_id\n",
       "0  1000_0   112.95   2018-11-25     1000\n",
       "1  1000_1  1052.81   2018-09-07     1000\n",
       "2  1000_2  1197.26   2018-06-25     1000\n",
       "3  1000_3   550.27   2018-08-22     1000\n",
       "4  1000_4   302.56   2018-09-24     1000"
      ]
     },
     "metadata": {},
     "output_type": "display_data"
    },
    {
     "name": "stdout",
     "output_type": "stream",
     "text": [
      "<class 'pandas.core.frame.DataFrame'>\n",
      "Int64Index: 149396 entries, 0 to 149395\n",
      "Data columns (total 4 columns):\n",
      "id              149396 non-null object\n",
      "mb_used         149396 non-null float64\n",
      "session_date    149396 non-null object\n",
      "user_id         149396 non-null int64\n",
      "dtypes: float64(1), int64(1), object(2)\n",
      "memory usage: 5.7+ MB\n"
     ]
    },
    {
     "data": {
      "text/plain": [
       "id              0\n",
       "mb_used         0\n",
       "session_date    0\n",
       "user_id         0\n",
       "dtype: int64"
      ]
     },
     "metadata": {},
     "output_type": "display_data"
    },
    {
     "name": "stdout",
     "output_type": "stream",
     "text": [
      "duplicated 0\n"
     ]
    },
    {
     "data": {
      "text/html": [
       "<div>\n",
       "<style scoped>\n",
       "    .dataframe tbody tr th:only-of-type {\n",
       "        vertical-align: middle;\n",
       "    }\n",
       "\n",
       "    .dataframe tbody tr th {\n",
       "        vertical-align: top;\n",
       "    }\n",
       "\n",
       "    .dataframe thead th {\n",
       "        text-align: right;\n",
       "    }\n",
       "</style>\n",
       "<table border=\"1\" class=\"dataframe\">\n",
       "  <thead>\n",
       "    <tr style=\"text-align: right;\">\n",
       "      <th></th>\n",
       "      <th>mb_used</th>\n",
       "      <th>user_id</th>\n",
       "    </tr>\n",
       "  </thead>\n",
       "  <tbody>\n",
       "    <tr>\n",
       "      <td>count</td>\n",
       "      <td>149396.000000</td>\n",
       "      <td>149396.000000</td>\n",
       "    </tr>\n",
       "    <tr>\n",
       "      <td>mean</td>\n",
       "      <td>370.192426</td>\n",
       "      <td>1252.099842</td>\n",
       "    </tr>\n",
       "    <tr>\n",
       "      <td>std</td>\n",
       "      <td>278.300951</td>\n",
       "      <td>144.050823</td>\n",
       "    </tr>\n",
       "    <tr>\n",
       "      <td>min</td>\n",
       "      <td>0.000000</td>\n",
       "      <td>1000.000000</td>\n",
       "    </tr>\n",
       "    <tr>\n",
       "      <td>25%</td>\n",
       "      <td>138.187500</td>\n",
       "      <td>1130.000000</td>\n",
       "    </tr>\n",
       "    <tr>\n",
       "      <td>50%</td>\n",
       "      <td>348.015000</td>\n",
       "      <td>1251.000000</td>\n",
       "    </tr>\n",
       "    <tr>\n",
       "      <td>75%</td>\n",
       "      <td>559.552500</td>\n",
       "      <td>1380.000000</td>\n",
       "    </tr>\n",
       "    <tr>\n",
       "      <td>max</td>\n",
       "      <td>1724.830000</td>\n",
       "      <td>1499.000000</td>\n",
       "    </tr>\n",
       "  </tbody>\n",
       "</table>\n",
       "</div>"
      ],
      "text/plain": [
       "             mb_used        user_id\n",
       "count  149396.000000  149396.000000\n",
       "mean      370.192426    1252.099842\n",
       "std       278.300951     144.050823\n",
       "min         0.000000    1000.000000\n",
       "25%       138.187500    1130.000000\n",
       "50%       348.015000    1251.000000\n",
       "75%       559.552500    1380.000000\n",
       "max      1724.830000    1499.000000"
      ]
     },
     "metadata": {},
     "output_type": "display_data"
    },
    {
     "data": {
      "text/html": [
       "<div>\n",
       "<style scoped>\n",
       "    .dataframe tbody tr th:only-of-type {\n",
       "        vertical-align: middle;\n",
       "    }\n",
       "\n",
       "    .dataframe tbody tr th {\n",
       "        vertical-align: top;\n",
       "    }\n",
       "\n",
       "    .dataframe thead th {\n",
       "        text-align: right;\n",
       "    }\n",
       "</style>\n",
       "<table border=\"1\" class=\"dataframe\">\n",
       "  <thead>\n",
       "    <tr style=\"text-align: right;\">\n",
       "      <th></th>\n",
       "      <th>messages_included</th>\n",
       "      <th>mb_per_month_included</th>\n",
       "      <th>minutes_included</th>\n",
       "      <th>rub_monthly_fee</th>\n",
       "      <th>rub_per_gb</th>\n",
       "      <th>rub_per_message</th>\n",
       "      <th>rub_per_minute</th>\n",
       "      <th>tariff_name</th>\n",
       "    </tr>\n",
       "  </thead>\n",
       "  <tbody>\n",
       "    <tr>\n",
       "      <td>0</td>\n",
       "      <td>50</td>\n",
       "      <td>15360</td>\n",
       "      <td>500</td>\n",
       "      <td>550</td>\n",
       "      <td>200</td>\n",
       "      <td>3</td>\n",
       "      <td>3</td>\n",
       "      <td>smart</td>\n",
       "    </tr>\n",
       "    <tr>\n",
       "      <td>1</td>\n",
       "      <td>1000</td>\n",
       "      <td>30720</td>\n",
       "      <td>3000</td>\n",
       "      <td>1950</td>\n",
       "      <td>150</td>\n",
       "      <td>1</td>\n",
       "      <td>1</td>\n",
       "      <td>ultra</td>\n",
       "    </tr>\n",
       "  </tbody>\n",
       "</table>\n",
       "</div>"
      ],
      "text/plain": [
       "   messages_included  mb_per_month_included  minutes_included  \\\n",
       "0                 50                  15360               500   \n",
       "1               1000                  30720              3000   \n",
       "\n",
       "   rub_monthly_fee  rub_per_gb  rub_per_message  rub_per_minute tariff_name  \n",
       "0              550         200                3               3       smart  \n",
       "1             1950         150                1               1       ultra  "
      ]
     },
     "metadata": {},
     "output_type": "display_data"
    },
    {
     "name": "stdout",
     "output_type": "stream",
     "text": [
      "<class 'pandas.core.frame.DataFrame'>\n",
      "RangeIndex: 2 entries, 0 to 1\n",
      "Data columns (total 8 columns):\n",
      "messages_included        2 non-null int64\n",
      "mb_per_month_included    2 non-null int64\n",
      "minutes_included         2 non-null int64\n",
      "rub_monthly_fee          2 non-null int64\n",
      "rub_per_gb               2 non-null int64\n",
      "rub_per_message          2 non-null int64\n",
      "rub_per_minute           2 non-null int64\n",
      "tariff_name              2 non-null object\n",
      "dtypes: int64(7), object(1)\n",
      "memory usage: 256.0+ bytes\n"
     ]
    },
    {
     "data": {
      "text/plain": [
       "messages_included        0\n",
       "mb_per_month_included    0\n",
       "minutes_included         0\n",
       "rub_monthly_fee          0\n",
       "rub_per_gb               0\n",
       "rub_per_message          0\n",
       "rub_per_minute           0\n",
       "tariff_name              0\n",
       "dtype: int64"
      ]
     },
     "metadata": {},
     "output_type": "display_data"
    },
    {
     "name": "stdout",
     "output_type": "stream",
     "text": [
      "duplicated 0\n"
     ]
    },
    {
     "data": {
      "text/html": [
       "<div>\n",
       "<style scoped>\n",
       "    .dataframe tbody tr th:only-of-type {\n",
       "        vertical-align: middle;\n",
       "    }\n",
       "\n",
       "    .dataframe tbody tr th {\n",
       "        vertical-align: top;\n",
       "    }\n",
       "\n",
       "    .dataframe thead th {\n",
       "        text-align: right;\n",
       "    }\n",
       "</style>\n",
       "<table border=\"1\" class=\"dataframe\">\n",
       "  <thead>\n",
       "    <tr style=\"text-align: right;\">\n",
       "      <th></th>\n",
       "      <th>messages_included</th>\n",
       "      <th>mb_per_month_included</th>\n",
       "      <th>minutes_included</th>\n",
       "      <th>rub_monthly_fee</th>\n",
       "      <th>rub_per_gb</th>\n",
       "      <th>rub_per_message</th>\n",
       "      <th>rub_per_minute</th>\n",
       "    </tr>\n",
       "  </thead>\n",
       "  <tbody>\n",
       "    <tr>\n",
       "      <td>count</td>\n",
       "      <td>2.000000</td>\n",
       "      <td>2.000000</td>\n",
       "      <td>2.000000</td>\n",
       "      <td>2.000000</td>\n",
       "      <td>2.000000</td>\n",
       "      <td>2.000000</td>\n",
       "      <td>2.000000</td>\n",
       "    </tr>\n",
       "    <tr>\n",
       "      <td>mean</td>\n",
       "      <td>525.000000</td>\n",
       "      <td>23040.000000</td>\n",
       "      <td>1750.000000</td>\n",
       "      <td>1250.000000</td>\n",
       "      <td>175.000000</td>\n",
       "      <td>2.000000</td>\n",
       "      <td>2.000000</td>\n",
       "    </tr>\n",
       "    <tr>\n",
       "      <td>std</td>\n",
       "      <td>671.751442</td>\n",
       "      <td>10861.160159</td>\n",
       "      <td>1767.766953</td>\n",
       "      <td>989.949494</td>\n",
       "      <td>35.355339</td>\n",
       "      <td>1.414214</td>\n",
       "      <td>1.414214</td>\n",
       "    </tr>\n",
       "    <tr>\n",
       "      <td>min</td>\n",
       "      <td>50.000000</td>\n",
       "      <td>15360.000000</td>\n",
       "      <td>500.000000</td>\n",
       "      <td>550.000000</td>\n",
       "      <td>150.000000</td>\n",
       "      <td>1.000000</td>\n",
       "      <td>1.000000</td>\n",
       "    </tr>\n",
       "    <tr>\n",
       "      <td>25%</td>\n",
       "      <td>287.500000</td>\n",
       "      <td>19200.000000</td>\n",
       "      <td>1125.000000</td>\n",
       "      <td>900.000000</td>\n",
       "      <td>162.500000</td>\n",
       "      <td>1.500000</td>\n",
       "      <td>1.500000</td>\n",
       "    </tr>\n",
       "    <tr>\n",
       "      <td>50%</td>\n",
       "      <td>525.000000</td>\n",
       "      <td>23040.000000</td>\n",
       "      <td>1750.000000</td>\n",
       "      <td>1250.000000</td>\n",
       "      <td>175.000000</td>\n",
       "      <td>2.000000</td>\n",
       "      <td>2.000000</td>\n",
       "    </tr>\n",
       "    <tr>\n",
       "      <td>75%</td>\n",
       "      <td>762.500000</td>\n",
       "      <td>26880.000000</td>\n",
       "      <td>2375.000000</td>\n",
       "      <td>1600.000000</td>\n",
       "      <td>187.500000</td>\n",
       "      <td>2.500000</td>\n",
       "      <td>2.500000</td>\n",
       "    </tr>\n",
       "    <tr>\n",
       "      <td>max</td>\n",
       "      <td>1000.000000</td>\n",
       "      <td>30720.000000</td>\n",
       "      <td>3000.000000</td>\n",
       "      <td>1950.000000</td>\n",
       "      <td>200.000000</td>\n",
       "      <td>3.000000</td>\n",
       "      <td>3.000000</td>\n",
       "    </tr>\n",
       "  </tbody>\n",
       "</table>\n",
       "</div>"
      ],
      "text/plain": [
       "       messages_included  mb_per_month_included  minutes_included  \\\n",
       "count           2.000000               2.000000          2.000000   \n",
       "mean          525.000000           23040.000000       1750.000000   \n",
       "std           671.751442           10861.160159       1767.766953   \n",
       "min            50.000000           15360.000000        500.000000   \n",
       "25%           287.500000           19200.000000       1125.000000   \n",
       "50%           525.000000           23040.000000       1750.000000   \n",
       "75%           762.500000           26880.000000       2375.000000   \n",
       "max          1000.000000           30720.000000       3000.000000   \n",
       "\n",
       "       rub_monthly_fee  rub_per_gb  rub_per_message  rub_per_minute  \n",
       "count         2.000000    2.000000         2.000000        2.000000  \n",
       "mean       1250.000000  175.000000         2.000000        2.000000  \n",
       "std         989.949494   35.355339         1.414214        1.414214  \n",
       "min         550.000000  150.000000         1.000000        1.000000  \n",
       "25%         900.000000  162.500000         1.500000        1.500000  \n",
       "50%        1250.000000  175.000000         2.000000        2.000000  \n",
       "75%        1600.000000  187.500000         2.500000        2.500000  \n",
       "max        1950.000000  200.000000         3.000000        3.000000  "
      ]
     },
     "metadata": {},
     "output_type": "display_data"
    }
   ],
   "source": [
    "df_list = [df_users, df_calls, df_messages, df_internet, df_tariffs]\n",
    "for i in df_list:\n",
    "  display(i.head())\n",
    "  i.info()\n",
    "  display(i.isna().sum())\n",
    "  print(\"duplicated\", i.duplicated().sum())\n",
    "  display(i.describe())"
   ]
  },
  {
   "cell_type": "markdown",
   "metadata": {},
   "source": [
    "<a id='11'></a>\n",
    "### Вывод\n",
    "В целом предоставленные данные хорошего качества, пропущенные значения имеются только в одной колонке churn_date, они логичны и замене не подлежат. Дупликатов не обнаружено. Лишним выглядет колонка 'Unnamed: 0' в таблице df_internet, которая дублирует индексацию. Так же стоит перевести некоторые колонки, характеризующие траффик определенного вида связи в целочисленный тип с округление в верхнюю сторону. В дальнейшем, для анализа потребуется объеденить данные в одну общую таблицу по уникальному значению user_id.\n"
   ]
  },
  {
   "cell_type": "markdown",
   "metadata": {},
   "source": [
    "<a id='2'></a>\n",
    "## Предобработка данных"
   ]
  },
  {
   "cell_type": "markdown",
   "metadata": {},
   "source": [
    "<a id='21'></a>\n",
    "###  Предобработка и замена типов данных"
   ]
  },
  {
   "cell_type": "markdown",
   "metadata": {},
   "source": [
    "Для каждой таблицы проведем намеченные в выводе предыдущего раздела обработку, а так же создадим для них столбцы с номером месяца\n",
    ", в рамках которого предоставлялись услуги."
   ]
  },
  {
   "cell_type": "code",
   "execution_count": 3,
   "metadata": {},
   "outputs": [
    {
     "data": {
      "text/plain": [
       "id                      object\n",
       "mb_used                float64\n",
       "session_date    datetime64[ns]\n",
       "user_id                  int64\n",
       "dtype: object"
      ]
     },
     "execution_count": 3,
     "metadata": {},
     "output_type": "execute_result"
    }
   ],
   "source": [
    "#df_internet = df_internet.drop('Unnamed: 0',axis=1)\n",
    "df_internet[\"session_date\"] = pd.to_datetime(df_internet[\"session_date\"])\n",
    "df_users[\"reg_date\"] = pd.to_datetime(df_users[\"reg_date\"])\n",
    "df_users[\"churn_date\"] = pd.to_datetime(df_users[\"churn_date\"])\n",
    "df_calls[\"call_date\"] = pd.to_datetime(df_calls[\"call_date\"])\n",
    "df_messages[\"message_date\"] = pd.to_datetime(df_messages[\"message_date\"])\n",
    "df_internet.dtypes"
   ]
  },
  {
   "cell_type": "code",
   "execution_count": 4,
   "metadata": {},
   "outputs": [
    {
     "data": {
      "text/html": [
       "<div>\n",
       "<style scoped>\n",
       "    .dataframe tbody tr th:only-of-type {\n",
       "        vertical-align: middle;\n",
       "    }\n",
       "\n",
       "    .dataframe tbody tr th {\n",
       "        vertical-align: top;\n",
       "    }\n",
       "\n",
       "    .dataframe thead th {\n",
       "        text-align: right;\n",
       "    }\n",
       "</style>\n",
       "<table border=\"1\" class=\"dataframe\">\n",
       "  <thead>\n",
       "    <tr style=\"text-align: right;\">\n",
       "      <th></th>\n",
       "      <th>id</th>\n",
       "      <th>call_date</th>\n",
       "      <th>duration</th>\n",
       "      <th>user_id</th>\n",
       "    </tr>\n",
       "  </thead>\n",
       "  <tbody>\n",
       "    <tr>\n",
       "      <td>0</td>\n",
       "      <td>1000_0</td>\n",
       "      <td>2018-07-25</td>\n",
       "      <td>0.00</td>\n",
       "      <td>1000</td>\n",
       "    </tr>\n",
       "    <tr>\n",
       "      <td>1</td>\n",
       "      <td>1000_1</td>\n",
       "      <td>2018-08-17</td>\n",
       "      <td>0.00</td>\n",
       "      <td>1000</td>\n",
       "    </tr>\n",
       "    <tr>\n",
       "      <td>2</td>\n",
       "      <td>1000_2</td>\n",
       "      <td>2018-06-11</td>\n",
       "      <td>2.85</td>\n",
       "      <td>1000</td>\n",
       "    </tr>\n",
       "    <tr>\n",
       "      <td>3</td>\n",
       "      <td>1000_3</td>\n",
       "      <td>2018-09-21</td>\n",
       "      <td>13.80</td>\n",
       "      <td>1000</td>\n",
       "    </tr>\n",
       "    <tr>\n",
       "      <td>4</td>\n",
       "      <td>1000_4</td>\n",
       "      <td>2018-12-15</td>\n",
       "      <td>5.18</td>\n",
       "      <td>1000</td>\n",
       "    </tr>\n",
       "    <tr>\n",
       "      <td>...</td>\n",
       "      <td>...</td>\n",
       "      <td>...</td>\n",
       "      <td>...</td>\n",
       "      <td>...</td>\n",
       "    </tr>\n",
       "    <tr>\n",
       "      <td>202602</td>\n",
       "      <td>1499_215</td>\n",
       "      <td>2018-12-26</td>\n",
       "      <td>0.76</td>\n",
       "      <td>1499</td>\n",
       "    </tr>\n",
       "    <tr>\n",
       "      <td>202603</td>\n",
       "      <td>1499_216</td>\n",
       "      <td>2018-10-18</td>\n",
       "      <td>18.83</td>\n",
       "      <td>1499</td>\n",
       "    </tr>\n",
       "    <tr>\n",
       "      <td>202604</td>\n",
       "      <td>1499_217</td>\n",
       "      <td>2018-11-10</td>\n",
       "      <td>10.81</td>\n",
       "      <td>1499</td>\n",
       "    </tr>\n",
       "    <tr>\n",
       "      <td>202605</td>\n",
       "      <td>1499_218</td>\n",
       "      <td>2018-10-06</td>\n",
       "      <td>4.27</td>\n",
       "      <td>1499</td>\n",
       "    </tr>\n",
       "    <tr>\n",
       "      <td>202606</td>\n",
       "      <td>1499_219</td>\n",
       "      <td>2018-12-14</td>\n",
       "      <td>19.62</td>\n",
       "      <td>1499</td>\n",
       "    </tr>\n",
       "  </tbody>\n",
       "</table>\n",
       "<p>202607 rows × 4 columns</p>\n",
       "</div>"
      ],
      "text/plain": [
       "              id  call_date  duration  user_id\n",
       "0         1000_0 2018-07-25      0.00     1000\n",
       "1         1000_1 2018-08-17      0.00     1000\n",
       "2         1000_2 2018-06-11      2.85     1000\n",
       "3         1000_3 2018-09-21     13.80     1000\n",
       "4         1000_4 2018-12-15      5.18     1000\n",
       "...          ...        ...       ...      ...\n",
       "202602  1499_215 2018-12-26      0.76     1499\n",
       "202603  1499_216 2018-10-18     18.83     1499\n",
       "202604  1499_217 2018-11-10     10.81     1499\n",
       "202605  1499_218 2018-10-06      4.27     1499\n",
       "202606  1499_219 2018-12-14     19.62     1499\n",
       "\n",
       "[202607 rows x 4 columns]"
      ]
     },
     "execution_count": 4,
     "metadata": {},
     "output_type": "execute_result"
    }
   ],
   "source": [
    "df_calls"
   ]
  },
  {
   "cell_type": "code",
   "execution_count": 5,
   "metadata": {},
   "outputs": [],
   "source": [
    "df_calls['duration']=df_calls['duration'].apply(math.ceil)\n",
    "df_messages['month']=df_messages['message_date'].astype('datetime64[M]').dt.month\n",
    "df_internet['month']=df_internet['session_date'].astype('datetime64[M]').dt.month\n",
    "df_calls[\"month\"] = df_calls['call_date'].astype('datetime64[M]').dt.month"
   ]
  },
  {
   "cell_type": "code",
   "execution_count": 6,
   "metadata": {},
   "outputs": [
    {
     "data": {
      "text/html": [
       "<div>\n",
       "<style scoped>\n",
       "    .dataframe tbody tr th:only-of-type {\n",
       "        vertical-align: middle;\n",
       "    }\n",
       "\n",
       "    .dataframe tbody tr th {\n",
       "        vertical-align: top;\n",
       "    }\n",
       "\n",
       "    .dataframe thead th {\n",
       "        text-align: right;\n",
       "    }\n",
       "</style>\n",
       "<table border=\"1\" class=\"dataframe\">\n",
       "  <thead>\n",
       "    <tr style=\"text-align: right;\">\n",
       "      <th></th>\n",
       "      <th>id</th>\n",
       "      <th>call_date</th>\n",
       "      <th>duration</th>\n",
       "      <th>user_id</th>\n",
       "      <th>month</th>\n",
       "    </tr>\n",
       "  </thead>\n",
       "  <tbody>\n",
       "    <tr>\n",
       "      <td>0</td>\n",
       "      <td>1000_0</td>\n",
       "      <td>2018-07-25</td>\n",
       "      <td>0</td>\n",
       "      <td>1000</td>\n",
       "      <td>7</td>\n",
       "    </tr>\n",
       "    <tr>\n",
       "      <td>1</td>\n",
       "      <td>1000_1</td>\n",
       "      <td>2018-08-17</td>\n",
       "      <td>0</td>\n",
       "      <td>1000</td>\n",
       "      <td>8</td>\n",
       "    </tr>\n",
       "    <tr>\n",
       "      <td>2</td>\n",
       "      <td>1000_2</td>\n",
       "      <td>2018-06-11</td>\n",
       "      <td>3</td>\n",
       "      <td>1000</td>\n",
       "      <td>6</td>\n",
       "    </tr>\n",
       "    <tr>\n",
       "      <td>3</td>\n",
       "      <td>1000_3</td>\n",
       "      <td>2018-09-21</td>\n",
       "      <td>14</td>\n",
       "      <td>1000</td>\n",
       "      <td>9</td>\n",
       "    </tr>\n",
       "    <tr>\n",
       "      <td>4</td>\n",
       "      <td>1000_4</td>\n",
       "      <td>2018-12-15</td>\n",
       "      <td>6</td>\n",
       "      <td>1000</td>\n",
       "      <td>12</td>\n",
       "    </tr>\n",
       "    <tr>\n",
       "      <td>...</td>\n",
       "      <td>...</td>\n",
       "      <td>...</td>\n",
       "      <td>...</td>\n",
       "      <td>...</td>\n",
       "      <td>...</td>\n",
       "    </tr>\n",
       "    <tr>\n",
       "      <td>202602</td>\n",
       "      <td>1499_215</td>\n",
       "      <td>2018-12-26</td>\n",
       "      <td>1</td>\n",
       "      <td>1499</td>\n",
       "      <td>12</td>\n",
       "    </tr>\n",
       "    <tr>\n",
       "      <td>202603</td>\n",
       "      <td>1499_216</td>\n",
       "      <td>2018-10-18</td>\n",
       "      <td>19</td>\n",
       "      <td>1499</td>\n",
       "      <td>10</td>\n",
       "    </tr>\n",
       "    <tr>\n",
       "      <td>202604</td>\n",
       "      <td>1499_217</td>\n",
       "      <td>2018-11-10</td>\n",
       "      <td>11</td>\n",
       "      <td>1499</td>\n",
       "      <td>11</td>\n",
       "    </tr>\n",
       "    <tr>\n",
       "      <td>202605</td>\n",
       "      <td>1499_218</td>\n",
       "      <td>2018-10-06</td>\n",
       "      <td>5</td>\n",
       "      <td>1499</td>\n",
       "      <td>10</td>\n",
       "    </tr>\n",
       "    <tr>\n",
       "      <td>202606</td>\n",
       "      <td>1499_219</td>\n",
       "      <td>2018-12-14</td>\n",
       "      <td>20</td>\n",
       "      <td>1499</td>\n",
       "      <td>12</td>\n",
       "    </tr>\n",
       "  </tbody>\n",
       "</table>\n",
       "<p>202607 rows × 5 columns</p>\n",
       "</div>"
      ],
      "text/plain": [
       "              id  call_date  duration  user_id  month\n",
       "0         1000_0 2018-07-25         0     1000      7\n",
       "1         1000_1 2018-08-17         0     1000      8\n",
       "2         1000_2 2018-06-11         3     1000      6\n",
       "3         1000_3 2018-09-21        14     1000      9\n",
       "4         1000_4 2018-12-15         6     1000     12\n",
       "...          ...        ...       ...      ...    ...\n",
       "202602  1499_215 2018-12-26         1     1499     12\n",
       "202603  1499_216 2018-10-18        19     1499     10\n",
       "202604  1499_217 2018-11-10        11     1499     11\n",
       "202605  1499_218 2018-10-06         5     1499     10\n",
       "202606  1499_219 2018-12-14        20     1499     12\n",
       "\n",
       "[202607 rows x 5 columns]"
      ]
     },
     "execution_count": 6,
     "metadata": {},
     "output_type": "execute_result"
    }
   ],
   "source": [
    "df_calls"
   ]
  },
  {
   "cell_type": "code",
   "execution_count": 7,
   "metadata": {},
   "outputs": [
    {
     "data": {
      "image/png": "[encoded data removed]",
      "text/plain": [
       "<Figure size 1008x504 with 1 Axes>"
      ]
     },
     "metadata": {
      "needs_background": "light"
     },
     "output_type": "display_data"
    }
   ],
   "source": [
    "\n",
    "df_calls[\"duration\"].plot(kind=\"hist\", bins=20, figsize=(14,7), title=\"Распределение по минутам\");"
   ]
  },
  {
   "cell_type": "code",
   "execution_count": 8,
   "metadata": {},
   "outputs": [
    {
     "data": {
      "image/png": "[encoded data removed]",
      "text/plain": [
       "<Figure size 1008x504 with 1 Axes>"
      ]
     },
     "metadata": {
      "needs_background": "light"
     },
     "output_type": "display_data"
    }
   ],
   "source": [
    "df_internet[\"mb_used\"].plot(kind=\"hist\", bins=20, figsize=(14,7), title=\"Распределение по траффику, МБ\");"
   ]
  },
  {
   "cell_type": "markdown",
   "metadata": {},
   "source": [
    "<a id='22'></a>\n",
    "### Подсчет предоставленных услуг пользователям по месяцам"
   ]
  },
  {
   "cell_type": "markdown",
   "metadata": {},
   "source": [
    "Создадим сводные таблицы траффика связи для каждого пользователя по месяцам. \n",
    "\n",
    "количество сделанных звонков (calls_count) и израсходованных минут (calls_sum) разговора по месяцам:"
   ]
  },
  {
   "cell_type": "code",
   "execution_count": 9,
   "metadata": {},
   "outputs": [
    {
     "data": {
      "text/html": [
       "<div>\n",
       "<style scoped>\n",
       "    .dataframe tbody tr th:only-of-type {\n",
       "        vertical-align: middle;\n",
       "    }\n",
       "\n",
       "    .dataframe tbody tr th {\n",
       "        vertical-align: top;\n",
       "    }\n",
       "\n",
       "    .dataframe thead th {\n",
       "        text-align: right;\n",
       "    }\n",
       "</style>\n",
       "<table border=\"1\" class=\"dataframe\">\n",
       "  <thead>\n",
       "    <tr style=\"text-align: right;\">\n",
       "      <th></th>\n",
       "      <th>user_id</th>\n",
       "      <th>month</th>\n",
       "      <th>calls_count</th>\n",
       "      <th>calls_sum</th>\n",
       "    </tr>\n",
       "  </thead>\n",
       "  <tbody>\n",
       "    <tr>\n",
       "      <td>0</td>\n",
       "      <td>1000</td>\n",
       "      <td>5</td>\n",
       "      <td>22</td>\n",
       "      <td>159</td>\n",
       "    </tr>\n",
       "    <tr>\n",
       "      <td>1</td>\n",
       "      <td>1000</td>\n",
       "      <td>6</td>\n",
       "      <td>43</td>\n",
       "      <td>172</td>\n",
       "    </tr>\n",
       "    <tr>\n",
       "      <td>2</td>\n",
       "      <td>1000</td>\n",
       "      <td>7</td>\n",
       "      <td>47</td>\n",
       "      <td>340</td>\n",
       "    </tr>\n",
       "    <tr>\n",
       "      <td>3</td>\n",
       "      <td>1000</td>\n",
       "      <td>8</td>\n",
       "      <td>52</td>\n",
       "      <td>408</td>\n",
       "    </tr>\n",
       "    <tr>\n",
       "      <td>4</td>\n",
       "      <td>1000</td>\n",
       "      <td>9</td>\n",
       "      <td>58</td>\n",
       "      <td>466</td>\n",
       "    </tr>\n",
       "    <tr>\n",
       "      <td>...</td>\n",
       "      <td>...</td>\n",
       "      <td>...</td>\n",
       "      <td>...</td>\n",
       "      <td>...</td>\n",
       "    </tr>\n",
       "    <tr>\n",
       "      <td>3169</td>\n",
       "      <td>1498</td>\n",
       "      <td>10</td>\n",
       "      <td>41</td>\n",
       "      <td>247</td>\n",
       "    </tr>\n",
       "    <tr>\n",
       "      <td>3170</td>\n",
       "      <td>1499</td>\n",
       "      <td>9</td>\n",
       "      <td>9</td>\n",
       "      <td>70</td>\n",
       "    </tr>\n",
       "    <tr>\n",
       "      <td>3171</td>\n",
       "      <td>1499</td>\n",
       "      <td>10</td>\n",
       "      <td>68</td>\n",
       "      <td>449</td>\n",
       "    </tr>\n",
       "    <tr>\n",
       "      <td>3172</td>\n",
       "      <td>1499</td>\n",
       "      <td>11</td>\n",
       "      <td>74</td>\n",
       "      <td>612</td>\n",
       "    </tr>\n",
       "    <tr>\n",
       "      <td>3173</td>\n",
       "      <td>1499</td>\n",
       "      <td>12</td>\n",
       "      <td>69</td>\n",
       "      <td>492</td>\n",
       "    </tr>\n",
       "  </tbody>\n",
       "</table>\n",
       "<p>3174 rows × 4 columns</p>\n",
       "</div>"
      ],
      "text/plain": [
       "      user_id  month  calls_count  calls_sum\n",
       "0        1000      5           22        159\n",
       "1        1000      6           43        172\n",
       "2        1000      7           47        340\n",
       "3        1000      8           52        408\n",
       "4        1000      9           58        466\n",
       "...       ...    ...          ...        ...\n",
       "3169     1498     10           41        247\n",
       "3170     1499      9            9         70\n",
       "3171     1499     10           68        449\n",
       "3172     1499     11           74        612\n",
       "3173     1499     12           69        492\n",
       "\n",
       "[3174 rows x 4 columns]"
      ]
     },
     "execution_count": 9,
     "metadata": {},
     "output_type": "execute_result"
    }
   ],
   "source": [
    "calls_pivot = df_calls.pivot_table(index=['user_id', 'month'], values='duration', aggfunc=['count', 'sum']).reset_index()\n",
    "calls_pivot.columns = ['user_id','month','calls_count', 'calls_sum']\n",
    "calls_pivot"
   ]
  },
  {
   "cell_type": "markdown",
   "metadata": {},
   "source": [
    "количество отправленных сообщений по месяцам:"
   ]
  },
  {
   "cell_type": "code",
   "execution_count": 10,
   "metadata": {},
   "outputs": [
    {
     "data": {
      "text/html": [
       "<div>\n",
       "<style scoped>\n",
       "    .dataframe tbody tr th:only-of-type {\n",
       "        vertical-align: middle;\n",
       "    }\n",
       "\n",
       "    .dataframe tbody tr th {\n",
       "        vertical-align: top;\n",
       "    }\n",
       "\n",
       "    .dataframe thead th {\n",
       "        text-align: right;\n",
       "    }\n",
       "</style>\n",
       "<table border=\"1\" class=\"dataframe\">\n",
       "  <thead>\n",
       "    <tr style=\"text-align: right;\">\n",
       "      <th></th>\n",
       "      <th>user_id</th>\n",
       "      <th>month</th>\n",
       "      <th>message_count</th>\n",
       "    </tr>\n",
       "  </thead>\n",
       "  <tbody>\n",
       "    <tr>\n",
       "      <td>0</td>\n",
       "      <td>1000</td>\n",
       "      <td>5</td>\n",
       "      <td>22</td>\n",
       "    </tr>\n",
       "    <tr>\n",
       "      <td>1</td>\n",
       "      <td>1000</td>\n",
       "      <td>6</td>\n",
       "      <td>60</td>\n",
       "    </tr>\n",
       "    <tr>\n",
       "      <td>2</td>\n",
       "      <td>1000</td>\n",
       "      <td>7</td>\n",
       "      <td>75</td>\n",
       "    </tr>\n",
       "    <tr>\n",
       "      <td>3</td>\n",
       "      <td>1000</td>\n",
       "      <td>8</td>\n",
       "      <td>81</td>\n",
       "    </tr>\n",
       "    <tr>\n",
       "      <td>4</td>\n",
       "      <td>1000</td>\n",
       "      <td>9</td>\n",
       "      <td>57</td>\n",
       "    </tr>\n",
       "    <tr>\n",
       "      <td>...</td>\n",
       "      <td>...</td>\n",
       "      <td>...</td>\n",
       "      <td>...</td>\n",
       "    </tr>\n",
       "    <tr>\n",
       "      <td>2712</td>\n",
       "      <td>1498</td>\n",
       "      <td>10</td>\n",
       "      <td>42</td>\n",
       "    </tr>\n",
       "    <tr>\n",
       "      <td>2713</td>\n",
       "      <td>1499</td>\n",
       "      <td>9</td>\n",
       "      <td>11</td>\n",
       "    </tr>\n",
       "    <tr>\n",
       "      <td>2714</td>\n",
       "      <td>1499</td>\n",
       "      <td>10</td>\n",
       "      <td>48</td>\n",
       "    </tr>\n",
       "    <tr>\n",
       "      <td>2715</td>\n",
       "      <td>1499</td>\n",
       "      <td>11</td>\n",
       "      <td>59</td>\n",
       "    </tr>\n",
       "    <tr>\n",
       "      <td>2716</td>\n",
       "      <td>1499</td>\n",
       "      <td>12</td>\n",
       "      <td>66</td>\n",
       "    </tr>\n",
       "  </tbody>\n",
       "</table>\n",
       "<p>2717 rows × 3 columns</p>\n",
       "</div>"
      ],
      "text/plain": [
       "      user_id  month  message_count\n",
       "0        1000      5             22\n",
       "1        1000      6             60\n",
       "2        1000      7             75\n",
       "3        1000      8             81\n",
       "4        1000      9             57\n",
       "...       ...    ...            ...\n",
       "2712     1498     10             42\n",
       "2713     1499      9             11\n",
       "2714     1499     10             48\n",
       "2715     1499     11             59\n",
       "2716     1499     12             66\n",
       "\n",
       "[2717 rows x 3 columns]"
      ]
     },
     "execution_count": 10,
     "metadata": {},
     "output_type": "execute_result"
    }
   ],
   "source": [
    "messages_pivot = df_messages.pivot_table(index=['user_id', 'month'], values='id', aggfunc='count').reset_index()\n",
    "messages_pivot = messages_pivot.rename(columns={\"id\" : \"message_count\"})\n",
    "messages_pivot"
   ]
  },
  {
   "cell_type": "markdown",
   "metadata": {},
   "source": [
    "объем израсходованного интернет-трафика по месяцам:"
   ]
  },
  {
   "cell_type": "code",
   "execution_count": 11,
   "metadata": {},
   "outputs": [
    {
     "data": {
      "text/html": [
       "<div>\n",
       "<style scoped>\n",
       "    .dataframe tbody tr th:only-of-type {\n",
       "        vertical-align: middle;\n",
       "    }\n",
       "\n",
       "    .dataframe tbody tr th {\n",
       "        vertical-align: top;\n",
       "    }\n",
       "\n",
       "    .dataframe thead th {\n",
       "        text-align: right;\n",
       "    }\n",
       "</style>\n",
       "<table border=\"1\" class=\"dataframe\">\n",
       "  <thead>\n",
       "    <tr style=\"text-align: right;\">\n",
       "      <th></th>\n",
       "      <th>user_id</th>\n",
       "      <th>month</th>\n",
       "      <th>mb_used</th>\n",
       "      <th>gb_used</th>\n",
       "    </tr>\n",
       "  </thead>\n",
       "  <tbody>\n",
       "    <tr>\n",
       "      <td>0</td>\n",
       "      <td>1000</td>\n",
       "      <td>5</td>\n",
       "      <td>2253.49</td>\n",
       "      <td>3</td>\n",
       "    </tr>\n",
       "    <tr>\n",
       "      <td>1</td>\n",
       "      <td>1000</td>\n",
       "      <td>6</td>\n",
       "      <td>23233.77</td>\n",
       "      <td>23</td>\n",
       "    </tr>\n",
       "    <tr>\n",
       "      <td>2</td>\n",
       "      <td>1000</td>\n",
       "      <td>7</td>\n",
       "      <td>14003.64</td>\n",
       "      <td>14</td>\n",
       "    </tr>\n",
       "    <tr>\n",
       "      <td>3</td>\n",
       "      <td>1000</td>\n",
       "      <td>8</td>\n",
       "      <td>14055.93</td>\n",
       "      <td>14</td>\n",
       "    </tr>\n",
       "    <tr>\n",
       "      <td>4</td>\n",
       "      <td>1000</td>\n",
       "      <td>9</td>\n",
       "      <td>14568.91</td>\n",
       "      <td>15</td>\n",
       "    </tr>\n",
       "    <tr>\n",
       "      <td>...</td>\n",
       "      <td>...</td>\n",
       "      <td>...</td>\n",
       "      <td>...</td>\n",
       "      <td>...</td>\n",
       "    </tr>\n",
       "    <tr>\n",
       "      <td>3198</td>\n",
       "      <td>1498</td>\n",
       "      <td>10</td>\n",
       "      <td>20579.36</td>\n",
       "      <td>21</td>\n",
       "    </tr>\n",
       "    <tr>\n",
       "      <td>3199</td>\n",
       "      <td>1499</td>\n",
       "      <td>9</td>\n",
       "      <td>1845.75</td>\n",
       "      <td>2</td>\n",
       "    </tr>\n",
       "    <tr>\n",
       "      <td>3200</td>\n",
       "      <td>1499</td>\n",
       "      <td>10</td>\n",
       "      <td>17788.51</td>\n",
       "      <td>18</td>\n",
       "    </tr>\n",
       "    <tr>\n",
       "      <td>3201</td>\n",
       "      <td>1499</td>\n",
       "      <td>11</td>\n",
       "      <td>17963.31</td>\n",
       "      <td>18</td>\n",
       "    </tr>\n",
       "    <tr>\n",
       "      <td>3202</td>\n",
       "      <td>1499</td>\n",
       "      <td>12</td>\n",
       "      <td>13055.58</td>\n",
       "      <td>13</td>\n",
       "    </tr>\n",
       "  </tbody>\n",
       "</table>\n",
       "<p>3203 rows × 4 columns</p>\n",
       "</div>"
      ],
      "text/plain": [
       "      user_id  month   mb_used  gb_used\n",
       "0        1000      5   2253.49        3\n",
       "1        1000      6  23233.77       23\n",
       "2        1000      7  14003.64       14\n",
       "3        1000      8  14055.93       14\n",
       "4        1000      9  14568.91       15\n",
       "...       ...    ...       ...      ...\n",
       "3198     1498     10  20579.36       21\n",
       "3199     1499      9   1845.75        2\n",
       "3200     1499     10  17788.51       18\n",
       "3201     1499     11  17963.31       18\n",
       "3202     1499     12  13055.58       13\n",
       "\n",
       "[3203 rows x 4 columns]"
      ]
     },
     "execution_count": 11,
     "metadata": {},
     "output_type": "execute_result"
    }
   ],
   "source": [
    "internet_pivot = df_internet.pivot_table(index=['user_id', 'month'], values='mb_used', aggfunc='sum').reset_index()\n",
    "internet_pivot[\"gb_used\"] = (internet_pivot[\"mb_used\"] / 1024).apply(math.ceil)\n",
    "internet_pivot"
   ]
  },
  {
   "cell_type": "markdown",
   "metadata": {},
   "source": [
    "Для удобства объеденим сводные таблицы с услугами связи и таблицу с информацией о пользователях df_users в общую таблицу df."
   ]
  },
  {
   "cell_type": "code",
   "execution_count": 12,
   "metadata": {},
   "outputs": [],
   "source": [
    "df = calls_pivot.merge(messages_pivot, on=['user_id', 'month'], how='outer').merge(internet_pivot, on=['user_id', 'month'], how='outer')"
   ]
  },
  {
   "cell_type": "code",
   "execution_count": 13,
   "metadata": {},
   "outputs": [],
   "source": [
    "df[\"calls_count\"] = df[\"calls_count\"].astype(\"Int64\")\n",
    "df[\"calls_sum\"] = df[\"calls_sum\"].astype(\"Int64\")\n",
    "df[\"message_count\"] = df[\"message_count\"].astype(\"Int64\")\n",
    "df[\"gb_used\"] = df[\"gb_used\"].astype(\"Int64\")"
   ]
  },
  {
   "cell_type": "code",
   "execution_count": 14,
   "metadata": {},
   "outputs": [
    {
     "data": {
      "text/html": [
       "<div>\n",
       "<style scoped>\n",
       "    .dataframe tbody tr th:only-of-type {\n",
       "        vertical-align: middle;\n",
       "    }\n",
       "\n",
       "    .dataframe tbody tr th {\n",
       "        vertical-align: top;\n",
       "    }\n",
       "\n",
       "    .dataframe thead th {\n",
       "        text-align: right;\n",
       "    }\n",
       "</style>\n",
       "<table border=\"1\" class=\"dataframe\">\n",
       "  <thead>\n",
       "    <tr style=\"text-align: right;\">\n",
       "      <th></th>\n",
       "      <th>user_id</th>\n",
       "      <th>month</th>\n",
       "      <th>calls_count</th>\n",
       "      <th>calls_sum</th>\n",
       "      <th>message_count</th>\n",
       "      <th>mb_used</th>\n",
       "      <th>gb_used</th>\n",
       "    </tr>\n",
       "  </thead>\n",
       "  <tbody>\n",
       "    <tr>\n",
       "      <td>0</td>\n",
       "      <td>1000</td>\n",
       "      <td>5</td>\n",
       "      <td>22</td>\n",
       "      <td>159</td>\n",
       "      <td>22</td>\n",
       "      <td>2253.49</td>\n",
       "      <td>3</td>\n",
       "    </tr>\n",
       "    <tr>\n",
       "      <td>1</td>\n",
       "      <td>1000</td>\n",
       "      <td>6</td>\n",
       "      <td>43</td>\n",
       "      <td>172</td>\n",
       "      <td>60</td>\n",
       "      <td>23233.77</td>\n",
       "      <td>23</td>\n",
       "    </tr>\n",
       "    <tr>\n",
       "      <td>2</td>\n",
       "      <td>1000</td>\n",
       "      <td>7</td>\n",
       "      <td>47</td>\n",
       "      <td>340</td>\n",
       "      <td>75</td>\n",
       "      <td>14003.64</td>\n",
       "      <td>14</td>\n",
       "    </tr>\n",
       "    <tr>\n",
       "      <td>3</td>\n",
       "      <td>1000</td>\n",
       "      <td>8</td>\n",
       "      <td>52</td>\n",
       "      <td>408</td>\n",
       "      <td>81</td>\n",
       "      <td>14055.93</td>\n",
       "      <td>14</td>\n",
       "    </tr>\n",
       "    <tr>\n",
       "      <td>4</td>\n",
       "      <td>1000</td>\n",
       "      <td>9</td>\n",
       "      <td>58</td>\n",
       "      <td>466</td>\n",
       "      <td>57</td>\n",
       "      <td>14568.91</td>\n",
       "      <td>15</td>\n",
       "    </tr>\n",
       "    <tr>\n",
       "      <td>...</td>\n",
       "      <td>...</td>\n",
       "      <td>...</td>\n",
       "      <td>...</td>\n",
       "      <td>...</td>\n",
       "      <td>...</td>\n",
       "      <td>...</td>\n",
       "      <td>...</td>\n",
       "    </tr>\n",
       "    <tr>\n",
       "      <td>3209</td>\n",
       "      <td>1489</td>\n",
       "      <td>9</td>\n",
       "      <td>NaN</td>\n",
       "      <td>NaN</td>\n",
       "      <td>32</td>\n",
       "      <td>17206.30</td>\n",
       "      <td>17</td>\n",
       "    </tr>\n",
       "    <tr>\n",
       "      <td>3210</td>\n",
       "      <td>1489</td>\n",
       "      <td>10</td>\n",
       "      <td>NaN</td>\n",
       "      <td>NaN</td>\n",
       "      <td>21</td>\n",
       "      <td>19559.44</td>\n",
       "      <td>20</td>\n",
       "    </tr>\n",
       "    <tr>\n",
       "      <td>3211</td>\n",
       "      <td>1489</td>\n",
       "      <td>11</td>\n",
       "      <td>NaN</td>\n",
       "      <td>NaN</td>\n",
       "      <td>20</td>\n",
       "      <td>17491.56</td>\n",
       "      <td>18</td>\n",
       "    </tr>\n",
       "    <tr>\n",
       "      <td>3212</td>\n",
       "      <td>1489</td>\n",
       "      <td>12</td>\n",
       "      <td>NaN</td>\n",
       "      <td>NaN</td>\n",
       "      <td>35</td>\n",
       "      <td>17322.51</td>\n",
       "      <td>17</td>\n",
       "    </tr>\n",
       "    <tr>\n",
       "      <td>3213</td>\n",
       "      <td>1476</td>\n",
       "      <td>4</td>\n",
       "      <td>NaN</td>\n",
       "      <td>NaN</td>\n",
       "      <td>NaN</td>\n",
       "      <td>530.78</td>\n",
       "      <td>1</td>\n",
       "    </tr>\n",
       "  </tbody>\n",
       "</table>\n",
       "<p>3214 rows × 7 columns</p>\n",
       "</div>"
      ],
      "text/plain": [
       "      user_id  month  calls_count  calls_sum  message_count   mb_used  gb_used\n",
       "0        1000      5           22        159             22   2253.49        3\n",
       "1        1000      6           43        172             60  23233.77       23\n",
       "2        1000      7           47        340             75  14003.64       14\n",
       "3        1000      8           52        408             81  14055.93       14\n",
       "4        1000      9           58        466             57  14568.91       15\n",
       "...       ...    ...          ...        ...            ...       ...      ...\n",
       "3209     1489      9          NaN        NaN             32  17206.30       17\n",
       "3210     1489     10          NaN        NaN             21  19559.44       20\n",
       "3211     1489     11          NaN        NaN             20  17491.56       18\n",
       "3212     1489     12          NaN        NaN             35  17322.51       17\n",
       "3213     1476      4          NaN        NaN            NaN    530.78        1\n",
       "\n",
       "[3214 rows x 7 columns]"
      ]
     },
     "execution_count": 14,
     "metadata": {},
     "output_type": "execute_result"
    }
   ],
   "source": [
    "df"
   ]
  },
  {
   "cell_type": "code",
   "execution_count": 15,
   "metadata": {},
   "outputs": [
    {
     "data": {
      "text/plain": [
       "user_id            0\n",
       "month              0\n",
       "calls_count       40\n",
       "calls_sum         40\n",
       "message_count    497\n",
       "mb_used           11\n",
       "gb_used           11\n",
       "dtype: int64"
      ]
     },
     "execution_count": 15,
     "metadata": {},
     "output_type": "execute_result"
    }
   ],
   "source": [
    "df.isnull().sum()"
   ]
  },
  {
   "cell_type": "code",
   "execution_count": 16,
   "metadata": {},
   "outputs": [
    {
     "data": {
      "text/html": [
       "<div>\n",
       "<style scoped>\n",
       "    .dataframe tbody tr th:only-of-type {\n",
       "        vertical-align: middle;\n",
       "    }\n",
       "\n",
       "    .dataframe tbody tr th {\n",
       "        vertical-align: top;\n",
       "    }\n",
       "\n",
       "    .dataframe thead th {\n",
       "        text-align: right;\n",
       "    }\n",
       "</style>\n",
       "<table border=\"1\" class=\"dataframe\">\n",
       "  <thead>\n",
       "    <tr style=\"text-align: right;\">\n",
       "      <th></th>\n",
       "      <th>user_id</th>\n",
       "      <th>age</th>\n",
       "      <th>churn_date</th>\n",
       "      <th>city</th>\n",
       "      <th>first_name</th>\n",
       "      <th>last_name</th>\n",
       "      <th>reg_date</th>\n",
       "      <th>tariff</th>\n",
       "      <th>month</th>\n",
       "      <th>calls_count</th>\n",
       "      <th>calls_sum</th>\n",
       "      <th>message_count</th>\n",
       "      <th>mb_used</th>\n",
       "      <th>gb_used</th>\n",
       "    </tr>\n",
       "  </thead>\n",
       "  <tbody>\n",
       "    <tr>\n",
       "      <td>0</td>\n",
       "      <td>1000</td>\n",
       "      <td>52</td>\n",
       "      <td>NaT</td>\n",
       "      <td>Краснодар</td>\n",
       "      <td>Рафаил</td>\n",
       "      <td>Верещагин</td>\n",
       "      <td>2018-05-25</td>\n",
       "      <td>ultra</td>\n",
       "      <td>5.0</td>\n",
       "      <td>22</td>\n",
       "      <td>159</td>\n",
       "      <td>22</td>\n",
       "      <td>2253.49</td>\n",
       "      <td>3</td>\n",
       "    </tr>\n",
       "    <tr>\n",
       "      <td>1</td>\n",
       "      <td>1000</td>\n",
       "      <td>52</td>\n",
       "      <td>NaT</td>\n",
       "      <td>Краснодар</td>\n",
       "      <td>Рафаил</td>\n",
       "      <td>Верещагин</td>\n",
       "      <td>2018-05-25</td>\n",
       "      <td>ultra</td>\n",
       "      <td>6.0</td>\n",
       "      <td>43</td>\n",
       "      <td>172</td>\n",
       "      <td>60</td>\n",
       "      <td>23233.77</td>\n",
       "      <td>23</td>\n",
       "    </tr>\n",
       "    <tr>\n",
       "      <td>2</td>\n",
       "      <td>1000</td>\n",
       "      <td>52</td>\n",
       "      <td>NaT</td>\n",
       "      <td>Краснодар</td>\n",
       "      <td>Рафаил</td>\n",
       "      <td>Верещагин</td>\n",
       "      <td>2018-05-25</td>\n",
       "      <td>ultra</td>\n",
       "      <td>7.0</td>\n",
       "      <td>47</td>\n",
       "      <td>340</td>\n",
       "      <td>75</td>\n",
       "      <td>14003.64</td>\n",
       "      <td>14</td>\n",
       "    </tr>\n",
       "    <tr>\n",
       "      <td>3</td>\n",
       "      <td>1000</td>\n",
       "      <td>52</td>\n",
       "      <td>NaT</td>\n",
       "      <td>Краснодар</td>\n",
       "      <td>Рафаил</td>\n",
       "      <td>Верещагин</td>\n",
       "      <td>2018-05-25</td>\n",
       "      <td>ultra</td>\n",
       "      <td>8.0</td>\n",
       "      <td>52</td>\n",
       "      <td>408</td>\n",
       "      <td>81</td>\n",
       "      <td>14055.93</td>\n",
       "      <td>14</td>\n",
       "    </tr>\n",
       "    <tr>\n",
       "      <td>4</td>\n",
       "      <td>1000</td>\n",
       "      <td>52</td>\n",
       "      <td>NaT</td>\n",
       "      <td>Краснодар</td>\n",
       "      <td>Рафаил</td>\n",
       "      <td>Верещагин</td>\n",
       "      <td>2018-05-25</td>\n",
       "      <td>ultra</td>\n",
       "      <td>9.0</td>\n",
       "      <td>58</td>\n",
       "      <td>466</td>\n",
       "      <td>57</td>\n",
       "      <td>14568.91</td>\n",
       "      <td>15</td>\n",
       "    </tr>\n",
       "    <tr>\n",
       "      <td>...</td>\n",
       "      <td>...</td>\n",
       "      <td>...</td>\n",
       "      <td>...</td>\n",
       "      <td>...</td>\n",
       "      <td>...</td>\n",
       "      <td>...</td>\n",
       "      <td>...</td>\n",
       "      <td>...</td>\n",
       "      <td>...</td>\n",
       "      <td>...</td>\n",
       "      <td>...</td>\n",
       "      <td>...</td>\n",
       "      <td>...</td>\n",
       "      <td>...</td>\n",
       "    </tr>\n",
       "    <tr>\n",
       "      <td>3211</td>\n",
       "      <td>1498</td>\n",
       "      <td>68</td>\n",
       "      <td>2018-10-25</td>\n",
       "      <td>Владикавказ</td>\n",
       "      <td>Всеволод</td>\n",
       "      <td>Акимчин</td>\n",
       "      <td>2018-07-19</td>\n",
       "      <td>smart</td>\n",
       "      <td>10.0</td>\n",
       "      <td>41</td>\n",
       "      <td>247</td>\n",
       "      <td>42</td>\n",
       "      <td>20579.36</td>\n",
       "      <td>21</td>\n",
       "    </tr>\n",
       "    <tr>\n",
       "      <td>3212</td>\n",
       "      <td>1499</td>\n",
       "      <td>35</td>\n",
       "      <td>NaT</td>\n",
       "      <td>Пермь</td>\n",
       "      <td>Гектор</td>\n",
       "      <td>Корнилов</td>\n",
       "      <td>2018-09-27</td>\n",
       "      <td>smart</td>\n",
       "      <td>9.0</td>\n",
       "      <td>9</td>\n",
       "      <td>70</td>\n",
       "      <td>11</td>\n",
       "      <td>1845.75</td>\n",
       "      <td>2</td>\n",
       "    </tr>\n",
       "    <tr>\n",
       "      <td>3213</td>\n",
       "      <td>1499</td>\n",
       "      <td>35</td>\n",
       "      <td>NaT</td>\n",
       "      <td>Пермь</td>\n",
       "      <td>Гектор</td>\n",
       "      <td>Корнилов</td>\n",
       "      <td>2018-09-27</td>\n",
       "      <td>smart</td>\n",
       "      <td>10.0</td>\n",
       "      <td>68</td>\n",
       "      <td>449</td>\n",
       "      <td>48</td>\n",
       "      <td>17788.51</td>\n",
       "      <td>18</td>\n",
       "    </tr>\n",
       "    <tr>\n",
       "      <td>3214</td>\n",
       "      <td>1499</td>\n",
       "      <td>35</td>\n",
       "      <td>NaT</td>\n",
       "      <td>Пермь</td>\n",
       "      <td>Гектор</td>\n",
       "      <td>Корнилов</td>\n",
       "      <td>2018-09-27</td>\n",
       "      <td>smart</td>\n",
       "      <td>11.0</td>\n",
       "      <td>74</td>\n",
       "      <td>612</td>\n",
       "      <td>59</td>\n",
       "      <td>17963.31</td>\n",
       "      <td>18</td>\n",
       "    </tr>\n",
       "    <tr>\n",
       "      <td>3215</td>\n",
       "      <td>1499</td>\n",
       "      <td>35</td>\n",
       "      <td>NaT</td>\n",
       "      <td>Пермь</td>\n",
       "      <td>Гектор</td>\n",
       "      <td>Корнилов</td>\n",
       "      <td>2018-09-27</td>\n",
       "      <td>smart</td>\n",
       "      <td>12.0</td>\n",
       "      <td>69</td>\n",
       "      <td>492</td>\n",
       "      <td>66</td>\n",
       "      <td>13055.58</td>\n",
       "      <td>13</td>\n",
       "    </tr>\n",
       "  </tbody>\n",
       "</table>\n",
       "<p>3216 rows × 14 columns</p>\n",
       "</div>"
      ],
      "text/plain": [
       "      user_id  age churn_date         city first_name  last_name   reg_date  \\\n",
       "0        1000   52        NaT    Краснодар     Рафаил  Верещагин 2018-05-25   \n",
       "1        1000   52        NaT    Краснодар     Рафаил  Верещагин 2018-05-25   \n",
       "2        1000   52        NaT    Краснодар     Рафаил  Верещагин 2018-05-25   \n",
       "3        1000   52        NaT    Краснодар     Рафаил  Верещагин 2018-05-25   \n",
       "4        1000   52        NaT    Краснодар     Рафаил  Верещагин 2018-05-25   \n",
       "...       ...  ...        ...          ...        ...        ...        ...   \n",
       "3211     1498   68 2018-10-25  Владикавказ   Всеволод    Акимчин 2018-07-19   \n",
       "3212     1499   35        NaT        Пермь     Гектор   Корнилов 2018-09-27   \n",
       "3213     1499   35        NaT        Пермь     Гектор   Корнилов 2018-09-27   \n",
       "3214     1499   35        NaT        Пермь     Гектор   Корнилов 2018-09-27   \n",
       "3215     1499   35        NaT        Пермь     Гектор   Корнилов 2018-09-27   \n",
       "\n",
       "     tariff  month  calls_count  calls_sum  message_count   mb_used  gb_used  \n",
       "0     ultra    5.0           22        159             22   2253.49        3  \n",
       "1     ultra    6.0           43        172             60  23233.77       23  \n",
       "2     ultra    7.0           47        340             75  14003.64       14  \n",
       "3     ultra    8.0           52        408             81  14055.93       14  \n",
       "4     ultra    9.0           58        466             57  14568.91       15  \n",
       "...     ...    ...          ...        ...            ...       ...      ...  \n",
       "3211  smart   10.0           41        247             42  20579.36       21  \n",
       "3212  smart    9.0            9         70             11   1845.75        2  \n",
       "3213  smart   10.0           68        449             48  17788.51       18  \n",
       "3214  smart   11.0           74        612             59  17963.31       18  \n",
       "3215  smart   12.0           69        492             66  13055.58       13  \n",
       "\n",
       "[3216 rows x 14 columns]"
      ]
     },
     "execution_count": 16,
     "metadata": {},
     "output_type": "execute_result"
    }
   ],
   "source": [
    "# общая таблица с информацией по каждому пользователю по месяцам\n",
    "df = df_users.merge(df, on='user_id', how='outer')\n",
    "df"
   ]
  },
  {
   "cell_type": "code",
   "execution_count": 17,
   "metadata": {},
   "outputs": [
    {
     "name": "stdout",
     "output_type": "stream",
     "text": [
      "<class 'pandas.core.frame.DataFrame'>\n",
      "Int64Index: 3216 entries, 0 to 3215\n",
      "Data columns (total 14 columns):\n",
      "user_id          3216 non-null int64\n",
      "age              3216 non-null int64\n",
      "churn_date       189 non-null datetime64[ns]\n",
      "city             3216 non-null object\n",
      "first_name       3216 non-null object\n",
      "last_name        3216 non-null object\n",
      "reg_date         3216 non-null datetime64[ns]\n",
      "tariff           3216 non-null object\n",
      "month            3214 non-null float64\n",
      "calls_count      3174 non-null Int64\n",
      "calls_sum        3174 non-null Int64\n",
      "message_count    2717 non-null Int64\n",
      "mb_used          3203 non-null float64\n",
      "gb_used          3203 non-null Int64\n",
      "dtypes: Int64(4), datetime64[ns](2), float64(2), int64(2), object(4)\n",
      "memory usage: 389.4+ KB\n"
     ]
    }
   ],
   "source": [
    "df.info()"
   ]
  },
  {
   "cell_type": "code",
   "execution_count": 18,
   "metadata": {},
   "outputs": [
    {
     "data": {
      "text/html": [
       "<div>\n",
       "<style scoped>\n",
       "    .dataframe tbody tr th:only-of-type {\n",
       "        vertical-align: middle;\n",
       "    }\n",
       "\n",
       "    .dataframe tbody tr th {\n",
       "        vertical-align: top;\n",
       "    }\n",
       "\n",
       "    .dataframe thead th {\n",
       "        text-align: right;\n",
       "    }\n",
       "</style>\n",
       "<table border=\"1\" class=\"dataframe\">\n",
       "  <thead>\n",
       "    <tr style=\"text-align: right;\">\n",
       "      <th></th>\n",
       "      <th>user_id</th>\n",
       "      <th>age</th>\n",
       "      <th>churn_date</th>\n",
       "      <th>city</th>\n",
       "      <th>first_name</th>\n",
       "      <th>last_name</th>\n",
       "      <th>reg_date</th>\n",
       "      <th>tariff</th>\n",
       "      <th>month</th>\n",
       "      <th>calls_count</th>\n",
       "      <th>calls_sum</th>\n",
       "      <th>message_count</th>\n",
       "      <th>mb_used</th>\n",
       "      <th>gb_used</th>\n",
       "    </tr>\n",
       "  </thead>\n",
       "  <tbody>\n",
       "    <tr>\n",
       "      <td>0</td>\n",
       "      <td>1000</td>\n",
       "      <td>52</td>\n",
       "      <td>NaT</td>\n",
       "      <td>Краснодар</td>\n",
       "      <td>Рафаил</td>\n",
       "      <td>Верещагин</td>\n",
       "      <td>2018-05-25</td>\n",
       "      <td>ultra</td>\n",
       "      <td>5</td>\n",
       "      <td>22</td>\n",
       "      <td>159</td>\n",
       "      <td>22</td>\n",
       "      <td>2253.49</td>\n",
       "      <td>3</td>\n",
       "    </tr>\n",
       "    <tr>\n",
       "      <td>1</td>\n",
       "      <td>1000</td>\n",
       "      <td>52</td>\n",
       "      <td>NaT</td>\n",
       "      <td>Краснодар</td>\n",
       "      <td>Рафаил</td>\n",
       "      <td>Верещагин</td>\n",
       "      <td>2018-05-25</td>\n",
       "      <td>ultra</td>\n",
       "      <td>6</td>\n",
       "      <td>43</td>\n",
       "      <td>172</td>\n",
       "      <td>60</td>\n",
       "      <td>23233.77</td>\n",
       "      <td>23</td>\n",
       "    </tr>\n",
       "    <tr>\n",
       "      <td>2</td>\n",
       "      <td>1000</td>\n",
       "      <td>52</td>\n",
       "      <td>NaT</td>\n",
       "      <td>Краснодар</td>\n",
       "      <td>Рафаил</td>\n",
       "      <td>Верещагин</td>\n",
       "      <td>2018-05-25</td>\n",
       "      <td>ultra</td>\n",
       "      <td>7</td>\n",
       "      <td>47</td>\n",
       "      <td>340</td>\n",
       "      <td>75</td>\n",
       "      <td>14003.64</td>\n",
       "      <td>14</td>\n",
       "    </tr>\n",
       "    <tr>\n",
       "      <td>3</td>\n",
       "      <td>1000</td>\n",
       "      <td>52</td>\n",
       "      <td>NaT</td>\n",
       "      <td>Краснодар</td>\n",
       "      <td>Рафаил</td>\n",
       "      <td>Верещагин</td>\n",
       "      <td>2018-05-25</td>\n",
       "      <td>ultra</td>\n",
       "      <td>8</td>\n",
       "      <td>52</td>\n",
       "      <td>408</td>\n",
       "      <td>81</td>\n",
       "      <td>14055.93</td>\n",
       "      <td>14</td>\n",
       "    </tr>\n",
       "    <tr>\n",
       "      <td>4</td>\n",
       "      <td>1000</td>\n",
       "      <td>52</td>\n",
       "      <td>NaT</td>\n",
       "      <td>Краснодар</td>\n",
       "      <td>Рафаил</td>\n",
       "      <td>Верещагин</td>\n",
       "      <td>2018-05-25</td>\n",
       "      <td>ultra</td>\n",
       "      <td>9</td>\n",
       "      <td>58</td>\n",
       "      <td>466</td>\n",
       "      <td>57</td>\n",
       "      <td>14568.91</td>\n",
       "      <td>15</td>\n",
       "    </tr>\n",
       "    <tr>\n",
       "      <td>...</td>\n",
       "      <td>...</td>\n",
       "      <td>...</td>\n",
       "      <td>...</td>\n",
       "      <td>...</td>\n",
       "      <td>...</td>\n",
       "      <td>...</td>\n",
       "      <td>...</td>\n",
       "      <td>...</td>\n",
       "      <td>...</td>\n",
       "      <td>...</td>\n",
       "      <td>...</td>\n",
       "      <td>...</td>\n",
       "      <td>...</td>\n",
       "      <td>...</td>\n",
       "    </tr>\n",
       "    <tr>\n",
       "      <td>3211</td>\n",
       "      <td>1498</td>\n",
       "      <td>68</td>\n",
       "      <td>2018-10-25</td>\n",
       "      <td>Владикавказ</td>\n",
       "      <td>Всеволод</td>\n",
       "      <td>Акимчин</td>\n",
       "      <td>2018-07-19</td>\n",
       "      <td>smart</td>\n",
       "      <td>10</td>\n",
       "      <td>41</td>\n",
       "      <td>247</td>\n",
       "      <td>42</td>\n",
       "      <td>20579.36</td>\n",
       "      <td>21</td>\n",
       "    </tr>\n",
       "    <tr>\n",
       "      <td>3212</td>\n",
       "      <td>1499</td>\n",
       "      <td>35</td>\n",
       "      <td>NaT</td>\n",
       "      <td>Пермь</td>\n",
       "      <td>Гектор</td>\n",
       "      <td>Корнилов</td>\n",
       "      <td>2018-09-27</td>\n",
       "      <td>smart</td>\n",
       "      <td>9</td>\n",
       "      <td>9</td>\n",
       "      <td>70</td>\n",
       "      <td>11</td>\n",
       "      <td>1845.75</td>\n",
       "      <td>2</td>\n",
       "    </tr>\n",
       "    <tr>\n",
       "      <td>3213</td>\n",
       "      <td>1499</td>\n",
       "      <td>35</td>\n",
       "      <td>NaT</td>\n",
       "      <td>Пермь</td>\n",
       "      <td>Гектор</td>\n",
       "      <td>Корнилов</td>\n",
       "      <td>2018-09-27</td>\n",
       "      <td>smart</td>\n",
       "      <td>10</td>\n",
       "      <td>68</td>\n",
       "      <td>449</td>\n",
       "      <td>48</td>\n",
       "      <td>17788.51</td>\n",
       "      <td>18</td>\n",
       "    </tr>\n",
       "    <tr>\n",
       "      <td>3214</td>\n",
       "      <td>1499</td>\n",
       "      <td>35</td>\n",
       "      <td>NaT</td>\n",
       "      <td>Пермь</td>\n",
       "      <td>Гектор</td>\n",
       "      <td>Корнилов</td>\n",
       "      <td>2018-09-27</td>\n",
       "      <td>smart</td>\n",
       "      <td>11</td>\n",
       "      <td>74</td>\n",
       "      <td>612</td>\n",
       "      <td>59</td>\n",
       "      <td>17963.31</td>\n",
       "      <td>18</td>\n",
       "    </tr>\n",
       "    <tr>\n",
       "      <td>3215</td>\n",
       "      <td>1499</td>\n",
       "      <td>35</td>\n",
       "      <td>NaT</td>\n",
       "      <td>Пермь</td>\n",
       "      <td>Гектор</td>\n",
       "      <td>Корнилов</td>\n",
       "      <td>2018-09-27</td>\n",
       "      <td>smart</td>\n",
       "      <td>12</td>\n",
       "      <td>69</td>\n",
       "      <td>492</td>\n",
       "      <td>66</td>\n",
       "      <td>13055.58</td>\n",
       "      <td>13</td>\n",
       "    </tr>\n",
       "  </tbody>\n",
       "</table>\n",
       "<p>3216 rows × 14 columns</p>\n",
       "</div>"
      ],
      "text/plain": [
       "      user_id  age churn_date         city first_name  last_name   reg_date  \\\n",
       "0        1000   52        NaT    Краснодар     Рафаил  Верещагин 2018-05-25   \n",
       "1        1000   52        NaT    Краснодар     Рафаил  Верещагин 2018-05-25   \n",
       "2        1000   52        NaT    Краснодар     Рафаил  Верещагин 2018-05-25   \n",
       "3        1000   52        NaT    Краснодар     Рафаил  Верещагин 2018-05-25   \n",
       "4        1000   52        NaT    Краснодар     Рафаил  Верещагин 2018-05-25   \n",
       "...       ...  ...        ...          ...        ...        ...        ...   \n",
       "3211     1498   68 2018-10-25  Владикавказ   Всеволод    Акимчин 2018-07-19   \n",
       "3212     1499   35        NaT        Пермь     Гектор   Корнилов 2018-09-27   \n",
       "3213     1499   35        NaT        Пермь     Гектор   Корнилов 2018-09-27   \n",
       "3214     1499   35        NaT        Пермь     Гектор   Корнилов 2018-09-27   \n",
       "3215     1499   35        NaT        Пермь     Гектор   Корнилов 2018-09-27   \n",
       "\n",
       "     tariff  month  calls_count  calls_sum  message_count   mb_used  gb_used  \n",
       "0     ultra      5           22        159             22   2253.49        3  \n",
       "1     ultra      6           43        172             60  23233.77       23  \n",
       "2     ultra      7           47        340             75  14003.64       14  \n",
       "3     ultra      8           52        408             81  14055.93       14  \n",
       "4     ultra      9           58        466             57  14568.91       15  \n",
       "...     ...    ...          ...        ...            ...       ...      ...  \n",
       "3211  smart     10           41        247             42  20579.36       21  \n",
       "3212  smart      9            9         70             11   1845.75        2  \n",
       "3213  smart     10           68        449             48  17788.51       18  \n",
       "3214  smart     11           74        612             59  17963.31       18  \n",
       "3215  smart     12           69        492             66  13055.58       13  \n",
       "\n",
       "[3216 rows x 14 columns]"
      ]
     },
     "execution_count": 18,
     "metadata": {},
     "output_type": "execute_result"
    }
   ],
   "source": [
    "df[\"month\"] = df[\"month\"].astype(\"Int64\")\n",
    "df"
   ]
  },
  {
   "cell_type": "markdown",
   "metadata": {},
   "source": [
    "<a id='23'></a>\n",
    "### Помесячная выручка с каждого пользователя\n"
   ]
  },
  {
   "cell_type": "code",
   "execution_count": 19,
   "metadata": {},
   "outputs": [
    {
     "data": {
      "text/html": [
       "<div>\n",
       "<style scoped>\n",
       "    .dataframe tbody tr th:only-of-type {\n",
       "        vertical-align: middle;\n",
       "    }\n",
       "\n",
       "    .dataframe tbody tr th {\n",
       "        vertical-align: top;\n",
       "    }\n",
       "\n",
       "    .dataframe thead th {\n",
       "        text-align: right;\n",
       "    }\n",
       "</style>\n",
       "<table border=\"1\" class=\"dataframe\">\n",
       "  <thead>\n",
       "    <tr style=\"text-align: right;\">\n",
       "      <th></th>\n",
       "      <th>messages_included</th>\n",
       "      <th>mb_per_month_included</th>\n",
       "      <th>minutes_included</th>\n",
       "      <th>rub_monthly_fee</th>\n",
       "      <th>rub_per_gb</th>\n",
       "      <th>rub_per_message</th>\n",
       "      <th>rub_per_minute</th>\n",
       "      <th>tariff_name</th>\n",
       "    </tr>\n",
       "  </thead>\n",
       "  <tbody>\n",
       "    <tr>\n",
       "      <td>0</td>\n",
       "      <td>50</td>\n",
       "      <td>15360</td>\n",
       "      <td>500</td>\n",
       "      <td>550</td>\n",
       "      <td>200</td>\n",
       "      <td>3</td>\n",
       "      <td>3</td>\n",
       "      <td>smart</td>\n",
       "    </tr>\n",
       "    <tr>\n",
       "      <td>1</td>\n",
       "      <td>1000</td>\n",
       "      <td>30720</td>\n",
       "      <td>3000</td>\n",
       "      <td>1950</td>\n",
       "      <td>150</td>\n",
       "      <td>1</td>\n",
       "      <td>1</td>\n",
       "      <td>ultra</td>\n",
       "    </tr>\n",
       "  </tbody>\n",
       "</table>\n",
       "</div>"
      ],
      "text/plain": [
       "   messages_included  mb_per_month_included  minutes_included  \\\n",
       "0                 50                  15360               500   \n",
       "1               1000                  30720              3000   \n",
       "\n",
       "   rub_monthly_fee  rub_per_gb  rub_per_message  rub_per_minute tariff_name  \n",
       "0              550         200                3               3       smart  \n",
       "1             1950         150                1               1       ultra  "
      ]
     },
     "execution_count": 19,
     "metadata": {},
     "output_type": "execute_result"
    }
   ],
   "source": [
    "df_tariffs"
   ]
  },
  {
   "cell_type": "code",
   "execution_count": 20,
   "metadata": {},
   "outputs": [
    {
     "data": {
      "text/html": [
       "<div>\n",
       "<style scoped>\n",
       "    .dataframe tbody tr th:only-of-type {\n",
       "        vertical-align: middle;\n",
       "    }\n",
       "\n",
       "    .dataframe tbody tr th {\n",
       "        vertical-align: top;\n",
       "    }\n",
       "\n",
       "    .dataframe thead th {\n",
       "        text-align: right;\n",
       "    }\n",
       "</style>\n",
       "<table border=\"1\" class=\"dataframe\">\n",
       "  <thead>\n",
       "    <tr style=\"text-align: right;\">\n",
       "      <th></th>\n",
       "      <th>user_id</th>\n",
       "      <th>age</th>\n",
       "      <th>churn_date</th>\n",
       "      <th>city</th>\n",
       "      <th>first_name</th>\n",
       "      <th>last_name</th>\n",
       "      <th>reg_date</th>\n",
       "      <th>tariff</th>\n",
       "      <th>month</th>\n",
       "      <th>calls_count</th>\n",
       "      <th>calls_sum</th>\n",
       "      <th>message_count</th>\n",
       "      <th>mb_used</th>\n",
       "      <th>gb_used</th>\n",
       "      <th>income</th>\n",
       "    </tr>\n",
       "  </thead>\n",
       "  <tbody>\n",
       "    <tr>\n",
       "      <td>0</td>\n",
       "      <td>1000</td>\n",
       "      <td>52</td>\n",
       "      <td>NaT</td>\n",
       "      <td>Краснодар</td>\n",
       "      <td>Рафаил</td>\n",
       "      <td>Верещагин</td>\n",
       "      <td>2018-05-25</td>\n",
       "      <td>ultra</td>\n",
       "      <td>5</td>\n",
       "      <td>22</td>\n",
       "      <td>159</td>\n",
       "      <td>22</td>\n",
       "      <td>2253.49</td>\n",
       "      <td>3</td>\n",
       "      <td>1950</td>\n",
       "    </tr>\n",
       "    <tr>\n",
       "      <td>1</td>\n",
       "      <td>1000</td>\n",
       "      <td>52</td>\n",
       "      <td>NaT</td>\n",
       "      <td>Краснодар</td>\n",
       "      <td>Рафаил</td>\n",
       "      <td>Верещагин</td>\n",
       "      <td>2018-05-25</td>\n",
       "      <td>ultra</td>\n",
       "      <td>6</td>\n",
       "      <td>43</td>\n",
       "      <td>172</td>\n",
       "      <td>60</td>\n",
       "      <td>23233.77</td>\n",
       "      <td>23</td>\n",
       "      <td>1950</td>\n",
       "    </tr>\n",
       "    <tr>\n",
       "      <td>2</td>\n",
       "      <td>1000</td>\n",
       "      <td>52</td>\n",
       "      <td>NaT</td>\n",
       "      <td>Краснодар</td>\n",
       "      <td>Рафаил</td>\n",
       "      <td>Верещагин</td>\n",
       "      <td>2018-05-25</td>\n",
       "      <td>ultra</td>\n",
       "      <td>7</td>\n",
       "      <td>47</td>\n",
       "      <td>340</td>\n",
       "      <td>75</td>\n",
       "      <td>14003.64</td>\n",
       "      <td>14</td>\n",
       "      <td>1950</td>\n",
       "    </tr>\n",
       "    <tr>\n",
       "      <td>3</td>\n",
       "      <td>1000</td>\n",
       "      <td>52</td>\n",
       "      <td>NaT</td>\n",
       "      <td>Краснодар</td>\n",
       "      <td>Рафаил</td>\n",
       "      <td>Верещагин</td>\n",
       "      <td>2018-05-25</td>\n",
       "      <td>ultra</td>\n",
       "      <td>8</td>\n",
       "      <td>52</td>\n",
       "      <td>408</td>\n",
       "      <td>81</td>\n",
       "      <td>14055.93</td>\n",
       "      <td>14</td>\n",
       "      <td>1950</td>\n",
       "    </tr>\n",
       "    <tr>\n",
       "      <td>4</td>\n",
       "      <td>1000</td>\n",
       "      <td>52</td>\n",
       "      <td>NaT</td>\n",
       "      <td>Краснодар</td>\n",
       "      <td>Рафаил</td>\n",
       "      <td>Верещагин</td>\n",
       "      <td>2018-05-25</td>\n",
       "      <td>ultra</td>\n",
       "      <td>9</td>\n",
       "      <td>58</td>\n",
       "      <td>466</td>\n",
       "      <td>57</td>\n",
       "      <td>14568.91</td>\n",
       "      <td>15</td>\n",
       "      <td>1950</td>\n",
       "    </tr>\n",
       "    <tr>\n",
       "      <td>...</td>\n",
       "      <td>...</td>\n",
       "      <td>...</td>\n",
       "      <td>...</td>\n",
       "      <td>...</td>\n",
       "      <td>...</td>\n",
       "      <td>...</td>\n",
       "      <td>...</td>\n",
       "      <td>...</td>\n",
       "      <td>...</td>\n",
       "      <td>...</td>\n",
       "      <td>...</td>\n",
       "      <td>...</td>\n",
       "      <td>...</td>\n",
       "      <td>...</td>\n",
       "      <td>...</td>\n",
       "    </tr>\n",
       "    <tr>\n",
       "      <td>3211</td>\n",
       "      <td>1498</td>\n",
       "      <td>68</td>\n",
       "      <td>2018-10-25</td>\n",
       "      <td>Владикавказ</td>\n",
       "      <td>Всеволод</td>\n",
       "      <td>Акимчин</td>\n",
       "      <td>2018-07-19</td>\n",
       "      <td>smart</td>\n",
       "      <td>10</td>\n",
       "      <td>41</td>\n",
       "      <td>247</td>\n",
       "      <td>42</td>\n",
       "      <td>20579.36</td>\n",
       "      <td>21</td>\n",
       "      <td>1750</td>\n",
       "    </tr>\n",
       "    <tr>\n",
       "      <td>3212</td>\n",
       "      <td>1499</td>\n",
       "      <td>35</td>\n",
       "      <td>NaT</td>\n",
       "      <td>Пермь</td>\n",
       "      <td>Гектор</td>\n",
       "      <td>Корнилов</td>\n",
       "      <td>2018-09-27</td>\n",
       "      <td>smart</td>\n",
       "      <td>9</td>\n",
       "      <td>9</td>\n",
       "      <td>70</td>\n",
       "      <td>11</td>\n",
       "      <td>1845.75</td>\n",
       "      <td>2</td>\n",
       "      <td>550</td>\n",
       "    </tr>\n",
       "    <tr>\n",
       "      <td>3213</td>\n",
       "      <td>1499</td>\n",
       "      <td>35</td>\n",
       "      <td>NaT</td>\n",
       "      <td>Пермь</td>\n",
       "      <td>Гектор</td>\n",
       "      <td>Корнилов</td>\n",
       "      <td>2018-09-27</td>\n",
       "      <td>smart</td>\n",
       "      <td>10</td>\n",
       "      <td>68</td>\n",
       "      <td>449</td>\n",
       "      <td>48</td>\n",
       "      <td>17788.51</td>\n",
       "      <td>18</td>\n",
       "      <td>1150</td>\n",
       "    </tr>\n",
       "    <tr>\n",
       "      <td>3214</td>\n",
       "      <td>1499</td>\n",
       "      <td>35</td>\n",
       "      <td>NaT</td>\n",
       "      <td>Пермь</td>\n",
       "      <td>Гектор</td>\n",
       "      <td>Корнилов</td>\n",
       "      <td>2018-09-27</td>\n",
       "      <td>smart</td>\n",
       "      <td>11</td>\n",
       "      <td>74</td>\n",
       "      <td>612</td>\n",
       "      <td>59</td>\n",
       "      <td>17963.31</td>\n",
       "      <td>18</td>\n",
       "      <td>1513</td>\n",
       "    </tr>\n",
       "    <tr>\n",
       "      <td>3215</td>\n",
       "      <td>1499</td>\n",
       "      <td>35</td>\n",
       "      <td>NaT</td>\n",
       "      <td>Пермь</td>\n",
       "      <td>Гектор</td>\n",
       "      <td>Корнилов</td>\n",
       "      <td>2018-09-27</td>\n",
       "      <td>smart</td>\n",
       "      <td>12</td>\n",
       "      <td>69</td>\n",
       "      <td>492</td>\n",
       "      <td>66</td>\n",
       "      <td>13055.58</td>\n",
       "      <td>13</td>\n",
       "      <td>598</td>\n",
       "    </tr>\n",
       "  </tbody>\n",
       "</table>\n",
       "<p>3216 rows × 15 columns</p>\n",
       "</div>"
      ],
      "text/plain": [
       "      user_id  age churn_date         city first_name  last_name   reg_date  \\\n",
       "0        1000   52        NaT    Краснодар     Рафаил  Верещагин 2018-05-25   \n",
       "1        1000   52        NaT    Краснодар     Рафаил  Верещагин 2018-05-25   \n",
       "2        1000   52        NaT    Краснодар     Рафаил  Верещагин 2018-05-25   \n",
       "3        1000   52        NaT    Краснодар     Рафаил  Верещагин 2018-05-25   \n",
       "4        1000   52        NaT    Краснодар     Рафаил  Верещагин 2018-05-25   \n",
       "...       ...  ...        ...          ...        ...        ...        ...   \n",
       "3211     1498   68 2018-10-25  Владикавказ   Всеволод    Акимчин 2018-07-19   \n",
       "3212     1499   35        NaT        Пермь     Гектор   Корнилов 2018-09-27   \n",
       "3213     1499   35        NaT        Пермь     Гектор   Корнилов 2018-09-27   \n",
       "3214     1499   35        NaT        Пермь     Гектор   Корнилов 2018-09-27   \n",
       "3215     1499   35        NaT        Пермь     Гектор   Корнилов 2018-09-27   \n",
       "\n",
       "     tariff  month  calls_count  calls_sum  message_count   mb_used  gb_used  \\\n",
       "0     ultra      5           22        159             22   2253.49        3   \n",
       "1     ultra      6           43        172             60  23233.77       23   \n",
       "2     ultra      7           47        340             75  14003.64       14   \n",
       "3     ultra      8           52        408             81  14055.93       14   \n",
       "4     ultra      9           58        466             57  14568.91       15   \n",
       "...     ...    ...          ...        ...            ...       ...      ...   \n",
       "3211  smart     10           41        247             42  20579.36       21   \n",
       "3212  smart      9            9         70             11   1845.75        2   \n",
       "3213  smart     10           68        449             48  17788.51       18   \n",
       "3214  smart     11           74        612             59  17963.31       18   \n",
       "3215  smart     12           69        492             66  13055.58       13   \n",
       "\n",
       "      income  \n",
       "0       1950  \n",
       "1       1950  \n",
       "2       1950  \n",
       "3       1950  \n",
       "4       1950  \n",
       "...      ...  \n",
       "3211    1750  \n",
       "3212     550  \n",
       "3213    1150  \n",
       "3214    1513  \n",
       "3215     598  \n",
       "\n",
       "[3216 rows x 15 columns]"
      ]
     },
     "execution_count": 20,
     "metadata": {},
     "output_type": "execute_result"
    }
   ],
   "source": [
    "#Напишем функцию для подсчета выручки\n",
    "\n",
    "def ft_income(data):\n",
    "    smart_gb_limit = 15\n",
    "    smart_messages_limit = 50\n",
    "    smart_minutes_limit = 500\n",
    "    smart_price_month = 550\n",
    "    smart_price_gb = 200\n",
    "    smart_price_message = 3\n",
    "    smart_price_minute = 3\n",
    "    ultra_gb_limit = 30\n",
    "    ultra_messages_limit = 1000\n",
    "    ultra_minutes_limit = 3000\n",
    "    ultra_price_month = 1950\n",
    "    ultra_price_gb = 150\n",
    "    ultra_price_message = 1\n",
    "    ultra_price_minute = 1\n",
    "    \n",
    "    if data['tariff'] == 'smart':\n",
    "        total_rubls = smart_price_month\n",
    "        if data[\"calls_sum\"] > smart_minutes_limit:\n",
    "            total_rubls += (data[\"calls_sum\"] - smart_minutes_limit) * smart_price_minute\n",
    "        if data['message_count'] > smart_messages_limit:\n",
    "            total_rubls += (data['message_count'] - smart_messages_limit) * smart_price_message\n",
    "        if data['gb_used'] > smart_gb_limit:\n",
    "            total_rubls += (data[\"gb_used\"] - smart_gb_limit) * smart_price_gb\n",
    "        return total_rubls\n",
    "    else:\n",
    "        total_rubls = ultra_price_month\n",
    "        if data[\"calls_sum\"] > ultra_minutes_limit:\n",
    "            total_rubls += (data[\"calls_sum\"] - ultra_minutes_limit) * ultra_price_minute\n",
    "        if data['message_count'] > ultra_messages_limit:\n",
    "            total_rubls += (data['message_count'] - ultra_messages_limit) * ultra_price_message\n",
    "        if data['gb_used'] > ultra_gb_limit:\n",
    "            total_rubls += (data[\"gb_used\"] - ultra_gb_limit) * ultra_price_gb\n",
    "        return total_rubls\n",
    "    \n",
    "#применяем функцию для подсчета выручки и добавляем ее в новую колонку income \n",
    "df['income'] = df.apply(ft_income, axis=1)\n",
    "df"
   ]
  },
  {
   "cell_type": "markdown",
   "metadata": {},
   "source": [
    "<a id='24'></a>\n",
    "### Вывод\n",
    "Провели необходимую предобработку данных с привидением значений к нужным типам. Собрали в общую таблицу df все данные, а так же посчитали для каждого пользователя помесячно предоставленные услуги:\n",
    "\n",
    "- количество сделанных звонков и израсходованных минут разговора\n",
    "- количество отправленных сообщений\n",
    "- объем израсходованного интернет-трафика\n",
    "\n",
    "Посчитали выручку с каждого пользователя помесячно."
   ]
  },
  {
   "cell_type": "markdown",
   "metadata": {},
   "source": [
    "<a id='3'></a>\n",
    "## Анализ данных"
   ]
  },
  {
   "cell_type": "markdown",
   "metadata": {},
   "source": [
    "Подсчет минут разговора, колличества сообщений и объём интернет-трафика пользователей каждого тарифа в месяц."
   ]
  },
  {
   "cell_type": "code",
   "execution_count": 21,
   "metadata": {},
   "outputs": [
    {
     "data": {
      "text/html": [
       "<div>\n",
       "<style scoped>\n",
       "    .dataframe tbody tr th:only-of-type {\n",
       "        vertical-align: middle;\n",
       "    }\n",
       "\n",
       "    .dataframe tbody tr th {\n",
       "        vertical-align: top;\n",
       "    }\n",
       "\n",
       "    .dataframe thead th {\n",
       "        text-align: right;\n",
       "    }\n",
       "</style>\n",
       "<table border=\"1\" class=\"dataframe\">\n",
       "  <thead>\n",
       "    <tr style=\"text-align: right;\">\n",
       "      <th></th>\n",
       "      <th>month</th>\n",
       "      <th>calls_sum</th>\n",
       "      <th>gb_used</th>\n",
       "      <th>income</th>\n",
       "      <th>message_count</th>\n",
       "    </tr>\n",
       "  </thead>\n",
       "  <tbody>\n",
       "    <tr>\n",
       "      <td>0</td>\n",
       "      <td>1</td>\n",
       "      <td>6931</td>\n",
       "      <td>297</td>\n",
       "      <td>24525</td>\n",
       "      <td>620</td>\n",
       "    </tr>\n",
       "    <tr>\n",
       "      <td>1</td>\n",
       "      <td>2</td>\n",
       "      <td>17324</td>\n",
       "      <td>687</td>\n",
       "      <td>48001</td>\n",
       "      <td>1397</td>\n",
       "    </tr>\n",
       "    <tr>\n",
       "      <td>2</td>\n",
       "      <td>3</td>\n",
       "      <td>30034</td>\n",
       "      <td>1173</td>\n",
       "      <td>89676</td>\n",
       "      <td>2453</td>\n",
       "    </tr>\n",
       "    <tr>\n",
       "      <td>3</td>\n",
       "      <td>4</td>\n",
       "      <td>41119</td>\n",
       "      <td>1526</td>\n",
       "      <td>107866</td>\n",
       "      <td>3443</td>\n",
       "    </tr>\n",
       "    <tr>\n",
       "      <td>4</td>\n",
       "      <td>5</td>\n",
       "      <td>54618</td>\n",
       "      <td>2243</td>\n",
       "      <td>168849</td>\n",
       "      <td>4762</td>\n",
       "    </tr>\n",
       "    <tr>\n",
       "      <td>5</td>\n",
       "      <td>6</td>\n",
       "      <td>64885</td>\n",
       "      <td>2616</td>\n",
       "      <td>197459</td>\n",
       "      <td>5478</td>\n",
       "    </tr>\n",
       "    <tr>\n",
       "      <td>6</td>\n",
       "      <td>7</td>\n",
       "      <td>82079</td>\n",
       "      <td>3191</td>\n",
       "      <td>246014</td>\n",
       "      <td>6784</td>\n",
       "    </tr>\n",
       "    <tr>\n",
       "      <td>7</td>\n",
       "      <td>8</td>\n",
       "      <td>99045</td>\n",
       "      <td>3933</td>\n",
       "      <td>310340</td>\n",
       "      <td>7905</td>\n",
       "    </tr>\n",
       "    <tr>\n",
       "      <td>8</td>\n",
       "      <td>9</td>\n",
       "      <td>111439</td>\n",
       "      <td>4262</td>\n",
       "      <td>324986</td>\n",
       "      <td>8746</td>\n",
       "    </tr>\n",
       "    <tr>\n",
       "      <td>9</td>\n",
       "      <td>10</td>\n",
       "      <td>125284</td>\n",
       "      <td>4963</td>\n",
       "      <td>401267</td>\n",
       "      <td>9927</td>\n",
       "    </tr>\n",
       "    <tr>\n",
       "      <td>10</td>\n",
       "      <td>11</td>\n",
       "      <td>137544</td>\n",
       "      <td>5372</td>\n",
       "      <td>424403</td>\n",
       "      <td>10768</td>\n",
       "    </tr>\n",
       "    <tr>\n",
       "      <td>11</td>\n",
       "      <td>12</td>\n",
       "      <td>161275</td>\n",
       "      <td>6134</td>\n",
       "      <td>531965</td>\n",
       "      <td>12130</td>\n",
       "    </tr>\n",
       "  </tbody>\n",
       "</table>\n",
       "</div>"
      ],
      "text/plain": [
       "    month  calls_sum  gb_used  income  message_count\n",
       "0       1       6931      297   24525            620\n",
       "1       2      17324      687   48001           1397\n",
       "2       3      30034     1173   89676           2453\n",
       "3       4      41119     1526  107866           3443\n",
       "4       5      54618     2243  168849           4762\n",
       "5       6      64885     2616  197459           5478\n",
       "6       7      82079     3191  246014           6784\n",
       "7       8      99045     3933  310340           7905\n",
       "8       9     111439     4262  324986           8746\n",
       "9      10     125284     4963  401267           9927\n",
       "10     11     137544     5372  424403          10768\n",
       "11     12     161275     6134  531965          12130"
      ]
     },
     "execution_count": 21,
     "metadata": {},
     "output_type": "execute_result"
    }
   ],
   "source": [
    "smart_pivot = df[df['tariff']=='smart'].pivot_table(index='month', values=['calls_sum','message_count','gb_used','income'], aggfunc='sum').reset_index()\n",
    "ultra_pivot = df[df['tariff']=='ultra'].pivot_table(index='month', values=['calls_sum','message_count','gb_used','income'], aggfunc='sum').reset_index()\n",
    "smart_pivot"
   ]
  },
  {
   "cell_type": "code",
   "execution_count": 22,
   "metadata": {},
   "outputs": [
    {
     "data": {
      "text/html": [
       "<div>\n",
       "<style scoped>\n",
       "    .dataframe tbody tr th:only-of-type {\n",
       "        vertical-align: middle;\n",
       "    }\n",
       "\n",
       "    .dataframe tbody tr th {\n",
       "        vertical-align: top;\n",
       "    }\n",
       "\n",
       "    .dataframe thead th {\n",
       "        text-align: right;\n",
       "    }\n",
       "</style>\n",
       "<table border=\"1\" class=\"dataframe\">\n",
       "  <thead>\n",
       "    <tr style=\"text-align: right;\">\n",
       "      <th></th>\n",
       "      <th>month</th>\n",
       "      <th>calls_sum</th>\n",
       "      <th>gb_used</th>\n",
       "      <th>income</th>\n",
       "      <th>message_count</th>\n",
       "    </tr>\n",
       "  </thead>\n",
       "  <tbody>\n",
       "    <tr>\n",
       "      <td>0</td>\n",
       "      <td>1</td>\n",
       "      <td>3853</td>\n",
       "      <td>119</td>\n",
       "      <td>17550</td>\n",
       "      <td>304</td>\n",
       "    </tr>\n",
       "    <tr>\n",
       "      <td>1</td>\n",
       "      <td>2</td>\n",
       "      <td>7131</td>\n",
       "      <td>288</td>\n",
       "      <td>47400</td>\n",
       "      <td>527</td>\n",
       "    </tr>\n",
       "    <tr>\n",
       "      <td>2</td>\n",
       "      <td>3</td>\n",
       "      <td>18117</td>\n",
       "      <td>653</td>\n",
       "      <td>74550</td>\n",
       "      <td>1195</td>\n",
       "    </tr>\n",
       "    <tr>\n",
       "      <td>3</td>\n",
       "      <td>4</td>\n",
       "      <td>25191</td>\n",
       "      <td>933</td>\n",
       "      <td>110100</td>\n",
       "      <td>1736</td>\n",
       "    </tr>\n",
       "    <tr>\n",
       "      <td>4</td>\n",
       "      <td>5</td>\n",
       "      <td>34192</td>\n",
       "      <td>1298</td>\n",
       "      <td>138000</td>\n",
       "      <td>2536</td>\n",
       "    </tr>\n",
       "    <tr>\n",
       "      <td>5</td>\n",
       "      <td>6</td>\n",
       "      <td>40295</td>\n",
       "      <td>1591</td>\n",
       "      <td>171300</td>\n",
       "      <td>3505</td>\n",
       "    </tr>\n",
       "    <tr>\n",
       "      <td>6</td>\n",
       "      <td>7</td>\n",
       "      <td>49667</td>\n",
       "      <td>1866</td>\n",
       "      <td>192750</td>\n",
       "      <td>4536</td>\n",
       "    </tr>\n",
       "    <tr>\n",
       "      <td>7</td>\n",
       "      <td>8</td>\n",
       "      <td>54653</td>\n",
       "      <td>2097</td>\n",
       "      <td>222900</td>\n",
       "      <td>5183</td>\n",
       "    </tr>\n",
       "    <tr>\n",
       "      <td>8</td>\n",
       "      <td>9</td>\n",
       "      <td>62036</td>\n",
       "      <td>2213</td>\n",
       "      <td>232800</td>\n",
       "      <td>6013</td>\n",
       "    </tr>\n",
       "    <tr>\n",
       "      <td>9</td>\n",
       "      <td>10</td>\n",
       "      <td>68644</td>\n",
       "      <td>2468</td>\n",
       "      <td>254100</td>\n",
       "      <td>7187</td>\n",
       "    </tr>\n",
       "    <tr>\n",
       "      <td>10</td>\n",
       "      <td>11</td>\n",
       "      <td>72545</td>\n",
       "      <td>2654</td>\n",
       "      <td>280350</td>\n",
       "      <td>7476</td>\n",
       "    </tr>\n",
       "    <tr>\n",
       "      <td>11</td>\n",
       "      <td>12</td>\n",
       "      <td>82400</td>\n",
       "      <td>3022</td>\n",
       "      <td>297300</td>\n",
       "      <td>8425</td>\n",
       "    </tr>\n",
       "  </tbody>\n",
       "</table>\n",
       "</div>"
      ],
      "text/plain": [
       "    month  calls_sum  gb_used  income  message_count\n",
       "0       1       3853      119   17550            304\n",
       "1       2       7131      288   47400            527\n",
       "2       3      18117      653   74550           1195\n",
       "3       4      25191      933  110100           1736\n",
       "4       5      34192     1298  138000           2536\n",
       "5       6      40295     1591  171300           3505\n",
       "6       7      49667     1866  192750           4536\n",
       "7       8      54653     2097  222900           5183\n",
       "8       9      62036     2213  232800           6013\n",
       "9      10      68644     2468  254100           7187\n",
       "10     11      72545     2654  280350           7476\n",
       "11     12      82400     3022  297300           8425"
      ]
     },
     "execution_count": 22,
     "metadata": {},
     "output_type": "execute_result"
    }
   ],
   "source": [
    "ultra_pivot"
   ]
  },
  {
   "cell_type": "markdown",
   "metadata": {},
   "source": [
    "Опишем характеристику пользователя каждого тарифа."
   ]
  },
  {
   "cell_type": "code",
   "execution_count": 23,
   "metadata": {},
   "outputs": [
    {
     "data": {
      "text/html": [
       "<div>\n",
       "<style scoped>\n",
       "    .dataframe tbody tr th:only-of-type {\n",
       "        vertical-align: middle;\n",
       "    }\n",
       "\n",
       "    .dataframe tbody tr th {\n",
       "        vertical-align: top;\n",
       "    }\n",
       "\n",
       "    .dataframe thead th {\n",
       "        text-align: right;\n",
       "    }\n",
       "</style>\n",
       "<table border=\"1\" class=\"dataframe\">\n",
       "  <thead>\n",
       "    <tr style=\"text-align: right;\">\n",
       "      <th></th>\n",
       "      <th>user_id</th>\n",
       "      <th>age</th>\n",
       "      <th>month</th>\n",
       "      <th>calls_count</th>\n",
       "      <th>calls_sum</th>\n",
       "      <th>message_count</th>\n",
       "      <th>mb_used</th>\n",
       "      <th>gb_used</th>\n",
       "      <th>income</th>\n",
       "    </tr>\n",
       "  </thead>\n",
       "  <tbody>\n",
       "    <tr>\n",
       "      <td>count</td>\n",
       "      <td>2230.000000</td>\n",
       "      <td>2230.000000</td>\n",
       "      <td>2229.000000</td>\n",
       "      <td>2223.000000</td>\n",
       "      <td>2223.000000</td>\n",
       "      <td>1922.000000</td>\n",
       "      <td>2228.000000</td>\n",
       "      <td>2228.000000</td>\n",
       "      <td>2230.000000</td>\n",
       "    </tr>\n",
       "    <tr>\n",
       "      <td>mean</td>\n",
       "      <td>1246.562332</td>\n",
       "      <td>46.557848</td>\n",
       "      <td>8.346792</td>\n",
       "      <td>58.621233</td>\n",
       "      <td>419.062978</td>\n",
       "      <td>38.716441</td>\n",
       "      <td>16215.661849</td>\n",
       "      <td>16.336176</td>\n",
       "      <td>1289.641704</td>\n",
       "    </tr>\n",
       "    <tr>\n",
       "      <td>std</td>\n",
       "      <td>146.110501</td>\n",
       "      <td>16.349865</td>\n",
       "      <td>2.920316</td>\n",
       "      <td>25.796101</td>\n",
       "      <td>189.325618</td>\n",
       "      <td>26.787949</td>\n",
       "      <td>5861.736234</td>\n",
       "      <td>5.737923</td>\n",
       "      <td>818.370799</td>\n",
       "    </tr>\n",
       "    <tr>\n",
       "      <td>min</td>\n",
       "      <td>1001.000000</td>\n",
       "      <td>18.000000</td>\n",
       "      <td>1.000000</td>\n",
       "      <td>1.000000</td>\n",
       "      <td>0.000000</td>\n",
       "      <td>1.000000</td>\n",
       "      <td>0.000000</td>\n",
       "      <td>0.000000</td>\n",
       "      <td>550.000000</td>\n",
       "    </tr>\n",
       "    <tr>\n",
       "      <td>25%</td>\n",
       "      <td>1121.000000</td>\n",
       "      <td>32.000000</td>\n",
       "      <td>6.000000</td>\n",
       "      <td>40.000000</td>\n",
       "      <td>285.000000</td>\n",
       "      <td>17.000000</td>\n",
       "      <td>12649.272500</td>\n",
       "      <td>13.000000</td>\n",
       "      <td>550.000000</td>\n",
       "    </tr>\n",
       "    <tr>\n",
       "      <td>50%</td>\n",
       "      <td>1240.000000</td>\n",
       "      <td>47.000000</td>\n",
       "      <td>9.000000</td>\n",
       "      <td>60.000000</td>\n",
       "      <td>423.000000</td>\n",
       "      <td>34.000000</td>\n",
       "      <td>16507.740000</td>\n",
       "      <td>17.000000</td>\n",
       "      <td>1021.000000</td>\n",
       "    </tr>\n",
       "    <tr>\n",
       "      <td>75%</td>\n",
       "      <td>1376.000000</td>\n",
       "      <td>62.000000</td>\n",
       "      <td>11.000000</td>\n",
       "      <td>76.000000</td>\n",
       "      <td>545.500000</td>\n",
       "      <td>55.000000</td>\n",
       "      <td>20043.792500</td>\n",
       "      <td>20.000000</td>\n",
       "      <td>1750.000000</td>\n",
       "    </tr>\n",
       "    <tr>\n",
       "      <td>max</td>\n",
       "      <td>1499.000000</td>\n",
       "      <td>75.000000</td>\n",
       "      <td>12.000000</td>\n",
       "      <td>198.000000</td>\n",
       "      <td>1435.000000</td>\n",
       "      <td>143.000000</td>\n",
       "      <td>38552.450000</td>\n",
       "      <td>38.000000</td>\n",
       "      <td>6770.000000</td>\n",
       "    </tr>\n",
       "  </tbody>\n",
       "</table>\n",
       "</div>"
      ],
      "text/plain": [
       "           user_id          age        month  calls_count    calls_sum  \\\n",
       "count  2230.000000  2230.000000  2229.000000  2223.000000  2223.000000   \n",
       "mean   1246.562332    46.557848     8.346792    58.621233   419.062978   \n",
       "std     146.110501    16.349865     2.920316    25.796101   189.325618   \n",
       "min    1001.000000    18.000000     1.000000     1.000000     0.000000   \n",
       "25%    1121.000000    32.000000     6.000000    40.000000   285.000000   \n",
       "50%    1240.000000    47.000000     9.000000    60.000000   423.000000   \n",
       "75%    1376.000000    62.000000    11.000000    76.000000   545.500000   \n",
       "max    1499.000000    75.000000    12.000000   198.000000  1435.000000   \n",
       "\n",
       "       message_count       mb_used      gb_used       income  \n",
       "count    1922.000000   2228.000000  2228.000000  2230.000000  \n",
       "mean       38.716441  16215.661849    16.336176  1289.641704  \n",
       "std        26.787949   5861.736234     5.737923   818.370799  \n",
       "min         1.000000      0.000000     0.000000   550.000000  \n",
       "25%        17.000000  12649.272500    13.000000   550.000000  \n",
       "50%        34.000000  16507.740000    17.000000  1021.000000  \n",
       "75%        55.000000  20043.792500    20.000000  1750.000000  \n",
       "max       143.000000  38552.450000    38.000000  6770.000000  "
      ]
     },
     "execution_count": 23,
     "metadata": {},
     "output_type": "execute_result"
    }
   ],
   "source": [
    "df[df['tariff']=='smart'].describe()"
   ]
  },
  {
   "cell_type": "code",
   "execution_count": 24,
   "metadata": {},
   "outputs": [
    {
     "data": {
      "text/html": [
       "<div>\n",
       "<style scoped>\n",
       "    .dataframe tbody tr th:only-of-type {\n",
       "        vertical-align: middle;\n",
       "    }\n",
       "\n",
       "    .dataframe tbody tr th {\n",
       "        vertical-align: top;\n",
       "    }\n",
       "\n",
       "    .dataframe thead th {\n",
       "        text-align: right;\n",
       "    }\n",
       "</style>\n",
       "<table border=\"1\" class=\"dataframe\">\n",
       "  <thead>\n",
       "    <tr style=\"text-align: right;\">\n",
       "      <th></th>\n",
       "      <th>user_id</th>\n",
       "      <th>age</th>\n",
       "      <th>month</th>\n",
       "      <th>calls_count</th>\n",
       "      <th>calls_sum</th>\n",
       "      <th>message_count</th>\n",
       "      <th>mb_used</th>\n",
       "      <th>gb_used</th>\n",
       "      <th>income</th>\n",
       "    </tr>\n",
       "  </thead>\n",
       "  <tbody>\n",
       "    <tr>\n",
       "      <td>count</td>\n",
       "      <td>986.000000</td>\n",
       "      <td>986.000000</td>\n",
       "      <td>985.000000</td>\n",
       "      <td>951.000000</td>\n",
       "      <td>951.000000</td>\n",
       "      <td>795.000000</td>\n",
       "      <td>975.000000</td>\n",
       "      <td>975.000000</td>\n",
       "      <td>986.000000</td>\n",
       "    </tr>\n",
       "    <tr>\n",
       "      <td>mean</td>\n",
       "      <td>1262.957404</td>\n",
       "      <td>46.838742</td>\n",
       "      <td>8.250761</td>\n",
       "      <td>76.016824</td>\n",
       "      <td>545.451104</td>\n",
       "      <td>61.161006</td>\n",
       "      <td>19668.485262</td>\n",
       "      <td>19.694359</td>\n",
       "      <td>2070.030426</td>\n",
       "    </tr>\n",
       "    <tr>\n",
       "      <td>std</td>\n",
       "      <td>140.689268</td>\n",
       "      <td>17.099807</td>\n",
       "      <td>2.871762</td>\n",
       "      <td>42.403348</td>\n",
       "      <td>306.925754</td>\n",
       "      <td>45.931026</td>\n",
       "      <td>9943.050284</td>\n",
       "      <td>9.702924</td>\n",
       "      <td>376.015578</td>\n",
       "    </tr>\n",
       "    <tr>\n",
       "      <td>min</td>\n",
       "      <td>1000.000000</td>\n",
       "      <td>18.000000</td>\n",
       "      <td>1.000000</td>\n",
       "      <td>1.000000</td>\n",
       "      <td>0.000000</td>\n",
       "      <td>1.000000</td>\n",
       "      <td>0.000000</td>\n",
       "      <td>0.000000</td>\n",
       "      <td>1950.000000</td>\n",
       "    </tr>\n",
       "    <tr>\n",
       "      <td>25%</td>\n",
       "      <td>1143.000000</td>\n",
       "      <td>30.000000</td>\n",
       "      <td>6.000000</td>\n",
       "      <td>43.000000</td>\n",
       "      <td>310.000000</td>\n",
       "      <td>24.000000</td>\n",
       "      <td>12008.305000</td>\n",
       "      <td>12.000000</td>\n",
       "      <td>1950.000000</td>\n",
       "    </tr>\n",
       "    <tr>\n",
       "      <td>50%</td>\n",
       "      <td>1277.000000</td>\n",
       "      <td>45.000000</td>\n",
       "      <td>9.000000</td>\n",
       "      <td>75.000000</td>\n",
       "      <td>528.000000</td>\n",
       "      <td>51.000000</td>\n",
       "      <td>19394.290000</td>\n",
       "      <td>19.000000</td>\n",
       "      <td>1950.000000</td>\n",
       "    </tr>\n",
       "    <tr>\n",
       "      <td>75%</td>\n",
       "      <td>1381.000000</td>\n",
       "      <td>63.000000</td>\n",
       "      <td>11.000000</td>\n",
       "      <td>105.000000</td>\n",
       "      <td>756.500000</td>\n",
       "      <td>87.500000</td>\n",
       "      <td>26896.550000</td>\n",
       "      <td>27.000000</td>\n",
       "      <td>1950.000000</td>\n",
       "    </tr>\n",
       "    <tr>\n",
       "      <td>max</td>\n",
       "      <td>1495.000000</td>\n",
       "      <td>75.000000</td>\n",
       "      <td>12.000000</td>\n",
       "      <td>244.000000</td>\n",
       "      <td>1673.000000</td>\n",
       "      <td>224.000000</td>\n",
       "      <td>49745.690000</td>\n",
       "      <td>49.000000</td>\n",
       "      <td>4800.000000</td>\n",
       "    </tr>\n",
       "  </tbody>\n",
       "</table>\n",
       "</div>"
      ],
      "text/plain": [
       "           user_id         age       month  calls_count    calls_sum  \\\n",
       "count   986.000000  986.000000  985.000000   951.000000   951.000000   \n",
       "mean   1262.957404   46.838742    8.250761    76.016824   545.451104   \n",
       "std     140.689268   17.099807    2.871762    42.403348   306.925754   \n",
       "min    1000.000000   18.000000    1.000000     1.000000     0.000000   \n",
       "25%    1143.000000   30.000000    6.000000    43.000000   310.000000   \n",
       "50%    1277.000000   45.000000    9.000000    75.000000   528.000000   \n",
       "75%    1381.000000   63.000000   11.000000   105.000000   756.500000   \n",
       "max    1495.000000   75.000000   12.000000   244.000000  1673.000000   \n",
       "\n",
       "       message_count       mb_used     gb_used       income  \n",
       "count     795.000000    975.000000  975.000000   986.000000  \n",
       "mean       61.161006  19668.485262   19.694359  2070.030426  \n",
       "std        45.931026   9943.050284    9.702924   376.015578  \n",
       "min         1.000000      0.000000    0.000000  1950.000000  \n",
       "25%        24.000000  12008.305000   12.000000  1950.000000  \n",
       "50%        51.000000  19394.290000   19.000000  1950.000000  \n",
       "75%        87.500000  26896.550000   27.000000  1950.000000  \n",
       "max       224.000000  49745.690000   49.000000  4800.000000  "
      ]
     },
     "execution_count": 24,
     "metadata": {},
     "output_type": "execute_result"
    }
   ],
   "source": [
    "df[df['tariff']=='ultra'].describe()"
   ]
  },
  {
   "cell_type": "markdown",
   "metadata": {},
   "source": [
    "Посчитаем среднее количество, дисперсию и стандартное отклонение показателей, характеризующих пользователей каждого тарифа."
   ]
  },
  {
   "cell_type": "code",
   "execution_count": 25,
   "metadata": {},
   "outputs": [
    {
     "name": "stdout",
     "output_type": "stream",
     "text": [
      "\n",
      "calls_sum\n",
      "\n",
      "средняя\n",
      "smart: 419.06\n",
      "ultra: 545.45\n",
      "дисперсия\n",
      "smart: 35844.19\n",
      "ultra: 94203.42\n",
      "стандартное отклонение\n",
      "smart: 189.33\n",
      "ultra: 306.93\n",
      "\n",
      "message_count\n",
      "\n",
      "средняя\n",
      "smart: 38.72\n",
      "ultra: 61.16\n",
      "дисперсия\n",
      "smart: 717.59\n",
      "ultra: 2109.66\n",
      "стандартное отклонение\n",
      "smart: 26.79\n",
      "ultra: 45.93\n",
      "\n",
      "gb_used\n",
      "\n",
      "средняя\n",
      "smart: 16.34\n",
      "ultra: 19.69\n",
      "дисперсия\n",
      "smart: 32.92\n",
      "ultra: 94.15\n",
      "стандартное отклонение\n",
      "smart: 5.74\n",
      "ultra: 9.70\n",
      "\n",
      "income\n",
      "\n",
      "средняя\n",
      "smart: 1289.64\n",
      "ultra: 2070.03\n",
      "дисперсия\n",
      "smart: 669730.76\n",
      "ultra: 141387.71\n",
      "стандартное отклонение\n",
      "smart: 818.37\n",
      "ultra: 376.02\n"
     ]
    }
   ],
   "source": [
    "for i in [\"calls_sum\", \"message_count\", \"gb_used\", \"income\"]:\n",
    "    print()\n",
    "    print(i)\n",
    "    print()\n",
    "    print(\"средняя\")\n",
    "    print(\"smart: {:.2f}\".format(df[df['tariff']=='smart'][i].mean()))\n",
    "    print(\"ultra: {:.2f}\".format(df[df['tariff']=='ultra'][i].mean()))\n",
    "    print(\"дисперсия\")\n",
    "    print(\"smart: {:.2f}\".format(np.var(df[df['tariff']=='smart'][i], ddof=1)))\n",
    "    print(\"ultra: {:.2f}\".format(np.var(df[df['tariff']=='ultra'][i], ddof=1)))\n",
    "    print(\"стандартное отклонение\")\n",
    "    print(\"smart: {:.2f}\".format(math.sqrt(np.var(df[df['tariff']==\"smart\"][i], ddof=1))))\n",
    "    print(\"ultra: {:.2f}\".format(math.sqrt(np.var(df[df['tariff']=='ultra'][i], ddof=1))))\n",
    "  "
   ]
  },
  {
   "cell_type": "code",
   "execution_count": 26,
   "metadata": {},
   "outputs": [
    {
     "data": {
      "image/png": "[encoded data removed]",
      "text/plain": [
       "<Figure size 1008x504 with 1 Axes>"
      ]
     },
     "metadata": {
      "needs_background": "light"
     },
     "output_type": "display_data"
    }
   ],
   "source": [
    "df[df['tariff']=='smart']['calls_sum'].plot(kind=\"hist\", bins=17, alpha=0.7, label=\"Смарт\", legend=\"q\", range = (0, 1700), figsize=(14,7), title=\"Распределение по минутам\");\n",
    "df[df['tariff']=='ultra']['calls_sum'].plot(kind=\"hist\", bins=17, alpha=0.7, label=\"Ультра\",legend=\"q\", range = (0, 1700), figsize=(14,7));"
   ]
  },
  {
   "cell_type": "markdown",
   "metadata": {},
   "source": [
    "Для тарифа смарт харктерно нормальное распределение с пиком в 500 минут, что объяснимо лимитом без доп. платы включенным в тариф.\n",
    "Пользователям тарифа ультра характерно более равномерное распределение, никто из них не разговаривал больше предоставленного лимита в 3000 мин. "
   ]
  },
  {
   "cell_type": "code",
   "execution_count": 27,
   "metadata": {},
   "outputs": [
    {
     "data": {
      "image/png": "[encoded data removed]",
      "text/plain": [
       "<Figure size 1008x504 with 1 Axes>"
      ]
     },
     "metadata": {
      "needs_background": "light"
     },
     "output_type": "display_data"
    }
   ],
   "source": [
    "df[df['tariff']=='smart']['message_count'].plot(kind=\"hist\", bins=25, alpha=0.7, label=\"Смарт\", legend=\"q\", range = (0, 250), figsize=(14,7), title=\"Распределение по сообщениям\");\n",
    "df[df['tariff']=='ultra']['message_count'].plot(kind=\"hist\", bins=25, alpha=0.7, label=\"Ультра\",legend=\"q\", range = (0, 250), figsize=(14,7));"
   ]
  },
  {
   "cell_type": "markdown",
   "metadata": {},
   "source": [
    "При лимите для тарифа смарт в 50 бесплатных сообщений пик их распределения призодится на 30. Пользователи обоих тарифов редко отправляют более 100 сообщений."
   ]
  },
  {
   "cell_type": "code",
   "execution_count": 28,
   "metadata": {},
   "outputs": [
    {
     "data": {
      "image/png": "[encoded data removed]",
      "text/plain": [
       "<Figure size 1008x504 with 1 Axes>"
      ]
     },
     "metadata": {
      "needs_background": "light"
     },
     "output_type": "display_data"
    }
   ],
   "source": [
    "df[df['tariff']=='smart']['gb_used'].plot(kind=\"hist\", bins=50, alpha=0.7, label=\"Смарт\", legend=\"q\", range = (0, 50), figsize=(14,7), title=\"Распределение по траффику интернета, gb\");\n",
    "df[df['tariff']=='ultra']['gb_used'].plot(kind=\"hist\", bins=50, alpha=0.7, label=\"Ультра\",legend=\"q\", range = (0, 50), figsize=(14,7));"
   ]
  },
  {
   "cell_type": "markdown",
   "metadata": {},
   "source": [
    "Для тарифа смарт харктерно нормальное распределение. При лимите для тарифа смарт в 15 бесплатных ГБ пик их распределения превышает его и составляет примерно 17 ГБ. Пользователям тарифа ультра характерно более равномерное распределение, лишь малая часть использовало услугу больше предоставленного лимита в 30 ГБ."
   ]
  },
  {
   "cell_type": "markdown",
   "metadata": {},
   "source": [
    "Дополнительно проанализируем выручку по тарифам."
   ]
  },
  {
   "cell_type": "code",
   "execution_count": 29,
   "metadata": {},
   "outputs": [
    {
     "data": {
      "image/png": "[encoded data removed]",
      "text/plain": [
       "<Figure size 1008x504 with 1 Axes>"
      ]
     },
     "metadata": {
      "needs_background": "light"
     },
     "output_type": "display_data"
    }
   ],
   "source": [
    "df[df['tariff']=='smart']['income'].plot(kind=\"hist\", bins=50, alpha=0.7, label=\"Смарт\", legend=\"q\", range = (500, 5000), figsize=(14,7), title=\"Распределение выручки, руб\");\n",
    "df[df['tariff']=='ultra']['income'].plot(kind=\"hist\", bins=50, alpha=0.7, label=\"Ультра\",legend=\"q\", range = (500, 5000), figsize=(14,7));"
   ]
  },
  {
   "cell_type": "markdown",
   "metadata": {},
   "source": [
    "Пик распределения приходится на суммы ежемесячной абонентской платы: смарт - 550 руб, ультра - 1950 руб."
   ]
  },
  {
   "cell_type": "code",
   "execution_count": 30,
   "metadata": {},
   "outputs": [
    {
     "data": {
      "image/png": "[encoded data removed]",
      "text/plain": [
       "<Figure size 432x288 with 1 Axes>"
      ]
     },
     "metadata": {
      "needs_background": "light"
     },
     "output_type": "display_data"
    }
   ],
   "source": [
    "df[df['tariff']=='smart'].boxplot('income');"
   ]
  },
  {
   "cell_type": "code",
   "execution_count": 31,
   "metadata": {},
   "outputs": [
    {
     "data": {
      "text/plain": [
       "<matplotlib.axes._subplots.AxesSubplot at 0x7f6d20f62f90>"
      ]
     },
     "execution_count": 31,
     "metadata": {},
     "output_type": "execute_result"
    },
    {
     "data": {
      "image/png": "[encoded data removed]",
      "text/plain": [
       "<Figure size 432x288 with 1 Axes>"
      ]
     },
     "metadata": {
      "needs_background": "light"
     },
     "output_type": "display_data"
    }
   ],
   "source": [
    "df[df['tariff']=='ultra'].boxplot('income')"
   ]
  },
  {
   "cell_type": "markdown",
   "metadata": {},
   "source": [
    "<a id='31'></a>\n",
    "### Вывод\n",
    "Средняя месячная выручка от пользователей тарифа ультра на 800 рублей больше, но они не превышают установленные в рамках тарифа лимиты на звонки и сообщения и лишь немногие превышают использование интернета, из чего следует что выручка от них редко будет превышать 1950 рублей. \n",
    "Пользователи тарифа смарт при абонентской плате в 550 рублей, зачастую превышают установленный лимит, средняя выручка их пользователя составляет 1290 рублей."
   ]
  },
  {
   "cell_type": "markdown",
   "metadata": {},
   "source": [
    "<a id='4'></a>\n",
    "## Проверка гипотез"
   ]
  },
  {
   "cell_type": "markdown",
   "metadata": {},
   "source": [
    "<a id='41'></a>\n",
    "### Cредняя выручка пользователей тарифов «Ультра» и «Смарт» различаются."
   ]
  },
  {
   "cell_type": "markdown",
   "metadata": {},
   "source": [
    "H0 - средняя выручка пользователей тарифов «Ультра» и «Смарт» не различается\n",
    "\n",
    "H1 - средняя выручка пользователей тарифов «Ультра» и «Смарт» различается"
   ]
  },
  {
   "cell_type": "code",
   "execution_count": 32,
   "metadata": {},
   "outputs": [
    {
     "name": "stdout",
     "output_type": "stream",
     "text": [
      "p-значение: 1.927011394420941e-250\n",
      "Отвергаем нулевую гипотезу\n"
     ]
    }
   ],
   "source": [
    "ultra = df[df['tariff']=='ultra']['income']\n",
    "smart = df[df['tariff']=='smart']['income']\n",
    "results = st.ttest_ind(ultra, smart, equal_var=False)\n",
    "\n",
    "print('p-значение:', results.pvalue)\n",
    "\n",
    "\n",
    "if (results.pvalue < 0.05):\n",
    "    print(\"Отвергаем нулевую гипотезу\")\n",
    "else:\n",
    "    print(\"Не получилось отвергнуть нулевую гипотезу\")"
   ]
  },
  {
   "cell_type": "markdown",
   "metadata": {},
   "source": [
    "Применив t-тест при критическом уровене статистической значимости в 0.05, приходим к выводу, что средняя выручка пользователей тарифов «Ультра» и «Смарт» различается."
   ]
  },
  {
   "cell_type": "markdown",
   "metadata": {},
   "source": [
    "<a id='42'></a>\n",
    "### Cредняя выручка пользователей из Москвы отличается от выручки пользователей из других регионов."
   ]
  },
  {
   "cell_type": "markdown",
   "metadata": {},
   "source": [
    "H0 - средняя выручка пользователей из Москвы не отличается от выручки пользователей из других регионов\n",
    "\n",
    "H1 - средняя выручка пользователей из Москвы отличается от выручки пользователей из других регионов"
   ]
  },
  {
   "cell_type": "code",
   "execution_count": 33,
   "metadata": {},
   "outputs": [
    {
     "name": "stdout",
     "output_type": "stream",
     "text": [
      "p-значение: 0.5216952110000278\n",
      "Не получилось отвергнуть нулевую гипотезу\n"
     ]
    }
   ],
   "source": [
    "moscow = df[df['city']=='Москва']['income']\n",
    "other = df[df['city']!='Москва']['income']\n",
    "results = st.ttest_ind(moscow, other, equal_var=False)\n",
    "\n",
    "print('p-значение:', results.pvalue)\n",
    "\n",
    "\n",
    "if (results.pvalue < 0.05):\n",
    "    print(\"Отвергаем нулевую гипотезу\")\n",
    "else:\n",
    "    print(\"Не получилось отвергнуть нулевую гипотезу\")"
   ]
  },
  {
   "cell_type": "markdown",
   "metadata": {},
   "source": [
    "Применив t-тест при критическом уровене статистической значимости в 0.05, приходим к выводу, что средняя выручка пользователей Москвы и других регионов не отличается."
   ]
  },
  {
   "cell_type": "markdown",
   "metadata": {},
   "source": [
    "<a id='5'></a>\n",
    "## Общий вывод"
   ]
  },
  {
   "cell_type": "markdown",
   "metadata": {},
   "source": [
    "На этапе предобработки данных удалили лишние столбцы, привели типы данных к более удобным целочисленным с их округлением согласно т.з. и объединили всю информацию в одну общую таблицу.\n",
    "\n",
    "Посчитали для каждого пользователя помесячно:\n",
    "- количество сделанных звонков и израсходованных минут разговора\n",
    "- количество отправленных сообщений\n",
    "- объем израсходованного интернет-трафика\n",
    "- выручку\n",
    "\n",
    "Посчитали среднее количество, дисперсию и стандартное отклонение, а также проанализировли их распределение путем составления гистограм вышеперечисленных параметров.\n",
    "\n",
    "При абонетской плате в 1950 рублей, пользователи тарифа ультра редко превышают установленные в рамках тарифа лимиты, тогда как пользователи тарифа смарт при абонентской плате в 550 рублей, зачастую превышают установленный лимит, средняя выручка их пользователя составляет 1290 рублей. \n",
    "\n",
    "Гипотеза о различии средней выручки пользователей тарифов «Ультра» и «Смарт» подтвердилась, а средняя выручка пользователей Москвы и других регионов не отличается.\n",
    "\n",
    "Учитывая, что средняя месячная выручка от пользователей тарифа ультра на 800 рублей больше, именно он приносит больше денег с пользователя.\n",
    "\n",
    "\n",
    "\n"
   ]
  }
 ],
 "metadata": {
  "ExecuteTimeLog": [
   {
    "duration": 2937,
    "start_time": "2021-12-23T14:59:43.418Z"
   },
   {
    "duration": 1715,
    "start_time": "2021-12-23T15:00:35.175Z"
   },
   {
    "duration": 2660,
    "start_time": "2021-12-23T15:00:43.887Z"
   },
   {
    "duration": 162,
    "start_time": "2021-12-23T15:00:51.679Z"
   },
   {
    "duration": 233,
    "start_time": "2021-12-23T15:00:59.229Z"
   },
   {
    "duration": 505,
    "start_time": "2021-12-23T15:03:47.534Z"
   },
   {
    "duration": 11,
    "start_time": "2021-12-23T15:04:14.551Z"
   },
   {
    "duration": 15,
    "start_time": "2021-12-23T15:04:23.564Z"
   },
   {
    "duration": 10,
    "start_time": "2021-12-23T15:04:49.235Z"
   },
   {
    "duration": 17,
    "start_time": "2021-12-23T15:04:51.783Z"
   },
   {
    "duration": 11,
    "start_time": "2021-12-23T15:05:04.887Z"
   },
   {
    "duration": 11,
    "start_time": "2021-12-23T15:05:11.464Z"
   },
   {
    "duration": 15,
    "start_time": "2021-12-23T15:05:18.353Z"
   },
   {
    "duration": 2067,
    "start_time": "2021-12-26T07:36:31.700Z"
   },
   {
    "duration": 24,
    "start_time": "2021-12-26T07:36:33.770Z"
   },
   {
    "duration": 16,
    "start_time": "2021-12-26T07:36:33.799Z"
   },
   {
    "duration": 47,
    "start_time": "2021-12-26T07:36:33.817Z"
   },
   {
    "duration": 12,
    "start_time": "2021-12-26T07:36:33.866Z"
   },
   {
    "duration": 19,
    "start_time": "2021-12-26T07:36:33.881Z"
   },
   {
    "duration": 15,
    "start_time": "2021-12-26T07:36:58.475Z"
   },
   {
    "duration": 1946,
    "start_time": "2021-12-27T07:07:17.010Z"
   },
   {
    "duration": 21,
    "start_time": "2021-12-27T07:07:18.958Z"
   },
   {
    "duration": 15,
    "start_time": "2021-12-27T07:07:18.982Z"
   },
   {
    "duration": 19,
    "start_time": "2021-12-27T07:07:18.999Z"
   },
   {
    "duration": 43,
    "start_time": "2021-12-27T07:07:19.020Z"
   },
   {
    "duration": 20,
    "start_time": "2021-12-27T07:07:19.066Z"
   },
   {
    "duration": 221,
    "start_time": "2021-12-27T07:15:17.512Z"
   },
   {
    "duration": 5,
    "start_time": "2021-12-27T07:36:08.850Z"
   },
   {
    "duration": 72,
    "start_time": "2021-12-27T07:36:24.658Z"
   },
   {
    "duration": 617,
    "start_time": "2021-12-27T07:36:44.956Z"
   },
   {
    "duration": 149,
    "start_time": "2021-12-27T07:36:49.547Z"
   },
   {
    "duration": 145,
    "start_time": "2021-12-27T07:37:11.549Z"
   },
   {
    "duration": 492,
    "start_time": "2021-12-27T07:37:44.093Z"
   },
   {
    "duration": 12,
    "start_time": "2021-12-27T07:39:14.145Z"
   },
   {
    "duration": 14,
    "start_time": "2021-12-27T07:39:18.144Z"
   },
   {
    "duration": 9,
    "start_time": "2021-12-27T07:39:25.073Z"
   },
   {
    "duration": 10,
    "start_time": "2021-12-27T07:39:33.034Z"
   },
   {
    "duration": 10,
    "start_time": "2021-12-27T07:39:40.944Z"
   },
   {
    "duration": 319,
    "start_time": "2021-12-27T07:40:11.315Z"
   },
   {
    "duration": 686,
    "start_time": "2021-12-27T07:40:30.322Z"
   },
   {
    "duration": 742,
    "start_time": "2021-12-27T07:43:54.035Z"
   },
   {
    "duration": 943,
    "start_time": "2021-12-27T07:44:18.420Z"
   },
   {
    "duration": 739,
    "start_time": "2021-12-27T07:45:14.470Z"
   },
   {
    "duration": 726,
    "start_time": "2021-12-27T07:45:20.957Z"
   },
   {
    "duration": 750,
    "start_time": "2021-12-27T07:45:30.213Z"
   },
   {
    "duration": 868,
    "start_time": "2021-12-27T07:46:00.726Z"
   },
   {
    "duration": 768,
    "start_time": "2021-12-27T07:46:06.127Z"
   },
   {
    "duration": 256,
    "start_time": "2021-12-28T12:40:38.451Z"
   },
   {
    "duration": 1488,
    "start_time": "2021-12-28T12:40:44.364Z"
   },
   {
    "duration": 430,
    "start_time": "2021-12-28T12:40:45.854Z"
   },
   {
    "duration": 7,
    "start_time": "2021-12-28T12:40:46.287Z"
   },
   {
    "duration": 51,
    "start_time": "2021-12-28T12:40:46.296Z"
   },
   {
    "duration": 265,
    "start_time": "2021-12-28T12:41:09.709Z"
   },
   {
    "duration": 286,
    "start_time": "2021-12-28T12:41:15.213Z"
   },
   {
    "duration": 364,
    "start_time": "2021-12-28T12:41:32.301Z"
   },
   {
    "duration": 413,
    "start_time": "2021-12-28T12:41:32.667Z"
   },
   {
    "duration": 6,
    "start_time": "2021-12-28T12:41:33.082Z"
   },
   {
    "duration": 13,
    "start_time": "2021-12-28T12:41:33.090Z"
   },
   {
    "duration": 211,
    "start_time": "2021-12-28T12:43:51.818Z"
   },
   {
    "duration": 358,
    "start_time": "2021-12-28T12:44:03.810Z"
   },
   {
    "duration": 434,
    "start_time": "2021-12-28T12:44:04.170Z"
   },
   {
    "duration": 6,
    "start_time": "2021-12-28T12:44:04.606Z"
   },
   {
    "duration": 221,
    "start_time": "2021-12-28T12:44:04.641Z"
   },
   {
    "duration": 208,
    "start_time": "2021-12-28T12:44:31.659Z"
   },
   {
    "duration": 384,
    "start_time": "2021-12-28T12:44:38.195Z"
   },
   {
    "duration": 404,
    "start_time": "2021-12-28T12:44:38.581Z"
   },
   {
    "duration": 6,
    "start_time": "2021-12-28T12:44:38.987Z"
   },
   {
    "duration": 60,
    "start_time": "2021-12-28T12:44:38.995Z"
   },
   {
    "duration": 6,
    "start_time": "2021-12-28T12:45:22.478Z"
   },
   {
    "duration": 222,
    "start_time": "2021-12-28T12:45:55.006Z"
   },
   {
    "duration": 4,
    "start_time": "2021-12-28T12:46:26.167Z"
   },
   {
    "duration": 397,
    "start_time": "2021-12-28T12:46:33.170Z"
   },
   {
    "duration": 431,
    "start_time": "2021-12-28T12:46:33.569Z"
   },
   {
    "duration": 7,
    "start_time": "2021-12-28T12:46:34.003Z"
   },
   {
    "duration": 54,
    "start_time": "2021-12-28T12:46:34.011Z"
   },
   {
    "duration": 3,
    "start_time": "2021-12-28T12:46:34.067Z"
   },
   {
    "duration": 451,
    "start_time": "2021-12-28T12:48:41.229Z"
   },
   {
    "duration": 435,
    "start_time": "2021-12-28T12:48:41.682Z"
   },
   {
    "duration": 26,
    "start_time": "2021-12-28T12:48:42.119Z"
   },
   {
    "duration": 42,
    "start_time": "2021-12-28T12:48:42.147Z"
   },
   {
    "duration": 4,
    "start_time": "2021-12-28T12:48:42.191Z"
   },
   {
    "duration": 215,
    "start_time": "2021-12-28T13:01:13.543Z"
   },
   {
    "duration": 1475,
    "start_time": "2021-12-28T13:01:24.168Z"
   },
   {
    "duration": 455,
    "start_time": "2021-12-28T13:01:25.645Z"
   },
   {
    "duration": 8,
    "start_time": "2021-12-28T13:01:26.103Z"
   },
   {
    "duration": 391,
    "start_time": "2021-12-28T13:01:26.142Z"
   },
   {
    "duration": -21,
    "start_time": "2021-12-28T13:01:26.556Z"
   },
   {
    "duration": 233,
    "start_time": "2021-12-28T13:02:10.518Z"
   },
   {
    "duration": 1412,
    "start_time": "2021-12-28T13:02:23.297Z"
   },
   {
    "duration": 403,
    "start_time": "2021-12-28T13:02:24.711Z"
   },
   {
    "duration": 29,
    "start_time": "2021-12-28T13:02:25.116Z"
   },
   {
    "duration": 74,
    "start_time": "2021-12-28T13:02:25.147Z"
   },
   {
    "duration": 22,
    "start_time": "2021-12-28T13:02:25.223Z"
   },
   {
    "duration": 6,
    "start_time": "2021-12-28T13:04:09.759Z"
   },
   {
    "duration": 12,
    "start_time": "2021-12-28T13:04:36.568Z"
   },
   {
    "duration": 294,
    "start_time": "2021-12-28T13:07:48.143Z"
   },
   {
    "duration": 224,
    "start_time": "2021-12-28T13:29:06.773Z"
   },
   {
    "duration": 1491,
    "start_time": "2021-12-28T13:30:10.920Z"
   },
   {
    "duration": 445,
    "start_time": "2021-12-28T13:30:12.413Z"
   },
   {
    "duration": 8,
    "start_time": "2021-12-28T13:30:12.861Z"
   },
   {
    "duration": 98,
    "start_time": "2021-12-28T13:30:12.872Z"
   },
   {
    "duration": 5,
    "start_time": "2021-12-28T13:30:12.972Z"
   },
   {
    "duration": 14,
    "start_time": "2021-12-28T13:30:12.979Z"
   },
   {
    "duration": 93,
    "start_time": "2021-12-28T13:30:12.995Z"
   },
   {
    "duration": 11,
    "start_time": "2021-12-28T13:30:24.932Z"
   },
   {
    "duration": 16,
    "start_time": "2021-12-28T13:30:39.125Z"
   },
   {
    "duration": 278,
    "start_time": "2021-12-28T13:57:52.704Z"
   },
   {
    "duration": 21,
    "start_time": "2021-12-28T13:58:04.875Z"
   },
   {
    "duration": 5149,
    "start_time": "2021-12-28T13:59:18.483Z"
   },
   {
    "duration": 5441,
    "start_time": "2021-12-28T13:59:57.860Z"
   },
   {
    "duration": 47,
    "start_time": "2021-12-28T14:00:31.070Z"
   },
   {
    "duration": 12,
    "start_time": "2021-12-28T14:00:56.070Z"
   },
   {
    "duration": 1963,
    "start_time": "2021-12-29T09:17:23.923Z"
   },
   {
    "duration": 666,
    "start_time": "2021-12-29T09:17:25.889Z"
   },
   {
    "duration": 10,
    "start_time": "2021-12-29T09:17:26.558Z"
   },
   {
    "duration": 153,
    "start_time": "2021-12-29T09:17:26.571Z"
   },
   {
    "duration": 7,
    "start_time": "2021-12-29T09:17:26.726Z"
   },
   {
    "duration": 31,
    "start_time": "2021-12-29T09:17:26.735Z"
   },
   {
    "duration": 117,
    "start_time": "2021-12-29T09:17:26.768Z"
   },
   {
    "duration": 86,
    "start_time": "2021-12-29T09:17:26.889Z"
   },
   {
    "duration": 25,
    "start_time": "2021-12-29T09:17:26.978Z"
   },
   {
    "duration": 59,
    "start_time": "2021-12-29T10:30:32.176Z"
   },
   {
    "duration": 72,
    "start_time": "2021-12-29T10:30:40.504Z"
   },
   {
    "duration": 79,
    "start_time": "2021-12-29T11:06:46.468Z"
   },
   {
    "duration": 68,
    "start_time": "2021-12-29T11:06:56.636Z"
   },
   {
    "duration": 119,
    "start_time": "2021-12-29T11:07:14.383Z"
   },
   {
    "duration": 572,
    "start_time": "2021-12-29T11:08:30.897Z"
   },
   {
    "duration": 396,
    "start_time": "2021-12-29T11:08:55.523Z"
   },
   {
    "duration": 1820,
    "start_time": "2021-12-29T11:09:24.469Z"
   },
   {
    "duration": 91,
    "start_time": "2021-12-29T11:09:48.747Z"
   },
   {
    "duration": 50,
    "start_time": "2021-12-29T11:12:01.217Z"
   },
   {
    "duration": 19,
    "start_time": "2021-12-29T11:12:34.138Z"
   },
   {
    "duration": 40,
    "start_time": "2021-12-29T11:13:25.660Z"
   },
   {
    "duration": 68,
    "start_time": "2021-12-29T11:13:31.046Z"
   },
   {
    "duration": 40,
    "start_time": "2021-12-29T11:13:36.668Z"
   },
   {
    "duration": 9600,
    "start_time": "2021-12-29T11:49:17.845Z"
   },
   {
    "duration": -31,
    "start_time": "2021-12-29T11:49:54.816Z"
   },
   {
    "duration": 37,
    "start_time": "2021-12-29T11:49:58.550Z"
   },
   {
    "duration": 395,
    "start_time": "2021-12-29T11:56:33.797Z"
   },
   {
    "duration": 360,
    "start_time": "2021-12-29T11:56:58.789Z"
   },
   {
    "duration": 374,
    "start_time": "2021-12-29T11:57:06.877Z"
   },
   {
    "duration": 51,
    "start_time": "2021-12-29T11:57:19.205Z"
   },
   {
    "duration": 129,
    "start_time": "2021-12-29T11:57:39.110Z"
   },
   {
    "duration": 52,
    "start_time": "2021-12-29T11:57:48.110Z"
   },
   {
    "duration": 41,
    "start_time": "2021-12-29T12:02:13.959Z"
   },
   {
    "duration": 48,
    "start_time": "2021-12-29T12:02:40.463Z"
   },
   {
    "duration": 2207,
    "start_time": "2021-12-29T12:04:18.936Z"
   },
   {
    "duration": 710,
    "start_time": "2021-12-29T12:04:21.145Z"
   },
   {
    "duration": 10,
    "start_time": "2021-12-29T12:04:21.858Z"
   },
   {
    "duration": 153,
    "start_time": "2021-12-29T12:04:21.871Z"
   },
   {
    "duration": 8,
    "start_time": "2021-12-29T12:04:22.027Z"
   },
   {
    "duration": 40,
    "start_time": "2021-12-29T12:04:22.038Z"
   },
   {
    "duration": 122,
    "start_time": "2021-12-29T12:04:22.082Z"
   },
   {
    "duration": 78,
    "start_time": "2021-12-29T12:04:22.207Z"
   },
   {
    "duration": 41,
    "start_time": "2021-12-29T12:04:22.289Z"
   },
   {
    "duration": 93,
    "start_time": "2021-12-29T12:04:22.333Z"
   },
   {
    "duration": 44,
    "start_time": "2021-12-29T12:04:22.429Z"
   },
   {
    "duration": 55,
    "start_time": "2021-12-29T12:04:22.476Z"
   },
   {
    "duration": 56,
    "start_time": "2021-12-29T12:04:22.534Z"
   },
   {
    "duration": 30,
    "start_time": "2021-12-29T12:12:32.098Z"
   },
   {
    "duration": 21,
    "start_time": "2021-12-29T12:16:00.837Z"
   },
   {
    "duration": 32,
    "start_time": "2021-12-29T12:23:45.601Z"
   },
   {
    "duration": 23,
    "start_time": "2021-12-29T12:26:11.894Z"
   },
   {
    "duration": 30,
    "start_time": "2021-12-29T12:27:06.441Z"
   },
   {
    "duration": 47,
    "start_time": "2021-12-29T12:29:25.557Z"
   },
   {
    "duration": 20,
    "start_time": "2021-12-29T12:43:46.452Z"
   },
   {
    "duration": 27,
    "start_time": "2021-12-29T12:44:58.407Z"
   },
   {
    "duration": 27,
    "start_time": "2021-12-29T12:45:01.934Z"
   },
   {
    "duration": 25,
    "start_time": "2021-12-29T12:49:15.240Z"
   },
   {
    "duration": 25,
    "start_time": "2021-12-29T12:50:05.731Z"
   },
   {
    "duration": 27,
    "start_time": "2021-12-29T12:50:28.659Z"
   },
   {
    "duration": 33,
    "start_time": "2021-12-29T12:51:57.935Z"
   },
   {
    "duration": 608,
    "start_time": "2021-12-29T12:52:39.559Z"
   },
   {
    "duration": 734,
    "start_time": "2021-12-29T12:52:44.321Z"
   },
   {
    "duration": 690,
    "start_time": "2021-12-29T12:52:45.058Z"
   },
   {
    "duration": 9,
    "start_time": "2021-12-29T12:52:45.753Z"
   },
   {
    "duration": 144,
    "start_time": "2021-12-29T12:52:45.765Z"
   },
   {
    "duration": 15,
    "start_time": "2021-12-29T12:52:45.912Z"
   },
   {
    "duration": 17,
    "start_time": "2021-12-29T12:52:45.929Z"
   },
   {
    "duration": 119,
    "start_time": "2021-12-29T12:52:45.949Z"
   },
   {
    "duration": 79,
    "start_time": "2021-12-29T12:52:46.072Z"
   },
   {
    "duration": 18,
    "start_time": "2021-12-29T12:52:46.154Z"
   },
   {
    "duration": 99,
    "start_time": "2021-12-29T12:52:46.174Z"
   },
   {
    "duration": 61,
    "start_time": "2021-12-29T12:52:46.275Z"
   },
   {
    "duration": 21,
    "start_time": "2021-12-29T12:52:46.338Z"
   },
   {
    "duration": 70,
    "start_time": "2021-12-29T12:52:46.361Z"
   },
   {
    "duration": 341,
    "start_time": "2021-12-29T12:52:46.433Z"
   },
   {
    "duration": -20,
    "start_time": "2021-12-29T12:52:46.797Z"
   },
   {
    "duration": 392,
    "start_time": "2021-12-29T12:53:14.000Z"
   },
   {
    "duration": 473,
    "start_time": "2021-12-29T12:53:52.552Z"
   },
   {
    "duration": 1978,
    "start_time": "2021-12-29T12:54:10.717Z"
   },
   {
    "duration": 745,
    "start_time": "2021-12-29T12:54:12.698Z"
   },
   {
    "duration": 10,
    "start_time": "2021-12-29T12:54:13.447Z"
   },
   {
    "duration": 142,
    "start_time": "2021-12-29T12:54:13.460Z"
   },
   {
    "duration": 18,
    "start_time": "2021-12-29T12:54:13.605Z"
   },
   {
    "duration": 17,
    "start_time": "2021-12-29T12:54:13.626Z"
   },
   {
    "duration": 115,
    "start_time": "2021-12-29T12:54:13.646Z"
   },
   {
    "duration": 80,
    "start_time": "2021-12-29T12:54:13.764Z"
   },
   {
    "duration": 19,
    "start_time": "2021-12-29T12:54:13.847Z"
   },
   {
    "duration": 106,
    "start_time": "2021-12-29T12:54:13.868Z"
   },
   {
    "duration": 62,
    "start_time": "2021-12-29T12:54:13.976Z"
   },
   {
    "duration": 21,
    "start_time": "2021-12-29T12:54:14.041Z"
   },
   {
    "duration": 100,
    "start_time": "2021-12-29T12:54:14.064Z"
   },
   {
    "duration": 540,
    "start_time": "2021-12-29T12:54:14.167Z"
   },
   {
    "duration": -22,
    "start_time": "2021-12-29T12:54:14.731Z"
   },
   {
    "duration": 38,
    "start_time": "2021-12-29T12:54:53.424Z"
   },
   {
    "duration": 24,
    "start_time": "2021-12-29T12:54:58.351Z"
   },
   {
    "duration": 1917,
    "start_time": "2021-12-29T12:55:17.555Z"
   },
   {
    "duration": 702,
    "start_time": "2021-12-29T12:55:19.474Z"
   },
   {
    "duration": 45,
    "start_time": "2021-12-29T12:55:20.179Z"
   },
   {
    "duration": 129,
    "start_time": "2021-12-29T12:55:20.228Z"
   },
   {
    "duration": 6,
    "start_time": "2021-12-29T12:55:20.360Z"
   },
   {
    "duration": 18,
    "start_time": "2021-12-29T12:55:20.368Z"
   },
   {
    "duration": 136,
    "start_time": "2021-12-29T12:55:20.388Z"
   },
   {
    "duration": 68,
    "start_time": "2021-12-29T12:55:20.527Z"
   },
   {
    "duration": 35,
    "start_time": "2021-12-29T12:55:20.597Z"
   },
   {
    "duration": 95,
    "start_time": "2021-12-29T12:55:20.634Z"
   },
   {
    "duration": 46,
    "start_time": "2021-12-29T12:55:20.732Z"
   },
   {
    "duration": 47,
    "start_time": "2021-12-29T12:55:20.780Z"
   },
   {
    "duration": 86,
    "start_time": "2021-12-29T12:55:20.830Z"
   },
   {
    "duration": 26,
    "start_time": "2021-12-29T12:55:20.926Z"
   },
   {
    "duration": 23,
    "start_time": "2021-12-29T12:55:20.955Z"
   },
   {
    "duration": 28,
    "start_time": "2021-12-29T12:55:39.001Z"
   },
   {
    "duration": 8372,
    "start_time": "2021-12-29T12:56:41.107Z"
   },
   {
    "duration": 10,
    "start_time": "2021-12-29T12:56:58.781Z"
   },
   {
    "duration": 26,
    "start_time": "2021-12-29T12:59:58.338Z"
   },
   {
    "duration": 16,
    "start_time": "2021-12-29T13:00:45.533Z"
   },
   {
    "duration": 22,
    "start_time": "2021-12-29T13:00:49.205Z"
   },
   {
    "duration": 500,
    "start_time": "2021-12-29T13:01:33.527Z"
   },
   {
    "duration": 631,
    "start_time": "2021-12-29T13:01:34.030Z"
   },
   {
    "duration": 9,
    "start_time": "2021-12-29T13:01:34.664Z"
   },
   {
    "duration": 129,
    "start_time": "2021-12-29T13:01:34.676Z"
   },
   {
    "duration": 21,
    "start_time": "2021-12-29T13:01:34.807Z"
   },
   {
    "duration": 20,
    "start_time": "2021-12-29T13:01:34.831Z"
   },
   {
    "duration": 128,
    "start_time": "2021-12-29T13:01:34.854Z"
   },
   {
    "duration": 81,
    "start_time": "2021-12-29T13:01:34.987Z"
   },
   {
    "duration": 20,
    "start_time": "2021-12-29T13:01:35.071Z"
   },
   {
    "duration": 97,
    "start_time": "2021-12-29T13:01:35.094Z"
   },
   {
    "duration": 64,
    "start_time": "2021-12-29T13:01:35.194Z"
   },
   {
    "duration": 20,
    "start_time": "2021-12-29T13:01:35.261Z"
   },
   {
    "duration": 76,
    "start_time": "2021-12-29T13:01:35.284Z"
   },
   {
    "duration": 17,
    "start_time": "2021-12-29T13:01:35.363Z"
   },
   {
    "duration": 41,
    "start_time": "2021-12-29T13:01:35.382Z"
   },
   {
    "duration": 38,
    "start_time": "2021-12-29T13:01:35.427Z"
   },
   {
    "duration": 22,
    "start_time": "2021-12-29T13:02:11.121Z"
   },
   {
    "duration": 16,
    "start_time": "2021-12-29T13:02:24.128Z"
   },
   {
    "duration": 7,
    "start_time": "2021-12-29T13:04:24.276Z"
   },
   {
    "duration": 18,
    "start_time": "2021-12-29T13:04:30.061Z"
   },
   {
    "duration": 9,
    "start_time": "2021-12-29T13:05:00.517Z"
   },
   {
    "duration": 473,
    "start_time": "2021-12-29T13:05:42.000Z"
   },
   {
    "duration": 593,
    "start_time": "2021-12-29T13:05:42.476Z"
   },
   {
    "duration": 10,
    "start_time": "2021-12-29T13:05:43.072Z"
   },
   {
    "duration": 137,
    "start_time": "2021-12-29T13:05:43.123Z"
   },
   {
    "duration": 7,
    "start_time": "2021-12-29T13:05:43.262Z"
   },
   {
    "duration": 53,
    "start_time": "2021-12-29T13:05:43.272Z"
   },
   {
    "duration": 95,
    "start_time": "2021-12-29T13:05:43.328Z"
   },
   {
    "duration": 66,
    "start_time": "2021-12-29T13:05:43.427Z"
   },
   {
    "duration": 39,
    "start_time": "2021-12-29T13:05:43.495Z"
   },
   {
    "duration": 63,
    "start_time": "2021-12-29T13:05:43.537Z"
   },
   {
    "duration": 42,
    "start_time": "2021-12-29T13:05:43.624Z"
   },
   {
    "duration": 19,
    "start_time": "2021-12-29T13:05:43.668Z"
   },
   {
    "duration": 70,
    "start_time": "2021-12-29T13:05:43.690Z"
   },
   {
    "duration": 13,
    "start_time": "2021-12-29T13:05:43.762Z"
   },
   {
    "duration": 24,
    "start_time": "2021-12-29T13:05:43.777Z"
   },
   {
    "duration": 23,
    "start_time": "2021-12-29T13:05:43.803Z"
   },
   {
    "duration": 23,
    "start_time": "2021-12-29T13:05:43.829Z"
   },
   {
    "duration": 20,
    "start_time": "2021-12-29T13:05:43.854Z"
   },
   {
    "duration": 18,
    "start_time": "2021-12-29T13:11:03.418Z"
   },
   {
    "duration": 15,
    "start_time": "2021-12-29T13:11:39.476Z"
   },
   {
    "duration": 2010,
    "start_time": "2021-12-29T13:11:53.400Z"
   },
   {
    "duration": 873,
    "start_time": "2021-12-29T13:11:55.413Z"
   },
   {
    "duration": 40,
    "start_time": "2021-12-29T13:11:56.290Z"
   },
   {
    "duration": 135,
    "start_time": "2021-12-29T13:11:56.334Z"
   },
   {
    "duration": 6,
    "start_time": "2021-12-29T13:11:56.472Z"
   },
   {
    "duration": 50,
    "start_time": "2021-12-29T13:11:56.481Z"
   },
   {
    "duration": 120,
    "start_time": "2021-12-29T13:11:56.533Z"
   },
   {
    "duration": 81,
    "start_time": "2021-12-29T13:11:56.657Z"
   },
   {
    "duration": 18,
    "start_time": "2021-12-29T13:11:56.742Z"
   },
   {
    "duration": 117,
    "start_time": "2021-12-29T13:11:56.763Z"
   },
   {
    "duration": 60,
    "start_time": "2021-12-29T13:11:56.882Z"
   },
   {
    "duration": 18,
    "start_time": "2021-12-29T13:11:56.945Z"
   },
   {
    "duration": 97,
    "start_time": "2021-12-29T13:11:56.966Z"
   },
   {
    "duration": 15,
    "start_time": "2021-12-29T13:11:57.066Z"
   },
   {
    "duration": 8,
    "start_time": "2021-12-29T13:11:57.083Z"
   },
   {
    "duration": 33,
    "start_time": "2021-12-29T13:11:57.093Z"
   },
   {
    "duration": 17,
    "start_time": "2021-12-29T13:11:57.128Z"
   },
   {
    "duration": 10,
    "start_time": "2021-12-29T13:11:57.148Z"
   },
   {
    "duration": 623,
    "start_time": "2021-12-29T13:12:44.277Z"
   },
   {
    "duration": 644,
    "start_time": "2021-12-29T13:12:44.903Z"
   },
   {
    "duration": 8,
    "start_time": "2021-12-29T13:12:45.550Z"
   },
   {
    "duration": 131,
    "start_time": "2021-12-29T13:12:45.560Z"
   },
   {
    "duration": 6,
    "start_time": "2021-12-29T13:12:45.694Z"
   },
   {
    "duration": 35,
    "start_time": "2021-12-29T13:12:45.703Z"
   },
   {
    "duration": 106,
    "start_time": "2021-12-29T13:12:45.741Z"
   },
   {
    "duration": 80,
    "start_time": "2021-12-29T13:12:45.850Z"
   },
   {
    "duration": 18,
    "start_time": "2021-12-29T13:12:45.933Z"
   },
   {
    "duration": 100,
    "start_time": "2021-12-29T13:12:45.953Z"
   },
   {
    "duration": 42,
    "start_time": "2021-12-29T13:12:46.055Z"
   },
   {
    "duration": 38,
    "start_time": "2021-12-29T13:12:46.100Z"
   },
   {
    "duration": 41,
    "start_time": "2021-12-29T13:12:46.140Z"
   },
   {
    "duration": 48,
    "start_time": "2021-12-29T13:12:46.184Z"
   },
   {
    "duration": 33,
    "start_time": "2021-12-29T13:12:54.564Z"
   },
   {
    "duration": 34,
    "start_time": "2021-12-29T13:13:31.575Z"
   },
   {
    "duration": 692,
    "start_time": "2021-12-29T13:13:59.072Z"
   },
   {
    "duration": 760,
    "start_time": "2021-12-29T13:13:59.766Z"
   },
   {
    "duration": 12,
    "start_time": "2021-12-29T13:14:00.529Z"
   },
   {
    "duration": 142,
    "start_time": "2021-12-29T13:14:00.545Z"
   },
   {
    "duration": 10,
    "start_time": "2021-12-29T13:14:00.691Z"
   },
   {
    "duration": 36,
    "start_time": "2021-12-29T13:14:00.724Z"
   },
   {
    "duration": 101,
    "start_time": "2021-12-29T13:14:00.763Z"
   },
   {
    "duration": 86,
    "start_time": "2021-12-29T13:14:00.869Z"
   },
   {
    "duration": 19,
    "start_time": "2021-12-29T13:14:00.958Z"
   },
   {
    "duration": 105,
    "start_time": "2021-12-29T13:14:00.979Z"
   },
   {
    "duration": 64,
    "start_time": "2021-12-29T13:14:01.087Z"
   },
   {
    "duration": 24,
    "start_time": "2021-12-29T13:14:01.153Z"
   },
   {
    "duration": 81,
    "start_time": "2021-12-29T13:14:01.180Z"
   },
   {
    "duration": 31,
    "start_time": "2021-12-29T13:14:01.263Z"
   },
   {
    "duration": 130,
    "start_time": "2021-12-29T13:15:28.138Z"
   },
   {
    "duration": 9699,
    "start_time": "2021-12-29T13:15:37.786Z"
   },
   {
    "duration": 505,
    "start_time": "2021-12-29T13:16:06.956Z"
   },
   {
    "duration": 625,
    "start_time": "2021-12-29T13:16:07.463Z"
   },
   {
    "duration": 41,
    "start_time": "2021-12-29T13:16:08.091Z"
   },
   {
    "duration": 169,
    "start_time": "2021-12-29T13:16:08.136Z"
   },
   {
    "duration": 6,
    "start_time": "2021-12-29T13:16:08.307Z"
   },
   {
    "duration": 16,
    "start_time": "2021-12-29T13:16:08.324Z"
   },
   {
    "duration": 123,
    "start_time": "2021-12-29T13:16:08.342Z"
   },
   {
    "duration": 81,
    "start_time": "2021-12-29T13:16:08.469Z"
   },
   {
    "duration": 21,
    "start_time": "2021-12-29T13:16:08.553Z"
   },
   {
    "duration": 99,
    "start_time": "2021-12-29T13:16:08.577Z"
   },
   {
    "duration": 66,
    "start_time": "2021-12-29T13:16:08.679Z"
   },
   {
    "duration": 21,
    "start_time": "2021-12-29T13:16:08.748Z"
   },
   {
    "duration": 82,
    "start_time": "2021-12-29T13:16:08.772Z"
   },
   {
    "duration": 32,
    "start_time": "2021-12-29T13:16:08.857Z"
   },
   {
    "duration": 9128,
    "start_time": "2021-12-29T13:16:08.892Z"
   },
   {
    "duration": 9316,
    "start_time": "2021-12-29T13:16:29.669Z"
   },
   {
    "duration": 66,
    "start_time": "2021-12-29T13:18:59.722Z"
   },
   {
    "duration": 330,
    "start_time": "2021-12-29T13:22:41.313Z"
   },
   {
    "duration": 19,
    "start_time": "2021-12-29T13:22:57.083Z"
   },
   {
    "duration": 473,
    "start_time": "2021-12-29T13:25:49.184Z"
   },
   {
    "duration": 677,
    "start_time": "2021-12-29T13:25:49.660Z"
   },
   {
    "duration": 8,
    "start_time": "2021-12-29T13:25:50.339Z"
   },
   {
    "duration": 142,
    "start_time": "2021-12-29T13:25:50.350Z"
   },
   {
    "duration": 7,
    "start_time": "2021-12-29T13:25:50.494Z"
   },
   {
    "duration": 33,
    "start_time": "2021-12-29T13:25:50.503Z"
   },
   {
    "duration": 107,
    "start_time": "2021-12-29T13:25:50.538Z"
   },
   {
    "duration": 80,
    "start_time": "2021-12-29T13:25:50.648Z"
   },
   {
    "duration": 19,
    "start_time": "2021-12-29T13:25:50.730Z"
   },
   {
    "duration": 2220,
    "start_time": "2021-12-29T13:25:50.752Z"
   },
   {
    "duration": -156,
    "start_time": "2021-12-29T13:25:53.131Z"
   },
   {
    "duration": -156,
    "start_time": "2021-12-29T13:25:53.132Z"
   },
   {
    "duration": -156,
    "start_time": "2021-12-29T13:25:53.133Z"
   },
   {
    "duration": -155,
    "start_time": "2021-12-29T13:25:53.134Z"
   },
   {
    "duration": -155,
    "start_time": "2021-12-29T13:25:53.135Z"
   },
   {
    "duration": 67,
    "start_time": "2021-12-29T13:27:18.179Z"
   },
   {
    "duration": 61,
    "start_time": "2021-12-29T13:28:27.039Z"
   },
   {
    "duration": 59,
    "start_time": "2021-12-29T13:28:35.151Z"
   },
   {
    "duration": 12,
    "start_time": "2021-12-29T13:51:01.222Z"
   },
   {
    "duration": 46,
    "start_time": "2021-12-29T13:52:00.936Z"
   },
   {
    "duration": 43,
    "start_time": "2021-12-29T13:52:17.625Z"
   },
   {
    "duration": 14,
    "start_time": "2021-12-29T13:53:12.435Z"
   },
   {
    "duration": 25,
    "start_time": "2021-12-29T13:53:27.803Z"
   },
   {
    "duration": 15,
    "start_time": "2021-12-29T13:57:58.310Z"
   },
   {
    "duration": 13,
    "start_time": "2021-12-29T13:58:07.670Z"
   },
   {
    "duration": 19,
    "start_time": "2021-12-29T13:58:41.936Z"
   },
   {
    "duration": 20,
    "start_time": "2021-12-29T14:02:55.736Z"
   },
   {
    "duration": 42,
    "start_time": "2021-12-29T14:03:17.617Z"
   },
   {
    "duration": 487,
    "start_time": "2021-12-29T14:03:46.523Z"
   },
   {
    "duration": 639,
    "start_time": "2021-12-29T14:03:47.013Z"
   },
   {
    "duration": 13,
    "start_time": "2021-12-29T14:03:47.657Z"
   },
   {
    "duration": 137,
    "start_time": "2021-12-29T14:03:47.673Z"
   },
   {
    "duration": 6,
    "start_time": "2021-12-29T14:03:47.823Z"
   },
   {
    "duration": 18,
    "start_time": "2021-12-29T14:03:47.832Z"
   },
   {
    "duration": 123,
    "start_time": "2021-12-29T14:03:47.853Z"
   },
   {
    "duration": 85,
    "start_time": "2021-12-29T14:03:47.981Z"
   },
   {
    "duration": 17,
    "start_time": "2021-12-29T14:03:48.069Z"
   },
   {
    "duration": 87,
    "start_time": "2021-12-29T14:03:48.088Z"
   },
   {
    "duration": 13,
    "start_time": "2021-12-29T14:03:48.178Z"
   },
   {
    "duration": 69,
    "start_time": "2021-12-29T14:03:48.194Z"
   },
   {
    "duration": 3,
    "start_time": "2021-12-29T14:03:48.265Z"
   },
   {
    "duration": 37,
    "start_time": "2021-12-29T14:03:48.271Z"
   },
   {
    "duration": 41,
    "start_time": "2021-12-29T14:03:48.324Z"
   },
   {
    "duration": 11,
    "start_time": "2021-12-29T14:03:48.368Z"
   },
   {
    "duration": 27,
    "start_time": "2021-12-29T14:03:56.813Z"
   },
   {
    "duration": 15,
    "start_time": "2021-12-29T14:04:27.283Z"
   },
   {
    "duration": 15,
    "start_time": "2021-12-29T14:04:35.052Z"
   },
   {
    "duration": 561,
    "start_time": "2021-12-29T14:06:50.810Z"
   },
   {
    "duration": 685,
    "start_time": "2021-12-29T14:06:51.375Z"
   },
   {
    "duration": 8,
    "start_time": "2021-12-29T14:06:52.063Z"
   },
   {
    "duration": 137,
    "start_time": "2021-12-29T14:06:52.074Z"
   },
   {
    "duration": 11,
    "start_time": "2021-12-29T14:06:52.214Z"
   },
   {
    "duration": 17,
    "start_time": "2021-12-29T14:06:52.227Z"
   },
   {
    "duration": 111,
    "start_time": "2021-12-29T14:06:52.247Z"
   },
   {
    "duration": 83,
    "start_time": "2021-12-29T14:06:52.362Z"
   },
   {
    "duration": 18,
    "start_time": "2021-12-29T14:06:52.448Z"
   },
   {
    "duration": 90,
    "start_time": "2021-12-29T14:06:52.468Z"
   },
   {
    "duration": 11,
    "start_time": "2021-12-29T14:06:52.561Z"
   },
   {
    "duration": 68,
    "start_time": "2021-12-29T14:06:52.574Z"
   },
   {
    "duration": 2,
    "start_time": "2021-12-29T14:06:52.645Z"
   },
   {
    "duration": 33,
    "start_time": "2021-12-29T14:06:52.649Z"
   },
   {
    "duration": 66,
    "start_time": "2021-12-29T14:06:52.684Z"
   },
   {
    "duration": 32,
    "start_time": "2021-12-29T14:06:52.753Z"
   },
   {
    "duration": 43,
    "start_time": "2021-12-29T14:06:52.788Z"
   },
   {
    "duration": 19,
    "start_time": "2021-12-29T14:07:06.657Z"
   },
   {
    "duration": 5,
    "start_time": "2021-12-29T14:08:39.949Z"
   },
   {
    "duration": 6,
    "start_time": "2021-12-29T14:08:54.117Z"
   },
   {
    "duration": 5,
    "start_time": "2021-12-29T14:09:15.678Z"
   },
   {
    "duration": 445,
    "start_time": "2021-12-29T14:09:20.974Z"
   },
   {
    "duration": 376,
    "start_time": "2021-12-29T14:09:56.022Z"
   },
   {
    "duration": 339,
    "start_time": "2021-12-29T14:10:10.230Z"
   },
   {
    "duration": 355,
    "start_time": "2021-12-29T14:10:17.608Z"
   },
   {
    "duration": 11,
    "start_time": "2021-12-29T14:10:50.369Z"
   },
   {
    "duration": 10,
    "start_time": "2021-12-29T14:11:32.507Z"
   },
   {
    "duration": 13,
    "start_time": "2021-12-29T14:22:16.195Z"
   },
   {
    "duration": -25,
    "start_time": "2021-12-29T14:22:35.060Z"
   },
   {
    "duration": 8242,
    "start_time": "2021-12-29T14:22:40.674Z"
   },
   {
    "duration": 10186,
    "start_time": "2021-12-29T14:22:54.684Z"
   },
   {
    "duration": 340,
    "start_time": "2021-12-29T14:23:32.532Z"
   },
   {
    "duration": 10,
    "start_time": "2021-12-29T14:23:38.684Z"
   },
   {
    "duration": 1966,
    "start_time": "2021-12-29T14:31:09.900Z"
   },
   {
    "duration": 599,
    "start_time": "2021-12-29T14:31:11.869Z"
   },
   {
    "duration": 9,
    "start_time": "2021-12-29T14:31:12.475Z"
   },
   {
    "duration": 147,
    "start_time": "2021-12-29T14:31:12.487Z"
   },
   {
    "duration": 6,
    "start_time": "2021-12-29T14:31:12.637Z"
   },
   {
    "duration": 21,
    "start_time": "2021-12-29T14:31:12.645Z"
   },
   {
    "duration": 131,
    "start_time": "2021-12-29T14:31:12.670Z"
   },
   {
    "duration": 78,
    "start_time": "2021-12-29T14:31:12.803Z"
   },
   {
    "duration": 17,
    "start_time": "2021-12-29T14:31:12.883Z"
   },
   {
    "duration": 91,
    "start_time": "2021-12-29T14:31:12.902Z"
   },
   {
    "duration": 32,
    "start_time": "2021-12-29T14:31:12.995Z"
   },
   {
    "duration": 49,
    "start_time": "2021-12-29T14:31:13.029Z"
   },
   {
    "duration": 3,
    "start_time": "2021-12-29T14:31:13.081Z"
   },
   {
    "duration": 51,
    "start_time": "2021-12-29T14:31:13.086Z"
   },
   {
    "duration": 57,
    "start_time": "2021-12-29T14:31:13.140Z"
   },
   {
    "duration": 63,
    "start_time": "2021-12-29T14:31:13.200Z"
   },
   {
    "duration": 479,
    "start_time": "2021-12-29T14:39:02.294Z"
   },
   {
    "duration": 614,
    "start_time": "2021-12-29T14:39:02.775Z"
   },
   {
    "duration": 37,
    "start_time": "2021-12-29T14:39:03.392Z"
   },
   {
    "duration": 127,
    "start_time": "2021-12-29T14:39:03.432Z"
   },
   {
    "duration": 5,
    "start_time": "2021-12-29T14:39:03.561Z"
   },
   {
    "duration": 16,
    "start_time": "2021-12-29T14:39:03.569Z"
   },
   {
    "duration": 119,
    "start_time": "2021-12-29T14:39:03.588Z"
   },
   {
    "duration": 73,
    "start_time": "2021-12-29T14:39:03.710Z"
   },
   {
    "duration": 40,
    "start_time": "2021-12-29T14:39:03.785Z"
   },
   {
    "duration": 67,
    "start_time": "2021-12-29T14:39:03.828Z"
   },
   {
    "duration": 15,
    "start_time": "2021-12-29T14:39:03.922Z"
   },
   {
    "duration": 42,
    "start_time": "2021-12-29T14:39:03.941Z"
   },
   {
    "duration": 3,
    "start_time": "2021-12-29T14:39:04.023Z"
   },
   {
    "duration": 25,
    "start_time": "2021-12-29T14:39:04.029Z"
   },
   {
    "duration": 88,
    "start_time": "2021-12-29T14:39:04.057Z"
   },
   {
    "duration": 36,
    "start_time": "2021-12-29T14:39:04.148Z"
   },
   {
    "duration": 497,
    "start_time": "2021-12-29T14:39:36.296Z"
   },
   {
    "duration": 582,
    "start_time": "2021-12-29T14:39:36.795Z"
   },
   {
    "duration": 9,
    "start_time": "2021-12-29T14:39:37.380Z"
   },
   {
    "duration": 148,
    "start_time": "2021-12-29T14:39:37.391Z"
   },
   {
    "duration": 7,
    "start_time": "2021-12-29T14:39:37.541Z"
   },
   {
    "duration": 16,
    "start_time": "2021-12-29T14:39:37.550Z"
   },
   {
    "duration": 116,
    "start_time": "2021-12-29T14:39:37.568Z"
   },
   {
    "duration": 82,
    "start_time": "2021-12-29T14:39:37.687Z"
   },
   {
    "duration": 18,
    "start_time": "2021-12-29T14:39:37.771Z"
   },
   {
    "duration": 81,
    "start_time": "2021-12-29T14:39:37.791Z"
   },
   {
    "duration": 12,
    "start_time": "2021-12-29T14:39:37.874Z"
   },
   {
    "duration": 71,
    "start_time": "2021-12-29T14:39:37.888Z"
   },
   {
    "duration": 2,
    "start_time": "2021-12-29T14:39:37.962Z"
   },
   {
    "duration": 21,
    "start_time": "2021-12-29T14:39:37.967Z"
   },
   {
    "duration": 74,
    "start_time": "2021-12-29T14:39:37.990Z"
   },
   {
    "duration": 58,
    "start_time": "2021-12-29T14:39:38.067Z"
   },
   {
    "duration": 111,
    "start_time": "2021-12-29T14:43:14.160Z"
   },
   {
    "duration": 37,
    "start_time": "2021-12-29T14:44:02.360Z"
   },
   {
    "duration": 463,
    "start_time": "2021-12-29T14:47:32.808Z"
   },
   {
    "duration": 452,
    "start_time": "2021-12-29T14:48:12.105Z"
   },
   {
    "duration": 1888,
    "start_time": "2021-12-29T14:52:01.276Z"
   },
   {
    "duration": 667,
    "start_time": "2021-12-29T14:52:03.168Z"
   },
   {
    "duration": 8,
    "start_time": "2021-12-29T14:52:03.838Z"
   },
   {
    "duration": 141,
    "start_time": "2021-12-29T14:52:03.849Z"
   },
   {
    "duration": 7,
    "start_time": "2021-12-29T14:52:03.993Z"
   },
   {
    "duration": 37,
    "start_time": "2021-12-29T14:52:04.003Z"
   },
   {
    "duration": 115,
    "start_time": "2021-12-29T14:52:04.043Z"
   },
   {
    "duration": 502,
    "start_time": "2021-12-29T14:52:04.160Z"
   },
   {
    "duration": -26,
    "start_time": "2021-12-29T14:52:04.691Z"
   },
   {
    "duration": -25,
    "start_time": "2021-12-29T14:52:04.692Z"
   },
   {
    "duration": -26,
    "start_time": "2021-12-29T14:52:04.694Z"
   },
   {
    "duration": -32,
    "start_time": "2021-12-29T14:52:04.702Z"
   },
   {
    "duration": -32,
    "start_time": "2021-12-29T14:52:04.704Z"
   },
   {
    "duration": -33,
    "start_time": "2021-12-29T14:52:04.706Z"
   },
   {
    "duration": -33,
    "start_time": "2021-12-29T14:52:04.707Z"
   },
   {
    "duration": -33,
    "start_time": "2021-12-29T14:52:04.709Z"
   },
   {
    "duration": -32,
    "start_time": "2021-12-29T14:52:04.710Z"
   },
   {
    "duration": 69,
    "start_time": "2021-12-29T14:52:31.073Z"
   },
   {
    "duration": 18,
    "start_time": "2021-12-29T14:52:34.921Z"
   },
   {
    "duration": 1971,
    "start_time": "2021-12-29T14:53:34.196Z"
   },
   {
    "duration": 607,
    "start_time": "2021-12-29T14:53:36.170Z"
   },
   {
    "duration": 44,
    "start_time": "2021-12-29T14:53:36.781Z"
   },
   {
    "duration": 137,
    "start_time": "2021-12-29T14:53:36.829Z"
   },
   {
    "duration": 8,
    "start_time": "2021-12-29T14:53:36.969Z"
   },
   {
    "duration": 51,
    "start_time": "2021-12-29T14:53:36.980Z"
   },
   {
    "duration": 112,
    "start_time": "2021-12-29T14:53:37.034Z"
   },
   {
    "duration": 456,
    "start_time": "2021-12-29T14:53:37.150Z"
   },
   {
    "duration": -27,
    "start_time": "2021-12-29T14:53:37.636Z"
   },
   {
    "duration": -26,
    "start_time": "2021-12-29T14:53:37.637Z"
   },
   {
    "duration": -39,
    "start_time": "2021-12-29T14:53:37.651Z"
   },
   {
    "duration": -39,
    "start_time": "2021-12-29T14:53:37.652Z"
   },
   {
    "duration": -38,
    "start_time": "2021-12-29T14:53:37.653Z"
   },
   {
    "duration": -38,
    "start_time": "2021-12-29T14:53:37.654Z"
   },
   {
    "duration": -38,
    "start_time": "2021-12-29T14:53:37.655Z"
   },
   {
    "duration": -36,
    "start_time": "2021-12-29T14:53:37.655Z"
   },
   {
    "duration": -39,
    "start_time": "2021-12-29T14:53:37.659Z"
   },
   {
    "duration": 65,
    "start_time": "2021-12-29T14:54:22.882Z"
   },
   {
    "duration": 1922,
    "start_time": "2021-12-29T14:54:29.769Z"
   },
   {
    "duration": 658,
    "start_time": "2021-12-29T14:54:31.694Z"
   },
   {
    "duration": 10,
    "start_time": "2021-12-29T14:54:32.356Z"
   },
   {
    "duration": 158,
    "start_time": "2021-12-29T14:54:32.369Z"
   },
   {
    "duration": 6,
    "start_time": "2021-12-29T14:54:32.530Z"
   },
   {
    "duration": 23,
    "start_time": "2021-12-29T14:54:32.539Z"
   },
   {
    "duration": 131,
    "start_time": "2021-12-29T14:54:32.566Z"
   },
   {
    "duration": 78,
    "start_time": "2021-12-29T14:54:32.702Z"
   },
   {
    "duration": 20,
    "start_time": "2021-12-29T14:54:32.783Z"
   },
   {
    "duration": 99,
    "start_time": "2021-12-29T14:54:32.824Z"
   },
   {
    "duration": 15,
    "start_time": "2021-12-29T14:54:32.925Z"
   },
   {
    "duration": 52,
    "start_time": "2021-12-29T14:54:32.943Z"
   },
   {
    "duration": 3,
    "start_time": "2021-12-29T14:54:33.023Z"
   },
   {
    "duration": 50,
    "start_time": "2021-12-29T14:54:33.029Z"
   },
   {
    "duration": 50,
    "start_time": "2021-12-29T14:54:33.081Z"
   },
   {
    "duration": 37,
    "start_time": "2021-12-29T14:54:33.133Z"
   },
   {
    "duration": 476,
    "start_time": "2021-12-29T14:54:33.172Z"
   },
   {
    "duration": 6,
    "start_time": "2021-12-29T14:58:48.046Z"
   },
   {
    "duration": 9113,
    "start_time": "2021-12-29T14:59:57.923Z"
   },
   {
    "duration": 7,
    "start_time": "2021-12-29T15:00:49.772Z"
   },
   {
    "duration": 24,
    "start_time": "2021-12-29T15:00:55.619Z"
   },
   {
    "duration": 35,
    "start_time": "2021-12-29T15:01:15.804Z"
   },
   {
    "duration": 9507,
    "start_time": "2021-12-29T15:01:22.012Z"
   },
   {
    "duration": 1904,
    "start_time": "2021-12-29T15:02:04.569Z"
   },
   {
    "duration": 607,
    "start_time": "2021-12-29T15:02:06.476Z"
   },
   {
    "duration": 38,
    "start_time": "2021-12-29T15:02:07.086Z"
   },
   {
    "duration": 128,
    "start_time": "2021-12-29T15:02:07.127Z"
   },
   {
    "duration": 6,
    "start_time": "2021-12-29T15:02:07.258Z"
   },
   {
    "duration": 38,
    "start_time": "2021-12-29T15:02:07.267Z"
   },
   {
    "duration": 98,
    "start_time": "2021-12-29T15:02:07.307Z"
   },
   {
    "duration": 76,
    "start_time": "2021-12-29T15:02:07.409Z"
   },
   {
    "duration": 38,
    "start_time": "2021-12-29T15:02:07.488Z"
   },
   {
    "duration": 96,
    "start_time": "2021-12-29T15:02:07.529Z"
   },
   {
    "duration": 12,
    "start_time": "2021-12-29T15:02:07.627Z"
   },
   {
    "duration": 45,
    "start_time": "2021-12-29T15:02:07.641Z"
   },
   {
    "duration": 3,
    "start_time": "2021-12-29T15:02:07.688Z"
   },
   {
    "duration": 45,
    "start_time": "2021-12-29T15:02:07.693Z"
   },
   {
    "duration": 50,
    "start_time": "2021-12-29T15:02:07.741Z"
   },
   {
    "duration": 62,
    "start_time": "2021-12-29T15:02:07.794Z"
   },
   {
    "duration": 12877,
    "start_time": "2021-12-29T15:02:07.859Z"
   },
   {
    "duration": -44,
    "start_time": "2021-12-29T15:02:20.783Z"
   },
   {
    "duration": 34,
    "start_time": "2021-12-29T15:02:42.713Z"
   },
   {
    "duration": 20,
    "start_time": "2021-12-29T15:02:53.938Z"
   },
   {
    "duration": 10,
    "start_time": "2021-12-29T15:02:56.649Z"
   },
   {
    "duration": 24,
    "start_time": "2021-12-29T15:03:00.616Z"
   },
   {
    "duration": 9,
    "start_time": "2021-12-29T15:17:38.968Z"
   },
   {
    "duration": 2101,
    "start_time": "2021-12-30T08:07:35.410Z"
   },
   {
    "duration": 713,
    "start_time": "2021-12-30T08:07:37.513Z"
   },
   {
    "duration": 40,
    "start_time": "2021-12-30T08:07:38.229Z"
   },
   {
    "duration": 138,
    "start_time": "2021-12-30T08:07:38.272Z"
   },
   {
    "duration": 7,
    "start_time": "2021-12-30T08:07:38.413Z"
   },
   {
    "duration": 45,
    "start_time": "2021-12-30T08:07:38.422Z"
   },
   {
    "duration": 110,
    "start_time": "2021-12-30T08:07:38.469Z"
   },
   {
    "duration": 84,
    "start_time": "2021-12-30T08:07:38.583Z"
   },
   {
    "duration": 19,
    "start_time": "2021-12-30T08:07:38.670Z"
   },
   {
    "duration": 106,
    "start_time": "2021-12-30T08:07:38.692Z"
   },
   {
    "duration": 12,
    "start_time": "2021-12-30T08:07:38.801Z"
   },
   {
    "duration": 71,
    "start_time": "2021-12-30T08:07:38.815Z"
   },
   {
    "duration": 3,
    "start_time": "2021-12-30T08:07:38.889Z"
   },
   {
    "duration": 24,
    "start_time": "2021-12-30T08:07:38.895Z"
   },
   {
    "duration": 83,
    "start_time": "2021-12-30T08:07:38.921Z"
   },
   {
    "duration": 22,
    "start_time": "2021-12-30T08:07:39.006Z"
   },
   {
    "duration": 11,
    "start_time": "2021-12-30T08:07:39.031Z"
   },
   {
    "duration": 44,
    "start_time": "2021-12-30T08:07:39.044Z"
   },
   {
    "duration": 8,
    "start_time": "2021-12-30T08:07:39.090Z"
   },
   {
    "duration": 15,
    "start_time": "2021-12-30T11:54:37.327Z"
   },
   {
    "duration": 16,
    "start_time": "2021-12-30T11:54:45.240Z"
   },
   {
    "duration": 85,
    "start_time": "2021-12-30T11:54:48.113Z"
   },
   {
    "duration": 30,
    "start_time": "2021-12-30T11:58:48.371Z"
   },
   {
    "duration": 77,
    "start_time": "2021-12-30T12:00:20.212Z"
   },
   {
    "duration": 480,
    "start_time": "2021-12-30T12:05:39.008Z"
   },
   {
    "duration": 18,
    "start_time": "2021-12-30T12:06:10.752Z"
   },
   {
    "duration": 7,
    "start_time": "2021-12-30T12:06:40.849Z"
   },
   {
    "duration": 8,
    "start_time": "2021-12-30T12:06:52.979Z"
   },
   {
    "duration": 9988,
    "start_time": "2021-12-30T12:08:10.204Z"
   },
   {
    "duration": 8,
    "start_time": "2021-12-30T12:08:28.406Z"
   },
   {
    "duration": 41,
    "start_time": "2021-12-30T12:09:31.448Z"
   },
   {
    "duration": 2037,
    "start_time": "2021-12-30T12:09:42.718Z"
   },
   {
    "duration": 746,
    "start_time": "2021-12-30T12:09:44.758Z"
   },
   {
    "duration": 10,
    "start_time": "2021-12-30T12:09:45.507Z"
   },
   {
    "duration": 179,
    "start_time": "2021-12-30T12:09:45.520Z"
   },
   {
    "duration": 7,
    "start_time": "2021-12-30T12:09:45.702Z"
   },
   {
    "duration": 18,
    "start_time": "2021-12-30T12:09:45.712Z"
   },
   {
    "duration": 149,
    "start_time": "2021-12-30T12:09:45.732Z"
   },
   {
    "duration": 95,
    "start_time": "2021-12-30T12:09:45.887Z"
   },
   {
    "duration": 18,
    "start_time": "2021-12-30T12:09:45.985Z"
   },
   {
    "duration": 112,
    "start_time": "2021-12-30T12:09:46.005Z"
   },
   {
    "duration": 13,
    "start_time": "2021-12-30T12:09:46.119Z"
   },
   {
    "duration": 71,
    "start_time": "2021-12-30T12:09:46.135Z"
   },
   {
    "duration": 3,
    "start_time": "2021-12-30T12:09:46.208Z"
   },
   {
    "duration": 19,
    "start_time": "2021-12-30T12:09:46.213Z"
   },
   {
    "duration": 81,
    "start_time": "2021-12-30T12:09:46.235Z"
   },
   {
    "duration": 23,
    "start_time": "2021-12-30T12:09:46.318Z"
   },
   {
    "duration": 35,
    "start_time": "2021-12-30T12:09:46.344Z"
   },
   {
    "duration": 24,
    "start_time": "2021-12-30T12:09:46.383Z"
   },
   {
    "duration": 9,
    "start_time": "2021-12-30T12:09:46.410Z"
   },
   {
    "duration": 60,
    "start_time": "2021-12-30T12:09:46.421Z"
   },
   {
    "duration": 12,
    "start_time": "2021-12-30T12:09:46.485Z"
   },
   {
    "duration": 8291,
    "start_time": "2021-12-30T12:09:46.499Z"
   },
   {
    "duration": -59,
    "start_time": "2021-12-30T12:09:54.851Z"
   },
   {
    "duration": 6,
    "start_time": "2021-12-30T12:10:58.821Z"
   },
   {
    "duration": 42,
    "start_time": "2021-12-30T12:11:05.533Z"
   },
   {
    "duration": 570,
    "start_time": "2021-12-30T12:11:46.272Z"
   },
   {
    "duration": 740,
    "start_time": "2021-12-30T12:11:46.845Z"
   },
   {
    "duration": 10,
    "start_time": "2021-12-30T12:11:47.589Z"
   },
   {
    "duration": 148,
    "start_time": "2021-12-30T12:11:47.602Z"
   },
   {
    "duration": 17,
    "start_time": "2021-12-30T12:11:47.752Z"
   },
   {
    "duration": 29,
    "start_time": "2021-12-30T12:11:47.772Z"
   },
   {
    "duration": 134,
    "start_time": "2021-12-30T12:11:47.803Z"
   },
   {
    "duration": 82,
    "start_time": "2021-12-30T12:11:47.941Z"
   },
   {
    "duration": 18,
    "start_time": "2021-12-30T12:11:48.026Z"
   },
   {
    "duration": 78,
    "start_time": "2021-12-30T12:11:48.067Z"
   },
   {
    "duration": 32,
    "start_time": "2021-12-30T12:11:48.147Z"
   },
   {
    "duration": 46,
    "start_time": "2021-12-30T12:11:48.181Z"
   },
   {
    "duration": 3,
    "start_time": "2021-12-30T12:11:48.229Z"
   },
   {
    "duration": 57,
    "start_time": "2021-12-30T12:11:48.235Z"
   },
   {
    "duration": 44,
    "start_time": "2021-12-30T12:11:48.295Z"
   },
   {
    "duration": 26,
    "start_time": "2021-12-30T12:11:48.368Z"
   },
   {
    "duration": 9,
    "start_time": "2021-12-30T12:11:48.397Z"
   },
   {
    "duration": 61,
    "start_time": "2021-12-30T12:11:48.408Z"
   },
   {
    "duration": 10,
    "start_time": "2021-12-30T12:11:48.472Z"
   },
   {
    "duration": 18,
    "start_time": "2021-12-30T12:11:48.484Z"
   },
   {
    "duration": 12,
    "start_time": "2021-12-30T12:11:48.504Z"
   },
   {
    "duration": 88,
    "start_time": "2021-12-30T12:11:48.518Z"
   },
   {
    "duration": 2080,
    "start_time": "2021-12-30T12:12:07.241Z"
   },
   {
    "duration": 769,
    "start_time": "2021-12-30T12:12:09.324Z"
   },
   {
    "duration": 12,
    "start_time": "2021-12-30T12:12:10.102Z"
   },
   {
    "duration": 172,
    "start_time": "2021-12-30T12:12:10.117Z"
   },
   {
    "duration": 8,
    "start_time": "2021-12-30T12:12:10.295Z"
   },
   {
    "duration": 18,
    "start_time": "2021-12-30T12:12:10.305Z"
   },
   {
    "duration": 147,
    "start_time": "2021-12-30T12:12:10.326Z"
   },
   {
    "duration": 76,
    "start_time": "2021-12-30T12:12:10.476Z"
   },
   {
    "duration": 22,
    "start_time": "2021-12-30T12:12:10.567Z"
   },
   {
    "duration": 128,
    "start_time": "2021-12-30T12:12:10.592Z"
   },
   {
    "duration": 11,
    "start_time": "2021-12-30T12:12:10.723Z"
   },
   {
    "duration": 72,
    "start_time": "2021-12-30T12:12:10.737Z"
   },
   {
    "duration": 3,
    "start_time": "2021-12-30T12:12:10.812Z"
   },
   {
    "duration": 22,
    "start_time": "2021-12-30T12:12:10.817Z"
   },
   {
    "duration": 53,
    "start_time": "2021-12-30T12:12:10.872Z"
   },
   {
    "duration": 50,
    "start_time": "2021-12-30T12:12:10.928Z"
   },
   {
    "duration": 14,
    "start_time": "2021-12-30T12:12:10.981Z"
   },
   {
    "duration": 26,
    "start_time": "2021-12-30T12:12:10.997Z"
   },
   {
    "duration": 59,
    "start_time": "2021-12-30T12:12:11.026Z"
   },
   {
    "duration": 19,
    "start_time": "2021-12-30T12:12:11.088Z"
   },
   {
    "duration": 15,
    "start_time": "2021-12-30T12:12:11.110Z"
   },
   {
    "duration": 41,
    "start_time": "2021-12-30T12:12:11.170Z"
   },
   {
    "duration": 5,
    "start_time": "2021-12-30T12:56:05.732Z"
   },
   {
    "duration": 492,
    "start_time": "2021-12-30T12:57:18.374Z"
   },
   {
    "duration": 13,
    "start_time": "2021-12-30T12:57:23.934Z"
   },
   {
    "duration": 403,
    "start_time": "2021-12-30T13:02:44.234Z"
   },
   {
    "duration": 8,
    "start_time": "2021-12-30T13:03:10.931Z"
   },
   {
    "duration": 328,
    "start_time": "2021-12-30T13:25:54.627Z"
   },
   {
    "duration": 327,
    "start_time": "2021-12-30T13:26:36.950Z"
   },
   {
    "duration": 63,
    "start_time": "2021-12-30T13:27:06.702Z"
   },
   {
    "duration": 5,
    "start_time": "2021-12-30T13:38:24.013Z"
   },
   {
    "duration": 8,
    "start_time": "2021-12-30T14:00:05.954Z"
   },
   {
    "duration": 351,
    "start_time": "2021-12-30T14:00:38.772Z"
   },
   {
    "duration": 572,
    "start_time": "2021-12-30T14:01:23.710Z"
   },
   {
    "duration": 5,
    "start_time": "2021-12-30T14:02:38.753Z"
   },
   {
    "duration": 594,
    "start_time": "2021-12-30T14:02:45.392Z"
   },
   {
    "duration": 581,
    "start_time": "2021-12-30T14:03:17.739Z"
   },
   {
    "duration": 225,
    "start_time": "2021-12-30T14:03:26.680Z"
   },
   {
    "duration": 273,
    "start_time": "2021-12-30T14:03:46.355Z"
   },
   {
    "duration": 14,
    "start_time": "2021-12-30T14:04:12.372Z"
   },
   {
    "duration": 2073,
    "start_time": "2021-12-30T14:05:39.784Z"
   },
   {
    "duration": 739,
    "start_time": "2021-12-30T14:05:41.860Z"
   },
   {
    "duration": 9,
    "start_time": "2021-12-30T14:05:42.602Z"
   },
   {
    "duration": 166,
    "start_time": "2021-12-30T14:05:42.614Z"
   },
   {
    "duration": 6,
    "start_time": "2021-12-30T14:05:42.782Z"
   },
   {
    "duration": 16,
    "start_time": "2021-12-30T14:05:42.792Z"
   },
   {
    "duration": 144,
    "start_time": "2021-12-30T14:05:42.810Z"
   },
   {
    "duration": 76,
    "start_time": "2021-12-30T14:05:42.966Z"
   },
   {
    "duration": 38,
    "start_time": "2021-12-30T14:05:43.046Z"
   },
   {
    "duration": 113,
    "start_time": "2021-12-30T14:05:43.086Z"
   },
   {
    "duration": 12,
    "start_time": "2021-12-30T14:05:43.201Z"
   },
   {
    "duration": 72,
    "start_time": "2021-12-30T14:05:43.216Z"
   },
   {
    "duration": 3,
    "start_time": "2021-12-30T14:05:43.291Z"
   },
   {
    "duration": 25,
    "start_time": "2021-12-30T14:05:43.297Z"
   },
   {
    "duration": 96,
    "start_time": "2021-12-30T14:05:43.325Z"
   },
   {
    "duration": 23,
    "start_time": "2021-12-30T14:05:43.424Z"
   },
   {
    "duration": 11,
    "start_time": "2021-12-30T14:05:43.478Z"
   },
   {
    "duration": 24,
    "start_time": "2021-12-30T14:05:43.491Z"
   },
   {
    "duration": 8,
    "start_time": "2021-12-30T14:05:43.518Z"
   },
   {
    "duration": 51,
    "start_time": "2021-12-30T14:05:43.528Z"
   },
   {
    "duration": 12,
    "start_time": "2021-12-30T14:05:43.582Z"
   },
   {
    "duration": 81,
    "start_time": "2021-12-30T14:05:43.597Z"
   },
   {
    "duration": 12,
    "start_time": "2021-12-30T14:05:43.686Z"
   },
   {
    "duration": 5,
    "start_time": "2021-12-30T14:05:43.701Z"
   },
   {
    "duration": 312,
    "start_time": "2021-12-30T14:05:43.708Z"
   },
   {
    "duration": 1510,
    "start_time": "2021-12-31T10:56:42.214Z"
   },
   {
    "duration": 424,
    "start_time": "2021-12-31T10:56:43.726Z"
   },
   {
    "duration": 6,
    "start_time": "2021-12-31T10:56:44.154Z"
   },
   {
    "duration": 101,
    "start_time": "2021-12-31T10:56:44.161Z"
   },
   {
    "duration": 4,
    "start_time": "2021-12-31T10:56:44.264Z"
   },
   {
    "duration": 28,
    "start_time": "2021-12-31T10:56:44.269Z"
   },
   {
    "duration": 65,
    "start_time": "2021-12-31T10:56:44.300Z"
   },
   {
    "duration": 62,
    "start_time": "2021-12-31T10:56:44.367Z"
   },
   {
    "duration": 11,
    "start_time": "2021-12-31T10:56:44.431Z"
   },
   {
    "duration": 79,
    "start_time": "2021-12-31T10:56:44.443Z"
   },
   {
    "duration": 8,
    "start_time": "2021-12-31T10:56:44.523Z"
   },
   {
    "duration": 30,
    "start_time": "2021-12-31T10:56:44.533Z"
   },
   {
    "duration": 2,
    "start_time": "2021-12-31T10:56:44.565Z"
   },
   {
    "duration": 13,
    "start_time": "2021-12-31T10:56:44.591Z"
   },
   {
    "duration": 35,
    "start_time": "2021-12-31T10:56:44.606Z"
   },
   {
    "duration": 14,
    "start_time": "2021-12-31T10:56:44.643Z"
   },
   {
    "duration": 7,
    "start_time": "2021-12-31T10:56:44.658Z"
   },
   {
    "duration": 39,
    "start_time": "2021-12-31T10:56:44.666Z"
   },
   {
    "duration": 19,
    "start_time": "2021-12-31T10:56:44.706Z"
   },
   {
    "duration": 41,
    "start_time": "2021-12-31T10:56:44.727Z"
   },
   {
    "duration": 16,
    "start_time": "2021-12-31T10:56:44.770Z"
   },
   {
    "duration": 43,
    "start_time": "2021-12-31T10:56:44.788Z"
   },
   {
    "duration": 10,
    "start_time": "2021-12-31T10:56:44.833Z"
   },
   {
    "duration": 23,
    "start_time": "2021-12-31T10:56:44.845Z"
   },
   {
    "duration": 172,
    "start_time": "2021-12-31T10:56:44.870Z"
   },
   {
    "duration": 1498,
    "start_time": "2022-01-02T10:58:31.876Z"
   },
   {
    "duration": 426,
    "start_time": "2022-01-02T10:58:33.376Z"
   },
   {
    "duration": 6,
    "start_time": "2022-01-02T10:58:33.804Z"
   },
   {
    "duration": 95,
    "start_time": "2022-01-02T10:58:33.812Z"
   },
   {
    "duration": 4,
    "start_time": "2022-01-02T10:58:33.909Z"
   },
   {
    "duration": 14,
    "start_time": "2022-01-02T10:58:33.914Z"
   },
   {
    "duration": 74,
    "start_time": "2022-01-02T10:58:33.930Z"
   },
   {
    "duration": 49,
    "start_time": "2022-01-02T10:58:34.006Z"
   },
   {
    "duration": 12,
    "start_time": "2022-01-02T10:58:34.057Z"
   },
   {
    "duration": 70,
    "start_time": "2022-01-02T10:58:34.070Z"
   },
   {
    "duration": 8,
    "start_time": "2022-01-02T10:58:34.142Z"
   },
   {
    "duration": 43,
    "start_time": "2022-01-02T10:58:34.151Z"
   },
   {
    "duration": 3,
    "start_time": "2022-01-02T10:58:34.196Z"
   },
   {
    "duration": 14,
    "start_time": "2022-01-02T10:58:34.200Z"
   },
   {
    "duration": 31,
    "start_time": "2022-01-02T10:58:34.216Z"
   },
   {
    "duration": 14,
    "start_time": "2022-01-02T10:58:34.248Z"
   },
   {
    "duration": 31,
    "start_time": "2022-01-02T10:58:34.264Z"
   },
   {
    "duration": 14,
    "start_time": "2022-01-02T10:58:34.296Z"
   },
   {
    "duration": 6,
    "start_time": "2022-01-02T10:58:34.311Z"
   },
   {
    "duration": 10,
    "start_time": "2022-01-02T10:58:34.318Z"
   },
   {
    "duration": 7,
    "start_time": "2022-01-02T10:58:34.329Z"
   },
   {
    "duration": 57,
    "start_time": "2022-01-02T10:58:34.337Z"
   },
   {
    "duration": 7,
    "start_time": "2022-01-02T10:58:34.397Z"
   },
   {
    "duration": 5,
    "start_time": "2022-01-02T10:58:34.406Z"
   },
   {
    "duration": 156,
    "start_time": "2022-01-02T10:58:34.412Z"
   },
   {
    "duration": 223,
    "start_time": "2022-01-02T12:00:39.785Z"
   },
   {
    "duration": 146,
    "start_time": "2022-01-02T12:01:23.988Z"
   },
   {
    "duration": 18,
    "start_time": "2022-01-02T12:01:40.061Z"
   },
   {
    "duration": 22,
    "start_time": "2022-01-02T12:02:00.508Z"
   },
   {
    "duration": 21,
    "start_time": "2022-01-02T12:05:28.470Z"
   },
   {
    "duration": 19,
    "start_time": "2022-01-02T12:06:11.095Z"
   },
   {
    "duration": 18,
    "start_time": "2022-01-02T12:07:00.790Z"
   },
   {
    "duration": 23,
    "start_time": "2022-01-02T12:07:12.704Z"
   },
   {
    "duration": 23,
    "start_time": "2022-01-02T12:10:22.448Z"
   },
   {
    "duration": 24,
    "start_time": "2022-01-02T12:10:58.961Z"
   },
   {
    "duration": 23,
    "start_time": "2022-01-02T12:11:05.457Z"
   },
   {
    "duration": 21,
    "start_time": "2022-01-02T12:11:50.273Z"
   },
   {
    "duration": 32,
    "start_time": "2022-01-02T12:14:08.040Z"
   },
   {
    "duration": 36,
    "start_time": "2022-01-02T12:23:56.940Z"
   },
   {
    "duration": 9,
    "start_time": "2022-01-02T12:24:04.700Z"
   },
   {
    "duration": 23,
    "start_time": "2022-01-02T12:31:15.957Z"
   },
   {
    "duration": 23,
    "start_time": "2022-01-02T12:36:24.290Z"
   },
   {
    "duration": 45,
    "start_time": "2022-01-02T12:44:39.595Z"
   },
   {
    "duration": 37,
    "start_time": "2022-01-02T12:44:43.420Z"
   },
   {
    "duration": 34,
    "start_time": "2022-01-02T12:58:23.099Z"
   },
   {
    "duration": 13,
    "start_time": "2022-01-02T13:16:50.018Z"
   },
   {
    "duration": 20,
    "start_time": "2022-01-02T13:17:15.187Z"
   },
   {
    "duration": 23,
    "start_time": "2022-01-02T13:17:56.946Z"
   },
   {
    "duration": 25,
    "start_time": "2022-01-02T13:18:24.957Z"
   },
   {
    "duration": 132,
    "start_time": "2022-01-02T13:23:11.656Z"
   },
   {
    "duration": 144,
    "start_time": "2022-01-02T13:23:44.167Z"
   },
   {
    "duration": 37,
    "start_time": "2022-01-02T13:24:10.208Z"
   },
   {
    "duration": 144,
    "start_time": "2022-01-02T13:26:51.279Z"
   },
   {
    "duration": 47,
    "start_time": "2022-01-02T13:28:33.419Z"
   },
   {
    "duration": 44,
    "start_time": "2022-01-02T13:28:52.755Z"
   },
   {
    "duration": 50,
    "start_time": "2022-01-02T13:33:04.588Z"
   },
   {
    "duration": 72,
    "start_time": "2022-01-02T13:33:08.468Z"
   },
   {
    "duration": 25,
    "start_time": "2022-01-02T13:33:48.229Z"
   },
   {
    "duration": 44,
    "start_time": "2022-01-02T13:33:58.574Z"
   },
   {
    "duration": 23,
    "start_time": "2022-01-02T13:34:14.495Z"
   },
   {
    "duration": 43,
    "start_time": "2022-01-02T13:34:44.921Z"
   },
   {
    "duration": 41,
    "start_time": "2022-01-02T13:36:26.137Z"
   },
   {
    "duration": 44,
    "start_time": "2022-01-02T13:38:33.225Z"
   },
   {
    "duration": 70,
    "start_time": "2022-01-02T13:40:38.695Z"
   },
   {
    "duration": 69,
    "start_time": "2022-01-02T13:43:40.077Z"
   },
   {
    "duration": 66,
    "start_time": "2022-01-02T13:44:27.024Z"
   },
   {
    "duration": 63,
    "start_time": "2022-01-02T13:45:16.137Z"
   },
   {
    "duration": 64,
    "start_time": "2022-01-02T13:46:02.802Z"
   },
   {
    "duration": 61,
    "start_time": "2022-01-02T13:47:43.614Z"
   },
   {
    "duration": 63,
    "start_time": "2022-01-02T13:48:04.503Z"
   },
   {
    "duration": 60,
    "start_time": "2022-01-02T13:49:13.625Z"
   },
   {
    "duration": 59,
    "start_time": "2022-01-02T13:54:47.871Z"
   },
   {
    "duration": 134,
    "start_time": "2022-01-02T13:56:15.890Z"
   },
   {
    "duration": 61,
    "start_time": "2022-01-02T13:56:37.306Z"
   },
   {
    "duration": 392,
    "start_time": "2022-01-02T14:13:32.519Z"
   },
   {
    "duration": 48,
    "start_time": "2022-01-02T14:16:34.151Z"
   },
   {
    "duration": 585,
    "start_time": "2022-01-02T14:16:49.575Z"
   },
   {
    "duration": 628,
    "start_time": "2022-01-02T14:17:13.666Z"
   },
   {
    "duration": 589,
    "start_time": "2022-01-02T14:17:22.448Z"
   },
   {
    "duration": 587,
    "start_time": "2022-01-02T14:17:40.383Z"
   },
   {
    "duration": 409,
    "start_time": "2022-01-02T14:18:05.819Z"
   },
   {
    "duration": 661,
    "start_time": "2022-01-02T14:18:27.066Z"
   },
   {
    "duration": 379,
    "start_time": "2022-01-02T14:18:38.339Z"
   },
   {
    "duration": 579,
    "start_time": "2022-01-02T14:18:44.139Z"
   },
   {
    "duration": 652,
    "start_time": "2022-01-02T14:19:52.173Z"
   },
   {
    "duration": 795,
    "start_time": "2022-01-02T14:20:12.374Z"
   },
   {
    "duration": 670,
    "start_time": "2022-01-02T14:21:02.703Z"
   },
   {
    "duration": 687,
    "start_time": "2022-01-02T14:21:20.440Z"
   },
   {
    "duration": 823,
    "start_time": "2022-01-02T14:21:30.968Z"
   },
   {
    "duration": 649,
    "start_time": "2022-01-02T14:22:16.218Z"
   },
   {
    "duration": 651,
    "start_time": "2022-01-02T14:22:48.924Z"
   },
   {
    "duration": 671,
    "start_time": "2022-01-02T14:23:01.427Z"
   },
   {
    "duration": 811,
    "start_time": "2022-01-02T14:23:28.221Z"
   },
   {
    "duration": 648,
    "start_time": "2022-01-02T14:23:37.405Z"
   },
   {
    "duration": 316,
    "start_time": "2022-01-02T14:24:40.623Z"
   },
   {
    "duration": 317,
    "start_time": "2022-01-02T14:25:24.394Z"
   },
   {
    "duration": 334,
    "start_time": "2022-01-02T14:29:54.307Z"
   },
   {
    "duration": 370,
    "start_time": "2022-01-02T14:30:03.603Z"
   },
   {
    "duration": 326,
    "start_time": "2022-01-02T14:30:16.483Z"
   },
   {
    "duration": 48,
    "start_time": "2022-01-02T14:31:07.614Z"
   },
   {
    "duration": 334,
    "start_time": "2022-01-02T14:31:15.478Z"
   },
   {
    "duration": 334,
    "start_time": "2022-01-02T14:31:32.294Z"
   },
   {
    "duration": 341,
    "start_time": "2022-01-02T14:31:39.007Z"
   },
   {
    "duration": 365,
    "start_time": "2022-01-02T14:33:21.090Z"
   },
   {
    "duration": 322,
    "start_time": "2022-01-02T14:33:51.860Z"
   },
   {
    "duration": 362,
    "start_time": "2022-01-02T14:34:10.725Z"
   },
   {
    "duration": 368,
    "start_time": "2022-01-02T14:38:19.477Z"
   },
   {
    "duration": 480,
    "start_time": "2022-01-02T14:43:07.384Z"
   },
   {
    "duration": 691,
    "start_time": "2022-01-02T14:43:26.233Z"
   },
   {
    "duration": 501,
    "start_time": "2022-01-02T14:44:14.418Z"
   },
   {
    "duration": 151,
    "start_time": "2022-01-02T14:48:21.450Z"
   },
   {
    "duration": 160,
    "start_time": "2022-01-02T14:51:28.953Z"
   },
   {
    "duration": 151,
    "start_time": "2022-01-02T14:58:28.808Z"
   },
   {
    "duration": 147,
    "start_time": "2022-01-02T14:58:35.685Z"
   },
   {
    "duration": 48,
    "start_time": "2022-01-02T15:12:57.663Z"
   },
   {
    "duration": 142,
    "start_time": "2022-01-02T15:26:20.996Z"
   },
   {
    "duration": 1483,
    "start_time": "2022-01-02T15:27:31.336Z"
   },
   {
    "duration": 428,
    "start_time": "2022-01-02T15:27:32.821Z"
   },
   {
    "duration": 6,
    "start_time": "2022-01-02T15:27:33.251Z"
   },
   {
    "duration": 108,
    "start_time": "2022-01-02T15:27:33.259Z"
   },
   {
    "duration": 5,
    "start_time": "2022-01-02T15:27:33.369Z"
   },
   {
    "duration": 26,
    "start_time": "2022-01-02T15:27:33.375Z"
   },
   {
    "duration": 68,
    "start_time": "2022-01-02T15:27:33.402Z"
   },
   {
    "duration": 67,
    "start_time": "2022-01-02T15:27:33.472Z"
   },
   {
    "duration": 13,
    "start_time": "2022-01-02T15:27:33.541Z"
   },
   {
    "duration": 76,
    "start_time": "2022-01-02T15:27:33.556Z"
   },
   {
    "duration": 8,
    "start_time": "2022-01-02T15:27:33.633Z"
   },
   {
    "duration": 30,
    "start_time": "2022-01-02T15:27:33.643Z"
   },
   {
    "duration": 18,
    "start_time": "2022-01-02T15:27:33.674Z"
   },
   {
    "duration": 14,
    "start_time": "2022-01-02T15:27:33.694Z"
   },
   {
    "duration": 31,
    "start_time": "2022-01-02T15:27:33.710Z"
   },
   {
    "duration": 14,
    "start_time": "2022-01-02T15:27:33.743Z"
   },
   {
    "duration": 39,
    "start_time": "2022-01-02T15:27:33.758Z"
   },
   {
    "duration": 14,
    "start_time": "2022-01-02T15:27:33.799Z"
   },
   {
    "duration": 6,
    "start_time": "2022-01-02T15:27:33.814Z"
   },
   {
    "duration": 10,
    "start_time": "2022-01-02T15:27:33.821Z"
   },
   {
    "duration": 8,
    "start_time": "2022-01-02T15:27:33.832Z"
   },
   {
    "duration": 62,
    "start_time": "2022-01-02T15:27:33.842Z"
   },
   {
    "duration": 8,
    "start_time": "2022-01-02T15:27:33.907Z"
   },
   {
    "duration": 15,
    "start_time": "2022-01-02T15:27:33.917Z"
   },
   {
    "duration": 168,
    "start_time": "2022-01-02T15:27:33.934Z"
   },
   {
    "duration": 33,
    "start_time": "2022-01-02T15:27:34.104Z"
   },
   {
    "duration": 7,
    "start_time": "2022-01-02T15:27:34.139Z"
   },
   {
    "duration": 66,
    "start_time": "2022-01-02T15:27:34.148Z"
   },
   {
    "duration": 34,
    "start_time": "2022-01-02T15:27:34.216Z"
   },
   {
    "duration": 79,
    "start_time": "2022-01-02T15:27:34.251Z"
   },
   {
    "duration": 369,
    "start_time": "2022-01-02T15:27:34.331Z"
   },
   {
    "duration": 384,
    "start_time": "2022-01-02T15:27:34.702Z"
   },
   {
    "duration": 508,
    "start_time": "2022-01-02T15:27:35.092Z"
   },
   {
    "duration": 3362,
    "start_time": "2022-01-02T15:27:35.602Z"
   },
   {
    "duration": 3375,
    "start_time": "2022-01-02T15:27:58.145Z"
   },
   {
    "duration": 10,
    "start_time": "2022-01-02T15:28:15.098Z"
   },
   {
    "duration": 9,
    "start_time": "2022-01-02T15:32:09.301Z"
   },
   {
    "duration": 10,
    "start_time": "2022-01-02T15:32:48.380Z"
   },
   {
    "duration": 12,
    "start_time": "2022-01-02T15:33:35.557Z"
   },
   {
    "duration": 1980,
    "start_time": "2022-01-03T09:40:52.503Z"
   },
   {
    "duration": 648,
    "start_time": "2022-01-03T09:40:54.486Z"
   },
   {
    "duration": 9,
    "start_time": "2022-01-03T09:40:55.164Z"
   },
   {
    "duration": 139,
    "start_time": "2022-01-03T09:40:55.177Z"
   },
   {
    "duration": 7,
    "start_time": "2022-01-03T09:40:55.319Z"
   },
   {
    "duration": 41,
    "start_time": "2022-01-03T09:40:55.328Z"
   },
   {
    "duration": 110,
    "start_time": "2022-01-03T09:40:55.372Z"
   },
   {
    "duration": 77,
    "start_time": "2022-01-03T09:40:55.486Z"
   },
   {
    "duration": 20,
    "start_time": "2022-01-03T09:40:55.566Z"
   },
   {
    "duration": 108,
    "start_time": "2022-01-03T09:40:55.588Z"
   },
   {
    "duration": 13,
    "start_time": "2022-01-03T09:40:55.699Z"
   },
   {
    "duration": 68,
    "start_time": "2022-01-03T09:40:55.715Z"
   },
   {
    "duration": 3,
    "start_time": "2022-01-03T09:40:55.785Z"
   },
   {
    "duration": 19,
    "start_time": "2022-01-03T09:40:55.791Z"
   },
   {
    "duration": 87,
    "start_time": "2022-01-03T09:40:55.813Z"
   },
   {
    "duration": 22,
    "start_time": "2022-01-03T09:40:55.903Z"
   },
   {
    "duration": 10,
    "start_time": "2022-01-03T09:40:55.927Z"
   },
   {
    "duration": 46,
    "start_time": "2022-01-03T09:40:55.939Z"
   },
   {
    "duration": 9,
    "start_time": "2022-01-03T09:40:55.987Z"
   },
   {
    "duration": 16,
    "start_time": "2022-01-03T09:40:55.999Z"
   },
   {
    "duration": 55,
    "start_time": "2022-01-03T09:40:56.018Z"
   },
   {
    "duration": 35,
    "start_time": "2022-01-03T09:40:56.076Z"
   },
   {
    "duration": 12,
    "start_time": "2022-01-03T09:40:56.115Z"
   },
   {
    "duration": 37,
    "start_time": "2022-01-03T09:40:56.129Z"
   },
   {
    "duration": 277,
    "start_time": "2022-01-03T09:40:56.169Z"
   },
   {
    "duration": 63,
    "start_time": "2022-01-03T09:40:56.449Z"
   },
   {
    "duration": 12,
    "start_time": "2022-01-03T09:40:56.514Z"
   },
   {
    "duration": 81,
    "start_time": "2022-01-03T09:40:56.529Z"
   },
   {
    "duration": 73,
    "start_time": "2022-01-03T09:40:56.613Z"
   },
   {
    "duration": 113,
    "start_time": "2022-01-03T09:40:56.689Z"
   },
   {
    "duration": 564,
    "start_time": "2022-01-03T09:40:56.804Z"
   },
   {
    "duration": 620,
    "start_time": "2022-01-03T09:40:57.371Z"
   },
   {
    "duration": 847,
    "start_time": "2022-01-03T09:40:57.993Z"
   },
   {
    "duration": 30,
    "start_time": "2022-01-03T09:40:58.842Z"
   },
   {
    "duration": 15,
    "start_time": "2022-01-03T09:40:58.874Z"
   },
   {
    "duration": 889,
    "start_time": "2022-01-03T10:37:47.289Z"
   },
   {
    "duration": 804,
    "start_time": "2022-01-03T10:38:22.954Z"
   },
   {
    "duration": 797,
    "start_time": "2022-01-03T10:39:25.805Z"
   },
   {
    "duration": 595,
    "start_time": "2022-01-03T10:39:42.398Z"
   },
   {
    "duration": 820,
    "start_time": "2022-01-03T10:39:52.182Z"
   },
   {
    "duration": 788,
    "start_time": "2022-01-03T10:40:01.799Z"
   },
   {
    "duration": 796,
    "start_time": "2022-01-03T10:40:15.341Z"
   },
   {
    "duration": 937,
    "start_time": "2022-01-03T10:45:16.571Z"
   },
   {
    "duration": 835,
    "start_time": "2022-01-03T10:45:30.144Z"
   },
   {
    "duration": 907,
    "start_time": "2022-01-03T10:47:39.463Z"
   },
   {
    "duration": 896,
    "start_time": "2022-01-03T10:47:59.047Z"
   },
   {
    "duration": 623,
    "start_time": "2022-01-03T10:50:52.917Z"
   },
   {
    "duration": 1332,
    "start_time": "2022-01-03T10:50:59.950Z"
   },
   {
    "duration": 830,
    "start_time": "2022-01-03T10:51:14.302Z"
   },
   {
    "duration": 822,
    "start_time": "2022-01-03T10:53:52.916Z"
   },
   {
    "duration": 387,
    "start_time": "2022-01-03T10:57:02.739Z"
   },
   {
    "duration": 219,
    "start_time": "2022-01-03T10:58:07.380Z"
   },
   {
    "duration": 220,
    "start_time": "2022-01-03T10:59:28.999Z"
   },
   {
    "duration": 236,
    "start_time": "2022-01-03T10:59:32.559Z"
   },
   {
    "duration": 494,
    "start_time": "2022-01-03T11:07:02.712Z"
   },
   {
    "duration": 240,
    "start_time": "2022-01-03T11:07:28.818Z"
   },
   {
    "duration": 278,
    "start_time": "2022-01-03T11:27:49.940Z"
   },
   {
    "duration": 2040,
    "start_time": "2022-01-03T11:28:04.821Z"
   },
   {
    "duration": 738,
    "start_time": "2022-01-03T11:28:06.864Z"
   },
   {
    "duration": 9,
    "start_time": "2022-01-03T11:28:07.605Z"
   },
   {
    "duration": 149,
    "start_time": "2022-01-03T11:28:07.617Z"
   },
   {
    "duration": 21,
    "start_time": "2022-01-03T11:28:07.768Z"
   },
   {
    "duration": 131,
    "start_time": "2022-01-03T11:28:07.791Z"
   },
   {
    "duration": 89,
    "start_time": "2022-01-03T11:28:07.925Z"
   },
   {
    "duration": 18,
    "start_time": "2022-01-03T11:28:08.017Z"
   },
   {
    "duration": 104,
    "start_time": "2022-01-03T11:28:08.038Z"
   },
   {
    "duration": 32,
    "start_time": "2022-01-03T11:28:08.145Z"
   },
   {
    "duration": 45,
    "start_time": "2022-01-03T11:28:08.179Z"
   },
   {
    "duration": 48,
    "start_time": "2022-01-03T11:28:08.227Z"
   },
   {
    "duration": 55,
    "start_time": "2022-01-03T11:28:08.279Z"
   },
   {
    "duration": 28,
    "start_time": "2022-01-03T11:28:08.363Z"
   },
   {
    "duration": 10,
    "start_time": "2022-01-03T11:28:08.394Z"
   },
   {
    "duration": 64,
    "start_time": "2022-01-03T11:28:08.407Z"
   },
   {
    "duration": 11,
    "start_time": "2022-01-03T11:28:08.474Z"
   },
   {
    "duration": 21,
    "start_time": "2022-01-03T11:28:08.488Z"
   },
   {
    "duration": 52,
    "start_time": "2022-01-03T11:28:08.511Z"
   },
   {
    "duration": 41,
    "start_time": "2022-01-03T11:28:08.567Z"
   },
   {
    "duration": 11,
    "start_time": "2022-01-03T11:28:08.611Z"
   },
   {
    "duration": 323,
    "start_time": "2022-01-03T11:28:08.625Z"
   },
   {
    "duration": 60,
    "start_time": "2022-01-03T11:28:08.965Z"
   },
   {
    "duration": 13,
    "start_time": "2022-01-03T11:28:09.028Z"
   },
   {
    "duration": 66,
    "start_time": "2022-01-03T11:28:09.062Z"
   },
   {
    "duration": 91,
    "start_time": "2022-01-03T11:28:09.131Z"
   },
   {
    "duration": 141,
    "start_time": "2022-01-03T11:28:09.225Z"
   },
   {
    "duration": 639,
    "start_time": "2022-01-03T11:28:09.374Z"
   },
   {
    "duration": 676,
    "start_time": "2022-01-03T11:28:10.016Z"
   },
   {
    "duration": 893,
    "start_time": "2022-01-03T11:28:10.695Z"
   },
   {
    "duration": 929,
    "start_time": "2022-01-03T11:28:11.591Z"
   },
   {
    "duration": 263,
    "start_time": "2022-01-03T11:28:12.523Z"
   },
   {
    "duration": 261,
    "start_time": "2022-01-03T11:28:12.789Z"
   },
   {
    "duration": 22,
    "start_time": "2022-01-03T11:28:13.053Z"
   },
   {
    "duration": 22,
    "start_time": "2022-01-03T11:28:13.079Z"
   },
   {
    "duration": 26,
    "start_time": "2022-01-03T11:32:44.525Z"
   },
   {
    "duration": 89,
    "start_time": "2022-01-03T11:35:10.585Z"
   },
   {
    "duration": 49,
    "start_time": "2022-01-03T11:35:54.190Z"
   },
   {
    "duration": 46,
    "start_time": "2022-01-03T11:36:40.412Z"
   },
   {
    "duration": 2833,
    "start_time": "2022-01-03T11:47:47.108Z"
   },
   {
    "duration": 844,
    "start_time": "2022-01-03T11:47:49.945Z"
   },
   {
    "duration": 138,
    "start_time": "2022-01-03T11:47:50.794Z"
   },
   {
    "duration": 30,
    "start_time": "2022-01-03T11:47:50.936Z"
   },
   {
    "duration": 218,
    "start_time": "2022-01-03T11:47:50.972Z"
   },
   {
    "duration": 21,
    "start_time": "2022-01-03T11:47:51.194Z"
   },
   {
    "duration": 116,
    "start_time": "2022-01-03T11:47:51.218Z"
   },
   {
    "duration": 64,
    "start_time": "2022-01-03T11:47:51.337Z"
   },
   {
    "duration": 489,
    "start_time": "2022-01-03T11:47:51.405Z"
   },
   {
    "duration": -32,
    "start_time": "2022-01-03T11:47:51.930Z"
   },
   {
    "duration": -33,
    "start_time": "2022-01-03T11:47:51.932Z"
   },
   {
    "duration": -32,
    "start_time": "2022-01-03T11:47:51.933Z"
   },
   {
    "duration": -36,
    "start_time": "2022-01-03T11:47:51.939Z"
   },
   {
    "duration": -37,
    "start_time": "2022-01-03T11:47:51.941Z"
   },
   {
    "duration": -36,
    "start_time": "2022-01-03T11:47:51.942Z"
   },
   {
    "duration": -37,
    "start_time": "2022-01-03T11:47:51.944Z"
   },
   {
    "duration": -37,
    "start_time": "2022-01-03T11:47:51.946Z"
   },
   {
    "duration": -42,
    "start_time": "2022-01-03T11:47:51.953Z"
   },
   {
    "duration": -42,
    "start_time": "2022-01-03T11:47:51.954Z"
   },
   {
    "duration": -43,
    "start_time": "2022-01-03T11:47:51.956Z"
   },
   {
    "duration": -42,
    "start_time": "2022-01-03T11:47:51.957Z"
   },
   {
    "duration": -68,
    "start_time": "2022-01-03T11:47:51.984Z"
   },
   {
    "duration": -71,
    "start_time": "2022-01-03T11:47:51.989Z"
   },
   {
    "duration": -78,
    "start_time": "2022-01-03T11:47:51.997Z"
   },
   {
    "duration": -79,
    "start_time": "2022-01-03T11:47:51.999Z"
   },
   {
    "duration": -81,
    "start_time": "2022-01-03T11:47:52.003Z"
   },
   {
    "duration": -81,
    "start_time": "2022-01-03T11:47:52.005Z"
   },
   {
    "duration": -87,
    "start_time": "2022-01-03T11:47:52.013Z"
   },
   {
    "duration": -88,
    "start_time": "2022-01-03T11:47:52.015Z"
   },
   {
    "duration": -88,
    "start_time": "2022-01-03T11:47:52.017Z"
   },
   {
    "duration": -89,
    "start_time": "2022-01-03T11:47:52.019Z"
   },
   {
    "duration": 61,
    "start_time": "2022-01-03T12:14:51.326Z"
   },
   {
    "duration": 359,
    "start_time": "2022-01-03T12:15:48.096Z"
   },
   {
    "duration": 26,
    "start_time": "2022-01-03T12:16:25.330Z"
   },
   {
    "duration": 12,
    "start_time": "2022-01-03T12:16:40.458Z"
   },
   {
    "duration": 32,
    "start_time": "2022-01-03T12:16:42.713Z"
   },
   {
    "duration": 10,
    "start_time": "2022-01-03T12:20:08.202Z"
   },
   {
    "duration": 17,
    "start_time": "2022-01-03T12:20:11.794Z"
   },
   {
    "duration": 14,
    "start_time": "2022-01-03T12:20:58.195Z"
   },
   {
    "duration": 43,
    "start_time": "2022-01-03T12:21:05.667Z"
   },
   {
    "duration": 74,
    "start_time": "2022-01-03T12:21:17.164Z"
   },
   {
    "duration": 2104,
    "start_time": "2022-01-03T12:21:57.514Z"
   },
   {
    "duration": 712,
    "start_time": "2022-01-03T12:21:59.620Z"
   },
   {
    "duration": 144,
    "start_time": "2022-01-03T12:22:00.365Z"
   },
   {
    "duration": 16,
    "start_time": "2022-01-03T12:22:00.511Z"
   },
   {
    "duration": 198,
    "start_time": "2022-01-03T12:22:00.530Z"
   },
   {
    "duration": 36,
    "start_time": "2022-01-03T12:22:00.732Z"
   },
   {
    "duration": 110,
    "start_time": "2022-01-03T12:22:00.774Z"
   },
   {
    "duration": 43,
    "start_time": "2022-01-03T12:22:00.887Z"
   },
   {
    "duration": 86,
    "start_time": "2022-01-03T12:22:00.932Z"
   },
   {
    "duration": 23,
    "start_time": "2022-01-03T12:22:01.021Z"
   },
   {
    "duration": 39,
    "start_time": "2022-01-03T12:22:01.046Z"
   },
   {
    "duration": 61,
    "start_time": "2022-01-03T12:22:01.088Z"
   },
   {
    "duration": 23,
    "start_time": "2022-01-03T12:22:01.152Z"
   },
   {
    "duration": 79,
    "start_time": "2022-01-03T12:22:01.177Z"
   },
   {
    "duration": 17,
    "start_time": "2022-01-03T12:22:01.259Z"
   },
   {
    "duration": 57,
    "start_time": "2022-01-03T12:22:01.279Z"
   },
   {
    "duration": 26,
    "start_time": "2022-01-03T12:22:01.339Z"
   },
   {
    "duration": 298,
    "start_time": "2022-01-03T12:22:01.372Z"
   },
   {
    "duration": 61,
    "start_time": "2022-01-03T12:22:01.674Z"
   },
   {
    "duration": 34,
    "start_time": "2022-01-03T12:22:01.737Z"
   },
   {
    "duration": 102,
    "start_time": "2022-01-03T12:22:01.776Z"
   },
   {
    "duration": 56,
    "start_time": "2022-01-03T12:22:01.881Z"
   },
   {
    "duration": 125,
    "start_time": "2022-01-03T12:22:01.965Z"
   },
   {
    "duration": 617,
    "start_time": "2022-01-03T12:22:02.092Z"
   },
   {
    "duration": 659,
    "start_time": "2022-01-03T12:22:02.711Z"
   },
   {
    "duration": 1061,
    "start_time": "2022-01-03T12:22:03.373Z"
   },
   {
    "duration": 939,
    "start_time": "2022-01-03T12:22:04.437Z"
   },
   {
    "duration": 254,
    "start_time": "2022-01-03T12:22:05.379Z"
   },
   {
    "duration": 254,
    "start_time": "2022-01-03T12:22:05.636Z"
   },
   {
    "duration": 16,
    "start_time": "2022-01-03T12:22:05.892Z"
   },
   {
    "duration": 15,
    "start_time": "2022-01-03T12:22:05.910Z"
   },
   {
    "duration": 1567,
    "start_time": "2022-01-04T14:07:09.561Z"
   },
   {
    "duration": 421,
    "start_time": "2022-01-04T14:07:11.130Z"
   },
   {
    "duration": 95,
    "start_time": "2022-01-04T14:07:11.553Z"
   },
   {
    "duration": 10,
    "start_time": "2022-01-04T14:07:11.650Z"
   },
   {
    "duration": 127,
    "start_time": "2022-01-04T14:07:11.662Z"
   },
   {
    "duration": 11,
    "start_time": "2022-01-04T14:07:11.791Z"
   },
   {
    "duration": 58,
    "start_time": "2022-01-04T14:07:11.804Z"
   },
   {
    "duration": 46,
    "start_time": "2022-01-04T14:07:11.865Z"
   },
   {
    "duration": 32,
    "start_time": "2022-01-04T14:07:11.913Z"
   },
   {
    "duration": 14,
    "start_time": "2022-01-04T14:07:11.946Z"
   },
   {
    "duration": 7,
    "start_time": "2022-01-04T14:07:11.961Z"
   },
   {
    "duration": 33,
    "start_time": "2022-01-04T14:07:11.970Z"
   },
   {
    "duration": 6,
    "start_time": "2022-01-04T14:07:12.004Z"
   },
   {
    "duration": 33,
    "start_time": "2022-01-04T14:07:12.011Z"
   },
   {
    "duration": 7,
    "start_time": "2022-01-04T14:07:12.046Z"
   },
   {
    "duration": 51,
    "start_time": "2022-01-04T14:07:12.055Z"
   },
   {
    "duration": 8,
    "start_time": "2022-01-04T14:07:12.108Z"
   },
   {
    "duration": 173,
    "start_time": "2022-01-04T14:07:12.118Z"
   },
   {
    "duration": 36,
    "start_time": "2022-01-04T14:07:12.293Z"
   },
   {
    "duration": 10,
    "start_time": "2022-01-04T14:07:12.331Z"
   },
   {
    "duration": 64,
    "start_time": "2022-01-04T14:07:12.343Z"
   },
   {
    "duration": 37,
    "start_time": "2022-01-04T14:07:12.409Z"
   },
   {
    "duration": 85,
    "start_time": "2022-01-04T14:07:12.450Z"
   },
   {
    "duration": 376,
    "start_time": "2022-01-04T14:07:12.537Z"
   },
   {
    "duration": 407,
    "start_time": "2022-01-04T14:07:12.915Z"
   },
   {
    "duration": 508,
    "start_time": "2022-01-04T14:07:13.324Z"
   },
   {
    "duration": 572,
    "start_time": "2022-01-04T14:07:13.834Z"
   },
   {
    "duration": 160,
    "start_time": "2022-01-04T14:07:14.408Z"
   },
   {
    "duration": 149,
    "start_time": "2022-01-04T14:07:14.570Z"
   },
   {
    "duration": 12,
    "start_time": "2022-01-04T14:07:14.721Z"
   },
   {
    "duration": 11,
    "start_time": "2022-01-04T14:07:14.735Z"
   },
   {
    "duration": 35,
    "start_time": "2022-01-04T14:13:35.826Z"
   },
   {
    "duration": 30,
    "start_time": "2022-01-04T14:13:42.612Z"
   },
   {
    "duration": 1524,
    "start_time": "2022-01-04T14:13:57.993Z"
   },
   {
    "duration": 431,
    "start_time": "2022-01-04T14:13:59.519Z"
   },
   {
    "duration": 101,
    "start_time": "2022-01-04T14:13:59.952Z"
   },
   {
    "duration": 12,
    "start_time": "2022-01-04T14:14:00.056Z"
   },
   {
    "duration": 140,
    "start_time": "2022-01-04T14:14:00.070Z"
   },
   {
    "duration": 12,
    "start_time": "2022-01-04T14:14:00.211Z"
   },
   {
    "duration": 74,
    "start_time": "2022-01-04T14:14:00.225Z"
   },
   {
    "duration": 240,
    "start_time": "2022-01-04T14:14:00.301Z"
   },
   {
    "duration": -28,
    "start_time": "2022-01-04T14:14:00.572Z"
   },
   {
    "duration": -39,
    "start_time": "2022-01-04T14:14:00.584Z"
   },
   {
    "duration": -40,
    "start_time": "2022-01-04T14:14:00.586Z"
   },
   {
    "duration": -41,
    "start_time": "2022-01-04T14:14:00.588Z"
   },
   {
    "duration": -41,
    "start_time": "2022-01-04T14:14:00.589Z"
   },
   {
    "duration": -42,
    "start_time": "2022-01-04T14:14:00.591Z"
   },
   {
    "duration": -42,
    "start_time": "2022-01-04T14:14:00.592Z"
   },
   {
    "duration": -42,
    "start_time": "2022-01-04T14:14:00.593Z"
   },
   {
    "duration": -42,
    "start_time": "2022-01-04T14:14:00.594Z"
   },
   {
    "duration": -55,
    "start_time": "2022-01-04T14:14:00.608Z"
   },
   {
    "duration": -56,
    "start_time": "2022-01-04T14:14:00.610Z"
   },
   {
    "duration": -56,
    "start_time": "2022-01-04T14:14:00.612Z"
   },
   {
    "duration": -57,
    "start_time": "2022-01-04T14:14:00.614Z"
   },
   {
    "duration": -59,
    "start_time": "2022-01-04T14:14:00.616Z"
   },
   {
    "duration": -60,
    "start_time": "2022-01-04T14:14:00.618Z"
   },
   {
    "duration": -60,
    "start_time": "2022-01-04T14:14:00.619Z"
   },
   {
    "duration": -60,
    "start_time": "2022-01-04T14:14:00.620Z"
   },
   {
    "duration": -61,
    "start_time": "2022-01-04T14:14:00.622Z"
   },
   {
    "duration": -70,
    "start_time": "2022-01-04T14:14:00.631Z"
   },
   {
    "duration": -71,
    "start_time": "2022-01-04T14:14:00.633Z"
   },
   {
    "duration": -74,
    "start_time": "2022-01-04T14:14:00.637Z"
   },
   {
    "duration": -74,
    "start_time": "2022-01-04T14:14:00.638Z"
   },
   {
    "duration": -74,
    "start_time": "2022-01-04T14:14:00.639Z"
   },
   {
    "duration": 30,
    "start_time": "2022-01-04T14:14:30.176Z"
   },
   {
    "duration": 1491,
    "start_time": "2022-01-04T14:14:39.603Z"
   },
   {
    "duration": 448,
    "start_time": "2022-01-04T14:14:41.096Z"
   },
   {
    "duration": 100,
    "start_time": "2022-01-04T14:14:41.549Z"
   },
   {
    "duration": 10,
    "start_time": "2022-01-04T14:14:41.651Z"
   },
   {
    "duration": 131,
    "start_time": "2022-01-04T14:14:41.662Z"
   },
   {
    "duration": 10,
    "start_time": "2022-01-04T14:14:41.795Z"
   },
   {
    "duration": 60,
    "start_time": "2022-01-04T14:14:41.807Z"
   },
   {
    "duration": 52,
    "start_time": "2022-01-04T14:14:41.870Z"
   },
   {
    "duration": 32,
    "start_time": "2022-01-04T14:14:41.925Z"
   },
   {
    "duration": 37,
    "start_time": "2022-01-04T14:14:41.959Z"
   },
   {
    "duration": 7,
    "start_time": "2022-01-04T14:14:41.998Z"
   },
   {
    "duration": 15,
    "start_time": "2022-01-04T14:14:42.007Z"
   },
   {
    "duration": 6,
    "start_time": "2022-01-04T14:14:42.024Z"
   },
   {
    "duration": 27,
    "start_time": "2022-01-04T14:14:42.032Z"
   },
   {
    "duration": 37,
    "start_time": "2022-01-04T14:14:42.061Z"
   },
   {
    "duration": 24,
    "start_time": "2022-01-04T14:14:42.099Z"
   },
   {
    "duration": 7,
    "start_time": "2022-01-04T14:14:42.124Z"
   },
   {
    "duration": 167,
    "start_time": "2022-01-04T14:14:42.133Z"
   },
   {
    "duration": 34,
    "start_time": "2022-01-04T14:14:42.302Z"
   },
   {
    "duration": 8,
    "start_time": "2022-01-04T14:14:42.337Z"
   },
   {
    "duration": 61,
    "start_time": "2022-01-04T14:14:42.346Z"
   },
   {
    "duration": 38,
    "start_time": "2022-01-04T14:14:42.409Z"
   },
   {
    "duration": 77,
    "start_time": "2022-01-04T14:14:42.449Z"
   },
   {
    "duration": 364,
    "start_time": "2022-01-04T14:14:42.528Z"
   },
   {
    "duration": 397,
    "start_time": "2022-01-04T14:14:42.894Z"
   },
   {
    "duration": 507,
    "start_time": "2022-01-04T14:14:43.293Z"
   },
   {
    "duration": 576,
    "start_time": "2022-01-04T14:14:43.802Z"
   },
   {
    "duration": 174,
    "start_time": "2022-01-04T14:14:44.380Z"
   },
   {
    "duration": 165,
    "start_time": "2022-01-04T14:14:44.555Z"
   },
   {
    "duration": 12,
    "start_time": "2022-01-04T14:14:44.722Z"
   },
   {
    "duration": 12,
    "start_time": "2022-01-04T14:14:44.736Z"
   },
   {
    "duration": 49,
    "start_time": "2022-01-04T14:22:56.546Z"
   },
   {
    "duration": 1554,
    "start_time": "2022-01-04T14:41:31.282Z"
   },
   {
    "duration": 438,
    "start_time": "2022-01-04T14:41:32.838Z"
   },
   {
    "duration": 76,
    "start_time": "2022-01-04T14:41:33.292Z"
   },
   {
    "duration": 26,
    "start_time": "2022-01-04T14:41:33.370Z"
   },
   {
    "duration": 121,
    "start_time": "2022-01-04T14:41:33.397Z"
   },
   {
    "duration": 12,
    "start_time": "2022-01-04T14:41:33.520Z"
   },
   {
    "duration": 72,
    "start_time": "2022-01-04T14:41:33.533Z"
   },
   {
    "duration": 31,
    "start_time": "2022-01-04T14:41:33.608Z"
   },
   {
    "duration": 33,
    "start_time": "2022-01-04T14:41:33.641Z"
   },
   {
    "duration": 13,
    "start_time": "2022-01-04T14:41:33.692Z"
   },
   {
    "duration": 7,
    "start_time": "2022-01-04T14:41:33.707Z"
   },
   {
    "duration": 15,
    "start_time": "2022-01-04T14:41:33.715Z"
   },
   {
    "duration": 5,
    "start_time": "2022-01-04T14:41:33.732Z"
   },
   {
    "duration": 212,
    "start_time": "2022-01-04T14:41:33.738Z"
   },
   {
    "duration": -34,
    "start_time": "2022-01-04T14:41:33.986Z"
   },
   {
    "duration": -35,
    "start_time": "2022-01-04T14:41:33.988Z"
   },
   {
    "duration": -36,
    "start_time": "2022-01-04T14:41:33.990Z"
   },
   {
    "duration": -37,
    "start_time": "2022-01-04T14:41:33.992Z"
   },
   {
    "duration": -38,
    "start_time": "2022-01-04T14:41:33.994Z"
   },
   {
    "duration": -38,
    "start_time": "2022-01-04T14:41:33.995Z"
   },
   {
    "duration": -43,
    "start_time": "2022-01-04T14:41:34.001Z"
   },
   {
    "duration": -44,
    "start_time": "2022-01-04T14:41:34.003Z"
   },
   {
    "duration": -45,
    "start_time": "2022-01-04T14:41:34.005Z"
   },
   {
    "duration": -46,
    "start_time": "2022-01-04T14:41:34.007Z"
   },
   {
    "duration": -47,
    "start_time": "2022-01-04T14:41:34.009Z"
   },
   {
    "duration": -47,
    "start_time": "2022-01-04T14:41:34.010Z"
   },
   {
    "duration": -48,
    "start_time": "2022-01-04T14:41:34.012Z"
   },
   {
    "duration": -49,
    "start_time": "2022-01-04T14:41:34.014Z"
   },
   {
    "duration": -49,
    "start_time": "2022-01-04T14:41:34.015Z"
   },
   {
    "duration": -51,
    "start_time": "2022-01-04T14:41:34.018Z"
   },
   {
    "duration": -52,
    "start_time": "2022-01-04T14:41:34.020Z"
   },
   {
    "duration": 1560,
    "start_time": "2022-01-04T14:42:10.769Z"
   },
   {
    "duration": 471,
    "start_time": "2022-01-04T14:42:12.331Z"
   },
   {
    "duration": 78,
    "start_time": "2022-01-04T14:42:12.804Z"
   },
   {
    "duration": 11,
    "start_time": "2022-01-04T14:42:12.892Z"
   },
   {
    "duration": 132,
    "start_time": "2022-01-04T14:42:12.905Z"
   },
   {
    "duration": 12,
    "start_time": "2022-01-04T14:42:13.039Z"
   },
   {
    "duration": 74,
    "start_time": "2022-01-04T14:42:13.052Z"
   },
   {
    "duration": 31,
    "start_time": "2022-01-04T14:42:13.129Z"
   },
   {
    "duration": 50,
    "start_time": "2022-01-04T14:42:13.162Z"
   },
   {
    "duration": 13,
    "start_time": "2022-01-04T14:42:13.214Z"
   },
   {
    "duration": 8,
    "start_time": "2022-01-04T14:42:13.229Z"
   },
   {
    "duration": 15,
    "start_time": "2022-01-04T14:42:13.238Z"
   },
   {
    "duration": 6,
    "start_time": "2022-01-04T14:42:13.254Z"
   },
   {
    "duration": 29,
    "start_time": "2022-01-04T14:42:13.292Z"
   },
   {
    "duration": 8,
    "start_time": "2022-01-04T14:42:13.322Z"
   },
   {
    "duration": 22,
    "start_time": "2022-01-04T14:42:13.332Z"
   },
   {
    "duration": 7,
    "start_time": "2022-01-04T14:42:13.355Z"
   },
   {
    "duration": 179,
    "start_time": "2022-01-04T14:42:13.364Z"
   },
   {
    "duration": 47,
    "start_time": "2022-01-04T14:42:13.544Z"
   },
   {
    "duration": 9,
    "start_time": "2022-01-04T14:42:13.593Z"
   },
   {
    "duration": 39,
    "start_time": "2022-01-04T14:42:13.604Z"
   },
   {
    "duration": 56,
    "start_time": "2022-01-04T14:42:13.645Z"
   },
   {
    "duration": 58,
    "start_time": "2022-01-04T14:42:13.704Z"
   },
   {
    "duration": 385,
    "start_time": "2022-01-04T14:42:13.764Z"
   },
   {
    "duration": 213,
    "start_time": "2022-01-04T14:42:14.151Z"
   },
   {
    "duration": -29,
    "start_time": "2022-01-04T14:42:14.394Z"
   },
   {
    "duration": -30,
    "start_time": "2022-01-04T14:42:14.396Z"
   },
   {
    "duration": -31,
    "start_time": "2022-01-04T14:42:14.398Z"
   },
   {
    "duration": -31,
    "start_time": "2022-01-04T14:42:14.399Z"
   },
   {
    "duration": -32,
    "start_time": "2022-01-04T14:42:14.401Z"
   },
   {
    "duration": -32,
    "start_time": "2022-01-04T14:42:14.402Z"
   },
   {
    "duration": 1518,
    "start_time": "2022-01-04T14:42:45.820Z"
   },
   {
    "duration": 483,
    "start_time": "2022-01-04T14:42:47.340Z"
   },
   {
    "duration": 105,
    "start_time": "2022-01-04T14:42:47.827Z"
   },
   {
    "duration": 15,
    "start_time": "2022-01-04T14:42:47.934Z"
   },
   {
    "duration": 145,
    "start_time": "2022-01-04T14:42:47.951Z"
   },
   {
    "duration": 14,
    "start_time": "2022-01-04T14:42:48.098Z"
   },
   {
    "duration": 78,
    "start_time": "2022-01-04T14:42:48.115Z"
   },
   {
    "duration": 37,
    "start_time": "2022-01-04T14:42:48.196Z"
   },
   {
    "duration": 186,
    "start_time": "2022-01-04T14:42:48.235Z"
   },
   {
    "duration": 13,
    "start_time": "2022-01-04T14:42:48.423Z"
   },
   {
    "duration": 7,
    "start_time": "2022-01-04T14:42:48.437Z"
   },
   {
    "duration": 14,
    "start_time": "2022-01-04T14:42:48.446Z"
   },
   {
    "duration": 32,
    "start_time": "2022-01-04T14:42:48.461Z"
   },
   {
    "duration": 41,
    "start_time": "2022-01-04T14:42:48.495Z"
   },
   {
    "duration": 8,
    "start_time": "2022-01-04T14:42:48.538Z"
   },
   {
    "duration": 47,
    "start_time": "2022-01-04T14:42:48.550Z"
   },
   {
    "duration": 8,
    "start_time": "2022-01-04T14:42:48.598Z"
   },
   {
    "duration": 169,
    "start_time": "2022-01-04T14:42:48.608Z"
   },
   {
    "duration": 46,
    "start_time": "2022-01-04T14:42:48.778Z"
   },
   {
    "duration": 8,
    "start_time": "2022-01-04T14:42:48.825Z"
   },
   {
    "duration": 57,
    "start_time": "2022-01-04T14:42:48.835Z"
   },
   {
    "duration": 35,
    "start_time": "2022-01-04T14:42:48.897Z"
   },
   {
    "duration": 78,
    "start_time": "2022-01-04T14:42:48.933Z"
   },
   {
    "duration": 362,
    "start_time": "2022-01-04T14:42:49.013Z"
   },
   {
    "duration": 396,
    "start_time": "2022-01-04T14:42:49.377Z"
   },
   {
    "duration": 503,
    "start_time": "2022-01-04T14:42:49.775Z"
   },
   {
    "duration": 581,
    "start_time": "2022-01-04T14:42:50.279Z"
   },
   {
    "duration": 159,
    "start_time": "2022-01-04T14:42:50.862Z"
   },
   {
    "duration": 162,
    "start_time": "2022-01-04T14:42:51.023Z"
   },
   {
    "duration": 11,
    "start_time": "2022-01-04T14:42:51.187Z"
   },
   {
    "duration": 9,
    "start_time": "2022-01-04T14:42:51.200Z"
   },
   {
    "duration": 2,
    "start_time": "2022-01-04T14:51:04.968Z"
   },
   {
    "duration": 1526,
    "start_time": "2022-01-04T14:59:15.395Z"
   },
   {
    "duration": 428,
    "start_time": "2022-01-04T14:59:16.923Z"
   },
   {
    "duration": 94,
    "start_time": "2022-01-04T14:59:17.353Z"
   },
   {
    "duration": 11,
    "start_time": "2022-01-04T14:59:17.449Z"
   },
   {
    "duration": 129,
    "start_time": "2022-01-04T14:59:17.462Z"
   },
   {
    "duration": 11,
    "start_time": "2022-01-04T14:59:17.593Z"
   },
   {
    "duration": 69,
    "start_time": "2022-01-04T14:59:17.606Z"
   },
   {
    "duration": 37,
    "start_time": "2022-01-04T14:59:17.677Z"
   },
   {
    "duration": 30,
    "start_time": "2022-01-04T14:59:17.717Z"
   },
   {
    "duration": 12,
    "start_time": "2022-01-04T14:59:17.749Z"
   },
   {
    "duration": 28,
    "start_time": "2022-01-04T14:59:17.763Z"
   },
   {
    "duration": 14,
    "start_time": "2022-01-04T14:59:17.793Z"
   },
   {
    "duration": 6,
    "start_time": "2022-01-04T14:59:17.808Z"
   },
   {
    "duration": 26,
    "start_time": "2022-01-04T14:59:17.815Z"
   },
   {
    "duration": 9,
    "start_time": "2022-01-04T14:59:17.843Z"
   },
   {
    "duration": 49,
    "start_time": "2022-01-04T14:59:17.853Z"
   },
   {
    "duration": 7,
    "start_time": "2022-01-04T14:59:17.904Z"
   },
   {
    "duration": 157,
    "start_time": "2022-01-04T14:59:17.912Z"
   },
   {
    "duration": 44,
    "start_time": "2022-01-04T14:59:18.071Z"
   },
   {
    "duration": 10,
    "start_time": "2022-01-04T14:59:18.117Z"
   },
   {
    "duration": 39,
    "start_time": "2022-01-04T14:59:18.128Z"
   },
   {
    "duration": 57,
    "start_time": "2022-01-04T14:59:18.169Z"
   },
   {
    "duration": 83,
    "start_time": "2022-01-04T14:59:18.229Z"
   },
   {
    "duration": 359,
    "start_time": "2022-01-04T14:59:18.314Z"
   },
   {
    "duration": 379,
    "start_time": "2022-01-04T14:59:18.675Z"
   },
   {
    "duration": 496,
    "start_time": "2022-01-04T14:59:19.056Z"
   },
   {
    "duration": 572,
    "start_time": "2022-01-04T14:59:19.554Z"
   },
   {
    "duration": 156,
    "start_time": "2022-01-04T14:59:20.128Z"
   },
   {
    "duration": 145,
    "start_time": "2022-01-04T14:59:20.286Z"
   },
   {
    "duration": 9,
    "start_time": "2022-01-04T14:59:20.433Z"
   },
   {
    "duration": 9,
    "start_time": "2022-01-04T14:59:20.444Z"
   },
   {
    "duration": 933,
    "start_time": "2022-01-04T15:49:38.622Z"
   },
   {
    "duration": 346,
    "start_time": "2022-01-04T15:50:03.864Z"
   },
   {
    "duration": 45,
    "start_time": "2022-01-04T16:01:15.400Z"
   },
   {
    "duration": 258,
    "start_time": "2022-01-04T16:07:21.994Z"
   },
   {
    "duration": 1443,
    "start_time": "2022-01-04T17:16:23.333Z"
   },
   {
    "duration": 458,
    "start_time": "2022-01-04T17:16:24.778Z"
   },
   {
    "duration": 96,
    "start_time": "2022-01-04T17:16:25.240Z"
   },
   {
    "duration": 11,
    "start_time": "2022-01-04T17:16:25.338Z"
   },
   {
    "duration": 128,
    "start_time": "2022-01-04T17:16:25.351Z"
   },
   {
    "duration": 14,
    "start_time": "2022-01-04T17:16:25.481Z"
   },
   {
    "duration": 64,
    "start_time": "2022-01-04T17:16:25.497Z"
   },
   {
    "duration": 49,
    "start_time": "2022-01-04T17:16:25.563Z"
   },
   {
    "duration": 31,
    "start_time": "2022-01-04T17:16:25.614Z"
   },
   {
    "duration": 13,
    "start_time": "2022-01-04T17:16:25.646Z"
   },
   {
    "duration": 6,
    "start_time": "2022-01-04T17:16:25.660Z"
   },
   {
    "duration": 35,
    "start_time": "2022-01-04T17:16:25.668Z"
   },
   {
    "duration": 6,
    "start_time": "2022-01-04T17:16:25.704Z"
   },
   {
    "duration": 27,
    "start_time": "2022-01-04T17:16:25.711Z"
   },
   {
    "duration": 7,
    "start_time": "2022-01-04T17:16:25.740Z"
   },
   {
    "duration": 49,
    "start_time": "2022-01-04T17:16:25.749Z"
   },
   {
    "duration": 7,
    "start_time": "2022-01-04T17:16:25.800Z"
   },
   {
    "duration": 163,
    "start_time": "2022-01-04T17:16:25.809Z"
   },
   {
    "duration": 42,
    "start_time": "2022-01-04T17:16:25.973Z"
   },
   {
    "duration": 8,
    "start_time": "2022-01-04T17:16:26.016Z"
   },
   {
    "duration": 39,
    "start_time": "2022-01-04T17:16:26.026Z"
   },
   {
    "duration": 49,
    "start_time": "2022-01-04T17:16:26.069Z"
   },
   {
    "duration": 76,
    "start_time": "2022-01-04T17:16:26.121Z"
   },
   {
    "duration": 362,
    "start_time": "2022-01-04T17:16:26.199Z"
   },
   {
    "duration": 383,
    "start_time": "2022-01-04T17:16:26.563Z"
   },
   {
    "duration": 495,
    "start_time": "2022-01-04T17:16:26.948Z"
   },
   {
    "duration": 559,
    "start_time": "2022-01-04T17:16:27.445Z"
   },
   {
    "duration": 148,
    "start_time": "2022-01-04T17:16:28.006Z"
   },
   {
    "duration": 142,
    "start_time": "2022-01-04T17:16:28.156Z"
   },
   {
    "duration": 9,
    "start_time": "2022-01-04T17:16:28.300Z"
   },
   {
    "duration": 9,
    "start_time": "2022-01-04T17:16:28.310Z"
   },
   {
    "duration": 1453,
    "start_time": "2022-01-04T17:18:18.159Z"
   },
   {
    "duration": 448,
    "start_time": "2022-01-04T17:18:19.614Z"
   },
   {
    "duration": 100,
    "start_time": "2022-01-04T17:18:20.066Z"
   },
   {
    "duration": 28,
    "start_time": "2022-01-04T17:18:20.169Z"
   },
   {
    "duration": 129,
    "start_time": "2022-01-04T17:18:20.199Z"
   },
   {
    "duration": 13,
    "start_time": "2022-01-04T17:18:20.330Z"
   },
   {
    "duration": 85,
    "start_time": "2022-01-04T17:18:20.346Z"
   },
   {
    "duration": 37,
    "start_time": "2022-01-04T17:18:20.433Z"
   },
   {
    "duration": 52,
    "start_time": "2022-01-04T17:18:20.472Z"
   },
   {
    "duration": 13,
    "start_time": "2022-01-04T17:18:20.526Z"
   },
   {
    "duration": 6,
    "start_time": "2022-01-04T17:18:20.540Z"
   },
   {
    "duration": 14,
    "start_time": "2022-01-04T17:18:20.548Z"
   },
   {
    "duration": 31,
    "start_time": "2022-01-04T17:18:20.564Z"
   },
   {
    "duration": 29,
    "start_time": "2022-01-04T17:18:20.596Z"
   },
   {
    "duration": 7,
    "start_time": "2022-01-04T17:18:20.626Z"
   },
   {
    "duration": 22,
    "start_time": "2022-01-04T17:18:20.634Z"
   },
   {
    "duration": 34,
    "start_time": "2022-01-04T17:18:20.658Z"
   },
   {
    "duration": 157,
    "start_time": "2022-01-04T17:18:20.694Z"
   },
   {
    "duration": 42,
    "start_time": "2022-01-04T17:18:20.853Z"
   },
   {
    "duration": 9,
    "start_time": "2022-01-04T17:18:20.896Z"
   },
   {
    "duration": 45,
    "start_time": "2022-01-04T17:18:20.906Z"
   },
   {
    "duration": 48,
    "start_time": "2022-01-04T17:18:20.954Z"
   },
   {
    "duration": 61,
    "start_time": "2022-01-04T17:18:21.004Z"
   },
   {
    "duration": 381,
    "start_time": "2022-01-04T17:18:21.066Z"
   },
   {
    "duration": 394,
    "start_time": "2022-01-04T17:18:21.448Z"
   },
   {
    "duration": 485,
    "start_time": "2022-01-04T17:18:21.844Z"
   },
   {
    "duration": 555,
    "start_time": "2022-01-04T17:18:22.331Z"
   },
   {
    "duration": 149,
    "start_time": "2022-01-04T17:18:22.891Z"
   },
   {
    "duration": 143,
    "start_time": "2022-01-04T17:18:23.042Z"
   },
   {
    "duration": 10,
    "start_time": "2022-01-04T17:18:23.187Z"
   },
   {
    "duration": 9,
    "start_time": "2022-01-04T17:18:23.199Z"
   },
   {
    "duration": 51,
    "start_time": "2022-01-04T17:24:00.364Z"
   },
   {
    "duration": 1525,
    "start_time": "2022-01-04T20:38:22.467Z"
   },
   {
    "duration": 449,
    "start_time": "2022-01-04T20:38:23.994Z"
   },
   {
    "duration": 98,
    "start_time": "2022-01-04T20:38:24.445Z"
   },
   {
    "duration": 11,
    "start_time": "2022-01-04T20:38:24.544Z"
   },
   {
    "duration": 128,
    "start_time": "2022-01-04T20:38:24.557Z"
   },
   {
    "duration": 14,
    "start_time": "2022-01-04T20:38:24.687Z"
   },
   {
    "duration": 57,
    "start_time": "2022-01-04T20:38:24.703Z"
   },
   {
    "duration": 47,
    "start_time": "2022-01-04T20:38:24.762Z"
   },
   {
    "duration": 30,
    "start_time": "2022-01-04T20:38:24.811Z"
   },
   {
    "duration": 12,
    "start_time": "2022-01-04T20:38:24.843Z"
   },
   {
    "duration": 6,
    "start_time": "2022-01-04T20:38:24.857Z"
   },
   {
    "duration": 40,
    "start_time": "2022-01-04T20:38:24.865Z"
   },
   {
    "duration": 5,
    "start_time": "2022-01-04T20:38:24.906Z"
   },
   {
    "duration": 29,
    "start_time": "2022-01-04T20:38:24.913Z"
   },
   {
    "duration": 8,
    "start_time": "2022-01-04T20:38:24.944Z"
   },
   {
    "duration": 56,
    "start_time": "2022-01-04T20:38:24.954Z"
   },
   {
    "duration": 7,
    "start_time": "2022-01-04T20:38:25.012Z"
   },
   {
    "duration": 155,
    "start_time": "2022-01-04T20:38:25.021Z"
   },
   {
    "duration": 41,
    "start_time": "2022-01-04T20:38:25.178Z"
   },
   {
    "duration": 8,
    "start_time": "2022-01-04T20:38:25.221Z"
   },
   {
    "duration": 39,
    "start_time": "2022-01-04T20:38:25.230Z"
   },
   {
    "duration": 50,
    "start_time": "2022-01-04T20:38:25.270Z"
   },
   {
    "duration": 76,
    "start_time": "2022-01-04T20:38:25.323Z"
   },
   {
    "duration": 357,
    "start_time": "2022-01-04T20:38:25.401Z"
   },
   {
    "duration": 385,
    "start_time": "2022-01-04T20:38:25.760Z"
   },
   {
    "duration": 506,
    "start_time": "2022-01-04T20:38:26.147Z"
   },
   {
    "duration": 558,
    "start_time": "2022-01-04T20:38:26.655Z"
   },
   {
    "duration": 154,
    "start_time": "2022-01-04T20:38:27.214Z"
   },
   {
    "duration": 145,
    "start_time": "2022-01-04T20:38:27.369Z"
   },
   {
    "duration": 10,
    "start_time": "2022-01-04T20:38:27.516Z"
   },
   {
    "duration": 9,
    "start_time": "2022-01-04T20:38:27.527Z"
   },
   {
    "duration": 2111,
    "start_time": "2022-01-06T12:18:34.978Z"
   },
   {
    "duration": 646,
    "start_time": "2022-01-06T12:18:37.095Z"
   },
   {
    "duration": 131,
    "start_time": "2022-01-06T12:18:37.763Z"
   },
   {
    "duration": 16,
    "start_time": "2022-01-06T12:18:37.896Z"
   },
   {
    "duration": 193,
    "start_time": "2022-01-06T12:18:37.915Z"
   },
   {
    "duration": 19,
    "start_time": "2022-01-06T12:18:38.110Z"
   },
   {
    "duration": 111,
    "start_time": "2022-01-06T12:18:38.133Z"
   },
   {
    "duration": 48,
    "start_time": "2022-01-06T12:18:38.265Z"
   },
   {
    "duration": 75,
    "start_time": "2022-01-06T12:18:38.317Z"
   },
   {
    "duration": 21,
    "start_time": "2022-01-06T12:18:38.394Z"
   },
   {
    "duration": 10,
    "start_time": "2022-01-06T12:18:38.418Z"
   },
   {
    "duration": 47,
    "start_time": "2022-01-06T12:18:38.430Z"
   },
   {
    "duration": 8,
    "start_time": "2022-01-06T12:18:38.480Z"
   },
   {
    "duration": 46,
    "start_time": "2022-01-06T12:18:38.491Z"
   },
   {
    "duration": 13,
    "start_time": "2022-01-06T12:18:38.563Z"
   },
   {
    "duration": 36,
    "start_time": "2022-01-06T12:18:38.579Z"
   },
   {
    "duration": 11,
    "start_time": "2022-01-06T12:18:38.617Z"
   },
   {
    "duration": 286,
    "start_time": "2022-01-06T12:18:38.630Z"
   },
   {
    "duration": 75,
    "start_time": "2022-01-06T12:18:38.919Z"
   },
   {
    "duration": 14,
    "start_time": "2022-01-06T12:18:38.997Z"
   },
   {
    "duration": 82,
    "start_time": "2022-01-06T12:18:39.014Z"
   },
   {
    "duration": 70,
    "start_time": "2022-01-06T12:18:39.098Z"
   },
   {
    "duration": 158,
    "start_time": "2022-01-06T12:18:39.170Z"
   },
   {
    "duration": 655,
    "start_time": "2022-01-06T12:18:39.332Z"
   },
   {
    "duration": 675,
    "start_time": "2022-01-06T12:18:39.989Z"
   },
   {
    "duration": 1181,
    "start_time": "2022-01-06T12:18:40.669Z"
   },
   {
    "duration": 868,
    "start_time": "2022-01-06T12:18:41.853Z"
   },
   {
    "duration": 235,
    "start_time": "2022-01-06T12:18:42.724Z"
   },
   {
    "duration": 240,
    "start_time": "2022-01-06T12:18:42.964Z"
   },
   {
    "duration": 15,
    "start_time": "2022-01-06T12:18:43.207Z"
   },
   {
    "duration": 14,
    "start_time": "2022-01-06T12:18:43.225Z"
   },
   {
    "duration": 26,
    "start_time": "2022-01-06T12:21:34.278Z"
   },
   {
    "duration": 1459,
    "start_time": "2022-01-06T13:07:41.515Z"
   },
   {
    "duration": 357,
    "start_time": "2022-01-06T13:07:42.975Z"
   },
   {
    "duration": 363,
    "start_time": "2022-01-06T13:07:43.336Z"
   },
   {
    "duration": -40,
    "start_time": "2022-01-06T13:07:43.743Z"
   },
   {
    "duration": -44,
    "start_time": "2022-01-06T13:07:43.749Z"
   },
   {
    "duration": -46,
    "start_time": "2022-01-06T13:07:43.752Z"
   },
   {
    "duration": -47,
    "start_time": "2022-01-06T13:07:43.755Z"
   },
   {
    "duration": -66,
    "start_time": "2022-01-06T13:07:43.775Z"
   },
   {
    "duration": -72,
    "start_time": "2022-01-06T13:07:43.783Z"
   },
   {
    "duration": -73,
    "start_time": "2022-01-06T13:07:43.785Z"
   },
   {
    "duration": -74,
    "start_time": "2022-01-06T13:07:43.787Z"
   },
   {
    "duration": -73,
    "start_time": "2022-01-06T13:07:43.788Z"
   },
   {
    "duration": -75,
    "start_time": "2022-01-06T13:07:43.791Z"
   },
   {
    "duration": -74,
    "start_time": "2022-01-06T13:07:43.792Z"
   },
   {
    "duration": -81,
    "start_time": "2022-01-06T13:07:43.800Z"
   },
   {
    "duration": -81,
    "start_time": "2022-01-06T13:07:43.802Z"
   },
   {
    "duration": -82,
    "start_time": "2022-01-06T13:07:43.804Z"
   },
   {
    "duration": -83,
    "start_time": "2022-01-06T13:07:43.806Z"
   },
   {
    "duration": -84,
    "start_time": "2022-01-06T13:07:43.808Z"
   },
   {
    "duration": -91,
    "start_time": "2022-01-06T13:07:43.816Z"
   },
   {
    "duration": -94,
    "start_time": "2022-01-06T13:07:43.820Z"
   },
   {
    "duration": -96,
    "start_time": "2022-01-06T13:07:43.823Z"
   },
   {
    "duration": -98,
    "start_time": "2022-01-06T13:07:43.826Z"
   },
   {
    "duration": -112,
    "start_time": "2022-01-06T13:07:43.840Z"
   },
   {
    "duration": -120,
    "start_time": "2022-01-06T13:07:43.849Z"
   },
   {
    "duration": -121,
    "start_time": "2022-01-06T13:07:43.851Z"
   },
   {
    "duration": -122,
    "start_time": "2022-01-06T13:07:43.853Z"
   },
   {
    "duration": -124,
    "start_time": "2022-01-06T13:07:43.856Z"
   },
   {
    "duration": -126,
    "start_time": "2022-01-06T13:07:43.859Z"
   },
   {
    "duration": -132,
    "start_time": "2022-01-06T13:07:43.866Z"
   },
   {
    "duration": -134,
    "start_time": "2022-01-06T13:07:43.869Z"
   },
   {
    "duration": 1535,
    "start_time": "2022-01-06T13:08:46.878Z"
   },
   {
    "duration": 367,
    "start_time": "2022-01-06T13:08:48.415Z"
   },
   {
    "duration": 83,
    "start_time": "2022-01-06T13:08:48.784Z"
   },
   {
    "duration": 11,
    "start_time": "2022-01-06T13:08:48.869Z"
   },
   {
    "duration": 123,
    "start_time": "2022-01-06T13:08:48.882Z"
   },
   {
    "duration": 24,
    "start_time": "2022-01-06T13:08:49.006Z"
   },
   {
    "duration": 57,
    "start_time": "2022-01-06T13:08:49.032Z"
   },
   {
    "duration": 48,
    "start_time": "2022-01-06T13:08:49.091Z"
   },
   {
    "duration": 35,
    "start_time": "2022-01-06T13:08:49.141Z"
   },
   {
    "duration": 13,
    "start_time": "2022-01-06T13:08:49.178Z"
   },
   {
    "duration": 7,
    "start_time": "2022-01-06T13:08:49.192Z"
   },
   {
    "duration": 36,
    "start_time": "2022-01-06T13:08:49.200Z"
   },
   {
    "duration": 6,
    "start_time": "2022-01-06T13:08:49.237Z"
   },
   {
    "duration": 27,
    "start_time": "2022-01-06T13:08:49.244Z"
   },
   {
    "duration": 8,
    "start_time": "2022-01-06T13:08:49.272Z"
   },
   {
    "duration": 20,
    "start_time": "2022-01-06T13:08:49.281Z"
   },
   {
    "duration": 7,
    "start_time": "2022-01-06T13:08:49.327Z"
   },
   {
    "duration": 147,
    "start_time": "2022-01-06T13:08:49.335Z"
   },
   {
    "duration": 30,
    "start_time": "2022-01-06T13:08:49.484Z"
   },
   {
    "duration": 15,
    "start_time": "2022-01-06T13:08:49.516Z"
   },
   {
    "duration": 33,
    "start_time": "2022-01-06T13:08:49.533Z"
   },
   {
    "duration": 30,
    "start_time": "2022-01-06T13:08:49.567Z"
   },
   {
    "duration": 78,
    "start_time": "2022-01-06T13:08:49.600Z"
   },
   {
    "duration": 315,
    "start_time": "2022-01-06T13:08:49.680Z"
   },
   {
    "duration": 352,
    "start_time": "2022-01-06T13:08:49.997Z"
   },
   {
    "duration": 458,
    "start_time": "2022-01-06T13:08:50.351Z"
   },
   {
    "duration": 519,
    "start_time": "2022-01-06T13:08:50.811Z"
   },
   {
    "duration": 135,
    "start_time": "2022-01-06T13:08:51.331Z"
   },
   {
    "duration": 130,
    "start_time": "2022-01-06T13:08:51.468Z"
   },
   {
    "duration": 9,
    "start_time": "2022-01-06T13:08:51.600Z"
   },
   {
    "duration": 16,
    "start_time": "2022-01-06T13:08:51.611Z"
   },
   {
    "duration": 11,
    "start_time": "2022-01-06T13:10:30.686Z"
   },
   {
    "duration": 408,
    "start_time": "2022-01-06T13:21:12.078Z"
   },
   {
    "duration": 394,
    "start_time": "2022-01-06T13:21:29.407Z"
   },
   {
    "duration": 406,
    "start_time": "2022-01-06T13:21:41.729Z"
   },
   {
    "duration": 1483,
    "start_time": "2022-01-06T13:25:40.220Z"
   },
   {
    "duration": 356,
    "start_time": "2022-01-06T13:25:41.705Z"
   },
   {
    "duration": 77,
    "start_time": "2022-01-06T13:25:42.062Z"
   },
   {
    "duration": 9,
    "start_time": "2022-01-06T13:25:42.141Z"
   },
   {
    "duration": 115,
    "start_time": "2022-01-06T13:25:42.151Z"
   },
   {
    "duration": 10,
    "start_time": "2022-01-06T13:25:42.268Z"
   },
   {
    "duration": 64,
    "start_time": "2022-01-06T13:25:42.279Z"
   },
   {
    "duration": 30,
    "start_time": "2022-01-06T13:25:42.345Z"
   },
   {
    "duration": 30,
    "start_time": "2022-01-06T13:25:42.377Z"
   },
   {
    "duration": 27,
    "start_time": "2022-01-06T13:25:42.409Z"
   },
   {
    "duration": 6,
    "start_time": "2022-01-06T13:25:42.437Z"
   },
   {
    "duration": 16,
    "start_time": "2022-01-06T13:25:42.444Z"
   },
   {
    "duration": 5,
    "start_time": "2022-01-06T13:25:42.461Z"
   },
   {
    "duration": 25,
    "start_time": "2022-01-06T13:25:42.467Z"
   },
   {
    "duration": 6,
    "start_time": "2022-01-06T13:25:42.494Z"
   },
   {
    "duration": 41,
    "start_time": "2022-01-06T13:25:42.502Z"
   },
   {
    "duration": 6,
    "start_time": "2022-01-06T13:25:42.544Z"
   },
   {
    "duration": 138,
    "start_time": "2022-01-06T13:25:42.551Z"
   },
   {
    "duration": 39,
    "start_time": "2022-01-06T13:25:42.691Z"
   },
   {
    "duration": 7,
    "start_time": "2022-01-06T13:25:42.731Z"
   },
   {
    "duration": 36,
    "start_time": "2022-01-06T13:25:42.739Z"
   },
   {
    "duration": 28,
    "start_time": "2022-01-06T13:25:42.777Z"
   },
   {
    "duration": 65,
    "start_time": "2022-01-06T13:25:42.807Z"
   },
   {
    "duration": 296,
    "start_time": "2022-01-06T13:25:42.874Z"
   },
   {
    "duration": 318,
    "start_time": "2022-01-06T13:25:43.171Z"
   },
   {
    "duration": 410,
    "start_time": "2022-01-06T13:25:43.490Z"
   },
   {
    "duration": 459,
    "start_time": "2022-01-06T13:25:43.902Z"
   },
   {
    "duration": 117,
    "start_time": "2022-01-06T13:25:44.363Z"
   },
   {
    "duration": 117,
    "start_time": "2022-01-06T13:25:44.481Z"
   },
   {
    "duration": 9,
    "start_time": "2022-01-06T13:25:44.599Z"
   },
   {
    "duration": 20,
    "start_time": "2022-01-06T13:25:44.609Z"
   },
   {
    "duration": 261,
    "start_time": "2022-01-06T13:29:23.581Z"
   },
   {
    "duration": 245,
    "start_time": "2022-01-06T13:29:55.472Z"
   },
   {
    "duration": 9,
    "start_time": "2022-01-06T13:30:57.818Z"
   },
   {
    "duration": 359,
    "start_time": "2022-01-06T13:32:50.653Z"
   },
   {
    "duration": 289,
    "start_time": "2022-01-06T13:33:13.944Z"
   },
   {
    "duration": 267,
    "start_time": "2022-01-06T13:33:38.400Z"
   },
   {
    "duration": 267,
    "start_time": "2022-01-06T13:33:43.648Z"
   },
   {
    "duration": 11,
    "start_time": "2022-01-06T13:34:30.922Z"
   },
   {
    "duration": 7243,
    "start_time": "2022-01-06T13:34:53.931Z"
   },
   {
    "duration": 251,
    "start_time": "2022-01-06T13:35:05.932Z"
   },
   {
    "duration": 10,
    "start_time": "2022-01-06T13:35:44.957Z"
   },
   {
    "duration": 5,
    "start_time": "2022-01-06T13:36:03.349Z"
   },
   {
    "duration": 252,
    "start_time": "2022-01-06T13:47:58.064Z"
   },
   {
    "duration": 66,
    "start_time": "2022-01-06T14:03:03.001Z"
   },
   {
    "duration": 13,
    "start_time": "2022-01-06T14:03:13.321Z"
   },
   {
    "duration": 18,
    "start_time": "2022-01-06T14:04:21.681Z"
   },
   {
    "duration": 304,
    "start_time": "2022-01-06T14:06:52.516Z"
   },
   {
    "duration": 50,
    "start_time": "2022-01-06T14:07:19.889Z"
   },
   {
    "duration": 11,
    "start_time": "2022-01-06T14:07:39.706Z"
   },
   {
    "duration": 53,
    "start_time": "2022-01-06T14:08:09.554Z"
   },
   {
    "duration": 90,
    "start_time": "2022-01-06T14:08:19.067Z"
   },
   {
    "duration": 11,
    "start_time": "2022-01-06T14:11:39.105Z"
   },
   {
    "duration": 1500,
    "start_time": "2022-01-06T14:12:40.973Z"
   },
   {
    "duration": 364,
    "start_time": "2022-01-06T14:12:42.475Z"
   },
   {
    "duration": 61,
    "start_time": "2022-01-06T14:12:42.840Z"
   },
   {
    "duration": 10,
    "start_time": "2022-01-06T14:12:42.902Z"
   },
   {
    "duration": 152,
    "start_time": "2022-01-06T14:12:42.927Z"
   },
   {
    "duration": 10,
    "start_time": "2022-01-06T14:12:43.080Z"
   },
   {
    "duration": 282,
    "start_time": "2022-01-06T14:12:43.092Z"
   },
   {
    "duration": 267,
    "start_time": "2022-01-06T14:12:43.377Z"
   },
   {
    "duration": 52,
    "start_time": "2022-01-06T14:12:43.647Z"
   },
   {
    "duration": 51,
    "start_time": "2022-01-06T14:12:43.700Z"
   },
   {
    "duration": 29,
    "start_time": "2022-01-06T14:12:43.753Z"
   },
   {
    "duration": 10,
    "start_time": "2022-01-06T14:12:43.783Z"
   },
   {
    "duration": 5,
    "start_time": "2022-01-06T14:12:43.795Z"
   },
   {
    "duration": 27,
    "start_time": "2022-01-06T14:12:43.802Z"
   },
   {
    "duration": 6,
    "start_time": "2022-01-06T14:12:43.831Z"
   },
   {
    "duration": 36,
    "start_time": "2022-01-06T14:12:43.838Z"
   },
   {
    "duration": 7,
    "start_time": "2022-01-06T14:12:43.876Z"
   },
   {
    "duration": 19,
    "start_time": "2022-01-06T14:12:43.884Z"
   },
   {
    "duration": 32,
    "start_time": "2022-01-06T14:12:43.904Z"
   },
   {
    "duration": 137,
    "start_time": "2022-01-06T14:12:43.938Z"
   },
   {
    "duration": 29,
    "start_time": "2022-01-06T14:12:44.077Z"
   },
   {
    "duration": 6,
    "start_time": "2022-01-06T14:12:44.108Z"
   },
   {
    "duration": 36,
    "start_time": "2022-01-06T14:12:44.129Z"
   },
   {
    "duration": 28,
    "start_time": "2022-01-06T14:12:44.167Z"
   },
   {
    "duration": 79,
    "start_time": "2022-01-06T14:12:44.196Z"
   },
   {
    "duration": 309,
    "start_time": "2022-01-06T14:12:44.277Z"
   },
   {
    "duration": 346,
    "start_time": "2022-01-06T14:12:44.588Z"
   },
   {
    "duration": 484,
    "start_time": "2022-01-06T14:12:44.936Z"
   },
   {
    "duration": 465,
    "start_time": "2022-01-06T14:12:45.422Z"
   },
   {
    "duration": 134,
    "start_time": "2022-01-06T14:12:45.888Z"
   },
   {
    "duration": 139,
    "start_time": "2022-01-06T14:12:46.023Z"
   },
   {
    "duration": 9,
    "start_time": "2022-01-06T14:12:46.164Z"
   },
   {
    "duration": 13,
    "start_time": "2022-01-06T14:12:46.174Z"
   },
   {
    "duration": 1425,
    "start_time": "2022-01-06T14:18:31.585Z"
   },
   {
    "duration": 375,
    "start_time": "2022-01-06T14:18:33.011Z"
   },
   {
    "duration": 82,
    "start_time": "2022-01-06T14:18:33.390Z"
   },
   {
    "duration": 9,
    "start_time": "2022-01-06T14:18:33.474Z"
   },
   {
    "duration": 167,
    "start_time": "2022-01-06T14:18:33.484Z"
   },
   {
    "duration": 11,
    "start_time": "2022-01-06T14:18:33.652Z"
   },
   {
    "duration": 281,
    "start_time": "2022-01-06T14:18:33.665Z"
   },
   {
    "duration": 263,
    "start_time": "2022-01-06T14:18:33.948Z"
   },
   {
    "duration": 64,
    "start_time": "2022-01-06T14:18:34.212Z"
   },
   {
    "duration": 28,
    "start_time": "2022-01-06T14:18:34.278Z"
   },
   {
    "duration": 47,
    "start_time": "2022-01-06T14:18:34.307Z"
   },
   {
    "duration": 11,
    "start_time": "2022-01-06T14:18:34.355Z"
   },
   {
    "duration": 6,
    "start_time": "2022-01-06T14:18:34.368Z"
   },
   {
    "duration": 12,
    "start_time": "2022-01-06T14:18:34.375Z"
   },
   {
    "duration": 5,
    "start_time": "2022-01-06T14:18:34.388Z"
   },
   {
    "duration": 56,
    "start_time": "2022-01-06T14:18:34.394Z"
   },
   {
    "duration": 6,
    "start_time": "2022-01-06T14:18:34.452Z"
   },
   {
    "duration": 19,
    "start_time": "2022-01-06T14:18:34.459Z"
   },
   {
    "duration": 5,
    "start_time": "2022-01-06T14:18:34.479Z"
   },
   {
    "duration": 158,
    "start_time": "2022-01-06T14:18:34.486Z"
   },
   {
    "duration": 29,
    "start_time": "2022-01-06T14:18:34.645Z"
   },
   {
    "duration": 7,
    "start_time": "2022-01-06T14:18:34.677Z"
   },
   {
    "duration": 54,
    "start_time": "2022-01-06T14:18:34.685Z"
   },
   {
    "duration": 28,
    "start_time": "2022-01-06T14:18:34.740Z"
   },
   {
    "duration": 63,
    "start_time": "2022-01-06T14:18:34.769Z"
   },
   {
    "duration": 297,
    "start_time": "2022-01-06T14:18:34.833Z"
   },
   {
    "duration": 325,
    "start_time": "2022-01-06T14:18:35.132Z"
   },
   {
    "duration": 491,
    "start_time": "2022-01-06T14:18:35.458Z"
   },
   {
    "duration": 405,
    "start_time": "2022-01-06T14:18:35.950Z"
   },
   {
    "duration": 126,
    "start_time": "2022-01-06T14:18:36.357Z"
   },
   {
    "duration": 118,
    "start_time": "2022-01-06T14:18:36.484Z"
   },
   {
    "duration": 7,
    "start_time": "2022-01-06T14:18:36.604Z"
   },
   {
    "duration": 21,
    "start_time": "2022-01-06T14:18:36.613Z"
   },
   {
    "duration": 1417,
    "start_time": "2022-01-06T14:23:03.396Z"
   },
   {
    "duration": 373,
    "start_time": "2022-01-06T14:23:04.815Z"
   },
   {
    "duration": 86,
    "start_time": "2022-01-06T14:23:05.192Z"
   },
   {
    "duration": 9,
    "start_time": "2022-01-06T14:23:05.280Z"
   },
   {
    "duration": 162,
    "start_time": "2022-01-06T14:23:05.290Z"
   },
   {
    "duration": 12,
    "start_time": "2022-01-06T14:23:05.453Z"
   },
   {
    "duration": 287,
    "start_time": "2022-01-06T14:23:05.467Z"
   },
   {
    "duration": 260,
    "start_time": "2022-01-06T14:23:05.756Z"
   },
   {
    "duration": 60,
    "start_time": "2022-01-06T14:23:06.018Z"
   },
   {
    "duration": 28,
    "start_time": "2022-01-06T14:23:06.080Z"
   },
   {
    "duration": 48,
    "start_time": "2022-01-06T14:23:06.109Z"
   },
   {
    "duration": 12,
    "start_time": "2022-01-06T14:23:06.159Z"
   },
   {
    "duration": 6,
    "start_time": "2022-01-06T14:23:06.172Z"
   },
   {
    "duration": 18,
    "start_time": "2022-01-06T14:23:06.179Z"
   },
   {
    "duration": 5,
    "start_time": "2022-01-06T14:23:06.198Z"
   },
   {
    "duration": 48,
    "start_time": "2022-01-06T14:23:06.205Z"
   },
   {
    "duration": 7,
    "start_time": "2022-01-06T14:23:06.254Z"
   },
   {
    "duration": 19,
    "start_time": "2022-01-06T14:23:06.262Z"
   },
   {
    "duration": 5,
    "start_time": "2022-01-06T14:23:06.283Z"
   },
   {
    "duration": 165,
    "start_time": "2022-01-06T14:23:06.290Z"
   },
   {
    "duration": 29,
    "start_time": "2022-01-06T14:23:06.457Z"
   },
   {
    "duration": 7,
    "start_time": "2022-01-06T14:23:06.489Z"
   },
   {
    "duration": 50,
    "start_time": "2022-01-06T14:23:06.498Z"
   },
   {
    "duration": 29,
    "start_time": "2022-01-06T14:23:06.549Z"
   },
   {
    "duration": 69,
    "start_time": "2022-01-06T14:23:06.579Z"
   },
   {
    "duration": 320,
    "start_time": "2022-01-06T14:23:06.649Z"
   },
   {
    "duration": 339,
    "start_time": "2022-01-06T14:23:06.971Z"
   },
   {
    "duration": 484,
    "start_time": "2022-01-06T14:23:07.312Z"
   },
   {
    "duration": 425,
    "start_time": "2022-01-06T14:23:07.797Z"
   },
   {
    "duration": 130,
    "start_time": "2022-01-06T14:23:08.223Z"
   },
   {
    "duration": 120,
    "start_time": "2022-01-06T14:23:08.355Z"
   },
   {
    "duration": 9,
    "start_time": "2022-01-06T14:23:08.476Z"
   },
   {
    "duration": 8,
    "start_time": "2022-01-06T14:23:08.486Z"
   },
   {
    "duration": 320,
    "start_time": "2022-01-07T08:11:03.238Z"
   },
   {
    "duration": 2061,
    "start_time": "2022-01-07T08:11:11.686Z"
   },
   {
    "duration": 672,
    "start_time": "2022-01-07T08:11:13.751Z"
   },
   {
    "duration": 141,
    "start_time": "2022-01-07T08:11:14.430Z"
   },
   {
    "duration": 17,
    "start_time": "2022-01-07T08:11:14.573Z"
   },
   {
    "duration": 256,
    "start_time": "2022-01-07T08:11:14.593Z"
   },
   {
    "duration": 26,
    "start_time": "2022-01-07T08:11:14.851Z"
   },
   {
    "duration": 499,
    "start_time": "2022-01-07T08:11:14.881Z"
   },
   {
    "duration": 588,
    "start_time": "2022-01-07T08:11:15.384Z"
   },
   {
    "duration": 98,
    "start_time": "2022-01-07T08:11:15.975Z"
   },
   {
    "duration": 49,
    "start_time": "2022-01-07T08:11:16.076Z"
   },
   {
    "duration": 73,
    "start_time": "2022-01-07T08:11:16.128Z"
   },
   {
    "duration": 20,
    "start_time": "2022-01-07T08:11:16.203Z"
   },
   {
    "duration": 12,
    "start_time": "2022-01-07T08:11:16.225Z"
   },
   {
    "duration": 24,
    "start_time": "2022-01-07T08:11:16.262Z"
   },
   {
    "duration": 8,
    "start_time": "2022-01-07T08:11:16.288Z"
   },
   {
    "duration": 79,
    "start_time": "2022-01-07T08:11:16.298Z"
   },
   {
    "duration": 14,
    "start_time": "2022-01-07T08:11:16.380Z"
   },
   {
    "duration": 66,
    "start_time": "2022-01-07T08:11:16.397Z"
   },
   {
    "duration": 11,
    "start_time": "2022-01-07T08:11:16.466Z"
   },
   {
    "duration": 273,
    "start_time": "2022-01-07T08:11:16.480Z"
   },
   {
    "duration": 59,
    "start_time": "2022-01-07T08:11:16.756Z"
   },
   {
    "duration": 13,
    "start_time": "2022-01-07T08:11:16.819Z"
   },
   {
    "duration": 83,
    "start_time": "2022-01-07T08:11:16.835Z"
   },
   {
    "duration": 73,
    "start_time": "2022-01-07T08:11:16.921Z"
   },
   {
    "duration": 111,
    "start_time": "2022-01-07T08:11:16.997Z"
   },
   {
    "duration": 557,
    "start_time": "2022-01-07T08:11:17.110Z"
   },
   {
    "duration": 622,
    "start_time": "2022-01-07T08:11:17.669Z"
   },
   {
    "duration": 881,
    "start_time": "2022-01-07T08:11:18.294Z"
   },
   {
    "duration": 794,
    "start_time": "2022-01-07T08:11:19.178Z"
   },
   {
    "duration": 228,
    "start_time": "2022-01-07T08:11:19.974Z"
   },
   {
    "duration": 238,
    "start_time": "2022-01-07T08:11:20.205Z"
   },
   {
    "duration": 26,
    "start_time": "2022-01-07T08:11:20.446Z"
   },
   {
    "duration": 16,
    "start_time": "2022-01-07T08:11:20.475Z"
   }
  ],
  "kernelspec": {
   "display_name": "Python 3",
   "language": "python",
   "name": "python3"
  },
  "language_info": {
   "codemirror_mode": {
    "name": "ipython",
    "version": 3
   },
   "file_extension": ".py",
   "mimetype": "text/x-python",
   "name": "python",
   "nbconvert_exporter": "python",
   "pygments_lexer": "ipython3",
   "version": "3.7.8"
  },
  "toc": {
   "base_numbering": 1,
   "nav_menu": {},
   "number_sections": true,
   "sideBar": true,
   "skip_h1_title": true,
   "title_cell": "Table of Contents",
   "title_sidebar": "Contents",
   "toc_cell": false,
   "toc_position": {},
   "toc_section_display": true,
   "toc_window_display": false
  }
 },
 "nbformat": 4,
 "nbformat_minor": 2
}
