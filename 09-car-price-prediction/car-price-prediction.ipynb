{
 "cells": [
  {
   "cell_type": "markdown",
   "metadata": {},
   "source": [
    "# Определение стоимости автомобилей"
   ]
  },
  {
   "cell_type": "markdown",
   "metadata": {},
   "source": [
    "Сервис по продаже автомобилей с пробегом «Не бит, не крашен» разрабатывает приложение для привлечения новых клиентов. В нём можно быстро узнать рыночную стоимость своего автомобиля. В вашем распоряжении исторические данные: технические характеристики, комплектации и цены автомобилей. Вам нужно построить модель для определения стоимости. \n",
    "\n",
    "Заказчику важны:\n",
    "\n",
    "- качество предсказания;\n",
    "- скорость предсказания;\n",
    "- время обучения."
   ]
  },
  {
   "cell_type": "markdown",
   "metadata": {},
   "source": [
    "**Цель проекта:**\n",
    "\n",
    "Разработать модель предсказывающая цену автомобиля для приложения для привлечения новых клиентов. (RMSE < 2500)"
   ]
  },
  {
   "cell_type": "markdown",
   "metadata": {},
   "source": [
    "**Описание данных**\n",
    "\n",
    "Признаки\n",
    "\n",
    "- DateCrawled — дата скачивания анкеты из базы\n",
    "- VehicleType — тип автомобильного кузова\n",
    "- RegistrationYear — год регистрации автомобиля\n",
    "- Gearbox — тип коробки передач\n",
    "- Power — мощность (л. с.)\n",
    "- Model — модель автомобиля\n",
    "- Kilometer — пробег (км)\n",
    "- RegistrationMonth — месяц регистрации автомобиля\n",
    "- FuelType — тип топлива\n",
    "- Brand — марка автомобиля\n",
    "- NotRepaired — была машина в ремонте или нет\n",
    "- DateCreated — дата создания анкеты\n",
    "- NumberOfPictures — количество фотографий автомобиля\n",
    "- PostalCode — почтовый индекс владельца анкеты (пользователя)\n",
    "- LastSeen — дата последней активности пользователя\n",
    "\n",
    "Целевой признак\n",
    "- Price — цена (евро)"
   ]
  },
  {
   "cell_type": "markdown",
   "metadata": {},
   "source": [
    "## Подготовка данных"
   ]
  },
  {
   "cell_type": "code",
   "execution_count": 1,
   "metadata": {},
   "outputs": [],
   "source": [
    "import pandas as pd\n",
    "import numpy as np\n",
    "import re\n",
    "from scipy import stats as st\n",
    "import matplotlib.pyplot as plt\n",
    "import seaborn as sns\n",
    "from scipy import stats\n",
    "\n",
    "from sklearn.preprocessing import StandardScaler, OrdinalEncoder\n",
    "from sklearn.model_selection import train_test_split, cross_val_score, GridSearchCV\n",
    "from sklearn.linear_model import LinearRegression\n",
    "from sklearn.ensemble import GradientBoostingRegressor, RandomForestRegressor\n",
    "from sklearn.metrics import mean_squared_error, make_scorer\n",
    "import lightgbm\n",
    "import catboost\n",
    "pd.options.mode.chained_assignment = None"
   ]
  },
  {
   "cell_type": "code",
   "execution_count": 2,
   "metadata": {},
   "outputs": [
    {
     "data": {
      "text/html": [
       "<div>\n",
       "<style scoped>\n",
       "    .dataframe tbody tr th:only-of-type {\n",
       "        vertical-align: middle;\n",
       "    }\n",
       "\n",
       "    .dataframe tbody tr th {\n",
       "        vertical-align: top;\n",
       "    }\n",
       "\n",
       "    .dataframe thead th {\n",
       "        text-align: right;\n",
       "    }\n",
       "</style>\n",
       "<table border=\"1\" class=\"dataframe\">\n",
       "  <thead>\n",
       "    <tr style=\"text-align: right;\">\n",
       "      <th></th>\n",
       "      <th>DateCrawled</th>\n",
       "      <th>Price</th>\n",
       "      <th>VehicleType</th>\n",
       "      <th>RegistrationYear</th>\n",
       "      <th>Gearbox</th>\n",
       "      <th>Power</th>\n",
       "      <th>Model</th>\n",
       "      <th>Kilometer</th>\n",
       "      <th>RegistrationMonth</th>\n",
       "      <th>FuelType</th>\n",
       "      <th>Brand</th>\n",
       "      <th>NotRepaired</th>\n",
       "      <th>DateCreated</th>\n",
       "      <th>NumberOfPictures</th>\n",
       "      <th>PostalCode</th>\n",
       "      <th>LastSeen</th>\n",
       "    </tr>\n",
       "  </thead>\n",
       "  <tbody>\n",
       "    <tr>\n",
       "      <th>0</th>\n",
       "      <td>2016-03-24 11:52:17</td>\n",
       "      <td>480</td>\n",
       "      <td>NaN</td>\n",
       "      <td>1993</td>\n",
       "      <td>manual</td>\n",
       "      <td>0</td>\n",
       "      <td>golf</td>\n",
       "      <td>150000</td>\n",
       "      <td>0</td>\n",
       "      <td>petrol</td>\n",
       "      <td>volkswagen</td>\n",
       "      <td>NaN</td>\n",
       "      <td>2016-03-24 00:00:00</td>\n",
       "      <td>0</td>\n",
       "      <td>70435</td>\n",
       "      <td>2016-04-07 03:16:57</td>\n",
       "    </tr>\n",
       "    <tr>\n",
       "      <th>1</th>\n",
       "      <td>2016-03-24 10:58:45</td>\n",
       "      <td>18300</td>\n",
       "      <td>coupe</td>\n",
       "      <td>2011</td>\n",
       "      <td>manual</td>\n",
       "      <td>190</td>\n",
       "      <td>NaN</td>\n",
       "      <td>125000</td>\n",
       "      <td>5</td>\n",
       "      <td>gasoline</td>\n",
       "      <td>audi</td>\n",
       "      <td>yes</td>\n",
       "      <td>2016-03-24 00:00:00</td>\n",
       "      <td>0</td>\n",
       "      <td>66954</td>\n",
       "      <td>2016-04-07 01:46:50</td>\n",
       "    </tr>\n",
       "    <tr>\n",
       "      <th>2</th>\n",
       "      <td>2016-03-14 12:52:21</td>\n",
       "      <td>9800</td>\n",
       "      <td>suv</td>\n",
       "      <td>2004</td>\n",
       "      <td>auto</td>\n",
       "      <td>163</td>\n",
       "      <td>grand</td>\n",
       "      <td>125000</td>\n",
       "      <td>8</td>\n",
       "      <td>gasoline</td>\n",
       "      <td>jeep</td>\n",
       "      <td>NaN</td>\n",
       "      <td>2016-03-14 00:00:00</td>\n",
       "      <td>0</td>\n",
       "      <td>90480</td>\n",
       "      <td>2016-04-05 12:47:46</td>\n",
       "    </tr>\n",
       "    <tr>\n",
       "      <th>3</th>\n",
       "      <td>2016-03-17 16:54:04</td>\n",
       "      <td>1500</td>\n",
       "      <td>small</td>\n",
       "      <td>2001</td>\n",
       "      <td>manual</td>\n",
       "      <td>75</td>\n",
       "      <td>golf</td>\n",
       "      <td>150000</td>\n",
       "      <td>6</td>\n",
       "      <td>petrol</td>\n",
       "      <td>volkswagen</td>\n",
       "      <td>no</td>\n",
       "      <td>2016-03-17 00:00:00</td>\n",
       "      <td>0</td>\n",
       "      <td>91074</td>\n",
       "      <td>2016-03-17 17:40:17</td>\n",
       "    </tr>\n",
       "    <tr>\n",
       "      <th>4</th>\n",
       "      <td>2016-03-31 17:25:20</td>\n",
       "      <td>3600</td>\n",
       "      <td>small</td>\n",
       "      <td>2008</td>\n",
       "      <td>manual</td>\n",
       "      <td>69</td>\n",
       "      <td>fabia</td>\n",
       "      <td>90000</td>\n",
       "      <td>7</td>\n",
       "      <td>gasoline</td>\n",
       "      <td>skoda</td>\n",
       "      <td>no</td>\n",
       "      <td>2016-03-31 00:00:00</td>\n",
       "      <td>0</td>\n",
       "      <td>60437</td>\n",
       "      <td>2016-04-06 10:17:21</td>\n",
       "    </tr>\n",
       "    <tr>\n",
       "      <th>...</th>\n",
       "      <td>...</td>\n",
       "      <td>...</td>\n",
       "      <td>...</td>\n",
       "      <td>...</td>\n",
       "      <td>...</td>\n",
       "      <td>...</td>\n",
       "      <td>...</td>\n",
       "      <td>...</td>\n",
       "      <td>...</td>\n",
       "      <td>...</td>\n",
       "      <td>...</td>\n",
       "      <td>...</td>\n",
       "      <td>...</td>\n",
       "      <td>...</td>\n",
       "      <td>...</td>\n",
       "      <td>...</td>\n",
       "    </tr>\n",
       "    <tr>\n",
       "      <th>354364</th>\n",
       "      <td>2016-03-21 09:50:58</td>\n",
       "      <td>0</td>\n",
       "      <td>NaN</td>\n",
       "      <td>2005</td>\n",
       "      <td>manual</td>\n",
       "      <td>0</td>\n",
       "      <td>colt</td>\n",
       "      <td>150000</td>\n",
       "      <td>7</td>\n",
       "      <td>petrol</td>\n",
       "      <td>mitsubishi</td>\n",
       "      <td>yes</td>\n",
       "      <td>2016-03-21 00:00:00</td>\n",
       "      <td>0</td>\n",
       "      <td>2694</td>\n",
       "      <td>2016-03-21 10:42:49</td>\n",
       "    </tr>\n",
       "    <tr>\n",
       "      <th>354365</th>\n",
       "      <td>2016-03-14 17:48:27</td>\n",
       "      <td>2200</td>\n",
       "      <td>NaN</td>\n",
       "      <td>2005</td>\n",
       "      <td>NaN</td>\n",
       "      <td>0</td>\n",
       "      <td>NaN</td>\n",
       "      <td>20000</td>\n",
       "      <td>1</td>\n",
       "      <td>NaN</td>\n",
       "      <td>sonstige_autos</td>\n",
       "      <td>NaN</td>\n",
       "      <td>2016-03-14 00:00:00</td>\n",
       "      <td>0</td>\n",
       "      <td>39576</td>\n",
       "      <td>2016-04-06 00:46:52</td>\n",
       "    </tr>\n",
       "    <tr>\n",
       "      <th>354366</th>\n",
       "      <td>2016-03-05 19:56:21</td>\n",
       "      <td>1199</td>\n",
       "      <td>convertible</td>\n",
       "      <td>2000</td>\n",
       "      <td>auto</td>\n",
       "      <td>101</td>\n",
       "      <td>fortwo</td>\n",
       "      <td>125000</td>\n",
       "      <td>3</td>\n",
       "      <td>petrol</td>\n",
       "      <td>smart</td>\n",
       "      <td>no</td>\n",
       "      <td>2016-03-05 00:00:00</td>\n",
       "      <td>0</td>\n",
       "      <td>26135</td>\n",
       "      <td>2016-03-11 18:17:12</td>\n",
       "    </tr>\n",
       "    <tr>\n",
       "      <th>354367</th>\n",
       "      <td>2016-03-19 18:57:12</td>\n",
       "      <td>9200</td>\n",
       "      <td>bus</td>\n",
       "      <td>1996</td>\n",
       "      <td>manual</td>\n",
       "      <td>102</td>\n",
       "      <td>transporter</td>\n",
       "      <td>150000</td>\n",
       "      <td>3</td>\n",
       "      <td>gasoline</td>\n",
       "      <td>volkswagen</td>\n",
       "      <td>no</td>\n",
       "      <td>2016-03-19 00:00:00</td>\n",
       "      <td>0</td>\n",
       "      <td>87439</td>\n",
       "      <td>2016-04-07 07:15:26</td>\n",
       "    </tr>\n",
       "    <tr>\n",
       "      <th>354368</th>\n",
       "      <td>2016-03-20 19:41:08</td>\n",
       "      <td>3400</td>\n",
       "      <td>wagon</td>\n",
       "      <td>2002</td>\n",
       "      <td>manual</td>\n",
       "      <td>100</td>\n",
       "      <td>golf</td>\n",
       "      <td>150000</td>\n",
       "      <td>6</td>\n",
       "      <td>gasoline</td>\n",
       "      <td>volkswagen</td>\n",
       "      <td>NaN</td>\n",
       "      <td>2016-03-20 00:00:00</td>\n",
       "      <td>0</td>\n",
       "      <td>40764</td>\n",
       "      <td>2016-03-24 12:45:21</td>\n",
       "    </tr>\n",
       "  </tbody>\n",
       "</table>\n",
       "<p>354369 rows × 16 columns</p>\n",
       "</div>"
      ],
      "text/plain": [
       "                DateCrawled  Price  VehicleType  RegistrationYear Gearbox  \\\n",
       "0       2016-03-24 11:52:17    480          NaN              1993  manual   \n",
       "1       2016-03-24 10:58:45  18300        coupe              2011  manual   \n",
       "2       2016-03-14 12:52:21   9800          suv              2004    auto   \n",
       "3       2016-03-17 16:54:04   1500        small              2001  manual   \n",
       "4       2016-03-31 17:25:20   3600        small              2008  manual   \n",
       "...                     ...    ...          ...               ...     ...   \n",
       "354364  2016-03-21 09:50:58      0          NaN              2005  manual   \n",
       "354365  2016-03-14 17:48:27   2200          NaN              2005     NaN   \n",
       "354366  2016-03-05 19:56:21   1199  convertible              2000    auto   \n",
       "354367  2016-03-19 18:57:12   9200          bus              1996  manual   \n",
       "354368  2016-03-20 19:41:08   3400        wagon              2002  manual   \n",
       "\n",
       "        Power        Model  Kilometer  RegistrationMonth  FuelType  \\\n",
       "0           0         golf     150000                  0    petrol   \n",
       "1         190          NaN     125000                  5  gasoline   \n",
       "2         163        grand     125000                  8  gasoline   \n",
       "3          75         golf     150000                  6    petrol   \n",
       "4          69        fabia      90000                  7  gasoline   \n",
       "...       ...          ...        ...                ...       ...   \n",
       "354364      0         colt     150000                  7    petrol   \n",
       "354365      0          NaN      20000                  1       NaN   \n",
       "354366    101       fortwo     125000                  3    petrol   \n",
       "354367    102  transporter     150000                  3  gasoline   \n",
       "354368    100         golf     150000                  6  gasoline   \n",
       "\n",
       "                 Brand NotRepaired          DateCreated  NumberOfPictures  \\\n",
       "0           volkswagen         NaN  2016-03-24 00:00:00                 0   \n",
       "1                 audi         yes  2016-03-24 00:00:00                 0   \n",
       "2                 jeep         NaN  2016-03-14 00:00:00                 0   \n",
       "3           volkswagen          no  2016-03-17 00:00:00                 0   \n",
       "4                skoda          no  2016-03-31 00:00:00                 0   \n",
       "...                ...         ...                  ...               ...   \n",
       "354364      mitsubishi         yes  2016-03-21 00:00:00                 0   \n",
       "354365  sonstige_autos         NaN  2016-03-14 00:00:00                 0   \n",
       "354366           smart          no  2016-03-05 00:00:00                 0   \n",
       "354367      volkswagen          no  2016-03-19 00:00:00                 0   \n",
       "354368      volkswagen         NaN  2016-03-20 00:00:00                 0   \n",
       "\n",
       "        PostalCode             LastSeen  \n",
       "0            70435  2016-04-07 03:16:57  \n",
       "1            66954  2016-04-07 01:46:50  \n",
       "2            90480  2016-04-05 12:47:46  \n",
       "3            91074  2016-03-17 17:40:17  \n",
       "4            60437  2016-04-06 10:17:21  \n",
       "...            ...                  ...  \n",
       "354364        2694  2016-03-21 10:42:49  \n",
       "354365       39576  2016-04-06 00:46:52  \n",
       "354366       26135  2016-03-11 18:17:12  \n",
       "354367       87439  2016-04-07 07:15:26  \n",
       "354368       40764  2016-03-24 12:45:21  \n",
       "\n",
       "[354369 rows x 16 columns]"
      ]
     },
     "execution_count": 2,
     "metadata": {},
     "output_type": "execute_result"
    }
   ],
   "source": [
    "df = pd.read_csv(\"/datasets/autos.csv\")\n",
    "df"
   ]
  },
  {
   "cell_type": "code",
   "execution_count": 3,
   "metadata": {},
   "outputs": [
    {
     "name": "stdout",
     "output_type": "stream",
     "text": [
      "<class 'pandas.core.frame.DataFrame'>\n",
      "RangeIndex: 354369 entries, 0 to 354368\n",
      "Data columns (total 16 columns):\n",
      " #   Column             Non-Null Count   Dtype \n",
      "---  ------             --------------   ----- \n",
      " 0   DateCrawled        354369 non-null  object\n",
      " 1   Price              354369 non-null  int64 \n",
      " 2   VehicleType        316879 non-null  object\n",
      " 3   RegistrationYear   354369 non-null  int64 \n",
      " 4   Gearbox            334536 non-null  object\n",
      " 5   Power              354369 non-null  int64 \n",
      " 6   Model              334664 non-null  object\n",
      " 7   Kilometer          354369 non-null  int64 \n",
      " 8   RegistrationMonth  354369 non-null  int64 \n",
      " 9   FuelType           321474 non-null  object\n",
      " 10  Brand              354369 non-null  object\n",
      " 11  NotRepaired        283215 non-null  object\n",
      " 12  DateCreated        354369 non-null  object\n",
      " 13  NumberOfPictures   354369 non-null  int64 \n",
      " 14  PostalCode         354369 non-null  int64 \n",
      " 15  LastSeen           354369 non-null  object\n",
      "dtypes: int64(7), object(9)\n",
      "memory usage: 43.3+ MB\n"
     ]
    },
    {
     "data": {
      "text/html": [
       "<div>\n",
       "<style scoped>\n",
       "    .dataframe tbody tr th:only-of-type {\n",
       "        vertical-align: middle;\n",
       "    }\n",
       "\n",
       "    .dataframe tbody tr th {\n",
       "        vertical-align: top;\n",
       "    }\n",
       "\n",
       "    .dataframe thead th {\n",
       "        text-align: right;\n",
       "    }\n",
       "</style>\n",
       "<table border=\"1\" class=\"dataframe\">\n",
       "  <thead>\n",
       "    <tr style=\"text-align: right;\">\n",
       "      <th></th>\n",
       "      <th>Price</th>\n",
       "      <th>RegistrationYear</th>\n",
       "      <th>Power</th>\n",
       "      <th>Kilometer</th>\n",
       "      <th>RegistrationMonth</th>\n",
       "      <th>NumberOfPictures</th>\n",
       "      <th>PostalCode</th>\n",
       "    </tr>\n",
       "  </thead>\n",
       "  <tbody>\n",
       "    <tr>\n",
       "      <th>count</th>\n",
       "      <td>354369.000000</td>\n",
       "      <td>354369.000000</td>\n",
       "      <td>354369.000000</td>\n",
       "      <td>354369.000000</td>\n",
       "      <td>354369.000000</td>\n",
       "      <td>354369.0</td>\n",
       "      <td>354369.000000</td>\n",
       "    </tr>\n",
       "    <tr>\n",
       "      <th>mean</th>\n",
       "      <td>4416.656776</td>\n",
       "      <td>2004.234448</td>\n",
       "      <td>110.094337</td>\n",
       "      <td>128211.172535</td>\n",
       "      <td>5.714645</td>\n",
       "      <td>0.0</td>\n",
       "      <td>50508.689087</td>\n",
       "    </tr>\n",
       "    <tr>\n",
       "      <th>std</th>\n",
       "      <td>4514.158514</td>\n",
       "      <td>90.227958</td>\n",
       "      <td>189.850405</td>\n",
       "      <td>37905.341530</td>\n",
       "      <td>3.726421</td>\n",
       "      <td>0.0</td>\n",
       "      <td>25783.096248</td>\n",
       "    </tr>\n",
       "    <tr>\n",
       "      <th>min</th>\n",
       "      <td>0.000000</td>\n",
       "      <td>1000.000000</td>\n",
       "      <td>0.000000</td>\n",
       "      <td>5000.000000</td>\n",
       "      <td>0.000000</td>\n",
       "      <td>0.0</td>\n",
       "      <td>1067.000000</td>\n",
       "    </tr>\n",
       "    <tr>\n",
       "      <th>25%</th>\n",
       "      <td>1050.000000</td>\n",
       "      <td>1999.000000</td>\n",
       "      <td>69.000000</td>\n",
       "      <td>125000.000000</td>\n",
       "      <td>3.000000</td>\n",
       "      <td>0.0</td>\n",
       "      <td>30165.000000</td>\n",
       "    </tr>\n",
       "    <tr>\n",
       "      <th>50%</th>\n",
       "      <td>2700.000000</td>\n",
       "      <td>2003.000000</td>\n",
       "      <td>105.000000</td>\n",
       "      <td>150000.000000</td>\n",
       "      <td>6.000000</td>\n",
       "      <td>0.0</td>\n",
       "      <td>49413.000000</td>\n",
       "    </tr>\n",
       "    <tr>\n",
       "      <th>75%</th>\n",
       "      <td>6400.000000</td>\n",
       "      <td>2008.000000</td>\n",
       "      <td>143.000000</td>\n",
       "      <td>150000.000000</td>\n",
       "      <td>9.000000</td>\n",
       "      <td>0.0</td>\n",
       "      <td>71083.000000</td>\n",
       "    </tr>\n",
       "    <tr>\n",
       "      <th>max</th>\n",
       "      <td>20000.000000</td>\n",
       "      <td>9999.000000</td>\n",
       "      <td>20000.000000</td>\n",
       "      <td>150000.000000</td>\n",
       "      <td>12.000000</td>\n",
       "      <td>0.0</td>\n",
       "      <td>99998.000000</td>\n",
       "    </tr>\n",
       "  </tbody>\n",
       "</table>\n",
       "</div>"
      ],
      "text/plain": [
       "               Price  RegistrationYear          Power      Kilometer  \\\n",
       "count  354369.000000     354369.000000  354369.000000  354369.000000   \n",
       "mean     4416.656776       2004.234448     110.094337  128211.172535   \n",
       "std      4514.158514         90.227958     189.850405   37905.341530   \n",
       "min         0.000000       1000.000000       0.000000    5000.000000   \n",
       "25%      1050.000000       1999.000000      69.000000  125000.000000   \n",
       "50%      2700.000000       2003.000000     105.000000  150000.000000   \n",
       "75%      6400.000000       2008.000000     143.000000  150000.000000   \n",
       "max     20000.000000       9999.000000   20000.000000  150000.000000   \n",
       "\n",
       "       RegistrationMonth  NumberOfPictures     PostalCode  \n",
       "count      354369.000000          354369.0  354369.000000  \n",
       "mean            5.714645               0.0   50508.689087  \n",
       "std             3.726421               0.0   25783.096248  \n",
       "min             0.000000               0.0    1067.000000  \n",
       "25%             3.000000               0.0   30165.000000  \n",
       "50%             6.000000               0.0   49413.000000  \n",
       "75%             9.000000               0.0   71083.000000  \n",
       "max            12.000000               0.0   99998.000000  "
      ]
     },
     "execution_count": 3,
     "metadata": {},
     "output_type": "execute_result"
    }
   ],
   "source": [
    "df.info()\n",
    "df.describe()"
   ]
  },
  {
   "cell_type": "code",
   "execution_count": 4,
   "metadata": {
    "scrolled": true
   },
   "outputs": [
    {
     "data": {
      "text/plain": [
       "4"
      ]
     },
     "execution_count": 4,
     "metadata": {},
     "output_type": "execute_result"
    }
   ],
   "source": [
    "sum(df.duplicated())"
   ]
  },
  {
   "cell_type": "markdown",
   "metadata": {},
   "source": [
    "Проблемы, необходимые решить на этапе прежобработки данных:\n",
    "- пропуски\n",
    "- дупликаты\n",
    "- наличие неинформативных признаков ('PostalCode', 'NumberOfPictures', 'DateCrawled')\n",
    "\n",
    "Кроме пропущенных значений и дупликатов, в данных имеются странные значения, корректность которых критчески важны для обучения модели:\n",
    "- Price (целевой признак) = 0\n",
    "- Power = 0\n",
    "- RegistrationYear (1000, 9999)"
   ]
  },
  {
   "cell_type": "code",
   "execution_count": 5,
   "metadata": {},
   "outputs": [
    {
     "data": {
      "text/html": [
       "<div>\n",
       "<style scoped>\n",
       "    .dataframe tbody tr th:only-of-type {\n",
       "        vertical-align: middle;\n",
       "    }\n",
       "\n",
       "    .dataframe tbody tr th {\n",
       "        vertical-align: top;\n",
       "    }\n",
       "\n",
       "    .dataframe thead th {\n",
       "        text-align: right;\n",
       "    }\n",
       "</style>\n",
       "<table border=\"1\" class=\"dataframe\">\n",
       "  <thead>\n",
       "    <tr style=\"text-align: right;\">\n",
       "      <th></th>\n",
       "      <th>Price</th>\n",
       "      <th>VehicleType</th>\n",
       "      <th>RegistrationYear</th>\n",
       "      <th>Gearbox</th>\n",
       "      <th>Power</th>\n",
       "      <th>Model</th>\n",
       "      <th>Kilometer</th>\n",
       "      <th>RegistrationMonth</th>\n",
       "      <th>FuelType</th>\n",
       "      <th>Brand</th>\n",
       "      <th>NotRepaired</th>\n",
       "    </tr>\n",
       "  </thead>\n",
       "  <tbody>\n",
       "    <tr>\n",
       "      <th>0</th>\n",
       "      <td>480</td>\n",
       "      <td>NaN</td>\n",
       "      <td>1993</td>\n",
       "      <td>manual</td>\n",
       "      <td>0</td>\n",
       "      <td>golf</td>\n",
       "      <td>150000</td>\n",
       "      <td>0</td>\n",
       "      <td>petrol</td>\n",
       "      <td>volkswagen</td>\n",
       "      <td>NaN</td>\n",
       "    </tr>\n",
       "    <tr>\n",
       "      <th>1</th>\n",
       "      <td>18300</td>\n",
       "      <td>coupe</td>\n",
       "      <td>2011</td>\n",
       "      <td>manual</td>\n",
       "      <td>190</td>\n",
       "      <td>NaN</td>\n",
       "      <td>125000</td>\n",
       "      <td>5</td>\n",
       "      <td>gasoline</td>\n",
       "      <td>audi</td>\n",
       "      <td>yes</td>\n",
       "    </tr>\n",
       "    <tr>\n",
       "      <th>2</th>\n",
       "      <td>9800</td>\n",
       "      <td>suv</td>\n",
       "      <td>2004</td>\n",
       "      <td>auto</td>\n",
       "      <td>163</td>\n",
       "      <td>grand</td>\n",
       "      <td>125000</td>\n",
       "      <td>8</td>\n",
       "      <td>gasoline</td>\n",
       "      <td>jeep</td>\n",
       "      <td>NaN</td>\n",
       "    </tr>\n",
       "    <tr>\n",
       "      <th>3</th>\n",
       "      <td>1500</td>\n",
       "      <td>small</td>\n",
       "      <td>2001</td>\n",
       "      <td>manual</td>\n",
       "      <td>75</td>\n",
       "      <td>golf</td>\n",
       "      <td>150000</td>\n",
       "      <td>6</td>\n",
       "      <td>petrol</td>\n",
       "      <td>volkswagen</td>\n",
       "      <td>no</td>\n",
       "    </tr>\n",
       "    <tr>\n",
       "      <th>4</th>\n",
       "      <td>3600</td>\n",
       "      <td>small</td>\n",
       "      <td>2008</td>\n",
       "      <td>manual</td>\n",
       "      <td>69</td>\n",
       "      <td>fabia</td>\n",
       "      <td>90000</td>\n",
       "      <td>7</td>\n",
       "      <td>gasoline</td>\n",
       "      <td>skoda</td>\n",
       "      <td>no</td>\n",
       "    </tr>\n",
       "  </tbody>\n",
       "</table>\n",
       "</div>"
      ],
      "text/plain": [
       "   Price VehicleType  RegistrationYear Gearbox  Power  Model  Kilometer  \\\n",
       "0    480         NaN              1993  manual      0   golf     150000   \n",
       "1  18300       coupe              2011  manual    190    NaN     125000   \n",
       "2   9800         suv              2004    auto    163  grand     125000   \n",
       "3   1500       small              2001  manual     75   golf     150000   \n",
       "4   3600       small              2008  manual     69  fabia      90000   \n",
       "\n",
       "   RegistrationMonth  FuelType       Brand NotRepaired  \n",
       "0                  0    petrol  volkswagen         NaN  \n",
       "1                  5  gasoline        audi         yes  \n",
       "2                  8  gasoline        jeep         NaN  \n",
       "3                  6    petrol  volkswagen          no  \n",
       "4                  7  gasoline       skoda          no  "
      ]
     },
     "execution_count": 5,
     "metadata": {},
     "output_type": "execute_result"
    }
   ],
   "source": [
    "df = df.drop(columns=['PostalCode', 'NumberOfPictures', 'DateCrawled', \"DateCreated\", \"LastSeen\"])\n",
    "df.head()"
   ]
  },
  {
   "cell_type": "code",
   "execution_count": 6,
   "metadata": {},
   "outputs": [
    {
     "data": {
      "text/plain": [
       "27543"
      ]
     },
     "execution_count": 6,
     "metadata": {},
     "output_type": "execute_result"
    }
   ],
   "source": [
    "sum(df.duplicated())"
   ]
  },
  {
   "cell_type": "code",
   "execution_count": 7,
   "metadata": {},
   "outputs": [],
   "source": [
    "df = df.drop_duplicates()"
   ]
  },
  {
   "cell_type": "code",
   "execution_count": 8,
   "metadata": {},
   "outputs": [
    {
     "data": {
      "text/plain": [
       "9387"
      ]
     },
     "execution_count": 8,
     "metadata": {},
     "output_type": "execute_result"
    }
   ],
   "source": [
    "df[df[\"Price\"] == 0][\"Price\"].count()"
   ]
  },
  {
   "cell_type": "code",
   "execution_count": 9,
   "metadata": {
    "scrolled": true
   },
   "outputs": [
    {
     "data": {
      "image/png": "[encoded data removed]",
      "text/plain": [
       "<Figure size 432x288 with 1 Axes>"
      ]
     },
     "metadata": {
      "needs_background": "light"
     },
     "output_type": "display_data"
    }
   ],
   "source": [
    "df[\"Price\"].plot(kind=\"hist\", bins=50);"
   ]
  },
  {
   "cell_type": "code",
   "execution_count": 10,
   "metadata": {},
   "outputs": [],
   "source": [
    "df = df[df[\"Price\"] > 0]"
   ]
  },
  {
   "cell_type": "code",
   "execution_count": 11,
   "metadata": {},
   "outputs": [
    {
     "data": {
      "image/png": "[encoded data removed]",
      "text/plain": [
       "<Figure size 432x288 with 1 Axes>"
      ]
     },
     "metadata": {
      "needs_background": "light"
     },
     "output_type": "display_data"
    }
   ],
   "source": [
    "df[\"Price\"].plot(kind=\"box\");"
   ]
  },
  {
   "cell_type": "code",
   "execution_count": 12,
   "metadata": {},
   "outputs": [
    {
     "data": {
      "text/plain": [
       "3     31168\n",
       "0     31131\n",
       "6     28455\n",
       "4     26714\n",
       "5     26329\n",
       "7     24741\n",
       "10    23452\n",
       "12    21804\n",
       "11    21606\n",
       "9     21482\n",
       "1     20979\n",
       "8     20347\n",
       "2     19231\n",
       "Name: RegistrationMonth, dtype: int64"
      ]
     },
     "execution_count": 12,
     "metadata": {},
     "output_type": "execute_result"
    }
   ],
   "source": [
    "df[\"RegistrationMonth\"].value_counts()"
   ]
  },
  {
   "cell_type": "code",
   "execution_count": 13,
   "metadata": {},
   "outputs": [
    {
     "data": {
      "text/html": [
       "<div>\n",
       "<style scoped>\n",
       "    .dataframe tbody tr th:only-of-type {\n",
       "        vertical-align: middle;\n",
       "    }\n",
       "\n",
       "    .dataframe tbody tr th {\n",
       "        vertical-align: top;\n",
       "    }\n",
       "\n",
       "    .dataframe thead th {\n",
       "        text-align: right;\n",
       "    }\n",
       "</style>\n",
       "<table border=\"1\" class=\"dataframe\">\n",
       "  <thead>\n",
       "    <tr style=\"text-align: right;\">\n",
       "      <th></th>\n",
       "      <th>Price</th>\n",
       "      <th>VehicleType</th>\n",
       "      <th>RegistrationYear</th>\n",
       "      <th>Gearbox</th>\n",
       "      <th>Power</th>\n",
       "      <th>Model</th>\n",
       "      <th>Kilometer</th>\n",
       "      <th>RegistrationMonth</th>\n",
       "      <th>FuelType</th>\n",
       "      <th>Brand</th>\n",
       "      <th>NotRepaired</th>\n",
       "    </tr>\n",
       "  </thead>\n",
       "  <tbody>\n",
       "    <tr>\n",
       "      <th>12946</th>\n",
       "      <td>49</td>\n",
       "      <td>NaN</td>\n",
       "      <td>5000</td>\n",
       "      <td>NaN</td>\n",
       "      <td>0</td>\n",
       "      <td>golf</td>\n",
       "      <td>5000</td>\n",
       "      <td>12</td>\n",
       "      <td>NaN</td>\n",
       "      <td>volkswagen</td>\n",
       "      <td>NaN</td>\n",
       "    </tr>\n",
       "    <tr>\n",
       "      <th>15870</th>\n",
       "      <td>1700</td>\n",
       "      <td>NaN</td>\n",
       "      <td>3200</td>\n",
       "      <td>NaN</td>\n",
       "      <td>0</td>\n",
       "      <td>NaN</td>\n",
       "      <td>5000</td>\n",
       "      <td>0</td>\n",
       "      <td>NaN</td>\n",
       "      <td>sonstige_autos</td>\n",
       "      <td>NaN</td>\n",
       "    </tr>\n",
       "    <tr>\n",
       "      <th>16062</th>\n",
       "      <td>190</td>\n",
       "      <td>NaN</td>\n",
       "      <td>1000</td>\n",
       "      <td>NaN</td>\n",
       "      <td>0</td>\n",
       "      <td>mondeo</td>\n",
       "      <td>5000</td>\n",
       "      <td>0</td>\n",
       "      <td>NaN</td>\n",
       "      <td>ford</td>\n",
       "      <td>NaN</td>\n",
       "    </tr>\n",
       "    <tr>\n",
       "      <th>17271</th>\n",
       "      <td>700</td>\n",
       "      <td>NaN</td>\n",
       "      <td>9999</td>\n",
       "      <td>NaN</td>\n",
       "      <td>0</td>\n",
       "      <td>other</td>\n",
       "      <td>10000</td>\n",
       "      <td>0</td>\n",
       "      <td>NaN</td>\n",
       "      <td>opel</td>\n",
       "      <td>NaN</td>\n",
       "    </tr>\n",
       "    <tr>\n",
       "      <th>17346</th>\n",
       "      <td>6500</td>\n",
       "      <td>NaN</td>\n",
       "      <td>8888</td>\n",
       "      <td>NaN</td>\n",
       "      <td>0</td>\n",
       "      <td>NaN</td>\n",
       "      <td>10000</td>\n",
       "      <td>0</td>\n",
       "      <td>NaN</td>\n",
       "      <td>sonstige_autos</td>\n",
       "      <td>NaN</td>\n",
       "    </tr>\n",
       "    <tr>\n",
       "      <th>...</th>\n",
       "      <td>...</td>\n",
       "      <td>...</td>\n",
       "      <td>...</td>\n",
       "      <td>...</td>\n",
       "      <td>...</td>\n",
       "      <td>...</td>\n",
       "      <td>...</td>\n",
       "      <td>...</td>\n",
       "      <td>...</td>\n",
       "      <td>...</td>\n",
       "      <td>...</td>\n",
       "    </tr>\n",
       "    <tr>\n",
       "      <th>338829</th>\n",
       "      <td>50</td>\n",
       "      <td>NaN</td>\n",
       "      <td>3000</td>\n",
       "      <td>NaN</td>\n",
       "      <td>3000</td>\n",
       "      <td>golf</td>\n",
       "      <td>100000</td>\n",
       "      <td>6</td>\n",
       "      <td>NaN</td>\n",
       "      <td>volkswagen</td>\n",
       "      <td>yes</td>\n",
       "    </tr>\n",
       "    <tr>\n",
       "      <th>340759</th>\n",
       "      <td>700</td>\n",
       "      <td>NaN</td>\n",
       "      <td>1600</td>\n",
       "      <td>manual</td>\n",
       "      <td>1600</td>\n",
       "      <td>a3</td>\n",
       "      <td>150000</td>\n",
       "      <td>4</td>\n",
       "      <td>petrol</td>\n",
       "      <td>audi</td>\n",
       "      <td>no</td>\n",
       "    </tr>\n",
       "    <tr>\n",
       "      <th>341791</th>\n",
       "      <td>1</td>\n",
       "      <td>NaN</td>\n",
       "      <td>3000</td>\n",
       "      <td>NaN</td>\n",
       "      <td>0</td>\n",
       "      <td>zafira</td>\n",
       "      <td>5000</td>\n",
       "      <td>0</td>\n",
       "      <td>NaN</td>\n",
       "      <td>opel</td>\n",
       "      <td>NaN</td>\n",
       "    </tr>\n",
       "    <tr>\n",
       "      <th>348830</th>\n",
       "      <td>1</td>\n",
       "      <td>NaN</td>\n",
       "      <td>1000</td>\n",
       "      <td>NaN</td>\n",
       "      <td>1000</td>\n",
       "      <td>NaN</td>\n",
       "      <td>150000</td>\n",
       "      <td>0</td>\n",
       "      <td>NaN</td>\n",
       "      <td>sonstige_autos</td>\n",
       "      <td>NaN</td>\n",
       "    </tr>\n",
       "    <tr>\n",
       "      <th>351682</th>\n",
       "      <td>11500</td>\n",
       "      <td>NaN</td>\n",
       "      <td>1800</td>\n",
       "      <td>NaN</td>\n",
       "      <td>16</td>\n",
       "      <td>other</td>\n",
       "      <td>5000</td>\n",
       "      <td>6</td>\n",
       "      <td>petrol</td>\n",
       "      <td>fiat</td>\n",
       "      <td>NaN</td>\n",
       "    </tr>\n",
       "  </tbody>\n",
       "</table>\n",
       "<p>134 rows × 11 columns</p>\n",
       "</div>"
      ],
      "text/plain": [
       "        Price VehicleType  RegistrationYear Gearbox  Power   Model  Kilometer  \\\n",
       "12946      49         NaN              5000     NaN      0    golf       5000   \n",
       "15870    1700         NaN              3200     NaN      0     NaN       5000   \n",
       "16062     190         NaN              1000     NaN      0  mondeo       5000   \n",
       "17271     700         NaN              9999     NaN      0   other      10000   \n",
       "17346    6500         NaN              8888     NaN      0     NaN      10000   \n",
       "...       ...         ...               ...     ...    ...     ...        ...   \n",
       "338829     50         NaN              3000     NaN   3000    golf     100000   \n",
       "340759    700         NaN              1600  manual   1600      a3     150000   \n",
       "341791      1         NaN              3000     NaN      0  zafira       5000   \n",
       "348830      1         NaN              1000     NaN   1000     NaN     150000   \n",
       "351682  11500         NaN              1800     NaN     16   other       5000   \n",
       "\n",
       "        RegistrationMonth FuelType           Brand NotRepaired  \n",
       "12946                  12      NaN      volkswagen         NaN  \n",
       "15870                   0      NaN  sonstige_autos         NaN  \n",
       "16062                   0      NaN            ford         NaN  \n",
       "17271                   0      NaN            opel         NaN  \n",
       "17346                   0      NaN  sonstige_autos         NaN  \n",
       "...                   ...      ...             ...         ...  \n",
       "338829                  6      NaN      volkswagen         yes  \n",
       "340759                  4   petrol            audi          no  \n",
       "341791                  0      NaN            opel         NaN  \n",
       "348830                  0      NaN  sonstige_autos         NaN  \n",
       "351682                  6   petrol            fiat         NaN  \n",
       "\n",
       "[134 rows x 11 columns]"
      ]
     },
     "execution_count": 13,
     "metadata": {},
     "output_type": "execute_result"
    }
   ],
   "source": [
    "df[(df[\"RegistrationYear\"] > 2022) | (df[\"RegistrationYear\"] < 1900)]"
   ]
  },
  {
   "cell_type": "code",
   "execution_count": 14,
   "metadata": {},
   "outputs": [
    {
     "data": {
      "text/html": [
       "<div>\n",
       "<style scoped>\n",
       "    .dataframe tbody tr th:only-of-type {\n",
       "        vertical-align: middle;\n",
       "    }\n",
       "\n",
       "    .dataframe tbody tr th {\n",
       "        vertical-align: top;\n",
       "    }\n",
       "\n",
       "    .dataframe thead th {\n",
       "        text-align: right;\n",
       "    }\n",
       "</style>\n",
       "<table border=\"1\" class=\"dataframe\">\n",
       "  <thead>\n",
       "    <tr style=\"text-align: right;\">\n",
       "      <th></th>\n",
       "      <th>Price</th>\n",
       "      <th>VehicleType</th>\n",
       "      <th>RegistrationYear</th>\n",
       "      <th>Gearbox</th>\n",
       "      <th>Power</th>\n",
       "      <th>Model</th>\n",
       "      <th>Kilometer</th>\n",
       "      <th>RegistrationMonth</th>\n",
       "      <th>FuelType</th>\n",
       "      <th>Brand</th>\n",
       "      <th>NotRepaired</th>\n",
       "    </tr>\n",
       "  </thead>\n",
       "  <tbody>\n",
       "    <tr>\n",
       "      <th>0</th>\n",
       "      <td>480</td>\n",
       "      <td>NaN</td>\n",
       "      <td>1993</td>\n",
       "      <td>manual</td>\n",
       "      <td>0</td>\n",
       "      <td>golf</td>\n",
       "      <td>150000</td>\n",
       "      <td>0</td>\n",
       "      <td>petrol</td>\n",
       "      <td>volkswagen</td>\n",
       "      <td>NaN</td>\n",
       "    </tr>\n",
       "    <tr>\n",
       "      <th>1</th>\n",
       "      <td>18300</td>\n",
       "      <td>coupe</td>\n",
       "      <td>2011</td>\n",
       "      <td>manual</td>\n",
       "      <td>190</td>\n",
       "      <td>NaN</td>\n",
       "      <td>125000</td>\n",
       "      <td>5</td>\n",
       "      <td>gasoline</td>\n",
       "      <td>audi</td>\n",
       "      <td>yes</td>\n",
       "    </tr>\n",
       "    <tr>\n",
       "      <th>2</th>\n",
       "      <td>9800</td>\n",
       "      <td>suv</td>\n",
       "      <td>2004</td>\n",
       "      <td>auto</td>\n",
       "      <td>163</td>\n",
       "      <td>grand</td>\n",
       "      <td>125000</td>\n",
       "      <td>8</td>\n",
       "      <td>gasoline</td>\n",
       "      <td>jeep</td>\n",
       "      <td>NaN</td>\n",
       "    </tr>\n",
       "    <tr>\n",
       "      <th>3</th>\n",
       "      <td>1500</td>\n",
       "      <td>small</td>\n",
       "      <td>2001</td>\n",
       "      <td>manual</td>\n",
       "      <td>75</td>\n",
       "      <td>golf</td>\n",
       "      <td>150000</td>\n",
       "      <td>6</td>\n",
       "      <td>petrol</td>\n",
       "      <td>volkswagen</td>\n",
       "      <td>no</td>\n",
       "    </tr>\n",
       "    <tr>\n",
       "      <th>4</th>\n",
       "      <td>3600</td>\n",
       "      <td>small</td>\n",
       "      <td>2008</td>\n",
       "      <td>manual</td>\n",
       "      <td>69</td>\n",
       "      <td>fabia</td>\n",
       "      <td>90000</td>\n",
       "      <td>7</td>\n",
       "      <td>gasoline</td>\n",
       "      <td>skoda</td>\n",
       "      <td>no</td>\n",
       "    </tr>\n",
       "    <tr>\n",
       "      <th>...</th>\n",
       "      <td>...</td>\n",
       "      <td>...</td>\n",
       "      <td>...</td>\n",
       "      <td>...</td>\n",
       "      <td>...</td>\n",
       "      <td>...</td>\n",
       "      <td>...</td>\n",
       "      <td>...</td>\n",
       "      <td>...</td>\n",
       "      <td>...</td>\n",
       "      <td>...</td>\n",
       "    </tr>\n",
       "    <tr>\n",
       "      <th>354362</th>\n",
       "      <td>3200</td>\n",
       "      <td>sedan</td>\n",
       "      <td>2004</td>\n",
       "      <td>manual</td>\n",
       "      <td>225</td>\n",
       "      <td>leon</td>\n",
       "      <td>150000</td>\n",
       "      <td>5</td>\n",
       "      <td>petrol</td>\n",
       "      <td>seat</td>\n",
       "      <td>yes</td>\n",
       "    </tr>\n",
       "    <tr>\n",
       "      <th>354365</th>\n",
       "      <td>2200</td>\n",
       "      <td>NaN</td>\n",
       "      <td>2005</td>\n",
       "      <td>NaN</td>\n",
       "      <td>0</td>\n",
       "      <td>NaN</td>\n",
       "      <td>20000</td>\n",
       "      <td>1</td>\n",
       "      <td>NaN</td>\n",
       "      <td>sonstige_autos</td>\n",
       "      <td>NaN</td>\n",
       "    </tr>\n",
       "    <tr>\n",
       "      <th>354366</th>\n",
       "      <td>1199</td>\n",
       "      <td>convertible</td>\n",
       "      <td>2000</td>\n",
       "      <td>auto</td>\n",
       "      <td>101</td>\n",
       "      <td>fortwo</td>\n",
       "      <td>125000</td>\n",
       "      <td>3</td>\n",
       "      <td>petrol</td>\n",
       "      <td>smart</td>\n",
       "      <td>no</td>\n",
       "    </tr>\n",
       "    <tr>\n",
       "      <th>354367</th>\n",
       "      <td>9200</td>\n",
       "      <td>bus</td>\n",
       "      <td>1996</td>\n",
       "      <td>manual</td>\n",
       "      <td>102</td>\n",
       "      <td>transporter</td>\n",
       "      <td>150000</td>\n",
       "      <td>3</td>\n",
       "      <td>gasoline</td>\n",
       "      <td>volkswagen</td>\n",
       "      <td>no</td>\n",
       "    </tr>\n",
       "    <tr>\n",
       "      <th>354368</th>\n",
       "      <td>3400</td>\n",
       "      <td>wagon</td>\n",
       "      <td>2002</td>\n",
       "      <td>manual</td>\n",
       "      <td>100</td>\n",
       "      <td>golf</td>\n",
       "      <td>150000</td>\n",
       "      <td>6</td>\n",
       "      <td>gasoline</td>\n",
       "      <td>volkswagen</td>\n",
       "      <td>NaN</td>\n",
       "    </tr>\n",
       "  </tbody>\n",
       "</table>\n",
       "<p>317305 rows × 11 columns</p>\n",
       "</div>"
      ],
      "text/plain": [
       "        Price  VehicleType  RegistrationYear Gearbox  Power        Model  \\\n",
       "0         480          NaN              1993  manual      0         golf   \n",
       "1       18300        coupe              2011  manual    190          NaN   \n",
       "2        9800          suv              2004    auto    163        grand   \n",
       "3        1500        small              2001  manual     75         golf   \n",
       "4        3600        small              2008  manual     69        fabia   \n",
       "...       ...          ...               ...     ...    ...          ...   \n",
       "354362   3200        sedan              2004  manual    225         leon   \n",
       "354365   2200          NaN              2005     NaN      0          NaN   \n",
       "354366   1199  convertible              2000    auto    101       fortwo   \n",
       "354367   9200          bus              1996  manual    102  transporter   \n",
       "354368   3400        wagon              2002  manual    100         golf   \n",
       "\n",
       "        Kilometer  RegistrationMonth  FuelType           Brand NotRepaired  \n",
       "0          150000                  0    petrol      volkswagen         NaN  \n",
       "1          125000                  5  gasoline            audi         yes  \n",
       "2          125000                  8  gasoline            jeep         NaN  \n",
       "3          150000                  6    petrol      volkswagen          no  \n",
       "4           90000                  7  gasoline           skoda          no  \n",
       "...           ...                ...       ...             ...         ...  \n",
       "354362     150000                  5    petrol            seat         yes  \n",
       "354365      20000                  1       NaN  sonstige_autos         NaN  \n",
       "354366     125000                  3    petrol           smart          no  \n",
       "354367     150000                  3  gasoline      volkswagen          no  \n",
       "354368     150000                  6  gasoline      volkswagen         NaN  \n",
       "\n",
       "[317305 rows x 11 columns]"
      ]
     },
     "execution_count": 14,
     "metadata": {},
     "output_type": "execute_result"
    }
   ],
   "source": [
    "df = df[~((df[\"RegistrationYear\"] > 2022) | (df[\"RegistrationYear\"] < 1900))]\n",
    "df"
   ]
  },
  {
   "cell_type": "code",
   "execution_count": 15,
   "metadata": {},
   "outputs": [
    {
     "data": {
      "text/html": [
       "<div>\n",
       "<style scoped>\n",
       "    .dataframe tbody tr th:only-of-type {\n",
       "        vertical-align: middle;\n",
       "    }\n",
       "\n",
       "    .dataframe tbody tr th {\n",
       "        vertical-align: top;\n",
       "    }\n",
       "\n",
       "    .dataframe thead th {\n",
       "        text-align: right;\n",
       "    }\n",
       "</style>\n",
       "<table border=\"1\" class=\"dataframe\">\n",
       "  <thead>\n",
       "    <tr style=\"text-align: right;\">\n",
       "      <th></th>\n",
       "      <th>Price</th>\n",
       "      <th>VehicleType</th>\n",
       "      <th>RegistrationYear</th>\n",
       "      <th>Gearbox</th>\n",
       "      <th>Power</th>\n",
       "      <th>Model</th>\n",
       "      <th>Kilometer</th>\n",
       "      <th>RegistrationMonth</th>\n",
       "      <th>FuelType</th>\n",
       "      <th>Brand</th>\n",
       "      <th>NotRepaired</th>\n",
       "    </tr>\n",
       "  </thead>\n",
       "  <tbody>\n",
       "    <tr>\n",
       "      <th>0</th>\n",
       "      <td>480</td>\n",
       "      <td>NaN</td>\n",
       "      <td>1993.00</td>\n",
       "      <td>manual</td>\n",
       "      <td>0</td>\n",
       "      <td>golf</td>\n",
       "      <td>150000</td>\n",
       "      <td>0</td>\n",
       "      <td>petrol</td>\n",
       "      <td>volkswagen</td>\n",
       "      <td>NaN</td>\n",
       "    </tr>\n",
       "    <tr>\n",
       "      <th>1</th>\n",
       "      <td>18300</td>\n",
       "      <td>coupe</td>\n",
       "      <td>2011.42</td>\n",
       "      <td>manual</td>\n",
       "      <td>190</td>\n",
       "      <td>NaN</td>\n",
       "      <td>125000</td>\n",
       "      <td>5</td>\n",
       "      <td>gasoline</td>\n",
       "      <td>audi</td>\n",
       "      <td>yes</td>\n",
       "    </tr>\n",
       "    <tr>\n",
       "      <th>2</th>\n",
       "      <td>9800</td>\n",
       "      <td>suv</td>\n",
       "      <td>2004.67</td>\n",
       "      <td>auto</td>\n",
       "      <td>163</td>\n",
       "      <td>grand</td>\n",
       "      <td>125000</td>\n",
       "      <td>8</td>\n",
       "      <td>gasoline</td>\n",
       "      <td>jeep</td>\n",
       "      <td>NaN</td>\n",
       "    </tr>\n",
       "    <tr>\n",
       "      <th>3</th>\n",
       "      <td>1500</td>\n",
       "      <td>small</td>\n",
       "      <td>2001.50</td>\n",
       "      <td>manual</td>\n",
       "      <td>75</td>\n",
       "      <td>golf</td>\n",
       "      <td>150000</td>\n",
       "      <td>6</td>\n",
       "      <td>petrol</td>\n",
       "      <td>volkswagen</td>\n",
       "      <td>no</td>\n",
       "    </tr>\n",
       "    <tr>\n",
       "      <th>4</th>\n",
       "      <td>3600</td>\n",
       "      <td>small</td>\n",
       "      <td>2008.58</td>\n",
       "      <td>manual</td>\n",
       "      <td>69</td>\n",
       "      <td>fabia</td>\n",
       "      <td>90000</td>\n",
       "      <td>7</td>\n",
       "      <td>gasoline</td>\n",
       "      <td>skoda</td>\n",
       "      <td>no</td>\n",
       "    </tr>\n",
       "    <tr>\n",
       "      <th>...</th>\n",
       "      <td>...</td>\n",
       "      <td>...</td>\n",
       "      <td>...</td>\n",
       "      <td>...</td>\n",
       "      <td>...</td>\n",
       "      <td>...</td>\n",
       "      <td>...</td>\n",
       "      <td>...</td>\n",
       "      <td>...</td>\n",
       "      <td>...</td>\n",
       "      <td>...</td>\n",
       "    </tr>\n",
       "    <tr>\n",
       "      <th>354362</th>\n",
       "      <td>3200</td>\n",
       "      <td>sedan</td>\n",
       "      <td>2004.42</td>\n",
       "      <td>manual</td>\n",
       "      <td>225</td>\n",
       "      <td>leon</td>\n",
       "      <td>150000</td>\n",
       "      <td>5</td>\n",
       "      <td>petrol</td>\n",
       "      <td>seat</td>\n",
       "      <td>yes</td>\n",
       "    </tr>\n",
       "    <tr>\n",
       "      <th>354365</th>\n",
       "      <td>2200</td>\n",
       "      <td>NaN</td>\n",
       "      <td>2005.08</td>\n",
       "      <td>NaN</td>\n",
       "      <td>0</td>\n",
       "      <td>NaN</td>\n",
       "      <td>20000</td>\n",
       "      <td>1</td>\n",
       "      <td>NaN</td>\n",
       "      <td>sonstige_autos</td>\n",
       "      <td>NaN</td>\n",
       "    </tr>\n",
       "    <tr>\n",
       "      <th>354366</th>\n",
       "      <td>1199</td>\n",
       "      <td>convertible</td>\n",
       "      <td>2000.25</td>\n",
       "      <td>auto</td>\n",
       "      <td>101</td>\n",
       "      <td>fortwo</td>\n",
       "      <td>125000</td>\n",
       "      <td>3</td>\n",
       "      <td>petrol</td>\n",
       "      <td>smart</td>\n",
       "      <td>no</td>\n",
       "    </tr>\n",
       "    <tr>\n",
       "      <th>354367</th>\n",
       "      <td>9200</td>\n",
       "      <td>bus</td>\n",
       "      <td>1996.25</td>\n",
       "      <td>manual</td>\n",
       "      <td>102</td>\n",
       "      <td>transporter</td>\n",
       "      <td>150000</td>\n",
       "      <td>3</td>\n",
       "      <td>gasoline</td>\n",
       "      <td>volkswagen</td>\n",
       "      <td>no</td>\n",
       "    </tr>\n",
       "    <tr>\n",
       "      <th>354368</th>\n",
       "      <td>3400</td>\n",
       "      <td>wagon</td>\n",
       "      <td>2002.50</td>\n",
       "      <td>manual</td>\n",
       "      <td>100</td>\n",
       "      <td>golf</td>\n",
       "      <td>150000</td>\n",
       "      <td>6</td>\n",
       "      <td>gasoline</td>\n",
       "      <td>volkswagen</td>\n",
       "      <td>NaN</td>\n",
       "    </tr>\n",
       "  </tbody>\n",
       "</table>\n",
       "<p>317305 rows × 11 columns</p>\n",
       "</div>"
      ],
      "text/plain": [
       "        Price  VehicleType  RegistrationYear Gearbox  Power        Model  \\\n",
       "0         480          NaN           1993.00  manual      0         golf   \n",
       "1       18300        coupe           2011.42  manual    190          NaN   \n",
       "2        9800          suv           2004.67    auto    163        grand   \n",
       "3        1500        small           2001.50  manual     75         golf   \n",
       "4        3600        small           2008.58  manual     69        fabia   \n",
       "...       ...          ...               ...     ...    ...          ...   \n",
       "354362   3200        sedan           2004.42  manual    225         leon   \n",
       "354365   2200          NaN           2005.08     NaN      0          NaN   \n",
       "354366   1199  convertible           2000.25    auto    101       fortwo   \n",
       "354367   9200          bus           1996.25  manual    102  transporter   \n",
       "354368   3400        wagon           2002.50  manual    100         golf   \n",
       "\n",
       "        Kilometer  RegistrationMonth  FuelType           Brand NotRepaired  \n",
       "0          150000                  0    petrol      volkswagen         NaN  \n",
       "1          125000                  5  gasoline            audi         yes  \n",
       "2          125000                  8  gasoline            jeep         NaN  \n",
       "3          150000                  6    petrol      volkswagen          no  \n",
       "4           90000                  7  gasoline           skoda          no  \n",
       "...           ...                ...       ...             ...         ...  \n",
       "354362     150000                  5    petrol            seat         yes  \n",
       "354365      20000                  1       NaN  sonstige_autos         NaN  \n",
       "354366     125000                  3    petrol           smart          no  \n",
       "354367     150000                  3  gasoline      volkswagen          no  \n",
       "354368     150000                  6  gasoline      volkswagen         NaN  \n",
       "\n",
       "[317305 rows x 11 columns]"
      ]
     },
     "execution_count": 15,
     "metadata": {},
     "output_type": "execute_result"
    }
   ],
   "source": [
    "df[\"RegistrationYear\"] = df[\"RegistrationYear\"] + (df[\"RegistrationMonth\"]/12).round(2)\n",
    "df"
   ]
  },
  {
   "cell_type": "code",
   "execution_count": 16,
   "metadata": {},
   "outputs": [],
   "source": [
    "df = df.drop(columns=[\"RegistrationMonth\"])"
   ]
  },
  {
   "cell_type": "code",
   "execution_count": 17,
   "metadata": {},
   "outputs": [],
   "source": [
    "category_list = ['Model', 'Brand', 'VehicleType', 'Gearbox', 'FuelType', 'NotRepaired']\n",
    "numeric_list = ['RegistrationYear', 'Power', 'Kilometer']"
   ]
  },
  {
   "cell_type": "code",
   "execution_count": 18,
   "metadata": {},
   "outputs": [
    {
     "data": {
      "text/html": [
       "<div>\n",
       "<style scoped>\n",
       "    .dataframe tbody tr th:only-of-type {\n",
       "        vertical-align: middle;\n",
       "    }\n",
       "\n",
       "    .dataframe tbody tr th {\n",
       "        vertical-align: top;\n",
       "    }\n",
       "\n",
       "    .dataframe thead th {\n",
       "        text-align: right;\n",
       "    }\n",
       "</style>\n",
       "<table border=\"1\" class=\"dataframe\">\n",
       "  <thead>\n",
       "    <tr style=\"text-align: right;\">\n",
       "      <th></th>\n",
       "      <th>Price</th>\n",
       "      <th>VehicleType</th>\n",
       "      <th>RegistrationYear</th>\n",
       "      <th>Gearbox</th>\n",
       "      <th>Power</th>\n",
       "      <th>Model</th>\n",
       "      <th>Kilometer</th>\n",
       "      <th>FuelType</th>\n",
       "      <th>Brand</th>\n",
       "      <th>NotRepaired</th>\n",
       "    </tr>\n",
       "  </thead>\n",
       "  <tbody>\n",
       "    <tr>\n",
       "      <th>94</th>\n",
       "      <td>8390</td>\n",
       "      <td>NaN</td>\n",
       "      <td>2009.00</td>\n",
       "      <td>NaN</td>\n",
       "      <td>0</td>\n",
       "      <td>insignia</td>\n",
       "      <td>150000</td>\n",
       "      <td>NaN</td>\n",
       "      <td>opel</td>\n",
       "      <td>NaN</td>\n",
       "    </tr>\n",
       "    <tr>\n",
       "      <th>130</th>\n",
       "      <td>3390</td>\n",
       "      <td>NaN</td>\n",
       "      <td>2000.17</td>\n",
       "      <td>NaN</td>\n",
       "      <td>0</td>\n",
       "      <td>3er</td>\n",
       "      <td>150000</td>\n",
       "      <td>NaN</td>\n",
       "      <td>bmw</td>\n",
       "      <td>NaN</td>\n",
       "    </tr>\n",
       "    <tr>\n",
       "      <th>306</th>\n",
       "      <td>200</td>\n",
       "      <td>NaN</td>\n",
       "      <td>2009.00</td>\n",
       "      <td>NaN</td>\n",
       "      <td>0</td>\n",
       "      <td>NaN</td>\n",
       "      <td>10000</td>\n",
       "      <td>NaN</td>\n",
       "      <td>sonstige_autos</td>\n",
       "      <td>NaN</td>\n",
       "    </tr>\n",
       "    <tr>\n",
       "      <th>355</th>\n",
       "      <td>1050</td>\n",
       "      <td>NaN</td>\n",
       "      <td>2018.00</td>\n",
       "      <td>NaN</td>\n",
       "      <td>0</td>\n",
       "      <td>golf</td>\n",
       "      <td>150000</td>\n",
       "      <td>NaN</td>\n",
       "      <td>volkswagen</td>\n",
       "      <td>NaN</td>\n",
       "    </tr>\n",
       "    <tr>\n",
       "      <th>409</th>\n",
       "      <td>4500</td>\n",
       "      <td>NaN</td>\n",
       "      <td>2016.83</td>\n",
       "      <td>NaN</td>\n",
       "      <td>0</td>\n",
       "      <td>fox</td>\n",
       "      <td>60000</td>\n",
       "      <td>NaN</td>\n",
       "      <td>volkswagen</td>\n",
       "      <td>NaN</td>\n",
       "    </tr>\n",
       "    <tr>\n",
       "      <th>...</th>\n",
       "      <td>...</td>\n",
       "      <td>...</td>\n",
       "      <td>...</td>\n",
       "      <td>...</td>\n",
       "      <td>...</td>\n",
       "      <td>...</td>\n",
       "      <td>...</td>\n",
       "      <td>...</td>\n",
       "      <td>...</td>\n",
       "      <td>...</td>\n",
       "    </tr>\n",
       "    <tr>\n",
       "      <th>354128</th>\n",
       "      <td>400</td>\n",
       "      <td>NaN</td>\n",
       "      <td>2000.00</td>\n",
       "      <td>NaN</td>\n",
       "      <td>0</td>\n",
       "      <td>twingo</td>\n",
       "      <td>150000</td>\n",
       "      <td>NaN</td>\n",
       "      <td>renault</td>\n",
       "      <td>NaN</td>\n",
       "    </tr>\n",
       "    <tr>\n",
       "      <th>354162</th>\n",
       "      <td>1500</td>\n",
       "      <td>NaN</td>\n",
       "      <td>1995.00</td>\n",
       "      <td>NaN</td>\n",
       "      <td>0</td>\n",
       "      <td>NaN</td>\n",
       "      <td>150000</td>\n",
       "      <td>NaN</td>\n",
       "      <td>volkswagen</td>\n",
       "      <td>NaN</td>\n",
       "    </tr>\n",
       "    <tr>\n",
       "      <th>354226</th>\n",
       "      <td>9000</td>\n",
       "      <td>NaN</td>\n",
       "      <td>2008.00</td>\n",
       "      <td>NaN</td>\n",
       "      <td>0</td>\n",
       "      <td>1er</td>\n",
       "      <td>125000</td>\n",
       "      <td>NaN</td>\n",
       "      <td>bmw</td>\n",
       "      <td>NaN</td>\n",
       "    </tr>\n",
       "    <tr>\n",
       "      <th>354305</th>\n",
       "      <td>3500</td>\n",
       "      <td>NaN</td>\n",
       "      <td>1995.00</td>\n",
       "      <td>NaN</td>\n",
       "      <td>0</td>\n",
       "      <td>polo</td>\n",
       "      <td>150000</td>\n",
       "      <td>NaN</td>\n",
       "      <td>volkswagen</td>\n",
       "      <td>NaN</td>\n",
       "    </tr>\n",
       "    <tr>\n",
       "      <th>354365</th>\n",
       "      <td>2200</td>\n",
       "      <td>NaN</td>\n",
       "      <td>2005.08</td>\n",
       "      <td>NaN</td>\n",
       "      <td>0</td>\n",
       "      <td>NaN</td>\n",
       "      <td>20000</td>\n",
       "      <td>NaN</td>\n",
       "      <td>sonstige_autos</td>\n",
       "      <td>NaN</td>\n",
       "    </tr>\n",
       "  </tbody>\n",
       "</table>\n",
       "<p>3586 rows × 10 columns</p>\n",
       "</div>"
      ],
      "text/plain": [
       "        Price VehicleType  RegistrationYear Gearbox  Power     Model  \\\n",
       "94       8390         NaN           2009.00     NaN      0  insignia   \n",
       "130      3390         NaN           2000.17     NaN      0       3er   \n",
       "306       200         NaN           2009.00     NaN      0       NaN   \n",
       "355      1050         NaN           2018.00     NaN      0      golf   \n",
       "409      4500         NaN           2016.83     NaN      0       fox   \n",
       "...       ...         ...               ...     ...    ...       ...   \n",
       "354128    400         NaN           2000.00     NaN      0    twingo   \n",
       "354162   1500         NaN           1995.00     NaN      0       NaN   \n",
       "354226   9000         NaN           2008.00     NaN      0       1er   \n",
       "354305   3500         NaN           1995.00     NaN      0      polo   \n",
       "354365   2200         NaN           2005.08     NaN      0       NaN   \n",
       "\n",
       "        Kilometer FuelType           Brand NotRepaired  \n",
       "94         150000      NaN            opel         NaN  \n",
       "130        150000      NaN             bmw         NaN  \n",
       "306         10000      NaN  sonstige_autos         NaN  \n",
       "355        150000      NaN      volkswagen         NaN  \n",
       "409         60000      NaN      volkswagen         NaN  \n",
       "...           ...      ...             ...         ...  \n",
       "354128     150000      NaN         renault         NaN  \n",
       "354162     150000      NaN      volkswagen         NaN  \n",
       "354226     125000      NaN             bmw         NaN  \n",
       "354305     150000      NaN      volkswagen         NaN  \n",
       "354365      20000      NaN  sonstige_autos         NaN  \n",
       "\n",
       "[3586 rows x 10 columns]"
      ]
     },
     "execution_count": 18,
     "metadata": {},
     "output_type": "execute_result"
    }
   ],
   "source": [
    "# оценим кол-во наблюдений с множеством пропущенных значений, вкл. критически важный \"Power\", удалим их \n",
    "df[(df[\"FuelType\"].isna()) & (df[\"Gearbox\"].isna()) & (df[\"VehicleType\"].isna()) & \n",
    "   (df[\"NotRepaired\"].isna()) & (df[\"Power\"]==0)]"
   ]
  },
  {
   "cell_type": "code",
   "execution_count": 19,
   "metadata": {},
   "outputs": [],
   "source": [
    "df = df[~((df[\"FuelType\"].isna()) & (df[\"Gearbox\"].isna()) & (df[\"VehicleType\"].isna()) & \n",
    "   (df[\"NotRepaired\"].isna()) & (df[\"Power\"]==0))]\n"
   ]
  },
  {
   "cell_type": "code",
   "execution_count": 20,
   "metadata": {},
   "outputs": [
    {
     "data": {
      "text/plain": [
       "Price                   0\n",
       "VehicleType         28485\n",
       "RegistrationYear        0\n",
       "Gearbox             12016\n",
       "Power                   0\n",
       "Model               15604\n",
       "Kilometer               0\n",
       "FuelType            24651\n",
       "Brand                   0\n",
       "NotRepaired         58266\n",
       "dtype: int64"
      ]
     },
     "execution_count": 20,
     "metadata": {},
     "output_type": "execute_result"
    }
   ],
   "source": [
    "df.isna().sum()"
   ]
  },
  {
   "cell_type": "code",
   "execution_count": 21,
   "metadata": {},
   "outputs": [],
   "source": [
    "for category in category_list:\n",
    "    df[category] = df[category].fillna(\"unknown\")"
   ]
  },
  {
   "cell_type": "code",
   "execution_count": 22,
   "metadata": {},
   "outputs": [],
   "source": [
    "power_tab = df.groupby('Model')['Power'].median()"
   ]
  },
  {
   "cell_type": "code",
   "execution_count": 23,
   "metadata": {},
   "outputs": [],
   "source": [
    "def ft_power(data):\n",
    "    if data['Power'] == 0:\n",
    "        m = data[\"Model\"]\n",
    "        return power_tab[m]\n",
    "    else:\n",
    "        return data['Power']"
   ]
  },
  {
   "cell_type": "code",
   "execution_count": 24,
   "metadata": {},
   "outputs": [],
   "source": [
    "df[\"Power\"] = df.apply(ft_power, axis=1)"
   ]
  },
  {
   "cell_type": "code",
   "execution_count": 25,
   "metadata": {},
   "outputs": [
    {
     "data": {
      "text/plain": [
       "Price               0\n",
       "VehicleType         0\n",
       "RegistrationYear    0\n",
       "Gearbox             0\n",
       "Power               0\n",
       "Model               0\n",
       "Kilometer           0\n",
       "FuelType            0\n",
       "Brand               0\n",
       "NotRepaired         0\n",
       "dtype: int64"
      ]
     },
     "execution_count": 25,
     "metadata": {},
     "output_type": "execute_result"
    }
   ],
   "source": [
    "df.isna().sum()"
   ]
  },
  {
   "cell_type": "code",
   "execution_count": 26,
   "metadata": {},
   "outputs": [
    {
     "data": {
      "text/html": [
       "<div>\n",
       "<style scoped>\n",
       "    .dataframe tbody tr th:only-of-type {\n",
       "        vertical-align: middle;\n",
       "    }\n",
       "\n",
       "    .dataframe tbody tr th {\n",
       "        vertical-align: top;\n",
       "    }\n",
       "\n",
       "    .dataframe thead th {\n",
       "        text-align: right;\n",
       "    }\n",
       "</style>\n",
       "<table border=\"1\" class=\"dataframe\">\n",
       "  <thead>\n",
       "    <tr style=\"text-align: right;\">\n",
       "      <th></th>\n",
       "      <th>Price</th>\n",
       "      <th>RegistrationYear</th>\n",
       "      <th>Power</th>\n",
       "      <th>Kilometer</th>\n",
       "    </tr>\n",
       "  </thead>\n",
       "  <tbody>\n",
       "    <tr>\n",
       "      <th>count</th>\n",
       "      <td>313719.000000</td>\n",
       "      <td>313719.000000</td>\n",
       "      <td>313719.000000</td>\n",
       "      <td>313719.000000</td>\n",
       "    </tr>\n",
       "    <tr>\n",
       "      <th>mean</th>\n",
       "      <td>4567.110376</td>\n",
       "      <td>2003.658329</td>\n",
       "      <td>122.102923</td>\n",
       "      <td>128575.747723</td>\n",
       "    </tr>\n",
       "    <tr>\n",
       "      <th>std</th>\n",
       "      <td>4525.013338</td>\n",
       "      <td>7.367070</td>\n",
       "      <td>191.396820</td>\n",
       "      <td>37110.032005</td>\n",
       "    </tr>\n",
       "    <tr>\n",
       "      <th>min</th>\n",
       "      <td>1.000000</td>\n",
       "      <td>1910.000000</td>\n",
       "      <td>0.000000</td>\n",
       "      <td>5000.000000</td>\n",
       "    </tr>\n",
       "    <tr>\n",
       "      <th>25%</th>\n",
       "      <td>1200.000000</td>\n",
       "      <td>1999.420000</td>\n",
       "      <td>75.000000</td>\n",
       "      <td>125000.000000</td>\n",
       "    </tr>\n",
       "    <tr>\n",
       "      <th>50%</th>\n",
       "      <td>2899.000000</td>\n",
       "      <td>2003.670000</td>\n",
       "      <td>109.000000</td>\n",
       "      <td>150000.000000</td>\n",
       "    </tr>\n",
       "    <tr>\n",
       "      <th>75%</th>\n",
       "      <td>6500.000000</td>\n",
       "      <td>2008.170000</td>\n",
       "      <td>143.000000</td>\n",
       "      <td>150000.000000</td>\n",
       "    </tr>\n",
       "    <tr>\n",
       "      <th>max</th>\n",
       "      <td>20000.000000</td>\n",
       "      <td>2020.000000</td>\n",
       "      <td>20000.000000</td>\n",
       "      <td>150000.000000</td>\n",
       "    </tr>\n",
       "  </tbody>\n",
       "</table>\n",
       "</div>"
      ],
      "text/plain": [
       "               Price  RegistrationYear          Power      Kilometer\n",
       "count  313719.000000     313719.000000  313719.000000  313719.000000\n",
       "mean     4567.110376       2003.658329     122.102923  128575.747723\n",
       "std      4525.013338          7.367070     191.396820   37110.032005\n",
       "min         1.000000       1910.000000       0.000000    5000.000000\n",
       "25%      1200.000000       1999.420000      75.000000  125000.000000\n",
       "50%      2899.000000       2003.670000     109.000000  150000.000000\n",
       "75%      6500.000000       2008.170000     143.000000  150000.000000\n",
       "max     20000.000000       2020.000000   20000.000000  150000.000000"
      ]
     },
     "execution_count": 26,
     "metadata": {},
     "output_type": "execute_result"
    }
   ],
   "source": [
    "df.describe()"
   ]
  },
  {
   "cell_type": "code",
   "execution_count": 27,
   "metadata": {},
   "outputs": [
    {
     "data": {
      "text/html": [
       "<div>\n",
       "<style scoped>\n",
       "    .dataframe tbody tr th:only-of-type {\n",
       "        vertical-align: middle;\n",
       "    }\n",
       "\n",
       "    .dataframe tbody tr th {\n",
       "        vertical-align: top;\n",
       "    }\n",
       "\n",
       "    .dataframe thead th {\n",
       "        text-align: right;\n",
       "    }\n",
       "</style>\n",
       "<table border=\"1\" class=\"dataframe\">\n",
       "  <thead>\n",
       "    <tr style=\"text-align: right;\">\n",
       "      <th></th>\n",
       "      <th>Price</th>\n",
       "      <th>VehicleType</th>\n",
       "      <th>RegistrationYear</th>\n",
       "      <th>Gearbox</th>\n",
       "      <th>Power</th>\n",
       "      <th>Model</th>\n",
       "      <th>Kilometer</th>\n",
       "      <th>FuelType</th>\n",
       "      <th>Brand</th>\n",
       "      <th>NotRepaired</th>\n",
       "    </tr>\n",
       "  </thead>\n",
       "  <tbody>\n",
       "    <tr>\n",
       "      <th>3338</th>\n",
       "      <td>199</td>\n",
       "      <td>unknown</td>\n",
       "      <td>1995.00</td>\n",
       "      <td>manual</td>\n",
       "      <td>0.0</td>\n",
       "      <td>samara</td>\n",
       "      <td>100000</td>\n",
       "      <td>petrol</td>\n",
       "      <td>lada</td>\n",
       "      <td>unknown</td>\n",
       "    </tr>\n",
       "    <tr>\n",
       "      <th>26625</th>\n",
       "      <td>200</td>\n",
       "      <td>unknown</td>\n",
       "      <td>2016.00</td>\n",
       "      <td>manual</td>\n",
       "      <td>0.0</td>\n",
       "      <td>samara</td>\n",
       "      <td>150000</td>\n",
       "      <td>petrol</td>\n",
       "      <td>lada</td>\n",
       "      <td>unknown</td>\n",
       "    </tr>\n",
       "    <tr>\n",
       "      <th>42665</th>\n",
       "      <td>300</td>\n",
       "      <td>small</td>\n",
       "      <td>1997.25</td>\n",
       "      <td>manual</td>\n",
       "      <td>0.0</td>\n",
       "      <td>samara</td>\n",
       "      <td>50000</td>\n",
       "      <td>petrol</td>\n",
       "      <td>lada</td>\n",
       "      <td>yes</td>\n",
       "    </tr>\n",
       "    <tr>\n",
       "      <th>69358</th>\n",
       "      <td>99</td>\n",
       "      <td>unknown</td>\n",
       "      <td>1995.00</td>\n",
       "      <td>manual</td>\n",
       "      <td>0.0</td>\n",
       "      <td>samara</td>\n",
       "      <td>125000</td>\n",
       "      <td>petrol</td>\n",
       "      <td>lada</td>\n",
       "      <td>unknown</td>\n",
       "    </tr>\n",
       "    <tr>\n",
       "      <th>75177</th>\n",
       "      <td>249</td>\n",
       "      <td>unknown</td>\n",
       "      <td>1985.00</td>\n",
       "      <td>manual</td>\n",
       "      <td>0.0</td>\n",
       "      <td>samara</td>\n",
       "      <td>125000</td>\n",
       "      <td>petrol</td>\n",
       "      <td>lada</td>\n",
       "      <td>unknown</td>\n",
       "    </tr>\n",
       "    <tr>\n",
       "      <th>150050</th>\n",
       "      <td>650</td>\n",
       "      <td>wagon</td>\n",
       "      <td>2007.67</td>\n",
       "      <td>manual</td>\n",
       "      <td>0.0</td>\n",
       "      <td>samara</td>\n",
       "      <td>125000</td>\n",
       "      <td>petrol</td>\n",
       "      <td>lada</td>\n",
       "      <td>unknown</td>\n",
       "    </tr>\n",
       "    <tr>\n",
       "      <th>234296</th>\n",
       "      <td>3800</td>\n",
       "      <td>wagon</td>\n",
       "      <td>1978.00</td>\n",
       "      <td>manual</td>\n",
       "      <td>0.0</td>\n",
       "      <td>serie_1</td>\n",
       "      <td>30000</td>\n",
       "      <td>gasoline</td>\n",
       "      <td>land_rover</td>\n",
       "      <td>unknown</td>\n",
       "    </tr>\n",
       "    <tr>\n",
       "      <th>353555</th>\n",
       "      <td>2199</td>\n",
       "      <td>unknown</td>\n",
       "      <td>2016.00</td>\n",
       "      <td>manual</td>\n",
       "      <td>0.0</td>\n",
       "      <td>samara</td>\n",
       "      <td>70000</td>\n",
       "      <td>unknown</td>\n",
       "      <td>lada</td>\n",
       "      <td>no</td>\n",
       "    </tr>\n",
       "  </tbody>\n",
       "</table>\n",
       "</div>"
      ],
      "text/plain": [
       "        Price VehicleType  RegistrationYear Gearbox  Power    Model  \\\n",
       "3338      199     unknown           1995.00  manual    0.0   samara   \n",
       "26625     200     unknown           2016.00  manual    0.0   samara   \n",
       "42665     300       small           1997.25  manual    0.0   samara   \n",
       "69358      99     unknown           1995.00  manual    0.0   samara   \n",
       "75177     249     unknown           1985.00  manual    0.0   samara   \n",
       "150050    650       wagon           2007.67  manual    0.0   samara   \n",
       "234296   3800       wagon           1978.00  manual    0.0  serie_1   \n",
       "353555   2199     unknown           2016.00  manual    0.0   samara   \n",
       "\n",
       "        Kilometer  FuelType       Brand NotRepaired  \n",
       "3338       100000    petrol        lada     unknown  \n",
       "26625      150000    petrol        lada     unknown  \n",
       "42665       50000    petrol        lada         yes  \n",
       "69358      125000    petrol        lada     unknown  \n",
       "75177      125000    petrol        lada     unknown  \n",
       "150050     125000    petrol        lada     unknown  \n",
       "234296      30000  gasoline  land_rover     unknown  \n",
       "353555      70000   unknown        lada          no  "
      ]
     },
     "execution_count": 27,
     "metadata": {},
     "output_type": "execute_result"
    }
   ],
   "source": [
    "# еще как-то остались Power=0, удалим их\n",
    "df[df[\"Power\"]==0]"
   ]
  },
  {
   "cell_type": "code",
   "execution_count": 28,
   "metadata": {},
   "outputs": [],
   "source": [
    "df = df[~(df[\"Power\"]==0)]"
   ]
  },
  {
   "cell_type": "markdown",
   "metadata": {},
   "source": [
    "### Вывод\n",
    "- избавились от дупликатов и неинформативных признаков ('PostalCode', 'NumberOfPictures', 'DateCrawled', 'RegistrationMonth')\n",
    "- удалили наблюденя с осутствующими или неадекватными, но критически важными признаками (цена=0, регистрация не в 20-21 веках, мощность=0 и большое кол-во пропусков)\n",
    "- заполнили пропуски в оставшихся наблюдениях"
   ]
  },
  {
   "cell_type": "code",
   "execution_count": 29,
   "metadata": {
    "scrolled": false
   },
   "outputs": [
    {
     "data": {
      "text/html": [
       "<div>\n",
       "<style scoped>\n",
       "    .dataframe tbody tr th:only-of-type {\n",
       "        vertical-align: middle;\n",
       "    }\n",
       "\n",
       "    .dataframe tbody tr th {\n",
       "        vertical-align: top;\n",
       "    }\n",
       "\n",
       "    .dataframe thead th {\n",
       "        text-align: right;\n",
       "    }\n",
       "</style>\n",
       "<table border=\"1\" class=\"dataframe\">\n",
       "  <thead>\n",
       "    <tr style=\"text-align: right;\">\n",
       "      <th></th>\n",
       "      <th>Price</th>\n",
       "      <th>VehicleType</th>\n",
       "      <th>RegistrationYear</th>\n",
       "      <th>Gearbox</th>\n",
       "      <th>Power</th>\n",
       "      <th>Model</th>\n",
       "      <th>Kilometer</th>\n",
       "      <th>FuelType</th>\n",
       "      <th>Brand</th>\n",
       "      <th>NotRepaired</th>\n",
       "    </tr>\n",
       "  </thead>\n",
       "  <tbody>\n",
       "    <tr>\n",
       "      <th>0</th>\n",
       "      <td>480</td>\n",
       "      <td>unknown</td>\n",
       "      <td>1993.00</td>\n",
       "      <td>manual</td>\n",
       "      <td>100.0</td>\n",
       "      <td>golf</td>\n",
       "      <td>150000</td>\n",
       "      <td>petrol</td>\n",
       "      <td>volkswagen</td>\n",
       "      <td>unknown</td>\n",
       "    </tr>\n",
       "    <tr>\n",
       "      <th>1</th>\n",
       "      <td>18300</td>\n",
       "      <td>coupe</td>\n",
       "      <td>2011.42</td>\n",
       "      <td>manual</td>\n",
       "      <td>190.0</td>\n",
       "      <td>unknown</td>\n",
       "      <td>125000</td>\n",
       "      <td>gasoline</td>\n",
       "      <td>audi</td>\n",
       "      <td>yes</td>\n",
       "    </tr>\n",
       "    <tr>\n",
       "      <th>2</th>\n",
       "      <td>9800</td>\n",
       "      <td>suv</td>\n",
       "      <td>2004.67</td>\n",
       "      <td>auto</td>\n",
       "      <td>163.0</td>\n",
       "      <td>grand</td>\n",
       "      <td>125000</td>\n",
       "      <td>gasoline</td>\n",
       "      <td>jeep</td>\n",
       "      <td>unknown</td>\n",
       "    </tr>\n",
       "    <tr>\n",
       "      <th>3</th>\n",
       "      <td>1500</td>\n",
       "      <td>small</td>\n",
       "      <td>2001.50</td>\n",
       "      <td>manual</td>\n",
       "      <td>75.0</td>\n",
       "      <td>golf</td>\n",
       "      <td>150000</td>\n",
       "      <td>petrol</td>\n",
       "      <td>volkswagen</td>\n",
       "      <td>no</td>\n",
       "    </tr>\n",
       "    <tr>\n",
       "      <th>4</th>\n",
       "      <td>3600</td>\n",
       "      <td>small</td>\n",
       "      <td>2008.58</td>\n",
       "      <td>manual</td>\n",
       "      <td>69.0</td>\n",
       "      <td>fabia</td>\n",
       "      <td>90000</td>\n",
       "      <td>gasoline</td>\n",
       "      <td>skoda</td>\n",
       "      <td>no</td>\n",
       "    </tr>\n",
       "    <tr>\n",
       "      <th>...</th>\n",
       "      <td>...</td>\n",
       "      <td>...</td>\n",
       "      <td>...</td>\n",
       "      <td>...</td>\n",
       "      <td>...</td>\n",
       "      <td>...</td>\n",
       "      <td>...</td>\n",
       "      <td>...</td>\n",
       "      <td>...</td>\n",
       "      <td>...</td>\n",
       "    </tr>\n",
       "    <tr>\n",
       "      <th>354361</th>\n",
       "      <td>5250</td>\n",
       "      <td>unknown</td>\n",
       "      <td>2017.00</td>\n",
       "      <td>auto</td>\n",
       "      <td>150.0</td>\n",
       "      <td>159</td>\n",
       "      <td>150000</td>\n",
       "      <td>unknown</td>\n",
       "      <td>alfa_romeo</td>\n",
       "      <td>no</td>\n",
       "    </tr>\n",
       "    <tr>\n",
       "      <th>354362</th>\n",
       "      <td>3200</td>\n",
       "      <td>sedan</td>\n",
       "      <td>2004.42</td>\n",
       "      <td>manual</td>\n",
       "      <td>225.0</td>\n",
       "      <td>leon</td>\n",
       "      <td>150000</td>\n",
       "      <td>petrol</td>\n",
       "      <td>seat</td>\n",
       "      <td>yes</td>\n",
       "    </tr>\n",
       "    <tr>\n",
       "      <th>354366</th>\n",
       "      <td>1199</td>\n",
       "      <td>convertible</td>\n",
       "      <td>2000.25</td>\n",
       "      <td>auto</td>\n",
       "      <td>101.0</td>\n",
       "      <td>fortwo</td>\n",
       "      <td>125000</td>\n",
       "      <td>petrol</td>\n",
       "      <td>smart</td>\n",
       "      <td>no</td>\n",
       "    </tr>\n",
       "    <tr>\n",
       "      <th>354367</th>\n",
       "      <td>9200</td>\n",
       "      <td>bus</td>\n",
       "      <td>1996.25</td>\n",
       "      <td>manual</td>\n",
       "      <td>102.0</td>\n",
       "      <td>transporter</td>\n",
       "      <td>150000</td>\n",
       "      <td>gasoline</td>\n",
       "      <td>volkswagen</td>\n",
       "      <td>no</td>\n",
       "    </tr>\n",
       "    <tr>\n",
       "      <th>354368</th>\n",
       "      <td>3400</td>\n",
       "      <td>wagon</td>\n",
       "      <td>2002.50</td>\n",
       "      <td>manual</td>\n",
       "      <td>100.0</td>\n",
       "      <td>golf</td>\n",
       "      <td>150000</td>\n",
       "      <td>gasoline</td>\n",
       "      <td>volkswagen</td>\n",
       "      <td>unknown</td>\n",
       "    </tr>\n",
       "  </tbody>\n",
       "</table>\n",
       "<p>313711 rows × 10 columns</p>\n",
       "</div>"
      ],
      "text/plain": [
       "        Price  VehicleType  RegistrationYear Gearbox  Power        Model  \\\n",
       "0         480      unknown           1993.00  manual  100.0         golf   \n",
       "1       18300        coupe           2011.42  manual  190.0      unknown   \n",
       "2        9800          suv           2004.67    auto  163.0        grand   \n",
       "3        1500        small           2001.50  manual   75.0         golf   \n",
       "4        3600        small           2008.58  manual   69.0        fabia   \n",
       "...       ...          ...               ...     ...    ...          ...   \n",
       "354361   5250      unknown           2017.00    auto  150.0          159   \n",
       "354362   3200        sedan           2004.42  manual  225.0         leon   \n",
       "354366   1199  convertible           2000.25    auto  101.0       fortwo   \n",
       "354367   9200          bus           1996.25  manual  102.0  transporter   \n",
       "354368   3400        wagon           2002.50  manual  100.0         golf   \n",
       "\n",
       "        Kilometer  FuelType       Brand NotRepaired  \n",
       "0          150000    petrol  volkswagen     unknown  \n",
       "1          125000  gasoline        audi         yes  \n",
       "2          125000  gasoline        jeep     unknown  \n",
       "3          150000    petrol  volkswagen          no  \n",
       "4           90000  gasoline       skoda          no  \n",
       "...           ...       ...         ...         ...  \n",
       "354361     150000   unknown  alfa_romeo          no  \n",
       "354362     150000    petrol        seat         yes  \n",
       "354366     125000    petrol       smart          no  \n",
       "354367     150000  gasoline  volkswagen          no  \n",
       "354368     150000  gasoline  volkswagen     unknown  \n",
       "\n",
       "[313711 rows x 10 columns]"
      ]
     },
     "execution_count": 29,
     "metadata": {},
     "output_type": "execute_result"
    }
   ],
   "source": [
    "df"
   ]
  },
  {
   "cell_type": "markdown",
   "metadata": {},
   "source": [
    "## Обучение моделей"
   ]
  },
  {
   "cell_type": "code",
   "execution_count": 30,
   "metadata": {
    "scrolled": false
   },
   "outputs": [
    {
     "name": "stdout",
     "output_type": "stream",
     "text": [
      "<class 'pandas.core.frame.DataFrame'>\n",
      "Int64Index: 313711 entries, 0 to 354368\n",
      "Columns: 311 entries, Price to NotRepaired_yes\n",
      "dtypes: float64(2), int64(2), uint8(307)\n",
      "memory usage: 103.8 MB\n"
     ]
    },
    {
     "data": {
      "text/html": [
       "<div>\n",
       "<style scoped>\n",
       "    .dataframe tbody tr th:only-of-type {\n",
       "        vertical-align: middle;\n",
       "    }\n",
       "\n",
       "    .dataframe tbody tr th {\n",
       "        vertical-align: top;\n",
       "    }\n",
       "\n",
       "    .dataframe thead th {\n",
       "        text-align: right;\n",
       "    }\n",
       "</style>\n",
       "<table border=\"1\" class=\"dataframe\">\n",
       "  <thead>\n",
       "    <tr style=\"text-align: right;\">\n",
       "      <th></th>\n",
       "      <th>Price</th>\n",
       "      <th>RegistrationYear</th>\n",
       "      <th>Power</th>\n",
       "      <th>Kilometer</th>\n",
       "      <th>VehicleType_convertible</th>\n",
       "      <th>VehicleType_coupe</th>\n",
       "      <th>VehicleType_other</th>\n",
       "      <th>VehicleType_sedan</th>\n",
       "      <th>VehicleType_small</th>\n",
       "      <th>VehicleType_suv</th>\n",
       "      <th>...</th>\n",
       "      <th>Brand_smart</th>\n",
       "      <th>Brand_sonstige_autos</th>\n",
       "      <th>Brand_subaru</th>\n",
       "      <th>Brand_suzuki</th>\n",
       "      <th>Brand_toyota</th>\n",
       "      <th>Brand_trabant</th>\n",
       "      <th>Brand_volkswagen</th>\n",
       "      <th>Brand_volvo</th>\n",
       "      <th>NotRepaired_unknown</th>\n",
       "      <th>NotRepaired_yes</th>\n",
       "    </tr>\n",
       "  </thead>\n",
       "  <tbody>\n",
       "    <tr>\n",
       "      <th>0</th>\n",
       "      <td>480</td>\n",
       "      <td>1993.00</td>\n",
       "      <td>100.0</td>\n",
       "      <td>150000</td>\n",
       "      <td>0</td>\n",
       "      <td>0</td>\n",
       "      <td>0</td>\n",
       "      <td>0</td>\n",
       "      <td>0</td>\n",
       "      <td>0</td>\n",
       "      <td>...</td>\n",
       "      <td>0</td>\n",
       "      <td>0</td>\n",
       "      <td>0</td>\n",
       "      <td>0</td>\n",
       "      <td>0</td>\n",
       "      <td>0</td>\n",
       "      <td>1</td>\n",
       "      <td>0</td>\n",
       "      <td>1</td>\n",
       "      <td>0</td>\n",
       "    </tr>\n",
       "    <tr>\n",
       "      <th>1</th>\n",
       "      <td>18300</td>\n",
       "      <td>2011.42</td>\n",
       "      <td>190.0</td>\n",
       "      <td>125000</td>\n",
       "      <td>0</td>\n",
       "      <td>1</td>\n",
       "      <td>0</td>\n",
       "      <td>0</td>\n",
       "      <td>0</td>\n",
       "      <td>0</td>\n",
       "      <td>...</td>\n",
       "      <td>0</td>\n",
       "      <td>0</td>\n",
       "      <td>0</td>\n",
       "      <td>0</td>\n",
       "      <td>0</td>\n",
       "      <td>0</td>\n",
       "      <td>0</td>\n",
       "      <td>0</td>\n",
       "      <td>0</td>\n",
       "      <td>1</td>\n",
       "    </tr>\n",
       "    <tr>\n",
       "      <th>2</th>\n",
       "      <td>9800</td>\n",
       "      <td>2004.67</td>\n",
       "      <td>163.0</td>\n",
       "      <td>125000</td>\n",
       "      <td>0</td>\n",
       "      <td>0</td>\n",
       "      <td>0</td>\n",
       "      <td>0</td>\n",
       "      <td>0</td>\n",
       "      <td>1</td>\n",
       "      <td>...</td>\n",
       "      <td>0</td>\n",
       "      <td>0</td>\n",
       "      <td>0</td>\n",
       "      <td>0</td>\n",
       "      <td>0</td>\n",
       "      <td>0</td>\n",
       "      <td>0</td>\n",
       "      <td>0</td>\n",
       "      <td>1</td>\n",
       "      <td>0</td>\n",
       "    </tr>\n",
       "    <tr>\n",
       "      <th>3</th>\n",
       "      <td>1500</td>\n",
       "      <td>2001.50</td>\n",
       "      <td>75.0</td>\n",
       "      <td>150000</td>\n",
       "      <td>0</td>\n",
       "      <td>0</td>\n",
       "      <td>0</td>\n",
       "      <td>0</td>\n",
       "      <td>1</td>\n",
       "      <td>0</td>\n",
       "      <td>...</td>\n",
       "      <td>0</td>\n",
       "      <td>0</td>\n",
       "      <td>0</td>\n",
       "      <td>0</td>\n",
       "      <td>0</td>\n",
       "      <td>0</td>\n",
       "      <td>1</td>\n",
       "      <td>0</td>\n",
       "      <td>0</td>\n",
       "      <td>0</td>\n",
       "    </tr>\n",
       "    <tr>\n",
       "      <th>4</th>\n",
       "      <td>3600</td>\n",
       "      <td>2008.58</td>\n",
       "      <td>69.0</td>\n",
       "      <td>90000</td>\n",
       "      <td>0</td>\n",
       "      <td>0</td>\n",
       "      <td>0</td>\n",
       "      <td>0</td>\n",
       "      <td>1</td>\n",
       "      <td>0</td>\n",
       "      <td>...</td>\n",
       "      <td>0</td>\n",
       "      <td>0</td>\n",
       "      <td>0</td>\n",
       "      <td>0</td>\n",
       "      <td>0</td>\n",
       "      <td>0</td>\n",
       "      <td>0</td>\n",
       "      <td>0</td>\n",
       "      <td>0</td>\n",
       "      <td>0</td>\n",
       "    </tr>\n",
       "  </tbody>\n",
       "</table>\n",
       "<p>5 rows × 311 columns</p>\n",
       "</div>"
      ],
      "text/plain": [
       "   Price  RegistrationYear  Power  Kilometer  VehicleType_convertible  \\\n",
       "0    480           1993.00  100.0     150000                        0   \n",
       "1  18300           2011.42  190.0     125000                        0   \n",
       "2   9800           2004.67  163.0     125000                        0   \n",
       "3   1500           2001.50   75.0     150000                        0   \n",
       "4   3600           2008.58   69.0      90000                        0   \n",
       "\n",
       "   VehicleType_coupe  VehicleType_other  VehicleType_sedan  VehicleType_small  \\\n",
       "0                  0                  0                  0                  0   \n",
       "1                  1                  0                  0                  0   \n",
       "2                  0                  0                  0                  0   \n",
       "3                  0                  0                  0                  1   \n",
       "4                  0                  0                  0                  1   \n",
       "\n",
       "   VehicleType_suv  ...  Brand_smart  Brand_sonstige_autos  Brand_subaru  \\\n",
       "0                0  ...            0                     0             0   \n",
       "1                0  ...            0                     0             0   \n",
       "2                1  ...            0                     0             0   \n",
       "3                0  ...            0                     0             0   \n",
       "4                0  ...            0                     0             0   \n",
       "\n",
       "   Brand_suzuki  Brand_toyota  Brand_trabant  Brand_volkswagen  Brand_volvo  \\\n",
       "0             0             0              0                 1            0   \n",
       "1             0             0              0                 0            0   \n",
       "2             0             0              0                 0            0   \n",
       "3             0             0              0                 1            0   \n",
       "4             0             0              0                 0            0   \n",
       "\n",
       "   NotRepaired_unknown  NotRepaired_yes  \n",
       "0                    1                0  \n",
       "1                    0                1  \n",
       "2                    1                0  \n",
       "3                    0                0  \n",
       "4                    0                0  \n",
       "\n",
       "[5 rows x 311 columns]"
      ]
     },
     "execution_count": 30,
     "metadata": {},
     "output_type": "execute_result"
    }
   ],
   "source": [
    "df_ohe = df.copy()\n",
    "df_ohe = pd.get_dummies(df_ohe, drop_first=True)\n",
    "df_ohe.info()\n",
    "df_ohe.head()"
   ]
  },
  {
   "cell_type": "code",
   "execution_count": 31,
   "metadata": {
    "scrolled": false
   },
   "outputs": [
    {
     "data": {
      "text/html": [
       "<div>\n",
       "<style scoped>\n",
       "    .dataframe tbody tr th:only-of-type {\n",
       "        vertical-align: middle;\n",
       "    }\n",
       "\n",
       "    .dataframe tbody tr th {\n",
       "        vertical-align: top;\n",
       "    }\n",
       "\n",
       "    .dataframe thead th {\n",
       "        text-align: right;\n",
       "    }\n",
       "</style>\n",
       "<table border=\"1\" class=\"dataframe\">\n",
       "  <thead>\n",
       "    <tr style=\"text-align: right;\">\n",
       "      <th></th>\n",
       "      <th>RegistrationYear</th>\n",
       "      <th>Power</th>\n",
       "      <th>Kilometer</th>\n",
       "    </tr>\n",
       "  </thead>\n",
       "  <tbody>\n",
       "    <tr>\n",
       "      <th>0</th>\n",
       "      <td>1993.00</td>\n",
       "      <td>100.0</td>\n",
       "      <td>150000</td>\n",
       "    </tr>\n",
       "    <tr>\n",
       "      <th>1</th>\n",
       "      <td>2011.42</td>\n",
       "      <td>190.0</td>\n",
       "      <td>125000</td>\n",
       "    </tr>\n",
       "    <tr>\n",
       "      <th>2</th>\n",
       "      <td>2004.67</td>\n",
       "      <td>163.0</td>\n",
       "      <td>125000</td>\n",
       "    </tr>\n",
       "    <tr>\n",
       "      <th>3</th>\n",
       "      <td>2001.50</td>\n",
       "      <td>75.0</td>\n",
       "      <td>150000</td>\n",
       "    </tr>\n",
       "    <tr>\n",
       "      <th>4</th>\n",
       "      <td>2008.58</td>\n",
       "      <td>69.0</td>\n",
       "      <td>90000</td>\n",
       "    </tr>\n",
       "    <tr>\n",
       "      <th>...</th>\n",
       "      <td>...</td>\n",
       "      <td>...</td>\n",
       "      <td>...</td>\n",
       "    </tr>\n",
       "    <tr>\n",
       "      <th>354361</th>\n",
       "      <td>2017.00</td>\n",
       "      <td>150.0</td>\n",
       "      <td>150000</td>\n",
       "    </tr>\n",
       "    <tr>\n",
       "      <th>354362</th>\n",
       "      <td>2004.42</td>\n",
       "      <td>225.0</td>\n",
       "      <td>150000</td>\n",
       "    </tr>\n",
       "    <tr>\n",
       "      <th>354366</th>\n",
       "      <td>2000.25</td>\n",
       "      <td>101.0</td>\n",
       "      <td>125000</td>\n",
       "    </tr>\n",
       "    <tr>\n",
       "      <th>354367</th>\n",
       "      <td>1996.25</td>\n",
       "      <td>102.0</td>\n",
       "      <td>150000</td>\n",
       "    </tr>\n",
       "    <tr>\n",
       "      <th>354368</th>\n",
       "      <td>2002.50</td>\n",
       "      <td>100.0</td>\n",
       "      <td>150000</td>\n",
       "    </tr>\n",
       "  </tbody>\n",
       "</table>\n",
       "<p>313711 rows × 3 columns</p>\n",
       "</div>"
      ],
      "text/plain": [
       "        RegistrationYear  Power  Kilometer\n",
       "0                1993.00  100.0     150000\n",
       "1                2011.42  190.0     125000\n",
       "2                2004.67  163.0     125000\n",
       "3                2001.50   75.0     150000\n",
       "4                2008.58   69.0      90000\n",
       "...                  ...    ...        ...\n",
       "354361           2017.00  150.0     150000\n",
       "354362           2004.42  225.0     150000\n",
       "354366           2000.25  101.0     125000\n",
       "354367           1996.25  102.0     150000\n",
       "354368           2002.50  100.0     150000\n",
       "\n",
       "[313711 rows x 3 columns]"
      ]
     },
     "execution_count": 31,
     "metadata": {},
     "output_type": "execute_result"
    }
   ],
   "source": [
    "df_ohe[numeric_list]"
   ]
  },
  {
   "cell_type": "code",
   "execution_count": 32,
   "metadata": {},
   "outputs": [
    {
     "data": {
      "text/html": [
       "<div>\n",
       "<style scoped>\n",
       "    .dataframe tbody tr th:only-of-type {\n",
       "        vertical-align: middle;\n",
       "    }\n",
       "\n",
       "    .dataframe tbody tr th {\n",
       "        vertical-align: top;\n",
       "    }\n",
       "\n",
       "    .dataframe thead th {\n",
       "        text-align: right;\n",
       "    }\n",
       "</style>\n",
       "<table border=\"1\" class=\"dataframe\">\n",
       "  <thead>\n",
       "    <tr style=\"text-align: right;\">\n",
       "      <th></th>\n",
       "      <th>Price</th>\n",
       "      <th>RegistrationYear</th>\n",
       "      <th>Power</th>\n",
       "      <th>Kilometer</th>\n",
       "      <th>VehicleType_convertible</th>\n",
       "      <th>VehicleType_coupe</th>\n",
       "      <th>VehicleType_other</th>\n",
       "      <th>VehicleType_sedan</th>\n",
       "      <th>VehicleType_small</th>\n",
       "      <th>VehicleType_suv</th>\n",
       "      <th>...</th>\n",
       "      <th>Brand_smart</th>\n",
       "      <th>Brand_sonstige_autos</th>\n",
       "      <th>Brand_subaru</th>\n",
       "      <th>Brand_suzuki</th>\n",
       "      <th>Brand_toyota</th>\n",
       "      <th>Brand_trabant</th>\n",
       "      <th>Brand_volkswagen</th>\n",
       "      <th>Brand_volvo</th>\n",
       "      <th>NotRepaired_unknown</th>\n",
       "      <th>NotRepaired_yes</th>\n",
       "    </tr>\n",
       "  </thead>\n",
       "  <tbody>\n",
       "    <tr>\n",
       "      <th>0</th>\n",
       "      <td>480</td>\n",
       "      <td>-1.446818</td>\n",
       "      <td>-0.115498</td>\n",
       "      <td>0.577303</td>\n",
       "      <td>0</td>\n",
       "      <td>0</td>\n",
       "      <td>0</td>\n",
       "      <td>0</td>\n",
       "      <td>0</td>\n",
       "      <td>0</td>\n",
       "      <td>...</td>\n",
       "      <td>0</td>\n",
       "      <td>0</td>\n",
       "      <td>0</td>\n",
       "      <td>0</td>\n",
       "      <td>0</td>\n",
       "      <td>0</td>\n",
       "      <td>1</td>\n",
       "      <td>0</td>\n",
       "      <td>1</td>\n",
       "      <td>0</td>\n",
       "    </tr>\n",
       "    <tr>\n",
       "      <th>1</th>\n",
       "      <td>18300</td>\n",
       "      <td>1.053581</td>\n",
       "      <td>0.354727</td>\n",
       "      <td>-0.096378</td>\n",
       "      <td>0</td>\n",
       "      <td>1</td>\n",
       "      <td>0</td>\n",
       "      <td>0</td>\n",
       "      <td>0</td>\n",
       "      <td>0</td>\n",
       "      <td>...</td>\n",
       "      <td>0</td>\n",
       "      <td>0</td>\n",
       "      <td>0</td>\n",
       "      <td>0</td>\n",
       "      <td>0</td>\n",
       "      <td>0</td>\n",
       "      <td>0</td>\n",
       "      <td>0</td>\n",
       "      <td>0</td>\n",
       "      <td>1</td>\n",
       "    </tr>\n",
       "    <tr>\n",
       "      <th>2</th>\n",
       "      <td>9800</td>\n",
       "      <td>0.137311</td>\n",
       "      <td>0.213659</td>\n",
       "      <td>-0.096378</td>\n",
       "      <td>0</td>\n",
       "      <td>0</td>\n",
       "      <td>0</td>\n",
       "      <td>0</td>\n",
       "      <td>0</td>\n",
       "      <td>1</td>\n",
       "      <td>...</td>\n",
       "      <td>0</td>\n",
       "      <td>0</td>\n",
       "      <td>0</td>\n",
       "      <td>0</td>\n",
       "      <td>0</td>\n",
       "      <td>0</td>\n",
       "      <td>0</td>\n",
       "      <td>0</td>\n",
       "      <td>1</td>\n",
       "      <td>0</td>\n",
       "    </tr>\n",
       "    <tr>\n",
       "      <th>3</th>\n",
       "      <td>1500</td>\n",
       "      <td>-0.292997</td>\n",
       "      <td>-0.246116</td>\n",
       "      <td>0.577303</td>\n",
       "      <td>0</td>\n",
       "      <td>0</td>\n",
       "      <td>0</td>\n",
       "      <td>0</td>\n",
       "      <td>1</td>\n",
       "      <td>0</td>\n",
       "      <td>...</td>\n",
       "      <td>0</td>\n",
       "      <td>0</td>\n",
       "      <td>0</td>\n",
       "      <td>0</td>\n",
       "      <td>0</td>\n",
       "      <td>0</td>\n",
       "      <td>1</td>\n",
       "      <td>0</td>\n",
       "      <td>0</td>\n",
       "      <td>0</td>\n",
       "    </tr>\n",
       "    <tr>\n",
       "      <th>4</th>\n",
       "      <td>3600</td>\n",
       "      <td>0.668069</td>\n",
       "      <td>-0.277464</td>\n",
       "      <td>-1.039531</td>\n",
       "      <td>0</td>\n",
       "      <td>0</td>\n",
       "      <td>0</td>\n",
       "      <td>0</td>\n",
       "      <td>1</td>\n",
       "      <td>0</td>\n",
       "      <td>...</td>\n",
       "      <td>0</td>\n",
       "      <td>0</td>\n",
       "      <td>0</td>\n",
       "      <td>0</td>\n",
       "      <td>0</td>\n",
       "      <td>0</td>\n",
       "      <td>0</td>\n",
       "      <td>0</td>\n",
       "      <td>0</td>\n",
       "      <td>0</td>\n",
       "    </tr>\n",
       "  </tbody>\n",
       "</table>\n",
       "<p>5 rows × 311 columns</p>\n",
       "</div>"
      ],
      "text/plain": [
       "   Price  RegistrationYear     Power  Kilometer  VehicleType_convertible  \\\n",
       "0    480         -1.446818 -0.115498   0.577303                        0   \n",
       "1  18300          1.053581  0.354727  -0.096378                        0   \n",
       "2   9800          0.137311  0.213659  -0.096378                        0   \n",
       "3   1500         -0.292997 -0.246116   0.577303                        0   \n",
       "4   3600          0.668069 -0.277464  -1.039531                        0   \n",
       "\n",
       "   VehicleType_coupe  VehicleType_other  VehicleType_sedan  VehicleType_small  \\\n",
       "0                  0                  0                  0                  0   \n",
       "1                  1                  0                  0                  0   \n",
       "2                  0                  0                  0                  0   \n",
       "3                  0                  0                  0                  1   \n",
       "4                  0                  0                  0                  1   \n",
       "\n",
       "   VehicleType_suv  ...  Brand_smart  Brand_sonstige_autos  Brand_subaru  \\\n",
       "0                0  ...            0                     0             0   \n",
       "1                0  ...            0                     0             0   \n",
       "2                1  ...            0                     0             0   \n",
       "3                0  ...            0                     0             0   \n",
       "4                0  ...            0                     0             0   \n",
       "\n",
       "   Brand_suzuki  Brand_toyota  Brand_trabant  Brand_volkswagen  Brand_volvo  \\\n",
       "0             0             0              0                 1            0   \n",
       "1             0             0              0                 0            0   \n",
       "2             0             0              0                 0            0   \n",
       "3             0             0              0                 1            0   \n",
       "4             0             0              0                 0            0   \n",
       "\n",
       "   NotRepaired_unknown  NotRepaired_yes  \n",
       "0                    1                0  \n",
       "1                    0                1  \n",
       "2                    1                0  \n",
       "3                    0                0  \n",
       "4                    0                0  \n",
       "\n",
       "[5 rows x 311 columns]"
      ]
     },
     "execution_count": 32,
     "metadata": {},
     "output_type": "execute_result"
    }
   ],
   "source": [
    "#масштабируем кол-ные признаки\n",
    "scaler = StandardScaler()\n",
    "scaler.fit(df_ohe[numeric_list]) \n",
    "df_ohe[numeric_list] = scaler.transform(df_ohe[numeric_list])\n",
    "df_ohe.head()"
   ]
  },
  {
   "cell_type": "code",
   "execution_count": 33,
   "metadata": {},
   "outputs": [
    {
     "data": {
      "text/html": [
       "<div>\n",
       "<style scoped>\n",
       "    .dataframe tbody tr th:only-of-type {\n",
       "        vertical-align: middle;\n",
       "    }\n",
       "\n",
       "    .dataframe tbody tr th {\n",
       "        vertical-align: top;\n",
       "    }\n",
       "\n",
       "    .dataframe thead th {\n",
       "        text-align: right;\n",
       "    }\n",
       "</style>\n",
       "<table border=\"1\" class=\"dataframe\">\n",
       "  <thead>\n",
       "    <tr style=\"text-align: right;\">\n",
       "      <th></th>\n",
       "      <th>Price</th>\n",
       "      <th>RegistrationYear</th>\n",
       "      <th>Power</th>\n",
       "      <th>Kilometer</th>\n",
       "      <th>VehicleType_convertible</th>\n",
       "      <th>VehicleType_coupe</th>\n",
       "      <th>VehicleType_other</th>\n",
       "      <th>VehicleType_sedan</th>\n",
       "      <th>VehicleType_small</th>\n",
       "      <th>VehicleType_suv</th>\n",
       "      <th>...</th>\n",
       "      <th>Brand_smart</th>\n",
       "      <th>Brand_sonstige_autos</th>\n",
       "      <th>Brand_subaru</th>\n",
       "      <th>Brand_suzuki</th>\n",
       "      <th>Brand_toyota</th>\n",
       "      <th>Brand_trabant</th>\n",
       "      <th>Brand_volkswagen</th>\n",
       "      <th>Brand_volvo</th>\n",
       "      <th>NotRepaired_unknown</th>\n",
       "      <th>NotRepaired_yes</th>\n",
       "    </tr>\n",
       "  </thead>\n",
       "  <tbody>\n",
       "    <tr>\n",
       "      <th>0</th>\n",
       "      <td>480</td>\n",
       "      <td>-1.446818</td>\n",
       "      <td>-0.115498</td>\n",
       "      <td>0.577303</td>\n",
       "      <td>0</td>\n",
       "      <td>0</td>\n",
       "      <td>0</td>\n",
       "      <td>0</td>\n",
       "      <td>0</td>\n",
       "      <td>0</td>\n",
       "      <td>...</td>\n",
       "      <td>0</td>\n",
       "      <td>0</td>\n",
       "      <td>0</td>\n",
       "      <td>0</td>\n",
       "      <td>0</td>\n",
       "      <td>0</td>\n",
       "      <td>1</td>\n",
       "      <td>0</td>\n",
       "      <td>1</td>\n",
       "      <td>0</td>\n",
       "    </tr>\n",
       "    <tr>\n",
       "      <th>1</th>\n",
       "      <td>18300</td>\n",
       "      <td>1.053581</td>\n",
       "      <td>0.354727</td>\n",
       "      <td>-0.096378</td>\n",
       "      <td>0</td>\n",
       "      <td>1</td>\n",
       "      <td>0</td>\n",
       "      <td>0</td>\n",
       "      <td>0</td>\n",
       "      <td>0</td>\n",
       "      <td>...</td>\n",
       "      <td>0</td>\n",
       "      <td>0</td>\n",
       "      <td>0</td>\n",
       "      <td>0</td>\n",
       "      <td>0</td>\n",
       "      <td>0</td>\n",
       "      <td>0</td>\n",
       "      <td>0</td>\n",
       "      <td>0</td>\n",
       "      <td>1</td>\n",
       "    </tr>\n",
       "    <tr>\n",
       "      <th>2</th>\n",
       "      <td>9800</td>\n",
       "      <td>0.137311</td>\n",
       "      <td>0.213659</td>\n",
       "      <td>-0.096378</td>\n",
       "      <td>0</td>\n",
       "      <td>0</td>\n",
       "      <td>0</td>\n",
       "      <td>0</td>\n",
       "      <td>0</td>\n",
       "      <td>1</td>\n",
       "      <td>...</td>\n",
       "      <td>0</td>\n",
       "      <td>0</td>\n",
       "      <td>0</td>\n",
       "      <td>0</td>\n",
       "      <td>0</td>\n",
       "      <td>0</td>\n",
       "      <td>0</td>\n",
       "      <td>0</td>\n",
       "      <td>1</td>\n",
       "      <td>0</td>\n",
       "    </tr>\n",
       "    <tr>\n",
       "      <th>3</th>\n",
       "      <td>1500</td>\n",
       "      <td>-0.292997</td>\n",
       "      <td>-0.246116</td>\n",
       "      <td>0.577303</td>\n",
       "      <td>0</td>\n",
       "      <td>0</td>\n",
       "      <td>0</td>\n",
       "      <td>0</td>\n",
       "      <td>1</td>\n",
       "      <td>0</td>\n",
       "      <td>...</td>\n",
       "      <td>0</td>\n",
       "      <td>0</td>\n",
       "      <td>0</td>\n",
       "      <td>0</td>\n",
       "      <td>0</td>\n",
       "      <td>0</td>\n",
       "      <td>1</td>\n",
       "      <td>0</td>\n",
       "      <td>0</td>\n",
       "      <td>0</td>\n",
       "    </tr>\n",
       "    <tr>\n",
       "      <th>4</th>\n",
       "      <td>3600</td>\n",
       "      <td>0.668069</td>\n",
       "      <td>-0.277464</td>\n",
       "      <td>-1.039531</td>\n",
       "      <td>0</td>\n",
       "      <td>0</td>\n",
       "      <td>0</td>\n",
       "      <td>0</td>\n",
       "      <td>1</td>\n",
       "      <td>0</td>\n",
       "      <td>...</td>\n",
       "      <td>0</td>\n",
       "      <td>0</td>\n",
       "      <td>0</td>\n",
       "      <td>0</td>\n",
       "      <td>0</td>\n",
       "      <td>0</td>\n",
       "      <td>0</td>\n",
       "      <td>0</td>\n",
       "      <td>0</td>\n",
       "      <td>0</td>\n",
       "    </tr>\n",
       "    <tr>\n",
       "      <th>...</th>\n",
       "      <td>...</td>\n",
       "      <td>...</td>\n",
       "      <td>...</td>\n",
       "      <td>...</td>\n",
       "      <td>...</td>\n",
       "      <td>...</td>\n",
       "      <td>...</td>\n",
       "      <td>...</td>\n",
       "      <td>...</td>\n",
       "      <td>...</td>\n",
       "      <td>...</td>\n",
       "      <td>...</td>\n",
       "      <td>...</td>\n",
       "      <td>...</td>\n",
       "      <td>...</td>\n",
       "      <td>...</td>\n",
       "      <td>...</td>\n",
       "      <td>...</td>\n",
       "      <td>...</td>\n",
       "      <td>...</td>\n",
       "      <td>...</td>\n",
       "    </tr>\n",
       "    <tr>\n",
       "      <th>354361</th>\n",
       "      <td>5250</td>\n",
       "      <td>1.811031</td>\n",
       "      <td>0.145738</td>\n",
       "      <td>0.577303</td>\n",
       "      <td>0</td>\n",
       "      <td>0</td>\n",
       "      <td>0</td>\n",
       "      <td>0</td>\n",
       "      <td>0</td>\n",
       "      <td>0</td>\n",
       "      <td>...</td>\n",
       "      <td>0</td>\n",
       "      <td>0</td>\n",
       "      <td>0</td>\n",
       "      <td>0</td>\n",
       "      <td>0</td>\n",
       "      <td>0</td>\n",
       "      <td>0</td>\n",
       "      <td>0</td>\n",
       "      <td>0</td>\n",
       "      <td>0</td>\n",
       "    </tr>\n",
       "    <tr>\n",
       "      <th>354362</th>\n",
       "      <td>3200</td>\n",
       "      <td>0.103375</td>\n",
       "      <td>0.537592</td>\n",
       "      <td>0.577303</td>\n",
       "      <td>0</td>\n",
       "      <td>0</td>\n",
       "      <td>0</td>\n",
       "      <td>1</td>\n",
       "      <td>0</td>\n",
       "      <td>0</td>\n",
       "      <td>...</td>\n",
       "      <td>0</td>\n",
       "      <td>0</td>\n",
       "      <td>0</td>\n",
       "      <td>0</td>\n",
       "      <td>0</td>\n",
       "      <td>0</td>\n",
       "      <td>0</td>\n",
       "      <td>0</td>\n",
       "      <td>0</td>\n",
       "      <td>1</td>\n",
       "    </tr>\n",
       "    <tr>\n",
       "      <th>354366</th>\n",
       "      <td>1199</td>\n",
       "      <td>-0.462676</td>\n",
       "      <td>-0.110273</td>\n",
       "      <td>-0.096378</td>\n",
       "      <td>1</td>\n",
       "      <td>0</td>\n",
       "      <td>0</td>\n",
       "      <td>0</td>\n",
       "      <td>0</td>\n",
       "      <td>0</td>\n",
       "      <td>...</td>\n",
       "      <td>1</td>\n",
       "      <td>0</td>\n",
       "      <td>0</td>\n",
       "      <td>0</td>\n",
       "      <td>0</td>\n",
       "      <td>0</td>\n",
       "      <td>0</td>\n",
       "      <td>0</td>\n",
       "      <td>0</td>\n",
       "      <td>0</td>\n",
       "    </tr>\n",
       "    <tr>\n",
       "      <th>354367</th>\n",
       "      <td>9200</td>\n",
       "      <td>-1.005651</td>\n",
       "      <td>-0.105048</td>\n",
       "      <td>0.577303</td>\n",
       "      <td>0</td>\n",
       "      <td>0</td>\n",
       "      <td>0</td>\n",
       "      <td>0</td>\n",
       "      <td>0</td>\n",
       "      <td>0</td>\n",
       "      <td>...</td>\n",
       "      <td>0</td>\n",
       "      <td>0</td>\n",
       "      <td>0</td>\n",
       "      <td>0</td>\n",
       "      <td>0</td>\n",
       "      <td>0</td>\n",
       "      <td>1</td>\n",
       "      <td>0</td>\n",
       "      <td>0</td>\n",
       "      <td>0</td>\n",
       "    </tr>\n",
       "    <tr>\n",
       "      <th>354368</th>\n",
       "      <td>3400</td>\n",
       "      <td>-0.157253</td>\n",
       "      <td>-0.115498</td>\n",
       "      <td>0.577303</td>\n",
       "      <td>0</td>\n",
       "      <td>0</td>\n",
       "      <td>0</td>\n",
       "      <td>0</td>\n",
       "      <td>0</td>\n",
       "      <td>0</td>\n",
       "      <td>...</td>\n",
       "      <td>0</td>\n",
       "      <td>0</td>\n",
       "      <td>0</td>\n",
       "      <td>0</td>\n",
       "      <td>0</td>\n",
       "      <td>0</td>\n",
       "      <td>1</td>\n",
       "      <td>0</td>\n",
       "      <td>1</td>\n",
       "      <td>0</td>\n",
       "    </tr>\n",
       "  </tbody>\n",
       "</table>\n",
       "<p>313711 rows × 311 columns</p>\n",
       "</div>"
      ],
      "text/plain": [
       "        Price  RegistrationYear     Power  Kilometer  VehicleType_convertible  \\\n",
       "0         480         -1.446818 -0.115498   0.577303                        0   \n",
       "1       18300          1.053581  0.354727  -0.096378                        0   \n",
       "2        9800          0.137311  0.213659  -0.096378                        0   \n",
       "3        1500         -0.292997 -0.246116   0.577303                        0   \n",
       "4        3600          0.668069 -0.277464  -1.039531                        0   \n",
       "...       ...               ...       ...        ...                      ...   \n",
       "354361   5250          1.811031  0.145738   0.577303                        0   \n",
       "354362   3200          0.103375  0.537592   0.577303                        0   \n",
       "354366   1199         -0.462676 -0.110273  -0.096378                        1   \n",
       "354367   9200         -1.005651 -0.105048   0.577303                        0   \n",
       "354368   3400         -0.157253 -0.115498   0.577303                        0   \n",
       "\n",
       "        VehicleType_coupe  VehicleType_other  VehicleType_sedan  \\\n",
       "0                       0                  0                  0   \n",
       "1                       1                  0                  0   \n",
       "2                       0                  0                  0   \n",
       "3                       0                  0                  0   \n",
       "4                       0                  0                  0   \n",
       "...                   ...                ...                ...   \n",
       "354361                  0                  0                  0   \n",
       "354362                  0                  0                  1   \n",
       "354366                  0                  0                  0   \n",
       "354367                  0                  0                  0   \n",
       "354368                  0                  0                  0   \n",
       "\n",
       "        VehicleType_small  VehicleType_suv  ...  Brand_smart  \\\n",
       "0                       0                0  ...            0   \n",
       "1                       0                0  ...            0   \n",
       "2                       0                1  ...            0   \n",
       "3                       1                0  ...            0   \n",
       "4                       1                0  ...            0   \n",
       "...                   ...              ...  ...          ...   \n",
       "354361                  0                0  ...            0   \n",
       "354362                  0                0  ...            0   \n",
       "354366                  0                0  ...            1   \n",
       "354367                  0                0  ...            0   \n",
       "354368                  0                0  ...            0   \n",
       "\n",
       "        Brand_sonstige_autos  Brand_subaru  Brand_suzuki  Brand_toyota  \\\n",
       "0                          0             0             0             0   \n",
       "1                          0             0             0             0   \n",
       "2                          0             0             0             0   \n",
       "3                          0             0             0             0   \n",
       "4                          0             0             0             0   \n",
       "...                      ...           ...           ...           ...   \n",
       "354361                     0             0             0             0   \n",
       "354362                     0             0             0             0   \n",
       "354366                     0             0             0             0   \n",
       "354367                     0             0             0             0   \n",
       "354368                     0             0             0             0   \n",
       "\n",
       "        Brand_trabant  Brand_volkswagen  Brand_volvo  NotRepaired_unknown  \\\n",
       "0                   0                 1            0                    1   \n",
       "1                   0                 0            0                    0   \n",
       "2                   0                 0            0                    1   \n",
       "3                   0                 1            0                    0   \n",
       "4                   0                 0            0                    0   \n",
       "...               ...               ...          ...                  ...   \n",
       "354361              0                 0            0                    0   \n",
       "354362              0                 0            0                    0   \n",
       "354366              0                 0            0                    0   \n",
       "354367              0                 1            0                    0   \n",
       "354368              0                 1            0                    1   \n",
       "\n",
       "        NotRepaired_yes  \n",
       "0                     0  \n",
       "1                     1  \n",
       "2                     0  \n",
       "3                     0  \n",
       "4                     0  \n",
       "...                 ...  \n",
       "354361                0  \n",
       "354362                1  \n",
       "354366                0  \n",
       "354367                0  \n",
       "354368                0  \n",
       "\n",
       "[313711 rows x 311 columns]"
      ]
     },
     "execution_count": 33,
     "metadata": {},
     "output_type": "execute_result"
    }
   ],
   "source": [
    "df_ohe"
   ]
  },
  {
   "cell_type": "code",
   "execution_count": 34,
   "metadata": {},
   "outputs": [
    {
     "name": "stdout",
     "output_type": "stream",
     "text": [
      "X_train: (235283, 310)\n",
      "X_test: (78428, 310)\n"
     ]
    }
   ],
   "source": [
    "X = df_ohe.drop(columns=['Price'])\n",
    "y = df_ohe['Price']\n",
    "X_train, X_test, y_train, y_test = train_test_split(X, y, test_size=0.25, random_state=42)\n",
    "print(\"X_train:\", X_train.shape)\n",
    "print(\"X_test:\", X_test.shape)"
   ]
  },
  {
   "cell_type": "markdown",
   "metadata": {},
   "source": [
    "### Linear Regression"
   ]
  },
  {
   "cell_type": "code",
   "execution_count": 35,
   "metadata": {},
   "outputs": [
    {
     "name": "stdout",
     "output_type": "stream",
     "text": [
      "RMSE of Linear Regression: 2840.0591233205782\n",
      "CPU times: user 24.2 s, sys: 19.1 s, total: 43.3 s\n",
      "Wall time: 43.3 s\n"
     ]
    }
   ],
   "source": [
    "%%time\n",
    "lr = LinearRegression()\n",
    "lr.fit(X_train, y_train)\n",
    "predicted = lr.predict(X_test)\n",
    "print(\"RMSE of Linear Regression:\", mean_squared_error(y_test, predicted, squared=False))"
   ]
  },
  {
   "cell_type": "markdown",
   "metadata": {},
   "source": [
    "### Random forest"
   ]
  },
  {
   "cell_type": "code",
   "execution_count": 36,
   "metadata": {},
   "outputs": [
    {
     "name": "stdout",
     "output_type": "stream",
     "text": [
      "<class 'pandas.core.frame.DataFrame'>\n",
      "Int64Index: 313711 entries, 0 to 354368\n",
      "Data columns (total 10 columns):\n",
      " #   Column            Non-Null Count   Dtype  \n",
      "---  ------            --------------   -----  \n",
      " 0   Price             313711 non-null  int64  \n",
      " 1   VehicleType       313711 non-null  float64\n",
      " 2   RegistrationYear  313711 non-null  float64\n",
      " 3   Gearbox           313711 non-null  float64\n",
      " 4   Power             313711 non-null  float64\n",
      " 5   Model             313711 non-null  float64\n",
      " 6   Kilometer         313711 non-null  int64  \n",
      " 7   FuelType          313711 non-null  float64\n",
      " 8   Brand             313711 non-null  float64\n",
      " 9   NotRepaired       313711 non-null  float64\n",
      "dtypes: float64(8), int64(2)\n",
      "memory usage: 26.3 MB\n"
     ]
    },
    {
     "data": {
      "text/html": [
       "<div>\n",
       "<style scoped>\n",
       "    .dataframe tbody tr th:only-of-type {\n",
       "        vertical-align: middle;\n",
       "    }\n",
       "\n",
       "    .dataframe tbody tr th {\n",
       "        vertical-align: top;\n",
       "    }\n",
       "\n",
       "    .dataframe thead th {\n",
       "        text-align: right;\n",
       "    }\n",
       "</style>\n",
       "<table border=\"1\" class=\"dataframe\">\n",
       "  <thead>\n",
       "    <tr style=\"text-align: right;\">\n",
       "      <th></th>\n",
       "      <th>Price</th>\n",
       "      <th>VehicleType</th>\n",
       "      <th>RegistrationYear</th>\n",
       "      <th>Gearbox</th>\n",
       "      <th>Power</th>\n",
       "      <th>Model</th>\n",
       "      <th>Kilometer</th>\n",
       "      <th>FuelType</th>\n",
       "      <th>Brand</th>\n",
       "      <th>NotRepaired</th>\n",
       "    </tr>\n",
       "  </thead>\n",
       "  <tbody>\n",
       "    <tr>\n",
       "      <th>0</th>\n",
       "      <td>480</td>\n",
       "      <td>7.0</td>\n",
       "      <td>1993.00</td>\n",
       "      <td>1.0</td>\n",
       "      <td>100.0</td>\n",
       "      <td>116.0</td>\n",
       "      <td>150000</td>\n",
       "      <td>6.0</td>\n",
       "      <td>38.0</td>\n",
       "      <td>1.0</td>\n",
       "    </tr>\n",
       "    <tr>\n",
       "      <th>1</th>\n",
       "      <td>18300</td>\n",
       "      <td>2.0</td>\n",
       "      <td>2011.42</td>\n",
       "      <td>1.0</td>\n",
       "      <td>190.0</td>\n",
       "      <td>227.0</td>\n",
       "      <td>125000</td>\n",
       "      <td>2.0</td>\n",
       "      <td>1.0</td>\n",
       "      <td>2.0</td>\n",
       "    </tr>\n",
       "    <tr>\n",
       "      <th>2</th>\n",
       "      <td>9800</td>\n",
       "      <td>6.0</td>\n",
       "      <td>2004.67</td>\n",
       "      <td>0.0</td>\n",
       "      <td>163.0</td>\n",
       "      <td>117.0</td>\n",
       "      <td>125000</td>\n",
       "      <td>2.0</td>\n",
       "      <td>14.0</td>\n",
       "      <td>1.0</td>\n",
       "    </tr>\n",
       "    <tr>\n",
       "      <th>3</th>\n",
       "      <td>1500</td>\n",
       "      <td>5.0</td>\n",
       "      <td>2001.50</td>\n",
       "      <td>1.0</td>\n",
       "      <td>75.0</td>\n",
       "      <td>116.0</td>\n",
       "      <td>150000</td>\n",
       "      <td>6.0</td>\n",
       "      <td>38.0</td>\n",
       "      <td>0.0</td>\n",
       "    </tr>\n",
       "    <tr>\n",
       "      <th>4</th>\n",
       "      <td>3600</td>\n",
       "      <td>5.0</td>\n",
       "      <td>2008.58</td>\n",
       "      <td>1.0</td>\n",
       "      <td>69.0</td>\n",
       "      <td>101.0</td>\n",
       "      <td>90000</td>\n",
       "      <td>2.0</td>\n",
       "      <td>31.0</td>\n",
       "      <td>0.0</td>\n",
       "    </tr>\n",
       "  </tbody>\n",
       "</table>\n",
       "</div>"
      ],
      "text/plain": [
       "   Price  VehicleType  RegistrationYear  Gearbox  Power  Model  Kilometer  \\\n",
       "0    480          7.0           1993.00      1.0  100.0  116.0     150000   \n",
       "1  18300          2.0           2011.42      1.0  190.0  227.0     125000   \n",
       "2   9800          6.0           2004.67      0.0  163.0  117.0     125000   \n",
       "3   1500          5.0           2001.50      1.0   75.0  116.0     150000   \n",
       "4   3600          5.0           2008.58      1.0   69.0  101.0      90000   \n",
       "\n",
       "   FuelType  Brand  NotRepaired  \n",
       "0       6.0   38.0          1.0  \n",
       "1       2.0    1.0          2.0  \n",
       "2       2.0   14.0          1.0  \n",
       "3       6.0   38.0          0.0  \n",
       "4       2.0   31.0          0.0  "
      ]
     },
     "execution_count": 36,
     "metadata": {},
     "output_type": "execute_result"
    }
   ],
   "source": [
    "df_oe = df.copy()\n",
    "df_oe[category_list] = OrdinalEncoder().fit_transform(df_oe[category_list])\n",
    "df_oe.info()\n",
    "df_oe.head()"
   ]
  },
  {
   "cell_type": "code",
   "execution_count": 37,
   "metadata": {},
   "outputs": [
    {
     "data": {
      "text/html": [
       "<div>\n",
       "<style scoped>\n",
       "    .dataframe tbody tr th:only-of-type {\n",
       "        vertical-align: middle;\n",
       "    }\n",
       "\n",
       "    .dataframe tbody tr th {\n",
       "        vertical-align: top;\n",
       "    }\n",
       "\n",
       "    .dataframe thead th {\n",
       "        text-align: right;\n",
       "    }\n",
       "</style>\n",
       "<table border=\"1\" class=\"dataframe\">\n",
       "  <thead>\n",
       "    <tr style=\"text-align: right;\">\n",
       "      <th></th>\n",
       "      <th>Price</th>\n",
       "      <th>VehicleType</th>\n",
       "      <th>RegistrationYear</th>\n",
       "      <th>Gearbox</th>\n",
       "      <th>Power</th>\n",
       "      <th>Model</th>\n",
       "      <th>Kilometer</th>\n",
       "      <th>FuelType</th>\n",
       "      <th>Brand</th>\n",
       "      <th>NotRepaired</th>\n",
       "    </tr>\n",
       "  </thead>\n",
       "  <tbody>\n",
       "    <tr>\n",
       "      <th>0</th>\n",
       "      <td>480</td>\n",
       "      <td>7.0</td>\n",
       "      <td>-1.446818</td>\n",
       "      <td>1.0</td>\n",
       "      <td>-0.115498</td>\n",
       "      <td>116.0</td>\n",
       "      <td>0.577303</td>\n",
       "      <td>6.0</td>\n",
       "      <td>38.0</td>\n",
       "      <td>1.0</td>\n",
       "    </tr>\n",
       "    <tr>\n",
       "      <th>1</th>\n",
       "      <td>18300</td>\n",
       "      <td>2.0</td>\n",
       "      <td>1.053581</td>\n",
       "      <td>1.0</td>\n",
       "      <td>0.354727</td>\n",
       "      <td>227.0</td>\n",
       "      <td>-0.096378</td>\n",
       "      <td>2.0</td>\n",
       "      <td>1.0</td>\n",
       "      <td>2.0</td>\n",
       "    </tr>\n",
       "    <tr>\n",
       "      <th>2</th>\n",
       "      <td>9800</td>\n",
       "      <td>6.0</td>\n",
       "      <td>0.137311</td>\n",
       "      <td>0.0</td>\n",
       "      <td>0.213659</td>\n",
       "      <td>117.0</td>\n",
       "      <td>-0.096378</td>\n",
       "      <td>2.0</td>\n",
       "      <td>14.0</td>\n",
       "      <td>1.0</td>\n",
       "    </tr>\n",
       "    <tr>\n",
       "      <th>3</th>\n",
       "      <td>1500</td>\n",
       "      <td>5.0</td>\n",
       "      <td>-0.292997</td>\n",
       "      <td>1.0</td>\n",
       "      <td>-0.246116</td>\n",
       "      <td>116.0</td>\n",
       "      <td>0.577303</td>\n",
       "      <td>6.0</td>\n",
       "      <td>38.0</td>\n",
       "      <td>0.0</td>\n",
       "    </tr>\n",
       "    <tr>\n",
       "      <th>4</th>\n",
       "      <td>3600</td>\n",
       "      <td>5.0</td>\n",
       "      <td>0.668069</td>\n",
       "      <td>1.0</td>\n",
       "      <td>-0.277464</td>\n",
       "      <td>101.0</td>\n",
       "      <td>-1.039531</td>\n",
       "      <td>2.0</td>\n",
       "      <td>31.0</td>\n",
       "      <td>0.0</td>\n",
       "    </tr>\n",
       "  </tbody>\n",
       "</table>\n",
       "</div>"
      ],
      "text/plain": [
       "   Price  VehicleType  RegistrationYear  Gearbox     Power  Model  Kilometer  \\\n",
       "0    480          7.0         -1.446818      1.0 -0.115498  116.0   0.577303   \n",
       "1  18300          2.0          1.053581      1.0  0.354727  227.0  -0.096378   \n",
       "2   9800          6.0          0.137311      0.0  0.213659  117.0  -0.096378   \n",
       "3   1500          5.0         -0.292997      1.0 -0.246116  116.0   0.577303   \n",
       "4   3600          5.0          0.668069      1.0 -0.277464  101.0  -1.039531   \n",
       "\n",
       "   FuelType  Brand  NotRepaired  \n",
       "0       6.0   38.0          1.0  \n",
       "1       2.0    1.0          2.0  \n",
       "2       2.0   14.0          1.0  \n",
       "3       6.0   38.0          0.0  \n",
       "4       2.0   31.0          0.0  "
      ]
     },
     "execution_count": 37,
     "metadata": {},
     "output_type": "execute_result"
    }
   ],
   "source": [
    "scaler = StandardScaler()\n",
    "scaler.fit(df_oe[numeric_list]) \n",
    "df_oe[numeric_list] = scaler.transform(df_oe[numeric_list])\n",
    "df_oe.head()"
   ]
  },
  {
   "cell_type": "code",
   "execution_count": 38,
   "metadata": {},
   "outputs": [
    {
     "name": "stdout",
     "output_type": "stream",
     "text": [
      "X_train: (235283, 9)\n",
      "X_test: (78428, 9)\n"
     ]
    }
   ],
   "source": [
    "X_oe = df_oe.drop(columns=['Price'])\n",
    "y_oe = df_oe['Price']\n",
    "X_train_oe, X_test_oe, y_train_oe, y_test_oe = train_test_split(X_oe, y_oe, test_size=0.25, random_state=42)\n",
    "print(\"X_train:\", X_train_oe.shape)\n",
    "print(\"X_test:\", X_test_oe.shape)"
   ]
  },
  {
   "cell_type": "code",
   "execution_count": 39,
   "metadata": {
    "scrolled": true
   },
   "outputs": [
    {
     "name": "stdout",
     "output_type": "stream",
     "text": [
      "Fitting 3 folds for each of 9 candidates, totalling 27 fits\n",
      "[CV] END ........................max_depth=0, n_estimators=1; total time=   0.0s\n",
      "[CV] END ........................max_depth=0, n_estimators=1; total time=   0.0s\n",
      "[CV] END ........................max_depth=0, n_estimators=1; total time=   0.0s\n",
      "[CV] END .......................max_depth=0, n_estimators=50; total time=   0.0s\n",
      "[CV] END .......................max_depth=0, n_estimators=50; total time=   0.0s\n",
      "[CV] END .......................max_depth=0, n_estimators=50; total time=   0.0s\n",
      "[CV] END ......................max_depth=0, n_estimators=100; total time=   0.0s\n"
     ]
    },
    {
     "name": "stderr",
     "output_type": "stream",
     "text": [
      "/opt/conda/lib/python3.9/site-packages/sklearn/model_selection/_validation.py:610: FitFailedWarning: Estimator fit failed. The score on this train-test partition for these parameters will be set to nan. Details: \n",
      "Traceback (most recent call last):\n",
      "  File \"/opt/conda/lib/python3.9/site-packages/sklearn/model_selection/_validation.py\", line 593, in _fit_and_score\n",
      "    estimator.fit(X_train, y_train, **fit_params)\n",
      "  File \"/opt/conda/lib/python3.9/site-packages/sklearn/ensemble/_forest.py\", line 387, in fit\n",
      "    trees = Parallel(n_jobs=self.n_jobs, verbose=self.verbose,\n",
      "  File \"/opt/conda/lib/python3.9/site-packages/joblib/parallel.py\", line 1043, in __call__\n",
      "    if self.dispatch_one_batch(iterator):\n",
      "  File \"/opt/conda/lib/python3.9/site-packages/joblib/parallel.py\", line 861, in dispatch_one_batch\n",
      "    self._dispatch(tasks)\n",
      "  File \"/opt/conda/lib/python3.9/site-packages/joblib/parallel.py\", line 779, in _dispatch\n",
      "    job = self._backend.apply_async(batch, callback=cb)\n",
      "  File \"/opt/conda/lib/python3.9/site-packages/joblib/_parallel_backends.py\", line 208, in apply_async\n",
      "    result = ImmediateResult(func)\n",
      "  File \"/opt/conda/lib/python3.9/site-packages/joblib/_parallel_backends.py\", line 572, in __init__\n",
      "    self.results = batch()\n",
      "  File \"/opt/conda/lib/python3.9/site-packages/joblib/parallel.py\", line 262, in __call__\n",
      "    return [func(*args, **kwargs)\n",
      "  File \"/opt/conda/lib/python3.9/site-packages/joblib/parallel.py\", line 262, in <listcomp>\n",
      "    return [func(*args, **kwargs)\n",
      "  File \"/opt/conda/lib/python3.9/site-packages/sklearn/utils/fixes.py\", line 222, in __call__\n",
      "    return self.function(*args, **kwargs)\n",
      "  File \"/opt/conda/lib/python3.9/site-packages/sklearn/ensemble/_forest.py\", line 169, in _parallel_build_trees\n",
      "    tree.fit(X, y, sample_weight=curr_sample_weight, check_input=False)\n",
      "  File \"/opt/conda/lib/python3.9/site-packages/sklearn/tree/_classes.py\", line 1247, in fit\n",
      "    super().fit(\n",
      "  File \"/opt/conda/lib/python3.9/site-packages/sklearn/tree/_classes.py\", line 286, in fit\n",
      "    raise ValueError(\"max_depth must be greater than zero. \")\n",
      "ValueError: max_depth must be greater than zero. \n",
      "\n",
      "  warnings.warn(\"Estimator fit failed. The score on this train-test\"\n",
      "/opt/conda/lib/python3.9/site-packages/sklearn/model_selection/_validation.py:610: FitFailedWarning: Estimator fit failed. The score on this train-test partition for these parameters will be set to nan. Details: \n",
      "Traceback (most recent call last):\n",
      "  File \"/opt/conda/lib/python3.9/site-packages/sklearn/model_selection/_validation.py\", line 593, in _fit_and_score\n",
      "    estimator.fit(X_train, y_train, **fit_params)\n",
      "  File \"/opt/conda/lib/python3.9/site-packages/sklearn/ensemble/_forest.py\", line 387, in fit\n",
      "    trees = Parallel(n_jobs=self.n_jobs, verbose=self.verbose,\n",
      "  File \"/opt/conda/lib/python3.9/site-packages/joblib/parallel.py\", line 1043, in __call__\n",
      "    if self.dispatch_one_batch(iterator):\n",
      "  File \"/opt/conda/lib/python3.9/site-packages/joblib/parallel.py\", line 861, in dispatch_one_batch\n",
      "    self._dispatch(tasks)\n",
      "  File \"/opt/conda/lib/python3.9/site-packages/joblib/parallel.py\", line 779, in _dispatch\n",
      "    job = self._backend.apply_async(batch, callback=cb)\n",
      "  File \"/opt/conda/lib/python3.9/site-packages/joblib/_parallel_backends.py\", line 208, in apply_async\n",
      "    result = ImmediateResult(func)\n",
      "  File \"/opt/conda/lib/python3.9/site-packages/joblib/_parallel_backends.py\", line 572, in __init__\n",
      "    self.results = batch()\n",
      "  File \"/opt/conda/lib/python3.9/site-packages/joblib/parallel.py\", line 262, in __call__\n",
      "    return [func(*args, **kwargs)\n",
      "  File \"/opt/conda/lib/python3.9/site-packages/joblib/parallel.py\", line 262, in <listcomp>\n",
      "    return [func(*args, **kwargs)\n",
      "  File \"/opt/conda/lib/python3.9/site-packages/sklearn/utils/fixes.py\", line 222, in __call__\n",
      "    return self.function(*args, **kwargs)\n",
      "  File \"/opt/conda/lib/python3.9/site-packages/sklearn/ensemble/_forest.py\", line 169, in _parallel_build_trees\n",
      "    tree.fit(X, y, sample_weight=curr_sample_weight, check_input=False)\n",
      "  File \"/opt/conda/lib/python3.9/site-packages/sklearn/tree/_classes.py\", line 1247, in fit\n",
      "    super().fit(\n",
      "  File \"/opt/conda/lib/python3.9/site-packages/sklearn/tree/_classes.py\", line 286, in fit\n",
      "    raise ValueError(\"max_depth must be greater than zero. \")\n",
      "ValueError: max_depth must be greater than zero. \n",
      "\n",
      "  warnings.warn(\"Estimator fit failed. The score on this train-test\"\n",
      "/opt/conda/lib/python3.9/site-packages/sklearn/model_selection/_validation.py:610: FitFailedWarning: Estimator fit failed. The score on this train-test partition for these parameters will be set to nan. Details: \n",
      "Traceback (most recent call last):\n",
      "  File \"/opt/conda/lib/python3.9/site-packages/sklearn/model_selection/_validation.py\", line 593, in _fit_and_score\n",
      "    estimator.fit(X_train, y_train, **fit_params)\n",
      "  File \"/opt/conda/lib/python3.9/site-packages/sklearn/ensemble/_forest.py\", line 387, in fit\n",
      "    trees = Parallel(n_jobs=self.n_jobs, verbose=self.verbose,\n",
      "  File \"/opt/conda/lib/python3.9/site-packages/joblib/parallel.py\", line 1043, in __call__\n",
      "    if self.dispatch_one_batch(iterator):\n",
      "  File \"/opt/conda/lib/python3.9/site-packages/joblib/parallel.py\", line 861, in dispatch_one_batch\n",
      "    self._dispatch(tasks)\n",
      "  File \"/opt/conda/lib/python3.9/site-packages/joblib/parallel.py\", line 779, in _dispatch\n",
      "    job = self._backend.apply_async(batch, callback=cb)\n",
      "  File \"/opt/conda/lib/python3.9/site-packages/joblib/_parallel_backends.py\", line 208, in apply_async\n",
      "    result = ImmediateResult(func)\n",
      "  File \"/opt/conda/lib/python3.9/site-packages/joblib/_parallel_backends.py\", line 572, in __init__\n",
      "    self.results = batch()\n",
      "  File \"/opt/conda/lib/python3.9/site-packages/joblib/parallel.py\", line 262, in __call__\n",
      "    return [func(*args, **kwargs)\n",
      "  File \"/opt/conda/lib/python3.9/site-packages/joblib/parallel.py\", line 262, in <listcomp>\n",
      "    return [func(*args, **kwargs)\n",
      "  File \"/opt/conda/lib/python3.9/site-packages/sklearn/utils/fixes.py\", line 222, in __call__\n",
      "    return self.function(*args, **kwargs)\n",
      "  File \"/opt/conda/lib/python3.9/site-packages/sklearn/ensemble/_forest.py\", line 169, in _parallel_build_trees\n",
      "    tree.fit(X, y, sample_weight=curr_sample_weight, check_input=False)\n",
      "  File \"/opt/conda/lib/python3.9/site-packages/sklearn/tree/_classes.py\", line 1247, in fit\n",
      "    super().fit(\n",
      "  File \"/opt/conda/lib/python3.9/site-packages/sklearn/tree/_classes.py\", line 286, in fit\n",
      "    raise ValueError(\"max_depth must be greater than zero. \")\n",
      "ValueError: max_depth must be greater than zero. \n",
      "\n",
      "  warnings.warn(\"Estimator fit failed. The score on this train-test\"\n",
      "/opt/conda/lib/python3.9/site-packages/sklearn/model_selection/_validation.py:610: FitFailedWarning: Estimator fit failed. The score on this train-test partition for these parameters will be set to nan. Details: \n",
      "Traceback (most recent call last):\n",
      "  File \"/opt/conda/lib/python3.9/site-packages/sklearn/model_selection/_validation.py\", line 593, in _fit_and_score\n",
      "    estimator.fit(X_train, y_train, **fit_params)\n",
      "  File \"/opt/conda/lib/python3.9/site-packages/sklearn/ensemble/_forest.py\", line 387, in fit\n",
      "    trees = Parallel(n_jobs=self.n_jobs, verbose=self.verbose,\n",
      "  File \"/opt/conda/lib/python3.9/site-packages/joblib/parallel.py\", line 1043, in __call__\n",
      "    if self.dispatch_one_batch(iterator):\n",
      "  File \"/opt/conda/lib/python3.9/site-packages/joblib/parallel.py\", line 861, in dispatch_one_batch\n",
      "    self._dispatch(tasks)\n",
      "  File \"/opt/conda/lib/python3.9/site-packages/joblib/parallel.py\", line 779, in _dispatch\n",
      "    job = self._backend.apply_async(batch, callback=cb)\n",
      "  File \"/opt/conda/lib/python3.9/site-packages/joblib/_parallel_backends.py\", line 208, in apply_async\n",
      "    result = ImmediateResult(func)\n",
      "  File \"/opt/conda/lib/python3.9/site-packages/joblib/_parallel_backends.py\", line 572, in __init__\n",
      "    self.results = batch()\n",
      "  File \"/opt/conda/lib/python3.9/site-packages/joblib/parallel.py\", line 262, in __call__\n",
      "    return [func(*args, **kwargs)\n",
      "  File \"/opt/conda/lib/python3.9/site-packages/joblib/parallel.py\", line 262, in <listcomp>\n",
      "    return [func(*args, **kwargs)\n",
      "  File \"/opt/conda/lib/python3.9/site-packages/sklearn/utils/fixes.py\", line 222, in __call__\n",
      "    return self.function(*args, **kwargs)\n",
      "  File \"/opt/conda/lib/python3.9/site-packages/sklearn/ensemble/_forest.py\", line 169, in _parallel_build_trees\n",
      "    tree.fit(X, y, sample_weight=curr_sample_weight, check_input=False)\n",
      "  File \"/opt/conda/lib/python3.9/site-packages/sklearn/tree/_classes.py\", line 1247, in fit\n",
      "    super().fit(\n",
      "  File \"/opt/conda/lib/python3.9/site-packages/sklearn/tree/_classes.py\", line 286, in fit\n",
      "    raise ValueError(\"max_depth must be greater than zero. \")\n",
      "ValueError: max_depth must be greater than zero. \n",
      "\n",
      "  warnings.warn(\"Estimator fit failed. The score on this train-test\"\n",
      "/opt/conda/lib/python3.9/site-packages/sklearn/model_selection/_validation.py:610: FitFailedWarning: Estimator fit failed. The score on this train-test partition for these parameters will be set to nan. Details: \n",
      "Traceback (most recent call last):\n",
      "  File \"/opt/conda/lib/python3.9/site-packages/sklearn/model_selection/_validation.py\", line 593, in _fit_and_score\n",
      "    estimator.fit(X_train, y_train, **fit_params)\n",
      "  File \"/opt/conda/lib/python3.9/site-packages/sklearn/ensemble/_forest.py\", line 387, in fit\n",
      "    trees = Parallel(n_jobs=self.n_jobs, verbose=self.verbose,\n",
      "  File \"/opt/conda/lib/python3.9/site-packages/joblib/parallel.py\", line 1043, in __call__\n",
      "    if self.dispatch_one_batch(iterator):\n",
      "  File \"/opt/conda/lib/python3.9/site-packages/joblib/parallel.py\", line 861, in dispatch_one_batch\n",
      "    self._dispatch(tasks)\n",
      "  File \"/opt/conda/lib/python3.9/site-packages/joblib/parallel.py\", line 779, in _dispatch\n",
      "    job = self._backend.apply_async(batch, callback=cb)\n",
      "  File \"/opt/conda/lib/python3.9/site-packages/joblib/_parallel_backends.py\", line 208, in apply_async\n",
      "    result = ImmediateResult(func)\n",
      "  File \"/opt/conda/lib/python3.9/site-packages/joblib/_parallel_backends.py\", line 572, in __init__\n",
      "    self.results = batch()\n",
      "  File \"/opt/conda/lib/python3.9/site-packages/joblib/parallel.py\", line 262, in __call__\n",
      "    return [func(*args, **kwargs)\n",
      "  File \"/opt/conda/lib/python3.9/site-packages/joblib/parallel.py\", line 262, in <listcomp>\n",
      "    return [func(*args, **kwargs)\n",
      "  File \"/opt/conda/lib/python3.9/site-packages/sklearn/utils/fixes.py\", line 222, in __call__\n",
      "    return self.function(*args, **kwargs)\n",
      "  File \"/opt/conda/lib/python3.9/site-packages/sklearn/ensemble/_forest.py\", line 169, in _parallel_build_trees\n",
      "    tree.fit(X, y, sample_weight=curr_sample_weight, check_input=False)\n",
      "  File \"/opt/conda/lib/python3.9/site-packages/sklearn/tree/_classes.py\", line 1247, in fit\n",
      "    super().fit(\n",
      "  File \"/opt/conda/lib/python3.9/site-packages/sklearn/tree/_classes.py\", line 286, in fit\n",
      "    raise ValueError(\"max_depth must be greater than zero. \")\n",
      "ValueError: max_depth must be greater than zero. \n",
      "\n",
      "  warnings.warn(\"Estimator fit failed. The score on this train-test\"\n",
      "/opt/conda/lib/python3.9/site-packages/sklearn/model_selection/_validation.py:610: FitFailedWarning: Estimator fit failed. The score on this train-test partition for these parameters will be set to nan. Details: \n",
      "Traceback (most recent call last):\n",
      "  File \"/opt/conda/lib/python3.9/site-packages/sklearn/model_selection/_validation.py\", line 593, in _fit_and_score\n",
      "    estimator.fit(X_train, y_train, **fit_params)\n",
      "  File \"/opt/conda/lib/python3.9/site-packages/sklearn/ensemble/_forest.py\", line 387, in fit\n",
      "    trees = Parallel(n_jobs=self.n_jobs, verbose=self.verbose,\n",
      "  File \"/opt/conda/lib/python3.9/site-packages/joblib/parallel.py\", line 1043, in __call__\n",
      "    if self.dispatch_one_batch(iterator):\n",
      "  File \"/opt/conda/lib/python3.9/site-packages/joblib/parallel.py\", line 861, in dispatch_one_batch\n",
      "    self._dispatch(tasks)\n",
      "  File \"/opt/conda/lib/python3.9/site-packages/joblib/parallel.py\", line 779, in _dispatch\n",
      "    job = self._backend.apply_async(batch, callback=cb)\n",
      "  File \"/opt/conda/lib/python3.9/site-packages/joblib/_parallel_backends.py\", line 208, in apply_async\n",
      "    result = ImmediateResult(func)\n",
      "  File \"/opt/conda/lib/python3.9/site-packages/joblib/_parallel_backends.py\", line 572, in __init__\n",
      "    self.results = batch()\n",
      "  File \"/opt/conda/lib/python3.9/site-packages/joblib/parallel.py\", line 262, in __call__\n",
      "    return [func(*args, **kwargs)\n",
      "  File \"/opt/conda/lib/python3.9/site-packages/joblib/parallel.py\", line 262, in <listcomp>\n",
      "    return [func(*args, **kwargs)\n",
      "  File \"/opt/conda/lib/python3.9/site-packages/sklearn/utils/fixes.py\", line 222, in __call__\n",
      "    return self.function(*args, **kwargs)\n",
      "  File \"/opt/conda/lib/python3.9/site-packages/sklearn/ensemble/_forest.py\", line 169, in _parallel_build_trees\n",
      "    tree.fit(X, y, sample_weight=curr_sample_weight, check_input=False)\n",
      "  File \"/opt/conda/lib/python3.9/site-packages/sklearn/tree/_classes.py\", line 1247, in fit\n",
      "    super().fit(\n",
      "  File \"/opt/conda/lib/python3.9/site-packages/sklearn/tree/_classes.py\", line 286, in fit\n",
      "    raise ValueError(\"max_depth must be greater than zero. \")\n",
      "ValueError: max_depth must be greater than zero. \n",
      "\n",
      "  warnings.warn(\"Estimator fit failed. The score on this train-test\"\n",
      "/opt/conda/lib/python3.9/site-packages/sklearn/model_selection/_validation.py:610: FitFailedWarning: Estimator fit failed. The score on this train-test partition for these parameters will be set to nan. Details: \n",
      "Traceback (most recent call last):\n",
      "  File \"/opt/conda/lib/python3.9/site-packages/sklearn/model_selection/_validation.py\", line 593, in _fit_and_score\n",
      "    estimator.fit(X_train, y_train, **fit_params)\n",
      "  File \"/opt/conda/lib/python3.9/site-packages/sklearn/ensemble/_forest.py\", line 387, in fit\n",
      "    trees = Parallel(n_jobs=self.n_jobs, verbose=self.verbose,\n",
      "  File \"/opt/conda/lib/python3.9/site-packages/joblib/parallel.py\", line 1043, in __call__\n",
      "    if self.dispatch_one_batch(iterator):\n",
      "  File \"/opt/conda/lib/python3.9/site-packages/joblib/parallel.py\", line 861, in dispatch_one_batch\n",
      "    self._dispatch(tasks)\n",
      "  File \"/opt/conda/lib/python3.9/site-packages/joblib/parallel.py\", line 779, in _dispatch\n",
      "    job = self._backend.apply_async(batch, callback=cb)\n",
      "  File \"/opt/conda/lib/python3.9/site-packages/joblib/_parallel_backends.py\", line 208, in apply_async\n",
      "    result = ImmediateResult(func)\n",
      "  File \"/opt/conda/lib/python3.9/site-packages/joblib/_parallel_backends.py\", line 572, in __init__\n",
      "    self.results = batch()\n",
      "  File \"/opt/conda/lib/python3.9/site-packages/joblib/parallel.py\", line 262, in __call__\n",
      "    return [func(*args, **kwargs)\n",
      "  File \"/opt/conda/lib/python3.9/site-packages/joblib/parallel.py\", line 262, in <listcomp>\n",
      "    return [func(*args, **kwargs)\n",
      "  File \"/opt/conda/lib/python3.9/site-packages/sklearn/utils/fixes.py\", line 222, in __call__\n",
      "    return self.function(*args, **kwargs)\n",
      "  File \"/opt/conda/lib/python3.9/site-packages/sklearn/ensemble/_forest.py\", line 169, in _parallel_build_trees\n",
      "    tree.fit(X, y, sample_weight=curr_sample_weight, check_input=False)\n",
      "  File \"/opt/conda/lib/python3.9/site-packages/sklearn/tree/_classes.py\", line 1247, in fit\n",
      "    super().fit(\n",
      "  File \"/opt/conda/lib/python3.9/site-packages/sklearn/tree/_classes.py\", line 286, in fit\n",
      "    raise ValueError(\"max_depth must be greater than zero. \")\n",
      "ValueError: max_depth must be greater than zero. \n",
      "\n",
      "  warnings.warn(\"Estimator fit failed. The score on this train-test\"\n",
      "/opt/conda/lib/python3.9/site-packages/sklearn/model_selection/_validation.py:610: FitFailedWarning: Estimator fit failed. The score on this train-test partition for these parameters will be set to nan. Details: \n",
      "Traceback (most recent call last):\n",
      "  File \"/opt/conda/lib/python3.9/site-packages/sklearn/model_selection/_validation.py\", line 593, in _fit_and_score\n",
      "    estimator.fit(X_train, y_train, **fit_params)\n",
      "  File \"/opt/conda/lib/python3.9/site-packages/sklearn/ensemble/_forest.py\", line 387, in fit\n",
      "    trees = Parallel(n_jobs=self.n_jobs, verbose=self.verbose,\n",
      "  File \"/opt/conda/lib/python3.9/site-packages/joblib/parallel.py\", line 1043, in __call__\n",
      "    if self.dispatch_one_batch(iterator):\n",
      "  File \"/opt/conda/lib/python3.9/site-packages/joblib/parallel.py\", line 861, in dispatch_one_batch\n",
      "    self._dispatch(tasks)\n",
      "  File \"/opt/conda/lib/python3.9/site-packages/joblib/parallel.py\", line 779, in _dispatch\n",
      "    job = self._backend.apply_async(batch, callback=cb)\n",
      "  File \"/opt/conda/lib/python3.9/site-packages/joblib/_parallel_backends.py\", line 208, in apply_async\n",
      "    result = ImmediateResult(func)\n",
      "  File \"/opt/conda/lib/python3.9/site-packages/joblib/_parallel_backends.py\", line 572, in __init__\n",
      "    self.results = batch()\n",
      "  File \"/opt/conda/lib/python3.9/site-packages/joblib/parallel.py\", line 262, in __call__\n",
      "    return [func(*args, **kwargs)\n",
      "  File \"/opt/conda/lib/python3.9/site-packages/joblib/parallel.py\", line 262, in <listcomp>\n",
      "    return [func(*args, **kwargs)\n",
      "  File \"/opt/conda/lib/python3.9/site-packages/sklearn/utils/fixes.py\", line 222, in __call__\n",
      "    return self.function(*args, **kwargs)\n",
      "  File \"/opt/conda/lib/python3.9/site-packages/sklearn/ensemble/_forest.py\", line 169, in _parallel_build_trees\n",
      "    tree.fit(X, y, sample_weight=curr_sample_weight, check_input=False)\n",
      "  File \"/opt/conda/lib/python3.9/site-packages/sklearn/tree/_classes.py\", line 1247, in fit\n",
      "    super().fit(\n",
      "  File \"/opt/conda/lib/python3.9/site-packages/sklearn/tree/_classes.py\", line 286, in fit\n",
      "    raise ValueError(\"max_depth must be greater than zero. \")\n",
      "ValueError: max_depth must be greater than zero. \n",
      "\n",
      "  warnings.warn(\"Estimator fit failed. The score on this train-test\"\n"
     ]
    },
    {
     "name": "stdout",
     "output_type": "stream",
     "text": [
      "[CV] END ......................max_depth=0, n_estimators=100; total time=   0.0s\n",
      "[CV] END ......................max_depth=0, n_estimators=100; total time=   0.0s\n",
      "[CV] END ........................max_depth=5, n_estimators=1; total time=   0.1s\n"
     ]
    },
    {
     "name": "stderr",
     "output_type": "stream",
     "text": [
      "/opt/conda/lib/python3.9/site-packages/sklearn/model_selection/_validation.py:610: FitFailedWarning: Estimator fit failed. The score on this train-test partition for these parameters will be set to nan. Details: \n",
      "Traceback (most recent call last):\n",
      "  File \"/opt/conda/lib/python3.9/site-packages/sklearn/model_selection/_validation.py\", line 593, in _fit_and_score\n",
      "    estimator.fit(X_train, y_train, **fit_params)\n",
      "  File \"/opt/conda/lib/python3.9/site-packages/sklearn/ensemble/_forest.py\", line 387, in fit\n",
      "    trees = Parallel(n_jobs=self.n_jobs, verbose=self.verbose,\n",
      "  File \"/opt/conda/lib/python3.9/site-packages/joblib/parallel.py\", line 1043, in __call__\n",
      "    if self.dispatch_one_batch(iterator):\n",
      "  File \"/opt/conda/lib/python3.9/site-packages/joblib/parallel.py\", line 861, in dispatch_one_batch\n",
      "    self._dispatch(tasks)\n",
      "  File \"/opt/conda/lib/python3.9/site-packages/joblib/parallel.py\", line 779, in _dispatch\n",
      "    job = self._backend.apply_async(batch, callback=cb)\n",
      "  File \"/opt/conda/lib/python3.9/site-packages/joblib/_parallel_backends.py\", line 208, in apply_async\n",
      "    result = ImmediateResult(func)\n",
      "  File \"/opt/conda/lib/python3.9/site-packages/joblib/_parallel_backends.py\", line 572, in __init__\n",
      "    self.results = batch()\n",
      "  File \"/opt/conda/lib/python3.9/site-packages/joblib/parallel.py\", line 262, in __call__\n",
      "    return [func(*args, **kwargs)\n",
      "  File \"/opt/conda/lib/python3.9/site-packages/joblib/parallel.py\", line 262, in <listcomp>\n",
      "    return [func(*args, **kwargs)\n",
      "  File \"/opt/conda/lib/python3.9/site-packages/sklearn/utils/fixes.py\", line 222, in __call__\n",
      "    return self.function(*args, **kwargs)\n",
      "  File \"/opt/conda/lib/python3.9/site-packages/sklearn/ensemble/_forest.py\", line 169, in _parallel_build_trees\n",
      "    tree.fit(X, y, sample_weight=curr_sample_weight, check_input=False)\n",
      "  File \"/opt/conda/lib/python3.9/site-packages/sklearn/tree/_classes.py\", line 1247, in fit\n",
      "    super().fit(\n",
      "  File \"/opt/conda/lib/python3.9/site-packages/sklearn/tree/_classes.py\", line 286, in fit\n",
      "    raise ValueError(\"max_depth must be greater than zero. \")\n",
      "ValueError: max_depth must be greater than zero. \n",
      "\n",
      "  warnings.warn(\"Estimator fit failed. The score on this train-test\"\n"
     ]
    },
    {
     "name": "stdout",
     "output_type": "stream",
     "text": [
      "[CV] END ........................max_depth=5, n_estimators=1; total time=   0.1s\n",
      "[CV] END ........................max_depth=5, n_estimators=1; total time=   0.1s\n",
      "[CV] END .......................max_depth=5, n_estimators=50; total time=   6.1s\n",
      "[CV] END .......................max_depth=5, n_estimators=50; total time=   6.1s\n",
      "[CV] END .......................max_depth=5, n_estimators=50; total time=   7.2s\n",
      "[CV] END ......................max_depth=5, n_estimators=100; total time=  12.1s\n",
      "[CV] END ......................max_depth=5, n_estimators=100; total time=  12.2s\n",
      "[CV] END ......................max_depth=5, n_estimators=100; total time=  12.4s\n",
      "[CV] END .......................max_depth=10, n_estimators=1; total time=   0.2s\n",
      "[CV] END .......................max_depth=10, n_estimators=1; total time=   0.3s\n",
      "[CV] END .......................max_depth=10, n_estimators=1; total time=   0.3s\n",
      "[CV] END ......................max_depth=10, n_estimators=50; total time=  11.4s\n",
      "[CV] END ......................max_depth=10, n_estimators=50; total time=  11.7s\n",
      "[CV] END ......................max_depth=10, n_estimators=50; total time=  11.3s\n",
      "[CV] END .....................max_depth=10, n_estimators=100; total time=  21.9s\n",
      "[CV] END .....................max_depth=10, n_estimators=100; total time=  22.8s\n",
      "[CV] END .....................max_depth=10, n_estimators=100; total time=  22.6s\n"
     ]
    },
    {
     "name": "stderr",
     "output_type": "stream",
     "text": [
      "/opt/conda/lib/python3.9/site-packages/sklearn/model_selection/_search.py:918: UserWarning: One or more of the test scores are non-finite: [           nan            nan            nan -2492.47368616\n",
      " -2428.81679503 -2427.79623494 -2108.79501181 -1925.42140756\n",
      " -1923.06595068]\n",
      "  warnings.warn(\n"
     ]
    },
    {
     "name": "stdout",
     "output_type": "stream",
     "text": [
      "{'max_depth': 10, 'n_estimators': 100}\n",
      "RMSE of Random forest: -1923.07\n",
      "-1923.065950680237\n",
      "CPU times: user 3min 12s, sys: 0 ns, total: 3min 12s\n",
      "Wall time: 3min 14s\n"
     ]
    }
   ],
   "source": [
    "%%time\n",
    "model = RandomForestRegressor(random_state=42)\n",
    "parametrs = {'n_estimators': (1,50,100), \"max_depth\" : range (0, 11, 5)}\n",
    "grid = GridSearchCV(model, parametrs,scoring='neg_root_mean_squared_error', cv=3, verbose=2, n_jobs=-1)\n",
    "grid.fit(X_train_oe, y_train_oe)\n",
    "print(grid.best_params_)\n",
    "print('RMSE of Random forest: {:.2f}'.format(grid.best_score_))\n",
    "print(grid.best_score_)"
   ]
  },
  {
   "cell_type": "code",
   "execution_count": 40,
   "metadata": {},
   "outputs": [
    {
     "name": "stdout",
     "output_type": "stream",
     "text": [
      "RMSE of Random forest: 1910.6908709137808\n",
      "CPU times: user 34.4 s, sys: 0 ns, total: 34.4 s\n",
      "Wall time: 34.5 s\n"
     ]
    }
   ],
   "source": [
    "%%time\n",
    "rf = RandomForestRegressor(**grid.best_params_, random_state=42)\n",
    "rf.fit(X_train_oe, y_train_oe)\n",
    "predicted = rf.predict(X_test_oe)\n",
    "print(\"RMSE of Random forest:\", mean_squared_error(y_test_oe, predicted, squared=False))"
   ]
  },
  {
   "cell_type": "markdown",
   "metadata": {},
   "source": [
    "### CatBoost"
   ]
  },
  {
   "cell_type": "code",
   "execution_count": 41,
   "metadata": {},
   "outputs": [
    {
     "data": {
      "application/vnd.jupyter.widget-view+json": {
       "model_id": "0fcce474fe9a4261856b814e2aefac4a",
       "version_major": 2,
       "version_minor": 0
      },
      "text/plain": [
       "MetricVisualizer(layout=Layout(align_self='stretch', height='500px'))"
      ]
     },
     "metadata": {},
     "output_type": "display_data"
    },
    {
     "name": "stdout",
     "output_type": "stream",
     "text": [
      "0:\tlearn: 5913.1158110\ttest: 5891.8872803\tbest: 5891.8872803 (0)\ttotal: 77.6ms\tremaining: 3.8s\n",
      "10:\tlearn: 3152.2810461\ttest: 3131.7000502\tbest: 3131.7000502 (10)\ttotal: 338ms\tremaining: 1.2s\n",
      "20:\tlearn: 2410.1651596\ttest: 2393.9959569\tbest: 2393.9959569 (20)\ttotal: 582ms\tremaining: 804ms\n",
      "30:\tlearn: 2186.9771962\ttest: 2176.2335732\tbest: 2176.2335732 (30)\ttotal: 826ms\tremaining: 506ms\n",
      "40:\tlearn: 2088.9889848\ttest: 2080.6726697\tbest: 2080.6726697 (40)\ttotal: 1.06s\tremaining: 232ms\n",
      "49:\tlearn: 2033.3823915\ttest: 2026.3372869\tbest: 2026.3372869 (49)\ttotal: 1.27s\tremaining: 0us\n",
      "\n",
      "bestTest = 2026.337287\n",
      "bestIteration = 49\n",
      "\n",
      "0:\tloss: 2026.3372869\tbest: 2026.3372869 (0)\ttotal: 3.19s\tremaining: 1m 22s\n",
      "0:\tlearn: 4067.3563898\ttest: 4047.3082701\tbest: 4047.3082701 (0)\ttotal: 26.6ms\tremaining: 1.3s\n",
      "10:\tlearn: 2041.8039425\ttest: 2030.6359887\tbest: 2030.6359887 (10)\ttotal: 273ms\tremaining: 968ms\n",
      "20:\tlearn: 1923.7876563\ttest: 1916.0861705\tbest: 1916.0861705 (20)\ttotal: 502ms\tremaining: 693ms\n",
      "30:\tlearn: 1867.0449565\ttest: 1862.5744235\tbest: 1862.5744235 (30)\ttotal: 740ms\tremaining: 453ms\n",
      "40:\tlearn: 1831.1169795\ttest: 1829.3398800\tbest: 1829.3398800 (40)\ttotal: 993ms\tremaining: 218ms\n",
      "49:\tlearn: 1801.1094650\ttest: 1799.1555896\tbest: 1799.1555896 (49)\ttotal: 1.21s\tremaining: 0us\n",
      "\n",
      "bestTest = 1799.15559\n",
      "bestIteration = 49\n",
      "\n",
      "0:\tlearn: 2882.8734784\ttest: 2865.6480227\tbest: 2865.6480227 (0)\ttotal: 31.2ms\tremaining: 1.53s\n",
      "10:\tlearn: 2014.8086205\ttest: 2014.8676785\tbest: 2014.8676785 (10)\ttotal: 267ms\tremaining: 948ms\n",
      "20:\tlearn: 1903.8756314\ttest: 1913.7398451\tbest: 1913.7398451 (20)\ttotal: 498ms\tremaining: 687ms\n",
      "30:\tlearn: 1845.1596065\ttest: 1856.8590464\tbest: 1856.8590464 (30)\ttotal: 740ms\tremaining: 454ms\n",
      "40:\tlearn: 1797.4919341\ttest: 1813.1470886\tbest: 1813.1470886 (40)\ttotal: 975ms\tremaining: 214ms\n",
      "49:\tlearn: 1766.4760131\ttest: 1788.1326110\tbest: 1788.1326110 (49)\ttotal: 1.19s\tremaining: 0us\n",
      "\n",
      "bestTest = 1788.132611\n",
      "bestIteration = 49\n",
      "\n",
      "0:\tlearn: 5913.1158110\ttest: 5891.8872803\tbest: 5891.8872803 (0)\ttotal: 31.3ms\tremaining: 3.1s\n",
      "10:\tlearn: 3152.2810461\ttest: 3131.7000502\tbest: 3131.7000502 (10)\ttotal: 279ms\tremaining: 2.26s\n",
      "20:\tlearn: 2410.1651596\ttest: 2393.9959569\tbest: 2393.9959569 (20)\ttotal: 532ms\tremaining: 2s\n",
      "30:\tlearn: 2186.9771962\ttest: 2176.2335732\tbest: 2176.2335732 (30)\ttotal: 777ms\tremaining: 1.73s\n",
      "40:\tlearn: 2088.9889848\ttest: 2080.6726697\tbest: 2080.6726697 (40)\ttotal: 1.01s\tremaining: 1.46s\n",
      "50:\tlearn: 2027.3687933\ttest: 2020.6235728\tbest: 2020.6235728 (50)\ttotal: 1.25s\tremaining: 1.2s\n",
      "60:\tlearn: 1985.5507475\ttest: 1979.2187083\tbest: 1979.2187083 (60)\ttotal: 1.49s\tremaining: 951ms\n",
      "70:\tlearn: 1954.0623091\ttest: 1948.6572288\tbest: 1948.6572288 (70)\ttotal: 1.73s\tremaining: 707ms\n",
      "80:\tlearn: 1933.0616266\ttest: 1927.8922151\tbest: 1927.8922151 (80)\ttotal: 1.96s\tremaining: 460ms\n",
      "90:\tlearn: 1912.3141154\ttest: 1907.0357221\tbest: 1907.0357221 (90)\ttotal: 2.21s\tremaining: 219ms\n",
      "99:\tlearn: 1896.5119916\ttest: 1892.3158767\tbest: 1892.3158767 (99)\ttotal: 2.43s\tremaining: 0us\n",
      "\n",
      "bestTest = 1892.315877\n",
      "bestIteration = 99\n",
      "\n",
      "0:\tlearn: 4067.3563898\ttest: 4047.3082701\tbest: 4047.3082701 (0)\ttotal: 29.5ms\tremaining: 2.92s\n",
      "10:\tlearn: 2041.8039425\ttest: 2030.6359887\tbest: 2030.6359887 (10)\ttotal: 289ms\tremaining: 2.33s\n",
      "20:\tlearn: 1923.7876563\ttest: 1916.0861705\tbest: 1916.0861705 (20)\ttotal: 551ms\tremaining: 2.07s\n",
      "30:\tlearn: 1867.0449565\ttest: 1862.5744235\tbest: 1862.5744235 (30)\ttotal: 822ms\tremaining: 1.83s\n",
      "40:\tlearn: 1831.1169795\ttest: 1829.3398800\tbest: 1829.3398800 (40)\ttotal: 1.06s\tremaining: 1.52s\n",
      "50:\tlearn: 1798.3275254\ttest: 1796.9205403\tbest: 1796.9205403 (50)\ttotal: 1.29s\tremaining: 1.24s\n",
      "60:\tlearn: 1774.5706479\ttest: 1775.5582485\tbest: 1775.5582485 (60)\ttotal: 1.53s\tremaining: 976ms\n",
      "70:\tlearn: 1756.2537030\ttest: 1760.1723392\tbest: 1760.1723392 (70)\ttotal: 1.76s\tremaining: 721ms\n",
      "80:\tlearn: 1738.5214517\ttest: 1747.9783586\tbest: 1747.9783586 (80)\ttotal: 2s\tremaining: 469ms\n",
      "90:\tlearn: 1724.1400796\ttest: 1737.7068332\tbest: 1737.7068332 (90)\ttotal: 2.26s\tremaining: 224ms\n",
      "99:\tlearn: 1712.8103913\ttest: 1730.3774120\tbest: 1730.3774120 (99)\ttotal: 2.47s\tremaining: 0us\n",
      "\n",
      "bestTest = 1730.377412\n",
      "bestIteration = 99\n",
      "\n",
      "0:\tlearn: 2882.8734784\ttest: 2865.6480227\tbest: 2865.6480227 (0)\ttotal: 23.9ms\tremaining: 2.37s\n",
      "10:\tlearn: 2014.8086205\ttest: 2014.8676785\tbest: 2014.8676785 (10)\ttotal: 259ms\tremaining: 2.1s\n",
      "20:\tlearn: 1903.8756314\ttest: 1913.7398451\tbest: 1913.7398451 (20)\ttotal: 494ms\tremaining: 1.86s\n",
      "30:\tlearn: 1845.1596065\ttest: 1856.8590464\tbest: 1856.8590464 (30)\ttotal: 720ms\tremaining: 1.6s\n",
      "40:\tlearn: 1797.4919341\ttest: 1813.1470886\tbest: 1813.1470886 (40)\ttotal: 952ms\tremaining: 1.37s\n",
      "50:\tlearn: 1763.4131133\ttest: 1785.5628871\tbest: 1785.5628871 (50)\ttotal: 1.19s\tremaining: 1.14s\n",
      "60:\tlearn: 1743.1026862\ttest: 1767.3653278\tbest: 1766.8594842 (59)\ttotal: 1.41s\tremaining: 904ms\n",
      "70:\tlearn: 1725.4026928\ttest: 1754.8638152\tbest: 1754.8638152 (70)\ttotal: 1.65s\tremaining: 674ms\n",
      "80:\tlearn: 1707.1201363\ttest: 1745.8574831\tbest: 1745.8574831 (80)\ttotal: 1.88s\tremaining: 442ms\n",
      "90:\tlearn: 1694.5802201\ttest: 1738.0343331\tbest: 1738.0343331 (90)\ttotal: 2.11s\tremaining: 208ms\n",
      "99:\tlearn: 1684.0021927\ttest: 1732.2460540\tbest: 1732.2460540 (99)\ttotal: 2.31s\tremaining: 0us\n",
      "\n",
      "bestTest = 1732.246054\n",
      "bestIteration = 99\n",
      "\n",
      "0:\tlearn: 5913.1158110\ttest: 5891.8872803\tbest: 5891.8872803 (0)\ttotal: 24.8ms\tremaining: 4.94s\n",
      "10:\tlearn: 3152.2810461\ttest: 3131.7000502\tbest: 3131.7000502 (10)\ttotal: 285ms\tremaining: 4.89s\n",
      "20:\tlearn: 2410.1651596\ttest: 2393.9959569\tbest: 2393.9959569 (20)\ttotal: 538ms\tremaining: 4.59s\n",
      "30:\tlearn: 2186.9771962\ttest: 2176.2335732\tbest: 2176.2335732 (30)\ttotal: 787ms\tremaining: 4.29s\n",
      "40:\tlearn: 2088.9889848\ttest: 2080.6726697\tbest: 2080.6726697 (40)\ttotal: 1.02s\tremaining: 3.97s\n",
      "50:\tlearn: 2027.3687933\ttest: 2020.6235728\tbest: 2020.6235728 (50)\ttotal: 1.27s\tremaining: 3.72s\n",
      "60:\tlearn: 1985.5507475\ttest: 1979.2187083\tbest: 1979.2187083 (60)\ttotal: 1.51s\tremaining: 3.44s\n",
      "70:\tlearn: 1954.0623091\ttest: 1948.6572288\tbest: 1948.6572288 (70)\ttotal: 1.75s\tremaining: 3.19s\n",
      "80:\tlearn: 1933.0616266\ttest: 1927.8922151\tbest: 1927.8922151 (80)\ttotal: 1.98s\tremaining: 2.91s\n",
      "90:\tlearn: 1912.3141154\ttest: 1907.0357221\tbest: 1907.0357221 (90)\ttotal: 2.22s\tremaining: 2.65s\n",
      "100:\tlearn: 1894.7774403\ttest: 1890.5151743\tbest: 1890.5151743 (100)\ttotal: 2.46s\tremaining: 2.42s\n",
      "110:\tlearn: 1880.7499697\ttest: 1877.7098880\tbest: 1877.7098880 (110)\ttotal: 2.7s\tremaining: 2.17s\n",
      "120:\tlearn: 1866.9203626\ttest: 1864.4646554\tbest: 1864.4646554 (120)\ttotal: 2.95s\tremaining: 1.93s\n",
      "130:\tlearn: 1853.8276452\ttest: 1851.9298796\tbest: 1851.9298796 (130)\ttotal: 3.2s\tremaining: 1.68s\n",
      "140:\tlearn: 1843.7750911\ttest: 1841.9644218\tbest: 1841.9644218 (140)\ttotal: 3.46s\tremaining: 1.45s\n",
      "150:\tlearn: 1833.6870320\ttest: 1833.1518543\tbest: 1833.1518543 (150)\ttotal: 3.71s\tremaining: 1.2s\n",
      "160:\tlearn: 1824.3708858\ttest: 1824.6846271\tbest: 1824.6846271 (160)\ttotal: 3.96s\tremaining: 958ms\n",
      "170:\tlearn: 1816.2912147\ttest: 1817.6972580\tbest: 1817.6972580 (170)\ttotal: 4.21s\tremaining: 713ms\n",
      "180:\tlearn: 1808.6653242\ttest: 1810.7399451\tbest: 1810.7399451 (180)\ttotal: 4.46s\tremaining: 468ms\n",
      "190:\tlearn: 1802.4867346\ttest: 1805.2434801\tbest: 1805.2434801 (190)\ttotal: 4.69s\tremaining: 221ms\n",
      "199:\tlearn: 1795.4577926\ttest: 1798.3094379\tbest: 1798.3094379 (199)\ttotal: 4.92s\tremaining: 0us\n",
      "\n",
      "bestTest = 1798.309438\n",
      "bestIteration = 199\n",
      "\n",
      "0:\tlearn: 4067.3563898\ttest: 4047.3082701\tbest: 4047.3082701 (0)\ttotal: 27.5ms\tremaining: 5.47s\n",
      "10:\tlearn: 2041.8039425\ttest: 2030.6359887\tbest: 2030.6359887 (10)\ttotal: 285ms\tremaining: 4.89s\n",
      "20:\tlearn: 1923.7876563\ttest: 1916.0861705\tbest: 1916.0861705 (20)\ttotal: 541ms\tremaining: 4.61s\n",
      "30:\tlearn: 1867.0449565\ttest: 1862.5744235\tbest: 1862.5744235 (30)\ttotal: 826ms\tremaining: 4.5s\n",
      "40:\tlearn: 1831.1169795\ttest: 1829.3398800\tbest: 1829.3398800 (40)\ttotal: 1.1s\tremaining: 4.28s\n",
      "50:\tlearn: 1798.3275254\ttest: 1796.9205403\tbest: 1796.9205403 (50)\ttotal: 1.35s\tremaining: 3.94s\n",
      "60:\tlearn: 1774.5706479\ttest: 1775.5582485\tbest: 1775.5582485 (60)\ttotal: 1.59s\tremaining: 3.62s\n",
      "70:\tlearn: 1756.2537030\ttest: 1760.1723392\tbest: 1760.1723392 (70)\ttotal: 1.85s\tremaining: 3.35s\n",
      "80:\tlearn: 1738.5214517\ttest: 1747.9783586\tbest: 1747.9783586 (80)\ttotal: 2.11s\tremaining: 3.1s\n",
      "90:\tlearn: 1724.1400796\ttest: 1737.7068332\tbest: 1737.7068332 (90)\ttotal: 2.36s\tremaining: 2.82s\n",
      "100:\tlearn: 1712.0304366\ttest: 1730.0362804\tbest: 1730.0362804 (100)\ttotal: 2.6s\tremaining: 2.55s\n",
      "110:\tlearn: 1700.4248983\ttest: 1721.5469694\tbest: 1721.5469694 (110)\ttotal: 2.86s\tremaining: 2.3s\n",
      "120:\tlearn: 1690.4608583\ttest: 1715.1522668\tbest: 1715.1522668 (120)\ttotal: 3.11s\tremaining: 2.03s\n",
      "130:\tlearn: 1682.8841236\ttest: 1709.7685906\tbest: 1709.7685906 (130)\ttotal: 3.35s\tremaining: 1.76s\n",
      "140:\tlearn: 1674.8646964\ttest: 1705.0390806\tbest: 1705.0390806 (140)\ttotal: 3.6s\tremaining: 1.51s\n",
      "150:\tlearn: 1667.7072408\ttest: 1700.9385261\tbest: 1700.9385261 (150)\ttotal: 3.85s\tremaining: 1.25s\n",
      "160:\tlearn: 1659.7105256\ttest: 1697.5912999\tbest: 1697.5912999 (160)\ttotal: 4.09s\tremaining: 992ms\n",
      "170:\tlearn: 1654.0128455\ttest: 1693.3621475\tbest: 1693.3621475 (170)\ttotal: 4.33s\tremaining: 735ms\n",
      "180:\tlearn: 1648.0017680\ttest: 1690.4263523\tbest: 1690.4263523 (180)\ttotal: 4.58s\tremaining: 480ms\n",
      "190:\tlearn: 1641.5141789\ttest: 1686.4105929\tbest: 1686.4105929 (190)\ttotal: 4.82s\tremaining: 227ms\n",
      "199:\tlearn: 1636.4704880\ttest: 1684.3969236\tbest: 1684.3460991 (198)\ttotal: 5.05s\tremaining: 0us\n",
      "\n",
      "bestTest = 1684.346099\n",
      "bestIteration = 198\n",
      "\n",
      "0:\tlearn: 2882.8734784\ttest: 2865.6480227\tbest: 2865.6480227 (0)\ttotal: 36.6ms\tremaining: 7.28s\n",
      "10:\tlearn: 2014.8086205\ttest: 2014.8676785\tbest: 2014.8676785 (10)\ttotal: 286ms\tremaining: 4.92s\n",
      "20:\tlearn: 1903.8756314\ttest: 1913.7398451\tbest: 1913.7398451 (20)\ttotal: 537ms\tremaining: 4.58s\n",
      "30:\tlearn: 1845.1596065\ttest: 1856.8590464\tbest: 1856.8590464 (30)\ttotal: 783ms\tremaining: 4.27s\n",
      "40:\tlearn: 1797.4919341\ttest: 1813.1470886\tbest: 1813.1470886 (40)\ttotal: 1.04s\tremaining: 4.03s\n",
      "50:\tlearn: 1763.4131133\ttest: 1785.5628871\tbest: 1785.5628871 (50)\ttotal: 1.28s\tremaining: 3.73s\n",
      "60:\tlearn: 1743.1026862\ttest: 1767.3653278\tbest: 1766.8594842 (59)\ttotal: 1.52s\tremaining: 3.45s\n",
      "70:\tlearn: 1725.4026928\ttest: 1754.8638152\tbest: 1754.8638152 (70)\ttotal: 1.77s\tremaining: 3.21s\n",
      "80:\tlearn: 1707.1201363\ttest: 1745.8574831\tbest: 1745.8574831 (80)\ttotal: 2s\tremaining: 2.94s\n",
      "90:\tlearn: 1694.5802201\ttest: 1738.0343331\tbest: 1738.0343331 (90)\ttotal: 2.24s\tremaining: 2.69s\n",
      "100:\tlearn: 1683.0017812\ttest: 1731.3678709\tbest: 1731.3678709 (100)\ttotal: 2.47s\tremaining: 2.42s\n",
      "110:\tlearn: 1671.0110551\ttest: 1725.3026241\tbest: 1725.3026241 (110)\ttotal: 2.72s\tremaining: 2.18s\n",
      "120:\tlearn: 1662.2776020\ttest: 1722.4684180\tbest: 1722.4232653 (119)\ttotal: 2.96s\tremaining: 1.93s\n",
      "130:\tlearn: 1653.3379223\ttest: 1717.6259049\tbest: 1717.6259049 (130)\ttotal: 3.2s\tremaining: 1.69s\n",
      "140:\tlearn: 1643.6436598\ttest: 1714.7787532\tbest: 1714.7787532 (140)\ttotal: 3.45s\tremaining: 1.45s\n",
      "150:\tlearn: 1634.6874896\ttest: 1709.0006184\tbest: 1708.7838637 (149)\ttotal: 3.69s\tremaining: 1.2s\n",
      "160:\tlearn: 1625.9945599\ttest: 1707.5950006\tbest: 1707.5950006 (160)\ttotal: 3.93s\tremaining: 952ms\n",
      "170:\tlearn: 1617.2399134\ttest: 1704.0415493\tbest: 1704.0415493 (170)\ttotal: 4.17s\tremaining: 708ms\n",
      "180:\tlearn: 1609.6678988\ttest: 1703.7421048\tbest: 1703.3348311 (174)\ttotal: 4.41s\tremaining: 463ms\n",
      "190:\tlearn: 1601.9877394\ttest: 1702.3869590\tbest: 1702.3869590 (190)\ttotal: 4.66s\tremaining: 220ms\n",
      "199:\tlearn: 1597.5826063\ttest: 1700.3960785\tbest: 1700.3960785 (199)\ttotal: 4.88s\tremaining: 0us\n",
      "\n",
      "bestTest = 1700.396078\n",
      "bestIteration = 199\n",
      "\n",
      "0:\tlearn: 5875.3872713\ttest: 5855.5094710\tbest: 5855.5094710 (0)\ttotal: 66.4ms\tremaining: 3.25s\n",
      "10:\tlearn: 2932.1171915\ttest: 2918.1197353\tbest: 2918.1197353 (10)\ttotal: 626ms\tremaining: 2.22s\n",
      "20:\tlearn: 2149.5679465\ttest: 2141.2555875\tbest: 2141.2555875 (20)\ttotal: 1.25s\tremaining: 1.73s\n",
      "30:\tlearn: 1933.5021887\ttest: 1929.1155975\tbest: 1929.1155975 (30)\ttotal: 1.83s\tremaining: 1.12s\n",
      "40:\tlearn: 1859.4937695\ttest: 1857.9320153\tbest: 1857.9320153 (40)\ttotal: 2.4s\tremaining: 527ms\n",
      "49:\tlearn: 1824.0725515\ttest: 1826.2268128\tbest: 1826.2268128 (49)\ttotal: 2.93s\tremaining: 0us\n",
      "\n",
      "bestTest = 1826.226813\n",
      "bestIteration = 49\n",
      "\n",
      "0:\tlearn: 3843.2130818\ttest: 3829.7625937\tbest: 3829.7625937 (0)\ttotal: 52.3ms\tremaining: 2.56s\n",
      "10:\tlearn: 1838.5326448\ttest: 1839.4721040\tbest: 1839.4721040 (10)\ttotal: 653ms\tremaining: 2.31s\n",
      "20:\tlearn: 1754.7250691\ttest: 1769.6244981\tbest: 1769.6244981 (20)\ttotal: 1.23s\tremaining: 1.7s\n",
      "30:\tlearn: 1705.4352967\ttest: 1731.2338590\tbest: 1731.2338590 (30)\ttotal: 1.8s\tremaining: 1.1s\n",
      "40:\tlearn: 1666.5595915\ttest: 1705.6646384\tbest: 1705.6646384 (40)\ttotal: 2.37s\tremaining: 521ms\n",
      "49:\tlearn: 1637.9394090\ttest: 1691.3724764\tbest: 1691.3724764 (49)\ttotal: 2.9s\tremaining: 0us\n",
      "\n",
      "bestTest = 1691.372476\n",
      "bestIteration = 49\n",
      "\n",
      "10:\tloss: 1691.3724764\tbest: 1684.3460991 (7)\ttotal: 33.7s\tremaining: 49s\n",
      "0:\tlearn: 2427.2497921\ttest: 2417.1146664\tbest: 2417.1146664 (0)\ttotal: 54.4ms\tremaining: 2.67s\n",
      "10:\tlearn: 1824.9628613\ttest: 1845.4500672\tbest: 1845.4500672 (10)\ttotal: 616ms\tremaining: 2.18s\n",
      "20:\tlearn: 1721.9036907\ttest: 1765.5197622\tbest: 1765.5197622 (20)\ttotal: 1.19s\tremaining: 1.64s\n",
      "30:\tlearn: 1662.5852838\ttest: 1730.4650310\tbest: 1730.4650310 (30)\ttotal: 1.75s\tremaining: 1.07s\n",
      "40:\tlearn: 1615.8425554\ttest: 1717.4462885\tbest: 1717.4462885 (40)\ttotal: 2.33s\tremaining: 512ms\n",
      "49:\tlearn: 1591.1797569\ttest: 1704.4413497\tbest: 1704.4413497 (49)\ttotal: 2.87s\tremaining: 0us\n",
      "\n",
      "bestTest = 1704.44135\n",
      "bestIteration = 49\n",
      "\n",
      "0:\tlearn: 5875.3872713\ttest: 5855.5094710\tbest: 5855.5094710 (0)\ttotal: 54.9ms\tremaining: 5.43s\n",
      "10:\tlearn: 2932.1171915\ttest: 2918.1197353\tbest: 2918.1197353 (10)\ttotal: 640ms\tremaining: 5.17s\n",
      "20:\tlearn: 2149.5679465\ttest: 2141.2555875\tbest: 2141.2555875 (20)\ttotal: 1.21s\tremaining: 4.56s\n",
      "30:\tlearn: 1933.5021887\ttest: 1929.1155975\tbest: 1929.1155975 (30)\ttotal: 1.78s\tremaining: 3.96s\n",
      "40:\tlearn: 1859.4937695\ttest: 1857.9320153\tbest: 1857.9320153 (40)\ttotal: 2.4s\tremaining: 3.45s\n",
      "50:\tlearn: 1820.9786289\ttest: 1823.2992352\tbest: 1823.2992352 (50)\ttotal: 2.95s\tremaining: 2.83s\n",
      "60:\tlearn: 1793.6406208\ttest: 1798.6713628\tbest: 1798.6713628 (60)\ttotal: 3.52s\tremaining: 2.25s\n",
      "70:\tlearn: 1773.0731917\ttest: 1780.6328911\tbest: 1780.6328911 (70)\ttotal: 4.12s\tremaining: 1.68s\n",
      "80:\tlearn: 1751.9019390\ttest: 1763.1055897\tbest: 1763.1055897 (80)\ttotal: 4.79s\tremaining: 1.12s\n",
      "90:\tlearn: 1738.0946111\ttest: 1750.7072866\tbest: 1750.7072866 (90)\ttotal: 5.48s\tremaining: 542ms\n",
      "99:\tlearn: 1723.8177836\ttest: 1739.1957409\tbest: 1739.1957409 (99)\ttotal: 6.06s\tremaining: 0us\n",
      "\n",
      "bestTest = 1739.195741\n",
      "bestIteration = 99\n",
      "\n",
      "0:\tlearn: 3843.2130818\ttest: 3829.7625937\tbest: 3829.7625937 (0)\ttotal: 52.5ms\tremaining: 5.2s\n",
      "10:\tlearn: 1838.5326448\ttest: 1839.4721040\tbest: 1839.4721040 (10)\ttotal: 614ms\tremaining: 4.96s\n",
      "20:\tlearn: 1754.7250691\ttest: 1769.6244981\tbest: 1769.6244981 (20)\ttotal: 1.16s\tremaining: 4.35s\n",
      "30:\tlearn: 1705.4352967\ttest: 1731.2338590\tbest: 1731.2338590 (30)\ttotal: 1.69s\tremaining: 3.77s\n",
      "40:\tlearn: 1666.5595915\ttest: 1705.6646384\tbest: 1705.6646384 (40)\ttotal: 2.25s\tremaining: 3.24s\n",
      "50:\tlearn: 1634.5561001\ttest: 1690.4158485\tbest: 1690.4158485 (50)\ttotal: 2.81s\tremaining: 2.7s\n",
      "60:\tlearn: 1614.3680499\ttest: 1682.7736906\tbest: 1682.7736906 (60)\ttotal: 3.36s\tremaining: 2.15s\n",
      "70:\tlearn: 1587.3599446\ttest: 1672.5512971\tbest: 1671.9558772 (69)\ttotal: 3.92s\tremaining: 1.6s\n",
      "80:\tlearn: 1569.5522164\ttest: 1665.3867663\tbest: 1665.3867663 (80)\ttotal: 4.46s\tremaining: 1.05s\n",
      "90:\tlearn: 1554.5335787\ttest: 1658.9348526\tbest: 1658.9348526 (90)\ttotal: 5.01s\tremaining: 496ms\n",
      "99:\tlearn: 1541.7441315\ttest: 1656.6791043\tbest: 1656.6791043 (99)\ttotal: 5.51s\tremaining: 0us\n",
      "\n",
      "bestTest = 1656.679104\n",
      "bestIteration = 99\n",
      "\n",
      "0:\tlearn: 2427.2497921\ttest: 2417.1146664\tbest: 2417.1146664 (0)\ttotal: 58.4ms\tremaining: 5.78s\n",
      "10:\tlearn: 1824.9628613\ttest: 1845.4500672\tbest: 1845.4500672 (10)\ttotal: 720ms\tremaining: 5.83s\n",
      "20:\tlearn: 1721.9036907\ttest: 1765.5197622\tbest: 1765.5197622 (20)\ttotal: 1.28s\tremaining: 4.82s\n",
      "30:\tlearn: 1662.5852838\ttest: 1730.4650310\tbest: 1730.4650310 (30)\ttotal: 1.88s\tremaining: 4.18s\n",
      "40:\tlearn: 1615.8425554\ttest: 1717.4462885\tbest: 1717.4462885 (40)\ttotal: 2.44s\tremaining: 3.51s\n",
      "50:\tlearn: 1587.4608138\ttest: 1702.8006905\tbest: 1702.8006905 (50)\ttotal: 2.98s\tremaining: 2.87s\n",
      "60:\tlearn: 1563.4781157\ttest: 1697.2335542\tbest: 1697.1015416 (59)\ttotal: 3.54s\tremaining: 2.26s\n",
      "70:\tlearn: 1535.4961319\ttest: 1696.0636123\tbest: 1693.4644388 (64)\ttotal: 4.11s\tremaining: 1.68s\n",
      "80:\tlearn: 1516.6748232\ttest: 1691.9992933\tbest: 1691.9992933 (80)\ttotal: 4.67s\tremaining: 1.1s\n",
      "90:\tlearn: 1494.1891759\ttest: 1692.0488738\tbest: 1691.0828088 (83)\ttotal: 5.34s\tremaining: 528ms\n",
      "99:\tlearn: 1478.4655497\ttest: 1691.4053590\tbest: 1688.8671694 (95)\ttotal: 5.84s\tremaining: 0us\n",
      "\n",
      "bestTest = 1688.867169\n",
      "bestIteration = 95\n",
      "\n",
      "0:\tlearn: 5875.3872713\ttest: 5855.5094710\tbest: 5855.5094710 (0)\ttotal: 51ms\tremaining: 10.2s\n",
      "10:\tlearn: 2932.1171915\ttest: 2918.1197353\tbest: 2918.1197353 (10)\ttotal: 588ms\tremaining: 10.1s\n",
      "20:\tlearn: 2149.5679465\ttest: 2141.2555875\tbest: 2141.2555875 (20)\ttotal: 1.14s\tremaining: 9.76s\n",
      "30:\tlearn: 1933.5021887\ttest: 1929.1155975\tbest: 1929.1155975 (30)\ttotal: 1.71s\tremaining: 9.3s\n",
      "40:\tlearn: 1859.4937695\ttest: 1857.9320153\tbest: 1857.9320153 (40)\ttotal: 2.29s\tremaining: 8.88s\n",
      "50:\tlearn: 1820.9786289\ttest: 1823.2992352\tbest: 1823.2992352 (50)\ttotal: 2.83s\tremaining: 8.28s\n",
      "60:\tlearn: 1793.6406208\ttest: 1798.6713628\tbest: 1798.6713628 (60)\ttotal: 3.4s\tremaining: 7.74s\n",
      "70:\tlearn: 1773.0731917\ttest: 1780.6328911\tbest: 1780.6328911 (70)\ttotal: 3.95s\tremaining: 7.18s\n",
      "80:\tlearn: 1751.9019390\ttest: 1763.1055897\tbest: 1763.1055897 (80)\ttotal: 4.52s\tremaining: 6.65s\n",
      "90:\tlearn: 1738.0946111\ttest: 1750.7072866\tbest: 1750.7072866 (90)\ttotal: 5.13s\tremaining: 6.15s\n",
      "100:\tlearn: 1722.4595321\ttest: 1737.9510732\tbest: 1737.9510732 (100)\ttotal: 5.69s\tremaining: 5.58s\n",
      "110:\tlearn: 1711.2029424\ttest: 1728.8790336\tbest: 1728.8790336 (110)\ttotal: 6.24s\tremaining: 5.01s\n",
      "120:\tlearn: 1700.2181702\ttest: 1721.0292964\tbest: 1721.0292964 (120)\ttotal: 6.82s\tremaining: 4.45s\n",
      "130:\tlearn: 1691.5117121\ttest: 1714.1216114\tbest: 1714.1216114 (130)\ttotal: 7.38s\tremaining: 3.88s\n",
      "140:\tlearn: 1683.2104157\ttest: 1707.3403786\tbest: 1707.3403786 (140)\ttotal: 7.97s\tremaining: 3.33s\n",
      "150:\tlearn: 1673.6389637\ttest: 1700.3705992\tbest: 1700.3705992 (150)\ttotal: 8.56s\tremaining: 2.78s\n",
      "160:\tlearn: 1666.0996483\ttest: 1694.7721976\tbest: 1694.7721976 (160)\ttotal: 9.12s\tremaining: 2.21s\n",
      "170:\tlearn: 1658.8046371\ttest: 1689.8226275\tbest: 1689.8226275 (170)\ttotal: 9.68s\tremaining: 1.64s\n",
      "180:\tlearn: 1652.4830210\ttest: 1685.6705859\tbest: 1685.6705859 (180)\ttotal: 10.3s\tremaining: 1.08s\n",
      "190:\tlearn: 1645.5582693\ttest: 1680.9358831\tbest: 1680.9358831 (190)\ttotal: 10.8s\tremaining: 510ms\n",
      "199:\tlearn: 1639.4965772\ttest: 1677.0863750\tbest: 1677.0863750 (199)\ttotal: 11.3s\tremaining: 0us\n",
      "\n",
      "bestTest = 1677.086375\n",
      "bestIteration = 199\n",
      "\n",
      "0:\tlearn: 3843.2130818\ttest: 3829.7625937\tbest: 3829.7625937 (0)\ttotal: 57ms\tremaining: 11.3s\n",
      "10:\tlearn: 1838.5326448\ttest: 1839.4721040\tbest: 1839.4721040 (10)\ttotal: 608ms\tremaining: 10.4s\n",
      "20:\tlearn: 1754.7250691\ttest: 1769.6244981\tbest: 1769.6244981 (20)\ttotal: 1.19s\tremaining: 10.1s\n",
      "30:\tlearn: 1705.4352967\ttest: 1731.2338590\tbest: 1731.2338590 (30)\ttotal: 1.76s\tremaining: 9.59s\n",
      "40:\tlearn: 1666.5595915\ttest: 1705.6646384\tbest: 1705.6646384 (40)\ttotal: 2.31s\tremaining: 8.96s\n",
      "50:\tlearn: 1634.5561001\ttest: 1690.4158485\tbest: 1690.4158485 (50)\ttotal: 2.88s\tremaining: 8.42s\n",
      "60:\tlearn: 1614.3680499\ttest: 1682.7736906\tbest: 1682.7736906 (60)\ttotal: 3.47s\tremaining: 7.91s\n",
      "70:\tlearn: 1587.3599446\ttest: 1672.5512971\tbest: 1671.9558772 (69)\ttotal: 4.01s\tremaining: 7.29s\n",
      "80:\tlearn: 1569.5522164\ttest: 1665.3867663\tbest: 1665.3867663 (80)\ttotal: 4.58s\tremaining: 6.73s\n",
      "90:\tlearn: 1554.5335787\ttest: 1658.9348526\tbest: 1658.9348526 (90)\ttotal: 5.13s\tremaining: 6.14s\n",
      "100:\tlearn: 1540.8720405\ttest: 1656.8259607\tbest: 1656.6791043 (99)\ttotal: 5.67s\tremaining: 5.56s\n",
      "110:\tlearn: 1525.5010386\ttest: 1653.6084802\tbest: 1653.6084802 (110)\ttotal: 6.22s\tremaining: 4.99s\n",
      "120:\tlearn: 1512.4782973\ttest: 1650.6121986\tbest: 1650.6121986 (120)\ttotal: 6.76s\tremaining: 4.41s\n",
      "130:\tlearn: 1498.4673643\ttest: 1648.7209046\tbest: 1648.7173554 (127)\ttotal: 7.36s\tremaining: 3.88s\n",
      "140:\tlearn: 1484.1578444\ttest: 1644.6262472\tbest: 1644.6262472 (140)\ttotal: 7.93s\tremaining: 3.32s\n",
      "150:\tlearn: 1474.5131787\ttest: 1643.4265956\tbest: 1643.1302751 (148)\ttotal: 8.5s\tremaining: 2.76s\n",
      "160:\tlearn: 1464.7457708\ttest: 1640.9643492\tbest: 1640.9643492 (160)\ttotal: 9.07s\tremaining: 2.2s\n",
      "170:\tlearn: 1456.0008924\ttest: 1638.9356495\tbest: 1638.9356495 (170)\ttotal: 9.6s\tremaining: 1.63s\n",
      "180:\tlearn: 1445.5501513\ttest: 1637.7469922\tbest: 1636.8152876 (179)\ttotal: 10.2s\tremaining: 1.07s\n",
      "190:\tlearn: 1436.7151673\ttest: 1636.8263126\tbest: 1636.8152876 (179)\ttotal: 10.8s\tremaining: 508ms\n",
      "199:\tlearn: 1428.5888223\ttest: 1636.4402436\tbest: 1636.4402436 (199)\ttotal: 11.3s\tremaining: 0us\n",
      "\n",
      "bestTest = 1636.440244\n",
      "bestIteration = 199\n",
      "\n",
      "0:\tlearn: 2427.2497921\ttest: 2417.1146664\tbest: 2417.1146664 (0)\ttotal: 51.8ms\tremaining: 10.3s\n",
      "10:\tlearn: 1824.9628613\ttest: 1845.4500672\tbest: 1845.4500672 (10)\ttotal: 644ms\tremaining: 11.1s\n",
      "20:\tlearn: 1721.9036907\ttest: 1765.5197622\tbest: 1765.5197622 (20)\ttotal: 1.22s\tremaining: 10.4s\n",
      "30:\tlearn: 1662.5852838\ttest: 1730.4650310\tbest: 1730.4650310 (30)\ttotal: 1.82s\tremaining: 9.95s\n",
      "40:\tlearn: 1615.8425554\ttest: 1717.4462885\tbest: 1717.4462885 (40)\ttotal: 2.43s\tremaining: 9.44s\n",
      "50:\tlearn: 1587.4608138\ttest: 1702.8006905\tbest: 1702.8006905 (50)\ttotal: 3.02s\tremaining: 8.84s\n",
      "60:\tlearn: 1563.4781157\ttest: 1697.2335542\tbest: 1697.1015416 (59)\ttotal: 3.6s\tremaining: 8.22s\n",
      "70:\tlearn: 1535.4961319\ttest: 1696.0636123\tbest: 1693.4644388 (64)\ttotal: 4.16s\tremaining: 7.56s\n",
      "80:\tlearn: 1516.6748232\ttest: 1691.9992933\tbest: 1691.9992933 (80)\ttotal: 4.73s\tremaining: 6.95s\n",
      "90:\tlearn: 1494.1891759\ttest: 1692.0488738\tbest: 1691.0828088 (83)\ttotal: 5.31s\tremaining: 6.36s\n",
      "100:\tlearn: 1476.8136392\ttest: 1691.1312464\tbest: 1688.8671694 (95)\ttotal: 5.87s\tremaining: 5.76s\n",
      "110:\tlearn: 1460.8811172\ttest: 1691.8312895\tbest: 1688.8671694 (95)\ttotal: 6.49s\tremaining: 5.21s\n",
      "120:\tlearn: 1443.6250778\ttest: 1691.6204483\tbest: 1688.8671694 (95)\ttotal: 7.06s\tremaining: 4.61s\n",
      "130:\tlearn: 1428.6986794\ttest: 1690.4626954\tbest: 1688.8671694 (95)\ttotal: 7.65s\tremaining: 4.03s\n",
      "140:\tlearn: 1416.1029828\ttest: 1688.4699368\tbest: 1688.4699368 (140)\ttotal: 8.25s\tremaining: 3.45s\n",
      "150:\tlearn: 1404.6716948\ttest: 1686.7377510\tbest: 1686.7377510 (150)\ttotal: 8.82s\tremaining: 2.86s\n",
      "160:\tlearn: 1392.7769337\ttest: 1692.1967569\tbest: 1686.7377510 (150)\ttotal: 9.4s\tremaining: 2.28s\n",
      "170:\tlearn: 1380.3361464\ttest: 1691.9572050\tbest: 1686.7377510 (150)\ttotal: 9.98s\tremaining: 1.69s\n",
      "180:\tlearn: 1367.7917547\ttest: 1695.5220150\tbest: 1686.7377510 (150)\ttotal: 10.6s\tremaining: 1.11s\n",
      "190:\tlearn: 1358.7755995\ttest: 1696.8765281\tbest: 1686.7377510 (150)\ttotal: 11.1s\tremaining: 525ms\n",
      "199:\tlearn: 1350.0416664\ttest: 1697.9162914\tbest: 1686.7377510 (150)\ttotal: 11.6s\tremaining: 0us\n",
      "\n",
      "bestTest = 1686.737751\n",
      "bestIteration = 150\n",
      "\n",
      "0:\tlearn: 5874.0846747\ttest: 5854.4146060\tbest: 5854.4146060 (0)\ttotal: 906ms\tremaining: 44.4s\n",
      "10:\tlearn: 2848.7224823\ttest: 2844.4796385\tbest: 2844.4796385 (10)\ttotal: 8.13s\tremaining: 28.8s\n",
      "20:\tlearn: 2016.7259821\ttest: 2031.7295439\tbest: 2031.7295439 (20)\ttotal: 16.1s\tremaining: 22.3s\n",
      "30:\tlearn: 1805.9780859\ttest: 1833.6358328\tbest: 1833.6358328 (30)\ttotal: 24.1s\tremaining: 14.8s\n",
      "40:\tlearn: 1736.6286396\ttest: 1775.1937014\tbest: 1775.1937014 (40)\ttotal: 32.4s\tremaining: 7.11s\n",
      "49:\tlearn: 1704.6774344\ttest: 1749.4556056\tbest: 1749.4556056 (49)\ttotal: 40.3s\tremaining: 0us\n",
      "\n",
      "bestTest = 1749.455606\n",
      "bestIteration = 49\n",
      "\n",
      "0:\tlearn: 3829.6147791\ttest: 3817.5956345\tbest: 3817.5956345 (0)\ttotal: 915ms\tremaining: 44.9s\n",
      "10:\tlearn: 1728.3218967\ttest: 1773.7912801\tbest: 1773.7912801 (10)\ttotal: 9.7s\tremaining: 34.4s\n",
      "20:\tlearn: 1629.6631470\ttest: 1715.9515706\tbest: 1715.9515706 (20)\ttotal: 18.7s\tremaining: 25.8s\n",
      "30:\tlearn: 1567.1705910\ttest: 1689.9184359\tbest: 1689.9184359 (30)\ttotal: 27.8s\tremaining: 17s\n",
      "40:\tlearn: 1523.7875500\ttest: 1674.5106608\tbest: 1674.5106608 (40)\ttotal: 36.2s\tremaining: 7.94s\n",
      "49:\tlearn: 1489.5160018\ttest: 1662.5400472\tbest: 1662.5400472 (49)\ttotal: 43.6s\tremaining: 0us\n",
      "\n",
      "bestTest = 1662.540047\n",
      "bestIteration = 49\n",
      "\n",
      "0:\tlearn: 2369.2474262\ttest: 2363.0489207\tbest: 2363.0489207 (0)\ttotal: 941ms\tremaining: 46.1s\n",
      "10:\tlearn: 1699.0951146\ttest: 1804.4550435\tbest: 1804.4550435 (10)\ttotal: 9.26s\tremaining: 32.8s\n",
      "20:\tlearn: 1579.8083200\ttest: 1756.4139952\tbest: 1756.4139952 (20)\ttotal: 17.5s\tremaining: 24.1s\n",
      "30:\tlearn: 1499.6473074\ttest: 1744.4310870\tbest: 1744.4310870 (30)\ttotal: 25.6s\tremaining: 15.7s\n",
      "40:\tlearn: 1445.9019625\ttest: 1742.3404703\tbest: 1740.6233682 (38)\ttotal: 33.8s\tremaining: 7.41s\n",
      "49:\tlearn: 1400.2713787\ttest: 1743.7207063\tbest: 1740.6233682 (38)\ttotal: 41.2s\tremaining: 0us\n",
      "\n",
      "bestTest = 1740.623368\n",
      "bestIteration = 38\n",
      "\n",
      "20:\tloss: 1740.6233682\tbest: 1636.4402436 (16)\ttotal: 3m 33s\tremaining: 1m 1s\n",
      "0:\tlearn: 5874.0846747\ttest: 5854.4146060\tbest: 5854.4146060 (0)\ttotal: 808ms\tremaining: 1m 19s\n",
      "10:\tlearn: 2848.7224823\ttest: 2844.4796385\tbest: 2844.4796385 (10)\ttotal: 8.11s\tremaining: 1m 5s\n",
      "20:\tlearn: 2016.7259821\ttest: 2031.7295439\tbest: 2031.7295439 (20)\ttotal: 16.1s\tremaining: 1m\n",
      "30:\tlearn: 1805.9780859\ttest: 1833.6358328\tbest: 1833.6358328 (30)\ttotal: 24.1s\tremaining: 53.6s\n",
      "40:\tlearn: 1736.6286396\ttest: 1775.1937014\tbest: 1775.1937014 (40)\ttotal: 32.4s\tremaining: 46.6s\n",
      "50:\tlearn: 1702.3055901\ttest: 1747.3068328\tbest: 1747.3068328 (50)\ttotal: 40.9s\tremaining: 39.3s\n",
      "60:\tlearn: 1676.9078801\ttest: 1728.8674114\tbest: 1728.8674114 (60)\ttotal: 49.5s\tremaining: 31.6s\n",
      "70:\tlearn: 1655.7540807\ttest: 1713.3740557\tbest: 1713.3740557 (70)\ttotal: 58.2s\tremaining: 23.8s\n",
      "80:\tlearn: 1636.8137732\ttest: 1702.6701001\tbest: 1702.6701001 (80)\ttotal: 1m 6s\tremaining: 15.6s\n",
      "90:\tlearn: 1621.3812233\ttest: 1694.4004295\tbest: 1694.4004295 (90)\ttotal: 1m 14s\tremaining: 7.4s\n",
      "99:\tlearn: 1607.7206412\ttest: 1686.2592091\tbest: 1686.2592091 (99)\ttotal: 1m 22s\tremaining: 0us\n",
      "\n",
      "bestTest = 1686.259209\n",
      "bestIteration = 99\n",
      "\n",
      "0:\tlearn: 3829.6147791\ttest: 3817.5956345\tbest: 3817.5956345 (0)\ttotal: 835ms\tremaining: 1m 22s\n",
      "10:\tlearn: 1728.3218967\ttest: 1773.7912801\tbest: 1773.7912801 (10)\ttotal: 8.94s\tremaining: 1m 12s\n",
      "20:\tlearn: 1629.6631470\ttest: 1715.9515706\tbest: 1715.9515706 (20)\ttotal: 17s\tremaining: 1m 3s\n",
      "30:\tlearn: 1567.1705910\ttest: 1689.9184359\tbest: 1689.9184359 (30)\ttotal: 25.7s\tremaining: 57.3s\n",
      "40:\tlearn: 1523.7875500\ttest: 1674.5106608\tbest: 1674.5106608 (40)\ttotal: 34.6s\tremaining: 49.7s\n",
      "50:\tlearn: 1486.0982738\ttest: 1661.8810535\tbest: 1661.8810535 (50)\ttotal: 43.3s\tremaining: 41.6s\n",
      "60:\tlearn: 1448.1735598\ttest: 1658.5905722\tbest: 1658.5905722 (60)\ttotal: 51.7s\tremaining: 33.1s\n",
      "70:\tlearn: 1418.4190125\ttest: 1653.9003632\tbest: 1653.9003632 (70)\ttotal: 1m\tremaining: 24.6s\n",
      "80:\tlearn: 1390.7081127\ttest: 1651.8863306\tbest: 1651.7355158 (78)\ttotal: 1m 8s\tremaining: 16.1s\n",
      "90:\tlearn: 1366.8500681\ttest: 1651.0772144\tbest: 1650.4451368 (86)\ttotal: 1m 16s\tremaining: 7.61s\n",
      "99:\tlearn: 1344.8853084\ttest: 1649.8022861\tbest: 1649.3051045 (98)\ttotal: 1m 24s\tremaining: 0us\n",
      "\n",
      "bestTest = 1649.305105\n",
      "bestIteration = 98\n",
      "\n",
      "0:\tlearn: 2369.2474262\ttest: 2363.0489207\tbest: 2363.0489207 (0)\ttotal: 875ms\tremaining: 1m 26s\n",
      "10:\tlearn: 1699.0951146\ttest: 1804.4550435\tbest: 1804.4550435 (10)\ttotal: 9.34s\tremaining: 1m 15s\n",
      "20:\tlearn: 1579.8083200\ttest: 1756.4139952\tbest: 1756.4139952 (20)\ttotal: 17.7s\tremaining: 1m 6s\n",
      "30:\tlearn: 1499.6473074\ttest: 1744.4310870\tbest: 1744.4310870 (30)\ttotal: 25.9s\tremaining: 57.7s\n",
      "40:\tlearn: 1445.9019625\ttest: 1742.3404703\tbest: 1740.6233682 (38)\ttotal: 34.3s\tremaining: 49.4s\n",
      "50:\tlearn: 1396.6403232\ttest: 1742.8284753\tbest: 1740.6233682 (38)\ttotal: 42.7s\tremaining: 41s\n",
      "60:\tlearn: 1359.2696995\ttest: 1743.5755662\tbest: 1740.6233682 (38)\ttotal: 51.1s\tremaining: 32.7s\n",
      "70:\tlearn: 1318.9391037\ttest: 1746.8914820\tbest: 1740.6233682 (38)\ttotal: 59.5s\tremaining: 24.3s\n",
      "80:\tlearn: 1287.7288635\ttest: 1750.3773637\tbest: 1740.6233682 (38)\ttotal: 1m 7s\tremaining: 15.9s\n",
      "90:\tlearn: 1260.5107609\ttest: 1751.3939826\tbest: 1740.6233682 (38)\ttotal: 1m 16s\tremaining: 7.54s\n",
      "99:\tlearn: 1237.1530942\ttest: 1752.8105397\tbest: 1740.6233682 (38)\ttotal: 1m 23s\tremaining: 0us\n",
      "\n",
      "bestTest = 1740.623368\n",
      "bestIteration = 38\n",
      "\n",
      "0:\tlearn: 5874.0846747\ttest: 5854.4146060\tbest: 5854.4146060 (0)\ttotal: 839ms\tremaining: 2m 47s\n",
      "10:\tlearn: 2848.7224823\ttest: 2844.4796385\tbest: 2844.4796385 (10)\ttotal: 8.54s\tremaining: 2m 26s\n",
      "20:\tlearn: 2016.7259821\ttest: 2031.7295439\tbest: 2031.7295439 (20)\ttotal: 17s\tremaining: 2m 25s\n",
      "30:\tlearn: 1805.9780859\ttest: 1833.6358328\tbest: 1833.6358328 (30)\ttotal: 25.5s\tremaining: 2m 18s\n",
      "40:\tlearn: 1736.6286396\ttest: 1775.1937014\tbest: 1775.1937014 (40)\ttotal: 34s\tremaining: 2m 11s\n",
      "50:\tlearn: 1702.3055901\ttest: 1747.3068328\tbest: 1747.3068328 (50)\ttotal: 42.6s\tremaining: 2m 4s\n",
      "60:\tlearn: 1676.9078801\ttest: 1728.8674114\tbest: 1728.8674114 (60)\ttotal: 50.8s\tremaining: 1m 55s\n",
      "70:\tlearn: 1655.7540807\ttest: 1713.3740557\tbest: 1713.3740557 (70)\ttotal: 59.1s\tremaining: 1m 47s\n",
      "80:\tlearn: 1636.8137732\ttest: 1702.6701001\tbest: 1702.6701001 (80)\ttotal: 1m 7s\tremaining: 1m 38s\n",
      "90:\tlearn: 1621.3812233\ttest: 1694.4004295\tbest: 1694.4004295 (90)\ttotal: 1m 15s\tremaining: 1m 30s\n",
      "100:\tlearn: 1606.1263766\ttest: 1685.5316571\tbest: 1685.5316571 (100)\ttotal: 1m 23s\tremaining: 1m 21s\n",
      "110:\tlearn: 1592.3313330\ttest: 1679.5039408\tbest: 1679.5039408 (110)\ttotal: 1m 31s\tremaining: 1m 13s\n",
      "120:\tlearn: 1580.6123628\ttest: 1673.9874536\tbest: 1673.9874536 (120)\ttotal: 1m 40s\tremaining: 1m 5s\n",
      "130:\tlearn: 1570.5008397\ttest: 1669.0854828\tbest: 1669.0854828 (130)\ttotal: 1m 48s\tremaining: 57.1s\n",
      "140:\tlearn: 1560.2149579\ttest: 1663.7563840\tbest: 1663.7563840 (140)\ttotal: 1m 56s\tremaining: 48.8s\n",
      "150:\tlearn: 1550.8380466\ttest: 1659.5938999\tbest: 1659.5938999 (150)\ttotal: 2m 4s\tremaining: 40.5s\n",
      "160:\tlearn: 1540.7707741\ttest: 1654.9744674\tbest: 1654.9744674 (160)\ttotal: 2m 12s\tremaining: 32.2s\n",
      "170:\tlearn: 1530.9005729\ttest: 1651.2926117\tbest: 1651.2926117 (170)\ttotal: 2m 20s\tremaining: 23.9s\n",
      "180:\tlearn: 1521.8727995\ttest: 1647.8160199\tbest: 1647.8160199 (180)\ttotal: 2m 28s\tremaining: 15.6s\n",
      "190:\tlearn: 1512.1601787\ttest: 1645.1600180\tbest: 1645.1600180 (190)\ttotal: 2m 36s\tremaining: 7.38s\n",
      "199:\tlearn: 1504.2052541\ttest: 1642.4121571\tbest: 1642.4121571 (199)\ttotal: 2m 44s\tremaining: 0us\n",
      "\n",
      "bestTest = 1642.412157\n",
      "bestIteration = 199\n",
      "\n",
      "0:\tlearn: 3829.6147791\ttest: 3817.5956345\tbest: 3817.5956345 (0)\ttotal: 855ms\tremaining: 2m 50s\n",
      "10:\tlearn: 1728.3218967\ttest: 1773.7912801\tbest: 1773.7912801 (10)\ttotal: 9.07s\tremaining: 2m 35s\n",
      "20:\tlearn: 1629.6631470\ttest: 1715.9515706\tbest: 1715.9515706 (20)\ttotal: 17.2s\tremaining: 2m 26s\n",
      "30:\tlearn: 1567.1705910\ttest: 1689.9184359\tbest: 1689.9184359 (30)\ttotal: 25.6s\tremaining: 2m 19s\n",
      "40:\tlearn: 1523.7875500\ttest: 1674.5106608\tbest: 1674.5106608 (40)\ttotal: 33.7s\tremaining: 2m 10s\n",
      "50:\tlearn: 1486.0982738\ttest: 1661.8810535\tbest: 1661.8810535 (50)\ttotal: 41.9s\tremaining: 2m 2s\n",
      "60:\tlearn: 1448.1735598\ttest: 1658.5905722\tbest: 1658.5905722 (60)\ttotal: 50.4s\tremaining: 1m 54s\n",
      "70:\tlearn: 1418.4190125\ttest: 1653.9003632\tbest: 1653.9003632 (70)\ttotal: 58.8s\tremaining: 1m 46s\n",
      "80:\tlearn: 1390.7081127\ttest: 1651.8863306\tbest: 1651.7355158 (78)\ttotal: 1m 6s\tremaining: 1m 38s\n",
      "90:\tlearn: 1366.8500681\ttest: 1651.0772144\tbest: 1650.4451368 (86)\ttotal: 1m 14s\tremaining: 1m 29s\n",
      "100:\tlearn: 1343.2993141\ttest: 1649.3372366\tbest: 1649.3051045 (98)\ttotal: 1m 22s\tremaining: 1m 21s\n",
      "110:\tlearn: 1324.2857492\ttest: 1647.2347905\tbest: 1647.0835988 (107)\ttotal: 1m 30s\tremaining: 1m 12s\n",
      "120:\tlearn: 1308.7008388\ttest: 1645.3345915\tbest: 1645.3345915 (120)\ttotal: 1m 39s\tremaining: 1m 4s\n",
      "130:\tlearn: 1294.9498258\ttest: 1644.2062179\tbest: 1644.2062179 (130)\ttotal: 1m 47s\tremaining: 56.8s\n",
      "140:\tlearn: 1281.2895767\ttest: 1643.3651101\tbest: 1643.0093904 (139)\ttotal: 1m 57s\tremaining: 49s\n",
      "150:\tlearn: 1266.2107063\ttest: 1643.6882265\tbest: 1643.0093904 (139)\ttotal: 2m 6s\tremaining: 41s\n",
      "160:\tlearn: 1253.9042445\ttest: 1643.6440734\tbest: 1643.0093904 (139)\ttotal: 2m 14s\tremaining: 32.7s\n",
      "170:\tlearn: 1242.2649731\ttest: 1643.5681283\tbest: 1643.0093904 (139)\ttotal: 2m 23s\tremaining: 24.4s\n",
      "180:\tlearn: 1226.7387161\ttest: 1643.7130787\tbest: 1643.0093904 (139)\ttotal: 2m 32s\tremaining: 16s\n",
      "190:\tlearn: 1216.8357235\ttest: 1643.7150983\tbest: 1643.0093904 (139)\ttotal: 2m 41s\tremaining: 7.61s\n",
      "199:\tlearn: 1207.1631789\ttest: 1643.6523526\tbest: 1643.0093904 (139)\ttotal: 2m 50s\tremaining: 0us\n",
      "\n",
      "bestTest = 1643.00939\n",
      "bestIteration = 139\n",
      "\n",
      "0:\tlearn: 2369.2474262\ttest: 2363.0489207\tbest: 2363.0489207 (0)\ttotal: 1.03s\tremaining: 3m 25s\n",
      "10:\tlearn: 1699.0951146\ttest: 1804.4550435\tbest: 1804.4550435 (10)\ttotal: 10.6s\tremaining: 3m 2s\n",
      "20:\tlearn: 1579.8083200\ttest: 1756.4139952\tbest: 1756.4139952 (20)\ttotal: 19.6s\tremaining: 2m 47s\n",
      "30:\tlearn: 1499.6473074\ttest: 1744.4310870\tbest: 1744.4310870 (30)\ttotal: 28.5s\tremaining: 2m 35s\n",
      "40:\tlearn: 1445.9019625\ttest: 1742.3404703\tbest: 1740.6233682 (38)\ttotal: 37.2s\tremaining: 2m 24s\n",
      "50:\tlearn: 1396.6403232\ttest: 1742.8284753\tbest: 1740.6233682 (38)\ttotal: 45.9s\tremaining: 2m 14s\n",
      "60:\tlearn: 1359.2696995\ttest: 1743.5755662\tbest: 1740.6233682 (38)\ttotal: 55s\tremaining: 2m 5s\n",
      "70:\tlearn: 1318.9391037\ttest: 1746.8914820\tbest: 1740.6233682 (38)\ttotal: 1m 4s\tremaining: 1m 57s\n",
      "80:\tlearn: 1287.7288635\ttest: 1750.3773637\tbest: 1740.6233682 (38)\ttotal: 1m 13s\tremaining: 1m 48s\n",
      "90:\tlearn: 1260.5107609\ttest: 1751.3939826\tbest: 1740.6233682 (38)\ttotal: 1m 22s\tremaining: 1m 39s\n",
      "100:\tlearn: 1235.5750870\ttest: 1753.2704571\tbest: 1740.6233682 (38)\ttotal: 1m 31s\tremaining: 1m 29s\n",
      "110:\tlearn: 1213.1528303\ttest: 1754.5869489\tbest: 1740.6233682 (38)\ttotal: 1m 40s\tremaining: 1m 20s\n",
      "120:\tlearn: 1193.7441638\ttest: 1757.7209741\tbest: 1740.6233682 (38)\ttotal: 1m 49s\tremaining: 1m 11s\n",
      "130:\tlearn: 1177.9756159\ttest: 1758.5246500\tbest: 1740.6233682 (38)\ttotal: 1m 58s\tremaining: 1m 2s\n",
      "140:\tlearn: 1164.1856675\ttest: 1759.6867895\tbest: 1740.6233682 (38)\ttotal: 2m 8s\tremaining: 53.6s\n",
      "150:\tlearn: 1150.2542937\ttest: 1761.1860182\tbest: 1740.6233682 (38)\ttotal: 2m 17s\tremaining: 44.7s\n",
      "160:\tlearn: 1134.6986155\ttest: 1763.1808663\tbest: 1740.6233682 (38)\ttotal: 2m 27s\tremaining: 35.7s\n",
      "170:\tlearn: 1120.7149754\ttest: 1762.9156771\tbest: 1740.6233682 (38)\ttotal: 2m 37s\tremaining: 26.7s\n",
      "180:\tlearn: 1107.6729860\ttest: 1763.7948674\tbest: 1740.6233682 (38)\ttotal: 2m 47s\tremaining: 17.5s\n",
      "190:\tlearn: 1094.0031518\ttest: 1766.7598354\tbest: 1740.6233682 (38)\ttotal: 2m 56s\tremaining: 8.3s\n",
      "199:\tlearn: 1081.5931618\ttest: 1767.8894521\tbest: 1740.6233682 (38)\ttotal: 3m 4s\tremaining: 0us\n",
      "\n",
      "bestTest = 1740.623368\n",
      "bestIteration = 38\n",
      "\n",
      "26:\tloss: 1740.6233682\tbest: 1636.4402436 (16)\ttotal: 16m 23s\tremaining: 0us\n",
      "Estimating final quality...\n",
      "Training on fold [0/3]\n",
      "0:\tlearn: 3891.0076818\ttest: 3916.5334013\tbest: 3916.5334013 (0)\ttotal: 57.6ms\tremaining: 11.5s\n",
      "10:\tlearn: 1834.0779107\ttest: 1871.7328395\tbest: 1871.7328395 (10)\ttotal: 603ms\tremaining: 10.4s\n",
      "20:\tlearn: 1747.5826968\ttest: 1799.9310785\tbest: 1799.9310785 (20)\ttotal: 1.18s\tremaining: 10s\n",
      "30:\tlearn: 1694.6105005\ttest: 1756.7076836\tbest: 1756.7076836 (30)\ttotal: 1.81s\tremaining: 9.88s\n",
      "40:\tlearn: 1657.6915265\ttest: 1734.7341510\tbest: 1734.7341510 (40)\ttotal: 2.36s\tremaining: 9.16s\n",
      "50:\tlearn: 1631.1069313\ttest: 1719.4092968\tbest: 1719.4092968 (50)\ttotal: 2.96s\tremaining: 8.63s\n",
      "60:\tlearn: 1601.6513501\ttest: 1706.2331714\tbest: 1706.2331714 (60)\ttotal: 3.49s\tremaining: 7.95s\n",
      "70:\tlearn: 1578.7165927\ttest: 1699.2230600\tbest: 1699.2230600 (70)\ttotal: 4.16s\tremaining: 7.57s\n",
      "80:\tlearn: 1557.7361706\ttest: 1693.5198093\tbest: 1693.5198093 (80)\ttotal: 4.76s\tremaining: 6.99s\n",
      "90:\tlearn: 1540.5714517\ttest: 1689.5355039\tbest: 1689.4546575 (89)\ttotal: 5.3s\tremaining: 6.34s\n",
      "100:\tlearn: 1526.1302310\ttest: 1684.5949414\tbest: 1684.5949414 (100)\ttotal: 5.84s\tremaining: 5.72s\n",
      "110:\tlearn: 1513.1372516\ttest: 1681.6928325\tbest: 1681.6928325 (110)\ttotal: 6.35s\tremaining: 5.09s\n",
      "120:\tlearn: 1497.3965442\ttest: 1678.7611622\tbest: 1678.7611622 (120)\ttotal: 6.92s\tremaining: 4.52s\n",
      "130:\tlearn: 1483.6079412\ttest: 1675.7613135\tbest: 1675.7613135 (130)\ttotal: 7.44s\tremaining: 3.92s\n",
      "140:\tlearn: 1472.2936785\ttest: 1672.9319047\tbest: 1672.9319047 (140)\ttotal: 7.96s\tremaining: 3.33s\n",
      "150:\tlearn: 1461.4327488\ttest: 1671.0231087\tbest: 1671.0231087 (150)\ttotal: 8.49s\tremaining: 2.75s\n",
      "160:\tlearn: 1449.0615260\ttest: 1667.5289459\tbest: 1667.5289459 (160)\ttotal: 9.02s\tremaining: 2.19s\n",
      "170:\tlearn: 1440.0159081\ttest: 1666.4298964\tbest: 1666.4298964 (170)\ttotal: 9.54s\tremaining: 1.62s\n",
      "180:\tlearn: 1431.3998494\ttest: 1664.6176186\tbest: 1664.6176186 (180)\ttotal: 10.1s\tremaining: 1.05s\n",
      "190:\tlearn: 1423.1978074\ttest: 1664.3494949\tbest: 1663.7742920 (185)\ttotal: 10.6s\tremaining: 498ms\n",
      "199:\tlearn: 1414.3360338\ttest: 1663.7636888\tbest: 1663.3967512 (194)\ttotal: 11.1s\tremaining: 0us\n",
      "\n",
      "bestTest = 1663.396751\n",
      "bestIteration = 194\n",
      "\n",
      "Training on fold [1/3]\n",
      "0:\tlearn: 3894.8640670\ttest: 3893.1634615\tbest: 3893.1634615 (0)\ttotal: 50.2ms\tremaining: 10s\n",
      "10:\tlearn: 1839.4190224\ttest: 1860.5119628\tbest: 1860.5119628 (10)\ttotal: 572ms\tremaining: 9.82s\n",
      "20:\tlearn: 1748.0266183\ttest: 1782.9897848\tbest: 1782.9897848 (20)\ttotal: 1.09s\tremaining: 9.31s\n",
      "30:\tlearn: 1694.2477890\ttest: 1745.2367704\tbest: 1745.2367704 (30)\ttotal: 1.71s\tremaining: 9.29s\n",
      "40:\tlearn: 1654.5790985\ttest: 1720.9124116\tbest: 1720.9124116 (40)\ttotal: 2.24s\tremaining: 8.7s\n",
      "50:\tlearn: 1624.6260587\ttest: 1704.0066491\tbest: 1704.0066491 (50)\ttotal: 2.77s\tremaining: 8.09s\n",
      "60:\tlearn: 1598.8414314\ttest: 1692.8389276\tbest: 1692.8389276 (60)\ttotal: 3.29s\tremaining: 7.5s\n",
      "70:\tlearn: 1573.5750501\ttest: 1683.1021578\tbest: 1683.1021578 (70)\ttotal: 3.79s\tremaining: 6.89s\n",
      "80:\tlearn: 1552.0609513\ttest: 1674.7518225\tbest: 1674.7518225 (80)\ttotal: 4.29s\tremaining: 6.31s\n",
      "90:\tlearn: 1535.4392783\ttest: 1670.3564351\tbest: 1670.1295331 (89)\ttotal: 4.81s\tremaining: 5.77s\n",
      "100:\tlearn: 1521.0762358\ttest: 1665.5338318\tbest: 1665.5338318 (100)\ttotal: 5.4s\tremaining: 5.29s\n",
      "110:\tlearn: 1507.8817548\ttest: 1662.4086578\tbest: 1662.4086578 (110)\ttotal: 5.93s\tremaining: 4.76s\n",
      "120:\tlearn: 1493.9063240\ttest: 1661.4779058\tbest: 1661.4779058 (120)\ttotal: 6.47s\tremaining: 4.23s\n",
      "130:\tlearn: 1481.6985347\ttest: 1657.3450420\tbest: 1657.3450420 (130)\ttotal: 6.99s\tremaining: 3.68s\n",
      "140:\tlearn: 1469.7448236\ttest: 1655.6817318\tbest: 1655.6817318 (140)\ttotal: 7.49s\tremaining: 3.14s\n",
      "150:\tlearn: 1458.8172850\ttest: 1653.3761493\tbest: 1653.2210534 (149)\ttotal: 8.01s\tremaining: 2.6s\n",
      "160:\tlearn: 1449.8881267\ttest: 1653.7436880\tbest: 1653.1220324 (153)\ttotal: 8.52s\tremaining: 2.06s\n",
      "170:\tlearn: 1439.6850427\ttest: 1651.4404287\tbest: 1651.4404287 (170)\ttotal: 9.05s\tremaining: 1.53s\n",
      "180:\tlearn: 1428.4365417\ttest: 1650.3869047\tbest: 1650.3682050 (175)\ttotal: 9.54s\tremaining: 1s\n",
      "190:\tlearn: 1418.3735595\ttest: 1648.9347956\tbest: 1648.9306158 (189)\ttotal: 10.1s\tremaining: 474ms\n",
      "199:\tlearn: 1411.5515945\ttest: 1648.1988190\tbest: 1648.1988190 (199)\ttotal: 10.6s\tremaining: 0us\n",
      "\n",
      "bestTest = 1648.198819\n",
      "bestIteration = 199\n",
      "\n",
      "Training on fold [2/3]\n",
      "0:\tlearn: 3893.1363377\ttest: 3882.9874755\tbest: 3882.9874755 (0)\ttotal: 63.5ms\tremaining: 12.6s\n",
      "10:\tlearn: 1837.3571849\ttest: 1864.1492634\tbest: 1864.1492634 (10)\ttotal: 649ms\tremaining: 11.2s\n",
      "20:\tlearn: 1748.7394759\ttest: 1790.8896082\tbest: 1790.8896082 (20)\ttotal: 1.25s\tremaining: 10.6s\n",
      "30:\tlearn: 1696.9579325\ttest: 1753.6125413\tbest: 1753.6125413 (30)\ttotal: 1.81s\tremaining: 9.88s\n",
      "40:\tlearn: 1658.9678040\ttest: 1728.4898062\tbest: 1728.4898062 (40)\ttotal: 2.34s\tremaining: 9.09s\n",
      "50:\tlearn: 1627.6293731\ttest: 1712.0870840\tbest: 1712.0870840 (50)\ttotal: 2.98s\tremaining: 8.72s\n",
      "60:\tlearn: 1603.0347691\ttest: 1701.8918219\tbest: 1701.8918219 (60)\ttotal: 3.58s\tremaining: 8.16s\n",
      "70:\tlearn: 1578.5483946\ttest: 1692.9835611\tbest: 1692.9835611 (70)\ttotal: 4.16s\tremaining: 7.57s\n",
      "80:\tlearn: 1561.3443830\ttest: 1684.9965971\tbest: 1684.9965971 (80)\ttotal: 4.86s\tremaining: 7.15s\n",
      "90:\tlearn: 1540.1808845\ttest: 1679.6757163\tbest: 1679.6757163 (90)\ttotal: 5.41s\tremaining: 6.48s\n",
      "100:\tlearn: 1524.6681823\ttest: 1676.1507201\tbest: 1676.1507201 (100)\ttotal: 6.07s\tremaining: 5.95s\n",
      "110:\tlearn: 1509.1570111\ttest: 1672.2670228\tbest: 1672.2670228 (110)\ttotal: 6.61s\tremaining: 5.3s\n",
      "120:\tlearn: 1493.3817613\ttest: 1669.3011804\tbest: 1669.1496638 (117)\ttotal: 7.16s\tremaining: 4.67s\n",
      "130:\tlearn: 1479.9444029\ttest: 1666.6551749\tbest: 1666.6551749 (130)\ttotal: 7.67s\tremaining: 4.04s\n",
      "140:\tlearn: 1468.2980981\ttest: 1663.2335361\tbest: 1663.2335361 (140)\ttotal: 8.2s\tremaining: 3.43s\n",
      "150:\tlearn: 1458.1854435\ttest: 1662.0333971\tbest: 1661.6204478 (146)\ttotal: 8.71s\tremaining: 2.83s\n",
      "160:\tlearn: 1449.1200135\ttest: 1659.8046945\tbest: 1659.8046945 (160)\ttotal: 9.24s\tremaining: 2.24s\n",
      "170:\tlearn: 1437.4718133\ttest: 1658.4636758\tbest: 1658.4636758 (170)\ttotal: 9.89s\tremaining: 1.68s\n",
      "180:\tlearn: 1427.7745346\ttest: 1656.6016673\tbest: 1656.5173699 (179)\ttotal: 10.4s\tremaining: 1.09s\n",
      "190:\tlearn: 1417.7852158\ttest: 1655.1753266\tbest: 1655.1753266 (190)\ttotal: 10.9s\tremaining: 514ms\n",
      "199:\tlearn: 1412.0275839\ttest: 1654.9388770\tbest: 1654.9388770 (199)\ttotal: 11.4s\tremaining: 0us\n",
      "\n",
      "bestTest = 1654.938877\n",
      "bestIteration = 199\n",
      "\n",
      "CPU times: user 11min 43s, sys: 5min 29s, total: 17min 12s\n",
      "Wall time: 17min 16s\n"
     ]
    }
   ],
   "source": [
    "%%time\n",
    "\n",
    "model = catboost.CatBoostRegressor(loss_function='RMSE', verbose=10, thread_count=-1, random_seed=42)\n",
    "\n",
    "params = {'learning_rate': (0.1, 0.5, 1),\n",
    "        'depth': (5, 10, 15),\n",
    "        'iterations' : [50, 100, 200]}\n",
    "\n",
    "grid = model.grid_search(param_grid=params, X=X_train, y=y_train, verbose=10, plot=True)"
   ]
  },
  {
   "cell_type": "code",
   "execution_count": 42,
   "metadata": {},
   "outputs": [
    {
     "data": {
      "text/plain": [
       "{'depth': 10, 'iterations': 200, 'learning_rate': 0.5}"
      ]
     },
     "execution_count": 42,
     "metadata": {},
     "output_type": "execute_result"
    }
   ],
   "source": [
    "grid[\"params\"]"
   ]
  },
  {
   "cell_type": "code",
   "execution_count": 43,
   "metadata": {},
   "outputs": [
    {
     "data": {
      "text/html": [
       "<div>\n",
       "<style scoped>\n",
       "    .dataframe tbody tr th:only-of-type {\n",
       "        vertical-align: middle;\n",
       "    }\n",
       "\n",
       "    .dataframe tbody tr th {\n",
       "        vertical-align: top;\n",
       "    }\n",
       "\n",
       "    .dataframe thead th {\n",
       "        text-align: right;\n",
       "    }\n",
       "</style>\n",
       "<table border=\"1\" class=\"dataframe\">\n",
       "  <thead>\n",
       "    <tr style=\"text-align: right;\">\n",
       "      <th></th>\n",
       "      <th>iterations</th>\n",
       "      <th>test-RMSE-mean</th>\n",
       "      <th>test-RMSE-std</th>\n",
       "      <th>train-RMSE-mean</th>\n",
       "      <th>train-RMSE-std</th>\n",
       "    </tr>\n",
       "  </thead>\n",
       "  <tbody>\n",
       "    <tr>\n",
       "      <th>194</th>\n",
       "      <td>194</td>\n",
       "      <td>1655.613542</td>\n",
       "      <td>7.540530</td>\n",
       "      <td>1416.471876</td>\n",
       "      <td>2.633349</td>\n",
       "    </tr>\n",
       "    <tr>\n",
       "      <th>199</th>\n",
       "      <td>199</td>\n",
       "      <td>1655.633795</td>\n",
       "      <td>7.805669</td>\n",
       "      <td>1412.638404</td>\n",
       "      <td>1.489329</td>\n",
       "    </tr>\n",
       "    <tr>\n",
       "      <th>193</th>\n",
       "      <td>193</td>\n",
       "      <td>1655.642631</td>\n",
       "      <td>7.568796</td>\n",
       "      <td>1417.329377</td>\n",
       "      <td>2.862694</td>\n",
       "    </tr>\n",
       "    <tr>\n",
       "      <th>197</th>\n",
       "      <td>197</td>\n",
       "      <td>1655.687729</td>\n",
       "      <td>7.568296</td>\n",
       "      <td>1414.119972</td>\n",
       "      <td>1.226461</td>\n",
       "    </tr>\n",
       "    <tr>\n",
       "      <th>198</th>\n",
       "      <td>198</td>\n",
       "      <td>1655.690099</td>\n",
       "      <td>7.710089</td>\n",
       "      <td>1413.390659</td>\n",
       "      <td>1.040329</td>\n",
       "    </tr>\n",
       "    <tr>\n",
       "      <th>...</th>\n",
       "      <td>...</td>\n",
       "      <td>...</td>\n",
       "      <td>...</td>\n",
       "      <td>...</td>\n",
       "      <td>...</td>\n",
       "    </tr>\n",
       "    <tr>\n",
       "      <th>4</th>\n",
       "      <td>4</td>\n",
       "      <td>2009.951340</td>\n",
       "      <td>8.941059</td>\n",
       "      <td>1995.631406</td>\n",
       "      <td>4.031506</td>\n",
       "    </tr>\n",
       "    <tr>\n",
       "      <th>3</th>\n",
       "      <td>3</td>\n",
       "      <td>2101.859386</td>\n",
       "      <td>9.342180</td>\n",
       "      <td>2091.329253</td>\n",
       "      <td>7.351345</td>\n",
       "    </tr>\n",
       "    <tr>\n",
       "      <th>2</th>\n",
       "      <td>2</td>\n",
       "      <td>2312.891617</td>\n",
       "      <td>7.493393</td>\n",
       "      <td>2304.245469</td>\n",
       "      <td>7.443967</td>\n",
       "    </tr>\n",
       "    <tr>\n",
       "      <th>1</th>\n",
       "      <td>1</td>\n",
       "      <td>2773.140596</td>\n",
       "      <td>9.781106</td>\n",
       "      <td>2767.891359</td>\n",
       "      <td>3.412079</td>\n",
       "    </tr>\n",
       "    <tr>\n",
       "      <th>0</th>\n",
       "      <td>0</td>\n",
       "      <td>3897.561446</td>\n",
       "      <td>17.199971</td>\n",
       "      <td>3893.002696</td>\n",
       "      <td>1.931663</td>\n",
       "    </tr>\n",
       "  </tbody>\n",
       "</table>\n",
       "<p>200 rows × 5 columns</p>\n",
       "</div>"
      ],
      "text/plain": [
       "     iterations  test-RMSE-mean  test-RMSE-std  train-RMSE-mean  \\\n",
       "194         194     1655.613542       7.540530      1416.471876   \n",
       "199         199     1655.633795       7.805669      1412.638404   \n",
       "193         193     1655.642631       7.568796      1417.329377   \n",
       "197         197     1655.687729       7.568296      1414.119972   \n",
       "198         198     1655.690099       7.710089      1413.390659   \n",
       "..          ...             ...            ...              ...   \n",
       "4             4     2009.951340       8.941059      1995.631406   \n",
       "3             3     2101.859386       9.342180      2091.329253   \n",
       "2             2     2312.891617       7.493393      2304.245469   \n",
       "1             1     2773.140596       9.781106      2767.891359   \n",
       "0             0     3897.561446      17.199971      3893.002696   \n",
       "\n",
       "     train-RMSE-std  \n",
       "194        2.633349  \n",
       "199        1.489329  \n",
       "193        2.862694  \n",
       "197        1.226461  \n",
       "198        1.040329  \n",
       "..              ...  \n",
       "4          4.031506  \n",
       "3          7.351345  \n",
       "2          7.443967  \n",
       "1          3.412079  \n",
       "0          1.931663  \n",
       "\n",
       "[200 rows x 5 columns]"
      ]
     },
     "execution_count": 43,
     "metadata": {},
     "output_type": "execute_result"
    }
   ],
   "source": [
    "pd.DataFrame(grid[\"cv_results\"]).sort_values(by=['test-RMSE-mean'])"
   ]
  },
  {
   "cell_type": "code",
   "execution_count": 44,
   "metadata": {},
   "outputs": [
    {
     "name": "stdout",
     "output_type": "stream",
     "text": [
      "0:\tlearn: 3084.5514181\ttotal: 67ms\tremaining: 13.3s\n",
      "10:\tlearn: 1830.5067823\ttotal: 819ms\tremaining: 14.1s\n",
      "20:\tlearn: 1747.4038894\ttotal: 1.5s\tremaining: 12.8s\n",
      "30:\tlearn: 1697.2381965\ttotal: 2.18s\tremaining: 11.9s\n",
      "40:\tlearn: 1660.7478013\ttotal: 2.83s\tremaining: 11s\n",
      "50:\tlearn: 1633.7481228\ttotal: 3.46s\tremaining: 10.1s\n",
      "60:\tlearn: 1610.5349476\ttotal: 4.13s\tremaining: 9.4s\n",
      "70:\tlearn: 1590.2117396\ttotal: 4.79s\tremaining: 8.7s\n",
      "80:\tlearn: 1574.8423183\ttotal: 5.48s\tremaining: 8.05s\n",
      "90:\tlearn: 1559.0117276\ttotal: 6.15s\tremaining: 7.36s\n",
      "100:\tlearn: 1545.0074820\ttotal: 6.8s\tremaining: 6.66s\n",
      "110:\tlearn: 1532.2830420\ttotal: 7.45s\tremaining: 5.97s\n",
      "120:\tlearn: 1519.7738415\ttotal: 8.12s\tremaining: 5.3s\n",
      "130:\tlearn: 1509.3214232\ttotal: 8.79s\tremaining: 4.63s\n",
      "140:\tlearn: 1497.1520050\ttotal: 9.44s\tremaining: 3.95s\n",
      "150:\tlearn: 1487.9003437\ttotal: 10.1s\tremaining: 3.28s\n",
      "160:\tlearn: 1478.9244509\ttotal: 10.8s\tremaining: 2.62s\n",
      "170:\tlearn: 1470.8932552\ttotal: 11.5s\tremaining: 1.94s\n",
      "180:\tlearn: 1462.7164874\ttotal: 12.1s\tremaining: 1.27s\n",
      "190:\tlearn: 1456.0346205\ttotal: 12.8s\tremaining: 601ms\n",
      "199:\tlearn: 1448.3539085\ttotal: 13.3s\tremaining: 0us\n",
      "RMSE of catboost: 1619.8489141785253\n",
      "CPU times: user 15 s, sys: 8.2 ms, total: 15 s\n",
      "Wall time: 15.5 s\n"
     ]
    }
   ],
   "source": [
    "%%time\n",
    "\n",
    "model = catboost.CatBoostRegressor(loss_function='RMSE', **grid['params'], verbose=10, thread_count=-1, random_seed=42)\n",
    "model.fit(X_train, y_train)\n",
    "predicted = model.predict(X_test)\n",
    "print(\"RMSE of catboost:\", mean_squared_error(y_test, predicted, squared=False))"
   ]
  },
  {
   "cell_type": "code",
   "execution_count": 45,
   "metadata": {},
   "outputs": [
    {
     "name": "stdout",
     "output_type": "stream",
     "text": [
      "0:\tlearn: 4199.8276258\ttotal: 65ms\tremaining: 12.9s\n",
      "10:\tlearn: 2538.5753199\ttotal: 770ms\tremaining: 13.2s\n",
      "20:\tlearn: 2082.6002727\ttotal: 1.41s\tremaining: 12s\n",
      "30:\tlearn: 1920.9216976\ttotal: 2.08s\tremaining: 11.3s\n",
      "40:\tlearn: 1854.5930479\ttotal: 2.75s\tremaining: 10.7s\n",
      "50:\tlearn: 1819.5622952\ttotal: 3.38s\tremaining: 9.87s\n",
      "60:\tlearn: 1795.9630928\ttotal: 4.04s\tremaining: 9.2s\n",
      "70:\tlearn: 1771.9193030\ttotal: 4.7s\tremaining: 8.53s\n",
      "80:\tlearn: 1754.0045701\ttotal: 5.4s\tremaining: 7.94s\n",
      "90:\tlearn: 1739.5942332\ttotal: 6.04s\tremaining: 7.24s\n",
      "100:\tlearn: 1727.3011869\ttotal: 6.69s\tremaining: 6.55s\n",
      "110:\tlearn: 1715.8676763\ttotal: 7.31s\tremaining: 5.86s\n",
      "120:\tlearn: 1704.3112269\ttotal: 7.96s\tremaining: 5.19s\n",
      "130:\tlearn: 1693.6327284\ttotal: 8.6s\tremaining: 4.53s\n",
      "140:\tlearn: 1684.5235379\ttotal: 9.24s\tremaining: 3.87s\n",
      "150:\tlearn: 1675.9064869\ttotal: 9.9s\tremaining: 3.21s\n",
      "160:\tlearn: 1667.8884608\ttotal: 10.5s\tremaining: 2.55s\n",
      "170:\tlearn: 1660.8289195\ttotal: 11.2s\tremaining: 1.9s\n",
      "180:\tlearn: 1653.5511558\ttotal: 11.8s\tremaining: 1.24s\n",
      "190:\tlearn: 1647.5340776\ttotal: 12.5s\tremaining: 589ms\n",
      "199:\tlearn: 1642.6284780\ttotal: 13.1s\tremaining: 0us\n",
      "RMSE of catboost: 1679.7998971344591\n",
      "CPU times: user 14.6 s, sys: 44.7 ms, total: 14.7 s\n",
      "Wall time: 15.4 s\n"
     ]
    }
   ],
   "source": [
    "%%time\n",
    "\n",
    "model = catboost.CatBoostRegressor(loss_function='RMSE', depth=10, iterations=200, learning_rate=0.1, verbose=10, thread_count=-1, random_seed=42)\n",
    "model.fit(X_train, y_train)\n",
    "predicted = model.predict(X_test)\n",
    "print(\"RMSE of catboost:\", mean_squared_error(y_test, predicted, squared=False))"
   ]
  },
  {
   "cell_type": "markdown",
   "metadata": {},
   "source": [
    "### LightGBM"
   ]
  },
  {
   "cell_type": "code",
   "execution_count": 46,
   "metadata": {},
   "outputs": [
    {
     "name": "stdout",
     "output_type": "stream",
     "text": [
      "[LightGBM] [Debug] Dataset::GetMultiBinFromSparseFeatures: sparse rate 0.920033\n",
      "[LightGBM] [Debug] Dataset::GetMultiBinFromAllFeatures: sparse rate 0.466909\n",
      "[LightGBM] [Debug] init for col-wise cost 0.380639 seconds, init for row-wise cost 0.398887 seconds\n",
      "[LightGBM] [Warning] Auto-choosing row-wise multi-threading, the overhead of testing was 0.486846 seconds.\n",
      "You can set `force_row_wise=true` to remove the overhead.\n",
      "And if memory is not enough, you can set `force_col_wise=true`.\n",
      "[LightGBM] [Debug] Using Sparse Multi-Val Bin\n",
      "[LightGBM] [Info] Total Bins 1108\n",
      "[LightGBM] [Info] Number of data points in the train set: 235283, number of used features: 295\n",
      "[LightGBM] [Info] Start training from score 4556.946639\n",
      "[LightGBM] [Debug] Trained a tree with leaves = 31 and depth = 7\n",
      "[LightGBM] [Debug] Trained a tree with leaves = 31 and depth = 7\n",
      "[LightGBM] [Debug] Trained a tree with leaves = 31 and depth = 7\n",
      "[LightGBM] [Debug] Trained a tree with leaves = 31 and depth = 6\n",
      "[LightGBM] [Debug] Trained a tree with leaves = 31 and depth = 7\n",
      "[LightGBM] [Debug] Trained a tree with leaves = 31 and depth = 7\n",
      "[LightGBM] [Debug] Trained a tree with leaves = 31 and depth = 7\n",
      "[LightGBM] [Debug] Trained a tree with leaves = 31 and depth = 8\n",
      "[LightGBM] [Debug] Trained a tree with leaves = 31 and depth = 8\n",
      "[LightGBM] [Debug] Trained a tree with leaves = 31 and depth = 9\n",
      "[LightGBM] [Debug] Trained a tree with leaves = 31 and depth = 8\n",
      "[LightGBM] [Debug] Trained a tree with leaves = 31 and depth = 11\n",
      "[LightGBM] [Debug] Trained a tree with leaves = 31 and depth = 8\n",
      "[LightGBM] [Debug] Trained a tree with leaves = 31 and depth = 11\n",
      "[LightGBM] [Debug] Trained a tree with leaves = 31 and depth = 11\n",
      "[LightGBM] [Debug] Trained a tree with leaves = 31 and depth = 14\n",
      "[LightGBM] [Debug] Trained a tree with leaves = 31 and depth = 12\n",
      "[LightGBM] [Debug] Trained a tree with leaves = 31 and depth = 7\n",
      "[LightGBM] [Debug] Trained a tree with leaves = 31 and depth = 11\n",
      "[LightGBM] [Debug] Trained a tree with leaves = 31 and depth = 13\n",
      "[LightGBM] [Debug] Trained a tree with leaves = 31 and depth = 10\n",
      "[LightGBM] [Debug] Trained a tree with leaves = 31 and depth = 11\n",
      "[LightGBM] [Debug] Trained a tree with leaves = 31 and depth = 12\n",
      "[LightGBM] [Debug] Trained a tree with leaves = 31 and depth = 11\n",
      "[LightGBM] [Debug] Trained a tree with leaves = 31 and depth = 8\n",
      "[LightGBM] [Debug] Trained a tree with leaves = 31 and depth = 10\n",
      "[LightGBM] [Debug] Trained a tree with leaves = 31 and depth = 14\n",
      "[LightGBM] [Debug] Trained a tree with leaves = 31 and depth = 10\n",
      "[LightGBM] [Debug] Trained a tree with leaves = 31 and depth = 13\n",
      "[LightGBM] [Debug] Trained a tree with leaves = 31 and depth = 15\n",
      "[LightGBM] [Debug] Trained a tree with leaves = 31 and depth = 12\n",
      "[LightGBM] [Debug] Trained a tree with leaves = 31 and depth = 13\n",
      "[LightGBM] [Debug] Trained a tree with leaves = 31 and depth = 17\n",
      "[LightGBM] [Debug] Trained a tree with leaves = 31 and depth = 10\n",
      "[LightGBM] [Debug] Trained a tree with leaves = 31 and depth = 12\n",
      "[LightGBM] [Debug] Trained a tree with leaves = 31 and depth = 13\n",
      "[LightGBM] [Debug] Trained a tree with leaves = 31 and depth = 11\n",
      "[LightGBM] [Debug] Trained a tree with leaves = 31 and depth = 14\n",
      "[LightGBM] [Debug] Trained a tree with leaves = 31 and depth = 12\n",
      "[LightGBM] [Debug] Trained a tree with leaves = 31 and depth = 16\n",
      "[LightGBM] [Debug] Trained a tree with leaves = 31 and depth = 14\n",
      "[LightGBM] [Debug] Trained a tree with leaves = 31 and depth = 12\n",
      "[LightGBM] [Debug] Trained a tree with leaves = 31 and depth = 11\n",
      "[LightGBM] [Debug] Trained a tree with leaves = 31 and depth = 19\n",
      "[LightGBM] [Debug] Trained a tree with leaves = 31 and depth = 15\n",
      "[LightGBM] [Debug] Trained a tree with leaves = 31 and depth = 18\n",
      "[LightGBM] [Debug] Trained a tree with leaves = 31 and depth = 13\n",
      "[LightGBM] [Debug] Trained a tree with leaves = 31 and depth = 13\n",
      "[LightGBM] [Debug] Trained a tree with leaves = 31 and depth = 16\n",
      "[LightGBM] [Debug] Trained a tree with leaves = 31 and depth = 12\n",
      "[LightGBM] [Debug] Trained a tree with leaves = 31 and depth = 17\n",
      "[LightGBM] [Debug] Trained a tree with leaves = 31 and depth = 14\n",
      "[LightGBM] [Debug] Trained a tree with leaves = 31 and depth = 16\n",
      "[LightGBM] [Debug] Trained a tree with leaves = 31 and depth = 12\n",
      "[LightGBM] [Debug] Trained a tree with leaves = 31 and depth = 21\n",
      "[LightGBM] [Debug] Trained a tree with leaves = 31 and depth = 15\n",
      "[LightGBM] [Debug] Trained a tree with leaves = 31 and depth = 15\n",
      "[LightGBM] [Debug] Trained a tree with leaves = 31 and depth = 20\n",
      "[LightGBM] [Debug] Trained a tree with leaves = 31 and depth = 19\n",
      "[LightGBM] [Debug] Trained a tree with leaves = 31 and depth = 15\n",
      "[LightGBM] [Debug] Trained a tree with leaves = 31 and depth = 15\n",
      "[LightGBM] [Debug] Trained a tree with leaves = 31 and depth = 22\n",
      "[LightGBM] [Debug] Trained a tree with leaves = 31 and depth = 23\n",
      "[LightGBM] [Debug] Trained a tree with leaves = 31 and depth = 10\n",
      "[LightGBM] [Debug] Trained a tree with leaves = 31 and depth = 13\n",
      "[LightGBM] [Debug] Trained a tree with leaves = 31 and depth = 16\n",
      "[LightGBM] [Debug] Trained a tree with leaves = 31 and depth = 12\n",
      "[LightGBM] [Debug] Trained a tree with leaves = 31 and depth = 15\n",
      "[LightGBM] [Debug] Trained a tree with leaves = 31 and depth = 13\n",
      "[LightGBM] [Debug] Trained a tree with leaves = 31 and depth = 16\n",
      "[LightGBM] [Debug] Trained a tree with leaves = 31 and depth = 19\n",
      "[LightGBM] [Debug] Trained a tree with leaves = 31 and depth = 17\n",
      "[LightGBM] [Debug] Trained a tree with leaves = 31 and depth = 19\n",
      "[LightGBM] [Debug] Trained a tree with leaves = 31 and depth = 16\n",
      "[LightGBM] [Debug] Trained a tree with leaves = 31 and depth = 20\n",
      "[LightGBM] [Debug] Trained a tree with leaves = 31 and depth = 20\n",
      "[LightGBM] [Debug] Trained a tree with leaves = 31 and depth = 16\n",
      "[LightGBM] [Debug] Trained a tree with leaves = 31 and depth = 11\n",
      "[LightGBM] [Debug] Trained a tree with leaves = 31 and depth = 16\n",
      "[LightGBM] [Debug] Trained a tree with leaves = 31 and depth = 13\n",
      "[LightGBM] [Debug] Trained a tree with leaves = 31 and depth = 18\n",
      "[LightGBM] [Debug] Trained a tree with leaves = 31 and depth = 17\n",
      "[LightGBM] [Debug] Trained a tree with leaves = 31 and depth = 20\n",
      "[LightGBM] [Debug] Trained a tree with leaves = 31 and depth = 14\n",
      "[LightGBM] [Debug] Trained a tree with leaves = 31 and depth = 14\n",
      "[LightGBM] [Debug] Trained a tree with leaves = 31 and depth = 14\n",
      "[LightGBM] [Debug] Trained a tree with leaves = 31 and depth = 19\n",
      "[LightGBM] [Debug] Trained a tree with leaves = 31 and depth = 17\n",
      "[LightGBM] [Debug] Trained a tree with leaves = 31 and depth = 13\n",
      "[LightGBM] [Debug] Trained a tree with leaves = 31 and depth = 12\n",
      "[LightGBM] [Debug] Trained a tree with leaves = 31 and depth = 20\n",
      "[LightGBM] [Debug] Trained a tree with leaves = 31 and depth = 15\n",
      "[LightGBM] [Debug] Trained a tree with leaves = 31 and depth = 18\n",
      "[LightGBM] [Debug] Trained a tree with leaves = 31 and depth = 18\n",
      "[LightGBM] [Debug] Trained a tree with leaves = 31 and depth = 14\n",
      "[LightGBM] [Debug] Trained a tree with leaves = 31 and depth = 15\n",
      "[LightGBM] [Debug] Trained a tree with leaves = 31 and depth = 15\n",
      "[LightGBM] [Debug] Trained a tree with leaves = 31 and depth = 14\n",
      "[LightGBM] [Debug] Trained a tree with leaves = 31 and depth = 16\n",
      "[LightGBM] [Debug] Trained a tree with leaves = 31 and depth = 18\n",
      "CPU times: user 5min 59s, sys: 5.16 s, total: 6min 4s\n",
      "Wall time: 6min 6s\n"
     ]
    },
    {
     "data": {
      "text/plain": [
       "LGBMRegressor(metric='rmse', random_state=42, verbose=10)"
      ]
     },
     "execution_count": 46,
     "metadata": {},
     "output_type": "execute_result"
    }
   ],
   "source": [
    "%%time\n",
    "\n",
    "model = lightgbm.LGBMRegressor(metric='rmse', verbose=10, n_jobs=-1, random_state=42) \n",
    "model.fit(X_train, y_train, eval_metric='rmse')"
   ]
  },
  {
   "cell_type": "code",
   "execution_count": 47,
   "metadata": {},
   "outputs": [
    {
     "name": "stdout",
     "output_type": "stream",
     "text": [
      "RMSE of LightGBM: 1725.0976281943606\n",
      "CPU times: user 826 ms, sys: 110 ms, total: 937 ms\n",
      "Wall time: 976 ms\n"
     ]
    }
   ],
   "source": [
    "%%time\n",
    "predicted = model.predict(X_test)\n",
    "print(\"RMSE of LightGBM:\", mean_squared_error(y_test, predicted, squared=False))"
   ]
  },
  {
   "cell_type": "code",
   "execution_count": 48,
   "metadata": {
    "scrolled": true
   },
   "outputs": [
    {
     "name": "stdout",
     "output_type": "stream",
     "text": [
      "[LightGBM] [Debug] Dataset::GetMultiBinFromSparseFeatures: sparse rate 0.920033\n",
      "[LightGBM] [Debug] Dataset::GetMultiBinFromAllFeatures: sparse rate 0.466909\n",
      "[LightGBM] [Debug] init for col-wise cost 0.377533 seconds, init for row-wise cost 0.400973 seconds\n",
      "[LightGBM] [Warning] Auto-choosing col-wise multi-threading, the overhead of testing was 0.506886 seconds.\n",
      "You can set `force_col_wise=true` to remove the overhead.\n",
      "[LightGBM] [Info] Total Bins 1108\n",
      "[LightGBM] [Info] Number of data points in the train set: 235283, number of used features: 295\n",
      "[LightGBM] [Info] Start training from score 4556.946639\n",
      "[LightGBM] [Debug] Trained a tree with leaves = 100 and depth = 10\n",
      "[1]\tvalid_0's rmse: 4207.74\n",
      "[LightGBM] [Debug] Trained a tree with leaves = 100 and depth = 12\n",
      "[2]\tvalid_0's rmse: 3904.45\n",
      "[LightGBM] [Debug] Trained a tree with leaves = 100 and depth = 11\n",
      "[3]\tvalid_0's rmse: 3638.34\n",
      "[LightGBM] [Debug] Trained a tree with leaves = 100 and depth = 12\n",
      "[4]\tvalid_0's rmse: 3405.03\n",
      "[LightGBM] [Debug] Trained a tree with leaves = 100 and depth = 10\n",
      "[5]\tvalid_0's rmse: 3199.74\n",
      "[LightGBM] [Debug] Trained a tree with leaves = 100 and depth = 13\n",
      "[6]\tvalid_0's rmse: 3021.33\n",
      "[LightGBM] [Debug] Trained a tree with leaves = 100 and depth = 13\n",
      "[7]\tvalid_0's rmse: 2864.28\n",
      "[LightGBM] [Debug] Trained a tree with leaves = 100 and depth = 10\n",
      "[8]\tvalid_0's rmse: 2728.16\n",
      "[LightGBM] [Debug] Trained a tree with leaves = 100 and depth = 11\n",
      "[9]\tvalid_0's rmse: 2610.19\n",
      "[LightGBM] [Debug] Trained a tree with leaves = 100 and depth = 13\n",
      "[10]\tvalid_0's rmse: 2506.85\n",
      "[LightGBM] [Debug] Trained a tree with leaves = 100 and depth = 12\n",
      "[11]\tvalid_0's rmse: 2415.9\n",
      "[LightGBM] [Debug] Trained a tree with leaves = 100 and depth = 13\n",
      "[12]\tvalid_0's rmse: 2337.52\n",
      "[LightGBM] [Debug] Trained a tree with leaves = 100 and depth = 13\n",
      "[13]\tvalid_0's rmse: 2264.53\n",
      "[LightGBM] [Debug] Trained a tree with leaves = 100 and depth = 16\n",
      "[14]\tvalid_0's rmse: 2201.59\n",
      "[LightGBM] [Debug] Trained a tree with leaves = 100 and depth = 13\n",
      "[15]\tvalid_0's rmse: 2147.43\n",
      "[LightGBM] [Debug] Trained a tree with leaves = 100 and depth = 12\n",
      "[16]\tvalid_0's rmse: 2100.87\n",
      "[LightGBM] [Debug] Trained a tree with leaves = 100 and depth = 13\n",
      "[17]\tvalid_0's rmse: 2060.05\n",
      "[LightGBM] [Debug] Trained a tree with leaves = 100 and depth = 14\n",
      "[18]\tvalid_0's rmse: 2022.53\n",
      "[LightGBM] [Debug] Trained a tree with leaves = 100 and depth = 13\n",
      "[19]\tvalid_0's rmse: 1990.14\n",
      "[LightGBM] [Debug] Trained a tree with leaves = 100 and depth = 17\n",
      "[20]\tvalid_0's rmse: 1959.26\n",
      "[LightGBM] [Debug] Trained a tree with leaves = 100 and depth = 14\n",
      "[21]\tvalid_0's rmse: 1933.46\n",
      "[LightGBM] [Debug] Trained a tree with leaves = 100 and depth = 15\n",
      "[22]\tvalid_0's rmse: 1912.21\n",
      "[LightGBM] [Debug] Trained a tree with leaves = 100 and depth = 19\n",
      "[23]\tvalid_0's rmse: 1891.24\n",
      "[LightGBM] [Debug] Trained a tree with leaves = 100 and depth = 16\n",
      "[24]\tvalid_0's rmse: 1873.24\n",
      "[LightGBM] [Debug] Trained a tree with leaves = 100 and depth = 17\n",
      "[25]\tvalid_0's rmse: 1856.21\n",
      "[LightGBM] [Debug] Trained a tree with leaves = 100 and depth = 17\n",
      "[26]\tvalid_0's rmse: 1841.78\n",
      "[LightGBM] [Debug] Trained a tree with leaves = 100 and depth = 19\n",
      "[27]\tvalid_0's rmse: 1827.37\n",
      "[LightGBM] [Debug] Trained a tree with leaves = 100 and depth = 24\n",
      "[28]\tvalid_0's rmse: 1815.49\n",
      "[LightGBM] [Debug] Trained a tree with leaves = 100 and depth = 17\n",
      "[29]\tvalid_0's rmse: 1803.86\n",
      "[LightGBM] [Debug] Trained a tree with leaves = 100 and depth = 15\n",
      "[30]\tvalid_0's rmse: 1794.11\n",
      "[LightGBM] [Debug] Trained a tree with leaves = 100 and depth = 17\n",
      "[31]\tvalid_0's rmse: 1784.63\n",
      "[LightGBM] [Debug] Trained a tree with leaves = 100 and depth = 17\n",
      "[32]\tvalid_0's rmse: 1776.47\n",
      "[LightGBM] [Debug] Trained a tree with leaves = 100 and depth = 16\n",
      "[33]\tvalid_0's rmse: 1769.41\n",
      "[LightGBM] [Debug] Trained a tree with leaves = 100 and depth = 16\n",
      "[34]\tvalid_0's rmse: 1763.08\n",
      "[LightGBM] [Debug] Trained a tree with leaves = 100 and depth = 16\n",
      "[35]\tvalid_0's rmse: 1757.42\n",
      "[LightGBM] [Debug] Trained a tree with leaves = 100 and depth = 24\n",
      "[36]\tvalid_0's rmse: 1751.04\n",
      "[LightGBM] [Debug] Trained a tree with leaves = 100 and depth = 22\n",
      "[37]\tvalid_0's rmse: 1745.36\n",
      "[LightGBM] [Debug] Trained a tree with leaves = 100 and depth = 20\n",
      "[38]\tvalid_0's rmse: 1741.04\n",
      "[LightGBM] [Debug] Trained a tree with leaves = 100 and depth = 26\n",
      "[39]\tvalid_0's rmse: 1736.11\n",
      "[LightGBM] [Debug] Trained a tree with leaves = 100 and depth = 22\n",
      "[40]\tvalid_0's rmse: 1731.54\n",
      "[LightGBM] [Debug] Trained a tree with leaves = 100 and depth = 21\n",
      "[41]\tvalid_0's rmse: 1728.22\n",
      "[LightGBM] [Debug] Trained a tree with leaves = 100 and depth = 25\n",
      "[42]\tvalid_0's rmse: 1724.34\n",
      "[LightGBM] [Debug] Trained a tree with leaves = 100 and depth = 23\n",
      "[43]\tvalid_0's rmse: 1721.38\n",
      "[LightGBM] [Debug] Trained a tree with leaves = 100 and depth = 30\n",
      "[44]\tvalid_0's rmse: 1717.56\n",
      "[LightGBM] [Debug] Trained a tree with leaves = 100 and depth = 28\n",
      "[45]\tvalid_0's rmse: 1715.04\n",
      "[LightGBM] [Debug] Trained a tree with leaves = 100 and depth = 35\n",
      "[46]\tvalid_0's rmse: 1711.33\n",
      "[LightGBM] [Debug] Trained a tree with leaves = 100 and depth = 23\n",
      "[47]\tvalid_0's rmse: 1707.52\n",
      "[LightGBM] [Debug] Trained a tree with leaves = 100 and depth = 18\n",
      "[48]\tvalid_0's rmse: 1705.23\n",
      "[LightGBM] [Debug] Trained a tree with leaves = 100 and depth = 20\n",
      "[49]\tvalid_0's rmse: 1702.88\n",
      "[LightGBM] [Debug] Trained a tree with leaves = 100 and depth = 26\n",
      "[50]\tvalid_0's rmse: 1700.43\n",
      "[LightGBM] [Debug] Trained a tree with leaves = 100 and depth = 28\n",
      "[51]\tvalid_0's rmse: 1697.9\n",
      "[LightGBM] [Debug] Trained a tree with leaves = 100 and depth = 29\n",
      "[52]\tvalid_0's rmse: 1695.48\n",
      "[LightGBM] [Debug] Trained a tree with leaves = 100 and depth = 34\n",
      "[53]\tvalid_0's rmse: 1693.57\n",
      "[LightGBM] [Debug] Trained a tree with leaves = 100 and depth = 34\n",
      "[54]\tvalid_0's rmse: 1691.35\n",
      "[LightGBM] [Debug] Trained a tree with leaves = 100 and depth = 27\n",
      "[55]\tvalid_0's rmse: 1689.31\n",
      "[LightGBM] [Debug] Trained a tree with leaves = 100 and depth = 33\n",
      "[56]\tvalid_0's rmse: 1687.27\n",
      "[LightGBM] [Debug] Trained a tree with leaves = 100 and depth = 27\n",
      "[57]\tvalid_0's rmse: 1685.61\n",
      "[LightGBM] [Debug] Trained a tree with leaves = 100 and depth = 41\n",
      "[58]\tvalid_0's rmse: 1683.98\n",
      "[LightGBM] [Debug] Trained a tree with leaves = 100 and depth = 33\n",
      "[59]\tvalid_0's rmse: 1682.21\n",
      "[LightGBM] [Debug] Trained a tree with leaves = 100 and depth = 41\n",
      "[60]\tvalid_0's rmse: 1680.96\n",
      "[LightGBM] [Debug] Trained a tree with leaves = 100 and depth = 18\n",
      "[61]\tvalid_0's rmse: 1679.3\n",
      "[LightGBM] [Debug] Trained a tree with leaves = 100 and depth = 27\n",
      "[62]\tvalid_0's rmse: 1677.29\n",
      "[LightGBM] [Debug] Trained a tree with leaves = 100 and depth = 33\n",
      "[63]\tvalid_0's rmse: 1675.67\n",
      "[LightGBM] [Debug] Trained a tree with leaves = 100 and depth = 32\n",
      "[64]\tvalid_0's rmse: 1674.14\n",
      "[LightGBM] [Debug] Trained a tree with leaves = 100 and depth = 28\n",
      "[65]\tvalid_0's rmse: 1672.99\n",
      "[LightGBM] [Debug] Trained a tree with leaves = 100 and depth = 24\n",
      "[66]\tvalid_0's rmse: 1671.91\n",
      "[LightGBM] [Debug] Trained a tree with leaves = 100 and depth = 30\n",
      "[67]\tvalid_0's rmse: 1670.2\n",
      "[LightGBM] [Debug] Trained a tree with leaves = 100 and depth = 34\n",
      "[68]\tvalid_0's rmse: 1669.25\n",
      "[LightGBM] [Debug] Trained a tree with leaves = 100 and depth = 39\n",
      "[69]\tvalid_0's rmse: 1667.88\n",
      "[LightGBM] [Debug] Trained a tree with leaves = 100 and depth = 27\n",
      "[70]\tvalid_0's rmse: 1666.85\n",
      "[LightGBM] [Debug] Trained a tree with leaves = 100 and depth = 28\n",
      "[71]\tvalid_0's rmse: 1665.87\n",
      "[LightGBM] [Debug] Trained a tree with leaves = 100 and depth = 20\n",
      "[72]\tvalid_0's rmse: 1664.71\n",
      "[LightGBM] [Debug] Trained a tree with leaves = 100 and depth = 28\n",
      "[73]\tvalid_0's rmse: 1663.67\n",
      "[LightGBM] [Debug] Trained a tree with leaves = 100 and depth = 31\n",
      "[74]\tvalid_0's rmse: 1662.63\n",
      "[LightGBM] [Debug] Trained a tree with leaves = 100 and depth = 32\n",
      "[75]\tvalid_0's rmse: 1661.67\n",
      "[LightGBM] [Debug] Trained a tree with leaves = 100 and depth = 32\n",
      "[76]\tvalid_0's rmse: 1660.94\n",
      "[LightGBM] [Debug] Trained a tree with leaves = 100 and depth = 26\n",
      "[77]\tvalid_0's rmse: 1660.16\n",
      "[LightGBM] [Debug] Trained a tree with leaves = 100 and depth = 44\n",
      "[78]\tvalid_0's rmse: 1659.55\n",
      "[LightGBM] [Debug] Trained a tree with leaves = 100 and depth = 26\n",
      "[79]\tvalid_0's rmse: 1658.77\n",
      "[LightGBM] [Debug] Trained a tree with leaves = 100 and depth = 18\n",
      "[80]\tvalid_0's rmse: 1657.7\n",
      "[LightGBM] [Debug] Trained a tree with leaves = 100 and depth = 33\n",
      "[81]\tvalid_0's rmse: 1656.68\n",
      "[LightGBM] [Debug] Trained a tree with leaves = 100 and depth = 19\n",
      "[82]\tvalid_0's rmse: 1655.83\n",
      "[LightGBM] [Debug] Trained a tree with leaves = 100 and depth = 22\n",
      "[83]\tvalid_0's rmse: 1655.06\n",
      "[LightGBM] [Debug] Trained a tree with leaves = 100 and depth = 35\n",
      "[84]\tvalid_0's rmse: 1654.24\n",
      "[LightGBM] [Debug] Trained a tree with leaves = 100 and depth = 36\n",
      "[85]\tvalid_0's rmse: 1653.68\n",
      "[LightGBM] [Debug] Trained a tree with leaves = 100 and depth = 27\n",
      "[86]\tvalid_0's rmse: 1652.75\n",
      "[LightGBM] [Debug] Trained a tree with leaves = 100 and depth = 22\n",
      "[87]\tvalid_0's rmse: 1651.92\n",
      "[LightGBM] [Debug] Trained a tree with leaves = 100 and depth = 21\n",
      "[88]\tvalid_0's rmse: 1651.38\n",
      "[LightGBM] [Debug] Trained a tree with leaves = 100 and depth = 31\n",
      "[89]\tvalid_0's rmse: 1650.9\n",
      "[LightGBM] [Debug] Trained a tree with leaves = 100 and depth = 24\n",
      "[90]\tvalid_0's rmse: 1650.27\n",
      "[LightGBM] [Debug] Trained a tree with leaves = 100 and depth = 18\n",
      "[91]\tvalid_0's rmse: 1649.73\n",
      "[LightGBM] [Debug] Trained a tree with leaves = 100 and depth = 25\n",
      "[92]\tvalid_0's rmse: 1649.27\n",
      "[LightGBM] [Debug] Trained a tree with leaves = 100 and depth = 22\n",
      "[93]\tvalid_0's rmse: 1648.9\n",
      "[LightGBM] [Debug] Trained a tree with leaves = 100 and depth = 27\n",
      "[94]\tvalid_0's rmse: 1648.36\n",
      "[LightGBM] [Debug] Trained a tree with leaves = 100 and depth = 21\n",
      "[95]\tvalid_0's rmse: 1647.94\n",
      "[LightGBM] [Debug] Trained a tree with leaves = 100 and depth = 25\n",
      "[96]\tvalid_0's rmse: 1647.21\n",
      "[LightGBM] [Debug] Trained a tree with leaves = 100 and depth = 22\n",
      "[97]\tvalid_0's rmse: 1646.78\n",
      "[LightGBM] [Debug] Trained a tree with leaves = 100 and depth = 25\n",
      "[98]\tvalid_0's rmse: 1646.19\n",
      "[LightGBM] [Debug] Trained a tree with leaves = 100 and depth = 23\n",
      "[99]\tvalid_0's rmse: 1645.76\n",
      "[LightGBM] [Debug] Trained a tree with leaves = 100 and depth = 32\n",
      "[100]\tvalid_0's rmse: 1645.56\n",
      "[LightGBM] [Debug] Trained a tree with leaves = 100 and depth = 20\n",
      "[101]\tvalid_0's rmse: 1645.32\n",
      "[LightGBM] [Debug] Trained a tree with leaves = 100 and depth = 32\n",
      "[102]\tvalid_0's rmse: 1645.01\n",
      "[LightGBM] [Debug] Trained a tree with leaves = 100 and depth = 16\n",
      "[103]\tvalid_0's rmse: 1644.03\n",
      "[LightGBM] [Debug] Trained a tree with leaves = 100 and depth = 21\n",
      "[104]\tvalid_0's rmse: 1643.64\n",
      "[LightGBM] [Debug] Trained a tree with leaves = 100 and depth = 27\n",
      "[105]\tvalid_0's rmse: 1643.15\n",
      "[LightGBM] [Debug] Trained a tree with leaves = 100 and depth = 21\n",
      "[106]\tvalid_0's rmse: 1642.56\n",
      "[LightGBM] [Debug] Trained a tree with leaves = 100 and depth = 27\n",
      "[107]\tvalid_0's rmse: 1642.32\n",
      "[LightGBM] [Debug] Trained a tree with leaves = 100 and depth = 20\n",
      "[108]\tvalid_0's rmse: 1641.98\n",
      "[LightGBM] [Debug] Trained a tree with leaves = 100 and depth = 21\n",
      "[109]\tvalid_0's rmse: 1641.63\n",
      "[LightGBM] [Debug] Trained a tree with leaves = 100 and depth = 21\n",
      "[110]\tvalid_0's rmse: 1641.18\n",
      "[LightGBM] [Debug] Trained a tree with leaves = 100 and depth = 19\n",
      "[111]\tvalid_0's rmse: 1640.86\n",
      "[LightGBM] [Debug] Trained a tree with leaves = 100 and depth = 24\n",
      "[112]\tvalid_0's rmse: 1640.21\n",
      "[LightGBM] [Debug] Trained a tree with leaves = 100 and depth = 19\n",
      "[113]\tvalid_0's rmse: 1639.67\n",
      "[LightGBM] [Debug] Trained a tree with leaves = 100 and depth = 19\n",
      "[114]\tvalid_0's rmse: 1639.6\n",
      "[LightGBM] [Debug] Trained a tree with leaves = 100 and depth = 23\n",
      "[115]\tvalid_0's rmse: 1638.87\n",
      "[LightGBM] [Debug] Trained a tree with leaves = 100 and depth = 24\n",
      "[116]\tvalid_0's rmse: 1638.33\n",
      "[LightGBM] [Debug] Trained a tree with leaves = 100 and depth = 20\n",
      "[117]\tvalid_0's rmse: 1638.12\n",
      "[LightGBM] [Debug] Trained a tree with leaves = 100 and depth = 27\n",
      "[118]\tvalid_0's rmse: 1637.61\n",
      "[LightGBM] [Debug] Trained a tree with leaves = 100 and depth = 20\n",
      "[119]\tvalid_0's rmse: 1637.53\n",
      "[LightGBM] [Debug] Trained a tree with leaves = 100 and depth = 21\n",
      "[120]\tvalid_0's rmse: 1637.53\n",
      "[LightGBM] [Debug] Trained a tree with leaves = 100 and depth = 25\n",
      "[121]\tvalid_0's rmse: 1636.96\n",
      "[LightGBM] [Debug] Trained a tree with leaves = 100 and depth = 32\n",
      "[122]\tvalid_0's rmse: 1636.46\n",
      "[LightGBM] [Debug] Trained a tree with leaves = 100 and depth = 18\n",
      "[123]\tvalid_0's rmse: 1635.92\n",
      "[LightGBM] [Debug] Trained a tree with leaves = 100 and depth = 23\n",
      "[124]\tvalid_0's rmse: 1635.58\n",
      "[LightGBM] [Debug] Trained a tree with leaves = 100 and depth = 32\n",
      "[125]\tvalid_0's rmse: 1635.3\n",
      "[LightGBM] [Debug] Trained a tree with leaves = 100 and depth = 19\n",
      "[126]\tvalid_0's rmse: 1634.98\n",
      "[LightGBM] [Debug] Trained a tree with leaves = 100 and depth = 18\n",
      "[127]\tvalid_0's rmse: 1634.5\n",
      "[LightGBM] [Debug] Trained a tree with leaves = 100 and depth = 21\n",
      "[128]\tvalid_0's rmse: 1634.06\n",
      "[LightGBM] [Debug] Trained a tree with leaves = 100 and depth = 15\n",
      "[129]\tvalid_0's rmse: 1633.77\n",
      "[LightGBM] [Debug] Trained a tree with leaves = 100 and depth = 26\n",
      "[130]\tvalid_0's rmse: 1633.53\n",
      "[LightGBM] [Debug] Trained a tree with leaves = 100 and depth = 20\n",
      "[131]\tvalid_0's rmse: 1633.12\n",
      "[LightGBM] [Debug] Trained a tree with leaves = 100 and depth = 21\n",
      "[132]\tvalid_0's rmse: 1632.84\n",
      "[LightGBM] [Debug] Trained a tree with leaves = 100 and depth = 26\n",
      "[133]\tvalid_0's rmse: 1632.19\n",
      "[LightGBM] [Debug] Trained a tree with leaves = 100 and depth = 19\n",
      "[134]\tvalid_0's rmse: 1631.85\n",
      "[LightGBM] [Debug] Trained a tree with leaves = 100 and depth = 32\n",
      "[135]\tvalid_0's rmse: 1631.56\n",
      "[LightGBM] [Debug] Trained a tree with leaves = 100 and depth = 24\n",
      "[136]\tvalid_0's rmse: 1631.31\n",
      "[LightGBM] [Debug] Trained a tree with leaves = 100 and depth = 19\n",
      "[137]\tvalid_0's rmse: 1630.79\n",
      "[LightGBM] [Debug] Trained a tree with leaves = 100 and depth = 24\n",
      "[138]\tvalid_0's rmse: 1630.39\n",
      "[LightGBM] [Debug] Trained a tree with leaves = 100 and depth = 22\n",
      "[139]\tvalid_0's rmse: 1630.24\n",
      "[LightGBM] [Debug] Trained a tree with leaves = 100 and depth = 24\n",
      "[140]\tvalid_0's rmse: 1630\n",
      "[LightGBM] [Debug] Trained a tree with leaves = 100 and depth = 27\n",
      "[141]\tvalid_0's rmse: 1629.52\n",
      "[LightGBM] [Debug] Trained a tree with leaves = 100 and depth = 31\n",
      "[142]\tvalid_0's rmse: 1629.2\n",
      "[LightGBM] [Debug] Trained a tree with leaves = 100 and depth = 19\n",
      "[143]\tvalid_0's rmse: 1628.87\n",
      "[LightGBM] [Debug] Trained a tree with leaves = 100 and depth = 17\n",
      "[144]\tvalid_0's rmse: 1628.66\n",
      "[LightGBM] [Debug] Trained a tree with leaves = 100 and depth = 18\n",
      "[145]\tvalid_0's rmse: 1628.23\n",
      "[LightGBM] [Debug] Trained a tree with leaves = 100 and depth = 34\n",
      "[146]\tvalid_0's rmse: 1627.84\n",
      "[LightGBM] [Debug] Trained a tree with leaves = 100 and depth = 19\n",
      "[147]\tvalid_0's rmse: 1627.49\n",
      "[LightGBM] [Debug] Trained a tree with leaves = 100 and depth = 27\n",
      "[148]\tvalid_0's rmse: 1627.3\n",
      "[LightGBM] [Debug] Trained a tree with leaves = 100 and depth = 23\n",
      "[149]\tvalid_0's rmse: 1627.09\n",
      "[LightGBM] [Debug] Trained a tree with leaves = 100 and depth = 16\n",
      "[150]\tvalid_0's rmse: 1626.85\n",
      "[LightGBM] [Debug] Trained a tree with leaves = 100 and depth = 27\n",
      "[151]\tvalid_0's rmse: 1626.39\n",
      "[LightGBM] [Debug] Trained a tree with leaves = 100 and depth = 28\n",
      "[152]\tvalid_0's rmse: 1626.17\n",
      "[LightGBM] [Debug] Trained a tree with leaves = 100 and depth = 20\n",
      "[153]\tvalid_0's rmse: 1625.98\n",
      "[LightGBM] [Debug] Trained a tree with leaves = 100 and depth = 17\n",
      "[154]\tvalid_0's rmse: 1625.79\n",
      "[LightGBM] [Debug] Trained a tree with leaves = 100 and depth = 26\n",
      "[155]\tvalid_0's rmse: 1625.53\n",
      "[LightGBM] [Debug] Trained a tree with leaves = 100 and depth = 21\n",
      "[156]\tvalid_0's rmse: 1625.33\n",
      "[LightGBM] [Debug] Trained a tree with leaves = 100 and depth = 18\n",
      "[157]\tvalid_0's rmse: 1625.15\n",
      "[LightGBM] [Debug] Trained a tree with leaves = 100 and depth = 17\n",
      "[158]\tvalid_0's rmse: 1624.78\n",
      "[LightGBM] [Debug] Trained a tree with leaves = 100 and depth = 20\n",
      "[159]\tvalid_0's rmse: 1624.56\n",
      "[LightGBM] [Debug] Trained a tree with leaves = 100 and depth = 17\n",
      "[160]\tvalid_0's rmse: 1624.23\n",
      "[LightGBM] [Debug] Trained a tree with leaves = 100 and depth = 24\n",
      "[161]\tvalid_0's rmse: 1624.16\n",
      "[LightGBM] [Debug] Trained a tree with leaves = 100 and depth = 24\n",
      "[162]\tvalid_0's rmse: 1624.01\n",
      "[LightGBM] [Debug] Trained a tree with leaves = 100 and depth = 20\n",
      "[163]\tvalid_0's rmse: 1623.6\n",
      "[LightGBM] [Debug] Trained a tree with leaves = 100 and depth = 29\n",
      "[164]\tvalid_0's rmse: 1623.5\n",
      "[LightGBM] [Debug] Trained a tree with leaves = 100 and depth = 21\n",
      "[165]\tvalid_0's rmse: 1623.28\n",
      "[LightGBM] [Debug] Trained a tree with leaves = 100 and depth = 26\n",
      "[166]\tvalid_0's rmse: 1622.87\n",
      "[LightGBM] [Debug] Trained a tree with leaves = 100 and depth = 23\n",
      "[167]\tvalid_0's rmse: 1622.67\n",
      "[LightGBM] [Debug] Trained a tree with leaves = 100 and depth = 20\n",
      "[168]\tvalid_0's rmse: 1622.34\n",
      "[LightGBM] [Debug] Trained a tree with leaves = 100 and depth = 24\n",
      "[169]\tvalid_0's rmse: 1622.25\n",
      "[LightGBM] [Debug] Trained a tree with leaves = 100 and depth = 23\n",
      "[170]\tvalid_0's rmse: 1621.82\n",
      "[LightGBM] [Debug] Trained a tree with leaves = 100 and depth = 22\n",
      "[171]\tvalid_0's rmse: 1621.6\n",
      "[LightGBM] [Debug] Trained a tree with leaves = 100 and depth = 27\n",
      "[172]\tvalid_0's rmse: 1621.31\n",
      "[LightGBM] [Debug] Trained a tree with leaves = 100 and depth = 19\n",
      "[173]\tvalid_0's rmse: 1621.15\n",
      "[LightGBM] [Debug] Trained a tree with leaves = 100 and depth = 18\n",
      "[174]\tvalid_0's rmse: 1621.07\n",
      "[LightGBM] [Debug] Trained a tree with leaves = 100 and depth = 23\n",
      "[175]\tvalid_0's rmse: 1620.61\n",
      "[LightGBM] [Debug] Trained a tree with leaves = 100 and depth = 14\n",
      "[176]\tvalid_0's rmse: 1620.51\n",
      "[LightGBM] [Debug] Trained a tree with leaves = 100 and depth = 21\n",
      "[177]\tvalid_0's rmse: 1620.34\n",
      "[LightGBM] [Debug] Trained a tree with leaves = 100 and depth = 21\n",
      "[178]\tvalid_0's rmse: 1620.1\n",
      "[LightGBM] [Debug] Trained a tree with leaves = 100 and depth = 23\n",
      "[179]\tvalid_0's rmse: 1619.92\n",
      "[LightGBM] [Debug] Trained a tree with leaves = 100 and depth = 26\n",
      "[180]\tvalid_0's rmse: 1619.73\n",
      "[LightGBM] [Debug] Trained a tree with leaves = 100 and depth = 17\n",
      "[181]\tvalid_0's rmse: 1619.64\n",
      "[LightGBM] [Debug] Trained a tree with leaves = 100 and depth = 17\n",
      "[182]\tvalid_0's rmse: 1619.36\n",
      "[LightGBM] [Debug] Trained a tree with leaves = 100 and depth = 16\n",
      "[183]\tvalid_0's rmse: 1619.18\n",
      "[LightGBM] [Debug] Trained a tree with leaves = 100 and depth = 18\n",
      "[184]\tvalid_0's rmse: 1619.02\n",
      "[LightGBM] [Debug] Trained a tree with leaves = 100 and depth = 17\n",
      "[185]\tvalid_0's rmse: 1618.87\n",
      "[LightGBM] [Debug] Trained a tree with leaves = 100 and depth = 23\n",
      "[186]\tvalid_0's rmse: 1618.78\n",
      "[LightGBM] [Debug] Trained a tree with leaves = 100 and depth = 21\n",
      "[187]\tvalid_0's rmse: 1618.58\n",
      "[LightGBM] [Debug] Trained a tree with leaves = 100 and depth = 19\n",
      "[188]\tvalid_0's rmse: 1618.37\n",
      "[LightGBM] [Debug] Trained a tree with leaves = 100 and depth = 20\n",
      "[189]\tvalid_0's rmse: 1618.43\n",
      "[LightGBM] [Debug] Trained a tree with leaves = 100 and depth = 25\n",
      "[190]\tvalid_0's rmse: 1618.54\n",
      "[LightGBM] [Debug] Trained a tree with leaves = 100 and depth = 23\n",
      "[191]\tvalid_0's rmse: 1618.21\n",
      "[LightGBM] [Debug] Trained a tree with leaves = 100 and depth = 22\n",
      "[192]\tvalid_0's rmse: 1617.95\n",
      "[LightGBM] [Debug] Trained a tree with leaves = 100 and depth = 23\n",
      "[193]\tvalid_0's rmse: 1617.8\n",
      "[LightGBM] [Debug] Trained a tree with leaves = 100 and depth = 18\n",
      "[194]\tvalid_0's rmse: 1617.69\n",
      "[LightGBM] [Debug] Trained a tree with leaves = 100 and depth = 17\n",
      "[195]\tvalid_0's rmse: 1617.61\n",
      "[LightGBM] [Debug] Trained a tree with leaves = 100 and depth = 18\n",
      "[196]\tvalid_0's rmse: 1617.44\n",
      "[LightGBM] [Debug] Trained a tree with leaves = 100 and depth = 20\n",
      "[197]\tvalid_0's rmse: 1617.39\n",
      "[LightGBM] [Debug] Trained a tree with leaves = 100 and depth = 16\n",
      "[198]\tvalid_0's rmse: 1617.06\n",
      "[LightGBM] [Debug] Trained a tree with leaves = 100 and depth = 23\n",
      "[199]\tvalid_0's rmse: 1616.92\n",
      "[LightGBM] [Debug] Trained a tree with leaves = 100 and depth = 18\n",
      "[200]\tvalid_0's rmse: 1616.65\n",
      "CPU times: user 3min 13s, sys: 2.34 s, total: 3min 15s\n",
      "Wall time: 3min 17s\n"
     ]
    },
    {
     "data": {
      "text/plain": [
       "LGBMRegressor(metric='rmse', n_estimators=200, num_leaves=100, random_state=42,\n",
       "              verbose=10)"
      ]
     },
     "execution_count": 48,
     "metadata": {},
     "output_type": "execute_result"
    }
   ],
   "source": [
    "%%time\n",
    "model = lightgbm.LGBMRegressor(num_leaves=100, metric='rmse', n_estimators=200, verbose=10, n_jobs=-1, random_state=42) \n",
    "model.fit(X_train, y_train, eval_set=[(X_test, y_test)], eval_metric='rmse')"
   ]
  },
  {
   "cell_type": "code",
   "execution_count": 49,
   "metadata": {},
   "outputs": [
    {
     "name": "stdout",
     "output_type": "stream",
     "text": [
      "RMSE of LightGBM: 1616.6527511547883\n",
      "CPU times: user 1.81 s, sys: 83.1 ms, total: 1.89 s\n",
      "Wall time: 1.83 s\n"
     ]
    }
   ],
   "source": [
    "%%time\n",
    "predicted = model.predict(X_test)\n",
    "print(\"RMSE of LightGBM:\", mean_squared_error(y_test, predicted, squared=False))"
   ]
  },
  {
   "cell_type": "markdown",
   "metadata": {},
   "source": [
    "## Анализ моделей"
   ]
  },
  {
   "cell_type": "markdown",
   "metadata": {},
   "source": [
    "Результаты по итогам обучения моделей:\n",
    "- RMSE of Linear Regression: 2775.35, Wall time: 24.1 s\n",
    "- RMSE of Random forest:     1925.05, Wall time: 7min 27s (1ч 12 минут для подбора параметров)\n",
    "- RMSE of catboost:          1569.93, Wall time: 18.8 s (+ 22 минут для подбора параметров)\n",
    "- RMSE of LightGBM:          1562.21, Wall time: 35.2 s"
   ]
  },
  {
   "cell_type": "code",
   "execution_count": 50,
   "metadata": {},
   "outputs": [
    {
     "name": "stdout",
     "output_type": "stream",
     "text": [
      "CPU times: user 20.1 s, sys: 11.7 s, total: 31.8 s\n",
      "Wall time: 31.8 s\n"
     ]
    },
    {
     "data": {
      "text/plain": [
       "LinearRegression()"
      ]
     },
     "execution_count": 50,
     "metadata": {},
     "output_type": "execute_result"
    }
   ],
   "source": [
    "%%time\n",
    "lr = LinearRegression()\n",
    "lr.fit(X_train, y_train)"
   ]
  },
  {
   "cell_type": "code",
   "execution_count": 51,
   "metadata": {},
   "outputs": [
    {
     "name": "stdout",
     "output_type": "stream",
     "text": [
      "RMSE of Linear Regression: 2840.0591233205782\n",
      "CPU times: user 94.6 ms, sys: 96.1 ms, total: 191 ms\n",
      "Wall time: 197 ms\n"
     ]
    }
   ],
   "source": [
    "%%time\n",
    "predicted = lr.predict(X_test)\n",
    "print(\"RMSE of Linear Regression:\", mean_squared_error(y_test, predicted, squared=False))"
   ]
  },
  {
   "cell_type": "code",
   "execution_count": 52,
   "metadata": {},
   "outputs": [
    {
     "name": "stdout",
     "output_type": "stream",
     "text": [
      "CPU times: user 33.7 s, sys: 23.9 ms, total: 33.7 s\n",
      "Wall time: 33.7 s\n"
     ]
    },
    {
     "data": {
      "text/plain": [
       "RandomForestRegressor(max_depth=10, random_state=42)"
      ]
     },
     "execution_count": 52,
     "metadata": {},
     "output_type": "execute_result"
    }
   ],
   "source": [
    "%%time\n",
    "rf.fit(X_train_oe, y_train_oe)"
   ]
  },
  {
   "cell_type": "code",
   "execution_count": 53,
   "metadata": {},
   "outputs": [
    {
     "name": "stdout",
     "output_type": "stream",
     "text": [
      "RMSE of Random forest: 1910.6908709137808\n",
      "CPU times: user 672 ms, sys: 0 ns, total: 672 ms\n",
      "Wall time: 677 ms\n"
     ]
    }
   ],
   "source": [
    "%%time\n",
    "predicted = rf.predict(X_test_oe)\n",
    "print(\"RMSE of Random forest:\", mean_squared_error(y_test_oe, predicted, squared=False))"
   ]
  },
  {
   "cell_type": "code",
   "execution_count": 54,
   "metadata": {},
   "outputs": [
    {
     "name": "stdout",
     "output_type": "stream",
     "text": [
      "0:\tlearn: 4199.8276258\ttotal: 61.7ms\tremaining: 12.3s\n",
      "10:\tlearn: 2538.5753199\ttotal: 680ms\tremaining: 11.7s\n",
      "20:\tlearn: 2082.6002727\ttotal: 1.31s\tremaining: 11.2s\n",
      "30:\tlearn: 1920.9216976\ttotal: 1.92s\tremaining: 10.4s\n",
      "40:\tlearn: 1854.5930479\ttotal: 2.52s\tremaining: 9.78s\n",
      "50:\tlearn: 1819.5622952\ttotal: 3.16s\tremaining: 9.23s\n",
      "60:\tlearn: 1795.9630928\ttotal: 3.79s\tremaining: 8.64s\n",
      "70:\tlearn: 1771.9193030\ttotal: 4.42s\tremaining: 8.03s\n",
      "80:\tlearn: 1754.0045701\ttotal: 5.04s\tremaining: 7.41s\n",
      "90:\tlearn: 1739.5942332\ttotal: 5.68s\tremaining: 6.8s\n",
      "100:\tlearn: 1727.3011869\ttotal: 6.4s\tremaining: 6.27s\n",
      "110:\tlearn: 1715.8676763\ttotal: 7.03s\tremaining: 5.64s\n",
      "120:\tlearn: 1704.3112269\ttotal: 7.65s\tremaining: 4.99s\n",
      "130:\tlearn: 1693.6327284\ttotal: 8.26s\tremaining: 4.35s\n",
      "140:\tlearn: 1684.5235379\ttotal: 8.9s\tremaining: 3.72s\n",
      "150:\tlearn: 1675.9064869\ttotal: 9.52s\tremaining: 3.09s\n",
      "160:\tlearn: 1667.8884608\ttotal: 10.1s\tremaining: 2.45s\n",
      "170:\tlearn: 1660.8289195\ttotal: 10.8s\tremaining: 1.83s\n",
      "180:\tlearn: 1653.5511558\ttotal: 11.4s\tremaining: 1.19s\n",
      "190:\tlearn: 1647.5340776\ttotal: 12.1s\tremaining: 568ms\n",
      "199:\tlearn: 1642.6284780\ttotal: 12.7s\tremaining: 0us\n",
      "CPU times: user 14.1 s, sys: 38.8 ms, total: 14.1 s\n",
      "Wall time: 14.6 s\n"
     ]
    },
    {
     "data": {
      "text/plain": [
       "<catboost.core.CatBoostRegressor at 0x7fe694db92e0>"
      ]
     },
     "execution_count": 54,
     "metadata": {},
     "output_type": "execute_result"
    }
   ],
   "source": [
    "%%time\n",
    "model = catboost.CatBoostRegressor(loss_function='RMSE', depth=10, iterations=200, learning_rate=0.1, \n",
    "                                   verbose=10, thread_count=-1, random_seed=42)\n",
    "model.fit(X_train, y_train)\n"
   ]
  },
  {
   "cell_type": "code",
   "execution_count": 55,
   "metadata": {},
   "outputs": [
    {
     "name": "stdout",
     "output_type": "stream",
     "text": [
      "RMSE of catboost: 1679.7998971344591\n",
      "CPU times: user 87.7 ms, sys: 2.91 ms, total: 90.6 ms\n",
      "Wall time: 88.3 ms\n"
     ]
    }
   ],
   "source": [
    "%%time\n",
    "predicted = model.predict(X_test)\n",
    "print(\"RMSE of catboost:\", mean_squared_error(y_test, predicted, squared=False))"
   ]
  },
  {
   "cell_type": "code",
   "execution_count": 56,
   "metadata": {},
   "outputs": [
    {
     "name": "stdout",
     "output_type": "stream",
     "text": [
      "[LightGBM] [Debug] Dataset::GetMultiBinFromSparseFeatures: sparse rate 0.920033\n",
      "[LightGBM] [Debug] Dataset::GetMultiBinFromAllFeatures: sparse rate 0.466909\n",
      "[LightGBM] [Debug] init for col-wise cost 0.189646 seconds, init for row-wise cost 0.290813 seconds\n",
      "[LightGBM] [Warning] Auto-choosing row-wise multi-threading, the overhead of testing was 0.301713 seconds.\n",
      "You can set `force_row_wise=true` to remove the overhead.\n",
      "And if memory is not enough, you can set `force_col_wise=true`.\n",
      "[LightGBM] [Debug] Using Sparse Multi-Val Bin\n",
      "[LightGBM] [Info] Total Bins 1108\n",
      "[LightGBM] [Info] Number of data points in the train set: 235283, number of used features: 295\n",
      "[LightGBM] [Info] Start training from score 4556.946639\n",
      "[LightGBM] [Debug] Trained a tree with leaves = 100 and depth = 10\n",
      "[LightGBM] [Debug] Trained a tree with leaves = 100 and depth = 12\n",
      "[LightGBM] [Debug] Trained a tree with leaves = 100 and depth = 11\n",
      "[LightGBM] [Debug] Trained a tree with leaves = 100 and depth = 12\n",
      "[LightGBM] [Debug] Trained a tree with leaves = 100 and depth = 10\n",
      "[LightGBM] [Debug] Trained a tree with leaves = 100 and depth = 13\n",
      "[LightGBM] [Debug] Trained a tree with leaves = 100 and depth = 13\n",
      "[LightGBM] [Debug] Trained a tree with leaves = 100 and depth = 10\n",
      "[LightGBM] [Debug] Trained a tree with leaves = 100 and depth = 11\n",
      "[LightGBM] [Debug] Trained a tree with leaves = 100 and depth = 13\n",
      "[LightGBM] [Debug] Trained a tree with leaves = 100 and depth = 12\n",
      "[LightGBM] [Debug] Trained a tree with leaves = 100 and depth = 13\n",
      "[LightGBM] [Debug] Trained a tree with leaves = 100 and depth = 13\n",
      "[LightGBM] [Debug] Trained a tree with leaves = 100 and depth = 16\n",
      "[LightGBM] [Debug] Trained a tree with leaves = 100 and depth = 13\n",
      "[LightGBM] [Debug] Trained a tree with leaves = 100 and depth = 12\n",
      "[LightGBM] [Debug] Trained a tree with leaves = 100 and depth = 13\n",
      "[LightGBM] [Debug] Trained a tree with leaves = 100 and depth = 14\n",
      "[LightGBM] [Debug] Trained a tree with leaves = 100 and depth = 13\n",
      "[LightGBM] [Debug] Trained a tree with leaves = 100 and depth = 17\n",
      "[LightGBM] [Debug] Trained a tree with leaves = 100 and depth = 14\n",
      "[LightGBM] [Debug] Trained a tree with leaves = 100 and depth = 15\n",
      "[LightGBM] [Debug] Trained a tree with leaves = 100 and depth = 19\n",
      "[LightGBM] [Debug] Trained a tree with leaves = 100 and depth = 16\n",
      "[LightGBM] [Debug] Trained a tree with leaves = 100 and depth = 17\n",
      "[LightGBM] [Debug] Trained a tree with leaves = 100 and depth = 17\n",
      "[LightGBM] [Debug] Trained a tree with leaves = 100 and depth = 19\n",
      "[LightGBM] [Debug] Trained a tree with leaves = 100 and depth = 24\n",
      "[LightGBM] [Debug] Trained a tree with leaves = 100 and depth = 17\n",
      "[LightGBM] [Debug] Trained a tree with leaves = 100 and depth = 15\n",
      "[LightGBM] [Debug] Trained a tree with leaves = 100 and depth = 17\n",
      "[LightGBM] [Debug] Trained a tree with leaves = 100 and depth = 17\n",
      "[LightGBM] [Debug] Trained a tree with leaves = 100 and depth = 16\n",
      "[LightGBM] [Debug] Trained a tree with leaves = 100 and depth = 16\n",
      "[LightGBM] [Debug] Trained a tree with leaves = 100 and depth = 16\n",
      "[LightGBM] [Debug] Trained a tree with leaves = 100 and depth = 24\n",
      "[LightGBM] [Debug] Trained a tree with leaves = 100 and depth = 22\n",
      "[LightGBM] [Debug] Trained a tree with leaves = 100 and depth = 20\n",
      "[LightGBM] [Debug] Trained a tree with leaves = 100 and depth = 26\n",
      "[LightGBM] [Debug] Trained a tree with leaves = 100 and depth = 22\n",
      "[LightGBM] [Debug] Trained a tree with leaves = 100 and depth = 21\n",
      "[LightGBM] [Debug] Trained a tree with leaves = 100 and depth = 25\n",
      "[LightGBM] [Debug] Trained a tree with leaves = 100 and depth = 23\n",
      "[LightGBM] [Debug] Trained a tree with leaves = 100 and depth = 30\n",
      "[LightGBM] [Debug] Trained a tree with leaves = 100 and depth = 28\n",
      "[LightGBM] [Debug] Trained a tree with leaves = 100 and depth = 35\n",
      "[LightGBM] [Debug] Trained a tree with leaves = 100 and depth = 23\n",
      "[LightGBM] [Debug] Trained a tree with leaves = 100 and depth = 18\n",
      "[LightGBM] [Debug] Trained a tree with leaves = 100 and depth = 20\n",
      "[LightGBM] [Debug] Trained a tree with leaves = 100 and depth = 26\n",
      "[LightGBM] [Debug] Trained a tree with leaves = 100 and depth = 28\n",
      "[LightGBM] [Debug] Trained a tree with leaves = 100 and depth = 29\n",
      "[LightGBM] [Debug] Trained a tree with leaves = 100 and depth = 34\n",
      "[LightGBM] [Debug] Trained a tree with leaves = 100 and depth = 34\n",
      "[LightGBM] [Debug] Trained a tree with leaves = 100 and depth = 27\n",
      "[LightGBM] [Debug] Trained a tree with leaves = 100 and depth = 33\n",
      "[LightGBM] [Debug] Trained a tree with leaves = 100 and depth = 27\n",
      "[LightGBM] [Debug] Trained a tree with leaves = 100 and depth = 41\n",
      "[LightGBM] [Debug] Trained a tree with leaves = 100 and depth = 33\n",
      "[LightGBM] [Debug] Trained a tree with leaves = 100 and depth = 41\n",
      "[LightGBM] [Debug] Trained a tree with leaves = 100 and depth = 18\n",
      "[LightGBM] [Debug] Trained a tree with leaves = 100 and depth = 27\n",
      "[LightGBM] [Debug] Trained a tree with leaves = 100 and depth = 33\n",
      "[LightGBM] [Debug] Trained a tree with leaves = 100 and depth = 32\n",
      "[LightGBM] [Debug] Trained a tree with leaves = 100 and depth = 28\n",
      "[LightGBM] [Debug] Trained a tree with leaves = 100 and depth = 24\n",
      "[LightGBM] [Debug] Trained a tree with leaves = 100 and depth = 30\n",
      "[LightGBM] [Debug] Trained a tree with leaves = 100 and depth = 34\n",
      "[LightGBM] [Debug] Trained a tree with leaves = 100 and depth = 39\n",
      "[LightGBM] [Debug] Trained a tree with leaves = 100 and depth = 27\n",
      "[LightGBM] [Debug] Trained a tree with leaves = 100 and depth = 28\n",
      "[LightGBM] [Debug] Trained a tree with leaves = 100 and depth = 20\n",
      "[LightGBM] [Debug] Trained a tree with leaves = 100 and depth = 28\n",
      "[LightGBM] [Debug] Trained a tree with leaves = 100 and depth = 31\n",
      "[LightGBM] [Debug] Trained a tree with leaves = 100 and depth = 32\n",
      "[LightGBM] [Debug] Trained a tree with leaves = 100 and depth = 32\n",
      "[LightGBM] [Debug] Trained a tree with leaves = 100 and depth = 26\n",
      "[LightGBM] [Debug] Trained a tree with leaves = 100 and depth = 44\n",
      "[LightGBM] [Debug] Trained a tree with leaves = 100 and depth = 26\n",
      "[LightGBM] [Debug] Trained a tree with leaves = 100 and depth = 18\n",
      "[LightGBM] [Debug] Trained a tree with leaves = 100 and depth = 33\n",
      "[LightGBM] [Debug] Trained a tree with leaves = 100 and depth = 19\n",
      "[LightGBM] [Debug] Trained a tree with leaves = 100 and depth = 22\n",
      "[LightGBM] [Debug] Trained a tree with leaves = 100 and depth = 35\n",
      "[LightGBM] [Debug] Trained a tree with leaves = 100 and depth = 36\n",
      "[LightGBM] [Debug] Trained a tree with leaves = 100 and depth = 27\n",
      "[LightGBM] [Debug] Trained a tree with leaves = 100 and depth = 22\n",
      "[LightGBM] [Debug] Trained a tree with leaves = 100 and depth = 21\n",
      "[LightGBM] [Debug] Trained a tree with leaves = 100 and depth = 31\n",
      "[LightGBM] [Debug] Trained a tree with leaves = 100 and depth = 24\n",
      "[LightGBM] [Debug] Trained a tree with leaves = 100 and depth = 18\n",
      "[LightGBM] [Debug] Trained a tree with leaves = 100 and depth = 25\n",
      "[LightGBM] [Debug] Trained a tree with leaves = 100 and depth = 22\n",
      "[LightGBM] [Debug] Trained a tree with leaves = 100 and depth = 27\n",
      "[LightGBM] [Debug] Trained a tree with leaves = 100 and depth = 21\n",
      "[LightGBM] [Debug] Trained a tree with leaves = 100 and depth = 25\n",
      "[LightGBM] [Debug] Trained a tree with leaves = 100 and depth = 22\n",
      "[LightGBM] [Debug] Trained a tree with leaves = 100 and depth = 25\n",
      "[LightGBM] [Debug] Trained a tree with leaves = 100 and depth = 23\n",
      "[LightGBM] [Debug] Trained a tree with leaves = 100 and depth = 32\n",
      "[LightGBM] [Debug] Trained a tree with leaves = 100 and depth = 20\n",
      "[LightGBM] [Debug] Trained a tree with leaves = 100 and depth = 32\n",
      "[LightGBM] [Debug] Trained a tree with leaves = 100 and depth = 16\n",
      "[LightGBM] [Debug] Trained a tree with leaves = 100 and depth = 21\n",
      "[LightGBM] [Debug] Trained a tree with leaves = 100 and depth = 27\n",
      "[LightGBM] [Debug] Trained a tree with leaves = 100 and depth = 21\n",
      "[LightGBM] [Debug] Trained a tree with leaves = 100 and depth = 27\n",
      "[LightGBM] [Debug] Trained a tree with leaves = 100 and depth = 20\n",
      "[LightGBM] [Debug] Trained a tree with leaves = 100 and depth = 21\n",
      "[LightGBM] [Debug] Trained a tree with leaves = 100 and depth = 21\n",
      "[LightGBM] [Debug] Trained a tree with leaves = 100 and depth = 19\n",
      "[LightGBM] [Debug] Trained a tree with leaves = 100 and depth = 24\n",
      "[LightGBM] [Debug] Trained a tree with leaves = 100 and depth = 19\n",
      "[LightGBM] [Debug] Trained a tree with leaves = 100 and depth = 19\n",
      "[LightGBM] [Debug] Trained a tree with leaves = 100 and depth = 23\n",
      "[LightGBM] [Debug] Trained a tree with leaves = 100 and depth = 24\n",
      "[LightGBM] [Debug] Trained a tree with leaves = 100 and depth = 20\n",
      "[LightGBM] [Debug] Trained a tree with leaves = 100 and depth = 27\n",
      "[LightGBM] [Debug] Trained a tree with leaves = 100 and depth = 20\n",
      "[LightGBM] [Debug] Trained a tree with leaves = 100 and depth = 21\n",
      "[LightGBM] [Debug] Trained a tree with leaves = 100 and depth = 25\n",
      "[LightGBM] [Debug] Trained a tree with leaves = 100 and depth = 32\n",
      "[LightGBM] [Debug] Trained a tree with leaves = 100 and depth = 18\n",
      "[LightGBM] [Debug] Trained a tree with leaves = 100 and depth = 23\n",
      "[LightGBM] [Debug] Trained a tree with leaves = 100 and depth = 32\n",
      "[LightGBM] [Debug] Trained a tree with leaves = 100 and depth = 19\n",
      "[LightGBM] [Debug] Trained a tree with leaves = 100 and depth = 18\n",
      "[LightGBM] [Debug] Trained a tree with leaves = 100 and depth = 21\n",
      "[LightGBM] [Debug] Trained a tree with leaves = 100 and depth = 15\n",
      "[LightGBM] [Debug] Trained a tree with leaves = 100 and depth = 26\n",
      "[LightGBM] [Debug] Trained a tree with leaves = 100 and depth = 20\n",
      "[LightGBM] [Debug] Trained a tree with leaves = 100 and depth = 21\n",
      "[LightGBM] [Debug] Trained a tree with leaves = 100 and depth = 26\n",
      "[LightGBM] [Debug] Trained a tree with leaves = 100 and depth = 19\n",
      "[LightGBM] [Debug] Trained a tree with leaves = 100 and depth = 32\n",
      "[LightGBM] [Debug] Trained a tree with leaves = 100 and depth = 24\n",
      "[LightGBM] [Debug] Trained a tree with leaves = 100 and depth = 19\n",
      "[LightGBM] [Debug] Trained a tree with leaves = 100 and depth = 24\n",
      "[LightGBM] [Debug] Trained a tree with leaves = 100 and depth = 22\n",
      "[LightGBM] [Debug] Trained a tree with leaves = 100 and depth = 24\n",
      "[LightGBM] [Debug] Trained a tree with leaves = 100 and depth = 27\n",
      "[LightGBM] [Debug] Trained a tree with leaves = 100 and depth = 31\n",
      "[LightGBM] [Debug] Trained a tree with leaves = 100 and depth = 19\n",
      "[LightGBM] [Debug] Trained a tree with leaves = 100 and depth = 17\n",
      "[LightGBM] [Debug] Trained a tree with leaves = 100 and depth = 18\n",
      "[LightGBM] [Debug] Trained a tree with leaves = 100 and depth = 34\n",
      "[LightGBM] [Debug] Trained a tree with leaves = 100 and depth = 19\n",
      "[LightGBM] [Debug] Trained a tree with leaves = 100 and depth = 27\n",
      "[LightGBM] [Debug] Trained a tree with leaves = 100 and depth = 23\n",
      "[LightGBM] [Debug] Trained a tree with leaves = 100 and depth = 16\n",
      "[LightGBM] [Debug] Trained a tree with leaves = 100 and depth = 27\n",
      "[LightGBM] [Debug] Trained a tree with leaves = 100 and depth = 28\n",
      "[LightGBM] [Debug] Trained a tree with leaves = 100 and depth = 20\n",
      "[LightGBM] [Debug] Trained a tree with leaves = 100 and depth = 17\n",
      "[LightGBM] [Debug] Trained a tree with leaves = 100 and depth = 26\n",
      "[LightGBM] [Debug] Trained a tree with leaves = 100 and depth = 21\n",
      "[LightGBM] [Debug] Trained a tree with leaves = 100 and depth = 18\n",
      "[LightGBM] [Debug] Trained a tree with leaves = 100 and depth = 17\n",
      "[LightGBM] [Debug] Trained a tree with leaves = 100 and depth = 20\n",
      "[LightGBM] [Debug] Trained a tree with leaves = 100 and depth = 17\n",
      "[LightGBM] [Debug] Trained a tree with leaves = 100 and depth = 24\n",
      "[LightGBM] [Debug] Trained a tree with leaves = 100 and depth = 24\n",
      "[LightGBM] [Debug] Trained a tree with leaves = 100 and depth = 20\n",
      "[LightGBM] [Debug] Trained a tree with leaves = 100 and depth = 29\n",
      "[LightGBM] [Debug] Trained a tree with leaves = 100 and depth = 21\n",
      "[LightGBM] [Debug] Trained a tree with leaves = 100 and depth = 26\n",
      "[LightGBM] [Debug] Trained a tree with leaves = 100 and depth = 23\n",
      "[LightGBM] [Debug] Trained a tree with leaves = 100 and depth = 20\n",
      "[LightGBM] [Debug] Trained a tree with leaves = 100 and depth = 24\n",
      "[LightGBM] [Debug] Trained a tree with leaves = 100 and depth = 23\n",
      "[LightGBM] [Debug] Trained a tree with leaves = 100 and depth = 22\n",
      "[LightGBM] [Debug] Trained a tree with leaves = 100 and depth = 27\n",
      "[LightGBM] [Debug] Trained a tree with leaves = 100 and depth = 19\n",
      "[LightGBM] [Debug] Trained a tree with leaves = 100 and depth = 18\n",
      "[LightGBM] [Debug] Trained a tree with leaves = 100 and depth = 23\n",
      "[LightGBM] [Debug] Trained a tree with leaves = 100 and depth = 14\n",
      "[LightGBM] [Debug] Trained a tree with leaves = 100 and depth = 21\n",
      "[LightGBM] [Debug] Trained a tree with leaves = 100 and depth = 21\n",
      "[LightGBM] [Debug] Trained a tree with leaves = 100 and depth = 23\n",
      "[LightGBM] [Debug] Trained a tree with leaves = 100 and depth = 26\n",
      "[LightGBM] [Debug] Trained a tree with leaves = 100 and depth = 17\n",
      "[LightGBM] [Debug] Trained a tree with leaves = 100 and depth = 17\n",
      "[LightGBM] [Debug] Trained a tree with leaves = 100 and depth = 16\n",
      "[LightGBM] [Debug] Trained a tree with leaves = 100 and depth = 18\n",
      "[LightGBM] [Debug] Trained a tree with leaves = 100 and depth = 17\n",
      "[LightGBM] [Debug] Trained a tree with leaves = 100 and depth = 23\n",
      "[LightGBM] [Debug] Trained a tree with leaves = 100 and depth = 21\n",
      "[LightGBM] [Debug] Trained a tree with leaves = 100 and depth = 19\n",
      "[LightGBM] [Debug] Trained a tree with leaves = 100 and depth = 20\n",
      "[LightGBM] [Debug] Trained a tree with leaves = 100 and depth = 25\n",
      "[LightGBM] [Debug] Trained a tree with leaves = 100 and depth = 23\n",
      "[LightGBM] [Debug] Trained a tree with leaves = 100 and depth = 22\n",
      "[LightGBM] [Debug] Trained a tree with leaves = 100 and depth = 23\n",
      "[LightGBM] [Debug] Trained a tree with leaves = 100 and depth = 18\n",
      "[LightGBM] [Debug] Trained a tree with leaves = 100 and depth = 17\n",
      "[LightGBM] [Debug] Trained a tree with leaves = 100 and depth = 18\n",
      "[LightGBM] [Debug] Trained a tree with leaves = 100 and depth = 20\n",
      "[LightGBM] [Debug] Trained a tree with leaves = 100 and depth = 16\n",
      "[LightGBM] [Debug] Trained a tree with leaves = 100 and depth = 23\n",
      "[LightGBM] [Debug] Trained a tree with leaves = 100 and depth = 18\n",
      "CPU times: user 3min 55s, sys: 1.89 s, total: 3min 57s\n",
      "Wall time: 3min 59s\n"
     ]
    },
    {
     "data": {
      "text/plain": [
       "LGBMRegressor(metric='rmse', n_estimators=200, num_leaves=100, random_state=42,\n",
       "              verbose=10)"
      ]
     },
     "execution_count": 56,
     "metadata": {},
     "output_type": "execute_result"
    }
   ],
   "source": [
    "%%time\n",
    "model = lightgbm.LGBMRegressor(num_leaves=100, metric='rmse', n_estimators=200, verbose=10, n_jobs=-1, random_state=42) \n",
    "model.fit(X_train, y_train, eval_metric='rmse')"
   ]
  },
  {
   "cell_type": "code",
   "execution_count": 57,
   "metadata": {},
   "outputs": [
    {
     "name": "stdout",
     "output_type": "stream",
     "text": [
      "RMSE of LightGBM: 1616.6527511547883\n",
      "CPU times: user 1.88 s, sys: 7.48 ms, total: 1.88 s\n",
      "Wall time: 1.91 s\n"
     ]
    }
   ],
   "source": [
    "%%time\n",
    "predicted = model.predict(X_test)\n",
    "print(\"RMSE of LightGBM:\", mean_squared_error(y_test, predicted, squared=False))"
   ]
  },
  {
   "cell_type": "code",
   "execution_count": 60,
   "metadata": {},
   "outputs": [
    {
     "data": {
      "text/html": [
       "<div>\n",
       "<style scoped>\n",
       "    .dataframe tbody tr th:only-of-type {\n",
       "        vertical-align: middle;\n",
       "    }\n",
       "\n",
       "    .dataframe tbody tr th {\n",
       "        vertical-align: top;\n",
       "    }\n",
       "\n",
       "    .dataframe thead th {\n",
       "        text-align: right;\n",
       "    }\n",
       "</style>\n",
       "<table border=\"1\" class=\"dataframe\">\n",
       "  <thead>\n",
       "    <tr style=\"text-align: right;\">\n",
       "      <th></th>\n",
       "      <th>model</th>\n",
       "      <th>RMSE</th>\n",
       "      <th>time to fit</th>\n",
       "      <th>time to predict</th>\n",
       "    </tr>\n",
       "  </thead>\n",
       "  <tbody>\n",
       "    <tr>\n",
       "      <th>0</th>\n",
       "      <td>Linear Regression</td>\n",
       "      <td>2840.06</td>\n",
       "      <td>31.8 s</td>\n",
       "      <td>0.197 s</td>\n",
       "    </tr>\n",
       "    <tr>\n",
       "      <th>1</th>\n",
       "      <td>Random forest</td>\n",
       "      <td>1910.69</td>\n",
       "      <td>33.7 s</td>\n",
       "      <td>0.677 s</td>\n",
       "    </tr>\n",
       "    <tr>\n",
       "      <th>2</th>\n",
       "      <td>Catboost</td>\n",
       "      <td>1679.80</td>\n",
       "      <td>14.6 s</td>\n",
       "      <td>0.883 s</td>\n",
       "    </tr>\n",
       "    <tr>\n",
       "      <th>3</th>\n",
       "      <td>LightGBM</td>\n",
       "      <td>1616.65</td>\n",
       "      <td>3min 59s</td>\n",
       "      <td>1.91 s</td>\n",
       "    </tr>\n",
       "  </tbody>\n",
       "</table>\n",
       "</div>"
      ],
      "text/plain": [
       "               model     RMSE time to fit time to predict\n",
       "0  Linear Regression  2840.06      31.8 s         0.197 s\n",
       "1      Random forest  1910.69      33.7 s         0.677 s\n",
       "2           Catboost  1679.80      14.6 s         0.883 s\n",
       "3           LightGBM  1616.65    3min 59s          1.91 s"
      ]
     },
     "execution_count": 60,
     "metadata": {},
     "output_type": "execute_result"
    }
   ],
   "source": [
    "d = {'model': [\"Linear Regression\", \"Random forest\", \"Catboost\", \"LightGBM\"], \n",
    "     'RMSE': [2840.06, 1910.69, 1679.80, 1616.65],\n",
    "     'time to fit': [\"31.8 s\", \"33.7 s\", \"14.6 s\", \"3min 59s\"],\n",
    "     'time to predict': [\"0.197 s\", \"0.677 s\", \"0.883 s\", \"1.91 s\"],\n",
    "    }\n",
    "df = pd.DataFrame(data=d)\n",
    "df"
   ]
  },
  {
   "cell_type": "code",
   "execution_count": 62,
   "metadata": {},
   "outputs": [
    {
     "data": {
      "text/html": [
       "<div>\n",
       "<style scoped>\n",
       "    .dataframe tbody tr th:only-of-type {\n",
       "        vertical-align: middle;\n",
       "    }\n",
       "\n",
       "    .dataframe tbody tr th {\n",
       "        vertical-align: top;\n",
       "    }\n",
       "\n",
       "    .dataframe thead th {\n",
       "        text-align: right;\n",
       "    }\n",
       "</style>\n",
       "<table border=\"1\" class=\"dataframe\">\n",
       "  <thead>\n",
       "    <tr style=\"text-align: right;\">\n",
       "      <th></th>\n",
       "      <th>model</th>\n",
       "      <th>RMSE</th>\n",
       "      <th>time to fit</th>\n",
       "    </tr>\n",
       "  </thead>\n",
       "  <tbody>\n",
       "    <tr>\n",
       "      <th>0</th>\n",
       "      <td>Linear Regression</td>\n",
       "      <td>2840.06</td>\n",
       "      <td>24.1 s</td>\n",
       "    </tr>\n",
       "    <tr>\n",
       "      <th>1</th>\n",
       "      <td>Random forest</td>\n",
       "      <td>1910.69</td>\n",
       "      <td>34.5 s</td>\n",
       "    </tr>\n",
       "    <tr>\n",
       "      <th>2</th>\n",
       "      <td>Catboost</td>\n",
       "      <td>1679.80</td>\n",
       "      <td>18.8 s</td>\n",
       "    </tr>\n",
       "    <tr>\n",
       "      <th>3</th>\n",
       "      <td>LightGBM</td>\n",
       "      <td>1616.65</td>\n",
       "      <td>35.2 s</td>\n",
       "    </tr>\n",
       "  </tbody>\n",
       "</table>\n",
       "</div>"
      ],
      "text/plain": [
       "               model     RMSE time to fit\n",
       "0  Linear Regression  2840.06      24.1 s\n",
       "1      Random forest  1910.69      34.5 s\n",
       "2           Catboost  1679.80      18.8 s\n",
       "3           LightGBM  1616.65      35.2 s"
      ]
     },
     "execution_count": 62,
     "metadata": {},
     "output_type": "execute_result"
    }
   ],
   "source": [
    "d = {'model': [\"Linear Regression\", \"Random forest\", \"Catboost\", \"LightGBM\"], \n",
    "     'RMSE': [2840.06, 1910.69, 1679.80, 1616.65],\n",
    "     'time to fit': [\"24.1 s\", \"34.5 s\", \"18.8 s\", \"35.2 s\"]\n",
    "    }\n",
    "df = pd.DataFrame(data=d)\n",
    "df"
   ]
  },
  {
   "cell_type": "markdown",
   "metadata": {},
   "source": [
    "## Вывод"
   ]
  },
  {
   "cell_type": "markdown",
   "metadata": {},
   "source": [
    " Условию, что значение метрики RMSE должно быть меньше 2500 не соответствует только модель Linear Regression.\n",
    " \n",
    " Модели Random forest удалось показать хороший результат RMSE=1910.69, ее обучение заняло - 34.5 минут, а подбор параметров и вовсе занял более часа времени.\n",
    " \n",
    " Модели градиентного бустинга показали лучшие результаты как по качеству, так и по времени. \n",
    " \n",
    " Для нашего датасета лучшим по качесиву оказался LightGBM, с показателем RMSE=1562.21. По скорости обучения он примерно в 2 раза уступил модели Catboost, однако данное сравнение будет не совсем корректным, т.к. они имеют разные параметры, которые  влияют на время обучения. Так же можно отметить что модели Catboost понадобилось более 22 минут для подбора оптимальных параметров, тогда как LightGBM удалось показать хорошие результаты с параметрами по умолчанию.\n",
    " \n",
    "В целом, обе библиотеки имеют свои преимущества. Мне показался удобнее LightGBM, т.к. он позваляет быстрее подобрать модель с хорошим качеством, однако Catboost методом grid_search позволяет найти более оптимальные параметры, но на это нужно больше времени. "
   ]
  }
 ],
 "metadata": {
  "ExecuteTimeLog": [
   {
    "duration": 1704,
    "start_time": "2022-06-17T08:21:43.480Z"
   },
   {
    "duration": 1720,
    "start_time": "2022-06-17T08:21:58.963Z"
   },
   {
    "duration": 1450,
    "start_time": "2022-06-17T10:06:15.938Z"
   },
   {
    "duration": 1474,
    "start_time": "2022-06-17T10:06:33.975Z"
   },
   {
    "duration": 1358,
    "start_time": "2022-06-17T10:07:45.066Z"
   },
   {
    "duration": 769,
    "start_time": "2022-06-17T10:08:55.341Z"
   },
   {
    "duration": 562,
    "start_time": "2022-06-17T10:09:18.189Z"
   },
   {
    "duration": 754,
    "start_time": "2022-06-17T10:09:29.374Z"
   },
   {
    "duration": 570,
    "start_time": "2022-06-17T10:09:39.446Z"
   },
   {
    "duration": 499,
    "start_time": "2022-06-17T10:10:30.152Z"
   },
   {
    "duration": 115,
    "start_time": "2022-06-17T10:11:33.737Z"
   },
   {
    "duration": 10,
    "start_time": "2022-06-17T10:11:42.490Z"
   },
   {
    "duration": 702,
    "start_time": "2022-06-17T10:11:51.730Z"
   },
   {
    "duration": 11,
    "start_time": "2022-06-17T10:12:04.786Z"
   },
   {
    "duration": 9,
    "start_time": "2022-06-17T10:12:10.939Z"
   },
   {
    "duration": 253,
    "start_time": "2022-06-17T10:12:26.763Z"
   },
   {
    "duration": 455,
    "start_time": "2022-06-17T10:14:07.853Z"
   },
   {
    "duration": 585,
    "start_time": "2022-06-17T10:21:02.221Z"
   },
   {
    "duration": 4,
    "start_time": "2022-06-17T10:21:17.620Z"
   },
   {
    "duration": 574,
    "start_time": "2022-06-17T10:21:22.986Z"
   },
   {
    "duration": 252,
    "start_time": "2022-06-17T10:21:29.133Z"
   },
   {
    "duration": 169,
    "start_time": "2022-06-17T10:21:40.268Z"
   },
   {
    "duration": 99,
    "start_time": "2022-06-17T10:51:16.357Z"
   },
   {
    "duration": 718,
    "start_time": "2022-06-17T11:06:53.010Z"
   },
   {
    "duration": 1371,
    "start_time": "2022-06-17T11:07:07.853Z"
   },
   {
    "duration": 840,
    "start_time": "2022-06-17T11:07:09.226Z"
   },
   {
    "duration": 236,
    "start_time": "2022-06-17T11:07:10.068Z"
   },
   {
    "duration": 488,
    "start_time": "2022-06-17T11:07:10.307Z"
   },
   {
    "duration": 472,
    "start_time": "2022-06-17T11:07:10.797Z"
   },
   {
    "duration": 187,
    "start_time": "2022-06-17T11:07:11.271Z"
   },
   {
    "duration": 128,
    "start_time": "2022-06-17T11:11:33.868Z"
   },
   {
    "duration": 46,
    "start_time": "2022-06-17T11:17:19.967Z"
   },
   {
    "duration": 120,
    "start_time": "2022-06-17T11:17:35.104Z"
   },
   {
    "duration": 19,
    "start_time": "2022-06-17T11:17:43.142Z"
   },
   {
    "duration": 1361,
    "start_time": "2022-06-17T11:18:13.595Z"
   },
   {
    "duration": 892,
    "start_time": "2022-06-17T11:18:14.957Z"
   },
   {
    "duration": 248,
    "start_time": "2022-06-17T11:18:15.850Z"
   },
   {
    "duration": 491,
    "start_time": "2022-06-17T11:18:16.100Z"
   },
   {
    "duration": 510,
    "start_time": "2022-06-17T11:18:16.593Z"
   },
   {
    "duration": 52,
    "start_time": "2022-06-17T11:18:17.105Z"
   },
   {
    "duration": 207,
    "start_time": "2022-06-17T11:18:17.159Z"
   },
   {
    "duration": 138,
    "start_time": "2022-06-17T11:18:17.367Z"
   },
   {
    "duration": 5,
    "start_time": "2022-06-17T11:44:55.756Z"
   },
   {
    "duration": 33,
    "start_time": "2022-06-17T11:45:11.115Z"
   },
   {
    "duration": 21,
    "start_time": "2022-06-17T11:45:41.116Z"
   },
   {
    "duration": 22,
    "start_time": "2022-06-17T11:45:46.221Z"
   },
   {
    "duration": 32,
    "start_time": "2022-06-17T11:45:57.621Z"
   },
   {
    "duration": 58,
    "start_time": "2022-06-17T11:49:05.316Z"
   },
   {
    "duration": 39,
    "start_time": "2022-06-17T11:52:19.086Z"
   },
   {
    "duration": 47,
    "start_time": "2022-06-17T11:53:02.307Z"
   },
   {
    "duration": 34,
    "start_time": "2022-06-17T11:53:04.851Z"
   },
   {
    "duration": 21,
    "start_time": "2022-06-17T11:53:40.186Z"
   },
   {
    "duration": 152,
    "start_time": "2022-06-17T11:53:51.533Z"
   },
   {
    "duration": 35,
    "start_time": "2022-06-17T11:54:54.486Z"
   },
   {
    "duration": 35,
    "start_time": "2022-06-17T11:55:01.180Z"
   },
   {
    "duration": 33,
    "start_time": "2022-06-17T11:55:09.510Z"
   },
   {
    "duration": 20,
    "start_time": "2022-06-17T11:56:57.796Z"
   },
   {
    "duration": 23,
    "start_time": "2022-06-17T11:57:23.298Z"
   },
   {
    "duration": 9,
    "start_time": "2022-06-17T13:50:11.367Z"
   },
   {
    "duration": 9,
    "start_time": "2022-06-17T13:51:03.877Z"
   },
   {
    "duration": 131,
    "start_time": "2022-06-17T13:51:53.594Z"
   },
   {
    "duration": 586,
    "start_time": "2022-06-17T13:51:59.481Z"
   },
   {
    "duration": 43,
    "start_time": "2022-06-17T13:52:31.249Z"
   },
   {
    "duration": 33,
    "start_time": "2022-06-17T13:52:46.945Z"
   },
   {
    "duration": 9,
    "start_time": "2022-06-17T13:52:54.869Z"
   },
   {
    "duration": 30,
    "start_time": "2022-06-17T13:55:08.398Z"
   },
   {
    "duration": 29,
    "start_time": "2022-06-17T13:55:15.519Z"
   },
   {
    "duration": 9,
    "start_time": "2022-06-17T13:55:20.543Z"
   },
   {
    "duration": 35,
    "start_time": "2022-06-17T13:55:30.464Z"
   },
   {
    "duration": 313,
    "start_time": "2022-06-17T13:58:30.918Z"
   },
   {
    "duration": 230,
    "start_time": "2022-06-17T13:58:42.934Z"
   },
   {
    "duration": 6,
    "start_time": "2022-06-17T14:00:49.501Z"
   },
   {
    "duration": 29,
    "start_time": "2022-06-17T14:00:55.976Z"
   },
   {
    "duration": 6,
    "start_time": "2022-06-17T14:01:00.850Z"
   },
   {
    "duration": 19,
    "start_time": "2022-06-17T14:01:16.738Z"
   },
   {
    "duration": 18,
    "start_time": "2022-06-17T14:01:31.097Z"
   },
   {
    "duration": 87,
    "start_time": "2022-06-17T14:01:38.540Z"
   },
   {
    "duration": 13,
    "start_time": "2022-06-17T14:01:47.635Z"
   },
   {
    "duration": 231,
    "start_time": "2022-06-17T14:03:36.160Z"
   },
   {
    "duration": 21,
    "start_time": "2022-06-17T14:03:42.712Z"
   },
   {
    "duration": 17,
    "start_time": "2022-06-17T14:04:26.242Z"
   },
   {
    "duration": 115,
    "start_time": "2022-06-17T14:04:53.802Z"
   },
   {
    "duration": 8,
    "start_time": "2022-06-17T14:04:57.997Z"
   },
   {
    "duration": 1305,
    "start_time": "2022-06-17T14:05:15.341Z"
   },
   {
    "duration": 852,
    "start_time": "2022-06-17T14:05:16.647Z"
   },
   {
    "duration": 242,
    "start_time": "2022-06-17T14:05:17.501Z"
   },
   {
    "duration": 532,
    "start_time": "2022-06-17T14:05:17.744Z"
   },
   {
    "duration": 536,
    "start_time": "2022-06-17T14:05:18.278Z"
   },
   {
    "duration": 54,
    "start_time": "2022-06-17T14:05:18.816Z"
   },
   {
    "duration": 30,
    "start_time": "2022-06-17T14:05:18.872Z"
   },
   {
    "duration": 271,
    "start_time": "2022-06-17T14:05:18.904Z"
   },
   {
    "duration": 143,
    "start_time": "2022-06-17T14:05:19.177Z"
   },
   {
    "duration": 0,
    "start_time": "2022-06-17T14:05:19.321Z"
   },
   {
    "duration": 0,
    "start_time": "2022-06-17T14:05:19.322Z"
   },
   {
    "duration": 0,
    "start_time": "2022-06-17T14:05:19.323Z"
   },
   {
    "duration": 0,
    "start_time": "2022-06-17T14:05:19.324Z"
   },
   {
    "duration": 0,
    "start_time": "2022-06-17T14:05:19.325Z"
   },
   {
    "duration": 0,
    "start_time": "2022-06-17T14:05:19.326Z"
   },
   {
    "duration": 0,
    "start_time": "2022-06-17T14:05:19.327Z"
   },
   {
    "duration": 43,
    "start_time": "2022-06-17T14:06:03.060Z"
   },
   {
    "duration": 19,
    "start_time": "2022-06-17T14:06:04.709Z"
   },
   {
    "duration": 139,
    "start_time": "2022-06-17T14:06:30.045Z"
   },
   {
    "duration": 8,
    "start_time": "2022-06-17T14:08:20.455Z"
   },
   {
    "duration": 22,
    "start_time": "2022-06-17T14:18:34.194Z"
   },
   {
    "duration": 54,
    "start_time": "2022-06-17T14:22:50.547Z"
   },
   {
    "duration": 10,
    "start_time": "2022-06-17T14:23:18.380Z"
   },
   {
    "duration": 65,
    "start_time": "2022-06-17T14:24:03.855Z"
   },
   {
    "duration": 28,
    "start_time": "2022-06-17T14:28:29.815Z"
   },
   {
    "duration": 454,
    "start_time": "2022-06-17T14:28:34.232Z"
   },
   {
    "duration": 22,
    "start_time": "2022-06-17T14:30:06.447Z"
   },
   {
    "duration": 33,
    "start_time": "2022-06-17T14:38:39.147Z"
   },
   {
    "duration": 5,
    "start_time": "2022-06-17T15:02:33.706Z"
   },
   {
    "duration": 13,
    "start_time": "2022-06-17T15:02:46.366Z"
   },
   {
    "duration": 38,
    "start_time": "2022-06-17T15:02:53.132Z"
   },
   {
    "duration": 3,
    "start_time": "2022-06-17T15:45:48.765Z"
   },
   {
    "duration": 3,
    "start_time": "2022-06-17T15:46:32.709Z"
   },
   {
    "duration": 1322,
    "start_time": "2022-06-17T15:48:14.296Z"
   },
   {
    "duration": 832,
    "start_time": "2022-06-17T15:48:15.620Z"
   },
   {
    "duration": 230,
    "start_time": "2022-06-17T15:48:16.454Z"
   },
   {
    "duration": 502,
    "start_time": "2022-06-17T15:48:16.685Z"
   },
   {
    "duration": 532,
    "start_time": "2022-06-17T15:48:17.189Z"
   },
   {
    "duration": 57,
    "start_time": "2022-06-17T15:48:17.723Z"
   },
   {
    "duration": 25,
    "start_time": "2022-06-17T15:48:17.781Z"
   },
   {
    "duration": 235,
    "start_time": "2022-06-17T15:48:17.807Z"
   },
   {
    "duration": 52,
    "start_time": "2022-06-17T15:48:18.043Z"
   },
   {
    "duration": 145,
    "start_time": "2022-06-17T15:48:18.096Z"
   },
   {
    "duration": 8,
    "start_time": "2022-06-17T15:48:18.242Z"
   },
   {
    "duration": 21,
    "start_time": "2022-06-17T15:48:18.252Z"
   },
   {
    "duration": 83,
    "start_time": "2022-06-17T15:48:18.275Z"
   },
   {
    "duration": 43,
    "start_time": "2022-06-17T15:48:18.361Z"
   },
   {
    "duration": 32,
    "start_time": "2022-06-17T15:48:18.406Z"
   },
   {
    "duration": 9,
    "start_time": "2022-06-17T15:48:18.439Z"
   },
   {
    "duration": 50,
    "start_time": "2022-06-17T15:48:18.450Z"
   },
   {
    "duration": 123,
    "start_time": "2022-06-17T15:50:04.218Z"
   },
   {
    "duration": 57,
    "start_time": "2022-06-17T15:50:19.467Z"
   },
   {
    "duration": 12,
    "start_time": "2022-06-17T16:03:19.805Z"
   },
   {
    "duration": 36,
    "start_time": "2022-06-17T16:03:50.805Z"
   },
   {
    "duration": 36,
    "start_time": "2022-06-17T16:04:24.493Z"
   },
   {
    "duration": 458,
    "start_time": "2022-06-17T16:04:56.927Z"
   },
   {
    "duration": 27,
    "start_time": "2022-06-17T16:05:06.886Z"
   },
   {
    "duration": 34,
    "start_time": "2022-06-17T16:06:17.401Z"
   },
   {
    "duration": 35,
    "start_time": "2022-06-17T16:06:39.154Z"
   },
   {
    "duration": 3585,
    "start_time": "2022-06-17T16:07:16.202Z"
   },
   {
    "duration": 29,
    "start_time": "2022-06-17T16:09:52.727Z"
   },
   {
    "duration": 41,
    "start_time": "2022-06-17T16:10:19.897Z"
   },
   {
    "duration": 30,
    "start_time": "2022-06-17T16:10:30.408Z"
   },
   {
    "duration": 31,
    "start_time": "2022-06-17T16:12:10.490Z"
   },
   {
    "duration": 33,
    "start_time": "2022-06-17T16:12:22.564Z"
   },
   {
    "duration": 30,
    "start_time": "2022-06-17T16:12:27.117Z"
   },
   {
    "duration": 16,
    "start_time": "2022-06-17T16:18:28.432Z"
   },
   {
    "duration": 19,
    "start_time": "2022-06-17T16:18:33.400Z"
   },
   {
    "duration": 45,
    "start_time": "2022-06-17T16:19:01.769Z"
   },
   {
    "duration": 23,
    "start_time": "2022-06-17T16:19:35.114Z"
   },
   {
    "duration": 1484,
    "start_time": "2022-06-18T10:06:58.234Z"
   },
   {
    "duration": 1194,
    "start_time": "2022-06-18T10:06:59.720Z"
   },
   {
    "duration": 260,
    "start_time": "2022-06-18T10:07:00.916Z"
   },
   {
    "duration": 455,
    "start_time": "2022-06-18T10:07:01.179Z"
   },
   {
    "duration": 496,
    "start_time": "2022-06-18T10:07:01.636Z"
   },
   {
    "duration": 60,
    "start_time": "2022-06-18T10:07:02.134Z"
   },
   {
    "duration": 29,
    "start_time": "2022-06-18T10:07:02.196Z"
   },
   {
    "duration": 247,
    "start_time": "2022-06-18T10:07:02.226Z"
   },
   {
    "duration": 33,
    "start_time": "2022-06-18T10:07:02.475Z"
   },
   {
    "duration": 128,
    "start_time": "2022-06-18T10:07:02.510Z"
   },
   {
    "duration": 7,
    "start_time": "2022-06-18T10:07:02.639Z"
   },
   {
    "duration": 29,
    "start_time": "2022-06-18T10:07:02.647Z"
   },
   {
    "duration": 53,
    "start_time": "2022-06-18T10:07:02.678Z"
   },
   {
    "duration": 41,
    "start_time": "2022-06-18T10:07:02.732Z"
   },
   {
    "duration": 26,
    "start_time": "2022-06-18T10:07:02.775Z"
   },
   {
    "duration": 9,
    "start_time": "2022-06-18T10:07:02.802Z"
   },
   {
    "duration": 49,
    "start_time": "2022-06-18T10:07:02.813Z"
   },
   {
    "duration": 126,
    "start_time": "2022-06-18T10:07:02.871Z"
   },
   {
    "duration": 0,
    "start_time": "2022-06-18T10:07:02.999Z"
   },
   {
    "duration": 40,
    "start_time": "2022-06-18T11:14:52.227Z"
   },
   {
    "duration": 20,
    "start_time": "2022-06-18T11:15:22.314Z"
   },
   {
    "duration": 35,
    "start_time": "2022-06-18T11:15:49.229Z"
   },
   {
    "duration": 42,
    "start_time": "2022-06-18T11:15:51.228Z"
   },
   {
    "duration": 3,
    "start_time": "2022-06-18T11:16:14.605Z"
   },
   {
    "duration": 441,
    "start_time": "2022-06-18T11:17:15.280Z"
   },
   {
    "duration": 3,
    "start_time": "2022-06-18T11:21:15.807Z"
   },
   {
    "duration": 441,
    "start_time": "2022-06-18T11:21:25.953Z"
   },
   {
    "duration": 3,
    "start_time": "2022-06-18T11:23:10.795Z"
   },
   {
    "duration": 387,
    "start_time": "2022-06-18T11:23:12.234Z"
   },
   {
    "duration": 2,
    "start_time": "2022-06-18T11:26:35.250Z"
   },
   {
    "duration": 434,
    "start_time": "2022-06-18T11:26:40.120Z"
   },
   {
    "duration": 417,
    "start_time": "2022-06-18T11:27:55.749Z"
   },
   {
    "duration": 3,
    "start_time": "2022-06-18T11:29:46.728Z"
   },
   {
    "duration": 524,
    "start_time": "2022-06-18T11:29:47.856Z"
   },
   {
    "duration": 3,
    "start_time": "2022-06-18T11:30:52.762Z"
   },
   {
    "duration": 35,
    "start_time": "2022-06-18T11:31:16.884Z"
   },
   {
    "duration": 3,
    "start_time": "2022-06-18T11:31:23.132Z"
   },
   {
    "duration": 105,
    "start_time": "2022-06-18T11:31:49.581Z"
   },
   {
    "duration": 21,
    "start_time": "2022-06-18T11:34:01.802Z"
   },
   {
    "duration": 109,
    "start_time": "2022-06-18T11:35:55.453Z"
   },
   {
    "duration": 9,
    "start_time": "2022-06-18T11:36:21.334Z"
   },
   {
    "duration": 3,
    "start_time": "2022-06-18T11:36:31.503Z"
   },
   {
    "duration": 10,
    "start_time": "2022-06-18T11:36:31.989Z"
   },
   {
    "duration": 8,
    "start_time": "2022-06-18T11:37:37.585Z"
   },
   {
    "duration": 13,
    "start_time": "2022-06-18T11:37:58.337Z"
   },
   {
    "duration": 3,
    "start_time": "2022-06-18T11:39:34.933Z"
   },
   {
    "duration": 12,
    "start_time": "2022-06-18T11:39:35.589Z"
   },
   {
    "duration": 131,
    "start_time": "2022-06-18T11:43:51.214Z"
   },
   {
    "duration": 35,
    "start_time": "2022-06-18T11:44:14.559Z"
   },
   {
    "duration": 3,
    "start_time": "2022-06-18T11:44:15.798Z"
   },
   {
    "duration": 487,
    "start_time": "2022-06-18T11:44:17.150Z"
   },
   {
    "duration": 3,
    "start_time": "2022-06-18T11:45:31.385Z"
   },
   {
    "duration": 917,
    "start_time": "2022-06-18T11:45:33.410Z"
   },
   {
    "duration": 33,
    "start_time": "2022-06-18T11:46:06.796Z"
   },
   {
    "duration": 35,
    "start_time": "2022-06-18T11:46:13.380Z"
   },
   {
    "duration": 3,
    "start_time": "2022-06-18T11:47:11.830Z"
   },
   {
    "duration": 925,
    "start_time": "2022-06-18T11:47:13.197Z"
   },
   {
    "duration": 16,
    "start_time": "2022-06-18T11:51:24.246Z"
   },
   {
    "duration": 148,
    "start_time": "2022-06-18T11:51:30.687Z"
   },
   {
    "duration": 17,
    "start_time": "2022-06-18T12:11:43.827Z"
   },
   {
    "duration": 17,
    "start_time": "2022-06-18T12:12:22.707Z"
   },
   {
    "duration": 36,
    "start_time": "2022-06-18T12:12:38.250Z"
   },
   {
    "duration": 32,
    "start_time": "2022-06-18T12:12:39.186Z"
   },
   {
    "duration": 3,
    "start_time": "2022-06-18T12:12:46.698Z"
   },
   {
    "duration": 348327,
    "start_time": "2022-06-18T12:12:55.324Z"
   },
   {
    "duration": 0,
    "start_time": "2022-06-18T12:18:43.652Z"
   },
   {
    "duration": 35779,
    "start_time": "2022-06-18T12:18:59.680Z"
   },
   {
    "duration": 3,
    "start_time": "2022-06-18T12:20:41.276Z"
   },
   {
    "duration": 2201,
    "start_time": "2022-06-18T12:20:42.929Z"
   },
   {
    "duration": 1302,
    "start_time": "2022-06-18T12:22:57.950Z"
   },
   {
    "duration": 807,
    "start_time": "2022-06-18T12:22:59.254Z"
   },
   {
    "duration": 242,
    "start_time": "2022-06-18T12:23:00.063Z"
   },
   {
    "duration": 526,
    "start_time": "2022-06-18T12:23:00.308Z"
   },
   {
    "duration": 480,
    "start_time": "2022-06-18T12:23:00.836Z"
   },
   {
    "duration": 55,
    "start_time": "2022-06-18T12:23:01.318Z"
   },
   {
    "duration": 21,
    "start_time": "2022-06-18T12:23:01.374Z"
   },
   {
    "duration": 235,
    "start_time": "2022-06-18T12:23:01.397Z"
   },
   {
    "duration": 46,
    "start_time": "2022-06-18T12:23:01.633Z"
   },
   {
    "duration": 133,
    "start_time": "2022-06-18T12:23:01.681Z"
   },
   {
    "duration": 9,
    "start_time": "2022-06-18T12:23:01.816Z"
   },
   {
    "duration": 42,
    "start_time": "2022-06-18T12:23:01.827Z"
   },
   {
    "duration": 64,
    "start_time": "2022-06-18T12:23:01.871Z"
   },
   {
    "duration": 43,
    "start_time": "2022-06-18T12:23:01.937Z"
   },
   {
    "duration": 30,
    "start_time": "2022-06-18T12:23:01.982Z"
   },
   {
    "duration": 5,
    "start_time": "2022-06-18T12:23:02.014Z"
   },
   {
    "duration": 42,
    "start_time": "2022-06-18T12:23:02.021Z"
   },
   {
    "duration": 45,
    "start_time": "2022-06-18T12:23:02.065Z"
   },
   {
    "duration": 33,
    "start_time": "2022-06-18T12:23:02.112Z"
   },
   {
    "duration": 4,
    "start_time": "2022-06-18T12:23:02.158Z"
   },
   {
    "duration": 2945,
    "start_time": "2022-06-18T12:23:02.163Z"
   },
   {
    "duration": 3,
    "start_time": "2022-06-18T12:23:05.109Z"
   },
   {
    "duration": 117,
    "start_time": "2022-06-18T12:30:00.260Z"
   },
   {
    "duration": 38,
    "start_time": "2022-06-18T12:30:04.805Z"
   },
   {
    "duration": 23,
    "start_time": "2022-06-18T12:31:08.126Z"
   },
   {
    "duration": 26,
    "start_time": "2022-06-18T12:31:18.752Z"
   },
   {
    "duration": 47,
    "start_time": "2022-06-18T12:31:25.696Z"
   },
   {
    "duration": 58,
    "start_time": "2022-06-18T12:32:12.674Z"
   },
   {
    "duration": 57,
    "start_time": "2022-06-18T12:32:25.826Z"
   },
   {
    "duration": 1303,
    "start_time": "2022-06-18T12:33:16.097Z"
   },
   {
    "duration": 788,
    "start_time": "2022-06-18T12:33:17.403Z"
   },
   {
    "duration": 217,
    "start_time": "2022-06-18T12:33:18.193Z"
   },
   {
    "duration": 453,
    "start_time": "2022-06-18T12:33:18.412Z"
   },
   {
    "duration": 428,
    "start_time": "2022-06-18T12:33:18.867Z"
   },
   {
    "duration": 49,
    "start_time": "2022-06-18T12:33:19.297Z"
   },
   {
    "duration": 12,
    "start_time": "2022-06-18T12:33:19.359Z"
   },
   {
    "duration": 231,
    "start_time": "2022-06-18T12:33:19.373Z"
   },
   {
    "duration": 33,
    "start_time": "2022-06-18T12:33:19.606Z"
   },
   {
    "duration": 135,
    "start_time": "2022-06-18T12:33:19.642Z"
   },
   {
    "duration": 8,
    "start_time": "2022-06-18T12:33:19.779Z"
   },
   {
    "duration": 19,
    "start_time": "2022-06-18T12:33:19.789Z"
   },
   {
    "duration": 74,
    "start_time": "2022-06-18T12:33:19.809Z"
   },
   {
    "duration": 23,
    "start_time": "2022-06-18T12:33:19.885Z"
   },
   {
    "duration": 27,
    "start_time": "2022-06-18T12:33:19.910Z"
   },
   {
    "duration": 2,
    "start_time": "2022-06-18T12:33:19.959Z"
   },
   {
    "duration": 21,
    "start_time": "2022-06-18T12:33:19.963Z"
   },
   {
    "duration": 37,
    "start_time": "2022-06-18T12:33:19.985Z"
   },
   {
    "duration": 3,
    "start_time": "2022-06-18T12:33:20.023Z"
   },
   {
    "duration": 10,
    "start_time": "2022-06-18T12:33:20.028Z"
   },
   {
    "duration": 73,
    "start_time": "2022-06-18T12:33:20.040Z"
   },
   {
    "duration": 68,
    "start_time": "2022-06-18T12:34:06.253Z"
   },
   {
    "duration": 55,
    "start_time": "2022-06-18T12:34:59.132Z"
   },
   {
    "duration": 3,
    "start_time": "2022-06-18T12:35:15.807Z"
   },
   {
    "duration": 71,
    "start_time": "2022-06-18T12:35:21.550Z"
   },
   {
    "duration": 76,
    "start_time": "2022-06-18T12:39:10.749Z"
   },
   {
    "duration": 73,
    "start_time": "2022-06-18T12:40:39.609Z"
   },
   {
    "duration": 10,
    "start_time": "2022-06-18T12:41:24.238Z"
   },
   {
    "duration": 1317,
    "start_time": "2022-06-18T12:41:33.230Z"
   },
   {
    "duration": 788,
    "start_time": "2022-06-18T12:41:34.549Z"
   },
   {
    "duration": 233,
    "start_time": "2022-06-18T12:41:35.339Z"
   },
   {
    "duration": 455,
    "start_time": "2022-06-18T12:41:35.573Z"
   },
   {
    "duration": 511,
    "start_time": "2022-06-18T12:41:36.030Z"
   },
   {
    "duration": 59,
    "start_time": "2022-06-18T12:41:36.543Z"
   },
   {
    "duration": 13,
    "start_time": "2022-06-18T12:41:36.603Z"
   },
   {
    "duration": 243,
    "start_time": "2022-06-18T12:41:36.618Z"
   },
   {
    "duration": 39,
    "start_time": "2022-06-18T12:41:36.862Z"
   },
   {
    "duration": 132,
    "start_time": "2022-06-18T12:41:36.903Z"
   },
   {
    "duration": 9,
    "start_time": "2022-06-18T12:41:37.037Z"
   },
   {
    "duration": 27,
    "start_time": "2022-06-18T12:41:37.047Z"
   },
   {
    "duration": 59,
    "start_time": "2022-06-18T12:41:37.076Z"
   },
   {
    "duration": 39,
    "start_time": "2022-06-18T12:41:37.139Z"
   },
   {
    "duration": 35,
    "start_time": "2022-06-18T12:41:37.180Z"
   },
   {
    "duration": 27,
    "start_time": "2022-06-18T12:41:37.217Z"
   },
   {
    "duration": 124,
    "start_time": "2022-06-18T12:41:37.246Z"
   },
   {
    "duration": 198,
    "start_time": "2022-06-18T12:41:37.372Z"
   },
   {
    "duration": 0,
    "start_time": "2022-06-18T12:41:37.572Z"
   },
   {
    "duration": 0,
    "start_time": "2022-06-18T12:41:37.573Z"
   },
   {
    "duration": 0,
    "start_time": "2022-06-18T12:41:37.574Z"
   },
   {
    "duration": 0,
    "start_time": "2022-06-18T12:41:37.575Z"
   },
   {
    "duration": 0,
    "start_time": "2022-06-18T12:41:37.576Z"
   },
   {
    "duration": 62,
    "start_time": "2022-06-18T12:42:57.880Z"
   },
   {
    "duration": 1297,
    "start_time": "2022-06-18T12:43:35.164Z"
   },
   {
    "duration": 806,
    "start_time": "2022-06-18T12:43:36.463Z"
   },
   {
    "duration": 290,
    "start_time": "2022-06-18T12:43:37.271Z"
   },
   {
    "duration": 459,
    "start_time": "2022-06-18T12:43:37.563Z"
   },
   {
    "duration": 455,
    "start_time": "2022-06-18T12:43:38.024Z"
   },
   {
    "duration": 54,
    "start_time": "2022-06-18T12:43:38.481Z"
   },
   {
    "duration": 29,
    "start_time": "2022-06-18T12:43:38.537Z"
   },
   {
    "duration": 234,
    "start_time": "2022-06-18T12:43:38.568Z"
   },
   {
    "duration": 36,
    "start_time": "2022-06-18T12:43:38.804Z"
   },
   {
    "duration": 135,
    "start_time": "2022-06-18T12:43:38.843Z"
   },
   {
    "duration": 7,
    "start_time": "2022-06-18T12:43:38.979Z"
   },
   {
    "duration": 22,
    "start_time": "2022-06-18T12:43:38.987Z"
   },
   {
    "duration": 74,
    "start_time": "2022-06-18T12:43:39.010Z"
   },
   {
    "duration": 23,
    "start_time": "2022-06-18T12:43:39.086Z"
   },
   {
    "duration": 27,
    "start_time": "2022-06-18T12:43:39.110Z"
   },
   {
    "duration": 5,
    "start_time": "2022-06-18T12:43:39.139Z"
   },
   {
    "duration": 74,
    "start_time": "2022-06-18T12:43:39.159Z"
   },
   {
    "duration": 65,
    "start_time": "2022-06-18T12:43:39.234Z"
   },
   {
    "duration": 18,
    "start_time": "2022-06-18T12:43:39.301Z"
   },
   {
    "duration": 52,
    "start_time": "2022-06-18T12:43:39.321Z"
   },
   {
    "duration": 3,
    "start_time": "2022-06-18T12:43:39.374Z"
   },
   {
    "duration": 17,
    "start_time": "2022-06-18T12:43:39.378Z"
   },
   {
    "duration": 6,
    "start_time": "2022-06-18T12:43:39.396Z"
   },
   {
    "duration": 204,
    "start_time": "2022-06-18T12:46:18.903Z"
   },
   {
    "duration": 85,
    "start_time": "2022-06-18T12:47:19.209Z"
   },
   {
    "duration": 61,
    "start_time": "2022-06-18T12:47:28.714Z"
   },
   {
    "duration": 61,
    "start_time": "2022-06-18T12:48:51.748Z"
   },
   {
    "duration": 71,
    "start_time": "2022-06-18T12:49:07.804Z"
   },
   {
    "duration": 63,
    "start_time": "2022-06-18T12:49:16.304Z"
   },
   {
    "duration": 40,
    "start_time": "2022-06-18T12:49:27.848Z"
   },
   {
    "duration": 66,
    "start_time": "2022-06-18T12:49:32.421Z"
   },
   {
    "duration": 111,
    "start_time": "2022-06-18T12:49:52.606Z"
   },
   {
    "duration": 91,
    "start_time": "2022-06-18T12:50:13.729Z"
   },
   {
    "duration": 103,
    "start_time": "2022-06-18T12:50:54.960Z"
   },
   {
    "duration": 126,
    "start_time": "2022-06-18T12:51:02.888Z"
   },
   {
    "duration": 164,
    "start_time": "2022-06-18T12:51:16.255Z"
   },
   {
    "duration": 100,
    "start_time": "2022-06-18T12:51:23.305Z"
   },
   {
    "duration": 1256,
    "start_time": "2022-06-18T12:51:51.478Z"
   },
   {
    "duration": 807,
    "start_time": "2022-06-18T12:51:52.737Z"
   },
   {
    "duration": 260,
    "start_time": "2022-06-18T12:51:53.545Z"
   },
   {
    "duration": 452,
    "start_time": "2022-06-18T12:51:53.808Z"
   },
   {
    "duration": 471,
    "start_time": "2022-06-18T12:51:54.262Z"
   },
   {
    "duration": 54,
    "start_time": "2022-06-18T12:51:54.735Z"
   },
   {
    "duration": 14,
    "start_time": "2022-06-18T12:51:54.791Z"
   },
   {
    "duration": 243,
    "start_time": "2022-06-18T12:51:54.806Z"
   },
   {
    "duration": 42,
    "start_time": "2022-06-18T12:51:55.050Z"
   },
   {
    "duration": 155,
    "start_time": "2022-06-18T12:51:55.095Z"
   },
   {
    "duration": 12,
    "start_time": "2022-06-18T12:51:55.251Z"
   },
   {
    "duration": 20,
    "start_time": "2022-06-18T12:51:55.265Z"
   },
   {
    "duration": 75,
    "start_time": "2022-06-18T12:51:55.286Z"
   },
   {
    "duration": 26,
    "start_time": "2022-06-18T12:51:55.363Z"
   },
   {
    "duration": 29,
    "start_time": "2022-06-18T12:51:55.391Z"
   },
   {
    "duration": 5,
    "start_time": "2022-06-18T12:51:55.422Z"
   },
   {
    "duration": 92,
    "start_time": "2022-06-18T12:51:55.429Z"
   },
   {
    "duration": 99,
    "start_time": "2022-06-18T12:51:55.523Z"
   },
   {
    "duration": 107,
    "start_time": "2022-06-18T12:51:55.624Z"
   },
   {
    "duration": 27,
    "start_time": "2022-06-18T12:51:55.732Z"
   },
   {
    "duration": 34,
    "start_time": "2022-06-18T12:51:55.760Z"
   },
   {
    "duration": 2,
    "start_time": "2022-06-18T12:51:55.796Z"
   },
   {
    "duration": 6,
    "start_time": "2022-06-18T12:51:55.800Z"
   },
   {
    "duration": 6,
    "start_time": "2022-06-18T12:51:55.807Z"
   },
   {
    "duration": 2823,
    "start_time": "2022-06-18T12:53:05.109Z"
   },
   {
    "duration": 1316,
    "start_time": "2022-06-18T12:55:51.152Z"
   },
   {
    "duration": 829,
    "start_time": "2022-06-18T12:55:52.470Z"
   },
   {
    "duration": 226,
    "start_time": "2022-06-18T12:55:53.301Z"
   },
   {
    "duration": 471,
    "start_time": "2022-06-18T12:55:53.529Z"
   },
   {
    "duration": 478,
    "start_time": "2022-06-18T12:55:54.002Z"
   },
   {
    "duration": 51,
    "start_time": "2022-06-18T12:55:54.481Z"
   },
   {
    "duration": 27,
    "start_time": "2022-06-18T12:55:54.533Z"
   },
   {
    "duration": 227,
    "start_time": "2022-06-18T12:55:54.561Z"
   },
   {
    "duration": 33,
    "start_time": "2022-06-18T12:55:54.790Z"
   },
   {
    "duration": 140,
    "start_time": "2022-06-18T12:55:54.825Z"
   },
   {
    "duration": 7,
    "start_time": "2022-06-18T12:55:54.966Z"
   },
   {
    "duration": 19,
    "start_time": "2022-06-18T12:55:54.974Z"
   },
   {
    "duration": 77,
    "start_time": "2022-06-18T12:55:54.994Z"
   },
   {
    "duration": 24,
    "start_time": "2022-06-18T12:55:55.073Z"
   },
   {
    "duration": 29,
    "start_time": "2022-06-18T12:55:55.098Z"
   },
   {
    "duration": 6,
    "start_time": "2022-06-18T12:55:55.129Z"
   },
   {
    "duration": 87,
    "start_time": "2022-06-18T12:55:55.136Z"
   },
   {
    "duration": 96,
    "start_time": "2022-06-18T12:55:55.224Z"
   },
   {
    "duration": 101,
    "start_time": "2022-06-18T12:55:55.322Z"
   },
   {
    "duration": 2,
    "start_time": "2022-06-18T12:55:55.425Z"
   },
   {
    "duration": 5,
    "start_time": "2022-06-18T12:55:55.429Z"
   },
   {
    "duration": 5,
    "start_time": "2022-06-18T12:55:55.435Z"
   },
   {
    "duration": 18,
    "start_time": "2022-06-18T12:55:55.441Z"
   },
   {
    "duration": 3,
    "start_time": "2022-06-18T12:55:55.460Z"
   },
   {
    "duration": 29,
    "start_time": "2022-06-18T12:58:10.855Z"
   },
   {
    "duration": 109,
    "start_time": "2022-06-18T12:58:17.927Z"
   },
   {
    "duration": 17,
    "start_time": "2022-06-18T12:58:27.880Z"
   },
   {
    "duration": 1230,
    "start_time": "2022-06-18T13:00:39.313Z"
   },
   {
    "duration": 804,
    "start_time": "2022-06-18T13:00:40.545Z"
   },
   {
    "duration": 220,
    "start_time": "2022-06-18T13:00:41.351Z"
   },
   {
    "duration": 457,
    "start_time": "2022-06-18T13:00:41.573Z"
   },
   {
    "duration": 487,
    "start_time": "2022-06-18T13:00:42.032Z"
   },
   {
    "duration": 56,
    "start_time": "2022-06-18T13:00:42.520Z"
   },
   {
    "duration": 13,
    "start_time": "2022-06-18T13:00:42.578Z"
   },
   {
    "duration": 231,
    "start_time": "2022-06-18T13:00:42.592Z"
   },
   {
    "duration": 45,
    "start_time": "2022-06-18T13:00:42.825Z"
   },
   {
    "duration": 149,
    "start_time": "2022-06-18T13:00:42.872Z"
   },
   {
    "duration": 11,
    "start_time": "2022-06-18T13:00:43.023Z"
   },
   {
    "duration": 30,
    "start_time": "2022-06-18T13:00:43.036Z"
   },
   {
    "duration": 77,
    "start_time": "2022-06-18T13:00:43.068Z"
   },
   {
    "duration": 24,
    "start_time": "2022-06-18T13:00:43.158Z"
   },
   {
    "duration": 28,
    "start_time": "2022-06-18T13:00:43.184Z"
   },
   {
    "duration": 6,
    "start_time": "2022-06-18T13:00:43.214Z"
   },
   {
    "duration": 90,
    "start_time": "2022-06-18T13:00:43.222Z"
   },
   {
    "duration": 98,
    "start_time": "2022-06-18T13:00:43.314Z"
   },
   {
    "duration": 110,
    "start_time": "2022-06-18T13:00:43.413Z"
   },
   {
    "duration": 18,
    "start_time": "2022-06-18T13:00:43.524Z"
   },
   {
    "duration": 60,
    "start_time": "2022-06-18T13:00:43.544Z"
   },
   {
    "duration": 4,
    "start_time": "2022-06-18T13:00:43.605Z"
   },
   {
    "duration": 2810,
    "start_time": "2022-06-18T13:00:43.611Z"
   },
   {
    "duration": 1399,
    "start_time": "2022-06-18T13:12:56.546Z"
   },
   {
    "duration": 794,
    "start_time": "2022-06-18T13:12:57.947Z"
   },
   {
    "duration": 232,
    "start_time": "2022-06-18T13:12:58.743Z"
   },
   {
    "duration": 461,
    "start_time": "2022-06-18T13:12:58.977Z"
   },
   {
    "duration": 476,
    "start_time": "2022-06-18T13:12:59.440Z"
   },
   {
    "duration": 60,
    "start_time": "2022-06-18T13:12:59.918Z"
   },
   {
    "duration": 19,
    "start_time": "2022-06-18T13:12:59.980Z"
   },
   {
    "duration": 242,
    "start_time": "2022-06-18T13:13:00.000Z"
   },
   {
    "duration": 49,
    "start_time": "2022-06-18T13:13:00.244Z"
   },
   {
    "duration": 143,
    "start_time": "2022-06-18T13:13:00.294Z"
   },
   {
    "duration": 8,
    "start_time": "2022-06-18T13:13:00.438Z"
   },
   {
    "duration": 25,
    "start_time": "2022-06-18T13:13:00.447Z"
   },
   {
    "duration": 65,
    "start_time": "2022-06-18T13:13:00.474Z"
   },
   {
    "duration": 38,
    "start_time": "2022-06-18T13:13:00.542Z"
   },
   {
    "duration": 30,
    "start_time": "2022-06-18T13:13:00.581Z"
   },
   {
    "duration": 16,
    "start_time": "2022-06-18T13:13:00.613Z"
   },
   {
    "duration": 79,
    "start_time": "2022-06-18T13:13:00.631Z"
   },
   {
    "duration": 99,
    "start_time": "2022-06-18T13:13:00.711Z"
   },
   {
    "duration": 108,
    "start_time": "2022-06-18T13:13:00.812Z"
   },
   {
    "duration": 104,
    "start_time": "2022-06-18T13:13:00.921Z"
   },
   {
    "duration": 34,
    "start_time": "2022-06-18T13:13:01.027Z"
   },
   {
    "duration": 3,
    "start_time": "2022-06-18T13:13:01.063Z"
   },
   {
    "duration": 2837,
    "start_time": "2022-06-18T13:13:01.067Z"
   },
   {
    "duration": 106,
    "start_time": "2022-06-18T13:13:03.906Z"
   },
   {
    "duration": 128,
    "start_time": "2022-06-18T13:16:36.974Z"
   },
   {
    "duration": 22,
    "start_time": "2022-06-18T13:16:48.288Z"
   },
   {
    "duration": 1349,
    "start_time": "2022-06-18T13:18:06.542Z"
   },
   {
    "duration": 754,
    "start_time": "2022-06-18T13:18:07.893Z"
   },
   {
    "duration": 250,
    "start_time": "2022-06-18T13:18:08.648Z"
   },
   {
    "duration": 446,
    "start_time": "2022-06-18T13:18:08.900Z"
   },
   {
    "duration": 472,
    "start_time": "2022-06-18T13:18:09.348Z"
   },
   {
    "duration": 57,
    "start_time": "2022-06-18T13:18:09.822Z"
   },
   {
    "duration": 169,
    "start_time": "2022-06-18T13:18:09.881Z"
   },
   {
    "duration": 19,
    "start_time": "2022-06-18T13:18:10.052Z"
   },
   {
    "duration": 225,
    "start_time": "2022-06-18T13:18:10.073Z"
   },
   {
    "duration": 33,
    "start_time": "2022-06-18T13:18:10.299Z"
   },
   {
    "duration": 143,
    "start_time": "2022-06-18T13:18:10.334Z"
   },
   {
    "duration": 8,
    "start_time": "2022-06-18T13:18:10.479Z"
   },
   {
    "duration": 30,
    "start_time": "2022-06-18T13:18:10.489Z"
   },
   {
    "duration": 70,
    "start_time": "2022-06-18T13:18:10.522Z"
   },
   {
    "duration": 24,
    "start_time": "2022-06-18T13:18:10.594Z"
   },
   {
    "duration": 17,
    "start_time": "2022-06-18T13:18:10.620Z"
   },
   {
    "duration": 3,
    "start_time": "2022-06-18T13:18:10.638Z"
   },
   {
    "duration": 72,
    "start_time": "2022-06-18T13:18:10.658Z"
   },
   {
    "duration": 105,
    "start_time": "2022-06-18T13:18:10.732Z"
   },
   {
    "duration": 91,
    "start_time": "2022-06-18T13:18:10.838Z"
   },
   {
    "duration": 106,
    "start_time": "2022-06-18T13:18:10.931Z"
   },
   {
    "duration": 35,
    "start_time": "2022-06-18T13:18:11.038Z"
   },
   {
    "duration": 4,
    "start_time": "2022-06-18T13:18:11.074Z"
   },
   {
    "duration": 4844,
    "start_time": "2022-06-18T13:18:11.079Z"
   },
   {
    "duration": 78,
    "start_time": "2022-06-18T13:18:15.925Z"
   },
   {
    "duration": 71,
    "start_time": "2022-06-18T13:19:10.719Z"
   },
   {
    "duration": 7,
    "start_time": "2022-06-18T13:20:04.444Z"
   },
   {
    "duration": 30,
    "start_time": "2022-06-18T13:20:12.346Z"
   },
   {
    "duration": 20,
    "start_time": "2022-06-18T13:20:25.986Z"
   },
   {
    "duration": 106,
    "start_time": "2022-06-18T13:22:56.436Z"
   },
   {
    "duration": 14,
    "start_time": "2022-06-18T13:23:01.887Z"
   },
   {
    "duration": 11,
    "start_time": "2022-06-18T13:23:10.944Z"
   },
   {
    "duration": 37,
    "start_time": "2022-06-18T13:23:16.600Z"
   },
   {
    "duration": 32,
    "start_time": "2022-06-18T13:23:31.937Z"
   },
   {
    "duration": 1283,
    "start_time": "2022-06-18T13:24:10.075Z"
   },
   {
    "duration": 820,
    "start_time": "2022-06-18T13:24:11.360Z"
   },
   {
    "duration": 269,
    "start_time": "2022-06-18T13:24:12.182Z"
   },
   {
    "duration": 542,
    "start_time": "2022-06-18T13:24:12.460Z"
   },
   {
    "duration": 555,
    "start_time": "2022-06-18T13:24:13.004Z"
   },
   {
    "duration": 57,
    "start_time": "2022-06-18T13:24:13.561Z"
   },
   {
    "duration": 175,
    "start_time": "2022-06-18T13:24:13.619Z"
   },
   {
    "duration": 14,
    "start_time": "2022-06-18T13:24:13.796Z"
   },
   {
    "duration": 230,
    "start_time": "2022-06-18T13:24:13.812Z"
   },
   {
    "duration": 39,
    "start_time": "2022-06-18T13:24:14.044Z"
   },
   {
    "duration": 126,
    "start_time": "2022-06-18T13:24:14.085Z"
   },
   {
    "duration": 6,
    "start_time": "2022-06-18T13:24:14.213Z"
   },
   {
    "duration": 20,
    "start_time": "2022-06-18T13:24:14.221Z"
   },
   {
    "duration": 55,
    "start_time": "2022-06-18T13:24:14.243Z"
   },
   {
    "duration": 24,
    "start_time": "2022-06-18T13:24:14.300Z"
   },
   {
    "duration": 37,
    "start_time": "2022-06-18T13:24:14.325Z"
   },
   {
    "duration": 3,
    "start_time": "2022-06-18T13:24:14.364Z"
   },
   {
    "duration": 74,
    "start_time": "2022-06-18T13:24:14.369Z"
   },
   {
    "duration": 88,
    "start_time": "2022-06-18T13:24:14.445Z"
   },
   {
    "duration": 85,
    "start_time": "2022-06-18T13:24:14.535Z"
   },
   {
    "duration": 103,
    "start_time": "2022-06-18T13:24:14.622Z"
   },
   {
    "duration": 35,
    "start_time": "2022-06-18T13:24:14.726Z"
   },
   {
    "duration": 3,
    "start_time": "2022-06-18T13:24:14.762Z"
   },
   {
    "duration": 4767,
    "start_time": "2022-06-18T13:24:14.767Z"
   },
   {
    "duration": 78,
    "start_time": "2022-06-18T13:24:19.536Z"
   },
   {
    "duration": 71,
    "start_time": "2022-06-18T13:24:19.616Z"
   },
   {
    "duration": 13,
    "start_time": "2022-06-18T13:24:19.688Z"
   },
   {
    "duration": 22,
    "start_time": "2022-06-18T13:24:19.704Z"
   },
   {
    "duration": 21,
    "start_time": "2022-06-18T13:44:34.149Z"
   },
   {
    "duration": 15,
    "start_time": "2022-06-18T14:08:39.674Z"
   },
   {
    "duration": 127,
    "start_time": "2022-06-18T14:08:49.274Z"
   },
   {
    "duration": 31,
    "start_time": "2022-06-18T14:08:54.395Z"
   },
   {
    "duration": 711,
    "start_time": "2022-06-18T14:11:57.865Z"
   },
   {
    "duration": 49,
    "start_time": "2022-06-18T14:12:04.536Z"
   },
   {
    "duration": 16,
    "start_time": "2022-06-18T14:13:34.469Z"
   },
   {
    "duration": 5,
    "start_time": "2022-06-18T14:17:45.156Z"
   },
   {
    "duration": 444,
    "start_time": "2022-06-18T14:18:24.949Z"
   },
   {
    "duration": 6,
    "start_time": "2022-06-18T14:18:39.214Z"
   },
   {
    "duration": 845,
    "start_time": "2022-06-18T14:21:11.074Z"
   },
   {
    "duration": 1282,
    "start_time": "2022-06-18T14:21:48.176Z"
   },
   {
    "duration": 798,
    "start_time": "2022-06-18T14:21:49.460Z"
   },
   {
    "duration": 236,
    "start_time": "2022-06-18T14:21:50.260Z"
   },
   {
    "duration": 472,
    "start_time": "2022-06-18T14:21:50.498Z"
   },
   {
    "duration": 494,
    "start_time": "2022-06-18T14:21:50.973Z"
   },
   {
    "duration": 49,
    "start_time": "2022-06-18T14:21:51.469Z"
   },
   {
    "duration": 158,
    "start_time": "2022-06-18T14:21:51.520Z"
   },
   {
    "duration": 14,
    "start_time": "2022-06-18T14:21:51.680Z"
   },
   {
    "duration": 239,
    "start_time": "2022-06-18T14:21:51.695Z"
   },
   {
    "duration": 46,
    "start_time": "2022-06-18T14:21:51.937Z"
   },
   {
    "duration": 130,
    "start_time": "2022-06-18T14:21:51.985Z"
   },
   {
    "duration": 7,
    "start_time": "2022-06-18T14:21:52.117Z"
   },
   {
    "duration": 35,
    "start_time": "2022-06-18T14:21:52.125Z"
   },
   {
    "duration": 45,
    "start_time": "2022-06-18T14:21:52.161Z"
   },
   {
    "duration": 24,
    "start_time": "2022-06-18T14:21:52.207Z"
   },
   {
    "duration": 37,
    "start_time": "2022-06-18T14:21:52.232Z"
   },
   {
    "duration": 7,
    "start_time": "2022-06-18T14:21:52.270Z"
   },
   {
    "duration": 68,
    "start_time": "2022-06-18T14:21:52.278Z"
   },
   {
    "duration": 85,
    "start_time": "2022-06-18T14:21:52.348Z"
   },
   {
    "duration": 83,
    "start_time": "2022-06-18T14:21:52.434Z"
   },
   {
    "duration": 100,
    "start_time": "2022-06-18T14:21:52.518Z"
   },
   {
    "duration": 38,
    "start_time": "2022-06-18T14:21:52.620Z"
   },
   {
    "duration": 3,
    "start_time": "2022-06-18T14:21:52.660Z"
   },
   {
    "duration": 4711,
    "start_time": "2022-06-18T14:21:52.665Z"
   },
   {
    "duration": 114,
    "start_time": "2022-06-18T14:21:57.378Z"
   },
   {
    "duration": 77,
    "start_time": "2022-06-18T14:21:57.493Z"
   },
   {
    "duration": 16,
    "start_time": "2022-06-18T14:21:57.572Z"
   },
   {
    "duration": 49,
    "start_time": "2022-06-18T14:21:57.591Z"
   },
   {
    "duration": 25,
    "start_time": "2022-06-18T14:21:57.642Z"
   },
   {
    "duration": 749,
    "start_time": "2022-06-18T14:21:57.669Z"
   },
   {
    "duration": 134,
    "start_time": "2022-06-18T14:42:00.638Z"
   },
   {
    "duration": 10,
    "start_time": "2022-06-18T14:43:16.672Z"
   },
   {
    "duration": 100,
    "start_time": "2022-06-18T14:53:23.990Z"
   },
   {
    "duration": 53,
    "start_time": "2022-06-18T14:54:42.249Z"
   },
   {
    "duration": 3,
    "start_time": "2022-06-18T14:55:10.626Z"
   },
   {
    "duration": 30,
    "start_time": "2022-06-18T14:55:15.168Z"
   },
   {
    "duration": 10,
    "start_time": "2022-06-18T15:00:30.229Z"
   },
   {
    "duration": 1330,
    "start_time": "2022-06-18T15:01:11.941Z"
   },
   {
    "duration": 781,
    "start_time": "2022-06-18T15:01:13.273Z"
   },
   {
    "duration": 243,
    "start_time": "2022-06-18T15:01:14.055Z"
   },
   {
    "duration": 489,
    "start_time": "2022-06-18T15:01:14.301Z"
   },
   {
    "duration": 468,
    "start_time": "2022-06-18T15:01:14.791Z"
   },
   {
    "duration": 56,
    "start_time": "2022-06-18T15:01:15.261Z"
   },
   {
    "duration": 173,
    "start_time": "2022-06-18T15:01:15.319Z"
   },
   {
    "duration": 14,
    "start_time": "2022-06-18T15:01:15.494Z"
   },
   {
    "duration": 223,
    "start_time": "2022-06-18T15:01:15.510Z"
   },
   {
    "duration": 39,
    "start_time": "2022-06-18T15:01:15.736Z"
   },
   {
    "duration": 122,
    "start_time": "2022-06-18T15:01:15.777Z"
   },
   {
    "duration": 6,
    "start_time": "2022-06-18T15:01:15.901Z"
   },
   {
    "duration": 19,
    "start_time": "2022-06-18T15:01:15.908Z"
   },
   {
    "duration": 64,
    "start_time": "2022-06-18T15:01:15.929Z"
   },
   {
    "duration": 23,
    "start_time": "2022-06-18T15:01:15.994Z"
   },
   {
    "duration": 17,
    "start_time": "2022-06-18T15:01:16.018Z"
   },
   {
    "duration": 23,
    "start_time": "2022-06-18T15:01:16.036Z"
   },
   {
    "duration": 70,
    "start_time": "2022-06-18T15:01:16.060Z"
   },
   {
    "duration": 85,
    "start_time": "2022-06-18T15:01:16.132Z"
   },
   {
    "duration": 84,
    "start_time": "2022-06-18T15:01:16.219Z"
   },
   {
    "duration": 101,
    "start_time": "2022-06-18T15:01:16.305Z"
   },
   {
    "duration": 32,
    "start_time": "2022-06-18T15:01:16.408Z"
   },
   {
    "duration": 18,
    "start_time": "2022-06-18T15:01:16.441Z"
   },
   {
    "duration": 4754,
    "start_time": "2022-06-18T15:01:16.460Z"
   },
   {
    "duration": 78,
    "start_time": "2022-06-18T15:01:21.216Z"
   },
   {
    "duration": 75,
    "start_time": "2022-06-18T15:01:21.297Z"
   },
   {
    "duration": 13,
    "start_time": "2022-06-18T15:01:21.374Z"
   },
   {
    "duration": 28,
    "start_time": "2022-06-18T15:01:21.391Z"
   },
   {
    "duration": 20,
    "start_time": "2022-06-18T15:01:21.421Z"
   },
   {
    "duration": 809,
    "start_time": "2022-06-18T15:01:21.459Z"
   },
   {
    "duration": 114,
    "start_time": "2022-06-18T15:01:22.270Z"
   },
   {
    "duration": 135,
    "start_time": "2022-06-18T15:01:22.385Z"
   },
   {
    "duration": 74,
    "start_time": "2022-06-18T15:04:17.031Z"
   },
   {
    "duration": 29,
    "start_time": "2022-06-18T15:06:07.915Z"
   },
   {
    "duration": 4,
    "start_time": "2022-06-18T15:06:15.915Z"
   },
   {
    "duration": 9,
    "start_time": "2022-06-18T15:06:23.434Z"
   },
   {
    "duration": 1295,
    "start_time": "2022-06-18T15:06:48.522Z"
   },
   {
    "duration": 791,
    "start_time": "2022-06-18T15:06:49.819Z"
   },
   {
    "duration": 251,
    "start_time": "2022-06-18T15:06:50.611Z"
   },
   {
    "duration": 481,
    "start_time": "2022-06-18T15:06:50.864Z"
   },
   {
    "duration": 471,
    "start_time": "2022-06-18T15:06:51.347Z"
   },
   {
    "duration": 58,
    "start_time": "2022-06-18T15:06:51.820Z"
   },
   {
    "duration": 169,
    "start_time": "2022-06-18T15:06:51.879Z"
   },
   {
    "duration": 17,
    "start_time": "2022-06-18T15:06:52.050Z"
   },
   {
    "duration": 234,
    "start_time": "2022-06-18T15:06:52.069Z"
   },
   {
    "duration": 31,
    "start_time": "2022-06-18T15:06:52.305Z"
   },
   {
    "duration": 127,
    "start_time": "2022-06-18T15:06:52.338Z"
   },
   {
    "duration": 7,
    "start_time": "2022-06-18T15:06:52.467Z"
   },
   {
    "duration": 20,
    "start_time": "2022-06-18T15:06:52.475Z"
   },
   {
    "duration": 66,
    "start_time": "2022-06-18T15:06:52.498Z"
   },
   {
    "duration": 24,
    "start_time": "2022-06-18T15:06:52.565Z"
   },
   {
    "duration": 16,
    "start_time": "2022-06-18T15:06:52.590Z"
   },
   {
    "duration": 2,
    "start_time": "2022-06-18T15:06:52.608Z"
   },
   {
    "duration": 91,
    "start_time": "2022-06-18T15:06:52.612Z"
   },
   {
    "duration": 94,
    "start_time": "2022-06-18T15:06:52.705Z"
   },
   {
    "duration": 84,
    "start_time": "2022-06-18T15:06:52.800Z"
   },
   {
    "duration": 106,
    "start_time": "2022-06-18T15:06:52.885Z"
   },
   {
    "duration": 36,
    "start_time": "2022-06-18T15:06:52.993Z"
   },
   {
    "duration": 3,
    "start_time": "2022-06-18T15:06:53.030Z"
   },
   {
    "duration": 4801,
    "start_time": "2022-06-18T15:06:53.035Z"
   },
   {
    "duration": 77,
    "start_time": "2022-06-18T15:06:57.838Z"
   },
   {
    "duration": 71,
    "start_time": "2022-06-18T15:06:57.917Z"
   },
   {
    "duration": 14,
    "start_time": "2022-06-18T15:06:57.989Z"
   },
   {
    "duration": 34,
    "start_time": "2022-06-18T15:06:58.004Z"
   },
   {
    "duration": 24,
    "start_time": "2022-06-18T15:06:58.040Z"
   },
   {
    "duration": 743,
    "start_time": "2022-06-18T15:06:58.066Z"
   },
   {
    "duration": 104,
    "start_time": "2022-06-18T15:06:58.810Z"
   },
   {
    "duration": 200,
    "start_time": "2022-06-18T15:06:58.916Z"
   },
   {
    "duration": 123,
    "start_time": "2022-06-18T15:14:14.016Z"
   },
   {
    "duration": 432,
    "start_time": "2022-06-18T15:15:38.699Z"
   },
   {
    "duration": 441,
    "start_time": "2022-06-18T15:16:06.476Z"
   },
   {
    "duration": 33,
    "start_time": "2022-06-18T15:17:42.837Z"
   },
   {
    "duration": 426,
    "start_time": "2022-06-18T15:18:05.823Z"
   },
   {
    "duration": 170,
    "start_time": "2022-06-18T15:22:15.286Z"
   },
   {
    "duration": 1246,
    "start_time": "2022-06-18T15:23:04.586Z"
   },
   {
    "duration": 799,
    "start_time": "2022-06-18T15:23:05.833Z"
   },
   {
    "duration": 238,
    "start_time": "2022-06-18T15:23:06.633Z"
   },
   {
    "duration": 458,
    "start_time": "2022-06-18T15:23:06.872Z"
   },
   {
    "duration": 548,
    "start_time": "2022-06-18T15:23:07.332Z"
   },
   {
    "duration": 50,
    "start_time": "2022-06-18T15:23:07.882Z"
   },
   {
    "duration": 147,
    "start_time": "2022-06-18T15:23:07.933Z"
   },
   {
    "duration": 23,
    "start_time": "2022-06-18T15:23:08.081Z"
   },
   {
    "duration": 235,
    "start_time": "2022-06-18T15:23:08.106Z"
   },
   {
    "duration": 43,
    "start_time": "2022-06-18T15:23:08.346Z"
   },
   {
    "duration": 134,
    "start_time": "2022-06-18T15:23:08.391Z"
   },
   {
    "duration": 7,
    "start_time": "2022-06-18T15:23:08.527Z"
   },
   {
    "duration": 35,
    "start_time": "2022-06-18T15:23:08.535Z"
   },
   {
    "duration": 43,
    "start_time": "2022-06-18T15:23:08.572Z"
   },
   {
    "duration": 44,
    "start_time": "2022-06-18T15:23:08.617Z"
   },
   {
    "duration": 22,
    "start_time": "2022-06-18T15:23:08.663Z"
   },
   {
    "duration": 7,
    "start_time": "2022-06-18T15:23:08.687Z"
   },
   {
    "duration": 90,
    "start_time": "2022-06-18T15:23:08.696Z"
   },
   {
    "duration": 115,
    "start_time": "2022-06-18T15:23:08.788Z"
   },
   {
    "duration": 76,
    "start_time": "2022-06-18T15:23:08.905Z"
   },
   {
    "duration": 97,
    "start_time": "2022-06-18T15:23:08.982Z"
   },
   {
    "duration": 30,
    "start_time": "2022-06-18T15:23:09.080Z"
   },
   {
    "duration": 3,
    "start_time": "2022-06-18T15:23:09.112Z"
   },
   {
    "duration": 4707,
    "start_time": "2022-06-18T15:23:09.116Z"
   },
   {
    "duration": 80,
    "start_time": "2022-06-18T15:23:13.825Z"
   },
   {
    "duration": 73,
    "start_time": "2022-06-18T15:23:13.907Z"
   },
   {
    "duration": 13,
    "start_time": "2022-06-18T15:23:13.982Z"
   },
   {
    "duration": 24,
    "start_time": "2022-06-18T15:23:13.998Z"
   },
   {
    "duration": 36,
    "start_time": "2022-06-18T15:23:14.023Z"
   },
   {
    "duration": 755,
    "start_time": "2022-06-18T15:23:14.061Z"
   },
   {
    "duration": 105,
    "start_time": "2022-06-18T15:23:14.818Z"
   },
   {
    "duration": 170,
    "start_time": "2022-06-18T15:23:14.925Z"
   },
   {
    "duration": 440,
    "start_time": "2022-06-18T15:23:15.096Z"
   },
   {
    "duration": 123,
    "start_time": "2022-06-18T15:23:15.538Z"
   },
   {
    "duration": 21,
    "start_time": "2022-06-18T15:23:42.532Z"
   },
   {
    "duration": 2,
    "start_time": "2022-06-18T15:24:48.549Z"
   },
   {
    "duration": 43,
    "start_time": "2022-06-18T15:25:06.093Z"
   },
   {
    "duration": 11,
    "start_time": "2022-06-18T15:27:38.572Z"
   },
   {
    "duration": 1246,
    "start_time": "2022-06-18T15:28:18.402Z"
   },
   {
    "duration": 781,
    "start_time": "2022-06-18T15:28:19.650Z"
   },
   {
    "duration": 220,
    "start_time": "2022-06-18T15:28:20.433Z"
   },
   {
    "duration": 478,
    "start_time": "2022-06-18T15:28:20.655Z"
   },
   {
    "duration": 472,
    "start_time": "2022-06-18T15:28:21.135Z"
   },
   {
    "duration": 56,
    "start_time": "2022-06-18T15:28:21.609Z"
   },
   {
    "duration": 146,
    "start_time": "2022-06-18T15:28:21.667Z"
   },
   {
    "duration": 15,
    "start_time": "2022-06-18T15:28:21.815Z"
   },
   {
    "duration": 248,
    "start_time": "2022-06-18T15:28:21.831Z"
   },
   {
    "duration": 32,
    "start_time": "2022-06-18T15:28:22.081Z"
   },
   {
    "duration": 127,
    "start_time": "2022-06-18T15:28:22.115Z"
   },
   {
    "duration": 6,
    "start_time": "2022-06-18T15:28:22.244Z"
   },
   {
    "duration": 18,
    "start_time": "2022-06-18T15:28:22.259Z"
   },
   {
    "duration": 43,
    "start_time": "2022-06-18T15:28:22.278Z"
   },
   {
    "duration": 63,
    "start_time": "2022-06-18T15:28:22.323Z"
   },
   {
    "duration": 28,
    "start_time": "2022-06-18T15:28:22.388Z"
   },
   {
    "duration": 5,
    "start_time": "2022-06-18T15:28:22.418Z"
   },
   {
    "duration": 80,
    "start_time": "2022-06-18T15:28:22.424Z"
   },
   {
    "duration": 84,
    "start_time": "2022-06-18T15:28:22.506Z"
   },
   {
    "duration": 77,
    "start_time": "2022-06-18T15:28:22.591Z"
   },
   {
    "duration": 99,
    "start_time": "2022-06-18T15:28:22.670Z"
   },
   {
    "duration": 35,
    "start_time": "2022-06-18T15:28:22.771Z"
   },
   {
    "duration": 3,
    "start_time": "2022-06-18T15:28:22.808Z"
   },
   {
    "duration": 4870,
    "start_time": "2022-06-18T15:28:22.813Z"
   },
   {
    "duration": 78,
    "start_time": "2022-06-18T15:28:27.685Z"
   },
   {
    "duration": 61,
    "start_time": "2022-06-18T15:28:27.765Z"
   },
   {
    "duration": 33,
    "start_time": "2022-06-18T15:28:27.827Z"
   },
   {
    "duration": 25,
    "start_time": "2022-06-18T15:28:27.863Z"
   },
   {
    "duration": 19,
    "start_time": "2022-06-18T15:28:27.890Z"
   },
   {
    "duration": 780,
    "start_time": "2022-06-18T15:28:27.911Z"
   },
   {
    "duration": 106,
    "start_time": "2022-06-18T15:28:28.693Z"
   },
   {
    "duration": 164,
    "start_time": "2022-06-18T15:28:28.801Z"
   },
   {
    "duration": 4,
    "start_time": "2022-06-18T15:28:28.967Z"
   },
   {
    "duration": 0,
    "start_time": "2022-06-18T15:28:28.973Z"
   },
   {
    "duration": 0,
    "start_time": "2022-06-18T15:28:28.974Z"
   },
   {
    "duration": 0,
    "start_time": "2022-06-18T15:28:28.975Z"
   },
   {
    "duration": 0,
    "start_time": "2022-06-18T15:28:28.977Z"
   },
   {
    "duration": 122,
    "start_time": "2022-06-18T15:28:43.199Z"
   },
   {
    "duration": 421,
    "start_time": "2022-06-18T15:28:46.145Z"
   },
   {
    "duration": 3,
    "start_time": "2022-06-18T15:28:50.745Z"
   },
   {
    "duration": 32444,
    "start_time": "2022-06-18T15:28:51.824Z"
   },
   {
    "duration": 173,
    "start_time": "2022-06-18T15:29:28.787Z"
   },
   {
    "duration": 132,
    "start_time": "2022-06-18T15:30:31.236Z"
   },
   {
    "duration": 1448,
    "start_time": "2022-06-19T09:52:12.360Z"
   },
   {
    "duration": 2831,
    "start_time": "2022-06-19T09:52:13.810Z"
   },
   {
    "duration": 209,
    "start_time": "2022-06-19T09:52:16.643Z"
   },
   {
    "duration": 417,
    "start_time": "2022-06-19T09:52:16.853Z"
   },
   {
    "duration": 440,
    "start_time": "2022-06-19T09:52:17.272Z"
   },
   {
    "duration": 51,
    "start_time": "2022-06-19T09:52:17.713Z"
   },
   {
    "duration": 152,
    "start_time": "2022-06-19T09:52:17.766Z"
   },
   {
    "duration": 17,
    "start_time": "2022-06-19T09:52:17.919Z"
   },
   {
    "duration": 231,
    "start_time": "2022-06-19T09:52:17.937Z"
   },
   {
    "duration": 26,
    "start_time": "2022-06-19T09:52:18.170Z"
   },
   {
    "duration": 131,
    "start_time": "2022-06-19T09:52:18.198Z"
   },
   {
    "duration": 6,
    "start_time": "2022-06-19T09:52:18.331Z"
   },
   {
    "duration": 19,
    "start_time": "2022-06-19T09:52:18.339Z"
   },
   {
    "duration": 41,
    "start_time": "2022-06-19T09:52:18.361Z"
   },
   {
    "duration": 44,
    "start_time": "2022-06-19T09:52:18.404Z"
   },
   {
    "duration": 20,
    "start_time": "2022-06-19T09:52:18.450Z"
   },
   {
    "duration": 5,
    "start_time": "2022-06-19T09:52:18.471Z"
   },
   {
    "duration": 90,
    "start_time": "2022-06-19T09:52:18.477Z"
   },
   {
    "duration": 77,
    "start_time": "2022-06-19T09:52:18.569Z"
   },
   {
    "duration": 63,
    "start_time": "2022-06-19T09:52:18.647Z"
   },
   {
    "duration": 91,
    "start_time": "2022-06-19T09:52:18.711Z"
   },
   {
    "duration": 46,
    "start_time": "2022-06-19T09:52:18.804Z"
   },
   {
    "duration": 4,
    "start_time": "2022-06-19T09:52:18.851Z"
   },
   {
    "duration": 4855,
    "start_time": "2022-06-19T09:52:18.856Z"
   },
   {
    "duration": 72,
    "start_time": "2022-06-19T09:52:23.713Z"
   },
   {
    "duration": 77,
    "start_time": "2022-06-19T09:52:23.786Z"
   },
   {
    "duration": 16,
    "start_time": "2022-06-19T09:52:23.865Z"
   },
   {
    "duration": 26,
    "start_time": "2022-06-19T09:52:23.882Z"
   },
   {
    "duration": 37,
    "start_time": "2022-06-19T09:52:23.909Z"
   },
   {
    "duration": 735,
    "start_time": "2022-06-19T09:52:23.948Z"
   },
   {
    "duration": 107,
    "start_time": "2022-06-19T09:52:24.684Z"
   },
   {
    "duration": 147,
    "start_time": "2022-06-19T09:52:24.792Z"
   },
   {
    "duration": 128,
    "start_time": "2022-06-19T09:52:24.941Z"
   },
   {
    "duration": 426,
    "start_time": "2022-06-19T09:52:25.071Z"
   },
   {
    "duration": 3,
    "start_time": "2022-06-19T09:52:25.498Z"
   },
   {
    "duration": 22832,
    "start_time": "2022-06-19T09:52:25.502Z"
   },
   {
    "duration": 200,
    "start_time": "2022-06-19T09:52:48.426Z"
   },
   {
    "duration": 677,
    "start_time": "2022-06-19T10:21:01.408Z"
   },
   {
    "duration": 1310,
    "start_time": "2022-06-19T10:21:15.903Z"
   },
   {
    "duration": 732,
    "start_time": "2022-06-19T10:21:17.215Z"
   },
   {
    "duration": 195,
    "start_time": "2022-06-19T10:21:17.948Z"
   },
   {
    "duration": 434,
    "start_time": "2022-06-19T10:21:18.145Z"
   },
   {
    "duration": 496,
    "start_time": "2022-06-19T10:21:18.581Z"
   },
   {
    "duration": 56,
    "start_time": "2022-06-19T10:21:19.079Z"
   },
   {
    "duration": 159,
    "start_time": "2022-06-19T10:21:19.137Z"
   },
   {
    "duration": 13,
    "start_time": "2022-06-19T10:21:19.297Z"
   },
   {
    "duration": 223,
    "start_time": "2022-06-19T10:21:19.312Z"
   },
   {
    "duration": 29,
    "start_time": "2022-06-19T10:21:19.537Z"
   },
   {
    "duration": 135,
    "start_time": "2022-06-19T10:21:19.568Z"
   },
   {
    "duration": 6,
    "start_time": "2022-06-19T10:21:19.705Z"
   },
   {
    "duration": 30,
    "start_time": "2022-06-19T10:21:19.713Z"
   },
   {
    "duration": 45,
    "start_time": "2022-06-19T10:21:19.746Z"
   },
   {
    "duration": 41,
    "start_time": "2022-06-19T10:21:19.792Z"
   },
   {
    "duration": 20,
    "start_time": "2022-06-19T10:21:19.835Z"
   },
   {
    "duration": 6,
    "start_time": "2022-06-19T10:21:19.857Z"
   },
   {
    "duration": 77,
    "start_time": "2022-06-19T10:21:19.865Z"
   },
   {
    "duration": 82,
    "start_time": "2022-06-19T10:21:19.943Z"
   },
   {
    "duration": 65,
    "start_time": "2022-06-19T10:21:20.027Z"
   },
   {
    "duration": 88,
    "start_time": "2022-06-19T10:21:20.093Z"
   },
   {
    "duration": 44,
    "start_time": "2022-06-19T10:21:20.183Z"
   },
   {
    "duration": 3,
    "start_time": "2022-06-19T10:21:20.228Z"
   },
   {
    "duration": 4895,
    "start_time": "2022-06-19T10:21:20.233Z"
   },
   {
    "duration": 61,
    "start_time": "2022-06-19T10:21:25.129Z"
   },
   {
    "duration": 77,
    "start_time": "2022-06-19T10:21:25.192Z"
   },
   {
    "duration": 14,
    "start_time": "2022-06-19T10:21:25.271Z"
   },
   {
    "duration": 23,
    "start_time": "2022-06-19T10:21:25.287Z"
   },
   {
    "duration": 31,
    "start_time": "2022-06-19T10:21:25.312Z"
   },
   {
    "duration": 704,
    "start_time": "2022-06-19T10:21:25.345Z"
   },
   {
    "duration": 110,
    "start_time": "2022-06-19T10:21:26.050Z"
   },
   {
    "duration": 147,
    "start_time": "2022-06-19T10:21:26.162Z"
   },
   {
    "duration": 2236,
    "start_time": "2022-06-19T10:21:26.311Z"
   },
   {
    "duration": 136,
    "start_time": "2022-06-19T10:21:28.549Z"
   },
   {
    "duration": 440,
    "start_time": "2022-06-19T10:21:28.687Z"
   },
   {
    "duration": 3,
    "start_time": "2022-06-19T10:21:29.129Z"
   },
   {
    "duration": 21900,
    "start_time": "2022-06-19T10:21:29.134Z"
   },
   {
    "duration": 200,
    "start_time": "2022-06-19T10:21:51.125Z"
   },
   {
    "duration": 1361,
    "start_time": "2022-06-19T10:26:22.716Z"
   },
   {
    "duration": 767,
    "start_time": "2022-06-19T10:26:24.079Z"
   },
   {
    "duration": 245,
    "start_time": "2022-06-19T10:26:24.848Z"
   },
   {
    "duration": 442,
    "start_time": "2022-06-19T10:26:25.095Z"
   },
   {
    "duration": 481,
    "start_time": "2022-06-19T10:26:25.540Z"
   },
   {
    "duration": 51,
    "start_time": "2022-06-19T10:26:26.026Z"
   },
   {
    "duration": 165,
    "start_time": "2022-06-19T10:26:26.079Z"
   },
   {
    "duration": 14,
    "start_time": "2022-06-19T10:26:26.246Z"
   },
   {
    "duration": 253,
    "start_time": "2022-06-19T10:26:26.261Z"
   },
   {
    "duration": 41,
    "start_time": "2022-06-19T10:26:26.517Z"
   },
   {
    "duration": 157,
    "start_time": "2022-06-19T10:26:26.560Z"
   },
   {
    "duration": 7,
    "start_time": "2022-06-19T10:26:26.719Z"
   },
   {
    "duration": 18,
    "start_time": "2022-06-19T10:26:26.727Z"
   },
   {
    "duration": 44,
    "start_time": "2022-06-19T10:26:26.747Z"
   },
   {
    "duration": 46,
    "start_time": "2022-06-19T10:26:26.793Z"
   },
   {
    "duration": 19,
    "start_time": "2022-06-19T10:26:26.841Z"
   },
   {
    "duration": 6,
    "start_time": "2022-06-19T10:26:26.861Z"
   },
   {
    "duration": 66,
    "start_time": "2022-06-19T10:26:26.868Z"
   },
   {
    "duration": 66,
    "start_time": "2022-06-19T10:26:26.935Z"
   },
   {
    "duration": 74,
    "start_time": "2022-06-19T10:26:27.002Z"
   },
   {
    "duration": 85,
    "start_time": "2022-06-19T10:26:27.078Z"
   },
   {
    "duration": 29,
    "start_time": "2022-06-19T10:26:27.165Z"
   },
   {
    "duration": 2,
    "start_time": "2022-06-19T10:26:27.196Z"
   },
   {
    "duration": 5007,
    "start_time": "2022-06-19T10:26:27.199Z"
   },
   {
    "duration": 65,
    "start_time": "2022-06-19T10:26:32.208Z"
   },
   {
    "duration": 68,
    "start_time": "2022-06-19T10:26:32.275Z"
   },
   {
    "duration": 14,
    "start_time": "2022-06-19T10:26:32.345Z"
   },
   {
    "duration": 21,
    "start_time": "2022-06-19T10:26:32.362Z"
   },
   {
    "duration": 20,
    "start_time": "2022-06-19T10:26:32.385Z"
   },
   {
    "duration": 781,
    "start_time": "2022-06-19T10:26:32.426Z"
   },
   {
    "duration": 110,
    "start_time": "2022-06-19T10:26:33.208Z"
   },
   {
    "duration": 2521,
    "start_time": "2022-06-19T10:26:33.319Z"
   },
   {
    "duration": 53,
    "start_time": "2022-06-19T10:26:35.842Z"
   },
   {
    "duration": 2,
    "start_time": "2022-06-19T10:26:35.897Z"
   },
   {
    "duration": 463,
    "start_time": "2022-06-19T10:26:35.901Z"
   },
   {
    "duration": 3,
    "start_time": "2022-06-19T10:26:36.366Z"
   },
   {
    "duration": 22756,
    "start_time": "2022-06-19T10:26:36.370Z"
   },
   {
    "duration": 198,
    "start_time": "2022-06-19T10:26:59.128Z"
   },
   {
    "duration": 258,
    "start_time": "2022-06-19T10:29:46.856Z"
   },
   {
    "duration": 2237,
    "start_time": "2022-06-19T12:27:25.771Z"
   },
   {
    "duration": 2145,
    "start_time": "2022-06-19T12:27:28.012Z"
   },
   {
    "duration": 450,
    "start_time": "2022-06-19T12:27:30.159Z"
   },
   {
    "duration": 777,
    "start_time": "2022-06-19T12:27:30.612Z"
   },
   {
    "duration": 721,
    "start_time": "2022-06-19T12:27:31.391Z"
   },
   {
    "duration": 68,
    "start_time": "2022-06-19T12:27:32.118Z"
   },
   {
    "duration": 260,
    "start_time": "2022-06-19T12:27:32.188Z"
   },
   {
    "duration": 20,
    "start_time": "2022-06-19T12:27:32.453Z"
   },
   {
    "duration": 442,
    "start_time": "2022-06-19T12:27:32.479Z"
   },
   {
    "duration": 71,
    "start_time": "2022-06-19T12:27:32.927Z"
   },
   {
    "duration": 231,
    "start_time": "2022-06-19T12:27:33.005Z"
   },
   {
    "duration": 15,
    "start_time": "2022-06-19T12:27:33.240Z"
   },
   {
    "duration": 52,
    "start_time": "2022-06-19T12:27:33.260Z"
   },
   {
    "duration": 73,
    "start_time": "2022-06-19T12:27:33.318Z"
   },
   {
    "duration": 47,
    "start_time": "2022-06-19T12:27:33.396Z"
   },
   {
    "duration": 34,
    "start_time": "2022-06-19T12:27:33.448Z"
   },
   {
    "duration": 19,
    "start_time": "2022-06-19T12:27:33.488Z"
   },
   {
    "duration": 123,
    "start_time": "2022-06-19T12:27:33.513Z"
   },
   {
    "duration": 143,
    "start_time": "2022-06-19T12:27:33.641Z"
   },
   {
    "duration": 133,
    "start_time": "2022-06-19T12:27:33.788Z"
   },
   {
    "duration": 190,
    "start_time": "2022-06-19T12:27:33.923Z"
   },
   {
    "duration": 54,
    "start_time": "2022-06-19T12:27:34.115Z"
   },
   {
    "duration": 7,
    "start_time": "2022-06-19T12:27:34.171Z"
   },
   {
    "duration": 8765,
    "start_time": "2022-06-19T12:27:34.181Z"
   },
   {
    "duration": 138,
    "start_time": "2022-06-19T12:27:42.949Z"
   },
   {
    "duration": 101,
    "start_time": "2022-06-19T12:27:43.090Z"
   },
   {
    "duration": 31,
    "start_time": "2022-06-19T12:27:43.197Z"
   },
   {
    "duration": 71,
    "start_time": "2022-06-19T12:27:43.237Z"
   },
   {
    "duration": 46,
    "start_time": "2022-06-19T12:27:43.314Z"
   },
   {
    "duration": 1367,
    "start_time": "2022-06-19T12:27:43.362Z"
   },
   {
    "duration": 126,
    "start_time": "2022-06-19T12:27:44.732Z"
   },
   {
    "duration": 3282,
    "start_time": "2022-06-19T12:27:44.860Z"
   },
   {
    "duration": 99,
    "start_time": "2022-06-19T12:27:48.149Z"
   },
   {
    "duration": 22,
    "start_time": "2022-06-19T12:27:48.255Z"
   },
   {
    "duration": 638,
    "start_time": "2022-06-19T12:27:48.280Z"
   },
   {
    "duration": 4,
    "start_time": "2022-06-19T12:27:48.925Z"
   },
   {
    "duration": 56217,
    "start_time": "2022-06-19T12:27:48.931Z"
   },
   {
    "duration": 381,
    "start_time": "2022-06-19T12:28:45.165Z"
   },
   {
    "duration": 54375,
    "start_time": "2022-06-19T13:31:09.451Z"
   },
   {
    "duration": 42207,
    "start_time": "2022-06-19T13:32:26.036Z"
   },
   {
    "duration": 92659,
    "start_time": "2022-06-19T13:36:05.677Z"
   },
   {
    "duration": 82743,
    "start_time": "2022-06-19T13:37:44.676Z"
   },
   {
    "duration": 5186564,
    "start_time": "2022-06-19T14:10:54.695Z"
   },
   {
    "duration": 26,
    "start_time": "2022-06-19T15:43:34.609Z"
   },
   {
    "duration": 32,
    "start_time": "2022-06-19T15:44:07.249Z"
   },
   {
    "duration": 81576,
    "start_time": "2022-06-19T15:44:24.413Z"
   },
   {
    "duration": 599783,
    "start_time": "2022-06-19T15:45:45.992Z"
   },
   {
    "duration": 578533,
    "start_time": "2022-06-19T15:55:56.547Z"
   },
   {
    "duration": 34,
    "start_time": "2022-06-19T16:31:13.914Z"
   },
   {
    "duration": 156,
    "start_time": "2022-06-19T16:32:05.433Z"
   },
   {
    "duration": 34,
    "start_time": "2022-06-19T16:33:45.060Z"
   },
   {
    "duration": 1416527,
    "start_time": "2022-06-19T16:33:56.325Z"
   },
   {
    "duration": 4,
    "start_time": "2022-06-19T16:58:46.863Z"
   },
   {
    "duration": 10,
    "start_time": "2022-06-19T17:01:05.095Z"
   },
   {
    "duration": 14,
    "start_time": "2022-06-19T17:01:18.221Z"
   },
   {
    "duration": 5,
    "start_time": "2022-06-19T17:02:02.394Z"
   },
   {
    "duration": 17,
    "start_time": "2022-06-19T17:02:10.738Z"
   },
   {
    "duration": 26,
    "start_time": "2022-06-19T17:03:31.837Z"
   },
   {
    "duration": 13,
    "start_time": "2022-06-19T17:05:48.491Z"
   },
   {
    "duration": 60,
    "start_time": "2022-06-19T17:26:12.601Z"
   },
   {
    "duration": 52,
    "start_time": "2022-06-19T17:26:26.841Z"
   },
   {
    "duration": 22641,
    "start_time": "2022-06-19T17:26:39.021Z"
   },
   {
    "duration": 44,
    "start_time": "2022-06-19T17:31:01.375Z"
   },
   {
    "duration": 60,
    "start_time": "2022-06-19T17:33:00.428Z"
   },
   {
    "duration": 19,
    "start_time": "2022-06-19T17:33:08.884Z"
   },
   {
    "duration": 22312,
    "start_time": "2022-06-19T17:35:40.842Z"
   },
   {
    "duration": 23457,
    "start_time": "2022-06-19T18:24:03.453Z"
   },
   {
    "duration": 25605,
    "start_time": "2022-06-19T18:24:45.643Z"
   },
   {
    "duration": 31,
    "start_time": "2022-06-19T18:27:25.381Z"
   },
   {
    "duration": 481516,
    "start_time": "2022-06-19T18:28:04.314Z"
   },
   {
    "duration": 9,
    "start_time": "2022-06-19T18:48:21.939Z"
   },
   {
    "duration": 3,
    "start_time": "2022-06-19T18:48:23.265Z"
   },
   {
    "duration": 4,
    "start_time": "2022-06-19T18:48:32.858Z"
   },
   {
    "duration": 3,
    "start_time": "2022-06-19T18:48:52.163Z"
   },
   {
    "duration": 7,
    "start_time": "2022-06-19T18:52:32.110Z"
   },
   {
    "duration": 6,
    "start_time": "2022-06-19T18:52:48.259Z"
   },
   {
    "duration": 7,
    "start_time": "2022-06-19T18:53:11.195Z"
   },
   {
    "duration": 12,
    "start_time": "2022-06-19T18:53:37.499Z"
   },
   {
    "duration": 5,
    "start_time": "2022-06-19T18:53:59.955Z"
   },
   {
    "duration": 10,
    "start_time": "2022-06-19T18:54:16.081Z"
   },
   {
    "duration": 4,
    "start_time": "2022-06-19T18:54:29.482Z"
   },
   {
    "duration": 1053,
    "start_time": "2022-06-19T18:55:36.077Z"
   },
   {
    "duration": 1041,
    "start_time": "2022-06-19T18:56:46.911Z"
   },
   {
    "duration": 379649,
    "start_time": "2022-06-19T18:57:24.102Z"
   },
   {
    "duration": 5,
    "start_time": "2022-06-19T19:04:26.952Z"
   },
   {
    "duration": 1018,
    "start_time": "2022-06-19T19:04:35.122Z"
   },
   {
    "duration": 993,
    "start_time": "2022-06-19T19:05:38.944Z"
   },
   {
    "duration": 36,
    "start_time": "2022-06-19T19:07:25.265Z"
   },
   {
    "duration": 1016,
    "start_time": "2022-06-19T19:07:46.339Z"
   },
   {
    "duration": 1058,
    "start_time": "2022-06-19T19:09:08.970Z"
   },
   {
    "duration": 11,
    "start_time": "2022-06-19T19:18:12.382Z"
   },
   {
    "duration": 152500,
    "start_time": "2022-06-19T19:20:11.134Z"
   },
   {
    "duration": 1231,
    "start_time": "2022-06-19T19:24:07.718Z"
   },
   {
    "duration": 458699,
    "start_time": "2022-06-19T19:40:44.636Z"
   },
   {
    "duration": 1377,
    "start_time": "2022-06-19T20:02:54.574Z"
   },
   {
    "duration": 1153,
    "start_time": "2022-06-19T20:02:55.953Z"
   },
   {
    "duration": 240,
    "start_time": "2022-06-19T20:02:57.108Z"
   },
   {
    "duration": 522,
    "start_time": "2022-06-19T20:02:57.351Z"
   },
   {
    "duration": 573,
    "start_time": "2022-06-19T20:02:57.874Z"
   },
   {
    "duration": 74,
    "start_time": "2022-06-19T20:02:58.449Z"
   },
   {
    "duration": 170,
    "start_time": "2022-06-19T20:02:58.525Z"
   },
   {
    "duration": 16,
    "start_time": "2022-06-19T20:02:58.697Z"
   },
   {
    "duration": 261,
    "start_time": "2022-06-19T20:02:58.723Z"
   },
   {
    "duration": 49,
    "start_time": "2022-06-19T20:02:58.987Z"
   },
   {
    "duration": 135,
    "start_time": "2022-06-19T20:02:59.038Z"
   },
   {
    "duration": 7,
    "start_time": "2022-06-19T20:02:59.175Z"
   },
   {
    "duration": 22,
    "start_time": "2022-06-19T20:02:59.183Z"
   },
   {
    "duration": 61,
    "start_time": "2022-06-19T20:02:59.224Z"
   },
   {
    "duration": 46,
    "start_time": "2022-06-19T20:02:59.287Z"
   },
   {
    "duration": 24,
    "start_time": "2022-06-19T20:02:59.335Z"
   },
   {
    "duration": 5,
    "start_time": "2022-06-19T20:02:59.361Z"
   },
   {
    "duration": 94,
    "start_time": "2022-06-19T20:02:59.368Z"
   },
   {
    "duration": 105,
    "start_time": "2022-06-19T20:02:59.465Z"
   },
   {
    "duration": 84,
    "start_time": "2022-06-19T20:02:59.572Z"
   },
   {
    "duration": 114,
    "start_time": "2022-06-19T20:02:59.658Z"
   },
   {
    "duration": 36,
    "start_time": "2022-06-19T20:02:59.773Z"
   },
   {
    "duration": 12,
    "start_time": "2022-06-19T20:02:59.811Z"
   },
   {
    "duration": 5362,
    "start_time": "2022-06-19T20:02:59.825Z"
   },
   {
    "duration": 89,
    "start_time": "2022-06-19T20:03:05.188Z"
   },
   {
    "duration": 94,
    "start_time": "2022-06-19T20:03:05.278Z"
   },
   {
    "duration": 15,
    "start_time": "2022-06-19T20:03:05.374Z"
   },
   {
    "duration": 38,
    "start_time": "2022-06-19T20:03:05.394Z"
   },
   {
    "duration": 23,
    "start_time": "2022-06-19T20:03:05.434Z"
   },
   {
    "duration": 1023,
    "start_time": "2022-06-19T20:03:05.459Z"
   },
   {
    "duration": 118,
    "start_time": "2022-06-19T20:03:06.484Z"
   },
   {
    "duration": 3121,
    "start_time": "2022-06-19T20:03:06.604Z"
   },
   {
    "duration": 62,
    "start_time": "2022-06-19T20:03:09.727Z"
   },
   {
    "duration": 519,
    "start_time": "2022-06-19T20:03:09.791Z"
   },
   {
    "duration": 39517,
    "start_time": "2022-06-19T20:03:10.312Z"
   },
   {
    "duration": 214,
    "start_time": "2022-06-19T20:03:49.833Z"
   },
   {
    "duration": 1318,
    "start_time": "2022-06-19T20:07:44.050Z"
   },
   {
    "duration": 868,
    "start_time": "2022-06-19T20:07:45.370Z"
   },
   {
    "duration": 244,
    "start_time": "2022-06-19T20:07:46.240Z"
   },
   {
    "duration": 599,
    "start_time": "2022-06-19T20:07:46.486Z"
   },
   {
    "duration": 614,
    "start_time": "2022-06-19T20:07:47.087Z"
   },
   {
    "duration": 56,
    "start_time": "2022-06-19T20:07:47.703Z"
   },
   {
    "duration": 165,
    "start_time": "2022-06-19T20:07:47.760Z"
   },
   {
    "duration": 17,
    "start_time": "2022-06-19T20:07:47.927Z"
   },
   {
    "duration": 247,
    "start_time": "2022-06-19T20:07:47.946Z"
   },
   {
    "duration": 44,
    "start_time": "2022-06-19T20:07:48.196Z"
   },
   {
    "duration": 138,
    "start_time": "2022-06-19T20:07:48.242Z"
   },
   {
    "duration": 7,
    "start_time": "2022-06-19T20:07:48.382Z"
   },
   {
    "duration": 38,
    "start_time": "2022-06-19T20:07:48.391Z"
   },
   {
    "duration": 50,
    "start_time": "2022-06-19T20:07:48.431Z"
   },
   {
    "duration": 48,
    "start_time": "2022-06-19T20:07:48.483Z"
   },
   {
    "duration": 24,
    "start_time": "2022-06-19T20:07:48.533Z"
   },
   {
    "duration": 6,
    "start_time": "2022-06-19T20:07:48.559Z"
   },
   {
    "duration": 111,
    "start_time": "2022-06-19T20:07:48.567Z"
   },
   {
    "duration": 107,
    "start_time": "2022-06-19T20:07:48.680Z"
   },
   {
    "duration": 89,
    "start_time": "2022-06-19T20:07:48.789Z"
   },
   {
    "duration": 127,
    "start_time": "2022-06-19T20:07:48.879Z"
   },
   {
    "duration": 42,
    "start_time": "2022-06-19T20:07:49.008Z"
   },
   {
    "duration": 4,
    "start_time": "2022-06-19T20:07:49.051Z"
   },
   {
    "duration": 5100,
    "start_time": "2022-06-19T20:07:49.057Z"
   },
   {
    "duration": 77,
    "start_time": "2022-06-19T20:07:54.159Z"
   },
   {
    "duration": 66,
    "start_time": "2022-06-19T20:07:54.238Z"
   },
   {
    "duration": 33,
    "start_time": "2022-06-19T20:07:54.305Z"
   },
   {
    "duration": 27,
    "start_time": "2022-06-19T20:07:54.341Z"
   },
   {
    "duration": 22,
    "start_time": "2022-06-19T20:07:54.370Z"
   },
   {
    "duration": 946,
    "start_time": "2022-06-19T20:07:54.394Z"
   },
   {
    "duration": 119,
    "start_time": "2022-06-19T20:07:55.341Z"
   },
   {
    "duration": 2721,
    "start_time": "2022-06-19T20:07:55.461Z"
   },
   {
    "duration": 70,
    "start_time": "2022-06-19T20:07:58.185Z"
   },
   {
    "duration": 472,
    "start_time": "2022-06-19T20:07:58.256Z"
   },
   {
    "duration": 33397,
    "start_time": "2022-06-19T20:07:58.730Z"
   },
   {
    "duration": 1597,
    "start_time": "2022-06-20T05:32:10.430Z"
   },
   {
    "duration": 1143,
    "start_time": "2022-06-20T05:32:12.029Z"
   },
   {
    "duration": 262,
    "start_time": "2022-06-20T05:32:13.174Z"
   },
   {
    "duration": 499,
    "start_time": "2022-06-20T05:32:13.438Z"
   },
   {
    "duration": 537,
    "start_time": "2022-06-20T05:32:13.939Z"
   },
   {
    "duration": 65,
    "start_time": "2022-06-20T05:32:14.478Z"
   },
   {
    "duration": 173,
    "start_time": "2022-06-20T05:32:14.545Z"
   },
   {
    "duration": 17,
    "start_time": "2022-06-20T05:32:14.720Z"
   },
   {
    "duration": 253,
    "start_time": "2022-06-20T05:32:14.739Z"
   },
   {
    "duration": 45,
    "start_time": "2022-06-20T05:32:14.994Z"
   },
   {
    "duration": 143,
    "start_time": "2022-06-20T05:32:15.041Z"
   },
   {
    "duration": 8,
    "start_time": "2022-06-20T05:32:15.185Z"
   },
   {
    "duration": 37,
    "start_time": "2022-06-20T05:32:15.195Z"
   },
   {
    "duration": 52,
    "start_time": "2022-06-20T05:32:15.234Z"
   },
   {
    "duration": 45,
    "start_time": "2022-06-20T05:32:15.288Z"
   },
   {
    "duration": 25,
    "start_time": "2022-06-20T05:32:15.335Z"
   },
   {
    "duration": 18,
    "start_time": "2022-06-20T05:32:15.362Z"
   },
   {
    "duration": 102,
    "start_time": "2022-06-20T05:32:15.382Z"
   },
   {
    "duration": 95,
    "start_time": "2022-06-20T05:32:15.486Z"
   },
   {
    "duration": 89,
    "start_time": "2022-06-20T05:32:15.582Z"
   },
   {
    "duration": 123,
    "start_time": "2022-06-20T05:32:15.673Z"
   },
   {
    "duration": 45,
    "start_time": "2022-06-20T05:32:15.798Z"
   },
   {
    "duration": 4,
    "start_time": "2022-06-20T05:32:15.844Z"
   },
   {
    "duration": 5054,
    "start_time": "2022-06-20T05:32:15.850Z"
   },
   {
    "duration": 85,
    "start_time": "2022-06-20T05:32:20.906Z"
   },
   {
    "duration": 85,
    "start_time": "2022-06-20T05:32:20.993Z"
   },
   {
    "duration": 17,
    "start_time": "2022-06-20T05:32:21.080Z"
   },
   {
    "duration": 46,
    "start_time": "2022-06-20T05:32:21.100Z"
   },
   {
    "duration": 24,
    "start_time": "2022-06-20T05:32:21.148Z"
   },
   {
    "duration": 978,
    "start_time": "2022-06-20T05:32:21.173Z"
   },
   {
    "duration": 118,
    "start_time": "2022-06-20T05:32:22.153Z"
   },
   {
    "duration": 2745,
    "start_time": "2022-06-20T05:32:22.272Z"
   },
   {
    "duration": 60,
    "start_time": "2022-06-20T05:32:25.022Z"
   },
   {
    "duration": 460,
    "start_time": "2022-06-20T05:32:25.084Z"
   },
   {
    "duration": 24084,
    "start_time": "2022-06-20T05:32:25.546Z"
   },
   {
    "duration": 4324349,
    "start_time": "2022-06-20T05:32:49.632Z"
   },
   {
    "duration": 447061,
    "start_time": "2022-06-20T06:44:53.983Z"
   },
   {
    "duration": 460427,
    "start_time": "2022-06-20T06:52:21.046Z"
   },
   {
    "duration": 1340964,
    "start_time": "2022-06-20T07:00:01.475Z"
   },
   {
    "duration": 8,
    "start_time": "2022-06-20T07:22:22.445Z"
   },
   {
    "duration": 20,
    "start_time": "2022-06-20T07:22:22.454Z"
   },
   {
    "duration": 18808,
    "start_time": "2022-06-20T07:22:22.476Z"
   },
   {
    "duration": 18918,
    "start_time": "2022-06-20T07:22:41.286Z"
   },
   {
    "duration": 39716,
    "start_time": "2022-06-20T07:23:00.207Z"
   },
   {
    "duration": 1016,
    "start_time": "2022-06-20T07:23:39.925Z"
   },
   {
    "duration": 35990,
    "start_time": "2022-06-20T07:23:40.942Z"
   },
   {
    "duration": 1995,
    "start_time": "2022-06-20T07:24:16.934Z"
   },
   {
    "duration": 42155,
    "start_time": "2022-06-20T07:58:20.208Z"
   },
   {
    "duration": 43690,
    "start_time": "2022-06-20T07:59:46.007Z"
   },
   {
    "duration": 20,
    "start_time": "2022-06-20T08:11:22.147Z"
   },
   {
    "duration": 26910,
    "start_time": "2022-06-20T08:52:59.320Z"
   },
   {
    "duration": 196,
    "start_time": "2022-06-20T08:53:35.127Z"
   },
   {
    "duration": 476526,
    "start_time": "2022-06-20T08:54:36.124Z"
   },
   {
    "duration": 1284,
    "start_time": "2022-06-20T10:01:55.991Z"
   },
   {
    "duration": 20557,
    "start_time": "2022-06-20T10:02:03.557Z"
   },
   {
    "duration": 132,
    "start_time": "2022-06-20T10:02:44.919Z"
   },
   {
    "duration": 258504,
    "start_time": "2022-06-20T10:02:50.036Z"
   },
   {
    "duration": 2021,
    "start_time": "2022-06-20T10:38:41.807Z"
   },
   {
    "duration": 315222,
    "start_time": "2022-06-20T10:40:01.413Z"
   },
   {
    "duration": 1985,
    "start_time": "2022-06-20T10:47:09.539Z"
   },
   {
    "duration": 11,
    "start_time": "2022-06-20T11:11:54.913Z"
   },
   {
    "duration": 59,
    "start_time": "2022-06-20T11:12:21.361Z"
   },
   {
    "duration": 10,
    "start_time": "2022-06-20T11:12:38.000Z"
   },
   {
    "duration": 1799,
    "start_time": "2022-06-21T06:34:41.308Z"
   },
   {
    "duration": 1530,
    "start_time": "2022-06-21T06:34:43.109Z"
   },
   {
    "duration": 283,
    "start_time": "2022-06-21T06:34:44.641Z"
   },
   {
    "duration": 502,
    "start_time": "2022-06-21T06:34:44.927Z"
   },
   {
    "duration": 36,
    "start_time": "2022-06-21T06:34:45.431Z"
   },
   {
    "duration": 274,
    "start_time": "2022-06-21T06:34:45.468Z"
   },
   {
    "duration": 262,
    "start_time": "2022-06-21T06:34:45.744Z"
   },
   {
    "duration": 12,
    "start_time": "2022-06-21T06:34:46.008Z"
   },
   {
    "duration": 296,
    "start_time": "2022-06-21T06:34:46.031Z"
   },
   {
    "duration": 37,
    "start_time": "2022-06-21T06:34:46.331Z"
   },
   {
    "duration": 179,
    "start_time": "2022-06-21T06:34:46.370Z"
   },
   {
    "duration": 10,
    "start_time": "2022-06-21T06:34:46.551Z"
   },
   {
    "duration": 22,
    "start_time": "2022-06-21T06:34:46.563Z"
   },
   {
    "duration": 78,
    "start_time": "2022-06-21T06:34:46.587Z"
   },
   {
    "duration": 28,
    "start_time": "2022-06-21T06:34:46.667Z"
   },
   {
    "duration": 37,
    "start_time": "2022-06-21T06:34:46.697Z"
   },
   {
    "duration": 18,
    "start_time": "2022-06-21T06:34:46.737Z"
   },
   {
    "duration": 73,
    "start_time": "2022-06-21T06:34:46.758Z"
   },
   {
    "duration": 80,
    "start_time": "2022-06-21T06:34:46.833Z"
   },
   {
    "duration": 89,
    "start_time": "2022-06-21T06:34:46.915Z"
   },
   {
    "duration": 120,
    "start_time": "2022-06-21T06:34:47.006Z"
   },
   {
    "duration": 42,
    "start_time": "2022-06-21T06:34:47.128Z"
   },
   {
    "duration": 3,
    "start_time": "2022-06-21T06:34:47.172Z"
   },
   {
    "duration": 2998,
    "start_time": "2022-06-21T06:34:47.177Z"
   },
   {
    "duration": 89,
    "start_time": "2022-06-21T06:34:50.180Z"
   },
   {
    "duration": 67,
    "start_time": "2022-06-21T06:34:50.271Z"
   },
   {
    "duration": 17,
    "start_time": "2022-06-21T06:34:50.340Z"
   },
   {
    "duration": 29,
    "start_time": "2022-06-21T06:34:50.361Z"
   },
   {
    "duration": 37,
    "start_time": "2022-06-21T06:34:50.391Z"
   },
   {
    "duration": 838,
    "start_time": "2022-06-21T06:34:50.430Z"
   },
   {
    "duration": 103,
    "start_time": "2022-06-21T06:34:51.271Z"
   },
   {
    "duration": 185,
    "start_time": "2022-06-21T06:34:51.376Z"
   },
   {
    "duration": 42,
    "start_time": "2022-06-21T06:34:51.563Z"
   },
   {
    "duration": 457,
    "start_time": "2022-06-21T06:34:51.607Z"
   },
   {
    "duration": 33272,
    "start_time": "2022-06-21T06:34:52.066Z"
   },
   {
    "duration": 243,
    "start_time": "2022-06-21T06:35:25.349Z"
   },
   {
    "duration": 0,
    "start_time": "2022-06-21T06:35:25.594Z"
   },
   {
    "duration": 1,
    "start_time": "2022-06-21T06:35:25.595Z"
   },
   {
    "duration": 0,
    "start_time": "2022-06-21T06:35:25.597Z"
   },
   {
    "duration": 0,
    "start_time": "2022-06-21T06:35:25.598Z"
   },
   {
    "duration": 0,
    "start_time": "2022-06-21T06:35:25.600Z"
   },
   {
    "duration": 0,
    "start_time": "2022-06-21T06:35:25.601Z"
   },
   {
    "duration": 0,
    "start_time": "2022-06-21T06:35:25.602Z"
   },
   {
    "duration": 0,
    "start_time": "2022-06-21T06:35:25.604Z"
   },
   {
    "duration": 0,
    "start_time": "2022-06-21T06:35:25.627Z"
   },
   {
    "duration": 0,
    "start_time": "2022-06-21T06:35:25.628Z"
   },
   {
    "duration": 0,
    "start_time": "2022-06-21T06:35:25.630Z"
   },
   {
    "duration": 0,
    "start_time": "2022-06-21T06:35:25.631Z"
   },
   {
    "duration": 0,
    "start_time": "2022-06-21T06:35:25.632Z"
   },
   {
    "duration": 0,
    "start_time": "2022-06-21T06:35:25.633Z"
   },
   {
    "duration": 0,
    "start_time": "2022-06-21T06:35:25.635Z"
   },
   {
    "duration": 0,
    "start_time": "2022-06-21T06:35:25.636Z"
   },
   {
    "duration": 0,
    "start_time": "2022-06-21T06:35:25.637Z"
   },
   {
    "duration": 0,
    "start_time": "2022-06-21T06:35:25.638Z"
   },
   {
    "duration": 0,
    "start_time": "2022-06-21T06:35:25.640Z"
   },
   {
    "duration": 0,
    "start_time": "2022-06-21T06:35:25.641Z"
   },
   {
    "duration": 0,
    "start_time": "2022-06-21T06:35:25.642Z"
   },
   {
    "duration": 0,
    "start_time": "2022-06-21T06:35:25.643Z"
   },
   {
    "duration": 0,
    "start_time": "2022-06-21T06:35:25.644Z"
   },
   {
    "duration": 1650,
    "start_time": "2022-06-21T06:37:06.111Z"
   },
   {
    "duration": 914,
    "start_time": "2022-06-21T06:37:07.763Z"
   },
   {
    "duration": 275,
    "start_time": "2022-06-21T06:37:08.679Z"
   },
   {
    "duration": 533,
    "start_time": "2022-06-21T06:37:08.956Z"
   },
   {
    "duration": 44,
    "start_time": "2022-06-21T06:37:09.491Z"
   },
   {
    "duration": 254,
    "start_time": "2022-06-21T06:37:09.538Z"
   },
   {
    "duration": 256,
    "start_time": "2022-06-21T06:37:09.794Z"
   },
   {
    "duration": 10,
    "start_time": "2022-06-21T06:37:10.052Z"
   },
   {
    "duration": 264,
    "start_time": "2022-06-21T06:37:10.064Z"
   },
   {
    "duration": 33,
    "start_time": "2022-06-21T06:37:10.332Z"
   },
   {
    "duration": 151,
    "start_time": "2022-06-21T06:37:10.367Z"
   },
   {
    "duration": 8,
    "start_time": "2022-06-21T06:37:10.520Z"
   },
   {
    "duration": 53,
    "start_time": "2022-06-21T06:37:10.530Z"
   },
   {
    "duration": 61,
    "start_time": "2022-06-21T06:37:10.585Z"
   },
   {
    "duration": 26,
    "start_time": "2022-06-21T06:37:10.648Z"
   },
   {
    "duration": 15,
    "start_time": "2022-06-21T06:37:10.676Z"
   },
   {
    "duration": 9,
    "start_time": "2022-06-21T06:37:10.693Z"
   },
   {
    "duration": 106,
    "start_time": "2022-06-21T06:37:10.704Z"
   },
   {
    "duration": 98,
    "start_time": "2022-06-21T06:37:10.812Z"
   },
   {
    "duration": 86,
    "start_time": "2022-06-21T06:37:10.912Z"
   },
   {
    "duration": 113,
    "start_time": "2022-06-21T06:37:10.999Z"
   },
   {
    "duration": 46,
    "start_time": "2022-06-21T06:37:11.114Z"
   },
   {
    "duration": 4,
    "start_time": "2022-06-21T06:37:11.161Z"
   },
   {
    "duration": 3221,
    "start_time": "2022-06-21T06:37:11.167Z"
   },
   {
    "duration": 89,
    "start_time": "2022-06-21T06:37:14.390Z"
   },
   {
    "duration": 79,
    "start_time": "2022-06-21T06:37:14.481Z"
   },
   {
    "duration": 21,
    "start_time": "2022-06-21T06:37:14.562Z"
   },
   {
    "duration": 47,
    "start_time": "2022-06-21T06:37:14.588Z"
   },
   {
    "duration": 21,
    "start_time": "2022-06-21T06:37:14.641Z"
   },
   {
    "duration": 855,
    "start_time": "2022-06-21T06:37:14.664Z"
   },
   {
    "duration": 114,
    "start_time": "2022-06-21T06:37:15.521Z"
   },
   {
    "duration": 179,
    "start_time": "2022-06-21T06:37:15.637Z"
   },
   {
    "duration": 54,
    "start_time": "2022-06-21T06:37:15.818Z"
   },
   {
    "duration": 482,
    "start_time": "2022-06-21T06:37:15.873Z"
   },
   {
    "duration": 30769,
    "start_time": "2022-06-21T06:37:16.357Z"
   },
   {
    "duration": 232,
    "start_time": "2022-06-21T06:37:47.129Z"
   },
   {
    "duration": 0,
    "start_time": "2022-06-21T06:37:47.363Z"
   },
   {
    "duration": 1,
    "start_time": "2022-06-21T06:37:47.364Z"
   },
   {
    "duration": 0,
    "start_time": "2022-06-21T06:37:47.366Z"
   },
   {
    "duration": 0,
    "start_time": "2022-06-21T06:37:47.368Z"
   },
   {
    "duration": 0,
    "start_time": "2022-06-21T06:37:47.369Z"
   },
   {
    "duration": 0,
    "start_time": "2022-06-21T06:37:47.371Z"
   },
   {
    "duration": 0,
    "start_time": "2022-06-21T06:37:47.373Z"
   },
   {
    "duration": 0,
    "start_time": "2022-06-21T06:37:47.374Z"
   },
   {
    "duration": 0,
    "start_time": "2022-06-21T06:37:47.375Z"
   },
   {
    "duration": 0,
    "start_time": "2022-06-21T06:37:47.377Z"
   },
   {
    "duration": 0,
    "start_time": "2022-06-21T06:37:47.378Z"
   },
   {
    "duration": 0,
    "start_time": "2022-06-21T06:37:47.380Z"
   },
   {
    "duration": 0,
    "start_time": "2022-06-21T06:37:47.381Z"
   },
   {
    "duration": 0,
    "start_time": "2022-06-21T06:37:47.382Z"
   },
   {
    "duration": 0,
    "start_time": "2022-06-21T06:37:47.384Z"
   },
   {
    "duration": 0,
    "start_time": "2022-06-21T06:37:47.385Z"
   },
   {
    "duration": 0,
    "start_time": "2022-06-21T06:37:47.386Z"
   },
   {
    "duration": 0,
    "start_time": "2022-06-21T06:37:47.387Z"
   },
   {
    "duration": 0,
    "start_time": "2022-06-21T06:37:47.388Z"
   },
   {
    "duration": 0,
    "start_time": "2022-06-21T06:37:47.390Z"
   },
   {
    "duration": 0,
    "start_time": "2022-06-21T06:37:47.428Z"
   },
   {
    "duration": 0,
    "start_time": "2022-06-21T06:37:47.429Z"
   },
   {
    "duration": 0,
    "start_time": "2022-06-21T06:37:47.431Z"
   },
   {
    "duration": 1510,
    "start_time": "2022-06-21T06:38:43.507Z"
   },
   {
    "duration": 1087,
    "start_time": "2022-06-21T06:39:11.268Z"
   },
   {
    "duration": 195,
    "start_time": "2022-06-21T06:40:02.389Z"
   },
   {
    "duration": 439,
    "start_time": "2022-06-21T06:40:09.671Z"
   },
   {
    "duration": 3724290,
    "start_time": "2022-06-21T06:40:22.051Z"
   },
   {
    "duration": 357011,
    "start_time": "2022-06-21T07:44:11.522Z"
   },
   {
    "duration": 979864,
    "start_time": "2022-06-21T07:50:25.512Z"
   },
   {
    "duration": 6,
    "start_time": "2022-06-21T08:07:36.562Z"
   },
   {
    "duration": 17,
    "start_time": "2022-06-21T08:07:39.977Z"
   },
   {
    "duration": 15072,
    "start_time": "2022-06-21T08:07:47.267Z"
   },
   {
    "duration": 16482,
    "start_time": "2022-06-21T08:08:14.145Z"
   },
   {
    "duration": 467757,
    "start_time": "2022-06-21T08:10:24.582Z"
   },
   {
    "duration": 19,
    "start_time": "2022-06-21T08:18:12.341Z"
   },
   {
    "duration": 37,
    "start_time": "2022-06-21T08:20:03.685Z"
   },
   {
    "duration": 937,
    "start_time": "2022-06-21T08:23:18.602Z"
   },
   {
    "duration": 1847249,
    "start_time": "2022-06-21T08:23:20.491Z"
   },
   {
    "duration": 2023,
    "start_time": "2022-06-21T08:54:07.742Z"
   },
   {
    "duration": 27418,
    "start_time": "2022-06-21T08:55:15.218Z"
   },
   {
    "duration": 216,
    "start_time": "2022-06-21T08:55:48.711Z"
   },
   {
    "duration": 107330,
    "start_time": "2022-06-21T08:55:55.208Z"
   },
   {
    "duration": 370055,
    "start_time": "2022-06-21T08:57:50.553Z"
   },
   {
    "duration": 988,
    "start_time": "2022-06-21T09:04:50.512Z"
   },
   {
    "duration": 1523,
    "start_time": "2022-06-21T09:05:04.952Z"
   },
   {
    "duration": 925,
    "start_time": "2022-06-21T09:05:06.478Z"
   },
   {
    "duration": 297,
    "start_time": "2022-06-21T09:05:07.405Z"
   },
   {
    "duration": 536,
    "start_time": "2022-06-21T09:05:07.703Z"
   },
   {
    "duration": 31,
    "start_time": "2022-06-21T09:05:08.242Z"
   },
   {
    "duration": 238,
    "start_time": "2022-06-21T09:05:08.275Z"
   },
   {
    "duration": 244,
    "start_time": "2022-06-21T09:05:08.514Z"
   },
   {
    "duration": 11,
    "start_time": "2022-06-21T09:05:08.760Z"
   },
   {
    "duration": 247,
    "start_time": "2022-06-21T09:05:08.773Z"
   },
   {
    "duration": 36,
    "start_time": "2022-06-21T09:05:09.022Z"
   },
   {
    "duration": 147,
    "start_time": "2022-06-21T09:05:09.060Z"
   },
   {
    "duration": 8,
    "start_time": "2022-06-21T09:05:09.209Z"
   },
   {
    "duration": 18,
    "start_time": "2022-06-21T09:05:09.238Z"
   },
   {
    "duration": 45,
    "start_time": "2022-06-21T09:05:09.260Z"
   },
   {
    "duration": 40,
    "start_time": "2022-06-21T09:05:09.307Z"
   },
   {
    "duration": 20,
    "start_time": "2022-06-21T09:05:09.348Z"
   },
   {
    "duration": 7,
    "start_time": "2022-06-21T09:05:09.370Z"
   },
   {
    "duration": 88,
    "start_time": "2022-06-21T09:05:09.379Z"
   },
   {
    "duration": 80,
    "start_time": "2022-06-21T09:05:09.469Z"
   },
   {
    "duration": 82,
    "start_time": "2022-06-21T09:05:09.551Z"
   },
   {
    "duration": 99,
    "start_time": "2022-06-21T09:05:09.639Z"
   },
   {
    "duration": 30,
    "start_time": "2022-06-21T09:05:09.740Z"
   },
   {
    "duration": 3,
    "start_time": "2022-06-21T09:05:09.772Z"
   },
   {
    "duration": 2735,
    "start_time": "2022-06-21T09:05:09.776Z"
   },
   {
    "duration": 83,
    "start_time": "2022-06-21T09:05:12.512Z"
   },
   {
    "duration": 80,
    "start_time": "2022-06-21T09:05:12.597Z"
   },
   {
    "duration": 13,
    "start_time": "2022-06-21T09:05:12.678Z"
   },
   {
    "duration": 24,
    "start_time": "2022-06-21T09:05:12.693Z"
   },
   {
    "duration": 23,
    "start_time": "2022-06-21T09:05:12.734Z"
   },
   {
    "duration": 711,
    "start_time": "2022-06-21T09:05:12.759Z"
   },
   {
    "duration": 97,
    "start_time": "2022-06-21T09:05:13.472Z"
   },
   {
    "duration": 172,
    "start_time": "2022-06-21T09:05:13.571Z"
   },
   {
    "duration": 41,
    "start_time": "2022-06-21T09:05:13.745Z"
   },
   {
    "duration": 422,
    "start_time": "2022-06-21T09:05:13.788Z"
   },
   {
    "duration": 43333,
    "start_time": "2022-06-21T09:05:14.211Z"
   },
   {
    "duration": 1205,
    "start_time": "2022-06-21T09:05:57.547Z"
   },
   {
    "duration": 168,
    "start_time": "2022-06-21T09:05:58.753Z"
   },
   {
    "duration": 65,
    "start_time": "2022-06-21T09:05:58.922Z"
   },
   {
    "duration": 194164,
    "start_time": "2022-06-21T09:05:58.989Z"
   },
   {
    "duration": 34457,
    "start_time": "2022-06-21T09:09:13.154Z"
   },
   {
    "duration": 1036608,
    "start_time": "2022-06-21T09:09:47.615Z"
   },
   {
    "duration": 9,
    "start_time": "2022-06-21T09:27:04.225Z"
   },
   {
    "duration": 25,
    "start_time": "2022-06-21T09:27:04.237Z"
   },
   {
    "duration": 15544,
    "start_time": "2022-06-21T09:27:04.263Z"
   },
   {
    "duration": 15389,
    "start_time": "2022-06-21T09:27:19.808Z"
   },
   {
    "duration": 366751,
    "start_time": "2022-06-21T09:27:35.199Z"
   },
   {
    "duration": 981,
    "start_time": "2022-06-21T09:33:41.951Z"
   },
   {
    "duration": 197315,
    "start_time": "2022-06-21T09:33:42.934Z"
   },
   {
    "duration": 1908,
    "start_time": "2022-06-21T09:37:00.250Z"
   },
   {
    "duration": 31898,
    "start_time": "2022-06-21T09:37:02.228Z"
   },
   {
    "duration": 201,
    "start_time": "2022-06-21T09:37:34.128Z"
   },
   {
    "duration": 33738,
    "start_time": "2022-06-21T09:37:34.331Z"
   },
   {
    "duration": 680,
    "start_time": "2022-06-21T09:38:08.071Z"
   },
   {
    "duration": 14617,
    "start_time": "2022-06-21T09:38:08.753Z"
   },
   {
    "duration": 91,
    "start_time": "2022-06-21T09:38:23.371Z"
   },
   {
    "duration": 239877,
    "start_time": "2022-06-21T09:38:23.464Z"
   },
   {
    "duration": 1911,
    "start_time": "2022-06-21T09:42:23.343Z"
   },
   {
    "duration": 11,
    "start_time": "2022-06-21T09:42:25.256Z"
   },
   {
    "duration": 58,
    "start_time": "2022-06-21T09:42:25.269Z"
   },
   {
    "duration": 11,
    "start_time": "2022-06-21T09:55:09.677Z"
   },
   {
    "duration": 9,
    "start_time": "2022-06-21T10:05:01.676Z"
   },
   {
    "duration": 9,
    "start_time": "2022-06-21T10:07:16.905Z"
   }
  ],
  "kernelspec": {
   "display_name": "Python 3 (ipykernel)",
   "language": "python",
   "name": "python3"
  },
  "language_info": {
   "codemirror_mode": {
    "name": "ipython",
    "version": 3
   },
   "file_extension": ".py",
   "mimetype": "text/x-python",
   "name": "python",
   "nbconvert_exporter": "python",
   "pygments_lexer": "ipython3",
   "version": "3.9.5"
  },
  "toc": {
   "base_numbering": 1,
   "nav_menu": {},
   "number_sections": true,
   "sideBar": true,
   "skip_h1_title": true,
   "title_cell": "Table of Contents",
   "title_sidebar": "Contents",
   "toc_cell": false,
   "toc_position": {
    "height": "calc(100% - 180px)",
    "left": "10px",
    "top": "150px",
    "width": "165px"
   },
   "toc_section_display": true,
   "toc_window_display": true
  }
 },
 "nbformat": 4,
 "nbformat_minor": 2
}
