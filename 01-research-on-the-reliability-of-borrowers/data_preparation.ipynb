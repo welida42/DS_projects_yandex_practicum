{
 "cells": [
  {
   "cell_type": "markdown",
   "metadata": {},
   "source": [
    "# Исследование надёжности заёмщиков\n",
    "\n",
    "Заказчик — кредитный отдел банка. Нужно разобраться, влияет ли семейное положение и количество детей клиента на факт погашения кредита в срок. Входные данные от банка — статистика о платёжеспособности клиентов.\n",
    "\n",
    "Результаты исследования будут учтены при построении модели **кредитного скоринга** — специальной системы, которая оценивает способность потенциального заёмщика вернуть кредит банку."
   ]
  },
  {
   "cell_type": "markdown",
   "metadata": {},
   "source": [
    "Необходимо ответить на вопросы:\n",
    "\n",
    "- Есть ли зависимость между наличием детей и возвратом кредита в срок?\n",
    "- Есть ли зависимость между семейным положением и возвратом кредита в срок?\n",
    "- Есть ли зависимость между уровнем дохода и возвратом кредита в срок?\n",
    "- Как разные цели кредита влияют на его возврат в срок?"
   ]
  },
  {
   "cell_type": "markdown",
   "metadata": {},
   "source": [
    "**Содержание:**\n",
    "- [изучение общей информации](#1)\n",
    "- [предобработка данных](#2)\n",
    "- [ответы на поставленные вопросы](#3)\n",
    "- [общий вывод и рекомендации](#4)"
   ]
  },
  {
   "cell_type": "markdown",
   "metadata": {},
   "source": [
    "<a id='1'></a>\n",
    "## Шаг 1. Откройте файл с данными и изучите общую информацию"
   ]
  },
  {
   "cell_type": "code",
   "execution_count": 255,
   "metadata": {},
   "outputs": [],
   "source": [
    "import pandas as pd\n",
    "import seaborn as sb\n",
    "import matplotlib.pyplot as plt\n",
    "from pymystem3 import Mystem\n",
    "m = Mystem()"
   ]
  },
  {
   "cell_type": "code",
   "execution_count": 256,
   "metadata": {},
   "outputs": [],
   "source": [
    "df = pd.read_csv(\"/datasets/data.csv\")"
   ]
  },
  {
   "cell_type": "code",
   "execution_count": 257,
   "metadata": {
    "scrolled": true
   },
   "outputs": [
    {
     "data": {
      "text/html": [
       "<div>\n",
       "<style scoped>\n",
       "    .dataframe tbody tr th:only-of-type {\n",
       "        vertical-align: middle;\n",
       "    }\n",
       "\n",
       "    .dataframe tbody tr th {\n",
       "        vertical-align: top;\n",
       "    }\n",
       "\n",
       "    .dataframe thead th {\n",
       "        text-align: right;\n",
       "    }\n",
       "</style>\n",
       "<table border=\"1\" class=\"dataframe\">\n",
       "  <thead>\n",
       "    <tr style=\"text-align: right;\">\n",
       "      <th></th>\n",
       "      <th>children</th>\n",
       "      <th>days_employed</th>\n",
       "      <th>dob_years</th>\n",
       "      <th>education</th>\n",
       "      <th>education_id</th>\n",
       "      <th>family_status</th>\n",
       "      <th>family_status_id</th>\n",
       "      <th>gender</th>\n",
       "      <th>income_type</th>\n",
       "      <th>debt</th>\n",
       "      <th>total_income</th>\n",
       "      <th>purpose</th>\n",
       "    </tr>\n",
       "  </thead>\n",
       "  <tbody>\n",
       "    <tr>\n",
       "      <td>0</td>\n",
       "      <td>1</td>\n",
       "      <td>-8437.673028</td>\n",
       "      <td>42</td>\n",
       "      <td>высшее</td>\n",
       "      <td>0</td>\n",
       "      <td>женат / замужем</td>\n",
       "      <td>0</td>\n",
       "      <td>F</td>\n",
       "      <td>сотрудник</td>\n",
       "      <td>0</td>\n",
       "      <td>253875.639453</td>\n",
       "      <td>покупка жилья</td>\n",
       "    </tr>\n",
       "    <tr>\n",
       "      <td>1</td>\n",
       "      <td>1</td>\n",
       "      <td>-4024.803754</td>\n",
       "      <td>36</td>\n",
       "      <td>среднее</td>\n",
       "      <td>1</td>\n",
       "      <td>женат / замужем</td>\n",
       "      <td>0</td>\n",
       "      <td>F</td>\n",
       "      <td>сотрудник</td>\n",
       "      <td>0</td>\n",
       "      <td>112080.014102</td>\n",
       "      <td>приобретение автомобиля</td>\n",
       "    </tr>\n",
       "    <tr>\n",
       "      <td>2</td>\n",
       "      <td>0</td>\n",
       "      <td>-5623.422610</td>\n",
       "      <td>33</td>\n",
       "      <td>Среднее</td>\n",
       "      <td>1</td>\n",
       "      <td>женат / замужем</td>\n",
       "      <td>0</td>\n",
       "      <td>M</td>\n",
       "      <td>сотрудник</td>\n",
       "      <td>0</td>\n",
       "      <td>145885.952297</td>\n",
       "      <td>покупка жилья</td>\n",
       "    </tr>\n",
       "    <tr>\n",
       "      <td>3</td>\n",
       "      <td>3</td>\n",
       "      <td>-4124.747207</td>\n",
       "      <td>32</td>\n",
       "      <td>среднее</td>\n",
       "      <td>1</td>\n",
       "      <td>женат / замужем</td>\n",
       "      <td>0</td>\n",
       "      <td>M</td>\n",
       "      <td>сотрудник</td>\n",
       "      <td>0</td>\n",
       "      <td>267628.550329</td>\n",
       "      <td>дополнительное образование</td>\n",
       "    </tr>\n",
       "    <tr>\n",
       "      <td>4</td>\n",
       "      <td>0</td>\n",
       "      <td>340266.072047</td>\n",
       "      <td>53</td>\n",
       "      <td>среднее</td>\n",
       "      <td>1</td>\n",
       "      <td>гражданский брак</td>\n",
       "      <td>1</td>\n",
       "      <td>F</td>\n",
       "      <td>пенсионер</td>\n",
       "      <td>0</td>\n",
       "      <td>158616.077870</td>\n",
       "      <td>сыграть свадьбу</td>\n",
       "    </tr>\n",
       "  </tbody>\n",
       "</table>\n",
       "</div>"
      ],
      "text/plain": [
       "   children  days_employed  dob_years education  education_id  \\\n",
       "0         1   -8437.673028         42    высшее             0   \n",
       "1         1   -4024.803754         36   среднее             1   \n",
       "2         0   -5623.422610         33   Среднее             1   \n",
       "3         3   -4124.747207         32   среднее             1   \n",
       "4         0  340266.072047         53   среднее             1   \n",
       "\n",
       "      family_status  family_status_id gender income_type  debt   total_income  \\\n",
       "0   женат / замужем                 0      F   сотрудник     0  253875.639453   \n",
       "1   женат / замужем                 0      F   сотрудник     0  112080.014102   \n",
       "2   женат / замужем                 0      M   сотрудник     0  145885.952297   \n",
       "3   женат / замужем                 0      M   сотрудник     0  267628.550329   \n",
       "4  гражданский брак                 1      F   пенсионер     0  158616.077870   \n",
       "\n",
       "                      purpose  \n",
       "0               покупка жилья  \n",
       "1     приобретение автомобиля  \n",
       "2               покупка жилья  \n",
       "3  дополнительное образование  \n",
       "4             сыграть свадьбу  "
      ]
     },
     "execution_count": 257,
     "metadata": {},
     "output_type": "execute_result"
    }
   ],
   "source": [
    "df.head()"
   ]
  },
  {
   "cell_type": "code",
   "execution_count": 258,
   "metadata": {},
   "outputs": [
    {
     "name": "stdout",
     "output_type": "stream",
     "text": [
      "<class 'pandas.core.frame.DataFrame'>\n",
      "RangeIndex: 21525 entries, 0 to 21524\n",
      "Data columns (total 12 columns):\n",
      "children            21525 non-null int64\n",
      "days_employed       19351 non-null float64\n",
      "dob_years           21525 non-null int64\n",
      "education           21525 non-null object\n",
      "education_id        21525 non-null int64\n",
      "family_status       21525 non-null object\n",
      "family_status_id    21525 non-null int64\n",
      "gender              21525 non-null object\n",
      "income_type         21525 non-null object\n",
      "debt                21525 non-null int64\n",
      "total_income        19351 non-null float64\n",
      "purpose             21525 non-null object\n",
      "dtypes: float64(2), int64(5), object(5)\n",
      "memory usage: 2.0+ MB\n"
     ]
    }
   ],
   "source": [
    "df.info()"
   ]
  },
  {
   "cell_type": "code",
   "execution_count": 259,
   "metadata": {},
   "outputs": [
    {
     "data": {
      "text/plain": [
       "54"
      ]
     },
     "execution_count": 259,
     "metadata": {},
     "output_type": "execute_result"
    }
   ],
   "source": [
    "df.duplicated().sum()"
   ]
  },
  {
   "cell_type": "markdown",
   "metadata": {},
   "source": [
    "На этапе предобработки данных нам предстоит:\n",
    "- разобраться с null-значениями в столбцах days_employed, total_income, причем их количество в обоих столбцах одинаково\n",
    "- в таблице уже есть 2 колонки со значениями id некоторых категорий, некоторым колонкам так же можно дать id, а другим предстоит категоризация данных, после чего можно будет уменьшить число колонок в таблице.\n",
    "- отрицательные значения трудового стажа\n",
    "- разные регистры букв в колонке education\n",
    "- обработать найденные и проверить наличие неявных дупликатов"
   ]
  },
  {
   "cell_type": "markdown",
   "metadata": {},
   "source": [
    "<a id='2'></a>\n",
    "## Шаг 2. Предобработка данных"
   ]
  },
  {
   "cell_type": "markdown",
   "metadata": {},
   "source": [
    "### Обработка пропусков"
   ]
  },
  {
   "cell_type": "markdown",
   "metadata": {},
   "source": [
    "Постараемся выяснить, с чем связаны пропуски в этих столбцах. Возможно определенный тип занятости их не заполняет, либо люди молодого возраста, которые даже не начинали работать."
   ]
  },
  {
   "cell_type": "code",
   "execution_count": 260,
   "metadata": {},
   "outputs": [
    {
     "data": {
      "text/html": [
       "<div>\n",
       "<style scoped>\n",
       "    .dataframe tbody tr th:only-of-type {\n",
       "        vertical-align: middle;\n",
       "    }\n",
       "\n",
       "    .dataframe tbody tr th {\n",
       "        vertical-align: top;\n",
       "    }\n",
       "\n",
       "    .dataframe thead th {\n",
       "        text-align: right;\n",
       "    }\n",
       "</style>\n",
       "<table border=\"1\" class=\"dataframe\">\n",
       "  <thead>\n",
       "    <tr style=\"text-align: right;\">\n",
       "      <th></th>\n",
       "      <th>children</th>\n",
       "      <th>days_employed</th>\n",
       "      <th>dob_years</th>\n",
       "      <th>education</th>\n",
       "      <th>education_id</th>\n",
       "      <th>family_status</th>\n",
       "      <th>family_status_id</th>\n",
       "      <th>gender</th>\n",
       "      <th>income_type</th>\n",
       "      <th>debt</th>\n",
       "      <th>total_income</th>\n",
       "      <th>purpose</th>\n",
       "    </tr>\n",
       "  </thead>\n",
       "  <tbody>\n",
       "    <tr>\n",
       "      <td>12</td>\n",
       "      <td>0</td>\n",
       "      <td>NaN</td>\n",
       "      <td>65</td>\n",
       "      <td>среднее</td>\n",
       "      <td>1</td>\n",
       "      <td>гражданский брак</td>\n",
       "      <td>1</td>\n",
       "      <td>M</td>\n",
       "      <td>пенсионер</td>\n",
       "      <td>0</td>\n",
       "      <td>NaN</td>\n",
       "      <td>сыграть свадьбу</td>\n",
       "    </tr>\n",
       "    <tr>\n",
       "      <td>26</td>\n",
       "      <td>0</td>\n",
       "      <td>NaN</td>\n",
       "      <td>41</td>\n",
       "      <td>среднее</td>\n",
       "      <td>1</td>\n",
       "      <td>женат / замужем</td>\n",
       "      <td>0</td>\n",
       "      <td>M</td>\n",
       "      <td>госслужащий</td>\n",
       "      <td>0</td>\n",
       "      <td>NaN</td>\n",
       "      <td>образование</td>\n",
       "    </tr>\n",
       "    <tr>\n",
       "      <td>29</td>\n",
       "      <td>0</td>\n",
       "      <td>NaN</td>\n",
       "      <td>63</td>\n",
       "      <td>среднее</td>\n",
       "      <td>1</td>\n",
       "      <td>Не женат / не замужем</td>\n",
       "      <td>4</td>\n",
       "      <td>F</td>\n",
       "      <td>пенсионер</td>\n",
       "      <td>0</td>\n",
       "      <td>NaN</td>\n",
       "      <td>строительство жилой недвижимости</td>\n",
       "    </tr>\n",
       "    <tr>\n",
       "      <td>41</td>\n",
       "      <td>0</td>\n",
       "      <td>NaN</td>\n",
       "      <td>50</td>\n",
       "      <td>среднее</td>\n",
       "      <td>1</td>\n",
       "      <td>женат / замужем</td>\n",
       "      <td>0</td>\n",
       "      <td>F</td>\n",
       "      <td>госслужащий</td>\n",
       "      <td>0</td>\n",
       "      <td>NaN</td>\n",
       "      <td>сделка с подержанным автомобилем</td>\n",
       "    </tr>\n",
       "    <tr>\n",
       "      <td>55</td>\n",
       "      <td>0</td>\n",
       "      <td>NaN</td>\n",
       "      <td>54</td>\n",
       "      <td>среднее</td>\n",
       "      <td>1</td>\n",
       "      <td>гражданский брак</td>\n",
       "      <td>1</td>\n",
       "      <td>F</td>\n",
       "      <td>пенсионер</td>\n",
       "      <td>1</td>\n",
       "      <td>NaN</td>\n",
       "      <td>сыграть свадьбу</td>\n",
       "    </tr>\n",
       "    <tr>\n",
       "      <td>...</td>\n",
       "      <td>...</td>\n",
       "      <td>...</td>\n",
       "      <td>...</td>\n",
       "      <td>...</td>\n",
       "      <td>...</td>\n",
       "      <td>...</td>\n",
       "      <td>...</td>\n",
       "      <td>...</td>\n",
       "      <td>...</td>\n",
       "      <td>...</td>\n",
       "      <td>...</td>\n",
       "      <td>...</td>\n",
       "    </tr>\n",
       "    <tr>\n",
       "      <td>21489</td>\n",
       "      <td>2</td>\n",
       "      <td>NaN</td>\n",
       "      <td>47</td>\n",
       "      <td>Среднее</td>\n",
       "      <td>1</td>\n",
       "      <td>женат / замужем</td>\n",
       "      <td>0</td>\n",
       "      <td>M</td>\n",
       "      <td>компаньон</td>\n",
       "      <td>0</td>\n",
       "      <td>NaN</td>\n",
       "      <td>сделка с автомобилем</td>\n",
       "    </tr>\n",
       "    <tr>\n",
       "      <td>21495</td>\n",
       "      <td>1</td>\n",
       "      <td>NaN</td>\n",
       "      <td>50</td>\n",
       "      <td>среднее</td>\n",
       "      <td>1</td>\n",
       "      <td>гражданский брак</td>\n",
       "      <td>1</td>\n",
       "      <td>F</td>\n",
       "      <td>сотрудник</td>\n",
       "      <td>0</td>\n",
       "      <td>NaN</td>\n",
       "      <td>свадьба</td>\n",
       "    </tr>\n",
       "    <tr>\n",
       "      <td>21497</td>\n",
       "      <td>0</td>\n",
       "      <td>NaN</td>\n",
       "      <td>48</td>\n",
       "      <td>ВЫСШЕЕ</td>\n",
       "      <td>0</td>\n",
       "      <td>женат / замужем</td>\n",
       "      <td>0</td>\n",
       "      <td>F</td>\n",
       "      <td>компаньон</td>\n",
       "      <td>0</td>\n",
       "      <td>NaN</td>\n",
       "      <td>строительство недвижимости</td>\n",
       "    </tr>\n",
       "    <tr>\n",
       "      <td>21502</td>\n",
       "      <td>1</td>\n",
       "      <td>NaN</td>\n",
       "      <td>42</td>\n",
       "      <td>среднее</td>\n",
       "      <td>1</td>\n",
       "      <td>женат / замужем</td>\n",
       "      <td>0</td>\n",
       "      <td>F</td>\n",
       "      <td>сотрудник</td>\n",
       "      <td>0</td>\n",
       "      <td>NaN</td>\n",
       "      <td>строительство жилой недвижимости</td>\n",
       "    </tr>\n",
       "    <tr>\n",
       "      <td>21510</td>\n",
       "      <td>2</td>\n",
       "      <td>NaN</td>\n",
       "      <td>28</td>\n",
       "      <td>среднее</td>\n",
       "      <td>1</td>\n",
       "      <td>женат / замужем</td>\n",
       "      <td>0</td>\n",
       "      <td>F</td>\n",
       "      <td>сотрудник</td>\n",
       "      <td>0</td>\n",
       "      <td>NaN</td>\n",
       "      <td>приобретение автомобиля</td>\n",
       "    </tr>\n",
       "  </tbody>\n",
       "</table>\n",
       "<p>2174 rows × 12 columns</p>\n",
       "</div>"
      ],
      "text/plain": [
       "       children  days_employed  dob_years education  education_id  \\\n",
       "12            0            NaN         65   среднее             1   \n",
       "26            0            NaN         41   среднее             1   \n",
       "29            0            NaN         63   среднее             1   \n",
       "41            0            NaN         50   среднее             1   \n",
       "55            0            NaN         54   среднее             1   \n",
       "...         ...            ...        ...       ...           ...   \n",
       "21489         2            NaN         47   Среднее             1   \n",
       "21495         1            NaN         50   среднее             1   \n",
       "21497         0            NaN         48    ВЫСШЕЕ             0   \n",
       "21502         1            NaN         42   среднее             1   \n",
       "21510         2            NaN         28   среднее             1   \n",
       "\n",
       "               family_status  family_status_id gender  income_type  debt  \\\n",
       "12          гражданский брак                 1      M    пенсионер     0   \n",
       "26           женат / замужем                 0      M  госслужащий     0   \n",
       "29     Не женат / не замужем                 4      F    пенсионер     0   \n",
       "41           женат / замужем                 0      F  госслужащий     0   \n",
       "55          гражданский брак                 1      F    пенсионер     1   \n",
       "...                      ...               ...    ...          ...   ...   \n",
       "21489        женат / замужем                 0      M    компаньон     0   \n",
       "21495       гражданский брак                 1      F    сотрудник     0   \n",
       "21497        женат / замужем                 0      F    компаньон     0   \n",
       "21502        женат / замужем                 0      F    сотрудник     0   \n",
       "21510        женат / замужем                 0      F    сотрудник     0   \n",
       "\n",
       "       total_income                           purpose  \n",
       "12              NaN                   сыграть свадьбу  \n",
       "26              NaN                       образование  \n",
       "29              NaN  строительство жилой недвижимости  \n",
       "41              NaN  сделка с подержанным автомобилем  \n",
       "55              NaN                   сыграть свадьбу  \n",
       "...             ...                               ...  \n",
       "21489           NaN              сделка с автомобилем  \n",
       "21495           NaN                           свадьба  \n",
       "21497           NaN        строительство недвижимости  \n",
       "21502           NaN  строительство жилой недвижимости  \n",
       "21510           NaN           приобретение автомобиля  \n",
       "\n",
       "[2174 rows x 12 columns]"
      ]
     },
     "execution_count": 260,
     "metadata": {},
     "output_type": "execute_result"
    }
   ],
   "source": [
    "# получаю таблицу, где \"days_employed\" = NaN, и подтверждаем, что в этих же строках пропущен \"total_income\"\n",
    "df_isnan = df[df[\"days_employed\"].isna()] \n",
    "df_isnan"
   ]
  },
  {
   "cell_type": "markdown",
   "metadata": {},
   "source": [
    "2174 строк с пропусками, что составляет около 10% строк во всей таблице. Изучим их подробнее."
   ]
  },
  {
   "cell_type": "code",
   "execution_count": 261,
   "metadata": {},
   "outputs": [
    {
     "data": {
      "text/plain": [
       "сотрудник          11119\n",
       "компаньон           5085\n",
       "пенсионер           3856\n",
       "госслужащий         1459\n",
       "предприниматель        2\n",
       "безработный            2\n",
       "студент                1\n",
       "в декрете              1\n",
       "Name: income_type, dtype: int64"
      ]
     },
     "execution_count": 261,
     "metadata": {},
     "output_type": "execute_result"
    }
   ],
   "source": [
    "# сравниваю распределение по типу занятости всего датафрейма с выборкой, в которой стаж и доход не указаны\n",
    "df['income_type'].value_counts()"
   ]
  },
  {
   "cell_type": "code",
   "execution_count": 262,
   "metadata": {},
   "outputs": [
    {
     "data": {
      "text/plain": [
       "сотрудник          1105\n",
       "компаньон           508\n",
       "пенсионер           413\n",
       "госслужащий         147\n",
       "предприниматель       1\n",
       "Name: income_type, dtype: int64"
      ]
     },
     "execution_count": 262,
     "metadata": {},
     "output_type": "execute_result"
    }
   ],
   "source": [
    "df_isnan['income_type'].value_counts()"
   ]
  },
  {
   "cell_type": "markdown",
   "metadata": {},
   "source": [
    "Нельзя сказать, что пропуски пресуще определнному типу занятости. И даже наоборот, возникает ощущение, что кто-то специально убрал по 10% значений стажа и дохода из выборок по типу занятости)"
   ]
  },
  {
   "cell_type": "code",
   "execution_count": 263,
   "metadata": {},
   "outputs": [
    {
     "data": {
      "text/plain": [
       "(array([ 10.,   0.,  24., 275., 407., 398., 398., 366., 235.,  61.]),\n",
       " array([ 0. ,  7.3, 14.6, 21.9, 29.2, 36.5, 43.8, 51.1, 58.4, 65.7, 73. ]),\n",
       " <a list of 10 Patch objects>)"
      ]
     },
     "execution_count": 263,
     "metadata": {},
     "output_type": "execute_result"
    },
    {
     "data": {
      "image/png": "[encoded data removed]",
      "text/plain": [
       "<Figure size 432x288 with 1 Axes>"
      ]
     },
     "metadata": {
      "needs_background": "light"
     },
     "output_type": "display_data"
    }
   ],
   "source": [
    "# сравниваю распределение по возрасту всего датафрейма с выборкой, в которой стаж и доход не указаны\n",
    "plt.hist(df_isnan['dob_years'])"
   ]
  },
  {
   "cell_type": "code",
   "execution_count": 264,
   "metadata": {},
   "outputs": [
    {
     "data": {
      "text/plain": [
       "(array([ 101.,    0.,  359., 2824., 4503., 4044., 3944., 3233., 2162.,\n",
       "         355.]),\n",
       " array([ 0. ,  7.5, 15. , 22.5, 30. , 37.5, 45. , 52.5, 60. , 67.5, 75. ]),\n",
       " <a list of 10 Patch objects>)"
      ]
     },
     "execution_count": 264,
     "metadata": {},
     "output_type": "execute_result"
    },
    {
     "data": {
      "image/png": "[encoded data removed]",
      "text/plain": [
       "<Figure size 432x288 with 1 Axes>"
      ]
     },
     "metadata": {
      "needs_background": "light"
     },
     "output_type": "display_data"
    }
   ],
   "source": [
    "plt.hist(df['dob_years'])"
   ]
  },
  {
   "cell_type": "markdown",
   "metadata": {},
   "source": [
    "Так-же нельзя сказать, что пропуски пресуще определенному возрасту. *Делаем вывод, что пропуски ровно распределены по всей генеральной совокупности и их удаление не приведет к значительным искажениям (предположу, что это люди неофициально оформлены по месту работы).*\n",
    "Так же можно заменить пропуски значением 0, но нужно проверить, нет ли уже таких значений в ген. совокупности, что-бы они не смешались.\n",
    "Еще мы видим, что есть группа людей, возраст которых около нуля. Проверим их в дальнейшем."
   ]
  },
  {
   "cell_type": "code",
   "execution_count": 265,
   "metadata": {},
   "outputs": [
    {
     "data": {
      "text/html": [
       "<div>\n",
       "<style scoped>\n",
       "    .dataframe tbody tr th:only-of-type {\n",
       "        vertical-align: middle;\n",
       "    }\n",
       "\n",
       "    .dataframe tbody tr th {\n",
       "        vertical-align: top;\n",
       "    }\n",
       "\n",
       "    .dataframe thead th {\n",
       "        text-align: right;\n",
       "    }\n",
       "</style>\n",
       "<table border=\"1\" class=\"dataframe\">\n",
       "  <thead>\n",
       "    <tr style=\"text-align: right;\">\n",
       "      <th></th>\n",
       "      <th>children</th>\n",
       "      <th>dob_years</th>\n",
       "      <th>education</th>\n",
       "      <th>education_id</th>\n",
       "      <th>family_status</th>\n",
       "      <th>family_status_id</th>\n",
       "      <th>gender</th>\n",
       "      <th>income_type</th>\n",
       "      <th>debt</th>\n",
       "      <th>total_income</th>\n",
       "      <th>purpose</th>\n",
       "      <th>employed_years</th>\n",
       "    </tr>\n",
       "  </thead>\n",
       "  <tbody>\n",
       "    <tr>\n",
       "      <td>0</td>\n",
       "      <td>1</td>\n",
       "      <td>42</td>\n",
       "      <td>высшее</td>\n",
       "      <td>0</td>\n",
       "      <td>женат / замужем</td>\n",
       "      <td>0</td>\n",
       "      <td>F</td>\n",
       "      <td>сотрудник</td>\n",
       "      <td>0</td>\n",
       "      <td>253875.639453</td>\n",
       "      <td>покупка жилья</td>\n",
       "      <td>-23.116912</td>\n",
       "    </tr>\n",
       "    <tr>\n",
       "      <td>1</td>\n",
       "      <td>1</td>\n",
       "      <td>36</td>\n",
       "      <td>среднее</td>\n",
       "      <td>1</td>\n",
       "      <td>женат / замужем</td>\n",
       "      <td>0</td>\n",
       "      <td>F</td>\n",
       "      <td>сотрудник</td>\n",
       "      <td>0</td>\n",
       "      <td>112080.014102</td>\n",
       "      <td>приобретение автомобиля</td>\n",
       "      <td>-11.026860</td>\n",
       "    </tr>\n",
       "    <tr>\n",
       "      <td>2</td>\n",
       "      <td>0</td>\n",
       "      <td>33</td>\n",
       "      <td>Среднее</td>\n",
       "      <td>1</td>\n",
       "      <td>женат / замужем</td>\n",
       "      <td>0</td>\n",
       "      <td>M</td>\n",
       "      <td>сотрудник</td>\n",
       "      <td>0</td>\n",
       "      <td>145885.952297</td>\n",
       "      <td>покупка жилья</td>\n",
       "      <td>-15.406637</td>\n",
       "    </tr>\n",
       "    <tr>\n",
       "      <td>3</td>\n",
       "      <td>3</td>\n",
       "      <td>32</td>\n",
       "      <td>среднее</td>\n",
       "      <td>1</td>\n",
       "      <td>женат / замужем</td>\n",
       "      <td>0</td>\n",
       "      <td>M</td>\n",
       "      <td>сотрудник</td>\n",
       "      <td>0</td>\n",
       "      <td>267628.550329</td>\n",
       "      <td>дополнительное образование</td>\n",
       "      <td>-11.300677</td>\n",
       "    </tr>\n",
       "    <tr>\n",
       "      <td>4</td>\n",
       "      <td>0</td>\n",
       "      <td>53</td>\n",
       "      <td>среднее</td>\n",
       "      <td>1</td>\n",
       "      <td>гражданский брак</td>\n",
       "      <td>1</td>\n",
       "      <td>F</td>\n",
       "      <td>пенсионер</td>\n",
       "      <td>0</td>\n",
       "      <td>158616.077870</td>\n",
       "      <td>сыграть свадьбу</td>\n",
       "      <td>932.235814</td>\n",
       "    </tr>\n",
       "    <tr>\n",
       "      <td>...</td>\n",
       "      <td>...</td>\n",
       "      <td>...</td>\n",
       "      <td>...</td>\n",
       "      <td>...</td>\n",
       "      <td>...</td>\n",
       "      <td>...</td>\n",
       "      <td>...</td>\n",
       "      <td>...</td>\n",
       "      <td>...</td>\n",
       "      <td>...</td>\n",
       "      <td>...</td>\n",
       "      <td>...</td>\n",
       "    </tr>\n",
       "    <tr>\n",
       "      <td>21520</td>\n",
       "      <td>1</td>\n",
       "      <td>43</td>\n",
       "      <td>среднее</td>\n",
       "      <td>1</td>\n",
       "      <td>гражданский брак</td>\n",
       "      <td>1</td>\n",
       "      <td>F</td>\n",
       "      <td>компаньон</td>\n",
       "      <td>0</td>\n",
       "      <td>224791.862382</td>\n",
       "      <td>операции с жильем</td>\n",
       "      <td>-12.409087</td>\n",
       "    </tr>\n",
       "    <tr>\n",
       "      <td>21521</td>\n",
       "      <td>0</td>\n",
       "      <td>67</td>\n",
       "      <td>среднее</td>\n",
       "      <td>1</td>\n",
       "      <td>женат / замужем</td>\n",
       "      <td>0</td>\n",
       "      <td>F</td>\n",
       "      <td>пенсионер</td>\n",
       "      <td>0</td>\n",
       "      <td>155999.806512</td>\n",
       "      <td>сделка с автомобилем</td>\n",
       "      <td>942.294258</td>\n",
       "    </tr>\n",
       "    <tr>\n",
       "      <td>21522</td>\n",
       "      <td>1</td>\n",
       "      <td>38</td>\n",
       "      <td>среднее</td>\n",
       "      <td>1</td>\n",
       "      <td>гражданский брак</td>\n",
       "      <td>1</td>\n",
       "      <td>M</td>\n",
       "      <td>сотрудник</td>\n",
       "      <td>1</td>\n",
       "      <td>89672.561153</td>\n",
       "      <td>недвижимость</td>\n",
       "      <td>-5.789991</td>\n",
       "    </tr>\n",
       "    <tr>\n",
       "      <td>21523</td>\n",
       "      <td>3</td>\n",
       "      <td>38</td>\n",
       "      <td>среднее</td>\n",
       "      <td>1</td>\n",
       "      <td>женат / замужем</td>\n",
       "      <td>0</td>\n",
       "      <td>M</td>\n",
       "      <td>сотрудник</td>\n",
       "      <td>1</td>\n",
       "      <td>244093.050500</td>\n",
       "      <td>на покупку своего автомобиля</td>\n",
       "      <td>-8.527347</td>\n",
       "    </tr>\n",
       "    <tr>\n",
       "      <td>21524</td>\n",
       "      <td>2</td>\n",
       "      <td>40</td>\n",
       "      <td>среднее</td>\n",
       "      <td>1</td>\n",
       "      <td>женат / замужем</td>\n",
       "      <td>0</td>\n",
       "      <td>F</td>\n",
       "      <td>сотрудник</td>\n",
       "      <td>0</td>\n",
       "      <td>82047.418899</td>\n",
       "      <td>на покупку автомобиля</td>\n",
       "      <td>-5.437007</td>\n",
       "    </tr>\n",
       "  </tbody>\n",
       "</table>\n",
       "<p>21525 rows × 12 columns</p>\n",
       "</div>"
      ],
      "text/plain": [
       "       children  dob_years education  education_id     family_status  \\\n",
       "0             1         42    высшее             0   женат / замужем   \n",
       "1             1         36   среднее             1   женат / замужем   \n",
       "2             0         33   Среднее             1   женат / замужем   \n",
       "3             3         32   среднее             1   женат / замужем   \n",
       "4             0         53   среднее             1  гражданский брак   \n",
       "...         ...        ...       ...           ...               ...   \n",
       "21520         1         43   среднее             1  гражданский брак   \n",
       "21521         0         67   среднее             1   женат / замужем   \n",
       "21522         1         38   среднее             1  гражданский брак   \n",
       "21523         3         38   среднее             1   женат / замужем   \n",
       "21524         2         40   среднее             1   женат / замужем   \n",
       "\n",
       "       family_status_id gender income_type  debt   total_income  \\\n",
       "0                     0      F   сотрудник     0  253875.639453   \n",
       "1                     0      F   сотрудник     0  112080.014102   \n",
       "2                     0      M   сотрудник     0  145885.952297   \n",
       "3                     0      M   сотрудник     0  267628.550329   \n",
       "4                     1      F   пенсионер     0  158616.077870   \n",
       "...                 ...    ...         ...   ...            ...   \n",
       "21520                 1      F   компаньон     0  224791.862382   \n",
       "21521                 0      F   пенсионер     0  155999.806512   \n",
       "21522                 1      M   сотрудник     1   89672.561153   \n",
       "21523                 0      M   сотрудник     1  244093.050500   \n",
       "21524                 0      F   сотрудник     0   82047.418899   \n",
       "\n",
       "                            purpose  employed_years  \n",
       "0                     покупка жилья      -23.116912  \n",
       "1           приобретение автомобиля      -11.026860  \n",
       "2                     покупка жилья      -15.406637  \n",
       "3        дополнительное образование      -11.300677  \n",
       "4                   сыграть свадьбу      932.235814  \n",
       "...                             ...             ...  \n",
       "21520             операции с жильем      -12.409087  \n",
       "21521          сделка с автомобилем      942.294258  \n",
       "21522                  недвижимость       -5.789991  \n",
       "21523  на покупку своего автомобиля       -8.527347  \n",
       "21524         на покупку автомобиля       -5.437007  \n",
       "\n",
       "[21525 rows x 12 columns]"
      ]
     },
     "execution_count": 265,
     "metadata": {},
     "output_type": "execute_result"
    }
   ],
   "source": [
    "# заменяю колонку days_employed на employed_years\n",
    "df[\"employed_years\"] = df[\"days_employed\"] / 365\n",
    "df = df.drop(['days_employed'], axis=1)\n",
    "df"
   ]
  },
  {
   "cell_type": "code",
   "execution_count": 266,
   "metadata": {},
   "outputs": [
    {
     "data": {
      "text/plain": [
       "(array([15906.,     0.,     0.,     0.,     0.,     0.,     0.,     0.,\n",
       "         1483.,  1962.]),\n",
       " array([ -50.38068466,   64.72735654,  179.83539774,  294.94343894,\n",
       "         410.05148014,  525.15952134,  640.26756253,  755.37560373,\n",
       "         870.48364493,  985.59168613, 1100.69972733]),\n",
       " <a list of 10 Patch objects>)"
      ]
     },
     "execution_count": 266,
     "metadata": {},
     "output_type": "execute_result"
    },
    {
     "data": {
      "image/png": "[encoded data removed]",
      "text/plain": [
       "<Figure size 432x288 with 1 Axes>"
      ]
     },
     "metadata": {
      "needs_background": "light"
     },
     "output_type": "display_data"
    }
   ],
   "source": [
    "# распределение по стажу в годах\n",
    "plt.hist(df['employed_years'])\n",
    "# мы уже видели наличие отрицательных значений в стаже, теперь еще увидели аномалии со стажем около 1000 лет"
   ]
  },
  {
   "cell_type": "code",
   "execution_count": 267,
   "metadata": {},
   "outputs": [
    {
     "data": {
      "text/plain": [
       "0"
      ]
     },
     "execution_count": 267,
     "metadata": {},
     "output_type": "execute_result"
    }
   ],
   "source": [
    "# проверяем наличие значений 0 в employed_years\n",
    "df[df['employed_years'] == 0]['employed_years'].count()"
   ]
  },
  {
   "cell_type": "code",
   "execution_count": 268,
   "metadata": {},
   "outputs": [
    {
     "data": {
      "text/plain": [
       "0"
      ]
     },
     "execution_count": 268,
     "metadata": {},
     "output_type": "execute_result"
    }
   ],
   "source": [
    "df[df['total_income'] == 0]['total_income'].count()"
   ]
  },
  {
   "cell_type": "code",
   "execution_count": 269,
   "metadata": {},
   "outputs": [
    {
     "data": {
      "text/plain": [
       "children            0\n",
       "dob_years           0\n",
       "education           0\n",
       "education_id        0\n",
       "family_status       0\n",
       "family_status_id    0\n",
       "gender              0\n",
       "income_type         0\n",
       "debt                0\n",
       "total_income        0\n",
       "purpose             0\n",
       "employed_years      0\n",
       "dtype: int64"
      ]
     },
     "execution_count": 269,
     "metadata": {},
     "output_type": "execute_result"
    }
   ],
   "source": [
    "# заменяем NaN на 0\n",
    "df['employed_years'] = df['employed_years'].fillna(0)\n",
    "df['total_income'] = df['total_income'].fillna(0)\n",
    "df.isnull().sum()"
   ]
  },
  {
   "cell_type": "code",
   "execution_count": 270,
   "metadata": {},
   "outputs": [
    {
     "data": {
      "text/plain": [
       "0"
      ]
     },
     "execution_count": 270,
     "metadata": {},
     "output_type": "execute_result"
    }
   ],
   "source": [
    "# есть ли вообще адекватные записи стажа?\n",
    "(df[(df['employed_years'] < 100) & (df['employed_years'] > 0)]['employed_years'].count())\n",
    "# нет)"
   ]
  },
  {
   "cell_type": "code",
   "execution_count": 271,
   "metadata": {},
   "outputs": [
    {
     "data": {
      "text/plain": [
       "21525"
      ]
     },
     "execution_count": 271,
     "metadata": {},
     "output_type": "execute_result"
    }
   ],
   "source": [
    "# просто проверяю себя на общее кол-во записей\n",
    "(df[ df['employed_years'] <= 0]['employed_years'].count()) + (df[ df['employed_years'] > 100]['employed_years'].count())"
   ]
  },
  {
   "cell_type": "code",
   "execution_count": 272,
   "metadata": {},
   "outputs": [
    {
     "data": {
      "text/plain": [
       "(array([3.000e+00, 1.200e+01, 4.400e+01, 1.110e+02, 1.950e+02, 3.790e+02,\n",
       "        6.520e+02, 1.686e+03, 4.085e+03, 8.739e+03]),\n",
       " array([-50.38068466, -45.34923034, -40.31777602, -35.2863217 ,\n",
       "        -30.25486738, -25.22341306, -20.19195874, -15.16050442,\n",
       "        -10.1290501 ,  -5.09759578,  -0.06614146]),\n",
       " <a list of 10 Patch objects>)"
      ]
     },
     "execution_count": 272,
     "metadata": {},
     "output_type": "execute_result"
    },
    {
     "data": {
      "image/png": "[encoded data removed]",
      "text/plain": [
       "<Figure size 432x288 with 1 Axes>"
      ]
     },
     "metadata": {
      "needs_background": "light"
     },
     "output_type": "display_data"
    }
   ],
   "source": [
    "# проверим отрицательные значения по стажу\n",
    "employed_negative = df[df[\"employed_years\"] < 0]\n",
    "plt.hist(employed_negative['employed_years'])"
   ]
  },
  {
   "cell_type": "code",
   "execution_count": 273,
   "metadata": {},
   "outputs": [
    {
     "data": {
      "text/plain": [
       "0"
      ]
     },
     "execution_count": 273,
     "metadata": {},
     "output_type": "execute_result"
    }
   ],
   "source": [
    "# распределение значений логичны, так что просто поменяем им знак и сделаем положительными\n",
    "df[\"employed_years\"] = df[\"employed_years\"].abs()\n",
    "# проверяем, сработал ли abs()\n",
    "df[ df['employed_years'] < 0]['employed_years'].count()"
   ]
  },
  {
   "cell_type": "code",
   "execution_count": 274,
   "metadata": {},
   "outputs": [
    {
     "data": {
      "text/html": [
       "<div>\n",
       "<style scoped>\n",
       "    .dataframe tbody tr th:only-of-type {\n",
       "        vertical-align: middle;\n",
       "    }\n",
       "\n",
       "    .dataframe tbody tr th {\n",
       "        vertical-align: top;\n",
       "    }\n",
       "\n",
       "    .dataframe thead th {\n",
       "        text-align: right;\n",
       "    }\n",
       "</style>\n",
       "<table border=\"1\" class=\"dataframe\">\n",
       "  <thead>\n",
       "    <tr style=\"text-align: right;\">\n",
       "      <th></th>\n",
       "      <th>children</th>\n",
       "      <th>dob_years</th>\n",
       "      <th>education</th>\n",
       "      <th>education_id</th>\n",
       "      <th>family_status</th>\n",
       "      <th>family_status_id</th>\n",
       "      <th>gender</th>\n",
       "      <th>income_type</th>\n",
       "      <th>debt</th>\n",
       "      <th>total_income</th>\n",
       "      <th>purpose</th>\n",
       "      <th>employed_years</th>\n",
       "    </tr>\n",
       "  </thead>\n",
       "  <tbody>\n",
       "    <tr>\n",
       "      <td>4</td>\n",
       "      <td>0</td>\n",
       "      <td>53</td>\n",
       "      <td>среднее</td>\n",
       "      <td>1</td>\n",
       "      <td>гражданский брак</td>\n",
       "      <td>1</td>\n",
       "      <td>F</td>\n",
       "      <td>пенсионер</td>\n",
       "      <td>0</td>\n",
       "      <td>158616.077870</td>\n",
       "      <td>сыграть свадьбу</td>\n",
       "      <td>932.235814</td>\n",
       "    </tr>\n",
       "    <tr>\n",
       "      <td>18</td>\n",
       "      <td>0</td>\n",
       "      <td>53</td>\n",
       "      <td>среднее</td>\n",
       "      <td>1</td>\n",
       "      <td>вдовец / вдова</td>\n",
       "      <td>2</td>\n",
       "      <td>F</td>\n",
       "      <td>пенсионер</td>\n",
       "      <td>0</td>\n",
       "      <td>56823.777243</td>\n",
       "      <td>на покупку подержанного автомобиля</td>\n",
       "      <td>1096.660649</td>\n",
       "    </tr>\n",
       "    <tr>\n",
       "      <td>24</td>\n",
       "      <td>1</td>\n",
       "      <td>57</td>\n",
       "      <td>среднее</td>\n",
       "      <td>1</td>\n",
       "      <td>Не женат / не замужем</td>\n",
       "      <td>4</td>\n",
       "      <td>F</td>\n",
       "      <td>пенсионер</td>\n",
       "      <td>0</td>\n",
       "      <td>290547.235997</td>\n",
       "      <td>операции с коммерческой недвижимостью</td>\n",
       "      <td>927.539597</td>\n",
       "    </tr>\n",
       "    <tr>\n",
       "      <td>25</td>\n",
       "      <td>0</td>\n",
       "      <td>67</td>\n",
       "      <td>среднее</td>\n",
       "      <td>1</td>\n",
       "      <td>женат / замужем</td>\n",
       "      <td>0</td>\n",
       "      <td>M</td>\n",
       "      <td>пенсионер</td>\n",
       "      <td>0</td>\n",
       "      <td>55112.757732</td>\n",
       "      <td>покупка недвижимости</td>\n",
       "      <td>996.023258</td>\n",
       "    </tr>\n",
       "    <tr>\n",
       "      <td>30</td>\n",
       "      <td>1</td>\n",
       "      <td>62</td>\n",
       "      <td>среднее</td>\n",
       "      <td>1</td>\n",
       "      <td>женат / замужем</td>\n",
       "      <td>0</td>\n",
       "      <td>F</td>\n",
       "      <td>пенсионер</td>\n",
       "      <td>0</td>\n",
       "      <td>171456.067993</td>\n",
       "      <td>операции с коммерческой недвижимостью</td>\n",
       "      <td>919.401832</td>\n",
       "    </tr>\n",
       "    <tr>\n",
       "      <td>...</td>\n",
       "      <td>...</td>\n",
       "      <td>...</td>\n",
       "      <td>...</td>\n",
       "      <td>...</td>\n",
       "      <td>...</td>\n",
       "      <td>...</td>\n",
       "      <td>...</td>\n",
       "      <td>...</td>\n",
       "      <td>...</td>\n",
       "      <td>...</td>\n",
       "      <td>...</td>\n",
       "      <td>...</td>\n",
       "    </tr>\n",
       "    <tr>\n",
       "      <td>21505</td>\n",
       "      <td>0</td>\n",
       "      <td>53</td>\n",
       "      <td>среднее</td>\n",
       "      <td>1</td>\n",
       "      <td>гражданский брак</td>\n",
       "      <td>1</td>\n",
       "      <td>M</td>\n",
       "      <td>пенсионер</td>\n",
       "      <td>0</td>\n",
       "      <td>75439.993167</td>\n",
       "      <td>сыграть свадьбу</td>\n",
       "      <td>928.506483</td>\n",
       "    </tr>\n",
       "    <tr>\n",
       "      <td>21508</td>\n",
       "      <td>0</td>\n",
       "      <td>62</td>\n",
       "      <td>среднее</td>\n",
       "      <td>1</td>\n",
       "      <td>женат / замужем</td>\n",
       "      <td>0</td>\n",
       "      <td>M</td>\n",
       "      <td>пенсионер</td>\n",
       "      <td>0</td>\n",
       "      <td>72638.590915</td>\n",
       "      <td>недвижимость</td>\n",
       "      <td>1058.897847</td>\n",
       "    </tr>\n",
       "    <tr>\n",
       "      <td>21509</td>\n",
       "      <td>0</td>\n",
       "      <td>59</td>\n",
       "      <td>высшее</td>\n",
       "      <td>0</td>\n",
       "      <td>женат / замужем</td>\n",
       "      <td>0</td>\n",
       "      <td>M</td>\n",
       "      <td>пенсионер</td>\n",
       "      <td>0</td>\n",
       "      <td>73029.059379</td>\n",
       "      <td>операции с недвижимостью</td>\n",
       "      <td>992.222066</td>\n",
       "    </tr>\n",
       "    <tr>\n",
       "      <td>21518</td>\n",
       "      <td>0</td>\n",
       "      <td>59</td>\n",
       "      <td>СРЕДНЕЕ</td>\n",
       "      <td>1</td>\n",
       "      <td>женат / замужем</td>\n",
       "      <td>0</td>\n",
       "      <td>F</td>\n",
       "      <td>пенсионер</td>\n",
       "      <td>0</td>\n",
       "      <td>153864.650328</td>\n",
       "      <td>сделка с автомобилем</td>\n",
       "      <td>1024.645783</td>\n",
       "    </tr>\n",
       "    <tr>\n",
       "      <td>21521</td>\n",
       "      <td>0</td>\n",
       "      <td>67</td>\n",
       "      <td>среднее</td>\n",
       "      <td>1</td>\n",
       "      <td>женат / замужем</td>\n",
       "      <td>0</td>\n",
       "      <td>F</td>\n",
       "      <td>пенсионер</td>\n",
       "      <td>0</td>\n",
       "      <td>155999.806512</td>\n",
       "      <td>сделка с автомобилем</td>\n",
       "      <td>942.294258</td>\n",
       "    </tr>\n",
       "  </tbody>\n",
       "</table>\n",
       "<p>3445 rows × 12 columns</p>\n",
       "</div>"
      ],
      "text/plain": [
       "       children  dob_years education  education_id          family_status  \\\n",
       "4             0         53   среднее             1       гражданский брак   \n",
       "18            0         53   среднее             1         вдовец / вдова   \n",
       "24            1         57   среднее             1  Не женат / не замужем   \n",
       "25            0         67   среднее             1        женат / замужем   \n",
       "30            1         62   среднее             1        женат / замужем   \n",
       "...         ...        ...       ...           ...                    ...   \n",
       "21505         0         53   среднее             1       гражданский брак   \n",
       "21508         0         62   среднее             1        женат / замужем   \n",
       "21509         0         59    высшее             0        женат / замужем   \n",
       "21518         0         59   СРЕДНЕЕ             1        женат / замужем   \n",
       "21521         0         67   среднее             1        женат / замужем   \n",
       "\n",
       "       family_status_id gender income_type  debt   total_income  \\\n",
       "4                     1      F   пенсионер     0  158616.077870   \n",
       "18                    2      F   пенсионер     0   56823.777243   \n",
       "24                    4      F   пенсионер     0  290547.235997   \n",
       "25                    0      M   пенсионер     0   55112.757732   \n",
       "30                    0      F   пенсионер     0  171456.067993   \n",
       "...                 ...    ...         ...   ...            ...   \n",
       "21505                 1      M   пенсионер     0   75439.993167   \n",
       "21508                 0      M   пенсионер     0   72638.590915   \n",
       "21509                 0      M   пенсионер     0   73029.059379   \n",
       "21518                 0      F   пенсионер     0  153864.650328   \n",
       "21521                 0      F   пенсионер     0  155999.806512   \n",
       "\n",
       "                                     purpose  employed_years  \n",
       "4                            сыграть свадьбу      932.235814  \n",
       "18        на покупку подержанного автомобиля     1096.660649  \n",
       "24     операции с коммерческой недвижимостью      927.539597  \n",
       "25                      покупка недвижимости      996.023258  \n",
       "30     операции с коммерческой недвижимостью      919.401832  \n",
       "...                                      ...             ...  \n",
       "21505                        сыграть свадьбу      928.506483  \n",
       "21508                           недвижимость     1058.897847  \n",
       "21509               операции с недвижимостью      992.222066  \n",
       "21518                   сделка с автомобилем     1024.645783  \n",
       "21521                   сделка с автомобилем      942.294258  \n",
       "\n",
       "[3445 rows x 12 columns]"
      ]
     },
     "execution_count": 274,
     "metadata": {},
     "output_type": "execute_result"
    }
   ],
   "source": [
    "# проверим у кого стаж окодо 1000 лет\n",
    "df_employ_1000 = df[ df['employed_years'] > 100]\n",
    "df_employ_1000\n",
    "# видим что это пенсионеры"
   ]
  },
  {
   "cell_type": "code",
   "execution_count": 275,
   "metadata": {
    "scrolled": true
   },
   "outputs": [
    {
     "data": {
      "text/plain": [
       "пенсионер      3443\n",
       "безработный       2\n",
       "Name: income_type, dtype: int64"
      ]
     },
     "execution_count": 275,
     "metadata": {},
     "output_type": "execute_result"
    }
   ],
   "source": [
    "# проверим, все ли они пенсионеры\n",
    "df_employ_1000['income_type'].value_counts()"
   ]
  },
  {
   "cell_type": "code",
   "execution_count": 276,
   "metadata": {
    "scrolled": true
   },
   "outputs": [
    {
     "data": {
      "text/plain": [
       "сотрудник          11119\n",
       "компаньон           5085\n",
       "пенсионер           3856\n",
       "госслужащий         1459\n",
       "предприниматель        2\n",
       "безработный            2\n",
       "студент                1\n",
       "в декрете              1\n",
       "Name: income_type, dtype: int64"
      ]
     },
     "execution_count": 276,
     "metadata": {},
     "output_type": "execute_result"
    }
   ],
   "source": [
    "df['income_type'].value_counts()"
   ]
  },
  {
   "cell_type": "code",
   "execution_count": 277,
   "metadata": {
    "scrolled": true
   },
   "outputs": [
    {
     "data": {
      "text/html": [
       "<div>\n",
       "<style scoped>\n",
       "    .dataframe tbody tr th:only-of-type {\n",
       "        vertical-align: middle;\n",
       "    }\n",
       "\n",
       "    .dataframe tbody tr th {\n",
       "        vertical-align: top;\n",
       "    }\n",
       "\n",
       "    .dataframe thead th {\n",
       "        text-align: right;\n",
       "    }\n",
       "</style>\n",
       "<table border=\"1\" class=\"dataframe\">\n",
       "  <thead>\n",
       "    <tr style=\"text-align: right;\">\n",
       "      <th></th>\n",
       "      <th>children</th>\n",
       "      <th>dob_years</th>\n",
       "      <th>education</th>\n",
       "      <th>education_id</th>\n",
       "      <th>family_status</th>\n",
       "      <th>family_status_id</th>\n",
       "      <th>gender</th>\n",
       "      <th>income_type</th>\n",
       "      <th>debt</th>\n",
       "      <th>total_income</th>\n",
       "      <th>purpose</th>\n",
       "      <th>employed_years</th>\n",
       "    </tr>\n",
       "  </thead>\n",
       "  <tbody>\n",
       "    <tr>\n",
       "      <td>12</td>\n",
       "      <td>0</td>\n",
       "      <td>65</td>\n",
       "      <td>среднее</td>\n",
       "      <td>1</td>\n",
       "      <td>гражданский брак</td>\n",
       "      <td>1</td>\n",
       "      <td>M</td>\n",
       "      <td>пенсионер</td>\n",
       "      <td>0</td>\n",
       "      <td>0.0</td>\n",
       "      <td>сыграть свадьбу</td>\n",
       "      <td>0.0</td>\n",
       "    </tr>\n",
       "    <tr>\n",
       "      <td>29</td>\n",
       "      <td>0</td>\n",
       "      <td>63</td>\n",
       "      <td>среднее</td>\n",
       "      <td>1</td>\n",
       "      <td>Не женат / не замужем</td>\n",
       "      <td>4</td>\n",
       "      <td>F</td>\n",
       "      <td>пенсионер</td>\n",
       "      <td>0</td>\n",
       "      <td>0.0</td>\n",
       "      <td>строительство жилой недвижимости</td>\n",
       "      <td>0.0</td>\n",
       "    </tr>\n",
       "    <tr>\n",
       "      <td>55</td>\n",
       "      <td>0</td>\n",
       "      <td>54</td>\n",
       "      <td>среднее</td>\n",
       "      <td>1</td>\n",
       "      <td>гражданский брак</td>\n",
       "      <td>1</td>\n",
       "      <td>F</td>\n",
       "      <td>пенсионер</td>\n",
       "      <td>1</td>\n",
       "      <td>0.0</td>\n",
       "      <td>сыграть свадьбу</td>\n",
       "      <td>0.0</td>\n",
       "    </tr>\n",
       "    <tr>\n",
       "      <td>67</td>\n",
       "      <td>0</td>\n",
       "      <td>52</td>\n",
       "      <td>высшее</td>\n",
       "      <td>0</td>\n",
       "      <td>женат / замужем</td>\n",
       "      <td>0</td>\n",
       "      <td>F</td>\n",
       "      <td>пенсионер</td>\n",
       "      <td>0</td>\n",
       "      <td>0.0</td>\n",
       "      <td>покупка жилья для семьи</td>\n",
       "      <td>0.0</td>\n",
       "    </tr>\n",
       "    <tr>\n",
       "      <td>145</td>\n",
       "      <td>0</td>\n",
       "      <td>62</td>\n",
       "      <td>среднее</td>\n",
       "      <td>1</td>\n",
       "      <td>женат / замужем</td>\n",
       "      <td>0</td>\n",
       "      <td>M</td>\n",
       "      <td>пенсионер</td>\n",
       "      <td>0</td>\n",
       "      <td>0.0</td>\n",
       "      <td>строительство недвижимости</td>\n",
       "      <td>0.0</td>\n",
       "    </tr>\n",
       "    <tr>\n",
       "      <td>...</td>\n",
       "      <td>...</td>\n",
       "      <td>...</td>\n",
       "      <td>...</td>\n",
       "      <td>...</td>\n",
       "      <td>...</td>\n",
       "      <td>...</td>\n",
       "      <td>...</td>\n",
       "      <td>...</td>\n",
       "      <td>...</td>\n",
       "      <td>...</td>\n",
       "      <td>...</td>\n",
       "      <td>...</td>\n",
       "    </tr>\n",
       "    <tr>\n",
       "      <td>21311</td>\n",
       "      <td>0</td>\n",
       "      <td>49</td>\n",
       "      <td>среднее</td>\n",
       "      <td>1</td>\n",
       "      <td>женат / замужем</td>\n",
       "      <td>0</td>\n",
       "      <td>F</td>\n",
       "      <td>пенсионер</td>\n",
       "      <td>0</td>\n",
       "      <td>0.0</td>\n",
       "      <td>покупка жилья для сдачи</td>\n",
       "      <td>0.0</td>\n",
       "    </tr>\n",
       "    <tr>\n",
       "      <td>21321</td>\n",
       "      <td>0</td>\n",
       "      <td>56</td>\n",
       "      <td>Среднее</td>\n",
       "      <td>1</td>\n",
       "      <td>женат / замужем</td>\n",
       "      <td>0</td>\n",
       "      <td>F</td>\n",
       "      <td>пенсионер</td>\n",
       "      <td>0</td>\n",
       "      <td>0.0</td>\n",
       "      <td>операции с недвижимостью</td>\n",
       "      <td>0.0</td>\n",
       "    </tr>\n",
       "    <tr>\n",
       "      <td>21414</td>\n",
       "      <td>0</td>\n",
       "      <td>65</td>\n",
       "      <td>среднее</td>\n",
       "      <td>1</td>\n",
       "      <td>женат / замужем</td>\n",
       "      <td>0</td>\n",
       "      <td>F</td>\n",
       "      <td>пенсионер</td>\n",
       "      <td>0</td>\n",
       "      <td>0.0</td>\n",
       "      <td>покупка своего жилья</td>\n",
       "      <td>0.0</td>\n",
       "    </tr>\n",
       "    <tr>\n",
       "      <td>21415</td>\n",
       "      <td>0</td>\n",
       "      <td>54</td>\n",
       "      <td>среднее</td>\n",
       "      <td>1</td>\n",
       "      <td>женат / замужем</td>\n",
       "      <td>0</td>\n",
       "      <td>F</td>\n",
       "      <td>пенсионер</td>\n",
       "      <td>0</td>\n",
       "      <td>0.0</td>\n",
       "      <td>операции с жильем</td>\n",
       "      <td>0.0</td>\n",
       "    </tr>\n",
       "    <tr>\n",
       "      <td>21423</td>\n",
       "      <td>0</td>\n",
       "      <td>63</td>\n",
       "      <td>среднее</td>\n",
       "      <td>1</td>\n",
       "      <td>женат / замужем</td>\n",
       "      <td>0</td>\n",
       "      <td>M</td>\n",
       "      <td>пенсионер</td>\n",
       "      <td>0</td>\n",
       "      <td>0.0</td>\n",
       "      <td>сделка с автомобилем</td>\n",
       "      <td>0.0</td>\n",
       "    </tr>\n",
       "  </tbody>\n",
       "</table>\n",
       "<p>413 rows × 12 columns</p>\n",
       "</div>"
      ],
      "text/plain": [
       "       children  dob_years education  education_id          family_status  \\\n",
       "12            0         65   среднее             1       гражданский брак   \n",
       "29            0         63   среднее             1  Не женат / не замужем   \n",
       "55            0         54   среднее             1       гражданский брак   \n",
       "67            0         52    высшее             0        женат / замужем   \n",
       "145           0         62   среднее             1        женат / замужем   \n",
       "...         ...        ...       ...           ...                    ...   \n",
       "21311         0         49   среднее             1        женат / замужем   \n",
       "21321         0         56   Среднее             1        женат / замужем   \n",
       "21414         0         65   среднее             1        женат / замужем   \n",
       "21415         0         54   среднее             1        женат / замужем   \n",
       "21423         0         63   среднее             1        женат / замужем   \n",
       "\n",
       "       family_status_id gender income_type  debt  total_income  \\\n",
       "12                    1      M   пенсионер     0           0.0   \n",
       "29                    4      F   пенсионер     0           0.0   \n",
       "55                    1      F   пенсионер     1           0.0   \n",
       "67                    0      F   пенсионер     0           0.0   \n",
       "145                   0      M   пенсионер     0           0.0   \n",
       "...                 ...    ...         ...   ...           ...   \n",
       "21311                 0      F   пенсионер     0           0.0   \n",
       "21321                 0      F   пенсионер     0           0.0   \n",
       "21414                 0      F   пенсионер     0           0.0   \n",
       "21415                 0      F   пенсионер     0           0.0   \n",
       "21423                 0      M   пенсионер     0           0.0   \n",
       "\n",
       "                                purpose  employed_years  \n",
       "12                      сыграть свадьбу             0.0  \n",
       "29     строительство жилой недвижимости             0.0  \n",
       "55                      сыграть свадьбу             0.0  \n",
       "67              покупка жилья для семьи             0.0  \n",
       "145          строительство недвижимости             0.0  \n",
       "...                                 ...             ...  \n",
       "21311           покупка жилья для сдачи             0.0  \n",
       "21321          операции с недвижимостью             0.0  \n",
       "21414              покупка своего жилья             0.0  \n",
       "21415                 операции с жильем             0.0  \n",
       "21423              сделка с автомобилем             0.0  \n",
       "\n",
       "[413 rows x 12 columns]"
      ]
     },
     "execution_count": 277,
     "metadata": {},
     "output_type": "execute_result"
    }
   ],
   "source": [
    "# есть ли пенсионеры с адекватным стажем?\n",
    "df[( df['employed_years'] < 100) & (df['income_type'] == \"пенсионер\")]"
   ]
  },
  {
   "cell_type": "code",
   "execution_count": 278,
   "metadata": {},
   "outputs": [
    {
     "data": {
      "text/plain": [
       "3856"
      ]
     },
     "execution_count": 278,
     "metadata": {},
     "output_type": "execute_result"
    }
   ],
   "source": [
    "# складываем пенсионеров со стажем 0 (их 413) и стажем около 1000 (их 3443) = 3856 (столько пенсионеров всего)\n",
    "df[( df['employed_years'] == 0) & (df['income_type'] == \"пенсионер\")]['income_type'].count() + 3443"
   ]
  },
  {
   "cell_type": "markdown",
   "metadata": {},
   "source": [
    "Ни одной адекватной записи стажа у пенсионеров в данных нет, большая их часть составляла Nan, которые мы заменили нулями, а остальная\n",
    "неадекватно большая (около 1000 лет). Нужно обратить внимание на некорректный сбор данных по категории пенсионеры и безработные.\n",
    "\n",
    "(вообще я думаю, что в рамках данного проекта и получения ответа на поставленные вопросы большинство столбцов и вовсе не нужны: возраст, образование, пол, тип занятости, стаж - вряд ли сильно помогут нам, но данные у них наиболее проблемные)"
   ]
  },
  {
   "cell_type": "code",
   "execution_count": 279,
   "metadata": {},
   "outputs": [
    {
     "data": {
      "text/plain": [
       "50.38068465909146"
      ]
     },
     "execution_count": 279,
     "metadata": {},
     "output_type": "execute_result"
    }
   ],
   "source": [
    "# max стаж жействующих сотрудников\n",
    "df.loc[(df['income_type'] != \"пенсионер\") &  (df['income_type'] != \"безработный\")]['employed_years'].max()"
   ]
  },
  {
   "cell_type": "code",
   "execution_count": 280,
   "metadata": {},
   "outputs": [
    {
     "data": {
      "text/html": [
       "<div>\n",
       "<style scoped>\n",
       "    .dataframe tbody tr th:only-of-type {\n",
       "        vertical-align: middle;\n",
       "    }\n",
       "\n",
       "    .dataframe tbody tr th {\n",
       "        vertical-align: top;\n",
       "    }\n",
       "\n",
       "    .dataframe thead th {\n",
       "        text-align: right;\n",
       "    }\n",
       "</style>\n",
       "<table border=\"1\" class=\"dataframe\">\n",
       "  <thead>\n",
       "    <tr style=\"text-align: right;\">\n",
       "      <th></th>\n",
       "      <th>children</th>\n",
       "      <th>dob_years</th>\n",
       "      <th>education</th>\n",
       "      <th>education_id</th>\n",
       "      <th>family_status</th>\n",
       "      <th>family_status_id</th>\n",
       "      <th>gender</th>\n",
       "      <th>income_type</th>\n",
       "      <th>debt</th>\n",
       "      <th>total_income</th>\n",
       "      <th>purpose</th>\n",
       "      <th>employed_years</th>\n",
       "    </tr>\n",
       "  </thead>\n",
       "  <tbody>\n",
       "    <tr>\n",
       "      <td>3133</td>\n",
       "      <td>1</td>\n",
       "      <td>31</td>\n",
       "      <td>среднее</td>\n",
       "      <td>1</td>\n",
       "      <td>женат / замужем</td>\n",
       "      <td>0</td>\n",
       "      <td>M</td>\n",
       "      <td>безработный</td>\n",
       "      <td>1</td>\n",
       "      <td>59956.991984</td>\n",
       "      <td>покупка жилья для сдачи</td>\n",
       "      <td>924.724567</td>\n",
       "    </tr>\n",
       "    <tr>\n",
       "      <td>14798</td>\n",
       "      <td>0</td>\n",
       "      <td>45</td>\n",
       "      <td>Высшее</td>\n",
       "      <td>0</td>\n",
       "      <td>гражданский брак</td>\n",
       "      <td>1</td>\n",
       "      <td>F</td>\n",
       "      <td>безработный</td>\n",
       "      <td>0</td>\n",
       "      <td>202722.511368</td>\n",
       "      <td>ремонт жилью</td>\n",
       "      <td>1083.021476</td>\n",
       "    </tr>\n",
       "  </tbody>\n",
       "</table>\n",
       "</div>"
      ],
      "text/plain": [
       "       children  dob_years education  education_id     family_status  \\\n",
       "3133          1         31   среднее             1   женат / замужем   \n",
       "14798         0         45    Высшее             0  гражданский брак   \n",
       "\n",
       "       family_status_id gender  income_type  debt   total_income  \\\n",
       "3133                  0      M  безработный     1   59956.991984   \n",
       "14798                 1      F  безработный     0  202722.511368   \n",
       "\n",
       "                       purpose  employed_years  \n",
       "3133   покупка жилья для сдачи      924.724567  \n",
       "14798             ремонт жилью     1083.021476  "
      ]
     },
     "execution_count": 280,
     "metadata": {},
     "output_type": "execute_result"
    }
   ],
   "source": [
    "df[df['income_type'] == \"безработный\"]"
   ]
  },
  {
   "cell_type": "code",
   "execution_count": 281,
   "metadata": {
    "scrolled": true
   },
   "outputs": [
    {
     "data": {
      "text/html": [
       "<div>\n",
       "<style scoped>\n",
       "    .dataframe tbody tr th:only-of-type {\n",
       "        vertical-align: middle;\n",
       "    }\n",
       "\n",
       "    .dataframe tbody tr th {\n",
       "        vertical-align: top;\n",
       "    }\n",
       "\n",
       "    .dataframe thead th {\n",
       "        text-align: right;\n",
       "    }\n",
       "</style>\n",
       "<table border=\"1\" class=\"dataframe\">\n",
       "  <thead>\n",
       "    <tr style=\"text-align: right;\">\n",
       "      <th></th>\n",
       "      <th>children</th>\n",
       "      <th>dob_years</th>\n",
       "      <th>education</th>\n",
       "      <th>education_id</th>\n",
       "      <th>family_status</th>\n",
       "      <th>family_status_id</th>\n",
       "      <th>gender</th>\n",
       "      <th>income_type</th>\n",
       "      <th>debt</th>\n",
       "      <th>total_income</th>\n",
       "      <th>purpose</th>\n",
       "      <th>employed_years</th>\n",
       "    </tr>\n",
       "  </thead>\n",
       "  <tbody>\n",
       "    <tr>\n",
       "      <td>4</td>\n",
       "      <td>0</td>\n",
       "      <td>53</td>\n",
       "      <td>среднее</td>\n",
       "      <td>1</td>\n",
       "      <td>гражданский брак</td>\n",
       "      <td>1</td>\n",
       "      <td>F</td>\n",
       "      <td>пенсионер</td>\n",
       "      <td>0</td>\n",
       "      <td>158616.077870</td>\n",
       "      <td>сыграть свадьбу</td>\n",
       "      <td>50.0</td>\n",
       "    </tr>\n",
       "    <tr>\n",
       "      <td>12</td>\n",
       "      <td>0</td>\n",
       "      <td>65</td>\n",
       "      <td>среднее</td>\n",
       "      <td>1</td>\n",
       "      <td>гражданский брак</td>\n",
       "      <td>1</td>\n",
       "      <td>M</td>\n",
       "      <td>пенсионер</td>\n",
       "      <td>0</td>\n",
       "      <td>0.000000</td>\n",
       "      <td>сыграть свадьбу</td>\n",
       "      <td>50.0</td>\n",
       "    </tr>\n",
       "    <tr>\n",
       "      <td>18</td>\n",
       "      <td>0</td>\n",
       "      <td>53</td>\n",
       "      <td>среднее</td>\n",
       "      <td>1</td>\n",
       "      <td>вдовец / вдова</td>\n",
       "      <td>2</td>\n",
       "      <td>F</td>\n",
       "      <td>пенсионер</td>\n",
       "      <td>0</td>\n",
       "      <td>56823.777243</td>\n",
       "      <td>на покупку подержанного автомобиля</td>\n",
       "      <td>50.0</td>\n",
       "    </tr>\n",
       "    <tr>\n",
       "      <td>24</td>\n",
       "      <td>1</td>\n",
       "      <td>57</td>\n",
       "      <td>среднее</td>\n",
       "      <td>1</td>\n",
       "      <td>Не женат / не замужем</td>\n",
       "      <td>4</td>\n",
       "      <td>F</td>\n",
       "      <td>пенсионер</td>\n",
       "      <td>0</td>\n",
       "      <td>290547.235997</td>\n",
       "      <td>операции с коммерческой недвижимостью</td>\n",
       "      <td>50.0</td>\n",
       "    </tr>\n",
       "    <tr>\n",
       "      <td>25</td>\n",
       "      <td>0</td>\n",
       "      <td>67</td>\n",
       "      <td>среднее</td>\n",
       "      <td>1</td>\n",
       "      <td>женат / замужем</td>\n",
       "      <td>0</td>\n",
       "      <td>M</td>\n",
       "      <td>пенсионер</td>\n",
       "      <td>0</td>\n",
       "      <td>55112.757732</td>\n",
       "      <td>покупка недвижимости</td>\n",
       "      <td>50.0</td>\n",
       "    </tr>\n",
       "  </tbody>\n",
       "</table>\n",
       "</div>"
      ],
      "text/plain": [
       "    children  dob_years education  education_id          family_status  \\\n",
       "4          0         53   среднее             1       гражданский брак   \n",
       "12         0         65   среднее             1       гражданский брак   \n",
       "18         0         53   среднее             1         вдовец / вдова   \n",
       "24         1         57   среднее             1  Не женат / не замужем   \n",
       "25         0         67   среднее             1        женат / замужем   \n",
       "\n",
       "    family_status_id gender income_type  debt   total_income  \\\n",
       "4                  1      F   пенсионер     0  158616.077870   \n",
       "12                 1      M   пенсионер     0       0.000000   \n",
       "18                 2      F   пенсионер     0   56823.777243   \n",
       "24                 4      F   пенсионер     0  290547.235997   \n",
       "25                 0      M   пенсионер     0   55112.757732   \n",
       "\n",
       "                                  purpose  employed_years  \n",
       "4                         сыграть свадьбу            50.0  \n",
       "12                        сыграть свадьбу            50.0  \n",
       "18     на покупку подержанного автомобиля            50.0  \n",
       "24  операции с коммерческой недвижимостью            50.0  \n",
       "25                   покупка недвижимости            50.0  "
      ]
     },
     "execution_count": 281,
     "metadata": {},
     "output_type": "execute_result"
    }
   ],
   "source": [
    "# заменим стаж пенсионеров на 50 лет, а безработных на 0\n",
    "df.loc[df['income_type'] == \"пенсионер\", 'employed_years'] = 50\n",
    "df.loc[df['income_type'] == \"безработный\", 'employed_years'] = 0\n",
    "df.loc[df['income_type'] == \"пенсионер\"].head()"
   ]
  },
  {
   "cell_type": "code",
   "execution_count": 282,
   "metadata": {},
   "outputs": [
    {
     "data": {
      "text/html": [
       "<div>\n",
       "<style scoped>\n",
       "    .dataframe tbody tr th:only-of-type {\n",
       "        vertical-align: middle;\n",
       "    }\n",
       "\n",
       "    .dataframe tbody tr th {\n",
       "        vertical-align: top;\n",
       "    }\n",
       "\n",
       "    .dataframe thead th {\n",
       "        text-align: right;\n",
       "    }\n",
       "</style>\n",
       "<table border=\"1\" class=\"dataframe\">\n",
       "  <thead>\n",
       "    <tr style=\"text-align: right;\">\n",
       "      <th></th>\n",
       "      <th>children</th>\n",
       "      <th>dob_years</th>\n",
       "      <th>education</th>\n",
       "      <th>education_id</th>\n",
       "      <th>family_status</th>\n",
       "      <th>family_status_id</th>\n",
       "      <th>gender</th>\n",
       "      <th>income_type</th>\n",
       "      <th>debt</th>\n",
       "      <th>total_income</th>\n",
       "      <th>purpose</th>\n",
       "      <th>employed_years</th>\n",
       "    </tr>\n",
       "  </thead>\n",
       "  <tbody>\n",
       "    <tr>\n",
       "      <td>99</td>\n",
       "      <td>0</td>\n",
       "      <td>0</td>\n",
       "      <td>Среднее</td>\n",
       "      <td>1</td>\n",
       "      <td>женат / замужем</td>\n",
       "      <td>0</td>\n",
       "      <td>F</td>\n",
       "      <td>пенсионер</td>\n",
       "      <td>0</td>\n",
       "      <td>71291.522491</td>\n",
       "      <td>автомобиль</td>\n",
       "      <td>50.000000</td>\n",
       "    </tr>\n",
       "    <tr>\n",
       "      <td>149</td>\n",
       "      <td>0</td>\n",
       "      <td>0</td>\n",
       "      <td>среднее</td>\n",
       "      <td>1</td>\n",
       "      <td>в разводе</td>\n",
       "      <td>3</td>\n",
       "      <td>F</td>\n",
       "      <td>сотрудник</td>\n",
       "      <td>0</td>\n",
       "      <td>70176.435951</td>\n",
       "      <td>операции с жильем</td>\n",
       "      <td>7.299379</td>\n",
       "    </tr>\n",
       "    <tr>\n",
       "      <td>270</td>\n",
       "      <td>3</td>\n",
       "      <td>0</td>\n",
       "      <td>среднее</td>\n",
       "      <td>1</td>\n",
       "      <td>женат / замужем</td>\n",
       "      <td>0</td>\n",
       "      <td>F</td>\n",
       "      <td>сотрудник</td>\n",
       "      <td>0</td>\n",
       "      <td>102166.458894</td>\n",
       "      <td>ремонт жилью</td>\n",
       "      <td>5.130584</td>\n",
       "    </tr>\n",
       "    <tr>\n",
       "      <td>578</td>\n",
       "      <td>0</td>\n",
       "      <td>0</td>\n",
       "      <td>среднее</td>\n",
       "      <td>1</td>\n",
       "      <td>женат / замужем</td>\n",
       "      <td>0</td>\n",
       "      <td>F</td>\n",
       "      <td>пенсионер</td>\n",
       "      <td>0</td>\n",
       "      <td>97620.687042</td>\n",
       "      <td>строительство собственной недвижимости</td>\n",
       "      <td>50.000000</td>\n",
       "    </tr>\n",
       "    <tr>\n",
       "      <td>1040</td>\n",
       "      <td>0</td>\n",
       "      <td>0</td>\n",
       "      <td>высшее</td>\n",
       "      <td>0</td>\n",
       "      <td>в разводе</td>\n",
       "      <td>3</td>\n",
       "      <td>F</td>\n",
       "      <td>компаньон</td>\n",
       "      <td>0</td>\n",
       "      <td>303994.134987</td>\n",
       "      <td>свой автомобиль</td>\n",
       "      <td>3.172684</td>\n",
       "    </tr>\n",
       "    <tr>\n",
       "      <td>...</td>\n",
       "      <td>...</td>\n",
       "      <td>...</td>\n",
       "      <td>...</td>\n",
       "      <td>...</td>\n",
       "      <td>...</td>\n",
       "      <td>...</td>\n",
       "      <td>...</td>\n",
       "      <td>...</td>\n",
       "      <td>...</td>\n",
       "      <td>...</td>\n",
       "      <td>...</td>\n",
       "      <td>...</td>\n",
       "    </tr>\n",
       "    <tr>\n",
       "      <td>19829</td>\n",
       "      <td>0</td>\n",
       "      <td>0</td>\n",
       "      <td>среднее</td>\n",
       "      <td>1</td>\n",
       "      <td>женат / замужем</td>\n",
       "      <td>0</td>\n",
       "      <td>F</td>\n",
       "      <td>сотрудник</td>\n",
       "      <td>0</td>\n",
       "      <td>0.000000</td>\n",
       "      <td>жилье</td>\n",
       "      <td>0.000000</td>\n",
       "    </tr>\n",
       "    <tr>\n",
       "      <td>20462</td>\n",
       "      <td>0</td>\n",
       "      <td>0</td>\n",
       "      <td>среднее</td>\n",
       "      <td>1</td>\n",
       "      <td>женат / замужем</td>\n",
       "      <td>0</td>\n",
       "      <td>F</td>\n",
       "      <td>пенсионер</td>\n",
       "      <td>0</td>\n",
       "      <td>259193.920299</td>\n",
       "      <td>покупка своего жилья</td>\n",
       "      <td>50.000000</td>\n",
       "    </tr>\n",
       "    <tr>\n",
       "      <td>20577</td>\n",
       "      <td>0</td>\n",
       "      <td>0</td>\n",
       "      <td>среднее</td>\n",
       "      <td>1</td>\n",
       "      <td>Не женат / не замужем</td>\n",
       "      <td>4</td>\n",
       "      <td>F</td>\n",
       "      <td>пенсионер</td>\n",
       "      <td>0</td>\n",
       "      <td>129788.762899</td>\n",
       "      <td>недвижимость</td>\n",
       "      <td>50.000000</td>\n",
       "    </tr>\n",
       "    <tr>\n",
       "      <td>21179</td>\n",
       "      <td>2</td>\n",
       "      <td>0</td>\n",
       "      <td>высшее</td>\n",
       "      <td>0</td>\n",
       "      <td>женат / замужем</td>\n",
       "      <td>0</td>\n",
       "      <td>M</td>\n",
       "      <td>компаньон</td>\n",
       "      <td>0</td>\n",
       "      <td>240702.007382</td>\n",
       "      <td>строительство жилой недвижимости</td>\n",
       "      <td>0.298540</td>\n",
       "    </tr>\n",
       "    <tr>\n",
       "      <td>21313</td>\n",
       "      <td>0</td>\n",
       "      <td>0</td>\n",
       "      <td>среднее</td>\n",
       "      <td>1</td>\n",
       "      <td>Не женат / не замужем</td>\n",
       "      <td>4</td>\n",
       "      <td>M</td>\n",
       "      <td>сотрудник</td>\n",
       "      <td>0</td>\n",
       "      <td>152419.184851</td>\n",
       "      <td>операции с жильем</td>\n",
       "      <td>3.475309</td>\n",
       "    </tr>\n",
       "  </tbody>\n",
       "</table>\n",
       "<p>101 rows × 12 columns</p>\n",
       "</div>"
      ],
      "text/plain": [
       "       children  dob_years education  education_id          family_status  \\\n",
       "99            0          0   Среднее             1        женат / замужем   \n",
       "149           0          0   среднее             1              в разводе   \n",
       "270           3          0   среднее             1        женат / замужем   \n",
       "578           0          0   среднее             1        женат / замужем   \n",
       "1040          0          0    высшее             0              в разводе   \n",
       "...         ...        ...       ...           ...                    ...   \n",
       "19829         0          0   среднее             1        женат / замужем   \n",
       "20462         0          0   среднее             1        женат / замужем   \n",
       "20577         0          0   среднее             1  Не женат / не замужем   \n",
       "21179         2          0    высшее             0        женат / замужем   \n",
       "21313         0          0   среднее             1  Не женат / не замужем   \n",
       "\n",
       "       family_status_id gender income_type  debt   total_income  \\\n",
       "99                    0      F   пенсионер     0   71291.522491   \n",
       "149                   3      F   сотрудник     0   70176.435951   \n",
       "270                   0      F   сотрудник     0  102166.458894   \n",
       "578                   0      F   пенсионер     0   97620.687042   \n",
       "1040                  3      F   компаньон     0  303994.134987   \n",
       "...                 ...    ...         ...   ...            ...   \n",
       "19829                 0      F   сотрудник     0       0.000000   \n",
       "20462                 0      F   пенсионер     0  259193.920299   \n",
       "20577                 4      F   пенсионер     0  129788.762899   \n",
       "21179                 0      M   компаньон     0  240702.007382   \n",
       "21313                 4      M   сотрудник     0  152419.184851   \n",
       "\n",
       "                                      purpose  employed_years  \n",
       "99                                 автомобиль       50.000000  \n",
       "149                         операции с жильем        7.299379  \n",
       "270                              ремонт жилью        5.130584  \n",
       "578    строительство собственной недвижимости       50.000000  \n",
       "1040                          свой автомобиль        3.172684  \n",
       "...                                       ...             ...  \n",
       "19829                                   жилье        0.000000  \n",
       "20462                    покупка своего жилья       50.000000  \n",
       "20577                            недвижимость       50.000000  \n",
       "21179        строительство жилой недвижимости        0.298540  \n",
       "21313                       операции с жильем        3.475309  \n",
       "\n",
       "[101 rows x 12 columns]"
      ]
     },
     "execution_count": 282,
     "metadata": {},
     "output_type": "execute_result"
    }
   ],
   "source": [
    "# Люди с возрастом = 0, можно предположить, что это люди до 18 лет, но даже на глаз видно, что среди них есть с 3 детьми,\n",
    "# пенсионеры. Оставим эти данные, будем считать люди просто незахотели указывать возраст.\n",
    "df[df['dob_years'] == 0]"
   ]
  },
  {
   "cell_type": "code",
   "execution_count": 283,
   "metadata": {
    "scrolled": true
   },
   "outputs": [
    {
     "data": {
      "text/plain": [
       "children            0\n",
       "dob_years           0\n",
       "education           0\n",
       "education_id        0\n",
       "family_status       0\n",
       "family_status_id    0\n",
       "gender              0\n",
       "income_type         0\n",
       "debt                0\n",
       "total_income        0\n",
       "purpose             0\n",
       "employed_years      0\n",
       "dtype: int64"
      ]
     },
     "execution_count": 283,
     "metadata": {},
     "output_type": "execute_result"
    }
   ],
   "source": [
    "# ну и после всех изменнеий еще раз проверим наличие пропусков\n",
    "df.isnull().sum()"
   ]
  },
  {
   "cell_type": "markdown",
   "metadata": {},
   "source": [
    "**Вывод**"
   ]
  },
  {
   "cell_type": "markdown",
   "metadata": {},
   "source": [
    "Около 10% полей имели пропуски значений дохода и стажа. Анализ показал, что пропуски ровно распределены по всем группам людей разного статуса и возраста. Пропуски заменили нулями, так как эти данные не должны помешать нам на поставленные вопросы, кроме вопроса о зависимости от дохода, при которых поля со значеним 0 мы просто не будем брать в расчет."
   ]
  },
  {
   "cell_type": "markdown",
   "metadata": {},
   "source": [
    "### Замена типа данных"
   ]
  },
  {
   "cell_type": "code",
   "execution_count": 284,
   "metadata": {},
   "outputs": [
    {
     "name": "stdout",
     "output_type": "stream",
     "text": [
      "<class 'pandas.core.frame.DataFrame'>\n",
      "RangeIndex: 21525 entries, 0 to 21524\n",
      "Data columns (total 12 columns):\n",
      "children            21525 non-null int64\n",
      "dob_years           21525 non-null int64\n",
      "education           21525 non-null object\n",
      "education_id        21525 non-null int64\n",
      "family_status       21525 non-null object\n",
      "family_status_id    21525 non-null int64\n",
      "gender              21525 non-null object\n",
      "income_type         21525 non-null object\n",
      "debt                21525 non-null int64\n",
      "total_income        21525 non-null float64\n",
      "purpose             21525 non-null object\n",
      "employed_years      21525 non-null float64\n",
      "dtypes: float64(2), int64(5), object(5)\n",
      "memory usage: 2.0+ MB\n"
     ]
    }
   ],
   "source": [
    "df.info()"
   ]
  },
  {
   "cell_type": "code",
   "execution_count": 285,
   "metadata": {},
   "outputs": [
    {
     "data": {
      "text/html": [
       "<div>\n",
       "<style scoped>\n",
       "    .dataframe tbody tr th:only-of-type {\n",
       "        vertical-align: middle;\n",
       "    }\n",
       "\n",
       "    .dataframe tbody tr th {\n",
       "        vertical-align: top;\n",
       "    }\n",
       "\n",
       "    .dataframe thead th {\n",
       "        text-align: right;\n",
       "    }\n",
       "</style>\n",
       "<table border=\"1\" class=\"dataframe\">\n",
       "  <thead>\n",
       "    <tr style=\"text-align: right;\">\n",
       "      <th></th>\n",
       "      <th>children</th>\n",
       "      <th>dob_years</th>\n",
       "      <th>education</th>\n",
       "      <th>education_id</th>\n",
       "      <th>family_status</th>\n",
       "      <th>family_status_id</th>\n",
       "      <th>gender</th>\n",
       "      <th>income_type</th>\n",
       "      <th>debt</th>\n",
       "      <th>total_income</th>\n",
       "      <th>purpose</th>\n",
       "      <th>employed_years</th>\n",
       "    </tr>\n",
       "  </thead>\n",
       "  <tbody>\n",
       "    <tr>\n",
       "      <td>0</td>\n",
       "      <td>1</td>\n",
       "      <td>42</td>\n",
       "      <td>высшее</td>\n",
       "      <td>0</td>\n",
       "      <td>женат / замужем</td>\n",
       "      <td>0</td>\n",
       "      <td>F</td>\n",
       "      <td>сотрудник</td>\n",
       "      <td>0</td>\n",
       "      <td>253875</td>\n",
       "      <td>покупка жилья</td>\n",
       "      <td>23</td>\n",
       "    </tr>\n",
       "    <tr>\n",
       "      <td>1</td>\n",
       "      <td>1</td>\n",
       "      <td>36</td>\n",
       "      <td>среднее</td>\n",
       "      <td>1</td>\n",
       "      <td>женат / замужем</td>\n",
       "      <td>0</td>\n",
       "      <td>F</td>\n",
       "      <td>сотрудник</td>\n",
       "      <td>0</td>\n",
       "      <td>112080</td>\n",
       "      <td>приобретение автомобиля</td>\n",
       "      <td>11</td>\n",
       "    </tr>\n",
       "    <tr>\n",
       "      <td>2</td>\n",
       "      <td>0</td>\n",
       "      <td>33</td>\n",
       "      <td>Среднее</td>\n",
       "      <td>1</td>\n",
       "      <td>женат / замужем</td>\n",
       "      <td>0</td>\n",
       "      <td>M</td>\n",
       "      <td>сотрудник</td>\n",
       "      <td>0</td>\n",
       "      <td>145885</td>\n",
       "      <td>покупка жилья</td>\n",
       "      <td>15</td>\n",
       "    </tr>\n",
       "    <tr>\n",
       "      <td>3</td>\n",
       "      <td>3</td>\n",
       "      <td>32</td>\n",
       "      <td>среднее</td>\n",
       "      <td>1</td>\n",
       "      <td>женат / замужем</td>\n",
       "      <td>0</td>\n",
       "      <td>M</td>\n",
       "      <td>сотрудник</td>\n",
       "      <td>0</td>\n",
       "      <td>267628</td>\n",
       "      <td>дополнительное образование</td>\n",
       "      <td>11</td>\n",
       "    </tr>\n",
       "    <tr>\n",
       "      <td>4</td>\n",
       "      <td>0</td>\n",
       "      <td>53</td>\n",
       "      <td>среднее</td>\n",
       "      <td>1</td>\n",
       "      <td>гражданский брак</td>\n",
       "      <td>1</td>\n",
       "      <td>F</td>\n",
       "      <td>пенсионер</td>\n",
       "      <td>0</td>\n",
       "      <td>158616</td>\n",
       "      <td>сыграть свадьбу</td>\n",
       "      <td>50</td>\n",
       "    </tr>\n",
       "  </tbody>\n",
       "</table>\n",
       "</div>"
      ],
      "text/plain": [
       "   children  dob_years education  education_id     family_status  \\\n",
       "0         1         42    высшее             0   женат / замужем   \n",
       "1         1         36   среднее             1   женат / замужем   \n",
       "2         0         33   Среднее             1   женат / замужем   \n",
       "3         3         32   среднее             1   женат / замужем   \n",
       "4         0         53   среднее             1  гражданский брак   \n",
       "\n",
       "   family_status_id gender income_type  debt  total_income  \\\n",
       "0                 0      F   сотрудник     0        253875   \n",
       "1                 0      F   сотрудник     0        112080   \n",
       "2                 0      M   сотрудник     0        145885   \n",
       "3                 0      M   сотрудник     0        267628   \n",
       "4                 1      F   пенсионер     0        158616   \n",
       "\n",
       "                      purpose  employed_years  \n",
       "0               покупка жилья              23  \n",
       "1     приобретение автомобиля              11  \n",
       "2               покупка жилья              15  \n",
       "3  дополнительное образование              11  \n",
       "4             сыграть свадьбу              50  "
      ]
     },
     "execution_count": 285,
     "metadata": {},
     "output_type": "execute_result"
    }
   ],
   "source": [
    "# заменим тип данных с доходом и стажем на int, читабельность повысится, а точность не сильно пострадает\n",
    "df['total_income'] = df['total_income'].astype(int)\n",
    "df['employed_years'] = df['employed_years'].astype(int)\n",
    "df.head()"
   ]
  },
  {
   "cell_type": "markdown",
   "metadata": {},
   "source": [
    "**Вывод**"
   ]
  },
  {
   "cell_type": "markdown",
   "metadata": {},
   "source": [
    "Заменили тип данных с доходом и стажем с float на int, т.к. читабельность чисел повысится, а точность не сильно пострадает."
   ]
  },
  {
   "cell_type": "markdown",
   "metadata": {},
   "source": [
    "### Обработка дубликатов"
   ]
  },
  {
   "cell_type": "code",
   "execution_count": 286,
   "metadata": {},
   "outputs": [
    {
     "data": {
      "text/plain": [
       "54"
      ]
     },
     "execution_count": 286,
     "metadata": {},
     "output_type": "execute_result"
    }
   ],
   "source": [
    "# кол-во дупликат\n",
    "df.duplicated().sum()"
   ]
  },
  {
   "cell_type": "code",
   "execution_count": 287,
   "metadata": {
    "scrolled": true
   },
   "outputs": [
    {
     "data": {
      "text/plain": [
       "среднее                13750\n",
       "высшее                  4718\n",
       "СРЕДНЕЕ                  772\n",
       "Среднее                  711\n",
       "неоконченное высшее      668\n",
       "ВЫСШЕЕ                   274\n",
       "Высшее                   268\n",
       "начальное                250\n",
       "Неоконченное высшее       47\n",
       "НЕОКОНЧЕННОЕ ВЫСШЕЕ       29\n",
       "НАЧАЛЬНОЕ                 17\n",
       "Начальное                 15\n",
       "ученая степень             4\n",
       "Ученая степень             1\n",
       "УЧЕНАЯ СТЕПЕНЬ             1\n",
       "Name: education, dtype: int64"
      ]
     },
     "execution_count": 287,
     "metadata": {},
     "output_type": "execute_result"
    }
   ],
   "source": [
    "# данные записаны в разных регистрах, можно проверить наличие неявных дупликат\n",
    "df['education'].value_counts()"
   ]
  },
  {
   "cell_type": "code",
   "execution_count": 288,
   "metadata": {},
   "outputs": [],
   "source": [
    "# переведем колонки содержащие строки в нижний регистр\n",
    "df[\"education\"] = df[\"education\"].str.lower()\n",
    "df[\"family_status\"] = df[\"family_status\"].str.lower()\n",
    "df[\"income_type\"] = df[\"income_type\"].str.lower()\n",
    "df[\"purpose\"] = df[\"purpose\"].str.lower()\n",
    "df[\"gender\"] = df[\"gender\"].str.lower()"
   ]
  },
  {
   "cell_type": "code",
   "execution_count": 289,
   "metadata": {},
   "outputs": [
    {
     "data": {
      "text/plain": [
       "среднее                15233\n",
       "высшее                  5260\n",
       "неоконченное высшее      744\n",
       "начальное                282\n",
       "ученая степень             6\n",
       "Name: education, dtype: int64"
      ]
     },
     "execution_count": 289,
     "metadata": {},
     "output_type": "execute_result"
    }
   ],
   "source": [
    "# так лучше)\n",
    "df['education'].value_counts()"
   ]
  },
  {
   "cell_type": "code",
   "execution_count": 290,
   "metadata": {},
   "outputs": [
    {
     "data": {
      "text/plain": [
       "женат / замужем          12380\n",
       "гражданский брак          4177\n",
       "не женат / не замужем     2813\n",
       "в разводе                 1195\n",
       "вдовец / вдова             960\n",
       "Name: family_status, dtype: int64"
      ]
     },
     "execution_count": 290,
     "metadata": {},
     "output_type": "execute_result"
    }
   ],
   "source": [
    "# проверим и другие столбцы на наличие неявных дубликатов и артефактов\n",
    "df['family_status'].value_counts()"
   ]
  },
  {
   "cell_type": "code",
   "execution_count": 291,
   "metadata": {
    "scrolled": true
   },
   "outputs": [
    {
     "data": {
      "text/plain": [
       "f      14236\n",
       "m       7288\n",
       "xna        1\n",
       "Name: gender, dtype: int64"
      ]
     },
     "execution_count": 291,
     "metadata": {},
     "output_type": "execute_result"
    }
   ],
   "source": [
    "df['gender'].value_counts()"
   ]
  },
  {
   "cell_type": "code",
   "execution_count": 292,
   "metadata": {},
   "outputs": [
    {
     "data": {
      "text/html": [
       "<div>\n",
       "<style scoped>\n",
       "    .dataframe tbody tr th:only-of-type {\n",
       "        vertical-align: middle;\n",
       "    }\n",
       "\n",
       "    .dataframe tbody tr th {\n",
       "        vertical-align: top;\n",
       "    }\n",
       "\n",
       "    .dataframe thead th {\n",
       "        text-align: right;\n",
       "    }\n",
       "</style>\n",
       "<table border=\"1\" class=\"dataframe\">\n",
       "  <thead>\n",
       "    <tr style=\"text-align: right;\">\n",
       "      <th></th>\n",
       "      <th>children</th>\n",
       "      <th>dob_years</th>\n",
       "      <th>education</th>\n",
       "      <th>education_id</th>\n",
       "      <th>family_status</th>\n",
       "      <th>family_status_id</th>\n",
       "      <th>gender</th>\n",
       "      <th>income_type</th>\n",
       "      <th>debt</th>\n",
       "      <th>total_income</th>\n",
       "      <th>purpose</th>\n",
       "      <th>employed_years</th>\n",
       "    </tr>\n",
       "  </thead>\n",
       "  <tbody>\n",
       "    <tr>\n",
       "      <td>10701</td>\n",
       "      <td>0</td>\n",
       "      <td>24</td>\n",
       "      <td>неоконченное высшее</td>\n",
       "      <td>2</td>\n",
       "      <td>гражданский брак</td>\n",
       "      <td>1</td>\n",
       "      <td>xna</td>\n",
       "      <td>компаньон</td>\n",
       "      <td>0</td>\n",
       "      <td>203905</td>\n",
       "      <td>покупка недвижимости</td>\n",
       "      <td>6</td>\n",
       "    </tr>\n",
       "  </tbody>\n",
       "</table>\n",
       "</div>"
      ],
      "text/plain": [
       "       children  dob_years            education  education_id  \\\n",
       "10701         0         24  неоконченное высшее             2   \n",
       "\n",
       "          family_status  family_status_id gender income_type  debt  \\\n",
       "10701  гражданский брак                 1    xna   компаньон     0   \n",
       "\n",
       "       total_income               purpose  employed_years  \n",
       "10701        203905  покупка недвижимости               6  "
      ]
     },
     "execution_count": 292,
     "metadata": {},
     "output_type": "execute_result"
    }
   ],
   "source": [
    "# что такое xna?)))\n",
    "df[df['gender'] == \"xna\"]\n",
    "# данные в строке нормальные, пусть будет xna если так хочется."
   ]
  },
  {
   "cell_type": "code",
   "execution_count": 293,
   "metadata": {},
   "outputs": [
    {
     "data": {
      "text/plain": [
       " 0     14149\n",
       " 1      4818\n",
       " 2      2055\n",
       " 3       330\n",
       " 20       76\n",
       "-1        47\n",
       " 4        41\n",
       " 5         9\n",
       "Name: children, dtype: int64"
      ]
     },
     "execution_count": 293,
     "metadata": {},
     "output_type": "execute_result"
    }
   ],
   "source": [
    "df['children'].value_counts()"
   ]
  },
  {
   "cell_type": "code",
   "execution_count": 294,
   "metadata": {},
   "outputs": [
    {
     "data": {
      "text/html": [
       "<div>\n",
       "<style scoped>\n",
       "    .dataframe tbody tr th:only-of-type {\n",
       "        vertical-align: middle;\n",
       "    }\n",
       "\n",
       "    .dataframe tbody tr th {\n",
       "        vertical-align: top;\n",
       "    }\n",
       "\n",
       "    .dataframe thead th {\n",
       "        text-align: right;\n",
       "    }\n",
       "</style>\n",
       "<table border=\"1\" class=\"dataframe\">\n",
       "  <thead>\n",
       "    <tr style=\"text-align: right;\">\n",
       "      <th></th>\n",
       "      <th>children</th>\n",
       "      <th>dob_years</th>\n",
       "      <th>education</th>\n",
       "      <th>education_id</th>\n",
       "      <th>family_status</th>\n",
       "      <th>family_status_id</th>\n",
       "      <th>gender</th>\n",
       "      <th>income_type</th>\n",
       "      <th>debt</th>\n",
       "      <th>total_income</th>\n",
       "      <th>purpose</th>\n",
       "      <th>employed_years</th>\n",
       "    </tr>\n",
       "  </thead>\n",
       "  <tbody>\n",
       "    <tr>\n",
       "      <td>291</td>\n",
       "      <td>-1</td>\n",
       "      <td>46</td>\n",
       "      <td>среднее</td>\n",
       "      <td>1</td>\n",
       "      <td>гражданский брак</td>\n",
       "      <td>1</td>\n",
       "      <td>f</td>\n",
       "      <td>сотрудник</td>\n",
       "      <td>0</td>\n",
       "      <td>102816</td>\n",
       "      <td>профильное образование</td>\n",
       "      <td>12</td>\n",
       "    </tr>\n",
       "    <tr>\n",
       "      <td>705</td>\n",
       "      <td>-1</td>\n",
       "      <td>50</td>\n",
       "      <td>среднее</td>\n",
       "      <td>1</td>\n",
       "      <td>женат / замужем</td>\n",
       "      <td>0</td>\n",
       "      <td>f</td>\n",
       "      <td>госслужащий</td>\n",
       "      <td>0</td>\n",
       "      <td>137882</td>\n",
       "      <td>приобретение автомобиля</td>\n",
       "      <td>2</td>\n",
       "    </tr>\n",
       "    <tr>\n",
       "      <td>742</td>\n",
       "      <td>-1</td>\n",
       "      <td>57</td>\n",
       "      <td>среднее</td>\n",
       "      <td>1</td>\n",
       "      <td>женат / замужем</td>\n",
       "      <td>0</td>\n",
       "      <td>f</td>\n",
       "      <td>сотрудник</td>\n",
       "      <td>0</td>\n",
       "      <td>64268</td>\n",
       "      <td>дополнительное образование</td>\n",
       "      <td>8</td>\n",
       "    </tr>\n",
       "    <tr>\n",
       "      <td>800</td>\n",
       "      <td>-1</td>\n",
       "      <td>54</td>\n",
       "      <td>среднее</td>\n",
       "      <td>1</td>\n",
       "      <td>не женат / не замужем</td>\n",
       "      <td>4</td>\n",
       "      <td>f</td>\n",
       "      <td>пенсионер</td>\n",
       "      <td>0</td>\n",
       "      <td>86293</td>\n",
       "      <td>дополнительное образование</td>\n",
       "      <td>50</td>\n",
       "    </tr>\n",
       "    <tr>\n",
       "      <td>941</td>\n",
       "      <td>-1</td>\n",
       "      <td>57</td>\n",
       "      <td>среднее</td>\n",
       "      <td>1</td>\n",
       "      <td>женат / замужем</td>\n",
       "      <td>0</td>\n",
       "      <td>f</td>\n",
       "      <td>пенсионер</td>\n",
       "      <td>0</td>\n",
       "      <td>0</td>\n",
       "      <td>на покупку своего автомобиля</td>\n",
       "      <td>50</td>\n",
       "    </tr>\n",
       "    <tr>\n",
       "      <td>1363</td>\n",
       "      <td>-1</td>\n",
       "      <td>55</td>\n",
       "      <td>среднее</td>\n",
       "      <td>1</td>\n",
       "      <td>женат / замужем</td>\n",
       "      <td>0</td>\n",
       "      <td>f</td>\n",
       "      <td>компаньон</td>\n",
       "      <td>0</td>\n",
       "      <td>69550</td>\n",
       "      <td>профильное образование</td>\n",
       "      <td>3</td>\n",
       "    </tr>\n",
       "    <tr>\n",
       "      <td>1929</td>\n",
       "      <td>-1</td>\n",
       "      <td>38</td>\n",
       "      <td>среднее</td>\n",
       "      <td>1</td>\n",
       "      <td>не женат / не замужем</td>\n",
       "      <td>4</td>\n",
       "      <td>m</td>\n",
       "      <td>сотрудник</td>\n",
       "      <td>0</td>\n",
       "      <td>109121</td>\n",
       "      <td>покупка жилья</td>\n",
       "      <td>4</td>\n",
       "    </tr>\n",
       "    <tr>\n",
       "      <td>2073</td>\n",
       "      <td>-1</td>\n",
       "      <td>42</td>\n",
       "      <td>среднее</td>\n",
       "      <td>1</td>\n",
       "      <td>в разводе</td>\n",
       "      <td>3</td>\n",
       "      <td>f</td>\n",
       "      <td>компаньон</td>\n",
       "      <td>0</td>\n",
       "      <td>162638</td>\n",
       "      <td>покупка жилья</td>\n",
       "      <td>6</td>\n",
       "    </tr>\n",
       "    <tr>\n",
       "      <td>3814</td>\n",
       "      <td>-1</td>\n",
       "      <td>26</td>\n",
       "      <td>среднее</td>\n",
       "      <td>1</td>\n",
       "      <td>гражданский брак</td>\n",
       "      <td>1</td>\n",
       "      <td>f</td>\n",
       "      <td>госслужащий</td>\n",
       "      <td>0</td>\n",
       "      <td>131892</td>\n",
       "      <td>на проведение свадьбы</td>\n",
       "      <td>8</td>\n",
       "    </tr>\n",
       "    <tr>\n",
       "      <td>4201</td>\n",
       "      <td>-1</td>\n",
       "      <td>41</td>\n",
       "      <td>среднее</td>\n",
       "      <td>1</td>\n",
       "      <td>женат / замужем</td>\n",
       "      <td>0</td>\n",
       "      <td>f</td>\n",
       "      <td>госслужащий</td>\n",
       "      <td>0</td>\n",
       "      <td>226375</td>\n",
       "      <td>операции со своей недвижимостью</td>\n",
       "      <td>2</td>\n",
       "    </tr>\n",
       "    <tr>\n",
       "      <td>4402</td>\n",
       "      <td>-1</td>\n",
       "      <td>64</td>\n",
       "      <td>среднее</td>\n",
       "      <td>1</td>\n",
       "      <td>женат / замужем</td>\n",
       "      <td>0</td>\n",
       "      <td>f</td>\n",
       "      <td>пенсионер</td>\n",
       "      <td>0</td>\n",
       "      <td>163264</td>\n",
       "      <td>покупка недвижимости</td>\n",
       "      <td>50</td>\n",
       "    </tr>\n",
       "    <tr>\n",
       "      <td>4542</td>\n",
       "      <td>-1</td>\n",
       "      <td>32</td>\n",
       "      <td>среднее</td>\n",
       "      <td>1</td>\n",
       "      <td>женат / замужем</td>\n",
       "      <td>0</td>\n",
       "      <td>f</td>\n",
       "      <td>сотрудник</td>\n",
       "      <td>0</td>\n",
       "      <td>160544</td>\n",
       "      <td>образование</td>\n",
       "      <td>4</td>\n",
       "    </tr>\n",
       "    <tr>\n",
       "      <td>5272</td>\n",
       "      <td>-1</td>\n",
       "      <td>46</td>\n",
       "      <td>среднее</td>\n",
       "      <td>1</td>\n",
       "      <td>вдовец / вдова</td>\n",
       "      <td>2</td>\n",
       "      <td>f</td>\n",
       "      <td>сотрудник</td>\n",
       "      <td>0</td>\n",
       "      <td>278708</td>\n",
       "      <td>покупка недвижимости</td>\n",
       "      <td>3</td>\n",
       "    </tr>\n",
       "    <tr>\n",
       "      <td>6013</td>\n",
       "      <td>-1</td>\n",
       "      <td>46</td>\n",
       "      <td>высшее</td>\n",
       "      <td>0</td>\n",
       "      <td>женат / замужем</td>\n",
       "      <td>0</td>\n",
       "      <td>f</td>\n",
       "      <td>сотрудник</td>\n",
       "      <td>0</td>\n",
       "      <td>143008</td>\n",
       "      <td>строительство собственной недвижимости</td>\n",
       "      <td>3</td>\n",
       "    </tr>\n",
       "    <tr>\n",
       "      <td>6385</td>\n",
       "      <td>-1</td>\n",
       "      <td>48</td>\n",
       "      <td>среднее</td>\n",
       "      <td>1</td>\n",
       "      <td>вдовец / вдова</td>\n",
       "      <td>2</td>\n",
       "      <td>f</td>\n",
       "      <td>пенсионер</td>\n",
       "      <td>0</td>\n",
       "      <td>36052</td>\n",
       "      <td>образование</td>\n",
       "      <td>50</td>\n",
       "    </tr>\n",
       "    <tr>\n",
       "      <td>7190</td>\n",
       "      <td>-1</td>\n",
       "      <td>34</td>\n",
       "      <td>среднее</td>\n",
       "      <td>1</td>\n",
       "      <td>женат / замужем</td>\n",
       "      <td>0</td>\n",
       "      <td>m</td>\n",
       "      <td>сотрудник</td>\n",
       "      <td>0</td>\n",
       "      <td>184315</td>\n",
       "      <td>приобретение автомобиля</td>\n",
       "      <td>16</td>\n",
       "    </tr>\n",
       "    <tr>\n",
       "      <td>7278</td>\n",
       "      <td>-1</td>\n",
       "      <td>51</td>\n",
       "      <td>среднее</td>\n",
       "      <td>1</td>\n",
       "      <td>женат / замужем</td>\n",
       "      <td>0</td>\n",
       "      <td>f</td>\n",
       "      <td>сотрудник</td>\n",
       "      <td>0</td>\n",
       "      <td>146928</td>\n",
       "      <td>операции с коммерческой недвижимостью</td>\n",
       "      <td>1</td>\n",
       "    </tr>\n",
       "    <tr>\n",
       "      <td>7615</td>\n",
       "      <td>-1</td>\n",
       "      <td>35</td>\n",
       "      <td>среднее</td>\n",
       "      <td>1</td>\n",
       "      <td>женат / замужем</td>\n",
       "      <td>0</td>\n",
       "      <td>m</td>\n",
       "      <td>сотрудник</td>\n",
       "      <td>0</td>\n",
       "      <td>0</td>\n",
       "      <td>образование</td>\n",
       "      <td>0</td>\n",
       "    </tr>\n",
       "    <tr>\n",
       "      <td>7685</td>\n",
       "      <td>-1</td>\n",
       "      <td>53</td>\n",
       "      <td>среднее</td>\n",
       "      <td>1</td>\n",
       "      <td>вдовец / вдова</td>\n",
       "      <td>2</td>\n",
       "      <td>f</td>\n",
       "      <td>сотрудник</td>\n",
       "      <td>0</td>\n",
       "      <td>159676</td>\n",
       "      <td>строительство жилой недвижимости</td>\n",
       "      <td>8</td>\n",
       "    </tr>\n",
       "    <tr>\n",
       "      <td>8229</td>\n",
       "      <td>-1</td>\n",
       "      <td>54</td>\n",
       "      <td>высшее</td>\n",
       "      <td>0</td>\n",
       "      <td>женат / замужем</td>\n",
       "      <td>0</td>\n",
       "      <td>f</td>\n",
       "      <td>компаньон</td>\n",
       "      <td>0</td>\n",
       "      <td>138809</td>\n",
       "      <td>покупка недвижимости</td>\n",
       "      <td>4</td>\n",
       "    </tr>\n",
       "    <tr>\n",
       "      <td>8251</td>\n",
       "      <td>-1</td>\n",
       "      <td>31</td>\n",
       "      <td>среднее</td>\n",
       "      <td>1</td>\n",
       "      <td>гражданский брак</td>\n",
       "      <td>1</td>\n",
       "      <td>f</td>\n",
       "      <td>сотрудник</td>\n",
       "      <td>0</td>\n",
       "      <td>54412</td>\n",
       "      <td>свой автомобиль</td>\n",
       "      <td>8</td>\n",
       "    </tr>\n",
       "    <tr>\n",
       "      <td>8561</td>\n",
       "      <td>-1</td>\n",
       "      <td>31</td>\n",
       "      <td>среднее</td>\n",
       "      <td>1</td>\n",
       "      <td>женат / замужем</td>\n",
       "      <td>0</td>\n",
       "      <td>f</td>\n",
       "      <td>сотрудник</td>\n",
       "      <td>0</td>\n",
       "      <td>145577</td>\n",
       "      <td>ремонт жилью</td>\n",
       "      <td>0</td>\n",
       "    </tr>\n",
       "    <tr>\n",
       "      <td>9565</td>\n",
       "      <td>-1</td>\n",
       "      <td>34</td>\n",
       "      <td>высшее</td>\n",
       "      <td>0</td>\n",
       "      <td>женат / замужем</td>\n",
       "      <td>0</td>\n",
       "      <td>m</td>\n",
       "      <td>сотрудник</td>\n",
       "      <td>0</td>\n",
       "      <td>126754</td>\n",
       "      <td>операции с недвижимостью</td>\n",
       "      <td>7</td>\n",
       "    </tr>\n",
       "    <tr>\n",
       "      <td>9574</td>\n",
       "      <td>-1</td>\n",
       "      <td>28</td>\n",
       "      <td>высшее</td>\n",
       "      <td>0</td>\n",
       "      <td>женат / замужем</td>\n",
       "      <td>0</td>\n",
       "      <td>m</td>\n",
       "      <td>госслужащий</td>\n",
       "      <td>0</td>\n",
       "      <td>303137</td>\n",
       "      <td>получение дополнительного образования</td>\n",
       "      <td>7</td>\n",
       "    </tr>\n",
       "    <tr>\n",
       "      <td>10177</td>\n",
       "      <td>-1</td>\n",
       "      <td>37</td>\n",
       "      <td>среднее</td>\n",
       "      <td>1</td>\n",
       "      <td>женат / замужем</td>\n",
       "      <td>0</td>\n",
       "      <td>m</td>\n",
       "      <td>сотрудник</td>\n",
       "      <td>0</td>\n",
       "      <td>310367</td>\n",
       "      <td>получение образования</td>\n",
       "      <td>4</td>\n",
       "    </tr>\n",
       "    <tr>\n",
       "      <td>10365</td>\n",
       "      <td>-1</td>\n",
       "      <td>63</td>\n",
       "      <td>высшее</td>\n",
       "      <td>0</td>\n",
       "      <td>вдовец / вдова</td>\n",
       "      <td>2</td>\n",
       "      <td>f</td>\n",
       "      <td>пенсионер</td>\n",
       "      <td>0</td>\n",
       "      <td>170762</td>\n",
       "      <td>строительство жилой недвижимости</td>\n",
       "      <td>50</td>\n",
       "    </tr>\n",
       "    <tr>\n",
       "      <td>10918</td>\n",
       "      <td>-1</td>\n",
       "      <td>50</td>\n",
       "      <td>среднее</td>\n",
       "      <td>1</td>\n",
       "      <td>женат / замужем</td>\n",
       "      <td>0</td>\n",
       "      <td>m</td>\n",
       "      <td>пенсионер</td>\n",
       "      <td>0</td>\n",
       "      <td>170762</td>\n",
       "      <td>покупка своего жилья</td>\n",
       "      <td>50</td>\n",
       "    </tr>\n",
       "    <tr>\n",
       "      <td>11109</td>\n",
       "      <td>-1</td>\n",
       "      <td>59</td>\n",
       "      <td>среднее</td>\n",
       "      <td>1</td>\n",
       "      <td>женат / замужем</td>\n",
       "      <td>0</td>\n",
       "      <td>f</td>\n",
       "      <td>сотрудник</td>\n",
       "      <td>0</td>\n",
       "      <td>219874</td>\n",
       "      <td>операции с жильем</td>\n",
       "      <td>9</td>\n",
       "    </tr>\n",
       "    <tr>\n",
       "      <td>11268</td>\n",
       "      <td>-1</td>\n",
       "      <td>30</td>\n",
       "      <td>высшее</td>\n",
       "      <td>0</td>\n",
       "      <td>гражданский брак</td>\n",
       "      <td>1</td>\n",
       "      <td>f</td>\n",
       "      <td>компаньон</td>\n",
       "      <td>0</td>\n",
       "      <td>321603</td>\n",
       "      <td>на покупку автомобиля</td>\n",
       "      <td>2</td>\n",
       "    </tr>\n",
       "    <tr>\n",
       "      <td>11617</td>\n",
       "      <td>-1</td>\n",
       "      <td>27</td>\n",
       "      <td>среднее</td>\n",
       "      <td>1</td>\n",
       "      <td>женат / замужем</td>\n",
       "      <td>0</td>\n",
       "      <td>f</td>\n",
       "      <td>компаньон</td>\n",
       "      <td>0</td>\n",
       "      <td>164591</td>\n",
       "      <td>покупка жилья для сдачи</td>\n",
       "      <td>1</td>\n",
       "    </tr>\n",
       "    <tr>\n",
       "      <td>12304</td>\n",
       "      <td>-1</td>\n",
       "      <td>61</td>\n",
       "      <td>неоконченное высшее</td>\n",
       "      <td>2</td>\n",
       "      <td>женат / замужем</td>\n",
       "      <td>0</td>\n",
       "      <td>m</td>\n",
       "      <td>сотрудник</td>\n",
       "      <td>0</td>\n",
       "      <td>315006</td>\n",
       "      <td>недвижимость</td>\n",
       "      <td>23</td>\n",
       "    </tr>\n",
       "    <tr>\n",
       "      <td>13786</td>\n",
       "      <td>-1</td>\n",
       "      <td>42</td>\n",
       "      <td>среднее</td>\n",
       "      <td>1</td>\n",
       "      <td>не женат / не замужем</td>\n",
       "      <td>4</td>\n",
       "      <td>m</td>\n",
       "      <td>компаньон</td>\n",
       "      <td>0</td>\n",
       "      <td>0</td>\n",
       "      <td>автомобиль</td>\n",
       "      <td>0</td>\n",
       "    </tr>\n",
       "    <tr>\n",
       "      <td>14357</td>\n",
       "      <td>-1</td>\n",
       "      <td>23</td>\n",
       "      <td>среднее</td>\n",
       "      <td>1</td>\n",
       "      <td>в разводе</td>\n",
       "      <td>3</td>\n",
       "      <td>f</td>\n",
       "      <td>компаньон</td>\n",
       "      <td>0</td>\n",
       "      <td>92257</td>\n",
       "      <td>покупка жилой недвижимости</td>\n",
       "      <td>0</td>\n",
       "    </tr>\n",
       "    <tr>\n",
       "      <td>15147</td>\n",
       "      <td>-1</td>\n",
       "      <td>44</td>\n",
       "      <td>среднее</td>\n",
       "      <td>1</td>\n",
       "      <td>в разводе</td>\n",
       "      <td>3</td>\n",
       "      <td>f</td>\n",
       "      <td>сотрудник</td>\n",
       "      <td>0</td>\n",
       "      <td>110990</td>\n",
       "      <td>свой автомобиль</td>\n",
       "      <td>26</td>\n",
       "    </tr>\n",
       "    <tr>\n",
       "      <td>15435</td>\n",
       "      <td>-1</td>\n",
       "      <td>40</td>\n",
       "      <td>высшее</td>\n",
       "      <td>0</td>\n",
       "      <td>гражданский брак</td>\n",
       "      <td>1</td>\n",
       "      <td>f</td>\n",
       "      <td>сотрудник</td>\n",
       "      <td>0</td>\n",
       "      <td>98127</td>\n",
       "      <td>сыграть свадьбу</td>\n",
       "      <td>9</td>\n",
       "    </tr>\n",
       "    <tr>\n",
       "      <td>16129</td>\n",
       "      <td>-1</td>\n",
       "      <td>33</td>\n",
       "      <td>среднее</td>\n",
       "      <td>1</td>\n",
       "      <td>женат / замужем</td>\n",
       "      <td>0</td>\n",
       "      <td>f</td>\n",
       "      <td>сотрудник</td>\n",
       "      <td>1</td>\n",
       "      <td>149641</td>\n",
       "      <td>автомобиль</td>\n",
       "      <td>1</td>\n",
       "    </tr>\n",
       "    <tr>\n",
       "      <td>16265</td>\n",
       "      <td>-1</td>\n",
       "      <td>40</td>\n",
       "      <td>высшее</td>\n",
       "      <td>0</td>\n",
       "      <td>женат / замужем</td>\n",
       "      <td>0</td>\n",
       "      <td>m</td>\n",
       "      <td>сотрудник</td>\n",
       "      <td>0</td>\n",
       "      <td>111984</td>\n",
       "      <td>покупка жилья</td>\n",
       "      <td>7</td>\n",
       "    </tr>\n",
       "    <tr>\n",
       "      <td>17095</td>\n",
       "      <td>-1</td>\n",
       "      <td>34</td>\n",
       "      <td>среднее</td>\n",
       "      <td>1</td>\n",
       "      <td>женат / замужем</td>\n",
       "      <td>0</td>\n",
       "      <td>f</td>\n",
       "      <td>сотрудник</td>\n",
       "      <td>0</td>\n",
       "      <td>182543</td>\n",
       "      <td>на покупку подержанного автомобиля</td>\n",
       "      <td>7</td>\n",
       "    </tr>\n",
       "    <tr>\n",
       "      <td>17429</td>\n",
       "      <td>-1</td>\n",
       "      <td>37</td>\n",
       "      <td>среднее</td>\n",
       "      <td>1</td>\n",
       "      <td>женат / замужем</td>\n",
       "      <td>0</td>\n",
       "      <td>f</td>\n",
       "      <td>компаньон</td>\n",
       "      <td>0</td>\n",
       "      <td>214814</td>\n",
       "      <td>жилье</td>\n",
       "      <td>2</td>\n",
       "    </tr>\n",
       "    <tr>\n",
       "      <td>17657</td>\n",
       "      <td>-1</td>\n",
       "      <td>41</td>\n",
       "      <td>среднее</td>\n",
       "      <td>1</td>\n",
       "      <td>женат / замужем</td>\n",
       "      <td>0</td>\n",
       "      <td>f</td>\n",
       "      <td>сотрудник</td>\n",
       "      <td>0</td>\n",
       "      <td>122105</td>\n",
       "      <td>операции со своей недвижимостью</td>\n",
       "      <td>12</td>\n",
       "    </tr>\n",
       "    <tr>\n",
       "      <td>18219</td>\n",
       "      <td>-1</td>\n",
       "      <td>33</td>\n",
       "      <td>среднее</td>\n",
       "      <td>1</td>\n",
       "      <td>женат / замужем</td>\n",
       "      <td>0</td>\n",
       "      <td>f</td>\n",
       "      <td>сотрудник</td>\n",
       "      <td>0</td>\n",
       "      <td>128362</td>\n",
       "      <td>высшее образование</td>\n",
       "      <td>9</td>\n",
       "    </tr>\n",
       "    <tr>\n",
       "      <td>19100</td>\n",
       "      <td>-1</td>\n",
       "      <td>38</td>\n",
       "      <td>среднее</td>\n",
       "      <td>1</td>\n",
       "      <td>не женат / не замужем</td>\n",
       "      <td>4</td>\n",
       "      <td>m</td>\n",
       "      <td>сотрудник</td>\n",
       "      <td>0</td>\n",
       "      <td>122205</td>\n",
       "      <td>строительство жилой недвижимости</td>\n",
       "      <td>1</td>\n",
       "    </tr>\n",
       "    <tr>\n",
       "      <td>19366</td>\n",
       "      <td>-1</td>\n",
       "      <td>43</td>\n",
       "      <td>среднее</td>\n",
       "      <td>1</td>\n",
       "      <td>женат / замужем</td>\n",
       "      <td>0</td>\n",
       "      <td>m</td>\n",
       "      <td>сотрудник</td>\n",
       "      <td>0</td>\n",
       "      <td>155588</td>\n",
       "      <td>сделка с подержанным автомобилем</td>\n",
       "      <td>1</td>\n",
       "    </tr>\n",
       "    <tr>\n",
       "      <td>19417</td>\n",
       "      <td>-1</td>\n",
       "      <td>28</td>\n",
       "      <td>среднее</td>\n",
       "      <td>1</td>\n",
       "      <td>в разводе</td>\n",
       "      <td>3</td>\n",
       "      <td>f</td>\n",
       "      <td>пенсионер</td>\n",
       "      <td>0</td>\n",
       "      <td>52872</td>\n",
       "      <td>автомобили</td>\n",
       "      <td>50</td>\n",
       "    </tr>\n",
       "    <tr>\n",
       "      <td>20393</td>\n",
       "      <td>-1</td>\n",
       "      <td>69</td>\n",
       "      <td>среднее</td>\n",
       "      <td>1</td>\n",
       "      <td>не женат / не замужем</td>\n",
       "      <td>4</td>\n",
       "      <td>f</td>\n",
       "      <td>пенсионер</td>\n",
       "      <td>0</td>\n",
       "      <td>116521</td>\n",
       "      <td>операции с недвижимостью</td>\n",
       "      <td>50</td>\n",
       "    </tr>\n",
       "    <tr>\n",
       "      <td>20717</td>\n",
       "      <td>-1</td>\n",
       "      <td>32</td>\n",
       "      <td>высшее</td>\n",
       "      <td>0</td>\n",
       "      <td>женат / замужем</td>\n",
       "      <td>0</td>\n",
       "      <td>f</td>\n",
       "      <td>сотрудник</td>\n",
       "      <td>0</td>\n",
       "      <td>137405</td>\n",
       "      <td>покупка жилой недвижимости</td>\n",
       "      <td>1</td>\n",
       "    </tr>\n",
       "    <tr>\n",
       "      <td>21140</td>\n",
       "      <td>-1</td>\n",
       "      <td>44</td>\n",
       "      <td>среднее</td>\n",
       "      <td>1</td>\n",
       "      <td>женат / замужем</td>\n",
       "      <td>0</td>\n",
       "      <td>f</td>\n",
       "      <td>компаньон</td>\n",
       "      <td>0</td>\n",
       "      <td>169562</td>\n",
       "      <td>операции со своей недвижимостью</td>\n",
       "      <td>3</td>\n",
       "    </tr>\n",
       "  </tbody>\n",
       "</table>\n",
       "</div>"
      ],
      "text/plain": [
       "       children  dob_years            education  education_id  \\\n",
       "291          -1         46              среднее             1   \n",
       "705          -1         50              среднее             1   \n",
       "742          -1         57              среднее             1   \n",
       "800          -1         54              среднее             1   \n",
       "941          -1         57              среднее             1   \n",
       "1363         -1         55              среднее             1   \n",
       "1929         -1         38              среднее             1   \n",
       "2073         -1         42              среднее             1   \n",
       "3814         -1         26              среднее             1   \n",
       "4201         -1         41              среднее             1   \n",
       "4402         -1         64              среднее             1   \n",
       "4542         -1         32              среднее             1   \n",
       "5272         -1         46              среднее             1   \n",
       "6013         -1         46               высшее             0   \n",
       "6385         -1         48              среднее             1   \n",
       "7190         -1         34              среднее             1   \n",
       "7278         -1         51              среднее             1   \n",
       "7615         -1         35              среднее             1   \n",
       "7685         -1         53              среднее             1   \n",
       "8229         -1         54               высшее             0   \n",
       "8251         -1         31              среднее             1   \n",
       "8561         -1         31              среднее             1   \n",
       "9565         -1         34               высшее             0   \n",
       "9574         -1         28               высшее             0   \n",
       "10177        -1         37              среднее             1   \n",
       "10365        -1         63               высшее             0   \n",
       "10918        -1         50              среднее             1   \n",
       "11109        -1         59              среднее             1   \n",
       "11268        -1         30               высшее             0   \n",
       "11617        -1         27              среднее             1   \n",
       "12304        -1         61  неоконченное высшее             2   \n",
       "13786        -1         42              среднее             1   \n",
       "14357        -1         23              среднее             1   \n",
       "15147        -1         44              среднее             1   \n",
       "15435        -1         40               высшее             0   \n",
       "16129        -1         33              среднее             1   \n",
       "16265        -1         40               высшее             0   \n",
       "17095        -1         34              среднее             1   \n",
       "17429        -1         37              среднее             1   \n",
       "17657        -1         41              среднее             1   \n",
       "18219        -1         33              среднее             1   \n",
       "19100        -1         38              среднее             1   \n",
       "19366        -1         43              среднее             1   \n",
       "19417        -1         28              среднее             1   \n",
       "20393        -1         69              среднее             1   \n",
       "20717        -1         32               высшее             0   \n",
       "21140        -1         44              среднее             1   \n",
       "\n",
       "               family_status  family_status_id gender  income_type  debt  \\\n",
       "291         гражданский брак                 1      f    сотрудник     0   \n",
       "705          женат / замужем                 0      f  госслужащий     0   \n",
       "742          женат / замужем                 0      f    сотрудник     0   \n",
       "800    не женат / не замужем                 4      f    пенсионер     0   \n",
       "941          женат / замужем                 0      f    пенсионер     0   \n",
       "1363         женат / замужем                 0      f    компаньон     0   \n",
       "1929   не женат / не замужем                 4      m    сотрудник     0   \n",
       "2073               в разводе                 3      f    компаньон     0   \n",
       "3814        гражданский брак                 1      f  госслужащий     0   \n",
       "4201         женат / замужем                 0      f  госслужащий     0   \n",
       "4402         женат / замужем                 0      f    пенсионер     0   \n",
       "4542         женат / замужем                 0      f    сотрудник     0   \n",
       "5272          вдовец / вдова                 2      f    сотрудник     0   \n",
       "6013         женат / замужем                 0      f    сотрудник     0   \n",
       "6385          вдовец / вдова                 2      f    пенсионер     0   \n",
       "7190         женат / замужем                 0      m    сотрудник     0   \n",
       "7278         женат / замужем                 0      f    сотрудник     0   \n",
       "7615         женат / замужем                 0      m    сотрудник     0   \n",
       "7685          вдовец / вдова                 2      f    сотрудник     0   \n",
       "8229         женат / замужем                 0      f    компаньон     0   \n",
       "8251        гражданский брак                 1      f    сотрудник     0   \n",
       "8561         женат / замужем                 0      f    сотрудник     0   \n",
       "9565         женат / замужем                 0      m    сотрудник     0   \n",
       "9574         женат / замужем                 0      m  госслужащий     0   \n",
       "10177        женат / замужем                 0      m    сотрудник     0   \n",
       "10365         вдовец / вдова                 2      f    пенсионер     0   \n",
       "10918        женат / замужем                 0      m    пенсионер     0   \n",
       "11109        женат / замужем                 0      f    сотрудник     0   \n",
       "11268       гражданский брак                 1      f    компаньон     0   \n",
       "11617        женат / замужем                 0      f    компаньон     0   \n",
       "12304        женат / замужем                 0      m    сотрудник     0   \n",
       "13786  не женат / не замужем                 4      m    компаньон     0   \n",
       "14357              в разводе                 3      f    компаньон     0   \n",
       "15147              в разводе                 3      f    сотрудник     0   \n",
       "15435       гражданский брак                 1      f    сотрудник     0   \n",
       "16129        женат / замужем                 0      f    сотрудник     1   \n",
       "16265        женат / замужем                 0      m    сотрудник     0   \n",
       "17095        женат / замужем                 0      f    сотрудник     0   \n",
       "17429        женат / замужем                 0      f    компаньон     0   \n",
       "17657        женат / замужем                 0      f    сотрудник     0   \n",
       "18219        женат / замужем                 0      f    сотрудник     0   \n",
       "19100  не женат / не замужем                 4      m    сотрудник     0   \n",
       "19366        женат / замужем                 0      m    сотрудник     0   \n",
       "19417              в разводе                 3      f    пенсионер     0   \n",
       "20393  не женат / не замужем                 4      f    пенсионер     0   \n",
       "20717        женат / замужем                 0      f    сотрудник     0   \n",
       "21140        женат / замужем                 0      f    компаньон     0   \n",
       "\n",
       "       total_income                                 purpose  employed_years  \n",
       "291          102816                  профильное образование              12  \n",
       "705          137882                 приобретение автомобиля               2  \n",
       "742           64268              дополнительное образование               8  \n",
       "800           86293              дополнительное образование              50  \n",
       "941               0            на покупку своего автомобиля              50  \n",
       "1363          69550                  профильное образование               3  \n",
       "1929         109121                           покупка жилья               4  \n",
       "2073         162638                           покупка жилья               6  \n",
       "3814         131892                   на проведение свадьбы               8  \n",
       "4201         226375         операции со своей недвижимостью               2  \n",
       "4402         163264                    покупка недвижимости              50  \n",
       "4542         160544                             образование               4  \n",
       "5272         278708                    покупка недвижимости               3  \n",
       "6013         143008  строительство собственной недвижимости               3  \n",
       "6385          36052                             образование              50  \n",
       "7190         184315                 приобретение автомобиля              16  \n",
       "7278         146928   операции с коммерческой недвижимостью               1  \n",
       "7615              0                             образование               0  \n",
       "7685         159676        строительство жилой недвижимости               8  \n",
       "8229         138809                    покупка недвижимости               4  \n",
       "8251          54412                         свой автомобиль               8  \n",
       "8561         145577                            ремонт жилью               0  \n",
       "9565         126754                операции с недвижимостью               7  \n",
       "9574         303137   получение дополнительного образования               7  \n",
       "10177        310367                   получение образования               4  \n",
       "10365        170762        строительство жилой недвижимости              50  \n",
       "10918        170762                    покупка своего жилья              50  \n",
       "11109        219874                       операции с жильем               9  \n",
       "11268        321603                   на покупку автомобиля               2  \n",
       "11617        164591                 покупка жилья для сдачи               1  \n",
       "12304        315006                            недвижимость              23  \n",
       "13786             0                              автомобиль               0  \n",
       "14357         92257              покупка жилой недвижимости               0  \n",
       "15147        110990                         свой автомобиль              26  \n",
       "15435         98127                         сыграть свадьбу               9  \n",
       "16129        149641                              автомобиль               1  \n",
       "16265        111984                           покупка жилья               7  \n",
       "17095        182543      на покупку подержанного автомобиля               7  \n",
       "17429        214814                                   жилье               2  \n",
       "17657        122105         операции со своей недвижимостью              12  \n",
       "18219        128362                      высшее образование               9  \n",
       "19100        122205        строительство жилой недвижимости               1  \n",
       "19366        155588        сделка с подержанным автомобилем               1  \n",
       "19417         52872                              автомобили              50  \n",
       "20393        116521                операции с недвижимостью              50  \n",
       "20717        137405              покупка жилой недвижимости               1  \n",
       "21140        169562         операции со своей недвижимостью               3  "
      ]
     },
     "execution_count": 294,
     "metadata": {},
     "output_type": "execute_result"
    }
   ],
   "source": [
    "# проверим строки, в которых кол-во детей -1 и 20 \n",
    "df[df['children'] == -1]"
   ]
  },
  {
   "cell_type": "code",
   "execution_count": 295,
   "metadata": {},
   "outputs": [
    {
     "data": {
      "text/html": [
       "<div>\n",
       "<style scoped>\n",
       "    .dataframe tbody tr th:only-of-type {\n",
       "        vertical-align: middle;\n",
       "    }\n",
       "\n",
       "    .dataframe tbody tr th {\n",
       "        vertical-align: top;\n",
       "    }\n",
       "\n",
       "    .dataframe thead th {\n",
       "        text-align: right;\n",
       "    }\n",
       "</style>\n",
       "<table border=\"1\" class=\"dataframe\">\n",
       "  <thead>\n",
       "    <tr style=\"text-align: right;\">\n",
       "      <th></th>\n",
       "      <th>children</th>\n",
       "      <th>dob_years</th>\n",
       "      <th>education</th>\n",
       "      <th>education_id</th>\n",
       "      <th>family_status</th>\n",
       "      <th>family_status_id</th>\n",
       "      <th>gender</th>\n",
       "      <th>income_type</th>\n",
       "      <th>debt</th>\n",
       "      <th>total_income</th>\n",
       "      <th>purpose</th>\n",
       "      <th>employed_years</th>\n",
       "    </tr>\n",
       "  </thead>\n",
       "  <tbody>\n",
       "    <tr>\n",
       "      <td>606</td>\n",
       "      <td>20</td>\n",
       "      <td>21</td>\n",
       "      <td>среднее</td>\n",
       "      <td>1</td>\n",
       "      <td>женат / замужем</td>\n",
       "      <td>0</td>\n",
       "      <td>m</td>\n",
       "      <td>компаньон</td>\n",
       "      <td>0</td>\n",
       "      <td>145334</td>\n",
       "      <td>покупка жилья</td>\n",
       "      <td>2</td>\n",
       "    </tr>\n",
       "    <tr>\n",
       "      <td>720</td>\n",
       "      <td>20</td>\n",
       "      <td>44</td>\n",
       "      <td>среднее</td>\n",
       "      <td>1</td>\n",
       "      <td>женат / замужем</td>\n",
       "      <td>0</td>\n",
       "      <td>f</td>\n",
       "      <td>компаньон</td>\n",
       "      <td>0</td>\n",
       "      <td>112998</td>\n",
       "      <td>покупка недвижимости</td>\n",
       "      <td>2</td>\n",
       "    </tr>\n",
       "    <tr>\n",
       "      <td>1074</td>\n",
       "      <td>20</td>\n",
       "      <td>56</td>\n",
       "      <td>среднее</td>\n",
       "      <td>1</td>\n",
       "      <td>женат / замужем</td>\n",
       "      <td>0</td>\n",
       "      <td>f</td>\n",
       "      <td>сотрудник</td>\n",
       "      <td>1</td>\n",
       "      <td>229518</td>\n",
       "      <td>получение образования</td>\n",
       "      <td>9</td>\n",
       "    </tr>\n",
       "    <tr>\n",
       "      <td>2510</td>\n",
       "      <td>20</td>\n",
       "      <td>59</td>\n",
       "      <td>высшее</td>\n",
       "      <td>0</td>\n",
       "      <td>вдовец / вдова</td>\n",
       "      <td>2</td>\n",
       "      <td>f</td>\n",
       "      <td>сотрудник</td>\n",
       "      <td>0</td>\n",
       "      <td>264474</td>\n",
       "      <td>операции с коммерческой недвижимостью</td>\n",
       "      <td>7</td>\n",
       "    </tr>\n",
       "    <tr>\n",
       "      <td>2941</td>\n",
       "      <td>20</td>\n",
       "      <td>0</td>\n",
       "      <td>среднее</td>\n",
       "      <td>1</td>\n",
       "      <td>женат / замужем</td>\n",
       "      <td>0</td>\n",
       "      <td>f</td>\n",
       "      <td>сотрудник</td>\n",
       "      <td>0</td>\n",
       "      <td>199739</td>\n",
       "      <td>на покупку автомобиля</td>\n",
       "      <td>5</td>\n",
       "    </tr>\n",
       "  </tbody>\n",
       "</table>\n",
       "</div>"
      ],
      "text/plain": [
       "      children  dob_years education  education_id    family_status  \\\n",
       "606         20         21   среднее             1  женат / замужем   \n",
       "720         20         44   среднее             1  женат / замужем   \n",
       "1074        20         56   среднее             1  женат / замужем   \n",
       "2510        20         59    высшее             0   вдовец / вдова   \n",
       "2941        20          0   среднее             1  женат / замужем   \n",
       "\n",
       "      family_status_id gender income_type  debt  total_income  \\\n",
       "606                  0      m   компаньон     0        145334   \n",
       "720                  0      f   компаньон     0        112998   \n",
       "1074                 0      f   сотрудник     1        229518   \n",
       "2510                 2      f   сотрудник     0        264474   \n",
       "2941                 0      f   сотрудник     0        199739   \n",
       "\n",
       "                                    purpose  employed_years  \n",
       "606                           покупка жилья               2  \n",
       "720                    покупка недвижимости               2  \n",
       "1074                  получение образования               9  \n",
       "2510  операции с коммерческой недвижимостью               7  \n",
       "2941                  на покупку автомобиля               5  "
      ]
     },
     "execution_count": 295,
     "metadata": {},
     "output_type": "execute_result"
    }
   ],
   "source": [
    "df[df['children'] == 20].head()"
   ]
  },
  {
   "cell_type": "markdown",
   "metadata": {},
   "source": [
    "20 детей явная опечатка, т.к. в первой же строке мы видим человека 21 лет. \n",
    "Вопрос нам поставлен как влияет ли наличие детей на возврат кредита, а не их кол-во, поэтому оставим 20. А с -1 сложнее, т.к. не понятно как интерпритировать: как 1 или 0, а это уже может исказить итоговый ответ. \n",
    "Я решил так же оставить все как есть,  но при ответе на вопрос эти строки с -1 не учитывать."
   ]
  },
  {
   "cell_type": "code",
   "execution_count": 296,
   "metadata": {},
   "outputs": [
    {
     "data": {
      "text/plain": [
       "71"
      ]
     },
     "execution_count": 296,
     "metadata": {},
     "output_type": "execute_result"
    }
   ],
   "source": [
    "# появились ли еще дупликаты\n",
    "df.duplicated().sum()"
   ]
  },
  {
   "cell_type": "code",
   "execution_count": 297,
   "metadata": {},
   "outputs": [],
   "source": [
    "# удаляем дупликаты, сбрасываем индексы\n",
    "df = df.drop_duplicates().reset_index(drop=True)"
   ]
  },
  {
   "cell_type": "code",
   "execution_count": 298,
   "metadata": {},
   "outputs": [
    {
     "data": {
      "text/plain": [
       "0"
      ]
     },
     "execution_count": 298,
     "metadata": {},
     "output_type": "execute_result"
    }
   ],
   "source": [
    "# еще раз проверим\n",
    "df.duplicated().sum()"
   ]
  },
  {
   "cell_type": "markdown",
   "metadata": {},
   "source": [
    "**Вывод**\n",
    "\n",
    "Несмотря на то, что колонки с уникальным id человека в данных нет, мы обнаружили и удалили 54 дупликатов, так как маловероятно полное совпадение строк, в особенности числовых значений дохода и стажа. Так же выявлены 17 неявных дупликатов, обусловленные записью строк в разных регистрах. Это может быть вызвано отсутсвием единых требований к поступающим данным."
   ]
  },
  {
   "cell_type": "markdown",
   "metadata": {},
   "source": [
    "### Лемматизация"
   ]
  },
  {
   "cell_type": "code",
   "execution_count": 299,
   "metadata": {},
   "outputs": [
    {
     "data": {
      "text/plain": [
       "свадьба                                   791\n",
       "на проведение свадьбы                     768\n",
       "сыграть свадьбу                           765\n",
       "операции с недвижимостью                  675\n",
       "покупка коммерческой недвижимости         661\n",
       "операции с жильем                         652\n",
       "покупка жилья для сдачи                   651\n",
       "операции с коммерческой недвижимостью     650\n",
       "жилье                                     646\n",
       "покупка жилья                             646\n",
       "покупка жилья для семьи                   638\n",
       "строительство собственной недвижимости    635\n",
       "недвижимость                              633\n",
       "операции со своей недвижимостью           627\n",
       "строительство жилой недвижимости          624\n",
       "покупка недвижимости                      621\n",
       "покупка своего жилья                      620\n",
       "строительство недвижимости                619\n",
       "ремонт жилью                              607\n",
       "покупка жилой недвижимости                606\n",
       "на покупку своего автомобиля              505\n",
       "заняться высшим образованием              496\n",
       "автомобиль                                494\n",
       "сделка с подержанным автомобилем          486\n",
       "на покупку подержанного автомобиля        478\n",
       "автомобили                                478\n",
       "свой автомобиль                           478\n",
       "на покупку автомобиля                     471\n",
       "приобретение автомобиля                   461\n",
       "дополнительное образование                460\n",
       "сделка с автомобилем                      455\n",
       "высшее образование                        452\n",
       "образование                               447\n",
       "получение дополнительного образования     446\n",
       "получение образования                     442\n",
       "профильное образование                    436\n",
       "получение высшего образования             426\n",
       "заняться образованием                     408\n",
       "Name: purpose, dtype: int64"
      ]
     },
     "execution_count": 299,
     "metadata": {},
     "output_type": "execute_result"
    }
   ],
   "source": [
    "# посмотрим на цели кредита\n",
    "df['purpose'].value_counts()"
   ]
  },
  {
   "cell_type": "code",
   "execution_count": 300,
   "metadata": {},
   "outputs": [
    {
     "data": {
      "text/html": [
       "<div>\n",
       "<style scoped>\n",
       "    .dataframe tbody tr th:only-of-type {\n",
       "        vertical-align: middle;\n",
       "    }\n",
       "\n",
       "    .dataframe tbody tr th {\n",
       "        vertical-align: top;\n",
       "    }\n",
       "\n",
       "    .dataframe thead th {\n",
       "        text-align: right;\n",
       "    }\n",
       "</style>\n",
       "<table border=\"1\" class=\"dataframe\">\n",
       "  <thead>\n",
       "    <tr style=\"text-align: right;\">\n",
       "      <th></th>\n",
       "      <th>children</th>\n",
       "      <th>dob_years</th>\n",
       "      <th>education</th>\n",
       "      <th>education_id</th>\n",
       "      <th>family_status</th>\n",
       "      <th>family_status_id</th>\n",
       "      <th>gender</th>\n",
       "      <th>income_type</th>\n",
       "      <th>debt</th>\n",
       "      <th>total_income</th>\n",
       "      <th>purpose</th>\n",
       "      <th>employed_years</th>\n",
       "      <th>lemmas</th>\n",
       "    </tr>\n",
       "  </thead>\n",
       "  <tbody>\n",
       "    <tr>\n",
       "      <td>0</td>\n",
       "      <td>1</td>\n",
       "      <td>42</td>\n",
       "      <td>высшее</td>\n",
       "      <td>0</td>\n",
       "      <td>женат / замужем</td>\n",
       "      <td>0</td>\n",
       "      <td>f</td>\n",
       "      <td>сотрудник</td>\n",
       "      <td>0</td>\n",
       "      <td>253875</td>\n",
       "      <td>покупка жилья</td>\n",
       "      <td>23</td>\n",
       "      <td>[покупка,  , жилье, \\n]</td>\n",
       "    </tr>\n",
       "    <tr>\n",
       "      <td>1</td>\n",
       "      <td>1</td>\n",
       "      <td>36</td>\n",
       "      <td>среднее</td>\n",
       "      <td>1</td>\n",
       "      <td>женат / замужем</td>\n",
       "      <td>0</td>\n",
       "      <td>f</td>\n",
       "      <td>сотрудник</td>\n",
       "      <td>0</td>\n",
       "      <td>112080</td>\n",
       "      <td>приобретение автомобиля</td>\n",
       "      <td>11</td>\n",
       "      <td>[приобретение,  , автомобиль, \\n]</td>\n",
       "    </tr>\n",
       "    <tr>\n",
       "      <td>2</td>\n",
       "      <td>0</td>\n",
       "      <td>33</td>\n",
       "      <td>среднее</td>\n",
       "      <td>1</td>\n",
       "      <td>женат / замужем</td>\n",
       "      <td>0</td>\n",
       "      <td>m</td>\n",
       "      <td>сотрудник</td>\n",
       "      <td>0</td>\n",
       "      <td>145885</td>\n",
       "      <td>покупка жилья</td>\n",
       "      <td>15</td>\n",
       "      <td>[покупка,  , жилье, \\n]</td>\n",
       "    </tr>\n",
       "    <tr>\n",
       "      <td>3</td>\n",
       "      <td>3</td>\n",
       "      <td>32</td>\n",
       "      <td>среднее</td>\n",
       "      <td>1</td>\n",
       "      <td>женат / замужем</td>\n",
       "      <td>0</td>\n",
       "      <td>m</td>\n",
       "      <td>сотрудник</td>\n",
       "      <td>0</td>\n",
       "      <td>267628</td>\n",
       "      <td>дополнительное образование</td>\n",
       "      <td>11</td>\n",
       "      <td>[дополнительный,  , образование, \\n]</td>\n",
       "    </tr>\n",
       "    <tr>\n",
       "      <td>4</td>\n",
       "      <td>0</td>\n",
       "      <td>53</td>\n",
       "      <td>среднее</td>\n",
       "      <td>1</td>\n",
       "      <td>гражданский брак</td>\n",
       "      <td>1</td>\n",
       "      <td>f</td>\n",
       "      <td>пенсионер</td>\n",
       "      <td>0</td>\n",
       "      <td>158616</td>\n",
       "      <td>сыграть свадьбу</td>\n",
       "      <td>50</td>\n",
       "      <td>[сыграть,  , свадьба, \\n]</td>\n",
       "    </tr>\n",
       "  </tbody>\n",
       "</table>\n",
       "</div>"
      ],
      "text/plain": [
       "   children  dob_years education  education_id     family_status  \\\n",
       "0         1         42    высшее             0   женат / замужем   \n",
       "1         1         36   среднее             1   женат / замужем   \n",
       "2         0         33   среднее             1   женат / замужем   \n",
       "3         3         32   среднее             1   женат / замужем   \n",
       "4         0         53   среднее             1  гражданский брак   \n",
       "\n",
       "   family_status_id gender income_type  debt  total_income  \\\n",
       "0                 0      f   сотрудник     0        253875   \n",
       "1                 0      f   сотрудник     0        112080   \n",
       "2                 0      m   сотрудник     0        145885   \n",
       "3                 0      m   сотрудник     0        267628   \n",
       "4                 1      f   пенсионер     0        158616   \n",
       "\n",
       "                      purpose  employed_years  \\\n",
       "0               покупка жилья              23   \n",
       "1     приобретение автомобиля              11   \n",
       "2               покупка жилья              15   \n",
       "3  дополнительное образование              11   \n",
       "4             сыграть свадьбу              50   \n",
       "\n",
       "                                 lemmas  \n",
       "0               [покупка,  , жилье, \\n]  \n",
       "1     [приобретение,  , автомобиль, \\n]  \n",
       "2               [покупка,  , жилье, \\n]  \n",
       "3  [дополнительный,  , образование, \\n]  \n",
       "4             [сыграть,  , свадьба, \\n]  "
      ]
     },
     "execution_count": 300,
     "metadata": {},
     "output_type": "execute_result"
    }
   ],
   "source": [
    "# создадим столбец со списком лем от столбца с целью кредита\n",
    "df['lemmas'] = df['purpose'].apply(lambda text: m.lemmatize(text))\n",
    "df.head()"
   ]
  },
  {
   "cell_type": "markdown",
   "metadata": {},
   "source": [
    "**Вывод**"
   ]
  },
  {
   "cell_type": "markdown",
   "metadata": {},
   "source": [
    "Провели лемматизацию столбца цели кредита, который поможет нам разделить их на 4 категории: образование, недвижимость, автомобиль, образование."
   ]
  },
  {
   "cell_type": "markdown",
   "metadata": {},
   "source": [
    "### Категоризация данных"
   ]
  },
  {
   "cell_type": "code",
   "execution_count": 301,
   "metadata": {},
   "outputs": [],
   "source": [
    "# ф-ция принимает список лем и возвращает ключевое слово для организации категорий\n",
    "def purpose_category(lemma):\n",
    "    if 'образование' in lemma:\n",
    "        return 'образование'\n",
    "    if 'автомобиль' in lemma:\n",
    "        return 'автомобиль'\n",
    "    if 'свадьба' in lemma:\n",
    "        return 'свадьба'\n",
    "    if 'жилье' or 'недвижимость' in lemma:\n",
    "        return 'недвижимость'\n",
    "    return 'другое'"
   ]
  },
  {
   "cell_type": "code",
   "execution_count": 302,
   "metadata": {},
   "outputs": [
    {
     "data": {
      "text/plain": [
       "недвижимость    10811\n",
       "автомобиль       4306\n",
       "образование      4013\n",
       "свадьба          2324\n",
       "Name: purpose_category, dtype: int64"
      ]
     },
     "execution_count": 302,
     "metadata": {},
     "output_type": "execute_result"
    }
   ],
   "source": [
    "df[\"purpose_category\"] = df['lemmas'].apply(purpose_category)\n",
    "df['purpose_category'].value_counts()"
   ]
  },
  {
   "cell_type": "code",
   "execution_count": 303,
   "metadata": {},
   "outputs": [
    {
     "data": {
      "text/plain": [
       "135781.0"
      ]
     },
     "execution_count": 303,
     "metadata": {},
     "output_type": "execute_result"
    }
   ],
   "source": [
    "# медиана\n",
    "df['total_income'].median()"
   ]
  },
  {
   "cell_type": "code",
   "execution_count": 304,
   "metadata": {},
   "outputs": [
    {
     "data": {
      "text/plain": [
       "151010.50083900438"
      ]
     },
     "execution_count": 304,
     "metadata": {},
     "output_type": "execute_result"
    }
   ],
   "source": [
    "# средняя\n",
    "df['total_income'].mean()"
   ]
  },
  {
   "cell_type": "code",
   "execution_count": 305,
   "metadata": {},
   "outputs": [
    {
     "data": {
      "text/plain": [
       "20667"
      ]
     },
     "execution_count": 305,
     "metadata": {},
     "output_type": "execute_result"
    }
   ],
   "source": [
    "# минимум, если не считать 0\n",
    "df[df['total_income'] != 0]['total_income'].min()"
   ]
  },
  {
   "cell_type": "code",
   "execution_count": 306,
   "metadata": {},
   "outputs": [
    {
     "data": {
      "text/plain": [
       "(array([1.7759e+04, 3.3720e+03, 2.5300e+02, 4.0000e+01, 1.6000e+01,\n",
       "        6.0000e+00, 2.0000e+00, 4.0000e+00, 0.0000e+00, 2.0000e+00]),\n",
       " array([      0. ,  226560.4,  453120.8,  679681.2,  906241.6, 1132802. ,\n",
       "        1359362.4, 1585922.8, 1812483.2, 2039043.6, 2265604. ]),\n",
       " <a list of 10 Patch objects>)"
      ]
     },
     "execution_count": 306,
     "metadata": {},
     "output_type": "execute_result"
    },
    {
     "data": {
      "image/png": "[encoded data removed]",
      "text/plain": [
       "<Figure size 432x288 with 1 Axes>"
      ]
     },
     "metadata": {
      "needs_background": "light"
     },
     "output_type": "display_data"
    }
   ],
   "source": [
    "# распределение по доходу, похоже есть люди с доходом 2 млн, которые делают гистограмму менее информативной\n",
    "plt.hist(df['total_income'])"
   ]
  },
  {
   "cell_type": "code",
   "execution_count": 307,
   "metadata": {},
   "outputs": [
    {
     "data": {
      "text/plain": [
       "<matplotlib.axes._subplots.AxesSubplot at 0x7f5cb8cd3ed0>"
      ]
     },
     "execution_count": 307,
     "metadata": {},
     "output_type": "execute_result"
    },
    {
     "data": {
      "image/png": "[encoded data removed]",
      "text/plain": [
       "<Figure size 432x288 with 1 Axes>"
      ]
     },
     "metadata": {
      "needs_background": "light"
     },
     "output_type": "display_data"
    }
   ],
   "source": [
    "sb.boxplot(df['total_income'])"
   ]
  },
  {
   "cell_type": "code",
   "execution_count": 308,
   "metadata": {},
   "outputs": [
    {
     "data": {
      "text/plain": [
       "(array([2474., 4091., 5702., 4120., 2252., 1333.,  623.,  330.,  197.,\n",
       "         110.]),\n",
       " array([     0. ,  49992.4,  99984.8, 149977.2, 199969.6, 249962. ,\n",
       "        299954.4, 349946.8, 399939.2, 449931.6, 499924. ]),\n",
       " <a list of 10 Patch objects>)"
      ]
     },
     "execution_count": 308,
     "metadata": {},
     "output_type": "execute_result"
    },
    {
     "data": {
      "image/png": "[encoded data removed]",
      "text/plain": [
       "<Figure size 432x288 with 1 Axes>"
      ]
     },
     "metadata": {
      "needs_background": "light"
     },
     "output_type": "display_data"
    }
   ],
   "source": [
    "# доход до 500 000\n",
    "plt.hist(df[df['total_income'] < 500000]['total_income'])"
   ]
  },
  {
   "cell_type": "code",
   "execution_count": 309,
   "metadata": {},
   "outputs": [],
   "source": [
    "# делим на 3 равные по кол-ву категорий дохода, исключая при этом данныые с доходом = 0 (бывший Nan), т.к. мы не знаем к какой \n",
    "# категории дохода они реально относятся. \n",
    "# получатся такие группы низкий(20666.999, 116139.0] < средний(116139.0, 179528.0] < высокий(179528.0, 2265604.0]\n",
    "df[\"income_category\"] = pd.qcut(df[df['total_income'] != 0]['total_income'], 3,labels=[\"низкий\", \"средний\", \"высокий\"])"
   ]
  },
  {
   "cell_type": "code",
   "execution_count": 310,
   "metadata": {},
   "outputs": [
    {
     "data": {
      "text/plain": [
       "средний    6451\n",
       "низкий     6451\n",
       "высокий    6449\n",
       "Name: income_category, dtype: int64"
      ]
     },
     "execution_count": 310,
     "metadata": {},
     "output_type": "execute_result"
    }
   ],
   "source": [
    "# их равное кол-во\n",
    "df['income_category'].value_counts()"
   ]
  },
  {
   "cell_type": "code",
   "execution_count": 311,
   "metadata": {
    "scrolled": true
   },
   "outputs": [
    {
     "data": {
      "text/html": [
       "<div>\n",
       "<style scoped>\n",
       "    .dataframe tbody tr th:only-of-type {\n",
       "        vertical-align: middle;\n",
       "    }\n",
       "\n",
       "    .dataframe tbody tr th {\n",
       "        vertical-align: top;\n",
       "    }\n",
       "\n",
       "    .dataframe thead th {\n",
       "        text-align: right;\n",
       "    }\n",
       "</style>\n",
       "<table border=\"1\" class=\"dataframe\">\n",
       "  <thead>\n",
       "    <tr style=\"text-align: right;\">\n",
       "      <th></th>\n",
       "      <th>children</th>\n",
       "      <th>dob_years</th>\n",
       "      <th>education</th>\n",
       "      <th>education_id</th>\n",
       "      <th>family_status</th>\n",
       "      <th>family_status_id</th>\n",
       "      <th>gender</th>\n",
       "      <th>income_type</th>\n",
       "      <th>debt</th>\n",
       "      <th>total_income</th>\n",
       "      <th>purpose</th>\n",
       "      <th>employed_years</th>\n",
       "      <th>purpose_category</th>\n",
       "      <th>income_category</th>\n",
       "    </tr>\n",
       "  </thead>\n",
       "  <tbody>\n",
       "    <tr>\n",
       "      <td>0</td>\n",
       "      <td>1</td>\n",
       "      <td>42</td>\n",
       "      <td>высшее</td>\n",
       "      <td>0</td>\n",
       "      <td>женат / замужем</td>\n",
       "      <td>0</td>\n",
       "      <td>f</td>\n",
       "      <td>сотрудник</td>\n",
       "      <td>0</td>\n",
       "      <td>253875</td>\n",
       "      <td>покупка жилья</td>\n",
       "      <td>23</td>\n",
       "      <td>недвижимость</td>\n",
       "      <td>высокий</td>\n",
       "    </tr>\n",
       "    <tr>\n",
       "      <td>1</td>\n",
       "      <td>1</td>\n",
       "      <td>36</td>\n",
       "      <td>среднее</td>\n",
       "      <td>1</td>\n",
       "      <td>женат / замужем</td>\n",
       "      <td>0</td>\n",
       "      <td>f</td>\n",
       "      <td>сотрудник</td>\n",
       "      <td>0</td>\n",
       "      <td>112080</td>\n",
       "      <td>приобретение автомобиля</td>\n",
       "      <td>11</td>\n",
       "      <td>автомобиль</td>\n",
       "      <td>низкий</td>\n",
       "    </tr>\n",
       "    <tr>\n",
       "      <td>2</td>\n",
       "      <td>0</td>\n",
       "      <td>33</td>\n",
       "      <td>среднее</td>\n",
       "      <td>1</td>\n",
       "      <td>женат / замужем</td>\n",
       "      <td>0</td>\n",
       "      <td>m</td>\n",
       "      <td>сотрудник</td>\n",
       "      <td>0</td>\n",
       "      <td>145885</td>\n",
       "      <td>покупка жилья</td>\n",
       "      <td>15</td>\n",
       "      <td>недвижимость</td>\n",
       "      <td>средний</td>\n",
       "    </tr>\n",
       "    <tr>\n",
       "      <td>3</td>\n",
       "      <td>3</td>\n",
       "      <td>32</td>\n",
       "      <td>среднее</td>\n",
       "      <td>1</td>\n",
       "      <td>женат / замужем</td>\n",
       "      <td>0</td>\n",
       "      <td>m</td>\n",
       "      <td>сотрудник</td>\n",
       "      <td>0</td>\n",
       "      <td>267628</td>\n",
       "      <td>дополнительное образование</td>\n",
       "      <td>11</td>\n",
       "      <td>образование</td>\n",
       "      <td>высокий</td>\n",
       "    </tr>\n",
       "    <tr>\n",
       "      <td>4</td>\n",
       "      <td>0</td>\n",
       "      <td>53</td>\n",
       "      <td>среднее</td>\n",
       "      <td>1</td>\n",
       "      <td>гражданский брак</td>\n",
       "      <td>1</td>\n",
       "      <td>f</td>\n",
       "      <td>пенсионер</td>\n",
       "      <td>0</td>\n",
       "      <td>158616</td>\n",
       "      <td>сыграть свадьбу</td>\n",
       "      <td>50</td>\n",
       "      <td>свадьба</td>\n",
       "      <td>средний</td>\n",
       "    </tr>\n",
       "    <tr>\n",
       "      <td>...</td>\n",
       "      <td>...</td>\n",
       "      <td>...</td>\n",
       "      <td>...</td>\n",
       "      <td>...</td>\n",
       "      <td>...</td>\n",
       "      <td>...</td>\n",
       "      <td>...</td>\n",
       "      <td>...</td>\n",
       "      <td>...</td>\n",
       "      <td>...</td>\n",
       "      <td>...</td>\n",
       "      <td>...</td>\n",
       "      <td>...</td>\n",
       "      <td>...</td>\n",
       "    </tr>\n",
       "    <tr>\n",
       "      <td>21449</td>\n",
       "      <td>1</td>\n",
       "      <td>43</td>\n",
       "      <td>среднее</td>\n",
       "      <td>1</td>\n",
       "      <td>гражданский брак</td>\n",
       "      <td>1</td>\n",
       "      <td>f</td>\n",
       "      <td>компаньон</td>\n",
       "      <td>0</td>\n",
       "      <td>224791</td>\n",
       "      <td>операции с жильем</td>\n",
       "      <td>12</td>\n",
       "      <td>недвижимость</td>\n",
       "      <td>высокий</td>\n",
       "    </tr>\n",
       "    <tr>\n",
       "      <td>21450</td>\n",
       "      <td>0</td>\n",
       "      <td>67</td>\n",
       "      <td>среднее</td>\n",
       "      <td>1</td>\n",
       "      <td>женат / замужем</td>\n",
       "      <td>0</td>\n",
       "      <td>f</td>\n",
       "      <td>пенсионер</td>\n",
       "      <td>0</td>\n",
       "      <td>155999</td>\n",
       "      <td>сделка с автомобилем</td>\n",
       "      <td>50</td>\n",
       "      <td>автомобиль</td>\n",
       "      <td>средний</td>\n",
       "    </tr>\n",
       "    <tr>\n",
       "      <td>21451</td>\n",
       "      <td>1</td>\n",
       "      <td>38</td>\n",
       "      <td>среднее</td>\n",
       "      <td>1</td>\n",
       "      <td>гражданский брак</td>\n",
       "      <td>1</td>\n",
       "      <td>m</td>\n",
       "      <td>сотрудник</td>\n",
       "      <td>1</td>\n",
       "      <td>89672</td>\n",
       "      <td>недвижимость</td>\n",
       "      <td>5</td>\n",
       "      <td>недвижимость</td>\n",
       "      <td>низкий</td>\n",
       "    </tr>\n",
       "    <tr>\n",
       "      <td>21452</td>\n",
       "      <td>3</td>\n",
       "      <td>38</td>\n",
       "      <td>среднее</td>\n",
       "      <td>1</td>\n",
       "      <td>женат / замужем</td>\n",
       "      <td>0</td>\n",
       "      <td>m</td>\n",
       "      <td>сотрудник</td>\n",
       "      <td>1</td>\n",
       "      <td>244093</td>\n",
       "      <td>на покупку своего автомобиля</td>\n",
       "      <td>8</td>\n",
       "      <td>автомобиль</td>\n",
       "      <td>высокий</td>\n",
       "    </tr>\n",
       "    <tr>\n",
       "      <td>21453</td>\n",
       "      <td>2</td>\n",
       "      <td>40</td>\n",
       "      <td>среднее</td>\n",
       "      <td>1</td>\n",
       "      <td>женат / замужем</td>\n",
       "      <td>0</td>\n",
       "      <td>f</td>\n",
       "      <td>сотрудник</td>\n",
       "      <td>0</td>\n",
       "      <td>82047</td>\n",
       "      <td>на покупку автомобиля</td>\n",
       "      <td>5</td>\n",
       "      <td>автомобиль</td>\n",
       "      <td>низкий</td>\n",
       "    </tr>\n",
       "  </tbody>\n",
       "</table>\n",
       "<p>21454 rows × 14 columns</p>\n",
       "</div>"
      ],
      "text/plain": [
       "       children  dob_years education  education_id     family_status  \\\n",
       "0             1         42    высшее             0   женат / замужем   \n",
       "1             1         36   среднее             1   женат / замужем   \n",
       "2             0         33   среднее             1   женат / замужем   \n",
       "3             3         32   среднее             1   женат / замужем   \n",
       "4             0         53   среднее             1  гражданский брак   \n",
       "...         ...        ...       ...           ...               ...   \n",
       "21449         1         43   среднее             1  гражданский брак   \n",
       "21450         0         67   среднее             1   женат / замужем   \n",
       "21451         1         38   среднее             1  гражданский брак   \n",
       "21452         3         38   среднее             1   женат / замужем   \n",
       "21453         2         40   среднее             1   женат / замужем   \n",
       "\n",
       "       family_status_id gender income_type  debt  total_income  \\\n",
       "0                     0      f   сотрудник     0        253875   \n",
       "1                     0      f   сотрудник     0        112080   \n",
       "2                     0      m   сотрудник     0        145885   \n",
       "3                     0      m   сотрудник     0        267628   \n",
       "4                     1      f   пенсионер     0        158616   \n",
       "...                 ...    ...         ...   ...           ...   \n",
       "21449                 1      f   компаньон     0        224791   \n",
       "21450                 0      f   пенсионер     0        155999   \n",
       "21451                 1      m   сотрудник     1         89672   \n",
       "21452                 0      m   сотрудник     1        244093   \n",
       "21453                 0      f   сотрудник     0         82047   \n",
       "\n",
       "                            purpose  employed_years purpose_category  \\\n",
       "0                     покупка жилья              23     недвижимость   \n",
       "1           приобретение автомобиля              11       автомобиль   \n",
       "2                     покупка жилья              15     недвижимость   \n",
       "3        дополнительное образование              11      образование   \n",
       "4                   сыграть свадьбу              50          свадьба   \n",
       "...                             ...             ...              ...   \n",
       "21449             операции с жильем              12     недвижимость   \n",
       "21450          сделка с автомобилем              50       автомобиль   \n",
       "21451                  недвижимость               5     недвижимость   \n",
       "21452  на покупку своего автомобиля               8       автомобиль   \n",
       "21453         на покупку автомобиля               5       автомобиль   \n",
       "\n",
       "      income_category  \n",
       "0             высокий  \n",
       "1              низкий  \n",
       "2             средний  \n",
       "3             высокий  \n",
       "4             средний  \n",
       "...               ...  \n",
       "21449         высокий  \n",
       "21450         средний  \n",
       "21451          низкий  \n",
       "21452         высокий  \n",
       "21453          низкий  \n",
       "\n",
       "[21454 rows x 14 columns]"
      ]
     },
     "execution_count": 311,
     "metadata": {},
     "output_type": "execute_result"
    }
   ],
   "source": [
    "# удалим столбец lemmas\n",
    "df = df.drop(['lemmas'], axis=1)\n",
    "df"
   ]
  },
  {
   "cell_type": "code",
   "execution_count": 312,
   "metadata": {},
   "outputs": [
    {
     "data": {
      "text/html": [
       "<div>\n",
       "<style scoped>\n",
       "    .dataframe tbody tr th:only-of-type {\n",
       "        vertical-align: middle;\n",
       "    }\n",
       "\n",
       "    .dataframe tbody tr th {\n",
       "        vertical-align: top;\n",
       "    }\n",
       "\n",
       "    .dataframe thead th {\n",
       "        text-align: right;\n",
       "    }\n",
       "</style>\n",
       "<table border=\"1\" class=\"dataframe\">\n",
       "  <thead>\n",
       "    <tr style=\"text-align: right;\">\n",
       "      <th></th>\n",
       "      <th>children</th>\n",
       "      <th>dob_years</th>\n",
       "      <th>education</th>\n",
       "      <th>education_id</th>\n",
       "      <th>family_status</th>\n",
       "      <th>family_status_id</th>\n",
       "      <th>gender</th>\n",
       "      <th>income_type</th>\n",
       "      <th>debt</th>\n",
       "      <th>total_income</th>\n",
       "      <th>purpose</th>\n",
       "      <th>employed_years</th>\n",
       "      <th>purpose_category</th>\n",
       "      <th>income_category</th>\n",
       "      <th>have_children</th>\n",
       "    </tr>\n",
       "  </thead>\n",
       "  <tbody>\n",
       "    <tr>\n",
       "      <td>0</td>\n",
       "      <td>1</td>\n",
       "      <td>42</td>\n",
       "      <td>высшее</td>\n",
       "      <td>0</td>\n",
       "      <td>женат / замужем</td>\n",
       "      <td>0</td>\n",
       "      <td>f</td>\n",
       "      <td>сотрудник</td>\n",
       "      <td>0</td>\n",
       "      <td>253875</td>\n",
       "      <td>покупка жилья</td>\n",
       "      <td>23</td>\n",
       "      <td>недвижимость</td>\n",
       "      <td>высокий</td>\n",
       "      <td>True</td>\n",
       "    </tr>\n",
       "    <tr>\n",
       "      <td>1</td>\n",
       "      <td>1</td>\n",
       "      <td>36</td>\n",
       "      <td>среднее</td>\n",
       "      <td>1</td>\n",
       "      <td>женат / замужем</td>\n",
       "      <td>0</td>\n",
       "      <td>f</td>\n",
       "      <td>сотрудник</td>\n",
       "      <td>0</td>\n",
       "      <td>112080</td>\n",
       "      <td>приобретение автомобиля</td>\n",
       "      <td>11</td>\n",
       "      <td>автомобиль</td>\n",
       "      <td>низкий</td>\n",
       "      <td>True</td>\n",
       "    </tr>\n",
       "    <tr>\n",
       "      <td>2</td>\n",
       "      <td>0</td>\n",
       "      <td>33</td>\n",
       "      <td>среднее</td>\n",
       "      <td>1</td>\n",
       "      <td>женат / замужем</td>\n",
       "      <td>0</td>\n",
       "      <td>m</td>\n",
       "      <td>сотрудник</td>\n",
       "      <td>0</td>\n",
       "      <td>145885</td>\n",
       "      <td>покупка жилья</td>\n",
       "      <td>15</td>\n",
       "      <td>недвижимость</td>\n",
       "      <td>средний</td>\n",
       "      <td>False</td>\n",
       "    </tr>\n",
       "    <tr>\n",
       "      <td>3</td>\n",
       "      <td>3</td>\n",
       "      <td>32</td>\n",
       "      <td>среднее</td>\n",
       "      <td>1</td>\n",
       "      <td>женат / замужем</td>\n",
       "      <td>0</td>\n",
       "      <td>m</td>\n",
       "      <td>сотрудник</td>\n",
       "      <td>0</td>\n",
       "      <td>267628</td>\n",
       "      <td>дополнительное образование</td>\n",
       "      <td>11</td>\n",
       "      <td>образование</td>\n",
       "      <td>высокий</td>\n",
       "      <td>True</td>\n",
       "    </tr>\n",
       "    <tr>\n",
       "      <td>4</td>\n",
       "      <td>0</td>\n",
       "      <td>53</td>\n",
       "      <td>среднее</td>\n",
       "      <td>1</td>\n",
       "      <td>гражданский брак</td>\n",
       "      <td>1</td>\n",
       "      <td>f</td>\n",
       "      <td>пенсионер</td>\n",
       "      <td>0</td>\n",
       "      <td>158616</td>\n",
       "      <td>сыграть свадьбу</td>\n",
       "      <td>50</td>\n",
       "      <td>свадьба</td>\n",
       "      <td>средний</td>\n",
       "      <td>False</td>\n",
       "    </tr>\n",
       "  </tbody>\n",
       "</table>\n",
       "</div>"
      ],
      "text/plain": [
       "   children  dob_years education  education_id     family_status  \\\n",
       "0         1         42    высшее             0   женат / замужем   \n",
       "1         1         36   среднее             1   женат / замужем   \n",
       "2         0         33   среднее             1   женат / замужем   \n",
       "3         3         32   среднее             1   женат / замужем   \n",
       "4         0         53   среднее             1  гражданский брак   \n",
       "\n",
       "   family_status_id gender income_type  debt  total_income  \\\n",
       "0                 0      f   сотрудник     0        253875   \n",
       "1                 0      f   сотрудник     0        112080   \n",
       "2                 0      m   сотрудник     0        145885   \n",
       "3                 0      m   сотрудник     0        267628   \n",
       "4                 1      f   пенсионер     0        158616   \n",
       "\n",
       "                      purpose  employed_years purpose_category  \\\n",
       "0               покупка жилья              23     недвижимость   \n",
       "1     приобретение автомобиля              11       автомобиль   \n",
       "2               покупка жилья              15     недвижимость   \n",
       "3  дополнительное образование              11      образование   \n",
       "4             сыграть свадьбу              50          свадьба   \n",
       "\n",
       "  income_category  have_children  \n",
       "0         высокий           True  \n",
       "1          низкий           True  \n",
       "2         средний          False  \n",
       "3         высокий           True  \n",
       "4         средний          False  "
      ]
     },
     "execution_count": 312,
     "metadata": {},
     "output_type": "execute_result"
    }
   ],
   "source": [
    "df['have_children'] = df['children'].apply(lambda n: False if n == 0 else True)\n",
    "df.head()"
   ]
  },
  {
   "cell_type": "markdown",
   "metadata": {},
   "source": [
    "**Вывод**"
   ]
  },
  {
   "cell_type": "markdown",
   "metadata": {},
   "source": [
    "На основе лематизации разделили данные на 4 категории по цели на кредит. По уровню дохода данные были разделены на 3 равночисленные котегории - низкий, средний и высокий, т.к. если бы разделили их по категориям исходя из уровня принятого РОССТАТом, группы сильно различались бы по численности и были бы не релевантны."
   ]
  },
  {
   "cell_type": "markdown",
   "metadata": {},
   "source": [
    "<a id='3'></a>\n",
    "## Шаг 3. Ответьте на вопросы"
   ]
  },
  {
   "cell_type": "markdown",
   "metadata": {},
   "source": [
    "- Есть ли зависимость между наличием детей и возвратом кредита в срок?"
   ]
  },
  {
   "cell_type": "code",
   "execution_count": 313,
   "metadata": {},
   "outputs": [
    {
     "data": {
      "text/html": [
       "<div>\n",
       "<style scoped>\n",
       "    .dataframe tbody tr th:only-of-type {\n",
       "        vertical-align: middle;\n",
       "    }\n",
       "\n",
       "    .dataframe tbody tr th {\n",
       "        vertical-align: top;\n",
       "    }\n",
       "\n",
       "    .dataframe thead th {\n",
       "        text-align: right;\n",
       "    }\n",
       "</style>\n",
       "<table border=\"1\" class=\"dataframe\">\n",
       "  <thead>\n",
       "    <tr style=\"text-align: right;\">\n",
       "      <th>debt</th>\n",
       "      <th>0</th>\n",
       "      <th>1</th>\n",
       "      <th>ratio</th>\n",
       "    </tr>\n",
       "    <tr>\n",
       "      <th>have_children</th>\n",
       "      <th></th>\n",
       "      <th></th>\n",
       "      <th></th>\n",
       "    </tr>\n",
       "  </thead>\n",
       "  <tbody>\n",
       "    <tr>\n",
       "      <td>False</td>\n",
       "      <td>13028</td>\n",
       "      <td>1063</td>\n",
       "      <td>7.543822</td>\n",
       "    </tr>\n",
       "    <tr>\n",
       "      <td>True</td>\n",
       "      <td>6685</td>\n",
       "      <td>678</td>\n",
       "      <td>9.208203</td>\n",
       "    </tr>\n",
       "  </tbody>\n",
       "</table>\n",
       "</div>"
      ],
      "text/plain": [
       "debt               0     1     ratio\n",
       "have_children                       \n",
       "False          13028  1063  7.543822\n",
       "True            6685   678  9.208203"
      ]
     },
     "execution_count": 313,
     "metadata": {},
     "output_type": "execute_result"
    }
   ],
   "source": [
    "children_pivot = df.pivot_table(index='have_children', columns='debt', values='education', aggfunc='count')\n",
    "children_pivot[\"ratio\"] = children_pivot[1] / (children_pivot[0] + children_pivot[1])  * 100\n",
    "children_pivot"
   ]
  },
  {
   "cell_type": "markdown",
   "metadata": {},
   "source": [
    "**Вывод**"
   ]
  },
  {
   "cell_type": "markdown",
   "metadata": {},
   "source": [
    "**При отсутствии детей процент людей имевших задолженность составляет 7,5%. При их наличии же процент должников увеличивается. Причиной этому могут быть возросшие расходы на содержание семьи.**"
   ]
  },
  {
   "cell_type": "markdown",
   "metadata": {},
   "source": [
    "- Есть ли зависимость между семейным положением и возвратом кредита в срок?"
   ]
  },
  {
   "cell_type": "code",
   "execution_count": 314,
   "metadata": {},
   "outputs": [
    {
     "data": {
      "text/html": [
       "<div>\n",
       "<style scoped>\n",
       "    .dataframe tbody tr th:only-of-type {\n",
       "        vertical-align: middle;\n",
       "    }\n",
       "\n",
       "    .dataframe tbody tr th {\n",
       "        vertical-align: top;\n",
       "    }\n",
       "\n",
       "    .dataframe thead th {\n",
       "        text-align: right;\n",
       "    }\n",
       "</style>\n",
       "<table border=\"1\" class=\"dataframe\">\n",
       "  <thead>\n",
       "    <tr style=\"text-align: right;\">\n",
       "      <th></th>\n",
       "      <th>debt</th>\n",
       "      <th>0</th>\n",
       "      <th>1</th>\n",
       "      <th>ratio</th>\n",
       "    </tr>\n",
       "    <tr>\n",
       "      <th>family_status_id</th>\n",
       "      <th>family_status</th>\n",
       "      <th></th>\n",
       "      <th></th>\n",
       "      <th></th>\n",
       "    </tr>\n",
       "  </thead>\n",
       "  <tbody>\n",
       "    <tr>\n",
       "      <td>0</td>\n",
       "      <td>женат / замужем</td>\n",
       "      <td>11408</td>\n",
       "      <td>931</td>\n",
       "      <td>7.545182</td>\n",
       "    </tr>\n",
       "    <tr>\n",
       "      <td>1</td>\n",
       "      <td>гражданский брак</td>\n",
       "      <td>3763</td>\n",
       "      <td>388</td>\n",
       "      <td>9.347145</td>\n",
       "    </tr>\n",
       "    <tr>\n",
       "      <td>2</td>\n",
       "      <td>вдовец / вдова</td>\n",
       "      <td>896</td>\n",
       "      <td>63</td>\n",
       "      <td>6.569343</td>\n",
       "    </tr>\n",
       "    <tr>\n",
       "      <td>3</td>\n",
       "      <td>в разводе</td>\n",
       "      <td>1110</td>\n",
       "      <td>85</td>\n",
       "      <td>7.112971</td>\n",
       "    </tr>\n",
       "    <tr>\n",
       "      <td>4</td>\n",
       "      <td>не женат / не замужем</td>\n",
       "      <td>2536</td>\n",
       "      <td>274</td>\n",
       "      <td>9.750890</td>\n",
       "    </tr>\n",
       "  </tbody>\n",
       "</table>\n",
       "</div>"
      ],
      "text/plain": [
       "debt                                        0    1     ratio\n",
       "family_status_id family_status                              \n",
       "0                женат / замужем        11408  931  7.545182\n",
       "1                гражданский брак        3763  388  9.347145\n",
       "2                вдовец / вдова           896   63  6.569343\n",
       "3                в разводе               1110   85  7.112971\n",
       "4                не женат / не замужем   2536  274  9.750890"
      ]
     },
     "execution_count": 314,
     "metadata": {},
     "output_type": "execute_result"
    }
   ],
   "source": [
    "family_pivot = df.pivot_table(index=['family_status_id', \"family_status\"], columns='debt', values='education', aggfunc='count')\n",
    "family_pivot[\"ratio\"] = family_pivot[1] / (family_pivot[0] + family_pivot[1])  * 100\n",
    "family_pivot"
   ]
  },
  {
   "cell_type": "markdown",
   "metadata": {},
   "source": [
    "**Вывод**"
   ]
  },
  {
   "cell_type": "markdown",
   "metadata": {},
   "source": [
    "Удивительно, но меньше других долги имела группа \"вдовец / вдова\". Самые рискованные же для банка неженатые и в гражданском браке."
   ]
  },
  {
   "cell_type": "markdown",
   "metadata": {},
   "source": [
    "- Есть ли зависимость между уровнем дохода и возвратом кредита в срок?"
   ]
  },
  {
   "cell_type": "code",
   "execution_count": 315,
   "metadata": {},
   "outputs": [
    {
     "data": {
      "text/html": [
       "<div>\n",
       "<style scoped>\n",
       "    .dataframe tbody tr th:only-of-type {\n",
       "        vertical-align: middle;\n",
       "    }\n",
       "\n",
       "    .dataframe tbody tr th {\n",
       "        vertical-align: top;\n",
       "    }\n",
       "\n",
       "    .dataframe thead th {\n",
       "        text-align: right;\n",
       "    }\n",
       "</style>\n",
       "<table border=\"1\" class=\"dataframe\">\n",
       "  <thead>\n",
       "    <tr style=\"text-align: right;\">\n",
       "      <th>debt</th>\n",
       "      <th>0</th>\n",
       "      <th>1</th>\n",
       "      <th>ratio</th>\n",
       "    </tr>\n",
       "    <tr>\n",
       "      <th>income_category</th>\n",
       "      <th></th>\n",
       "      <th></th>\n",
       "      <th></th>\n",
       "    </tr>\n",
       "  </thead>\n",
       "  <tbody>\n",
       "    <tr>\n",
       "      <td>низкий</td>\n",
       "      <td>5927</td>\n",
       "      <td>524</td>\n",
       "      <td>8.122772</td>\n",
       "    </tr>\n",
       "    <tr>\n",
       "      <td>средний</td>\n",
       "      <td>5886</td>\n",
       "      <td>565</td>\n",
       "      <td>8.758332</td>\n",
       "    </tr>\n",
       "    <tr>\n",
       "      <td>высокий</td>\n",
       "      <td>5967</td>\n",
       "      <td>482</td>\n",
       "      <td>7.474027</td>\n",
       "    </tr>\n",
       "  </tbody>\n",
       "</table>\n",
       "</div>"
      ],
      "text/plain": [
       "debt                0    1     ratio\n",
       "income_category                     \n",
       "низкий           5927  524  8.122772\n",
       "средний          5886  565  8.758332\n",
       "высокий          5967  482  7.474027"
      ]
     },
     "execution_count": 315,
     "metadata": {},
     "output_type": "execute_result"
    }
   ],
   "source": [
    "income_pivot = df.pivot_table(index=['income_category'], columns='debt', values='education', aggfunc='count')\n",
    "income_pivot[\"ratio\"] = income_pivot[1] / (income_pivot[0] + income_pivot[1])  * 100\n",
    "income_pivot"
   ]
  },
  {
   "cell_type": "markdown",
   "metadata": {},
   "source": [
    "**Вывод**"
   ]
  },
  {
   "cell_type": "markdown",
   "metadata": {},
   "source": [
    "**Средний класс оказался с наибольшими долгами. Самые надежные - люди с высоким доходом. Большую надежность людей с низким доходом относительно среднего обьяснить сложно, возможно они меньше берут кредиты.**"
   ]
  },
  {
   "cell_type": "markdown",
   "metadata": {},
   "source": [
    "- Как разные цели кредита влияют на его возврат в срок?"
   ]
  },
  {
   "cell_type": "code",
   "execution_count": 316,
   "metadata": {},
   "outputs": [
    {
     "data": {
      "text/html": [
       "<div>\n",
       "<style scoped>\n",
       "    .dataframe tbody tr th:only-of-type {\n",
       "        vertical-align: middle;\n",
       "    }\n",
       "\n",
       "    .dataframe tbody tr th {\n",
       "        vertical-align: top;\n",
       "    }\n",
       "\n",
       "    .dataframe thead th {\n",
       "        text-align: right;\n",
       "    }\n",
       "</style>\n",
       "<table border=\"1\" class=\"dataframe\">\n",
       "  <thead>\n",
       "    <tr style=\"text-align: right;\">\n",
       "      <th>debt</th>\n",
       "      <th>0</th>\n",
       "      <th>1</th>\n",
       "      <th>ratio</th>\n",
       "    </tr>\n",
       "    <tr>\n",
       "      <th>purpose_category</th>\n",
       "      <th></th>\n",
       "      <th></th>\n",
       "      <th></th>\n",
       "    </tr>\n",
       "  </thead>\n",
       "  <tbody>\n",
       "    <tr>\n",
       "      <td>автомобиль</td>\n",
       "      <td>3903</td>\n",
       "      <td>403</td>\n",
       "      <td>9.359034</td>\n",
       "    </tr>\n",
       "    <tr>\n",
       "      <td>недвижимость</td>\n",
       "      <td>10029</td>\n",
       "      <td>782</td>\n",
       "      <td>7.233373</td>\n",
       "    </tr>\n",
       "    <tr>\n",
       "      <td>образование</td>\n",
       "      <td>3643</td>\n",
       "      <td>370</td>\n",
       "      <td>9.220035</td>\n",
       "    </tr>\n",
       "    <tr>\n",
       "      <td>свадьба</td>\n",
       "      <td>2138</td>\n",
       "      <td>186</td>\n",
       "      <td>8.003442</td>\n",
       "    </tr>\n",
       "  </tbody>\n",
       "</table>\n",
       "</div>"
      ],
      "text/plain": [
       "debt                  0    1     ratio\n",
       "purpose_category                      \n",
       "автомобиль         3903  403  9.359034\n",
       "недвижимость      10029  782  7.233373\n",
       "образование        3643  370  9.220035\n",
       "свадьба            2138  186  8.003442"
      ]
     },
     "execution_count": 316,
     "metadata": {},
     "output_type": "execute_result"
    }
   ],
   "source": [
    "purpose_pivot = df.pivot_table(index=['purpose_category'], columns='debt', values='education', aggfunc='count')\n",
    "purpose_pivot[\"ratio\"] = purpose_pivot[1] / (purpose_pivot[0] + purpose_pivot[1])  * 100\n",
    "purpose_pivot"
   ]
  },
  {
   "cell_type": "markdown",
   "metadata": {},
   "source": [
    "**Вывод**"
   ]
  },
  {
   "cell_type": "markdown",
   "metadata": {},
   "source": [
    "**Наиболее надежными выглядят кредиты на недвижимость. Больший риск на другие цели можно объяснить тем, что эти операци менее объемные с точки зрения денежных средств, а следовательно критерии банка на их получение мягче, относительно недвижимости.**"
   ]
  },
  {
   "cell_type": "markdown",
   "metadata": {},
   "source": [
    "<a id='4'></a>\n",
    "## Шаг 4. Общий вывод"
   ]
  },
  {
   "cell_type": "markdown",
   "metadata": {},
   "source": [
    "\n",
    "**Данные, полученные от банка для проведения анализа имели ряд недостатков. На этапе их предобработке мы столкнулись с пропуском  10% значений в данных о доходах и стаже, которые пришлось заполнить самостоятельно. Исправили аномальные (отрицательные) значения. Нашли и удалили как явные, так и неявные дупликаты, вызванные записью в разных регистрах. На основе данных о цели кредита провели их лемматизацию и выявили 4 основные соответствующие им категории (автомобиль, недвижемость, образование, свадьба). Так же провели категоризацию клиентов по наличию у них детей (есть или нет) и уровню дохода (высокий, средний, низкий), что позволило качественне провести анализ данных.**"
   ]
  },
  {
   "cell_type": "markdown",
   "metadata": {},
   "source": [
    "**Рекомендации для улучшения качества сбора данных для последующего их анализа:**\n",
    "- *придать уникальный id для каждого клиента, что поможет как анализу в целом, так и эффективнее выявлять дупликаты*\n",
    "- *выявить причину и исправить искажения в данных (отрицательные числа и сверхвысокие значения стажа для пенсионеров)*\n",
    "- *учет стажа работы вести в годах*\n",
    "- *ввести единые требования по занесению данных в одном регистре*"
   ]
  },
  {
   "cell_type": "markdown",
   "metadata": {},
   "source": [
    "**Рекомендации для улучшения показателей по возврату кредита и увеличению доходности банка.**\n",
    "\n",
    "**Меньший риск невозврата средств имеют группы:**\n",
    "\n",
    "* бездетные\n",
    "* одинокие (разведенные, вдовы)\n",
    "* с высоким доходом\n",
    "* недвижимостью как целью кредита\n",
    "\n",
    "**Таким образом наибольшим потенциалом для увеличения доходов банка можно считать увеличение операций с недвижимостью людей с высоким уровнем дохода, так как их выборки показывают наименьший риск невозврата кредита, при большем объеме денежных средста.**"
   ]
  }
 ],
 "metadata": {
  "ExecuteTimeLog": [
   {
    "duration": 516,
    "start_time": "2021-11-24T13:06:38.431Z"
   },
   {
    "duration": 47,
    "start_time": "2021-11-24T13:06:41.783Z"
   },
   {
    "duration": 11,
    "start_time": "2021-11-24T13:11:40.419Z"
   },
   {
    "duration": 806,
    "start_time": "2021-11-25T08:20:55.221Z"
   },
   {
    "duration": 560,
    "start_time": "2021-11-25T08:21:03.093Z"
   },
   {
    "duration": 48,
    "start_time": "2021-11-25T08:21:06.628Z"
   },
   {
    "duration": 17,
    "start_time": "2021-11-25T08:21:10.843Z"
   },
   {
    "duration": 10,
    "start_time": "2021-11-25T08:21:13.893Z"
   },
   {
    "duration": 312,
    "start_time": "2021-11-27T08:37:48.948Z"
   },
   {
    "duration": 747,
    "start_time": "2021-11-27T08:38:00.445Z"
   },
   {
    "duration": 68,
    "start_time": "2021-11-27T08:38:01.195Z"
   },
   {
    "duration": 27,
    "start_time": "2021-11-27T08:38:01.265Z"
   },
   {
    "duration": 17,
    "start_time": "2021-11-27T08:38:01.295Z"
   },
   {
    "duration": 10,
    "start_time": "2021-11-27T08:38:01.329Z"
   },
   {
    "duration": 10,
    "start_time": "2021-11-27T08:39:52.483Z"
   },
   {
    "duration": 12,
    "start_time": "2021-11-27T08:39:56.930Z"
   },
   {
    "duration": 14,
    "start_time": "2021-11-27T08:51:03.850Z"
   },
   {
    "duration": 266,
    "start_time": "2021-11-27T08:51:15.515Z"
   },
   {
    "duration": 13,
    "start_time": "2021-11-27T08:51:23.131Z"
   },
   {
    "duration": 7240,
    "start_time": "2021-11-27T09:14:41.308Z"
   },
   {
    "duration": 6407,
    "start_time": "2021-11-27T09:16:27.768Z"
   },
   {
    "duration": 6309,
    "start_time": "2021-11-27T09:17:46.356Z"
   },
   {
    "duration": 5864,
    "start_time": "2021-11-27T09:19:19.392Z"
   },
   {
    "duration": 6581,
    "start_time": "2021-11-27T09:19:34.401Z"
   },
   {
    "duration": 35,
    "start_time": "2021-11-27T09:19:55.289Z"
   },
   {
    "duration": 14,
    "start_time": "2021-11-27T09:20:09.882Z"
   },
   {
    "duration": 33,
    "start_time": "2021-11-27T09:20:19.010Z"
   },
   {
    "duration": 565,
    "start_time": "2021-11-29T08:33:05.650Z"
   },
   {
    "duration": 49,
    "start_time": "2021-11-29T08:33:06.216Z"
   },
   {
    "duration": 16,
    "start_time": "2021-11-29T08:33:06.267Z"
   },
   {
    "duration": 13,
    "start_time": "2021-11-29T08:33:06.285Z"
   },
   {
    "duration": 18,
    "start_time": "2021-11-29T08:33:06.300Z"
   },
   {
    "duration": 5,
    "start_time": "2021-11-29T08:33:06.319Z"
   },
   {
    "duration": 9,
    "start_time": "2021-11-29T08:33:06.325Z"
   },
   {
    "duration": 8,
    "start_time": "2021-11-29T08:33:06.336Z"
   },
   {
    "duration": 8,
    "start_time": "2021-11-29T08:33:06.345Z"
   },
   {
    "duration": 10,
    "start_time": "2021-11-29T08:33:06.355Z"
   },
   {
    "duration": 6,
    "start_time": "2021-11-29T08:33:48.144Z"
   },
   {
    "duration": 6,
    "start_time": "2021-11-29T08:39:38.468Z"
   },
   {
    "duration": 5,
    "start_time": "2021-11-29T08:40:48.122Z"
   },
   {
    "duration": 690,
    "start_time": "2021-11-29T08:56:16.520Z"
   },
   {
    "duration": 358,
    "start_time": "2021-11-29T08:59:29.247Z"
   },
   {
    "duration": 235,
    "start_time": "2021-11-29T08:59:39.929Z"
   },
   {
    "duration": 224,
    "start_time": "2021-11-29T08:59:56.785Z"
   },
   {
    "duration": 271,
    "start_time": "2021-11-29T09:03:40.319Z"
   },
   {
    "duration": 463,
    "start_time": "2021-11-29T09:03:47.313Z"
   },
   {
    "duration": 256,
    "start_time": "2021-11-29T09:07:42.242Z"
   },
   {
    "duration": 268,
    "start_time": "2021-11-29T09:07:58.346Z"
   },
   {
    "duration": 158,
    "start_time": "2021-11-29T09:10:57.288Z"
   },
   {
    "duration": 202,
    "start_time": "2021-11-29T09:15:15.060Z"
   },
   {
    "duration": 150,
    "start_time": "2021-11-29T09:21:48.530Z"
   },
   {
    "duration": 264,
    "start_time": "2021-11-29T09:21:58.617Z"
   },
   {
    "duration": 170,
    "start_time": "2021-11-29T09:22:07.370Z"
   },
   {
    "duration": 222,
    "start_time": "2021-11-29T09:22:37.219Z"
   },
   {
    "duration": 149,
    "start_time": "2021-11-29T09:22:40.735Z"
   },
   {
    "duration": 183,
    "start_time": "2021-11-29T09:34:56.435Z"
   },
   {
    "duration": 8,
    "start_time": "2021-11-29T09:35:29.390Z"
   },
   {
    "duration": 6,
    "start_time": "2021-11-29T09:36:01.184Z"
   },
   {
    "duration": 8,
    "start_time": "2021-11-29T09:36:15.329Z"
   },
   {
    "duration": 6,
    "start_time": "2021-11-29T09:36:17.912Z"
   },
   {
    "duration": 4,
    "start_time": "2021-11-29T09:45:12.108Z"
   },
   {
    "duration": 5,
    "start_time": "2021-11-29T09:45:47.894Z"
   },
   {
    "duration": 5,
    "start_time": "2021-11-29T09:45:53.949Z"
   },
   {
    "duration": 6,
    "start_time": "2021-11-29T09:45:58.733Z"
   },
   {
    "duration": 6,
    "start_time": "2021-11-29T09:46:20.189Z"
   },
   {
    "duration": 11,
    "start_time": "2021-11-29T09:46:59.591Z"
   },
   {
    "duration": 8,
    "start_time": "2021-11-29T09:47:08.271Z"
   },
   {
    "duration": 7,
    "start_time": "2021-11-29T09:47:14.040Z"
   },
   {
    "duration": 8,
    "start_time": "2021-11-29T09:47:45.369Z"
   },
   {
    "duration": 1415,
    "start_time": "2021-11-29T09:48:54.772Z"
   },
   {
    "duration": 160,
    "start_time": "2021-11-29T09:49:40.797Z"
   },
   {
    "duration": 3,
    "start_time": "2021-11-29T09:50:40.841Z"
   },
   {
    "duration": 81,
    "start_time": "2021-11-29T09:50:40.846Z"
   },
   {
    "duration": 16,
    "start_time": "2021-11-29T09:50:40.929Z"
   },
   {
    "duration": 18,
    "start_time": "2021-11-29T09:50:40.947Z"
   },
   {
    "duration": 44,
    "start_time": "2021-11-29T09:50:40.967Z"
   },
   {
    "duration": 17,
    "start_time": "2021-11-29T09:50:41.013Z"
   },
   {
    "duration": 14,
    "start_time": "2021-11-29T09:50:41.031Z"
   },
   {
    "duration": 6,
    "start_time": "2021-11-29T09:50:41.048Z"
   },
   {
    "duration": 281,
    "start_time": "2021-11-29T09:50:41.056Z"
   },
   {
    "duration": 171,
    "start_time": "2021-11-29T09:50:41.339Z"
   },
   {
    "duration": 176,
    "start_time": "2021-11-29T09:50:41.512Z"
   },
   {
    "duration": 7,
    "start_time": "2021-11-29T09:50:41.689Z"
   },
   {
    "duration": 18,
    "start_time": "2021-11-29T09:50:41.698Z"
   },
   {
    "duration": 172,
    "start_time": "2021-11-29T09:50:41.718Z"
   },
   {
    "duration": 8,
    "start_time": "2021-11-29T09:50:41.891Z"
   },
   {
    "duration": 8,
    "start_time": "2021-11-29T09:50:41.900Z"
   },
   {
    "duration": 17,
    "start_time": "2021-11-29T09:50:41.909Z"
   },
   {
    "duration": 21,
    "start_time": "2021-11-29T09:51:54.402Z"
   },
   {
    "duration": 20,
    "start_time": "2021-11-29T09:52:02.931Z"
   },
   {
    "duration": 28,
    "start_time": "2021-11-29T09:52:10.465Z"
   },
   {
    "duration": 21,
    "start_time": "2021-11-29T09:52:20.627Z"
   },
   {
    "duration": 975,
    "start_time": "2021-11-29T09:53:03.171Z"
   },
   {
    "duration": 21,
    "start_time": "2021-11-29T09:54:27.991Z"
   },
   {
    "duration": 34,
    "start_time": "2021-11-29T09:54:41.662Z"
   },
   {
    "duration": 21,
    "start_time": "2021-11-29T10:52:42.092Z"
   },
   {
    "duration": 19,
    "start_time": "2021-11-29T10:53:26.856Z"
   },
   {
    "duration": 21,
    "start_time": "2021-11-29T10:53:33.471Z"
   },
   {
    "duration": 24,
    "start_time": "2021-11-29T10:54:27.874Z"
   },
   {
    "duration": 21,
    "start_time": "2021-11-29T10:54:35.131Z"
   },
   {
    "duration": 22,
    "start_time": "2021-11-29T10:54:42.729Z"
   },
   {
    "duration": 20,
    "start_time": "2021-11-29T10:59:21.596Z"
   },
   {
    "duration": 231,
    "start_time": "2021-11-29T10:59:56.022Z"
   },
   {
    "duration": 299,
    "start_time": "2021-11-29T11:00:01.638Z"
   },
   {
    "duration": 21,
    "start_time": "2021-11-29T11:00:12.087Z"
   },
   {
    "duration": 14,
    "start_time": "2021-11-29T11:00:19.703Z"
   },
   {
    "duration": 24,
    "start_time": "2021-11-29T11:00:25.399Z"
   },
   {
    "duration": 17,
    "start_time": "2021-11-29T11:00:32.919Z"
   },
   {
    "duration": 21,
    "start_time": "2021-11-29T11:01:05.113Z"
   },
   {
    "duration": 924,
    "start_time": "2021-11-29T11:02:06.283Z"
   },
   {
    "duration": 942,
    "start_time": "2021-11-29T11:02:26.547Z"
   },
   {
    "duration": 22,
    "start_time": "2021-11-29T11:04:06.999Z"
   },
   {
    "duration": 9,
    "start_time": "2021-11-29T11:04:41.457Z"
   },
   {
    "duration": 7,
    "start_time": "2021-11-29T11:05:25.570Z"
   },
   {
    "duration": 246,
    "start_time": "2021-11-29T11:07:32.934Z"
   },
   {
    "duration": 20,
    "start_time": "2021-11-29T11:07:39.438Z"
   },
   {
    "duration": 6175,
    "start_time": "2021-11-29T11:14:06.014Z"
   },
   {
    "duration": 3,
    "start_time": "2021-11-29T11:14:47.705Z"
   },
   {
    "duration": 51,
    "start_time": "2021-11-29T11:14:47.710Z"
   },
   {
    "duration": 12,
    "start_time": "2021-11-29T11:14:47.763Z"
   },
   {
    "duration": 11,
    "start_time": "2021-11-29T11:14:47.777Z"
   },
   {
    "duration": 7069,
    "start_time": "2021-11-29T11:14:47.790Z"
   },
   {
    "duration": -32,
    "start_time": "2021-11-29T11:14:54.893Z"
   },
   {
    "duration": -33,
    "start_time": "2021-11-29T11:14:54.895Z"
   },
   {
    "duration": -34,
    "start_time": "2021-11-29T11:14:54.897Z"
   },
   {
    "duration": -35,
    "start_time": "2021-11-29T11:14:54.899Z"
   },
   {
    "duration": -36,
    "start_time": "2021-11-29T11:14:54.901Z"
   },
   {
    "duration": -36,
    "start_time": "2021-11-29T11:14:54.902Z"
   },
   {
    "duration": -37,
    "start_time": "2021-11-29T11:14:54.904Z"
   },
   {
    "duration": -37,
    "start_time": "2021-11-29T11:14:54.905Z"
   },
   {
    "duration": -38,
    "start_time": "2021-11-29T11:14:54.907Z"
   },
   {
    "duration": -39,
    "start_time": "2021-11-29T11:14:54.909Z"
   },
   {
    "duration": -39,
    "start_time": "2021-11-29T11:14:54.910Z"
   },
   {
    "duration": -40,
    "start_time": "2021-11-29T11:14:54.912Z"
   },
   {
    "duration": -41,
    "start_time": "2021-11-29T11:14:54.914Z"
   },
   {
    "duration": -43,
    "start_time": "2021-11-29T11:14:54.917Z"
   },
   {
    "duration": -44,
    "start_time": "2021-11-29T11:14:54.919Z"
   },
   {
    "duration": 4,
    "start_time": "2021-11-29T11:15:10.695Z"
   },
   {
    "duration": 3,
    "start_time": "2021-11-29T11:15:20.215Z"
   },
   {
    "duration": 52,
    "start_time": "2021-11-29T11:15:20.219Z"
   },
   {
    "duration": 11,
    "start_time": "2021-11-29T11:15:20.273Z"
   },
   {
    "duration": 11,
    "start_time": "2021-11-29T11:15:20.286Z"
   },
   {
    "duration": 4,
    "start_time": "2021-11-29T11:15:20.299Z"
   },
   {
    "duration": 23,
    "start_time": "2021-11-29T11:15:20.305Z"
   },
   {
    "duration": 27,
    "start_time": "2021-11-29T11:15:20.329Z"
   },
   {
    "duration": 31,
    "start_time": "2021-11-29T11:15:20.359Z"
   },
   {
    "duration": 7,
    "start_time": "2021-11-29T11:15:20.392Z"
   },
   {
    "duration": 189,
    "start_time": "2021-11-29T11:15:20.400Z"
   },
   {
    "duration": 169,
    "start_time": "2021-11-29T11:15:20.591Z"
   },
   {
    "duration": 167,
    "start_time": "2021-11-29T11:15:20.762Z"
   },
   {
    "duration": 6,
    "start_time": "2021-11-29T11:15:20.931Z"
   },
   {
    "duration": 13,
    "start_time": "2021-11-29T11:15:20.939Z"
   },
   {
    "duration": 33,
    "start_time": "2021-11-29T11:15:20.954Z"
   },
   {
    "duration": 6,
    "start_time": "2021-11-29T11:15:20.989Z"
   },
   {
    "duration": 176,
    "start_time": "2021-11-29T11:15:20.996Z"
   },
   {
    "duration": 15,
    "start_time": "2021-11-29T11:15:21.173Z"
   },
   {
    "duration": 10,
    "start_time": "2021-11-29T11:15:21.190Z"
   },
   {
    "duration": 18,
    "start_time": "2021-11-29T11:15:21.201Z"
   },
   {
    "duration": 20,
    "start_time": "2021-11-29T11:39:44.813Z"
   },
   {
    "duration": 236,
    "start_time": "2021-11-29T11:40:20.893Z"
   },
   {
    "duration": 1134,
    "start_time": "2021-11-29T11:40:36.310Z"
   },
   {
    "duration": 20,
    "start_time": "2021-11-29T11:40:51.552Z"
   },
   {
    "duration": 21,
    "start_time": "2021-11-29T11:41:01.080Z"
   },
   {
    "duration": 2,
    "start_time": "2021-11-29T11:47:42.409Z"
   },
   {
    "duration": 47,
    "start_time": "2021-11-29T11:47:42.413Z"
   },
   {
    "duration": 10,
    "start_time": "2021-11-29T11:47:42.462Z"
   },
   {
    "duration": 12,
    "start_time": "2021-11-29T11:47:42.474Z"
   },
   {
    "duration": 19,
    "start_time": "2021-11-29T11:47:42.488Z"
   },
   {
    "duration": 19,
    "start_time": "2021-11-29T11:47:42.508Z"
   },
   {
    "duration": 20,
    "start_time": "2021-11-29T11:47:42.529Z"
   },
   {
    "duration": 6,
    "start_time": "2021-11-29T11:47:42.550Z"
   },
   {
    "duration": 28,
    "start_time": "2021-11-29T11:47:42.559Z"
   },
   {
    "duration": 176,
    "start_time": "2021-11-29T11:47:42.589Z"
   },
   {
    "duration": 165,
    "start_time": "2021-11-29T11:47:42.767Z"
   },
   {
    "duration": 168,
    "start_time": "2021-11-29T11:47:42.934Z"
   },
   {
    "duration": 7,
    "start_time": "2021-11-29T11:47:43.104Z"
   },
   {
    "duration": 6,
    "start_time": "2021-11-29T11:47:43.113Z"
   },
   {
    "duration": 20,
    "start_time": "2021-11-29T11:47:43.121Z"
   },
   {
    "duration": 7,
    "start_time": "2021-11-29T11:47:43.143Z"
   },
   {
    "duration": 186,
    "start_time": "2021-11-29T11:47:43.152Z"
   },
   {
    "duration": 8,
    "start_time": "2021-11-29T11:47:43.340Z"
   },
   {
    "duration": 8,
    "start_time": "2021-11-29T11:47:43.350Z"
   },
   {
    "duration": 32,
    "start_time": "2021-11-29T11:47:43.360Z"
   },
   {
    "duration": 5985,
    "start_time": "2021-11-29T11:52:21.945Z"
   },
   {
    "duration": 164,
    "start_time": "2021-11-29T11:52:31.018Z"
   },
   {
    "duration": 235,
    "start_time": "2021-11-29T12:07:36.355Z"
   },
   {
    "duration": 361,
    "start_time": "2021-11-29T12:08:36.228Z"
   },
   {
    "duration": 390,
    "start_time": "2021-11-29T12:09:08.173Z"
   },
   {
    "duration": 238,
    "start_time": "2021-11-29T12:09:23.509Z"
   },
   {
    "duration": 330,
    "start_time": "2021-11-29T12:18:31.395Z"
   },
   {
    "duration": 162,
    "start_time": "2021-11-29T12:20:00.220Z"
   },
   {
    "duration": 235,
    "start_time": "2021-11-29T12:23:46.254Z"
   },
   {
    "duration": 237,
    "start_time": "2021-11-29T12:25:20.945Z"
   },
   {
    "duration": 269,
    "start_time": "2021-11-29T12:26:05.889Z"
   },
   {
    "duration": 44351,
    "start_time": "2021-11-29T12:26:58.964Z"
   },
   {
    "duration": 161,
    "start_time": "2021-11-29T12:29:29.777Z"
   },
   {
    "duration": 490,
    "start_time": "2021-11-29T12:45:35.430Z"
   },
   {
    "duration": 236,
    "start_time": "2021-11-29T12:48:56.406Z"
   },
   {
    "duration": 248,
    "start_time": "2021-11-29T12:49:22.294Z"
   },
   {
    "duration": 81,
    "start_time": "2021-11-29T13:08:27.969Z"
   },
   {
    "duration": 162,
    "start_time": "2021-11-29T13:14:05.621Z"
   },
   {
    "duration": 83,
    "start_time": "2021-11-29T13:14:19.294Z"
   },
   {
    "duration": 74,
    "start_time": "2021-11-29T13:14:38.766Z"
   },
   {
    "duration": 82,
    "start_time": "2021-11-29T13:15:05.752Z"
   },
   {
    "duration": 165,
    "start_time": "2021-11-29T13:15:24.823Z"
   },
   {
    "duration": 129,
    "start_time": "2021-11-29T13:15:28.319Z"
   },
   {
    "duration": 75,
    "start_time": "2021-11-29T13:15:35.824Z"
   },
   {
    "duration": 77,
    "start_time": "2021-11-29T13:15:47.216Z"
   },
   {
    "duration": 75,
    "start_time": "2021-11-29T13:15:58.105Z"
   },
   {
    "duration": 2,
    "start_time": "2021-11-29T13:17:43.392Z"
   },
   {
    "duration": 60,
    "start_time": "2021-11-29T13:17:43.396Z"
   },
   {
    "duration": 11,
    "start_time": "2021-11-29T13:17:43.458Z"
   },
   {
    "duration": 29,
    "start_time": "2021-11-29T13:17:43.470Z"
   },
   {
    "duration": 36,
    "start_time": "2021-11-29T13:17:43.501Z"
   },
   {
    "duration": 161,
    "start_time": "2021-11-29T13:17:43.539Z"
   },
   {
    "duration": 20,
    "start_time": "2021-11-29T13:17:43.702Z"
   },
   {
    "duration": 21,
    "start_time": "2021-11-29T13:17:43.723Z"
   },
   {
    "duration": 6,
    "start_time": "2021-11-29T13:17:43.747Z"
   },
   {
    "duration": 33,
    "start_time": "2021-11-29T13:17:43.755Z"
   },
   {
    "duration": 174,
    "start_time": "2021-11-29T13:17:43.789Z"
   },
   {
    "duration": 162,
    "start_time": "2021-11-29T13:17:43.965Z"
   },
   {
    "duration": 172,
    "start_time": "2021-11-29T13:17:44.129Z"
   },
   {
    "duration": 80,
    "start_time": "2021-11-29T13:17:44.302Z"
   },
   {
    "duration": -24,
    "start_time": "2021-11-29T13:17:44.407Z"
   },
   {
    "duration": -24,
    "start_time": "2021-11-29T13:17:44.408Z"
   },
   {
    "duration": -25,
    "start_time": "2021-11-29T13:17:44.410Z"
   },
   {
    "duration": -26,
    "start_time": "2021-11-29T13:17:44.412Z"
   },
   {
    "duration": -33,
    "start_time": "2021-11-29T13:17:44.420Z"
   },
   {
    "duration": -34,
    "start_time": "2021-11-29T13:17:44.422Z"
   },
   {
    "duration": -34,
    "start_time": "2021-11-29T13:17:44.423Z"
   },
   {
    "duration": -36,
    "start_time": "2021-11-29T13:17:44.425Z"
   },
   {
    "duration": 742,
    "start_time": "2021-11-29T13:31:45.765Z"
   },
   {
    "duration": 144,
    "start_time": "2021-11-29T13:32:43.359Z"
   },
   {
    "duration": 2,
    "start_time": "2021-11-29T13:37:40.509Z"
   },
   {
    "duration": 51,
    "start_time": "2021-11-29T13:37:40.513Z"
   },
   {
    "duration": 11,
    "start_time": "2021-11-29T13:37:40.566Z"
   },
   {
    "duration": 10,
    "start_time": "2021-11-29T13:37:40.579Z"
   },
   {
    "duration": 20,
    "start_time": "2021-11-29T13:37:40.590Z"
   },
   {
    "duration": 156,
    "start_time": "2021-11-29T13:37:40.611Z"
   },
   {
    "duration": 27,
    "start_time": "2021-11-29T13:37:40.769Z"
   },
   {
    "duration": 21,
    "start_time": "2021-11-29T13:37:40.797Z"
   },
   {
    "duration": 6,
    "start_time": "2021-11-29T13:37:40.820Z"
   },
   {
    "duration": 8,
    "start_time": "2021-11-29T13:37:40.828Z"
   },
   {
    "duration": 184,
    "start_time": "2021-11-29T13:37:40.838Z"
   },
   {
    "duration": 171,
    "start_time": "2021-11-29T13:37:41.023Z"
   },
   {
    "duration": 171,
    "start_time": "2021-11-29T13:37:41.196Z"
   },
   {
    "duration": 86,
    "start_time": "2021-11-29T13:37:41.368Z"
   },
   {
    "duration": -25,
    "start_time": "2021-11-29T13:37:41.481Z"
   },
   {
    "duration": -25,
    "start_time": "2021-11-29T13:37:41.482Z"
   },
   {
    "duration": -26,
    "start_time": "2021-11-29T13:37:41.484Z"
   },
   {
    "duration": -27,
    "start_time": "2021-11-29T13:37:41.486Z"
   },
   {
    "duration": -27,
    "start_time": "2021-11-29T13:37:41.487Z"
   },
   {
    "duration": -28,
    "start_time": "2021-11-29T13:37:41.489Z"
   },
   {
    "duration": -32,
    "start_time": "2021-11-29T13:37:41.494Z"
   },
   {
    "duration": -33,
    "start_time": "2021-11-29T13:37:41.496Z"
   },
   {
    "duration": 241,
    "start_time": "2021-11-29T13:43:33.565Z"
   },
   {
    "duration": 2,
    "start_time": "2021-11-29T13:43:45.602Z"
   },
   {
    "duration": 49,
    "start_time": "2021-11-29T13:43:45.606Z"
   },
   {
    "duration": 10,
    "start_time": "2021-11-29T13:43:45.657Z"
   },
   {
    "duration": 14,
    "start_time": "2021-11-29T13:43:45.668Z"
   },
   {
    "duration": 267,
    "start_time": "2021-11-29T13:43:45.684Z"
   },
   {
    "duration": -42,
    "start_time": "2021-11-29T13:43:45.995Z"
   },
   {
    "duration": -44,
    "start_time": "2021-11-29T13:43:45.997Z"
   },
   {
    "duration": -45,
    "start_time": "2021-11-29T13:43:45.999Z"
   },
   {
    "duration": -46,
    "start_time": "2021-11-29T13:43:46.001Z"
   },
   {
    "duration": -45,
    "start_time": "2021-11-29T13:43:46.002Z"
   },
   {
    "duration": -46,
    "start_time": "2021-11-29T13:43:46.004Z"
   },
   {
    "duration": -46,
    "start_time": "2021-11-29T13:43:46.005Z"
   },
   {
    "duration": -46,
    "start_time": "2021-11-29T13:43:46.006Z"
   },
   {
    "duration": -48,
    "start_time": "2021-11-29T13:43:46.008Z"
   },
   {
    "duration": -52,
    "start_time": "2021-11-29T13:43:46.013Z"
   },
   {
    "duration": -53,
    "start_time": "2021-11-29T13:43:46.015Z"
   },
   {
    "duration": -53,
    "start_time": "2021-11-29T13:43:46.016Z"
   },
   {
    "duration": -53,
    "start_time": "2021-11-29T13:43:46.017Z"
   },
   {
    "duration": -54,
    "start_time": "2021-11-29T13:43:46.019Z"
   },
   {
    "duration": -54,
    "start_time": "2021-11-29T13:43:46.020Z"
   },
   {
    "duration": -55,
    "start_time": "2021-11-29T13:43:46.022Z"
   },
   {
    "duration": -55,
    "start_time": "2021-11-29T13:43:46.023Z"
   },
   {
    "duration": 22,
    "start_time": "2021-11-29T13:44:29.800Z"
   },
   {
    "duration": 3,
    "start_time": "2021-11-29T13:48:52.962Z"
   },
   {
    "duration": 50,
    "start_time": "2021-11-29T13:48:52.967Z"
   },
   {
    "duration": 15,
    "start_time": "2021-11-29T13:48:53.019Z"
   },
   {
    "duration": 14,
    "start_time": "2021-11-29T13:48:53.036Z"
   },
   {
    "duration": 43,
    "start_time": "2021-11-29T13:48:53.052Z"
   },
   {
    "duration": 155,
    "start_time": "2021-11-29T13:48:53.096Z"
   },
   {
    "duration": 20,
    "start_time": "2021-11-29T13:48:53.252Z"
   },
   {
    "duration": 32,
    "start_time": "2021-11-29T13:48:53.273Z"
   },
   {
    "duration": 6,
    "start_time": "2021-11-29T13:48:53.307Z"
   },
   {
    "duration": 10,
    "start_time": "2021-11-29T13:48:53.315Z"
   },
   {
    "duration": 179,
    "start_time": "2021-11-29T13:48:53.326Z"
   },
   {
    "duration": 156,
    "start_time": "2021-11-29T13:48:53.506Z"
   },
   {
    "duration": 169,
    "start_time": "2021-11-29T13:48:53.664Z"
   },
   {
    "duration": 79,
    "start_time": "2021-11-29T13:48:53.834Z"
   },
   {
    "duration": -12,
    "start_time": "2021-11-29T13:48:53.926Z"
   },
   {
    "duration": -14,
    "start_time": "2021-11-29T13:48:53.929Z"
   },
   {
    "duration": -15,
    "start_time": "2021-11-29T13:48:53.931Z"
   },
   {
    "duration": -16,
    "start_time": "2021-11-29T13:48:53.932Z"
   },
   {
    "duration": -31,
    "start_time": "2021-11-29T13:48:53.948Z"
   },
   {
    "duration": -31,
    "start_time": "2021-11-29T13:48:53.949Z"
   },
   {
    "duration": -33,
    "start_time": "2021-11-29T13:48:53.951Z"
   },
   {
    "duration": -36,
    "start_time": "2021-11-29T13:48:53.955Z"
   },
   {
    "duration": 76,
    "start_time": "2021-11-29T13:50:03.068Z"
   },
   {
    "duration": 78,
    "start_time": "2021-11-29T13:50:25.195Z"
   },
   {
    "duration": 244,
    "start_time": "2021-11-29T13:53:31.627Z"
   },
   {
    "duration": 6,
    "start_time": "2021-11-29T13:54:02.485Z"
   },
   {
    "duration": 6,
    "start_time": "2021-11-29T13:55:42.704Z"
   },
   {
    "duration": 6,
    "start_time": "2021-11-29T13:55:50.496Z"
   },
   {
    "duration": 3,
    "start_time": "2021-11-29T14:41:55.291Z"
   },
   {
    "duration": 65,
    "start_time": "2021-11-29T14:41:55.296Z"
   },
   {
    "duration": 11,
    "start_time": "2021-11-29T14:41:55.363Z"
   },
   {
    "duration": 32,
    "start_time": "2021-11-29T14:41:55.375Z"
   },
   {
    "duration": 47,
    "start_time": "2021-11-29T14:41:55.409Z"
   },
   {
    "duration": 7,
    "start_time": "2021-11-29T14:41:55.458Z"
   },
   {
    "duration": 49,
    "start_time": "2021-11-29T14:41:55.467Z"
   },
   {
    "duration": 22,
    "start_time": "2021-11-29T14:41:55.518Z"
   },
   {
    "duration": 7,
    "start_time": "2021-11-29T14:41:55.542Z"
   },
   {
    "duration": 23,
    "start_time": "2021-11-29T14:41:55.551Z"
   },
   {
    "duration": 189,
    "start_time": "2021-11-29T14:41:55.576Z"
   },
   {
    "duration": 168,
    "start_time": "2021-11-29T14:41:55.766Z"
   },
   {
    "duration": 169,
    "start_time": "2021-11-29T14:41:55.936Z"
   },
   {
    "duration": 6,
    "start_time": "2021-11-29T14:41:56.107Z"
   },
   {
    "duration": 35,
    "start_time": "2021-11-29T14:41:56.115Z"
   },
   {
    "duration": 40,
    "start_time": "2021-11-29T14:41:56.151Z"
   },
   {
    "duration": 22,
    "start_time": "2021-11-29T14:41:56.192Z"
   },
   {
    "duration": 164,
    "start_time": "2021-11-29T14:41:56.215Z"
   },
   {
    "duration": 8,
    "start_time": "2021-11-29T14:41:56.380Z"
   },
   {
    "duration": 25,
    "start_time": "2021-11-29T14:41:56.389Z"
   },
   {
    "duration": 34,
    "start_time": "2021-11-29T14:41:56.415Z"
   },
   {
    "duration": 78,
    "start_time": "2021-11-29T14:42:50.441Z"
   },
   {
    "duration": 74,
    "start_time": "2021-11-29T14:42:56.634Z"
   },
   {
    "duration": 76,
    "start_time": "2021-11-29T14:43:10.193Z"
   },
   {
    "duration": 26,
    "start_time": "2021-11-29T14:43:19.251Z"
   },
   {
    "duration": 35,
    "start_time": "2021-11-29T14:43:23.126Z"
   },
   {
    "duration": 266,
    "start_time": "2021-11-29T14:49:39.378Z"
   },
   {
    "duration": 20,
    "start_time": "2021-11-29T14:50:24.371Z"
   },
   {
    "duration": 6,
    "start_time": "2021-11-29T14:53:42.042Z"
   },
   {
    "duration": 7,
    "start_time": "2021-11-29T14:53:50.272Z"
   },
   {
    "duration": 24,
    "start_time": "2021-11-29T14:54:13.051Z"
   },
   {
    "duration": 25,
    "start_time": "2021-11-29T14:54:39.044Z"
   },
   {
    "duration": 31,
    "start_time": "2021-11-29T15:02:02.621Z"
   },
   {
    "duration": 3,
    "start_time": "2021-11-29T15:07:57.387Z"
   },
   {
    "duration": 64,
    "start_time": "2021-11-29T15:07:57.392Z"
   },
   {
    "duration": 15,
    "start_time": "2021-11-29T15:07:57.459Z"
   },
   {
    "duration": 10,
    "start_time": "2021-11-29T15:07:57.488Z"
   },
   {
    "duration": 27,
    "start_time": "2021-11-29T15:07:57.499Z"
   },
   {
    "duration": 23,
    "start_time": "2021-11-29T15:07:57.527Z"
   },
   {
    "duration": 5,
    "start_time": "2021-11-29T15:07:57.552Z"
   },
   {
    "duration": 38,
    "start_time": "2021-11-29T15:07:57.560Z"
   },
   {
    "duration": 7,
    "start_time": "2021-11-29T15:07:57.600Z"
   },
   {
    "duration": 12,
    "start_time": "2021-11-29T15:07:57.608Z"
   },
   {
    "duration": 179,
    "start_time": "2021-11-29T15:07:57.621Z"
   },
   {
    "duration": 165,
    "start_time": "2021-11-29T15:07:57.801Z"
   },
   {
    "duration": 167,
    "start_time": "2021-11-29T15:07:57.967Z"
   },
   {
    "duration": 7,
    "start_time": "2021-11-29T15:07:58.136Z"
   },
   {
    "duration": 11,
    "start_time": "2021-11-29T15:07:58.144Z"
   },
   {
    "duration": 22,
    "start_time": "2021-11-29T15:07:58.156Z"
   },
   {
    "duration": 6,
    "start_time": "2021-11-29T15:07:58.187Z"
   },
   {
    "duration": 23,
    "start_time": "2021-11-29T15:07:58.195Z"
   },
   {
    "duration": 172,
    "start_time": "2021-11-29T15:07:58.219Z"
   },
   {
    "duration": 8,
    "start_time": "2021-11-29T15:07:58.393Z"
   },
   {
    "duration": 7,
    "start_time": "2021-11-29T15:07:58.402Z"
   },
   {
    "duration": 8,
    "start_time": "2021-11-29T15:07:58.410Z"
   },
   {
    "duration": 7,
    "start_time": "2021-11-29T15:17:46.287Z"
   },
   {
    "duration": 6,
    "start_time": "2021-11-29T15:17:57.367Z"
   },
   {
    "duration": 165,
    "start_time": "2021-11-29T15:18:22.944Z"
   },
   {
    "duration": 153,
    "start_time": "2021-11-29T15:18:38.697Z"
   },
   {
    "duration": 7,
    "start_time": "2021-11-29T15:22:17.703Z"
   },
   {
    "duration": 166,
    "start_time": "2021-11-29T15:34:43.892Z"
   },
   {
    "duration": 164,
    "start_time": "2021-11-29T15:34:49.188Z"
   },
   {
    "duration": 1483,
    "start_time": "2021-11-30T08:07:30.870Z"
   },
   {
    "duration": 64,
    "start_time": "2021-11-30T08:07:32.356Z"
   },
   {
    "duration": 21,
    "start_time": "2021-11-30T08:07:32.423Z"
   },
   {
    "duration": 33,
    "start_time": "2021-11-30T08:07:32.447Z"
   },
   {
    "duration": 36,
    "start_time": "2021-11-30T08:07:32.483Z"
   },
   {
    "duration": 47,
    "start_time": "2021-11-30T08:07:32.521Z"
   },
   {
    "duration": 9,
    "start_time": "2021-11-30T08:07:32.571Z"
   },
   {
    "duration": 345,
    "start_time": "2021-11-30T08:07:32.584Z"
   },
   {
    "duration": 320,
    "start_time": "2021-11-30T08:07:32.932Z"
   },
   {
    "duration": 56,
    "start_time": "2021-11-30T08:07:33.254Z"
   },
   {
    "duration": 10,
    "start_time": "2021-11-30T08:07:33.313Z"
   },
   {
    "duration": 66,
    "start_time": "2021-11-30T08:07:33.325Z"
   },
   {
    "duration": 12,
    "start_time": "2021-11-30T08:07:33.394Z"
   },
   {
    "duration": 18,
    "start_time": "2021-11-30T08:07:33.409Z"
   },
   {
    "duration": 347,
    "start_time": "2021-11-30T08:07:33.430Z"
   },
   {
    "duration": 322,
    "start_time": "2021-11-30T08:07:33.779Z"
   },
   {
    "duration": 324,
    "start_time": "2021-11-30T08:07:34.104Z"
   },
   {
    "duration": 10,
    "start_time": "2021-11-30T08:07:34.431Z"
   },
   {
    "duration": 25,
    "start_time": "2021-11-30T08:07:34.444Z"
   },
   {
    "duration": 38,
    "start_time": "2021-11-30T08:07:34.472Z"
   },
   {
    "duration": 11,
    "start_time": "2021-11-30T08:07:34.513Z"
   },
   {
    "duration": 73,
    "start_time": "2021-11-30T08:07:34.526Z"
   },
   {
    "duration": 323,
    "start_time": "2021-11-30T08:07:34.603Z"
   },
   {
    "duration": 12,
    "start_time": "2021-11-30T08:07:34.929Z"
   },
   {
    "duration": 28,
    "start_time": "2021-11-30T08:07:34.943Z"
   },
   {
    "duration": 16,
    "start_time": "2021-11-30T08:07:34.974Z"
   },
   {
    "duration": 41,
    "start_time": "2021-11-30T08:08:09.390Z"
   },
   {
    "duration": 55,
    "start_time": "2021-11-30T08:08:35.311Z"
   },
   {
    "duration": 52,
    "start_time": "2021-11-30T08:08:39.808Z"
   },
   {
    "duration": 42,
    "start_time": "2021-11-30T08:09:09.928Z"
   },
   {
    "duration": 107,
    "start_time": "2021-11-30T08:09:18.632Z"
   },
   {
    "duration": 41,
    "start_time": "2021-11-30T08:12:27.191Z"
   },
   {
    "duration": 39,
    "start_time": "2021-11-30T08:12:56.777Z"
   },
   {
    "duration": 41,
    "start_time": "2021-11-30T08:17:00.959Z"
   },
   {
    "duration": 44,
    "start_time": "2021-11-30T08:17:23.105Z"
   },
   {
    "duration": 39,
    "start_time": "2021-11-30T08:17:27.633Z"
   },
   {
    "duration": 5,
    "start_time": "2021-11-30T08:18:34.558Z"
   },
   {
    "duration": 63,
    "start_time": "2021-11-30T08:18:34.567Z"
   },
   {
    "duration": 34,
    "start_time": "2021-11-30T08:18:34.633Z"
   },
   {
    "duration": 15,
    "start_time": "2021-11-30T08:18:34.669Z"
   },
   {
    "duration": 36,
    "start_time": "2021-11-30T08:18:34.686Z"
   },
   {
    "duration": 45,
    "start_time": "2021-11-30T08:18:34.725Z"
   },
   {
    "duration": 12,
    "start_time": "2021-11-30T08:18:34.773Z"
   },
   {
    "duration": 334,
    "start_time": "2021-11-30T08:18:34.789Z"
   },
   {
    "duration": 332,
    "start_time": "2021-11-30T08:18:35.126Z"
   },
   {
    "duration": 46,
    "start_time": "2021-11-30T08:18:35.460Z"
   },
   {
    "duration": 10,
    "start_time": "2021-11-30T08:18:35.508Z"
   },
   {
    "duration": 71,
    "start_time": "2021-11-30T08:18:35.521Z"
   },
   {
    "duration": 318,
    "start_time": "2021-11-30T08:18:35.595Z"
   },
   {
    "duration": 11,
    "start_time": "2021-11-30T08:18:35.915Z"
   },
   {
    "duration": 8,
    "start_time": "2021-11-30T08:18:35.929Z"
   },
   {
    "duration": 40,
    "start_time": "2021-11-30T08:18:35.967Z"
   },
   {
    "duration": 10,
    "start_time": "2021-11-30T08:18:36.009Z"
   },
   {
    "duration": 68,
    "start_time": "2021-11-30T08:18:36.022Z"
   },
   {
    "duration": 309,
    "start_time": "2021-11-30T08:18:36.092Z"
   },
   {
    "duration": 11,
    "start_time": "2021-11-30T08:18:36.404Z"
   },
   {
    "duration": 15,
    "start_time": "2021-11-30T08:18:36.417Z"
   },
   {
    "duration": 45,
    "start_time": "2021-11-30T08:19:08.997Z"
   },
   {
    "duration": 3,
    "start_time": "2021-11-30T08:19:43.054Z"
   },
   {
    "duration": 5,
    "start_time": "2021-11-30T08:19:47.529Z"
   },
   {
    "duration": 68,
    "start_time": "2021-11-30T08:19:47.536Z"
   },
   {
    "duration": 19,
    "start_time": "2021-11-30T08:19:47.608Z"
   },
   {
    "duration": 15,
    "start_time": "2021-11-30T08:19:47.630Z"
   },
   {
    "duration": 37,
    "start_time": "2021-11-30T08:19:47.668Z"
   },
   {
    "duration": 10,
    "start_time": "2021-11-30T08:19:47.708Z"
   },
   {
    "duration": 45,
    "start_time": "2021-11-30T08:19:47.721Z"
   },
   {
    "duration": 370,
    "start_time": "2021-11-30T08:19:47.769Z"
   },
   {
    "duration": 338,
    "start_time": "2021-11-30T08:19:48.143Z"
   },
   {
    "duration": 50,
    "start_time": "2021-11-30T08:19:48.485Z"
   },
   {
    "duration": 34,
    "start_time": "2021-11-30T08:19:48.538Z"
   },
   {
    "duration": 4,
    "start_time": "2021-11-30T08:19:48.575Z"
   },
   {
    "duration": 384,
    "start_time": "2021-11-30T08:19:48.581Z"
   },
   {
    "duration": 12,
    "start_time": "2021-11-30T08:19:48.967Z"
   },
   {
    "duration": 12,
    "start_time": "2021-11-30T08:19:48.981Z"
   },
   {
    "duration": 38,
    "start_time": "2021-11-30T08:19:48.996Z"
   },
   {
    "duration": 10,
    "start_time": "2021-11-30T08:19:49.068Z"
   },
   {
    "duration": 43,
    "start_time": "2021-11-30T08:19:49.080Z"
   },
   {
    "duration": 319,
    "start_time": "2021-11-30T08:19:49.126Z"
   },
   {
    "duration": 24,
    "start_time": "2021-11-30T08:19:49.447Z"
   },
   {
    "duration": 13,
    "start_time": "2021-11-30T08:19:49.474Z"
   },
   {
    "duration": 19,
    "start_time": "2021-11-30T08:19:53.702Z"
   },
   {
    "duration": 53,
    "start_time": "2021-11-30T08:20:14.895Z"
   },
   {
    "duration": 36,
    "start_time": "2021-11-30T08:23:51.863Z"
   },
   {
    "duration": 323,
    "start_time": "2021-11-30T08:33:01.433Z"
   },
   {
    "duration": 306,
    "start_time": "2021-11-30T08:35:24.213Z"
   },
   {
    "duration": 488,
    "start_time": "2021-11-30T08:37:24.346Z"
   },
   {
    "duration": 9,
    "start_time": "2021-11-30T08:38:54.181Z"
   },
   {
    "duration": 8,
    "start_time": "2021-11-30T08:39:11.501Z"
   },
   {
    "duration": 9,
    "start_time": "2021-11-30T08:39:16.614Z"
   },
   {
    "duration": 8,
    "start_time": "2021-11-30T08:41:36.330Z"
   },
   {
    "duration": 6,
    "start_time": "2021-11-30T08:44:16.535Z"
   },
   {
    "duration": 16,
    "start_time": "2021-11-30T08:44:45.689Z"
   },
   {
    "duration": 10,
    "start_time": "2021-11-30T08:45:21.337Z"
   },
   {
    "duration": 4,
    "start_time": "2021-11-30T08:45:28.149Z"
   },
   {
    "duration": 70,
    "start_time": "2021-11-30T08:45:28.156Z"
   },
   {
    "duration": 19,
    "start_time": "2021-11-30T08:45:28.229Z"
   },
   {
    "duration": 16,
    "start_time": "2021-11-30T08:45:28.268Z"
   },
   {
    "duration": 150,
    "start_time": "2021-11-30T08:45:28.286Z"
   },
   {
    "duration": 11,
    "start_time": "2021-11-30T08:45:28.439Z"
   },
   {
    "duration": 9,
    "start_time": "2021-11-30T08:45:28.467Z"
   },
   {
    "duration": 343,
    "start_time": "2021-11-30T08:45:28.479Z"
   },
   {
    "duration": 347,
    "start_time": "2021-11-30T08:45:28.825Z"
   },
   {
    "duration": 60,
    "start_time": "2021-11-30T08:45:29.175Z"
   },
   {
    "duration": 457,
    "start_time": "2021-11-30T08:45:29.238Z"
   },
   {
    "duration": 12,
    "start_time": "2021-11-30T08:45:29.699Z"
   },
   {
    "duration": 11,
    "start_time": "2021-11-30T08:45:29.713Z"
   },
   {
    "duration": 49,
    "start_time": "2021-11-30T08:45:29.727Z"
   },
   {
    "duration": 11,
    "start_time": "2021-11-30T08:45:29.779Z"
   },
   {
    "duration": 6,
    "start_time": "2021-11-30T08:45:29.793Z"
   },
   {
    "duration": 14,
    "start_time": "2021-11-30T08:45:29.802Z"
   },
   {
    "duration": 52,
    "start_time": "2021-11-30T08:45:29.819Z"
   },
   {
    "duration": 37,
    "start_time": "2021-11-30T08:45:29.874Z"
   },
   {
    "duration": 11,
    "start_time": "2021-11-30T08:45:29.913Z"
   },
   {
    "duration": 73,
    "start_time": "2021-11-30T08:45:29.928Z"
   },
   {
    "duration": 326,
    "start_time": "2021-11-30T08:45:30.004Z"
   },
   {
    "duration": 13,
    "start_time": "2021-11-30T08:45:30.336Z"
   },
   {
    "duration": 27,
    "start_time": "2021-11-30T08:45:30.352Z"
   },
   {
    "duration": 11,
    "start_time": "2021-11-30T08:48:25.352Z"
   },
   {
    "duration": 11,
    "start_time": "2021-11-30T08:49:41.394Z"
   },
   {
    "duration": 10,
    "start_time": "2021-11-30T08:50:02.204Z"
   },
   {
    "duration": 102,
    "start_time": "2021-11-30T08:51:40.537Z"
   },
   {
    "duration": 2438,
    "start_time": "2021-11-30T08:52:24.128Z"
   },
   {
    "duration": 265,
    "start_time": "2021-11-30T08:53:31.627Z"
   },
   {
    "duration": 12,
    "start_time": "2021-11-30T08:53:38.019Z"
   },
   {
    "duration": 13,
    "start_time": "2021-11-30T08:54:23.021Z"
   },
   {
    "duration": 13,
    "start_time": "2021-11-30T08:55:18.607Z"
   },
   {
    "duration": 14,
    "start_time": "2021-11-30T08:56:07.544Z"
   },
   {
    "duration": 4,
    "start_time": "2021-11-30T09:09:07.631Z"
   },
   {
    "duration": 66,
    "start_time": "2021-11-30T09:09:07.637Z"
   },
   {
    "duration": 18,
    "start_time": "2021-11-30T09:09:07.706Z"
   },
   {
    "duration": 41,
    "start_time": "2021-11-30T09:09:07.726Z"
   },
   {
    "duration": 35,
    "start_time": "2021-11-30T09:09:07.769Z"
   },
   {
    "duration": 9,
    "start_time": "2021-11-30T09:09:07.807Z"
   },
   {
    "duration": 9,
    "start_time": "2021-11-30T09:09:07.819Z"
   },
   {
    "duration": 389,
    "start_time": "2021-11-30T09:09:07.832Z"
   },
   {
    "duration": 477,
    "start_time": "2021-11-30T09:09:08.226Z"
   },
   {
    "duration": 75,
    "start_time": "2021-11-30T09:09:08.706Z"
   },
   {
    "duration": 324,
    "start_time": "2021-11-30T09:09:08.785Z"
   },
   {
    "duration": 8,
    "start_time": "2021-11-30T09:09:09.111Z"
   },
   {
    "duration": 16,
    "start_time": "2021-11-30T09:09:09.122Z"
   },
   {
    "duration": 38,
    "start_time": "2021-11-30T09:09:09.141Z"
   },
   {
    "duration": 8,
    "start_time": "2021-11-30T09:09:09.182Z"
   },
   {
    "duration": 14,
    "start_time": "2021-11-30T09:09:09.192Z"
   },
   {
    "duration": 5,
    "start_time": "2021-11-30T09:09:09.208Z"
   },
   {
    "duration": 53,
    "start_time": "2021-11-30T09:09:09.216Z"
   },
   {
    "duration": 14,
    "start_time": "2021-11-30T09:09:09.272Z"
   },
   {
    "duration": 43,
    "start_time": "2021-11-30T09:09:09.289Z"
   },
   {
    "duration": 33,
    "start_time": "2021-11-30T09:09:09.334Z"
   },
   {
    "duration": 39,
    "start_time": "2021-11-30T09:09:09.370Z"
   },
   {
    "duration": 318,
    "start_time": "2021-11-30T09:09:09.413Z"
   },
   {
    "duration": 11,
    "start_time": "2021-11-30T09:09:09.734Z"
   },
   {
    "duration": 26,
    "start_time": "2021-11-30T09:09:09.747Z"
   },
   {
    "duration": 397,
    "start_time": "2021-11-30T09:17:37.103Z"
   },
   {
    "duration": 275,
    "start_time": "2021-11-30T09:19:27.826Z"
   },
   {
    "duration": 3,
    "start_time": "2021-11-30T09:21:10.532Z"
   },
   {
    "duration": 5,
    "start_time": "2021-11-30T09:22:08.158Z"
   },
   {
    "duration": 5,
    "start_time": "2021-11-30T09:22:13.430Z"
   },
   {
    "duration": 293,
    "start_time": "2021-11-30T09:22:46.080Z"
   },
   {
    "duration": 8,
    "start_time": "2021-11-30T09:28:59.494Z"
   },
   {
    "duration": 8,
    "start_time": "2021-11-30T09:29:05.381Z"
   },
   {
    "duration": 10,
    "start_time": "2021-11-30T09:29:12.830Z"
   },
   {
    "duration": 8,
    "start_time": "2021-11-30T09:29:41.344Z"
   },
   {
    "duration": 9,
    "start_time": "2021-11-30T09:30:01.360Z"
   },
   {
    "duration": 11,
    "start_time": "2021-11-30T09:30:52.641Z"
   },
   {
    "duration": 9,
    "start_time": "2021-11-30T09:31:00.657Z"
   },
   {
    "duration": 6,
    "start_time": "2021-11-30T09:32:08.427Z"
   },
   {
    "duration": 35,
    "start_time": "2021-11-30T09:32:24.140Z"
   },
   {
    "duration": 38,
    "start_time": "2021-11-30T09:33:13.014Z"
   },
   {
    "duration": 38,
    "start_time": "2021-11-30T09:33:27.952Z"
   },
   {
    "duration": 9,
    "start_time": "2021-11-30T09:34:35.145Z"
   },
   {
    "duration": 11,
    "start_time": "2021-11-30T09:35:03.529Z"
   },
   {
    "duration": 12,
    "start_time": "2021-11-30T09:40:23.470Z"
   },
   {
    "duration": 19,
    "start_time": "2021-11-30T09:40:34.677Z"
   },
   {
    "duration": 255,
    "start_time": "2021-11-30T09:41:55.800Z"
   },
   {
    "duration": 10,
    "start_time": "2021-11-30T09:42:01.824Z"
   },
   {
    "duration": 11,
    "start_time": "2021-11-30T09:42:07.600Z"
   },
   {
    "duration": 12,
    "start_time": "2021-11-30T09:42:19.201Z"
   },
   {
    "duration": 9,
    "start_time": "2021-11-30T09:42:49.466Z"
   },
   {
    "duration": 38,
    "start_time": "2021-11-30T09:42:53.921Z"
   },
   {
    "duration": 13,
    "start_time": "2021-11-30T09:52:55.352Z"
   },
   {
    "duration": 12,
    "start_time": "2021-11-30T09:53:10.031Z"
   },
   {
    "duration": 4,
    "start_time": "2021-11-30T09:53:15.859Z"
   },
   {
    "duration": 71,
    "start_time": "2021-11-30T09:53:15.866Z"
   },
   {
    "duration": 36,
    "start_time": "2021-11-30T09:53:15.940Z"
   },
   {
    "duration": 15,
    "start_time": "2021-11-30T09:53:15.980Z"
   },
   {
    "duration": 36,
    "start_time": "2021-11-30T09:53:15.998Z"
   },
   {
    "duration": 40,
    "start_time": "2021-11-30T09:53:16.036Z"
   },
   {
    "duration": 11,
    "start_time": "2021-11-30T09:53:16.079Z"
   },
   {
    "duration": 359,
    "start_time": "2021-11-30T09:53:16.094Z"
   },
   {
    "duration": 313,
    "start_time": "2021-11-30T09:53:16.456Z"
   },
   {
    "duration": 37,
    "start_time": "2021-11-30T09:53:16.772Z"
   },
   {
    "duration": 450,
    "start_time": "2021-11-30T09:53:16.811Z"
   },
   {
    "duration": 8,
    "start_time": "2021-11-30T09:53:17.267Z"
   },
   {
    "duration": 9,
    "start_time": "2021-11-30T09:53:17.278Z"
   },
   {
    "duration": 17,
    "start_time": "2021-11-30T09:53:17.289Z"
   },
   {
    "duration": 10,
    "start_time": "2021-11-30T09:53:17.309Z"
   },
   {
    "duration": 13,
    "start_time": "2021-11-30T09:53:17.368Z"
   },
   {
    "duration": 317,
    "start_time": "2021-11-30T09:53:17.384Z"
   },
   {
    "duration": 8,
    "start_time": "2021-11-30T09:53:17.704Z"
   },
   {
    "duration": 56,
    "start_time": "2021-11-30T09:53:17.715Z"
   },
   {
    "duration": 8,
    "start_time": "2021-11-30T09:53:17.774Z"
   },
   {
    "duration": 15,
    "start_time": "2021-11-30T09:53:17.784Z"
   },
   {
    "duration": 66,
    "start_time": "2021-11-30T09:53:17.801Z"
   },
   {
    "duration": 8,
    "start_time": "2021-11-30T09:53:17.872Z"
   },
   {
    "duration": 9,
    "start_time": "2021-11-30T09:53:17.883Z"
   },
   {
    "duration": 29,
    "start_time": "2021-11-30T09:53:17.894Z"
   },
   {
    "duration": 15,
    "start_time": "2021-11-30T09:53:17.925Z"
   },
   {
    "duration": 20,
    "start_time": "2021-11-30T09:53:17.968Z"
   },
   {
    "duration": 342,
    "start_time": "2021-11-30T09:53:17.990Z"
   },
   {
    "duration": 8,
    "start_time": "2021-11-30T09:53:18.335Z"
   },
   {
    "duration": 24,
    "start_time": "2021-11-30T09:53:18.345Z"
   },
   {
    "duration": 12,
    "start_time": "2021-11-30T09:54:44.444Z"
   },
   {
    "duration": 10,
    "start_time": "2021-11-30T09:54:49.603Z"
   },
   {
    "duration": 4,
    "start_time": "2021-11-30T09:55:05.600Z"
   },
   {
    "duration": 67,
    "start_time": "2021-11-30T09:55:05.606Z"
   },
   {
    "duration": 17,
    "start_time": "2021-11-30T09:55:05.677Z"
   },
   {
    "duration": 17,
    "start_time": "2021-11-30T09:55:05.697Z"
   },
   {
    "duration": 65,
    "start_time": "2021-11-30T09:55:05.716Z"
   },
   {
    "duration": 10,
    "start_time": "2021-11-30T09:55:05.784Z"
   },
   {
    "duration": 11,
    "start_time": "2021-11-30T09:55:05.796Z"
   },
   {
    "duration": 347,
    "start_time": "2021-11-30T09:55:05.809Z"
   },
   {
    "duration": 321,
    "start_time": "2021-11-30T09:55:06.160Z"
   },
   {
    "duration": 42,
    "start_time": "2021-11-30T09:55:06.484Z"
   },
   {
    "duration": 346,
    "start_time": "2021-11-30T09:55:06.529Z"
   },
   {
    "duration": 8,
    "start_time": "2021-11-30T09:55:06.877Z"
   },
   {
    "duration": 12,
    "start_time": "2021-11-30T09:55:06.887Z"
   },
   {
    "duration": 19,
    "start_time": "2021-11-30T09:55:06.901Z"
   },
   {
    "duration": 8,
    "start_time": "2021-11-30T09:55:06.923Z"
   },
   {
    "duration": 13,
    "start_time": "2021-11-30T09:55:06.968Z"
   },
   {
    "duration": 311,
    "start_time": "2021-11-30T09:55:06.984Z"
   },
   {
    "duration": 10,
    "start_time": "2021-11-30T09:55:07.297Z"
   },
   {
    "duration": 59,
    "start_time": "2021-11-30T09:55:07.310Z"
   },
   {
    "duration": 8,
    "start_time": "2021-11-30T09:55:07.372Z"
   },
   {
    "duration": 20,
    "start_time": "2021-11-30T09:55:07.382Z"
   },
   {
    "duration": 66,
    "start_time": "2021-11-30T09:55:07.405Z"
   },
   {
    "duration": 9,
    "start_time": "2021-11-30T09:55:07.473Z"
   },
   {
    "duration": 11,
    "start_time": "2021-11-30T09:55:07.484Z"
   },
   {
    "duration": 23,
    "start_time": "2021-11-30T09:55:07.497Z"
   },
   {
    "duration": 48,
    "start_time": "2021-11-30T09:55:07.523Z"
   },
   {
    "duration": 18,
    "start_time": "2021-11-30T09:55:07.576Z"
   },
   {
    "duration": 347,
    "start_time": "2021-11-30T09:55:07.597Z"
   },
   {
    "duration": 20,
    "start_time": "2021-11-30T09:55:07.946Z"
   },
   {
    "duration": 8,
    "start_time": "2021-11-30T09:55:07.969Z"
   },
   {
    "duration": 38,
    "start_time": "2021-11-30T09:59:44.701Z"
   },
   {
    "duration": 40,
    "start_time": "2021-11-30T10:01:30.721Z"
   },
   {
    "duration": 5,
    "start_time": "2021-11-30T10:04:19.895Z"
   },
   {
    "duration": 6,
    "start_time": "2021-11-30T10:04:33.758Z"
   },
   {
    "duration": 11,
    "start_time": "2021-11-30T10:06:58.060Z"
   },
   {
    "duration": 9,
    "start_time": "2021-11-30T10:07:36.567Z"
   },
   {
    "duration": 8,
    "start_time": "2021-11-30T10:08:27.023Z"
   },
   {
    "duration": 9,
    "start_time": "2021-11-30T10:12:16.239Z"
   },
   {
    "duration": 3,
    "start_time": "2021-11-30T10:21:18.537Z"
   },
   {
    "duration": 128,
    "start_time": "2021-11-30T11:16:49.432Z"
   },
   {
    "duration": 124,
    "start_time": "2021-11-30T11:18:10.145Z"
   },
   {
    "duration": 91,
    "start_time": "2021-11-30T11:18:56.924Z"
   },
   {
    "duration": 93,
    "start_time": "2021-11-30T11:19:14.036Z"
   },
   {
    "duration": 94,
    "start_time": "2021-11-30T11:19:29.644Z"
   },
   {
    "duration": 80,
    "start_time": "2021-11-30T11:20:09.269Z"
   },
   {
    "duration": 89,
    "start_time": "2021-11-30T11:20:24.086Z"
   },
   {
    "duration": 90,
    "start_time": "2021-11-30T11:21:06.857Z"
   },
   {
    "duration": 91,
    "start_time": "2021-11-30T11:21:18.192Z"
   },
   {
    "duration": 120,
    "start_time": "2021-11-30T11:21:24.176Z"
   },
   {
    "duration": 83,
    "start_time": "2021-11-30T11:21:50.824Z"
   },
   {
    "duration": 99,
    "start_time": "2021-11-30T11:22:09.066Z"
   },
   {
    "duration": 3,
    "start_time": "2021-11-30T11:22:20.070Z"
   },
   {
    "duration": 100,
    "start_time": "2021-11-30T11:22:20.076Z"
   },
   {
    "duration": 24,
    "start_time": "2021-11-30T11:22:20.181Z"
   },
   {
    "duration": 20,
    "start_time": "2021-11-30T11:22:20.209Z"
   },
   {
    "duration": 62,
    "start_time": "2021-11-30T11:22:20.232Z"
   },
   {
    "duration": 10,
    "start_time": "2021-11-30T11:22:20.296Z"
   },
   {
    "duration": 14,
    "start_time": "2021-11-30T11:22:20.309Z"
   },
   {
    "duration": 355,
    "start_time": "2021-11-30T11:22:20.328Z"
   },
   {
    "duration": 307,
    "start_time": "2021-11-30T11:22:20.687Z"
   },
   {
    "duration": 37,
    "start_time": "2021-11-30T11:22:20.997Z"
   },
   {
    "duration": 435,
    "start_time": "2021-11-30T11:22:21.037Z"
   },
   {
    "duration": 10,
    "start_time": "2021-11-30T11:22:21.475Z"
   },
   {
    "duration": 13,
    "start_time": "2021-11-30T11:22:21.487Z"
   },
   {
    "duration": 36,
    "start_time": "2021-11-30T11:22:21.503Z"
   },
   {
    "duration": 29,
    "start_time": "2021-11-30T11:22:21.542Z"
   },
   {
    "duration": 18,
    "start_time": "2021-11-30T11:22:21.573Z"
   },
   {
    "duration": 315,
    "start_time": "2021-11-30T11:22:21.593Z"
   },
   {
    "duration": 9,
    "start_time": "2021-11-30T11:22:21.911Z"
   },
   {
    "duration": 57,
    "start_time": "2021-11-30T11:22:21.923Z"
   },
   {
    "duration": 8,
    "start_time": "2021-11-30T11:22:21.982Z"
   },
   {
    "duration": 22,
    "start_time": "2021-11-30T11:22:21.993Z"
   },
   {
    "duration": 58,
    "start_time": "2021-11-30T11:22:22.017Z"
   },
   {
    "duration": 13,
    "start_time": "2021-11-30T11:22:22.082Z"
   },
   {
    "duration": 100,
    "start_time": "2021-11-30T11:22:22.098Z"
   },
   {
    "duration": -22,
    "start_time": "2021-11-30T11:22:22.223Z"
   },
   {
    "duration": -22,
    "start_time": "2021-11-30T11:22:22.225Z"
   },
   {
    "duration": -23,
    "start_time": "2021-11-30T11:22:22.227Z"
   },
   {
    "duration": -23,
    "start_time": "2021-11-30T11:22:22.228Z"
   },
   {
    "duration": -23,
    "start_time": "2021-11-30T11:22:22.230Z"
   },
   {
    "duration": -23,
    "start_time": "2021-11-30T11:22:22.231Z"
   },
   {
    "duration": -27,
    "start_time": "2021-11-30T11:22:22.237Z"
   },
   {
    "duration": -26,
    "start_time": "2021-11-30T11:22:22.238Z"
   },
   {
    "duration": 274,
    "start_time": "2021-11-30T11:25:27.328Z"
   },
   {
    "duration": 283,
    "start_time": "2021-11-30T11:26:39.539Z"
   },
   {
    "duration": 273,
    "start_time": "2021-11-30T11:28:36.832Z"
   },
   {
    "duration": 270,
    "start_time": "2021-11-30T11:33:36.779Z"
   },
   {
    "duration": 285,
    "start_time": "2021-11-30T11:39:10.421Z"
   },
   {
    "duration": 266,
    "start_time": "2021-11-30T11:41:47.947Z"
   },
   {
    "duration": 271,
    "start_time": "2021-11-30T11:47:54.728Z"
   },
   {
    "duration": 331,
    "start_time": "2021-11-30T11:48:27.552Z"
   },
   {
    "duration": 4,
    "start_time": "2021-11-30T11:48:51.341Z"
   },
   {
    "duration": 69,
    "start_time": "2021-11-30T11:48:51.348Z"
   },
   {
    "duration": 18,
    "start_time": "2021-11-30T11:48:51.421Z"
   },
   {
    "duration": 41,
    "start_time": "2021-11-30T11:48:51.442Z"
   },
   {
    "duration": 38,
    "start_time": "2021-11-30T11:48:51.486Z"
   },
   {
    "duration": 43,
    "start_time": "2021-11-30T11:48:51.527Z"
   },
   {
    "duration": 15,
    "start_time": "2021-11-30T11:48:51.572Z"
   },
   {
    "duration": 334,
    "start_time": "2021-11-30T11:48:51.590Z"
   },
   {
    "duration": 307,
    "start_time": "2021-11-30T11:48:51.928Z"
   },
   {
    "duration": 54,
    "start_time": "2021-11-30T11:48:52.239Z"
   },
   {
    "duration": 321,
    "start_time": "2021-11-30T11:48:52.295Z"
   },
   {
    "duration": 8,
    "start_time": "2021-11-30T11:48:52.618Z"
   },
   {
    "duration": 14,
    "start_time": "2021-11-30T11:48:52.629Z"
   },
   {
    "duration": 21,
    "start_time": "2021-11-30T11:48:52.668Z"
   },
   {
    "duration": 11,
    "start_time": "2021-11-30T11:48:52.692Z"
   },
   {
    "duration": 18,
    "start_time": "2021-11-30T11:48:52.706Z"
   },
   {
    "duration": 435,
    "start_time": "2021-11-30T11:48:52.726Z"
   },
   {
    "duration": 10,
    "start_time": "2021-11-30T11:48:53.168Z"
   },
   {
    "duration": 36,
    "start_time": "2021-11-30T11:48:53.181Z"
   },
   {
    "duration": 48,
    "start_time": "2021-11-30T11:48:53.220Z"
   },
   {
    "duration": 14,
    "start_time": "2021-11-30T11:48:53.271Z"
   },
   {
    "duration": 239,
    "start_time": "2021-11-30T11:48:53.288Z"
   },
   {
    "duration": 16,
    "start_time": "2021-11-30T11:48:53.530Z"
   },
   {
    "duration": 20,
    "start_time": "2021-11-30T11:48:53.569Z"
   },
   {
    "duration": 15,
    "start_time": "2021-11-30T11:48:53.592Z"
   },
   {
    "duration": 9,
    "start_time": "2021-11-30T11:48:53.610Z"
   },
   {
    "duration": 76,
    "start_time": "2021-11-30T11:48:53.624Z"
   },
   {
    "duration": 13,
    "start_time": "2021-11-30T11:48:53.703Z"
   },
   {
    "duration": 85,
    "start_time": "2021-11-30T11:48:53.718Z"
   },
   {
    "duration": 311,
    "start_time": "2021-11-30T11:48:53.805Z"
   },
   {
    "duration": 13,
    "start_time": "2021-11-30T11:48:54.119Z"
   },
   {
    "duration": 36,
    "start_time": "2021-11-30T11:48:54.135Z"
   },
   {
    "duration": 11,
    "start_time": "2021-11-30T11:50:17.716Z"
   },
   {
    "duration": 4,
    "start_time": "2021-11-30T11:50:40.527Z"
   },
   {
    "duration": 70,
    "start_time": "2021-11-30T11:50:40.534Z"
   },
   {
    "duration": 20,
    "start_time": "2021-11-30T11:50:40.607Z"
   },
   {
    "duration": 39,
    "start_time": "2021-11-30T11:50:40.630Z"
   },
   {
    "duration": 46,
    "start_time": "2021-11-30T11:50:40.672Z"
   },
   {
    "duration": 13,
    "start_time": "2021-11-30T11:50:40.721Z"
   },
   {
    "duration": 11,
    "start_time": "2021-11-30T11:50:40.768Z"
   },
   {
    "duration": 342,
    "start_time": "2021-11-30T11:50:40.781Z"
   },
   {
    "duration": 308,
    "start_time": "2021-11-30T11:50:41.127Z"
   },
   {
    "duration": 47,
    "start_time": "2021-11-30T11:50:41.438Z"
   },
   {
    "duration": 319,
    "start_time": "2021-11-30T11:50:41.488Z"
   },
   {
    "duration": 7,
    "start_time": "2021-11-30T11:50:41.810Z"
   },
   {
    "duration": 10,
    "start_time": "2021-11-30T11:50:41.820Z"
   },
   {
    "duration": 46,
    "start_time": "2021-11-30T11:50:41.832Z"
   },
   {
    "duration": 8,
    "start_time": "2021-11-30T11:50:41.881Z"
   },
   {
    "duration": 15,
    "start_time": "2021-11-30T11:50:41.892Z"
   },
   {
    "duration": 315,
    "start_time": "2021-11-30T11:50:41.909Z"
   },
   {
    "duration": 9,
    "start_time": "2021-11-30T11:50:42.226Z"
   },
   {
    "duration": 58,
    "start_time": "2021-11-30T11:50:42.238Z"
   },
   {
    "duration": 9,
    "start_time": "2021-11-30T11:50:42.299Z"
   },
   {
    "duration": 11,
    "start_time": "2021-11-30T11:50:42.311Z"
   },
   {
    "duration": 82,
    "start_time": "2021-11-30T11:50:42.325Z"
   },
   {
    "duration": 12,
    "start_time": "2021-11-30T11:50:42.409Z"
   },
   {
    "duration": 9,
    "start_time": "2021-11-30T11:50:42.424Z"
   },
   {
    "duration": 40,
    "start_time": "2021-11-30T11:50:42.436Z"
   },
   {
    "duration": 8,
    "start_time": "2021-11-30T11:50:42.479Z"
   },
   {
    "duration": 35,
    "start_time": "2021-11-30T11:50:42.492Z"
   },
   {
    "duration": 47,
    "start_time": "2021-11-30T11:50:42.530Z"
   },
   {
    "duration": 57,
    "start_time": "2021-11-30T11:50:42.581Z"
   },
   {
    "duration": 418,
    "start_time": "2021-11-30T11:50:42.668Z"
   },
   {
    "duration": 14,
    "start_time": "2021-11-30T11:50:43.089Z"
   },
   {
    "duration": 19,
    "start_time": "2021-11-30T11:50:43.106Z"
   },
   {
    "duration": 289,
    "start_time": "2021-11-30T11:51:04.670Z"
   },
   {
    "duration": 4,
    "start_time": "2021-11-30T11:51:09.385Z"
   },
   {
    "duration": 66,
    "start_time": "2021-11-30T11:51:09.392Z"
   },
   {
    "duration": 17,
    "start_time": "2021-11-30T11:51:09.467Z"
   },
   {
    "duration": 23,
    "start_time": "2021-11-30T11:51:09.487Z"
   },
   {
    "duration": 56,
    "start_time": "2021-11-30T11:51:09.513Z"
   },
   {
    "duration": 10,
    "start_time": "2021-11-30T11:51:09.571Z"
   },
   {
    "duration": 13,
    "start_time": "2021-11-30T11:51:09.584Z"
   },
   {
    "duration": 341,
    "start_time": "2021-11-30T11:51:09.600Z"
   },
   {
    "duration": 311,
    "start_time": "2021-11-30T11:51:09.945Z"
   },
   {
    "duration": 44,
    "start_time": "2021-11-30T11:51:10.259Z"
   },
   {
    "duration": 347,
    "start_time": "2021-11-30T11:51:10.305Z"
   },
   {
    "duration": 16,
    "start_time": "2021-11-30T11:51:10.655Z"
   },
   {
    "duration": 10,
    "start_time": "2021-11-30T11:51:10.674Z"
   },
   {
    "duration": 17,
    "start_time": "2021-11-30T11:51:10.687Z"
   },
   {
    "duration": 8,
    "start_time": "2021-11-30T11:51:10.707Z"
   },
   {
    "duration": 54,
    "start_time": "2021-11-30T11:51:10.717Z"
   },
   {
    "duration": 294,
    "start_time": "2021-11-30T11:51:10.773Z"
   },
   {
    "duration": 10,
    "start_time": "2021-11-30T11:51:11.070Z"
   },
   {
    "duration": 45,
    "start_time": "2021-11-30T11:51:11.082Z"
   },
   {
    "duration": 9,
    "start_time": "2021-11-30T11:51:11.129Z"
   },
   {
    "duration": 11,
    "start_time": "2021-11-30T11:51:11.167Z"
   },
   {
    "duration": 41,
    "start_time": "2021-11-30T11:51:11.180Z"
   },
   {
    "duration": 10,
    "start_time": "2021-11-30T11:51:11.224Z"
   },
   {
    "duration": 300,
    "start_time": "2021-11-30T11:51:11.236Z"
   },
   {
    "duration": -25,
    "start_time": "2021-11-30T11:51:11.563Z"
   },
   {
    "duration": -25,
    "start_time": "2021-11-30T11:51:11.565Z"
   },
   {
    "duration": -25,
    "start_time": "2021-11-30T11:51:11.567Z"
   },
   {
    "duration": -26,
    "start_time": "2021-11-30T11:51:11.569Z"
   },
   {
    "duration": -27,
    "start_time": "2021-11-30T11:51:11.571Z"
   },
   {
    "duration": -26,
    "start_time": "2021-11-30T11:51:11.572Z"
   },
   {
    "duration": -27,
    "start_time": "2021-11-30T11:51:11.574Z"
   },
   {
    "duration": -31,
    "start_time": "2021-11-30T11:51:11.579Z"
   },
   {
    "duration": 387,
    "start_time": "2021-11-30T11:51:31.535Z"
   },
   {
    "duration": 4,
    "start_time": "2021-11-30T11:51:35.396Z"
   },
   {
    "duration": 74,
    "start_time": "2021-11-30T11:51:35.403Z"
   },
   {
    "duration": 19,
    "start_time": "2021-11-30T11:51:35.481Z"
   },
   {
    "duration": 17,
    "start_time": "2021-11-30T11:51:35.504Z"
   },
   {
    "duration": 83,
    "start_time": "2021-11-30T11:51:35.524Z"
   },
   {
    "duration": 10,
    "start_time": "2021-11-30T11:51:35.609Z"
   },
   {
    "duration": 46,
    "start_time": "2021-11-30T11:51:35.621Z"
   },
   {
    "duration": 326,
    "start_time": "2021-11-30T11:51:35.670Z"
   },
   {
    "duration": 290,
    "start_time": "2021-11-30T11:51:36.000Z"
   },
   {
    "duration": 39,
    "start_time": "2021-11-30T11:51:36.293Z"
   },
   {
    "duration": 383,
    "start_time": "2021-11-30T11:51:36.334Z"
   },
   {
    "duration": 7,
    "start_time": "2021-11-30T11:51:36.720Z"
   },
   {
    "duration": 45,
    "start_time": "2021-11-30T11:51:36.730Z"
   },
   {
    "duration": 27,
    "start_time": "2021-11-30T11:51:36.777Z"
   },
   {
    "duration": 8,
    "start_time": "2021-11-30T11:51:36.807Z"
   },
   {
    "duration": 19,
    "start_time": "2021-11-30T11:51:36.817Z"
   },
   {
    "duration": 408,
    "start_time": "2021-11-30T11:51:36.839Z"
   },
   {
    "duration": 18,
    "start_time": "2021-11-30T11:51:37.249Z"
   },
   {
    "duration": 37,
    "start_time": "2021-11-30T11:51:37.270Z"
   },
   {
    "duration": 8,
    "start_time": "2021-11-30T11:51:37.309Z"
   },
   {
    "duration": 47,
    "start_time": "2021-11-30T11:51:37.319Z"
   },
   {
    "duration": 41,
    "start_time": "2021-11-30T11:51:37.369Z"
   },
   {
    "duration": 12,
    "start_time": "2021-11-30T11:51:37.412Z"
   },
   {
    "duration": 544,
    "start_time": "2021-11-30T11:51:37.427Z"
   },
   {
    "duration": -21,
    "start_time": "2021-11-30T11:51:37.994Z"
   },
   {
    "duration": -21,
    "start_time": "2021-11-30T11:51:37.996Z"
   },
   {
    "duration": -35,
    "start_time": "2021-11-30T11:51:38.011Z"
   },
   {
    "duration": -34,
    "start_time": "2021-11-30T11:51:38.012Z"
   },
   {
    "duration": -35,
    "start_time": "2021-11-30T11:51:38.014Z"
   },
   {
    "duration": -35,
    "start_time": "2021-11-30T11:51:38.016Z"
   },
   {
    "duration": -35,
    "start_time": "2021-11-30T11:51:38.017Z"
   },
   {
    "duration": -36,
    "start_time": "2021-11-30T11:51:38.019Z"
   },
   {
    "duration": 304,
    "start_time": "2021-11-30T11:52:35.329Z"
   },
   {
    "duration": 10,
    "start_time": "2021-11-30T11:58:05.588Z"
   },
   {
    "duration": 284,
    "start_time": "2021-11-30T11:58:57.622Z"
   },
   {
    "duration": 10,
    "start_time": "2021-11-30T11:59:18.897Z"
   },
   {
    "duration": 43,
    "start_time": "2021-11-30T12:00:16.192Z"
   },
   {
    "duration": 13,
    "start_time": "2021-11-30T12:01:59.165Z"
   },
   {
    "duration": 5,
    "start_time": "2021-11-30T12:02:03.481Z"
   },
   {
    "duration": 128,
    "start_time": "2021-11-30T12:02:03.490Z"
   },
   {
    "duration": 33,
    "start_time": "2021-11-30T12:02:03.623Z"
   },
   {
    "duration": 19,
    "start_time": "2021-11-30T12:02:03.669Z"
   },
   {
    "duration": 39,
    "start_time": "2021-11-30T12:02:03.691Z"
   },
   {
    "duration": 11,
    "start_time": "2021-11-30T12:02:03.768Z"
   },
   {
    "duration": 27,
    "start_time": "2021-11-30T12:02:03.781Z"
   },
   {
    "duration": 356,
    "start_time": "2021-11-30T12:02:03.811Z"
   },
   {
    "duration": 554,
    "start_time": "2021-11-30T12:02:04.174Z"
   },
   {
    "duration": 86,
    "start_time": "2021-11-30T12:02:04.733Z"
   },
   {
    "duration": 570,
    "start_time": "2021-11-30T12:02:04.823Z"
   },
   {
    "duration": 12,
    "start_time": "2021-11-30T12:02:05.397Z"
   },
   {
    "duration": 19,
    "start_time": "2021-11-30T12:02:05.411Z"
   },
   {
    "duration": 38,
    "start_time": "2021-11-30T12:02:05.433Z"
   },
   {
    "duration": 10,
    "start_time": "2021-11-30T12:02:05.473Z"
   },
   {
    "duration": 23,
    "start_time": "2021-11-30T12:02:05.485Z"
   },
   {
    "duration": 321,
    "start_time": "2021-11-30T12:02:05.510Z"
   },
   {
    "duration": 10,
    "start_time": "2021-11-30T12:02:05.833Z"
   },
   {
    "duration": 61,
    "start_time": "2021-11-30T12:02:05.845Z"
   },
   {
    "duration": 21,
    "start_time": "2021-11-30T12:02:05.909Z"
   },
   {
    "duration": 23,
    "start_time": "2021-11-30T12:02:05.933Z"
   },
   {
    "duration": 53,
    "start_time": "2021-11-30T12:02:05.959Z"
   },
   {
    "duration": 20,
    "start_time": "2021-11-30T12:02:06.015Z"
   },
   {
    "duration": 33,
    "start_time": "2021-11-30T12:02:06.037Z"
   },
   {
    "duration": 19,
    "start_time": "2021-11-30T12:02:06.073Z"
   },
   {
    "duration": 23,
    "start_time": "2021-11-30T12:02:06.094Z"
   },
   {
    "duration": 61,
    "start_time": "2021-11-30T12:02:06.121Z"
   },
   {
    "duration": 12,
    "start_time": "2021-11-30T12:02:06.186Z"
   },
   {
    "duration": 51,
    "start_time": "2021-11-30T12:02:06.201Z"
   },
   {
    "duration": 331,
    "start_time": "2021-11-30T12:02:06.271Z"
   },
   {
    "duration": 11,
    "start_time": "2021-11-30T12:02:06.604Z"
   },
   {
    "duration": 23,
    "start_time": "2021-11-30T12:02:06.618Z"
   },
   {
    "duration": 16,
    "start_time": "2021-11-30T12:02:44.062Z"
   },
   {
    "duration": 11,
    "start_time": "2021-11-30T12:04:01.107Z"
   },
   {
    "duration": 14,
    "start_time": "2021-11-30T12:10:11.942Z"
   },
   {
    "duration": 15,
    "start_time": "2021-11-30T12:10:52.974Z"
   },
   {
    "duration": 44,
    "start_time": "2021-11-30T12:11:04.335Z"
   },
   {
    "duration": 42,
    "start_time": "2021-11-30T12:12:35.659Z"
   },
   {
    "duration": 28,
    "start_time": "2021-11-30T12:13:02.340Z"
   },
   {
    "duration": 36,
    "start_time": "2021-11-30T12:18:53.208Z"
   },
   {
    "duration": 3,
    "start_time": "2021-11-30T12:22:35.740Z"
   },
   {
    "duration": 84,
    "start_time": "2021-11-30T12:22:35.747Z"
   },
   {
    "duration": 205,
    "start_time": "2021-11-30T12:22:35.834Z"
   },
   {
    "duration": 32,
    "start_time": "2021-11-30T12:22:36.042Z"
   },
   {
    "duration": 38,
    "start_time": "2021-11-30T12:22:36.076Z"
   },
   {
    "duration": 11,
    "start_time": "2021-11-30T12:22:36.116Z"
   },
   {
    "duration": 39,
    "start_time": "2021-11-30T12:22:36.130Z"
   },
   {
    "duration": 335,
    "start_time": "2021-11-30T12:22:36.173Z"
   },
   {
    "duration": 317,
    "start_time": "2021-11-30T12:22:36.513Z"
   },
   {
    "duration": 79,
    "start_time": "2021-11-30T12:22:36.834Z"
   },
   {
    "duration": 563,
    "start_time": "2021-11-30T12:22:36.917Z"
   },
   {
    "duration": 11,
    "start_time": "2021-11-30T12:22:37.484Z"
   },
   {
    "duration": 18,
    "start_time": "2021-11-30T12:22:37.497Z"
   },
   {
    "duration": 48,
    "start_time": "2021-11-30T12:22:37.518Z"
   },
   {
    "duration": 20,
    "start_time": "2021-11-30T12:22:37.569Z"
   },
   {
    "duration": 20,
    "start_time": "2021-11-30T12:22:37.592Z"
   },
   {
    "duration": 304,
    "start_time": "2021-11-30T12:22:37.615Z"
   },
   {
    "duration": 10,
    "start_time": "2021-11-30T12:22:37.922Z"
   },
   {
    "duration": 57,
    "start_time": "2021-11-30T12:22:37.934Z"
   },
   {
    "duration": 9,
    "start_time": "2021-11-30T12:22:37.994Z"
   },
   {
    "duration": 16,
    "start_time": "2021-11-30T12:22:38.006Z"
   },
   {
    "duration": 96,
    "start_time": "2021-11-30T12:22:38.025Z"
   },
   {
    "duration": 11,
    "start_time": "2021-11-30T12:22:38.127Z"
   },
   {
    "duration": 41,
    "start_time": "2021-11-30T12:22:38.141Z"
   },
   {
    "duration": 44,
    "start_time": "2021-11-30T12:22:38.185Z"
   },
   {
    "duration": 53,
    "start_time": "2021-11-30T12:22:38.232Z"
   },
   {
    "duration": 19,
    "start_time": "2021-11-30T12:22:38.289Z"
   },
   {
    "duration": 17,
    "start_time": "2021-11-30T12:22:38.311Z"
   },
   {
    "duration": 61,
    "start_time": "2021-11-30T12:22:38.331Z"
   },
   {
    "duration": 10,
    "start_time": "2021-11-30T12:22:38.395Z"
   },
   {
    "duration": 64,
    "start_time": "2021-11-30T12:22:38.408Z"
   },
   {
    "duration": 311,
    "start_time": "2021-11-30T12:22:38.474Z"
   },
   {
    "duration": 12,
    "start_time": "2021-11-30T12:22:38.787Z"
   },
   {
    "duration": 18,
    "start_time": "2021-11-30T12:22:38.802Z"
   },
   {
    "duration": 16,
    "start_time": "2021-11-30T12:41:55.431Z"
   },
   {
    "duration": 10,
    "start_time": "2021-11-30T12:41:59.979Z"
   },
   {
    "duration": 78,
    "start_time": "2021-11-30T12:41:59.993Z"
   },
   {
    "duration": 22,
    "start_time": "2021-11-30T12:42:00.074Z"
   },
   {
    "duration": 27,
    "start_time": "2021-11-30T12:42:00.099Z"
   },
   {
    "duration": 60,
    "start_time": "2021-11-30T12:42:00.129Z"
   },
   {
    "duration": 13,
    "start_time": "2021-11-30T12:42:00.192Z"
   },
   {
    "duration": 21,
    "start_time": "2021-11-30T12:42:00.208Z"
   },
   {
    "duration": 349,
    "start_time": "2021-11-30T12:42:00.232Z"
   },
   {
    "duration": 310,
    "start_time": "2021-11-30T12:42:00.585Z"
   },
   {
    "duration": 40,
    "start_time": "2021-11-30T12:42:00.898Z"
   },
   {
    "duration": 342,
    "start_time": "2021-11-30T12:42:00.940Z"
   },
   {
    "duration": 8,
    "start_time": "2021-11-30T12:42:01.285Z"
   },
   {
    "duration": 26,
    "start_time": "2021-11-30T12:42:01.296Z"
   },
   {
    "duration": 41,
    "start_time": "2021-11-30T12:42:01.325Z"
   },
   {
    "duration": 20,
    "start_time": "2021-11-30T12:42:01.369Z"
   },
   {
    "duration": 36,
    "start_time": "2021-11-30T12:42:01.391Z"
   },
   {
    "duration": 298,
    "start_time": "2021-11-30T12:42:01.430Z"
   },
   {
    "duration": 10,
    "start_time": "2021-11-30T12:42:01.731Z"
   },
   {
    "duration": 54,
    "start_time": "2021-11-30T12:42:01.743Z"
   },
   {
    "duration": 9,
    "start_time": "2021-11-30T12:42:01.800Z"
   },
   {
    "duration": 15,
    "start_time": "2021-11-30T12:42:01.811Z"
   },
   {
    "duration": 69,
    "start_time": "2021-11-30T12:42:01.829Z"
   },
   {
    "duration": 12,
    "start_time": "2021-11-30T12:42:01.902Z"
   },
   {
    "duration": 18,
    "start_time": "2021-11-30T12:42:01.917Z"
   },
   {
    "duration": 57,
    "start_time": "2021-11-30T12:42:01.938Z"
   },
   {
    "duration": 69,
    "start_time": "2021-11-30T12:42:01.998Z"
   },
   {
    "duration": 11,
    "start_time": "2021-11-30T12:42:02.072Z"
   },
   {
    "duration": 12,
    "start_time": "2021-11-30T12:42:02.086Z"
   },
   {
    "duration": 68,
    "start_time": "2021-11-30T12:42:02.101Z"
   },
   {
    "duration": 12,
    "start_time": "2021-11-30T12:42:02.172Z"
   },
   {
    "duration": 46,
    "start_time": "2021-11-30T12:42:02.188Z"
   },
   {
    "duration": 354,
    "start_time": "2021-11-30T12:42:02.237Z"
   },
   {
    "duration": 14,
    "start_time": "2021-11-30T12:42:02.594Z"
   },
   {
    "duration": 16,
    "start_time": "2021-11-30T12:42:02.611Z"
   },
   {
    "duration": 4,
    "start_time": "2021-11-30T13:06:40.744Z"
   },
   {
    "duration": 86,
    "start_time": "2021-11-30T13:06:40.751Z"
   },
   {
    "duration": 29,
    "start_time": "2021-11-30T13:06:40.840Z"
   },
   {
    "duration": 28,
    "start_time": "2021-11-30T13:06:40.873Z"
   },
   {
    "duration": 66,
    "start_time": "2021-11-30T13:06:40.904Z"
   },
   {
    "duration": 22,
    "start_time": "2021-11-30T13:06:40.974Z"
   },
   {
    "duration": 13,
    "start_time": "2021-11-30T13:06:41.000Z"
   },
   {
    "duration": 400,
    "start_time": "2021-11-30T13:06:41.017Z"
   },
   {
    "duration": 375,
    "start_time": "2021-11-30T13:06:41.422Z"
   },
   {
    "duration": 42,
    "start_time": "2021-11-30T13:06:41.799Z"
   },
   {
    "duration": 385,
    "start_time": "2021-11-30T13:06:41.844Z"
   },
   {
    "duration": 8,
    "start_time": "2021-11-30T13:06:42.231Z"
   },
   {
    "duration": 36,
    "start_time": "2021-11-30T13:06:42.241Z"
   },
   {
    "duration": 23,
    "start_time": "2021-11-30T13:06:42.281Z"
   },
   {
    "duration": 9,
    "start_time": "2021-11-30T13:06:42.306Z"
   },
   {
    "duration": 15,
    "start_time": "2021-11-30T13:06:42.317Z"
   },
   {
    "duration": 377,
    "start_time": "2021-11-30T13:06:42.335Z"
   },
   {
    "duration": 11,
    "start_time": "2021-11-30T13:06:42.716Z"
   },
   {
    "duration": 77,
    "start_time": "2021-11-30T13:06:42.729Z"
   },
   {
    "duration": 9,
    "start_time": "2021-11-30T13:06:42.809Z"
   },
   {
    "duration": 14,
    "start_time": "2021-11-30T13:06:42.820Z"
   },
   {
    "duration": 77,
    "start_time": "2021-11-30T13:06:42.836Z"
   },
   {
    "duration": 11,
    "start_time": "2021-11-30T13:06:42.918Z"
   },
   {
    "duration": 47,
    "start_time": "2021-11-30T13:06:42.932Z"
   },
   {
    "duration": 40,
    "start_time": "2021-11-30T13:06:42.982Z"
   },
   {
    "duration": 68,
    "start_time": "2021-11-30T13:06:43.024Z"
   },
   {
    "duration": 23,
    "start_time": "2021-11-30T13:06:43.095Z"
   },
   {
    "duration": 22,
    "start_time": "2021-11-30T13:06:43.121Z"
   },
   {
    "duration": 32,
    "start_time": "2021-11-30T13:06:43.145Z"
   },
   {
    "duration": 37,
    "start_time": "2021-11-30T13:09:18.115Z"
   },
   {
    "duration": 21,
    "start_time": "2021-11-30T13:09:37.044Z"
   },
   {
    "duration": 25,
    "start_time": "2021-11-30T13:13:26.676Z"
   },
   {
    "duration": 4,
    "start_time": "2021-11-30T13:15:22.115Z"
   },
   {
    "duration": 88,
    "start_time": "2021-11-30T13:15:22.123Z"
   },
   {
    "duration": 18,
    "start_time": "2021-11-30T13:15:22.214Z"
   },
   {
    "duration": 19,
    "start_time": "2021-11-30T13:15:22.235Z"
   },
   {
    "duration": 55,
    "start_time": "2021-11-30T13:15:22.267Z"
   },
   {
    "duration": 11,
    "start_time": "2021-11-30T13:15:22.325Z"
   },
   {
    "duration": 42,
    "start_time": "2021-11-30T13:15:22.338Z"
   },
   {
    "duration": 377,
    "start_time": "2021-11-30T13:15:22.383Z"
   },
   {
    "duration": 360,
    "start_time": "2021-11-30T13:15:22.764Z"
   },
   {
    "duration": 63,
    "start_time": "2021-11-30T13:15:23.128Z"
   },
   {
    "duration": 361,
    "start_time": "2021-11-30T13:15:23.194Z"
   },
   {
    "duration": 21,
    "start_time": "2021-11-30T13:15:23.557Z"
   },
   {
    "duration": 12,
    "start_time": "2021-11-30T13:15:23.583Z"
   },
   {
    "duration": 16,
    "start_time": "2021-11-30T13:15:23.598Z"
   },
   {
    "duration": 10,
    "start_time": "2021-11-30T13:15:23.617Z"
   },
   {
    "duration": 54,
    "start_time": "2021-11-30T13:15:23.631Z"
   },
   {
    "duration": 345,
    "start_time": "2021-11-30T13:15:23.688Z"
   },
   {
    "duration": 9,
    "start_time": "2021-11-30T13:15:24.035Z"
   },
   {
    "duration": 56,
    "start_time": "2021-11-30T13:15:24.046Z"
   },
   {
    "duration": 9,
    "start_time": "2021-11-30T13:15:24.106Z"
   },
   {
    "duration": 12,
    "start_time": "2021-11-30T13:15:24.118Z"
   },
   {
    "duration": 84,
    "start_time": "2021-11-30T13:15:24.133Z"
   },
   {
    "duration": 11,
    "start_time": "2021-11-30T13:15:24.219Z"
   },
   {
    "duration": 48,
    "start_time": "2021-11-30T13:15:24.232Z"
   },
   {
    "duration": 22,
    "start_time": "2021-11-30T13:15:24.283Z"
   },
   {
    "duration": 70,
    "start_time": "2021-11-30T13:15:24.313Z"
   },
   {
    "duration": 39,
    "start_time": "2021-11-30T13:15:24.390Z"
   },
   {
    "duration": 41,
    "start_time": "2021-11-30T13:15:24.432Z"
   },
   {
    "duration": 19,
    "start_time": "2021-11-30T13:15:24.476Z"
   },
   {
    "duration": 13,
    "start_time": "2021-11-30T13:16:51.618Z"
   },
   {
    "duration": 4,
    "start_time": "2021-11-30T13:17:02.245Z"
   },
   {
    "duration": 83,
    "start_time": "2021-11-30T13:17:02.252Z"
   },
   {
    "duration": 18,
    "start_time": "2021-11-30T13:17:02.338Z"
   },
   {
    "duration": 43,
    "start_time": "2021-11-30T13:17:02.359Z"
   },
   {
    "duration": 40,
    "start_time": "2021-11-30T13:17:02.404Z"
   },
   {
    "duration": 45,
    "start_time": "2021-11-30T13:17:02.447Z"
   },
   {
    "duration": 29,
    "start_time": "2021-11-30T13:17:02.495Z"
   },
   {
    "duration": 371,
    "start_time": "2021-11-30T13:17:02.526Z"
   },
   {
    "duration": 336,
    "start_time": "2021-11-30T13:17:02.903Z"
   },
   {
    "duration": 61,
    "start_time": "2021-11-30T13:17:03.242Z"
   },
   {
    "duration": 401,
    "start_time": "2021-11-30T13:17:03.306Z"
   },
   {
    "duration": 8,
    "start_time": "2021-11-30T13:17:03.710Z"
   },
   {
    "duration": 12,
    "start_time": "2021-11-30T13:17:03.720Z"
   },
   {
    "duration": 45,
    "start_time": "2021-11-30T13:17:03.734Z"
   },
   {
    "duration": 14,
    "start_time": "2021-11-30T13:17:03.783Z"
   },
   {
    "duration": 18,
    "start_time": "2021-11-30T13:17:03.800Z"
   },
   {
    "duration": 403,
    "start_time": "2021-11-30T13:17:03.821Z"
   },
   {
    "duration": 9,
    "start_time": "2021-11-30T13:17:04.227Z"
   },
   {
    "duration": 67,
    "start_time": "2021-11-30T13:17:04.239Z"
   },
   {
    "duration": 20,
    "start_time": "2021-11-30T13:17:04.309Z"
   },
   {
    "duration": 16,
    "start_time": "2021-11-30T13:17:04.332Z"
   },
   {
    "duration": 49,
    "start_time": "2021-11-30T13:17:04.367Z"
   },
   {
    "duration": 11,
    "start_time": "2021-11-30T13:17:04.418Z"
   },
   {
    "duration": 53,
    "start_time": "2021-11-30T13:17:04.432Z"
   },
   {
    "duration": 21,
    "start_time": "2021-11-30T13:17:04.489Z"
   },
   {
    "duration": 67,
    "start_time": "2021-11-30T13:17:04.513Z"
   },
   {
    "duration": 42,
    "start_time": "2021-11-30T13:17:04.588Z"
   },
   {
    "duration": 40,
    "start_time": "2021-11-30T13:17:04.634Z"
   },
   {
    "duration": 22,
    "start_time": "2021-11-30T13:17:04.678Z"
   },
   {
    "duration": 14,
    "start_time": "2021-11-30T13:20:38.937Z"
   },
   {
    "duration": 6,
    "start_time": "2021-11-30T13:30:28.629Z"
   },
   {
    "duration": 20,
    "start_time": "2021-11-30T13:30:41.701Z"
   },
   {
    "duration": 24,
    "start_time": "2021-11-30T13:39:31.336Z"
   },
   {
    "duration": 364,
    "start_time": "2021-11-30T13:43:27.666Z"
   },
   {
    "duration": 17,
    "start_time": "2021-11-30T13:45:16.635Z"
   },
   {
    "duration": 78,
    "start_time": "2021-11-30T13:48:17.772Z"
   },
   {
    "duration": 5,
    "start_time": "2021-11-30T13:48:21.310Z"
   },
   {
    "duration": 93,
    "start_time": "2021-11-30T13:48:21.319Z"
   },
   {
    "duration": 25,
    "start_time": "2021-11-30T13:48:21.416Z"
   },
   {
    "duration": 43,
    "start_time": "2021-11-30T13:48:21.445Z"
   },
   {
    "duration": 37,
    "start_time": "2021-11-30T13:48:21.491Z"
   },
   {
    "duration": 38,
    "start_time": "2021-11-30T13:48:21.531Z"
   },
   {
    "duration": 13,
    "start_time": "2021-11-30T13:48:21.573Z"
   },
   {
    "duration": 440,
    "start_time": "2021-11-30T13:48:21.591Z"
   },
   {
    "duration": 601,
    "start_time": "2021-11-30T13:48:22.035Z"
   },
   {
    "duration": 63,
    "start_time": "2021-11-30T13:48:22.639Z"
   },
   {
    "duration": 377,
    "start_time": "2021-11-30T13:48:22.705Z"
   },
   {
    "duration": 13,
    "start_time": "2021-11-30T13:48:23.086Z"
   },
   {
    "duration": 11,
    "start_time": "2021-11-30T13:48:23.103Z"
   },
   {
    "duration": 17,
    "start_time": "2021-11-30T13:48:23.116Z"
   },
   {
    "duration": 11,
    "start_time": "2021-11-30T13:48:23.168Z"
   },
   {
    "duration": 25,
    "start_time": "2021-11-30T13:48:23.181Z"
   },
   {
    "duration": 528,
    "start_time": "2021-11-30T13:48:23.210Z"
   },
   {
    "duration": 9,
    "start_time": "2021-11-30T13:48:23.741Z"
   },
   {
    "duration": 52,
    "start_time": "2021-11-30T13:48:23.768Z"
   },
   {
    "duration": 11,
    "start_time": "2021-11-30T13:48:23.824Z"
   },
   {
    "duration": 20,
    "start_time": "2021-11-30T13:48:23.867Z"
   },
   {
    "duration": 47,
    "start_time": "2021-11-30T13:48:23.890Z"
   },
   {
    "duration": 19,
    "start_time": "2021-11-30T13:48:23.966Z"
   },
   {
    "duration": 17,
    "start_time": "2021-11-30T13:48:23.989Z"
   },
   {
    "duration": 61,
    "start_time": "2021-11-30T13:48:24.010Z"
   },
   {
    "duration": 43,
    "start_time": "2021-11-30T13:48:24.074Z"
   },
   {
    "duration": 74,
    "start_time": "2021-11-30T13:48:24.120Z"
   },
   {
    "duration": 32,
    "start_time": "2021-11-30T13:48:24.198Z"
   },
   {
    "duration": 19,
    "start_time": "2021-11-30T13:48:24.233Z"
   },
   {
    "duration": 38,
    "start_time": "2021-11-30T13:48:24.269Z"
   },
   {
    "duration": 58,
    "start_time": "2021-11-30T13:48:24.310Z"
   },
   {
    "duration": 23,
    "start_time": "2021-11-30T13:48:24.371Z"
   },
   {
    "duration": 96,
    "start_time": "2021-11-30T13:48:24.397Z"
   },
   {
    "duration": 17,
    "start_time": "2021-11-30T13:48:37.660Z"
   },
   {
    "duration": 44,
    "start_time": "2021-11-30T13:49:20.843Z"
   },
   {
    "duration": 33,
    "start_time": "2021-11-30T13:52:05.372Z"
   },
   {
    "duration": 32,
    "start_time": "2021-11-30T13:52:32.892Z"
   },
   {
    "duration": 25,
    "start_time": "2021-11-30T13:52:45.220Z"
   },
   {
    "duration": 5,
    "start_time": "2021-11-30T14:09:24.904Z"
   },
   {
    "duration": 85,
    "start_time": "2021-11-30T14:09:24.912Z"
   },
   {
    "duration": 21,
    "start_time": "2021-11-30T14:09:25.001Z"
   },
   {
    "duration": 17,
    "start_time": "2021-11-30T14:09:25.025Z"
   },
   {
    "duration": 78,
    "start_time": "2021-11-30T14:09:25.046Z"
   },
   {
    "duration": 14,
    "start_time": "2021-11-30T14:09:25.127Z"
   },
   {
    "duration": 34,
    "start_time": "2021-11-30T14:09:25.145Z"
   },
   {
    "duration": 369,
    "start_time": "2021-11-30T14:09:25.185Z"
   },
   {
    "duration": 380,
    "start_time": "2021-11-30T14:09:25.560Z"
   },
   {
    "duration": 69,
    "start_time": "2021-11-30T14:09:25.944Z"
   },
   {
    "duration": 426,
    "start_time": "2021-11-30T14:09:26.016Z"
   },
   {
    "duration": 10,
    "start_time": "2021-11-30T14:09:26.444Z"
   },
   {
    "duration": 28,
    "start_time": "2021-11-30T14:09:26.456Z"
   },
   {
    "duration": 23,
    "start_time": "2021-11-30T14:09:26.488Z"
   },
   {
    "duration": 17,
    "start_time": "2021-11-30T14:09:26.514Z"
   },
   {
    "duration": 52,
    "start_time": "2021-11-30T14:09:26.534Z"
   },
   {
    "duration": 353,
    "start_time": "2021-11-30T14:09:26.588Z"
   },
   {
    "duration": 10,
    "start_time": "2021-11-30T14:09:26.944Z"
   },
   {
    "duration": 61,
    "start_time": "2021-11-30T14:09:26.977Z"
   },
   {
    "duration": 11,
    "start_time": "2021-11-30T14:09:27.042Z"
   },
   {
    "duration": 15,
    "start_time": "2021-11-30T14:09:27.087Z"
   },
   {
    "duration": 69,
    "start_time": "2021-11-30T14:09:27.106Z"
   },
   {
    "duration": 15,
    "start_time": "2021-11-30T14:09:27.178Z"
   },
   {
    "duration": 14,
    "start_time": "2021-11-30T14:09:27.196Z"
   },
   {
    "duration": 55,
    "start_time": "2021-11-30T14:09:27.212Z"
   },
   {
    "duration": 39,
    "start_time": "2021-11-30T14:09:27.271Z"
   },
   {
    "duration": 86,
    "start_time": "2021-11-30T14:09:27.318Z"
   },
   {
    "duration": 20,
    "start_time": "2021-11-30T14:09:27.408Z"
   },
   {
    "duration": 21,
    "start_time": "2021-11-30T14:09:27.433Z"
   },
   {
    "duration": 38,
    "start_time": "2021-11-30T14:09:27.476Z"
   },
   {
    "duration": 32,
    "start_time": "2021-11-30T14:09:27.517Z"
   },
   {
    "duration": 12,
    "start_time": "2021-11-30T14:09:27.572Z"
   },
   {
    "duration": 120,
    "start_time": "2021-11-30T14:09:27.587Z"
   },
   {
    "duration": 18,
    "start_time": "2021-11-30T14:09:27.710Z"
   },
   {
    "duration": 63,
    "start_time": "2021-11-30T14:09:27.732Z"
   },
   {
    "duration": 46,
    "start_time": "2021-11-30T14:09:27.798Z"
   },
   {
    "duration": 52,
    "start_time": "2021-11-30T14:09:27.848Z"
   },
   {
    "duration": 22,
    "start_time": "2021-11-30T14:09:27.904Z"
   },
   {
    "duration": 71,
    "start_time": "2021-11-30T14:17:54.224Z"
   },
   {
    "duration": 76,
    "start_time": "2021-11-30T14:17:54.298Z"
   },
   {
    "duration": 23,
    "start_time": "2021-11-30T14:17:54.378Z"
   },
   {
    "duration": 16,
    "start_time": "2021-11-30T14:17:54.405Z"
   },
   {
    "duration": 70,
    "start_time": "2021-11-30T14:17:54.425Z"
   },
   {
    "duration": 15,
    "start_time": "2021-11-30T14:17:54.498Z"
   },
   {
    "duration": 12,
    "start_time": "2021-11-30T14:17:54.516Z"
   },
   {
    "duration": 380,
    "start_time": "2021-11-30T14:17:54.531Z"
   },
   {
    "duration": 359,
    "start_time": "2021-11-30T14:17:54.916Z"
   },
   {
    "duration": 60,
    "start_time": "2021-11-30T14:17:55.280Z"
   },
   {
    "duration": 393,
    "start_time": "2021-11-30T14:17:55.344Z"
   },
   {
    "duration": 8,
    "start_time": "2021-11-30T14:17:55.740Z"
   },
   {
    "duration": 20,
    "start_time": "2021-11-30T14:17:55.750Z"
   },
   {
    "duration": 23,
    "start_time": "2021-11-30T14:17:55.773Z"
   },
   {
    "duration": 9,
    "start_time": "2021-11-30T14:17:55.798Z"
   },
   {
    "duration": 15,
    "start_time": "2021-11-30T14:17:55.810Z"
   },
   {
    "duration": 329,
    "start_time": "2021-11-30T14:17:55.869Z"
   },
   {
    "duration": 11,
    "start_time": "2021-11-30T14:17:56.202Z"
   },
   {
    "duration": 60,
    "start_time": "2021-11-30T14:17:56.215Z"
   },
   {
    "duration": 16,
    "start_time": "2021-11-30T14:17:56.278Z"
   },
   {
    "duration": 11,
    "start_time": "2021-11-30T14:17:56.298Z"
   },
   {
    "duration": 82,
    "start_time": "2021-11-30T14:17:56.311Z"
   },
   {
    "duration": 12,
    "start_time": "2021-11-30T14:17:56.395Z"
   },
   {
    "duration": 15,
    "start_time": "2021-11-30T14:17:56.410Z"
   },
   {
    "duration": 57,
    "start_time": "2021-11-30T14:17:56.428Z"
   },
   {
    "duration": 47,
    "start_time": "2021-11-30T14:17:56.489Z"
   },
   {
    "duration": 64,
    "start_time": "2021-11-30T14:17:56.543Z"
   },
   {
    "duration": 16,
    "start_time": "2021-11-30T14:17:56.611Z"
   },
   {
    "duration": 61,
    "start_time": "2021-11-30T14:17:56.629Z"
   },
   {
    "duration": 20,
    "start_time": "2021-11-30T14:17:56.693Z"
   },
   {
    "duration": 27,
    "start_time": "2021-11-30T14:17:56.716Z"
   },
   {
    "duration": 38,
    "start_time": "2021-11-30T14:17:56.746Z"
   },
   {
    "duration": 92,
    "start_time": "2021-11-30T14:17:56.787Z"
   },
   {
    "duration": 14,
    "start_time": "2021-11-30T14:17:56.882Z"
   },
   {
    "duration": 36,
    "start_time": "2021-11-30T14:17:56.900Z"
   },
   {
    "duration": 69,
    "start_time": "2021-11-30T14:17:56.939Z"
   },
   {
    "duration": 26,
    "start_time": "2021-11-30T14:17:57.011Z"
   },
   {
    "duration": 39,
    "start_time": "2021-11-30T14:17:57.040Z"
   },
   {
    "duration": 259,
    "start_time": "2021-11-30T15:14:57.816Z"
   },
   {
    "duration": 339,
    "start_time": "2021-11-30T15:15:04.048Z"
   },
   {
    "duration": 281,
    "start_time": "2021-11-30T15:19:37.908Z"
   },
   {
    "duration": 279,
    "start_time": "2021-11-30T15:20:12.876Z"
   },
   {
    "duration": 271,
    "start_time": "2021-11-30T15:42:18.601Z"
   },
   {
    "duration": 285,
    "start_time": "2021-11-30T15:42:51.562Z"
   },
   {
    "duration": 5318,
    "start_time": "2021-11-30T15:44:58.863Z"
   },
   {
    "duration": 4580,
    "start_time": "2021-11-30T15:45:29.111Z"
   },
   {
    "duration": 4269,
    "start_time": "2021-11-30T15:46:17.682Z"
   },
   {
    "duration": 8001,
    "start_time": "2021-11-30T15:47:08.195Z"
   },
   {
    "duration": 373,
    "start_time": "2021-11-30T15:48:03.534Z"
   },
   {
    "duration": 6,
    "start_time": "2021-11-30T15:48:12.790Z"
   },
   {
    "duration": 1457,
    "start_time": "2021-11-30T15:48:15.677Z"
   },
   {
    "duration": 5,
    "start_time": "2021-11-30T15:48:49.915Z"
   },
   {
    "duration": 88,
    "start_time": "2021-11-30T15:48:49.924Z"
   },
   {
    "duration": 25,
    "start_time": "2021-11-30T15:48:50.018Z"
   },
   {
    "duration": 44,
    "start_time": "2021-11-30T15:48:50.045Z"
   },
   {
    "duration": 44,
    "start_time": "2021-11-30T15:48:50.092Z"
   },
   {
    "duration": 35,
    "start_time": "2021-11-30T15:48:50.138Z"
   },
   {
    "duration": 16,
    "start_time": "2021-11-30T15:48:50.177Z"
   },
   {
    "duration": 643,
    "start_time": "2021-11-30T15:48:50.197Z"
   },
   {
    "duration": 321,
    "start_time": "2021-11-30T15:48:50.846Z"
   },
   {
    "duration": 41,
    "start_time": "2021-11-30T15:48:51.171Z"
   },
   {
    "duration": 347,
    "start_time": "2021-11-30T15:48:51.214Z"
   },
   {
    "duration": 9,
    "start_time": "2021-11-30T15:48:51.567Z"
   },
   {
    "duration": 15,
    "start_time": "2021-11-30T15:48:51.579Z"
   },
   {
    "duration": 17,
    "start_time": "2021-11-30T15:48:51.597Z"
   },
   {
    "duration": 51,
    "start_time": "2021-11-30T15:48:51.616Z"
   },
   {
    "duration": 15,
    "start_time": "2021-11-30T15:48:51.670Z"
   },
   {
    "duration": 311,
    "start_time": "2021-11-30T15:48:51.689Z"
   },
   {
    "duration": 9,
    "start_time": "2021-11-30T15:48:52.003Z"
   },
   {
    "duration": 64,
    "start_time": "2021-11-30T15:48:52.015Z"
   },
   {
    "duration": 12,
    "start_time": "2021-11-30T15:48:52.082Z"
   },
   {
    "duration": 12,
    "start_time": "2021-11-30T15:48:52.097Z"
   },
   {
    "duration": 77,
    "start_time": "2021-11-30T15:48:52.111Z"
   },
   {
    "duration": 12,
    "start_time": "2021-11-30T15:48:52.190Z"
   },
   {
    "duration": 18,
    "start_time": "2021-11-30T15:48:52.205Z"
   },
   {
    "duration": 53,
    "start_time": "2021-11-30T15:48:52.226Z"
   },
   {
    "duration": 34,
    "start_time": "2021-11-30T15:48:52.281Z"
   },
   {
    "duration": 66,
    "start_time": "2021-11-30T15:48:52.320Z"
   },
   {
    "duration": 16,
    "start_time": "2021-11-30T15:48:52.389Z"
   },
   {
    "duration": 16,
    "start_time": "2021-11-30T15:48:52.408Z"
   },
   {
    "duration": 68,
    "start_time": "2021-11-30T15:48:52.427Z"
   },
   {
    "duration": 28,
    "start_time": "2021-11-30T15:48:52.498Z"
   },
   {
    "duration": 40,
    "start_time": "2021-11-30T15:48:52.529Z"
   },
   {
    "duration": 138,
    "start_time": "2021-11-30T15:48:52.572Z"
   },
   {
    "duration": 18,
    "start_time": "2021-11-30T15:48:52.713Z"
   },
   {
    "duration": 69,
    "start_time": "2021-11-30T15:48:52.734Z"
   },
   {
    "duration": 41,
    "start_time": "2021-11-30T15:48:52.806Z"
   },
   {
    "duration": 47,
    "start_time": "2021-11-30T15:48:52.850Z"
   },
   {
    "duration": 21,
    "start_time": "2021-11-30T15:48:52.900Z"
   },
   {
    "duration": 7,
    "start_time": "2021-11-30T15:48:52.924Z"
   },
   {
    "duration": 5421,
    "start_time": "2021-11-30T15:48:52.969Z"
   },
   {
    "duration": 27,
    "start_time": "2021-11-30T15:48:58.393Z"
   },
   {
    "duration": 57,
    "start_time": "2021-11-30T15:49:10.781Z"
   },
   {
    "duration": 28,
    "start_time": "2021-11-30T15:49:52.610Z"
   },
   {
    "duration": 1044,
    "start_time": "2021-12-01T08:46:51.045Z"
   },
   {
    "duration": 46,
    "start_time": "2021-12-01T08:46:52.091Z"
   },
   {
    "duration": 13,
    "start_time": "2021-12-01T08:46:52.139Z"
   },
   {
    "duration": 11,
    "start_time": "2021-12-01T08:46:52.153Z"
   },
   {
    "duration": 25,
    "start_time": "2021-12-01T08:46:52.166Z"
   },
   {
    "duration": 6,
    "start_time": "2021-12-01T08:46:52.192Z"
   },
   {
    "duration": 7,
    "start_time": "2021-12-01T08:46:52.199Z"
   },
   {
    "duration": 182,
    "start_time": "2021-12-01T08:46:52.207Z"
   },
   {
    "duration": 161,
    "start_time": "2021-12-01T08:46:52.392Z"
   },
   {
    "duration": 22,
    "start_time": "2021-12-01T08:46:52.555Z"
   },
   {
    "duration": 160,
    "start_time": "2021-12-01T08:46:52.588Z"
   },
   {
    "duration": 4,
    "start_time": "2021-12-01T08:46:52.750Z"
   },
   {
    "duration": 7,
    "start_time": "2021-12-01T08:46:52.756Z"
   },
   {
    "duration": 24,
    "start_time": "2021-12-01T08:46:52.764Z"
   },
   {
    "duration": 6,
    "start_time": "2021-12-01T08:46:52.789Z"
   },
   {
    "duration": 14,
    "start_time": "2021-12-01T08:46:52.796Z"
   },
   {
    "duration": 152,
    "start_time": "2021-12-01T08:46:52.811Z"
   },
   {
    "duration": 5,
    "start_time": "2021-12-01T08:46:52.964Z"
   },
   {
    "duration": 28,
    "start_time": "2021-12-01T08:46:52.971Z"
   },
   {
    "duration": 5,
    "start_time": "2021-12-01T08:46:53.000Z"
   },
   {
    "duration": 7,
    "start_time": "2021-12-01T08:46:53.006Z"
   },
   {
    "duration": 21,
    "start_time": "2021-12-01T08:46:53.014Z"
   },
   {
    "duration": 8,
    "start_time": "2021-12-01T08:46:53.036Z"
   },
   {
    "duration": 10,
    "start_time": "2021-12-01T08:46:53.045Z"
   },
   {
    "duration": 39,
    "start_time": "2021-12-01T08:46:53.057Z"
   },
   {
    "duration": 20,
    "start_time": "2021-12-01T08:46:53.097Z"
   },
   {
    "duration": 18,
    "start_time": "2021-12-01T08:46:53.120Z"
   },
   {
    "duration": 20,
    "start_time": "2021-12-01T08:46:53.139Z"
   },
   {
    "duration": 22,
    "start_time": "2021-12-01T08:46:53.160Z"
   },
   {
    "duration": 17,
    "start_time": "2021-12-01T08:46:53.183Z"
   },
   {
    "duration": 24,
    "start_time": "2021-12-01T08:46:53.202Z"
   },
   {
    "duration": 6,
    "start_time": "2021-12-01T08:46:53.228Z"
   },
   {
    "duration": 40,
    "start_time": "2021-12-01T08:46:53.236Z"
   },
   {
    "duration": 11,
    "start_time": "2021-12-01T08:46:53.278Z"
   },
   {
    "duration": 28,
    "start_time": "2021-12-01T08:46:53.290Z"
   },
   {
    "duration": 22,
    "start_time": "2021-12-01T08:46:53.319Z"
   },
   {
    "duration": 17,
    "start_time": "2021-12-01T08:46:53.343Z"
   },
   {
    "duration": 30,
    "start_time": "2021-12-01T08:46:53.361Z"
   },
   {
    "duration": 3249,
    "start_time": "2021-12-01T08:46:53.393Z"
   },
   {
    "duration": 3,
    "start_time": "2021-12-01T08:46:56.644Z"
   },
   {
    "duration": 16,
    "start_time": "2021-12-01T08:46:56.648Z"
   },
   {
    "duration": 10,
    "start_time": "2021-12-01T08:50:39.400Z"
   },
   {
    "duration": 8,
    "start_time": "2021-12-01T08:54:51.682Z"
   },
   {
    "duration": 8,
    "start_time": "2021-12-01T08:57:37.799Z"
   },
   {
    "duration": 7,
    "start_time": "2021-12-01T08:57:49.622Z"
   },
   {
    "duration": 308,
    "start_time": "2021-12-01T08:58:33.553Z"
   },
   {
    "duration": 18,
    "start_time": "2021-12-01T08:58:39.449Z"
   },
   {
    "duration": 6,
    "start_time": "2021-12-01T09:05:54.649Z"
   },
   {
    "duration": 30,
    "start_time": "2021-12-01T09:06:31.210Z"
   },
   {
    "duration": 21,
    "start_time": "2021-12-01T09:40:09.287Z"
   },
   {
    "duration": 13,
    "start_time": "2021-12-01T09:41:49.173Z"
   },
   {
    "duration": 2,
    "start_time": "2021-12-01T09:57:16.450Z"
   },
   {
    "duration": 18,
    "start_time": "2021-12-01T09:57:21.582Z"
   },
   {
    "duration": 49,
    "start_time": "2021-12-01T09:57:21.602Z"
   },
   {
    "duration": 10,
    "start_time": "2021-12-01T09:57:21.653Z"
   },
   {
    "duration": 38,
    "start_time": "2021-12-01T09:57:21.665Z"
   },
   {
    "duration": 19,
    "start_time": "2021-12-01T09:57:21.705Z"
   },
   {
    "duration": 6,
    "start_time": "2021-12-01T09:57:21.726Z"
   },
   {
    "duration": 7,
    "start_time": "2021-12-01T09:57:21.734Z"
   },
   {
    "duration": 180,
    "start_time": "2021-12-01T09:57:21.743Z"
   },
   {
    "duration": 164,
    "start_time": "2021-12-01T09:57:21.925Z"
   },
   {
    "duration": 20,
    "start_time": "2021-12-01T09:57:22.091Z"
   },
   {
    "duration": 159,
    "start_time": "2021-12-01T09:57:22.113Z"
   },
   {
    "duration": 5,
    "start_time": "2021-12-01T09:57:22.273Z"
   },
   {
    "duration": 12,
    "start_time": "2021-12-01T09:57:22.279Z"
   },
   {
    "duration": 11,
    "start_time": "2021-12-01T09:57:22.292Z"
   },
   {
    "duration": 7,
    "start_time": "2021-12-01T09:57:22.304Z"
   },
   {
    "duration": 8,
    "start_time": "2021-12-01T09:57:22.312Z"
   },
   {
    "duration": 168,
    "start_time": "2021-12-01T09:57:22.322Z"
   },
   {
    "duration": 6,
    "start_time": "2021-12-01T09:57:22.491Z"
   },
   {
    "duration": 25,
    "start_time": "2021-12-01T09:57:22.498Z"
   },
   {
    "duration": 4,
    "start_time": "2021-12-01T09:57:22.525Z"
   },
   {
    "duration": 8,
    "start_time": "2021-12-01T09:57:22.531Z"
   },
   {
    "duration": 38,
    "start_time": "2021-12-01T09:57:22.540Z"
   },
   {
    "duration": 8,
    "start_time": "2021-12-01T09:57:22.581Z"
   },
   {
    "duration": 16,
    "start_time": "2021-12-01T09:57:22.591Z"
   },
   {
    "duration": 11,
    "start_time": "2021-12-01T09:57:22.608Z"
   },
   {
    "duration": 21,
    "start_time": "2021-12-01T09:57:22.620Z"
   },
   {
    "duration": 18,
    "start_time": "2021-12-01T09:57:22.642Z"
   },
   {
    "duration": 29,
    "start_time": "2021-12-01T09:57:22.661Z"
   },
   {
    "duration": 10,
    "start_time": "2021-12-01T09:57:22.691Z"
   },
   {
    "duration": 13,
    "start_time": "2021-12-01T09:57:22.702Z"
   },
   {
    "duration": 14,
    "start_time": "2021-12-01T09:57:22.716Z"
   },
   {
    "duration": 6,
    "start_time": "2021-12-01T09:57:22.732Z"
   },
   {
    "duration": 66,
    "start_time": "2021-12-01T09:57:22.740Z"
   },
   {
    "duration": 7,
    "start_time": "2021-12-01T09:57:22.808Z"
   },
   {
    "duration": 17,
    "start_time": "2021-12-01T09:57:22.817Z"
   },
   {
    "duration": 12,
    "start_time": "2021-12-01T09:57:22.836Z"
   },
   {
    "duration": 15,
    "start_time": "2021-12-01T09:57:22.849Z"
   },
   {
    "duration": 5,
    "start_time": "2021-12-01T09:57:22.866Z"
   },
   {
    "duration": 31,
    "start_time": "2021-12-01T09:57:22.872Z"
   },
   {
    "duration": 10,
    "start_time": "2021-12-01T09:57:22.905Z"
   },
   {
    "duration": 6,
    "start_time": "2021-12-01T09:57:22.917Z"
   },
   {
    "duration": 28,
    "start_time": "2021-12-01T09:57:22.924Z"
   },
   {
    "duration": 40,
    "start_time": "2021-12-01T09:57:22.953Z"
   },
   {
    "duration": 16,
    "start_time": "2021-12-01T09:57:22.994Z"
   },
   {
    "duration": 8,
    "start_time": "2021-12-01T09:57:23.011Z"
   },
   {
    "duration": 3326,
    "start_time": "2021-12-01T09:57:23.021Z"
   },
   {
    "duration": 3,
    "start_time": "2021-12-01T09:57:26.349Z"
   },
   {
    "duration": 20,
    "start_time": "2021-12-01T09:57:26.353Z"
   },
   {
    "duration": 3,
    "start_time": "2021-12-01T10:17:58.622Z"
   },
   {
    "duration": 154,
    "start_time": "2021-12-01T10:23:38.498Z"
   },
   {
    "duration": 14,
    "start_time": "2021-12-01T10:24:33.206Z"
   },
   {
    "duration": 116,
    "start_time": "2021-12-01T10:27:09.107Z"
   },
   {
    "duration": 23,
    "start_time": "2021-12-01T10:32:30.688Z"
   },
   {
    "duration": 53,
    "start_time": "2021-12-01T10:32:30.713Z"
   },
   {
    "duration": 10,
    "start_time": "2021-12-01T10:32:30.768Z"
   },
   {
    "duration": 21,
    "start_time": "2021-12-01T10:32:30.780Z"
   },
   {
    "duration": 19,
    "start_time": "2021-12-01T10:32:30.802Z"
   },
   {
    "duration": 6,
    "start_time": "2021-12-01T10:32:30.822Z"
   },
   {
    "duration": 19,
    "start_time": "2021-12-01T10:32:30.829Z"
   },
   {
    "duration": 164,
    "start_time": "2021-12-01T10:32:30.849Z"
   },
   {
    "duration": 176,
    "start_time": "2021-12-01T10:32:31.015Z"
   },
   {
    "duration": 19,
    "start_time": "2021-12-01T10:32:31.193Z"
   },
   {
    "duration": 164,
    "start_time": "2021-12-01T10:32:31.214Z"
   },
   {
    "duration": 10,
    "start_time": "2021-12-01T10:32:31.380Z"
   },
   {
    "duration": 14,
    "start_time": "2021-12-01T10:32:31.391Z"
   },
   {
    "duration": 22,
    "start_time": "2021-12-01T10:32:31.409Z"
   },
   {
    "duration": 15,
    "start_time": "2021-12-01T10:32:31.433Z"
   },
   {
    "duration": 17,
    "start_time": "2021-12-01T10:32:31.449Z"
   },
   {
    "duration": 152,
    "start_time": "2021-12-01T10:32:31.467Z"
   },
   {
    "duration": 6,
    "start_time": "2021-12-01T10:32:31.620Z"
   },
   {
    "duration": 41,
    "start_time": "2021-12-01T10:32:31.628Z"
   },
   {
    "duration": 5,
    "start_time": "2021-12-01T10:32:31.670Z"
   },
   {
    "duration": 8,
    "start_time": "2021-12-01T10:32:31.676Z"
   },
   {
    "duration": 22,
    "start_time": "2021-12-01T10:32:31.685Z"
   },
   {
    "duration": 6,
    "start_time": "2021-12-01T10:32:31.709Z"
   },
   {
    "duration": 8,
    "start_time": "2021-12-01T10:32:31.717Z"
   },
   {
    "duration": 16,
    "start_time": "2021-12-01T10:32:31.727Z"
   },
   {
    "duration": 17,
    "start_time": "2021-12-01T10:32:31.744Z"
   },
   {
    "duration": 39,
    "start_time": "2021-12-01T10:32:31.762Z"
   },
   {
    "duration": 8,
    "start_time": "2021-12-01T10:32:31.802Z"
   },
   {
    "duration": 13,
    "start_time": "2021-12-01T10:32:31.811Z"
   },
   {
    "duration": 11,
    "start_time": "2021-12-01T10:32:31.825Z"
   },
   {
    "duration": 16,
    "start_time": "2021-12-01T10:32:31.837Z"
   },
   {
    "duration": 6,
    "start_time": "2021-12-01T10:32:31.854Z"
   },
   {
    "duration": 60,
    "start_time": "2021-12-01T10:32:31.862Z"
   },
   {
    "duration": 7,
    "start_time": "2021-12-01T10:32:31.924Z"
   },
   {
    "duration": 17,
    "start_time": "2021-12-01T10:32:31.932Z"
   },
   {
    "duration": 14,
    "start_time": "2021-12-01T10:32:31.950Z"
   },
   {
    "duration": 22,
    "start_time": "2021-12-01T10:32:31.965Z"
   },
   {
    "duration": 6,
    "start_time": "2021-12-01T10:32:31.988Z"
   },
   {
    "duration": 27,
    "start_time": "2021-12-01T10:32:31.995Z"
   },
   {
    "duration": 10,
    "start_time": "2021-12-01T10:32:32.023Z"
   },
   {
    "duration": 8,
    "start_time": "2021-12-01T10:32:32.034Z"
   },
   {
    "duration": 27,
    "start_time": "2021-12-01T10:32:32.044Z"
   },
   {
    "duration": 22,
    "start_time": "2021-12-01T10:32:32.072Z"
   },
   {
    "duration": 14,
    "start_time": "2021-12-01T10:32:32.096Z"
   },
   {
    "duration": 8,
    "start_time": "2021-12-01T10:32:32.111Z"
   },
   {
    "duration": 3304,
    "start_time": "2021-12-01T10:32:32.121Z"
   },
   {
    "duration": 3,
    "start_time": "2021-12-01T10:32:35.427Z"
   },
   {
    "duration": 16,
    "start_time": "2021-12-01T10:32:35.431Z"
   },
   {
    "duration": 14,
    "start_time": "2021-12-01T10:32:35.448Z"
   },
   {
    "duration": 131,
    "start_time": "2021-12-01T10:32:35.466Z"
   },
   {
    "duration": 166,
    "start_time": "2021-12-01T10:33:55.597Z"
   },
   {
    "duration": 510,
    "start_time": "2021-12-01T10:35:21.904Z"
   },
   {
    "duration": 151,
    "start_time": "2021-12-01T10:35:51.139Z"
   },
   {
    "duration": 6,
    "start_time": "2021-12-01T10:42:14.487Z"
   },
   {
    "duration": 4,
    "start_time": "2021-12-01T10:42:26.911Z"
   },
   {
    "duration": 148,
    "start_time": "2021-12-01T10:53:08.429Z"
   },
   {
    "duration": 8,
    "start_time": "2021-12-01T10:53:41.711Z"
   },
   {
    "duration": 274,
    "start_time": "2021-12-01T10:56:55.181Z"
   },
   {
    "duration": 14,
    "start_time": "2021-12-01T10:57:21.596Z"
   },
   {
    "duration": 11,
    "start_time": "2021-12-01T11:25:40.649Z"
   },
   {
    "duration": 10,
    "start_time": "2021-12-01T11:28:17.095Z"
   },
   {
    "duration": 80,
    "start_time": "2021-12-01T11:29:09.657Z"
   },
   {
    "duration": 225,
    "start_time": "2021-12-01T11:29:14.211Z"
   },
   {
    "duration": 6,
    "start_time": "2021-12-01T11:29:34.050Z"
   },
   {
    "duration": 10,
    "start_time": "2021-12-01T11:29:40.305Z"
   },
   {
    "duration": 8,
    "start_time": "2021-12-01T11:48:26.457Z"
   },
   {
    "duration": 25,
    "start_time": "2021-12-01T11:48:35.915Z"
   },
   {
    "duration": 24,
    "start_time": "2021-12-01T11:49:58.545Z"
   },
   {
    "duration": 46,
    "start_time": "2021-12-01T11:49:58.571Z"
   },
   {
    "duration": 10,
    "start_time": "2021-12-01T11:49:58.619Z"
   },
   {
    "duration": 11,
    "start_time": "2021-12-01T11:49:58.630Z"
   },
   {
    "duration": 50,
    "start_time": "2021-12-01T11:49:58.642Z"
   },
   {
    "duration": 6,
    "start_time": "2021-12-01T11:49:58.693Z"
   },
   {
    "duration": 7,
    "start_time": "2021-12-01T11:49:58.700Z"
   },
   {
    "duration": 170,
    "start_time": "2021-12-01T11:49:58.709Z"
   },
   {
    "duration": 151,
    "start_time": "2021-12-01T11:49:58.881Z"
   },
   {
    "duration": 20,
    "start_time": "2021-12-01T11:49:59.034Z"
   },
   {
    "duration": 165,
    "start_time": "2021-12-01T11:49:59.056Z"
   },
   {
    "duration": 5,
    "start_time": "2021-12-01T11:49:59.222Z"
   },
   {
    "duration": 6,
    "start_time": "2021-12-01T11:49:59.229Z"
   },
   {
    "duration": 10,
    "start_time": "2021-12-01T11:49:59.237Z"
   },
   {
    "duration": 6,
    "start_time": "2021-12-01T11:49:59.248Z"
   },
   {
    "duration": 32,
    "start_time": "2021-12-01T11:49:59.256Z"
   },
   {
    "duration": 150,
    "start_time": "2021-12-01T11:49:59.290Z"
   },
   {
    "duration": 6,
    "start_time": "2021-12-01T11:49:59.441Z"
   },
   {
    "duration": 22,
    "start_time": "2021-12-01T11:49:59.448Z"
   },
   {
    "duration": 19,
    "start_time": "2021-12-01T11:49:59.471Z"
   },
   {
    "duration": 6,
    "start_time": "2021-12-01T11:49:59.492Z"
   },
   {
    "duration": 23,
    "start_time": "2021-12-01T11:49:59.500Z"
   },
   {
    "duration": 6,
    "start_time": "2021-12-01T11:49:59.526Z"
   },
   {
    "duration": 10,
    "start_time": "2021-12-01T11:49:59.534Z"
   },
   {
    "duration": 11,
    "start_time": "2021-12-01T11:49:59.545Z"
   },
   {
    "duration": 46,
    "start_time": "2021-12-01T11:49:59.558Z"
   },
   {
    "duration": 18,
    "start_time": "2021-12-01T11:49:59.606Z"
   },
   {
    "duration": 8,
    "start_time": "2021-12-01T11:49:59.626Z"
   },
   {
    "duration": 8,
    "start_time": "2021-12-01T11:49:59.636Z"
   },
   {
    "duration": 43,
    "start_time": "2021-12-01T11:49:59.646Z"
   },
   {
    "duration": 13,
    "start_time": "2021-12-01T11:49:59.691Z"
   },
   {
    "duration": 6,
    "start_time": "2021-12-01T11:49:59.706Z"
   },
   {
    "duration": 42,
    "start_time": "2021-12-01T11:49:59.714Z"
   },
   {
    "duration": 7,
    "start_time": "2021-12-01T11:49:59.757Z"
   },
   {
    "duration": 7,
    "start_time": "2021-12-01T11:49:59.788Z"
   },
   {
    "duration": 9,
    "start_time": "2021-12-01T11:49:59.797Z"
   },
   {
    "duration": 11,
    "start_time": "2021-12-01T11:49:59.808Z"
   },
   {
    "duration": 5,
    "start_time": "2021-12-01T11:49:59.820Z"
   },
   {
    "duration": 20,
    "start_time": "2021-12-01T11:49:59.826Z"
   },
   {
    "duration": 11,
    "start_time": "2021-12-01T11:49:59.847Z"
   },
   {
    "duration": 29,
    "start_time": "2021-12-01T11:49:59.859Z"
   },
   {
    "duration": 34,
    "start_time": "2021-12-01T11:49:59.890Z"
   },
   {
    "duration": 18,
    "start_time": "2021-12-01T11:49:59.925Z"
   },
   {
    "duration": 15,
    "start_time": "2021-12-01T11:49:59.944Z"
   },
   {
    "duration": 8,
    "start_time": "2021-12-01T11:49:59.960Z"
   },
   {
    "duration": 3628,
    "start_time": "2021-12-01T11:49:59.988Z"
   },
   {
    "duration": 3,
    "start_time": "2021-12-01T11:50:03.618Z"
   },
   {
    "duration": 21,
    "start_time": "2021-12-01T11:50:03.622Z"
   },
   {
    "duration": 5,
    "start_time": "2021-12-01T11:50:03.645Z"
   },
   {
    "duration": 4,
    "start_time": "2021-12-01T11:50:03.652Z"
   },
   {
    "duration": 35,
    "start_time": "2021-12-01T11:50:03.658Z"
   },
   {
    "duration": 163,
    "start_time": "2021-12-01T11:50:03.694Z"
   },
   {
    "duration": 168,
    "start_time": "2021-12-01T11:50:03.858Z"
   },
   {
    "duration": 117,
    "start_time": "2021-12-01T11:50:04.027Z"
   },
   {
    "duration": 26,
    "start_time": "2021-12-01T11:50:04.146Z"
   },
   {
    "duration": 25,
    "start_time": "2021-12-01T11:50:30.449Z"
   },
   {
    "duration": 51,
    "start_time": "2021-12-01T11:50:30.476Z"
   },
   {
    "duration": 11,
    "start_time": "2021-12-01T11:50:30.529Z"
   },
   {
    "duration": 13,
    "start_time": "2021-12-01T11:50:30.543Z"
   },
   {
    "duration": 42,
    "start_time": "2021-12-01T11:50:30.558Z"
   },
   {
    "duration": 6,
    "start_time": "2021-12-01T11:50:30.602Z"
   },
   {
    "duration": 8,
    "start_time": "2021-12-01T11:50:30.609Z"
   },
   {
    "duration": 177,
    "start_time": "2021-12-01T11:50:30.618Z"
   },
   {
    "duration": 155,
    "start_time": "2021-12-01T11:50:30.798Z"
   },
   {
    "duration": 33,
    "start_time": "2021-12-01T11:50:30.955Z"
   },
   {
    "duration": 164,
    "start_time": "2021-12-01T11:50:30.989Z"
   },
   {
    "duration": 5,
    "start_time": "2021-12-01T11:50:31.154Z"
   },
   {
    "duration": 9,
    "start_time": "2021-12-01T11:50:31.161Z"
   },
   {
    "duration": 24,
    "start_time": "2021-12-01T11:50:31.171Z"
   },
   {
    "duration": 6,
    "start_time": "2021-12-01T11:50:31.196Z"
   },
   {
    "duration": 11,
    "start_time": "2021-12-01T11:50:31.203Z"
   },
   {
    "duration": 160,
    "start_time": "2021-12-01T11:50:31.216Z"
   },
   {
    "duration": 11,
    "start_time": "2021-12-01T11:50:31.377Z"
   },
   {
    "duration": 20,
    "start_time": "2021-12-01T11:50:31.390Z"
   },
   {
    "duration": 5,
    "start_time": "2021-12-01T11:50:31.412Z"
   },
   {
    "duration": 9,
    "start_time": "2021-12-01T11:50:31.418Z"
   },
   {
    "duration": 26,
    "start_time": "2021-12-01T11:50:31.429Z"
   },
   {
    "duration": 7,
    "start_time": "2021-12-01T11:50:31.456Z"
   },
   {
    "duration": 31,
    "start_time": "2021-12-01T11:50:31.465Z"
   },
   {
    "duration": 15,
    "start_time": "2021-12-01T11:50:31.497Z"
   },
   {
    "duration": 22,
    "start_time": "2021-12-01T11:50:31.514Z"
   },
   {
    "duration": 19,
    "start_time": "2021-12-01T11:50:31.540Z"
   },
   {
    "duration": 32,
    "start_time": "2021-12-01T11:50:31.561Z"
   },
   {
    "duration": 16,
    "start_time": "2021-12-01T11:50:31.594Z"
   },
   {
    "duration": 17,
    "start_time": "2021-12-01T11:50:31.611Z"
   },
   {
    "duration": 13,
    "start_time": "2021-12-01T11:50:31.630Z"
   },
   {
    "duration": 6,
    "start_time": "2021-12-01T11:50:31.645Z"
   },
   {
    "duration": 52,
    "start_time": "2021-12-01T11:50:31.652Z"
   },
   {
    "duration": 8,
    "start_time": "2021-12-01T11:50:31.705Z"
   },
   {
    "duration": 9,
    "start_time": "2021-12-01T11:50:31.714Z"
   },
   {
    "duration": 8,
    "start_time": "2021-12-01T11:50:31.724Z"
   },
   {
    "duration": 12,
    "start_time": "2021-12-01T11:50:31.734Z"
   },
   {
    "duration": 4,
    "start_time": "2021-12-01T11:50:31.748Z"
   },
   {
    "duration": 45,
    "start_time": "2021-12-01T11:50:31.754Z"
   },
   {
    "duration": 12,
    "start_time": "2021-12-01T11:50:31.800Z"
   },
   {
    "duration": 2,
    "start_time": "2021-12-01T11:50:31.814Z"
   },
   {
    "duration": 24,
    "start_time": "2021-12-01T11:50:31.817Z"
   },
   {
    "duration": 19,
    "start_time": "2021-12-01T11:50:31.843Z"
   },
   {
    "duration": 36,
    "start_time": "2021-12-01T11:50:31.864Z"
   },
   {
    "duration": 8,
    "start_time": "2021-12-01T11:50:31.902Z"
   },
   {
    "duration": 3231,
    "start_time": "2021-12-01T11:50:31.912Z"
   },
   {
    "duration": 3,
    "start_time": "2021-12-01T11:50:35.145Z"
   },
   {
    "duration": 28,
    "start_time": "2021-12-01T11:50:35.150Z"
   },
   {
    "duration": 19,
    "start_time": "2021-12-01T11:50:35.180Z"
   },
   {
    "duration": 12,
    "start_time": "2021-12-01T11:50:35.201Z"
   },
   {
    "duration": 33,
    "start_time": "2021-12-01T11:50:35.215Z"
   },
   {
    "duration": 149,
    "start_time": "2021-12-01T11:50:35.250Z"
   },
   {
    "duration": 154,
    "start_time": "2021-12-01T11:50:35.400Z"
   },
   {
    "duration": 120,
    "start_time": "2021-12-01T11:50:35.556Z"
   },
   {
    "duration": 34,
    "start_time": "2021-12-01T11:50:35.678Z"
   },
   {
    "duration": 16,
    "start_time": "2021-12-01T11:50:57.296Z"
   },
   {
    "duration": 241,
    "start_time": "2021-12-01T11:53:42.772Z"
   },
   {
    "duration": 22,
    "start_time": "2021-12-01T11:54:07.830Z"
   },
   {
    "duration": 14,
    "start_time": "2021-12-01T11:54:34.614Z"
   },
   {
    "duration": 27,
    "start_time": "2021-12-01T11:54:51.686Z"
   },
   {
    "duration": 25,
    "start_time": "2021-12-01T11:55:01.224Z"
   },
   {
    "duration": 6,
    "start_time": "2021-12-01T11:58:17.320Z"
   },
   {
    "duration": 274,
    "start_time": "2021-12-01T12:05:02.494Z"
   },
   {
    "duration": 243,
    "start_time": "2021-12-01T12:05:33.710Z"
   },
   {
    "duration": 17,
    "start_time": "2021-12-01T12:06:29.480Z"
   },
   {
    "duration": 21,
    "start_time": "2021-12-01T12:08:36.964Z"
   },
   {
    "duration": 267,
    "start_time": "2021-12-01T12:17:07.281Z"
   },
   {
    "duration": 6,
    "start_time": "2021-12-01T12:17:26.070Z"
   },
   {
    "duration": 239,
    "start_time": "2021-12-01T12:17:31.117Z"
   },
   {
    "duration": 240,
    "start_time": "2021-12-01T12:17:34.231Z"
   },
   {
    "duration": 247,
    "start_time": "2021-12-01T12:17:54.640Z"
   },
   {
    "duration": 243,
    "start_time": "2021-12-01T12:18:04.471Z"
   },
   {
    "duration": 220,
    "start_time": "2021-12-01T12:18:58.226Z"
   },
   {
    "duration": 23,
    "start_time": "2021-12-01T12:19:25.386Z"
   },
   {
    "duration": 53,
    "start_time": "2021-12-01T12:19:25.411Z"
   },
   {
    "duration": 34,
    "start_time": "2021-12-01T12:19:25.466Z"
   },
   {
    "duration": 14,
    "start_time": "2021-12-01T12:19:25.502Z"
   },
   {
    "duration": 26,
    "start_time": "2021-12-01T12:19:25.518Z"
   },
   {
    "duration": 9,
    "start_time": "2021-12-01T12:19:25.546Z"
   },
   {
    "duration": 33,
    "start_time": "2021-12-01T12:19:25.556Z"
   },
   {
    "duration": 169,
    "start_time": "2021-12-01T12:19:25.591Z"
   },
   {
    "duration": 156,
    "start_time": "2021-12-01T12:19:25.762Z"
   },
   {
    "duration": 22,
    "start_time": "2021-12-01T12:19:25.920Z"
   },
   {
    "duration": 168,
    "start_time": "2021-12-01T12:19:25.943Z"
   },
   {
    "duration": 5,
    "start_time": "2021-12-01T12:19:26.113Z"
   },
   {
    "duration": 9,
    "start_time": "2021-12-01T12:19:26.119Z"
   },
   {
    "duration": 13,
    "start_time": "2021-12-01T12:19:26.130Z"
   },
   {
    "duration": 5,
    "start_time": "2021-12-01T12:19:26.145Z"
   },
   {
    "duration": 10,
    "start_time": "2021-12-01T12:19:26.152Z"
   },
   {
    "duration": 170,
    "start_time": "2021-12-01T12:19:26.164Z"
   },
   {
    "duration": 6,
    "start_time": "2021-12-01T12:19:26.335Z"
   },
   {
    "duration": 34,
    "start_time": "2021-12-01T12:19:26.342Z"
   },
   {
    "duration": 5,
    "start_time": "2021-12-01T12:19:26.378Z"
   },
   {
    "duration": 13,
    "start_time": "2021-12-01T12:19:26.388Z"
   },
   {
    "duration": 35,
    "start_time": "2021-12-01T12:19:26.402Z"
   },
   {
    "duration": 7,
    "start_time": "2021-12-01T12:19:26.440Z"
   },
   {
    "duration": 22,
    "start_time": "2021-12-01T12:19:26.449Z"
   },
   {
    "duration": 27,
    "start_time": "2021-12-01T12:19:26.473Z"
   },
   {
    "duration": 26,
    "start_time": "2021-12-01T12:19:26.501Z"
   },
   {
    "duration": 19,
    "start_time": "2021-12-01T12:19:26.528Z"
   },
   {
    "duration": 18,
    "start_time": "2021-12-01T12:19:26.548Z"
   },
   {
    "duration": 26,
    "start_time": "2021-12-01T12:19:26.567Z"
   },
   {
    "duration": 17,
    "start_time": "2021-12-01T12:19:26.595Z"
   },
   {
    "duration": 20,
    "start_time": "2021-12-01T12:19:26.613Z"
   },
   {
    "duration": 7,
    "start_time": "2021-12-01T12:19:26.635Z"
   },
   {
    "duration": 53,
    "start_time": "2021-12-01T12:19:26.644Z"
   },
   {
    "duration": 9,
    "start_time": "2021-12-01T12:19:26.698Z"
   },
   {
    "duration": 26,
    "start_time": "2021-12-01T12:19:26.709Z"
   },
   {
    "duration": 17,
    "start_time": "2021-12-01T12:19:26.737Z"
   },
   {
    "duration": 21,
    "start_time": "2021-12-01T12:19:26.756Z"
   },
   {
    "duration": 42,
    "start_time": "2021-12-01T12:19:26.779Z"
   },
   {
    "duration": 57,
    "start_time": "2021-12-01T12:19:26.823Z"
   },
   {
    "duration": 11,
    "start_time": "2021-12-01T12:19:26.881Z"
   },
   {
    "duration": 17,
    "start_time": "2021-12-01T12:19:26.893Z"
   },
   {
    "duration": 28,
    "start_time": "2021-12-01T12:19:26.911Z"
   },
   {
    "duration": 20,
    "start_time": "2021-12-01T12:19:26.941Z"
   },
   {
    "duration": 14,
    "start_time": "2021-12-01T12:19:26.962Z"
   },
   {
    "duration": 12,
    "start_time": "2021-12-01T12:19:26.978Z"
   },
   {
    "duration": 4200,
    "start_time": "2021-12-01T12:19:26.991Z"
   },
   {
    "duration": 3,
    "start_time": "2021-12-01T12:19:31.193Z"
   },
   {
    "duration": 20,
    "start_time": "2021-12-01T12:19:31.198Z"
   },
   {
    "duration": 8,
    "start_time": "2021-12-01T12:19:31.219Z"
   },
   {
    "duration": 5,
    "start_time": "2021-12-01T12:19:31.228Z"
   },
   {
    "duration": 25,
    "start_time": "2021-12-01T12:19:31.235Z"
   },
   {
    "duration": 184,
    "start_time": "2021-12-01T12:19:31.262Z"
   },
   {
    "duration": 161,
    "start_time": "2021-12-01T12:19:31.448Z"
   },
   {
    "duration": 154,
    "start_time": "2021-12-01T12:19:31.611Z"
   },
   {
    "duration": 31,
    "start_time": "2021-12-01T12:19:31.767Z"
   },
   {
    "duration": 6,
    "start_time": "2021-12-01T12:19:31.800Z"
   },
   {
    "duration": 42,
    "start_time": "2021-12-01T12:19:31.807Z"
   },
   {
    "duration": 109,
    "start_time": "2021-12-01T12:39:23.468Z"
   },
   {
    "duration": 4,
    "start_time": "2021-12-01T12:44:09.246Z"
   },
   {
    "duration": 39,
    "start_time": "2021-12-01T12:44:37.536Z"
   },
   {
    "duration": 9,
    "start_time": "2021-12-01T12:44:46.638Z"
   },
   {
    "duration": 15,
    "start_time": "2021-12-01T12:49:31.296Z"
   },
   {
    "duration": 14,
    "start_time": "2021-12-01T12:49:45.346Z"
   },
   {
    "duration": 15,
    "start_time": "2021-12-01T12:49:49.458Z"
   },
   {
    "duration": 17,
    "start_time": "2021-12-01T12:53:25.401Z"
   },
   {
    "duration": 19,
    "start_time": "2021-12-01T12:55:19.037Z"
   },
   {
    "duration": 21,
    "start_time": "2021-12-01T13:00:43.363Z"
   },
   {
    "duration": 47,
    "start_time": "2021-12-01T13:00:43.386Z"
   },
   {
    "duration": 10,
    "start_time": "2021-12-01T13:00:43.435Z"
   },
   {
    "duration": 11,
    "start_time": "2021-12-01T13:00:43.446Z"
   },
   {
    "duration": 43,
    "start_time": "2021-12-01T13:00:43.458Z"
   },
   {
    "duration": 5,
    "start_time": "2021-12-01T13:00:43.503Z"
   },
   {
    "duration": 7,
    "start_time": "2021-12-01T13:00:43.510Z"
   },
   {
    "duration": 276,
    "start_time": "2021-12-01T13:00:43.519Z"
   },
   {
    "duration": 154,
    "start_time": "2021-12-01T13:00:43.797Z"
   },
   {
    "duration": 22,
    "start_time": "2021-12-01T13:00:43.952Z"
   },
   {
    "duration": 165,
    "start_time": "2021-12-01T13:00:43.975Z"
   },
   {
    "duration": 5,
    "start_time": "2021-12-01T13:00:44.142Z"
   },
   {
    "duration": 6,
    "start_time": "2021-12-01T13:00:44.149Z"
   },
   {
    "duration": 36,
    "start_time": "2021-12-01T13:00:44.156Z"
   },
   {
    "duration": 7,
    "start_time": "2021-12-01T13:00:44.193Z"
   },
   {
    "duration": 10,
    "start_time": "2021-12-01T13:00:44.201Z"
   },
   {
    "duration": 163,
    "start_time": "2021-12-01T13:00:44.212Z"
   },
   {
    "duration": 13,
    "start_time": "2021-12-01T13:00:44.377Z"
   },
   {
    "duration": 18,
    "start_time": "2021-12-01T13:00:44.391Z"
   },
   {
    "duration": 4,
    "start_time": "2021-12-01T13:00:44.411Z"
   },
   {
    "duration": 7,
    "start_time": "2021-12-01T13:00:44.417Z"
   },
   {
    "duration": 22,
    "start_time": "2021-12-01T13:00:44.426Z"
   },
   {
    "duration": 7,
    "start_time": "2021-12-01T13:00:44.451Z"
   },
   {
    "duration": 9,
    "start_time": "2021-12-01T13:00:44.488Z"
   },
   {
    "duration": 11,
    "start_time": "2021-12-01T13:00:44.498Z"
   },
   {
    "duration": 27,
    "start_time": "2021-12-01T13:00:44.511Z"
   },
   {
    "duration": 19,
    "start_time": "2021-12-01T13:00:44.539Z"
   },
   {
    "duration": 32,
    "start_time": "2021-12-01T13:00:44.560Z"
   },
   {
    "duration": 10,
    "start_time": "2021-12-01T13:00:44.594Z"
   },
   {
    "duration": 12,
    "start_time": "2021-12-01T13:00:44.606Z"
   },
   {
    "duration": 14,
    "start_time": "2021-12-01T13:00:44.619Z"
   },
   {
    "duration": 7,
    "start_time": "2021-12-01T13:00:44.634Z"
   },
   {
    "duration": 76,
    "start_time": "2021-12-01T13:00:44.642Z"
   },
   {
    "duration": 7,
    "start_time": "2021-12-01T13:00:44.720Z"
   },
   {
    "duration": 10,
    "start_time": "2021-12-01T13:00:44.728Z"
   },
   {
    "duration": 8,
    "start_time": "2021-12-01T13:00:44.740Z"
   },
   {
    "duration": 13,
    "start_time": "2021-12-01T13:00:44.749Z"
   },
   {
    "duration": 25,
    "start_time": "2021-12-01T13:00:44.763Z"
   },
   {
    "duration": 18,
    "start_time": "2021-12-01T13:00:44.790Z"
   },
   {
    "duration": 12,
    "start_time": "2021-12-01T13:00:44.810Z"
   },
   {
    "duration": 6,
    "start_time": "2021-12-01T13:00:44.824Z"
   },
   {
    "duration": 28,
    "start_time": "2021-12-01T13:00:44.832Z"
   },
   {
    "duration": 36,
    "start_time": "2021-12-01T13:00:44.862Z"
   },
   {
    "duration": 16,
    "start_time": "2021-12-01T13:00:44.899Z"
   },
   {
    "duration": 8,
    "start_time": "2021-12-01T13:00:44.917Z"
   },
   {
    "duration": 3450,
    "start_time": "2021-12-01T13:00:44.927Z"
   },
   {
    "duration": 3,
    "start_time": "2021-12-01T13:00:48.387Z"
   },
   {
    "duration": 22,
    "start_time": "2021-12-01T13:00:48.392Z"
   },
   {
    "duration": 11,
    "start_time": "2021-12-01T13:00:48.415Z"
   },
   {
    "duration": 12,
    "start_time": "2021-12-01T13:00:48.427Z"
   },
   {
    "duration": 42,
    "start_time": "2021-12-01T13:00:48.441Z"
   },
   {
    "duration": 245,
    "start_time": "2021-12-01T13:00:48.485Z"
   },
   {
    "duration": 121,
    "start_time": "2021-12-01T13:00:48.732Z"
   },
   {
    "duration": 163,
    "start_time": "2021-12-01T13:00:48.854Z"
   },
   {
    "duration": 13,
    "start_time": "2021-12-01T13:00:49.019Z"
   },
   {
    "duration": 6,
    "start_time": "2021-12-01T13:00:49.033Z"
   },
   {
    "duration": 46,
    "start_time": "2021-12-01T13:00:49.041Z"
   },
   {
    "duration": 4,
    "start_time": "2021-12-01T13:54:14.992Z"
   },
   {
    "duration": 5,
    "start_time": "2021-12-01T13:54:46.648Z"
   },
   {
    "duration": 7,
    "start_time": "2021-12-01T13:55:07.666Z"
   },
   {
    "duration": 5,
    "start_time": "2021-12-01T13:59:12.003Z"
   },
   {
    "duration": 259,
    "start_time": "2021-12-01T14:11:26.660Z"
   },
   {
    "duration": 14,
    "start_time": "2021-12-01T14:11:47.509Z"
   },
   {
    "duration": 18,
    "start_time": "2021-12-01T14:11:54.964Z"
   },
   {
    "duration": 15,
    "start_time": "2021-12-01T14:13:36.048Z"
   },
   {
    "duration": 229,
    "start_time": "2021-12-01T14:20:12.103Z"
   },
   {
    "duration": 18,
    "start_time": "2021-12-01T14:20:23.439Z"
   },
   {
    "duration": 18,
    "start_time": "2021-12-01T14:21:01.022Z"
   },
   {
    "duration": 69,
    "start_time": "2021-12-01T14:28:41.702Z"
   },
   {
    "duration": 19,
    "start_time": "2021-12-01T14:28:50.190Z"
   },
   {
    "duration": 19,
    "start_time": "2021-12-01T14:30:31.508Z"
   },
   {
    "duration": 19,
    "start_time": "2021-12-01T14:31:15.221Z"
   },
   {
    "duration": 18,
    "start_time": "2021-12-01T14:31:44.334Z"
   },
   {
    "duration": 20,
    "start_time": "2021-12-01T14:37:34.877Z"
   },
   {
    "duration": 4225,
    "start_time": "2021-12-01T14:37:46.043Z"
   },
   {
    "duration": 20,
    "start_time": "2021-12-01T14:37:58.235Z"
   },
   {
    "duration": 1164,
    "start_time": "2021-12-02T08:13:35.314Z"
   },
   {
    "duration": 50,
    "start_time": "2021-12-02T08:13:36.480Z"
   },
   {
    "duration": 17,
    "start_time": "2021-12-02T08:13:36.533Z"
   },
   {
    "duration": 10,
    "start_time": "2021-12-02T08:13:36.553Z"
   },
   {
    "duration": 37,
    "start_time": "2021-12-02T08:13:36.565Z"
   },
   {
    "duration": 10,
    "start_time": "2021-12-02T08:13:36.605Z"
   },
   {
    "duration": 19,
    "start_time": "2021-12-02T08:13:36.628Z"
   },
   {
    "duration": 297,
    "start_time": "2021-12-02T08:13:36.650Z"
   },
   {
    "duration": 195,
    "start_time": "2021-12-02T08:13:36.951Z"
   },
   {
    "duration": 26,
    "start_time": "2021-12-02T08:13:37.149Z"
   },
   {
    "duration": 194,
    "start_time": "2021-12-02T08:13:37.177Z"
   },
   {
    "duration": 7,
    "start_time": "2021-12-02T08:13:37.374Z"
   },
   {
    "duration": 7,
    "start_time": "2021-12-02T08:13:37.383Z"
   },
   {
    "duration": 13,
    "start_time": "2021-12-02T08:13:37.392Z"
   },
   {
    "duration": 38,
    "start_time": "2021-12-02T08:13:37.407Z"
   },
   {
    "duration": 10,
    "start_time": "2021-12-02T08:13:37.447Z"
   },
   {
    "duration": 167,
    "start_time": "2021-12-02T08:13:37.459Z"
   },
   {
    "duration": 6,
    "start_time": "2021-12-02T08:13:37.627Z"
   },
   {
    "duration": 21,
    "start_time": "2021-12-02T08:13:37.644Z"
   },
   {
    "duration": 7,
    "start_time": "2021-12-02T08:13:37.666Z"
   },
   {
    "duration": 7,
    "start_time": "2021-12-02T08:13:37.675Z"
   },
   {
    "duration": 22,
    "start_time": "2021-12-02T08:13:37.683Z"
   },
   {
    "duration": 7,
    "start_time": "2021-12-02T08:13:37.706Z"
   },
   {
    "duration": 39,
    "start_time": "2021-12-02T08:13:37.714Z"
   },
   {
    "duration": 11,
    "start_time": "2021-12-02T08:13:37.755Z"
   },
   {
    "duration": 21,
    "start_time": "2021-12-02T08:13:37.767Z"
   },
   {
    "duration": 19,
    "start_time": "2021-12-02T08:13:37.791Z"
   },
   {
    "duration": 48,
    "start_time": "2021-12-02T08:13:37.813Z"
   },
   {
    "duration": 28,
    "start_time": "2021-12-02T08:13:37.863Z"
   },
   {
    "duration": 25,
    "start_time": "2021-12-02T08:13:37.893Z"
   },
   {
    "duration": 15,
    "start_time": "2021-12-02T08:13:37.920Z"
   },
   {
    "duration": 10,
    "start_time": "2021-12-02T08:13:37.936Z"
   },
   {
    "duration": 54,
    "start_time": "2021-12-02T08:13:37.947Z"
   },
   {
    "duration": 8,
    "start_time": "2021-12-02T08:13:38.003Z"
   },
   {
    "duration": 31,
    "start_time": "2021-12-02T08:13:38.012Z"
   },
   {
    "duration": 14,
    "start_time": "2021-12-02T08:13:38.045Z"
   },
   {
    "duration": 39,
    "start_time": "2021-12-02T08:13:38.061Z"
   },
   {
    "duration": 21,
    "start_time": "2021-12-02T08:13:38.101Z"
   },
   {
    "duration": 37,
    "start_time": "2021-12-02T08:13:38.123Z"
   },
   {
    "duration": 29,
    "start_time": "2021-12-02T08:13:38.161Z"
   },
   {
    "duration": 3,
    "start_time": "2021-12-02T08:13:38.192Z"
   },
   {
    "duration": 26,
    "start_time": "2021-12-02T08:13:38.196Z"
   },
   {
    "duration": 19,
    "start_time": "2021-12-02T08:13:38.224Z"
   },
   {
    "duration": 16,
    "start_time": "2021-12-02T08:13:38.245Z"
   },
   {
    "duration": 9,
    "start_time": "2021-12-02T08:13:38.262Z"
   },
   {
    "duration": 3663,
    "start_time": "2021-12-02T08:13:38.272Z"
   },
   {
    "duration": 3,
    "start_time": "2021-12-02T08:13:41.945Z"
   },
   {
    "duration": 26,
    "start_time": "2021-12-02T08:13:41.949Z"
   },
   {
    "duration": 5,
    "start_time": "2021-12-02T08:13:41.977Z"
   },
   {
    "duration": 6,
    "start_time": "2021-12-02T08:13:41.983Z"
   },
   {
    "duration": 19,
    "start_time": "2021-12-02T08:13:41.991Z"
   },
   {
    "duration": 194,
    "start_time": "2021-12-02T08:13:42.012Z"
   },
   {
    "duration": 138,
    "start_time": "2021-12-02T08:13:42.208Z"
   },
   {
    "duration": 168,
    "start_time": "2021-12-02T08:13:42.348Z"
   },
   {
    "duration": 14,
    "start_time": "2021-12-02T08:13:42.517Z"
   },
   {
    "duration": 15,
    "start_time": "2021-12-02T08:13:42.532Z"
   },
   {
    "duration": 32,
    "start_time": "2021-12-02T08:13:42.549Z"
   },
   {
    "duration": 21,
    "start_time": "2021-12-02T08:13:42.583Z"
   },
   {
    "duration": 5,
    "start_time": "2021-12-02T08:13:42.606Z"
   },
   {
    "duration": 7817,
    "start_time": "2021-12-02T08:14:10.615Z"
   },
   {
    "duration": 22,
    "start_time": "2021-12-02T08:14:34.689Z"
   },
   {
    "duration": 6762,
    "start_time": "2021-12-02T08:15:44.795Z"
   },
   {
    "duration": 24,
    "start_time": "2021-12-02T08:16:04.996Z"
   },
   {
    "duration": 20,
    "start_time": "2021-12-02T08:16:28.597Z"
   },
   {
    "duration": 21,
    "start_time": "2021-12-02T08:17:33.894Z"
   },
   {
    "duration": 21,
    "start_time": "2021-12-02T09:04:29.478Z"
   },
   {
    "duration": 19,
    "start_time": "2021-12-02T09:55:07.398Z"
   },
   {
    "duration": 21,
    "start_time": "2021-12-02T09:56:04.887Z"
   },
   {
    "duration": 19,
    "start_time": "2021-12-02T09:57:11.890Z"
   },
   {
    "duration": 24,
    "start_time": "2021-12-02T09:57:14.473Z"
   },
   {
    "duration": 22,
    "start_time": "2021-12-02T10:43:17.693Z"
   },
   {
    "duration": 20,
    "start_time": "2021-12-02T11:26:08.122Z"
   },
   {
    "duration": 89,
    "start_time": "2021-12-02T12:29:55.674Z"
   },
   {
    "duration": 108,
    "start_time": "2021-12-02T13:14:28.643Z"
   },
   {
    "duration": 19,
    "start_time": "2021-12-02T13:34:09.505Z"
   },
   {
    "duration": 53,
    "start_time": "2021-12-02T13:34:09.526Z"
   },
   {
    "duration": 11,
    "start_time": "2021-12-02T13:34:09.581Z"
   },
   {
    "duration": 11,
    "start_time": "2021-12-02T13:34:09.594Z"
   },
   {
    "duration": 57,
    "start_time": "2021-12-02T13:34:09.607Z"
   },
   {
    "duration": 7,
    "start_time": "2021-12-02T13:34:09.665Z"
   },
   {
    "duration": 6,
    "start_time": "2021-12-02T13:34:09.674Z"
   },
   {
    "duration": 208,
    "start_time": "2021-12-02T13:34:09.682Z"
   },
   {
    "duration": 287,
    "start_time": "2021-12-02T13:34:09.892Z"
   },
   {
    "duration": 23,
    "start_time": "2021-12-02T13:34:10.181Z"
   },
   {
    "duration": 199,
    "start_time": "2021-12-02T13:34:10.206Z"
   },
   {
    "duration": 5,
    "start_time": "2021-12-02T13:34:10.407Z"
   },
   {
    "duration": 6,
    "start_time": "2021-12-02T13:34:10.414Z"
   },
   {
    "duration": 29,
    "start_time": "2021-12-02T13:34:10.422Z"
   },
   {
    "duration": 7,
    "start_time": "2021-12-02T13:34:10.453Z"
   },
   {
    "duration": 9,
    "start_time": "2021-12-02T13:34:10.463Z"
   },
   {
    "duration": 189,
    "start_time": "2021-12-02T13:34:10.473Z"
   },
   {
    "duration": 8,
    "start_time": "2021-12-02T13:34:10.664Z"
   },
   {
    "duration": 23,
    "start_time": "2021-12-02T13:34:10.673Z"
   },
   {
    "duration": 7,
    "start_time": "2021-12-02T13:34:10.698Z"
   },
   {
    "duration": 40,
    "start_time": "2021-12-02T13:34:10.707Z"
   },
   {
    "duration": 29,
    "start_time": "2021-12-02T13:34:10.749Z"
   },
   {
    "duration": 8,
    "start_time": "2021-12-02T13:34:10.782Z"
   },
   {
    "duration": 10,
    "start_time": "2021-12-02T13:34:10.792Z"
   },
   {
    "duration": 11,
    "start_time": "2021-12-02T13:34:10.804Z"
   },
   {
    "duration": 26,
    "start_time": "2021-12-02T13:34:10.845Z"
   },
   {
    "duration": 21,
    "start_time": "2021-12-02T13:34:10.873Z"
   },
   {
    "duration": 17,
    "start_time": "2021-12-02T13:34:10.895Z"
   },
   {
    "duration": 10,
    "start_time": "2021-12-02T13:34:10.914Z"
   },
   {
    "duration": 16,
    "start_time": "2021-12-02T13:34:10.944Z"
   },
   {
    "duration": 16,
    "start_time": "2021-12-02T13:34:10.963Z"
   },
   {
    "duration": 7,
    "start_time": "2021-12-02T13:34:10.980Z"
   },
   {
    "duration": 70,
    "start_time": "2021-12-02T13:34:10.988Z"
   },
   {
    "duration": 8,
    "start_time": "2021-12-02T13:34:11.060Z"
   },
   {
    "duration": 11,
    "start_time": "2021-12-02T13:34:11.069Z"
   },
   {
    "duration": 9,
    "start_time": "2021-12-02T13:34:11.081Z"
   },
   {
    "duration": 14,
    "start_time": "2021-12-02T13:34:11.092Z"
   },
   {
    "duration": 5,
    "start_time": "2021-12-02T13:34:11.107Z"
   },
   {
    "duration": 50,
    "start_time": "2021-12-02T13:34:11.113Z"
   },
   {
    "duration": 12,
    "start_time": "2021-12-02T13:34:11.164Z"
   },
   {
    "duration": 6,
    "start_time": "2021-12-02T13:34:11.177Z"
   },
   {
    "duration": 27,
    "start_time": "2021-12-02T13:34:11.185Z"
   },
   {
    "duration": 54,
    "start_time": "2021-12-02T13:34:11.214Z"
   },
   {
    "duration": 20,
    "start_time": "2021-12-02T13:34:11.270Z"
   },
   {
    "duration": 10,
    "start_time": "2021-12-02T13:34:11.291Z"
   },
   {
    "duration": 3695,
    "start_time": "2021-12-02T13:34:11.303Z"
   },
   {
    "duration": 3,
    "start_time": "2021-12-02T13:34:15.000Z"
   },
   {
    "duration": 27,
    "start_time": "2021-12-02T13:34:15.005Z"
   },
   {
    "duration": 396,
    "start_time": "2021-12-02T13:34:15.033Z"
   },
   {
    "duration": 7,
    "start_time": "2021-12-02T13:34:15.431Z"
   },
   {
    "duration": 22,
    "start_time": "2021-12-02T13:34:15.440Z"
   },
   {
    "duration": 266,
    "start_time": "2021-12-02T13:34:15.464Z"
   },
   {
    "duration": 142,
    "start_time": "2021-12-02T13:34:15.732Z"
   },
   {
    "duration": 171,
    "start_time": "2021-12-02T13:34:15.875Z"
   },
   {
    "duration": 17,
    "start_time": "2021-12-02T13:34:16.048Z"
   },
   {
    "duration": 6,
    "start_time": "2021-12-02T13:34:16.067Z"
   },
   {
    "duration": 29,
    "start_time": "2021-12-02T13:34:16.074Z"
   },
   {
    "duration": 55,
    "start_time": "2021-12-02T13:34:16.105Z"
   },
   {
    "duration": 6,
    "start_time": "2021-12-02T13:34:16.162Z"
   },
   {
    "duration": 24,
    "start_time": "2021-12-02T13:34:16.169Z"
   },
   {
    "duration": 19,
    "start_time": "2021-12-02T13:34:16.195Z"
   },
   {
    "duration": 44,
    "start_time": "2021-12-02T13:34:16.216Z"
   },
   {
    "duration": 17,
    "start_time": "2021-12-02T13:36:34.863Z"
   },
   {
    "duration": 48,
    "start_time": "2021-12-02T13:36:34.882Z"
   },
   {
    "duration": 18,
    "start_time": "2021-12-02T13:36:34.932Z"
   },
   {
    "duration": 13,
    "start_time": "2021-12-02T13:36:34.952Z"
   },
   {
    "duration": 19,
    "start_time": "2021-12-02T13:36:34.967Z"
   },
   {
    "duration": 6,
    "start_time": "2021-12-02T13:36:34.988Z"
   },
   {
    "duration": 7,
    "start_time": "2021-12-02T13:36:34.996Z"
   },
   {
    "duration": 221,
    "start_time": "2021-12-02T13:36:35.005Z"
   },
   {
    "duration": 180,
    "start_time": "2021-12-02T13:36:35.228Z"
   },
   {
    "duration": 35,
    "start_time": "2021-12-02T13:36:35.410Z"
   },
   {
    "duration": 188,
    "start_time": "2021-12-02T13:36:35.447Z"
   },
   {
    "duration": 10,
    "start_time": "2021-12-02T13:36:35.637Z"
   },
   {
    "duration": 8,
    "start_time": "2021-12-02T13:36:35.649Z"
   },
   {
    "duration": 16,
    "start_time": "2021-12-02T13:36:35.659Z"
   },
   {
    "duration": 5,
    "start_time": "2021-12-02T13:36:35.677Z"
   },
   {
    "duration": 14,
    "start_time": "2021-12-02T13:36:35.684Z"
   },
   {
    "duration": 193,
    "start_time": "2021-12-02T13:36:35.700Z"
   },
   {
    "duration": 7,
    "start_time": "2021-12-02T13:36:35.895Z"
   },
   {
    "duration": 28,
    "start_time": "2021-12-02T13:36:35.903Z"
   },
   {
    "duration": 7,
    "start_time": "2021-12-02T13:36:35.945Z"
   },
   {
    "duration": 10,
    "start_time": "2021-12-02T13:36:35.955Z"
   },
   {
    "duration": 23,
    "start_time": "2021-12-02T13:36:35.966Z"
   },
   {
    "duration": 7,
    "start_time": "2021-12-02T13:36:35.993Z"
   },
   {
    "duration": 43,
    "start_time": "2021-12-02T13:36:36.003Z"
   },
   {
    "duration": 16,
    "start_time": "2021-12-02T13:36:36.048Z"
   },
   {
    "duration": 18,
    "start_time": "2021-12-02T13:36:36.066Z"
   },
   {
    "duration": 19,
    "start_time": "2021-12-02T13:36:36.086Z"
   },
   {
    "duration": 12,
    "start_time": "2021-12-02T13:36:36.106Z"
   },
   {
    "duration": 14,
    "start_time": "2021-12-02T13:36:36.144Z"
   },
   {
    "duration": 12,
    "start_time": "2021-12-02T13:36:36.161Z"
   },
   {
    "duration": 16,
    "start_time": "2021-12-02T13:36:36.174Z"
   },
   {
    "duration": 7,
    "start_time": "2021-12-02T13:36:36.192Z"
   },
   {
    "duration": 84,
    "start_time": "2021-12-02T13:36:36.200Z"
   },
   {
    "duration": 9,
    "start_time": "2021-12-02T13:36:36.285Z"
   },
   {
    "duration": 31,
    "start_time": "2021-12-02T13:36:36.295Z"
   },
   {
    "duration": 13,
    "start_time": "2021-12-02T13:36:36.328Z"
   },
   {
    "duration": 24,
    "start_time": "2021-12-02T13:36:36.342Z"
   },
   {
    "duration": 5,
    "start_time": "2021-12-02T13:36:36.367Z"
   },
   {
    "duration": 22,
    "start_time": "2021-12-02T13:36:36.374Z"
   },
   {
    "duration": 13,
    "start_time": "2021-12-02T13:36:36.398Z"
   },
   {
    "duration": 3,
    "start_time": "2021-12-02T13:36:36.413Z"
   },
   {
    "duration": 47,
    "start_time": "2021-12-02T13:36:36.418Z"
   },
   {
    "duration": 20,
    "start_time": "2021-12-02T13:36:36.466Z"
   },
   {
    "duration": 16,
    "start_time": "2021-12-02T13:36:36.488Z"
   },
   {
    "duration": 9,
    "start_time": "2021-12-02T13:36:36.506Z"
   },
   {
    "duration": 3503,
    "start_time": "2021-12-02T13:36:36.516Z"
   },
   {
    "duration": 4,
    "start_time": "2021-12-02T13:36:40.021Z"
   },
   {
    "duration": 32,
    "start_time": "2021-12-02T13:36:40.026Z"
   },
   {
    "duration": 6,
    "start_time": "2021-12-02T13:36:40.060Z"
   },
   {
    "duration": 5,
    "start_time": "2021-12-02T13:36:40.067Z"
   },
   {
    "duration": 19,
    "start_time": "2021-12-02T13:36:40.074Z"
   },
   {
    "duration": 197,
    "start_time": "2021-12-02T13:36:40.095Z"
   },
   {
    "duration": 215,
    "start_time": "2021-12-02T13:36:40.294Z"
   },
   {
    "duration": 171,
    "start_time": "2021-12-02T13:36:40.511Z"
   },
   {
    "duration": 12,
    "start_time": "2021-12-02T13:36:40.684Z"
   },
   {
    "duration": 15,
    "start_time": "2021-12-02T13:36:40.697Z"
   },
   {
    "duration": 46,
    "start_time": "2021-12-02T13:36:40.713Z"
   },
   {
    "duration": 22,
    "start_time": "2021-12-02T13:36:40.760Z"
   },
   {
    "duration": 26,
    "start_time": "2021-12-02T13:36:40.784Z"
   },
   {
    "duration": 24,
    "start_time": "2021-12-02T13:36:40.812Z"
   },
   {
    "duration": 27,
    "start_time": "2021-12-02T13:36:40.837Z"
   },
   {
    "duration": 19,
    "start_time": "2021-12-02T13:36:40.865Z"
   },
   {
    "duration": 22,
    "start_time": "2021-12-02T13:46:03.740Z"
   },
   {
    "duration": 82,
    "start_time": "2021-12-02T13:46:03.764Z"
   },
   {
    "duration": 17,
    "start_time": "2021-12-02T13:46:03.849Z"
   },
   {
    "duration": 10,
    "start_time": "2021-12-02T13:46:03.868Z"
   },
   {
    "duration": 19,
    "start_time": "2021-12-02T13:46:03.880Z"
   },
   {
    "duration": 7,
    "start_time": "2021-12-02T13:46:03.901Z"
   },
   {
    "duration": 11,
    "start_time": "2021-12-02T13:46:03.946Z"
   },
   {
    "duration": 223,
    "start_time": "2021-12-02T13:46:03.961Z"
   },
   {
    "duration": 178,
    "start_time": "2021-12-02T13:46:04.186Z"
   },
   {
    "duration": 24,
    "start_time": "2021-12-02T13:46:04.365Z"
   },
   {
    "duration": 199,
    "start_time": "2021-12-02T13:46:04.391Z"
   },
   {
    "duration": 7,
    "start_time": "2021-12-02T13:46:04.592Z"
   },
   {
    "duration": 6,
    "start_time": "2021-12-02T13:46:04.601Z"
   },
   {
    "duration": 15,
    "start_time": "2021-12-02T13:46:04.609Z"
   },
   {
    "duration": 11,
    "start_time": "2021-12-02T13:46:04.646Z"
   },
   {
    "duration": 10,
    "start_time": "2021-12-02T13:46:04.658Z"
   },
   {
    "duration": 184,
    "start_time": "2021-12-02T13:46:04.670Z"
   },
   {
    "duration": 9,
    "start_time": "2021-12-02T13:46:04.856Z"
   },
   {
    "duration": 29,
    "start_time": "2021-12-02T13:46:04.868Z"
   },
   {
    "duration": 5,
    "start_time": "2021-12-02T13:46:04.898Z"
   },
   {
    "duration": 11,
    "start_time": "2021-12-02T13:46:04.904Z"
   },
   {
    "duration": 59,
    "start_time": "2021-12-02T13:46:04.916Z"
   },
   {
    "duration": 7,
    "start_time": "2021-12-02T13:46:04.979Z"
   },
   {
    "duration": 10,
    "start_time": "2021-12-02T13:46:04.988Z"
   },
   {
    "duration": 12,
    "start_time": "2021-12-02T13:46:04.999Z"
   },
   {
    "duration": 62,
    "start_time": "2021-12-02T13:46:05.012Z"
   },
   {
    "duration": 21,
    "start_time": "2021-12-02T13:46:05.076Z"
   },
   {
    "duration": 11,
    "start_time": "2021-12-02T13:46:05.099Z"
   },
   {
    "duration": 33,
    "start_time": "2021-12-02T13:46:05.112Z"
   },
   {
    "duration": 12,
    "start_time": "2021-12-02T13:46:05.147Z"
   },
   {
    "duration": 16,
    "start_time": "2021-12-02T13:46:05.160Z"
   },
   {
    "duration": 6,
    "start_time": "2021-12-02T13:46:05.178Z"
   },
   {
    "duration": 81,
    "start_time": "2021-12-02T13:46:05.186Z"
   },
   {
    "duration": 9,
    "start_time": "2021-12-02T13:46:05.269Z"
   },
   {
    "duration": 14,
    "start_time": "2021-12-02T13:46:05.279Z"
   },
   {
    "duration": 12,
    "start_time": "2021-12-02T13:46:05.295Z"
   },
   {
    "duration": 37,
    "start_time": "2021-12-02T13:46:05.309Z"
   },
   {
    "duration": 6,
    "start_time": "2021-12-02T13:46:05.347Z"
   },
   {
    "duration": 27,
    "start_time": "2021-12-02T13:46:05.355Z"
   },
   {
    "duration": 13,
    "start_time": "2021-12-02T13:46:05.385Z"
   },
   {
    "duration": 8,
    "start_time": "2021-12-02T13:46:05.400Z"
   },
   {
    "duration": 57,
    "start_time": "2021-12-02T13:46:05.410Z"
   },
   {
    "duration": 30,
    "start_time": "2021-12-02T13:46:05.469Z"
   },
   {
    "duration": 24,
    "start_time": "2021-12-02T13:46:05.501Z"
   },
   {
    "duration": 25,
    "start_time": "2021-12-02T13:46:05.527Z"
   },
   {
    "duration": 3984,
    "start_time": "2021-12-02T13:46:05.553Z"
   },
   {
    "duration": 7,
    "start_time": "2021-12-02T13:46:09.547Z"
   },
   {
    "duration": 19,
    "start_time": "2021-12-02T13:46:09.557Z"
   },
   {
    "duration": 4,
    "start_time": "2021-12-02T13:46:09.578Z"
   },
   {
    "duration": 5,
    "start_time": "2021-12-02T13:46:09.584Z"
   },
   {
    "duration": 17,
    "start_time": "2021-12-02T13:46:09.591Z"
   },
   {
    "duration": 217,
    "start_time": "2021-12-02T13:46:09.610Z"
   },
   {
    "duration": 139,
    "start_time": "2021-12-02T13:46:09.829Z"
   },
   {
    "duration": 182,
    "start_time": "2021-12-02T13:46:09.970Z"
   },
   {
    "duration": 15,
    "start_time": "2021-12-02T13:46:10.154Z"
   },
   {
    "duration": 6,
    "start_time": "2021-12-02T13:46:10.171Z"
   },
   {
    "duration": 35,
    "start_time": "2021-12-02T13:46:10.179Z"
   },
   {
    "duration": 53,
    "start_time": "2021-12-02T13:46:10.216Z"
   },
   {
    "duration": 5,
    "start_time": "2021-12-02T13:46:10.271Z"
   },
   {
    "duration": 22,
    "start_time": "2021-12-02T13:46:10.278Z"
   },
   {
    "duration": 180,
    "start_time": "2021-12-02T13:46:10.302Z"
   },
   {
    "duration": 30,
    "start_time": "2021-12-02T13:46:10.484Z"
   },
   {
    "duration": 20,
    "start_time": "2021-12-02T13:47:42.712Z"
   },
   {
    "duration": 52,
    "start_time": "2021-12-02T13:47:42.734Z"
   },
   {
    "duration": 11,
    "start_time": "2021-12-02T13:47:42.788Z"
   },
   {
    "duration": 12,
    "start_time": "2021-12-02T13:47:42.801Z"
   },
   {
    "duration": 24,
    "start_time": "2021-12-02T13:47:42.845Z"
   },
   {
    "duration": 7,
    "start_time": "2021-12-02T13:47:42.871Z"
   },
   {
    "duration": 13,
    "start_time": "2021-12-02T13:47:42.879Z"
   },
   {
    "duration": 207,
    "start_time": "2021-12-02T13:47:42.894Z"
   },
   {
    "duration": 183,
    "start_time": "2021-12-02T13:47:43.103Z"
   },
   {
    "duration": 25,
    "start_time": "2021-12-02T13:47:43.288Z"
   },
   {
    "duration": 195,
    "start_time": "2021-12-02T13:47:43.314Z"
   },
   {
    "duration": 5,
    "start_time": "2021-12-02T13:47:43.510Z"
   },
   {
    "duration": 9,
    "start_time": "2021-12-02T13:47:43.517Z"
   },
   {
    "duration": 23,
    "start_time": "2021-12-02T13:47:43.528Z"
   },
   {
    "duration": 8,
    "start_time": "2021-12-02T13:47:43.553Z"
   },
   {
    "duration": 10,
    "start_time": "2021-12-02T13:47:43.562Z"
   },
   {
    "duration": 182,
    "start_time": "2021-12-02T13:47:43.573Z"
   },
   {
    "duration": 7,
    "start_time": "2021-12-02T13:47:43.757Z"
   },
   {
    "duration": 22,
    "start_time": "2021-12-02T13:47:43.765Z"
   },
   {
    "duration": 5,
    "start_time": "2021-12-02T13:47:43.789Z"
   },
   {
    "duration": 10,
    "start_time": "2021-12-02T13:47:43.796Z"
   },
   {
    "duration": 50,
    "start_time": "2021-12-02T13:47:43.807Z"
   },
   {
    "duration": 10,
    "start_time": "2021-12-02T13:47:43.862Z"
   },
   {
    "duration": 14,
    "start_time": "2021-12-02T13:47:43.874Z"
   },
   {
    "duration": 26,
    "start_time": "2021-12-02T13:47:43.889Z"
   },
   {
    "duration": 47,
    "start_time": "2021-12-02T13:47:43.916Z"
   },
   {
    "duration": 20,
    "start_time": "2021-12-02T13:47:43.965Z"
   },
   {
    "duration": 20,
    "start_time": "2021-12-02T13:47:43.987Z"
   },
   {
    "duration": 11,
    "start_time": "2021-12-02T13:47:44.009Z"
   },
   {
    "duration": 29,
    "start_time": "2021-12-02T13:47:44.022Z"
   },
   {
    "duration": 17,
    "start_time": "2021-12-02T13:47:44.053Z"
   },
   {
    "duration": 6,
    "start_time": "2021-12-02T13:47:44.072Z"
   },
   {
    "duration": 43,
    "start_time": "2021-12-02T13:47:44.080Z"
   },
   {
    "duration": 11,
    "start_time": "2021-12-02T13:47:44.144Z"
   },
   {
    "duration": 11,
    "start_time": "2021-12-02T13:47:44.157Z"
   },
   {
    "duration": 9,
    "start_time": "2021-12-02T13:47:44.169Z"
   },
   {
    "duration": 13,
    "start_time": "2021-12-02T13:47:44.180Z"
   },
   {
    "duration": 5,
    "start_time": "2021-12-02T13:47:44.195Z"
   },
   {
    "duration": 53,
    "start_time": "2021-12-02T13:47:44.201Z"
   },
   {
    "duration": 13,
    "start_time": "2021-12-02T13:47:44.256Z"
   },
   {
    "duration": 3,
    "start_time": "2021-12-02T13:47:44.271Z"
   },
   {
    "duration": 25,
    "start_time": "2021-12-02T13:47:44.275Z"
   },
   {
    "duration": 56,
    "start_time": "2021-12-02T13:47:44.302Z"
   },
   {
    "duration": 16,
    "start_time": "2021-12-02T13:47:44.360Z"
   },
   {
    "duration": 8,
    "start_time": "2021-12-02T13:47:44.378Z"
   },
   {
    "duration": 3640,
    "start_time": "2021-12-02T13:47:44.388Z"
   },
   {
    "duration": 3,
    "start_time": "2021-12-02T13:47:48.030Z"
   },
   {
    "duration": 31,
    "start_time": "2021-12-02T13:47:48.044Z"
   },
   {
    "duration": 4,
    "start_time": "2021-12-02T13:47:48.077Z"
   },
   {
    "duration": 7,
    "start_time": "2021-12-02T13:47:48.082Z"
   },
   {
    "duration": 19,
    "start_time": "2021-12-02T13:47:48.090Z"
   },
   {
    "duration": 203,
    "start_time": "2021-12-02T13:47:48.110Z"
   },
   {
    "duration": 151,
    "start_time": "2021-12-02T13:47:48.314Z"
   },
   {
    "duration": 191,
    "start_time": "2021-12-02T13:47:48.467Z"
   },
   {
    "duration": 14,
    "start_time": "2021-12-02T13:47:48.660Z"
   },
   {
    "duration": 7,
    "start_time": "2021-12-02T13:47:48.676Z"
   },
   {
    "duration": 30,
    "start_time": "2021-12-02T13:47:48.684Z"
   },
   {
    "duration": 26,
    "start_time": "2021-12-02T13:47:48.745Z"
   },
   {
    "duration": 5,
    "start_time": "2021-12-02T13:47:48.773Z"
   },
   {
    "duration": 24,
    "start_time": "2021-12-02T13:47:48.779Z"
   },
   {
    "duration": 57,
    "start_time": "2021-12-02T13:47:48.805Z"
   },
   {
    "duration": 19,
    "start_time": "2021-12-02T13:47:48.864Z"
   },
   {
    "duration": 16,
    "start_time": "2021-12-02T13:51:24.880Z"
   },
   {
    "duration": 58,
    "start_time": "2021-12-02T13:51:24.898Z"
   },
   {
    "duration": 12,
    "start_time": "2021-12-02T13:51:24.960Z"
   },
   {
    "duration": 12,
    "start_time": "2021-12-02T13:51:24.973Z"
   },
   {
    "duration": 19,
    "start_time": "2021-12-02T13:51:24.987Z"
   },
   {
    "duration": 6,
    "start_time": "2021-12-02T13:51:25.007Z"
   },
   {
    "duration": 32,
    "start_time": "2021-12-02T13:51:25.015Z"
   },
   {
    "duration": 189,
    "start_time": "2021-12-02T13:51:25.051Z"
   },
   {
    "duration": 180,
    "start_time": "2021-12-02T13:51:25.241Z"
   },
   {
    "duration": 36,
    "start_time": "2021-12-02T13:51:25.423Z"
   },
   {
    "duration": 304,
    "start_time": "2021-12-02T13:51:25.461Z"
   },
   {
    "duration": 5,
    "start_time": "2021-12-02T13:51:25.767Z"
   },
   {
    "duration": 5,
    "start_time": "2021-12-02T13:51:25.774Z"
   },
   {
    "duration": 12,
    "start_time": "2021-12-02T13:51:25.781Z"
   },
   {
    "duration": 7,
    "start_time": "2021-12-02T13:51:25.794Z"
   },
   {
    "duration": 13,
    "start_time": "2021-12-02T13:51:25.803Z"
   },
   {
    "duration": 173,
    "start_time": "2021-12-02T13:51:25.845Z"
   },
   {
    "duration": 6,
    "start_time": "2021-12-02T13:51:26.019Z"
   },
   {
    "duration": 33,
    "start_time": "2021-12-02T13:51:26.027Z"
   },
   {
    "duration": 5,
    "start_time": "2021-12-02T13:51:26.061Z"
   },
   {
    "duration": 9,
    "start_time": "2021-12-02T13:51:26.068Z"
   },
   {
    "duration": 26,
    "start_time": "2021-12-02T13:51:26.079Z"
   },
   {
    "duration": 7,
    "start_time": "2021-12-02T13:51:26.109Z"
   },
   {
    "duration": 38,
    "start_time": "2021-12-02T13:51:26.118Z"
   },
   {
    "duration": 15,
    "start_time": "2021-12-02T13:51:26.158Z"
   },
   {
    "duration": 22,
    "start_time": "2021-12-02T13:51:26.175Z"
   },
   {
    "duration": 53,
    "start_time": "2021-12-02T13:51:26.199Z"
   },
   {
    "duration": 11,
    "start_time": "2021-12-02T13:51:26.254Z"
   },
   {
    "duration": 11,
    "start_time": "2021-12-02T13:51:26.266Z"
   },
   {
    "duration": 12,
    "start_time": "2021-12-02T13:51:26.279Z"
   },
   {
    "duration": 15,
    "start_time": "2021-12-02T13:51:26.293Z"
   },
   {
    "duration": 45,
    "start_time": "2021-12-02T13:51:26.309Z"
   },
   {
    "duration": 48,
    "start_time": "2021-12-02T13:51:26.356Z"
   },
   {
    "duration": 8,
    "start_time": "2021-12-02T13:51:26.406Z"
   },
   {
    "duration": 29,
    "start_time": "2021-12-02T13:51:26.416Z"
   },
   {
    "duration": 8,
    "start_time": "2021-12-02T13:51:26.447Z"
   },
   {
    "duration": 16,
    "start_time": "2021-12-02T13:51:26.457Z"
   },
   {
    "duration": 5,
    "start_time": "2021-12-02T13:51:26.475Z"
   },
   {
    "duration": 23,
    "start_time": "2021-12-02T13:51:26.482Z"
   },
   {
    "duration": 39,
    "start_time": "2021-12-02T13:51:26.507Z"
   },
   {
    "duration": 11,
    "start_time": "2021-12-02T13:51:26.549Z"
   },
   {
    "duration": 24,
    "start_time": "2021-12-02T13:51:26.562Z"
   },
   {
    "duration": 18,
    "start_time": "2021-12-02T13:51:26.588Z"
   },
   {
    "duration": 15,
    "start_time": "2021-12-02T13:51:26.608Z"
   },
   {
    "duration": 31,
    "start_time": "2021-12-02T13:51:26.624Z"
   },
   {
    "duration": 3751,
    "start_time": "2021-12-02T13:51:26.658Z"
   },
   {
    "duration": 4,
    "start_time": "2021-12-02T13:51:30.411Z"
   },
   {
    "duration": 53,
    "start_time": "2021-12-02T13:51:30.417Z"
   },
   {
    "duration": 22,
    "start_time": "2021-12-02T13:51:30.472Z"
   },
   {
    "duration": 33,
    "start_time": "2021-12-02T13:51:30.495Z"
   },
   {
    "duration": 40,
    "start_time": "2021-12-02T13:51:30.530Z"
   },
   {
    "duration": 187,
    "start_time": "2021-12-02T13:51:30.571Z"
   },
   {
    "duration": 143,
    "start_time": "2021-12-02T13:51:30.760Z"
   },
   {
    "duration": 174,
    "start_time": "2021-12-02T13:51:30.905Z"
   },
   {
    "duration": 13,
    "start_time": "2021-12-02T13:51:31.081Z"
   },
   {
    "duration": 29,
    "start_time": "2021-12-02T13:51:31.096Z"
   },
   {
    "duration": 52,
    "start_time": "2021-12-02T13:51:31.126Z"
   },
   {
    "duration": 53,
    "start_time": "2021-12-02T13:51:31.180Z"
   },
   {
    "duration": 30,
    "start_time": "2021-12-02T13:51:31.234Z"
   },
   {
    "duration": 52,
    "start_time": "2021-12-02T13:51:31.265Z"
   },
   {
    "duration": 44,
    "start_time": "2021-12-02T13:51:31.319Z"
   },
   {
    "duration": 21,
    "start_time": "2021-12-02T13:51:31.365Z"
   },
   {
    "duration": 17,
    "start_time": "2021-12-02T13:55:37.417Z"
   },
   {
    "duration": 56,
    "start_time": "2021-12-02T13:55:37.436Z"
   },
   {
    "duration": 11,
    "start_time": "2021-12-02T13:55:37.493Z"
   },
   {
    "duration": 12,
    "start_time": "2021-12-02T13:55:37.506Z"
   },
   {
    "duration": 25,
    "start_time": "2021-12-02T13:55:37.545Z"
   },
   {
    "duration": 6,
    "start_time": "2021-12-02T13:55:37.572Z"
   },
   {
    "duration": 25,
    "start_time": "2021-12-02T13:55:37.579Z"
   },
   {
    "duration": 196,
    "start_time": "2021-12-02T13:55:37.606Z"
   },
   {
    "duration": 178,
    "start_time": "2021-12-02T13:55:37.805Z"
   },
   {
    "duration": 22,
    "start_time": "2021-12-02T13:55:37.986Z"
   },
   {
    "duration": 197,
    "start_time": "2021-12-02T13:55:38.010Z"
   },
   {
    "duration": 5,
    "start_time": "2021-12-02T13:55:38.209Z"
   },
   {
    "duration": 26,
    "start_time": "2021-12-02T13:55:38.215Z"
   },
   {
    "duration": 24,
    "start_time": "2021-12-02T13:55:38.243Z"
   },
   {
    "duration": 26,
    "start_time": "2021-12-02T13:55:38.269Z"
   },
   {
    "duration": 19,
    "start_time": "2021-12-02T13:55:38.297Z"
   },
   {
    "duration": 283,
    "start_time": "2021-12-02T13:55:38.318Z"
   },
   {
    "duration": 6,
    "start_time": "2021-12-02T13:55:38.603Z"
   },
   {
    "duration": 35,
    "start_time": "2021-12-02T13:55:38.611Z"
   },
   {
    "duration": 10,
    "start_time": "2021-12-02T13:55:38.648Z"
   },
   {
    "duration": 10,
    "start_time": "2021-12-02T13:55:38.660Z"
   },
   {
    "duration": 26,
    "start_time": "2021-12-02T13:55:38.672Z"
   },
   {
    "duration": 7,
    "start_time": "2021-12-02T13:55:38.700Z"
   },
   {
    "duration": 40,
    "start_time": "2021-12-02T13:55:38.709Z"
   },
   {
    "duration": 13,
    "start_time": "2021-12-02T13:55:38.751Z"
   },
   {
    "duration": 26,
    "start_time": "2021-12-02T13:55:38.766Z"
   },
   {
    "duration": 22,
    "start_time": "2021-12-02T13:55:38.799Z"
   },
   {
    "duration": 34,
    "start_time": "2021-12-02T13:55:38.824Z"
   },
   {
    "duration": 12,
    "start_time": "2021-12-02T13:55:38.860Z"
   },
   {
    "duration": 12,
    "start_time": "2021-12-02T13:55:38.874Z"
   },
   {
    "duration": 14,
    "start_time": "2021-12-02T13:55:38.888Z"
   },
   {
    "duration": 45,
    "start_time": "2021-12-02T13:55:38.903Z"
   },
   {
    "duration": 45,
    "start_time": "2021-12-02T13:55:38.952Z"
   },
   {
    "duration": 8,
    "start_time": "2021-12-02T13:55:38.999Z"
   },
   {
    "duration": 13,
    "start_time": "2021-12-02T13:55:39.008Z"
   },
   {
    "duration": 28,
    "start_time": "2021-12-02T13:55:39.022Z"
   },
   {
    "duration": 17,
    "start_time": "2021-12-02T13:55:39.053Z"
   },
   {
    "duration": 9,
    "start_time": "2021-12-02T13:55:39.072Z"
   },
   {
    "duration": 20,
    "start_time": "2021-12-02T13:55:39.082Z"
   },
   {
    "duration": 12,
    "start_time": "2021-12-02T13:55:39.103Z"
   },
   {
    "duration": 9,
    "start_time": "2021-12-02T13:55:39.145Z"
   },
   {
    "duration": 27,
    "start_time": "2021-12-02T13:55:39.156Z"
   },
   {
    "duration": 18,
    "start_time": "2021-12-02T13:55:39.185Z"
   },
   {
    "duration": 28,
    "start_time": "2021-12-02T13:55:39.205Z"
   },
   {
    "duration": 27,
    "start_time": "2021-12-02T13:55:39.235Z"
   },
   {
    "duration": 3864,
    "start_time": "2021-12-02T13:55:39.263Z"
   },
   {
    "duration": 3,
    "start_time": "2021-12-02T13:55:43.129Z"
   },
   {
    "duration": 24,
    "start_time": "2021-12-02T13:55:43.144Z"
   },
   {
    "duration": 6,
    "start_time": "2021-12-02T13:55:43.170Z"
   },
   {
    "duration": 4,
    "start_time": "2021-12-02T13:55:43.178Z"
   },
   {
    "duration": 21,
    "start_time": "2021-12-02T13:55:43.184Z"
   },
   {
    "duration": 267,
    "start_time": "2021-12-02T13:55:43.207Z"
   },
   {
    "duration": 148,
    "start_time": "2021-12-02T13:55:43.476Z"
   },
   {
    "duration": 183,
    "start_time": "2021-12-02T13:55:43.625Z"
   },
   {
    "duration": 14,
    "start_time": "2021-12-02T13:55:43.810Z"
   },
   {
    "duration": 28,
    "start_time": "2021-12-02T13:55:43.826Z"
   },
   {
    "duration": 30,
    "start_time": "2021-12-02T13:55:43.856Z"
   },
   {
    "duration": 43,
    "start_time": "2021-12-02T13:55:43.888Z"
   },
   {
    "duration": 6,
    "start_time": "2021-12-02T13:55:43.933Z"
   },
   {
    "duration": 31,
    "start_time": "2021-12-02T13:55:43.941Z"
   },
   {
    "duration": 25,
    "start_time": "2021-12-02T13:55:43.974Z"
   },
   {
    "duration": 20,
    "start_time": "2021-12-02T13:55:44.000Z"
   },
   {
    "duration": 83,
    "start_time": "2021-12-02T13:59:17.400Z"
   },
   {
    "duration": 87,
    "start_time": "2021-12-02T14:04:48.650Z"
   },
   {
    "duration": 18,
    "start_time": "2021-12-02T14:09:41.652Z"
   },
   {
    "duration": 96,
    "start_time": "2021-12-02T14:28:27.262Z"
   },
   {
    "duration": 3,
    "start_time": "2021-12-02T14:29:13.989Z"
   },
   {
    "duration": 66,
    "start_time": "2021-12-02T14:29:13.994Z"
   },
   {
    "duration": 12,
    "start_time": "2021-12-02T14:29:14.064Z"
   },
   {
    "duration": 91,
    "start_time": "2021-12-02T14:29:14.079Z"
   },
   {
    "duration": -27,
    "start_time": "2021-12-02T14:29:14.201Z"
   },
   {
    "duration": -27,
    "start_time": "2021-12-02T14:29:14.203Z"
   },
   {
    "duration": -28,
    "start_time": "2021-12-02T14:29:14.205Z"
   },
   {
    "duration": -29,
    "start_time": "2021-12-02T14:29:14.207Z"
   },
   {
    "duration": -29,
    "start_time": "2021-12-02T14:29:14.209Z"
   },
   {
    "duration": -30,
    "start_time": "2021-12-02T14:29:14.211Z"
   },
   {
    "duration": -32,
    "start_time": "2021-12-02T14:29:14.214Z"
   },
   {
    "duration": -32,
    "start_time": "2021-12-02T14:29:14.216Z"
   },
   {
    "duration": -33,
    "start_time": "2021-12-02T14:29:14.218Z"
   },
   {
    "duration": -33,
    "start_time": "2021-12-02T14:29:14.220Z"
   },
   {
    "duration": -34,
    "start_time": "2021-12-02T14:29:14.222Z"
   },
   {
    "duration": -36,
    "start_time": "2021-12-02T14:29:14.225Z"
   },
   {
    "duration": -39,
    "start_time": "2021-12-02T14:29:14.230Z"
   },
   {
    "duration": -40,
    "start_time": "2021-12-02T14:29:14.232Z"
   },
   {
    "duration": -41,
    "start_time": "2021-12-02T14:29:14.234Z"
   },
   {
    "duration": -55,
    "start_time": "2021-12-02T14:29:14.249Z"
   },
   {
    "duration": -55,
    "start_time": "2021-12-02T14:29:14.251Z"
   },
   {
    "duration": -56,
    "start_time": "2021-12-02T14:29:14.253Z"
   },
   {
    "duration": -57,
    "start_time": "2021-12-02T14:29:14.255Z"
   },
   {
    "duration": -57,
    "start_time": "2021-12-02T14:29:14.257Z"
   },
   {
    "duration": -58,
    "start_time": "2021-12-02T14:29:14.259Z"
   },
   {
    "duration": -59,
    "start_time": "2021-12-02T14:29:14.261Z"
   },
   {
    "duration": -59,
    "start_time": "2021-12-02T14:29:14.263Z"
   },
   {
    "duration": -60,
    "start_time": "2021-12-02T14:29:14.265Z"
   },
   {
    "duration": -80,
    "start_time": "2021-12-02T14:29:14.286Z"
   },
   {
    "duration": -86,
    "start_time": "2021-12-02T14:29:14.294Z"
   },
   {
    "duration": -87,
    "start_time": "2021-12-02T14:29:14.296Z"
   },
   {
    "duration": -88,
    "start_time": "2021-12-02T14:29:14.298Z"
   },
   {
    "duration": -89,
    "start_time": "2021-12-02T14:29:14.301Z"
   },
   {
    "duration": -89,
    "start_time": "2021-12-02T14:29:14.302Z"
   },
   {
    "duration": -64,
    "start_time": "2021-12-02T14:29:14.309Z"
   },
   {
    "duration": -63,
    "start_time": "2021-12-02T14:29:14.311Z"
   },
   {
    "duration": -63,
    "start_time": "2021-12-02T14:29:14.313Z"
   },
   {
    "duration": -63,
    "start_time": "2021-12-02T14:29:14.315Z"
   },
   {
    "duration": -64,
    "start_time": "2021-12-02T14:29:14.317Z"
   },
   {
    "duration": -64,
    "start_time": "2021-12-02T14:29:14.318Z"
   },
   {
    "duration": -65,
    "start_time": "2021-12-02T14:29:14.320Z"
   },
   {
    "duration": -66,
    "start_time": "2021-12-02T14:29:14.322Z"
   },
   {
    "duration": -67,
    "start_time": "2021-12-02T14:29:14.324Z"
   },
   {
    "duration": -67,
    "start_time": "2021-12-02T14:29:14.325Z"
   },
   {
    "duration": -68,
    "start_time": "2021-12-02T14:29:14.327Z"
   },
   {
    "duration": -69,
    "start_time": "2021-12-02T14:29:14.329Z"
   },
   {
    "duration": -71,
    "start_time": "2021-12-02T14:29:14.331Z"
   },
   {
    "duration": -72,
    "start_time": "2021-12-02T14:29:14.333Z"
   },
   {
    "duration": -77,
    "start_time": "2021-12-02T14:29:14.338Z"
   },
   {
    "duration": -78,
    "start_time": "2021-12-02T14:29:14.340Z"
   },
   {
    "duration": -80,
    "start_time": "2021-12-02T14:29:14.342Z"
   },
   {
    "duration": -81,
    "start_time": "2021-12-02T14:29:14.344Z"
   },
   {
    "duration": -81,
    "start_time": "2021-12-02T14:29:14.345Z"
   },
   {
    "duration": -82,
    "start_time": "2021-12-02T14:29:14.347Z"
   },
   {
    "duration": -84,
    "start_time": "2021-12-02T14:29:14.349Z"
   },
   {
    "duration": -85,
    "start_time": "2021-12-02T14:29:14.351Z"
   },
   {
    "duration": -85,
    "start_time": "2021-12-02T14:29:14.352Z"
   },
   {
    "duration": -86,
    "start_time": "2021-12-02T14:29:14.354Z"
   },
   {
    "duration": -87,
    "start_time": "2021-12-02T14:29:14.356Z"
   },
   {
    "duration": -89,
    "start_time": "2021-12-02T14:29:14.359Z"
   },
   {
    "duration": -90,
    "start_time": "2021-12-02T14:29:14.361Z"
   },
   {
    "duration": -91,
    "start_time": "2021-12-02T14:29:14.363Z"
   },
   {
    "duration": 11,
    "start_time": "2021-12-02T14:29:38.384Z"
   },
   {
    "duration": 83,
    "start_time": "2021-12-02T14:33:54.729Z"
   },
   {
    "duration": 3,
    "start_time": "2021-12-02T14:36:27.460Z"
   },
   {
    "duration": 66,
    "start_time": "2021-12-02T14:36:27.466Z"
   },
   {
    "duration": 18,
    "start_time": "2021-12-02T14:36:27.535Z"
   },
   {
    "duration": 25,
    "start_time": "2021-12-02T14:36:27.556Z"
   },
   {
    "duration": 36,
    "start_time": "2021-12-02T14:36:27.583Z"
   },
   {
    "duration": 24,
    "start_time": "2021-12-02T14:36:27.621Z"
   },
   {
    "duration": 7,
    "start_time": "2021-12-02T14:36:27.647Z"
   },
   {
    "duration": 230,
    "start_time": "2021-12-02T14:36:27.657Z"
   },
   {
    "duration": 185,
    "start_time": "2021-12-02T14:36:27.889Z"
   },
   {
    "duration": 25,
    "start_time": "2021-12-02T14:36:28.077Z"
   },
   {
    "duration": 216,
    "start_time": "2021-12-02T14:36:28.103Z"
   },
   {
    "duration": 5,
    "start_time": "2021-12-02T14:36:28.321Z"
   },
   {
    "duration": 375,
    "start_time": "2021-12-02T14:36:28.328Z"
   },
   {
    "duration": 21,
    "start_time": "2021-12-02T14:36:28.705Z"
   },
   {
    "duration": 7,
    "start_time": "2021-12-02T14:36:28.728Z"
   },
   {
    "duration": 19,
    "start_time": "2021-12-02T14:36:28.737Z"
   },
   {
    "duration": 199,
    "start_time": "2021-12-02T14:36:28.757Z"
   },
   {
    "duration": 6,
    "start_time": "2021-12-02T14:36:28.958Z"
   },
   {
    "duration": 29,
    "start_time": "2021-12-02T14:36:28.966Z"
   },
   {
    "duration": 6,
    "start_time": "2021-12-02T14:36:28.997Z"
   },
   {
    "duration": 14,
    "start_time": "2021-12-02T14:36:29.005Z"
   },
   {
    "duration": 39,
    "start_time": "2021-12-02T14:36:29.021Z"
   },
   {
    "duration": 8,
    "start_time": "2021-12-02T14:36:29.062Z"
   },
   {
    "duration": 18,
    "start_time": "2021-12-02T14:36:29.071Z"
   },
   {
    "duration": 25,
    "start_time": "2021-12-02T14:36:29.090Z"
   },
   {
    "duration": 29,
    "start_time": "2021-12-02T14:36:29.116Z"
   },
   {
    "duration": 21,
    "start_time": "2021-12-02T14:36:29.149Z"
   },
   {
    "duration": 9,
    "start_time": "2021-12-02T14:36:29.172Z"
   },
   {
    "duration": 10,
    "start_time": "2021-12-02T14:36:29.183Z"
   },
   {
    "duration": 12,
    "start_time": "2021-12-02T14:36:29.195Z"
   },
   {
    "duration": 48,
    "start_time": "2021-12-02T14:36:29.208Z"
   },
   {
    "duration": 6,
    "start_time": "2021-12-02T14:36:29.258Z"
   },
   {
    "duration": 50,
    "start_time": "2021-12-02T14:36:29.266Z"
   },
   {
    "duration": 8,
    "start_time": "2021-12-02T14:36:29.317Z"
   },
   {
    "duration": 28,
    "start_time": "2021-12-02T14:36:29.327Z"
   },
   {
    "duration": 27,
    "start_time": "2021-12-02T14:36:29.357Z"
   },
   {
    "duration": 24,
    "start_time": "2021-12-02T14:36:29.386Z"
   },
   {
    "duration": 12,
    "start_time": "2021-12-02T14:36:29.411Z"
   },
   {
    "duration": 29,
    "start_time": "2021-12-02T14:36:29.424Z"
   },
   {
    "duration": 38,
    "start_time": "2021-12-02T14:36:29.455Z"
   },
   {
    "duration": 2,
    "start_time": "2021-12-02T14:36:29.495Z"
   },
   {
    "duration": 42,
    "start_time": "2021-12-02T14:36:29.499Z"
   },
   {
    "duration": 21,
    "start_time": "2021-12-02T14:36:29.543Z"
   },
   {
    "duration": 16,
    "start_time": "2021-12-02T14:36:29.566Z"
   },
   {
    "duration": 8,
    "start_time": "2021-12-02T14:36:29.584Z"
   },
   {
    "duration": 3541,
    "start_time": "2021-12-02T14:36:29.594Z"
   },
   {
    "duration": 4,
    "start_time": "2021-12-02T14:36:33.144Z"
   },
   {
    "duration": 31,
    "start_time": "2021-12-02T14:36:33.149Z"
   },
   {
    "duration": 14,
    "start_time": "2021-12-02T14:36:33.181Z"
   },
   {
    "duration": 33,
    "start_time": "2021-12-02T14:36:33.197Z"
   },
   {
    "duration": 34,
    "start_time": "2021-12-02T14:36:33.232Z"
   },
   {
    "duration": 166,
    "start_time": "2021-12-02T14:36:33.268Z"
   },
   {
    "duration": 123,
    "start_time": "2021-12-02T14:36:33.436Z"
   },
   {
    "duration": 168,
    "start_time": "2021-12-02T14:36:33.561Z"
   },
   {
    "duration": 18,
    "start_time": "2021-12-02T14:36:33.730Z"
   },
   {
    "duration": 16,
    "start_time": "2021-12-02T14:36:33.750Z"
   },
   {
    "duration": 56,
    "start_time": "2021-12-02T14:36:33.768Z"
   },
   {
    "duration": 33,
    "start_time": "2021-12-02T14:36:33.826Z"
   },
   {
    "duration": 11,
    "start_time": "2021-12-02T14:36:33.860Z"
   },
   {
    "duration": 51,
    "start_time": "2021-12-02T14:36:33.873Z"
   },
   {
    "duration": 158,
    "start_time": "2021-12-02T14:36:33.926Z"
   },
   {
    "duration": 19,
    "start_time": "2021-12-02T14:36:34.086Z"
   },
   {
    "duration": 15,
    "start_time": "2021-12-02T14:42:40.239Z"
   },
   {
    "duration": 49,
    "start_time": "2021-12-02T14:42:40.256Z"
   },
   {
    "duration": 41,
    "start_time": "2021-12-02T14:42:40.307Z"
   },
   {
    "duration": 11,
    "start_time": "2021-12-02T14:42:40.350Z"
   },
   {
    "duration": 21,
    "start_time": "2021-12-02T14:42:40.362Z"
   },
   {
    "duration": 7,
    "start_time": "2021-12-02T14:42:40.385Z"
   },
   {
    "duration": 7,
    "start_time": "2021-12-02T14:42:40.393Z"
   },
   {
    "duration": 219,
    "start_time": "2021-12-02T14:42:40.403Z"
   },
   {
    "duration": 173,
    "start_time": "2021-12-02T14:42:40.624Z"
   },
   {
    "duration": 23,
    "start_time": "2021-12-02T14:42:40.799Z"
   },
   {
    "duration": 180,
    "start_time": "2021-12-02T14:42:40.824Z"
   },
   {
    "duration": 5,
    "start_time": "2021-12-02T14:42:41.006Z"
   },
   {
    "duration": 7,
    "start_time": "2021-12-02T14:42:41.013Z"
   },
   {
    "duration": 28,
    "start_time": "2021-12-02T14:42:41.022Z"
   },
   {
    "duration": 6,
    "start_time": "2021-12-02T14:42:41.052Z"
   },
   {
    "duration": 11,
    "start_time": "2021-12-02T14:42:41.059Z"
   },
   {
    "duration": 172,
    "start_time": "2021-12-02T14:42:41.071Z"
   },
   {
    "duration": 6,
    "start_time": "2021-12-02T14:42:41.244Z"
   },
   {
    "duration": 31,
    "start_time": "2021-12-02T14:42:41.251Z"
   },
   {
    "duration": 6,
    "start_time": "2021-12-02T14:42:41.283Z"
   },
   {
    "duration": 8,
    "start_time": "2021-12-02T14:42:41.290Z"
   },
   {
    "duration": 28,
    "start_time": "2021-12-02T14:42:41.299Z"
   },
   {
    "duration": 7,
    "start_time": "2021-12-02T14:42:41.346Z"
   },
   {
    "duration": 15,
    "start_time": "2021-12-02T14:42:41.356Z"
   },
   {
    "duration": 16,
    "start_time": "2021-12-02T14:42:41.373Z"
   },
   {
    "duration": 20,
    "start_time": "2021-12-02T14:42:41.391Z"
   },
   {
    "duration": 39,
    "start_time": "2021-12-02T14:42:41.413Z"
   },
   {
    "duration": 8,
    "start_time": "2021-12-02T14:42:41.454Z"
   },
   {
    "duration": 9,
    "start_time": "2021-12-02T14:42:41.464Z"
   },
   {
    "duration": 12,
    "start_time": "2021-12-02T14:42:41.475Z"
   },
   {
    "duration": 16,
    "start_time": "2021-12-02T14:42:41.488Z"
   },
   {
    "duration": 38,
    "start_time": "2021-12-02T14:42:41.505Z"
   },
   {
    "duration": 46,
    "start_time": "2021-12-02T14:42:41.545Z"
   },
   {
    "duration": 8,
    "start_time": "2021-12-02T14:42:41.592Z"
   },
   {
    "duration": 10,
    "start_time": "2021-12-02T14:42:41.602Z"
   },
   {
    "duration": 33,
    "start_time": "2021-12-02T14:42:41.613Z"
   },
   {
    "duration": 15,
    "start_time": "2021-12-02T14:42:41.648Z"
   },
   {
    "duration": 5,
    "start_time": "2021-12-02T14:42:41.664Z"
   },
   {
    "duration": 31,
    "start_time": "2021-12-02T14:42:41.671Z"
   },
   {
    "duration": 12,
    "start_time": "2021-12-02T14:42:41.703Z"
   },
   {
    "duration": 7,
    "start_time": "2021-12-02T14:42:41.716Z"
   },
   {
    "duration": 36,
    "start_time": "2021-12-02T14:42:41.724Z"
   },
   {
    "duration": 19,
    "start_time": "2021-12-02T14:42:41.762Z"
   },
   {
    "duration": 16,
    "start_time": "2021-12-02T14:42:41.783Z"
   },
   {
    "duration": 8,
    "start_time": "2021-12-02T14:42:41.801Z"
   },
   {
    "duration": 3415,
    "start_time": "2021-12-02T14:42:41.811Z"
   },
   {
    "duration": 3,
    "start_time": "2021-12-02T14:42:45.228Z"
   },
   {
    "duration": 18,
    "start_time": "2021-12-02T14:42:45.245Z"
   },
   {
    "duration": 7,
    "start_time": "2021-12-02T14:42:45.264Z"
   },
   {
    "duration": 6,
    "start_time": "2021-12-02T14:42:45.273Z"
   },
   {
    "duration": 20,
    "start_time": "2021-12-02T14:42:45.280Z"
   },
   {
    "duration": 212,
    "start_time": "2021-12-02T14:42:45.302Z"
   },
   {
    "duration": 140,
    "start_time": "2021-12-02T14:42:45.516Z"
   },
   {
    "duration": 170,
    "start_time": "2021-12-02T14:42:45.658Z"
   },
   {
    "duration": 23,
    "start_time": "2021-12-02T14:42:45.829Z"
   },
   {
    "duration": 6,
    "start_time": "2021-12-02T14:42:45.853Z"
   },
   {
    "duration": 30,
    "start_time": "2021-12-02T14:42:45.861Z"
   },
   {
    "duration": 20,
    "start_time": "2021-12-02T14:42:45.892Z"
   },
   {
    "duration": 5,
    "start_time": "2021-12-02T14:42:45.914Z"
   },
   {
    "duration": 24,
    "start_time": "2021-12-02T14:42:45.945Z"
   },
   {
    "duration": 24,
    "start_time": "2021-12-02T14:42:45.970Z"
   },
   {
    "duration": 21,
    "start_time": "2021-12-02T14:42:45.996Z"
   },
   {
    "duration": 418,
    "start_time": "2021-12-04T15:41:55.717Z"
   },
   {
    "duration": 1218,
    "start_time": "2021-12-04T15:42:07.644Z"
   },
   {
    "duration": 51,
    "start_time": "2021-12-04T15:42:08.864Z"
   },
   {
    "duration": 16,
    "start_time": "2021-12-04T15:42:08.917Z"
   },
   {
    "duration": 11,
    "start_time": "2021-12-04T15:42:08.935Z"
   },
   {
    "duration": 16,
    "start_time": "2021-12-04T15:42:08.948Z"
   },
   {
    "duration": 45,
    "start_time": "2021-12-04T15:42:08.966Z"
   },
   {
    "duration": 8,
    "start_time": "2021-12-04T15:42:09.012Z"
   },
   {
    "duration": 11,
    "start_time": "2021-12-04T15:42:09.022Z"
   },
   {
    "duration": 220,
    "start_time": "2021-12-04T15:42:09.036Z"
   },
   {
    "duration": 184,
    "start_time": "2021-12-04T15:42:09.259Z"
   },
   {
    "duration": 24,
    "start_time": "2021-12-04T15:42:09.445Z"
   },
   {
    "duration": 206,
    "start_time": "2021-12-04T15:42:09.471Z"
   },
   {
    "duration": 6,
    "start_time": "2021-12-04T15:42:09.679Z"
   },
   {
    "duration": 23,
    "start_time": "2021-12-04T15:42:09.687Z"
   },
   {
    "duration": 16,
    "start_time": "2021-12-04T15:42:09.712Z"
   },
   {
    "duration": 7,
    "start_time": "2021-12-04T15:42:09.729Z"
   },
   {
    "duration": 10,
    "start_time": "2021-12-04T15:42:09.737Z"
   },
   {
    "duration": 193,
    "start_time": "2021-12-04T15:42:09.749Z"
   },
   {
    "duration": 6,
    "start_time": "2021-12-04T15:42:09.944Z"
   },
   {
    "duration": 23,
    "start_time": "2021-12-04T15:42:09.952Z"
   },
   {
    "duration": 6,
    "start_time": "2021-12-04T15:42:09.977Z"
   },
   {
    "duration": 26,
    "start_time": "2021-12-04T15:42:09.984Z"
   },
   {
    "duration": 26,
    "start_time": "2021-12-04T15:42:10.012Z"
   },
   {
    "duration": 8,
    "start_time": "2021-12-04T15:42:10.039Z"
   },
   {
    "duration": 16,
    "start_time": "2021-12-04T15:42:10.049Z"
   },
   {
    "duration": 51,
    "start_time": "2021-12-04T15:42:10.067Z"
   },
   {
    "duration": 22,
    "start_time": "2021-12-04T15:42:10.122Z"
   },
   {
    "duration": 23,
    "start_time": "2021-12-04T15:42:10.147Z"
   },
   {
    "duration": 39,
    "start_time": "2021-12-04T15:42:10.172Z"
   },
   {
    "duration": 13,
    "start_time": "2021-12-04T15:42:10.213Z"
   },
   {
    "duration": 14,
    "start_time": "2021-12-04T15:42:10.228Z"
   },
   {
    "duration": 18,
    "start_time": "2021-12-04T15:42:10.244Z"
   },
   {
    "duration": 43,
    "start_time": "2021-12-04T15:42:10.264Z"
   },
   {
    "duration": 50,
    "start_time": "2021-12-04T15:42:10.309Z"
   },
   {
    "duration": 11,
    "start_time": "2021-12-04T15:42:10.361Z"
   },
   {
    "duration": 36,
    "start_time": "2021-12-04T15:42:10.374Z"
   },
   {
    "duration": 10,
    "start_time": "2021-12-04T15:42:10.412Z"
   },
   {
    "duration": 15,
    "start_time": "2021-12-04T15:42:10.424Z"
   },
   {
    "duration": 8,
    "start_time": "2021-12-04T15:42:10.440Z"
   },
   {
    "duration": 59,
    "start_time": "2021-12-04T15:42:10.449Z"
   },
   {
    "duration": 14,
    "start_time": "2021-12-04T15:42:10.510Z"
   },
   {
    "duration": 24,
    "start_time": "2021-12-04T15:42:10.526Z"
   },
   {
    "duration": 20,
    "start_time": "2021-12-04T15:42:10.552Z"
   },
   {
    "duration": 43,
    "start_time": "2021-12-04T15:42:10.574Z"
   },
   {
    "duration": 9,
    "start_time": "2021-12-04T15:42:10.619Z"
   },
   {
    "duration": 4010,
    "start_time": "2021-12-04T15:42:10.629Z"
   },
   {
    "duration": 3,
    "start_time": "2021-12-04T15:42:14.640Z"
   },
   {
    "duration": 19,
    "start_time": "2021-12-04T15:42:14.644Z"
   },
   {
    "duration": 6,
    "start_time": "2021-12-04T15:42:14.665Z"
   },
   {
    "duration": 4,
    "start_time": "2021-12-04T15:42:14.672Z"
   },
   {
    "duration": 41,
    "start_time": "2021-12-04T15:42:14.678Z"
   },
   {
    "duration": 185,
    "start_time": "2021-12-04T15:42:14.721Z"
   },
   {
    "duration": 142,
    "start_time": "2021-12-04T15:42:14.908Z"
   },
   {
    "duration": 187,
    "start_time": "2021-12-04T15:42:15.052Z"
   },
   {
    "duration": 14,
    "start_time": "2021-12-04T15:42:15.241Z"
   },
   {
    "duration": 6,
    "start_time": "2021-12-04T15:42:15.257Z"
   },
   {
    "duration": 53,
    "start_time": "2021-12-04T15:42:15.265Z"
   },
   {
    "duration": 22,
    "start_time": "2021-12-04T15:42:15.320Z"
   },
   {
    "duration": 6,
    "start_time": "2021-12-04T15:42:15.343Z"
   },
   {
    "duration": 29,
    "start_time": "2021-12-04T15:42:15.351Z"
   },
   {
    "duration": 45,
    "start_time": "2021-12-04T15:42:15.382Z"
   },
   {
    "duration": 23,
    "start_time": "2021-12-04T15:42:15.429Z"
   },
   {
    "duration": 123,
    "start_time": "2021-12-04T15:44:14.204Z"
   },
   {
    "duration": 147,
    "start_time": "2021-12-04T15:44:36.748Z"
   },
   {
    "duration": 140,
    "start_time": "2021-12-04T15:45:12.436Z"
   },
   {
    "duration": 108,
    "start_time": "2021-12-04T15:45:18.393Z"
   },
   {
    "duration": 113,
    "start_time": "2021-12-04T15:46:15.994Z"
   },
   {
    "duration": 112,
    "start_time": "2021-12-04T15:46:56.720Z"
   },
   {
    "duration": 173,
    "start_time": "2021-12-04T15:55:32.785Z"
   },
   {
    "duration": 117,
    "start_time": "2021-12-04T15:55:59.898Z"
   },
   {
    "duration": 26,
    "start_time": "2021-12-04T15:56:40.802Z"
   },
   {
    "duration": 19,
    "start_time": "2021-12-04T15:57:01.904Z"
   },
   {
    "duration": 18,
    "start_time": "2021-12-04T15:57:05.537Z"
   },
   {
    "duration": 52,
    "start_time": "2021-12-04T15:57:05.558Z"
   },
   {
    "duration": 12,
    "start_time": "2021-12-04T15:57:05.612Z"
   },
   {
    "duration": 15,
    "start_time": "2021-12-04T15:57:05.626Z"
   },
   {
    "duration": 16,
    "start_time": "2021-12-04T15:57:05.643Z"
   },
   {
    "duration": 47,
    "start_time": "2021-12-04T15:57:05.661Z"
   },
   {
    "duration": 7,
    "start_time": "2021-12-04T15:57:05.710Z"
   },
   {
    "duration": 9,
    "start_time": "2021-12-04T15:57:05.720Z"
   },
   {
    "duration": 223,
    "start_time": "2021-12-04T15:57:05.731Z"
   },
   {
    "duration": 257,
    "start_time": "2021-12-04T15:57:05.955Z"
   },
   {
    "duration": 28,
    "start_time": "2021-12-04T15:57:06.214Z"
   },
   {
    "duration": 220,
    "start_time": "2021-12-04T15:57:06.244Z"
   },
   {
    "duration": 6,
    "start_time": "2021-12-04T15:57:06.466Z"
   },
   {
    "duration": 6,
    "start_time": "2021-12-04T15:57:06.474Z"
   },
   {
    "duration": 32,
    "start_time": "2021-12-04T15:57:06.482Z"
   },
   {
    "duration": 7,
    "start_time": "2021-12-04T15:57:06.517Z"
   },
   {
    "duration": 9,
    "start_time": "2021-12-04T15:57:06.526Z"
   },
   {
    "duration": 192,
    "start_time": "2021-12-04T15:57:06.536Z"
   },
   {
    "duration": 6,
    "start_time": "2021-12-04T15:57:06.730Z"
   },
   {
    "duration": 23,
    "start_time": "2021-12-04T15:57:06.738Z"
   },
   {
    "duration": 6,
    "start_time": "2021-12-04T15:57:06.763Z"
   },
   {
    "duration": 38,
    "start_time": "2021-12-04T15:57:06.771Z"
   },
   {
    "duration": 25,
    "start_time": "2021-12-04T15:57:06.815Z"
   },
   {
    "duration": 8,
    "start_time": "2021-12-04T15:57:06.843Z"
   },
   {
    "duration": 10,
    "start_time": "2021-12-04T15:57:06.854Z"
   },
   {
    "duration": 46,
    "start_time": "2021-12-04T15:57:06.865Z"
   },
   {
    "duration": 26,
    "start_time": "2021-12-04T15:57:06.913Z"
   },
   {
    "duration": 22,
    "start_time": "2021-12-04T15:57:06.940Z"
   },
   {
    "duration": 11,
    "start_time": "2021-12-04T15:57:06.963Z"
   },
   {
    "duration": 36,
    "start_time": "2021-12-04T15:57:06.976Z"
   },
   {
    "duration": 13,
    "start_time": "2021-12-04T15:57:07.014Z"
   },
   {
    "duration": 18,
    "start_time": "2021-12-04T15:57:07.029Z"
   },
   {
    "duration": 8,
    "start_time": "2021-12-04T15:57:07.049Z"
   },
   {
    "duration": 82,
    "start_time": "2021-12-04T15:57:07.059Z"
   },
   {
    "duration": 10,
    "start_time": "2021-12-04T15:57:07.143Z"
   },
   {
    "duration": 13,
    "start_time": "2021-12-04T15:57:07.155Z"
   },
   {
    "duration": 14,
    "start_time": "2021-12-04T15:57:07.170Z"
   },
   {
    "duration": 33,
    "start_time": "2021-12-04T15:57:07.186Z"
   },
   {
    "duration": 8,
    "start_time": "2021-12-04T15:57:07.221Z"
   },
   {
    "duration": 22,
    "start_time": "2021-12-04T15:57:07.231Z"
   },
   {
    "duration": 13,
    "start_time": "2021-12-04T15:57:07.256Z"
   },
   {
    "duration": 25,
    "start_time": "2021-12-04T15:57:07.307Z"
   },
   {
    "duration": 20,
    "start_time": "2021-12-04T15:57:07.334Z"
   },
   {
    "duration": 17,
    "start_time": "2021-12-04T15:57:07.356Z"
   },
   {
    "duration": 39,
    "start_time": "2021-12-04T15:57:07.374Z"
   },
   {
    "duration": 4074,
    "start_time": "2021-12-04T15:57:07.415Z"
   },
   {
    "duration": 15,
    "start_time": "2021-12-04T15:57:11.491Z"
   },
   {
    "duration": 18,
    "start_time": "2021-12-04T15:57:11.508Z"
   },
   {
    "duration": 5,
    "start_time": "2021-12-04T15:57:11.528Z"
   },
   {
    "duration": 5,
    "start_time": "2021-12-04T15:57:11.535Z"
   },
   {
    "duration": 17,
    "start_time": "2021-12-04T15:57:11.542Z"
   },
   {
    "duration": 392,
    "start_time": "2021-12-04T15:57:11.561Z"
   },
   {
    "duration": 196,
    "start_time": "2021-12-04T15:57:11.955Z"
   },
   {
    "duration": 185,
    "start_time": "2021-12-04T15:57:12.154Z"
   },
   {
    "duration": 13,
    "start_time": "2021-12-04T15:57:12.341Z"
   },
   {
    "duration": 6,
    "start_time": "2021-12-04T15:57:12.355Z"
   },
   {
    "duration": 54,
    "start_time": "2021-12-04T15:57:12.363Z"
   },
   {
    "duration": 22,
    "start_time": "2021-12-04T15:57:12.419Z"
   },
   {
    "duration": 5,
    "start_time": "2021-12-04T15:57:12.443Z"
   },
   {
    "duration": 26,
    "start_time": "2021-12-04T15:57:12.450Z"
   },
   {
    "duration": 53,
    "start_time": "2021-12-04T15:57:12.477Z"
   },
   {
    "duration": 36,
    "start_time": "2021-12-04T15:57:12.532Z"
   },
   {
    "duration": 1258,
    "start_time": "2021-12-05T09:11:37.540Z"
   },
   {
    "duration": 53,
    "start_time": "2021-12-05T09:11:38.800Z"
   },
   {
    "duration": 15,
    "start_time": "2021-12-05T09:11:38.855Z"
   },
   {
    "duration": 19,
    "start_time": "2021-12-05T09:11:38.872Z"
   },
   {
    "duration": 30,
    "start_time": "2021-12-05T09:11:38.893Z"
   },
   {
    "duration": 25,
    "start_time": "2021-12-05T09:11:38.925Z"
   },
   {
    "duration": 22,
    "start_time": "2021-12-05T09:11:38.952Z"
   },
   {
    "duration": 35,
    "start_time": "2021-12-05T09:11:38.976Z"
   },
   {
    "duration": 212,
    "start_time": "2021-12-05T09:11:39.013Z"
   },
   {
    "duration": 186,
    "start_time": "2021-12-05T09:11:39.227Z"
   },
   {
    "duration": 34,
    "start_time": "2021-12-05T09:11:39.416Z"
   },
   {
    "duration": 236,
    "start_time": "2021-12-05T09:11:39.453Z"
   },
   {
    "duration": 6,
    "start_time": "2021-12-05T09:11:39.690Z"
   },
   {
    "duration": 13,
    "start_time": "2021-12-05T09:11:39.698Z"
   },
   {
    "duration": 27,
    "start_time": "2021-12-05T09:11:39.712Z"
   },
   {
    "duration": 8,
    "start_time": "2021-12-05T09:11:39.740Z"
   },
   {
    "duration": 23,
    "start_time": "2021-12-05T09:11:39.750Z"
   },
   {
    "duration": 177,
    "start_time": "2021-12-05T09:11:39.775Z"
   },
   {
    "duration": 7,
    "start_time": "2021-12-05T09:11:39.953Z"
   },
   {
    "duration": 34,
    "start_time": "2021-12-05T09:11:39.962Z"
   },
   {
    "duration": 7,
    "start_time": "2021-12-05T09:11:39.998Z"
   },
   {
    "duration": 16,
    "start_time": "2021-12-05T09:11:40.006Z"
   },
   {
    "duration": 39,
    "start_time": "2021-12-05T09:11:40.026Z"
   },
   {
    "duration": 7,
    "start_time": "2021-12-05T09:11:40.068Z"
   },
   {
    "duration": 35,
    "start_time": "2021-12-05T09:11:40.077Z"
   },
   {
    "duration": 13,
    "start_time": "2021-12-05T09:11:40.114Z"
   },
   {
    "duration": 27,
    "start_time": "2021-12-05T09:11:40.129Z"
   },
   {
    "duration": 21,
    "start_time": "2021-12-05T09:11:40.158Z"
   },
   {
    "duration": 32,
    "start_time": "2021-12-05T09:11:40.180Z"
   },
   {
    "duration": 26,
    "start_time": "2021-12-05T09:11:40.214Z"
   },
   {
    "duration": 57,
    "start_time": "2021-12-05T09:11:40.242Z"
   },
   {
    "duration": 17,
    "start_time": "2021-12-05T09:11:40.301Z"
   },
   {
    "duration": 8,
    "start_time": "2021-12-05T09:11:40.320Z"
   },
   {
    "duration": 72,
    "start_time": "2021-12-05T09:11:40.330Z"
   },
   {
    "duration": 8,
    "start_time": "2021-12-05T09:11:40.404Z"
   },
   {
    "duration": 27,
    "start_time": "2021-12-05T09:11:40.414Z"
   },
   {
    "duration": 18,
    "start_time": "2021-12-05T09:11:40.443Z"
   },
   {
    "duration": 34,
    "start_time": "2021-12-05T09:11:40.463Z"
   },
   {
    "duration": 43,
    "start_time": "2021-12-05T09:11:40.499Z"
   },
   {
    "duration": 42,
    "start_time": "2021-12-05T09:11:40.544Z"
   },
   {
    "duration": 33,
    "start_time": "2021-12-05T09:11:40.587Z"
   },
   {
    "duration": 41,
    "start_time": "2021-12-05T09:11:40.622Z"
   },
   {
    "duration": 26,
    "start_time": "2021-12-05T09:11:40.665Z"
   },
   {
    "duration": 23,
    "start_time": "2021-12-05T09:11:40.693Z"
   },
   {
    "duration": 9,
    "start_time": "2021-12-05T09:11:40.718Z"
   },
   {
    "duration": 3736,
    "start_time": "2021-12-05T09:11:40.728Z"
   },
   {
    "duration": 5,
    "start_time": "2021-12-05T09:11:44.466Z"
   },
   {
    "duration": 27,
    "start_time": "2021-12-05T09:11:44.473Z"
   },
   {
    "duration": 21,
    "start_time": "2021-12-05T09:11:44.502Z"
   },
   {
    "duration": 11,
    "start_time": "2021-12-05T09:11:44.525Z"
   },
   {
    "duration": 33,
    "start_time": "2021-12-05T09:11:44.538Z"
   },
   {
    "duration": 209,
    "start_time": "2021-12-05T09:11:44.573Z"
   },
   {
    "duration": 143,
    "start_time": "2021-12-05T09:11:44.784Z"
   },
   {
    "duration": 188,
    "start_time": "2021-12-05T09:11:44.929Z"
   },
   {
    "duration": 14,
    "start_time": "2021-12-05T09:11:45.119Z"
   },
   {
    "duration": 15,
    "start_time": "2021-12-05T09:11:45.135Z"
   },
   {
    "duration": 31,
    "start_time": "2021-12-05T09:11:45.152Z"
   },
   {
    "duration": 25,
    "start_time": "2021-12-05T09:11:45.185Z"
   },
   {
    "duration": 36,
    "start_time": "2021-12-05T09:11:45.212Z"
   },
   {
    "duration": 37,
    "start_time": "2021-12-05T09:11:45.250Z"
   },
   {
    "duration": 23,
    "start_time": "2021-12-05T09:11:45.289Z"
   },
   {
    "duration": 40,
    "start_time": "2021-12-05T09:11:45.314Z"
   },
   {
    "duration": 124,
    "start_time": "2021-12-05T09:32:28.201Z"
   },
   {
    "duration": 19,
    "start_time": "2021-12-05T10:36:15.231Z"
   },
   {
    "duration": 28,
    "start_time": "2021-12-05T11:42:46.656Z"
   },
   {
    "duration": 17,
    "start_time": "2021-12-05T11:44:08.038Z"
   },
   {
    "duration": 23,
    "start_time": "2021-12-05T11:44:12.020Z"
   },
   {
    "duration": 28,
    "start_time": "2021-12-05T11:46:15.100Z"
   },
   {
    "duration": 66,
    "start_time": "2021-12-05T11:46:15.130Z"
   },
   {
    "duration": 12,
    "start_time": "2021-12-05T11:46:15.198Z"
   },
   {
    "duration": 22,
    "start_time": "2021-12-05T11:46:15.212Z"
   },
   {
    "duration": 38,
    "start_time": "2021-12-05T11:46:15.236Z"
   },
   {
    "duration": 42,
    "start_time": "2021-12-05T11:46:15.277Z"
   },
   {
    "duration": 11,
    "start_time": "2021-12-05T11:46:15.321Z"
   },
   {
    "duration": 54,
    "start_time": "2021-12-05T11:46:15.335Z"
   },
   {
    "duration": 205,
    "start_time": "2021-12-05T11:46:15.392Z"
   },
   {
    "duration": 193,
    "start_time": "2021-12-05T11:46:15.599Z"
   },
   {
    "duration": 26,
    "start_time": "2021-12-05T11:46:15.794Z"
   },
   {
    "duration": 197,
    "start_time": "2021-12-05T11:46:15.822Z"
   },
   {
    "duration": 6,
    "start_time": "2021-12-05T11:46:16.021Z"
   },
   {
    "duration": 39,
    "start_time": "2021-12-05T11:46:16.029Z"
   },
   {
    "duration": 25,
    "start_time": "2021-12-05T11:46:16.070Z"
   },
   {
    "duration": 14,
    "start_time": "2021-12-05T11:46:16.096Z"
   },
   {
    "duration": 11,
    "start_time": "2021-12-05T11:46:16.111Z"
   },
   {
    "duration": 180,
    "start_time": "2021-12-05T11:46:16.124Z"
   },
   {
    "duration": 7,
    "start_time": "2021-12-05T11:46:16.306Z"
   },
   {
    "duration": 39,
    "start_time": "2021-12-05T11:46:16.314Z"
   },
   {
    "duration": 6,
    "start_time": "2021-12-05T11:46:16.355Z"
   },
   {
    "duration": 33,
    "start_time": "2021-12-05T11:46:16.363Z"
   },
   {
    "duration": 48,
    "start_time": "2021-12-05T11:46:16.400Z"
   },
   {
    "duration": 37,
    "start_time": "2021-12-05T11:46:16.451Z"
   },
   {
    "duration": 50,
    "start_time": "2021-12-05T11:46:16.489Z"
   },
   {
    "duration": 23,
    "start_time": "2021-12-05T11:46:16.540Z"
   },
   {
    "duration": 47,
    "start_time": "2021-12-05T11:46:16.565Z"
   },
   {
    "duration": 33,
    "start_time": "2021-12-05T11:46:16.614Z"
   },
   {
    "duration": 22,
    "start_time": "2021-12-05T11:46:16.648Z"
   },
   {
    "duration": 38,
    "start_time": "2021-12-05T11:46:16.671Z"
   },
   {
    "duration": 23,
    "start_time": "2021-12-05T11:46:16.711Z"
   },
   {
    "duration": 23,
    "start_time": "2021-12-05T11:46:16.736Z"
   },
   {
    "duration": 7,
    "start_time": "2021-12-05T11:46:16.762Z"
   },
   {
    "duration": 71,
    "start_time": "2021-12-05T11:46:16.771Z"
   },
   {
    "duration": 14,
    "start_time": "2021-12-05T11:46:16.844Z"
   },
   {
    "duration": 43,
    "start_time": "2021-12-05T11:46:16.860Z"
   },
   {
    "duration": 59,
    "start_time": "2021-12-05T11:46:16.905Z"
   },
   {
    "duration": 46,
    "start_time": "2021-12-05T11:46:16.966Z"
   },
   {
    "duration": 30,
    "start_time": "2021-12-05T11:46:17.014Z"
   },
   {
    "duration": 41,
    "start_time": "2021-12-05T11:46:17.046Z"
   },
   {
    "duration": 45,
    "start_time": "2021-12-05T11:46:17.089Z"
   },
   {
    "duration": 48,
    "start_time": "2021-12-05T11:46:17.135Z"
   },
   {
    "duration": 29,
    "start_time": "2021-12-05T11:46:17.184Z"
   },
   {
    "duration": 19,
    "start_time": "2021-12-05T11:46:17.215Z"
   },
   {
    "duration": 19,
    "start_time": "2021-12-05T11:46:17.236Z"
   },
   {
    "duration": 4049,
    "start_time": "2021-12-05T11:46:17.257Z"
   },
   {
    "duration": 4,
    "start_time": "2021-12-05T11:46:21.309Z"
   },
   {
    "duration": 33,
    "start_time": "2021-12-05T11:46:21.315Z"
   },
   {
    "duration": 40,
    "start_time": "2021-12-05T11:46:21.350Z"
   },
   {
    "duration": 17,
    "start_time": "2021-12-05T11:46:21.392Z"
   },
   {
    "duration": 30,
    "start_time": "2021-12-05T11:46:21.411Z"
   },
   {
    "duration": 314,
    "start_time": "2021-12-05T11:46:21.443Z"
   },
   {
    "duration": 178,
    "start_time": "2021-12-05T11:46:21.760Z"
   },
   {
    "duration": 224,
    "start_time": "2021-12-05T11:46:21.940Z"
   },
   {
    "duration": 17,
    "start_time": "2021-12-05T11:46:22.166Z"
   },
   {
    "duration": 33,
    "start_time": "2021-12-05T11:46:22.185Z"
   },
   {
    "duration": 56,
    "start_time": "2021-12-05T11:46:22.220Z"
   },
   {
    "duration": 19,
    "start_time": "2021-12-05T11:46:22.278Z"
   },
   {
    "duration": 36,
    "start_time": "2021-12-05T11:46:22.298Z"
   },
   {
    "duration": 42,
    "start_time": "2021-12-05T11:46:22.337Z"
   },
   {
    "duration": 25,
    "start_time": "2021-12-05T11:46:22.382Z"
   },
   {
    "duration": 44,
    "start_time": "2021-12-05T11:46:22.409Z"
   },
   {
    "duration": 91,
    "start_time": "2021-12-05T11:54:39.687Z"
   },
   {
    "duration": 27,
    "start_time": "2021-12-05T12:53:44.531Z"
   },
   {
    "duration": 52,
    "start_time": "2021-12-05T12:53:44.561Z"
   },
   {
    "duration": 13,
    "start_time": "2021-12-05T12:53:44.615Z"
   },
   {
    "duration": 38,
    "start_time": "2021-12-05T12:53:44.630Z"
   },
   {
    "duration": 31,
    "start_time": "2021-12-05T12:53:44.670Z"
   },
   {
    "duration": 20,
    "start_time": "2021-12-05T12:53:44.703Z"
   },
   {
    "duration": 13,
    "start_time": "2021-12-05T12:53:44.725Z"
   },
   {
    "duration": 27,
    "start_time": "2021-12-05T12:53:44.741Z"
   },
   {
    "duration": 216,
    "start_time": "2021-12-05T12:53:44.770Z"
   },
   {
    "duration": 178,
    "start_time": "2021-12-05T12:53:44.988Z"
   },
   {
    "duration": 22,
    "start_time": "2021-12-05T12:53:45.167Z"
   },
   {
    "duration": 191,
    "start_time": "2021-12-05T12:53:45.191Z"
   },
   {
    "duration": 6,
    "start_time": "2021-12-05T12:53:45.384Z"
   },
   {
    "duration": 25,
    "start_time": "2021-12-05T12:53:45.391Z"
   },
   {
    "duration": 24,
    "start_time": "2021-12-05T12:53:45.418Z"
   },
   {
    "duration": 6,
    "start_time": "2021-12-05T12:53:45.444Z"
   },
   {
    "duration": 25,
    "start_time": "2021-12-05T12:53:45.452Z"
   },
   {
    "duration": 160,
    "start_time": "2021-12-05T12:53:45.479Z"
   },
   {
    "duration": 8,
    "start_time": "2021-12-05T12:53:45.648Z"
   },
   {
    "duration": 42,
    "start_time": "2021-12-05T12:53:45.657Z"
   },
   {
    "duration": 14,
    "start_time": "2021-12-05T12:53:45.701Z"
   },
   {
    "duration": 34,
    "start_time": "2021-12-05T12:53:45.717Z"
   },
   {
    "duration": 49,
    "start_time": "2021-12-05T12:53:45.756Z"
   },
   {
    "duration": 9,
    "start_time": "2021-12-05T12:53:45.808Z"
   },
   {
    "duration": 48,
    "start_time": "2021-12-05T12:53:45.819Z"
   },
   {
    "duration": 46,
    "start_time": "2021-12-05T12:53:45.869Z"
   },
   {
    "duration": 42,
    "start_time": "2021-12-05T12:53:45.917Z"
   },
   {
    "duration": 34,
    "start_time": "2021-12-05T12:53:45.961Z"
   },
   {
    "duration": 20,
    "start_time": "2021-12-05T12:53:45.997Z"
   },
   {
    "duration": 30,
    "start_time": "2021-12-05T12:53:46.019Z"
   },
   {
    "duration": 74,
    "start_time": "2021-12-05T12:53:46.051Z"
   },
   {
    "duration": 25,
    "start_time": "2021-12-05T12:53:46.127Z"
   },
   {
    "duration": 25,
    "start_time": "2021-12-05T12:53:46.153Z"
   },
   {
    "duration": 69,
    "start_time": "2021-12-05T12:53:46.180Z"
   },
   {
    "duration": 47,
    "start_time": "2021-12-05T12:53:46.250Z"
   },
   {
    "duration": 34,
    "start_time": "2021-12-05T12:53:46.298Z"
   },
   {
    "duration": 45,
    "start_time": "2021-12-05T12:53:46.334Z"
   },
   {
    "duration": 51,
    "start_time": "2021-12-05T12:53:46.381Z"
   },
   {
    "duration": 16,
    "start_time": "2021-12-05T12:53:46.434Z"
   },
   {
    "duration": 49,
    "start_time": "2021-12-05T12:53:46.452Z"
   },
   {
    "duration": 39,
    "start_time": "2021-12-05T12:53:46.502Z"
   },
   {
    "duration": 50,
    "start_time": "2021-12-05T12:53:46.543Z"
   },
   {
    "duration": 30,
    "start_time": "2021-12-05T12:53:46.594Z"
   },
   {
    "duration": 25,
    "start_time": "2021-12-05T12:53:46.625Z"
   },
   {
    "duration": 29,
    "start_time": "2021-12-05T12:53:46.652Z"
   },
   {
    "duration": 3480,
    "start_time": "2021-12-05T12:53:46.682Z"
   },
   {
    "duration": 3,
    "start_time": "2021-12-05T12:53:50.164Z"
   },
   {
    "duration": 36,
    "start_time": "2021-12-05T12:53:50.169Z"
   },
   {
    "duration": 4,
    "start_time": "2021-12-05T12:53:50.207Z"
   },
   {
    "duration": 14,
    "start_time": "2021-12-05T12:53:50.212Z"
   },
   {
    "duration": 20,
    "start_time": "2021-12-05T12:53:50.227Z"
   },
   {
    "duration": 174,
    "start_time": "2021-12-05T12:53:50.249Z"
   },
   {
    "duration": 219,
    "start_time": "2021-12-05T12:53:50.425Z"
   },
   {
    "duration": 174,
    "start_time": "2021-12-05T12:53:50.646Z"
   },
   {
    "duration": 13,
    "start_time": "2021-12-05T12:53:50.821Z"
   },
   {
    "duration": 11,
    "start_time": "2021-12-05T12:53:50.836Z"
   },
   {
    "duration": 60,
    "start_time": "2021-12-05T12:53:50.849Z"
   },
   {
    "duration": 27,
    "start_time": "2021-12-05T12:53:50.910Z"
   },
   {
    "duration": 59,
    "start_time": "2021-12-05T12:53:50.938Z"
   },
   {
    "duration": 22,
    "start_time": "2021-12-05T12:53:50.999Z"
   },
   {
    "duration": 20,
    "start_time": "2021-12-05T12:53:51.023Z"
   },
   {
    "duration": 18,
    "start_time": "2021-12-05T12:53:51.044Z"
   },
   {
    "duration": 27,
    "start_time": "2021-12-05T12:54:05.548Z"
   },
   {
    "duration": 57,
    "start_time": "2021-12-05T12:54:05.577Z"
   },
   {
    "duration": 18,
    "start_time": "2021-12-05T12:54:05.637Z"
   },
   {
    "duration": 32,
    "start_time": "2021-12-05T12:54:05.657Z"
   },
   {
    "duration": 56,
    "start_time": "2021-12-05T12:54:05.691Z"
   },
   {
    "duration": 35,
    "start_time": "2021-12-05T12:54:05.750Z"
   },
   {
    "duration": 7,
    "start_time": "2021-12-05T12:54:05.787Z"
   },
   {
    "duration": 32,
    "start_time": "2021-12-05T12:54:05.796Z"
   },
   {
    "duration": 268,
    "start_time": "2021-12-05T12:54:05.830Z"
   },
   {
    "duration": 220,
    "start_time": "2021-12-05T12:54:06.100Z"
   },
   {
    "duration": 40,
    "start_time": "2021-12-05T12:54:06.322Z"
   },
   {
    "duration": 244,
    "start_time": "2021-12-05T12:54:06.364Z"
   },
   {
    "duration": 7,
    "start_time": "2021-12-05T12:54:06.610Z"
   },
   {
    "duration": 43,
    "start_time": "2021-12-05T12:54:06.618Z"
   },
   {
    "duration": 32,
    "start_time": "2021-12-05T12:54:06.663Z"
   },
   {
    "duration": 35,
    "start_time": "2021-12-05T12:54:06.697Z"
   },
   {
    "duration": 44,
    "start_time": "2021-12-05T12:54:06.734Z"
   },
   {
    "duration": 221,
    "start_time": "2021-12-05T12:54:06.780Z"
   },
   {
    "duration": 7,
    "start_time": "2021-12-05T12:54:07.002Z"
   },
   {
    "duration": 45,
    "start_time": "2021-12-05T12:54:07.011Z"
   },
   {
    "duration": 9,
    "start_time": "2021-12-05T12:54:07.058Z"
   },
   {
    "duration": 22,
    "start_time": "2021-12-05T12:54:07.069Z"
   },
   {
    "duration": 24,
    "start_time": "2021-12-05T12:54:07.095Z"
   },
   {
    "duration": 26,
    "start_time": "2021-12-05T12:54:07.122Z"
   },
   {
    "duration": 13,
    "start_time": "2021-12-05T12:54:07.150Z"
   },
   {
    "duration": 13,
    "start_time": "2021-12-05T12:54:07.165Z"
   },
   {
    "duration": 26,
    "start_time": "2021-12-05T12:54:07.180Z"
   },
   {
    "duration": 56,
    "start_time": "2021-12-05T12:54:07.208Z"
   },
   {
    "duration": 22,
    "start_time": "2021-12-05T12:54:07.265Z"
   },
   {
    "duration": 17,
    "start_time": "2021-12-05T12:54:07.289Z"
   },
   {
    "duration": 30,
    "start_time": "2021-12-05T12:54:07.309Z"
   },
   {
    "duration": 21,
    "start_time": "2021-12-05T12:54:07.341Z"
   },
   {
    "duration": 7,
    "start_time": "2021-12-05T12:54:07.364Z"
   },
   {
    "duration": 51,
    "start_time": "2021-12-05T12:54:07.373Z"
   },
   {
    "duration": 24,
    "start_time": "2021-12-05T12:54:07.426Z"
   },
   {
    "duration": 19,
    "start_time": "2021-12-05T12:54:07.452Z"
   },
   {
    "duration": 9,
    "start_time": "2021-12-05T12:54:07.473Z"
   },
   {
    "duration": 13,
    "start_time": "2021-12-05T12:54:07.484Z"
   },
   {
    "duration": 6,
    "start_time": "2021-12-05T12:54:07.499Z"
   },
   {
    "duration": 64,
    "start_time": "2021-12-05T12:54:07.507Z"
   },
   {
    "duration": 18,
    "start_time": "2021-12-05T12:54:07.574Z"
   },
   {
    "duration": 25,
    "start_time": "2021-12-05T12:54:07.594Z"
   },
   {
    "duration": 45,
    "start_time": "2021-12-05T12:54:07.621Z"
   },
   {
    "duration": 17,
    "start_time": "2021-12-05T12:54:07.668Z"
   },
   {
    "duration": 17,
    "start_time": "2021-12-05T12:54:07.687Z"
   },
   {
    "duration": 3630,
    "start_time": "2021-12-05T12:54:07.706Z"
   },
   {
    "duration": 3,
    "start_time": "2021-12-05T12:54:11.345Z"
   },
   {
    "duration": 19,
    "start_time": "2021-12-05T12:54:11.350Z"
   },
   {
    "duration": 5,
    "start_time": "2021-12-05T12:54:11.370Z"
   },
   {
    "duration": 17,
    "start_time": "2021-12-05T12:54:11.377Z"
   },
   {
    "duration": 29,
    "start_time": "2021-12-05T12:54:11.396Z"
   },
   {
    "duration": 185,
    "start_time": "2021-12-05T12:54:11.427Z"
   },
   {
    "duration": 144,
    "start_time": "2021-12-05T12:54:11.614Z"
   },
   {
    "duration": 178,
    "start_time": "2021-12-05T12:54:11.761Z"
   },
   {
    "duration": 13,
    "start_time": "2021-12-05T12:54:11.945Z"
   },
   {
    "duration": 19,
    "start_time": "2021-12-05T12:54:11.960Z"
   },
   {
    "duration": 55,
    "start_time": "2021-12-05T12:54:11.980Z"
   },
   {
    "duration": 43,
    "start_time": "2021-12-05T12:54:12.037Z"
   },
   {
    "duration": 33,
    "start_time": "2021-12-05T12:54:12.082Z"
   },
   {
    "duration": 55,
    "start_time": "2021-12-05T12:54:12.117Z"
   },
   {
    "duration": 140,
    "start_time": "2021-12-05T12:54:12.174Z"
   },
   {
    "duration": 20,
    "start_time": "2021-12-05T12:54:12.315Z"
   },
   {
    "duration": 24,
    "start_time": "2021-12-05T12:55:35.028Z"
   },
   {
    "duration": 48,
    "start_time": "2021-12-05T12:55:35.054Z"
   },
   {
    "duration": 11,
    "start_time": "2021-12-05T12:55:35.104Z"
   },
   {
    "duration": 27,
    "start_time": "2021-12-05T12:55:35.117Z"
   },
   {
    "duration": 28,
    "start_time": "2021-12-05T12:55:35.146Z"
   },
   {
    "duration": 20,
    "start_time": "2021-12-05T12:55:35.175Z"
   },
   {
    "duration": 7,
    "start_time": "2021-12-05T12:55:35.197Z"
   },
   {
    "duration": 20,
    "start_time": "2021-12-05T12:55:35.206Z"
   },
   {
    "duration": 201,
    "start_time": "2021-12-05T12:55:35.229Z"
   },
   {
    "duration": 175,
    "start_time": "2021-12-05T12:55:35.432Z"
   },
   {
    "duration": 24,
    "start_time": "2021-12-05T12:55:35.609Z"
   },
   {
    "duration": 190,
    "start_time": "2021-12-05T12:55:35.635Z"
   },
   {
    "duration": 5,
    "start_time": "2021-12-05T12:55:35.827Z"
   },
   {
    "duration": 15,
    "start_time": "2021-12-05T12:55:35.844Z"
   },
   {
    "duration": 31,
    "start_time": "2021-12-05T12:55:35.860Z"
   },
   {
    "duration": 6,
    "start_time": "2021-12-05T12:55:35.893Z"
   },
   {
    "duration": 12,
    "start_time": "2021-12-05T12:55:35.901Z"
   },
   {
    "duration": 173,
    "start_time": "2021-12-05T12:55:35.914Z"
   },
   {
    "duration": 6,
    "start_time": "2021-12-05T12:55:36.089Z"
   },
   {
    "duration": 26,
    "start_time": "2021-12-05T12:55:36.096Z"
   },
   {
    "duration": 6,
    "start_time": "2021-12-05T12:55:36.124Z"
   },
   {
    "duration": 7,
    "start_time": "2021-12-05T12:55:36.145Z"
   },
   {
    "duration": 25,
    "start_time": "2021-12-05T12:55:36.158Z"
   },
   {
    "duration": 8,
    "start_time": "2021-12-05T12:55:36.187Z"
   },
   {
    "duration": 47,
    "start_time": "2021-12-05T12:55:36.197Z"
   },
   {
    "duration": 14,
    "start_time": "2021-12-05T12:55:36.246Z"
   },
   {
    "duration": 20,
    "start_time": "2021-12-05T12:55:36.262Z"
   },
   {
    "duration": 18,
    "start_time": "2021-12-05T12:55:36.284Z"
   },
   {
    "duration": 42,
    "start_time": "2021-12-05T12:55:36.305Z"
   },
   {
    "duration": 12,
    "start_time": "2021-12-05T12:55:36.349Z"
   },
   {
    "duration": 27,
    "start_time": "2021-12-05T12:55:36.362Z"
   },
   {
    "duration": 22,
    "start_time": "2021-12-05T12:55:36.391Z"
   },
   {
    "duration": 10,
    "start_time": "2021-12-05T12:55:36.415Z"
   },
   {
    "duration": 73,
    "start_time": "2021-12-05T12:55:36.427Z"
   },
   {
    "duration": 8,
    "start_time": "2021-12-05T12:55:36.502Z"
   },
   {
    "duration": 28,
    "start_time": "2021-12-05T12:55:36.512Z"
   },
   {
    "duration": 14,
    "start_time": "2021-12-05T12:55:36.542Z"
   },
   {
    "duration": 32,
    "start_time": "2021-12-05T12:55:36.558Z"
   },
   {
    "duration": 6,
    "start_time": "2021-12-05T12:55:36.591Z"
   },
   {
    "duration": 37,
    "start_time": "2021-12-05T12:55:36.599Z"
   },
   {
    "duration": 12,
    "start_time": "2021-12-05T12:55:36.638Z"
   },
   {
    "duration": 33,
    "start_time": "2021-12-05T12:55:36.652Z"
   },
   {
    "duration": 20,
    "start_time": "2021-12-05T12:55:36.686Z"
   },
   {
    "duration": 17,
    "start_time": "2021-12-05T12:55:36.708Z"
   },
   {
    "duration": 21,
    "start_time": "2021-12-05T12:55:36.727Z"
   },
   {
    "duration": 3442,
    "start_time": "2021-12-05T12:55:36.750Z"
   },
   {
    "duration": 3,
    "start_time": "2021-12-05T12:55:40.195Z"
   },
   {
    "duration": 31,
    "start_time": "2021-12-05T12:55:40.199Z"
   },
   {
    "duration": 12,
    "start_time": "2021-12-05T12:55:40.232Z"
   },
   {
    "duration": 5,
    "start_time": "2021-12-05T12:55:40.246Z"
   },
   {
    "duration": 24,
    "start_time": "2021-12-05T12:55:40.253Z"
   },
   {
    "duration": 194,
    "start_time": "2021-12-05T12:55:40.279Z"
   },
   {
    "duration": 135,
    "start_time": "2021-12-05T12:55:40.475Z"
   },
   {
    "duration": 180,
    "start_time": "2021-12-05T12:55:40.611Z"
   },
   {
    "duration": 15,
    "start_time": "2021-12-05T12:55:40.794Z"
   },
   {
    "duration": 8,
    "start_time": "2021-12-05T12:55:40.811Z"
   },
   {
    "duration": 47,
    "start_time": "2021-12-05T12:55:40.821Z"
   },
   {
    "duration": 17,
    "start_time": "2021-12-05T12:55:40.869Z"
   },
   {
    "duration": 25,
    "start_time": "2021-12-05T12:55:40.887Z"
   },
   {
    "duration": 40,
    "start_time": "2021-12-05T12:55:40.913Z"
   },
   {
    "duration": 21,
    "start_time": "2021-12-05T12:55:40.955Z"
   },
   {
    "duration": 19,
    "start_time": "2021-12-05T12:55:40.978Z"
   }
  ],
  "kernelspec": {
   "display_name": "Python 3",
   "language": "python",
   "name": "python3"
  },
  "language_info": {
   "codemirror_mode": {
    "name": "ipython",
    "version": 3
   },
   "file_extension": ".py",
   "mimetype": "text/x-python",
   "name": "python",
   "nbconvert_exporter": "python",
   "pygments_lexer": "ipython3",
   "version": "3.7.8"
  },
  "toc": {
   "base_numbering": 1,
   "nav_menu": {},
   "number_sections": true,
   "sideBar": true,
   "skip_h1_title": true,
   "title_cell": "Table of Contents",
   "title_sidebar": "Contents",
   "toc_cell": false,
   "toc_position": {},
   "toc_section_display": true,
   "toc_window_display": false
  }
 },
 "nbformat": 4,
 "nbformat_minor": 2
}
