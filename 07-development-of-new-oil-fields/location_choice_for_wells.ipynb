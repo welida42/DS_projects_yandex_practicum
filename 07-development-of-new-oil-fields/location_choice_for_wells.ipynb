{
 "cells": [
  {
   "cell_type": "markdown",
   "metadata": {},
   "source": [
    "# Выбор локации для скважины"
   ]
  },
  {
   "cell_type": "markdown",
   "metadata": {},
   "source": [
    "Допустим, вы работаете в добывающей компании «ГлавРосГосНефть». Нужно решить, где бурить новую скважину.\n",
    "\n",
    "Вам предоставлены пробы нефти в трёх регионах: в каждом 10 000 месторождений, где измерили качество нефти и объём её запасов. Постройте модель машинного обучения, которая поможет определить регион, где добыча принесёт наибольшую прибыль. Проанализируйте возможную прибыль и риски техникой *Bootstrap.*\n",
    "\n",
    "Шаги для выбора локации:\n",
    "\n",
    "- В избранном регионе ищут месторождения, для каждого определяют значения признаков;\n",
    "- Строят модель и оценивают объём запасов;\n",
    "- Выбирают месторождения с самым высокими оценками значений. Количество месторождений зависит от бюджета компании и стоимости разработки одной скважины;\n",
    "- Прибыль равна суммарной прибыли отобранных месторождений."
   ]
  },
  {
   "cell_type": "markdown",
   "metadata": {},
   "source": [
    "## Загрузка и подготовка данных"
   ]
  },
  {
   "cell_type": "code",
   "execution_count": 1,
   "metadata": {},
   "outputs": [],
   "source": [
    "import pandas as pd\n",
    "import numpy as np\n",
    "import matplotlib.pyplot as plt\n",
    "import seaborn as sns\n",
    "\n",
    "from sklearn.utils import shuffle\n",
    "from sklearn.model_selection import train_test_split\n",
    "from sklearn.metrics import mean_squared_error\n",
    "from sklearn.linear_model import LinearRegression\n",
    "from scipy import stats\n",
    "from numpy.random import RandomState"
   ]
  },
  {
   "cell_type": "code",
   "execution_count": 2,
   "metadata": {},
   "outputs": [
    {
     "data": {
      "text/html": [
       "<div>\n",
       "<style scoped>\n",
       "    .dataframe tbody tr th:only-of-type {\n",
       "        vertical-align: middle;\n",
       "    }\n",
       "\n",
       "    .dataframe tbody tr th {\n",
       "        vertical-align: top;\n",
       "    }\n",
       "\n",
       "    .dataframe thead th {\n",
       "        text-align: right;\n",
       "    }\n",
       "</style>\n",
       "<table border=\"1\" class=\"dataframe\">\n",
       "  <thead>\n",
       "    <tr style=\"text-align: right;\">\n",
       "      <th></th>\n",
       "      <th>id</th>\n",
       "      <th>f0</th>\n",
       "      <th>f1</th>\n",
       "      <th>f2</th>\n",
       "      <th>product</th>\n",
       "    </tr>\n",
       "  </thead>\n",
       "  <tbody>\n",
       "    <tr>\n",
       "      <td>0</td>\n",
       "      <td>txEyH</td>\n",
       "      <td>0.705745</td>\n",
       "      <td>-0.497823</td>\n",
       "      <td>1.221170</td>\n",
       "      <td>105.280062</td>\n",
       "    </tr>\n",
       "    <tr>\n",
       "      <td>1</td>\n",
       "      <td>2acmU</td>\n",
       "      <td>1.334711</td>\n",
       "      <td>-0.340164</td>\n",
       "      <td>4.365080</td>\n",
       "      <td>73.037750</td>\n",
       "    </tr>\n",
       "    <tr>\n",
       "      <td>2</td>\n",
       "      <td>409Wp</td>\n",
       "      <td>1.022732</td>\n",
       "      <td>0.151990</td>\n",
       "      <td>1.419926</td>\n",
       "      <td>85.265647</td>\n",
       "    </tr>\n",
       "    <tr>\n",
       "      <td>3</td>\n",
       "      <td>iJLyR</td>\n",
       "      <td>-0.032172</td>\n",
       "      <td>0.139033</td>\n",
       "      <td>2.978566</td>\n",
       "      <td>168.620776</td>\n",
       "    </tr>\n",
       "    <tr>\n",
       "      <td>4</td>\n",
       "      <td>Xdl7t</td>\n",
       "      <td>1.988431</td>\n",
       "      <td>0.155413</td>\n",
       "      <td>4.751769</td>\n",
       "      <td>154.036647</td>\n",
       "    </tr>\n",
       "  </tbody>\n",
       "</table>\n",
       "</div>"
      ],
      "text/plain": [
       "      id        f0        f1        f2     product\n",
       "0  txEyH  0.705745 -0.497823  1.221170  105.280062\n",
       "1  2acmU  1.334711 -0.340164  4.365080   73.037750\n",
       "2  409Wp  1.022732  0.151990  1.419926   85.265647\n",
       "3  iJLyR -0.032172  0.139033  2.978566  168.620776\n",
       "4  Xdl7t  1.988431  0.155413  4.751769  154.036647"
      ]
     },
     "metadata": {},
     "output_type": "display_data"
    },
    {
     "data": {
      "text/html": [
       "<div>\n",
       "<style scoped>\n",
       "    .dataframe tbody tr th:only-of-type {\n",
       "        vertical-align: middle;\n",
       "    }\n",
       "\n",
       "    .dataframe tbody tr th {\n",
       "        vertical-align: top;\n",
       "    }\n",
       "\n",
       "    .dataframe thead th {\n",
       "        text-align: right;\n",
       "    }\n",
       "</style>\n",
       "<table border=\"1\" class=\"dataframe\">\n",
       "  <thead>\n",
       "    <tr style=\"text-align: right;\">\n",
       "      <th></th>\n",
       "      <th>id</th>\n",
       "      <th>f0</th>\n",
       "      <th>f1</th>\n",
       "      <th>f2</th>\n",
       "      <th>product</th>\n",
       "    </tr>\n",
       "  </thead>\n",
       "  <tbody>\n",
       "    <tr>\n",
       "      <td>0</td>\n",
       "      <td>kBEdx</td>\n",
       "      <td>-15.001348</td>\n",
       "      <td>-8.276000</td>\n",
       "      <td>-0.005876</td>\n",
       "      <td>3.179103</td>\n",
       "    </tr>\n",
       "    <tr>\n",
       "      <td>1</td>\n",
       "      <td>62mP7</td>\n",
       "      <td>14.272088</td>\n",
       "      <td>-3.475083</td>\n",
       "      <td>0.999183</td>\n",
       "      <td>26.953261</td>\n",
       "    </tr>\n",
       "    <tr>\n",
       "      <td>2</td>\n",
       "      <td>vyE1P</td>\n",
       "      <td>6.263187</td>\n",
       "      <td>-5.948386</td>\n",
       "      <td>5.001160</td>\n",
       "      <td>134.766305</td>\n",
       "    </tr>\n",
       "    <tr>\n",
       "      <td>3</td>\n",
       "      <td>KcrkZ</td>\n",
       "      <td>-13.081196</td>\n",
       "      <td>-11.506057</td>\n",
       "      <td>4.999415</td>\n",
       "      <td>137.945408</td>\n",
       "    </tr>\n",
       "    <tr>\n",
       "      <td>4</td>\n",
       "      <td>AHL4O</td>\n",
       "      <td>12.702195</td>\n",
       "      <td>-8.147433</td>\n",
       "      <td>5.004363</td>\n",
       "      <td>134.766305</td>\n",
       "    </tr>\n",
       "  </tbody>\n",
       "</table>\n",
       "</div>"
      ],
      "text/plain": [
       "      id         f0         f1        f2     product\n",
       "0  kBEdx -15.001348  -8.276000 -0.005876    3.179103\n",
       "1  62mP7  14.272088  -3.475083  0.999183   26.953261\n",
       "2  vyE1P   6.263187  -5.948386  5.001160  134.766305\n",
       "3  KcrkZ -13.081196 -11.506057  4.999415  137.945408\n",
       "4  AHL4O  12.702195  -8.147433  5.004363  134.766305"
      ]
     },
     "metadata": {},
     "output_type": "display_data"
    },
    {
     "data": {
      "text/html": [
       "<div>\n",
       "<style scoped>\n",
       "    .dataframe tbody tr th:only-of-type {\n",
       "        vertical-align: middle;\n",
       "    }\n",
       "\n",
       "    .dataframe tbody tr th {\n",
       "        vertical-align: top;\n",
       "    }\n",
       "\n",
       "    .dataframe thead th {\n",
       "        text-align: right;\n",
       "    }\n",
       "</style>\n",
       "<table border=\"1\" class=\"dataframe\">\n",
       "  <thead>\n",
       "    <tr style=\"text-align: right;\">\n",
       "      <th></th>\n",
       "      <th>id</th>\n",
       "      <th>f0</th>\n",
       "      <th>f1</th>\n",
       "      <th>f2</th>\n",
       "      <th>product</th>\n",
       "    </tr>\n",
       "  </thead>\n",
       "  <tbody>\n",
       "    <tr>\n",
       "      <td>0</td>\n",
       "      <td>fwXo0</td>\n",
       "      <td>-1.146987</td>\n",
       "      <td>0.963328</td>\n",
       "      <td>-0.828965</td>\n",
       "      <td>27.758673</td>\n",
       "    </tr>\n",
       "    <tr>\n",
       "      <td>1</td>\n",
       "      <td>WJtFt</td>\n",
       "      <td>0.262778</td>\n",
       "      <td>0.269839</td>\n",
       "      <td>-2.530187</td>\n",
       "      <td>56.069697</td>\n",
       "    </tr>\n",
       "    <tr>\n",
       "      <td>2</td>\n",
       "      <td>ovLUW</td>\n",
       "      <td>0.194587</td>\n",
       "      <td>0.289035</td>\n",
       "      <td>-5.586433</td>\n",
       "      <td>62.871910</td>\n",
       "    </tr>\n",
       "    <tr>\n",
       "      <td>3</td>\n",
       "      <td>q6cA6</td>\n",
       "      <td>2.236060</td>\n",
       "      <td>-0.553760</td>\n",
       "      <td>0.930038</td>\n",
       "      <td>114.572842</td>\n",
       "    </tr>\n",
       "    <tr>\n",
       "      <td>4</td>\n",
       "      <td>WPMUX</td>\n",
       "      <td>-0.515993</td>\n",
       "      <td>1.716266</td>\n",
       "      <td>5.899011</td>\n",
       "      <td>149.600746</td>\n",
       "    </tr>\n",
       "  </tbody>\n",
       "</table>\n",
       "</div>"
      ],
      "text/plain": [
       "      id        f0        f1        f2     product\n",
       "0  fwXo0 -1.146987  0.963328 -0.828965   27.758673\n",
       "1  WJtFt  0.262778  0.269839 -2.530187   56.069697\n",
       "2  ovLUW  0.194587  0.289035 -5.586433   62.871910\n",
       "3  q6cA6  2.236060 -0.553760  0.930038  114.572842\n",
       "4  WPMUX -0.515993  1.716266  5.899011  149.600746"
      ]
     },
     "metadata": {},
     "output_type": "display_data"
    }
   ],
   "source": [
    "data_0 = pd.read_csv(\"/datasets/geo_data_0.csv\")\n",
    "data_1 = pd.read_csv(\"/datasets/geo_data_1.csv\")\n",
    "data_2 = pd.read_csv(\"/datasets/geo_data_2.csv\")\n",
    "datas = [data_0, data_1, data_2]\n",
    "for data in datas:\n",
    "    display(data.head())\n"
   ]
  },
  {
   "cell_type": "code",
   "execution_count": 3,
   "metadata": {},
   "outputs": [
    {
     "name": "stdout",
     "output_type": "stream",
     "text": [
      "<class 'pandas.core.frame.DataFrame'>\n",
      "RangeIndex: 100000 entries, 0 to 99999\n",
      "Data columns (total 5 columns):\n",
      "id         100000 non-null object\n",
      "f0         100000 non-null float64\n",
      "f1         100000 non-null float64\n",
      "f2         100000 non-null float64\n",
      "product    100000 non-null float64\n",
      "dtypes: float64(4), object(1)\n",
      "memory usage: 3.8+ MB\n",
      "\n",
      "Дупликатов 0\n"
     ]
    },
    {
     "data": {
      "text/html": [
       "<div>\n",
       "<style scoped>\n",
       "    .dataframe tbody tr th:only-of-type {\n",
       "        vertical-align: middle;\n",
       "    }\n",
       "\n",
       "    .dataframe tbody tr th {\n",
       "        vertical-align: top;\n",
       "    }\n",
       "\n",
       "    .dataframe thead th {\n",
       "        text-align: right;\n",
       "    }\n",
       "</style>\n",
       "<table border=\"1\" class=\"dataframe\">\n",
       "  <thead>\n",
       "    <tr style=\"text-align: right;\">\n",
       "      <th></th>\n",
       "      <th>f0</th>\n",
       "      <th>f1</th>\n",
       "      <th>f2</th>\n",
       "      <th>product</th>\n",
       "    </tr>\n",
       "  </thead>\n",
       "  <tbody>\n",
       "    <tr>\n",
       "      <td>count</td>\n",
       "      <td>100000.000000</td>\n",
       "      <td>100000.000000</td>\n",
       "      <td>100000.000000</td>\n",
       "      <td>100000.000000</td>\n",
       "    </tr>\n",
       "    <tr>\n",
       "      <td>mean</td>\n",
       "      <td>0.500419</td>\n",
       "      <td>0.250143</td>\n",
       "      <td>2.502647</td>\n",
       "      <td>92.500000</td>\n",
       "    </tr>\n",
       "    <tr>\n",
       "      <td>std</td>\n",
       "      <td>0.871832</td>\n",
       "      <td>0.504433</td>\n",
       "      <td>3.248248</td>\n",
       "      <td>44.288691</td>\n",
       "    </tr>\n",
       "    <tr>\n",
       "      <td>min</td>\n",
       "      <td>-1.408605</td>\n",
       "      <td>-0.848218</td>\n",
       "      <td>-12.088328</td>\n",
       "      <td>0.000000</td>\n",
       "    </tr>\n",
       "    <tr>\n",
       "      <td>25%</td>\n",
       "      <td>-0.072580</td>\n",
       "      <td>-0.200881</td>\n",
       "      <td>0.287748</td>\n",
       "      <td>56.497507</td>\n",
       "    </tr>\n",
       "    <tr>\n",
       "      <td>50%</td>\n",
       "      <td>0.502360</td>\n",
       "      <td>0.250252</td>\n",
       "      <td>2.515969</td>\n",
       "      <td>91.849972</td>\n",
       "    </tr>\n",
       "    <tr>\n",
       "      <td>75%</td>\n",
       "      <td>1.073581</td>\n",
       "      <td>0.700646</td>\n",
       "      <td>4.715088</td>\n",
       "      <td>128.564089</td>\n",
       "    </tr>\n",
       "    <tr>\n",
       "      <td>max</td>\n",
       "      <td>2.362331</td>\n",
       "      <td>1.343769</td>\n",
       "      <td>16.003790</td>\n",
       "      <td>185.364347</td>\n",
       "    </tr>\n",
       "  </tbody>\n",
       "</table>\n",
       "</div>"
      ],
      "text/plain": [
       "                  f0             f1             f2        product\n",
       "count  100000.000000  100000.000000  100000.000000  100000.000000\n",
       "mean        0.500419       0.250143       2.502647      92.500000\n",
       "std         0.871832       0.504433       3.248248      44.288691\n",
       "min        -1.408605      -0.848218     -12.088328       0.000000\n",
       "25%        -0.072580      -0.200881       0.287748      56.497507\n",
       "50%         0.502360       0.250252       2.515969      91.849972\n",
       "75%         1.073581       0.700646       4.715088     128.564089\n",
       "max         2.362331       1.343769      16.003790     185.364347"
      ]
     },
     "metadata": {},
     "output_type": "display_data"
    },
    {
     "name": "stdout",
     "output_type": "stream",
     "text": [
      "<class 'pandas.core.frame.DataFrame'>\n",
      "RangeIndex: 100000 entries, 0 to 99999\n",
      "Data columns (total 5 columns):\n",
      "id         100000 non-null object\n",
      "f0         100000 non-null float64\n",
      "f1         100000 non-null float64\n",
      "f2         100000 non-null float64\n",
      "product    100000 non-null float64\n",
      "dtypes: float64(4), object(1)\n",
      "memory usage: 3.8+ MB\n",
      "\n",
      "Дупликатов 0\n"
     ]
    },
    {
     "data": {
      "text/html": [
       "<div>\n",
       "<style scoped>\n",
       "    .dataframe tbody tr th:only-of-type {\n",
       "        vertical-align: middle;\n",
       "    }\n",
       "\n",
       "    .dataframe tbody tr th {\n",
       "        vertical-align: top;\n",
       "    }\n",
       "\n",
       "    .dataframe thead th {\n",
       "        text-align: right;\n",
       "    }\n",
       "</style>\n",
       "<table border=\"1\" class=\"dataframe\">\n",
       "  <thead>\n",
       "    <tr style=\"text-align: right;\">\n",
       "      <th></th>\n",
       "      <th>f0</th>\n",
       "      <th>f1</th>\n",
       "      <th>f2</th>\n",
       "      <th>product</th>\n",
       "    </tr>\n",
       "  </thead>\n",
       "  <tbody>\n",
       "    <tr>\n",
       "      <td>count</td>\n",
       "      <td>100000.000000</td>\n",
       "      <td>100000.000000</td>\n",
       "      <td>100000.000000</td>\n",
       "      <td>100000.000000</td>\n",
       "    </tr>\n",
       "    <tr>\n",
       "      <td>mean</td>\n",
       "      <td>1.141296</td>\n",
       "      <td>-4.796579</td>\n",
       "      <td>2.494541</td>\n",
       "      <td>68.825000</td>\n",
       "    </tr>\n",
       "    <tr>\n",
       "      <td>std</td>\n",
       "      <td>8.965932</td>\n",
       "      <td>5.119872</td>\n",
       "      <td>1.703572</td>\n",
       "      <td>45.944423</td>\n",
       "    </tr>\n",
       "    <tr>\n",
       "      <td>min</td>\n",
       "      <td>-31.609576</td>\n",
       "      <td>-26.358598</td>\n",
       "      <td>-0.018144</td>\n",
       "      <td>0.000000</td>\n",
       "    </tr>\n",
       "    <tr>\n",
       "      <td>25%</td>\n",
       "      <td>-6.298551</td>\n",
       "      <td>-8.267985</td>\n",
       "      <td>1.000021</td>\n",
       "      <td>26.953261</td>\n",
       "    </tr>\n",
       "    <tr>\n",
       "      <td>50%</td>\n",
       "      <td>1.153055</td>\n",
       "      <td>-4.813172</td>\n",
       "      <td>2.011479</td>\n",
       "      <td>57.085625</td>\n",
       "    </tr>\n",
       "    <tr>\n",
       "      <td>75%</td>\n",
       "      <td>8.621015</td>\n",
       "      <td>-1.332816</td>\n",
       "      <td>3.999904</td>\n",
       "      <td>107.813044</td>\n",
       "    </tr>\n",
       "    <tr>\n",
       "      <td>max</td>\n",
       "      <td>29.421755</td>\n",
       "      <td>18.734063</td>\n",
       "      <td>5.019721</td>\n",
       "      <td>137.945408</td>\n",
       "    </tr>\n",
       "  </tbody>\n",
       "</table>\n",
       "</div>"
      ],
      "text/plain": [
       "                  f0             f1             f2        product\n",
       "count  100000.000000  100000.000000  100000.000000  100000.000000\n",
       "mean        1.141296      -4.796579       2.494541      68.825000\n",
       "std         8.965932       5.119872       1.703572      45.944423\n",
       "min       -31.609576     -26.358598      -0.018144       0.000000\n",
       "25%        -6.298551      -8.267985       1.000021      26.953261\n",
       "50%         1.153055      -4.813172       2.011479      57.085625\n",
       "75%         8.621015      -1.332816       3.999904     107.813044\n",
       "max        29.421755      18.734063       5.019721     137.945408"
      ]
     },
     "metadata": {},
     "output_type": "display_data"
    },
    {
     "name": "stdout",
     "output_type": "stream",
     "text": [
      "<class 'pandas.core.frame.DataFrame'>\n",
      "RangeIndex: 100000 entries, 0 to 99999\n",
      "Data columns (total 5 columns):\n",
      "id         100000 non-null object\n",
      "f0         100000 non-null float64\n",
      "f1         100000 non-null float64\n",
      "f2         100000 non-null float64\n",
      "product    100000 non-null float64\n",
      "dtypes: float64(4), object(1)\n",
      "memory usage: 3.8+ MB\n",
      "\n",
      "Дупликатов 0\n"
     ]
    },
    {
     "data": {
      "text/html": [
       "<div>\n",
       "<style scoped>\n",
       "    .dataframe tbody tr th:only-of-type {\n",
       "        vertical-align: middle;\n",
       "    }\n",
       "\n",
       "    .dataframe tbody tr th {\n",
       "        vertical-align: top;\n",
       "    }\n",
       "\n",
       "    .dataframe thead th {\n",
       "        text-align: right;\n",
       "    }\n",
       "</style>\n",
       "<table border=\"1\" class=\"dataframe\">\n",
       "  <thead>\n",
       "    <tr style=\"text-align: right;\">\n",
       "      <th></th>\n",
       "      <th>f0</th>\n",
       "      <th>f1</th>\n",
       "      <th>f2</th>\n",
       "      <th>product</th>\n",
       "    </tr>\n",
       "  </thead>\n",
       "  <tbody>\n",
       "    <tr>\n",
       "      <td>count</td>\n",
       "      <td>100000.000000</td>\n",
       "      <td>100000.000000</td>\n",
       "      <td>100000.000000</td>\n",
       "      <td>100000.000000</td>\n",
       "    </tr>\n",
       "    <tr>\n",
       "      <td>mean</td>\n",
       "      <td>0.002023</td>\n",
       "      <td>-0.002081</td>\n",
       "      <td>2.495128</td>\n",
       "      <td>95.000000</td>\n",
       "    </tr>\n",
       "    <tr>\n",
       "      <td>std</td>\n",
       "      <td>1.732045</td>\n",
       "      <td>1.730417</td>\n",
       "      <td>3.473445</td>\n",
       "      <td>44.749921</td>\n",
       "    </tr>\n",
       "    <tr>\n",
       "      <td>min</td>\n",
       "      <td>-8.760004</td>\n",
       "      <td>-7.084020</td>\n",
       "      <td>-11.970335</td>\n",
       "      <td>0.000000</td>\n",
       "    </tr>\n",
       "    <tr>\n",
       "      <td>25%</td>\n",
       "      <td>-1.162288</td>\n",
       "      <td>-1.174820</td>\n",
       "      <td>0.130359</td>\n",
       "      <td>59.450441</td>\n",
       "    </tr>\n",
       "    <tr>\n",
       "      <td>50%</td>\n",
       "      <td>0.009424</td>\n",
       "      <td>-0.009482</td>\n",
       "      <td>2.484236</td>\n",
       "      <td>94.925613</td>\n",
       "    </tr>\n",
       "    <tr>\n",
       "      <td>75%</td>\n",
       "      <td>1.158535</td>\n",
       "      <td>1.163678</td>\n",
       "      <td>4.858794</td>\n",
       "      <td>130.595027</td>\n",
       "    </tr>\n",
       "    <tr>\n",
       "      <td>max</td>\n",
       "      <td>7.238262</td>\n",
       "      <td>7.844801</td>\n",
       "      <td>16.739402</td>\n",
       "      <td>190.029838</td>\n",
       "    </tr>\n",
       "  </tbody>\n",
       "</table>\n",
       "</div>"
      ],
      "text/plain": [
       "                  f0             f1             f2        product\n",
       "count  100000.000000  100000.000000  100000.000000  100000.000000\n",
       "mean        0.002023      -0.002081       2.495128      95.000000\n",
       "std         1.732045       1.730417       3.473445      44.749921\n",
       "min        -8.760004      -7.084020     -11.970335       0.000000\n",
       "25%        -1.162288      -1.174820       0.130359      59.450441\n",
       "50%         0.009424      -0.009482       2.484236      94.925613\n",
       "75%         1.158535       1.163678       4.858794     130.595027\n",
       "max         7.238262       7.844801      16.739402     190.029838"
      ]
     },
     "metadata": {},
     "output_type": "display_data"
    }
   ],
   "source": [
    "for data in datas:\n",
    "    data.info()\n",
    "    print(\"\\nДупликатов\", sum(data.duplicated()))\n",
    "    display(data.describe())"
   ]
  },
  {
   "cell_type": "code",
   "execution_count": 4,
   "metadata": {},
   "outputs": [
    {
     "data": {
      "image/png": "[encoded data removed]",
      "text/plain": [
       "<Figure size 432x288 with 1 Axes>"
      ]
     },
     "metadata": {
      "needs_background": "light"
     },
     "output_type": "display_data"
    },
    {
     "data": {
      "image/png": "[encoded data removed]",
      "text/plain": [
       "<Figure size 432x288 with 1 Axes>"
      ]
     },
     "metadata": {
      "needs_background": "light"
     },
     "output_type": "display_data"
    },
    {
     "data": {
      "image/png": "[encoded data removed]",
      "text/plain": [
       "<Figure size 432x288 with 1 Axes>"
      ]
     },
     "metadata": {
      "needs_background": "light"
     },
     "output_type": "display_data"
    }
   ],
   "source": [
    "for data in datas:\n",
    "    data[\"product\"].hist(bins=10)\n",
    "    plt.show()"
   ]
  },
  {
   "cell_type": "markdown",
   "metadata": {},
   "source": [
    "### Вывод\n",
    "Пропусков и дубликатов не обнаружено. Описанные данные в таблицах схожи, стандартное отклонения целевого показателя очень близки, однако среднее запасов в скважинах в data_1 заметно меньше чем в других регионах, что связано с большим количеством в них пустых скважин. "
   ]
  },
  {
   "cell_type": "markdown",
   "metadata": {},
   "source": [
    "## Обучение и проверка модели"
   ]
  },
  {
   "cell_type": "code",
   "execution_count": 5,
   "metadata": {},
   "outputs": [],
   "source": [
    "feature_0 = data_0.drop(columns=[\"id\", \"product\"])\n",
    "target_0 = data_0[\"product\"]\n",
    "feature_1 = data_1.drop(columns=[\"id\", \"product\"])\n",
    "target_1 = data_1[\"product\"]\n",
    "feature_2 = data_2.drop(columns=[\"id\", \"product\"])\n",
    "target_2 = data_2[\"product\"]"
   ]
  },
  {
   "cell_type": "code",
   "execution_count": 6,
   "metadata": {},
   "outputs": [],
   "source": [
    "model = LinearRegression()\n",
    "def model_fit_valid(feature, target):\n",
    "    feature_train, feature_valid, target_train, target_valid = train_test_split(feature, target, test_size=0.25, random_state=12345)\n",
    "    model.fit(feature_train, target_train)\n",
    "    predict = model.predict(feature_valid)\n",
    "    print('RMSE =', mean_squared_error(target_valid, predict)**0.5)    \n",
    "    return target_valid, predict"
   ]
  },
  {
   "cell_type": "code",
   "execution_count": 7,
   "metadata": {
    "scrolled": true
   },
   "outputs": [
    {
     "name": "stdout",
     "output_type": "stream",
     "text": [
      "RMSE = 37.5794217150813\n",
      "predict_0.mean = 92.59256778438038\n"
     ]
    }
   ],
   "source": [
    "# region 0\n",
    "target_valid_0, predict_0 = model_fit_valid(feature_0, target_0)\n",
    "print(\"predict_0.mean =\", predict_0.mean())"
   ]
  },
  {
   "cell_type": "code",
   "execution_count": 8,
   "metadata": {},
   "outputs": [
    {
     "name": "stdout",
     "output_type": "stream",
     "text": [
      "RMSE = 0.893099286775616\n",
      "predict_1.mean = 68.728546895446\n"
     ]
    }
   ],
   "source": [
    "# region 1\n",
    "target_valid_1, predict_1 = model_fit_valid(feature_1, target_1)\n",
    "print(\"predict_1.mean =\", predict_1.mean())"
   ]
  },
  {
   "cell_type": "code",
   "execution_count": 9,
   "metadata": {},
   "outputs": [
    {
     "name": "stdout",
     "output_type": "stream",
     "text": [
      "RMSE = 40.02970873393434\n",
      "predict_2.mean = 94.96504596800489\n"
     ]
    }
   ],
   "source": [
    "# region 2\n",
    "target_valid_2, predict_2 = model_fit_valid(feature_2, target_2)\n",
    "print(\"predict_2.mean =\", predict_2.mean())"
   ]
  },
  {
   "cell_type": "markdown",
   "metadata": {},
   "source": [
    "### Вывод\n",
    "При больших средних показателях предсказания запасов нефти в регионах 0 (92.59 т. барелей) и 2 (94.97 т. барелей), эти регионы имеют высокие показатели RMSE (37.58 и 40.03 соответственно), что говорит о плохом качестве модели.\n",
    "\n",
    "В регионе 1 же при заметно меньшем предсказанном запасе нефти (68.72), наша модель показала себя качественной с низким показателем RMSE (0.89). "
   ]
  },
  {
   "cell_type": "markdown",
   "metadata": {},
   "source": [
    "## Подготовка к расчёту прибыли"
   ]
  },
  {
   "cell_type": "code",
   "execution_count": 10,
   "metadata": {},
   "outputs": [
    {
     "data": {
      "text/plain": [
       "111.11111111111111"
      ]
     },
     "execution_count": 10,
     "metadata": {},
     "output_type": "execute_result"
    }
   ],
   "source": [
    "BUDJET = 10_000_000_000\n",
    "WELLS_COUNT = 500\n",
    "WELLS_COUNT_BEST = 200\n",
    "INCOME_FROM1_BAR = 450_000\n",
    "\n",
    "# Расчет достаточного объёма сырья для безубыточной разработки новой скважины\n",
    "MIN_VOLUME = BUDJET / (WELLS_COUNT_BEST * INCOME_FROM1_BAR)\n",
    "MIN_VOLUME"
   ]
  },
  {
   "cell_type": "markdown",
   "metadata": {},
   "source": [
    "### Вывод\n",
    "Достаточный объём сырья для безубыточной разработки новой скважины составляет 111.111, что больше средних предсказанных объемов запасов нефти по всем рассмотренным регионам (92.59, 68.72, 94.97 соответственно)."
   ]
  },
  {
   "cell_type": "markdown",
   "metadata": {},
   "source": [
    "## Расчёт прибыли и рисков "
   ]
  },
  {
   "cell_type": "code",
   "execution_count": 11,
   "metadata": {},
   "outputs": [],
   "source": [
    "def profit(target, predict):\n",
    "    predict_sorted = pd.Series(predict).sort_values(ascending=False) #pd.Series()\n",
    "    selected = target[predict_sorted.index][:WELLS_COUNT_BEST]\n",
    "    return((selected.sum() * INCOME_FROM1_BAR) - BUDJET)"
   ]
  },
  {
   "cell_type": "code",
   "execution_count": 12,
   "metadata": {},
   "outputs": [],
   "source": [
    "\n",
    "def ft_risk(target, predict):\n",
    "    state = RandomState(12345)\n",
    "    values = []\n",
    "    for i in range(1000):\n",
    "        target_sample = pd.Series(target).reset_index(drop=True).sample(n=WELLS_COUNT, random_state=state, replace=True)\n",
    "        prob_sample = pd.Series(predict)[target_sample.index]\n",
    "        values.append(profit(target_sample, prob_sample))\n",
    "    values = pd.Series(values)\n",
    "    lower = values.quantile(0.025)\n",
    "    upper = values.quantile(0.975)\n",
    "    count = values[values<0].count()\n",
    "    risk = count / len(values) * 100 \n",
    "    print('Средняя прибыль {:.3f} млн. руб.'.format(values.mean() / 1_000_000))\n",
    "    print('95% доверительный интервал: от {:.3f} до {:.3f} млн. руб.'.format(lower / 1_000_000, upper / 1_000_000))\n",
    "    print('Риск убытков: {:.2f}%'.format(risk))                                                                     "
   ]
  },
  {
   "cell_type": "code",
   "execution_count": 13,
   "metadata": {},
   "outputs": [
    {
     "name": "stdout",
     "output_type": "stream",
     "text": [
      "Средняя прибыль 425.939 млн. руб.\n",
      "95% доверительный интервал: от -102.090 до 947.976 млн. руб.\n",
      "Риск убытков: 6.00%\n"
     ]
    }
   ],
   "source": [
    "# регион 0\n",
    "ft_risk(target_valid_0, predict_0)"
   ]
  },
  {
   "cell_type": "code",
   "execution_count": 14,
   "metadata": {},
   "outputs": [
    {
     "name": "stdout",
     "output_type": "stream",
     "text": [
      "Средняя прибыль 515.223 млн. руб.\n",
      "95% доверительный интервал: от 68.873 до 931.548 млн. руб.\n",
      "Риск убытков: 1.00%\n"
     ]
    }
   ],
   "source": [
    "# регион 1\n",
    "ft_risk(target_valid_1, predict_1)"
   ]
  },
  {
   "cell_type": "code",
   "execution_count": 15,
   "metadata": {},
   "outputs": [
    {
     "name": "stdout",
     "output_type": "stream",
     "text": [
      "Средняя прибыль 435.008 млн. руб.\n",
      "95% доверительный интервал: от -128.881 до 969.707 млн. руб.\n",
      "Риск убытков: 6.40%\n"
     ]
    }
   ],
   "source": [
    "# регион 2\n",
    "ft_risk(target_valid_2, predict_2)"
   ]
  },
  {
   "cell_type": "markdown",
   "metadata": {},
   "source": [
    "### Вывод\n",
    "При разведке для каждого региона были выбраны 200 лучших точек для разработки. Наименьший риск убытка (1%) показал регион 1, что меньше заданных по т.з. (2.5%). Только он показал положительную прибыль в 95% доверительном интервале, а так же наибольшую среднюю прибыль 515.223 млн. руб. Соответственно для разработки скважин предлагается регион 1."
   ]
  },
  {
   "cell_type": "markdown",
   "metadata": {},
   "source": [
    "## Общий вывод"
   ]
  },
  {
   "cell_type": "markdown",
   "metadata": {},
   "source": [
    "Наибольшие средние показатели предсказания запасов нефти имели регионы 0 (92.59 т. барелей) и 2 (94.97 т. барелей), однако эти регионы имеют высокие показатели RMSE (37.58 и 40.03 соответственно), что говорит о плохом качестве модели.\n",
    "В регионе 1 же при заметно меньшем предсказанном запасе нефти (68.72), наша модель показала себя качественной с низким показателем RMSE (0.89). \n",
    "\n",
    "Исследовав каждый регион и оценив 200 лучших скважин из предложенных определили, что регион 1 имеет лучшие показатели и он рекомендован к разаработке:\n",
    "- Средняя прибыль 515.223 (млн. руб)\n",
    "- 95% доверительный интервал: от 68.873 до 931.548 (млн. руб)\n",
    "- Риск убытков: 1.00%"
   ]
  },
  {
   "cell_type": "markdown",
   "metadata": {},
   "source": [
    "## Чек-лист готовности проекта"
   ]
  },
  {
   "cell_type": "markdown",
   "metadata": {},
   "source": [
    "Поставьте 'x' в выполненных пунктах. Далее нажмите Shift+Enter."
   ]
  },
  {
   "cell_type": "markdown",
   "metadata": {},
   "source": [
    "- [x]  Jupyter Notebook открыт\n",
    "- [ ]  Весь код выполняется без ошибок\n",
    "- [ ]  Ячейки с кодом расположены в порядке исполнения\n",
    "- [ ]  Выполнен шаг 1: данные подготовлены\n",
    "- [ ]  Выполнен шаг 2: модели обучены и проверены\n",
    "    - [ ]  Данные корректно разбиты на обучающую и валидационную выборки\n",
    "    - [ ]  Модели обучены, предсказания сделаны\n",
    "    - [ ]  Предсказания и правильные ответы на валидационной выборке сохранены\n",
    "    - [ ]  На экране напечатаны результаты\n",
    "    - [ ]  Сделаны выводы\n",
    "- [ ]  Выполнен шаг 3: проведена подготовка к расчёту прибыли\n",
    "    - [ ]  Для всех ключевых значений созданы константы Python\n",
    "    - [ ]  Посчитано минимальное среднее количество продукта в месторождениях региона, достаточное для разработки\n",
    "    - [ ]  По предыдущему пункту сделаны выводы\n",
    "    - [ ]  Написана функция расчёта прибыли\n",
    "- [ ]  Выполнен шаг 4: посчитаны риски и прибыль\n",
    "    - [ ]  Проведена процедура *Bootstrap*\n",
    "    - [ ]  Все параметры бутстрепа соответствуют условию\n",
    "    - [ ]  Найдены все нужные величины\n",
    "    - [ ]  Предложен регион для разработки месторождения\n",
    "    - [ ]  Выбор региона обоснован"
   ]
  },
  {
   "cell_type": "code",
   "execution_count": null,
   "metadata": {},
   "outputs": [],
   "source": []
  }
 ],
 "metadata": {
  "ExecuteTimeLog": [
   {
    "duration": 1567,
    "start_time": "2022-03-10T12:11:56.450Z"
   },
   {
    "duration": 471,
    "start_time": "2022-03-10T12:18:47.679Z"
   },
   {
    "duration": 90,
    "start_time": "2022-03-10T12:22:43.298Z"
   },
   {
    "duration": 448,
    "start_time": "2022-03-10T12:22:57.322Z"
   },
   {
    "duration": 454,
    "start_time": "2022-03-10T12:23:24.818Z"
   },
   {
    "duration": 6,
    "start_time": "2022-03-10T12:23:36.643Z"
   },
   {
    "duration": 436,
    "start_time": "2022-03-10T12:23:38.612Z"
   },
   {
    "duration": 489,
    "start_time": "2022-03-10T12:23:49.300Z"
   },
   {
    "duration": 6,
    "start_time": "2022-03-10T12:24:06.364Z"
   },
   {
    "duration": 477,
    "start_time": "2022-03-10T12:24:08.886Z"
   },
   {
    "duration": 6,
    "start_time": "2022-03-10T12:26:43.506Z"
   },
   {
    "duration": 483,
    "start_time": "2022-03-10T12:26:48.312Z"
   },
   {
    "duration": 887,
    "start_time": "2022-03-10T12:28:20.956Z"
   },
   {
    "duration": 722,
    "start_time": "2022-03-10T12:28:36.014Z"
   },
   {
    "duration": 728,
    "start_time": "2022-03-10T12:28:53.737Z"
   },
   {
    "duration": 721,
    "start_time": "2022-03-10T12:29:28.722Z"
   },
   {
    "duration": 747,
    "start_time": "2022-03-10T12:29:38.985Z"
   },
   {
    "duration": 1504,
    "start_time": "2022-03-10T12:29:56.510Z"
   },
   {
    "duration": 810,
    "start_time": "2022-03-10T12:29:58.016Z"
   },
   {
    "duration": 1017,
    "start_time": "2022-03-10T12:31:38.034Z"
   },
   {
    "duration": 857,
    "start_time": "2022-03-10T12:31:54.131Z"
   },
   {
    "duration": 797,
    "start_time": "2022-03-10T12:32:11.219Z"
   },
   {
    "duration": 1299,
    "start_time": "2022-03-10T12:32:21.533Z"
   },
   {
    "duration": 6,
    "start_time": "2022-03-10T12:32:43.717Z"
   },
   {
    "duration": 915,
    "start_time": "2022-03-10T12:32:46.150Z"
   },
   {
    "duration": 7,
    "start_time": "2022-03-10T12:33:00.940Z"
   },
   {
    "duration": 932,
    "start_time": "2022-03-10T12:33:52.176Z"
   },
   {
    "duration": 910,
    "start_time": "2022-03-10T12:34:21.459Z"
   },
   {
    "duration": 860,
    "start_time": "2022-03-10T12:34:38.465Z"
   },
   {
    "duration": 890,
    "start_time": "2022-03-10T12:35:43.860Z"
   },
   {
    "duration": 857,
    "start_time": "2022-03-10T12:36:01.630Z"
   },
   {
    "duration": 895,
    "start_time": "2022-03-10T12:37:21.272Z"
   },
   {
    "duration": 89,
    "start_time": "2022-03-10T12:42:49.365Z"
   },
   {
    "duration": 138,
    "start_time": "2022-03-10T12:42:58.019Z"
   },
   {
    "duration": 893,
    "start_time": "2022-03-10T12:43:40.484Z"
   },
   {
    "duration": 475,
    "start_time": "2022-03-10T12:44:58.225Z"
   },
   {
    "duration": 399,
    "start_time": "2022-03-10T12:45:21.968Z"
   },
   {
    "duration": 363,
    "start_time": "2022-03-10T12:46:26.459Z"
   },
   {
    "duration": 510,
    "start_time": "2022-03-10T12:46:36.882Z"
   },
   {
    "duration": 441,
    "start_time": "2022-03-10T12:50:12.387Z"
   },
   {
    "duration": 416,
    "start_time": "2022-03-10T12:50:23.292Z"
   },
   {
    "duration": 381,
    "start_time": "2022-03-10T12:50:38.924Z"
   },
   {
    "duration": 13354,
    "start_time": "2022-03-10T13:34:11.210Z"
   },
   {
    "duration": 3396,
    "start_time": "2022-03-10T13:34:30.217Z"
   },
   {
    "duration": 262,
    "start_time": "2022-03-10T13:35:55.134Z"
   },
   {
    "duration": 273,
    "start_time": "2022-03-10T13:36:02.998Z"
   },
   {
    "duration": 281,
    "start_time": "2022-03-10T13:36:06.622Z"
   },
   {
    "duration": 427,
    "start_time": "2022-03-10T13:36:10.493Z"
   },
   {
    "duration": 593,
    "start_time": "2022-03-10T13:36:35.919Z"
   },
   {
    "duration": 689,
    "start_time": "2022-03-10T13:36:46.303Z"
   },
   {
    "duration": 571,
    "start_time": "2022-03-10T13:36:51.343Z"
   },
   {
    "duration": 918,
    "start_time": "2022-03-10T13:38:38.787Z"
   },
   {
    "duration": 600,
    "start_time": "2022-03-10T13:39:45.701Z"
   },
   {
    "duration": 583,
    "start_time": "2022-03-10T13:39:49.446Z"
   },
   {
    "duration": 610,
    "start_time": "2022-03-10T13:39:52.798Z"
   },
   {
    "duration": 923,
    "start_time": "2022-03-10T13:40:36.552Z"
   },
   {
    "duration": 456,
    "start_time": "2022-03-11T08:48:59.847Z"
   },
   {
    "duration": 1945,
    "start_time": "2022-03-11T08:50:02.770Z"
   },
   {
    "duration": 693,
    "start_time": "2022-03-11T08:50:04.718Z"
   },
   {
    "duration": 536,
    "start_time": "2022-03-11T08:50:05.414Z"
   },
   {
    "duration": 1316,
    "start_time": "2022-03-11T08:50:05.953Z"
   },
   {
    "duration": 27,
    "start_time": "2022-03-11T08:50:07.272Z"
   },
   {
    "duration": 34,
    "start_time": "2022-03-11T08:50:21.360Z"
   },
   {
    "duration": 14,
    "start_time": "2022-03-11T08:52:12.964Z"
   },
   {
    "duration": 26,
    "start_time": "2022-03-11T08:52:26.355Z"
   },
   {
    "duration": 1500,
    "start_time": "2022-03-11T08:52:58.903Z"
   },
   {
    "duration": 480,
    "start_time": "2022-03-11T08:53:00.406Z"
   },
   {
    "duration": 446,
    "start_time": "2022-03-11T08:53:00.892Z"
   },
   {
    "duration": 980,
    "start_time": "2022-03-11T08:53:01.341Z"
   },
   {
    "duration": 33,
    "start_time": "2022-03-11T08:53:02.323Z"
   },
   {
    "duration": 23,
    "start_time": "2022-03-11T08:53:55.371Z"
   },
   {
    "duration": 1481,
    "start_time": "2022-03-11T08:54:56.591Z"
   },
   {
    "duration": 456,
    "start_time": "2022-03-11T08:54:58.075Z"
   },
   {
    "duration": 415,
    "start_time": "2022-03-11T08:54:58.537Z"
   },
   {
    "duration": 939,
    "start_time": "2022-03-11T08:54:58.954Z"
   },
   {
    "duration": 484,
    "start_time": "2022-03-11T08:54:59.895Z"
   },
   {
    "duration": 1556,
    "start_time": "2022-03-11T08:55:40.548Z"
   },
   {
    "duration": 484,
    "start_time": "2022-03-11T08:55:42.107Z"
   },
   {
    "duration": 437,
    "start_time": "2022-03-11T08:55:42.596Z"
   },
   {
    "duration": 1051,
    "start_time": "2022-03-11T08:55:43.036Z"
   },
   {
    "duration": 17,
    "start_time": "2022-03-11T08:55:44.089Z"
   },
   {
    "duration": 21,
    "start_time": "2022-03-11T08:58:46.760Z"
   },
   {
    "duration": 16,
    "start_time": "2022-03-11T08:58:50.687Z"
   },
   {
    "duration": 17,
    "start_time": "2022-03-11T08:58:54.713Z"
   },
   {
    "duration": 15,
    "start_time": "2022-03-11T08:59:04.441Z"
   },
   {
    "duration": 10,
    "start_time": "2022-03-11T09:03:20.281Z"
   },
   {
    "duration": 7,
    "start_time": "2022-03-11T09:22:33.427Z"
   },
   {
    "duration": 879,
    "start_time": "2022-03-11T09:23:11.630Z"
   },
   {
    "duration": 9,
    "start_time": "2022-03-11T09:23:33.022Z"
   },
   {
    "duration": 168,
    "start_time": "2022-03-11T09:23:36.127Z"
   },
   {
    "duration": 7,
    "start_time": "2022-03-11T09:25:03.802Z"
   },
   {
    "duration": 60,
    "start_time": "2022-03-11T09:25:12.835Z"
   },
   {
    "duration": 111,
    "start_time": "2022-03-11T09:45:10.500Z"
   },
   {
    "duration": 6,
    "start_time": "2022-03-11T09:45:24.454Z"
   },
   {
    "duration": 396,
    "start_time": "2022-03-11T09:45:28.198Z"
   },
   {
    "duration": 30,
    "start_time": "2022-03-11T09:45:58.943Z"
   },
   {
    "duration": 41,
    "start_time": "2022-03-11T09:46:22.200Z"
   },
   {
    "duration": 5,
    "start_time": "2022-03-11T09:47:38.682Z"
   },
   {
    "duration": 98,
    "start_time": "2022-03-11T09:47:41.995Z"
   },
   {
    "duration": 73,
    "start_time": "2022-03-11T09:48:17.916Z"
   },
   {
    "duration": 100,
    "start_time": "2022-03-11T09:48:21.787Z"
   },
   {
    "duration": 5,
    "start_time": "2022-03-11T09:49:08.470Z"
   },
   {
    "duration": 39,
    "start_time": "2022-03-11T09:49:11.358Z"
   },
   {
    "duration": 44,
    "start_time": "2022-03-11T09:49:15.774Z"
   },
   {
    "duration": 36,
    "start_time": "2022-03-11T09:49:18.541Z"
   },
   {
    "duration": 290,
    "start_time": "2022-03-11T09:51:40.539Z"
   },
   {
    "duration": 10,
    "start_time": "2022-03-11T09:52:04.876Z"
   },
   {
    "duration": 5,
    "start_time": "2022-03-11T09:52:06.924Z"
   },
   {
    "duration": 33,
    "start_time": "2022-03-11T09:52:09.916Z"
   },
   {
    "duration": 98,
    "start_time": "2022-03-11T09:52:17.092Z"
   },
   {
    "duration": 43,
    "start_time": "2022-03-11T09:52:50.773Z"
   },
   {
    "duration": 103,
    "start_time": "2022-03-11T10:28:06.903Z"
   },
   {
    "duration": 4,
    "start_time": "2022-03-11T10:28:26.595Z"
   },
   {
    "duration": 265,
    "start_time": "2022-03-11T10:28:37.675Z"
   },
   {
    "duration": 5,
    "start_time": "2022-03-11T10:28:45.364Z"
   },
   {
    "duration": 7,
    "start_time": "2022-03-11T10:28:51.699Z"
   },
   {
    "duration": 3,
    "start_time": "2022-03-11T10:28:56.788Z"
   },
   {
    "duration": 4,
    "start_time": "2022-03-11T10:29:55.253Z"
   },
   {
    "duration": 4,
    "start_time": "2022-03-11T10:31:35.433Z"
   },
   {
    "duration": 4,
    "start_time": "2022-03-11T10:37:18.942Z"
   },
   {
    "duration": 6,
    "start_time": "2022-03-11T10:37:25.918Z"
   },
   {
    "duration": 83,
    "start_time": "2022-03-11T10:39:45.108Z"
   },
   {
    "duration": 5,
    "start_time": "2022-03-11T11:24:36.804Z"
   },
   {
    "duration": 458,
    "start_time": "2022-03-11T11:25:02.518Z"
   },
   {
    "duration": 11,
    "start_time": "2022-03-11T11:25:38.943Z"
   },
   {
    "duration": 449,
    "start_time": "2022-03-11T11:53:09.193Z"
   },
   {
    "duration": 13,
    "start_time": "2022-03-11T11:53:27.282Z"
   },
   {
    "duration": 16,
    "start_time": "2022-03-11T11:53:56.675Z"
   },
   {
    "duration": 7,
    "start_time": "2022-03-11T11:56:57.554Z"
   },
   {
    "duration": 15,
    "start_time": "2022-03-11T11:57:33.995Z"
   },
   {
    "duration": 14,
    "start_time": "2022-03-11T11:57:37.156Z"
   },
   {
    "duration": 15,
    "start_time": "2022-03-11T12:17:21.497Z"
   },
   {
    "duration": 13,
    "start_time": "2022-03-11T12:19:01.798Z"
   },
   {
    "duration": 557,
    "start_time": "2022-03-11T12:21:51.582Z"
   },
   {
    "duration": 5,
    "start_time": "2022-03-11T12:22:10.126Z"
   },
   {
    "duration": 15,
    "start_time": "2022-03-11T12:22:12.144Z"
   },
   {
    "duration": 15,
    "start_time": "2022-03-11T12:22:22.094Z"
   },
   {
    "duration": 731,
    "start_time": "2022-03-11T12:35:20.024Z"
   },
   {
    "duration": 7592,
    "start_time": "2022-03-11T12:35:29.730Z"
   },
   {
    "duration": 15,
    "start_time": "2022-03-11T12:58:47.202Z"
   },
   {
    "duration": 5724,
    "start_time": "2022-03-11T12:58:49.453Z"
   },
   {
    "duration": -18,
    "start_time": "2022-03-11T13:02:39.850Z"
   },
   {
    "duration": 6551,
    "start_time": "2022-03-11T13:02:48.425Z"
   },
   {
    "duration": 5644,
    "start_time": "2022-03-11T13:03:47.173Z"
   },
   {
    "duration": 9028,
    "start_time": "2022-03-11T13:09:41.281Z"
   },
   {
    "duration": 5790,
    "start_time": "2022-03-11T13:10:08.385Z"
   },
   {
    "duration": 5991,
    "start_time": "2022-03-11T13:17:40.755Z"
   },
   {
    "duration": 5891,
    "start_time": "2022-03-11T13:17:52.450Z"
   },
   {
    "duration": 5621,
    "start_time": "2022-03-11T13:18:03.819Z"
   },
   {
    "duration": 98,
    "start_time": "2022-03-11T13:39:47.443Z"
   },
   {
    "duration": 7729,
    "start_time": "2022-03-11T13:41:32.311Z"
   },
   {
    "duration": 7536,
    "start_time": "2022-03-11T13:44:20.780Z"
   },
   {
    "duration": 5976,
    "start_time": "2022-03-11T13:45:05.270Z"
   },
   {
    "duration": 6086,
    "start_time": "2022-03-11T13:46:37.409Z"
   },
   {
    "duration": 6005,
    "start_time": "2022-03-11T13:46:59.913Z"
   },
   {
    "duration": 17387,
    "start_time": "2022-03-11T13:52:33.167Z"
   },
   {
    "duration": 18044,
    "start_time": "2022-03-11T13:53:10.792Z"
   },
   {
    "duration": 1498,
    "start_time": "2022-03-11T13:54:10.404Z"
   },
   {
    "duration": 488,
    "start_time": "2022-03-11T13:54:11.905Z"
   },
   {
    "duration": 404,
    "start_time": "2022-03-11T13:54:12.397Z"
   },
   {
    "duration": 914,
    "start_time": "2022-03-11T13:54:12.804Z"
   },
   {
    "duration": 13,
    "start_time": "2022-03-11T13:54:13.721Z"
   },
   {
    "duration": 16,
    "start_time": "2022-03-11T13:54:13.737Z"
   },
   {
    "duration": 54,
    "start_time": "2022-03-11T13:54:13.755Z"
   },
   {
    "duration": 193,
    "start_time": "2022-03-11T13:54:13.813Z"
   },
   {
    "duration": 195,
    "start_time": "2022-03-11T13:54:14.009Z"
   },
   {
    "duration": 492,
    "start_time": "2022-03-11T13:54:14.208Z"
   },
   {
    "duration": -17,
    "start_time": "2022-03-11T13:54:14.720Z"
   },
   {
    "duration": -18,
    "start_time": "2022-03-11T13:54:14.722Z"
   },
   {
    "duration": 7,
    "start_time": "2022-03-11T13:55:34.809Z"
   },
   {
    "duration": 5,
    "start_time": "2022-03-11T13:55:39.920Z"
   },
   {
    "duration": 22052,
    "start_time": "2022-03-11T13:55:46.969Z"
   },
   {
    "duration": 28822,
    "start_time": "2022-03-11T14:00:50.215Z"
   },
   {
    "duration": 17976,
    "start_time": "2022-03-11T14:01:21.512Z"
   },
   {
    "duration": 2009,
    "start_time": "2022-03-11T14:07:51.870Z"
   },
   {
    "duration": 726,
    "start_time": "2022-03-11T14:07:53.882Z"
   },
   {
    "duration": 425,
    "start_time": "2022-03-11T14:07:54.611Z"
   },
   {
    "duration": 957,
    "start_time": "2022-03-11T14:07:55.038Z"
   },
   {
    "duration": 16,
    "start_time": "2022-03-11T14:07:55.998Z"
   },
   {
    "duration": 31,
    "start_time": "2022-03-11T14:07:56.016Z"
   },
   {
    "duration": 139,
    "start_time": "2022-03-11T14:07:56.050Z"
   },
   {
    "duration": 123,
    "start_time": "2022-03-11T14:07:56.195Z"
   },
   {
    "duration": 125,
    "start_time": "2022-03-11T14:07:56.386Z"
   },
   {
    "duration": 9,
    "start_time": "2022-03-11T14:07:56.587Z"
   },
   {
    "duration": 22,
    "start_time": "2022-03-11T14:07:56.688Z"
   },
   {
    "duration": 18760,
    "start_time": "2022-03-11T14:07:56.712Z"
   },
   {
    "duration": 18731,
    "start_time": "2022-03-11T14:12:30.076Z"
   },
   {
    "duration": 17293,
    "start_time": "2022-03-11T14:12:54.037Z"
   },
   {
    "duration": 4,
    "start_time": "2022-03-11T14:14:02.287Z"
   },
   {
    "duration": 8,
    "start_time": "2022-03-11T14:14:10.663Z"
   },
   {
    "duration": 5849,
    "start_time": "2022-03-11T14:14:13.518Z"
   },
   {
    "duration": 6117,
    "start_time": "2022-03-11T14:14:21.071Z"
   },
   {
    "duration": 6363,
    "start_time": "2022-03-11T14:14:27.191Z"
   },
   {
    "duration": 5993,
    "start_time": "2022-03-11T14:16:15.931Z"
   },
   {
    "duration": 5792,
    "start_time": "2022-03-11T14:16:21.926Z"
   },
   {
    "duration": 5893,
    "start_time": "2022-03-11T14:16:27.721Z"
   },
   {
    "duration": 8,
    "start_time": "2022-03-11T14:17:12.972Z"
   },
   {
    "duration": 6492,
    "start_time": "2022-03-11T14:17:16.004Z"
   },
   {
    "duration": 5877,
    "start_time": "2022-03-11T14:17:24.315Z"
   },
   {
    "duration": 5909,
    "start_time": "2022-03-11T14:17:31.916Z"
   },
   {
    "duration": 5857,
    "start_time": "2022-03-11T14:17:42.645Z"
   },
   {
    "duration": 5823,
    "start_time": "2022-03-11T14:17:51.725Z"
   },
   {
    "duration": 6261,
    "start_time": "2022-03-11T14:18:00.062Z"
   },
   {
    "duration": 1568,
    "start_time": "2022-03-11T14:18:11.826Z"
   },
   {
    "duration": 490,
    "start_time": "2022-03-11T14:18:13.397Z"
   },
   {
    "duration": 411,
    "start_time": "2022-03-11T14:18:13.890Z"
   },
   {
    "duration": 1040,
    "start_time": "2022-03-11T14:18:14.304Z"
   },
   {
    "duration": 14,
    "start_time": "2022-03-11T14:18:15.347Z"
   },
   {
    "duration": 9,
    "start_time": "2022-03-11T14:18:15.364Z"
   },
   {
    "duration": 199,
    "start_time": "2022-03-11T14:18:15.388Z"
   },
   {
    "duration": 106,
    "start_time": "2022-03-11T14:18:15.591Z"
   },
   {
    "duration": 38,
    "start_time": "2022-03-11T14:18:15.789Z"
   },
   {
    "duration": 10,
    "start_time": "2022-03-11T14:18:15.890Z"
   },
   {
    "duration": 23,
    "start_time": "2022-03-11T14:18:15.988Z"
   },
   {
    "duration": 15,
    "start_time": "2022-03-11T14:18:16.014Z"
   },
   {
    "duration": 5733,
    "start_time": "2022-03-11T14:18:16.032Z"
   },
   {
    "duration": 5836,
    "start_time": "2022-03-11T14:18:21.767Z"
   },
   {
    "duration": 5825,
    "start_time": "2022-03-11T14:18:27.606Z"
   },
   {
    "duration": 8,
    "start_time": "2022-03-11T14:20:12.842Z"
   },
   {
    "duration": 5992,
    "start_time": "2022-03-11T14:20:16.378Z"
   },
   {
    "duration": 5845,
    "start_time": "2022-03-11T14:20:24.771Z"
   },
   {
    "duration": 5786,
    "start_time": "2022-03-11T14:20:30.620Z"
   },
   {
    "duration": 1578,
    "start_time": "2022-03-11T15:15:26.957Z"
   },
   {
    "duration": 483,
    "start_time": "2022-03-11T15:15:28.537Z"
   },
   {
    "duration": 422,
    "start_time": "2022-03-11T15:15:29.024Z"
   },
   {
    "duration": 919,
    "start_time": "2022-03-11T15:15:29.450Z"
   },
   {
    "duration": 18,
    "start_time": "2022-03-11T15:15:30.372Z"
   },
   {
    "duration": 7,
    "start_time": "2022-03-11T15:15:30.392Z"
   },
   {
    "duration": 92,
    "start_time": "2022-03-11T15:15:30.401Z"
   },
   {
    "duration": 120,
    "start_time": "2022-03-11T15:15:30.496Z"
   },
   {
    "duration": 184,
    "start_time": "2022-03-11T15:15:30.620Z"
   },
   {
    "duration": 85,
    "start_time": "2022-03-11T15:15:30.808Z"
   },
   {
    "duration": 595,
    "start_time": "2022-03-11T15:15:30.896Z"
   },
   {
    "duration": 53,
    "start_time": "2022-03-11T15:15:31.493Z"
   },
   {
    "duration": 5735,
    "start_time": "2022-03-11T15:15:31.548Z"
   },
   {
    "duration": 5671,
    "start_time": "2022-03-11T15:15:37.285Z"
   },
   {
    "duration": 5732,
    "start_time": "2022-03-11T15:15:42.959Z"
   },
   {
    "duration": 2120,
    "start_time": "2022-03-12T08:13:35.521Z"
   },
   {
    "duration": 497,
    "start_time": "2022-03-12T08:13:37.645Z"
   },
   {
    "duration": 470,
    "start_time": "2022-03-12T08:13:38.145Z"
   },
   {
    "duration": 1046,
    "start_time": "2022-03-12T08:13:38.618Z"
   },
   {
    "duration": 23,
    "start_time": "2022-03-12T08:13:39.667Z"
   },
   {
    "duration": 6,
    "start_time": "2022-03-12T08:13:39.693Z"
   },
   {
    "duration": 96,
    "start_time": "2022-03-12T08:13:39.701Z"
   },
   {
    "duration": 188,
    "start_time": "2022-03-12T08:13:39.801Z"
   },
   {
    "duration": 112,
    "start_time": "2022-03-12T08:13:39.993Z"
   },
   {
    "duration": 83,
    "start_time": "2022-03-12T08:13:40.108Z"
   },
   {
    "duration": 95,
    "start_time": "2022-03-12T08:13:40.194Z"
   },
   {
    "duration": 9,
    "start_time": "2022-03-12T08:13:40.291Z"
   },
   {
    "duration": 6113,
    "start_time": "2022-03-12T08:13:40.302Z"
   },
   {
    "duration": 6039,
    "start_time": "2022-03-12T08:13:46.418Z"
   },
   {
    "duration": 6287,
    "start_time": "2022-03-12T08:13:52.459Z"
   },
   {
    "duration": 2295,
    "start_time": "2022-03-28T12:37:20.471Z"
   }
  ],
  "kernelspec": {
   "display_name": "Python 3 (ipykernel)",
   "language": "python",
   "name": "python3"
  },
  "language_info": {
   "codemirror_mode": {
    "name": "ipython",
    "version": 3
   },
   "file_extension": ".py",
   "mimetype": "text/x-python",
   "name": "python",
   "nbconvert_exporter": "python",
   "pygments_lexer": "ipython3",
   "version": "3.9.7"
  },
  "toc": {
   "base_numbering": 1,
   "nav_menu": {},
   "number_sections": true,
   "sideBar": true,
   "skip_h1_title": true,
   "title_cell": "Table of Contents",
   "title_sidebar": "Contents",
   "toc_cell": false,
   "toc_position": {},
   "toc_section_display": true,
   "toc_window_display": false
  }
 },
 "nbformat": 4,
 "nbformat_minor": 2
}
