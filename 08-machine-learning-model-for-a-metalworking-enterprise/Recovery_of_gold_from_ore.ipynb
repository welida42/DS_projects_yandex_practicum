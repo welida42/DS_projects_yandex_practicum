{
 "cells": [
  {
   "cell_type": "markdown",
   "metadata": {
    "toc": true
   },
   "source": [
    "<h1>Содержание<span class=\"tocSkip\"></span></h1>\n",
    "<div class=\"toc\"><ul class=\"toc-item\"><li><span><a href=\"#Подготовка-данных\" data-toc-modified-id=\"Подготовка-данных-1\"><span class=\"toc-item-num\">1&nbsp;&nbsp;</span>Подготовка данных</a></span><ul class=\"toc-item\"><li><span><a href=\"#Изучение-данных\" data-toc-modified-id=\"Изучение-данных-1.1\"><span class=\"toc-item-num\">1.1&nbsp;&nbsp;</span>Изучение данных</a></span></li><li><span><a href=\"#Проверка-расчета-эффективности-обогащения.\" data-toc-modified-id=\"Проверка-расчета-эффективности-обогащения.-1.2\"><span class=\"toc-item-num\">1.2&nbsp;&nbsp;</span>Проверка расчета эффективности обогащения.</a></span></li><li><span><a href=\"#Анализ--недоступных-в-тестовой-выборке-признаков\" data-toc-modified-id=\"Анализ--недоступных-в-тестовой-выборке-признаков-1.3\"><span class=\"toc-item-num\">1.3&nbsp;&nbsp;</span>Анализ  недоступных в тестовой выборке признаков</a></span></li><li><span><a href=\"#Предобработка-данных.\" data-toc-modified-id=\"Предобработка-данных.-1.4\"><span class=\"toc-item-num\">1.4&nbsp;&nbsp;</span>Предобработка данных.</a></span></li><li><span><a href=\"#Вывод\" data-toc-modified-id=\"Вывод-1.5\"><span class=\"toc-item-num\">1.5&nbsp;&nbsp;</span>Вывод</a></span></li></ul></li><li><span><a href=\"#Анализ-данных\" data-toc-modified-id=\"Анализ-данных-2\"><span class=\"toc-item-num\">2&nbsp;&nbsp;</span>Анализ данных</a></span><ul class=\"toc-item\"><li><span><a href=\"#Анализ-изменения-концентрации-металлов-(Au,-Ag,-Pb)-на-различных-этапах-очистки.\" data-toc-modified-id=\"Анализ-изменения-концентрации-металлов-(Au,-Ag,-Pb)-на-различных-этапах-очистки.-2.1\"><span class=\"toc-item-num\">2.1&nbsp;&nbsp;</span>Анализ изменения концентрации металлов (Au, Ag, Pb) на различных этапах очистки.</a></span></li><li><span><a href=\"#Сравнение-распределения-размеров-гранул-сырья\" data-toc-modified-id=\"Сравнение-распределения-размеров-гранул-сырья-2.2\"><span class=\"toc-item-num\">2.2&nbsp;&nbsp;</span>Сравнение распределения размеров гранул сырья</a></span></li><li><span><a href=\"#Исследование-суммарной-концентрации-веществ-на-разных-стадиях.\" data-toc-modified-id=\"Исследование-суммарной-концентрации-веществ-на-разных-стадиях.-2.3\"><span class=\"toc-item-num\">2.3&nbsp;&nbsp;</span>Исследование суммарной концентрации веществ на разных стадиях.</a></span></li><li><span><a href=\"#Вывод\" data-toc-modified-id=\"Вывод-2.4\"><span class=\"toc-item-num\">2.4&nbsp;&nbsp;</span>Вывод</a></span></li></ul></li><li><span><a href=\"#Модель\" data-toc-modified-id=\"Модель-3\"><span class=\"toc-item-num\">3&nbsp;&nbsp;</span>Модель</a></span><ul class=\"toc-item\"><li><span><a href=\"#Функция-для-вычисления-итоговой-sMAPE.\" data-toc-modified-id=\"Функция-для-вычисления-итоговой-sMAPE.-3.1\"><span class=\"toc-item-num\">3.1&nbsp;&nbsp;</span>Функция для вычисления итоговой sMAPE.</a></span></li><li><span><a href=\"#Обучение-разных-моделей-и-оценка-их-качества-кросс-валидацией.\" data-toc-modified-id=\"Обучение-разных-моделей-и-оценка-их-качества-кросс-валидацией.-3.2\"><span class=\"toc-item-num\">3.2&nbsp;&nbsp;</span>Обучение разных моделей и оценка их качества кросс-валидацией.</a></span></li><li><span><a href=\"#Вывод\" data-toc-modified-id=\"Вывод-3.3\"><span class=\"toc-item-num\">3.3&nbsp;&nbsp;</span>Вывод</a></span></li></ul></li><li><span><a href=\"#Общий-вывод\" data-toc-modified-id=\"Общий-вывод-4\"><span class=\"toc-item-num\">4&nbsp;&nbsp;</span>Общий вывод</a></span></li><li><span><a href=\"#Чек-лист-готовности-проекта\" data-toc-modified-id=\"Чек-лист-готовности-проекта-5\"><span class=\"toc-item-num\">5&nbsp;&nbsp;</span>Чек-лист готовности проекта</a></span></li></ul></div>"
   ]
  },
  {
   "cell_type": "markdown",
   "metadata": {},
   "source": [
    "# Восстановление золота из руды"
   ]
  },
  {
   "cell_type": "markdown",
   "metadata": {},
   "source": [
    "Подготовьте прототип модели машинного обучения для «Цифры». Компания разрабатывает решения для эффективной работы промышленных предприятий.\n",
    "\n",
    "Модель должна предсказать коэффициент восстановления золота из золотосодержащей руды. Используйте данные с параметрами добычи и очистки. \n",
    "\n",
    "Модель поможет оптимизировать производство, чтобы не запускать предприятие с убыточными характеристиками.\n",
    "\n",
    "Вам нужно:\n",
    "\n",
    "1. Подготовить данные;\n",
    "2. Провести исследовательский анализ данных;\n",
    "3. Построить и обучить модель.\n",
    "\n",
    "Чтобы выполнить проект, обращайтесь к библиотекам *pandas*, *matplotlib* и *sklearn.* Вам поможет их документация."
   ]
  },
  {
   "cell_type": "markdown",
   "metadata": {},
   "source": [
    "## Подготовка данных"
   ]
  },
  {
   "cell_type": "markdown",
   "metadata": {},
   "source": [
    "### Изучение данных"
   ]
  },
  {
   "cell_type": "code",
   "execution_count": 1,
   "metadata": {},
   "outputs": [],
   "source": [
    "import pandas as pd\n",
    "import numpy as np\n",
    "from scipy import stats as st\n",
    "import matplotlib.pyplot as plt\n",
    "import seaborn as sns\n",
    "from numpy.random import RandomState\n",
    "\n",
    "from sklearn.preprocessing import StandardScaler\n",
    "from sklearn.model_selection import cross_val_score, GridSearchCV\n",
    "from sklearn.linear_model import LinearRegression\n",
    "from sklearn.ensemble import RandomForestRegressor\n",
    "from sklearn.metrics import make_scorer, mean_absolute_error\n",
    "from sklearn.dummy import DummyRegressor\n",
    "\n",
    "import warnings\n",
    "warnings.filterwarnings(\"ignore\")"
   ]
  },
  {
   "cell_type": "code",
   "execution_count": 2,
   "metadata": {},
   "outputs": [],
   "source": [
    "df_train = pd.read_csv('/datasets/gold_recovery_train_new.csv')\n",
    "df_test = pd.read_csv('/datasets/gold_recovery_test_new.csv')\n",
    "df_full = pd.read_csv('/datasets/gold_recovery_full_new.csv')\n",
    "def first_look(df):\n",
    "    display(df.head())\n",
    "    df.info()\n",
    "    print('\\nДубликатов:', sum(df.duplicated()))  "
   ]
  },
  {
   "cell_type": "code",
   "execution_count": 3,
   "metadata": {
    "scrolled": false
   },
   "outputs": [
    {
     "data": {
      "text/html": [
       "<div>\n",
       "<style scoped>\n",
       "    .dataframe tbody tr th:only-of-type {\n",
       "        vertical-align: middle;\n",
       "    }\n",
       "\n",
       "    .dataframe tbody tr th {\n",
       "        vertical-align: top;\n",
       "    }\n",
       "\n",
       "    .dataframe thead th {\n",
       "        text-align: right;\n",
       "    }\n",
       "</style>\n",
       "<table border=\"1\" class=\"dataframe\">\n",
       "  <thead>\n",
       "    <tr style=\"text-align: right;\">\n",
       "      <th></th>\n",
       "      <th>date</th>\n",
       "      <th>final.output.concentrate_ag</th>\n",
       "      <th>final.output.concentrate_pb</th>\n",
       "      <th>final.output.concentrate_sol</th>\n",
       "      <th>final.output.concentrate_au</th>\n",
       "      <th>final.output.recovery</th>\n",
       "      <th>final.output.tail_ag</th>\n",
       "      <th>final.output.tail_pb</th>\n",
       "      <th>final.output.tail_sol</th>\n",
       "      <th>final.output.tail_au</th>\n",
       "      <th>...</th>\n",
       "      <th>secondary_cleaner.state.floatbank4_a_air</th>\n",
       "      <th>secondary_cleaner.state.floatbank4_a_level</th>\n",
       "      <th>secondary_cleaner.state.floatbank4_b_air</th>\n",
       "      <th>secondary_cleaner.state.floatbank4_b_level</th>\n",
       "      <th>secondary_cleaner.state.floatbank5_a_air</th>\n",
       "      <th>secondary_cleaner.state.floatbank5_a_level</th>\n",
       "      <th>secondary_cleaner.state.floatbank5_b_air</th>\n",
       "      <th>secondary_cleaner.state.floatbank5_b_level</th>\n",
       "      <th>secondary_cleaner.state.floatbank6_a_air</th>\n",
       "      <th>secondary_cleaner.state.floatbank6_a_level</th>\n",
       "    </tr>\n",
       "  </thead>\n",
       "  <tbody>\n",
       "    <tr>\n",
       "      <th>0</th>\n",
       "      <td>2016-01-15 00:00:00</td>\n",
       "      <td>6.055403</td>\n",
       "      <td>9.889648</td>\n",
       "      <td>5.507324</td>\n",
       "      <td>42.192020</td>\n",
       "      <td>70.541216</td>\n",
       "      <td>10.411962</td>\n",
       "      <td>0.895447</td>\n",
       "      <td>16.904297</td>\n",
       "      <td>2.143149</td>\n",
       "      <td>...</td>\n",
       "      <td>14.016835</td>\n",
       "      <td>-502.488007</td>\n",
       "      <td>12.099931</td>\n",
       "      <td>-504.715942</td>\n",
       "      <td>9.925633</td>\n",
       "      <td>-498.310211</td>\n",
       "      <td>8.079666</td>\n",
       "      <td>-500.470978</td>\n",
       "      <td>14.151341</td>\n",
       "      <td>-605.841980</td>\n",
       "    </tr>\n",
       "    <tr>\n",
       "      <th>1</th>\n",
       "      <td>2016-01-15 01:00:00</td>\n",
       "      <td>6.029369</td>\n",
       "      <td>9.968944</td>\n",
       "      <td>5.257781</td>\n",
       "      <td>42.701629</td>\n",
       "      <td>69.266198</td>\n",
       "      <td>10.462676</td>\n",
       "      <td>0.927452</td>\n",
       "      <td>16.634514</td>\n",
       "      <td>2.224930</td>\n",
       "      <td>...</td>\n",
       "      <td>13.992281</td>\n",
       "      <td>-505.503262</td>\n",
       "      <td>11.950531</td>\n",
       "      <td>-501.331529</td>\n",
       "      <td>10.039245</td>\n",
       "      <td>-500.169983</td>\n",
       "      <td>7.984757</td>\n",
       "      <td>-500.582168</td>\n",
       "      <td>13.998353</td>\n",
       "      <td>-599.787184</td>\n",
       "    </tr>\n",
       "    <tr>\n",
       "      <th>2</th>\n",
       "      <td>2016-01-15 02:00:00</td>\n",
       "      <td>6.055926</td>\n",
       "      <td>10.213995</td>\n",
       "      <td>5.383759</td>\n",
       "      <td>42.657501</td>\n",
       "      <td>68.116445</td>\n",
       "      <td>10.507046</td>\n",
       "      <td>0.953716</td>\n",
       "      <td>16.208849</td>\n",
       "      <td>2.257889</td>\n",
       "      <td>...</td>\n",
       "      <td>14.015015</td>\n",
       "      <td>-502.520901</td>\n",
       "      <td>11.912783</td>\n",
       "      <td>-501.133383</td>\n",
       "      <td>10.070913</td>\n",
       "      <td>-500.129135</td>\n",
       "      <td>8.013877</td>\n",
       "      <td>-500.517572</td>\n",
       "      <td>14.028663</td>\n",
       "      <td>-601.427363</td>\n",
       "    </tr>\n",
       "    <tr>\n",
       "      <th>3</th>\n",
       "      <td>2016-01-15 03:00:00</td>\n",
       "      <td>6.047977</td>\n",
       "      <td>9.977019</td>\n",
       "      <td>4.858634</td>\n",
       "      <td>42.689819</td>\n",
       "      <td>68.347543</td>\n",
       "      <td>10.422762</td>\n",
       "      <td>0.883763</td>\n",
       "      <td>16.532835</td>\n",
       "      <td>2.146849</td>\n",
       "      <td>...</td>\n",
       "      <td>14.036510</td>\n",
       "      <td>-500.857308</td>\n",
       "      <td>11.999550</td>\n",
       "      <td>-501.193686</td>\n",
       "      <td>9.970366</td>\n",
       "      <td>-499.201640</td>\n",
       "      <td>7.977324</td>\n",
       "      <td>-500.255908</td>\n",
       "      <td>14.005551</td>\n",
       "      <td>-599.996129</td>\n",
       "    </tr>\n",
       "    <tr>\n",
       "      <th>4</th>\n",
       "      <td>2016-01-15 04:00:00</td>\n",
       "      <td>6.148599</td>\n",
       "      <td>10.142511</td>\n",
       "      <td>4.939416</td>\n",
       "      <td>42.774141</td>\n",
       "      <td>66.927016</td>\n",
       "      <td>10.360302</td>\n",
       "      <td>0.792826</td>\n",
       "      <td>16.525686</td>\n",
       "      <td>2.055292</td>\n",
       "      <td>...</td>\n",
       "      <td>14.027298</td>\n",
       "      <td>-499.838632</td>\n",
       "      <td>11.953070</td>\n",
       "      <td>-501.053894</td>\n",
       "      <td>9.925709</td>\n",
       "      <td>-501.686727</td>\n",
       "      <td>7.894242</td>\n",
       "      <td>-500.356035</td>\n",
       "      <td>13.996647</td>\n",
       "      <td>-601.496691</td>\n",
       "    </tr>\n",
       "  </tbody>\n",
       "</table>\n",
       "<p>5 rows × 87 columns</p>\n",
       "</div>"
      ],
      "text/plain": [
       "                  date  final.output.concentrate_ag  \\\n",
       "0  2016-01-15 00:00:00                     6.055403   \n",
       "1  2016-01-15 01:00:00                     6.029369   \n",
       "2  2016-01-15 02:00:00                     6.055926   \n",
       "3  2016-01-15 03:00:00                     6.047977   \n",
       "4  2016-01-15 04:00:00                     6.148599   \n",
       "\n",
       "   final.output.concentrate_pb  final.output.concentrate_sol  \\\n",
       "0                     9.889648                      5.507324   \n",
       "1                     9.968944                      5.257781   \n",
       "2                    10.213995                      5.383759   \n",
       "3                     9.977019                      4.858634   \n",
       "4                    10.142511                      4.939416   \n",
       "\n",
       "   final.output.concentrate_au  final.output.recovery  final.output.tail_ag  \\\n",
       "0                    42.192020              70.541216             10.411962   \n",
       "1                    42.701629              69.266198             10.462676   \n",
       "2                    42.657501              68.116445             10.507046   \n",
       "3                    42.689819              68.347543             10.422762   \n",
       "4                    42.774141              66.927016             10.360302   \n",
       "\n",
       "   final.output.tail_pb  final.output.tail_sol  final.output.tail_au  ...  \\\n",
       "0              0.895447              16.904297              2.143149  ...   \n",
       "1              0.927452              16.634514              2.224930  ...   \n",
       "2              0.953716              16.208849              2.257889  ...   \n",
       "3              0.883763              16.532835              2.146849  ...   \n",
       "4              0.792826              16.525686              2.055292  ...   \n",
       "\n",
       "   secondary_cleaner.state.floatbank4_a_air  \\\n",
       "0                                 14.016835   \n",
       "1                                 13.992281   \n",
       "2                                 14.015015   \n",
       "3                                 14.036510   \n",
       "4                                 14.027298   \n",
       "\n",
       "   secondary_cleaner.state.floatbank4_a_level  \\\n",
       "0                                 -502.488007   \n",
       "1                                 -505.503262   \n",
       "2                                 -502.520901   \n",
       "3                                 -500.857308   \n",
       "4                                 -499.838632   \n",
       "\n",
       "   secondary_cleaner.state.floatbank4_b_air  \\\n",
       "0                                 12.099931   \n",
       "1                                 11.950531   \n",
       "2                                 11.912783   \n",
       "3                                 11.999550   \n",
       "4                                 11.953070   \n",
       "\n",
       "   secondary_cleaner.state.floatbank4_b_level  \\\n",
       "0                                 -504.715942   \n",
       "1                                 -501.331529   \n",
       "2                                 -501.133383   \n",
       "3                                 -501.193686   \n",
       "4                                 -501.053894   \n",
       "\n",
       "   secondary_cleaner.state.floatbank5_a_air  \\\n",
       "0                                  9.925633   \n",
       "1                                 10.039245   \n",
       "2                                 10.070913   \n",
       "3                                  9.970366   \n",
       "4                                  9.925709   \n",
       "\n",
       "   secondary_cleaner.state.floatbank5_a_level  \\\n",
       "0                                 -498.310211   \n",
       "1                                 -500.169983   \n",
       "2                                 -500.129135   \n",
       "3                                 -499.201640   \n",
       "4                                 -501.686727   \n",
       "\n",
       "   secondary_cleaner.state.floatbank5_b_air  \\\n",
       "0                                  8.079666   \n",
       "1                                  7.984757   \n",
       "2                                  8.013877   \n",
       "3                                  7.977324   \n",
       "4                                  7.894242   \n",
       "\n",
       "   secondary_cleaner.state.floatbank5_b_level  \\\n",
       "0                                 -500.470978   \n",
       "1                                 -500.582168   \n",
       "2                                 -500.517572   \n",
       "3                                 -500.255908   \n",
       "4                                 -500.356035   \n",
       "\n",
       "   secondary_cleaner.state.floatbank6_a_air  \\\n",
       "0                                 14.151341   \n",
       "1                                 13.998353   \n",
       "2                                 14.028663   \n",
       "3                                 14.005551   \n",
       "4                                 13.996647   \n",
       "\n",
       "   secondary_cleaner.state.floatbank6_a_level  \n",
       "0                                 -605.841980  \n",
       "1                                 -599.787184  \n",
       "2                                 -601.427363  \n",
       "3                                 -599.996129  \n",
       "4                                 -601.496691  \n",
       "\n",
       "[5 rows x 87 columns]"
      ]
     },
     "metadata": {},
     "output_type": "display_data"
    },
    {
     "name": "stdout",
     "output_type": "stream",
     "text": [
      "<class 'pandas.core.frame.DataFrame'>\n",
      "RangeIndex: 14149 entries, 0 to 14148\n",
      "Data columns (total 87 columns):\n",
      " #   Column                                              Non-Null Count  Dtype  \n",
      "---  ------                                              --------------  -----  \n",
      " 0   date                                                14149 non-null  object \n",
      " 1   final.output.concentrate_ag                         14148 non-null  float64\n",
      " 2   final.output.concentrate_pb                         14148 non-null  float64\n",
      " 3   final.output.concentrate_sol                        13938 non-null  float64\n",
      " 4   final.output.concentrate_au                         14149 non-null  float64\n",
      " 5   final.output.recovery                               14149 non-null  float64\n",
      " 6   final.output.tail_ag                                14149 non-null  float64\n",
      " 7   final.output.tail_pb                                14049 non-null  float64\n",
      " 8   final.output.tail_sol                               14144 non-null  float64\n",
      " 9   final.output.tail_au                                14149 non-null  float64\n",
      " 10  primary_cleaner.input.sulfate                       14129 non-null  float64\n",
      " 11  primary_cleaner.input.depressant                    14117 non-null  float64\n",
      " 12  primary_cleaner.input.feed_size                     14149 non-null  float64\n",
      " 13  primary_cleaner.input.xanthate                      14049 non-null  float64\n",
      " 14  primary_cleaner.output.concentrate_ag               14149 non-null  float64\n",
      " 15  primary_cleaner.output.concentrate_pb               14063 non-null  float64\n",
      " 16  primary_cleaner.output.concentrate_sol              13863 non-null  float64\n",
      " 17  primary_cleaner.output.concentrate_au               14149 non-null  float64\n",
      " 18  primary_cleaner.output.tail_ag                      14148 non-null  float64\n",
      " 19  primary_cleaner.output.tail_pb                      14134 non-null  float64\n",
      " 20  primary_cleaner.output.tail_sol                     14103 non-null  float64\n",
      " 21  primary_cleaner.output.tail_au                      14149 non-null  float64\n",
      " 22  primary_cleaner.state.floatbank8_a_air              14145 non-null  float64\n",
      " 23  primary_cleaner.state.floatbank8_a_level            14148 non-null  float64\n",
      " 24  primary_cleaner.state.floatbank8_b_air              14145 non-null  float64\n",
      " 25  primary_cleaner.state.floatbank8_b_level            14148 non-null  float64\n",
      " 26  primary_cleaner.state.floatbank8_c_air              14147 non-null  float64\n",
      " 27  primary_cleaner.state.floatbank8_c_level            14148 non-null  float64\n",
      " 28  primary_cleaner.state.floatbank8_d_air              14146 non-null  float64\n",
      " 29  primary_cleaner.state.floatbank8_d_level            14148 non-null  float64\n",
      " 30  rougher.calculation.sulfate_to_au_concentrate       14148 non-null  float64\n",
      " 31  rougher.calculation.floatbank10_sulfate_to_au_feed  14148 non-null  float64\n",
      " 32  rougher.calculation.floatbank11_sulfate_to_au_feed  14148 non-null  float64\n",
      " 33  rougher.calculation.au_pb_ratio                     14149 non-null  float64\n",
      " 34  rougher.input.feed_ag                               14149 non-null  float64\n",
      " 35  rougher.input.feed_pb                               14049 non-null  float64\n",
      " 36  rougher.input.feed_rate                             14141 non-null  float64\n",
      " 37  rougher.input.feed_size                             14005 non-null  float64\n",
      " 38  rougher.input.feed_sol                              14071 non-null  float64\n",
      " 39  rougher.input.feed_au                               14149 non-null  float64\n",
      " 40  rougher.input.floatbank10_sulfate                   14120 non-null  float64\n",
      " 41  rougher.input.floatbank10_xanthate                  14141 non-null  float64\n",
      " 42  rougher.input.floatbank11_sulfate                   14113 non-null  float64\n",
      " 43  rougher.input.floatbank11_xanthate                  13721 non-null  float64\n",
      " 44  rougher.output.concentrate_ag                       14149 non-null  float64\n",
      " 45  rougher.output.concentrate_pb                       14149 non-null  float64\n",
      " 46  rougher.output.concentrate_sol                      14127 non-null  float64\n",
      " 47  rougher.output.concentrate_au                       14149 non-null  float64\n",
      " 48  rougher.output.recovery                             14149 non-null  float64\n",
      " 49  rougher.output.tail_ag                              14148 non-null  float64\n",
      " 50  rougher.output.tail_pb                              14149 non-null  float64\n",
      " 51  rougher.output.tail_sol                             14149 non-null  float64\n",
      " 52  rougher.output.tail_au                              14149 non-null  float64\n",
      " 53  rougher.state.floatbank10_a_air                     14148 non-null  float64\n",
      " 54  rougher.state.floatbank10_a_level                   14148 non-null  float64\n",
      " 55  rougher.state.floatbank10_b_air                     14148 non-null  float64\n",
      " 56  rougher.state.floatbank10_b_level                   14148 non-null  float64\n",
      " 57  rougher.state.floatbank10_c_air                     14148 non-null  float64\n",
      " 58  rougher.state.floatbank10_c_level                   14148 non-null  float64\n",
      " 59  rougher.state.floatbank10_d_air                     14149 non-null  float64\n",
      " 60  rougher.state.floatbank10_d_level                   14149 non-null  float64\n",
      " 61  rougher.state.floatbank10_e_air                     13713 non-null  float64\n",
      " 62  rougher.state.floatbank10_e_level                   14149 non-null  float64\n",
      " 63  rougher.state.floatbank10_f_air                     14149 non-null  float64\n",
      " 64  rougher.state.floatbank10_f_level                   14149 non-null  float64\n",
      " 65  secondary_cleaner.output.tail_ag                    14147 non-null  float64\n",
      " 66  secondary_cleaner.output.tail_pb                    14139 non-null  float64\n",
      " 67  secondary_cleaner.output.tail_sol                   12544 non-null  float64\n",
      " 68  secondary_cleaner.output.tail_au                    14149 non-null  float64\n",
      " 69  secondary_cleaner.state.floatbank2_a_air            13932 non-null  float64\n",
      " 70  secondary_cleaner.state.floatbank2_a_level          14148 non-null  float64\n",
      " 71  secondary_cleaner.state.floatbank2_b_air            14128 non-null  float64\n",
      " 72  secondary_cleaner.state.floatbank2_b_level          14148 non-null  float64\n",
      " 73  secondary_cleaner.state.floatbank3_a_air            14145 non-null  float64\n",
      " 74  secondary_cleaner.state.floatbank3_a_level          14148 non-null  float64\n",
      " 75  secondary_cleaner.state.floatbank3_b_air            14148 non-null  float64\n",
      " 76  secondary_cleaner.state.floatbank3_b_level          14148 non-null  float64\n",
      " 77  secondary_cleaner.state.floatbank4_a_air            14143 non-null  float64\n",
      " 78  secondary_cleaner.state.floatbank4_a_level          14148 non-null  float64\n",
      " 79  secondary_cleaner.state.floatbank4_b_air            14148 non-null  float64\n",
      " 80  secondary_cleaner.state.floatbank4_b_level          14148 non-null  float64\n",
      " 81  secondary_cleaner.state.floatbank5_a_air            14148 non-null  float64\n",
      " 82  secondary_cleaner.state.floatbank5_a_level          14148 non-null  float64\n",
      " 83  secondary_cleaner.state.floatbank5_b_air            14148 non-null  float64\n",
      " 84  secondary_cleaner.state.floatbank5_b_level          14148 non-null  float64\n",
      " 85  secondary_cleaner.state.floatbank6_a_air            14147 non-null  float64\n",
      " 86  secondary_cleaner.state.floatbank6_a_level          14148 non-null  float64\n",
      "dtypes: float64(86), object(1)\n",
      "memory usage: 9.4+ MB\n",
      "\n",
      "Дубликатов: 0\n"
     ]
    }
   ],
   "source": [
    "first_look(df_train)"
   ]
  },
  {
   "cell_type": "code",
   "execution_count": 4,
   "metadata": {},
   "outputs": [
    {
     "data": {
      "text/html": [
       "<div>\n",
       "<style scoped>\n",
       "    .dataframe tbody tr th:only-of-type {\n",
       "        vertical-align: middle;\n",
       "    }\n",
       "\n",
       "    .dataframe tbody tr th {\n",
       "        vertical-align: top;\n",
       "    }\n",
       "\n",
       "    .dataframe thead th {\n",
       "        text-align: right;\n",
       "    }\n",
       "</style>\n",
       "<table border=\"1\" class=\"dataframe\">\n",
       "  <thead>\n",
       "    <tr style=\"text-align: right;\">\n",
       "      <th></th>\n",
       "      <th>date</th>\n",
       "      <th>primary_cleaner.input.sulfate</th>\n",
       "      <th>primary_cleaner.input.depressant</th>\n",
       "      <th>primary_cleaner.input.feed_size</th>\n",
       "      <th>primary_cleaner.input.xanthate</th>\n",
       "      <th>primary_cleaner.state.floatbank8_a_air</th>\n",
       "      <th>primary_cleaner.state.floatbank8_a_level</th>\n",
       "      <th>primary_cleaner.state.floatbank8_b_air</th>\n",
       "      <th>primary_cleaner.state.floatbank8_b_level</th>\n",
       "      <th>primary_cleaner.state.floatbank8_c_air</th>\n",
       "      <th>...</th>\n",
       "      <th>secondary_cleaner.state.floatbank4_a_air</th>\n",
       "      <th>secondary_cleaner.state.floatbank4_a_level</th>\n",
       "      <th>secondary_cleaner.state.floatbank4_b_air</th>\n",
       "      <th>secondary_cleaner.state.floatbank4_b_level</th>\n",
       "      <th>secondary_cleaner.state.floatbank5_a_air</th>\n",
       "      <th>secondary_cleaner.state.floatbank5_a_level</th>\n",
       "      <th>secondary_cleaner.state.floatbank5_b_air</th>\n",
       "      <th>secondary_cleaner.state.floatbank5_b_level</th>\n",
       "      <th>secondary_cleaner.state.floatbank6_a_air</th>\n",
       "      <th>secondary_cleaner.state.floatbank6_a_level</th>\n",
       "    </tr>\n",
       "  </thead>\n",
       "  <tbody>\n",
       "    <tr>\n",
       "      <th>0</th>\n",
       "      <td>2016-09-01 00:59:59</td>\n",
       "      <td>210.800909</td>\n",
       "      <td>14.993118</td>\n",
       "      <td>8.080000</td>\n",
       "      <td>1.005021</td>\n",
       "      <td>1398.981301</td>\n",
       "      <td>-500.225577</td>\n",
       "      <td>1399.144926</td>\n",
       "      <td>-499.919735</td>\n",
       "      <td>1400.102998</td>\n",
       "      <td>...</td>\n",
       "      <td>12.023554</td>\n",
       "      <td>-497.795834</td>\n",
       "      <td>8.016656</td>\n",
       "      <td>-501.289139</td>\n",
       "      <td>7.946562</td>\n",
       "      <td>-432.317850</td>\n",
       "      <td>4.872511</td>\n",
       "      <td>-500.037437</td>\n",
       "      <td>26.705889</td>\n",
       "      <td>-499.709414</td>\n",
       "    </tr>\n",
       "    <tr>\n",
       "      <th>1</th>\n",
       "      <td>2016-09-01 01:59:59</td>\n",
       "      <td>215.392455</td>\n",
       "      <td>14.987471</td>\n",
       "      <td>8.080000</td>\n",
       "      <td>0.990469</td>\n",
       "      <td>1398.777912</td>\n",
       "      <td>-500.057435</td>\n",
       "      <td>1398.055362</td>\n",
       "      <td>-499.778182</td>\n",
       "      <td>1396.151033</td>\n",
       "      <td>...</td>\n",
       "      <td>12.058140</td>\n",
       "      <td>-498.695773</td>\n",
       "      <td>8.130979</td>\n",
       "      <td>-499.634209</td>\n",
       "      <td>7.958270</td>\n",
       "      <td>-525.839648</td>\n",
       "      <td>4.878850</td>\n",
       "      <td>-500.162375</td>\n",
       "      <td>25.019940</td>\n",
       "      <td>-499.819438</td>\n",
       "    </tr>\n",
       "    <tr>\n",
       "      <th>2</th>\n",
       "      <td>2016-09-01 02:59:59</td>\n",
       "      <td>215.259946</td>\n",
       "      <td>12.884934</td>\n",
       "      <td>7.786667</td>\n",
       "      <td>0.996043</td>\n",
       "      <td>1398.493666</td>\n",
       "      <td>-500.868360</td>\n",
       "      <td>1398.860436</td>\n",
       "      <td>-499.764529</td>\n",
       "      <td>1398.075709</td>\n",
       "      <td>...</td>\n",
       "      <td>11.962366</td>\n",
       "      <td>-498.767484</td>\n",
       "      <td>8.096893</td>\n",
       "      <td>-500.827423</td>\n",
       "      <td>8.071056</td>\n",
       "      <td>-500.801673</td>\n",
       "      <td>4.905125</td>\n",
       "      <td>-499.828510</td>\n",
       "      <td>24.994862</td>\n",
       "      <td>-500.622559</td>\n",
       "    </tr>\n",
       "    <tr>\n",
       "      <th>3</th>\n",
       "      <td>2016-09-01 03:59:59</td>\n",
       "      <td>215.336236</td>\n",
       "      <td>12.006805</td>\n",
       "      <td>7.640000</td>\n",
       "      <td>0.863514</td>\n",
       "      <td>1399.618111</td>\n",
       "      <td>-498.863574</td>\n",
       "      <td>1397.440120</td>\n",
       "      <td>-499.211024</td>\n",
       "      <td>1400.129303</td>\n",
       "      <td>...</td>\n",
       "      <td>12.033091</td>\n",
       "      <td>-498.350935</td>\n",
       "      <td>8.074946</td>\n",
       "      <td>-499.474407</td>\n",
       "      <td>7.897085</td>\n",
       "      <td>-500.868509</td>\n",
       "      <td>4.931400</td>\n",
       "      <td>-499.963623</td>\n",
       "      <td>24.948919</td>\n",
       "      <td>-498.709987</td>\n",
       "    </tr>\n",
       "    <tr>\n",
       "      <th>4</th>\n",
       "      <td>2016-09-01 04:59:59</td>\n",
       "      <td>199.099327</td>\n",
       "      <td>10.682530</td>\n",
       "      <td>7.530000</td>\n",
       "      <td>0.805575</td>\n",
       "      <td>1401.268123</td>\n",
       "      <td>-500.808305</td>\n",
       "      <td>1398.128818</td>\n",
       "      <td>-499.504543</td>\n",
       "      <td>1402.172226</td>\n",
       "      <td>...</td>\n",
       "      <td>12.025367</td>\n",
       "      <td>-500.786497</td>\n",
       "      <td>8.054678</td>\n",
       "      <td>-500.397500</td>\n",
       "      <td>8.107890</td>\n",
       "      <td>-509.526725</td>\n",
       "      <td>4.957674</td>\n",
       "      <td>-500.360026</td>\n",
       "      <td>25.003331</td>\n",
       "      <td>-500.856333</td>\n",
       "    </tr>\n",
       "  </tbody>\n",
       "</table>\n",
       "<p>5 rows × 53 columns</p>\n",
       "</div>"
      ],
      "text/plain": [
       "                  date  primary_cleaner.input.sulfate  \\\n",
       "0  2016-09-01 00:59:59                     210.800909   \n",
       "1  2016-09-01 01:59:59                     215.392455   \n",
       "2  2016-09-01 02:59:59                     215.259946   \n",
       "3  2016-09-01 03:59:59                     215.336236   \n",
       "4  2016-09-01 04:59:59                     199.099327   \n",
       "\n",
       "   primary_cleaner.input.depressant  primary_cleaner.input.feed_size  \\\n",
       "0                         14.993118                         8.080000   \n",
       "1                         14.987471                         8.080000   \n",
       "2                         12.884934                         7.786667   \n",
       "3                         12.006805                         7.640000   \n",
       "4                         10.682530                         7.530000   \n",
       "\n",
       "   primary_cleaner.input.xanthate  primary_cleaner.state.floatbank8_a_air  \\\n",
       "0                        1.005021                             1398.981301   \n",
       "1                        0.990469                             1398.777912   \n",
       "2                        0.996043                             1398.493666   \n",
       "3                        0.863514                             1399.618111   \n",
       "4                        0.805575                             1401.268123   \n",
       "\n",
       "   primary_cleaner.state.floatbank8_a_level  \\\n",
       "0                               -500.225577   \n",
       "1                               -500.057435   \n",
       "2                               -500.868360   \n",
       "3                               -498.863574   \n",
       "4                               -500.808305   \n",
       "\n",
       "   primary_cleaner.state.floatbank8_b_air  \\\n",
       "0                             1399.144926   \n",
       "1                             1398.055362   \n",
       "2                             1398.860436   \n",
       "3                             1397.440120   \n",
       "4                             1398.128818   \n",
       "\n",
       "   primary_cleaner.state.floatbank8_b_level  \\\n",
       "0                               -499.919735   \n",
       "1                               -499.778182   \n",
       "2                               -499.764529   \n",
       "3                               -499.211024   \n",
       "4                               -499.504543   \n",
       "\n",
       "   primary_cleaner.state.floatbank8_c_air  ...  \\\n",
       "0                             1400.102998  ...   \n",
       "1                             1396.151033  ...   \n",
       "2                             1398.075709  ...   \n",
       "3                             1400.129303  ...   \n",
       "4                             1402.172226  ...   \n",
       "\n",
       "   secondary_cleaner.state.floatbank4_a_air  \\\n",
       "0                                 12.023554   \n",
       "1                                 12.058140   \n",
       "2                                 11.962366   \n",
       "3                                 12.033091   \n",
       "4                                 12.025367   \n",
       "\n",
       "   secondary_cleaner.state.floatbank4_a_level  \\\n",
       "0                                 -497.795834   \n",
       "1                                 -498.695773   \n",
       "2                                 -498.767484   \n",
       "3                                 -498.350935   \n",
       "4                                 -500.786497   \n",
       "\n",
       "   secondary_cleaner.state.floatbank4_b_air  \\\n",
       "0                                  8.016656   \n",
       "1                                  8.130979   \n",
       "2                                  8.096893   \n",
       "3                                  8.074946   \n",
       "4                                  8.054678   \n",
       "\n",
       "   secondary_cleaner.state.floatbank4_b_level  \\\n",
       "0                                 -501.289139   \n",
       "1                                 -499.634209   \n",
       "2                                 -500.827423   \n",
       "3                                 -499.474407   \n",
       "4                                 -500.397500   \n",
       "\n",
       "   secondary_cleaner.state.floatbank5_a_air  \\\n",
       "0                                  7.946562   \n",
       "1                                  7.958270   \n",
       "2                                  8.071056   \n",
       "3                                  7.897085   \n",
       "4                                  8.107890   \n",
       "\n",
       "   secondary_cleaner.state.floatbank5_a_level  \\\n",
       "0                                 -432.317850   \n",
       "1                                 -525.839648   \n",
       "2                                 -500.801673   \n",
       "3                                 -500.868509   \n",
       "4                                 -509.526725   \n",
       "\n",
       "   secondary_cleaner.state.floatbank5_b_air  \\\n",
       "0                                  4.872511   \n",
       "1                                  4.878850   \n",
       "2                                  4.905125   \n",
       "3                                  4.931400   \n",
       "4                                  4.957674   \n",
       "\n",
       "   secondary_cleaner.state.floatbank5_b_level  \\\n",
       "0                                 -500.037437   \n",
       "1                                 -500.162375   \n",
       "2                                 -499.828510   \n",
       "3                                 -499.963623   \n",
       "4                                 -500.360026   \n",
       "\n",
       "   secondary_cleaner.state.floatbank6_a_air  \\\n",
       "0                                 26.705889   \n",
       "1                                 25.019940   \n",
       "2                                 24.994862   \n",
       "3                                 24.948919   \n",
       "4                                 25.003331   \n",
       "\n",
       "   secondary_cleaner.state.floatbank6_a_level  \n",
       "0                                 -499.709414  \n",
       "1                                 -499.819438  \n",
       "2                                 -500.622559  \n",
       "3                                 -498.709987  \n",
       "4                                 -500.856333  \n",
       "\n",
       "[5 rows x 53 columns]"
      ]
     },
     "metadata": {},
     "output_type": "display_data"
    },
    {
     "name": "stdout",
     "output_type": "stream",
     "text": [
      "<class 'pandas.core.frame.DataFrame'>\n",
      "RangeIndex: 5290 entries, 0 to 5289\n",
      "Data columns (total 53 columns):\n",
      " #   Column                                      Non-Null Count  Dtype  \n",
      "---  ------                                      --------------  -----  \n",
      " 0   date                                        5290 non-null   object \n",
      " 1   primary_cleaner.input.sulfate               5286 non-null   float64\n",
      " 2   primary_cleaner.input.depressant            5285 non-null   float64\n",
      " 3   primary_cleaner.input.feed_size             5290 non-null   float64\n",
      " 4   primary_cleaner.input.xanthate              5286 non-null   float64\n",
      " 5   primary_cleaner.state.floatbank8_a_air      5290 non-null   float64\n",
      " 6   primary_cleaner.state.floatbank8_a_level    5290 non-null   float64\n",
      " 7   primary_cleaner.state.floatbank8_b_air      5290 non-null   float64\n",
      " 8   primary_cleaner.state.floatbank8_b_level    5290 non-null   float64\n",
      " 9   primary_cleaner.state.floatbank8_c_air      5290 non-null   float64\n",
      " 10  primary_cleaner.state.floatbank8_c_level    5290 non-null   float64\n",
      " 11  primary_cleaner.state.floatbank8_d_air      5290 non-null   float64\n",
      " 12  primary_cleaner.state.floatbank8_d_level    5290 non-null   float64\n",
      " 13  rougher.input.feed_ag                       5290 non-null   float64\n",
      " 14  rougher.input.feed_pb                       5290 non-null   float64\n",
      " 15  rougher.input.feed_rate                     5287 non-null   float64\n",
      " 16  rougher.input.feed_size                     5289 non-null   float64\n",
      " 17  rougher.input.feed_sol                      5269 non-null   float64\n",
      " 18  rougher.input.feed_au                       5290 non-null   float64\n",
      " 19  rougher.input.floatbank10_sulfate           5285 non-null   float64\n",
      " 20  rougher.input.floatbank10_xanthate          5290 non-null   float64\n",
      " 21  rougher.input.floatbank11_sulfate           5282 non-null   float64\n",
      " 22  rougher.input.floatbank11_xanthate          5265 non-null   float64\n",
      " 23  rougher.state.floatbank10_a_air             5290 non-null   float64\n",
      " 24  rougher.state.floatbank10_a_level           5290 non-null   float64\n",
      " 25  rougher.state.floatbank10_b_air             5290 non-null   float64\n",
      " 26  rougher.state.floatbank10_b_level           5290 non-null   float64\n",
      " 27  rougher.state.floatbank10_c_air             5290 non-null   float64\n",
      " 28  rougher.state.floatbank10_c_level           5290 non-null   float64\n",
      " 29  rougher.state.floatbank10_d_air             5290 non-null   float64\n",
      " 30  rougher.state.floatbank10_d_level           5290 non-null   float64\n",
      " 31  rougher.state.floatbank10_e_air             5290 non-null   float64\n",
      " 32  rougher.state.floatbank10_e_level           5290 non-null   float64\n",
      " 33  rougher.state.floatbank10_f_air             5290 non-null   float64\n",
      " 34  rougher.state.floatbank10_f_level           5290 non-null   float64\n",
      " 35  secondary_cleaner.state.floatbank2_a_air    5287 non-null   float64\n",
      " 36  secondary_cleaner.state.floatbank2_a_level  5290 non-null   float64\n",
      " 37  secondary_cleaner.state.floatbank2_b_air    5288 non-null   float64\n",
      " 38  secondary_cleaner.state.floatbank2_b_level  5290 non-null   float64\n",
      " 39  secondary_cleaner.state.floatbank3_a_air    5281 non-null   float64\n",
      " 40  secondary_cleaner.state.floatbank3_a_level  5290 non-null   float64\n",
      " 41  secondary_cleaner.state.floatbank3_b_air    5290 non-null   float64\n",
      " 42  secondary_cleaner.state.floatbank3_b_level  5290 non-null   float64\n",
      " 43  secondary_cleaner.state.floatbank4_a_air    5290 non-null   float64\n",
      " 44  secondary_cleaner.state.floatbank4_a_level  5290 non-null   float64\n",
      " 45  secondary_cleaner.state.floatbank4_b_air    5290 non-null   float64\n",
      " 46  secondary_cleaner.state.floatbank4_b_level  5290 non-null   float64\n",
      " 47  secondary_cleaner.state.floatbank5_a_air    5290 non-null   float64\n",
      " 48  secondary_cleaner.state.floatbank5_a_level  5290 non-null   float64\n",
      " 49  secondary_cleaner.state.floatbank5_b_air    5290 non-null   float64\n",
      " 50  secondary_cleaner.state.floatbank5_b_level  5290 non-null   float64\n",
      " 51  secondary_cleaner.state.floatbank6_a_air    5290 non-null   float64\n",
      " 52  secondary_cleaner.state.floatbank6_a_level  5290 non-null   float64\n",
      "dtypes: float64(52), object(1)\n",
      "memory usage: 2.1+ MB\n",
      "\n",
      "Дубликатов: 0\n"
     ]
    }
   ],
   "source": [
    "first_look(df_test)"
   ]
  },
  {
   "cell_type": "code",
   "execution_count": 5,
   "metadata": {
    "scrolled": false
   },
   "outputs": [
    {
     "data": {
      "text/html": [
       "<div>\n",
       "<style scoped>\n",
       "    .dataframe tbody tr th:only-of-type {\n",
       "        vertical-align: middle;\n",
       "    }\n",
       "\n",
       "    .dataframe tbody tr th {\n",
       "        vertical-align: top;\n",
       "    }\n",
       "\n",
       "    .dataframe thead th {\n",
       "        text-align: right;\n",
       "    }\n",
       "</style>\n",
       "<table border=\"1\" class=\"dataframe\">\n",
       "  <thead>\n",
       "    <tr style=\"text-align: right;\">\n",
       "      <th></th>\n",
       "      <th>date</th>\n",
       "      <th>final.output.concentrate_ag</th>\n",
       "      <th>final.output.concentrate_pb</th>\n",
       "      <th>final.output.concentrate_sol</th>\n",
       "      <th>final.output.concentrate_au</th>\n",
       "      <th>final.output.recovery</th>\n",
       "      <th>final.output.tail_ag</th>\n",
       "      <th>final.output.tail_pb</th>\n",
       "      <th>final.output.tail_sol</th>\n",
       "      <th>final.output.tail_au</th>\n",
       "      <th>...</th>\n",
       "      <th>secondary_cleaner.state.floatbank4_a_air</th>\n",
       "      <th>secondary_cleaner.state.floatbank4_a_level</th>\n",
       "      <th>secondary_cleaner.state.floatbank4_b_air</th>\n",
       "      <th>secondary_cleaner.state.floatbank4_b_level</th>\n",
       "      <th>secondary_cleaner.state.floatbank5_a_air</th>\n",
       "      <th>secondary_cleaner.state.floatbank5_a_level</th>\n",
       "      <th>secondary_cleaner.state.floatbank5_b_air</th>\n",
       "      <th>secondary_cleaner.state.floatbank5_b_level</th>\n",
       "      <th>secondary_cleaner.state.floatbank6_a_air</th>\n",
       "      <th>secondary_cleaner.state.floatbank6_a_level</th>\n",
       "    </tr>\n",
       "  </thead>\n",
       "  <tbody>\n",
       "    <tr>\n",
       "      <th>0</th>\n",
       "      <td>2016-01-15 00:00:00</td>\n",
       "      <td>6.055403</td>\n",
       "      <td>9.889648</td>\n",
       "      <td>5.507324</td>\n",
       "      <td>42.192020</td>\n",
       "      <td>70.541216</td>\n",
       "      <td>10.411962</td>\n",
       "      <td>0.895447</td>\n",
       "      <td>16.904297</td>\n",
       "      <td>2.143149</td>\n",
       "      <td>...</td>\n",
       "      <td>14.016835</td>\n",
       "      <td>-502.488007</td>\n",
       "      <td>12.099931</td>\n",
       "      <td>-504.715942</td>\n",
       "      <td>9.925633</td>\n",
       "      <td>-498.310211</td>\n",
       "      <td>8.079666</td>\n",
       "      <td>-500.470978</td>\n",
       "      <td>14.151341</td>\n",
       "      <td>-605.841980</td>\n",
       "    </tr>\n",
       "    <tr>\n",
       "      <th>1</th>\n",
       "      <td>2016-01-15 01:00:00</td>\n",
       "      <td>6.029369</td>\n",
       "      <td>9.968944</td>\n",
       "      <td>5.257781</td>\n",
       "      <td>42.701629</td>\n",
       "      <td>69.266198</td>\n",
       "      <td>10.462676</td>\n",
       "      <td>0.927452</td>\n",
       "      <td>16.634514</td>\n",
       "      <td>2.224930</td>\n",
       "      <td>...</td>\n",
       "      <td>13.992281</td>\n",
       "      <td>-505.503262</td>\n",
       "      <td>11.950531</td>\n",
       "      <td>-501.331529</td>\n",
       "      <td>10.039245</td>\n",
       "      <td>-500.169983</td>\n",
       "      <td>7.984757</td>\n",
       "      <td>-500.582168</td>\n",
       "      <td>13.998353</td>\n",
       "      <td>-599.787184</td>\n",
       "    </tr>\n",
       "    <tr>\n",
       "      <th>2</th>\n",
       "      <td>2016-01-15 02:00:00</td>\n",
       "      <td>6.055926</td>\n",
       "      <td>10.213995</td>\n",
       "      <td>5.383759</td>\n",
       "      <td>42.657501</td>\n",
       "      <td>68.116445</td>\n",
       "      <td>10.507046</td>\n",
       "      <td>0.953716</td>\n",
       "      <td>16.208849</td>\n",
       "      <td>2.257889</td>\n",
       "      <td>...</td>\n",
       "      <td>14.015015</td>\n",
       "      <td>-502.520901</td>\n",
       "      <td>11.912783</td>\n",
       "      <td>-501.133383</td>\n",
       "      <td>10.070913</td>\n",
       "      <td>-500.129135</td>\n",
       "      <td>8.013877</td>\n",
       "      <td>-500.517572</td>\n",
       "      <td>14.028663</td>\n",
       "      <td>-601.427363</td>\n",
       "    </tr>\n",
       "    <tr>\n",
       "      <th>3</th>\n",
       "      <td>2016-01-15 03:00:00</td>\n",
       "      <td>6.047977</td>\n",
       "      <td>9.977019</td>\n",
       "      <td>4.858634</td>\n",
       "      <td>42.689819</td>\n",
       "      <td>68.347543</td>\n",
       "      <td>10.422762</td>\n",
       "      <td>0.883763</td>\n",
       "      <td>16.532835</td>\n",
       "      <td>2.146849</td>\n",
       "      <td>...</td>\n",
       "      <td>14.036510</td>\n",
       "      <td>-500.857308</td>\n",
       "      <td>11.999550</td>\n",
       "      <td>-501.193686</td>\n",
       "      <td>9.970366</td>\n",
       "      <td>-499.201640</td>\n",
       "      <td>7.977324</td>\n",
       "      <td>-500.255908</td>\n",
       "      <td>14.005551</td>\n",
       "      <td>-599.996129</td>\n",
       "    </tr>\n",
       "    <tr>\n",
       "      <th>4</th>\n",
       "      <td>2016-01-15 04:00:00</td>\n",
       "      <td>6.148599</td>\n",
       "      <td>10.142511</td>\n",
       "      <td>4.939416</td>\n",
       "      <td>42.774141</td>\n",
       "      <td>66.927016</td>\n",
       "      <td>10.360302</td>\n",
       "      <td>0.792826</td>\n",
       "      <td>16.525686</td>\n",
       "      <td>2.055292</td>\n",
       "      <td>...</td>\n",
       "      <td>14.027298</td>\n",
       "      <td>-499.838632</td>\n",
       "      <td>11.953070</td>\n",
       "      <td>-501.053894</td>\n",
       "      <td>9.925709</td>\n",
       "      <td>-501.686727</td>\n",
       "      <td>7.894242</td>\n",
       "      <td>-500.356035</td>\n",
       "      <td>13.996647</td>\n",
       "      <td>-601.496691</td>\n",
       "    </tr>\n",
       "  </tbody>\n",
       "</table>\n",
       "<p>5 rows × 87 columns</p>\n",
       "</div>"
      ],
      "text/plain": [
       "                  date  final.output.concentrate_ag  \\\n",
       "0  2016-01-15 00:00:00                     6.055403   \n",
       "1  2016-01-15 01:00:00                     6.029369   \n",
       "2  2016-01-15 02:00:00                     6.055926   \n",
       "3  2016-01-15 03:00:00                     6.047977   \n",
       "4  2016-01-15 04:00:00                     6.148599   \n",
       "\n",
       "   final.output.concentrate_pb  final.output.concentrate_sol  \\\n",
       "0                     9.889648                      5.507324   \n",
       "1                     9.968944                      5.257781   \n",
       "2                    10.213995                      5.383759   \n",
       "3                     9.977019                      4.858634   \n",
       "4                    10.142511                      4.939416   \n",
       "\n",
       "   final.output.concentrate_au  final.output.recovery  final.output.tail_ag  \\\n",
       "0                    42.192020              70.541216             10.411962   \n",
       "1                    42.701629              69.266198             10.462676   \n",
       "2                    42.657501              68.116445             10.507046   \n",
       "3                    42.689819              68.347543             10.422762   \n",
       "4                    42.774141              66.927016             10.360302   \n",
       "\n",
       "   final.output.tail_pb  final.output.tail_sol  final.output.tail_au  ...  \\\n",
       "0              0.895447              16.904297              2.143149  ...   \n",
       "1              0.927452              16.634514              2.224930  ...   \n",
       "2              0.953716              16.208849              2.257889  ...   \n",
       "3              0.883763              16.532835              2.146849  ...   \n",
       "4              0.792826              16.525686              2.055292  ...   \n",
       "\n",
       "   secondary_cleaner.state.floatbank4_a_air  \\\n",
       "0                                 14.016835   \n",
       "1                                 13.992281   \n",
       "2                                 14.015015   \n",
       "3                                 14.036510   \n",
       "4                                 14.027298   \n",
       "\n",
       "   secondary_cleaner.state.floatbank4_a_level  \\\n",
       "0                                 -502.488007   \n",
       "1                                 -505.503262   \n",
       "2                                 -502.520901   \n",
       "3                                 -500.857308   \n",
       "4                                 -499.838632   \n",
       "\n",
       "   secondary_cleaner.state.floatbank4_b_air  \\\n",
       "0                                 12.099931   \n",
       "1                                 11.950531   \n",
       "2                                 11.912783   \n",
       "3                                 11.999550   \n",
       "4                                 11.953070   \n",
       "\n",
       "   secondary_cleaner.state.floatbank4_b_level  \\\n",
       "0                                 -504.715942   \n",
       "1                                 -501.331529   \n",
       "2                                 -501.133383   \n",
       "3                                 -501.193686   \n",
       "4                                 -501.053894   \n",
       "\n",
       "   secondary_cleaner.state.floatbank5_a_air  \\\n",
       "0                                  9.925633   \n",
       "1                                 10.039245   \n",
       "2                                 10.070913   \n",
       "3                                  9.970366   \n",
       "4                                  9.925709   \n",
       "\n",
       "   secondary_cleaner.state.floatbank5_a_level  \\\n",
       "0                                 -498.310211   \n",
       "1                                 -500.169983   \n",
       "2                                 -500.129135   \n",
       "3                                 -499.201640   \n",
       "4                                 -501.686727   \n",
       "\n",
       "   secondary_cleaner.state.floatbank5_b_air  \\\n",
       "0                                  8.079666   \n",
       "1                                  7.984757   \n",
       "2                                  8.013877   \n",
       "3                                  7.977324   \n",
       "4                                  7.894242   \n",
       "\n",
       "   secondary_cleaner.state.floatbank5_b_level  \\\n",
       "0                                 -500.470978   \n",
       "1                                 -500.582168   \n",
       "2                                 -500.517572   \n",
       "3                                 -500.255908   \n",
       "4                                 -500.356035   \n",
       "\n",
       "   secondary_cleaner.state.floatbank6_a_air  \\\n",
       "0                                 14.151341   \n",
       "1                                 13.998353   \n",
       "2                                 14.028663   \n",
       "3                                 14.005551   \n",
       "4                                 13.996647   \n",
       "\n",
       "   secondary_cleaner.state.floatbank6_a_level  \n",
       "0                                 -605.841980  \n",
       "1                                 -599.787184  \n",
       "2                                 -601.427363  \n",
       "3                                 -599.996129  \n",
       "4                                 -601.496691  \n",
       "\n",
       "[5 rows x 87 columns]"
      ]
     },
     "metadata": {},
     "output_type": "display_data"
    },
    {
     "name": "stdout",
     "output_type": "stream",
     "text": [
      "<class 'pandas.core.frame.DataFrame'>\n",
      "RangeIndex: 19439 entries, 0 to 19438\n",
      "Data columns (total 87 columns):\n",
      " #   Column                                              Non-Null Count  Dtype  \n",
      "---  ------                                              --------------  -----  \n",
      " 0   date                                                19439 non-null  object \n",
      " 1   final.output.concentrate_ag                         19438 non-null  float64\n",
      " 2   final.output.concentrate_pb                         19438 non-null  float64\n",
      " 3   final.output.concentrate_sol                        19228 non-null  float64\n",
      " 4   final.output.concentrate_au                         19439 non-null  float64\n",
      " 5   final.output.recovery                               19439 non-null  float64\n",
      " 6   final.output.tail_ag                                19438 non-null  float64\n",
      " 7   final.output.tail_pb                                19338 non-null  float64\n",
      " 8   final.output.tail_sol                               19433 non-null  float64\n",
      " 9   final.output.tail_au                                19439 non-null  float64\n",
      " 10  primary_cleaner.input.sulfate                       19415 non-null  float64\n",
      " 11  primary_cleaner.input.depressant                    19402 non-null  float64\n",
      " 12  primary_cleaner.input.feed_size                     19439 non-null  float64\n",
      " 13  primary_cleaner.input.xanthate                      19335 non-null  float64\n",
      " 14  primary_cleaner.output.concentrate_ag               19439 non-null  float64\n",
      " 15  primary_cleaner.output.concentrate_pb               19323 non-null  float64\n",
      " 16  primary_cleaner.output.concentrate_sol              19069 non-null  float64\n",
      " 17  primary_cleaner.output.concentrate_au               19439 non-null  float64\n",
      " 18  primary_cleaner.output.tail_ag                      19435 non-null  float64\n",
      " 19  primary_cleaner.output.tail_pb                      19418 non-null  float64\n",
      " 20  primary_cleaner.output.tail_sol                     19377 non-null  float64\n",
      " 21  primary_cleaner.output.tail_au                      19439 non-null  float64\n",
      " 22  primary_cleaner.state.floatbank8_a_air              19435 non-null  float64\n",
      " 23  primary_cleaner.state.floatbank8_a_level            19438 non-null  float64\n",
      " 24  primary_cleaner.state.floatbank8_b_air              19435 non-null  float64\n",
      " 25  primary_cleaner.state.floatbank8_b_level            19438 non-null  float64\n",
      " 26  primary_cleaner.state.floatbank8_c_air              19437 non-null  float64\n",
      " 27  primary_cleaner.state.floatbank8_c_level            19438 non-null  float64\n",
      " 28  primary_cleaner.state.floatbank8_d_air              19436 non-null  float64\n",
      " 29  primary_cleaner.state.floatbank8_d_level            19438 non-null  float64\n",
      " 30  rougher.calculation.sulfate_to_au_concentrate       19437 non-null  float64\n",
      " 31  rougher.calculation.floatbank10_sulfate_to_au_feed  19437 non-null  float64\n",
      " 32  rougher.calculation.floatbank11_sulfate_to_au_feed  19437 non-null  float64\n",
      " 33  rougher.calculation.au_pb_ratio                     19439 non-null  float64\n",
      " 34  rougher.input.feed_ag                               19439 non-null  float64\n",
      " 35  rougher.input.feed_pb                               19339 non-null  float64\n",
      " 36  rougher.input.feed_rate                             19428 non-null  float64\n",
      " 37  rougher.input.feed_size                             19294 non-null  float64\n",
      " 38  rougher.input.feed_sol                              19340 non-null  float64\n",
      " 39  rougher.input.feed_au                               19439 non-null  float64\n",
      " 40  rougher.input.floatbank10_sulfate                   19405 non-null  float64\n",
      " 41  rougher.input.floatbank10_xanthate                  19431 non-null  float64\n",
      " 42  rougher.input.floatbank11_sulfate                   19395 non-null  float64\n",
      " 43  rougher.input.floatbank11_xanthate                  18986 non-null  float64\n",
      " 44  rougher.output.concentrate_ag                       19439 non-null  float64\n",
      " 45  rougher.output.concentrate_pb                       19439 non-null  float64\n",
      " 46  rougher.output.concentrate_sol                      19416 non-null  float64\n",
      " 47  rougher.output.concentrate_au                       19439 non-null  float64\n",
      " 48  rougher.output.recovery                             19439 non-null  float64\n",
      " 49  rougher.output.tail_ag                              19438 non-null  float64\n",
      " 50  rougher.output.tail_pb                              19439 non-null  float64\n",
      " 51  rougher.output.tail_sol                             19439 non-null  float64\n",
      " 52  rougher.output.tail_au                              19439 non-null  float64\n",
      " 53  rougher.state.floatbank10_a_air                     19438 non-null  float64\n",
      " 54  rougher.state.floatbank10_a_level                   19438 non-null  float64\n",
      " 55  rougher.state.floatbank10_b_air                     19438 non-null  float64\n",
      " 56  rougher.state.floatbank10_b_level                   19438 non-null  float64\n",
      " 57  rougher.state.floatbank10_c_air                     19438 non-null  float64\n",
      " 58  rougher.state.floatbank10_c_level                   19438 non-null  float64\n",
      " 59  rougher.state.floatbank10_d_air                     19439 non-null  float64\n",
      " 60  rougher.state.floatbank10_d_level                   19439 non-null  float64\n",
      " 61  rougher.state.floatbank10_e_air                     19003 non-null  float64\n",
      " 62  rougher.state.floatbank10_e_level                   19439 non-null  float64\n",
      " 63  rougher.state.floatbank10_f_air                     19439 non-null  float64\n",
      " 64  rougher.state.floatbank10_f_level                   19439 non-null  float64\n",
      " 65  secondary_cleaner.output.tail_ag                    19437 non-null  float64\n",
      " 66  secondary_cleaner.output.tail_pb                    19427 non-null  float64\n",
      " 67  secondary_cleaner.output.tail_sol                   17691 non-null  float64\n",
      " 68  secondary_cleaner.output.tail_au                    19439 non-null  float64\n",
      " 69  secondary_cleaner.state.floatbank2_a_air            19219 non-null  float64\n",
      " 70  secondary_cleaner.state.floatbank2_a_level          19438 non-null  float64\n",
      " 71  secondary_cleaner.state.floatbank2_b_air            19416 non-null  float64\n",
      " 72  secondary_cleaner.state.floatbank2_b_level          19438 non-null  float64\n",
      " 73  secondary_cleaner.state.floatbank3_a_air            19426 non-null  float64\n",
      " 74  secondary_cleaner.state.floatbank3_a_level          19438 non-null  float64\n",
      " 75  secondary_cleaner.state.floatbank3_b_air            19438 non-null  float64\n",
      " 76  secondary_cleaner.state.floatbank3_b_level          19438 non-null  float64\n",
      " 77  secondary_cleaner.state.floatbank4_a_air            19433 non-null  float64\n",
      " 78  secondary_cleaner.state.floatbank4_a_level          19438 non-null  float64\n",
      " 79  secondary_cleaner.state.floatbank4_b_air            19438 non-null  float64\n",
      " 80  secondary_cleaner.state.floatbank4_b_level          19438 non-null  float64\n",
      " 81  secondary_cleaner.state.floatbank5_a_air            19438 non-null  float64\n",
      " 82  secondary_cleaner.state.floatbank5_a_level          19438 non-null  float64\n",
      " 83  secondary_cleaner.state.floatbank5_b_air            19438 non-null  float64\n",
      " 84  secondary_cleaner.state.floatbank5_b_level          19438 non-null  float64\n",
      " 85  secondary_cleaner.state.floatbank6_a_air            19437 non-null  float64\n",
      " 86  secondary_cleaner.state.floatbank6_a_level          19438 non-null  float64\n",
      "dtypes: float64(86), object(1)\n",
      "memory usage: 12.9+ MB\n",
      "\n",
      "Дубликатов: 0\n"
     ]
    }
   ],
   "source": [
    "first_look(df_full)"
   ]
  },
  {
   "cell_type": "markdown",
   "metadata": {},
   "source": [
    "Дубликатов не обнаружено, но имеются пропуски.\n",
    "\n",
    "date будем использовать как индекс, по ним будем соотносить наблюдения в разных таблицах."
   ]
  },
  {
   "cell_type": "code",
   "execution_count": 6,
   "metadata": {
    "scrolled": true
   },
   "outputs": [],
   "source": [
    "df_full.set_index('date', inplace=True)\n",
    "df_train.set_index('date', inplace=True)\n",
    "df_test.set_index('date', inplace=True)\n",
    "full = df_full\n",
    "train = df_train\n",
    "test = df_test"
   ]
  },
  {
   "cell_type": "code",
   "execution_count": 7,
   "metadata": {},
   "outputs": [
    {
     "data": {
      "text/html": [
       "<div>\n",
       "<style scoped>\n",
       "    .dataframe tbody tr th:only-of-type {\n",
       "        vertical-align: middle;\n",
       "    }\n",
       "\n",
       "    .dataframe tbody tr th {\n",
       "        vertical-align: top;\n",
       "    }\n",
       "\n",
       "    .dataframe thead th {\n",
       "        text-align: right;\n",
       "    }\n",
       "</style>\n",
       "<table border=\"1\" class=\"dataframe\">\n",
       "  <thead>\n",
       "    <tr style=\"text-align: right;\">\n",
       "      <th></th>\n",
       "      <th>primary_cleaner.input.sulfate</th>\n",
       "      <th>primary_cleaner.input.depressant</th>\n",
       "      <th>primary_cleaner.input.feed_size</th>\n",
       "      <th>primary_cleaner.input.xanthate</th>\n",
       "      <th>primary_cleaner.state.floatbank8_a_air</th>\n",
       "      <th>primary_cleaner.state.floatbank8_a_level</th>\n",
       "      <th>primary_cleaner.state.floatbank8_b_air</th>\n",
       "      <th>primary_cleaner.state.floatbank8_b_level</th>\n",
       "      <th>primary_cleaner.state.floatbank8_c_air</th>\n",
       "      <th>primary_cleaner.state.floatbank8_c_level</th>\n",
       "      <th>...</th>\n",
       "      <th>secondary_cleaner.state.floatbank4_a_air</th>\n",
       "      <th>secondary_cleaner.state.floatbank4_a_level</th>\n",
       "      <th>secondary_cleaner.state.floatbank4_b_air</th>\n",
       "      <th>secondary_cleaner.state.floatbank4_b_level</th>\n",
       "      <th>secondary_cleaner.state.floatbank5_a_air</th>\n",
       "      <th>secondary_cleaner.state.floatbank5_a_level</th>\n",
       "      <th>secondary_cleaner.state.floatbank5_b_air</th>\n",
       "      <th>secondary_cleaner.state.floatbank5_b_level</th>\n",
       "      <th>secondary_cleaner.state.floatbank6_a_air</th>\n",
       "      <th>secondary_cleaner.state.floatbank6_a_level</th>\n",
       "    </tr>\n",
       "    <tr>\n",
       "      <th>date</th>\n",
       "      <th></th>\n",
       "      <th></th>\n",
       "      <th></th>\n",
       "      <th></th>\n",
       "      <th></th>\n",
       "      <th></th>\n",
       "      <th></th>\n",
       "      <th></th>\n",
       "      <th></th>\n",
       "      <th></th>\n",
       "      <th></th>\n",
       "      <th></th>\n",
       "      <th></th>\n",
       "      <th></th>\n",
       "      <th></th>\n",
       "      <th></th>\n",
       "      <th></th>\n",
       "      <th></th>\n",
       "      <th></th>\n",
       "      <th></th>\n",
       "      <th></th>\n",
       "    </tr>\n",
       "  </thead>\n",
       "  <tbody>\n",
       "    <tr>\n",
       "      <th>2016-09-01 00:59:59</th>\n",
       "      <td>210.800909</td>\n",
       "      <td>14.993118</td>\n",
       "      <td>8.080000</td>\n",
       "      <td>1.005021</td>\n",
       "      <td>1398.981301</td>\n",
       "      <td>-500.225577</td>\n",
       "      <td>1399.144926</td>\n",
       "      <td>-499.919735</td>\n",
       "      <td>1400.102998</td>\n",
       "      <td>-500.704369</td>\n",
       "      <td>...</td>\n",
       "      <td>12.023554</td>\n",
       "      <td>-497.795834</td>\n",
       "      <td>8.016656</td>\n",
       "      <td>-501.289139</td>\n",
       "      <td>7.946562</td>\n",
       "      <td>-432.317850</td>\n",
       "      <td>4.872511</td>\n",
       "      <td>-500.037437</td>\n",
       "      <td>26.705889</td>\n",
       "      <td>-499.709414</td>\n",
       "    </tr>\n",
       "    <tr>\n",
       "      <th>2016-09-01 01:59:59</th>\n",
       "      <td>215.392455</td>\n",
       "      <td>14.987471</td>\n",
       "      <td>8.080000</td>\n",
       "      <td>0.990469</td>\n",
       "      <td>1398.777912</td>\n",
       "      <td>-500.057435</td>\n",
       "      <td>1398.055362</td>\n",
       "      <td>-499.778182</td>\n",
       "      <td>1396.151033</td>\n",
       "      <td>-499.240168</td>\n",
       "      <td>...</td>\n",
       "      <td>12.058140</td>\n",
       "      <td>-498.695773</td>\n",
       "      <td>8.130979</td>\n",
       "      <td>-499.634209</td>\n",
       "      <td>7.958270</td>\n",
       "      <td>-525.839648</td>\n",
       "      <td>4.878850</td>\n",
       "      <td>-500.162375</td>\n",
       "      <td>25.019940</td>\n",
       "      <td>-499.819438</td>\n",
       "    </tr>\n",
       "    <tr>\n",
       "      <th>2016-09-01 02:59:59</th>\n",
       "      <td>215.259946</td>\n",
       "      <td>12.884934</td>\n",
       "      <td>7.786667</td>\n",
       "      <td>0.996043</td>\n",
       "      <td>1398.493666</td>\n",
       "      <td>-500.868360</td>\n",
       "      <td>1398.860436</td>\n",
       "      <td>-499.764529</td>\n",
       "      <td>1398.075709</td>\n",
       "      <td>-502.151509</td>\n",
       "      <td>...</td>\n",
       "      <td>11.962366</td>\n",
       "      <td>-498.767484</td>\n",
       "      <td>8.096893</td>\n",
       "      <td>-500.827423</td>\n",
       "      <td>8.071056</td>\n",
       "      <td>-500.801673</td>\n",
       "      <td>4.905125</td>\n",
       "      <td>-499.828510</td>\n",
       "      <td>24.994862</td>\n",
       "      <td>-500.622559</td>\n",
       "    </tr>\n",
       "    <tr>\n",
       "      <th>2016-09-01 03:59:59</th>\n",
       "      <td>215.336236</td>\n",
       "      <td>12.006805</td>\n",
       "      <td>7.640000</td>\n",
       "      <td>0.863514</td>\n",
       "      <td>1399.618111</td>\n",
       "      <td>-498.863574</td>\n",
       "      <td>1397.440120</td>\n",
       "      <td>-499.211024</td>\n",
       "      <td>1400.129303</td>\n",
       "      <td>-498.355873</td>\n",
       "      <td>...</td>\n",
       "      <td>12.033091</td>\n",
       "      <td>-498.350935</td>\n",
       "      <td>8.074946</td>\n",
       "      <td>-499.474407</td>\n",
       "      <td>7.897085</td>\n",
       "      <td>-500.868509</td>\n",
       "      <td>4.931400</td>\n",
       "      <td>-499.963623</td>\n",
       "      <td>24.948919</td>\n",
       "      <td>-498.709987</td>\n",
       "    </tr>\n",
       "    <tr>\n",
       "      <th>2016-09-01 04:59:59</th>\n",
       "      <td>199.099327</td>\n",
       "      <td>10.682530</td>\n",
       "      <td>7.530000</td>\n",
       "      <td>0.805575</td>\n",
       "      <td>1401.268123</td>\n",
       "      <td>-500.808305</td>\n",
       "      <td>1398.128818</td>\n",
       "      <td>-499.504543</td>\n",
       "      <td>1402.172226</td>\n",
       "      <td>-500.810606</td>\n",
       "      <td>...</td>\n",
       "      <td>12.025367</td>\n",
       "      <td>-500.786497</td>\n",
       "      <td>8.054678</td>\n",
       "      <td>-500.397500</td>\n",
       "      <td>8.107890</td>\n",
       "      <td>-509.526725</td>\n",
       "      <td>4.957674</td>\n",
       "      <td>-500.360026</td>\n",
       "      <td>25.003331</td>\n",
       "      <td>-500.856333</td>\n",
       "    </tr>\n",
       "  </tbody>\n",
       "</table>\n",
       "<p>5 rows × 52 columns</p>\n",
       "</div>"
      ],
      "text/plain": [
       "                     primary_cleaner.input.sulfate  \\\n",
       "date                                                 \n",
       "2016-09-01 00:59:59                     210.800909   \n",
       "2016-09-01 01:59:59                     215.392455   \n",
       "2016-09-01 02:59:59                     215.259946   \n",
       "2016-09-01 03:59:59                     215.336236   \n",
       "2016-09-01 04:59:59                     199.099327   \n",
       "\n",
       "                     primary_cleaner.input.depressant  \\\n",
       "date                                                    \n",
       "2016-09-01 00:59:59                         14.993118   \n",
       "2016-09-01 01:59:59                         14.987471   \n",
       "2016-09-01 02:59:59                         12.884934   \n",
       "2016-09-01 03:59:59                         12.006805   \n",
       "2016-09-01 04:59:59                         10.682530   \n",
       "\n",
       "                     primary_cleaner.input.feed_size  \\\n",
       "date                                                   \n",
       "2016-09-01 00:59:59                         8.080000   \n",
       "2016-09-01 01:59:59                         8.080000   \n",
       "2016-09-01 02:59:59                         7.786667   \n",
       "2016-09-01 03:59:59                         7.640000   \n",
       "2016-09-01 04:59:59                         7.530000   \n",
       "\n",
       "                     primary_cleaner.input.xanthate  \\\n",
       "date                                                  \n",
       "2016-09-01 00:59:59                        1.005021   \n",
       "2016-09-01 01:59:59                        0.990469   \n",
       "2016-09-01 02:59:59                        0.996043   \n",
       "2016-09-01 03:59:59                        0.863514   \n",
       "2016-09-01 04:59:59                        0.805575   \n",
       "\n",
       "                     primary_cleaner.state.floatbank8_a_air  \\\n",
       "date                                                          \n",
       "2016-09-01 00:59:59                             1398.981301   \n",
       "2016-09-01 01:59:59                             1398.777912   \n",
       "2016-09-01 02:59:59                             1398.493666   \n",
       "2016-09-01 03:59:59                             1399.618111   \n",
       "2016-09-01 04:59:59                             1401.268123   \n",
       "\n",
       "                     primary_cleaner.state.floatbank8_a_level  \\\n",
       "date                                                            \n",
       "2016-09-01 00:59:59                               -500.225577   \n",
       "2016-09-01 01:59:59                               -500.057435   \n",
       "2016-09-01 02:59:59                               -500.868360   \n",
       "2016-09-01 03:59:59                               -498.863574   \n",
       "2016-09-01 04:59:59                               -500.808305   \n",
       "\n",
       "                     primary_cleaner.state.floatbank8_b_air  \\\n",
       "date                                                          \n",
       "2016-09-01 00:59:59                             1399.144926   \n",
       "2016-09-01 01:59:59                             1398.055362   \n",
       "2016-09-01 02:59:59                             1398.860436   \n",
       "2016-09-01 03:59:59                             1397.440120   \n",
       "2016-09-01 04:59:59                             1398.128818   \n",
       "\n",
       "                     primary_cleaner.state.floatbank8_b_level  \\\n",
       "date                                                            \n",
       "2016-09-01 00:59:59                               -499.919735   \n",
       "2016-09-01 01:59:59                               -499.778182   \n",
       "2016-09-01 02:59:59                               -499.764529   \n",
       "2016-09-01 03:59:59                               -499.211024   \n",
       "2016-09-01 04:59:59                               -499.504543   \n",
       "\n",
       "                     primary_cleaner.state.floatbank8_c_air  \\\n",
       "date                                                          \n",
       "2016-09-01 00:59:59                             1400.102998   \n",
       "2016-09-01 01:59:59                             1396.151033   \n",
       "2016-09-01 02:59:59                             1398.075709   \n",
       "2016-09-01 03:59:59                             1400.129303   \n",
       "2016-09-01 04:59:59                             1402.172226   \n",
       "\n",
       "                     primary_cleaner.state.floatbank8_c_level  ...  \\\n",
       "date                                                           ...   \n",
       "2016-09-01 00:59:59                               -500.704369  ...   \n",
       "2016-09-01 01:59:59                               -499.240168  ...   \n",
       "2016-09-01 02:59:59                               -502.151509  ...   \n",
       "2016-09-01 03:59:59                               -498.355873  ...   \n",
       "2016-09-01 04:59:59                               -500.810606  ...   \n",
       "\n",
       "                     secondary_cleaner.state.floatbank4_a_air  \\\n",
       "date                                                            \n",
       "2016-09-01 00:59:59                                 12.023554   \n",
       "2016-09-01 01:59:59                                 12.058140   \n",
       "2016-09-01 02:59:59                                 11.962366   \n",
       "2016-09-01 03:59:59                                 12.033091   \n",
       "2016-09-01 04:59:59                                 12.025367   \n",
       "\n",
       "                     secondary_cleaner.state.floatbank4_a_level  \\\n",
       "date                                                              \n",
       "2016-09-01 00:59:59                                 -497.795834   \n",
       "2016-09-01 01:59:59                                 -498.695773   \n",
       "2016-09-01 02:59:59                                 -498.767484   \n",
       "2016-09-01 03:59:59                                 -498.350935   \n",
       "2016-09-01 04:59:59                                 -500.786497   \n",
       "\n",
       "                     secondary_cleaner.state.floatbank4_b_air  \\\n",
       "date                                                            \n",
       "2016-09-01 00:59:59                                  8.016656   \n",
       "2016-09-01 01:59:59                                  8.130979   \n",
       "2016-09-01 02:59:59                                  8.096893   \n",
       "2016-09-01 03:59:59                                  8.074946   \n",
       "2016-09-01 04:59:59                                  8.054678   \n",
       "\n",
       "                     secondary_cleaner.state.floatbank4_b_level  \\\n",
       "date                                                              \n",
       "2016-09-01 00:59:59                                 -501.289139   \n",
       "2016-09-01 01:59:59                                 -499.634209   \n",
       "2016-09-01 02:59:59                                 -500.827423   \n",
       "2016-09-01 03:59:59                                 -499.474407   \n",
       "2016-09-01 04:59:59                                 -500.397500   \n",
       "\n",
       "                     secondary_cleaner.state.floatbank5_a_air  \\\n",
       "date                                                            \n",
       "2016-09-01 00:59:59                                  7.946562   \n",
       "2016-09-01 01:59:59                                  7.958270   \n",
       "2016-09-01 02:59:59                                  8.071056   \n",
       "2016-09-01 03:59:59                                  7.897085   \n",
       "2016-09-01 04:59:59                                  8.107890   \n",
       "\n",
       "                     secondary_cleaner.state.floatbank5_a_level  \\\n",
       "date                                                              \n",
       "2016-09-01 00:59:59                                 -432.317850   \n",
       "2016-09-01 01:59:59                                 -525.839648   \n",
       "2016-09-01 02:59:59                                 -500.801673   \n",
       "2016-09-01 03:59:59                                 -500.868509   \n",
       "2016-09-01 04:59:59                                 -509.526725   \n",
       "\n",
       "                     secondary_cleaner.state.floatbank5_b_air  \\\n",
       "date                                                            \n",
       "2016-09-01 00:59:59                                  4.872511   \n",
       "2016-09-01 01:59:59                                  4.878850   \n",
       "2016-09-01 02:59:59                                  4.905125   \n",
       "2016-09-01 03:59:59                                  4.931400   \n",
       "2016-09-01 04:59:59                                  4.957674   \n",
       "\n",
       "                     secondary_cleaner.state.floatbank5_b_level  \\\n",
       "date                                                              \n",
       "2016-09-01 00:59:59                                 -500.037437   \n",
       "2016-09-01 01:59:59                                 -500.162375   \n",
       "2016-09-01 02:59:59                                 -499.828510   \n",
       "2016-09-01 03:59:59                                 -499.963623   \n",
       "2016-09-01 04:59:59                                 -500.360026   \n",
       "\n",
       "                     secondary_cleaner.state.floatbank6_a_air  \\\n",
       "date                                                            \n",
       "2016-09-01 00:59:59                                 26.705889   \n",
       "2016-09-01 01:59:59                                 25.019940   \n",
       "2016-09-01 02:59:59                                 24.994862   \n",
       "2016-09-01 03:59:59                                 24.948919   \n",
       "2016-09-01 04:59:59                                 25.003331   \n",
       "\n",
       "                     secondary_cleaner.state.floatbank6_a_level  \n",
       "date                                                             \n",
       "2016-09-01 00:59:59                                 -499.709414  \n",
       "2016-09-01 01:59:59                                 -499.819438  \n",
       "2016-09-01 02:59:59                                 -500.622559  \n",
       "2016-09-01 03:59:59                                 -498.709987  \n",
       "2016-09-01 04:59:59                                 -500.856333  \n",
       "\n",
       "[5 rows x 52 columns]"
      ]
     },
     "execution_count": 7,
     "metadata": {},
     "output_type": "execute_result"
    }
   ],
   "source": [
    "df_test.head()"
   ]
  },
  {
   "cell_type": "markdown",
   "metadata": {},
   "source": [
    "### Проверка расчета эффективности обогащения."
   ]
  },
  {
   "cell_type": "code",
   "execution_count": 8,
   "metadata": {},
   "outputs": [],
   "source": [
    "def recovery(c, f, t):\n",
    "    return ((c * (f - t)) / (f * (c - t))) * 100\n"
   ]
  },
  {
   "cell_type": "code",
   "execution_count": 9,
   "metadata": {},
   "outputs": [],
   "source": [
    "df_recovery = recovery(df_train['rougher.output.concentrate_au'], \n",
    "                       df_train['rougher.input.feed_au'],\n",
    "                       df_train['rougher.output.tail_au'])"
   ]
  },
  {
   "cell_type": "code",
   "execution_count": 10,
   "metadata": {},
   "outputs": [
    {
     "data": {
      "text/plain": [
       "9.73512347450521e-15"
      ]
     },
     "execution_count": 10,
     "metadata": {},
     "output_type": "execute_result"
    }
   ],
   "source": [
    "mae = mean_absolute_error(df_train['rougher.output.recovery'],df_recovery)\n",
    "mae"
   ]
  },
  {
   "cell_type": "markdown",
   "metadata": {},
   "source": [
    "Вычисленный нами результат MAE очень мал, а значит эффективность обогащения рассчитана правильно."
   ]
  },
  {
   "cell_type": "markdown",
   "metadata": {},
   "source": [
    "### Анализ  недоступных в тестовой выборке признаков"
   ]
  },
  {
   "cell_type": "code",
   "execution_count": 11,
   "metadata": {},
   "outputs": [
    {
     "name": "stdout",
     "output_type": "stream",
     "text": [
      "final.output.concentrate_ag\n",
      "final.output.concentrate_au\n",
      "final.output.concentrate_pb\n",
      "final.output.concentrate_sol\n",
      "final.output.recovery\n",
      "final.output.tail_ag\n",
      "final.output.tail_au\n",
      "final.output.tail_pb\n",
      "final.output.tail_sol\n",
      "primary_cleaner.output.concentrate_ag\n",
      "primary_cleaner.output.concentrate_au\n",
      "primary_cleaner.output.concentrate_pb\n",
      "primary_cleaner.output.concentrate_sol\n",
      "primary_cleaner.output.tail_ag\n",
      "primary_cleaner.output.tail_au\n",
      "primary_cleaner.output.tail_pb\n",
      "primary_cleaner.output.tail_sol\n",
      "rougher.calculation.au_pb_ratio\n",
      "rougher.calculation.floatbank10_sulfate_to_au_feed\n",
      "rougher.calculation.floatbank11_sulfate_to_au_feed\n",
      "rougher.calculation.sulfate_to_au_concentrate\n",
      "rougher.output.concentrate_ag\n",
      "rougher.output.concentrate_au\n",
      "rougher.output.concentrate_pb\n",
      "rougher.output.concentrate_sol\n",
      "rougher.output.recovery\n",
      "rougher.output.tail_ag\n",
      "rougher.output.tail_au\n",
      "rougher.output.tail_pb\n",
      "rougher.output.tail_sol\n",
      "secondary_cleaner.output.tail_ag\n",
      "secondary_cleaner.output.tail_au\n",
      "secondary_cleaner.output.tail_pb\n",
      "secondary_cleaner.output.tail_sol\n"
     ]
    }
   ],
   "source": [
    "for i in df_train.columns.difference(df_test.columns):\n",
    "    print(i)"
   ]
  },
  {
   "cell_type": "markdown",
   "metadata": {},
   "source": [
    "В тестовой выборке отсутствуют данные по содержанию элементов как в концентрате, так и в отвальных хвостах на разных этапах очистки руды, а так же расчетные показатели на этапе флотации rougher.calculation."
   ]
  },
  {
   "cell_type": "markdown",
   "metadata": {},
   "source": [
    "### Предобработка данных."
   ]
  },
  {
   "cell_type": "markdown",
   "metadata": {},
   "source": [
    "Удалим столбцы в df_train, которых нет в df_test. Это нужно для обучения модели и дальнейшего тестирования на единых признаках. Пропуски же в данных заполним предидущими по времени значениями для каждого признака."
   ]
  },
  {
   "cell_type": "code",
   "execution_count": 12,
   "metadata": {},
   "outputs": [
    {
     "name": "stdout",
     "output_type": "stream",
     "text": [
      "(14149, 52)\n",
      "(5290, 52)\n"
     ]
    }
   ],
   "source": [
    "df_train = df_train[df_test.columns]\n",
    "print(df_train.shape)\n",
    "print(df_test.shape)"
   ]
  },
  {
   "cell_type": "code",
   "execution_count": 13,
   "metadata": {},
   "outputs": [],
   "source": [
    "df_train = df_train.fillna(method=\"ffill\")\n",
    "df_test = df_test.fillna(method=\"ffill\")\n",
    "df_full = df_full.fillna(method=\"ffill\")"
   ]
  },
  {
   "cell_type": "markdown",
   "metadata": {},
   "source": [
    "###  Вывод\n",
    "Провели предобработку данныхи выяснили:\n",
    "- дубликатов не обнаружено\n",
    "- заполнили пропуски признаков ближайшими по времени значениями\n",
    "- показали, что эффективность обогащения рассчитана правильно\n",
    "- удалили из обучающей выборки признаки, которых нет в тестовой (для обучения корректной модели)"
   ]
  },
  {
   "cell_type": "markdown",
   "metadata": {},
   "source": [
    "## Анализ данных"
   ]
  },
  {
   "cell_type": "markdown",
   "metadata": {},
   "source": [
    "### Анализ изменения концентрации металлов (Au, Ag, Pb) на различных этапах очистки."
   ]
  },
  {
   "cell_type": "code",
   "execution_count": 14,
   "metadata": {},
   "outputs": [],
   "source": [
    "au = ['rougher.output.concentrate_au', 'primary_cleaner.output.concentrate_au', \n",
    "      'final.output.concentrate_au', 'золото']\n",
    "ag = ['rougher.output.concentrate_ag', 'primary_cleaner.output.concentrate_ag', \n",
    "      'final.output.concentrate_ag', 'серебро']\n",
    "pb = ['rougher.output.concentrate_pb', 'primary_cleaner.output.concentrate_pb',\n",
    "      'final.output.concentrate_pb', 'свинец']\n",
    "\n",
    "steps = ['Флотация', 'Первый этап очистки', 'Второй этап очистки']\n",
    "\n",
    "def show_concentrate(metal):\n",
    "    plt.figure(figsize=(10,5))\n",
    "    for i in range(len(steps)):\n",
    "        ax = sns.distplot(df_full[metal[i]], label=steps[i])\n",
    "        plt.legend()\n",
    "    ax.set_title(metal[3])\n",
    "    plt.show()"
   ]
  },
  {
   "cell_type": "code",
   "execution_count": 15,
   "metadata": {},
   "outputs": [
    {
     "data": {
      "image/png": "[encoded data removed]",
      "text/plain": [
       "<Figure size 720x360 with 1 Axes>"
      ]
     },
     "metadata": {
      "needs_background": "light"
     },
     "output_type": "display_data"
    }
   ],
   "source": [
    "show_concentrate(au)"
   ]
  },
  {
   "cell_type": "code",
   "execution_count": 16,
   "metadata": {},
   "outputs": [
    {
     "data": {
      "image/png": "[encoded data removed]",
      "text/plain": [
       "<Figure size 720x360 with 1 Axes>"
      ]
     },
     "metadata": {
      "needs_background": "light"
     },
     "output_type": "display_data"
    }
   ],
   "source": [
    "show_concentrate(ag)"
   ]
  },
  {
   "cell_type": "code",
   "execution_count": 17,
   "metadata": {},
   "outputs": [
    {
     "data": {
      "image/png": "[encoded data removed]",
      "text/plain": [
       "<Figure size 720x360 with 1 Axes>"
      ]
     },
     "metadata": {
      "needs_background": "light"
     },
     "output_type": "display_data"
    }
   ],
   "source": [
    "show_concentrate(pb)"
   ]
  },
  {
   "cell_type": "markdown",
   "metadata": {},
   "source": [
    "На каждом технологическом этапе концентрация золота увеличивается, а серебра уменьшается. Концентрация свинца увеличивается после флотации и не сильно меняеся на этапах очистки."
   ]
  },
  {
   "cell_type": "markdown",
   "metadata": {},
   "source": [
    "### Сравнение распределения размеров гранул сырья "
   ]
  },
  {
   "cell_type": "code",
   "execution_count": 18,
   "metadata": {},
   "outputs": [
    {
     "data": {
      "image/png": "[encoded data removed]",
      "text/plain": [
       "<Figure size 720x360 with 1 Axes>"
      ]
     },
     "metadata": {
      "needs_background": "light"
     },
     "output_type": "display_data"
    }
   ],
   "source": [
    "plt.figure(figsize=(10,5))\n",
    "sns.distplot(df_test['rougher.input.feed_size'], label='Тестовая выборка')\n",
    "sns.distplot(df_train['rougher.input.feed_size'], label='Обучающая выборка')\n",
    "plt.xlim(0, 120)\n",
    "plt.legend()\n",
    "plt.show()"
   ]
  },
  {
   "cell_type": "markdown",
   "metadata": {},
   "source": [
    "Из графика видно, что распределения размеров гранул сырья не сильно отличаются друг от друга."
   ]
  },
  {
   "cell_type": "markdown",
   "metadata": {},
   "source": [
    " ### Исследование суммарной концентрации веществ на разных стадиях."
   ]
  },
  {
   "cell_type": "code",
   "execution_count": 19,
   "metadata": {},
   "outputs": [],
   "source": [
    "first = df_full['rougher.input.feed_au'] + df_full['rougher.input.feed_ag'] + \\\n",
    "            df_full['rougher.input.feed_pb'] + df_full['rougher.input.feed_sol']\n",
    "second = df_full['rougher.output.concentrate_au'] + df_full['rougher.output.concentrate_ag'] + \\\n",
    "            df_full['rougher.output.concentrate_pb'] + df_full['rougher.output.concentrate_sol']\n",
    "third = df_full['final.output.concentrate_au'] + df_full['final.output.concentrate_ag'] + \\\n",
    "            df_full['final.output.concentrate_pb'] + df_full['final.output.concentrate_sol']\n",
    "\n",
    "\n",
    "def show_sum_concentrate(step, title):\n",
    "    plt.figure(figsize=(10,5))\n",
    "    ax = sns.distplot(step)\n",
    "    ax.set_title(title)\n",
    "    plt.show()"
   ]
  },
  {
   "cell_type": "code",
   "execution_count": 20,
   "metadata": {},
   "outputs": [
    {
     "data": {
      "image/png": "[encoded data removed]",
      "text/plain": [
       "<Figure size 720x360 with 1 Axes>"
      ]
     },
     "metadata": {
      "needs_background": "light"
     },
     "output_type": "display_data"
    }
   ],
   "source": [
    "show_sum_concentrate(first, \"в сырье\")"
   ]
  },
  {
   "cell_type": "code",
   "execution_count": 21,
   "metadata": {},
   "outputs": [
    {
     "data": {
      "image/png": "[encoded data removed]",
      "text/plain": [
       "<Figure size 720x360 with 1 Axes>"
      ]
     },
     "metadata": {
      "needs_background": "light"
     },
     "output_type": "display_data"
    }
   ],
   "source": [
    "show_sum_concentrate(second, \"в черновом концентрате\")"
   ]
  },
  {
   "cell_type": "code",
   "execution_count": 22,
   "metadata": {
    "scrolled": true
   },
   "outputs": [
    {
     "data": {
      "image/png": "[encoded data removed]",
      "text/plain": [
       "<Figure size 720x360 with 1 Axes>"
      ]
     },
     "metadata": {
      "needs_background": "light"
     },
     "output_type": "display_data"
    }
   ],
   "source": [
    "show_sum_concentrate(third, \"в финальгом концентрате\")"
   ]
  },
  {
   "cell_type": "markdown",
   "metadata": {},
   "source": [
    " Видим некоторое количество наблюдений, где суммарная концентрация всех веществ около нуля, что невозможно ни на каком из этапов. Такие данные негативно скажутся на нашей модели. Удалим эти наблюдения из всех выборок как аномальные.\n",
    " \n",
    " В целом же видим, что разброс значений суммарной концентрации веществ уменьшается с каждым этапом."
   ]
  },
  {
   "cell_type": "code",
   "execution_count": 23,
   "metadata": {},
   "outputs": [
    {
     "data": {
      "text/plain": [
       "(18943, 86)"
      ]
     },
     "execution_count": 23,
     "metadata": {},
     "output_type": "execute_result"
    }
   ],
   "source": [
    "first = first[first > 1]\n",
    "second = second[second > 1]\n",
    "third = third[third > 1]\n",
    "df_full = df_full.loc[first.index & second.index & third.index]\n",
    "df_full.shape"
   ]
  },
  {
   "cell_type": "code",
   "execution_count": 24,
   "metadata": {},
   "outputs": [
    {
     "name": "stdout",
     "output_type": "stream",
     "text": [
      "(13789, 52)\n",
      "(5154, 52)\n"
     ]
    }
   ],
   "source": [
    "df_train = df_train.loc[df_full.index & df_train.index]\n",
    "df_test = df_test.loc[df_full.index & df_test.index]\n",
    "print(df_train.shape)\n",
    "print(df_test.shape)"
   ]
  },
  {
   "cell_type": "code",
   "execution_count": 25,
   "metadata": {},
   "outputs": [
    {
     "data": {
      "image/png": "[encoded data removed]",
      "text/plain": [
       "<Figure size 720x360 with 1 Axes>"
      ]
     },
     "metadata": {
      "needs_background": "light"
     },
     "output_type": "display_data"
    }
   ],
   "source": [
    "# проверим, что аномалии исчезли для 2 этапа\n",
    "second = df_full['rougher.output.concentrate_au'] + df_full['rougher.output.concentrate_ag'] + \\\n",
    "            df_full['rougher.output.concentrate_pb'] + df_full['rougher.output.concentrate_sol']\n",
    "show_sum_concentrate(second, \"в черновом концентрате\")"
   ]
  },
  {
   "cell_type": "markdown",
   "metadata": {},
   "source": [
    "### Вывод\n",
    "- концентрация золота увеличивается с каждым этапом, а серебра — падает\n",
    "- удостоверились, что размеры гранул примерно одинаково распределены в тестовой и обучающей выборках\n",
    "- обнаружили и удалили аномальные значения суммарной концентрации веществ, которые равны нулю"
   ]
  },
  {
   "cell_type": "markdown",
   "metadata": {},
   "source": [
    "## Модель"
   ]
  },
  {
   "cell_type": "markdown",
   "metadata": {},
   "source": [
    "### Функция для вычисления итоговой sMAPE."
   ]
  },
  {
   "cell_type": "code",
   "execution_count": 26,
   "metadata": {},
   "outputs": [],
   "source": [
    "def smape(target, predict): \n",
    "    return ((1/len(target)) * sum(2 * abs(target - predict) / (abs(target) + abs(predict)))) * 100\n",
    "\n",
    "def smape_final(rougher, final):\n",
    "    return (0.25 * rougher + 0.75 * final)"
   ]
  },
  {
   "cell_type": "markdown",
   "metadata": {},
   "source": [
    "### Обучение разных моделей и оценка их качества кросс-валидацией."
   ]
  },
  {
   "cell_type": "markdown",
   "metadata": {},
   "source": [
    "Подготовим выборки и целевые признаки для нашей модели."
   ]
  },
  {
   "cell_type": "code",
   "execution_count": 27,
   "metadata": {},
   "outputs": [],
   "source": [
    "target_train_r = train.loc[df_train.index & train.index]['rougher.output.recovery'].reset_index(drop=True)\n",
    "target_train_f = train.loc[df_train.index & train.index]['final.output.recovery'].reset_index(drop=True)\n",
    "target_test_r = full.loc[df_test.index & full.index]['rougher.output.recovery'].reset_index(drop=True)\n",
    "target_test_f = full.loc[df_test.index & full.index]['final.output.recovery'].reset_index(drop=True)"
   ]
  },
  {
   "cell_type": "code",
   "execution_count": 28,
   "metadata": {},
   "outputs": [
    {
     "name": "stdout",
     "output_type": "stream",
     "text": [
      "(13789, 52)\n",
      "(5154, 52)\n",
      "(13789,)\n",
      "(13789,)\n",
      "(5154,)\n",
      "(5154,)\n"
     ]
    }
   ],
   "source": [
    "df_train.reset_index(drop=True, inplace=True)\n",
    "df_test.reset_index(drop=True, inplace=True)\n",
    "features_train = df_train\n",
    "features_test = df_test\n",
    "print(features_train.shape)\n",
    "print(features_test.shape)\n",
    "print(target_train_r.shape)\n",
    "print(target_train_f.shape)\n",
    "print(target_test_r.shape)\n",
    "print(target_test_f.shape)"
   ]
  },
  {
   "cell_type": "code",
   "execution_count": 29,
   "metadata": {},
   "outputs": [],
   "source": [
    "smape_score = make_scorer(smape, greater_is_better=False)"
   ]
  },
  {
   "cell_type": "markdown",
   "metadata": {},
   "source": [
    "Масштабируем признаки и проверим на них модель линейной регрессии, а ее качество проверим кросс-валидацией."
   ]
  },
  {
   "cell_type": "code",
   "execution_count": 30,
   "metadata": {},
   "outputs": [
    {
     "name": "stdout",
     "output_type": "stream",
     "text": [
      "SMAPE rougher: 7.21%\n",
      "SMAPE final: 10.94%\n",
      "Итоговое SMAPE: 10.01%\n"
     ]
    }
   ],
   "source": [
    "scaler = StandardScaler()\n",
    "scaler.fit(features_train)\n",
    "features_train_scaled = scaler.transform(features_train)\n",
    "features_test_scaled = scaler.transform(features_test)\n",
    "model = LinearRegression()\n",
    "scores_r = cross_val_score(model, features_train_scaled, target_train_r, \n",
    "                           scoring=smape_score, cv=5).mean() * -1\n",
    "scores_f = cross_val_score(model, features_train_scaled, target_train_f, \n",
    "                           scoring=smape_score, cv=5).mean() * -1\n",
    "final_score = smape_final(scores_r, scores_f)\n",
    "print('SMAPE rougher: {:.2f}%'.format(scores_r.mean()))\n",
    "print('SMAPE final: {:.2f}%'.format(scores_f.mean()))\n",
    "print('Итоговое SMAPE: {:.2f}%'.format(final_score))"
   ]
  },
  {
   "cell_type": "code",
   "execution_count": 31,
   "metadata": {},
   "outputs": [],
   "source": [
    "# GridSearchCV очень долго работает на платформе, поэтому предварительно подобрав параметры,\n",
    "# сразу обучаю на оптимальных, а 2 ячейки закоментил\n",
    "\n",
    "#model = RandomForestRegressor(random_state=12345)\n",
    "#parametrs = {'n_estimators': range (1,151,25), \"max_depth\" : range (0, 11, 5)}\n",
    "#grid = GridSearchCV(model, parametrs,scoring=smape_score, cv=3, verbose=2, n_jobs=-1)\n",
    "#grid.fit(features_train_scaled, target_train_r)\n",
    "#print(grid.best_params_)\n",
    "#print('SMAPE rougher: {:.2f} %'.format(grid.best_score_))\n",
    "#print(grid.best_score_)"
   ]
  },
  {
   "cell_type": "code",
   "execution_count": 32,
   "metadata": {},
   "outputs": [],
   "source": [
    "#model = RandomForestRegressor(random_state=12345)\n",
    "#parametrs = {'n_estimators': range (1,151,25), \"max_depth\" : range (0, 11, 5)}\n",
    "#grid = GridSearchCV(model, parametrs,scoring=smape_score, cv=3, verbose=2, n_jobs=-1)\n",
    "#grid.fit(features_train_scaled, target_train_f)\n",
    "#print(grid.best_params_)\n",
    "#print('SMAPE final {:.2f} %'.format(grid.best_score_))\n",
    "#print(grid.best_score_)"
   ]
  },
  {
   "cell_type": "markdown",
   "metadata": {},
   "source": [
    "Проверим модель обученную случайным лесом."
   ]
  },
  {
   "cell_type": "code",
   "execution_count": 33,
   "metadata": {},
   "outputs": [
    {
     "name": "stdout",
     "output_type": "stream",
     "text": [
      "SMAPE rougher: 7.15%\n",
      "SMAPE final: 10.46%\n",
      "Итоговое SMAPE: 9.64%\n"
     ]
    }
   ],
   "source": [
    "model_r = RandomForestRegressor(random_state=12345, n_estimators=100, max_depth = 10)\n",
    "model_f = RandomForestRegressor(random_state=12345, n_estimators=1, max_depth = 5)\n",
    "model_r.fit(features_train_scaled, target_train_r)\n",
    "model_f.fit(features_train_scaled, target_train_f)\n",
    "scores_r = cross_val_score(model_r, features_train_scaled, target_train_r, \n",
    "                           scoring=smape_score, cv=5).mean() * -1\n",
    "scores_f = cross_val_score(model_f, features_train_scaled, target_train_f, \n",
    "                           scoring=smape_score, cv=5).mean() * -1\n",
    "final_score = smape_final(scores_r, scores_f)\n",
    "print('SMAPE rougher: {:.2f}%'.format(scores_r.mean()))\n",
    "print('SMAPE final: {:.2f}%'.format(scores_f.mean()))\n",
    "print('Итоговое SMAPE: {:.2f}%'.format(final_score))"
   ]
  },
  {
   "cell_type": "markdown",
   "metadata": {},
   "source": [
    "Качество модели случайного леса оказалось выше, чем у модели линейной регрессии. Проверим ее на тестовой выборке."
   ]
  },
  {
   "cell_type": "code",
   "execution_count": 34,
   "metadata": {},
   "outputs": [
    {
     "name": "stdout",
     "output_type": "stream",
     "text": [
      "SMAPE rougher: 4.42%\n",
      "SMAPE final: 8.55%\n",
      "Итоговое SMAPE: 7.52%\n"
     ]
    }
   ],
   "source": [
    "predictions_r = model_r.predict(features_test_scaled)\n",
    "predictions_f = model_f.predict(features_test_scaled)\n",
    "\n",
    "scores_r = smape(target_test_r, predictions_r)\n",
    "scores_f = smape(target_test_f, predictions_f)\n",
    "final_score = smape_final(scores_r, scores_f)\n",
    "\n",
    "print('SMAPE rougher: {:.2f}%'.format(scores_r))\n",
    "print('SMAPE final: {:.2f}%'.format(scores_f))\n",
    "print('Итоговое SMAPE: {:.2f}%'.format(final_score))"
   ]
  },
  {
   "cell_type": "markdown",
   "metadata": {},
   "source": [
    "Проверим на адекватность показатели нашей модели сранив их с SMAPE для константной модели."
   ]
  },
  {
   "cell_type": "code",
   "execution_count": 35,
   "metadata": {},
   "outputs": [
    {
     "name": "stdout",
     "output_type": "stream",
     "text": [
      "SMAPE rougher контстантной модели: 5.38%\n",
      "SMAPE final контстантной модели: 8.57%\n",
      "Итоговое SMAPE контстантной модели: 7.77%\n"
     ]
    }
   ],
   "source": [
    "dummy_r = DummyRegressor(strategy='mean')\n",
    "dummy_f = DummyRegressor(strategy='mean')\n",
    "dummy_r.fit(features_train_scaled, target_train_r)\n",
    "dummy_f.fit(features_train_scaled, target_train_f)\n",
    "dummy_predictions_r = dummy_r.predict(features_test_scaled)\n",
    "dummy_predictions_f = dummy_f.predict(features_test_scaled)\n",
    "\n",
    "scores_r = smape(target_test_r, dummy_predictions_r)\n",
    "scores_f = smape(target_test_f, dummy_predictions_f)\n",
    "final_score = smape_final(scores_r, scores_f)\n",
    "\n",
    "print('SMAPE rougher контстантной модели: {:.2f}%'.format(scores_r))\n",
    "print('SMAPE final контстантной модели: {:.2f}%'.format(scores_f))\n",
    "print('Итоговое SMAPE контстантной модели: {:.2f}%'.format(final_score))"
   ]
  },
  {
   "cell_type": "markdown",
   "metadata": {},
   "source": [
    "### Вывод\n",
    "Модель обученная случайным лесом оказалась лучшей. Ее показатель качества SMAPE:\n",
    "- эффективности обогащения чернового концентрата: 4.42% \n",
    "- эффективности обогащения финального концентрата: 8.55%\n",
    "- итоговый показатель: 7.52%\n",
    "\n",
    "Данные показатели адекватные, что подтверждается сравнением с показателями константной модели (7.77%)."
   ]
  },
  {
   "cell_type": "markdown",
   "metadata": {},
   "source": [
    "## Общий вывод"
   ]
  },
  {
   "cell_type": "markdown",
   "metadata": {},
   "source": [
    "Полученные данные были обработаны: \n",
    "- заполнены пропуски\n",
    "- обнаружены и удалены наблюдения с нулевыми значениями суммарной концентрации веществ\n",
    "- проведена проверка расчета эффективности обогащения\n",
    "\n",
    "Проведен анализ изменения концентрации металлов. На каждом технологическом этапе концентрация золота увеличивается, а серебра уменьшается.\n",
    "\n",
    "Подготовив данные для обучения моделей, было проведено сравнение алгоритмов случайного леса и линейной регрессии. Оценив их качество кросс-валидацией, лучшей оказалась модель на алгоритме случайного леса. На тестовой выборке модель показала итоговый результат SMAPE = 7.52%, что лучше показателя на константной модели (7.77%), следовательно модель адекватная и рекомедована для дальнейшего приминения.\n"
   ]
  }
 ],
 "metadata": {
  "ExecuteTimeLog": [
   {
    "duration": 440,
    "start_time": "2022-03-12T14:22:16.773Z"
   },
   {
    "duration": 1272,
    "start_time": "2022-03-12T14:23:10.934Z"
   },
   {
    "duration": 400,
    "start_time": "2022-03-12T14:41:28.216Z"
   },
   {
    "duration": 444,
    "start_time": "2022-03-12T14:41:33.513Z"
   },
   {
    "duration": 1824,
    "start_time": "2022-03-12T14:50:00.769Z"
   },
   {
    "duration": 735,
    "start_time": "2022-03-12T14:50:40.970Z"
   },
   {
    "duration": 724,
    "start_time": "2022-03-12T14:53:58.059Z"
   },
   {
    "duration": 131,
    "start_time": "2022-03-12T14:54:23.075Z"
   },
   {
    "duration": 720,
    "start_time": "2022-03-12T14:54:43.652Z"
   },
   {
    "duration": 150,
    "start_time": "2022-03-12T14:54:47.188Z"
   },
   {
    "duration": 5,
    "start_time": "2022-03-12T14:56:45.120Z"
   },
   {
    "duration": 723,
    "start_time": "2022-03-12T14:56:47.841Z"
   },
   {
    "duration": 146,
    "start_time": "2022-03-12T14:56:50.752Z"
   },
   {
    "duration": 753,
    "start_time": "2022-03-12T14:57:39.260Z"
   },
   {
    "duration": 134,
    "start_time": "2022-03-12T14:57:42.131Z"
   },
   {
    "duration": 748,
    "start_time": "2022-03-12T15:02:22.723Z"
   },
   {
    "duration": 147,
    "start_time": "2022-03-12T15:02:27.564Z"
   },
   {
    "duration": 49,
    "start_time": "2022-03-12T15:03:18.007Z"
   },
   {
    "duration": 118,
    "start_time": "2022-03-12T15:03:45.161Z"
   },
   {
    "duration": 1373,
    "start_time": "2022-03-12T15:05:00.080Z"
   },
   {
    "duration": 831,
    "start_time": "2022-03-12T15:05:01.456Z"
   },
   {
    "duration": 177,
    "start_time": "2022-03-12T15:05:02.289Z"
   },
   {
    "duration": 289,
    "start_time": "2022-03-12T15:05:02.469Z"
   },
   {
    "duration": 416,
    "start_time": "2022-03-12T15:05:02.760Z"
   },
   {
    "duration": 1355,
    "start_time": "2022-03-13T10:36:22.844Z"
   },
   {
    "duration": 730,
    "start_time": "2022-03-13T10:36:24.201Z"
   },
   {
    "duration": 166,
    "start_time": "2022-03-13T10:36:24.933Z"
   },
   {
    "duration": 49,
    "start_time": "2022-03-13T10:36:25.100Z"
   },
   {
    "duration": 151,
    "start_time": "2022-03-13T10:36:25.151Z"
   },
   {
    "duration": 6,
    "start_time": "2022-03-13T10:49:29.731Z"
   },
   {
    "duration": 318,
    "start_time": "2022-03-13T10:49:39.380Z"
   },
   {
    "duration": 288,
    "start_time": "2022-03-13T10:49:59.893Z"
   },
   {
    "duration": 29,
    "start_time": "2022-03-13T10:50:13.485Z"
   },
   {
    "duration": 1264,
    "start_time": "2022-03-13T10:50:33.469Z"
   },
   {
    "duration": 730,
    "start_time": "2022-03-13T10:50:34.735Z"
   },
   {
    "duration": 171,
    "start_time": "2022-03-13T10:50:35.470Z"
   },
   {
    "duration": 59,
    "start_time": "2022-03-13T10:50:35.644Z"
   },
   {
    "duration": 146,
    "start_time": "2022-03-13T10:50:35.705Z"
   },
   {
    "duration": 5,
    "start_time": "2022-03-13T10:50:35.853Z"
   },
   {
    "duration": 40,
    "start_time": "2022-03-13T10:50:35.861Z"
   },
   {
    "duration": 354,
    "start_time": "2022-03-13T10:52:29.244Z"
   },
   {
    "duration": 1227,
    "start_time": "2022-03-13T10:52:36.469Z"
   },
   {
    "duration": 734,
    "start_time": "2022-03-13T10:52:37.698Z"
   },
   {
    "duration": 164,
    "start_time": "2022-03-13T10:52:38.434Z"
   },
   {
    "duration": 47,
    "start_time": "2022-03-13T10:52:38.600Z"
   },
   {
    "duration": 145,
    "start_time": "2022-03-13T10:52:38.648Z"
   },
   {
    "duration": 5,
    "start_time": "2022-03-13T10:52:38.795Z"
   },
   {
    "duration": 33,
    "start_time": "2022-03-13T10:52:38.802Z"
   },
   {
    "duration": 3,
    "start_time": "2022-03-13T12:15:41.568Z"
   },
   {
    "duration": 7,
    "start_time": "2022-03-13T12:15:45.137Z"
   },
   {
    "duration": 8,
    "start_time": "2022-03-13T12:16:21.116Z"
   },
   {
    "duration": 6,
    "start_time": "2022-03-13T12:18:39.640Z"
   },
   {
    "duration": 11,
    "start_time": "2022-03-13T12:20:00.892Z"
   },
   {
    "duration": 5,
    "start_time": "2022-03-13T12:20:03.315Z"
   },
   {
    "duration": 6,
    "start_time": "2022-03-13T12:20:06.244Z"
   },
   {
    "duration": 3,
    "start_time": "2022-03-13T12:26:11.282Z"
   },
   {
    "duration": 9,
    "start_time": "2022-03-13T12:26:12.298Z"
   },
   {
    "duration": 5,
    "start_time": "2022-03-13T12:26:12.977Z"
   },
   {
    "duration": 6,
    "start_time": "2022-03-13T12:26:13.585Z"
   },
   {
    "duration": 322,
    "start_time": "2022-03-13T12:32:22.448Z"
   },
   {
    "duration": 1523,
    "start_time": "2022-03-16T06:48:21.838Z"
   },
   {
    "duration": 922,
    "start_time": "2022-03-16T06:48:23.364Z"
   },
   {
    "duration": 256,
    "start_time": "2022-03-16T06:48:24.290Z"
   },
   {
    "duration": 86,
    "start_time": "2022-03-16T06:48:24.549Z"
   },
   {
    "duration": 259,
    "start_time": "2022-03-16T06:48:24.638Z"
   },
   {
    "duration": 8,
    "start_time": "2022-03-16T06:48:24.900Z"
   },
   {
    "duration": 53,
    "start_time": "2022-03-16T06:48:24.910Z"
   },
   {
    "duration": 12,
    "start_time": "2022-03-16T06:48:24.966Z"
   },
   {
    "duration": 29,
    "start_time": "2022-03-16T06:48:24.981Z"
   },
   {
    "duration": 24,
    "start_time": "2022-03-16T06:48:25.013Z"
   },
   {
    "duration": 18,
    "start_time": "2022-03-16T06:48:25.039Z"
   },
   {
    "duration": 378,
    "start_time": "2022-03-16T06:48:25.060Z"
   },
   {
    "duration": 220,
    "start_time": "2022-03-16T06:49:01.139Z"
   },
   {
    "duration": 6,
    "start_time": "2022-03-16T07:18:06.934Z"
   },
   {
    "duration": 9,
    "start_time": "2022-03-16T07:18:15.616Z"
   },
   {
    "duration": 8,
    "start_time": "2022-03-16T07:18:18.615Z"
   },
   {
    "duration": 5,
    "start_time": "2022-03-16T08:06:08.163Z"
   },
   {
    "duration": 6,
    "start_time": "2022-03-16T08:09:07.620Z"
   },
   {
    "duration": 6,
    "start_time": "2022-03-16T08:10:26.151Z"
   },
   {
    "duration": 12,
    "start_time": "2022-03-16T08:11:55.986Z"
   },
   {
    "duration": 206,
    "start_time": "2022-03-16T08:12:21.283Z"
   },
   {
    "duration": 7,
    "start_time": "2022-03-16T08:12:40.331Z"
   },
   {
    "duration": 6,
    "start_time": "2022-03-16T08:12:52.540Z"
   },
   {
    "duration": 1710,
    "start_time": "2022-03-16T08:22:30.866Z"
   },
   {
    "duration": 939,
    "start_time": "2022-03-16T08:22:32.579Z"
   },
   {
    "duration": 247,
    "start_time": "2022-03-16T08:22:33.521Z"
   },
   {
    "duration": 74,
    "start_time": "2022-03-16T08:22:33.774Z"
   },
   {
    "duration": 263,
    "start_time": "2022-03-16T08:22:33.851Z"
   },
   {
    "duration": 8,
    "start_time": "2022-03-16T08:22:34.117Z"
   },
   {
    "duration": 59,
    "start_time": "2022-03-16T08:22:34.127Z"
   },
   {
    "duration": 4,
    "start_time": "2022-03-16T08:22:34.189Z"
   },
   {
    "duration": 10,
    "start_time": "2022-03-16T08:22:34.196Z"
   },
   {
    "duration": 17,
    "start_time": "2022-03-16T08:22:34.208Z"
   },
   {
    "duration": 3,
    "start_time": "2022-03-16T08:22:34.228Z"
   },
   {
    "duration": 30,
    "start_time": "2022-03-16T08:22:34.233Z"
   },
   {
    "duration": 11,
    "start_time": "2022-03-16T08:22:34.265Z"
   },
   {
    "duration": 6,
    "start_time": "2022-03-16T08:25:57.363Z"
   },
   {
    "duration": 7,
    "start_time": "2022-03-16T08:26:01.690Z"
   },
   {
    "duration": 1605,
    "start_time": "2022-03-16T08:26:10.480Z"
   },
   {
    "duration": 889,
    "start_time": "2022-03-16T08:26:12.087Z"
   },
   {
    "duration": 285,
    "start_time": "2022-03-16T08:26:12.979Z"
   },
   {
    "duration": 110,
    "start_time": "2022-03-16T08:26:13.275Z"
   },
   {
    "duration": 251,
    "start_time": "2022-03-16T08:26:13.388Z"
   },
   {
    "duration": 8,
    "start_time": "2022-03-16T08:26:13.642Z"
   },
   {
    "duration": 75,
    "start_time": "2022-03-16T08:26:13.652Z"
   },
   {
    "duration": 6,
    "start_time": "2022-03-16T08:26:13.731Z"
   },
   {
    "duration": 4,
    "start_time": "2022-03-16T08:26:13.742Z"
   },
   {
    "duration": 11,
    "start_time": "2022-03-16T08:26:13.775Z"
   },
   {
    "duration": 4,
    "start_time": "2022-03-16T08:26:13.791Z"
   },
   {
    "duration": 13,
    "start_time": "2022-03-16T08:26:13.798Z"
   },
   {
    "duration": 11,
    "start_time": "2022-03-16T08:26:13.813Z"
   },
   {
    "duration": 1614,
    "start_time": "2022-03-16T08:50:06.994Z"
   },
   {
    "duration": 1020,
    "start_time": "2022-03-16T08:50:08.611Z"
   },
   {
    "duration": 252,
    "start_time": "2022-03-16T08:50:09.638Z"
   },
   {
    "duration": 96,
    "start_time": "2022-03-16T08:50:09.893Z"
   },
   {
    "duration": 382,
    "start_time": "2022-03-16T08:50:09.993Z"
   },
   {
    "duration": 9,
    "start_time": "2022-03-16T08:50:10.378Z"
   },
   {
    "duration": 50,
    "start_time": "2022-03-16T08:50:10.389Z"
   },
   {
    "duration": 4,
    "start_time": "2022-03-16T08:50:10.443Z"
   },
   {
    "duration": 33,
    "start_time": "2022-03-16T08:50:10.449Z"
   },
   {
    "duration": 10,
    "start_time": "2022-03-16T08:50:10.485Z"
   },
   {
    "duration": 1828,
    "start_time": "2022-03-16T08:57:36.299Z"
   },
   {
    "duration": 892,
    "start_time": "2022-03-16T08:57:38.130Z"
   },
   {
    "duration": 250,
    "start_time": "2022-03-16T08:57:39.025Z"
   },
   {
    "duration": 97,
    "start_time": "2022-03-16T08:57:39.278Z"
   },
   {
    "duration": 241,
    "start_time": "2022-03-16T08:57:39.377Z"
   },
   {
    "duration": 7,
    "start_time": "2022-03-16T08:57:39.621Z"
   },
   {
    "duration": 59,
    "start_time": "2022-03-16T08:57:39.630Z"
   },
   {
    "duration": 4,
    "start_time": "2022-03-16T08:57:39.691Z"
   },
   {
    "duration": 10,
    "start_time": "2022-03-16T08:57:39.698Z"
   },
   {
    "duration": 13,
    "start_time": "2022-03-16T08:57:39.710Z"
   },
   {
    "duration": 7,
    "start_time": "2022-03-16T09:10:38.147Z"
   },
   {
    "duration": 7,
    "start_time": "2022-03-16T09:10:43.514Z"
   },
   {
    "duration": 259,
    "start_time": "2022-03-16T09:10:58.859Z"
   },
   {
    "duration": 9,
    "start_time": "2022-03-16T09:11:11.476Z"
   },
   {
    "duration": 5,
    "start_time": "2022-03-16T09:11:16.788Z"
   },
   {
    "duration": 8,
    "start_time": "2022-03-16T09:12:24.151Z"
   },
   {
    "duration": 9,
    "start_time": "2022-03-16T09:49:37.340Z"
   },
   {
    "duration": 47,
    "start_time": "2022-03-16T09:49:56.341Z"
   },
   {
    "duration": 46,
    "start_time": "2022-03-16T09:50:58.630Z"
   },
   {
    "duration": 47,
    "start_time": "2022-03-16T09:51:09.649Z"
   },
   {
    "duration": 1666,
    "start_time": "2022-03-16T09:51:18.630Z"
   },
   {
    "duration": 1039,
    "start_time": "2022-03-16T09:51:20.299Z"
   },
   {
    "duration": 262,
    "start_time": "2022-03-16T09:51:21.342Z"
   },
   {
    "duration": 95,
    "start_time": "2022-03-16T09:51:21.607Z"
   },
   {
    "duration": 254,
    "start_time": "2022-03-16T09:51:21.706Z"
   },
   {
    "duration": 13,
    "start_time": "2022-03-16T09:51:21.963Z"
   },
   {
    "duration": 63,
    "start_time": "2022-03-16T09:51:21.979Z"
   },
   {
    "duration": 4,
    "start_time": "2022-03-16T09:51:22.045Z"
   },
   {
    "duration": 40,
    "start_time": "2022-03-16T09:51:22.052Z"
   },
   {
    "duration": 36,
    "start_time": "2022-03-16T09:51:22.096Z"
   },
   {
    "duration": 20,
    "start_time": "2022-03-16T09:51:22.134Z"
   },
   {
    "duration": 86,
    "start_time": "2022-03-16T09:51:22.159Z"
   },
   {
    "duration": 34,
    "start_time": "2022-03-16T09:52:07.535Z"
   },
   {
    "duration": 15,
    "start_time": "2022-03-16T09:52:34.198Z"
   },
   {
    "duration": 11,
    "start_time": "2022-03-16T09:53:09.481Z"
   },
   {
    "duration": 9,
    "start_time": "2022-03-16T10:08:30.306Z"
   },
   {
    "duration": 68,
    "start_time": "2022-03-16T10:08:44.445Z"
   },
   {
    "duration": 21,
    "start_time": "2022-03-16T10:08:51.018Z"
   },
   {
    "duration": 22,
    "start_time": "2022-03-16T10:09:09.419Z"
   },
   {
    "duration": 9,
    "start_time": "2022-03-16T10:09:35.873Z"
   },
   {
    "duration": 22,
    "start_time": "2022-03-16T10:09:43.735Z"
   },
   {
    "duration": 14,
    "start_time": "2022-03-16T10:09:52.879Z"
   },
   {
    "duration": 1686,
    "start_time": "2022-03-16T10:22:54.878Z"
   },
   {
    "duration": 898,
    "start_time": "2022-03-16T10:22:56.567Z"
   },
   {
    "duration": 256,
    "start_time": "2022-03-16T10:22:57.468Z"
   },
   {
    "duration": 97,
    "start_time": "2022-03-16T10:22:57.728Z"
   },
   {
    "duration": 249,
    "start_time": "2022-03-16T10:22:57.828Z"
   },
   {
    "duration": 9,
    "start_time": "2022-03-16T10:22:58.079Z"
   },
   {
    "duration": 44,
    "start_time": "2022-03-16T10:22:58.090Z"
   },
   {
    "duration": 4,
    "start_time": "2022-03-16T10:22:58.137Z"
   },
   {
    "duration": 17,
    "start_time": "2022-03-16T10:22:58.173Z"
   },
   {
    "duration": 9,
    "start_time": "2022-03-16T10:22:58.192Z"
   },
   {
    "duration": 9,
    "start_time": "2022-03-16T10:22:58.204Z"
   },
   {
    "duration": 11,
    "start_time": "2022-03-16T10:22:58.220Z"
   },
   {
    "duration": 51,
    "start_time": "2022-03-16T10:22:58.234Z"
   },
   {
    "duration": 357,
    "start_time": "2022-03-16T10:35:53.921Z"
   },
   {
    "duration": 2003,
    "start_time": "2022-03-16T10:36:11.685Z"
   },
   {
    "duration": 16,
    "start_time": "2022-03-16T10:39:22.617Z"
   },
   {
    "duration": 2937,
    "start_time": "2022-03-16T10:39:26.450Z"
   },
   {
    "duration": 213,
    "start_time": "2022-03-16T10:41:07.269Z"
   },
   {
    "duration": 243,
    "start_time": "2022-03-16T10:41:21.949Z"
   },
   {
    "duration": 305,
    "start_time": "2022-03-16T10:41:58.911Z"
   },
   {
    "duration": 1651,
    "start_time": "2022-03-16T10:50:25.727Z"
   },
   {
    "duration": 916,
    "start_time": "2022-03-16T10:50:27.381Z"
   },
   {
    "duration": 253,
    "start_time": "2022-03-16T10:50:28.301Z"
   },
   {
    "duration": 85,
    "start_time": "2022-03-16T10:50:28.557Z"
   },
   {
    "duration": 261,
    "start_time": "2022-03-16T10:50:28.645Z"
   },
   {
    "duration": 8,
    "start_time": "2022-03-16T10:50:28.908Z"
   },
   {
    "duration": 57,
    "start_time": "2022-03-16T10:50:28.918Z"
   },
   {
    "duration": 4,
    "start_time": "2022-03-16T10:50:28.977Z"
   },
   {
    "duration": 11,
    "start_time": "2022-03-16T10:50:28.985Z"
   },
   {
    "duration": 10,
    "start_time": "2022-03-16T10:50:28.999Z"
   },
   {
    "duration": 14,
    "start_time": "2022-03-16T10:50:29.011Z"
   },
   {
    "duration": 48,
    "start_time": "2022-03-16T10:50:29.028Z"
   },
   {
    "duration": 27,
    "start_time": "2022-03-16T10:50:29.079Z"
   },
   {
    "duration": 373,
    "start_time": "2022-03-16T10:50:29.108Z"
   },
   {
    "duration": 227,
    "start_time": "2022-03-16T10:51:26.668Z"
   },
   {
    "duration": 77,
    "start_time": "2022-03-16T10:55:24.893Z"
   },
   {
    "duration": 4,
    "start_time": "2022-03-16T10:55:57.198Z"
   },
   {
    "duration": 357,
    "start_time": "2022-03-16T10:56:01.383Z"
   },
   {
    "duration": 70,
    "start_time": "2022-03-16T10:57:16.642Z"
   },
   {
    "duration": 104,
    "start_time": "2022-03-16T10:57:20.978Z"
   },
   {
    "duration": 11,
    "start_time": "2022-03-16T10:57:29.779Z"
   },
   {
    "duration": 227,
    "start_time": "2022-03-16T10:57:32.930Z"
   },
   {
    "duration": 233,
    "start_time": "2022-03-16T10:58:51.221Z"
   },
   {
    "duration": 3183,
    "start_time": "2022-03-16T10:59:00.902Z"
   },
   {
    "duration": 210,
    "start_time": "2022-03-16T11:43:03.154Z"
   },
   {
    "duration": 6,
    "start_time": "2022-03-16T11:43:09.844Z"
   },
   {
    "duration": 1168,
    "start_time": "2022-03-16T11:43:25.180Z"
   },
   {
    "duration": 7,
    "start_time": "2022-03-16T11:44:50.966Z"
   },
   {
    "duration": 1044,
    "start_time": "2022-03-16T11:44:54.631Z"
   },
   {
    "duration": 7,
    "start_time": "2022-03-16T11:45:50.009Z"
   },
   {
    "duration": 902,
    "start_time": "2022-03-16T11:45:59.322Z"
   },
   {
    "duration": 918,
    "start_time": "2022-03-16T11:46:07.483Z"
   },
   {
    "duration": 7,
    "start_time": "2022-03-16T11:53:40.541Z"
   },
   {
    "duration": 525,
    "start_time": "2022-03-16T11:53:44.228Z"
   },
   {
    "duration": 7,
    "start_time": "2022-03-16T11:54:30.085Z"
   },
   {
    "duration": 1581,
    "start_time": "2022-03-16T11:54:32.774Z"
   },
   {
    "duration": 7,
    "start_time": "2022-03-16T11:56:03.209Z"
   },
   {
    "duration": 933,
    "start_time": "2022-03-16T11:56:06.594Z"
   },
   {
    "duration": 7,
    "start_time": "2022-03-16T11:57:24.941Z"
   },
   {
    "duration": 1013,
    "start_time": "2022-03-16T11:57:27.372Z"
   },
   {
    "duration": 7,
    "start_time": "2022-03-16T11:59:07.591Z"
   },
   {
    "duration": 1115,
    "start_time": "2022-03-16T11:59:09.840Z"
   },
   {
    "duration": 69,
    "start_time": "2022-03-16T11:59:56.955Z"
   },
   {
    "duration": 79,
    "start_time": "2022-03-16T12:00:07.898Z"
   },
   {
    "duration": 117,
    "start_time": "2022-03-16T12:00:36.605Z"
   },
   {
    "duration": 91,
    "start_time": "2022-03-16T12:00:43.981Z"
   },
   {
    "duration": 66,
    "start_time": "2022-03-16T12:01:19.326Z"
   },
   {
    "duration": 7,
    "start_time": "2022-03-16T12:01:34.870Z"
   },
   {
    "duration": 1379,
    "start_time": "2022-03-16T12:01:37.805Z"
   },
   {
    "duration": 6,
    "start_time": "2022-03-16T12:01:49.830Z"
   },
   {
    "duration": 1470,
    "start_time": "2022-03-16T12:01:53.047Z"
   },
   {
    "duration": 7,
    "start_time": "2022-03-16T12:02:17.152Z"
   },
   {
    "duration": 1668,
    "start_time": "2022-03-16T12:02:20.808Z"
   },
   {
    "duration": 7,
    "start_time": "2022-03-16T12:02:48.433Z"
   },
   {
    "duration": 1003,
    "start_time": "2022-03-16T12:02:50.664Z"
   },
   {
    "duration": 1071,
    "start_time": "2022-03-16T12:02:56.874Z"
   },
   {
    "duration": 953,
    "start_time": "2022-03-16T12:03:00.266Z"
   },
   {
    "duration": 7,
    "start_time": "2022-03-16T12:12:02.352Z"
   },
   {
    "duration": 1136,
    "start_time": "2022-03-16T12:12:05.431Z"
   },
   {
    "duration": 7,
    "start_time": "2022-03-16T12:12:38.609Z"
   },
   {
    "duration": 927,
    "start_time": "2022-03-16T12:12:49.146Z"
   },
   {
    "duration": 67,
    "start_time": "2022-03-16T12:28:26.028Z"
   },
   {
    "duration": 274,
    "start_time": "2022-03-16T13:12:44.984Z"
   },
   {
    "duration": 284,
    "start_time": "2022-03-16T13:12:58.955Z"
   },
   {
    "duration": 783,
    "start_time": "2022-03-16T13:17:02.021Z"
   },
   {
    "duration": 868,
    "start_time": "2022-03-16T13:23:33.524Z"
   },
   {
    "duration": 731,
    "start_time": "2022-03-16T13:23:47.164Z"
   },
   {
    "duration": 1692,
    "start_time": "2022-03-16T13:48:36.627Z"
   },
   {
    "duration": 1262,
    "start_time": "2022-03-16T13:48:38.322Z"
   },
   {
    "duration": 259,
    "start_time": "2022-03-16T13:48:39.588Z"
   },
   {
    "duration": 93,
    "start_time": "2022-03-16T13:48:39.850Z"
   },
   {
    "duration": 269,
    "start_time": "2022-03-16T13:48:39.945Z"
   },
   {
    "duration": 8,
    "start_time": "2022-03-16T13:48:40.216Z"
   },
   {
    "duration": 61,
    "start_time": "2022-03-16T13:48:40.227Z"
   },
   {
    "duration": 5,
    "start_time": "2022-03-16T13:48:40.293Z"
   },
   {
    "duration": 32,
    "start_time": "2022-03-16T13:48:40.301Z"
   },
   {
    "duration": 21,
    "start_time": "2022-03-16T13:48:40.336Z"
   },
   {
    "duration": 45,
    "start_time": "2022-03-16T13:48:40.360Z"
   },
   {
    "duration": 17,
    "start_time": "2022-03-16T13:48:40.408Z"
   },
   {
    "duration": 61,
    "start_time": "2022-03-16T13:48:40.428Z"
   },
   {
    "duration": 9,
    "start_time": "2022-03-16T13:48:40.493Z"
   },
   {
    "duration": 834,
    "start_time": "2022-03-16T13:48:40.505Z"
   },
   {
    "duration": -30,
    "start_time": "2022-03-16T13:48:41.371Z"
   },
   {
    "duration": -30,
    "start_time": "2022-03-16T13:48:41.372Z"
   },
   {
    "duration": -29,
    "start_time": "2022-03-16T13:48:41.373Z"
   },
   {
    "duration": 6,
    "start_time": "2022-03-16T13:50:21.025Z"
   },
   {
    "duration": 1056,
    "start_time": "2022-03-16T13:50:24.303Z"
   },
   {
    "duration": 1221,
    "start_time": "2022-03-16T13:50:28.675Z"
   },
   {
    "duration": 1015,
    "start_time": "2022-03-16T13:50:33.050Z"
   },
   {
    "duration": 887,
    "start_time": "2022-03-16T13:50:38.123Z"
   },
   {
    "duration": 666,
    "start_time": "2022-03-16T14:08:35.908Z"
   },
   {
    "duration": 10,
    "start_time": "2022-03-16T14:34:09.211Z"
   },
   {
    "duration": 11,
    "start_time": "2022-03-16T14:34:32.444Z"
   },
   {
    "duration": 486,
    "start_time": "2022-03-16T14:35:09.287Z"
   },
   {
    "duration": 10,
    "start_time": "2022-03-16T14:35:26.415Z"
   },
   {
    "duration": 639,
    "start_time": "2022-03-16T14:35:28.551Z"
   },
   {
    "duration": 898,
    "start_time": "2022-03-16T14:37:42.359Z"
   },
   {
    "duration": 544,
    "start_time": "2022-03-16T14:38:10.568Z"
   },
   {
    "duration": 1616,
    "start_time": "2022-03-16T14:41:53.332Z"
   },
   {
    "duration": 1323,
    "start_time": "2022-03-16T14:41:54.951Z"
   },
   {
    "duration": 306,
    "start_time": "2022-03-16T14:41:56.279Z"
   },
   {
    "duration": 115,
    "start_time": "2022-03-16T14:41:56.589Z"
   },
   {
    "duration": 247,
    "start_time": "2022-03-16T14:41:56.707Z"
   },
   {
    "duration": 19,
    "start_time": "2022-03-16T14:41:56.957Z"
   },
   {
    "duration": 44,
    "start_time": "2022-03-16T14:41:56.979Z"
   },
   {
    "duration": 4,
    "start_time": "2022-03-16T14:41:57.027Z"
   },
   {
    "duration": 41,
    "start_time": "2022-03-16T14:41:57.034Z"
   },
   {
    "duration": 11,
    "start_time": "2022-03-16T14:41:57.078Z"
   },
   {
    "duration": 10,
    "start_time": "2022-03-16T14:41:57.092Z"
   },
   {
    "duration": 13,
    "start_time": "2022-03-16T14:41:57.106Z"
   },
   {
    "duration": 51,
    "start_time": "2022-03-16T14:41:57.122Z"
   },
   {
    "duration": 8,
    "start_time": "2022-03-16T14:41:57.176Z"
   },
   {
    "duration": 1271,
    "start_time": "2022-03-16T14:41:57.187Z"
   },
   {
    "duration": 1483,
    "start_time": "2022-03-16T14:41:58.461Z"
   },
   {
    "duration": -66,
    "start_time": "2022-03-16T14:42:00.013Z"
   },
   {
    "duration": -65,
    "start_time": "2022-03-16T14:42:00.014Z"
   },
   {
    "duration": -66,
    "start_time": "2022-03-16T14:42:00.016Z"
   },
   {
    "duration": -65,
    "start_time": "2022-03-16T14:42:00.017Z"
   },
   {
    "duration": -65,
    "start_time": "2022-03-16T14:42:00.019Z"
   },
   {
    "duration": -65,
    "start_time": "2022-03-16T14:42:00.020Z"
   },
   {
    "duration": 10,
    "start_time": "2022-03-16T14:42:58.615Z"
   },
   {
    "duration": 743,
    "start_time": "2022-03-16T14:43:01.590Z"
   },
   {
    "duration": 767,
    "start_time": "2022-03-16T14:43:09.032Z"
   },
   {
    "duration": 2006,
    "start_time": "2022-03-16T14:43:48.295Z"
   },
   {
    "duration": 1115,
    "start_time": "2022-03-16T14:43:50.304Z"
   },
   {
    "duration": 258,
    "start_time": "2022-03-16T14:43:51.423Z"
   },
   {
    "duration": 99,
    "start_time": "2022-03-16T14:43:51.684Z"
   },
   {
    "duration": 243,
    "start_time": "2022-03-16T14:43:51.786Z"
   },
   {
    "duration": 10,
    "start_time": "2022-03-16T14:43:52.031Z"
   },
   {
    "duration": 66,
    "start_time": "2022-03-16T14:43:52.043Z"
   },
   {
    "duration": 4,
    "start_time": "2022-03-16T14:43:52.113Z"
   },
   {
    "duration": 13,
    "start_time": "2022-03-16T14:43:52.121Z"
   },
   {
    "duration": 12,
    "start_time": "2022-03-16T14:43:52.137Z"
   },
   {
    "duration": 11,
    "start_time": "2022-03-16T14:43:52.175Z"
   },
   {
    "duration": 12,
    "start_time": "2022-03-16T14:43:52.188Z"
   },
   {
    "duration": 27,
    "start_time": "2022-03-16T14:43:52.202Z"
   },
   {
    "duration": 6,
    "start_time": "2022-03-16T14:43:52.231Z"
   },
   {
    "duration": 972,
    "start_time": "2022-03-16T14:43:52.274Z"
   },
   {
    "duration": 1412,
    "start_time": "2022-03-16T14:43:53.248Z"
   },
   {
    "duration": 982,
    "start_time": "2022-03-16T14:43:54.662Z"
   },
   {
    "duration": 1026,
    "start_time": "2022-03-16T14:43:55.647Z"
   },
   {
    "duration": 11,
    "start_time": "2022-03-16T14:43:56.676Z"
   },
   {
    "duration": 496,
    "start_time": "2022-03-16T14:43:56.690Z"
   },
   {
    "duration": 484,
    "start_time": "2022-03-16T14:43:57.189Z"
   },
   {
    "duration": 493,
    "start_time": "2022-03-16T14:43:57.675Z"
   },
   {
    "duration": 1747,
    "start_time": "2022-03-16T14:44:41.477Z"
   },
   {
    "duration": 1292,
    "start_time": "2022-03-16T14:44:43.227Z"
   },
   {
    "duration": 287,
    "start_time": "2022-03-16T14:44:44.523Z"
   },
   {
    "duration": 114,
    "start_time": "2022-03-16T14:44:44.813Z"
   },
   {
    "duration": 310,
    "start_time": "2022-03-16T14:44:44.930Z"
   },
   {
    "duration": 8,
    "start_time": "2022-03-16T14:44:45.243Z"
   },
   {
    "duration": 91,
    "start_time": "2022-03-16T14:44:45.254Z"
   },
   {
    "duration": 5,
    "start_time": "2022-03-16T14:44:45.347Z"
   },
   {
    "duration": 52,
    "start_time": "2022-03-16T14:44:45.357Z"
   },
   {
    "duration": 34,
    "start_time": "2022-03-16T14:44:45.412Z"
   },
   {
    "duration": 43,
    "start_time": "2022-03-16T14:44:45.449Z"
   },
   {
    "duration": 45,
    "start_time": "2022-03-16T14:44:45.495Z"
   },
   {
    "duration": 59,
    "start_time": "2022-03-16T14:44:45.543Z"
   },
   {
    "duration": 29,
    "start_time": "2022-03-16T14:44:45.605Z"
   },
   {
    "duration": 1309,
    "start_time": "2022-03-16T14:44:45.637Z"
   },
   {
    "duration": 1048,
    "start_time": "2022-03-16T14:44:46.948Z"
   },
   {
    "duration": 1301,
    "start_time": "2022-03-16T14:44:47.998Z"
   },
   {
    "duration": 953,
    "start_time": "2022-03-16T14:44:49.302Z"
   },
   {
    "duration": 19,
    "start_time": "2022-03-16T14:44:50.257Z"
   },
   {
    "duration": 472,
    "start_time": "2022-03-16T14:44:50.278Z"
   },
   {
    "duration": 634,
    "start_time": "2022-03-16T14:44:50.752Z"
   },
   {
    "duration": 643,
    "start_time": "2022-03-16T14:44:51.389Z"
   },
   {
    "duration": 345,
    "start_time": "2022-03-16T15:28:52.410Z"
   },
   {
    "duration": 827,
    "start_time": "2022-03-16T15:29:22.549Z"
   },
   {
    "duration": 2234,
    "start_time": "2022-03-17T07:06:07.961Z"
   },
   {
    "duration": 1092,
    "start_time": "2022-03-17T07:06:10.197Z"
   },
   {
    "duration": 223,
    "start_time": "2022-03-17T07:06:11.291Z"
   },
   {
    "duration": 76,
    "start_time": "2022-03-17T07:06:11.517Z"
   },
   {
    "duration": 141,
    "start_time": "2022-03-17T07:06:11.595Z"
   },
   {
    "duration": 6,
    "start_time": "2022-03-17T07:06:11.738Z"
   },
   {
    "duration": 39,
    "start_time": "2022-03-17T07:06:11.746Z"
   },
   {
    "duration": 4,
    "start_time": "2022-03-17T07:06:11.787Z"
   },
   {
    "duration": 17,
    "start_time": "2022-03-17T07:06:11.792Z"
   },
   {
    "duration": 8,
    "start_time": "2022-03-17T07:06:11.811Z"
   },
   {
    "duration": 10,
    "start_time": "2022-03-17T07:06:11.820Z"
   },
   {
    "duration": 7,
    "start_time": "2022-03-17T07:06:11.831Z"
   },
   {
    "duration": 45,
    "start_time": "2022-03-17T07:06:11.839Z"
   },
   {
    "duration": 6,
    "start_time": "2022-03-17T07:06:11.886Z"
   },
   {
    "duration": 1104,
    "start_time": "2022-03-17T07:06:11.894Z"
   },
   {
    "duration": 1190,
    "start_time": "2022-03-17T07:06:13.000Z"
   },
   {
    "duration": 1019,
    "start_time": "2022-03-17T07:06:14.191Z"
   },
   {
    "duration": 731,
    "start_time": "2022-03-17T07:06:15.211Z"
   },
   {
    "duration": 7,
    "start_time": "2022-03-17T07:06:15.944Z"
   },
   {
    "duration": 411,
    "start_time": "2022-03-17T07:06:15.953Z"
   },
   {
    "duration": 401,
    "start_time": "2022-03-17T07:06:16.366Z"
   },
   {
    "duration": 407,
    "start_time": "2022-03-17T07:06:16.768Z"
   },
   {
    "duration": 4,
    "start_time": "2022-03-17T07:16:01.117Z"
   },
   {
    "duration": 1584,
    "start_time": "2022-03-17T07:16:07.461Z"
   },
   {
    "duration": 778,
    "start_time": "2022-03-17T07:16:09.047Z"
   },
   {
    "duration": 154,
    "start_time": "2022-03-17T07:16:09.826Z"
   },
   {
    "duration": 43,
    "start_time": "2022-03-17T07:16:09.981Z"
   },
   {
    "duration": 139,
    "start_time": "2022-03-17T07:16:10.026Z"
   },
   {
    "duration": 6,
    "start_time": "2022-03-17T07:16:10.166Z"
   },
   {
    "duration": 22,
    "start_time": "2022-03-17T07:16:10.181Z"
   },
   {
    "duration": 2,
    "start_time": "2022-03-17T07:16:10.205Z"
   },
   {
    "duration": 10,
    "start_time": "2022-03-17T07:16:10.209Z"
   },
   {
    "duration": 6,
    "start_time": "2022-03-17T07:16:10.221Z"
   },
   {
    "duration": 10,
    "start_time": "2022-03-17T07:16:10.228Z"
   },
   {
    "duration": 9,
    "start_time": "2022-03-17T07:16:10.240Z"
   },
   {
    "duration": 48,
    "start_time": "2022-03-17T07:16:10.250Z"
   },
   {
    "duration": 5,
    "start_time": "2022-03-17T07:16:10.301Z"
   },
   {
    "duration": 1362,
    "start_time": "2022-03-17T07:16:10.308Z"
   },
   {
    "duration": 1480,
    "start_time": "2022-03-17T07:16:11.673Z"
   },
   {
    "duration": 1305,
    "start_time": "2022-03-17T07:16:13.155Z"
   },
   {
    "duration": 545,
    "start_time": "2022-03-17T07:16:14.462Z"
   },
   {
    "duration": 6,
    "start_time": "2022-03-17T07:16:15.009Z"
   },
   {
    "duration": 427,
    "start_time": "2022-03-17T07:16:15.016Z"
   },
   {
    "duration": 404,
    "start_time": "2022-03-17T07:16:15.445Z"
   },
   {
    "duration": 425,
    "start_time": "2022-03-17T07:16:15.850Z"
   },
   {
    "duration": 8,
    "start_time": "2022-03-17T07:22:55.050Z"
   },
   {
    "duration": 109,
    "start_time": "2022-03-17T07:32:43.223Z"
   },
   {
    "duration": 18,
    "start_time": "2022-03-17T07:33:37.597Z"
   },
   {
    "duration": 10,
    "start_time": "2022-03-17T07:33:57.453Z"
   },
   {
    "duration": 16,
    "start_time": "2022-03-17T07:34:08.038Z"
   },
   {
    "duration": 4,
    "start_time": "2022-03-17T07:35:48.512Z"
   },
   {
    "duration": 7,
    "start_time": "2022-03-17T07:35:56.873Z"
   },
   {
    "duration": 441,
    "start_time": "2022-03-17T07:36:08.721Z"
   },
   {
    "duration": 17,
    "start_time": "2022-03-17T07:37:23.571Z"
   },
   {
    "duration": 31,
    "start_time": "2022-03-17T07:38:07.612Z"
   },
   {
    "duration": 26,
    "start_time": "2022-03-17T07:38:27.468Z"
   },
   {
    "duration": 30,
    "start_time": "2022-03-17T07:59:19.554Z"
   },
   {
    "duration": 1670,
    "start_time": "2022-03-17T07:59:53.444Z"
   },
   {
    "duration": 797,
    "start_time": "2022-03-17T07:59:55.116Z"
   },
   {
    "duration": 167,
    "start_time": "2022-03-17T07:59:55.915Z"
   },
   {
    "duration": 53,
    "start_time": "2022-03-17T07:59:56.084Z"
   },
   {
    "duration": 155,
    "start_time": "2022-03-17T07:59:56.139Z"
   },
   {
    "duration": 7,
    "start_time": "2022-03-17T07:59:56.295Z"
   },
   {
    "duration": 41,
    "start_time": "2022-03-17T07:59:56.304Z"
   },
   {
    "duration": 3,
    "start_time": "2022-03-17T07:59:56.347Z"
   },
   {
    "duration": 9,
    "start_time": "2022-03-17T07:59:56.351Z"
   },
   {
    "duration": 9,
    "start_time": "2022-03-17T07:59:56.381Z"
   },
   {
    "duration": 20,
    "start_time": "2022-03-17T07:59:56.391Z"
   },
   {
    "duration": 6,
    "start_time": "2022-03-17T07:59:56.413Z"
   },
   {
    "duration": 20,
    "start_time": "2022-03-17T07:59:56.421Z"
   },
   {
    "duration": 4,
    "start_time": "2022-03-17T07:59:56.444Z"
   },
   {
    "duration": 1152,
    "start_time": "2022-03-17T07:59:56.450Z"
   },
   {
    "duration": 1286,
    "start_time": "2022-03-17T07:59:57.603Z"
   },
   {
    "duration": 1310,
    "start_time": "2022-03-17T07:59:58.891Z"
   },
   {
    "duration": 626,
    "start_time": "2022-03-17T08:00:00.203Z"
   },
   {
    "duration": 8,
    "start_time": "2022-03-17T08:00:00.831Z"
   },
   {
    "duration": 421,
    "start_time": "2022-03-17T08:00:00.841Z"
   },
   {
    "duration": 412,
    "start_time": "2022-03-17T08:00:01.265Z"
   },
   {
    "duration": 399,
    "start_time": "2022-03-17T08:00:01.682Z"
   },
   {
    "duration": 152,
    "start_time": "2022-03-17T08:00:02.083Z"
   },
   {
    "duration": 39,
    "start_time": "2022-03-17T08:02:25.273Z"
   },
   {
    "duration": 1631,
    "start_time": "2022-03-17T08:02:48.558Z"
   },
   {
    "duration": 751,
    "start_time": "2022-03-17T08:02:50.191Z"
   },
   {
    "duration": 177,
    "start_time": "2022-03-17T08:02:50.943Z"
   },
   {
    "duration": 48,
    "start_time": "2022-03-17T08:02:51.122Z"
   },
   {
    "duration": 138,
    "start_time": "2022-03-17T08:02:51.181Z"
   },
   {
    "duration": 6,
    "start_time": "2022-03-17T08:02:51.321Z"
   },
   {
    "duration": 28,
    "start_time": "2022-03-17T08:02:51.328Z"
   },
   {
    "duration": 3,
    "start_time": "2022-03-17T08:02:51.358Z"
   },
   {
    "duration": 24,
    "start_time": "2022-03-17T08:02:51.362Z"
   },
   {
    "duration": 6,
    "start_time": "2022-03-17T08:02:51.389Z"
   },
   {
    "duration": 8,
    "start_time": "2022-03-17T08:02:51.397Z"
   },
   {
    "duration": 7,
    "start_time": "2022-03-17T08:02:51.406Z"
   },
   {
    "duration": 22,
    "start_time": "2022-03-17T08:02:51.415Z"
   },
   {
    "duration": 4,
    "start_time": "2022-03-17T08:02:51.439Z"
   },
   {
    "duration": 1263,
    "start_time": "2022-03-17T08:02:51.444Z"
   },
   {
    "duration": 1085,
    "start_time": "2022-03-17T08:02:52.709Z"
   },
   {
    "duration": 1103,
    "start_time": "2022-03-17T08:02:53.796Z"
   },
   {
    "duration": 518,
    "start_time": "2022-03-17T08:02:54.901Z"
   },
   {
    "duration": 7,
    "start_time": "2022-03-17T08:02:55.421Z"
   },
   {
    "duration": 424,
    "start_time": "2022-03-17T08:02:55.430Z"
   },
   {
    "duration": 405,
    "start_time": "2022-03-17T08:02:55.856Z"
   },
   {
    "duration": 406,
    "start_time": "2022-03-17T08:02:56.262Z"
   },
   {
    "duration": 48,
    "start_time": "2022-03-17T08:02:56.669Z"
   },
   {
    "duration": 5,
    "start_time": "2022-03-17T08:04:35.655Z"
   },
   {
    "duration": 507,
    "start_time": "2022-03-17T08:04:49.558Z"
   },
   {
    "duration": 110,
    "start_time": "2022-03-17T08:08:18.164Z"
   },
   {
    "duration": 17,
    "start_time": "2022-03-17T08:10:42.793Z"
   },
   {
    "duration": 1900,
    "start_time": "2022-03-17T08:10:48.140Z"
   },
   {
    "duration": 779,
    "start_time": "2022-03-17T08:10:50.043Z"
   },
   {
    "duration": 220,
    "start_time": "2022-03-17T08:10:50.825Z"
   },
   {
    "duration": 60,
    "start_time": "2022-03-17T08:10:51.048Z"
   },
   {
    "duration": 198,
    "start_time": "2022-03-17T08:10:51.110Z"
   },
   {
    "duration": 8,
    "start_time": "2022-03-17T08:10:51.310Z"
   },
   {
    "duration": 44,
    "start_time": "2022-03-17T08:10:51.320Z"
   },
   {
    "duration": 15,
    "start_time": "2022-03-17T08:10:51.366Z"
   },
   {
    "duration": 20,
    "start_time": "2022-03-17T08:10:51.383Z"
   },
   {
    "duration": 13,
    "start_time": "2022-03-17T08:10:51.406Z"
   },
   {
    "duration": 15,
    "start_time": "2022-03-17T08:10:51.421Z"
   },
   {
    "duration": 12,
    "start_time": "2022-03-17T08:10:51.438Z"
   },
   {
    "duration": 29,
    "start_time": "2022-03-17T08:10:51.452Z"
   },
   {
    "duration": 9,
    "start_time": "2022-03-17T08:10:51.483Z"
   },
   {
    "duration": 1389,
    "start_time": "2022-03-17T08:10:51.494Z"
   },
   {
    "duration": 1463,
    "start_time": "2022-03-17T08:10:52.886Z"
   },
   {
    "duration": 1319,
    "start_time": "2022-03-17T08:10:54.351Z"
   },
   {
    "duration": 536,
    "start_time": "2022-03-17T08:10:55.671Z"
   },
   {
    "duration": 7,
    "start_time": "2022-03-17T08:10:56.209Z"
   },
   {
    "duration": 532,
    "start_time": "2022-03-17T08:10:56.218Z"
   },
   {
    "duration": 587,
    "start_time": "2022-03-17T08:10:56.752Z"
   },
   {
    "duration": 535,
    "start_time": "2022-03-17T08:10:57.341Z"
   },
   {
    "duration": 200,
    "start_time": "2022-03-17T08:10:57.881Z"
   },
   {
    "duration": 0,
    "start_time": "2022-03-17T08:10:58.083Z"
   },
   {
    "duration": 28,
    "start_time": "2022-03-17T08:11:25.448Z"
   },
   {
    "duration": 25,
    "start_time": "2022-03-17T08:11:29.607Z"
   },
   {
    "duration": 11,
    "start_time": "2022-03-17T08:12:23.873Z"
   },
   {
    "duration": 12,
    "start_time": "2022-03-17T08:12:53.586Z"
   },
   {
    "duration": 173,
    "start_time": "2022-03-17T08:13:08.730Z"
   },
   {
    "duration": 19,
    "start_time": "2022-03-17T08:23:30.700Z"
   },
   {
    "duration": 1900,
    "start_time": "2022-03-17T08:25:46.563Z"
   },
   {
    "duration": 747,
    "start_time": "2022-03-17T08:25:48.465Z"
   },
   {
    "duration": 155,
    "start_time": "2022-03-17T08:25:49.214Z"
   },
   {
    "duration": 52,
    "start_time": "2022-03-17T08:25:49.371Z"
   },
   {
    "duration": 135,
    "start_time": "2022-03-17T08:25:49.426Z"
   },
   {
    "duration": 6,
    "start_time": "2022-03-17T08:25:49.562Z"
   },
   {
    "duration": 29,
    "start_time": "2022-03-17T08:25:49.570Z"
   },
   {
    "duration": 3,
    "start_time": "2022-03-17T08:25:49.600Z"
   },
   {
    "duration": 10,
    "start_time": "2022-03-17T08:25:49.604Z"
   },
   {
    "duration": 7,
    "start_time": "2022-03-17T08:25:49.615Z"
   },
   {
    "duration": 9,
    "start_time": "2022-03-17T08:25:49.623Z"
   },
   {
    "duration": 6,
    "start_time": "2022-03-17T08:25:49.633Z"
   },
   {
    "duration": 46,
    "start_time": "2022-03-17T08:25:49.641Z"
   },
   {
    "duration": 5,
    "start_time": "2022-03-17T08:25:49.690Z"
   },
   {
    "duration": 1198,
    "start_time": "2022-03-17T08:25:49.697Z"
   },
   {
    "duration": 1091,
    "start_time": "2022-03-17T08:25:50.896Z"
   },
   {
    "duration": 1112,
    "start_time": "2022-03-17T08:25:51.989Z"
   },
   {
    "duration": 510,
    "start_time": "2022-03-17T08:25:53.103Z"
   },
   {
    "duration": 7,
    "start_time": "2022-03-17T08:25:53.615Z"
   },
   {
    "duration": 433,
    "start_time": "2022-03-17T08:25:53.623Z"
   },
   {
    "duration": 398,
    "start_time": "2022-03-17T08:25:54.057Z"
   },
   {
    "duration": 398,
    "start_time": "2022-03-17T08:25:54.457Z"
   },
   {
    "duration": 34,
    "start_time": "2022-03-17T08:25:54.857Z"
   },
   {
    "duration": 113,
    "start_time": "2022-03-17T08:25:54.892Z"
   },
   {
    "duration": 14,
    "start_time": "2022-03-17T08:31:27.467Z"
   },
   {
    "duration": 16,
    "start_time": "2022-03-17T08:31:46.778Z"
   },
   {
    "duration": 179,
    "start_time": "2022-03-17T08:33:47.983Z"
   },
   {
    "duration": 31,
    "start_time": "2022-03-17T08:33:52.998Z"
   },
   {
    "duration": 16,
    "start_time": "2022-03-17T08:34:02.463Z"
   },
   {
    "duration": 19,
    "start_time": "2022-03-17T08:34:57.793Z"
   },
   {
    "duration": 1867,
    "start_time": "2022-03-17T08:35:25.920Z"
   },
   {
    "duration": 768,
    "start_time": "2022-03-17T08:35:27.789Z"
   },
   {
    "duration": 170,
    "start_time": "2022-03-17T08:35:28.559Z"
   },
   {
    "duration": 82,
    "start_time": "2022-03-17T08:35:28.731Z"
   },
   {
    "duration": 198,
    "start_time": "2022-03-17T08:35:28.816Z"
   },
   {
    "duration": 8,
    "start_time": "2022-03-17T08:35:29.016Z"
   },
   {
    "duration": 28,
    "start_time": "2022-03-17T08:35:29.025Z"
   },
   {
    "duration": 2,
    "start_time": "2022-03-17T08:35:29.055Z"
   },
   {
    "duration": 23,
    "start_time": "2022-03-17T08:35:29.059Z"
   },
   {
    "duration": 6,
    "start_time": "2022-03-17T08:35:29.084Z"
   },
   {
    "duration": 8,
    "start_time": "2022-03-17T08:35:29.091Z"
   },
   {
    "duration": 6,
    "start_time": "2022-03-17T08:35:29.100Z"
   },
   {
    "duration": 18,
    "start_time": "2022-03-17T08:35:29.107Z"
   },
   {
    "duration": 4,
    "start_time": "2022-03-17T08:35:29.127Z"
   },
   {
    "duration": 1334,
    "start_time": "2022-03-17T08:35:29.133Z"
   },
   {
    "duration": 1330,
    "start_time": "2022-03-17T08:35:30.469Z"
   },
   {
    "duration": 1112,
    "start_time": "2022-03-17T08:35:31.800Z"
   },
   {
    "duration": 519,
    "start_time": "2022-03-17T08:35:32.914Z"
   },
   {
    "duration": 8,
    "start_time": "2022-03-17T08:35:33.435Z"
   },
   {
    "duration": 453,
    "start_time": "2022-03-17T08:35:33.445Z"
   },
   {
    "duration": 383,
    "start_time": "2022-03-17T08:35:33.900Z"
   },
   {
    "duration": 515,
    "start_time": "2022-03-17T08:35:34.284Z"
   },
   {
    "duration": 38,
    "start_time": "2022-03-17T08:35:34.801Z"
   },
   {
    "duration": 45,
    "start_time": "2022-03-17T08:35:34.841Z"
   },
   {
    "duration": 439,
    "start_time": "2022-03-17T09:04:07.730Z"
   },
   {
    "duration": 4,
    "start_time": "2022-03-17T09:20:45.083Z"
   },
   {
    "duration": 3,
    "start_time": "2022-03-17T09:33:18.545Z"
   },
   {
    "duration": 29,
    "start_time": "2022-03-17T09:56:06.212Z"
   },
   {
    "duration": 111,
    "start_time": "2022-03-17T09:59:34.418Z"
   },
   {
    "duration": 29,
    "start_time": "2022-03-17T10:01:19.797Z"
   },
   {
    "duration": 30,
    "start_time": "2022-03-17T10:01:30.039Z"
   },
   {
    "duration": 27,
    "start_time": "2022-03-17T10:01:32.310Z"
   },
   {
    "duration": 126,
    "start_time": "2022-03-17T10:01:42.214Z"
   },
   {
    "duration": 23,
    "start_time": "2022-03-17T10:02:34.352Z"
   },
   {
    "duration": 26,
    "start_time": "2022-03-17T10:02:52.929Z"
   },
   {
    "duration": 23,
    "start_time": "2022-03-17T10:03:13.113Z"
   },
   {
    "duration": 19,
    "start_time": "2022-03-17T10:03:28.042Z"
   },
   {
    "duration": 16,
    "start_time": "2022-03-17T10:05:17.823Z"
   },
   {
    "duration": 13,
    "start_time": "2022-03-17T10:06:30.720Z"
   },
   {
    "duration": 1673,
    "start_time": "2022-03-17T10:28:45.657Z"
   },
   {
    "duration": 1090,
    "start_time": "2022-03-17T10:28:47.332Z"
   },
   {
    "duration": 218,
    "start_time": "2022-03-17T10:28:48.424Z"
   },
   {
    "duration": 72,
    "start_time": "2022-03-17T10:28:48.644Z"
   },
   {
    "duration": 144,
    "start_time": "2022-03-17T10:28:48.718Z"
   },
   {
    "duration": 6,
    "start_time": "2022-03-17T10:28:48.864Z"
   },
   {
    "duration": 30,
    "start_time": "2022-03-17T10:28:48.872Z"
   },
   {
    "duration": 4,
    "start_time": "2022-03-17T10:28:48.904Z"
   },
   {
    "duration": 9,
    "start_time": "2022-03-17T10:28:48.910Z"
   },
   {
    "duration": 8,
    "start_time": "2022-03-17T10:28:48.921Z"
   },
   {
    "duration": 10,
    "start_time": "2022-03-17T10:28:48.931Z"
   },
   {
    "duration": 12,
    "start_time": "2022-03-17T10:28:48.943Z"
   },
   {
    "duration": 29,
    "start_time": "2022-03-17T10:28:48.957Z"
   },
   {
    "duration": 4,
    "start_time": "2022-03-17T10:28:48.989Z"
   },
   {
    "duration": 1105,
    "start_time": "2022-03-17T10:28:48.995Z"
   },
   {
    "duration": 1096,
    "start_time": "2022-03-17T10:28:50.102Z"
   },
   {
    "duration": 1167,
    "start_time": "2022-03-17T10:28:51.200Z"
   },
   {
    "duration": 540,
    "start_time": "2022-03-17T10:28:52.369Z"
   },
   {
    "duration": 7,
    "start_time": "2022-03-17T10:28:52.911Z"
   },
   {
    "duration": 521,
    "start_time": "2022-03-17T10:28:52.920Z"
   },
   {
    "duration": 504,
    "start_time": "2022-03-17T10:28:53.443Z"
   },
   {
    "duration": 423,
    "start_time": "2022-03-17T10:28:53.949Z"
   },
   {
    "duration": 35,
    "start_time": "2022-03-17T10:28:54.374Z"
   },
   {
    "duration": 22,
    "start_time": "2022-03-17T10:28:54.410Z"
   },
   {
    "duration": 422,
    "start_time": "2022-03-17T10:28:54.434Z"
   },
   {
    "duration": 3,
    "start_time": "2022-03-17T10:28:54.858Z"
   },
   {
    "duration": 127,
    "start_time": "2022-03-17T10:28:54.863Z"
   },
   {
    "duration": 12,
    "start_time": "2022-03-17T10:28:54.992Z"
   },
   {
    "duration": 16,
    "start_time": "2022-03-17T10:34:42.079Z"
   },
   {
    "duration": 12,
    "start_time": "2022-03-17T10:34:55.030Z"
   },
   {
    "duration": 3301,
    "start_time": "2022-03-17T10:37:38.009Z"
   },
   {
    "duration": 31,
    "start_time": "2022-03-17T10:47:15.782Z"
   },
   {
    "duration": 41,
    "start_time": "2022-03-17T11:13:35.568Z"
   },
   {
    "duration": 50,
    "start_time": "2022-03-17T11:14:19.264Z"
   },
   {
    "duration": 15,
    "start_time": "2022-03-17T11:14:28.130Z"
   },
   {
    "duration": 31,
    "start_time": "2022-03-17T11:16:49.046Z"
   },
   {
    "duration": 5,
    "start_time": "2022-03-17T11:16:56.639Z"
   },
   {
    "duration": 34,
    "start_time": "2022-03-17T11:19:06.075Z"
   },
   {
    "duration": 6,
    "start_time": "2022-03-17T11:19:08.145Z"
   },
   {
    "duration": 32,
    "start_time": "2022-03-17T11:19:24.828Z"
   },
   {
    "duration": 5,
    "start_time": "2022-03-17T11:19:27.644Z"
   },
   {
    "duration": 6,
    "start_time": "2022-03-17T11:19:32.284Z"
   },
   {
    "duration": 6,
    "start_time": "2022-03-17T11:19:42.540Z"
   },
   {
    "duration": 1501,
    "start_time": "2022-03-17T11:21:26.702Z"
   },
   {
    "duration": 742,
    "start_time": "2022-03-17T11:21:28.205Z"
   },
   {
    "duration": 156,
    "start_time": "2022-03-17T11:21:28.948Z"
   },
   {
    "duration": 45,
    "start_time": "2022-03-17T11:21:29.106Z"
   },
   {
    "duration": 169,
    "start_time": "2022-03-17T11:21:29.153Z"
   },
   {
    "duration": 7,
    "start_time": "2022-03-17T11:21:29.324Z"
   },
   {
    "duration": 32,
    "start_time": "2022-03-17T11:21:29.333Z"
   },
   {
    "duration": 14,
    "start_time": "2022-03-17T11:21:29.367Z"
   },
   {
    "duration": 7,
    "start_time": "2022-03-17T11:21:29.383Z"
   },
   {
    "duration": 6,
    "start_time": "2022-03-17T11:21:29.393Z"
   },
   {
    "duration": 8,
    "start_time": "2022-03-17T11:21:29.401Z"
   },
   {
    "duration": 5,
    "start_time": "2022-03-17T11:21:29.410Z"
   },
   {
    "duration": 20,
    "start_time": "2022-03-17T11:21:29.417Z"
   },
   {
    "duration": 4,
    "start_time": "2022-03-17T11:21:29.439Z"
   },
   {
    "duration": 1159,
    "start_time": "2022-03-17T11:21:29.445Z"
   },
   {
    "duration": 1171,
    "start_time": "2022-03-17T11:21:30.606Z"
   },
   {
    "duration": 1116,
    "start_time": "2022-03-17T11:21:31.780Z"
   },
   {
    "duration": 519,
    "start_time": "2022-03-17T11:21:32.899Z"
   },
   {
    "duration": 8,
    "start_time": "2022-03-17T11:21:33.419Z"
   },
   {
    "duration": 419,
    "start_time": "2022-03-17T11:21:33.428Z"
   },
   {
    "duration": 407,
    "start_time": "2022-03-17T11:21:33.848Z"
   },
   {
    "duration": 402,
    "start_time": "2022-03-17T11:21:34.257Z"
   },
   {
    "duration": 33,
    "start_time": "2022-03-17T11:21:34.661Z"
   },
   {
    "duration": 19,
    "start_time": "2022-03-17T11:21:34.696Z"
   },
   {
    "duration": 438,
    "start_time": "2022-03-17T11:21:34.716Z"
   },
   {
    "duration": 4,
    "start_time": "2022-03-17T11:21:35.155Z"
   },
   {
    "duration": 45,
    "start_time": "2022-03-17T11:21:35.160Z"
   },
   {
    "duration": 2,
    "start_time": "2022-03-17T11:21:35.208Z"
   },
   {
    "duration": 114,
    "start_time": "2022-03-17T11:24:39.119Z"
   },
   {
    "duration": 99,
    "start_time": "2022-03-17T11:26:56.907Z"
   },
   {
    "duration": 6,
    "start_time": "2022-03-17T11:27:09.187Z"
   },
   {
    "duration": 5,
    "start_time": "2022-03-17T11:35:12.789Z"
   },
   {
    "duration": 1759,
    "start_time": "2022-03-17T11:35:43.676Z"
   },
   {
    "duration": 835,
    "start_time": "2022-03-17T11:35:45.437Z"
   },
   {
    "duration": 164,
    "start_time": "2022-03-17T11:35:46.274Z"
   },
   {
    "duration": 52,
    "start_time": "2022-03-17T11:35:46.440Z"
   },
   {
    "duration": 134,
    "start_time": "2022-03-17T11:35:46.494Z"
   },
   {
    "duration": 6,
    "start_time": "2022-03-17T11:35:46.630Z"
   },
   {
    "duration": 21,
    "start_time": "2022-03-17T11:35:46.637Z"
   },
   {
    "duration": 9,
    "start_time": "2022-03-17T11:35:46.660Z"
   },
   {
    "duration": 19,
    "start_time": "2022-03-17T11:35:46.670Z"
   },
   {
    "duration": 7,
    "start_time": "2022-03-17T11:35:46.691Z"
   },
   {
    "duration": 13,
    "start_time": "2022-03-17T11:35:46.699Z"
   },
   {
    "duration": 7,
    "start_time": "2022-03-17T11:35:46.714Z"
   },
   {
    "duration": 21,
    "start_time": "2022-03-17T11:35:46.722Z"
   },
   {
    "duration": 4,
    "start_time": "2022-03-17T11:35:46.746Z"
   },
   {
    "duration": 1157,
    "start_time": "2022-03-17T11:35:46.751Z"
   },
   {
    "duration": 1176,
    "start_time": "2022-03-17T11:35:47.910Z"
   },
   {
    "duration": 1017,
    "start_time": "2022-03-17T11:35:49.088Z"
   },
   {
    "duration": 501,
    "start_time": "2022-03-17T11:35:50.107Z"
   },
   {
    "duration": 6,
    "start_time": "2022-03-17T11:35:50.609Z"
   },
   {
    "duration": 459,
    "start_time": "2022-03-17T11:35:50.617Z"
   },
   {
    "duration": 476,
    "start_time": "2022-03-17T11:35:51.080Z"
   },
   {
    "duration": 414,
    "start_time": "2022-03-17T11:35:51.557Z"
   },
   {
    "duration": 33,
    "start_time": "2022-03-17T11:35:51.972Z"
   },
   {
    "duration": 20,
    "start_time": "2022-03-17T11:35:52.007Z"
   },
   {
    "duration": 424,
    "start_time": "2022-03-17T11:35:52.029Z"
   },
   {
    "duration": 4,
    "start_time": "2022-03-17T11:35:52.454Z"
   },
   {
    "duration": 46,
    "start_time": "2022-03-17T11:35:52.459Z"
   },
   {
    "duration": 6,
    "start_time": "2022-03-17T11:35:52.506Z"
   },
   {
    "duration": 1483,
    "start_time": "2022-03-17T12:13:49.233Z"
   },
   {
    "duration": 761,
    "start_time": "2022-03-17T12:13:50.718Z"
   },
   {
    "duration": 150,
    "start_time": "2022-03-17T12:13:51.481Z"
   },
   {
    "duration": 52,
    "start_time": "2022-03-17T12:13:51.632Z"
   },
   {
    "duration": 127,
    "start_time": "2022-03-17T12:13:51.687Z"
   },
   {
    "duration": 6,
    "start_time": "2022-03-17T12:13:51.815Z"
   },
   {
    "duration": 23,
    "start_time": "2022-03-17T12:13:51.822Z"
   },
   {
    "duration": 5,
    "start_time": "2022-03-17T12:13:51.846Z"
   },
   {
    "duration": 9,
    "start_time": "2022-03-17T12:13:51.852Z"
   },
   {
    "duration": 19,
    "start_time": "2022-03-17T12:13:51.862Z"
   },
   {
    "duration": 5,
    "start_time": "2022-03-17T12:13:51.883Z"
   },
   {
    "duration": 6,
    "start_time": "2022-03-17T12:13:51.889Z"
   },
   {
    "duration": 20,
    "start_time": "2022-03-17T12:13:51.896Z"
   },
   {
    "duration": 5,
    "start_time": "2022-03-17T12:13:51.918Z"
   },
   {
    "duration": 1171,
    "start_time": "2022-03-17T12:13:51.924Z"
   },
   {
    "duration": 1274,
    "start_time": "2022-03-17T12:13:53.097Z"
   },
   {
    "duration": 1113,
    "start_time": "2022-03-17T12:13:54.374Z"
   },
   {
    "duration": 635,
    "start_time": "2022-03-17T12:13:55.488Z"
   },
   {
    "duration": 7,
    "start_time": "2022-03-17T12:13:56.125Z"
   },
   {
    "duration": 433,
    "start_time": "2022-03-17T12:13:56.133Z"
   },
   {
    "duration": 406,
    "start_time": "2022-03-17T12:13:56.567Z"
   },
   {
    "duration": 390,
    "start_time": "2022-03-17T12:13:56.974Z"
   },
   {
    "duration": 38,
    "start_time": "2022-03-17T12:13:57.365Z"
   },
   {
    "duration": 20,
    "start_time": "2022-03-17T12:13:57.405Z"
   },
   {
    "duration": 430,
    "start_time": "2022-03-17T12:13:57.426Z"
   },
   {
    "duration": 3,
    "start_time": "2022-03-17T12:13:57.857Z"
   },
   {
    "duration": 39,
    "start_time": "2022-03-17T12:13:57.862Z"
   },
   {
    "duration": 5,
    "start_time": "2022-03-17T12:13:57.902Z"
   },
   {
    "duration": 1558,
    "start_time": "2022-03-17T13:06:46.879Z"
   },
   {
    "duration": 745,
    "start_time": "2022-03-17T13:06:48.439Z"
   },
   {
    "duration": 158,
    "start_time": "2022-03-17T13:06:49.186Z"
   },
   {
    "duration": 55,
    "start_time": "2022-03-17T13:06:49.346Z"
   },
   {
    "duration": 136,
    "start_time": "2022-03-17T13:06:49.403Z"
   },
   {
    "duration": 6,
    "start_time": "2022-03-17T13:06:49.540Z"
   },
   {
    "duration": 20,
    "start_time": "2022-03-17T13:06:49.548Z"
   },
   {
    "duration": 3,
    "start_time": "2022-03-17T13:06:49.580Z"
   },
   {
    "duration": 9,
    "start_time": "2022-03-17T13:06:49.584Z"
   },
   {
    "duration": 7,
    "start_time": "2022-03-17T13:06:49.594Z"
   },
   {
    "duration": 9,
    "start_time": "2022-03-17T13:06:49.602Z"
   },
   {
    "duration": 6,
    "start_time": "2022-03-17T13:06:49.612Z"
   },
   {
    "duration": 38,
    "start_time": "2022-03-17T13:06:49.620Z"
   },
   {
    "duration": 4,
    "start_time": "2022-03-17T13:06:49.662Z"
   },
   {
    "duration": 1134,
    "start_time": "2022-03-17T13:06:49.667Z"
   },
   {
    "duration": 1180,
    "start_time": "2022-03-17T13:06:50.803Z"
   },
   {
    "duration": 1092,
    "start_time": "2022-03-17T13:06:51.985Z"
   },
   {
    "duration": 531,
    "start_time": "2022-03-17T13:06:53.078Z"
   },
   {
    "duration": 6,
    "start_time": "2022-03-17T13:06:53.611Z"
   },
   {
    "duration": 434,
    "start_time": "2022-03-17T13:06:53.619Z"
   },
   {
    "duration": 408,
    "start_time": "2022-03-17T13:06:54.054Z"
   },
   {
    "duration": 408,
    "start_time": "2022-03-17T13:06:54.463Z"
   },
   {
    "duration": 33,
    "start_time": "2022-03-17T13:06:54.873Z"
   },
   {
    "duration": 21,
    "start_time": "2022-03-17T13:06:54.908Z"
   },
   {
    "duration": 423,
    "start_time": "2022-03-17T13:06:54.930Z"
   },
   {
    "duration": 3,
    "start_time": "2022-03-17T13:06:55.355Z"
   },
   {
    "duration": 41,
    "start_time": "2022-03-17T13:06:55.359Z"
   },
   {
    "duration": 5,
    "start_time": "2022-03-17T13:06:55.402Z"
   },
   {
    "duration": 2,
    "start_time": "2022-03-17T13:07:36.786Z"
   },
   {
    "duration": 115,
    "start_time": "2022-03-17T13:38:29.187Z"
   },
   {
    "duration": 19,
    "start_time": "2022-03-17T13:38:52.265Z"
   },
   {
    "duration": 4,
    "start_time": "2022-03-17T13:39:24.685Z"
   },
   {
    "duration": 2,
    "start_time": "2022-03-17T13:39:27.348Z"
   },
   {
    "duration": 1809,
    "start_time": "2022-03-17T13:39:29.372Z"
   },
   {
    "duration": 4,
    "start_time": "2022-03-17T13:41:23.881Z"
   },
   {
    "duration": 1476,
    "start_time": "2022-03-17T13:53:01.330Z"
   },
   {
    "duration": 751,
    "start_time": "2022-03-17T13:53:02.808Z"
   },
   {
    "duration": 162,
    "start_time": "2022-03-17T13:53:03.561Z"
   },
   {
    "duration": 42,
    "start_time": "2022-03-17T13:53:03.725Z"
   },
   {
    "duration": 126,
    "start_time": "2022-03-17T13:53:03.780Z"
   },
   {
    "duration": 5,
    "start_time": "2022-03-17T13:53:03.907Z"
   },
   {
    "duration": 21,
    "start_time": "2022-03-17T13:53:03.914Z"
   },
   {
    "duration": 5,
    "start_time": "2022-03-17T13:53:03.936Z"
   },
   {
    "duration": 10,
    "start_time": "2022-03-17T13:53:03.942Z"
   },
   {
    "duration": 6,
    "start_time": "2022-03-17T13:53:03.954Z"
   },
   {
    "duration": 23,
    "start_time": "2022-03-17T13:53:03.961Z"
   },
   {
    "duration": 7,
    "start_time": "2022-03-17T13:53:03.985Z"
   },
   {
    "duration": 18,
    "start_time": "2022-03-17T13:53:03.993Z"
   },
   {
    "duration": 4,
    "start_time": "2022-03-17T13:53:04.012Z"
   },
   {
    "duration": 1173,
    "start_time": "2022-03-17T13:53:04.018Z"
   },
   {
    "duration": 1188,
    "start_time": "2022-03-17T13:53:05.193Z"
   },
   {
    "duration": 1108,
    "start_time": "2022-03-17T13:53:06.382Z"
   },
   {
    "duration": 509,
    "start_time": "2022-03-17T13:53:07.491Z"
   },
   {
    "duration": 7,
    "start_time": "2022-03-17T13:53:08.002Z"
   },
   {
    "duration": 445,
    "start_time": "2022-03-17T13:53:08.010Z"
   },
   {
    "duration": 407,
    "start_time": "2022-03-17T13:53:08.457Z"
   },
   {
    "duration": 392,
    "start_time": "2022-03-17T13:53:08.866Z"
   },
   {
    "duration": 32,
    "start_time": "2022-03-17T13:53:09.260Z"
   },
   {
    "duration": 19,
    "start_time": "2022-03-17T13:53:09.294Z"
   },
   {
    "duration": 424,
    "start_time": "2022-03-17T13:53:09.315Z"
   },
   {
    "duration": 3,
    "start_time": "2022-03-17T13:53:09.741Z"
   },
   {
    "duration": 41,
    "start_time": "2022-03-17T13:53:09.745Z"
   },
   {
    "duration": 5,
    "start_time": "2022-03-17T13:53:09.789Z"
   },
   {
    "duration": 5,
    "start_time": "2022-03-17T13:53:09.795Z"
   },
   {
    "duration": 101,
    "start_time": "2022-03-17T13:53:09.801Z"
   },
   {
    "duration": 1900,
    "start_time": "2022-03-17T13:56:37.881Z"
   },
   {
    "duration": 2142,
    "start_time": "2022-03-17T13:57:15.245Z"
   },
   {
    "duration": 1856,
    "start_time": "2022-03-17T13:57:58.134Z"
   },
   {
    "duration": 2823,
    "start_time": "2022-03-17T14:00:22.661Z"
   },
   {
    "duration": 2159,
    "start_time": "2022-03-17T14:00:54.822Z"
   },
   {
    "duration": 2323,
    "start_time": "2022-03-17T14:10:49.859Z"
   },
   {
    "duration": 3003,
    "start_time": "2022-03-17T14:11:13.479Z"
   },
   {
    "duration": 2188,
    "start_time": "2022-03-17T14:16:04.593Z"
   },
   {
    "duration": 2666,
    "start_time": "2022-03-17T14:23:03.417Z"
   },
   {
    "duration": 2750,
    "start_time": "2022-03-17T14:23:13.032Z"
   },
   {
    "duration": 2451,
    "start_time": "2022-03-17T14:24:04.131Z"
   },
   {
    "duration": 3085,
    "start_time": "2022-03-17T14:27:51.005Z"
   },
   {
    "duration": 3199,
    "start_time": "2022-03-17T14:28:12.597Z"
   },
   {
    "duration": 3301,
    "start_time": "2022-03-17T14:28:32.381Z"
   },
   {
    "duration": 2479,
    "start_time": "2022-03-17T14:28:45.518Z"
   },
   {
    "duration": 3059,
    "start_time": "2022-03-17T14:29:00.230Z"
   },
   {
    "duration": 2829,
    "start_time": "2022-03-17T14:29:45.353Z"
   },
   {
    "duration": 2718,
    "start_time": "2022-03-17T14:30:04.971Z"
   },
   {
    "duration": 2890,
    "start_time": "2022-03-17T14:30:58.092Z"
   },
   {
    "duration": 2084,
    "start_time": "2022-03-17T14:31:06.700Z"
   },
   {
    "duration": 2745,
    "start_time": "2022-03-17T14:31:52.039Z"
   },
   {
    "duration": 2318,
    "start_time": "2022-03-17T14:32:26.064Z"
   },
   {
    "duration": 2485,
    "start_time": "2022-03-17T14:32:35.000Z"
   },
   {
    "duration": 2378,
    "start_time": "2022-03-17T14:33:57.907Z"
   },
   {
    "duration": 1576,
    "start_time": "2022-03-17T14:34:15.152Z"
   },
   {
    "duration": 758,
    "start_time": "2022-03-17T14:34:16.730Z"
   },
   {
    "duration": 164,
    "start_time": "2022-03-17T14:34:17.490Z"
   },
   {
    "duration": 55,
    "start_time": "2022-03-17T14:34:17.657Z"
   },
   {
    "duration": 142,
    "start_time": "2022-03-17T14:34:17.714Z"
   },
   {
    "duration": 5,
    "start_time": "2022-03-17T14:34:17.858Z"
   },
   {
    "duration": 28,
    "start_time": "2022-03-17T14:34:17.865Z"
   },
   {
    "duration": 4,
    "start_time": "2022-03-17T14:34:17.895Z"
   },
   {
    "duration": 8,
    "start_time": "2022-03-17T14:34:17.900Z"
   },
   {
    "duration": 6,
    "start_time": "2022-03-17T14:34:17.911Z"
   },
   {
    "duration": 6,
    "start_time": "2022-03-17T14:34:17.918Z"
   },
   {
    "duration": 6,
    "start_time": "2022-03-17T14:34:17.926Z"
   },
   {
    "duration": 18,
    "start_time": "2022-03-17T14:34:17.934Z"
   },
   {
    "duration": 4,
    "start_time": "2022-03-17T14:34:17.980Z"
   },
   {
    "duration": 1113,
    "start_time": "2022-03-17T14:34:17.985Z"
   },
   {
    "duration": 1172,
    "start_time": "2022-03-17T14:34:19.100Z"
   },
   {
    "duration": 1111,
    "start_time": "2022-03-17T14:34:20.274Z"
   },
   {
    "duration": 518,
    "start_time": "2022-03-17T14:34:21.387Z"
   },
   {
    "duration": 7,
    "start_time": "2022-03-17T14:34:21.906Z"
   },
   {
    "duration": 438,
    "start_time": "2022-03-17T14:34:21.914Z"
   },
   {
    "duration": 396,
    "start_time": "2022-03-17T14:34:22.354Z"
   },
   {
    "duration": 409,
    "start_time": "2022-03-17T14:34:22.751Z"
   },
   {
    "duration": 37,
    "start_time": "2022-03-17T14:34:23.162Z"
   },
   {
    "duration": 22,
    "start_time": "2022-03-17T14:34:23.201Z"
   },
   {
    "duration": 428,
    "start_time": "2022-03-17T14:34:23.224Z"
   },
   {
    "duration": 3,
    "start_time": "2022-03-17T14:34:23.654Z"
   },
   {
    "duration": 43,
    "start_time": "2022-03-17T14:34:23.659Z"
   },
   {
    "duration": 4,
    "start_time": "2022-03-17T14:34:23.706Z"
   },
   {
    "duration": 4,
    "start_time": "2022-03-17T14:34:23.712Z"
   },
   {
    "duration": 2172,
    "start_time": "2022-03-17T14:34:23.717Z"
   },
   {
    "duration": 2435,
    "start_time": "2022-03-17T14:34:45.546Z"
   },
   {
    "duration": 2079,
    "start_time": "2022-03-17T14:35:47.710Z"
   },
   {
    "duration": 2,
    "start_time": "2022-03-17T14:48:10.517Z"
   },
   {
    "duration": 3959,
    "start_time": "2022-03-17T14:48:13.326Z"
   },
   {
    "duration": 2,
    "start_time": "2022-03-17T14:48:39.870Z"
   },
   {
    "duration": 3812,
    "start_time": "2022-03-17T14:48:41.870Z"
   },
   {
    "duration": 92,
    "start_time": "2022-03-17T14:59:36.049Z"
   },
   {
    "duration": 450711,
    "start_time": "2022-03-17T15:01:53.456Z"
   },
   {
    "duration": 11,
    "start_time": "2022-03-17T15:21:29.302Z"
   },
   {
    "duration": 3,
    "start_time": "2022-03-17T15:36:37.988Z"
   },
   {
    "duration": 148772,
    "start_time": "2022-03-17T15:45:53.433Z"
   },
   {
    "duration": 13,
    "start_time": "2022-03-17T15:49:29.067Z"
   },
   {
    "duration": 102591,
    "start_time": "2022-03-17T15:49:52.651Z"
   },
   {
    "duration": 0,
    "start_time": "2022-03-17T15:59:35.496Z"
   },
   {
    "duration": 3,
    "start_time": "2022-03-17T16:03:29.743Z"
   },
   {
    "duration": 2999,
    "start_time": "2022-03-18T07:40:59.646Z"
   },
   {
    "duration": 893,
    "start_time": "2022-03-18T07:41:02.651Z"
   },
   {
    "duration": 364,
    "start_time": "2022-03-18T07:41:03.546Z"
   },
   {
    "duration": 109,
    "start_time": "2022-03-18T07:41:03.914Z"
   },
   {
    "duration": 264,
    "start_time": "2022-03-18T07:41:04.026Z"
   },
   {
    "duration": 10,
    "start_time": "2022-03-18T07:41:04.293Z"
   },
   {
    "duration": 78,
    "start_time": "2022-03-18T07:41:04.306Z"
   },
   {
    "duration": 5,
    "start_time": "2022-03-18T07:41:04.389Z"
   },
   {
    "duration": 22,
    "start_time": "2022-03-18T07:41:04.397Z"
   },
   {
    "duration": 20,
    "start_time": "2022-03-18T07:41:04.425Z"
   },
   {
    "duration": 37,
    "start_time": "2022-03-18T07:41:04.448Z"
   },
   {
    "duration": 32,
    "start_time": "2022-03-18T07:41:04.489Z"
   },
   {
    "duration": 40,
    "start_time": "2022-03-18T07:41:04.524Z"
   },
   {
    "duration": 10,
    "start_time": "2022-03-18T07:41:04.567Z"
   },
   {
    "duration": 2155,
    "start_time": "2022-03-18T07:41:04.583Z"
   },
   {
    "duration": 2120,
    "start_time": "2022-03-18T07:41:06.741Z"
   },
   {
    "duration": 2045,
    "start_time": "2022-03-18T07:41:08.864Z"
   },
   {
    "duration": 908,
    "start_time": "2022-03-18T07:41:10.912Z"
   },
   {
    "duration": 14,
    "start_time": "2022-03-18T07:41:11.823Z"
   },
   {
    "duration": 674,
    "start_time": "2022-03-18T07:41:11.840Z"
   },
   {
    "duration": 949,
    "start_time": "2022-03-18T07:41:12.517Z"
   },
   {
    "duration": 756,
    "start_time": "2022-03-18T07:41:13.469Z"
   },
   {
    "duration": 82,
    "start_time": "2022-03-18T07:41:14.229Z"
   },
   {
    "duration": 43,
    "start_time": "2022-03-18T07:41:14.314Z"
   },
   {
    "duration": 938,
    "start_time": "2022-03-18T07:41:14.360Z"
   },
   {
    "duration": 7,
    "start_time": "2022-03-18T07:41:15.301Z"
   },
   {
    "duration": 100,
    "start_time": "2022-03-18T07:41:15.311Z"
   },
   {
    "duration": 9,
    "start_time": "2022-03-18T07:41:15.417Z"
   },
   {
    "duration": 13,
    "start_time": "2022-03-18T07:41:15.429Z"
   },
   {
    "duration": 4454,
    "start_time": "2022-03-18T07:41:15.445Z"
   },
   {
    "duration": 84,
    "start_time": "2022-03-18T07:41:19.902Z"
   },
   {
    "duration": 590527,
    "start_time": "2022-03-18T07:41:19.992Z"
   },
   {
    "duration": 2335,
    "start_time": "2022-03-18T14:22:53.879Z"
   },
   {
    "duration": 946,
    "start_time": "2022-03-18T14:22:56.218Z"
   },
   {
    "duration": 296,
    "start_time": "2022-03-18T14:22:57.167Z"
   },
   {
    "duration": 103,
    "start_time": "2022-03-18T14:22:57.466Z"
   },
   {
    "duration": 260,
    "start_time": "2022-03-18T14:22:57.573Z"
   },
   {
    "duration": 12,
    "start_time": "2022-03-18T14:22:57.835Z"
   },
   {
    "duration": 37,
    "start_time": "2022-03-18T14:22:57.849Z"
   },
   {
    "duration": 4,
    "start_time": "2022-03-18T14:22:57.888Z"
   },
   {
    "duration": 54,
    "start_time": "2022-03-18T14:22:57.895Z"
   },
   {
    "duration": 10,
    "start_time": "2022-03-18T14:22:57.951Z"
   },
   {
    "duration": 12,
    "start_time": "2022-03-18T14:22:57.963Z"
   },
   {
    "duration": 11,
    "start_time": "2022-03-18T14:22:57.977Z"
   },
   {
    "duration": 23,
    "start_time": "2022-03-18T14:22:58.042Z"
   },
   {
    "duration": 7,
    "start_time": "2022-03-18T14:22:58.069Z"
   },
   {
    "duration": 1587,
    "start_time": "2022-03-18T14:22:58.078Z"
   },
   {
    "duration": 1528,
    "start_time": "2022-03-18T14:22:59.667Z"
   },
   {
    "duration": 1414,
    "start_time": "2022-03-18T14:23:01.198Z"
   },
   {
    "duration": 852,
    "start_time": "2022-03-18T14:23:02.614Z"
   },
   {
    "duration": 13,
    "start_time": "2022-03-18T14:23:03.469Z"
   },
   {
    "duration": 631,
    "start_time": "2022-03-18T14:23:03.484Z"
   },
   {
    "duration": 651,
    "start_time": "2022-03-18T14:23:04.117Z"
   },
   {
    "duration": 596,
    "start_time": "2022-03-18T14:23:04.770Z"
   },
   {
    "duration": 42,
    "start_time": "2022-03-18T14:23:05.368Z"
   },
   {
    "duration": 49,
    "start_time": "2022-03-18T14:23:05.412Z"
   },
   {
    "duration": 599,
    "start_time": "2022-03-18T14:23:05.464Z"
   },
   {
    "duration": 5,
    "start_time": "2022-03-18T14:23:06.065Z"
   },
   {
    "duration": 75,
    "start_time": "2022-03-18T14:23:06.072Z"
   },
   {
    "duration": 8,
    "start_time": "2022-03-18T14:23:06.149Z"
   },
   {
    "duration": 14,
    "start_time": "2022-03-18T14:23:06.159Z"
   },
   {
    "duration": 2670,
    "start_time": "2022-03-18T14:23:06.176Z"
   },
   {
    "duration": 93,
    "start_time": "2022-03-18T14:23:08.850Z"
   },
   {
    "duration": 573721,
    "start_time": "2022-03-18T14:23:08.946Z"
   },
   {
    "duration": 4,
    "start_time": "2022-03-18T14:33:24.840Z"
   },
   {
    "duration": 3600,
    "start_time": "2022-03-18T14:33:27.845Z"
   },
   {
    "duration": 212337,
    "start_time": "2022-03-18T14:49:10.554Z"
   },
   {
    "duration": 2168,
    "start_time": "2022-03-18T14:54:14.324Z"
   },
   {
    "duration": 966,
    "start_time": "2022-03-18T14:54:16.495Z"
   },
   {
    "duration": 289,
    "start_time": "2022-03-18T14:54:17.464Z"
   },
   {
    "duration": 108,
    "start_time": "2022-03-18T14:54:17.755Z"
   },
   {
    "duration": 252,
    "start_time": "2022-03-18T14:54:17.867Z"
   },
   {
    "duration": 22,
    "start_time": "2022-03-18T14:54:18.121Z"
   },
   {
    "duration": 55,
    "start_time": "2022-03-18T14:54:18.147Z"
   },
   {
    "duration": 118,
    "start_time": "2022-03-18T14:54:18.205Z"
   },
   {
    "duration": 63,
    "start_time": "2022-03-18T14:54:18.326Z"
   },
   {
    "duration": 31,
    "start_time": "2022-03-18T14:54:18.391Z"
   },
   {
    "duration": 39,
    "start_time": "2022-03-18T14:54:18.425Z"
   },
   {
    "duration": 31,
    "start_time": "2022-03-18T14:54:18.467Z"
   },
   {
    "duration": 58,
    "start_time": "2022-03-18T14:54:18.500Z"
   },
   {
    "duration": 30,
    "start_time": "2022-03-18T14:54:18.563Z"
   },
   {
    "duration": 1556,
    "start_time": "2022-03-18T14:54:18.597Z"
   },
   {
    "duration": 1593,
    "start_time": "2022-03-18T14:54:20.156Z"
   },
   {
    "duration": 1595,
    "start_time": "2022-03-18T14:54:21.751Z"
   },
   {
    "duration": 843,
    "start_time": "2022-03-18T14:54:23.348Z"
   },
   {
    "duration": 11,
    "start_time": "2022-03-18T14:54:24.193Z"
   },
   {
    "duration": 724,
    "start_time": "2022-03-18T14:54:24.205Z"
   },
   {
    "duration": 643,
    "start_time": "2022-03-18T14:54:24.933Z"
   },
   {
    "duration": 706,
    "start_time": "2022-03-18T14:54:25.579Z"
   },
   {
    "duration": 56,
    "start_time": "2022-03-18T14:54:26.288Z"
   },
   {
    "duration": 34,
    "start_time": "2022-03-18T14:54:26.346Z"
   },
   {
    "duration": 601,
    "start_time": "2022-03-18T14:54:26.382Z"
   },
   {
    "duration": 5,
    "start_time": "2022-03-18T14:54:26.986Z"
   },
   {
    "duration": 76,
    "start_time": "2022-03-18T14:54:26.993Z"
   },
   {
    "duration": 7,
    "start_time": "2022-03-18T14:54:27.071Z"
   },
   {
    "duration": 7,
    "start_time": "2022-03-18T14:54:27.080Z"
   },
   {
    "duration": 3462,
    "start_time": "2022-03-18T14:54:27.089Z"
   },
   {
    "duration": 234943,
    "start_time": "2022-03-18T14:54:30.553Z"
   },
   {
    "duration": 4,
    "start_time": "2022-03-18T14:58:25.499Z"
   },
   {
    "duration": 2461,
    "start_time": "2022-03-18T16:16:53.511Z"
   },
   {
    "duration": 9639,
    "start_time": "2022-03-18T16:16:55.976Z"
   },
   {
    "duration": 260,
    "start_time": "2022-03-18T16:17:05.617Z"
   },
   {
    "duration": 104,
    "start_time": "2022-03-18T16:17:05.881Z"
   },
   {
    "duration": 260,
    "start_time": "2022-03-18T16:17:05.988Z"
   },
   {
    "duration": 9,
    "start_time": "2022-03-18T16:17:06.250Z"
   },
   {
    "duration": 35,
    "start_time": "2022-03-18T16:17:06.261Z"
   },
   {
    "duration": 44,
    "start_time": "2022-03-18T16:17:06.299Z"
   },
   {
    "duration": 12,
    "start_time": "2022-03-18T16:17:06.345Z"
   },
   {
    "duration": 11,
    "start_time": "2022-03-18T16:17:06.361Z"
   },
   {
    "duration": 15,
    "start_time": "2022-03-18T16:17:06.374Z"
   },
   {
    "duration": 49,
    "start_time": "2022-03-18T16:17:06.393Z"
   },
   {
    "duration": 22,
    "start_time": "2022-03-18T16:17:06.445Z"
   },
   {
    "duration": 8,
    "start_time": "2022-03-18T16:17:06.470Z"
   },
   {
    "duration": 1698,
    "start_time": "2022-03-18T16:17:06.479Z"
   },
   {
    "duration": 1755,
    "start_time": "2022-03-18T16:17:08.180Z"
   },
   {
    "duration": 1475,
    "start_time": "2022-03-18T16:17:09.937Z"
   },
   {
    "duration": 857,
    "start_time": "2022-03-18T16:17:11.414Z"
   },
   {
    "duration": 11,
    "start_time": "2022-03-18T16:17:12.273Z"
   },
   {
    "duration": 585,
    "start_time": "2022-03-18T16:17:12.286Z"
   },
   {
    "duration": 597,
    "start_time": "2022-03-18T16:17:12.874Z"
   },
   {
    "duration": 876,
    "start_time": "2022-03-18T16:17:13.474Z"
   },
   {
    "duration": 42,
    "start_time": "2022-03-18T16:17:14.356Z"
   },
   {
    "duration": 58,
    "start_time": "2022-03-18T16:17:14.401Z"
   },
   {
    "duration": 610,
    "start_time": "2022-03-18T16:17:14.461Z"
   },
   {
    "duration": 5,
    "start_time": "2022-03-18T16:17:15.073Z"
   },
   {
    "duration": 80,
    "start_time": "2022-03-18T16:17:15.081Z"
   },
   {
    "duration": 8,
    "start_time": "2022-03-18T16:17:15.166Z"
   },
   {
    "duration": 6,
    "start_time": "2022-03-18T16:17:15.176Z"
   },
   {
    "duration": 3865,
    "start_time": "2022-03-18T16:17:15.184Z"
   },
   {
    "duration": 4,
    "start_time": "2022-03-18T16:17:19.052Z"
   },
   {
    "duration": 12,
    "start_time": "2022-03-18T16:17:19.059Z"
   },
   {
    "duration": 234505,
    "start_time": "2022-03-18T16:17:19.074Z"
   },
   {
    "duration": 260,
    "start_time": "2022-03-18T17:43:19.419Z"
   },
   {
    "duration": 58,
    "start_time": "2022-03-18T17:43:49.320Z"
   },
   {
    "duration": 54,
    "start_time": "2022-03-18T17:44:33.568Z"
   },
   {
    "duration": 62,
    "start_time": "2022-03-18T17:49:26.536Z"
   },
   {
    "duration": 74,
    "start_time": "2022-03-18T17:49:30.994Z"
   },
   {
    "duration": 75,
    "start_time": "2022-03-18T17:49:32.740Z"
   },
   {
    "duration": 62,
    "start_time": "2022-03-18T17:50:41.840Z"
   },
   {
    "duration": 61,
    "start_time": "2022-03-18T17:50:43.809Z"
   },
   {
    "duration": 2941,
    "start_time": "2022-03-18T18:01:41.559Z"
   },
   {
    "duration": 1053,
    "start_time": "2022-03-18T18:01:44.504Z"
   },
   {
    "duration": 351,
    "start_time": "2022-03-18T18:01:45.560Z"
   },
   {
    "duration": 140,
    "start_time": "2022-03-18T18:01:45.915Z"
   },
   {
    "duration": 287,
    "start_time": "2022-03-18T18:01:46.058Z"
   },
   {
    "duration": 13,
    "start_time": "2022-03-18T18:01:46.348Z"
   },
   {
    "duration": 45,
    "start_time": "2022-03-18T18:01:46.364Z"
   },
   {
    "duration": 9,
    "start_time": "2022-03-18T18:01:46.412Z"
   },
   {
    "duration": 86,
    "start_time": "2022-03-18T18:01:46.423Z"
   },
   {
    "duration": 12,
    "start_time": "2022-03-18T18:01:46.515Z"
   },
   {
    "duration": 12,
    "start_time": "2022-03-18T18:01:46.529Z"
   },
   {
    "duration": 25,
    "start_time": "2022-03-18T18:01:46.544Z"
   },
   {
    "duration": 35,
    "start_time": "2022-03-18T18:01:46.572Z"
   },
   {
    "duration": 7,
    "start_time": "2022-03-18T18:01:46.609Z"
   },
   {
    "duration": 1895,
    "start_time": "2022-03-18T18:01:46.642Z"
   },
   {
    "duration": 2028,
    "start_time": "2022-03-18T18:01:48.541Z"
   },
   {
    "duration": 1719,
    "start_time": "2022-03-18T18:01:50.572Z"
   },
   {
    "duration": 1103,
    "start_time": "2022-03-18T18:01:52.293Z"
   },
   {
    "duration": 11,
    "start_time": "2022-03-18T18:01:53.398Z"
   },
   {
    "duration": 705,
    "start_time": "2022-03-18T18:01:53.411Z"
   },
   {
    "duration": 758,
    "start_time": "2022-03-18T18:01:54.119Z"
   },
   {
    "duration": 714,
    "start_time": "2022-03-18T18:01:54.879Z"
   },
   {
    "duration": 71,
    "start_time": "2022-03-18T18:01:55.596Z"
   },
   {
    "duration": 44,
    "start_time": "2022-03-18T18:01:55.671Z"
   },
   {
    "duration": 913,
    "start_time": "2022-03-18T18:01:55.718Z"
   },
   {
    "duration": 6,
    "start_time": "2022-03-18T18:01:56.647Z"
   },
   {
    "duration": 96,
    "start_time": "2022-03-18T18:01:56.656Z"
   },
   {
    "duration": 9,
    "start_time": "2022-03-18T18:01:56.760Z"
   },
   {
    "duration": 20,
    "start_time": "2022-03-18T18:01:56.773Z"
   },
   {
    "duration": 7574,
    "start_time": "2022-03-18T18:01:56.795Z"
   },
   {
    "duration": 6,
    "start_time": "2022-03-18T18:02:04.372Z"
   },
   {
    "duration": 99,
    "start_time": "2022-03-18T18:02:04.381Z"
   },
   {
    "duration": 271228,
    "start_time": "2022-03-18T18:02:04.484Z"
   },
   {
    "duration": 76,
    "start_time": "2022-03-18T18:06:35.714Z"
   },
   {
    "duration": 19,
    "start_time": "2022-03-18T18:25:07.232Z"
   },
   {
    "duration": 14,
    "start_time": "2022-03-18T18:27:00.332Z"
   },
   {
    "duration": 17,
    "start_time": "2022-03-18T18:27:03.418Z"
   },
   {
    "duration": 18,
    "start_time": "2022-03-18T18:27:17.506Z"
   },
   {
    "duration": 34,
    "start_time": "2022-03-18T19:43:40.377Z"
   },
   {
    "duration": 4,
    "start_time": "2022-03-18T19:49:33.844Z"
   },
   {
    "duration": 183,
    "start_time": "2022-03-18T19:56:58.797Z"
   },
   {
    "duration": 2202,
    "start_time": "2022-03-18T20:42:25.221Z"
   },
   {
    "duration": 1073,
    "start_time": "2022-03-18T20:42:27.427Z"
   },
   {
    "duration": 278,
    "start_time": "2022-03-18T20:42:28.502Z"
   },
   {
    "duration": 97,
    "start_time": "2022-03-18T20:42:28.783Z"
   },
   {
    "duration": 246,
    "start_time": "2022-03-18T20:42:28.882Z"
   },
   {
    "duration": 9,
    "start_time": "2022-03-18T20:42:29.150Z"
   },
   {
    "duration": 31,
    "start_time": "2022-03-18T20:42:29.161Z"
   },
   {
    "duration": 4,
    "start_time": "2022-03-18T20:42:29.193Z"
   },
   {
    "duration": 11,
    "start_time": "2022-03-18T20:42:29.199Z"
   },
   {
    "duration": 34,
    "start_time": "2022-03-18T20:42:29.214Z"
   },
   {
    "duration": 25,
    "start_time": "2022-03-18T20:42:29.250Z"
   },
   {
    "duration": 18,
    "start_time": "2022-03-18T20:42:29.277Z"
   },
   {
    "duration": 23,
    "start_time": "2022-03-18T20:42:29.297Z"
   },
   {
    "duration": 6,
    "start_time": "2022-03-18T20:42:29.323Z"
   },
   {
    "duration": 1526,
    "start_time": "2022-03-18T20:42:29.331Z"
   },
   {
    "duration": 1570,
    "start_time": "2022-03-18T20:42:30.860Z"
   },
   {
    "duration": 1474,
    "start_time": "2022-03-18T20:42:32.432Z"
   },
   {
    "duration": 770,
    "start_time": "2022-03-18T20:42:33.909Z"
   },
   {
    "duration": 12,
    "start_time": "2022-03-18T20:42:34.681Z"
   },
   {
    "duration": 685,
    "start_time": "2022-03-18T20:42:34.695Z"
   },
   {
    "duration": 587,
    "start_time": "2022-03-18T20:42:35.382Z"
   },
   {
    "duration": 601,
    "start_time": "2022-03-18T20:42:35.971Z"
   },
   {
    "duration": 42,
    "start_time": "2022-03-18T20:42:36.574Z"
   },
   {
    "duration": 49,
    "start_time": "2022-03-18T20:42:36.618Z"
   },
   {
    "duration": 596,
    "start_time": "2022-03-18T20:42:36.669Z"
   },
   {
    "duration": 5,
    "start_time": "2022-03-18T20:42:37.267Z"
   },
   {
    "duration": 58,
    "start_time": "2022-03-18T20:42:37.274Z"
   },
   {
    "duration": 8,
    "start_time": "2022-03-18T20:42:37.350Z"
   },
   {
    "duration": 23,
    "start_time": "2022-03-18T20:42:37.360Z"
   },
   {
    "duration": 4974,
    "start_time": "2022-03-18T20:42:37.385Z"
   },
   {
    "duration": 88,
    "start_time": "2022-03-18T20:42:42.363Z"
   },
   {
    "duration": 9,
    "start_time": "2022-03-18T20:42:42.458Z"
   },
   {
    "duration": 249190,
    "start_time": "2022-03-18T20:42:42.469Z"
   },
   {
    "duration": 63,
    "start_time": "2022-03-18T20:46:51.661Z"
   },
   {
    "duration": 36,
    "start_time": "2022-03-18T20:46:51.727Z"
   },
   {
    "duration": 2810,
    "start_time": "2022-03-19T19:59:18.298Z"
   },
   {
    "duration": 1773,
    "start_time": "2022-03-19T19:59:21.111Z"
   },
   {
    "duration": 418,
    "start_time": "2022-03-19T19:59:22.886Z"
   },
   {
    "duration": 99,
    "start_time": "2022-03-19T19:59:23.308Z"
   },
   {
    "duration": 246,
    "start_time": "2022-03-19T19:59:23.410Z"
   },
   {
    "duration": 8,
    "start_time": "2022-03-19T19:59:23.659Z"
   },
   {
    "duration": 45,
    "start_time": "2022-03-19T19:59:23.670Z"
   },
   {
    "duration": 7,
    "start_time": "2022-03-19T19:59:23.717Z"
   },
   {
    "duration": 15,
    "start_time": "2022-03-19T19:59:23.726Z"
   },
   {
    "duration": 40,
    "start_time": "2022-03-19T19:59:23.745Z"
   },
   {
    "duration": 6,
    "start_time": "2022-03-19T19:59:23.787Z"
   },
   {
    "duration": 10,
    "start_time": "2022-03-19T19:59:23.800Z"
   },
   {
    "duration": 25,
    "start_time": "2022-03-19T19:59:23.813Z"
   },
   {
    "duration": 47,
    "start_time": "2022-03-19T19:59:23.841Z"
   },
   {
    "duration": 1608,
    "start_time": "2022-03-19T19:59:23.890Z"
   },
   {
    "duration": 1649,
    "start_time": "2022-03-19T19:59:25.501Z"
   },
   {
    "duration": 1407,
    "start_time": "2022-03-19T19:59:27.152Z"
   },
   {
    "duration": 844,
    "start_time": "2022-03-19T19:59:28.561Z"
   },
   {
    "duration": 124,
    "start_time": "2022-03-19T19:59:29.407Z"
   },
   {
    "duration": 0,
    "start_time": "2022-03-19T19:59:29.534Z"
   },
   {
    "duration": 0,
    "start_time": "2022-03-19T19:59:29.536Z"
   },
   {
    "duration": 0,
    "start_time": "2022-03-19T19:59:29.537Z"
   },
   {
    "duration": 0,
    "start_time": "2022-03-19T19:59:29.539Z"
   },
   {
    "duration": 0,
    "start_time": "2022-03-19T19:59:29.541Z"
   },
   {
    "duration": 0,
    "start_time": "2022-03-19T19:59:29.542Z"
   },
   {
    "duration": 0,
    "start_time": "2022-03-19T19:59:29.543Z"
   },
   {
    "duration": 0,
    "start_time": "2022-03-19T19:59:29.545Z"
   },
   {
    "duration": 0,
    "start_time": "2022-03-19T19:59:29.546Z"
   },
   {
    "duration": 0,
    "start_time": "2022-03-19T19:59:29.547Z"
   },
   {
    "duration": 0,
    "start_time": "2022-03-19T19:59:29.549Z"
   },
   {
    "duration": 0,
    "start_time": "2022-03-19T19:59:29.551Z"
   },
   {
    "duration": 1,
    "start_time": "2022-03-19T19:59:29.552Z"
   },
   {
    "duration": 0,
    "start_time": "2022-03-19T19:59:29.555Z"
   },
   {
    "duration": 0,
    "start_time": "2022-03-19T19:59:29.556Z"
   },
   {
    "duration": 0,
    "start_time": "2022-03-19T19:59:29.558Z"
   },
   {
    "duration": 9,
    "start_time": "2022-03-19T20:01:23.861Z"
   },
   {
    "duration": 2178,
    "start_time": "2022-03-19T20:02:25.108Z"
   },
   {
    "duration": 1105,
    "start_time": "2022-03-19T20:02:27.289Z"
   },
   {
    "duration": 379,
    "start_time": "2022-03-19T20:02:28.398Z"
   },
   {
    "duration": 99,
    "start_time": "2022-03-19T20:02:28.785Z"
   },
   {
    "duration": 259,
    "start_time": "2022-03-19T20:02:28.887Z"
   },
   {
    "duration": 8,
    "start_time": "2022-03-19T20:02:29.149Z"
   },
   {
    "duration": 55,
    "start_time": "2022-03-19T20:02:29.160Z"
   },
   {
    "duration": 31,
    "start_time": "2022-03-19T20:02:29.218Z"
   },
   {
    "duration": 33,
    "start_time": "2022-03-19T20:02:29.251Z"
   },
   {
    "duration": 41,
    "start_time": "2022-03-19T20:02:29.290Z"
   },
   {
    "duration": 36,
    "start_time": "2022-03-19T20:02:29.334Z"
   },
   {
    "duration": 30,
    "start_time": "2022-03-19T20:02:29.373Z"
   },
   {
    "duration": 33,
    "start_time": "2022-03-19T20:02:29.405Z"
   },
   {
    "duration": 7,
    "start_time": "2022-03-19T20:02:29.440Z"
   },
   {
    "duration": 1739,
    "start_time": "2022-03-19T20:02:29.449Z"
   },
   {
    "duration": 1582,
    "start_time": "2022-03-19T20:02:31.190Z"
   },
   {
    "duration": 1522,
    "start_time": "2022-03-19T20:02:32.774Z"
   },
   {
    "duration": 832,
    "start_time": "2022-03-19T20:02:34.298Z"
   },
   {
    "duration": 9,
    "start_time": "2022-03-19T20:02:35.133Z"
   },
   {
    "duration": 687,
    "start_time": "2022-03-19T20:02:35.145Z"
   },
   {
    "duration": 691,
    "start_time": "2022-03-19T20:02:35.835Z"
   },
   {
    "duration": 619,
    "start_time": "2022-03-19T20:02:36.529Z"
   },
   {
    "duration": 59,
    "start_time": "2022-03-19T20:02:37.151Z"
   },
   {
    "duration": 31,
    "start_time": "2022-03-19T20:02:37.213Z"
   },
   {
    "duration": 680,
    "start_time": "2022-03-19T20:02:37.247Z"
   },
   {
    "duration": 5,
    "start_time": "2022-03-19T20:02:37.930Z"
   },
   {
    "duration": 69,
    "start_time": "2022-03-19T20:02:37.938Z"
   },
   {
    "duration": 11,
    "start_time": "2022-03-19T20:02:38.013Z"
   },
   {
    "duration": 5,
    "start_time": "2022-03-19T20:02:38.026Z"
   },
   {
    "duration": 3350,
    "start_time": "2022-03-19T20:02:38.034Z"
   },
   {
    "duration": 6,
    "start_time": "2022-03-19T20:02:41.388Z"
   },
   {
    "duration": 6,
    "start_time": "2022-03-19T20:02:41.485Z"
   },
   {
    "duration": 245860,
    "start_time": "2022-03-19T20:02:41.494Z"
   },
   {
    "duration": 70,
    "start_time": "2022-03-19T20:06:47.357Z"
   },
   {
    "duration": 13,
    "start_time": "2022-03-19T20:06:47.430Z"
   }
  ],
  "kernelspec": {
   "display_name": "Python 3 (ipykernel)",
   "language": "python",
   "name": "python3"
  },
  "language_info": {
   "codemirror_mode": {
    "name": "ipython",
    "version": 3
   },
   "file_extension": ".py",
   "mimetype": "text/x-python",
   "name": "python",
   "nbconvert_exporter": "python",
   "pygments_lexer": "ipython3",
   "version": "3.9.7"
  },
  "toc": {
   "base_numbering": 1,
   "nav_menu": {},
   "number_sections": true,
   "sideBar": true,
   "skip_h1_title": true,
   "title_cell": "Содержание",
   "title_sidebar": "Contents",
   "toc_cell": true,
   "toc_position": {
    "height": "351.2px",
    "left": "62px",
    "top": "111.14px",
    "width": "165px"
   },
   "toc_section_display": true,
   "toc_window_display": true
  }
 },
 "nbformat": 4,
 "nbformat_minor": 2
}
