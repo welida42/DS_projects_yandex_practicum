{
 "cells": [
  {
   "cell_type": "markdown",
   "metadata": {},
   "source": [
    "# Изучение рынка электронных игр для увеличения их продаж"
   ]
  },
  {
   "cell_type": "markdown",
   "metadata": {},
   "source": [
    "Для интернет-магазина, который продаёт по всему миру компьютерные игры, из открытых данных о продажах игр, оценки пользователей и экспертов, жанры и платформы (например, Xbox или PlayStation) необходимо выявить определяющие успешность игры закономерности. Это позволит сделать ставку на потенциально популярный продукт и спланировать рекламные кампании."
   ]
  },
  {
   "cell_type": "markdown",
   "metadata": {},
   "source": [
    "# Содержание\n",
    "\n",
    "[1 Ознакомление и изучение общей информации](#1)\n",
    "\n",
    "- [1.1 Вывод](#11)\n",
    "\n",
    "[2 Предобработка данных](#2)\n",
    "\n",
    "- [2.1  Замена названия столбцов и типов данных](#21)\n",
    "\n",
    "- [2.2  Обработка пропусков](#22)\n",
    "\n",
    "- [2.3  Замена значений](#23)\n",
    "\n",
    "- [2.4  Создание столбца с суммарными продажами](#24)\n",
    "\n",
    "- [2.5 Вывод](#25)\n",
    "\n",
    "[3  Исследовательский анализ данных](#3)\n",
    "\n",
    "- [3.1  Оценка количества выпущенных игр в разные годы](#31)\n",
    "\n",
    "- [3.2  Поиск лидеров по продажам и потенциально прибыльных платформ](#32)\n",
    "\n",
    "- [3.3  Оценка глобальных продаж актуалных платформ и влияния на них рейтингов критиков и пользователей](#33)\n",
    "\n",
    "- [3.4  Оценка продаж игр в зависимости от их жанра](#34)\n",
    "\n",
    "- [3.5 Вывод](#35)\n",
    "\n",
    "[4  Составление портрета пользователя каждого региона](#4)\n",
    "\n",
    "- [4.1  Самые популярные платформы](#41)\n",
    "\n",
    "- [4.2  Самые популярные жанры](#42)\n",
    "\n",
    "- [4.3  Влияние рейтинга ESRB на продажи в регионах](#43)\n",
    "\n",
    "- [4.4  Вывод](#44)\n",
    "\n",
    "[5  Проверка гипотез](#5)\n",
    "\n",
    "- [5.1  Средние пользовательские рейтинги платформ Xbox One и PC одинаковые](#51)\n",
    "\n",
    "- [5.2  Средние пользовательские рейтинги жанров Action и Sports разные](#52)\n",
    "\n",
    "[6 Общий вывод](#6)"
   ]
  },
  {
   "cell_type": "markdown",
   "metadata": {},
   "source": [
    "<a id='1'></a>\n",
    "## Ознакомление и изучение общей информации"
   ]
  },
  {
   "cell_type": "code",
   "execution_count": 1,
   "metadata": {},
   "outputs": [],
   "source": [
    "import pandas as pd\n",
    "import numpy as np \n",
    "import math\n",
    "import matplotlib.pyplot as plt\n",
    "import seaborn as sns\n",
    "from scipy import stats as st\n",
    "\n",
    "\n",
    "df = pd.read_csv(\"/datasets/games.csv\")"
   ]
  },
  {
   "cell_type": "code",
   "execution_count": 2,
   "metadata": {},
   "outputs": [
    {
     "data": {
      "text/html": [
       "<div>\n",
       "<style scoped>\n",
       "    .dataframe tbody tr th:only-of-type {\n",
       "        vertical-align: middle;\n",
       "    }\n",
       "\n",
       "    .dataframe tbody tr th {\n",
       "        vertical-align: top;\n",
       "    }\n",
       "\n",
       "    .dataframe thead th {\n",
       "        text-align: right;\n",
       "    }\n",
       "</style>\n",
       "<table border=\"1\" class=\"dataframe\">\n",
       "  <thead>\n",
       "    <tr style=\"text-align: right;\">\n",
       "      <th></th>\n",
       "      <th>Name</th>\n",
       "      <th>Platform</th>\n",
       "      <th>Year_of_Release</th>\n",
       "      <th>Genre</th>\n",
       "      <th>NA_sales</th>\n",
       "      <th>EU_sales</th>\n",
       "      <th>JP_sales</th>\n",
       "      <th>Other_sales</th>\n",
       "      <th>Critic_Score</th>\n",
       "      <th>User_Score</th>\n",
       "      <th>Rating</th>\n",
       "    </tr>\n",
       "  </thead>\n",
       "  <tbody>\n",
       "    <tr>\n",
       "      <td>0</td>\n",
       "      <td>Wii Sports</td>\n",
       "      <td>Wii</td>\n",
       "      <td>2006.0</td>\n",
       "      <td>Sports</td>\n",
       "      <td>41.36</td>\n",
       "      <td>28.96</td>\n",
       "      <td>3.77</td>\n",
       "      <td>8.45</td>\n",
       "      <td>76.0</td>\n",
       "      <td>8</td>\n",
       "      <td>E</td>\n",
       "    </tr>\n",
       "    <tr>\n",
       "      <td>1</td>\n",
       "      <td>Super Mario Bros.</td>\n",
       "      <td>NES</td>\n",
       "      <td>1985.0</td>\n",
       "      <td>Platform</td>\n",
       "      <td>29.08</td>\n",
       "      <td>3.58</td>\n",
       "      <td>6.81</td>\n",
       "      <td>0.77</td>\n",
       "      <td>NaN</td>\n",
       "      <td>NaN</td>\n",
       "      <td>NaN</td>\n",
       "    </tr>\n",
       "    <tr>\n",
       "      <td>2</td>\n",
       "      <td>Mario Kart Wii</td>\n",
       "      <td>Wii</td>\n",
       "      <td>2008.0</td>\n",
       "      <td>Racing</td>\n",
       "      <td>15.68</td>\n",
       "      <td>12.76</td>\n",
       "      <td>3.79</td>\n",
       "      <td>3.29</td>\n",
       "      <td>82.0</td>\n",
       "      <td>8.3</td>\n",
       "      <td>E</td>\n",
       "    </tr>\n",
       "    <tr>\n",
       "      <td>3</td>\n",
       "      <td>Wii Sports Resort</td>\n",
       "      <td>Wii</td>\n",
       "      <td>2009.0</td>\n",
       "      <td>Sports</td>\n",
       "      <td>15.61</td>\n",
       "      <td>10.93</td>\n",
       "      <td>3.28</td>\n",
       "      <td>2.95</td>\n",
       "      <td>80.0</td>\n",
       "      <td>8</td>\n",
       "      <td>E</td>\n",
       "    </tr>\n",
       "    <tr>\n",
       "      <td>4</td>\n",
       "      <td>Pokemon Red/Pokemon Blue</td>\n",
       "      <td>GB</td>\n",
       "      <td>1996.0</td>\n",
       "      <td>Role-Playing</td>\n",
       "      <td>11.27</td>\n",
       "      <td>8.89</td>\n",
       "      <td>10.22</td>\n",
       "      <td>1.00</td>\n",
       "      <td>NaN</td>\n",
       "      <td>NaN</td>\n",
       "      <td>NaN</td>\n",
       "    </tr>\n",
       "    <tr>\n",
       "      <td>...</td>\n",
       "      <td>...</td>\n",
       "      <td>...</td>\n",
       "      <td>...</td>\n",
       "      <td>...</td>\n",
       "      <td>...</td>\n",
       "      <td>...</td>\n",
       "      <td>...</td>\n",
       "      <td>...</td>\n",
       "      <td>...</td>\n",
       "      <td>...</td>\n",
       "      <td>...</td>\n",
       "    </tr>\n",
       "    <tr>\n",
       "      <td>16710</td>\n",
       "      <td>Samurai Warriors: Sanada Maru</td>\n",
       "      <td>PS3</td>\n",
       "      <td>2016.0</td>\n",
       "      <td>Action</td>\n",
       "      <td>0.00</td>\n",
       "      <td>0.00</td>\n",
       "      <td>0.01</td>\n",
       "      <td>0.00</td>\n",
       "      <td>NaN</td>\n",
       "      <td>NaN</td>\n",
       "      <td>NaN</td>\n",
       "    </tr>\n",
       "    <tr>\n",
       "      <td>16711</td>\n",
       "      <td>LMA Manager 2007</td>\n",
       "      <td>X360</td>\n",
       "      <td>2006.0</td>\n",
       "      <td>Sports</td>\n",
       "      <td>0.00</td>\n",
       "      <td>0.01</td>\n",
       "      <td>0.00</td>\n",
       "      <td>0.00</td>\n",
       "      <td>NaN</td>\n",
       "      <td>NaN</td>\n",
       "      <td>NaN</td>\n",
       "    </tr>\n",
       "    <tr>\n",
       "      <td>16712</td>\n",
       "      <td>Haitaka no Psychedelica</td>\n",
       "      <td>PSV</td>\n",
       "      <td>2016.0</td>\n",
       "      <td>Adventure</td>\n",
       "      <td>0.00</td>\n",
       "      <td>0.00</td>\n",
       "      <td>0.01</td>\n",
       "      <td>0.00</td>\n",
       "      <td>NaN</td>\n",
       "      <td>NaN</td>\n",
       "      <td>NaN</td>\n",
       "    </tr>\n",
       "    <tr>\n",
       "      <td>16713</td>\n",
       "      <td>Spirits &amp; Spells</td>\n",
       "      <td>GBA</td>\n",
       "      <td>2003.0</td>\n",
       "      <td>Platform</td>\n",
       "      <td>0.01</td>\n",
       "      <td>0.00</td>\n",
       "      <td>0.00</td>\n",
       "      <td>0.00</td>\n",
       "      <td>NaN</td>\n",
       "      <td>NaN</td>\n",
       "      <td>NaN</td>\n",
       "    </tr>\n",
       "    <tr>\n",
       "      <td>16714</td>\n",
       "      <td>Winning Post 8 2016</td>\n",
       "      <td>PSV</td>\n",
       "      <td>2016.0</td>\n",
       "      <td>Simulation</td>\n",
       "      <td>0.00</td>\n",
       "      <td>0.00</td>\n",
       "      <td>0.01</td>\n",
       "      <td>0.00</td>\n",
       "      <td>NaN</td>\n",
       "      <td>NaN</td>\n",
       "      <td>NaN</td>\n",
       "    </tr>\n",
       "  </tbody>\n",
       "</table>\n",
       "<p>16715 rows × 11 columns</p>\n",
       "</div>"
      ],
      "text/plain": [
       "                                Name Platform  Year_of_Release         Genre  \\\n",
       "0                         Wii Sports      Wii           2006.0        Sports   \n",
       "1                  Super Mario Bros.      NES           1985.0      Platform   \n",
       "2                     Mario Kart Wii      Wii           2008.0        Racing   \n",
       "3                  Wii Sports Resort      Wii           2009.0        Sports   \n",
       "4           Pokemon Red/Pokemon Blue       GB           1996.0  Role-Playing   \n",
       "...                              ...      ...              ...           ...   \n",
       "16710  Samurai Warriors: Sanada Maru      PS3           2016.0        Action   \n",
       "16711               LMA Manager 2007     X360           2006.0        Sports   \n",
       "16712        Haitaka no Psychedelica      PSV           2016.0     Adventure   \n",
       "16713               Spirits & Spells      GBA           2003.0      Platform   \n",
       "16714            Winning Post 8 2016      PSV           2016.0    Simulation   \n",
       "\n",
       "       NA_sales  EU_sales  JP_sales  Other_sales  Critic_Score User_Score  \\\n",
       "0         41.36     28.96      3.77         8.45          76.0          8   \n",
       "1         29.08      3.58      6.81         0.77           NaN        NaN   \n",
       "2         15.68     12.76      3.79         3.29          82.0        8.3   \n",
       "3         15.61     10.93      3.28         2.95          80.0          8   \n",
       "4         11.27      8.89     10.22         1.00           NaN        NaN   \n",
       "...         ...       ...       ...          ...           ...        ...   \n",
       "16710      0.00      0.00      0.01         0.00           NaN        NaN   \n",
       "16711      0.00      0.01      0.00         0.00           NaN        NaN   \n",
       "16712      0.00      0.00      0.01         0.00           NaN        NaN   \n",
       "16713      0.01      0.00      0.00         0.00           NaN        NaN   \n",
       "16714      0.00      0.00      0.01         0.00           NaN        NaN   \n",
       "\n",
       "      Rating  \n",
       "0          E  \n",
       "1        NaN  \n",
       "2          E  \n",
       "3          E  \n",
       "4        NaN  \n",
       "...      ...  \n",
       "16710    NaN  \n",
       "16711    NaN  \n",
       "16712    NaN  \n",
       "16713    NaN  \n",
       "16714    NaN  \n",
       "\n",
       "[16715 rows x 11 columns]"
      ]
     },
     "execution_count": 2,
     "metadata": {},
     "output_type": "execute_result"
    }
   ],
   "source": [
    "df"
   ]
  },
  {
   "cell_type": "code",
   "execution_count": 3,
   "metadata": {},
   "outputs": [
    {
     "name": "stdout",
     "output_type": "stream",
     "text": [
      "<class 'pandas.core.frame.DataFrame'>\n",
      "RangeIndex: 16715 entries, 0 to 16714\n",
      "Data columns (total 11 columns):\n",
      "Name               16713 non-null object\n",
      "Platform           16715 non-null object\n",
      "Year_of_Release    16446 non-null float64\n",
      "Genre              16713 non-null object\n",
      "NA_sales           16715 non-null float64\n",
      "EU_sales           16715 non-null float64\n",
      "JP_sales           16715 non-null float64\n",
      "Other_sales        16715 non-null float64\n",
      "Critic_Score       8137 non-null float64\n",
      "User_Score         10014 non-null object\n",
      "Rating             9949 non-null object\n",
      "dtypes: float64(6), object(5)\n",
      "memory usage: 1.4+ MB\n"
     ]
    }
   ],
   "source": [
    "df.info()"
   ]
  },
  {
   "cell_type": "code",
   "execution_count": 4,
   "metadata": {},
   "outputs": [
    {
     "data": {
      "text/plain": [
       "Name                  2\n",
       "Platform              0\n",
       "Year_of_Release     269\n",
       "Genre                 2\n",
       "NA_sales              0\n",
       "EU_sales              0\n",
       "JP_sales              0\n",
       "Other_sales           0\n",
       "Critic_Score       8578\n",
       "User_Score         6701\n",
       "Rating             6766\n",
       "dtype: int64"
      ]
     },
     "execution_count": 4,
     "metadata": {},
     "output_type": "execute_result"
    }
   ],
   "source": [
    "df.isna().sum()"
   ]
  },
  {
   "cell_type": "code",
   "execution_count": 5,
   "metadata": {},
   "outputs": [
    {
     "data": {
      "text/html": [
       "<div>\n",
       "<style scoped>\n",
       "    .dataframe tbody tr th:only-of-type {\n",
       "        vertical-align: middle;\n",
       "    }\n",
       "\n",
       "    .dataframe tbody tr th {\n",
       "        vertical-align: top;\n",
       "    }\n",
       "\n",
       "    .dataframe thead th {\n",
       "        text-align: right;\n",
       "    }\n",
       "</style>\n",
       "<table border=\"1\" class=\"dataframe\">\n",
       "  <thead>\n",
       "    <tr style=\"text-align: right;\">\n",
       "      <th></th>\n",
       "      <th>Name</th>\n",
       "      <th>Platform</th>\n",
       "      <th>Year_of_Release</th>\n",
       "      <th>Genre</th>\n",
       "      <th>NA_sales</th>\n",
       "      <th>EU_sales</th>\n",
       "      <th>JP_sales</th>\n",
       "      <th>Other_sales</th>\n",
       "      <th>Critic_Score</th>\n",
       "      <th>User_Score</th>\n",
       "      <th>Rating</th>\n",
       "    </tr>\n",
       "  </thead>\n",
       "  <tbody>\n",
       "    <tr>\n",
       "      <td>659</td>\n",
       "      <td>NaN</td>\n",
       "      <td>GEN</td>\n",
       "      <td>1993.0</td>\n",
       "      <td>NaN</td>\n",
       "      <td>1.78</td>\n",
       "      <td>0.53</td>\n",
       "      <td>0.00</td>\n",
       "      <td>0.08</td>\n",
       "      <td>NaN</td>\n",
       "      <td>NaN</td>\n",
       "      <td>NaN</td>\n",
       "    </tr>\n",
       "    <tr>\n",
       "      <td>14244</td>\n",
       "      <td>NaN</td>\n",
       "      <td>GEN</td>\n",
       "      <td>1993.0</td>\n",
       "      <td>NaN</td>\n",
       "      <td>0.00</td>\n",
       "      <td>0.00</td>\n",
       "      <td>0.03</td>\n",
       "      <td>0.00</td>\n",
       "      <td>NaN</td>\n",
       "      <td>NaN</td>\n",
       "      <td>NaN</td>\n",
       "    </tr>\n",
       "  </tbody>\n",
       "</table>\n",
       "</div>"
      ],
      "text/plain": [
       "      Name Platform  Year_of_Release Genre  NA_sales  EU_sales  JP_sales  \\\n",
       "659    NaN      GEN           1993.0   NaN      1.78      0.53      0.00   \n",
       "14244  NaN      GEN           1993.0   NaN      0.00      0.00      0.03   \n",
       "\n",
       "       Other_sales  Critic_Score User_Score Rating  \n",
       "659           0.08           NaN        NaN    NaN  \n",
       "14244         0.00           NaN        NaN    NaN  "
      ]
     },
     "execution_count": 5,
     "metadata": {},
     "output_type": "execute_result"
    }
   ],
   "source": [
    "df[df['Name'].isna()]"
   ]
  },
  {
   "cell_type": "markdown",
   "metadata": {},
   "source": [
    "В 2-х строках с пропуском Name, пропущены как значения Genre, так и их рейтинги. На следующем этапе их удалим.\n"
   ]
  },
  {
   "cell_type": "code",
   "execution_count": 6,
   "metadata": {},
   "outputs": [
    {
     "data": {
      "text/plain": [
       "PS2     2161\n",
       "DS      2151\n",
       "PS3     1331\n",
       "Wii     1320\n",
       "X360    1262\n",
       "PSP     1209\n",
       "PS      1197\n",
       "PC       974\n",
       "XB       824\n",
       "GBA      822\n",
       "GC       556\n",
       "3DS      520\n",
       "PSV      430\n",
       "PS4      392\n",
       "N64      319\n",
       "XOne     247\n",
       "SNES     239\n",
       "SAT      173\n",
       "WiiU     147\n",
       "2600     133\n",
       "NES       98\n",
       "GB        98\n",
       "DC        52\n",
       "GEN       29\n",
       "NG        12\n",
       "WS         6\n",
       "SCD        6\n",
       "3DO        3\n",
       "TG16       2\n",
       "PCFX       1\n",
       "GG         1\n",
       "Name: Platform, dtype: int64"
      ]
     },
     "execution_count": 6,
     "metadata": {},
     "output_type": "execute_result"
    }
   ],
   "source": [
    "df['Platform'].value_counts()"
   ]
  },
  {
   "cell_type": "code",
   "execution_count": 7,
   "metadata": {},
   "outputs": [
    {
     "data": {
      "text/plain": [
       "Action          3369\n",
       "Sports          2348\n",
       "Misc            1750\n",
       "Role-Playing    1498\n",
       "Shooter         1323\n",
       "Adventure       1303\n",
       "Racing          1249\n",
       "Platform         888\n",
       "Simulation       873\n",
       "Fighting         849\n",
       "Strategy         683\n",
       "Puzzle           580\n",
       "Name: Genre, dtype: int64"
      ]
     },
     "execution_count": 7,
     "metadata": {},
     "output_type": "execute_result"
    }
   ],
   "source": [
    "df['Genre'].value_counts()"
   ]
  },
  {
   "cell_type": "code",
   "execution_count": 8,
   "metadata": {},
   "outputs": [
    {
     "data": {
      "text/plain": [
       "E       3990\n",
       "T       2961\n",
       "M       1563\n",
       "E10+    1420\n",
       "EC         8\n",
       "K-A        3\n",
       "RP         3\n",
       "AO         1\n",
       "Name: Rating, dtype: int64"
      ]
     },
     "execution_count": 8,
     "metadata": {},
     "output_type": "execute_result"
    }
   ],
   "source": [
    "df['Rating'].value_counts()"
   ]
  },
  {
   "cell_type": "code",
   "execution_count": 9,
   "metadata": {},
   "outputs": [
    {
     "data": {
      "text/plain": [
       "0"
      ]
     },
     "execution_count": 9,
     "metadata": {},
     "output_type": "execute_result"
    }
   ],
   "source": [
    "df.duplicated().sum()"
   ]
  },
  {
   "cell_type": "code",
   "execution_count": 10,
   "metadata": {
    "scrolled": true
   },
   "outputs": [
    {
     "data": {
      "text/html": [
       "<div>\n",
       "<style scoped>\n",
       "    .dataframe tbody tr th:only-of-type {\n",
       "        vertical-align: middle;\n",
       "    }\n",
       "\n",
       "    .dataframe tbody tr th {\n",
       "        vertical-align: top;\n",
       "    }\n",
       "\n",
       "    .dataframe thead th {\n",
       "        text-align: right;\n",
       "    }\n",
       "</style>\n",
       "<table border=\"1\" class=\"dataframe\">\n",
       "  <thead>\n",
       "    <tr style=\"text-align: right;\">\n",
       "      <th></th>\n",
       "      <th>Year_of_Release</th>\n",
       "      <th>NA_sales</th>\n",
       "      <th>EU_sales</th>\n",
       "      <th>JP_sales</th>\n",
       "      <th>Other_sales</th>\n",
       "      <th>Critic_Score</th>\n",
       "    </tr>\n",
       "  </thead>\n",
       "  <tbody>\n",
       "    <tr>\n",
       "      <td>count</td>\n",
       "      <td>16446.000000</td>\n",
       "      <td>16715.000000</td>\n",
       "      <td>16715.000000</td>\n",
       "      <td>16715.000000</td>\n",
       "      <td>16715.000000</td>\n",
       "      <td>8137.000000</td>\n",
       "    </tr>\n",
       "    <tr>\n",
       "      <td>mean</td>\n",
       "      <td>2006.484616</td>\n",
       "      <td>0.263377</td>\n",
       "      <td>0.145060</td>\n",
       "      <td>0.077617</td>\n",
       "      <td>0.047342</td>\n",
       "      <td>68.967679</td>\n",
       "    </tr>\n",
       "    <tr>\n",
       "      <td>std</td>\n",
       "      <td>5.877050</td>\n",
       "      <td>0.813604</td>\n",
       "      <td>0.503339</td>\n",
       "      <td>0.308853</td>\n",
       "      <td>0.186731</td>\n",
       "      <td>13.938165</td>\n",
       "    </tr>\n",
       "    <tr>\n",
       "      <td>min</td>\n",
       "      <td>1980.000000</td>\n",
       "      <td>0.000000</td>\n",
       "      <td>0.000000</td>\n",
       "      <td>0.000000</td>\n",
       "      <td>0.000000</td>\n",
       "      <td>13.000000</td>\n",
       "    </tr>\n",
       "    <tr>\n",
       "      <td>25%</td>\n",
       "      <td>2003.000000</td>\n",
       "      <td>0.000000</td>\n",
       "      <td>0.000000</td>\n",
       "      <td>0.000000</td>\n",
       "      <td>0.000000</td>\n",
       "      <td>60.000000</td>\n",
       "    </tr>\n",
       "    <tr>\n",
       "      <td>50%</td>\n",
       "      <td>2007.000000</td>\n",
       "      <td>0.080000</td>\n",
       "      <td>0.020000</td>\n",
       "      <td>0.000000</td>\n",
       "      <td>0.010000</td>\n",
       "      <td>71.000000</td>\n",
       "    </tr>\n",
       "    <tr>\n",
       "      <td>75%</td>\n",
       "      <td>2010.000000</td>\n",
       "      <td>0.240000</td>\n",
       "      <td>0.110000</td>\n",
       "      <td>0.040000</td>\n",
       "      <td>0.030000</td>\n",
       "      <td>79.000000</td>\n",
       "    </tr>\n",
       "    <tr>\n",
       "      <td>max</td>\n",
       "      <td>2016.000000</td>\n",
       "      <td>41.360000</td>\n",
       "      <td>28.960000</td>\n",
       "      <td>10.220000</td>\n",
       "      <td>10.570000</td>\n",
       "      <td>98.000000</td>\n",
       "    </tr>\n",
       "  </tbody>\n",
       "</table>\n",
       "</div>"
      ],
      "text/plain": [
       "       Year_of_Release      NA_sales      EU_sales      JP_sales  \\\n",
       "count     16446.000000  16715.000000  16715.000000  16715.000000   \n",
       "mean       2006.484616      0.263377      0.145060      0.077617   \n",
       "std           5.877050      0.813604      0.503339      0.308853   \n",
       "min        1980.000000      0.000000      0.000000      0.000000   \n",
       "25%        2003.000000      0.000000      0.000000      0.000000   \n",
       "50%        2007.000000      0.080000      0.020000      0.000000   \n",
       "75%        2010.000000      0.240000      0.110000      0.040000   \n",
       "max        2016.000000     41.360000     28.960000     10.220000   \n",
       "\n",
       "        Other_sales  Critic_Score  \n",
       "count  16715.000000   8137.000000  \n",
       "mean       0.047342     68.967679  \n",
       "std        0.186731     13.938165  \n",
       "min        0.000000     13.000000  \n",
       "25%        0.000000     60.000000  \n",
       "50%        0.010000     71.000000  \n",
       "75%        0.030000     79.000000  \n",
       "max       10.570000     98.000000  "
      ]
     },
     "execution_count": 10,
     "metadata": {},
     "output_type": "execute_result"
    }
   ],
   "source": [
    "df.describe()"
   ]
  },
  {
   "cell_type": "markdown",
   "metadata": {},
   "source": [
    "<a id='11'></a>\n",
    "### Вывод\n",
    "\n",
    "Выбивающихся значений не обнаружено, на этапе предобработки данных необходимо:\n",
    "\n",
    "- названия столбцов привести к нижнему регистру\n",
    "- преобразовать данные в целочисленный тип в столбцах: Year_of_Release, Critic_Score, т.к. точность от этого они не потеряют.\n",
    "- обработать в User_Score значения 'tbd', тогда колонка преобразуется в тип float. После чего их возможно нормализовать по отношению к Critic_Score (помножив колонку на 10) и так же перевести в целочисленный тип.  \n",
    "- переименовать в колонке Rating значения K-A в E, т.к. это одно и то же. \n",
    "- обработать пропуски, при этом 2 строки с пропуском в колонке Name можно удалить, т.к. в них пропущены большинство других значений.\n",
    "- дупликатов не обнаружено."
   ]
  },
  {
   "cell_type": "markdown",
   "metadata": {},
   "source": [
    "<a id='2'></a>\n",
    "## Предобработка данных"
   ]
  },
  {
   "cell_type": "markdown",
   "metadata": {},
   "source": [
    "<a id='21'></a>\n",
    "### Замена названия столбцов и типов данных"
   ]
  },
  {
   "cell_type": "code",
   "execution_count": 11,
   "metadata": {},
   "outputs": [
    {
     "data": {
      "text/html": [
       "<div>\n",
       "<style scoped>\n",
       "    .dataframe tbody tr th:only-of-type {\n",
       "        vertical-align: middle;\n",
       "    }\n",
       "\n",
       "    .dataframe tbody tr th {\n",
       "        vertical-align: top;\n",
       "    }\n",
       "\n",
       "    .dataframe thead th {\n",
       "        text-align: right;\n",
       "    }\n",
       "</style>\n",
       "<table border=\"1\" class=\"dataframe\">\n",
       "  <thead>\n",
       "    <tr style=\"text-align: right;\">\n",
       "      <th></th>\n",
       "      <th>name</th>\n",
       "      <th>platform</th>\n",
       "      <th>year_of_release</th>\n",
       "      <th>genre</th>\n",
       "      <th>na_sales</th>\n",
       "      <th>eu_sales</th>\n",
       "      <th>jp_sales</th>\n",
       "      <th>other_sales</th>\n",
       "      <th>critic_score</th>\n",
       "      <th>user_score</th>\n",
       "      <th>rating</th>\n",
       "    </tr>\n",
       "  </thead>\n",
       "  <tbody>\n",
       "    <tr>\n",
       "      <td>0</td>\n",
       "      <td>Wii Sports</td>\n",
       "      <td>Wii</td>\n",
       "      <td>2006</td>\n",
       "      <td>Sports</td>\n",
       "      <td>41.36</td>\n",
       "      <td>28.96</td>\n",
       "      <td>3.77</td>\n",
       "      <td>8.45</td>\n",
       "      <td>76</td>\n",
       "      <td>8</td>\n",
       "      <td>E</td>\n",
       "    </tr>\n",
       "    <tr>\n",
       "      <td>1</td>\n",
       "      <td>Super Mario Bros.</td>\n",
       "      <td>NES</td>\n",
       "      <td>1985</td>\n",
       "      <td>Platform</td>\n",
       "      <td>29.08</td>\n",
       "      <td>3.58</td>\n",
       "      <td>6.81</td>\n",
       "      <td>0.77</td>\n",
       "      <td>NaN</td>\n",
       "      <td>NaN</td>\n",
       "      <td>NaN</td>\n",
       "    </tr>\n",
       "    <tr>\n",
       "      <td>2</td>\n",
       "      <td>Mario Kart Wii</td>\n",
       "      <td>Wii</td>\n",
       "      <td>2008</td>\n",
       "      <td>Racing</td>\n",
       "      <td>15.68</td>\n",
       "      <td>12.76</td>\n",
       "      <td>3.79</td>\n",
       "      <td>3.29</td>\n",
       "      <td>82</td>\n",
       "      <td>8.3</td>\n",
       "      <td>E</td>\n",
       "    </tr>\n",
       "    <tr>\n",
       "      <td>3</td>\n",
       "      <td>Wii Sports Resort</td>\n",
       "      <td>Wii</td>\n",
       "      <td>2009</td>\n",
       "      <td>Sports</td>\n",
       "      <td>15.61</td>\n",
       "      <td>10.93</td>\n",
       "      <td>3.28</td>\n",
       "      <td>2.95</td>\n",
       "      <td>80</td>\n",
       "      <td>8</td>\n",
       "      <td>E</td>\n",
       "    </tr>\n",
       "    <tr>\n",
       "      <td>4</td>\n",
       "      <td>Pokemon Red/Pokemon Blue</td>\n",
       "      <td>GB</td>\n",
       "      <td>1996</td>\n",
       "      <td>Role-Playing</td>\n",
       "      <td>11.27</td>\n",
       "      <td>8.89</td>\n",
       "      <td>10.22</td>\n",
       "      <td>1.00</td>\n",
       "      <td>NaN</td>\n",
       "      <td>NaN</td>\n",
       "      <td>NaN</td>\n",
       "    </tr>\n",
       "  </tbody>\n",
       "</table>\n",
       "</div>"
      ],
      "text/plain": [
       "                       name platform  year_of_release         genre  na_sales  \\\n",
       "0                Wii Sports      Wii             2006        Sports     41.36   \n",
       "1         Super Mario Bros.      NES             1985      Platform     29.08   \n",
       "2            Mario Kart Wii      Wii             2008        Racing     15.68   \n",
       "3         Wii Sports Resort      Wii             2009        Sports     15.61   \n",
       "4  Pokemon Red/Pokemon Blue       GB             1996  Role-Playing     11.27   \n",
       "\n",
       "   eu_sales  jp_sales  other_sales  critic_score user_score rating  \n",
       "0     28.96      3.77         8.45            76          8      E  \n",
       "1      3.58      6.81         0.77           NaN        NaN    NaN  \n",
       "2     12.76      3.79         3.29            82        8.3      E  \n",
       "3     10.93      3.28         2.95            80          8      E  \n",
       "4      8.89     10.22         1.00           NaN        NaN    NaN  "
      ]
     },
     "execution_count": 11,
     "metadata": {},
     "output_type": "execute_result"
    }
   ],
   "source": [
    "df.columns=df.columns.str.lower()\n",
    "df['year_of_release'] = df['year_of_release'].astype('Int64')\n",
    "df['critic_score'] = df['critic_score'].astype('Int64')\n",
    "df.head()"
   ]
  },
  {
   "cell_type": "markdown",
   "metadata": {},
   "source": [
    "<a id='22'></a>\n",
    "### Обработка пропусков"
   ]
  },
  {
   "cell_type": "code",
   "execution_count": 12,
   "metadata": {},
   "outputs": [
    {
     "data": {
      "text/html": [
       "<div>\n",
       "<style scoped>\n",
       "    .dataframe tbody tr th:only-of-type {\n",
       "        vertical-align: middle;\n",
       "    }\n",
       "\n",
       "    .dataframe tbody tr th {\n",
       "        vertical-align: top;\n",
       "    }\n",
       "\n",
       "    .dataframe thead th {\n",
       "        text-align: right;\n",
       "    }\n",
       "</style>\n",
       "<table border=\"1\" class=\"dataframe\">\n",
       "  <thead>\n",
       "    <tr style=\"text-align: right;\">\n",
       "      <th></th>\n",
       "      <th>name</th>\n",
       "      <th>platform</th>\n",
       "      <th>year_of_release</th>\n",
       "      <th>genre</th>\n",
       "      <th>na_sales</th>\n",
       "      <th>eu_sales</th>\n",
       "      <th>jp_sales</th>\n",
       "      <th>other_sales</th>\n",
       "      <th>critic_score</th>\n",
       "      <th>user_score</th>\n",
       "      <th>rating</th>\n",
       "    </tr>\n",
       "  </thead>\n",
       "  <tbody>\n",
       "    <tr>\n",
       "      <td>183</td>\n",
       "      <td>Madden NFL 2004</td>\n",
       "      <td>PS2</td>\n",
       "      <td>NaN</td>\n",
       "      <td>Sports</td>\n",
       "      <td>4.26</td>\n",
       "      <td>0.26</td>\n",
       "      <td>0.01</td>\n",
       "      <td>0.71</td>\n",
       "      <td>94</td>\n",
       "      <td>8.5</td>\n",
       "      <td>E</td>\n",
       "    </tr>\n",
       "    <tr>\n",
       "      <td>377</td>\n",
       "      <td>FIFA Soccer 2004</td>\n",
       "      <td>PS2</td>\n",
       "      <td>NaN</td>\n",
       "      <td>Sports</td>\n",
       "      <td>0.59</td>\n",
       "      <td>2.36</td>\n",
       "      <td>0.04</td>\n",
       "      <td>0.51</td>\n",
       "      <td>84</td>\n",
       "      <td>6.4</td>\n",
       "      <td>E</td>\n",
       "    </tr>\n",
       "    <tr>\n",
       "      <td>456</td>\n",
       "      <td>LEGO Batman: The Videogame</td>\n",
       "      <td>Wii</td>\n",
       "      <td>NaN</td>\n",
       "      <td>Action</td>\n",
       "      <td>1.80</td>\n",
       "      <td>0.97</td>\n",
       "      <td>0.00</td>\n",
       "      <td>0.29</td>\n",
       "      <td>74</td>\n",
       "      <td>7.9</td>\n",
       "      <td>E10+</td>\n",
       "    </tr>\n",
       "    <tr>\n",
       "      <td>475</td>\n",
       "      <td>wwe Smackdown vs. Raw 2006</td>\n",
       "      <td>PS2</td>\n",
       "      <td>NaN</td>\n",
       "      <td>Fighting</td>\n",
       "      <td>1.57</td>\n",
       "      <td>1.02</td>\n",
       "      <td>0.00</td>\n",
       "      <td>0.41</td>\n",
       "      <td>NaN</td>\n",
       "      <td>NaN</td>\n",
       "      <td>NaN</td>\n",
       "    </tr>\n",
       "    <tr>\n",
       "      <td>609</td>\n",
       "      <td>Space Invaders</td>\n",
       "      <td>2600</td>\n",
       "      <td>NaN</td>\n",
       "      <td>Shooter</td>\n",
       "      <td>2.36</td>\n",
       "      <td>0.14</td>\n",
       "      <td>0.00</td>\n",
       "      <td>0.03</td>\n",
       "      <td>NaN</td>\n",
       "      <td>NaN</td>\n",
       "      <td>NaN</td>\n",
       "    </tr>\n",
       "    <tr>\n",
       "      <td>...</td>\n",
       "      <td>...</td>\n",
       "      <td>...</td>\n",
       "      <td>...</td>\n",
       "      <td>...</td>\n",
       "      <td>...</td>\n",
       "      <td>...</td>\n",
       "      <td>...</td>\n",
       "      <td>...</td>\n",
       "      <td>...</td>\n",
       "      <td>...</td>\n",
       "      <td>...</td>\n",
       "    </tr>\n",
       "    <tr>\n",
       "      <td>16373</td>\n",
       "      <td>PDC World Championship Darts 2008</td>\n",
       "      <td>PSP</td>\n",
       "      <td>NaN</td>\n",
       "      <td>Sports</td>\n",
       "      <td>0.01</td>\n",
       "      <td>0.00</td>\n",
       "      <td>0.00</td>\n",
       "      <td>0.00</td>\n",
       "      <td>43</td>\n",
       "      <td>tbd</td>\n",
       "      <td>E10+</td>\n",
       "    </tr>\n",
       "    <tr>\n",
       "      <td>16405</td>\n",
       "      <td>Freaky Flyers</td>\n",
       "      <td>GC</td>\n",
       "      <td>NaN</td>\n",
       "      <td>Racing</td>\n",
       "      <td>0.01</td>\n",
       "      <td>0.00</td>\n",
       "      <td>0.00</td>\n",
       "      <td>0.00</td>\n",
       "      <td>69</td>\n",
       "      <td>6.5</td>\n",
       "      <td>T</td>\n",
       "    </tr>\n",
       "    <tr>\n",
       "      <td>16448</td>\n",
       "      <td>Inversion</td>\n",
       "      <td>PC</td>\n",
       "      <td>NaN</td>\n",
       "      <td>Shooter</td>\n",
       "      <td>0.01</td>\n",
       "      <td>0.00</td>\n",
       "      <td>0.00</td>\n",
       "      <td>0.00</td>\n",
       "      <td>59</td>\n",
       "      <td>6.7</td>\n",
       "      <td>M</td>\n",
       "    </tr>\n",
       "    <tr>\n",
       "      <td>16458</td>\n",
       "      <td>Hakuouki: Shinsengumi Kitan</td>\n",
       "      <td>PS3</td>\n",
       "      <td>NaN</td>\n",
       "      <td>Adventure</td>\n",
       "      <td>0.01</td>\n",
       "      <td>0.00</td>\n",
       "      <td>0.00</td>\n",
       "      <td>0.00</td>\n",
       "      <td>NaN</td>\n",
       "      <td>NaN</td>\n",
       "      <td>NaN</td>\n",
       "    </tr>\n",
       "    <tr>\n",
       "      <td>16522</td>\n",
       "      <td>Virtua Quest</td>\n",
       "      <td>GC</td>\n",
       "      <td>NaN</td>\n",
       "      <td>Role-Playing</td>\n",
       "      <td>0.01</td>\n",
       "      <td>0.00</td>\n",
       "      <td>0.00</td>\n",
       "      <td>0.00</td>\n",
       "      <td>55</td>\n",
       "      <td>5.5</td>\n",
       "      <td>T</td>\n",
       "    </tr>\n",
       "  </tbody>\n",
       "</table>\n",
       "<p>269 rows × 11 columns</p>\n",
       "</div>"
      ],
      "text/plain": [
       "                                    name platform  year_of_release  \\\n",
       "183                      Madden NFL 2004      PS2              NaN   \n",
       "377                     FIFA Soccer 2004      PS2              NaN   \n",
       "456           LEGO Batman: The Videogame      Wii              NaN   \n",
       "475           wwe Smackdown vs. Raw 2006      PS2              NaN   \n",
       "609                       Space Invaders     2600              NaN   \n",
       "...                                  ...      ...              ...   \n",
       "16373  PDC World Championship Darts 2008      PSP              NaN   \n",
       "16405                      Freaky Flyers       GC              NaN   \n",
       "16448                          Inversion       PC              NaN   \n",
       "16458        Hakuouki: Shinsengumi Kitan      PS3              NaN   \n",
       "16522                       Virtua Quest       GC              NaN   \n",
       "\n",
       "              genre  na_sales  eu_sales  jp_sales  other_sales  critic_score  \\\n",
       "183          Sports      4.26      0.26      0.01         0.71            94   \n",
       "377          Sports      0.59      2.36      0.04         0.51            84   \n",
       "456          Action      1.80      0.97      0.00         0.29            74   \n",
       "475        Fighting      1.57      1.02      0.00         0.41           NaN   \n",
       "609         Shooter      2.36      0.14      0.00         0.03           NaN   \n",
       "...             ...       ...       ...       ...          ...           ...   \n",
       "16373        Sports      0.01      0.00      0.00         0.00            43   \n",
       "16405        Racing      0.01      0.00      0.00         0.00            69   \n",
       "16448       Shooter      0.01      0.00      0.00         0.00            59   \n",
       "16458     Adventure      0.01      0.00      0.00         0.00           NaN   \n",
       "16522  Role-Playing      0.01      0.00      0.00         0.00            55   \n",
       "\n",
       "      user_score rating  \n",
       "183          8.5      E  \n",
       "377          6.4      E  \n",
       "456          7.9   E10+  \n",
       "475          NaN    NaN  \n",
       "609          NaN    NaN  \n",
       "...          ...    ...  \n",
       "16373        tbd   E10+  \n",
       "16405        6.5      T  \n",
       "16448        6.7      M  \n",
       "16458        NaN    NaN  \n",
       "16522        5.5      T  \n",
       "\n",
       "[269 rows x 11 columns]"
      ]
     },
     "execution_count": 12,
     "metadata": {},
     "output_type": "execute_result"
    }
   ],
   "source": [
    "df[df['year_of_release'].isna()]"
   ]
  },
  {
   "cell_type": "code",
   "execution_count": 13,
   "metadata": {},
   "outputs": [
    {
     "data": {
      "text/plain": [
       "name                  0\n",
       "platform              0\n",
       "year_of_release       0\n",
       "genre                 0\n",
       "na_sales              0\n",
       "eu_sales              0\n",
       "jp_sales              0\n",
       "other_sales           0\n",
       "critic_score       8461\n",
       "user_score         6605\n",
       "rating             6676\n",
       "dtype: int64"
      ]
     },
     "execution_count": 13,
     "metadata": {},
     "output_type": "execute_result"
    }
   ],
   "source": [
    "df = df[~df['name'].isna()]\n",
    "df = df[~df['year_of_release'].isna()]\n",
    "df.isna().sum()"
   ]
  },
  {
   "cell_type": "code",
   "execution_count": 14,
   "metadata": {
    "scrolled": true
   },
   "outputs": [
    {
     "data": {
      "text/html": [
       "<div>\n",
       "<style scoped>\n",
       "    .dataframe tbody tr th:only-of-type {\n",
       "        vertical-align: middle;\n",
       "    }\n",
       "\n",
       "    .dataframe tbody tr th {\n",
       "        vertical-align: top;\n",
       "    }\n",
       "\n",
       "    .dataframe thead th {\n",
       "        text-align: right;\n",
       "    }\n",
       "</style>\n",
       "<table border=\"1\" class=\"dataframe\">\n",
       "  <thead>\n",
       "    <tr style=\"text-align: right;\">\n",
       "      <th></th>\n",
       "      <th>name</th>\n",
       "      <th>platform</th>\n",
       "      <th>year_of_release</th>\n",
       "      <th>genre</th>\n",
       "      <th>na_sales</th>\n",
       "      <th>eu_sales</th>\n",
       "      <th>jp_sales</th>\n",
       "      <th>other_sales</th>\n",
       "      <th>critic_score</th>\n",
       "      <th>user_score</th>\n",
       "      <th>rating</th>\n",
       "    </tr>\n",
       "  </thead>\n",
       "  <tbody>\n",
       "    <tr>\n",
       "      <td>1</td>\n",
       "      <td>Super Mario Bros.</td>\n",
       "      <td>NES</td>\n",
       "      <td>1985</td>\n",
       "      <td>Platform</td>\n",
       "      <td>29.08</td>\n",
       "      <td>3.58</td>\n",
       "      <td>6.81</td>\n",
       "      <td>0.77</td>\n",
       "      <td>NaN</td>\n",
       "      <td>NaN</td>\n",
       "      <td>NaN</td>\n",
       "    </tr>\n",
       "    <tr>\n",
       "      <td>4</td>\n",
       "      <td>Pokemon Red/Pokemon Blue</td>\n",
       "      <td>GB</td>\n",
       "      <td>1996</td>\n",
       "      <td>Role-Playing</td>\n",
       "      <td>11.27</td>\n",
       "      <td>8.89</td>\n",
       "      <td>10.22</td>\n",
       "      <td>1.00</td>\n",
       "      <td>NaN</td>\n",
       "      <td>NaN</td>\n",
       "      <td>NaN</td>\n",
       "    </tr>\n",
       "    <tr>\n",
       "      <td>5</td>\n",
       "      <td>Tetris</td>\n",
       "      <td>GB</td>\n",
       "      <td>1989</td>\n",
       "      <td>Puzzle</td>\n",
       "      <td>23.20</td>\n",
       "      <td>2.26</td>\n",
       "      <td>4.22</td>\n",
       "      <td>0.58</td>\n",
       "      <td>NaN</td>\n",
       "      <td>NaN</td>\n",
       "      <td>NaN</td>\n",
       "    </tr>\n",
       "    <tr>\n",
       "      <td>9</td>\n",
       "      <td>Duck Hunt</td>\n",
       "      <td>NES</td>\n",
       "      <td>1984</td>\n",
       "      <td>Shooter</td>\n",
       "      <td>26.93</td>\n",
       "      <td>0.63</td>\n",
       "      <td>0.28</td>\n",
       "      <td>0.47</td>\n",
       "      <td>NaN</td>\n",
       "      <td>NaN</td>\n",
       "      <td>NaN</td>\n",
       "    </tr>\n",
       "    <tr>\n",
       "      <td>10</td>\n",
       "      <td>Nintendogs</td>\n",
       "      <td>DS</td>\n",
       "      <td>2005</td>\n",
       "      <td>Simulation</td>\n",
       "      <td>9.05</td>\n",
       "      <td>10.95</td>\n",
       "      <td>1.93</td>\n",
       "      <td>2.74</td>\n",
       "      <td>NaN</td>\n",
       "      <td>NaN</td>\n",
       "      <td>NaN</td>\n",
       "    </tr>\n",
       "    <tr>\n",
       "      <td>...</td>\n",
       "      <td>...</td>\n",
       "      <td>...</td>\n",
       "      <td>...</td>\n",
       "      <td>...</td>\n",
       "      <td>...</td>\n",
       "      <td>...</td>\n",
       "      <td>...</td>\n",
       "      <td>...</td>\n",
       "      <td>...</td>\n",
       "      <td>...</td>\n",
       "      <td>...</td>\n",
       "    </tr>\n",
       "    <tr>\n",
       "      <td>16710</td>\n",
       "      <td>Samurai Warriors: Sanada Maru</td>\n",
       "      <td>PS3</td>\n",
       "      <td>2016</td>\n",
       "      <td>Action</td>\n",
       "      <td>0.00</td>\n",
       "      <td>0.00</td>\n",
       "      <td>0.01</td>\n",
       "      <td>0.00</td>\n",
       "      <td>NaN</td>\n",
       "      <td>NaN</td>\n",
       "      <td>NaN</td>\n",
       "    </tr>\n",
       "    <tr>\n",
       "      <td>16711</td>\n",
       "      <td>LMA Manager 2007</td>\n",
       "      <td>X360</td>\n",
       "      <td>2006</td>\n",
       "      <td>Sports</td>\n",
       "      <td>0.00</td>\n",
       "      <td>0.01</td>\n",
       "      <td>0.00</td>\n",
       "      <td>0.00</td>\n",
       "      <td>NaN</td>\n",
       "      <td>NaN</td>\n",
       "      <td>NaN</td>\n",
       "    </tr>\n",
       "    <tr>\n",
       "      <td>16712</td>\n",
       "      <td>Haitaka no Psychedelica</td>\n",
       "      <td>PSV</td>\n",
       "      <td>2016</td>\n",
       "      <td>Adventure</td>\n",
       "      <td>0.00</td>\n",
       "      <td>0.00</td>\n",
       "      <td>0.01</td>\n",
       "      <td>0.00</td>\n",
       "      <td>NaN</td>\n",
       "      <td>NaN</td>\n",
       "      <td>NaN</td>\n",
       "    </tr>\n",
       "    <tr>\n",
       "      <td>16713</td>\n",
       "      <td>Spirits &amp; Spells</td>\n",
       "      <td>GBA</td>\n",
       "      <td>2003</td>\n",
       "      <td>Platform</td>\n",
       "      <td>0.01</td>\n",
       "      <td>0.00</td>\n",
       "      <td>0.00</td>\n",
       "      <td>0.00</td>\n",
       "      <td>NaN</td>\n",
       "      <td>NaN</td>\n",
       "      <td>NaN</td>\n",
       "    </tr>\n",
       "    <tr>\n",
       "      <td>16714</td>\n",
       "      <td>Winning Post 8 2016</td>\n",
       "      <td>PSV</td>\n",
       "      <td>2016</td>\n",
       "      <td>Simulation</td>\n",
       "      <td>0.00</td>\n",
       "      <td>0.00</td>\n",
       "      <td>0.01</td>\n",
       "      <td>0.00</td>\n",
       "      <td>NaN</td>\n",
       "      <td>NaN</td>\n",
       "      <td>NaN</td>\n",
       "    </tr>\n",
       "  </tbody>\n",
       "</table>\n",
       "<p>6534 rows × 11 columns</p>\n",
       "</div>"
      ],
      "text/plain": [
       "                                name platform  year_of_release         genre  \\\n",
       "1                  Super Mario Bros.      NES             1985      Platform   \n",
       "4           Pokemon Red/Pokemon Blue       GB             1996  Role-Playing   \n",
       "5                             Tetris       GB             1989        Puzzle   \n",
       "9                          Duck Hunt      NES             1984       Shooter   \n",
       "10                        Nintendogs       DS             2005    Simulation   \n",
       "...                              ...      ...              ...           ...   \n",
       "16710  Samurai Warriors: Sanada Maru      PS3             2016        Action   \n",
       "16711               LMA Manager 2007     X360             2006        Sports   \n",
       "16712        Haitaka no Psychedelica      PSV             2016     Adventure   \n",
       "16713               Spirits & Spells      GBA             2003      Platform   \n",
       "16714            Winning Post 8 2016      PSV             2016    Simulation   \n",
       "\n",
       "       na_sales  eu_sales  jp_sales  other_sales  critic_score user_score  \\\n",
       "1         29.08      3.58      6.81         0.77           NaN        NaN   \n",
       "4         11.27      8.89     10.22         1.00           NaN        NaN   \n",
       "5         23.20      2.26      4.22         0.58           NaN        NaN   \n",
       "9         26.93      0.63      0.28         0.47           NaN        NaN   \n",
       "10         9.05     10.95      1.93         2.74           NaN        NaN   \n",
       "...         ...       ...       ...          ...           ...        ...   \n",
       "16710      0.00      0.00      0.01         0.00           NaN        NaN   \n",
       "16711      0.00      0.01      0.00         0.00           NaN        NaN   \n",
       "16712      0.00      0.00      0.01         0.00           NaN        NaN   \n",
       "16713      0.01      0.00      0.00         0.00           NaN        NaN   \n",
       "16714      0.00      0.00      0.01         0.00           NaN        NaN   \n",
       "\n",
       "      rating  \n",
       "1        NaN  \n",
       "4        NaN  \n",
       "5        NaN  \n",
       "9        NaN  \n",
       "10       NaN  \n",
       "...      ...  \n",
       "16710    NaN  \n",
       "16711    NaN  \n",
       "16712    NaN  \n",
       "16713    NaN  \n",
       "16714    NaN  \n",
       "\n",
       "[6534 rows x 11 columns]"
      ]
     },
     "execution_count": 14,
     "metadata": {},
     "output_type": "execute_result"
    }
   ],
   "source": [
    "df[((df['critic_score'].isna()) & (df['user_score'].isna()) & (df['rating'].isna()))]"
   ]
  },
  {
   "cell_type": "markdown",
   "metadata": {},
   "source": [
    "Видим, что пропуски в 3-х столбцах с рейтингом игр составляют около 50% всех данных, причем пропуски во многом пересекаются.\n",
    "Рейтинг ESRB основан в 1994, соответсвенно их пропуски в rating можно было бы объяснить отсутсвием рейтингов в ранних годах. Однако в таблице видны самые разные года, включая совсем недавние. Вероятно, они образовались при неправильной выгрузки информации из базы данных.\n",
    "Удалить такое большое кол-во строк мы себе позволить не можем, но и найти логичное значение для их заполнения (например средним значением) также не возможно. Это непременно исказит результат исследования. Просто оставим как есть."
   ]
  },
  {
   "cell_type": "markdown",
   "metadata": {},
   "source": [
    "<a id='23'></a>\n",
    "### Замена значений"
   ]
  },
  {
   "cell_type": "code",
   "execution_count": 15,
   "metadata": {},
   "outputs": [
    {
     "data": {
      "text/html": [
       "<div>\n",
       "<style scoped>\n",
       "    .dataframe tbody tr th:only-of-type {\n",
       "        vertical-align: middle;\n",
       "    }\n",
       "\n",
       "    .dataframe tbody tr th {\n",
       "        vertical-align: top;\n",
       "    }\n",
       "\n",
       "    .dataframe thead th {\n",
       "        text-align: right;\n",
       "    }\n",
       "</style>\n",
       "<table border=\"1\" class=\"dataframe\">\n",
       "  <thead>\n",
       "    <tr style=\"text-align: right;\">\n",
       "      <th></th>\n",
       "      <th>name</th>\n",
       "      <th>platform</th>\n",
       "      <th>year_of_release</th>\n",
       "      <th>genre</th>\n",
       "      <th>na_sales</th>\n",
       "      <th>eu_sales</th>\n",
       "      <th>jp_sales</th>\n",
       "      <th>other_sales</th>\n",
       "      <th>critic_score</th>\n",
       "      <th>user_score</th>\n",
       "      <th>rating</th>\n",
       "    </tr>\n",
       "  </thead>\n",
       "  <tbody>\n",
       "    <tr>\n",
       "      <td>119</td>\n",
       "      <td>Zumba Fitness</td>\n",
       "      <td>Wii</td>\n",
       "      <td>2010</td>\n",
       "      <td>Sports</td>\n",
       "      <td>3.45</td>\n",
       "      <td>2.59</td>\n",
       "      <td>0.0</td>\n",
       "      <td>0.66</td>\n",
       "      <td>NaN</td>\n",
       "      <td>tbd</td>\n",
       "      <td>E</td>\n",
       "    </tr>\n",
       "    <tr>\n",
       "      <td>301</td>\n",
       "      <td>Namco Museum: 50th Anniversary</td>\n",
       "      <td>PS2</td>\n",
       "      <td>2005</td>\n",
       "      <td>Misc</td>\n",
       "      <td>2.08</td>\n",
       "      <td>1.35</td>\n",
       "      <td>0.0</td>\n",
       "      <td>0.54</td>\n",
       "      <td>61</td>\n",
       "      <td>tbd</td>\n",
       "      <td>E10+</td>\n",
       "    </tr>\n",
       "    <tr>\n",
       "      <td>520</td>\n",
       "      <td>Zumba Fitness 2</td>\n",
       "      <td>Wii</td>\n",
       "      <td>2011</td>\n",
       "      <td>Sports</td>\n",
       "      <td>1.51</td>\n",
       "      <td>1.03</td>\n",
       "      <td>0.0</td>\n",
       "      <td>0.27</td>\n",
       "      <td>NaN</td>\n",
       "      <td>tbd</td>\n",
       "      <td>T</td>\n",
       "    </tr>\n",
       "    <tr>\n",
       "      <td>645</td>\n",
       "      <td>uDraw Studio</td>\n",
       "      <td>Wii</td>\n",
       "      <td>2010</td>\n",
       "      <td>Misc</td>\n",
       "      <td>1.65</td>\n",
       "      <td>0.57</td>\n",
       "      <td>0.0</td>\n",
       "      <td>0.20</td>\n",
       "      <td>71</td>\n",
       "      <td>tbd</td>\n",
       "      <td>E</td>\n",
       "    </tr>\n",
       "    <tr>\n",
       "      <td>718</td>\n",
       "      <td>Just Dance Kids</td>\n",
       "      <td>Wii</td>\n",
       "      <td>2010</td>\n",
       "      <td>Misc</td>\n",
       "      <td>1.52</td>\n",
       "      <td>0.54</td>\n",
       "      <td>0.0</td>\n",
       "      <td>0.18</td>\n",
       "      <td>NaN</td>\n",
       "      <td>tbd</td>\n",
       "      <td>E</td>\n",
       "    </tr>\n",
       "    <tr>\n",
       "      <td>...</td>\n",
       "      <td>...</td>\n",
       "      <td>...</td>\n",
       "      <td>...</td>\n",
       "      <td>...</td>\n",
       "      <td>...</td>\n",
       "      <td>...</td>\n",
       "      <td>...</td>\n",
       "      <td>...</td>\n",
       "      <td>...</td>\n",
       "      <td>...</td>\n",
       "      <td>...</td>\n",
       "    </tr>\n",
       "    <tr>\n",
       "      <td>16695</td>\n",
       "      <td>Planet Monsters</td>\n",
       "      <td>GBA</td>\n",
       "      <td>2001</td>\n",
       "      <td>Action</td>\n",
       "      <td>0.01</td>\n",
       "      <td>0.00</td>\n",
       "      <td>0.0</td>\n",
       "      <td>0.00</td>\n",
       "      <td>67</td>\n",
       "      <td>tbd</td>\n",
       "      <td>E</td>\n",
       "    </tr>\n",
       "    <tr>\n",
       "      <td>16697</td>\n",
       "      <td>Bust-A-Move 3000</td>\n",
       "      <td>GC</td>\n",
       "      <td>2003</td>\n",
       "      <td>Puzzle</td>\n",
       "      <td>0.01</td>\n",
       "      <td>0.00</td>\n",
       "      <td>0.0</td>\n",
       "      <td>0.00</td>\n",
       "      <td>53</td>\n",
       "      <td>tbd</td>\n",
       "      <td>E</td>\n",
       "    </tr>\n",
       "    <tr>\n",
       "      <td>16698</td>\n",
       "      <td>Mega Brain Boost</td>\n",
       "      <td>DS</td>\n",
       "      <td>2008</td>\n",
       "      <td>Puzzle</td>\n",
       "      <td>0.01</td>\n",
       "      <td>0.00</td>\n",
       "      <td>0.0</td>\n",
       "      <td>0.00</td>\n",
       "      <td>48</td>\n",
       "      <td>tbd</td>\n",
       "      <td>E</td>\n",
       "    </tr>\n",
       "    <tr>\n",
       "      <td>16704</td>\n",
       "      <td>Plushees</td>\n",
       "      <td>DS</td>\n",
       "      <td>2008</td>\n",
       "      <td>Simulation</td>\n",
       "      <td>0.01</td>\n",
       "      <td>0.00</td>\n",
       "      <td>0.0</td>\n",
       "      <td>0.00</td>\n",
       "      <td>NaN</td>\n",
       "      <td>tbd</td>\n",
       "      <td>E</td>\n",
       "    </tr>\n",
       "    <tr>\n",
       "      <td>16706</td>\n",
       "      <td>Men in Black II: Alien Escape</td>\n",
       "      <td>GC</td>\n",
       "      <td>2003</td>\n",
       "      <td>Shooter</td>\n",
       "      <td>0.01</td>\n",
       "      <td>0.00</td>\n",
       "      <td>0.0</td>\n",
       "      <td>0.00</td>\n",
       "      <td>NaN</td>\n",
       "      <td>tbd</td>\n",
       "      <td>T</td>\n",
       "    </tr>\n",
       "  </tbody>\n",
       "</table>\n",
       "<p>2376 rows × 11 columns</p>\n",
       "</div>"
      ],
      "text/plain": [
       "                                 name platform  year_of_release       genre  \\\n",
       "119                     Zumba Fitness      Wii             2010      Sports   \n",
       "301    Namco Museum: 50th Anniversary      PS2             2005        Misc   \n",
       "520                   Zumba Fitness 2      Wii             2011      Sports   \n",
       "645                      uDraw Studio      Wii             2010        Misc   \n",
       "718                   Just Dance Kids      Wii             2010        Misc   \n",
       "...                               ...      ...              ...         ...   \n",
       "16695                 Planet Monsters      GBA             2001      Action   \n",
       "16697                Bust-A-Move 3000       GC             2003      Puzzle   \n",
       "16698                Mega Brain Boost       DS             2008      Puzzle   \n",
       "16704                        Plushees       DS             2008  Simulation   \n",
       "16706   Men in Black II: Alien Escape       GC             2003     Shooter   \n",
       "\n",
       "       na_sales  eu_sales  jp_sales  other_sales  critic_score user_score  \\\n",
       "119        3.45      2.59       0.0         0.66           NaN        tbd   \n",
       "301        2.08      1.35       0.0         0.54            61        tbd   \n",
       "520        1.51      1.03       0.0         0.27           NaN        tbd   \n",
       "645        1.65      0.57       0.0         0.20            71        tbd   \n",
       "718        1.52      0.54       0.0         0.18           NaN        tbd   \n",
       "...         ...       ...       ...          ...           ...        ...   \n",
       "16695      0.01      0.00       0.0         0.00            67        tbd   \n",
       "16697      0.01      0.00       0.0         0.00            53        tbd   \n",
       "16698      0.01      0.00       0.0         0.00            48        tbd   \n",
       "16704      0.01      0.00       0.0         0.00           NaN        tbd   \n",
       "16706      0.01      0.00       0.0         0.00           NaN        tbd   \n",
       "\n",
       "      rating  \n",
       "119        E  \n",
       "301     E10+  \n",
       "520        T  \n",
       "645        E  \n",
       "718        E  \n",
       "...      ...  \n",
       "16695      E  \n",
       "16697      E  \n",
       "16698      E  \n",
       "16704      E  \n",
       "16706      T  \n",
       "\n",
       "[2376 rows x 11 columns]"
      ]
     },
     "execution_count": 15,
     "metadata": {},
     "output_type": "execute_result"
    }
   ],
   "source": [
    "df[df['user_score']==\"tbd\"]"
   ]
  },
  {
   "cell_type": "markdown",
   "metadata": {},
   "source": [
    "Из гугла: tbd - всё, что требует конкретного ответа, которого вы ещё не знаете. По смыслу можно заменить эти значения на NaN. А значения NaN в свою очередь переведем в категорию «RP» («Rating Pending») — «Рейтинг ожидается», так мы сможем охватить для  анализа большее количество игр.\n",
    "\n",
    "«E» («Everyone») — «Для всех» ( первоначально \"K-A\" (\"Kids to Adults\")), т.е. заменим K-A на Е."
   ]
  },
  {
   "cell_type": "code",
   "execution_count": 16,
   "metadata": {},
   "outputs": [
    {
     "data": {
      "text/plain": [
       "name                  0\n",
       "platform              0\n",
       "year_of_release       0\n",
       "genre                 0\n",
       "na_sales              0\n",
       "eu_sales              0\n",
       "jp_sales              0\n",
       "other_sales           0\n",
       "critic_score       8461\n",
       "user_score         8981\n",
       "rating                0\n",
       "dtype: int64"
      ]
     },
     "execution_count": 16,
     "metadata": {},
     "output_type": "execute_result"
    }
   ],
   "source": [
    "df['user_score'] = df['user_score'].replace('tbd', np.NaN)\n",
    "df['rating'] = df['rating'].fillna('RP')\n",
    "df['rating'] = df['rating'].replace('K-A', 'E')\n",
    "df.isna().sum()"
   ]
  },
  {
   "cell_type": "code",
   "execution_count": 17,
   "metadata": {},
   "outputs": [
    {
     "data": {
      "text/plain": [
       "RP      6677\n",
       "E       3924\n",
       "T       2905\n",
       "M       1536\n",
       "E10+    1393\n",
       "EC         8\n",
       "AO         1\n",
       "Name: rating, dtype: int64"
      ]
     },
     "execution_count": 17,
     "metadata": {},
     "output_type": "execute_result"
    }
   ],
   "source": [
    "df['rating'].value_counts()"
   ]
  },
  {
   "cell_type": "code",
   "execution_count": 18,
   "metadata": {},
   "outputs": [
    {
     "data": {
      "text/plain": [
       "0     80\n",
       "1    NaN\n",
       "2     83\n",
       "3     80\n",
       "4    NaN\n",
       "Name: user_score, dtype: Int64"
      ]
     },
     "execution_count": 18,
     "metadata": {},
     "output_type": "execute_result"
    }
   ],
   "source": [
    "# нормализуем user_scor по отношению к Critic_Score (помножив колонку на 10) и так же передем в целочисленный тип\n",
    "df['user_score'] = (df['user_score'].astype('float64') * 10).astype('Int64') \n",
    "df['user_score'].head()"
   ]
  },
  {
   "cell_type": "markdown",
   "metadata": {},
   "source": [
    "<a id='24'></a>\n",
    "### Создание  столбца с суммарными продажами "
   ]
  },
  {
   "cell_type": "code",
   "execution_count": 19,
   "metadata": {},
   "outputs": [
    {
     "data": {
      "text/html": [
       "<div>\n",
       "<style scoped>\n",
       "    .dataframe tbody tr th:only-of-type {\n",
       "        vertical-align: middle;\n",
       "    }\n",
       "\n",
       "    .dataframe tbody tr th {\n",
       "        vertical-align: top;\n",
       "    }\n",
       "\n",
       "    .dataframe thead th {\n",
       "        text-align: right;\n",
       "    }\n",
       "</style>\n",
       "<table border=\"1\" class=\"dataframe\">\n",
       "  <thead>\n",
       "    <tr style=\"text-align: right;\">\n",
       "      <th></th>\n",
       "      <th>name</th>\n",
       "      <th>platform</th>\n",
       "      <th>year_of_release</th>\n",
       "      <th>genre</th>\n",
       "      <th>na_sales</th>\n",
       "      <th>eu_sales</th>\n",
       "      <th>jp_sales</th>\n",
       "      <th>other_sales</th>\n",
       "      <th>critic_score</th>\n",
       "      <th>user_score</th>\n",
       "      <th>rating</th>\n",
       "      <th>total_sales</th>\n",
       "    </tr>\n",
       "  </thead>\n",
       "  <tbody>\n",
       "    <tr>\n",
       "      <td>0</td>\n",
       "      <td>Wii Sports</td>\n",
       "      <td>Wii</td>\n",
       "      <td>2006</td>\n",
       "      <td>Sports</td>\n",
       "      <td>41.36</td>\n",
       "      <td>28.96</td>\n",
       "      <td>3.77</td>\n",
       "      <td>8.45</td>\n",
       "      <td>76</td>\n",
       "      <td>80</td>\n",
       "      <td>E</td>\n",
       "      <td>82.54</td>\n",
       "    </tr>\n",
       "    <tr>\n",
       "      <td>1</td>\n",
       "      <td>Super Mario Bros.</td>\n",
       "      <td>NES</td>\n",
       "      <td>1985</td>\n",
       "      <td>Platform</td>\n",
       "      <td>29.08</td>\n",
       "      <td>3.58</td>\n",
       "      <td>6.81</td>\n",
       "      <td>0.77</td>\n",
       "      <td>NaN</td>\n",
       "      <td>NaN</td>\n",
       "      <td>RP</td>\n",
       "      <td>40.24</td>\n",
       "    </tr>\n",
       "    <tr>\n",
       "      <td>2</td>\n",
       "      <td>Mario Kart Wii</td>\n",
       "      <td>Wii</td>\n",
       "      <td>2008</td>\n",
       "      <td>Racing</td>\n",
       "      <td>15.68</td>\n",
       "      <td>12.76</td>\n",
       "      <td>3.79</td>\n",
       "      <td>3.29</td>\n",
       "      <td>82</td>\n",
       "      <td>83</td>\n",
       "      <td>E</td>\n",
       "      <td>35.52</td>\n",
       "    </tr>\n",
       "    <tr>\n",
       "      <td>3</td>\n",
       "      <td>Wii Sports Resort</td>\n",
       "      <td>Wii</td>\n",
       "      <td>2009</td>\n",
       "      <td>Sports</td>\n",
       "      <td>15.61</td>\n",
       "      <td>10.93</td>\n",
       "      <td>3.28</td>\n",
       "      <td>2.95</td>\n",
       "      <td>80</td>\n",
       "      <td>80</td>\n",
       "      <td>E</td>\n",
       "      <td>32.77</td>\n",
       "    </tr>\n",
       "    <tr>\n",
       "      <td>4</td>\n",
       "      <td>Pokemon Red/Pokemon Blue</td>\n",
       "      <td>GB</td>\n",
       "      <td>1996</td>\n",
       "      <td>Role-Playing</td>\n",
       "      <td>11.27</td>\n",
       "      <td>8.89</td>\n",
       "      <td>10.22</td>\n",
       "      <td>1.00</td>\n",
       "      <td>NaN</td>\n",
       "      <td>NaN</td>\n",
       "      <td>RP</td>\n",
       "      <td>31.38</td>\n",
       "    </tr>\n",
       "    <tr>\n",
       "      <td>...</td>\n",
       "      <td>...</td>\n",
       "      <td>...</td>\n",
       "      <td>...</td>\n",
       "      <td>...</td>\n",
       "      <td>...</td>\n",
       "      <td>...</td>\n",
       "      <td>...</td>\n",
       "      <td>...</td>\n",
       "      <td>...</td>\n",
       "      <td>...</td>\n",
       "      <td>...</td>\n",
       "      <td>...</td>\n",
       "    </tr>\n",
       "    <tr>\n",
       "      <td>16710</td>\n",
       "      <td>Samurai Warriors: Sanada Maru</td>\n",
       "      <td>PS3</td>\n",
       "      <td>2016</td>\n",
       "      <td>Action</td>\n",
       "      <td>0.00</td>\n",
       "      <td>0.00</td>\n",
       "      <td>0.01</td>\n",
       "      <td>0.00</td>\n",
       "      <td>NaN</td>\n",
       "      <td>NaN</td>\n",
       "      <td>RP</td>\n",
       "      <td>0.01</td>\n",
       "    </tr>\n",
       "    <tr>\n",
       "      <td>16711</td>\n",
       "      <td>LMA Manager 2007</td>\n",
       "      <td>X360</td>\n",
       "      <td>2006</td>\n",
       "      <td>Sports</td>\n",
       "      <td>0.00</td>\n",
       "      <td>0.01</td>\n",
       "      <td>0.00</td>\n",
       "      <td>0.00</td>\n",
       "      <td>NaN</td>\n",
       "      <td>NaN</td>\n",
       "      <td>RP</td>\n",
       "      <td>0.01</td>\n",
       "    </tr>\n",
       "    <tr>\n",
       "      <td>16712</td>\n",
       "      <td>Haitaka no Psychedelica</td>\n",
       "      <td>PSV</td>\n",
       "      <td>2016</td>\n",
       "      <td>Adventure</td>\n",
       "      <td>0.00</td>\n",
       "      <td>0.00</td>\n",
       "      <td>0.01</td>\n",
       "      <td>0.00</td>\n",
       "      <td>NaN</td>\n",
       "      <td>NaN</td>\n",
       "      <td>RP</td>\n",
       "      <td>0.01</td>\n",
       "    </tr>\n",
       "    <tr>\n",
       "      <td>16713</td>\n",
       "      <td>Spirits &amp; Spells</td>\n",
       "      <td>GBA</td>\n",
       "      <td>2003</td>\n",
       "      <td>Platform</td>\n",
       "      <td>0.01</td>\n",
       "      <td>0.00</td>\n",
       "      <td>0.00</td>\n",
       "      <td>0.00</td>\n",
       "      <td>NaN</td>\n",
       "      <td>NaN</td>\n",
       "      <td>RP</td>\n",
       "      <td>0.01</td>\n",
       "    </tr>\n",
       "    <tr>\n",
       "      <td>16714</td>\n",
       "      <td>Winning Post 8 2016</td>\n",
       "      <td>PSV</td>\n",
       "      <td>2016</td>\n",
       "      <td>Simulation</td>\n",
       "      <td>0.00</td>\n",
       "      <td>0.00</td>\n",
       "      <td>0.01</td>\n",
       "      <td>0.00</td>\n",
       "      <td>NaN</td>\n",
       "      <td>NaN</td>\n",
       "      <td>RP</td>\n",
       "      <td>0.01</td>\n",
       "    </tr>\n",
       "  </tbody>\n",
       "</table>\n",
       "<p>16444 rows × 12 columns</p>\n",
       "</div>"
      ],
      "text/plain": [
       "                                name platform  year_of_release         genre  \\\n",
       "0                         Wii Sports      Wii             2006        Sports   \n",
       "1                  Super Mario Bros.      NES             1985      Platform   \n",
       "2                     Mario Kart Wii      Wii             2008        Racing   \n",
       "3                  Wii Sports Resort      Wii             2009        Sports   \n",
       "4           Pokemon Red/Pokemon Blue       GB             1996  Role-Playing   \n",
       "...                              ...      ...              ...           ...   \n",
       "16710  Samurai Warriors: Sanada Maru      PS3             2016        Action   \n",
       "16711               LMA Manager 2007     X360             2006        Sports   \n",
       "16712        Haitaka no Psychedelica      PSV             2016     Adventure   \n",
       "16713               Spirits & Spells      GBA             2003      Platform   \n",
       "16714            Winning Post 8 2016      PSV             2016    Simulation   \n",
       "\n",
       "       na_sales  eu_sales  jp_sales  other_sales  critic_score  user_score  \\\n",
       "0         41.36     28.96      3.77         8.45            76          80   \n",
       "1         29.08      3.58      6.81         0.77           NaN         NaN   \n",
       "2         15.68     12.76      3.79         3.29            82          83   \n",
       "3         15.61     10.93      3.28         2.95            80          80   \n",
       "4         11.27      8.89     10.22         1.00           NaN         NaN   \n",
       "...         ...       ...       ...          ...           ...         ...   \n",
       "16710      0.00      0.00      0.01         0.00           NaN         NaN   \n",
       "16711      0.00      0.01      0.00         0.00           NaN         NaN   \n",
       "16712      0.00      0.00      0.01         0.00           NaN         NaN   \n",
       "16713      0.01      0.00      0.00         0.00           NaN         NaN   \n",
       "16714      0.00      0.00      0.01         0.00           NaN         NaN   \n",
       "\n",
       "      rating  total_sales  \n",
       "0          E        82.54  \n",
       "1         RP        40.24  \n",
       "2          E        35.52  \n",
       "3          E        32.77  \n",
       "4         RP        31.38  \n",
       "...      ...          ...  \n",
       "16710     RP         0.01  \n",
       "16711     RP         0.01  \n",
       "16712     RP         0.01  \n",
       "16713     RP         0.01  \n",
       "16714     RP         0.01  \n",
       "\n",
       "[16444 rows x 12 columns]"
      ]
     },
     "execution_count": 19,
     "metadata": {},
     "output_type": "execute_result"
    }
   ],
   "source": [
    "df[\"total_sales\"] = df[\"na_sales\"] + df[\"eu_sales\"] + df[\"jp_sales\"] + df[\"other_sales\"]\n",
    "df"
   ]
  },
  {
   "cell_type": "markdown",
   "metadata": {},
   "source": [
    "<a id='25'></a>\n",
    "### Вывод\n",
    "- названия столбцов привели к нижнему регистру\n",
    "- заменили в user_score значения 'tbd' на NaN и нормализовали его по отношению к critic_Score\n",
    "- преобразовали данные в целочисленный тип в столбцах: year_of_Release, critic_Score, user_Score\n",
    "- переименовали в колонке rating значения K-A в E\n",
    "- обработали пропуски, удалив при этом строки с пропуском в колонках name и year_of_release, что в сумме менее 2% данных\n",
    "- создали столбец total_sales с суммарными продажами во всех регионах"
   ]
  },
  {
   "cell_type": "markdown",
   "metadata": {},
   "source": [
    "<a id='3'></a>\n",
    "## Исследовательский анализ данных"
   ]
  },
  {
   "cell_type": "markdown",
   "metadata": {},
   "source": [
    "<a id='31'></a>\n",
    "### Оценка количества выпущенных игр в разные годы"
   ]
  },
  {
   "cell_type": "code",
   "execution_count": 20,
   "metadata": {},
   "outputs": [
    {
     "data": {
      "image/png": "[encoded data removed]",
      "text/plain": [
       "<Figure size 1080x360 with 1 Axes>"
      ]
     },
     "metadata": {
      "needs_background": "light"
     },
     "output_type": "display_data"
    },
    {
     "data": {
      "image/png": "[encoded data removed]",
      "text/plain": [
       "<Figure size 1080x360 with 1 Axes>"
      ]
     },
     "metadata": {
      "needs_background": "light"
     },
     "output_type": "display_data"
    }
   ],
   "source": [
    "df.pivot_table(index=\"year_of_release\", values=\"name\", aggfunc='count').plot(grid=True, figsize=(15, 5), title=\"кол-во выпущенных игр по годам, шт.\")\n",
    "df.pivot_table(index=\"year_of_release\", values=\"total_sales\", aggfunc='sum').plot(grid=True, figsize=(15, 5), title=\"продажи игр по годам их релиза, млн. шт.\")\n",
    "plt.show()"
   ]
  },
  {
   "cell_type": "markdown",
   "metadata": {},
   "source": [
    "С роста выпусков игр в 90-х годах их кол-во достигло максимума в 2008 году, после чего наступает спад, который возможно связан с новыми альтернативными видами игр (мобильные и онлайн игры). Также видна сильная прямая кореляция продаж игр от кол-ва выпущенных игр."
   ]
  },
  {
   "cell_type": "markdown",
   "metadata": {},
   "source": [
    "<a id='32'></a>\n",
    "### Поиск лидеров по продажам и потенциально прибыльных платформ."
   ]
  },
  {
   "cell_type": "code",
   "execution_count": 21,
   "metadata": {},
   "outputs": [
    {
     "data": {
      "image/png": "[encoded data removed]",
      "text/plain": [
       "<Figure size 1080x360 with 1 Axes>"
      ]
     },
     "metadata": {
      "needs_background": "light"
     },
     "output_type": "display_data"
    }
   ],
   "source": [
    "df.pivot_table(index='platform', values='total_sales', aggfunc='sum').sort_values(by='total_sales', ascending=False).plot(kind=\"bar\", grid=True, figsize=(15, 5), title=\"сумарные продажи по платформам, млн. шт.\");\n"
   ]
  },
  {
   "cell_type": "code",
   "execution_count": 22,
   "metadata": {},
   "outputs": [
    {
     "data": {
      "image/png": "[encoded data removed]",
      "text/plain": [
       "<Figure size 1080x360 with 1 Axes>"
      ]
     },
     "metadata": {
      "needs_background": "light"
     },
     "output_type": "display_data"
    }
   ],
   "source": [
    "# исключим из общего списка ныне существующие (!=2016)\n",
    "pl_2016 = df[df['year_of_release'] == 2016]['platform'].value_counts().index.tolist()\n",
    "pls = df['platform'].value_counts().index.tolist()\n",
    "pl_before_2016_list = []\n",
    "for p in pls:\n",
    "    if p not in pl_2016:\n",
    "        pl_before_2016_list.append(p)\n",
    "\n",
    "for platform in pl_before_2016_list:\n",
    "    pl = df[df[\"platform\"] == platform]\n",
    "    pl.groupby('year_of_release')['total_sales'].sum().plot(x='year_of_release', y='total_sales', grid=True,\n",
    "        style='.-', kind='line', legend=\" \", linewidth=1, label=platform, figsize=(15,5), title=\"продажи платформ по годам\")"
   ]
  },
  {
   "cell_type": "code",
   "execution_count": 23,
   "metadata": {},
   "outputs": [
    {
     "data": {
      "text/plain": [
       "count    22.000000\n",
       "mean      7.000000\n",
       "std       6.256425\n",
       "min       0.000000\n",
       "25%       2.250000\n",
       "50%       6.500000\n",
       "75%       9.750000\n",
       "max      28.000000\n",
       "Name: year_of_release, dtype: float64"
      ]
     },
     "execution_count": 23,
     "metadata": {},
     "output_type": "execute_result"
    }
   ],
   "source": [
    "# срок существования платформ (!=2016)\n",
    "pl_before_2016 = df[(df['platform'].isin(pl_before_2016_list))]\n",
    "pl = pl_before_2016.groupby('platform')['year_of_release'].max() - pl_before_2016.groupby('platform')['year_of_release'].min()\n",
    "pl.describe()"
   ]
  },
  {
   "cell_type": "code",
   "execution_count": 24,
   "metadata": {},
   "outputs": [
    {
     "data": {
      "image/png": "[encoded data removed]",
      "text/plain": [
       "<Figure size 432x288 with 1 Axes>"
      ]
     },
     "metadata": {
      "needs_background": "light"
     },
     "output_type": "display_data"
    }
   ],
   "source": [
    "pl.plot.box(title=\"Дмаграмма размаха значений сроков жизни платформ\");"
   ]
  },
  {
   "cell_type": "markdown",
   "metadata": {},
   "source": [
    "В среднем платформы существуют около 7 лет, по верхнней квартили можно сказать, что мало платформ просуществовало более 10 лет, один из них указан в качестве выброса со сроком в 28 лет - DS. \n",
    "\n",
    "Определим срок сущствования у популярных платформ. \n",
    "В качестве самых популярных платформ за все время выделим первые 6: PS2, X360, PS3, Wii, DS, PS.\n",
    "\n",
    "Оценим период их жизни."
   ]
  },
  {
   "cell_type": "code",
   "execution_count": 25,
   "metadata": {
    "scrolled": false
   },
   "outputs": [
    {
     "name": "stdout",
     "output_type": "stream",
     "text": [
      "PS2 сущетвовал 11 лет\n",
      "X360 сущетвовал 11 лет\n",
      "PS3 сущетвовал 10 лет\n",
      "Wii сущетвовал 10 лет\n",
      "DS сущетвовал 28 лет\n",
      "PS сущетвовал 9 лет\n"
     ]
    },
    {
     "data": {
      "image/png": "[encoded data removed]",
      "text/plain": [
       "<Figure size 1080x360 with 1 Axes>"
      ]
     },
     "metadata": {
      "needs_background": "light"
     },
     "output_type": "display_data"
    }
   ],
   "source": [
    "platforms = [\"PS2\", \"X360\", \"PS3\", \"Wii\", \"DS\", \"PS\"]\n",
    "s = 0\n",
    "for platform in platforms:\n",
    "    pl = df[df[\"platform\"] == platform]\n",
    "    y = pl['year_of_release'].max() - pl['year_of_release'].min()\n",
    "    print(platform, \"сущетвовал\", y, \"лет\")\n",
    "    pl.groupby('year_of_release')['total_sales'].sum().plot(x='year_of_release', y='total_sales', grid=True,\n",
    "        style='.-', kind='line', legend=\" \", linewidth=1, label=platform, figsize=(15,5), title=\"продажи популярных платформ по годам\")"
   ]
  },
  {
   "cell_type": "markdown",
   "metadata": {},
   "source": [
    "Популярные платформы остаются на рынке около 10 лет, за исключением DS, который просуществовал 28 лет, причем обычно примерно через 5 лет после их выхода наблюдается спад в продажах.\n",
    "\n",
    "Определим актуальные на текущий момент платформы, однако критерием актуальности выберем не их суммарные продажи за последние годы, а кол-во выпущенных релизов за последние 3 года.   "
   ]
  },
  {
   "cell_type": "code",
   "execution_count": 26,
   "metadata": {},
   "outputs": [
    {
     "data": {
      "text/plain": [
       "PS4     376\n",
       "PSV     295\n",
       "XOne    228\n",
       "PS3     219\n",
       "3DS     212\n",
       "PC      151\n",
       "X360    111\n",
       "WiiU     73\n",
       "PSP      13\n",
       "Wii      11\n",
       "Name: platform, dtype: int64"
      ]
     },
     "execution_count": 26,
     "metadata": {},
     "output_type": "execute_result"
    }
   ],
   "source": [
    "# кол-во выпущенных релизов за последние 3 года\n",
    "df[df['year_of_release'] >= 2014]['platform'].value_counts()"
   ]
  },
  {
   "cell_type": "code",
   "execution_count": 27,
   "metadata": {},
   "outputs": [
    {
     "data": {
      "image/png": "[encoded data removed]",
      "text/plain": [
       "<Figure size 1080x360 with 1 Axes>"
      ]
     },
     "metadata": {
      "needs_background": "light"
     },
     "output_type": "display_data"
    }
   ],
   "source": [
    "# сумма продаж игр вышедших за последние 3 года\n",
    "df[df['year_of_release'] >= 2014].pivot_table(index='platform', values='total_sales', aggfunc='sum').sort_values(by='total_sales', ascending=False).plot(kind=\"bar\", grid=True, figsize=(15, 5), title=\"сумарные продажи по актуальным платформам, млн. шт.\");"
   ]
  },
  {
   "cell_type": "code",
   "execution_count": 28,
   "metadata": {},
   "outputs": [
    {
     "data": {
      "image/png": "[encoded data removed]",
      "text/plain": [
       "<Figure size 1080x360 with 1 Axes>"
      ]
     },
     "metadata": {
      "needs_background": "light"
     },
     "output_type": "display_data"
    }
   ],
   "source": [
    "actual_platforms = df[df['year_of_release'] >= 2014]['platform'].value_counts().index.tolist()\n",
    "for platform in actual_platforms:\n",
    "    pl = df[df[\"platform\"] == platform]\n",
    "    pl.groupby('year_of_release')['total_sales'].sum().plot(x='year_of_release', y='total_sales', grid=True,\n",
    "                                                                    style='.-', kind='line', legend=\" \",\n",
    "                                                                    linewidth=1, label=platform, figsize=(15,5))"
   ]
  },
  {
   "cell_type": "code",
   "execution_count": 29,
   "metadata": {},
   "outputs": [
    {
     "name": "stdout",
     "output_type": "stream",
     "text": [
      "PS4 - выручка от игр релиза 2015 > 2014\n",
      "XOne - выручка от игр релиза 2015 > 2014\n"
     ]
    }
   ],
   "source": [
    "for platform in actual_platforms:\n",
    "    pl = df[df[\"platform\"] == platform]\n",
    "    if pl[pl['year_of_release'] == 2015]['total_sales'].sum() > pl[pl['year_of_release'] == 2014]['total_sales'].sum():\n",
    "        print(platform, \"- выручка от игр релиза 2015 > 2014\")\n",
    "    if pl[pl['year_of_release'] == 2016]['total_sales'].sum() > pl[pl['year_of_release'] == 2015]['total_sales'].sum():\n",
    "        print(platform, \"- выручка от игр релиза 2016 > 2015\")\n"
   ]
  },
  {
   "cell_type": "markdown",
   "metadata": {},
   "source": [
    "Проверили наличие платформ с релизом игр в 2016 году показавших рост продаж относительно 2015. Увы, таких не нашлось. \n",
    "\n",
    "Однако платформы PS4 и XOne показали такой рост годом ранее и в целом, исходя из вышеприведенного графика показывают себя как наиболее потенциально прибыльные платформы. Учитывая, что их первый релиз пришелся на 2013 год, то видимо до примерно 2018 года их ждет рост продаж. При этом эти же платформы уже являются лидерами продаж в 2016 году! \n",
    "\n",
    "Наибольшее падение продаж в последние годы показывают PS3 и X360. Являсь предшественниками ныне популярных платформ, их 10-летний цикл существования видимо подходит к концу.\n",
    "\n",
    "В качестве актуальных платформ для дальнейшего анализа определим 3 наиболее популярных и PC, как наиболее живучую и  сегодня не потерявший актуальность, при этом ограничим сроком релиза за последние 5 лет (средник срок роста платформ)."
   ]
  },
  {
   "cell_type": "markdown",
   "metadata": {},
   "source": [
    "<a id='33'></a>\n",
    "### Оценка глобальных продаж актуалных платформ и влияния на них рейтингов критиков и пользователей"
   ]
  },
  {
   "cell_type": "code",
   "execution_count": 30,
   "metadata": {},
   "outputs": [
    {
     "data": {
      "text/html": [
       "<div>\n",
       "<style scoped>\n",
       "    .dataframe tbody tr th:only-of-type {\n",
       "        vertical-align: middle;\n",
       "    }\n",
       "\n",
       "    .dataframe tbody tr th {\n",
       "        vertical-align: top;\n",
       "    }\n",
       "\n",
       "    .dataframe thead th {\n",
       "        text-align: right;\n",
       "    }\n",
       "</style>\n",
       "<table border=\"1\" class=\"dataframe\">\n",
       "  <thead>\n",
       "    <tr style=\"text-align: right;\">\n",
       "      <th></th>\n",
       "      <th>name</th>\n",
       "      <th>platform</th>\n",
       "      <th>year_of_release</th>\n",
       "      <th>genre</th>\n",
       "      <th>na_sales</th>\n",
       "      <th>eu_sales</th>\n",
       "      <th>jp_sales</th>\n",
       "      <th>other_sales</th>\n",
       "      <th>critic_score</th>\n",
       "      <th>user_score</th>\n",
       "      <th>rating</th>\n",
       "      <th>total_sales</th>\n",
       "    </tr>\n",
       "  </thead>\n",
       "  <tbody>\n",
       "    <tr>\n",
       "      <td>31</td>\n",
       "      <td>Call of Duty: Black Ops 3</td>\n",
       "      <td>PS4</td>\n",
       "      <td>2015</td>\n",
       "      <td>Shooter</td>\n",
       "      <td>6.03</td>\n",
       "      <td>5.86</td>\n",
       "      <td>0.36</td>\n",
       "      <td>2.38</td>\n",
       "      <td>NaN</td>\n",
       "      <td>NaN</td>\n",
       "      <td>RP</td>\n",
       "      <td>14.63</td>\n",
       "    </tr>\n",
       "    <tr>\n",
       "      <td>33</td>\n",
       "      <td>Pokemon X/Pokemon Y</td>\n",
       "      <td>3DS</td>\n",
       "      <td>2013</td>\n",
       "      <td>Role-Playing</td>\n",
       "      <td>5.28</td>\n",
       "      <td>4.19</td>\n",
       "      <td>4.35</td>\n",
       "      <td>0.78</td>\n",
       "      <td>NaN</td>\n",
       "      <td>NaN</td>\n",
       "      <td>RP</td>\n",
       "      <td>14.60</td>\n",
       "    </tr>\n",
       "    <tr>\n",
       "      <td>40</td>\n",
       "      <td>Mario Kart 7</td>\n",
       "      <td>3DS</td>\n",
       "      <td>2011</td>\n",
       "      <td>Racing</td>\n",
       "      <td>5.03</td>\n",
       "      <td>4.02</td>\n",
       "      <td>2.69</td>\n",
       "      <td>0.91</td>\n",
       "      <td>85</td>\n",
       "      <td>82</td>\n",
       "      <td>E</td>\n",
       "      <td>12.65</td>\n",
       "    </tr>\n",
       "    <tr>\n",
       "      <td>42</td>\n",
       "      <td>Grand Theft Auto V</td>\n",
       "      <td>PS4</td>\n",
       "      <td>2014</td>\n",
       "      <td>Action</td>\n",
       "      <td>3.96</td>\n",
       "      <td>6.31</td>\n",
       "      <td>0.38</td>\n",
       "      <td>1.97</td>\n",
       "      <td>97</td>\n",
       "      <td>83</td>\n",
       "      <td>M</td>\n",
       "      <td>12.62</td>\n",
       "    </tr>\n",
       "    <tr>\n",
       "      <td>47</td>\n",
       "      <td>Pokemon Omega Ruby/Pokemon Alpha Sapphire</td>\n",
       "      <td>3DS</td>\n",
       "      <td>2014</td>\n",
       "      <td>Role-Playing</td>\n",
       "      <td>4.35</td>\n",
       "      <td>3.49</td>\n",
       "      <td>3.10</td>\n",
       "      <td>0.74</td>\n",
       "      <td>NaN</td>\n",
       "      <td>NaN</td>\n",
       "      <td>RP</td>\n",
       "      <td>11.68</td>\n",
       "    </tr>\n",
       "  </tbody>\n",
       "</table>\n",
       "</div>"
      ],
      "text/plain": [
       "                                         name platform  year_of_release  \\\n",
       "31                  Call of Duty: Black Ops 3      PS4             2015   \n",
       "33                        Pokemon X/Pokemon Y      3DS             2013   \n",
       "40                               Mario Kart 7      3DS             2011   \n",
       "42                         Grand Theft Auto V      PS4             2014   \n",
       "47  Pokemon Omega Ruby/Pokemon Alpha Sapphire      3DS             2014   \n",
       "\n",
       "           genre  na_sales  eu_sales  jp_sales  other_sales  critic_score  \\\n",
       "31       Shooter      6.03      5.86      0.36         2.38           NaN   \n",
       "33  Role-Playing      5.28      4.19      4.35         0.78           NaN   \n",
       "40        Racing      5.03      4.02      2.69         0.91            85   \n",
       "42        Action      3.96      6.31      0.38         1.97            97   \n",
       "47  Role-Playing      4.35      3.49      3.10         0.74           NaN   \n",
       "\n",
       "    user_score rating  total_sales  \n",
       "31         NaN     RP        14.63  \n",
       "33         NaN     RP        14.60  \n",
       "40          82      E        12.65  \n",
       "42          83      M        12.62  \n",
       "47         NaN     RP        11.68  "
      ]
     },
     "execution_count": 30,
     "metadata": {},
     "output_type": "execute_result"
    }
   ],
   "source": [
    "ap = ['PS4','XOne',\"3DS\",'PC']\n",
    "df_ap = df[(df['platform'].isin(ap)) & (df['year_of_release'] > 2010)]\n",
    "df_ap.head()"
   ]
  },
  {
   "cell_type": "code",
   "execution_count": 31,
   "metadata": {},
   "outputs": [
    {
     "data": {
      "text/html": [
       "<div>\n",
       "<style scoped>\n",
       "    .dataframe tbody tr th:only-of-type {\n",
       "        vertical-align: middle;\n",
       "    }\n",
       "\n",
       "    .dataframe tbody tr th {\n",
       "        vertical-align: top;\n",
       "    }\n",
       "\n",
       "    .dataframe thead th {\n",
       "        text-align: right;\n",
       "    }\n",
       "</style>\n",
       "<table border=\"1\" class=\"dataframe\">\n",
       "  <thead>\n",
       "    <tr style=\"text-align: right;\">\n",
       "      <th></th>\n",
       "      <th>year_of_release</th>\n",
       "      <th>na_sales</th>\n",
       "      <th>eu_sales</th>\n",
       "      <th>jp_sales</th>\n",
       "      <th>other_sales</th>\n",
       "      <th>critic_score</th>\n",
       "      <th>user_score</th>\n",
       "      <th>total_sales</th>\n",
       "    </tr>\n",
       "  </thead>\n",
       "  <tbody>\n",
       "    <tr>\n",
       "      <td>count</td>\n",
       "      <td>1540.000000</td>\n",
       "      <td>1540.000000</td>\n",
       "      <td>1540.000000</td>\n",
       "      <td>1540.000000</td>\n",
       "      <td>1540.000000</td>\n",
       "      <td>876.000000</td>\n",
       "      <td>917.000000</td>\n",
       "      <td>1540.000000</td>\n",
       "    </tr>\n",
       "    <tr>\n",
       "      <td>mean</td>\n",
       "      <td>2013.881818</td>\n",
       "      <td>0.204149</td>\n",
       "      <td>0.201721</td>\n",
       "      <td>0.075922</td>\n",
       "      <td>0.056487</td>\n",
       "      <td>72.304795</td>\n",
       "      <td>66.233370</td>\n",
       "      <td>0.538279</td>\n",
       "    </tr>\n",
       "    <tr>\n",
       "      <td>std</td>\n",
       "      <td>1.767972</td>\n",
       "      <td>0.518045</td>\n",
       "      <td>0.522587</td>\n",
       "      <td>0.315946</td>\n",
       "      <td>0.152541</td>\n",
       "      <td>12.344652</td>\n",
       "      <td>14.969841</td>\n",
       "      <td>1.274604</td>\n",
       "    </tr>\n",
       "    <tr>\n",
       "      <td>min</td>\n",
       "      <td>2011.000000</td>\n",
       "      <td>0.000000</td>\n",
       "      <td>0.000000</td>\n",
       "      <td>0.000000</td>\n",
       "      <td>0.000000</td>\n",
       "      <td>19.000000</td>\n",
       "      <td>14.000000</td>\n",
       "      <td>0.010000</td>\n",
       "    </tr>\n",
       "    <tr>\n",
       "      <td>25%</td>\n",
       "      <td>2012.000000</td>\n",
       "      <td>0.000000</td>\n",
       "      <td>0.000000</td>\n",
       "      <td>0.000000</td>\n",
       "      <td>0.000000</td>\n",
       "      <td>65.000000</td>\n",
       "      <td>58.000000</td>\n",
       "      <td>0.040000</td>\n",
       "    </tr>\n",
       "    <tr>\n",
       "      <td>50%</td>\n",
       "      <td>2014.000000</td>\n",
       "      <td>0.040000</td>\n",
       "      <td>0.040000</td>\n",
       "      <td>0.000000</td>\n",
       "      <td>0.010000</td>\n",
       "      <td>74.000000</td>\n",
       "      <td>69.000000</td>\n",
       "      <td>0.130000</td>\n",
       "    </tr>\n",
       "    <tr>\n",
       "      <td>75%</td>\n",
       "      <td>2015.000000</td>\n",
       "      <td>0.160000</td>\n",
       "      <td>0.150000</td>\n",
       "      <td>0.040000</td>\n",
       "      <td>0.040000</td>\n",
       "      <td>81.000000</td>\n",
       "      <td>78.000000</td>\n",
       "      <td>0.432500</td>\n",
       "    </tr>\n",
       "    <tr>\n",
       "      <td>max</td>\n",
       "      <td>2016.000000</td>\n",
       "      <td>6.030000</td>\n",
       "      <td>6.310000</td>\n",
       "      <td>4.390000</td>\n",
       "      <td>2.380000</td>\n",
       "      <td>97.000000</td>\n",
       "      <td>93.000000</td>\n",
       "      <td>14.630000</td>\n",
       "    </tr>\n",
       "  </tbody>\n",
       "</table>\n",
       "</div>"
      ],
      "text/plain": [
       "       year_of_release     na_sales     eu_sales     jp_sales  other_sales  \\\n",
       "count      1540.000000  1540.000000  1540.000000  1540.000000  1540.000000   \n",
       "mean       2013.881818     0.204149     0.201721     0.075922     0.056487   \n",
       "std           1.767972     0.518045     0.522587     0.315946     0.152541   \n",
       "min        2011.000000     0.000000     0.000000     0.000000     0.000000   \n",
       "25%        2012.000000     0.000000     0.000000     0.000000     0.000000   \n",
       "50%        2014.000000     0.040000     0.040000     0.000000     0.010000   \n",
       "75%        2015.000000     0.160000     0.150000     0.040000     0.040000   \n",
       "max        2016.000000     6.030000     6.310000     4.390000     2.380000   \n",
       "\n",
       "       critic_score  user_score  total_sales  \n",
       "count    876.000000  917.000000  1540.000000  \n",
       "mean      72.304795   66.233370     0.538279  \n",
       "std       12.344652   14.969841     1.274604  \n",
       "min       19.000000   14.000000     0.010000  \n",
       "25%       65.000000   58.000000     0.040000  \n",
       "50%       74.000000   69.000000     0.130000  \n",
       "75%       81.000000   78.000000     0.432500  \n",
       "max       97.000000   93.000000    14.630000  "
      ]
     },
     "execution_count": 31,
     "metadata": {},
     "output_type": "execute_result"
    }
   ],
   "source": [
    "df_ap.describe()"
   ]
  },
  {
   "cell_type": "code",
   "execution_count": 32,
   "metadata": {},
   "outputs": [
    {
     "data": {
      "text/plain": [
       "Text(0, 0.5, 'Глобальные продажи')"
      ]
     },
     "execution_count": 32,
     "metadata": {},
     "output_type": "execute_result"
    },
    {
     "data": {
      "image/png": "[encoded data removed]",
      "text/plain": [
       "<Figure size 1080x720 with 1 Axes>"
      ]
     },
     "metadata": {
      "needs_background": "light"
     },
     "output_type": "display_data"
    }
   ],
   "source": [
    "plt.figure(figsize=(15,10))\n",
    "ax = sns.boxplot(data=df_ap, x='platform', y='total_sales')\n",
    "ax.set_title('Ящик с усами')\n",
    "ax.set_xlabel('Платформа')\n",
    "ax.set_ylim([0, 2])\n",
    "ax.set_ylabel('Глобальные продажи')"
   ]
  },
  {
   "cell_type": "markdown",
   "metadata": {},
   "source": [
    "На боксплоте видно, медиана на всех платформах распологается в нижней части межквартильного интервала. Это говорит о наличии выбросов в виде удачных игр с большими суммами продаж, но также и большом количестве посредственных игр в плане продаж. \n",
    "Продажи на платформах PS4 и XOne очень похожи, большинство их продаж находятся в диапазоне до 1.5 млн, 3DS и PC отстают от них примерно в 2 раза. Это же подтверждают значения медиан в продажах платформ, т.е. в целом можно сказать, что продажи на платформах PS4 и XOne в 2 раза опережают продажи в 3DS и PC."
   ]
  },
  {
   "cell_type": "code",
   "execution_count": 33,
   "metadata": {},
   "outputs": [
    {
     "data": {
      "image/png": "[encoded data removed]",
      "text/plain": [
       "<Figure size 864x432 with 1 Axes>"
      ]
     },
     "metadata": {
      "needs_background": "light"
     },
     "output_type": "display_data"
    }
   ],
   "source": [
    "df_ps4 = df_ap[df_ap[\"platform\"]==\"PS4\"]\n",
    "df_ps4.plot(x='critic_score', y='total_sales', kind='scatter',figsize=(12,6), title=\"кореляция продаж от оценки критиков\");"
   ]
  },
  {
   "cell_type": "code",
   "execution_count": 34,
   "metadata": {},
   "outputs": [
    {
     "data": {
      "image/png": "[encoded data removed]",
      "text/plain": [
       "<Figure size 864x432 with 1 Axes>"
      ]
     },
     "metadata": {
      "needs_background": "light"
     },
     "output_type": "display_data"
    }
   ],
   "source": [
    "df_ps4.plot(x='user_score', y='total_sales', kind='scatter',figsize=(12,6), title=\"кореляция продаж от оценки пользователей\");"
   ]
  },
  {
   "cell_type": "code",
   "execution_count": 35,
   "metadata": {},
   "outputs": [
    {
     "data": {
      "text/html": [
       "<div>\n",
       "<style scoped>\n",
       "    .dataframe tbody tr th:only-of-type {\n",
       "        vertical-align: middle;\n",
       "    }\n",
       "\n",
       "    .dataframe tbody tr th {\n",
       "        vertical-align: top;\n",
       "    }\n",
       "\n",
       "    .dataframe thead th {\n",
       "        text-align: right;\n",
       "    }\n",
       "</style>\n",
       "<table border=\"1\" class=\"dataframe\">\n",
       "  <thead>\n",
       "    <tr style=\"text-align: right;\">\n",
       "      <th></th>\n",
       "      <th>total_sales</th>\n",
       "      <th>critic_score</th>\n",
       "      <th>user_score</th>\n",
       "    </tr>\n",
       "  </thead>\n",
       "  <tbody>\n",
       "    <tr>\n",
       "      <td>total_sales</td>\n",
       "      <td>1.000000</td>\n",
       "      <td>0.406568</td>\n",
       "      <td>-0.031957</td>\n",
       "    </tr>\n",
       "    <tr>\n",
       "      <td>critic_score</td>\n",
       "      <td>0.406568</td>\n",
       "      <td>1.000000</td>\n",
       "      <td>0.557654</td>\n",
       "    </tr>\n",
       "    <tr>\n",
       "      <td>user_score</td>\n",
       "      <td>-0.031957</td>\n",
       "      <td>0.557654</td>\n",
       "      <td>1.000000</td>\n",
       "    </tr>\n",
       "  </tbody>\n",
       "</table>\n",
       "</div>"
      ],
      "text/plain": [
       "              total_sales  critic_score  user_score\n",
       "total_sales      1.000000      0.406568   -0.031957\n",
       "critic_score     0.406568      1.000000    0.557654\n",
       "user_score      -0.031957      0.557654    1.000000"
      ]
     },
     "execution_count": 35,
     "metadata": {},
     "output_type": "execute_result"
    }
   ],
   "source": [
    "\n",
    "df_ps4[['total_sales', 'critic_score','user_score']].corr()"
   ]
  },
  {
   "cell_type": "markdown",
   "metadata": {},
   "source": [
    "На верхней диаграме рассеивания видна прямая кореляция продаж платформ PS4 от оценки критиков, что подтверждается расчетами (0.41), а вот с оценками от пользователей ее нет.\n",
    "\n",
    "Сравним показатели с общими данными по отобранным нами платформам:"
   ]
  },
  {
   "cell_type": "code",
   "execution_count": 36,
   "metadata": {},
   "outputs": [
    {
     "data": {
      "image/png": "[encoded data removed]",
      "text/plain": [
       "<Figure size 864x432 with 1 Axes>"
      ]
     },
     "metadata": {
      "needs_background": "light"
     },
     "output_type": "display_data"
    }
   ],
   "source": [
    "df_ap.plot(x='critic_score', y='total_sales', kind='scatter',figsize=(12,6), title=\"кореляция продаж от оценки критиков\");"
   ]
  },
  {
   "cell_type": "code",
   "execution_count": 37,
   "metadata": {},
   "outputs": [
    {
     "data": {
      "image/png": "[encoded data removed]",
      "text/plain": [
       "<Figure size 864x432 with 1 Axes>"
      ]
     },
     "metadata": {
      "needs_background": "light"
     },
     "output_type": "display_data"
    }
   ],
   "source": [
    "df_ap.plot(x='user_score', y='total_sales', kind='scatter',figsize=(12,6), title=\"кореляция продаж от оценки критиков\");"
   ]
  },
  {
   "cell_type": "code",
   "execution_count": 38,
   "metadata": {},
   "outputs": [
    {
     "data": {
      "text/html": [
       "<div>\n",
       "<style scoped>\n",
       "    .dataframe tbody tr th:only-of-type {\n",
       "        vertical-align: middle;\n",
       "    }\n",
       "\n",
       "    .dataframe tbody tr th {\n",
       "        vertical-align: top;\n",
       "    }\n",
       "\n",
       "    .dataframe thead th {\n",
       "        text-align: right;\n",
       "    }\n",
       "</style>\n",
       "<table border=\"1\" class=\"dataframe\">\n",
       "  <thead>\n",
       "    <tr style=\"text-align: right;\">\n",
       "      <th></th>\n",
       "      <th>total_sales</th>\n",
       "      <th>critic_score</th>\n",
       "      <th>user_score</th>\n",
       "    </tr>\n",
       "  </thead>\n",
       "  <tbody>\n",
       "    <tr>\n",
       "      <td>total_sales</td>\n",
       "      <td>1.000000</td>\n",
       "      <td>0.317145</td>\n",
       "      <td>0.040106</td>\n",
       "    </tr>\n",
       "    <tr>\n",
       "      <td>critic_score</td>\n",
       "      <td>0.317145</td>\n",
       "      <td>1.000000</td>\n",
       "      <td>0.499804</td>\n",
       "    </tr>\n",
       "    <tr>\n",
       "      <td>user_score</td>\n",
       "      <td>0.040106</td>\n",
       "      <td>0.499804</td>\n",
       "      <td>1.000000</td>\n",
       "    </tr>\n",
       "  </tbody>\n",
       "</table>\n",
       "</div>"
      ],
      "text/plain": [
       "              total_sales  critic_score  user_score\n",
       "total_sales      1.000000      0.317145    0.040106\n",
       "critic_score     0.317145      1.000000    0.499804\n",
       "user_score       0.040106      0.499804    1.000000"
      ]
     },
     "execution_count": 38,
     "metadata": {},
     "output_type": "execute_result"
    }
   ],
   "source": [
    "df_ap[['total_sales', 'critic_score','user_score']].corr()"
   ]
  },
  {
   "cell_type": "markdown",
   "metadata": {},
   "source": [
    "Показатели по всем актуальным платформам подтверждают выводы, сделанные по PS4, разве что кореляция продаж от оценки критиков чуть менее выраженная (0.32). Значит оценка критиков влияет на продажи игр, тогда как оценка пользователей нет."
   ]
  },
  {
   "cell_type": "markdown",
   "metadata": {},
   "source": [
    "<a id='34'></a>\n",
    "### Оценка продаж игр в зависимости от их жанра"
   ]
  },
  {
   "cell_type": "code",
   "execution_count": 39,
   "metadata": {},
   "outputs": [
    {
     "data": {
      "image/png": "[encoded data removed]",
      "text/plain": [
       "<Figure size 1080x360 with 1 Axes>"
      ]
     },
     "metadata": {
      "needs_background": "light"
     },
     "output_type": "display_data"
    }
   ],
   "source": [
    "df_ap.pivot_table(index='genre', values='total_sales', aggfunc='sum').sort_values(by='total_sales', ascending=False).plot(kind=\"bar\", grid=True, figsize=(15, 5), title=\"сумарные продажи по жанрам на актуальных платформах, млн. шт.\");"
   ]
  },
  {
   "cell_type": "markdown",
   "metadata": {},
   "source": [
    "Наиболее прибыльным жанром является Action и Shooter. В целом высокие продажи имеют динамичные игры, тогда как игры с низкими продажими отличаются тем, что наоборот требуют времяни, внимания и вдумчивости."
   ]
  },
  {
   "cell_type": "markdown",
   "metadata": {},
   "source": [
    "<a id='35'></a>\n",
    "### Вывод\n",
    "- кол-во выпущенных игр росло до 2008 года, после чего начался спад\n",
    "- лидерами продаж за весь наблюдаемый период являются платформы: PS2, X360, PS3, Wii, DS, PS\n",
    "- средний период жизни платформ-лидеров 10 лет, половина из которых она растет, а половина падает\n",
    "- платформы PS4 и XOne являются наиболее потенциально прибыльными платформами, они же являются лидерами продаж в 2016 году. При их релизе в 2013 году, можно ожидать от них роста еще пару лет.\n",
    "- наибольшее падение продаж в последние годы показывают PS3 и X360, их 10-летний цикл существования видимо подходит к концу\n",
    "- в качестве актуальных платформ для дальнейшего анализа определилили: PS4, XOne, 3DS, PC \n",
    "- этим платформам характерны большое кол-во игр с малыми продажами, но наличие выстрелевших игр значительно поднимают их продажи\n",
    "- обнаружено зависивость продаж на платформах от оценки критиков и отсутствие зависимости от оценки пользователей\n",
    "- высокие продажи имеют динамичные игры, низкими продажи у требущих много времени жанров"
   ]
  },
  {
   "cell_type": "markdown",
   "metadata": {},
   "source": [
    "<a id='4'></a>\n",
    "## Составление портрета пользователя каждого региона"
   ]
  },
  {
   "cell_type": "markdown",
   "metadata": {},
   "source": [
    "<a id='41'></a>\n",
    "### Самые популярные платформы"
   ]
  },
  {
   "cell_type": "code",
   "execution_count": 40,
   "metadata": {},
   "outputs": [
    {
     "data": {
      "text/html": [
       "<div>\n",
       "<style scoped>\n",
       "    .dataframe tbody tr th:only-of-type {\n",
       "        vertical-align: middle;\n",
       "    }\n",
       "\n",
       "    .dataframe tbody tr th {\n",
       "        vertical-align: top;\n",
       "    }\n",
       "\n",
       "    .dataframe thead th {\n",
       "        text-align: right;\n",
       "    }\n",
       "</style>\n",
       "<table border=\"1\" class=\"dataframe\">\n",
       "  <thead>\n",
       "    <tr style=\"text-align: right;\">\n",
       "      <th></th>\n",
       "      <th>platform</th>\n",
       "      <th>eu_sales</th>\n",
       "      <th>jp_sales</th>\n",
       "      <th>na_sales</th>\n",
       "      <th>other_sales</th>\n",
       "      <th>total_sales</th>\n",
       "      <th>share_of_sales_na</th>\n",
       "      <th>share_of_sales_eu</th>\n",
       "      <th>share_of_sales_jp</th>\n",
       "      <th>share_of_sales_other</th>\n",
       "    </tr>\n",
       "  </thead>\n",
       "  <tbody>\n",
       "    <tr>\n",
       "      <td>4</td>\n",
       "      <td>PS3</td>\n",
       "      <td>213.60</td>\n",
       "      <td>59.26</td>\n",
       "      <td>229.25</td>\n",
       "      <td>85.63</td>\n",
       "      <td>587.74</td>\n",
       "      <td>0.39</td>\n",
       "      <td>0.36</td>\n",
       "      <td>0.10</td>\n",
       "      <td>0.15</td>\n",
       "    </tr>\n",
       "    <tr>\n",
       "      <td>10</td>\n",
       "      <td>X360</td>\n",
       "      <td>163.41</td>\n",
       "      <td>5.46</td>\n",
       "      <td>334.18</td>\n",
       "      <td>47.36</td>\n",
       "      <td>550.41</td>\n",
       "      <td>0.61</td>\n",
       "      <td>0.30</td>\n",
       "      <td>0.01</td>\n",
       "      <td>0.09</td>\n",
       "    </tr>\n",
       "    <tr>\n",
       "      <td>5</td>\n",
       "      <td>PS4</td>\n",
       "      <td>141.09</td>\n",
       "      <td>15.96</td>\n",
       "      <td>108.74</td>\n",
       "      <td>48.35</td>\n",
       "      <td>314.14</td>\n",
       "      <td>0.35</td>\n",
       "      <td>0.45</td>\n",
       "      <td>0.05</td>\n",
       "      <td>0.15</td>\n",
       "    </tr>\n",
       "    <tr>\n",
       "      <td>0</td>\n",
       "      <td>3DS</td>\n",
       "      <td>61.27</td>\n",
       "      <td>100.62</td>\n",
       "      <td>82.65</td>\n",
       "      <td>13.27</td>\n",
       "      <td>257.81</td>\n",
       "      <td>0.32</td>\n",
       "      <td>0.24</td>\n",
       "      <td>0.39</td>\n",
       "      <td>0.05</td>\n",
       "    </tr>\n",
       "    <tr>\n",
       "      <td>8</td>\n",
       "      <td>Wii</td>\n",
       "      <td>65.91</td>\n",
       "      <td>17.75</td>\n",
       "      <td>121.20</td>\n",
       "      <td>18.11</td>\n",
       "      <td>222.97</td>\n",
       "      <td>0.54</td>\n",
       "      <td>0.30</td>\n",
       "      <td>0.08</td>\n",
       "      <td>0.08</td>\n",
       "    </tr>\n",
       "    <tr>\n",
       "      <td>11</td>\n",
       "      <td>XOne</td>\n",
       "      <td>51.59</td>\n",
       "      <td>0.34</td>\n",
       "      <td>93.12</td>\n",
       "      <td>14.27</td>\n",
       "      <td>159.32</td>\n",
       "      <td>0.58</td>\n",
       "      <td>0.32</td>\n",
       "      <td>0.00</td>\n",
       "      <td>0.09</td>\n",
       "    </tr>\n",
       "    <tr>\n",
       "      <td>1</td>\n",
       "      <td>DS</td>\n",
       "      <td>28.06</td>\n",
       "      <td>27.90</td>\n",
       "      <td>59.66</td>\n",
       "      <td>8.13</td>\n",
       "      <td>123.75</td>\n",
       "      <td>0.48</td>\n",
       "      <td>0.23</td>\n",
       "      <td>0.23</td>\n",
       "      <td>0.07</td>\n",
       "    </tr>\n",
       "    <tr>\n",
       "      <td>2</td>\n",
       "      <td>PC</td>\n",
       "      <td>68.82</td>\n",
       "      <td>0.00</td>\n",
       "      <td>39.07</td>\n",
       "      <td>14.07</td>\n",
       "      <td>121.96</td>\n",
       "      <td>0.32</td>\n",
       "      <td>0.56</td>\n",
       "      <td>0.00</td>\n",
       "      <td>0.12</td>\n",
       "    </tr>\n",
       "    <tr>\n",
       "      <td>9</td>\n",
       "      <td>WiiU</td>\n",
       "      <td>25.13</td>\n",
       "      <td>13.01</td>\n",
       "      <td>38.10</td>\n",
       "      <td>5.95</td>\n",
       "      <td>82.19</td>\n",
       "      <td>0.46</td>\n",
       "      <td>0.31</td>\n",
       "      <td>0.16</td>\n",
       "      <td>0.07</td>\n",
       "    </tr>\n",
       "    <tr>\n",
       "      <td>6</td>\n",
       "      <td>PSP</td>\n",
       "      <td>7.59</td>\n",
       "      <td>42.20</td>\n",
       "      <td>9.65</td>\n",
       "      <td>4.61</td>\n",
       "      <td>64.05</td>\n",
       "      <td>0.15</td>\n",
       "      <td>0.12</td>\n",
       "      <td>0.66</td>\n",
       "      <td>0.07</td>\n",
       "    </tr>\n",
       "    <tr>\n",
       "      <td>7</td>\n",
       "      <td>PSV</td>\n",
       "      <td>13.07</td>\n",
       "      <td>21.84</td>\n",
       "      <td>12.47</td>\n",
       "      <td>6.43</td>\n",
       "      <td>53.81</td>\n",
       "      <td>0.23</td>\n",
       "      <td>0.24</td>\n",
       "      <td>0.41</td>\n",
       "      <td>0.12</td>\n",
       "    </tr>\n",
       "    <tr>\n",
       "      <td>3</td>\n",
       "      <td>PS2</td>\n",
       "      <td>1.67</td>\n",
       "      <td>0.80</td>\n",
       "      <td>2.32</td>\n",
       "      <td>1.30</td>\n",
       "      <td>6.09</td>\n",
       "      <td>0.38</td>\n",
       "      <td>0.27</td>\n",
       "      <td>0.13</td>\n",
       "      <td>0.21</td>\n",
       "    </tr>\n",
       "  </tbody>\n",
       "</table>\n",
       "</div>"
      ],
      "text/plain": [
       "   platform  eu_sales  jp_sales  na_sales  other_sales  total_sales  \\\n",
       "4       PS3    213.60     59.26    229.25        85.63       587.74   \n",
       "10     X360    163.41      5.46    334.18        47.36       550.41   \n",
       "5       PS4    141.09     15.96    108.74        48.35       314.14   \n",
       "0       3DS     61.27    100.62     82.65        13.27       257.81   \n",
       "8       Wii     65.91     17.75    121.20        18.11       222.97   \n",
       "11     XOne     51.59      0.34     93.12        14.27       159.32   \n",
       "1        DS     28.06     27.90     59.66         8.13       123.75   \n",
       "2        PC     68.82      0.00     39.07        14.07       121.96   \n",
       "9      WiiU     25.13     13.01     38.10         5.95        82.19   \n",
       "6       PSP      7.59     42.20      9.65         4.61        64.05   \n",
       "7       PSV     13.07     21.84     12.47         6.43        53.81   \n",
       "3       PS2      1.67      0.80      2.32         1.30         6.09   \n",
       "\n",
       "    share_of_sales_na  share_of_sales_eu  share_of_sales_jp  \\\n",
       "4                0.39               0.36               0.10   \n",
       "10               0.61               0.30               0.01   \n",
       "5                0.35               0.45               0.05   \n",
       "0                0.32               0.24               0.39   \n",
       "8                0.54               0.30               0.08   \n",
       "11               0.58               0.32               0.00   \n",
       "1                0.48               0.23               0.23   \n",
       "2                0.32               0.56               0.00   \n",
       "9                0.46               0.31               0.16   \n",
       "6                0.15               0.12               0.66   \n",
       "7                0.23               0.24               0.41   \n",
       "3                0.38               0.27               0.13   \n",
       "\n",
       "    share_of_sales_other  \n",
       "4                   0.15  \n",
       "10                  0.09  \n",
       "5                   0.15  \n",
       "0                   0.05  \n",
       "8                   0.08  \n",
       "11                  0.09  \n",
       "1                   0.07  \n",
       "2                   0.12  \n",
       "9                   0.07  \n",
       "6                   0.07  \n",
       "7                   0.12  \n",
       "3                   0.21  "
      ]
     },
     "execution_count": 40,
     "metadata": {},
     "output_type": "execute_result"
    }
   ],
   "source": [
    "df_2010 = df[df[\"year_of_release\"] >= 2010]\n",
    "df_2010_platform = df_2010.pivot_table(index='platform', values=[\"na_sales\", \"eu_sales\", \"jp_sales\", \"other_sales\", \"total_sales\"], aggfunc='sum').reset_index().sort_values(by='total_sales', ascending=False)\n",
    "df_2010_platform[\"share_of_sales_na\"] = round(df_2010_platform[\"na_sales\"] / df_2010_platform[\"total_sales\"], 2)\n",
    "df_2010_platform[\"share_of_sales_eu\"] = round(df_2010_platform[\"eu_sales\"] / df_2010_platform[\"total_sales\"], 2)\n",
    "df_2010_platform[\"share_of_sales_jp\"] = round(df_2010_platform[\"jp_sales\"] / df_2010_platform[\"total_sales\"], 2)\n",
    "df_2010_platform[\"share_of_sales_other\"] = round(df_2010_platform[\"other_sales\"] / df_2010_platform[\"total_sales\"], 2)\n",
    "df_2010_platform"
   ]
  },
  {
   "cell_type": "code",
   "execution_count": 41,
   "metadata": {},
   "outputs": [
    {
     "data": {
      "image/png": "[encoded data removed]",
      "text/plain": [
       "<Figure size 1080x360 with 1 Axes>"
      ]
     },
     "metadata": {
      "needs_background": "light"
     },
     "output_type": "display_data"
    }
   ],
   "source": [
    "df_2010_platform.pivot_table(index='platform', values=[\"share_of_sales_na\", \"share_of_sales_eu\", \"share_of_sales_jp\"], aggfunc='sum').sort_values(by='share_of_sales_na', ascending=False).head().plot(kind=\"bar\", grid=True, figsize=(15, 5), title=\"доли продаж в регионах отсортированные по Северной Америке\");"
   ]
  },
  {
   "cell_type": "code",
   "execution_count": 42,
   "metadata": {},
   "outputs": [
    {
     "data": {
      "image/png": "[encoded data removed]",
      "text/plain": [
       "<Figure size 1080x360 with 1 Axes>"
      ]
     },
     "metadata": {
      "needs_background": "light"
     },
     "output_type": "display_data"
    }
   ],
   "source": [
    "df_2010_platform.pivot_table(index='platform', values=[\"share_of_sales_na\", \"share_of_sales_eu\", \"share_of_sales_jp\"], aggfunc='sum').sort_values(by='share_of_sales_eu', ascending=False).head().plot(kind=\"bar\", grid=True, figsize=(15, 5), title=\"доли продаж в регионах отсортированные по Европе\");"
   ]
  },
  {
   "cell_type": "code",
   "execution_count": 43,
   "metadata": {},
   "outputs": [
    {
     "data": {
      "image/png": "[encoded data removed]",
      "text/plain": [
       "<Figure size 1080x360 with 1 Axes>"
      ]
     },
     "metadata": {
      "needs_background": "light"
     },
     "output_type": "display_data"
    }
   ],
   "source": [
    "df_2010_platform.pivot_table(index='platform', values=[\"share_of_sales_na\", \"share_of_sales_eu\", \"share_of_sales_jp\"], aggfunc='sum').sort_values(by='share_of_sales_jp', ascending=False).head().plot(kind=\"bar\", grid=True, figsize=(15, 5), title=\"доли продаж в регионах  отсортированные по Северной Америке\");"
   ]
  },
  {
   "cell_type": "markdown",
   "metadata": {},
   "source": [
    "Видно, что популярные в Северной Америки платформы популярны и в Европе,  т.е. они занимают примерно одинаковые доли рынка. В Америки чуть более популярны платформы microsoft xbox, а в Европе платформы sony. Там же в ходу и игры на PC.\n",
    "Но эти платформы не имеют популярности в Японии. И наоборот, самая популярная платформа в Японии (PSP) имеет малые доли в других регионах."
   ]
  },
  {
   "cell_type": "markdown",
   "metadata": {},
   "source": [
    "<a id='42'></a>\n",
    "### Самые популярные жанры"
   ]
  },
  {
   "cell_type": "code",
   "execution_count": 44,
   "metadata": {},
   "outputs": [
    {
     "data": {
      "text/html": [
       "<div>\n",
       "<style scoped>\n",
       "    .dataframe tbody tr th:only-of-type {\n",
       "        vertical-align: middle;\n",
       "    }\n",
       "\n",
       "    .dataframe tbody tr th {\n",
       "        vertical-align: top;\n",
       "    }\n",
       "\n",
       "    .dataframe thead th {\n",
       "        text-align: right;\n",
       "    }\n",
       "</style>\n",
       "<table border=\"1\" class=\"dataframe\">\n",
       "  <thead>\n",
       "    <tr style=\"text-align: right;\">\n",
       "      <th></th>\n",
       "      <th>genre</th>\n",
       "      <th>eu_sales</th>\n",
       "      <th>jp_sales</th>\n",
       "      <th>na_sales</th>\n",
       "      <th>other_sales</th>\n",
       "      <th>total_sales</th>\n",
       "    </tr>\n",
       "  </thead>\n",
       "  <tbody>\n",
       "    <tr>\n",
       "      <td>0</td>\n",
       "      <td>Action</td>\n",
       "      <td>233.63</td>\n",
       "      <td>72.20</td>\n",
       "      <td>290.64</td>\n",
       "      <td>76.62</td>\n",
       "      <td>673.09</td>\n",
       "    </tr>\n",
       "    <tr>\n",
       "      <td>8</td>\n",
       "      <td>Shooter</td>\n",
       "      <td>171.45</td>\n",
       "      <td>14.04</td>\n",
       "      <td>237.47</td>\n",
       "      <td>56.78</td>\n",
       "      <td>479.74</td>\n",
       "    </tr>\n",
       "    <tr>\n",
       "      <td>10</td>\n",
       "      <td>Sports</td>\n",
       "      <td>116.84</td>\n",
       "      <td>15.51</td>\n",
       "      <td>156.81</td>\n",
       "      <td>39.23</td>\n",
       "      <td>328.39</td>\n",
       "    </tr>\n",
       "    <tr>\n",
       "      <td>7</td>\n",
       "      <td>Role-Playing</td>\n",
       "      <td>75.48</td>\n",
       "      <td>103.54</td>\n",
       "      <td>112.05</td>\n",
       "      <td>24.21</td>\n",
       "      <td>315.28</td>\n",
       "    </tr>\n",
       "    <tr>\n",
       "      <td>3</td>\n",
       "      <td>Misc</td>\n",
       "      <td>66.09</td>\n",
       "      <td>24.29</td>\n",
       "      <td>123.80</td>\n",
       "      <td>20.38</td>\n",
       "      <td>234.56</td>\n",
       "    </tr>\n",
       "    <tr>\n",
       "      <td>6</td>\n",
       "      <td>Racing</td>\n",
       "      <td>54.75</td>\n",
       "      <td>6.68</td>\n",
       "      <td>46.11</td>\n",
       "      <td>15.14</td>\n",
       "      <td>122.68</td>\n",
       "    </tr>\n",
       "    <tr>\n",
       "      <td>4</td>\n",
       "      <td>Platform</td>\n",
       "      <td>38.30</td>\n",
       "      <td>15.81</td>\n",
       "      <td>54.90</td>\n",
       "      <td>10.71</td>\n",
       "      <td>119.72</td>\n",
       "    </tr>\n",
       "    <tr>\n",
       "      <td>2</td>\n",
       "      <td>Fighting</td>\n",
       "      <td>20.33</td>\n",
       "      <td>13.90</td>\n",
       "      <td>39.05</td>\n",
       "      <td>8.31</td>\n",
       "      <td>81.59</td>\n",
       "    </tr>\n",
       "    <tr>\n",
       "      <td>9</td>\n",
       "      <td>Simulation</td>\n",
       "      <td>26.39</td>\n",
       "      <td>13.30</td>\n",
       "      <td>26.39</td>\n",
       "      <td>5.67</td>\n",
       "      <td>71.75</td>\n",
       "    </tr>\n",
       "    <tr>\n",
       "      <td>1</td>\n",
       "      <td>Adventure</td>\n",
       "      <td>18.88</td>\n",
       "      <td>15.67</td>\n",
       "      <td>20.84</td>\n",
       "      <td>5.61</td>\n",
       "      <td>61.00</td>\n",
       "    </tr>\n",
       "    <tr>\n",
       "      <td>11</td>\n",
       "      <td>Strategy</td>\n",
       "      <td>12.49</td>\n",
       "      <td>6.80</td>\n",
       "      <td>13.25</td>\n",
       "      <td>3.30</td>\n",
       "      <td>35.84</td>\n",
       "    </tr>\n",
       "    <tr>\n",
       "      <td>5</td>\n",
       "      <td>Puzzle</td>\n",
       "      <td>6.58</td>\n",
       "      <td>3.40</td>\n",
       "      <td>9.10</td>\n",
       "      <td>1.52</td>\n",
       "      <td>20.60</td>\n",
       "    </tr>\n",
       "  </tbody>\n",
       "</table>\n",
       "</div>"
      ],
      "text/plain": [
       "           genre  eu_sales  jp_sales  na_sales  other_sales  total_sales\n",
       "0         Action    233.63     72.20    290.64        76.62       673.09\n",
       "8        Shooter    171.45     14.04    237.47        56.78       479.74\n",
       "10        Sports    116.84     15.51    156.81        39.23       328.39\n",
       "7   Role-Playing     75.48    103.54    112.05        24.21       315.28\n",
       "3           Misc     66.09     24.29    123.80        20.38       234.56\n",
       "6         Racing     54.75      6.68     46.11        15.14       122.68\n",
       "4       Platform     38.30     15.81     54.90        10.71       119.72\n",
       "2       Fighting     20.33     13.90     39.05         8.31        81.59\n",
       "9     Simulation     26.39     13.30     26.39         5.67        71.75\n",
       "1      Adventure     18.88     15.67     20.84         5.61        61.00\n",
       "11      Strategy     12.49      6.80     13.25         3.30        35.84\n",
       "5         Puzzle      6.58      3.40      9.10         1.52        20.60"
      ]
     },
     "execution_count": 44,
     "metadata": {},
     "output_type": "execute_result"
    }
   ],
   "source": [
    "df_2010_genre = df_2010.pivot_table(index='genre', values=[\"na_sales\", \"eu_sales\", \"jp_sales\", \"other_sales\", \"total_sales\"], aggfunc='sum').reset_index().sort_values(by='total_sales', ascending=False)\n",
    "df_2010_genre"
   ]
  },
  {
   "cell_type": "code",
   "execution_count": 45,
   "metadata": {},
   "outputs": [
    {
     "data": {
      "image/png": "[encoded data removed]",
      "text/plain": [
       "<Figure size 1080x360 with 1 Axes>"
      ]
     },
     "metadata": {
      "needs_background": "light"
     },
     "output_type": "display_data"
    }
   ],
   "source": [
    "df_2010_genre.pivot_table(index='genre', values=[\"na_sales\", \"eu_sales\", \"jp_sales\"], aggfunc='sum').sort_values(by='na_sales', ascending=False).head().plot(kind=\"bar\", grid=True, figsize=(15, 5), title=\"популярные жанры отсортированные по Северной Америке, млн. шт.\");"
   ]
  },
  {
   "cell_type": "code",
   "execution_count": 46,
   "metadata": {},
   "outputs": [
    {
     "data": {
      "image/png": "[encoded data removed]",
      "text/plain": [
       "<Figure size 1080x360 with 1 Axes>"
      ]
     },
     "metadata": {
      "needs_background": "light"
     },
     "output_type": "display_data"
    }
   ],
   "source": [
    "df_2010_genre.pivot_table(index='genre', values=[\"na_sales\", \"eu_sales\", \"jp_sales\"], aggfunc='sum').sort_values(by='eu_sales', ascending=False).head().plot(kind=\"bar\", grid=True, figsize=(15, 5), title=\"популярные жанры отсортированные по Европе, млн. шт.\");"
   ]
  },
  {
   "cell_type": "code",
   "execution_count": 47,
   "metadata": {},
   "outputs": [
    {
     "data": {
      "image/png": "[encoded data removed]",
      "text/plain": [
       "<Figure size 1080x360 with 1 Axes>"
      ]
     },
     "metadata": {
      "needs_background": "light"
     },
     "output_type": "display_data"
    }
   ],
   "source": [
    "df_2010_genre.pivot_table(index='genre', values=[\"na_sales\", \"eu_sales\", \"jp_sales\"], aggfunc='sum').sort_values(by='jp_sales', ascending=False).head().plot(kind=\"bar\", grid=True, figsize=(15, 5), title=\"популярные жанры отсортированные по Японии, млн. шт.\");"
   ]
  },
  {
   "cell_type": "markdown",
   "metadata": {},
   "source": [
    "Видно, что популярные в Северной Америки жанры популярны и в Европе,  т.е. вкусы пользователей на этих рынках похожи. Есть некая схожесть и с Японским рынком, но там более популярны ролевые жанры и приключения, а спортивные и шутеры, популярные в Европе и Америке не входят в топ 5. "
   ]
  },
  {
   "cell_type": "markdown",
   "metadata": {},
   "source": [
    "<a id='43'></a>\n",
    "### Влияние рейтинга ESRB на продажи в регионах"
   ]
  },
  {
   "cell_type": "markdown",
   "metadata": {},
   "source": [
    "«EC» («Early childhood») — «Для детей младшего возраста»\n",
    "\n",
    "«E» («Everyone») — «Для всех»\n",
    "\n",
    "«E10+» («Everyone 10 and older») — «Для всех от 10 лет и старше»\n",
    "\n",
    "«T» («Teen») — «Подросткам»\n",
    "\n",
    "«M» («Mature») — «Для взрослых»\n",
    "\n",
    "RP — (Rating Pending) «В ожидании рейтинга»"
   ]
  },
  {
   "cell_type": "code",
   "execution_count": 48,
   "metadata": {
    "scrolled": true
   },
   "outputs": [
    {
     "data": {
      "text/html": [
       "<div>\n",
       "<style scoped>\n",
       "    .dataframe tbody tr th:only-of-type {\n",
       "        vertical-align: middle;\n",
       "    }\n",
       "\n",
       "    .dataframe tbody tr th {\n",
       "        vertical-align: top;\n",
       "    }\n",
       "\n",
       "    .dataframe thead th {\n",
       "        text-align: right;\n",
       "    }\n",
       "</style>\n",
       "<table border=\"1\" class=\"dataframe\">\n",
       "  <thead>\n",
       "    <tr style=\"text-align: right;\">\n",
       "      <th></th>\n",
       "      <th>rating</th>\n",
       "      <th>eu_sales</th>\n",
       "      <th>jp_sales</th>\n",
       "      <th>na_sales</th>\n",
       "      <th>other_sales</th>\n",
       "      <th>total_sales</th>\n",
       "    </tr>\n",
       "  </thead>\n",
       "  <tbody>\n",
       "    <tr>\n",
       "      <td>3</td>\n",
       "      <td>M</td>\n",
       "      <td>292.04</td>\n",
       "      <td>30.45</td>\n",
       "      <td>382.22</td>\n",
       "      <td>96.98</td>\n",
       "      <td>801.69</td>\n",
       "    </tr>\n",
       "    <tr>\n",
       "      <td>0</td>\n",
       "      <td>E</td>\n",
       "      <td>197.34</td>\n",
       "      <td>47.87</td>\n",
       "      <td>271.15</td>\n",
       "      <td>60.04</td>\n",
       "      <td>576.40</td>\n",
       "    </tr>\n",
       "    <tr>\n",
       "      <td>4</td>\n",
       "      <td>RP</td>\n",
       "      <td>139.47</td>\n",
       "      <td>171.49</td>\n",
       "      <td>155.72</td>\n",
       "      <td>40.52</td>\n",
       "      <td>507.20</td>\n",
       "    </tr>\n",
       "    <tr>\n",
       "      <td>5</td>\n",
       "      <td>T</td>\n",
       "      <td>113.08</td>\n",
       "      <td>42.11</td>\n",
       "      <td>160.81</td>\n",
       "      <td>38.72</td>\n",
       "      <td>354.72</td>\n",
       "    </tr>\n",
       "    <tr>\n",
       "      <td>1</td>\n",
       "      <td>E10+</td>\n",
       "      <td>99.28</td>\n",
       "      <td>13.22</td>\n",
       "      <td>159.38</td>\n",
       "      <td>31.15</td>\n",
       "      <td>303.03</td>\n",
       "    </tr>\n",
       "    <tr>\n",
       "      <td>2</td>\n",
       "      <td>EC</td>\n",
       "      <td>0.00</td>\n",
       "      <td>0.00</td>\n",
       "      <td>1.13</td>\n",
       "      <td>0.07</td>\n",
       "      <td>1.20</td>\n",
       "    </tr>\n",
       "  </tbody>\n",
       "</table>\n",
       "</div>"
      ],
      "text/plain": [
       "  rating  eu_sales  jp_sales  na_sales  other_sales  total_sales\n",
       "3      M    292.04     30.45    382.22        96.98       801.69\n",
       "0      E    197.34     47.87    271.15        60.04       576.40\n",
       "4     RP    139.47    171.49    155.72        40.52       507.20\n",
       "5      T    113.08     42.11    160.81        38.72       354.72\n",
       "1   E10+     99.28     13.22    159.38        31.15       303.03\n",
       "2     EC      0.00      0.00      1.13         0.07         1.20"
      ]
     },
     "execution_count": 48,
     "metadata": {},
     "output_type": "execute_result"
    }
   ],
   "source": [
    "df_2010_ersb = df_2010.pivot_table(index='rating', values=[\"na_sales\", \"eu_sales\", \"jp_sales\", \"other_sales\", \"total_sales\"], aggfunc='sum').reset_index().sort_values(by='total_sales', ascending=False)\n",
    "df_2010_ersb "
   ]
  },
  {
   "cell_type": "code",
   "execution_count": 49,
   "metadata": {},
   "outputs": [
    {
     "data": {
      "image/png": "[encoded data removed]",
      "text/plain": [
       "<Figure size 1080x360 with 1 Axes>"
      ]
     },
     "metadata": {
      "needs_background": "light"
     },
     "output_type": "display_data"
    }
   ],
   "source": [
    "df_2010_ersb .pivot_table(index='rating', values=[\"na_sales\", \"eu_sales\", \"jp_sales\"], aggfunc='sum').sort_values(by='na_sales', ascending=False).head().plot(kind=\"bar\", grid=True, figsize=(15, 5), title=\"продажи в зависимости от рейтинга ESRB отсортированные по Северной Америке, млн. шт.\");"
   ]
  },
  {
   "cell_type": "code",
   "execution_count": 50,
   "metadata": {},
   "outputs": [
    {
     "data": {
      "image/png": "[encoded data removed]",
      "text/plain": [
       "<Figure size 1080x360 with 1 Axes>"
      ]
     },
     "metadata": {
      "needs_background": "light"
     },
     "output_type": "display_data"
    }
   ],
   "source": [
    "df_2010_ersb .pivot_table(index='rating', values=[\"na_sales\", \"eu_sales\", \"jp_sales\"], aggfunc='sum').sort_values(by='eu_sales', ascending=False).head().plot(kind=\"bar\", grid=True, figsize=(15, 5), title=\"продажи в зависимости от рейтинга ESRB отсортированные по Европпе, млн. шт.\");"
   ]
  },
  {
   "cell_type": "code",
   "execution_count": 51,
   "metadata": {},
   "outputs": [
    {
     "data": {
      "image/png": "[encoded data removed]",
      "text/plain": [
       "<Figure size 1080x360 with 1 Axes>"
      ]
     },
     "metadata": {
      "needs_background": "light"
     },
     "output_type": "display_data"
    }
   ],
   "source": [
    "df_2010_ersb .pivot_table(index='rating', values=[\"na_sales\", \"eu_sales\", \"jp_sales\"], aggfunc='sum').sort_values(by='jp_sales', ascending=False).head().plot(kind=\"bar\", grid=True, figsize=(15, 5), title=\"продажи в зависимости от рейтинга ESRB отсортированные по Японии, млн. шт.\");"
   ]
  },
  {
   "cell_type": "markdown",
   "metadata": {},
   "source": [
    "Наибольшее распространение в мире в целом получили игры для взрослых, а по мере его изменения в сторону младших возрастов уменьшаются и их продажи. Это удтверждение справедливо как для Европпы, так и для Северной Америки. В Японии же на первом месте игры не имеющих категории, потом для всех, для подростков и только на 4 месте для взрослых. Этом можно объяснить либо тем, что взрослые в Японии меньше играют, либо там действительно строго соблюдают рейтинг ESRB  при покупках, тогда как в мире на него меньше обращают внимание."
   ]
  },
  {
   "cell_type": "markdown",
   "metadata": {},
   "source": [
    "<a id='44'></a>\n",
    "### Вывод\n",
    "Портрет пользователя Северной Америки:\n",
    "- предпочитает платформы серии microsoft Xbox \n",
    "- любит динамичные жанры: шутеры, спортивные, предназначенные для взрослых пользователей.\n",
    "\n",
    "Портрет пользователя Европы:\n",
    "- предпочитает платформы серии sony PS \n",
    "- любит динамичные жанры: шутеры, спортивные, предназначенные для взрослых пользователей.\n",
    "\n",
    "Портрет пользователя Японии:\n",
    "- предпочитает платформы серии PSP \n",
    "- любит жанры: ролевые, приключения, предназначенные для всех возрастов, включая подростков пользователей."
   ]
  },
  {
   "cell_type": "markdown",
   "metadata": {},
   "source": [
    "<a id='5'></a>\n",
    "## Проверка гипотез"
   ]
  },
  {
   "cell_type": "markdown",
   "metadata": {},
   "source": [
    "<a id='51'></a>\n",
    "### Средние пользовательские рейтинги платформ Xbox One и PC одинаковые"
   ]
  },
  {
   "cell_type": "markdown",
   "metadata": {},
   "source": [
    "H0 - cредние пользовательские рейтинги платформ Xbox One и PC одинаковые\n",
    "\n",
    "H1 - cредние пользовательские рейтинги платформ Xbox One и PC различаются"
   ]
  },
  {
   "cell_type": "code",
   "execution_count": 52,
   "metadata": {},
   "outputs": [
    {
     "data": {
      "text/plain": [
       "182"
      ]
     },
     "execution_count": 52,
     "metadata": {},
     "output_type": "execute_result"
    }
   ],
   "source": [
    "xone = df_2010[df_2010['platform']=='XOne']['user_score'].dropna()\n",
    "len(xone)"
   ]
  },
  {
   "cell_type": "code",
   "execution_count": 53,
   "metadata": {
    "scrolled": true
   },
   "outputs": [
    {
     "data": {
      "text/plain": [
       "374"
      ]
     },
     "execution_count": 53,
     "metadata": {},
     "output_type": "execute_result"
    }
   ],
   "source": [
    "pc = df_2010[df_2010['platform']=='PC']['user_score'].dropna()\n",
    "len(pc)"
   ]
  },
  {
   "cell_type": "code",
   "execution_count": 54,
   "metadata": {
    "scrolled": false
   },
   "outputs": [
    {
     "data": {
      "text/plain": [
       "count    182.000000\n",
       "mean      65.214286\n",
       "std       13.809406\n",
       "min       16.000000\n",
       "25%       58.000000\n",
       "50%       68.000000\n",
       "75%       75.000000\n",
       "max       92.000000\n",
       "Name: user_score, dtype: float64"
      ]
     },
     "execution_count": 54,
     "metadata": {},
     "output_type": "execute_result"
    }
   ],
   "source": [
    "xone.describe()"
   ]
  },
  {
   "cell_type": "code",
   "execution_count": 55,
   "metadata": {
    "scrolled": false
   },
   "outputs": [
    {
     "data": {
      "text/plain": [
       "count    374.000000\n",
       "mean      65.181818\n",
       "std       15.653901\n",
       "min       14.000000\n",
       "25%       56.000000\n",
       "50%       68.000000\n",
       "75%       77.000000\n",
       "max       93.000000\n",
       "Name: user_score, dtype: float64"
      ]
     },
     "execution_count": 55,
     "metadata": {},
     "output_type": "execute_result"
    }
   ],
   "source": [
    "pc.describe()"
   ]
  },
  {
   "cell_type": "markdown",
   "metadata": {},
   "source": [
    "Совокупности не зависимые,  поэтому применим t-тест, однако размер выборок разный, а значит укажем параметр equal_var=False (разность дисперсии), уровене статистической значимости будем считать 0.05"
   ]
  },
  {
   "cell_type": "code",
   "execution_count": 56,
   "metadata": {},
   "outputs": [
    {
     "name": "stdout",
     "output_type": "stream",
     "text": [
      "p-значение: 0.9801634129117981\n",
      "Не получилось отвергнуть нулевую гипотезу\n"
     ]
    }
   ],
   "source": [
    "alpha = 0.05\n",
    "\n",
    "results = st.ttest_ind(xone, pc, equal_var=False)\n",
    "\n",
    "print('p-значение:', results.pvalue)\n",
    "\n",
    "\n",
    "if (results.pvalue < alpha):\n",
    "    print(\"Отвергаем нулевую гипотезу\")\n",
    "else:\n",
    "    print(\"Не получилось отвергнуть нулевую гипотезу\")"
   ]
  },
  {
   "cell_type": "markdown",
   "metadata": {},
   "source": [
    "Применив t-тест при критическом уровене статистической значимости в 0.05, приходим к выводу, что средние пользовательские рейтинги платформ Xbox One и PC одинаковые."
   ]
  },
  {
   "cell_type": "markdown",
   "metadata": {},
   "source": [
    "<a id='52'></a>\n",
    "### Средние пользовательские рейтинги жанров Action и Sports разные"
   ]
  },
  {
   "cell_type": "markdown",
   "metadata": {},
   "source": [
    "Н0 - Средние пользовательские рейтинги жанров Action и Sports одинаковые\n",
    "\n",
    "Н1 - Средние пользовательские рейтинги жанров Action и Sports различаются"
   ]
  },
  {
   "cell_type": "code",
   "execution_count": 57,
   "metadata": {},
   "outputs": [
    {
     "data": {
      "text/plain": [
       "779"
      ]
     },
     "execution_count": 57,
     "metadata": {},
     "output_type": "execute_result"
    }
   ],
   "source": [
    "action = df_2010[df_2010['genre']=='Action']['user_score'].dropna()\n",
    "len(action)"
   ]
  },
  {
   "cell_type": "code",
   "execution_count": 58,
   "metadata": {},
   "outputs": [
    {
     "data": {
      "text/plain": [
       "315"
      ]
     },
     "execution_count": 58,
     "metadata": {},
     "output_type": "execute_result"
    }
   ],
   "source": [
    "sports = df_2010[df_2010['genre']=='Sports']['user_score'].dropna()\n",
    "len(sports)"
   ]
  },
  {
   "cell_type": "code",
   "execution_count": 59,
   "metadata": {
    "scrolled": false
   },
   "outputs": [
    {
     "data": {
      "text/plain": [
       "count    779.000000\n",
       "mean      67.818999\n",
       "std       13.602013\n",
       "min       16.000000\n",
       "25%       60.000000\n",
       "50%       71.000000\n",
       "75%       78.000000\n",
       "max       91.000000\n",
       "Name: user_score, dtype: float64"
      ]
     },
     "execution_count": 59,
     "metadata": {},
     "output_type": "execute_result"
    }
   ],
   "source": [
    "action.describe()"
   ]
  },
  {
   "cell_type": "code",
   "execution_count": 60,
   "metadata": {
    "scrolled": false
   },
   "outputs": [
    {
     "data": {
      "text/plain": [
       "count    315.000000\n",
       "mean      59.015873\n",
       "std       16.839342\n",
       "min        2.000000\n",
       "25%       50.000000\n",
       "50%       62.000000\n",
       "75%       72.000000\n",
       "max       90.000000\n",
       "Name: user_score, dtype: float64"
      ]
     },
     "execution_count": 60,
     "metadata": {},
     "output_type": "execute_result"
    }
   ],
   "source": [
    "sports.describe()"
   ]
  },
  {
   "cell_type": "markdown",
   "metadata": {},
   "source": [
    "Совокупности не зависимые,  поэтому применим t-тест, однако размер выборок разный, а значит укажем параметр equal_var=False (разность дисперсии), уровене статистической значимости будем считать 0.05"
   ]
  },
  {
   "cell_type": "code",
   "execution_count": 61,
   "metadata": {},
   "outputs": [
    {
     "name": "stdout",
     "output_type": "stream",
     "text": [
      "p-значение: 1.4516152467844724e-15\n",
      "Отвергаем нулевую гипотезу\n"
     ]
    }
   ],
   "source": [
    "alpha = 0.05\n",
    "\n",
    "results = st.ttest_ind(action, sports, equal_var=False)\n",
    "\n",
    "print('p-значение:', results.pvalue)\n",
    "\n",
    "\n",
    "if (results.pvalue < alpha):\n",
    "    print(\"Отвергаем нулевую гипотезу\")\n",
    "else:\n",
    "    print(\"Не получилось отвергнуть нулевую гипотезу\")"
   ]
  },
  {
   "cell_type": "markdown",
   "metadata": {},
   "source": [
    "Применив t-тест при критическом уровене статистической значимости в 0.05, приходим к выводу, что cредние пользовательские рейтинги жанров Action и Sports разные."
   ]
  },
  {
   "cell_type": "markdown",
   "metadata": {},
   "source": [
    "<a id='53'></a>\n",
    "### Вывод"
   ]
  },
  {
   "cell_type": "markdown",
   "metadata": {},
   "source": [
    "Проверив гипотезы приходим к выводу, что:\n",
    "- средние пользовательские рейтинги платформ Xbox One и PC одинаковые\n",
    "- cредние пользовательские рейтинги жанров Action и Sports разные"
   ]
  },
  {
   "cell_type": "markdown",
   "metadata": {},
   "source": [
    "<a id='6'></a>\n",
    "## Общий вывод"
   ]
  },
  {
   "cell_type": "markdown",
   "metadata": {},
   "source": [
    "На этапе предобработки мы заменили в user_score значения 'tbd' на NaN и нормализовали его по отношению к critic_Score, \n",
    "преобразовали данные в целочисленный тип в столбцах рейтинга и года релиза, перевели в колонке rating значения K-A в E, обработали пропуски, удалив при этом строки с пропуском в колонках name и year_of_release, что в сумме менее 2% данных, а также создали столбец total_sales с суммарными продажами во всех регионах.\n",
    "\n",
    "Проведя анализ данных, можно отметить, что:\n",
    "- кол-во выпущенных игр росло до 2008 года, после чего начался спад\n",
    "- лидерами продаж за весь наблюдаемый период являются платформы: PS2, X360, PS3, Wii, DS, PS\n",
    "- средний период жизни платформ-лидеров 10 лет, половина из которых она растет, а половина падает, что подтверждают показатели PS3 и X360, допусившие наибольшее падение продаж в последние годы, будучи лидерами еще 5 лет назад\n",
    "- платформы PS4 и XOne являясь лидерами продаж в 2016 году, имеют наибольший потенциал и в дальнейшем наращивать продажи.\n",
    "- наибольшее падение продаж в последние годы показывают PS3 и X360, их 10-летний цикл существования видимо подходит к концу\n",
    "- в качестве актуальных платформ для дальнейшего анализа мы определилили: PS4, XOne, 3DS, PC\n",
    "- обнаружили зависивость продаж на платформах от оценки критиков и отсутствие зависимости от оценки пользователей\n",
    "- высокие продажи имеют динамичные игры и наоборот низкие - долгие.\n",
    "\n",
    "Проверив гипотезы мы пришли к выводу, что средние пользовательские рейтинги платформ Xbox One и PC одинаковые, а cредние пользовательские рейтинги жанров Action и Sports разные.\n",
    "\n",
    "Проанализировав пользователей, мы пришли к выводу, что в стратегии дальнейших продаж необходимо ориентироваться на рейтинги критиков и иметь ввиду региональные предпочтения пользователей:\n",
    "- И в Америки и в Европпе в целом любят шутеры, спортивные и др. динамичные игры для всех возрастов, но немного отличаются предпочитаемые ими платформы, в Америке в лидерах и имеющий тренд к росту XOne, в Европе PS4.\n",
    "- В Японии же вкусы отличаются, любят жанры приключений и ролевых игр, и предпочитают PSP. Нужно иметь ввиду, что это платформа на рынке более 10 лет и имеет тенденцию к снижению. Дополнительно следует учитывать, что маркировка игр для взрослых в Японии снижает потенциал продаж. \n"
   ]
  }
 ],
 "metadata": {
  "ExecuteTimeLog": [
   {
    "duration": 848,
    "start_time": "2022-01-10T07:38:13.161Z"
   },
   {
    "duration": 45,
    "start_time": "2022-01-10T07:38:15.776Z"
   },
   {
    "duration": 133,
    "start_time": "2022-01-10T08:29:11.063Z"
   },
   {
    "duration": 22,
    "start_time": "2022-01-10T08:29:17.053Z"
   },
   {
    "duration": 107,
    "start_time": "2022-01-10T09:27:37.982Z"
   },
   {
    "duration": 26,
    "start_time": "2022-01-10T09:27:42.195Z"
   },
   {
    "duration": 418,
    "start_time": "2022-01-10T09:29:12.030Z"
   },
   {
    "duration": 25,
    "start_time": "2022-01-10T09:29:20.909Z"
   },
   {
    "duration": 1790,
    "start_time": "2022-01-10T09:31:44.349Z"
   },
   {
    "duration": 26,
    "start_time": "2022-01-10T09:31:46.141Z"
   },
   {
    "duration": 26,
    "start_time": "2022-01-10T09:31:46.173Z"
   },
   {
    "duration": 545,
    "start_time": "2022-01-10T09:32:01.265Z"
   },
   {
    "duration": 13,
    "start_time": "2022-01-10T09:32:05.296Z"
   },
   {
    "duration": 46,
    "start_time": "2022-01-10T09:32:15.032Z"
   },
   {
    "duration": 28,
    "start_time": "2022-01-10T09:43:34.169Z"
   },
   {
    "duration": 12,
    "start_time": "2022-01-10T09:44:14.954Z"
   },
   {
    "duration": 27,
    "start_time": "2022-01-10T09:45:54.709Z"
   },
   {
    "duration": 1736,
    "start_time": "2022-01-10T09:50:35.280Z"
   },
   {
    "duration": 35,
    "start_time": "2022-01-10T09:50:37.019Z"
   },
   {
    "duration": 23,
    "start_time": "2022-01-10T09:50:37.060Z"
   },
   {
    "duration": 24,
    "start_time": "2022-01-10T09:50:37.087Z"
   },
   {
    "duration": 56,
    "start_time": "2022-01-10T09:50:37.114Z"
   },
   {
    "duration": 25,
    "start_time": "2022-01-10T09:50:37.173Z"
   },
   {
    "duration": 90,
    "start_time": "2022-01-10T09:50:37.200Z"
   },
   {
    "duration": 1807,
    "start_time": "2022-01-10T10:12:14.299Z"
   },
   {
    "duration": 57,
    "start_time": "2022-01-10T10:12:16.110Z"
   },
   {
    "duration": 17,
    "start_time": "2022-01-10T10:12:16.172Z"
   },
   {
    "duration": 13,
    "start_time": "2022-01-10T10:12:16.191Z"
   },
   {
    "duration": 60,
    "start_time": "2022-01-10T10:12:16.207Z"
   },
   {
    "duration": 10,
    "start_time": "2022-01-10T10:12:16.269Z"
   },
   {
    "duration": 12,
    "start_time": "2022-01-10T10:12:16.282Z"
   },
   {
    "duration": 25,
    "start_time": "2022-01-10T10:12:16.297Z"
   },
   {
    "duration": 43,
    "start_time": "2022-01-10T10:12:16.360Z"
   },
   {
    "duration": 9887,
    "start_time": "2022-01-10T10:12:51.208Z"
   },
   {
    "duration": 9,
    "start_time": "2022-01-10T10:13:06.401Z"
   },
   {
    "duration": 48,
    "start_time": "2022-01-10T10:43:44.201Z"
   },
   {
    "duration": 52,
    "start_time": "2022-01-10T10:45:34.702Z"
   },
   {
    "duration": 1613,
    "start_time": "2022-01-10T10:58:43.766Z"
   },
   {
    "duration": 36,
    "start_time": "2022-01-10T10:58:45.382Z"
   },
   {
    "duration": 39,
    "start_time": "2022-01-10T10:58:45.421Z"
   },
   {
    "duration": 12,
    "start_time": "2022-01-10T10:58:45.464Z"
   },
   {
    "duration": 33,
    "start_time": "2022-01-10T10:58:45.479Z"
   },
   {
    "duration": 66,
    "start_time": "2022-01-10T10:58:45.514Z"
   },
   {
    "duration": 14,
    "start_time": "2022-01-10T10:58:45.583Z"
   },
   {
    "duration": 11,
    "start_time": "2022-01-10T10:58:45.601Z"
   },
   {
    "duration": 46,
    "start_time": "2022-01-10T10:58:45.615Z"
   },
   {
    "duration": 25,
    "start_time": "2022-01-10T10:58:45.664Z"
   },
   {
    "duration": 68,
    "start_time": "2022-01-10T10:58:45.691Z"
   },
   {
    "duration": 1676,
    "start_time": "2022-01-10T11:00:26.488Z"
   },
   {
    "duration": 40,
    "start_time": "2022-01-10T11:00:28.167Z"
   },
   {
    "duration": 15,
    "start_time": "2022-01-10T11:00:28.210Z"
   },
   {
    "duration": 11,
    "start_time": "2022-01-10T11:00:28.228Z"
   },
   {
    "duration": 31,
    "start_time": "2022-01-10T11:00:28.243Z"
   },
   {
    "duration": 32,
    "start_time": "2022-01-10T11:00:28.276Z"
   },
   {
    "duration": 9,
    "start_time": "2022-01-10T11:00:28.311Z"
   },
   {
    "duration": 10,
    "start_time": "2022-01-10T11:00:28.323Z"
   },
   {
    "duration": 25,
    "start_time": "2022-01-10T11:00:28.336Z"
   },
   {
    "duration": 25,
    "start_time": "2022-01-10T11:00:28.363Z"
   },
   {
    "duration": 45,
    "start_time": "2022-01-10T11:00:28.390Z"
   },
   {
    "duration": 4,
    "start_time": "2022-01-10T11:02:15.809Z"
   },
   {
    "duration": 20,
    "start_time": "2022-01-10T11:02:23.338Z"
   },
   {
    "duration": 9,
    "start_time": "2022-01-10T11:34:25.756Z"
   },
   {
    "duration": 9,
    "start_time": "2022-01-10T11:35:15.041Z"
   },
   {
    "duration": 30,
    "start_time": "2022-01-10T11:35:27.097Z"
   },
   {
    "duration": 16,
    "start_time": "2022-01-10T11:35:34.891Z"
   },
   {
    "duration": 3,
    "start_time": "2022-01-10T11:40:17.412Z"
   },
   {
    "duration": 1521,
    "start_time": "2022-01-10T12:09:03.865Z"
   },
   {
    "duration": 34,
    "start_time": "2022-01-10T12:09:05.388Z"
   },
   {
    "duration": 14,
    "start_time": "2022-01-10T12:09:05.425Z"
   },
   {
    "duration": 12,
    "start_time": "2022-01-10T12:09:05.460Z"
   },
   {
    "duration": 26,
    "start_time": "2022-01-10T12:09:05.474Z"
   },
   {
    "duration": 37,
    "start_time": "2022-01-10T12:09:05.502Z"
   },
   {
    "duration": 10,
    "start_time": "2022-01-10T12:09:05.560Z"
   },
   {
    "duration": 19,
    "start_time": "2022-01-10T12:09:05.574Z"
   },
   {
    "duration": 27,
    "start_time": "2022-01-10T12:09:05.596Z"
   },
   {
    "duration": 55,
    "start_time": "2022-01-10T12:09:05.625Z"
   },
   {
    "duration": 43,
    "start_time": "2022-01-10T12:09:05.682Z"
   },
   {
    "duration": 3,
    "start_time": "2022-01-10T12:09:05.727Z"
   },
   {
    "duration": 41,
    "start_time": "2022-01-10T12:09:05.733Z"
   },
   {
    "duration": 8,
    "start_time": "2022-01-10T12:09:05.777Z"
   },
   {
    "duration": 15,
    "start_time": "2022-01-10T12:09:05.787Z"
   },
   {
    "duration": 17,
    "start_time": "2022-01-10T12:09:20.806Z"
   },
   {
    "duration": 30,
    "start_time": "2022-01-10T12:09:25.639Z"
   },
   {
    "duration": 15,
    "start_time": "2022-01-10T12:15:36.292Z"
   },
   {
    "duration": 9039,
    "start_time": "2022-01-10T12:17:53.082Z"
   },
   {
    "duration": 20,
    "start_time": "2022-01-10T12:18:12.546Z"
   },
   {
    "duration": 18,
    "start_time": "2022-01-10T12:18:44.355Z"
   },
   {
    "duration": 120,
    "start_time": "2022-01-10T12:19:36.772Z"
   },
   {
    "duration": 1941,
    "start_time": "2022-01-10T12:19:53.347Z"
   },
   {
    "duration": 38,
    "start_time": "2022-01-10T12:19:55.291Z"
   },
   {
    "duration": 34,
    "start_time": "2022-01-10T12:19:55.332Z"
   },
   {
    "duration": 12,
    "start_time": "2022-01-10T12:19:55.369Z"
   },
   {
    "duration": 28,
    "start_time": "2022-01-10T12:19:55.384Z"
   },
   {
    "duration": 68,
    "start_time": "2022-01-10T12:19:55.415Z"
   },
   {
    "duration": 13,
    "start_time": "2022-01-10T12:19:55.486Z"
   },
   {
    "duration": 9,
    "start_time": "2022-01-10T12:19:55.503Z"
   },
   {
    "duration": 52,
    "start_time": "2022-01-10T12:19:55.516Z"
   },
   {
    "duration": 36,
    "start_time": "2022-01-10T12:19:55.571Z"
   },
   {
    "duration": 95,
    "start_time": "2022-01-10T12:19:55.610Z"
   },
   {
    "duration": 3,
    "start_time": "2022-01-10T12:19:55.708Z"
   },
   {
    "duration": 21,
    "start_time": "2022-01-10T12:19:55.714Z"
   },
   {
    "duration": 43,
    "start_time": "2022-01-10T12:19:55.737Z"
   },
   {
    "duration": 30,
    "start_time": "2022-01-10T12:19:55.783Z"
   },
   {
    "duration": 3,
    "start_time": "2022-01-10T12:19:55.816Z"
   },
   {
    "duration": 19,
    "start_time": "2022-01-10T12:21:57.260Z"
   },
   {
    "duration": 19,
    "start_time": "2022-01-10T12:22:16.597Z"
   },
   {
    "duration": 1549,
    "start_time": "2022-01-10T12:22:39.065Z"
   },
   {
    "duration": 35,
    "start_time": "2022-01-10T12:22:40.617Z"
   },
   {
    "duration": 15,
    "start_time": "2022-01-10T12:22:40.659Z"
   },
   {
    "duration": 11,
    "start_time": "2022-01-10T12:22:40.678Z"
   },
   {
    "duration": 20,
    "start_time": "2022-01-10T12:22:40.692Z"
   },
   {
    "duration": 68,
    "start_time": "2022-01-10T12:22:40.714Z"
   },
   {
    "duration": 10,
    "start_time": "2022-01-10T12:22:40.785Z"
   },
   {
    "duration": 9,
    "start_time": "2022-01-10T12:22:40.798Z"
   },
   {
    "duration": 48,
    "start_time": "2022-01-10T12:22:40.811Z"
   },
   {
    "duration": 37,
    "start_time": "2022-01-10T12:22:40.863Z"
   },
   {
    "duration": 73,
    "start_time": "2022-01-10T12:22:40.903Z"
   },
   {
    "duration": 3,
    "start_time": "2022-01-10T12:22:40.979Z"
   },
   {
    "duration": 20,
    "start_time": "2022-01-10T12:22:40.985Z"
   },
   {
    "duration": 13,
    "start_time": "2022-01-10T12:22:41.008Z"
   },
   {
    "duration": 46,
    "start_time": "2022-01-10T12:22:41.023Z"
   },
   {
    "duration": 3,
    "start_time": "2022-01-10T12:22:41.071Z"
   },
   {
    "duration": 1580,
    "start_time": "2022-01-10T12:27:11.836Z"
   },
   {
    "duration": 35,
    "start_time": "2022-01-10T12:27:13.419Z"
   },
   {
    "duration": 15,
    "start_time": "2022-01-10T12:27:13.464Z"
   },
   {
    "duration": 11,
    "start_time": "2022-01-10T12:27:13.482Z"
   },
   {
    "duration": 20,
    "start_time": "2022-01-10T12:27:13.495Z"
   },
   {
    "duration": 49,
    "start_time": "2022-01-10T12:27:13.517Z"
   },
   {
    "duration": 11,
    "start_time": "2022-01-10T12:27:13.569Z"
   },
   {
    "duration": 9,
    "start_time": "2022-01-10T12:27:13.584Z"
   },
   {
    "duration": 24,
    "start_time": "2022-01-10T12:27:13.596Z"
   },
   {
    "duration": 80,
    "start_time": "2022-01-10T12:27:13.622Z"
   },
   {
    "duration": 3,
    "start_time": "2022-01-10T12:27:13.704Z"
   },
   {
    "duration": 21,
    "start_time": "2022-01-10T12:27:13.709Z"
   },
   {
    "duration": 48,
    "start_time": "2022-01-10T12:27:13.733Z"
   },
   {
    "duration": 9185,
    "start_time": "2022-01-10T12:27:13.783Z"
   },
   {
    "duration": -71,
    "start_time": "2022-01-10T12:27:23.041Z"
   },
   {
    "duration": 34,
    "start_time": "2022-01-10T12:29:33.235Z"
   },
   {
    "duration": 33,
    "start_time": "2022-01-10T12:30:24.373Z"
   },
   {
    "duration": 10,
    "start_time": "2022-01-10T12:35:04.632Z"
   },
   {
    "duration": 9,
    "start_time": "2022-01-10T12:35:23.400Z"
   },
   {
    "duration": 8,
    "start_time": "2022-01-10T12:36:50.059Z"
   },
   {
    "duration": 9,
    "start_time": "2022-01-10T12:37:16.691Z"
   },
   {
    "duration": 25,
    "start_time": "2022-01-10T12:40:11.347Z"
   },
   {
    "duration": 25,
    "start_time": "2022-01-10T12:41:46.926Z"
   },
   {
    "duration": 36,
    "start_time": "2022-01-10T12:41:51.181Z"
   },
   {
    "duration": 2022,
    "start_time": "2022-01-10T12:42:41.350Z"
   },
   {
    "duration": 55,
    "start_time": "2022-01-10T12:42:43.375Z"
   },
   {
    "duration": 36,
    "start_time": "2022-01-10T12:42:43.434Z"
   },
   {
    "duration": 15,
    "start_time": "2022-01-10T12:42:43.474Z"
   },
   {
    "duration": 21,
    "start_time": "2022-01-10T12:42:43.491Z"
   },
   {
    "duration": 52,
    "start_time": "2022-01-10T12:42:43.515Z"
   },
   {
    "duration": 12,
    "start_time": "2022-01-10T12:42:43.570Z"
   },
   {
    "duration": 13,
    "start_time": "2022-01-10T12:42:43.586Z"
   },
   {
    "duration": 61,
    "start_time": "2022-01-10T12:42:43.605Z"
   },
   {
    "duration": 44,
    "start_time": "2022-01-10T12:42:43.668Z"
   },
   {
    "duration": 66,
    "start_time": "2022-01-10T12:42:43.714Z"
   },
   {
    "duration": 93,
    "start_time": "2022-01-10T12:42:43.782Z"
   },
   {
    "duration": 321,
    "start_time": "2022-01-10T12:42:43.878Z"
   },
   {
    "duration": 105,
    "start_time": "2022-01-10T12:42:44.202Z"
   },
   {
    "duration": 14,
    "start_time": "2022-01-10T12:42:44.309Z"
   },
   {
    "duration": 53,
    "start_time": "2022-01-10T12:42:44.325Z"
   },
   {
    "duration": 4,
    "start_time": "2022-01-10T12:42:44.381Z"
   },
   {
    "duration": 36,
    "start_time": "2022-01-10T12:48:20.955Z"
   },
   {
    "duration": 1917,
    "start_time": "2022-01-10T12:48:28.279Z"
   },
   {
    "duration": 40,
    "start_time": "2022-01-10T12:48:30.199Z"
   },
   {
    "duration": 29,
    "start_time": "2022-01-10T12:48:30.244Z"
   },
   {
    "duration": 14,
    "start_time": "2022-01-10T12:48:30.277Z"
   },
   {
    "duration": 24,
    "start_time": "2022-01-10T12:48:30.294Z"
   },
   {
    "duration": 48,
    "start_time": "2022-01-10T12:48:30.321Z"
   },
   {
    "duration": 13,
    "start_time": "2022-01-10T12:48:30.372Z"
   },
   {
    "duration": 14,
    "start_time": "2022-01-10T12:48:30.388Z"
   },
   {
    "duration": 56,
    "start_time": "2022-01-10T12:48:30.406Z"
   },
   {
    "duration": 54,
    "start_time": "2022-01-10T12:48:30.465Z"
   },
   {
    "duration": 6,
    "start_time": "2022-01-10T12:48:30.523Z"
   },
   {
    "duration": 61,
    "start_time": "2022-01-10T12:48:30.532Z"
   },
   {
    "duration": 26,
    "start_time": "2022-01-10T12:48:30.596Z"
   },
   {
    "duration": 49,
    "start_time": "2022-01-10T12:48:30.624Z"
   },
   {
    "duration": 10,
    "start_time": "2022-01-10T12:48:30.676Z"
   },
   {
    "duration": 40,
    "start_time": "2022-01-10T12:48:30.688Z"
   },
   {
    "duration": 3,
    "start_time": "2022-01-10T12:48:30.730Z"
   },
   {
    "duration": 46,
    "start_time": "2022-01-10T12:51:05.173Z"
   },
   {
    "duration": 1827,
    "start_time": "2022-01-10T12:51:24.894Z"
   },
   {
    "duration": 36,
    "start_time": "2022-01-10T12:51:26.723Z"
   },
   {
    "duration": 16,
    "start_time": "2022-01-10T12:51:26.763Z"
   },
   {
    "duration": 14,
    "start_time": "2022-01-10T12:51:26.782Z"
   },
   {
    "duration": 19,
    "start_time": "2022-01-10T12:51:26.799Z"
   },
   {
    "duration": 10,
    "start_time": "2022-01-10T12:51:26.859Z"
   },
   {
    "duration": 10,
    "start_time": "2022-01-10T12:51:26.872Z"
   },
   {
    "duration": 10,
    "start_time": "2022-01-10T12:51:26.885Z"
   },
   {
    "duration": 72,
    "start_time": "2022-01-10T12:51:26.898Z"
   },
   {
    "duration": 44,
    "start_time": "2022-01-10T12:51:26.973Z"
   },
   {
    "duration": 4,
    "start_time": "2022-01-10T12:51:27.019Z"
   },
   {
    "duration": 48,
    "start_time": "2022-01-10T12:51:27.025Z"
   },
   {
    "duration": 115,
    "start_time": "2022-01-10T12:51:27.076Z"
   },
   {
    "duration": -21,
    "start_time": "2022-01-10T12:51:27.215Z"
   },
   {
    "duration": -20,
    "start_time": "2022-01-10T12:51:27.216Z"
   },
   {
    "duration": -23,
    "start_time": "2022-01-10T12:51:27.220Z"
   },
   {
    "duration": -22,
    "start_time": "2022-01-10T12:51:27.221Z"
   },
   {
    "duration": 24,
    "start_time": "2022-01-10T12:51:43.025Z"
   },
   {
    "duration": 23,
    "start_time": "2022-01-10T12:51:50.319Z"
   },
   {
    "duration": 42,
    "start_time": "2022-01-10T12:51:51.041Z"
   },
   {
    "duration": 21,
    "start_time": "2022-01-10T12:52:17.338Z"
   },
   {
    "duration": 1525,
    "start_time": "2022-01-10T12:52:25.347Z"
   },
   {
    "duration": 37,
    "start_time": "2022-01-10T12:52:26.875Z"
   },
   {
    "duration": 16,
    "start_time": "2022-01-10T12:52:26.915Z"
   },
   {
    "duration": 19,
    "start_time": "2022-01-10T12:52:26.960Z"
   },
   {
    "duration": 29,
    "start_time": "2022-01-10T12:52:26.983Z"
   },
   {
    "duration": 44,
    "start_time": "2022-01-10T12:52:27.015Z"
   },
   {
    "duration": 11,
    "start_time": "2022-01-10T12:52:27.062Z"
   },
   {
    "duration": 12,
    "start_time": "2022-01-10T12:52:27.076Z"
   },
   {
    "duration": 68,
    "start_time": "2022-01-10T12:52:27.093Z"
   },
   {
    "duration": 70,
    "start_time": "2022-01-10T12:52:27.165Z"
   },
   {
    "duration": 22,
    "start_time": "2022-01-10T12:52:27.238Z"
   },
   {
    "duration": 26,
    "start_time": "2022-01-10T12:52:27.262Z"
   },
   {
    "duration": 29,
    "start_time": "2022-01-10T12:52:27.291Z"
   },
   {
    "duration": 63,
    "start_time": "2022-01-10T12:52:27.322Z"
   },
   {
    "duration": 8,
    "start_time": "2022-01-10T12:52:27.388Z"
   },
   {
    "duration": 62,
    "start_time": "2022-01-10T12:52:27.399Z"
   },
   {
    "duration": 20,
    "start_time": "2022-01-10T12:52:27.464Z"
   },
   {
    "duration": 27,
    "start_time": "2022-01-10T12:53:39.387Z"
   },
   {
    "duration": 2037,
    "start_time": "2022-01-10T12:53:45.371Z"
   },
   {
    "duration": 35,
    "start_time": "2022-01-10T12:53:47.411Z"
   },
   {
    "duration": 17,
    "start_time": "2022-01-10T12:53:47.449Z"
   },
   {
    "duration": 11,
    "start_time": "2022-01-10T12:53:47.469Z"
   },
   {
    "duration": 21,
    "start_time": "2022-01-10T12:53:47.482Z"
   },
   {
    "duration": 9,
    "start_time": "2022-01-10T12:53:47.506Z"
   },
   {
    "duration": 11,
    "start_time": "2022-01-10T12:53:47.560Z"
   },
   {
    "duration": 10,
    "start_time": "2022-01-10T12:53:47.575Z"
   },
   {
    "duration": 22,
    "start_time": "2022-01-10T12:53:47.587Z"
   },
   {
    "duration": 84,
    "start_time": "2022-01-10T12:53:47.611Z"
   },
   {
    "duration": 3,
    "start_time": "2022-01-10T12:53:47.697Z"
   },
   {
    "duration": 29,
    "start_time": "2022-01-10T12:53:47.703Z"
   },
   {
    "duration": 51,
    "start_time": "2022-01-10T12:53:47.736Z"
   },
   {
    "duration": 14,
    "start_time": "2022-01-10T12:53:47.789Z"
   },
   {
    "duration": 10,
    "start_time": "2022-01-10T12:53:47.805Z"
   },
   {
    "duration": 66,
    "start_time": "2022-01-10T12:53:47.818Z"
   },
   {
    "duration": 3,
    "start_time": "2022-01-10T12:53:47.887Z"
   },
   {
    "duration": 1535,
    "start_time": "2022-01-10T12:54:55.688Z"
   },
   {
    "duration": 42,
    "start_time": "2022-01-10T12:54:57.227Z"
   },
   {
    "duration": 14,
    "start_time": "2022-01-10T12:54:57.273Z"
   },
   {
    "duration": 11,
    "start_time": "2022-01-10T12:54:57.290Z"
   },
   {
    "duration": 19,
    "start_time": "2022-01-10T12:54:57.304Z"
   },
   {
    "duration": 42,
    "start_time": "2022-01-10T12:54:57.327Z"
   },
   {
    "duration": 11,
    "start_time": "2022-01-10T12:54:57.372Z"
   },
   {
    "duration": 9,
    "start_time": "2022-01-10T12:54:57.388Z"
   },
   {
    "duration": 67,
    "start_time": "2022-01-10T12:54:57.400Z"
   },
   {
    "duration": 44,
    "start_time": "2022-01-10T12:54:57.470Z"
   },
   {
    "duration": 4,
    "start_time": "2022-01-10T12:54:57.517Z"
   },
   {
    "duration": 53,
    "start_time": "2022-01-10T12:54:57.524Z"
   },
   {
    "duration": 8,
    "start_time": "2022-01-10T12:54:57.580Z"
   },
   {
    "duration": 32,
    "start_time": "2022-01-10T12:54:57.591Z"
   },
   {
    "duration": 51,
    "start_time": "2022-01-10T12:54:57.625Z"
   },
   {
    "duration": 32,
    "start_time": "2022-01-10T12:54:57.678Z"
   },
   {
    "duration": 3,
    "start_time": "2022-01-10T12:54:57.713Z"
   },
   {
    "duration": 1478,
    "start_time": "2022-01-10T12:59:59.398Z"
   },
   {
    "duration": 36,
    "start_time": "2022-01-10T13:00:00.880Z"
   },
   {
    "duration": 18,
    "start_time": "2022-01-10T13:00:00.919Z"
   },
   {
    "duration": 12,
    "start_time": "2022-01-10T13:00:00.960Z"
   },
   {
    "duration": 31,
    "start_time": "2022-01-10T13:00:00.975Z"
   },
   {
    "duration": 15,
    "start_time": "2022-01-10T13:00:01.009Z"
   },
   {
    "duration": 41,
    "start_time": "2022-01-10T13:00:01.027Z"
   },
   {
    "duration": 17,
    "start_time": "2022-01-10T13:00:01.072Z"
   },
   {
    "duration": 36,
    "start_time": "2022-01-10T13:00:01.093Z"
   },
   {
    "duration": 84,
    "start_time": "2022-01-10T13:00:01.132Z"
   },
   {
    "duration": 3,
    "start_time": "2022-01-10T13:00:01.220Z"
   },
   {
    "duration": 54,
    "start_time": "2022-01-10T13:00:01.226Z"
   },
   {
    "duration": 34,
    "start_time": "2022-01-10T13:00:01.283Z"
   },
   {
    "duration": 50,
    "start_time": "2022-01-10T13:00:01.320Z"
   },
   {
    "duration": 34,
    "start_time": "2022-01-10T13:00:01.372Z"
   },
   {
    "duration": 3,
    "start_time": "2022-01-10T13:00:01.408Z"
   },
   {
    "duration": 472,
    "start_time": "2022-01-10T13:01:30.410Z"
   },
   {
    "duration": 430,
    "start_time": "2022-01-10T13:01:42.797Z"
   },
   {
    "duration": 318,
    "start_time": "2022-01-10T13:02:49.318Z"
   },
   {
    "duration": 383,
    "start_time": "2022-01-10T13:03:37.664Z"
   },
   {
    "duration": 9,
    "start_time": "2022-01-10T13:04:22.858Z"
   },
   {
    "duration": 375,
    "start_time": "2022-01-10T13:05:06.772Z"
   },
   {
    "duration": 151,
    "start_time": "2022-01-10T13:05:23.773Z"
   },
   {
    "duration": 145,
    "start_time": "2022-01-10T13:05:29.668Z"
   },
   {
    "duration": 167,
    "start_time": "2022-01-10T13:06:54.854Z"
   },
   {
    "duration": 155,
    "start_time": "2022-01-10T13:07:08.390Z"
   },
   {
    "duration": 1671,
    "start_time": "2022-01-10T13:07:17.448Z"
   },
   {
    "duration": 53,
    "start_time": "2022-01-10T13:07:19.123Z"
   },
   {
    "duration": 15,
    "start_time": "2022-01-10T13:07:19.180Z"
   },
   {
    "duration": 14,
    "start_time": "2022-01-10T13:07:19.198Z"
   },
   {
    "duration": 59,
    "start_time": "2022-01-10T13:07:19.214Z"
   },
   {
    "duration": 9,
    "start_time": "2022-01-10T13:07:19.276Z"
   },
   {
    "duration": 10,
    "start_time": "2022-01-10T13:07:19.288Z"
   },
   {
    "duration": 10,
    "start_time": "2022-01-10T13:07:19.303Z"
   },
   {
    "duration": 72,
    "start_time": "2022-01-10T13:07:19.317Z"
   },
   {
    "duration": 70,
    "start_time": "2022-01-10T13:07:19.392Z"
   },
   {
    "duration": 7,
    "start_time": "2022-01-10T13:07:19.465Z"
   },
   {
    "duration": 29,
    "start_time": "2022-01-10T13:07:19.475Z"
   },
   {
    "duration": 63,
    "start_time": "2022-01-10T13:07:19.507Z"
   },
   {
    "duration": 24,
    "start_time": "2022-01-10T13:07:19.572Z"
   },
   {
    "duration": 195,
    "start_time": "2022-01-10T13:07:19.598Z"
   },
   {
    "duration": 42,
    "start_time": "2022-01-10T13:07:19.796Z"
   },
   {
    "duration": 3,
    "start_time": "2022-01-10T13:07:19.861Z"
   },
   {
    "duration": 26,
    "start_time": "2022-01-10T13:08:13.160Z"
   },
   {
    "duration": 34,
    "start_time": "2022-01-10T13:09:03.466Z"
   },
   {
    "duration": 13,
    "start_time": "2022-01-10T13:09:31.868Z"
   },
   {
    "duration": 17,
    "start_time": "2022-01-10T13:09:42.468Z"
   },
   {
    "duration": 16,
    "start_time": "2022-01-10T13:13:35.157Z"
   },
   {
    "duration": 36,
    "start_time": "2022-01-10T13:13:42.316Z"
   },
   {
    "duration": 6,
    "start_time": "2022-01-10T13:14:50.454Z"
   },
   {
    "duration": 8,
    "start_time": "2022-01-10T13:57:18.665Z"
   },
   {
    "duration": 17,
    "start_time": "2022-01-10T13:57:28.465Z"
   },
   {
    "duration": 23,
    "start_time": "2022-01-10T13:57:46.739Z"
   },
   {
    "duration": 21,
    "start_time": "2022-01-10T14:08:22.681Z"
   },
   {
    "duration": -83,
    "start_time": "2022-01-10T14:08:49.434Z"
   },
   {
    "duration": 9,
    "start_time": "2022-01-10T14:08:51.890Z"
   },
   {
    "duration": 19,
    "start_time": "2022-01-10T14:11:15.832Z"
   },
   {
    "duration": 21,
    "start_time": "2022-01-10T14:11:43.383Z"
   },
   {
    "duration": 14,
    "start_time": "2022-01-10T14:11:50.665Z"
   },
   {
    "duration": 1683,
    "start_time": "2022-01-10T14:12:19.926Z"
   },
   {
    "duration": 37,
    "start_time": "2022-01-10T14:12:21.612Z"
   },
   {
    "duration": 21,
    "start_time": "2022-01-10T14:12:21.653Z"
   },
   {
    "duration": 14,
    "start_time": "2022-01-10T14:12:21.678Z"
   },
   {
    "duration": 22,
    "start_time": "2022-01-10T14:12:21.695Z"
   },
   {
    "duration": 12,
    "start_time": "2022-01-10T14:12:21.761Z"
   },
   {
    "duration": 11,
    "start_time": "2022-01-10T14:12:21.775Z"
   },
   {
    "duration": 12,
    "start_time": "2022-01-10T14:12:21.789Z"
   },
   {
    "duration": 64,
    "start_time": "2022-01-10T14:12:21.807Z"
   },
   {
    "duration": 63,
    "start_time": "2022-01-10T14:12:21.874Z"
   },
   {
    "duration": 22,
    "start_time": "2022-01-10T14:12:21.940Z"
   },
   {
    "duration": 36,
    "start_time": "2022-01-10T14:12:21.965Z"
   },
   {
    "duration": 69,
    "start_time": "2022-01-10T14:12:22.004Z"
   },
   {
    "duration": 23,
    "start_time": "2022-01-10T14:12:22.076Z"
   },
   {
    "duration": 59,
    "start_time": "2022-01-10T14:12:22.101Z"
   },
   {
    "duration": 38,
    "start_time": "2022-01-10T14:12:22.163Z"
   },
   {
    "duration": 21,
    "start_time": "2022-01-10T14:12:22.203Z"
   },
   {
    "duration": 41,
    "start_time": "2022-01-10T14:12:22.227Z"
   },
   {
    "duration": 15,
    "start_time": "2022-01-10T14:18:01.563Z"
   },
   {
    "duration": 8,
    "start_time": "2022-01-10T14:20:19.750Z"
   },
   {
    "duration": 6,
    "start_time": "2022-01-10T14:21:14.138Z"
   },
   {
    "duration": 11,
    "start_time": "2022-01-10T14:21:29.418Z"
   },
   {
    "duration": 9,
    "start_time": "2022-01-10T14:21:43.042Z"
   },
   {
    "duration": 1598,
    "start_time": "2022-01-10T14:21:55.991Z"
   },
   {
    "duration": 41,
    "start_time": "2022-01-10T14:21:57.592Z"
   },
   {
    "duration": 30,
    "start_time": "2022-01-10T14:21:57.637Z"
   },
   {
    "duration": 14,
    "start_time": "2022-01-10T14:21:57.670Z"
   },
   {
    "duration": 18,
    "start_time": "2022-01-10T14:21:57.687Z"
   },
   {
    "duration": 12,
    "start_time": "2022-01-10T14:21:57.707Z"
   },
   {
    "duration": 17,
    "start_time": "2022-01-10T14:21:57.759Z"
   },
   {
    "duration": 13,
    "start_time": "2022-01-10T14:21:57.782Z"
   },
   {
    "duration": 27,
    "start_time": "2022-01-10T14:21:57.799Z"
   },
   {
    "duration": 67,
    "start_time": "2022-01-10T14:21:57.828Z"
   },
   {
    "duration": 3,
    "start_time": "2022-01-10T14:21:57.898Z"
   },
   {
    "duration": 26,
    "start_time": "2022-01-10T14:21:57.904Z"
   },
   {
    "duration": 50,
    "start_time": "2022-01-10T14:21:57.960Z"
   },
   {
    "duration": 48,
    "start_time": "2022-01-10T14:21:58.013Z"
   },
   {
    "duration": 34,
    "start_time": "2022-01-10T14:21:58.063Z"
   },
   {
    "duration": 32,
    "start_time": "2022-01-10T14:21:58.099Z"
   },
   {
    "duration": 20,
    "start_time": "2022-01-10T14:21:58.159Z"
   },
   {
    "duration": 9,
    "start_time": "2022-01-10T14:21:58.181Z"
   },
   {
    "duration": 17,
    "start_time": "2022-01-10T14:21:58.193Z"
   },
   {
    "duration": 9,
    "start_time": "2022-01-10T14:22:43.147Z"
   },
   {
    "duration": 1483,
    "start_time": "2022-01-10T14:22:59.596Z"
   },
   {
    "duration": 36,
    "start_time": "2022-01-10T14:23:01.082Z"
   },
   {
    "duration": 38,
    "start_time": "2022-01-10T14:23:01.122Z"
   },
   {
    "duration": 14,
    "start_time": "2022-01-10T14:23:01.164Z"
   },
   {
    "duration": 30,
    "start_time": "2022-01-10T14:23:01.181Z"
   },
   {
    "duration": 19,
    "start_time": "2022-01-10T14:23:01.213Z"
   },
   {
    "duration": 32,
    "start_time": "2022-01-10T14:23:01.234Z"
   },
   {
    "duration": 26,
    "start_time": "2022-01-10T14:23:01.270Z"
   },
   {
    "duration": 41,
    "start_time": "2022-01-10T14:23:01.299Z"
   },
   {
    "duration": 49,
    "start_time": "2022-01-10T14:23:01.343Z"
   },
   {
    "duration": 3,
    "start_time": "2022-01-10T14:23:01.394Z"
   },
   {
    "duration": 40,
    "start_time": "2022-01-10T14:23:01.400Z"
   },
   {
    "duration": 54,
    "start_time": "2022-01-10T14:23:01.444Z"
   },
   {
    "duration": 36,
    "start_time": "2022-01-10T14:23:01.501Z"
   },
   {
    "duration": 58,
    "start_time": "2022-01-10T14:23:01.540Z"
   },
   {
    "duration": 61,
    "start_time": "2022-01-10T14:23:01.601Z"
   },
   {
    "duration": 31,
    "start_time": "2022-01-10T14:23:01.666Z"
   },
   {
    "duration": 15,
    "start_time": "2022-01-10T14:23:01.700Z"
   },
   {
    "duration": 500,
    "start_time": "2022-01-10T14:23:01.718Z"
   },
   {
    "duration": 12,
    "start_time": "2022-01-10T14:23:23.705Z"
   },
   {
    "duration": 122,
    "start_time": "2022-01-10T14:24:13.239Z"
   },
   {
    "duration": 406,
    "start_time": "2022-01-10T14:24:32.208Z"
   },
   {
    "duration": 2203,
    "start_time": "2022-01-10T14:24:49.970Z"
   },
   {
    "duration": 36,
    "start_time": "2022-01-10T14:24:52.177Z"
   },
   {
    "duration": 39,
    "start_time": "2022-01-10T14:24:52.222Z"
   },
   {
    "duration": 14,
    "start_time": "2022-01-10T14:24:52.263Z"
   },
   {
    "duration": 33,
    "start_time": "2022-01-10T14:24:52.280Z"
   },
   {
    "duration": 44,
    "start_time": "2022-01-10T14:24:52.316Z"
   },
   {
    "duration": 10,
    "start_time": "2022-01-10T14:24:52.363Z"
   },
   {
    "duration": 12,
    "start_time": "2022-01-10T14:24:52.377Z"
   },
   {
    "duration": 27,
    "start_time": "2022-01-10T14:24:52.392Z"
   },
   {
    "duration": 102,
    "start_time": "2022-01-10T14:24:52.423Z"
   },
   {
    "duration": 8,
    "start_time": "2022-01-10T14:24:52.530Z"
   },
   {
    "duration": 37,
    "start_time": "2022-01-10T14:24:52.540Z"
   },
   {
    "duration": 32,
    "start_time": "2022-01-10T14:24:52.580Z"
   },
   {
    "duration": 54,
    "start_time": "2022-01-10T14:24:52.615Z"
   },
   {
    "duration": 35,
    "start_time": "2022-01-10T14:24:52.672Z"
   },
   {
    "duration": 52,
    "start_time": "2022-01-10T14:24:52.709Z"
   },
   {
    "duration": 21,
    "start_time": "2022-01-10T14:24:52.764Z"
   },
   {
    "duration": 11,
    "start_time": "2022-01-10T14:24:52.788Z"
   },
   {
    "duration": 57,
    "start_time": "2022-01-10T14:24:52.802Z"
   },
   {
    "duration": 12,
    "start_time": "2022-01-10T14:26:15.213Z"
   },
   {
    "duration": 1757,
    "start_time": "2022-01-10T14:26:22.819Z"
   },
   {
    "duration": 34,
    "start_time": "2022-01-10T14:26:24.579Z"
   },
   {
    "duration": 43,
    "start_time": "2022-01-10T14:26:24.620Z"
   },
   {
    "duration": 12,
    "start_time": "2022-01-10T14:26:24.665Z"
   },
   {
    "duration": 19,
    "start_time": "2022-01-10T14:26:24.679Z"
   },
   {
    "duration": 9,
    "start_time": "2022-01-10T14:26:24.700Z"
   },
   {
    "duration": 51,
    "start_time": "2022-01-10T14:26:24.713Z"
   },
   {
    "duration": 14,
    "start_time": "2022-01-10T14:26:24.768Z"
   },
   {
    "duration": 37,
    "start_time": "2022-01-10T14:26:24.785Z"
   },
   {
    "duration": 76,
    "start_time": "2022-01-10T14:26:24.825Z"
   },
   {
    "duration": 4,
    "start_time": "2022-01-10T14:26:24.904Z"
   },
   {
    "duration": 62,
    "start_time": "2022-01-10T14:26:24.911Z"
   },
   {
    "duration": 52,
    "start_time": "2022-01-10T14:26:24.976Z"
   },
   {
    "duration": 61,
    "start_time": "2022-01-10T14:26:25.031Z"
   },
   {
    "duration": 37,
    "start_time": "2022-01-10T14:26:25.095Z"
   },
   {
    "duration": 37,
    "start_time": "2022-01-10T14:26:25.160Z"
   },
   {
    "duration": 20,
    "start_time": "2022-01-10T14:26:25.200Z"
   },
   {
    "duration": 43,
    "start_time": "2022-01-10T14:26:25.222Z"
   },
   {
    "duration": 31,
    "start_time": "2022-01-10T14:26:25.268Z"
   },
   {
    "duration": 6,
    "start_time": "2022-01-10T14:29:23.539Z"
   },
   {
    "duration": 35,
    "start_time": "2022-01-10T14:29:29.434Z"
   },
   {
    "duration": 1603,
    "start_time": "2022-01-10T14:30:54.039Z"
   },
   {
    "duration": 34,
    "start_time": "2022-01-10T14:30:55.645Z"
   },
   {
    "duration": 15,
    "start_time": "2022-01-10T14:30:55.682Z"
   },
   {
    "duration": 12,
    "start_time": "2022-01-10T14:30:55.700Z"
   },
   {
    "duration": 57,
    "start_time": "2022-01-10T14:30:55.715Z"
   },
   {
    "duration": 16,
    "start_time": "2022-01-10T14:30:55.775Z"
   },
   {
    "duration": 10,
    "start_time": "2022-01-10T14:30:55.793Z"
   },
   {
    "duration": 9,
    "start_time": "2022-01-10T14:30:55.806Z"
   },
   {
    "duration": 64,
    "start_time": "2022-01-10T14:30:55.818Z"
   },
   {
    "duration": 42,
    "start_time": "2022-01-10T14:30:55.884Z"
   },
   {
    "duration": 31,
    "start_time": "2022-01-10T14:30:55.928Z"
   },
   {
    "duration": 26,
    "start_time": "2022-01-10T14:30:55.962Z"
   },
   {
    "duration": 33,
    "start_time": "2022-01-10T14:30:55.990Z"
   },
   {
    "duration": 23,
    "start_time": "2022-01-10T14:30:56.060Z"
   },
   {
    "duration": 83,
    "start_time": "2022-01-10T14:30:56.086Z"
   },
   {
    "duration": 53,
    "start_time": "2022-01-10T14:30:56.172Z"
   },
   {
    "duration": 45,
    "start_time": "2022-01-10T14:30:56.228Z"
   },
   {
    "duration": 10,
    "start_time": "2022-01-10T14:30:56.275Z"
   },
   {
    "duration": 20,
    "start_time": "2022-01-10T14:30:56.287Z"
   },
   {
    "duration": 79,
    "start_time": "2022-01-10T14:30:56.309Z"
   },
   {
    "duration": 1134,
    "start_time": "2022-01-11T07:56:24.920Z"
   },
   {
    "duration": 20,
    "start_time": "2022-01-11T07:56:26.056Z"
   },
   {
    "duration": 9,
    "start_time": "2022-01-11T07:56:26.077Z"
   },
   {
    "duration": 7,
    "start_time": "2022-01-11T07:56:26.088Z"
   },
   {
    "duration": 11,
    "start_time": "2022-01-11T07:56:26.096Z"
   },
   {
    "duration": 23,
    "start_time": "2022-01-11T07:56:26.108Z"
   },
   {
    "duration": 6,
    "start_time": "2022-01-11T07:56:26.133Z"
   },
   {
    "duration": 6,
    "start_time": "2022-01-11T07:56:26.141Z"
   },
   {
    "duration": 15,
    "start_time": "2022-01-11T07:56:26.149Z"
   },
   {
    "duration": 26,
    "start_time": "2022-01-11T07:56:26.165Z"
   },
   {
    "duration": 45,
    "start_time": "2022-01-11T07:56:26.193Z"
   },
   {
    "duration": 19,
    "start_time": "2022-01-11T07:56:26.240Z"
   },
   {
    "duration": 16,
    "start_time": "2022-01-11T07:56:26.260Z"
   },
   {
    "duration": 50,
    "start_time": "2022-01-11T07:56:26.278Z"
   },
   {
    "duration": 20,
    "start_time": "2022-01-11T07:56:26.330Z"
   },
   {
    "duration": 13,
    "start_time": "2022-01-11T07:56:26.352Z"
   },
   {
    "duration": 6,
    "start_time": "2022-01-11T07:56:26.367Z"
   },
   {
    "duration": 9,
    "start_time": "2022-01-11T07:56:26.375Z"
   },
   {
    "duration": 54,
    "start_time": "2022-01-11T07:56:26.386Z"
   },
   {
    "duration": 230,
    "start_time": "2022-01-11T07:56:26.442Z"
   },
   {
    "duration": 214,
    "start_time": "2022-01-11T07:57:51.808Z"
   },
   {
    "duration": 219,
    "start_time": "2022-01-11T07:58:19.050Z"
   },
   {
    "duration": 213,
    "start_time": "2022-01-11T07:58:31.644Z"
   },
   {
    "duration": 212,
    "start_time": "2022-01-11T07:58:40.194Z"
   },
   {
    "duration": 417,
    "start_time": "2022-01-11T08:01:21.497Z"
   },
   {
    "duration": 474,
    "start_time": "2022-01-11T08:02:42.028Z"
   },
   {
    "duration": 425,
    "start_time": "2022-01-11T08:02:47.372Z"
   },
   {
    "duration": 416,
    "start_time": "2022-01-11T08:07:04.716Z"
   },
   {
    "duration": 431,
    "start_time": "2022-01-11T08:08:13.816Z"
   },
   {
    "duration": 426,
    "start_time": "2022-01-11T08:10:00.788Z"
   },
   {
    "duration": 498,
    "start_time": "2022-01-11T08:10:26.501Z"
   },
   {
    "duration": 427,
    "start_time": "2022-01-11T08:10:37.029Z"
   },
   {
    "duration": 436,
    "start_time": "2022-01-11T08:10:53.860Z"
   },
   {
    "duration": 1025,
    "start_time": "2022-01-11T08:11:55.688Z"
   },
   {
    "duration": 600,
    "start_time": "2022-01-11T08:13:33.043Z"
   },
   {
    "duration": 420,
    "start_time": "2022-01-11T08:13:52.987Z"
   },
   {
    "duration": 430,
    "start_time": "2022-01-11T08:14:27.196Z"
   },
   {
    "duration": 510,
    "start_time": "2022-01-11T08:14:49.190Z"
   },
   {
    "duration": 428,
    "start_time": "2022-01-11T08:15:51.885Z"
   },
   {
    "duration": 14,
    "start_time": "2022-01-11T08:31:07.424Z"
   },
   {
    "duration": 498,
    "start_time": "2022-01-11T08:31:25.521Z"
   },
   {
    "duration": 258,
    "start_time": "2022-01-11T08:32:05.515Z"
   },
   {
    "duration": 320,
    "start_time": "2022-01-11T08:32:38.501Z"
   },
   {
    "duration": 317,
    "start_time": "2022-01-11T08:35:03.610Z"
   },
   {
    "duration": 330,
    "start_time": "2022-01-11T08:35:33.298Z"
   },
   {
    "duration": 90,
    "start_time": "2022-01-11T08:37:51.438Z"
   },
   {
    "duration": 492,
    "start_time": "2022-01-11T09:06:18.571Z"
   },
   {
    "duration": 94,
    "start_time": "2022-01-11T09:15:32.233Z"
   },
   {
    "duration": 2811,
    "start_time": "2022-01-11T09:15:44.401Z"
   },
   {
    "duration": 104,
    "start_time": "2022-01-11T09:15:59.056Z"
   },
   {
    "duration": 139,
    "start_time": "2022-01-11T09:16:12.834Z"
   },
   {
    "duration": 7,
    "start_time": "2022-01-11T09:16:25.018Z"
   },
   {
    "duration": 7,
    "start_time": "2022-01-11T09:16:32.081Z"
   },
   {
    "duration": 8,
    "start_time": "2022-01-11T09:16:51.091Z"
   },
   {
    "duration": 7,
    "start_time": "2022-01-11T09:17:49.509Z"
   },
   {
    "duration": 8,
    "start_time": "2022-01-11T09:17:59.013Z"
   },
   {
    "duration": 8,
    "start_time": "2022-01-11T09:18:06.229Z"
   },
   {
    "duration": 7,
    "start_time": "2022-01-11T09:19:00.670Z"
   },
   {
    "duration": 8,
    "start_time": "2022-01-11T09:19:15.432Z"
   },
   {
    "duration": 8,
    "start_time": "2022-01-11T09:19:29.456Z"
   },
   {
    "duration": 8,
    "start_time": "2022-01-11T09:19:36.072Z"
   },
   {
    "duration": 8,
    "start_time": "2022-01-11T09:20:11.433Z"
   },
   {
    "duration": 7,
    "start_time": "2022-01-11T09:20:27.090Z"
   },
   {
    "duration": 300,
    "start_time": "2022-01-11T09:43:55.677Z"
   },
   {
    "duration": 291,
    "start_time": "2022-01-11T09:44:11.261Z"
   },
   {
    "duration": 339,
    "start_time": "2022-01-11T09:44:48.960Z"
   },
   {
    "duration": 549,
    "start_time": "2022-01-11T09:46:19.826Z"
   },
   {
    "duration": 264,
    "start_time": "2022-01-11T09:46:50.091Z"
   },
   {
    "duration": 1186,
    "start_time": "2022-01-11T09:51:13.173Z"
   },
   {
    "duration": 97,
    "start_time": "2022-01-11T09:52:23.415Z"
   },
   {
    "duration": 1115,
    "start_time": "2022-01-11T09:52:34.599Z"
   },
   {
    "duration": 333,
    "start_time": "2022-01-11T09:53:59.146Z"
   },
   {
    "duration": 238,
    "start_time": "2022-01-11T09:55:58.119Z"
   },
   {
    "duration": 253,
    "start_time": "2022-01-11T09:56:33.872Z"
   },
   {
    "duration": 258,
    "start_time": "2022-01-11T09:56:40.745Z"
   },
   {
    "duration": 259,
    "start_time": "2022-01-11T09:56:54.840Z"
   },
   {
    "duration": 361,
    "start_time": "2022-01-11T09:57:02.905Z"
   },
   {
    "duration": 478,
    "start_time": "2022-01-11T09:57:12.697Z"
   },
   {
    "duration": 94,
    "start_time": "2022-01-11T09:58:58.718Z"
   },
   {
    "duration": 789,
    "start_time": "2022-01-11T09:59:11.142Z"
   },
   {
    "duration": 253,
    "start_time": "2022-01-11T09:59:22.398Z"
   },
   {
    "duration": 292,
    "start_time": "2022-01-11T09:59:42.487Z"
   },
   {
    "duration": 277,
    "start_time": "2022-01-11T09:59:47.327Z"
   },
   {
    "duration": 375,
    "start_time": "2022-01-11T09:59:50.576Z"
   },
   {
    "duration": 14,
    "start_time": "2022-01-11T10:02:00.731Z"
   },
   {
    "duration": 7189,
    "start_time": "2022-01-11T10:02:22.268Z"
   },
   {
    "duration": 321,
    "start_time": "2022-01-11T10:03:40.464Z"
   },
   {
    "duration": 108,
    "start_time": "2022-01-11T10:04:19.536Z"
   },
   {
    "duration": 297,
    "start_time": "2022-01-11T10:04:32.522Z"
   },
   {
    "duration": 22,
    "start_time": "2022-01-11T10:04:53.586Z"
   },
   {
    "duration": 7,
    "start_time": "2022-01-11T10:06:32.430Z"
   },
   {
    "duration": 289,
    "start_time": "2022-01-11T10:06:42.175Z"
   },
   {
    "duration": 7,
    "start_time": "2022-01-11T10:06:45.254Z"
   },
   {
    "duration": 7,
    "start_time": "2022-01-11T10:06:53.639Z"
   },
   {
    "duration": 317,
    "start_time": "2022-01-11T10:08:13.561Z"
   },
   {
    "duration": 7,
    "start_time": "2022-01-11T10:08:59.811Z"
   },
   {
    "duration": 295,
    "start_time": "2022-01-11T10:09:05.003Z"
   },
   {
    "duration": 349,
    "start_time": "2022-01-11T10:09:10.771Z"
   },
   {
    "duration": 9,
    "start_time": "2022-01-11T10:10:46.231Z"
   },
   {
    "duration": 7,
    "start_time": "2022-01-11T10:11:50.778Z"
   },
   {
    "duration": 10,
    "start_time": "2022-01-11T10:12:27.969Z"
   },
   {
    "duration": 244,
    "start_time": "2022-01-11T10:18:02.910Z"
   },
   {
    "duration": 55,
    "start_time": "2022-01-11T10:49:20.377Z"
   },
   {
    "duration": 298,
    "start_time": "2022-01-11T10:53:17.674Z"
   },
   {
    "duration": 305,
    "start_time": "2022-01-11T10:56:56.345Z"
   },
   {
    "duration": 45,
    "start_time": "2022-01-11T10:57:14.491Z"
   },
   {
    "duration": 3,
    "start_time": "2022-01-11T10:57:22.036Z"
   },
   {
    "duration": 53,
    "start_time": "2022-01-11T10:57:29.228Z"
   },
   {
    "duration": 66,
    "start_time": "2022-01-11T10:58:16.485Z"
   },
   {
    "duration": 102,
    "start_time": "2022-01-11T10:59:48.464Z"
   },
   {
    "duration": 42,
    "start_time": "2022-01-11T10:59:51.848Z"
   },
   {
    "duration": 42,
    "start_time": "2022-01-11T11:00:02.137Z"
   },
   {
    "duration": 46,
    "start_time": "2022-01-11T11:00:10.544Z"
   },
   {
    "duration": 68,
    "start_time": "2022-01-11T11:00:59.162Z"
   },
   {
    "duration": 105,
    "start_time": "2022-01-11T11:01:22.531Z"
   },
   {
    "duration": 69,
    "start_time": "2022-01-11T11:01:31.445Z"
   },
   {
    "duration": 71,
    "start_time": "2022-01-11T11:02:08.789Z"
   },
   {
    "duration": 64,
    "start_time": "2022-01-11T11:02:20.869Z"
   },
   {
    "duration": 62,
    "start_time": "2022-01-11T11:05:08.468Z"
   },
   {
    "duration": 294,
    "start_time": "2022-01-11T12:21:03.722Z"
   },
   {
    "duration": 8,
    "start_time": "2022-01-11T12:23:19.894Z"
   },
   {
    "duration": 7,
    "start_time": "2022-01-11T12:28:13.482Z"
   },
   {
    "duration": 229,
    "start_time": "2022-01-11T12:29:58.861Z"
   },
   {
    "duration": 365,
    "start_time": "2022-01-11T12:32:19.754Z"
   },
   {
    "duration": 445,
    "start_time": "2022-01-11T12:32:28.739Z"
   },
   {
    "duration": 365,
    "start_time": "2022-01-11T12:33:00.163Z"
   },
   {
    "duration": 361,
    "start_time": "2022-01-11T12:33:30.973Z"
   },
   {
    "duration": 69,
    "start_time": "2022-01-11T12:34:17.950Z"
   },
   {
    "duration": 371,
    "start_time": "2022-01-11T12:35:18.713Z"
   },
   {
    "duration": 64,
    "start_time": "2022-01-11T12:35:29.185Z"
   },
   {
    "duration": 304,
    "start_time": "2022-01-11T12:51:07.523Z"
   },
   {
    "duration": 290,
    "start_time": "2022-01-11T12:51:21.571Z"
   },
   {
    "duration": 224,
    "start_time": "2022-01-11T12:51:58.748Z"
   },
   {
    "duration": 3,
    "start_time": "2022-01-11T12:53:43.441Z"
   },
   {
    "duration": 3,
    "start_time": "2022-01-11T12:55:42.362Z"
   },
   {
    "duration": 7755,
    "start_time": "2022-01-11T12:57:02.743Z"
   },
   {
    "duration": 426,
    "start_time": "2022-01-11T12:57:55.018Z"
   },
   {
    "duration": 276,
    "start_time": "2022-01-11T12:58:10.739Z"
   },
   {
    "duration": 308,
    "start_time": "2022-01-11T12:59:54.446Z"
   },
   {
    "duration": 413,
    "start_time": "2022-01-11T13:00:36.807Z"
   },
   {
    "duration": 503,
    "start_time": "2022-01-11T13:01:21.417Z"
   },
   {
    "duration": 401,
    "start_time": "2022-01-11T13:02:57.532Z"
   },
   {
    "duration": 427,
    "start_time": "2022-01-11T13:03:09.830Z"
   },
   {
    "duration": 941,
    "start_time": "2022-01-11T13:04:21.017Z"
   },
   {
    "duration": 407,
    "start_time": "2022-01-11T13:09:42.320Z"
   },
   {
    "duration": 466,
    "start_time": "2022-01-11T13:13:15.180Z"
   },
   {
    "duration": 6,
    "start_time": "2022-01-11T13:14:17.061Z"
   },
   {
    "duration": 21,
    "start_time": "2022-01-11T13:14:27.532Z"
   },
   {
    "duration": 95,
    "start_time": "2022-01-11T13:15:45.592Z"
   },
   {
    "duration": 468,
    "start_time": "2022-01-11T13:15:50.367Z"
   },
   {
    "duration": 14,
    "start_time": "2022-01-11T13:16:25.849Z"
   },
   {
    "duration": 210,
    "start_time": "2022-01-11T13:18:06.389Z"
   },
   {
    "duration": 15,
    "start_time": "2022-01-11T13:18:43.359Z"
   },
   {
    "duration": 200,
    "start_time": "2022-01-11T13:18:45.622Z"
   },
   {
    "duration": 15,
    "start_time": "2022-01-11T13:18:55.872Z"
   },
   {
    "duration": 524,
    "start_time": "2022-01-11T13:18:58.102Z"
   },
   {
    "duration": 309,
    "start_time": "2022-01-11T13:19:05.656Z"
   },
   {
    "duration": 15,
    "start_time": "2022-01-11T13:19:11.191Z"
   },
   {
    "duration": 215,
    "start_time": "2022-01-11T13:19:20.856Z"
   },
   {
    "duration": 212,
    "start_time": "2022-01-11T13:23:10.351Z"
   },
   {
    "duration": 301,
    "start_time": "2022-01-11T13:23:37.409Z"
   },
   {
    "duration": 212,
    "start_time": "2022-01-11T13:23:49.889Z"
   },
   {
    "duration": 221,
    "start_time": "2022-01-11T13:23:57.089Z"
   },
   {
    "duration": 213,
    "start_time": "2022-01-11T13:26:44.447Z"
   },
   {
    "duration": 244,
    "start_time": "2022-01-11T13:27:06.048Z"
   },
   {
    "duration": 16,
    "start_time": "2022-01-11T13:28:50.739Z"
   },
   {
    "duration": 367,
    "start_time": "2022-01-11T13:28:55.020Z"
   },
   {
    "duration": 18,
    "start_time": "2022-01-11T13:30:01.343Z"
   },
   {
    "duration": 251,
    "start_time": "2022-01-11T13:30:04.519Z"
   },
   {
    "duration": 16,
    "start_time": "2022-01-11T13:30:25.863Z"
   },
   {
    "duration": 17,
    "start_time": "2022-01-11T13:30:31.287Z"
   },
   {
    "duration": 295,
    "start_time": "2022-01-11T13:31:49.154Z"
   },
   {
    "duration": 257,
    "start_time": "2022-01-11T13:31:54.724Z"
   },
   {
    "duration": 247,
    "start_time": "2022-01-11T13:32:53.348Z"
   },
   {
    "duration": 591,
    "start_time": "2022-01-11T13:33:32.214Z"
   },
   {
    "duration": 258,
    "start_time": "2022-01-11T13:34:19.624Z"
   },
   {
    "duration": 245,
    "start_time": "2022-01-11T13:35:31.810Z"
   },
   {
    "duration": 243,
    "start_time": "2022-01-11T13:36:34.276Z"
   },
   {
    "duration": 245,
    "start_time": "2022-01-11T13:36:44.284Z"
   },
   {
    "duration": 268,
    "start_time": "2022-01-11T13:38:32.985Z"
   },
   {
    "duration": 264,
    "start_time": "2022-01-11T13:39:34.123Z"
   },
   {
    "duration": 16,
    "start_time": "2022-01-11T13:43:26.122Z"
   },
   {
    "duration": 353,
    "start_time": "2022-01-11T13:43:30.401Z"
   },
   {
    "duration": 29,
    "start_time": "2022-01-11T14:03:09.254Z"
   },
   {
    "duration": 172,
    "start_time": "2022-01-11T14:06:48.734Z"
   },
   {
    "duration": 320,
    "start_time": "2022-01-11T14:07:03.942Z"
   },
   {
    "duration": 250,
    "start_time": "2022-01-11T14:07:17.816Z"
   },
   {
    "duration": 298,
    "start_time": "2022-01-11T14:07:25.784Z"
   },
   {
    "duration": 284,
    "start_time": "2022-01-11T14:16:23.179Z"
   },
   {
    "duration": 1128,
    "start_time": "2022-01-11T14:16:43.700Z"
   },
   {
    "duration": 20,
    "start_time": "2022-01-11T14:16:44.830Z"
   },
   {
    "duration": 10,
    "start_time": "2022-01-11T14:16:44.851Z"
   },
   {
    "duration": 18,
    "start_time": "2022-01-11T14:16:44.863Z"
   },
   {
    "duration": 13,
    "start_time": "2022-01-11T14:16:44.882Z"
   },
   {
    "duration": 9,
    "start_time": "2022-01-11T14:16:44.897Z"
   },
   {
    "duration": 6,
    "start_time": "2022-01-11T14:16:44.908Z"
   },
   {
    "duration": 6,
    "start_time": "2022-01-11T14:16:44.927Z"
   },
   {
    "duration": 15,
    "start_time": "2022-01-11T14:16:44.935Z"
   },
   {
    "duration": 25,
    "start_time": "2022-01-11T14:16:44.951Z"
   },
   {
    "duration": 14,
    "start_time": "2022-01-11T14:16:44.978Z"
   },
   {
    "duration": 44,
    "start_time": "2022-01-11T14:16:44.993Z"
   },
   {
    "duration": 14,
    "start_time": "2022-01-11T14:16:45.038Z"
   },
   {
    "duration": 20,
    "start_time": "2022-01-11T14:16:45.053Z"
   },
   {
    "duration": 18,
    "start_time": "2022-01-11T14:16:45.075Z"
   },
   {
    "duration": 36,
    "start_time": "2022-01-11T14:16:45.094Z"
   },
   {
    "duration": 6,
    "start_time": "2022-01-11T14:16:45.132Z"
   },
   {
    "duration": 12,
    "start_time": "2022-01-11T14:16:45.139Z"
   },
   {
    "duration": 19,
    "start_time": "2022-01-11T14:16:45.152Z"
   },
   {
    "duration": 478,
    "start_time": "2022-01-11T14:16:45.172Z"
   },
   {
    "duration": 333,
    "start_time": "2022-01-11T14:16:45.651Z"
   },
   {
    "duration": 308,
    "start_time": "2022-01-11T14:16:45.985Z"
   },
   {
    "duration": 9,
    "start_time": "2022-01-11T14:16:46.296Z"
   },
   {
    "duration": 266,
    "start_time": "2022-01-11T14:16:46.308Z"
   },
   {
    "duration": 424,
    "start_time": "2022-01-11T14:16:46.576Z"
   },
   {
    "duration": 77,
    "start_time": "2022-01-11T14:16:47.001Z"
   },
   {
    "duration": 14,
    "start_time": "2022-01-11T14:16:47.079Z"
   },
   {
    "duration": 39,
    "start_time": "2022-01-11T14:16:47.095Z"
   },
   {
    "duration": 316,
    "start_time": "2022-01-11T14:16:47.135Z"
   },
   {
    "duration": 365,
    "start_time": "2022-01-11T14:16:47.453Z"
   },
   {
    "duration": 286,
    "start_time": "2022-01-11T14:17:09.810Z"
   },
   {
    "duration": 10,
    "start_time": "2022-01-11T14:17:20.234Z"
   },
   {
    "duration": 11,
    "start_time": "2022-01-11T14:20:54.579Z"
   },
   {
    "duration": 11,
    "start_time": "2022-01-11T14:21:12.668Z"
   },
   {
    "duration": 9,
    "start_time": "2022-01-11T14:21:15.403Z"
   },
   {
    "duration": 296,
    "start_time": "2022-01-11T14:26:23.503Z"
   },
   {
    "duration": 255,
    "start_time": "2022-01-11T14:26:36.183Z"
   },
   {
    "duration": 318,
    "start_time": "2022-01-11T14:26:57.592Z"
   },
   {
    "duration": 332,
    "start_time": "2022-01-11T14:27:36.344Z"
   },
   {
    "duration": 367,
    "start_time": "2022-01-11T14:29:12.318Z"
   },
   {
    "duration": 328,
    "start_time": "2022-01-11T14:29:23.757Z"
   },
   {
    "duration": 332,
    "start_time": "2022-01-11T14:29:29.789Z"
   },
   {
    "duration": 338,
    "start_time": "2022-01-11T14:35:13.362Z"
   },
   {
    "duration": 324,
    "start_time": "2022-01-11T14:35:46.139Z"
   },
   {
    "duration": 356,
    "start_time": "2022-01-11T14:37:47.023Z"
   },
   {
    "duration": 474,
    "start_time": "2022-01-11T14:37:52.118Z"
   },
   {
    "duration": 370,
    "start_time": "2022-01-11T14:38:23.087Z"
   },
   {
    "duration": 13,
    "start_time": "2022-01-11T14:48:08.893Z"
   },
   {
    "duration": 13,
    "start_time": "2022-01-11T14:48:33.206Z"
   },
   {
    "duration": 251,
    "start_time": "2022-01-11T14:49:58.698Z"
   },
   {
    "duration": 251,
    "start_time": "2022-01-11T14:50:37.987Z"
   },
   {
    "duration": 1214,
    "start_time": "2022-01-12T07:30:21.738Z"
   },
   {
    "duration": 23,
    "start_time": "2022-01-12T07:30:22.954Z"
   },
   {
    "duration": 10,
    "start_time": "2022-01-12T07:30:22.979Z"
   },
   {
    "duration": 15,
    "start_time": "2022-01-12T07:30:22.991Z"
   },
   {
    "duration": 14,
    "start_time": "2022-01-12T07:30:23.008Z"
   },
   {
    "duration": 9,
    "start_time": "2022-01-12T07:30:23.023Z"
   },
   {
    "duration": 33,
    "start_time": "2022-01-12T07:30:23.034Z"
   },
   {
    "duration": 11,
    "start_time": "2022-01-12T07:30:23.070Z"
   },
   {
    "duration": 22,
    "start_time": "2022-01-12T07:30:23.083Z"
   },
   {
    "duration": 28,
    "start_time": "2022-01-12T07:30:23.107Z"
   },
   {
    "duration": 46,
    "start_time": "2022-01-12T07:30:23.136Z"
   },
   {
    "duration": 21,
    "start_time": "2022-01-12T07:30:23.185Z"
   },
   {
    "duration": 15,
    "start_time": "2022-01-12T07:30:23.208Z"
   },
   {
    "duration": 59,
    "start_time": "2022-01-12T07:30:23.224Z"
   },
   {
    "duration": 23,
    "start_time": "2022-01-12T07:30:23.285Z"
   },
   {
    "duration": 13,
    "start_time": "2022-01-12T07:30:23.310Z"
   },
   {
    "duration": 7,
    "start_time": "2022-01-12T07:30:23.324Z"
   },
   {
    "duration": 45,
    "start_time": "2022-01-12T07:30:23.332Z"
   },
   {
    "duration": 25,
    "start_time": "2022-01-12T07:30:23.379Z"
   },
   {
    "duration": 538,
    "start_time": "2022-01-12T07:30:23.405Z"
   },
   {
    "duration": 391,
    "start_time": "2022-01-12T07:30:23.945Z"
   },
   {
    "duration": 348,
    "start_time": "2022-01-12T07:30:24.338Z"
   },
   {
    "duration": 8,
    "start_time": "2022-01-12T07:30:24.690Z"
   },
   {
    "duration": 269,
    "start_time": "2022-01-12T07:30:24.700Z"
   },
   {
    "duration": 481,
    "start_time": "2022-01-12T07:30:24.971Z"
   },
   {
    "duration": 74,
    "start_time": "2022-01-12T07:30:25.454Z"
   },
   {
    "duration": 38,
    "start_time": "2022-01-12T07:30:25.530Z"
   },
   {
    "duration": 33,
    "start_time": "2022-01-12T07:30:25.570Z"
   },
   {
    "duration": 345,
    "start_time": "2022-01-12T07:30:25.605Z"
   },
   {
    "duration": 422,
    "start_time": "2022-01-12T07:30:25.952Z"
   },
   {
    "duration": -29,
    "start_time": "2022-01-12T07:30:26.405Z"
   },
   {
    "duration": -32,
    "start_time": "2022-01-12T07:30:26.409Z"
   },
   {
    "duration": -32,
    "start_time": "2022-01-12T07:30:26.411Z"
   },
   {
    "duration": -32,
    "start_time": "2022-01-12T07:30:26.412Z"
   },
   {
    "duration": -33,
    "start_time": "2022-01-12T07:30:26.414Z"
   },
   {
    "duration": -34,
    "start_time": "2022-01-12T07:30:26.416Z"
   },
   {
    "duration": 338,
    "start_time": "2022-01-12T07:36:15.093Z"
   },
   {
    "duration": 352,
    "start_time": "2022-01-12T07:36:18.916Z"
   },
   {
    "duration": 10,
    "start_time": "2022-01-12T07:36:22.525Z"
   },
   {
    "duration": 350,
    "start_time": "2022-01-12T07:36:53.398Z"
   },
   {
    "duration": 379,
    "start_time": "2022-01-12T07:36:56.029Z"
   },
   {
    "duration": 11,
    "start_time": "2022-01-12T07:36:58.478Z"
   },
   {
    "duration": 288,
    "start_time": "2022-01-12T07:37:01.151Z"
   },
   {
    "duration": 214,
    "start_time": "2022-01-12T07:37:44.072Z"
   },
   {
    "duration": 67,
    "start_time": "2022-01-12T07:37:53.911Z"
   },
   {
    "duration": 818,
    "start_time": "2022-01-12T07:38:00.872Z"
   },
   {
    "duration": 813,
    "start_time": "2022-01-12T07:41:00.834Z"
   },
   {
    "duration": 1105,
    "start_time": "2022-01-12T07:41:54.297Z"
   },
   {
    "duration": 217,
    "start_time": "2022-01-12T07:43:17.148Z"
   },
   {
    "duration": 102,
    "start_time": "2022-01-12T07:43:22.628Z"
   },
   {
    "duration": 276,
    "start_time": "2022-01-12T07:43:31.292Z"
   },
   {
    "duration": 78,
    "start_time": "2022-01-12T07:43:44.565Z"
   },
   {
    "duration": 214,
    "start_time": "2022-01-12T07:43:50.267Z"
   },
   {
    "duration": 1132,
    "start_time": "2022-01-12T07:44:18.926Z"
   },
   {
    "duration": 20,
    "start_time": "2022-01-12T07:44:20.060Z"
   },
   {
    "duration": 11,
    "start_time": "2022-01-12T07:44:20.083Z"
   },
   {
    "duration": 9,
    "start_time": "2022-01-12T07:44:20.096Z"
   },
   {
    "duration": 13,
    "start_time": "2022-01-12T07:44:20.107Z"
   },
   {
    "duration": 40,
    "start_time": "2022-01-12T07:44:20.121Z"
   },
   {
    "duration": 7,
    "start_time": "2022-01-12T07:44:20.163Z"
   },
   {
    "duration": 7,
    "start_time": "2022-01-12T07:44:20.174Z"
   },
   {
    "duration": 17,
    "start_time": "2022-01-12T07:44:20.183Z"
   },
   {
    "duration": 60,
    "start_time": "2022-01-12T07:44:20.202Z"
   },
   {
    "duration": 17,
    "start_time": "2022-01-12T07:44:20.264Z"
   },
   {
    "duration": 20,
    "start_time": "2022-01-12T07:44:20.283Z"
   },
   {
    "duration": 16,
    "start_time": "2022-01-12T07:44:20.305Z"
   },
   {
    "duration": 56,
    "start_time": "2022-01-12T07:44:20.323Z"
   },
   {
    "duration": 20,
    "start_time": "2022-01-12T07:44:20.381Z"
   },
   {
    "duration": 13,
    "start_time": "2022-01-12T07:44:20.403Z"
   },
   {
    "duration": 8,
    "start_time": "2022-01-12T07:44:20.418Z"
   },
   {
    "duration": 43,
    "start_time": "2022-01-12T07:44:20.427Z"
   },
   {
    "duration": 25,
    "start_time": "2022-01-12T07:44:20.472Z"
   },
   {
    "duration": 525,
    "start_time": "2022-01-12T07:44:20.499Z"
   },
   {
    "duration": 369,
    "start_time": "2022-01-12T07:44:21.027Z"
   },
   {
    "duration": 372,
    "start_time": "2022-01-12T07:44:21.398Z"
   },
   {
    "duration": 9,
    "start_time": "2022-01-12T07:44:21.773Z"
   },
   {
    "duration": 276,
    "start_time": "2022-01-12T07:44:21.784Z"
   },
   {
    "duration": 473,
    "start_time": "2022-01-12T07:44:22.062Z"
   },
   {
    "duration": 79,
    "start_time": "2022-01-12T07:44:22.536Z"
   },
   {
    "duration": 16,
    "start_time": "2022-01-12T07:44:22.617Z"
   },
   {
    "duration": 44,
    "start_time": "2022-01-12T07:44:22.635Z"
   },
   {
    "duration": 323,
    "start_time": "2022-01-12T07:44:22.681Z"
   },
   {
    "duration": 349,
    "start_time": "2022-01-12T07:44:23.005Z"
   },
   {
    "duration": 375,
    "start_time": "2022-01-12T07:44:23.356Z"
   },
   {
    "duration": 9,
    "start_time": "2022-01-12T07:44:23.733Z"
   },
   {
    "duration": 391,
    "start_time": "2022-01-12T07:44:23.744Z"
   },
   {
    "duration": 400,
    "start_time": "2022-01-12T07:44:24.137Z"
   },
   {
    "duration": 11,
    "start_time": "2022-01-12T07:44:24.539Z"
   },
   {
    "duration": 367,
    "start_time": "2022-01-12T07:44:24.551Z"
   },
   {
    "duration": 715,
    "start_time": "2022-01-12T07:44:52.537Z"
   },
   {
    "duration": 1263,
    "start_time": "2022-01-12T08:18:08.997Z"
   },
   {
    "duration": 21,
    "start_time": "2022-01-12T08:18:10.261Z"
   },
   {
    "duration": 21,
    "start_time": "2022-01-12T08:18:10.284Z"
   },
   {
    "duration": 16,
    "start_time": "2022-01-12T08:18:10.307Z"
   },
   {
    "duration": 33,
    "start_time": "2022-01-12T08:18:10.325Z"
   },
   {
    "duration": 23,
    "start_time": "2022-01-12T08:18:10.360Z"
   },
   {
    "duration": 21,
    "start_time": "2022-01-12T08:18:10.385Z"
   },
   {
    "duration": 21,
    "start_time": "2022-01-12T08:18:10.409Z"
   },
   {
    "duration": 33,
    "start_time": "2022-01-12T08:18:10.432Z"
   },
   {
    "duration": 31,
    "start_time": "2022-01-12T08:18:10.467Z"
   },
   {
    "duration": 16,
    "start_time": "2022-01-12T08:18:10.499Z"
   },
   {
    "duration": 18,
    "start_time": "2022-01-12T08:18:10.517Z"
   },
   {
    "duration": 35,
    "start_time": "2022-01-12T08:18:10.537Z"
   },
   {
    "duration": 22,
    "start_time": "2022-01-12T08:18:10.574Z"
   },
   {
    "duration": 19,
    "start_time": "2022-01-12T08:18:10.598Z"
   },
   {
    "duration": 21,
    "start_time": "2022-01-12T08:18:10.618Z"
   },
   {
    "duration": 7,
    "start_time": "2022-01-12T08:18:10.661Z"
   },
   {
    "duration": 17,
    "start_time": "2022-01-12T08:18:10.670Z"
   },
   {
    "duration": 38,
    "start_time": "2022-01-12T08:18:10.689Z"
   },
   {
    "duration": 533,
    "start_time": "2022-01-12T08:18:10.729Z"
   },
   {
    "duration": 366,
    "start_time": "2022-01-12T08:18:11.264Z"
   },
   {
    "duration": 346,
    "start_time": "2022-01-12T08:18:11.632Z"
   },
   {
    "duration": 8,
    "start_time": "2022-01-12T08:18:11.982Z"
   },
   {
    "duration": 254,
    "start_time": "2022-01-12T08:18:11.992Z"
   },
   {
    "duration": 466,
    "start_time": "2022-01-12T08:18:12.248Z"
   },
   {
    "duration": 81,
    "start_time": "2022-01-12T08:18:12.715Z"
   },
   {
    "duration": 17,
    "start_time": "2022-01-12T08:18:12.797Z"
   },
   {
    "duration": 29,
    "start_time": "2022-01-12T08:18:12.815Z"
   },
   {
    "duration": 332,
    "start_time": "2022-01-12T08:18:12.846Z"
   },
   {
    "duration": 345,
    "start_time": "2022-01-12T08:18:13.180Z"
   },
   {
    "duration": 367,
    "start_time": "2022-01-12T08:18:13.527Z"
   },
   {
    "duration": 9,
    "start_time": "2022-01-12T08:18:13.896Z"
   },
   {
    "duration": 339,
    "start_time": "2022-01-12T08:18:13.907Z"
   },
   {
    "duration": 367,
    "start_time": "2022-01-12T08:18:14.248Z"
   },
   {
    "duration": 10,
    "start_time": "2022-01-12T08:18:14.617Z"
   },
   {
    "duration": 274,
    "start_time": "2022-01-12T08:18:14.629Z"
   },
   {
    "duration": 357,
    "start_time": "2022-01-12T09:23:28.879Z"
   },
   {
    "duration": 14,
    "start_time": "2022-01-12T09:23:44.680Z"
   },
   {
    "duration": 17,
    "start_time": "2022-01-12T09:23:50.032Z"
   },
   {
    "duration": 35,
    "start_time": "2022-01-12T09:23:56.776Z"
   },
   {
    "duration": 23,
    "start_time": "2022-01-12T09:24:16.737Z"
   },
   {
    "duration": 593,
    "start_time": "2022-01-12T09:32:00.585Z"
   },
   {
    "duration": 979,
    "start_time": "2022-01-12T09:32:16.922Z"
   },
   {
    "duration": 586,
    "start_time": "2022-01-12T09:32:49.355Z"
   },
   {
    "duration": 16,
    "start_time": "2022-01-12T09:33:18.781Z"
   },
   {
    "duration": 14,
    "start_time": "2022-01-12T09:33:42.509Z"
   },
   {
    "duration": 16,
    "start_time": "2022-01-12T09:33:51.301Z"
   },
   {
    "duration": 17,
    "start_time": "2022-01-12T09:34:06.063Z"
   },
   {
    "duration": 17,
    "start_time": "2022-01-12T09:34:11.583Z"
   },
   {
    "duration": 219,
    "start_time": "2022-01-12T09:35:34.345Z"
   },
   {
    "duration": 19,
    "start_time": "2022-01-12T09:35:43.050Z"
   },
   {
    "duration": 17,
    "start_time": "2022-01-12T09:36:25.716Z"
   },
   {
    "duration": 324,
    "start_time": "2022-01-12T09:37:56.615Z"
   },
   {
    "duration": 335,
    "start_time": "2022-01-12T09:38:38.872Z"
   },
   {
    "duration": 262,
    "start_time": "2022-01-12T09:39:20.385Z"
   },
   {
    "duration": 254,
    "start_time": "2022-01-12T09:43:32.122Z"
   },
   {
    "duration": 351,
    "start_time": "2022-01-12T09:45:55.584Z"
   },
   {
    "duration": 20,
    "start_time": "2022-01-12T09:49:01.047Z"
   },
   {
    "duration": 528,
    "start_time": "2022-01-12T09:54:10.196Z"
   },
   {
    "duration": 6199,
    "start_time": "2022-01-12T09:55:00.517Z"
   },
   {
    "duration": 22,
    "start_time": "2022-01-12T09:55:33.926Z"
   },
   {
    "duration": 22,
    "start_time": "2022-01-12T09:56:48.648Z"
   },
   {
    "duration": 23,
    "start_time": "2022-01-12T09:56:57.144Z"
   },
   {
    "duration": 28,
    "start_time": "2022-01-12T09:58:49.988Z"
   },
   {
    "duration": 275,
    "start_time": "2022-01-12T10:00:19.432Z"
   },
   {
    "duration": 224,
    "start_time": "2022-01-12T10:01:28.129Z"
   },
   {
    "duration": 276,
    "start_time": "2022-01-12T10:01:36.851Z"
   },
   {
    "duration": 263,
    "start_time": "2022-01-12T10:02:18.339Z"
   },
   {
    "duration": 377,
    "start_time": "2022-01-12T10:02:26.674Z"
   },
   {
    "duration": 1248,
    "start_time": "2022-01-12T10:08:15.022Z"
   },
   {
    "duration": 25,
    "start_time": "2022-01-12T10:08:16.272Z"
   },
   {
    "duration": 12,
    "start_time": "2022-01-12T10:08:16.299Z"
   },
   {
    "duration": 9,
    "start_time": "2022-01-12T10:08:16.313Z"
   },
   {
    "duration": 38,
    "start_time": "2022-01-12T10:08:16.324Z"
   },
   {
    "duration": 13,
    "start_time": "2022-01-12T10:08:16.364Z"
   },
   {
    "duration": 14,
    "start_time": "2022-01-12T10:08:16.379Z"
   },
   {
    "duration": 10,
    "start_time": "2022-01-12T10:08:16.395Z"
   },
   {
    "duration": 21,
    "start_time": "2022-01-12T10:08:16.407Z"
   },
   {
    "duration": 41,
    "start_time": "2022-01-12T10:08:16.430Z"
   },
   {
    "duration": 15,
    "start_time": "2022-01-12T10:08:16.473Z"
   },
   {
    "duration": 19,
    "start_time": "2022-01-12T10:08:16.490Z"
   },
   {
    "duration": 15,
    "start_time": "2022-01-12T10:08:16.511Z"
   },
   {
    "duration": 46,
    "start_time": "2022-01-12T10:08:16.528Z"
   },
   {
    "duration": 21,
    "start_time": "2022-01-12T10:08:16.576Z"
   },
   {
    "duration": 13,
    "start_time": "2022-01-12T10:08:16.599Z"
   },
   {
    "duration": 22,
    "start_time": "2022-01-12T10:08:16.614Z"
   },
   {
    "duration": 37,
    "start_time": "2022-01-12T10:08:16.638Z"
   },
   {
    "duration": 24,
    "start_time": "2022-01-12T10:08:16.677Z"
   },
   {
    "duration": 563,
    "start_time": "2022-01-12T10:08:16.703Z"
   },
   {
    "duration": 418,
    "start_time": "2022-01-12T10:08:17.269Z"
   },
   {
    "duration": 365,
    "start_time": "2022-01-12T10:08:17.692Z"
   },
   {
    "duration": 8,
    "start_time": "2022-01-12T10:08:18.061Z"
   },
   {
    "duration": 269,
    "start_time": "2022-01-12T10:08:18.071Z"
   },
   {
    "duration": 486,
    "start_time": "2022-01-12T10:08:18.342Z"
   },
   {
    "duration": 78,
    "start_time": "2022-01-12T10:08:18.830Z"
   },
   {
    "duration": 16,
    "start_time": "2022-01-12T10:08:18.910Z"
   },
   {
    "duration": 46,
    "start_time": "2022-01-12T10:08:18.928Z"
   },
   {
    "duration": 343,
    "start_time": "2022-01-12T10:08:18.976Z"
   },
   {
    "duration": 360,
    "start_time": "2022-01-12T10:08:19.321Z"
   },
   {
    "duration": 342,
    "start_time": "2022-01-12T10:08:19.682Z"
   },
   {
    "duration": 11,
    "start_time": "2022-01-12T10:08:20.025Z"
   },
   {
    "duration": 403,
    "start_time": "2022-01-12T10:08:20.038Z"
   },
   {
    "duration": 387,
    "start_time": "2022-01-12T10:08:20.444Z"
   },
   {
    "duration": 10,
    "start_time": "2022-01-12T10:08:20.833Z"
   },
   {
    "duration": 307,
    "start_time": "2022-01-12T10:08:20.845Z"
   },
   {
    "duration": 69,
    "start_time": "2022-01-12T10:08:21.154Z"
   },
   {
    "duration": -10,
    "start_time": "2022-01-12T10:08:21.235Z"
   },
   {
    "duration": -11,
    "start_time": "2022-01-12T10:08:21.237Z"
   },
   {
    "duration": -12,
    "start_time": "2022-01-12T10:08:21.239Z"
   },
   {
    "duration": -13,
    "start_time": "2022-01-12T10:08:21.241Z"
   },
   {
    "duration": -13,
    "start_time": "2022-01-12T10:08:21.242Z"
   },
   {
    "duration": 1327,
    "start_time": "2022-01-12T10:08:49.339Z"
   },
   {
    "duration": 24,
    "start_time": "2022-01-12T10:08:50.668Z"
   },
   {
    "duration": 27,
    "start_time": "2022-01-12T10:08:50.694Z"
   },
   {
    "duration": 22,
    "start_time": "2022-01-12T10:08:50.723Z"
   },
   {
    "duration": 46,
    "start_time": "2022-01-12T10:08:50.747Z"
   },
   {
    "duration": 20,
    "start_time": "2022-01-12T10:08:50.796Z"
   },
   {
    "duration": 19,
    "start_time": "2022-01-12T10:08:50.818Z"
   },
   {
    "duration": 20,
    "start_time": "2022-01-12T10:08:50.841Z"
   },
   {
    "duration": 52,
    "start_time": "2022-01-12T10:08:50.864Z"
   },
   {
    "duration": 41,
    "start_time": "2022-01-12T10:08:50.918Z"
   },
   {
    "duration": 23,
    "start_time": "2022-01-12T10:08:50.961Z"
   },
   {
    "duration": 29,
    "start_time": "2022-01-12T10:08:50.986Z"
   },
   {
    "duration": 23,
    "start_time": "2022-01-12T10:08:51.018Z"
   },
   {
    "duration": 26,
    "start_time": "2022-01-12T10:08:51.061Z"
   },
   {
    "duration": 33,
    "start_time": "2022-01-12T10:08:51.089Z"
   },
   {
    "duration": 14,
    "start_time": "2022-01-12T10:08:51.124Z"
   },
   {
    "duration": 29,
    "start_time": "2022-01-12T10:08:51.139Z"
   },
   {
    "duration": 28,
    "start_time": "2022-01-12T10:08:51.170Z"
   },
   {
    "duration": 44,
    "start_time": "2022-01-12T10:08:51.200Z"
   },
   {
    "duration": 546,
    "start_time": "2022-01-12T10:08:51.247Z"
   },
   {
    "duration": 403,
    "start_time": "2022-01-12T10:08:51.795Z"
   },
   {
    "duration": 371,
    "start_time": "2022-01-12T10:08:52.201Z"
   },
   {
    "duration": 9,
    "start_time": "2022-01-12T10:08:52.577Z"
   },
   {
    "duration": 288,
    "start_time": "2022-01-12T10:08:52.588Z"
   },
   {
    "duration": 552,
    "start_time": "2022-01-12T10:08:52.878Z"
   },
   {
    "duration": 97,
    "start_time": "2022-01-12T10:08:53.433Z"
   },
   {
    "duration": 32,
    "start_time": "2022-01-12T10:08:53.534Z"
   },
   {
    "duration": 39,
    "start_time": "2022-01-12T10:08:53.568Z"
   },
   {
    "duration": 364,
    "start_time": "2022-01-12T10:08:53.609Z"
   },
   {
    "duration": 378,
    "start_time": "2022-01-12T10:08:53.975Z"
   },
   {
    "duration": 387,
    "start_time": "2022-01-12T10:08:54.355Z"
   },
   {
    "duration": 20,
    "start_time": "2022-01-12T10:08:54.744Z"
   },
   {
    "duration": 401,
    "start_time": "2022-01-12T10:08:54.766Z"
   },
   {
    "duration": 375,
    "start_time": "2022-01-12T10:08:55.169Z"
   },
   {
    "duration": 20,
    "start_time": "2022-01-12T10:08:55.546Z"
   },
   {
    "duration": 329,
    "start_time": "2022-01-12T10:08:55.567Z"
   },
   {
    "duration": 7,
    "start_time": "2022-01-12T10:08:55.899Z"
   },
   {
    "duration": 73,
    "start_time": "2022-01-12T10:08:55.908Z"
   },
   {
    "duration": 309,
    "start_time": "2022-01-12T10:08:55.983Z"
   },
   {
    "duration": 279,
    "start_time": "2022-01-12T10:08:56.294Z"
   },
   {
    "duration": 292,
    "start_time": "2022-01-12T10:08:56.576Z"
   },
   {
    "duration": 1253,
    "start_time": "2022-01-12T10:12:12.866Z"
   },
   {
    "duration": 21,
    "start_time": "2022-01-12T10:12:14.121Z"
   },
   {
    "duration": 35,
    "start_time": "2022-01-12T10:12:14.144Z"
   },
   {
    "duration": 21,
    "start_time": "2022-01-12T10:12:14.182Z"
   },
   {
    "duration": 49,
    "start_time": "2022-01-12T10:12:14.205Z"
   },
   {
    "duration": 47,
    "start_time": "2022-01-12T10:12:14.256Z"
   },
   {
    "duration": 21,
    "start_time": "2022-01-12T10:12:14.305Z"
   },
   {
    "duration": 36,
    "start_time": "2022-01-12T10:12:14.328Z"
   },
   {
    "duration": 27,
    "start_time": "2022-01-12T10:12:14.366Z"
   },
   {
    "duration": 37,
    "start_time": "2022-01-12T10:12:14.395Z"
   },
   {
    "duration": 26,
    "start_time": "2022-01-12T10:12:14.434Z"
   },
   {
    "duration": 32,
    "start_time": "2022-01-12T10:12:14.462Z"
   },
   {
    "duration": 25,
    "start_time": "2022-01-12T10:12:14.496Z"
   },
   {
    "duration": 55,
    "start_time": "2022-01-12T10:12:14.522Z"
   },
   {
    "duration": 33,
    "start_time": "2022-01-12T10:12:14.580Z"
   },
   {
    "duration": 31,
    "start_time": "2022-01-12T10:12:14.615Z"
   },
   {
    "duration": 17,
    "start_time": "2022-01-12T10:12:14.648Z"
   },
   {
    "duration": 38,
    "start_time": "2022-01-12T10:12:14.667Z"
   },
   {
    "duration": 65,
    "start_time": "2022-01-12T10:12:14.707Z"
   },
   {
    "duration": 535,
    "start_time": "2022-01-12T10:12:14.774Z"
   },
   {
    "duration": 402,
    "start_time": "2022-01-12T10:12:15.311Z"
   },
   {
    "duration": 349,
    "start_time": "2022-01-12T10:12:15.715Z"
   },
   {
    "duration": 9,
    "start_time": "2022-01-12T10:12:16.068Z"
   },
   {
    "duration": 286,
    "start_time": "2022-01-12T10:12:16.079Z"
   },
   {
    "duration": 496,
    "start_time": "2022-01-12T10:12:16.366Z"
   },
   {
    "duration": 73,
    "start_time": "2022-01-12T10:12:16.864Z"
   },
   {
    "duration": 33,
    "start_time": "2022-01-12T10:12:16.939Z"
   },
   {
    "duration": 31,
    "start_time": "2022-01-12T10:12:16.974Z"
   },
   {
    "duration": 352,
    "start_time": "2022-01-12T10:12:17.007Z"
   },
   {
    "duration": 381,
    "start_time": "2022-01-12T10:12:17.361Z"
   },
   {
    "duration": 392,
    "start_time": "2022-01-12T10:12:17.744Z"
   },
   {
    "duration": 11,
    "start_time": "2022-01-12T10:12:18.137Z"
   },
   {
    "duration": 394,
    "start_time": "2022-01-12T10:12:18.161Z"
   },
   {
    "duration": 396,
    "start_time": "2022-01-12T10:12:18.558Z"
   },
   {
    "duration": 12,
    "start_time": "2022-01-12T10:12:18.956Z"
   },
   {
    "duration": 304,
    "start_time": "2022-01-12T10:12:18.970Z"
   },
   {
    "duration": 6,
    "start_time": "2022-01-12T10:12:19.275Z"
   },
   {
    "duration": 37,
    "start_time": "2022-01-12T10:12:19.282Z"
   },
   {
    "duration": 294,
    "start_time": "2022-01-12T10:12:19.321Z"
   },
   {
    "duration": 275,
    "start_time": "2022-01-12T10:12:19.617Z"
   },
   {
    "duration": 271,
    "start_time": "2022-01-12T10:12:19.894Z"
   },
   {
    "duration": 311,
    "start_time": "2022-01-12T10:15:59.161Z"
   },
   {
    "duration": 468,
    "start_time": "2022-01-12T10:16:30.204Z"
   },
   {
    "duration": 362,
    "start_time": "2022-01-12T10:18:28.470Z"
   },
   {
    "duration": 250,
    "start_time": "2022-01-12T10:22:29.830Z"
   },
   {
    "duration": 370,
    "start_time": "2022-01-12T10:22:40.366Z"
   },
   {
    "duration": 278,
    "start_time": "2022-01-12T10:30:00.095Z"
   },
   {
    "duration": 1252,
    "start_time": "2022-01-12T10:31:40.720Z"
   },
   {
    "duration": 23,
    "start_time": "2022-01-12T10:31:41.974Z"
   },
   {
    "duration": 13,
    "start_time": "2022-01-12T10:31:41.999Z"
   },
   {
    "duration": 10,
    "start_time": "2022-01-12T10:31:42.014Z"
   },
   {
    "duration": 14,
    "start_time": "2022-01-12T10:31:42.026Z"
   },
   {
    "duration": 8,
    "start_time": "2022-01-12T10:31:42.061Z"
   },
   {
    "duration": 8,
    "start_time": "2022-01-12T10:31:42.071Z"
   },
   {
    "duration": 16,
    "start_time": "2022-01-12T10:31:42.082Z"
   },
   {
    "duration": 19,
    "start_time": "2022-01-12T10:31:42.101Z"
   },
   {
    "duration": 51,
    "start_time": "2022-01-12T10:31:42.122Z"
   },
   {
    "duration": 17,
    "start_time": "2022-01-12T10:31:42.175Z"
   },
   {
    "duration": 21,
    "start_time": "2022-01-12T10:31:42.193Z"
   },
   {
    "duration": 16,
    "start_time": "2022-01-12T10:31:42.216Z"
   },
   {
    "duration": 47,
    "start_time": "2022-01-12T10:31:42.233Z"
   },
   {
    "duration": 21,
    "start_time": "2022-01-12T10:31:42.285Z"
   },
   {
    "duration": 15,
    "start_time": "2022-01-12T10:31:42.308Z"
   },
   {
    "duration": 40,
    "start_time": "2022-01-12T10:31:42.325Z"
   },
   {
    "duration": 14,
    "start_time": "2022-01-12T10:31:42.367Z"
   },
   {
    "duration": 23,
    "start_time": "2022-01-12T10:31:42.383Z"
   },
   {
    "duration": 559,
    "start_time": "2022-01-12T10:31:42.408Z"
   },
   {
    "duration": 421,
    "start_time": "2022-01-12T10:31:42.969Z"
   },
   {
    "duration": 367,
    "start_time": "2022-01-12T10:31:43.393Z"
   },
   {
    "duration": 9,
    "start_time": "2022-01-12T10:31:43.765Z"
   },
   {
    "duration": 274,
    "start_time": "2022-01-12T10:31:43.776Z"
   },
   {
    "duration": 495,
    "start_time": "2022-01-12T10:31:44.061Z"
   },
   {
    "duration": 73,
    "start_time": "2022-01-12T10:31:44.558Z"
   },
   {
    "duration": 39,
    "start_time": "2022-01-12T10:31:44.633Z"
   },
   {
    "duration": 35,
    "start_time": "2022-01-12T10:31:44.674Z"
   },
   {
    "duration": 345,
    "start_time": "2022-01-12T10:31:44.710Z"
   },
   {
    "duration": 368,
    "start_time": "2022-01-12T10:31:45.057Z"
   },
   {
    "duration": 388,
    "start_time": "2022-01-12T10:31:45.427Z"
   },
   {
    "duration": 11,
    "start_time": "2022-01-12T10:31:45.817Z"
   },
   {
    "duration": 417,
    "start_time": "2022-01-12T10:31:45.829Z"
   },
   {
    "duration": 380,
    "start_time": "2022-01-12T10:31:46.248Z"
   },
   {
    "duration": 12,
    "start_time": "2022-01-12T10:31:46.630Z"
   },
   {
    "duration": 309,
    "start_time": "2022-01-12T10:31:46.644Z"
   },
   {
    "duration": 10,
    "start_time": "2022-01-12T10:31:46.956Z"
   },
   {
    "duration": 29,
    "start_time": "2022-01-12T10:31:46.967Z"
   },
   {
    "duration": 297,
    "start_time": "2022-01-12T10:31:46.998Z"
   },
   {
    "duration": 382,
    "start_time": "2022-01-12T10:31:47.297Z"
   },
   {
    "duration": 280,
    "start_time": "2022-01-12T10:31:47.681Z"
   },
   {
    "duration": 328,
    "start_time": "2022-01-12T10:37:17.597Z"
   },
   {
    "duration": 358,
    "start_time": "2022-01-12T10:37:20.108Z"
   },
   {
    "duration": 277,
    "start_time": "2022-01-12T10:37:24.045Z"
   },
   {
    "duration": 320,
    "start_time": "2022-01-12T10:46:35.369Z"
   },
   {
    "duration": 335,
    "start_time": "2022-01-12T10:47:38.285Z"
   },
   {
    "duration": 1143,
    "start_time": "2022-01-12T10:47:45.318Z"
   },
   {
    "duration": 22,
    "start_time": "2022-01-12T10:47:46.463Z"
   },
   {
    "duration": 10,
    "start_time": "2022-01-12T10:47:46.488Z"
   },
   {
    "duration": 13,
    "start_time": "2022-01-12T10:47:46.499Z"
   },
   {
    "duration": 13,
    "start_time": "2022-01-12T10:47:46.514Z"
   },
   {
    "duration": 8,
    "start_time": "2022-01-12T10:47:46.528Z"
   },
   {
    "duration": 28,
    "start_time": "2022-01-12T10:47:46.538Z"
   },
   {
    "duration": 8,
    "start_time": "2022-01-12T10:47:46.568Z"
   },
   {
    "duration": 17,
    "start_time": "2022-01-12T10:47:46.579Z"
   },
   {
    "duration": 29,
    "start_time": "2022-01-12T10:47:46.598Z"
   },
   {
    "duration": 19,
    "start_time": "2022-01-12T10:47:46.660Z"
   },
   {
    "duration": 20,
    "start_time": "2022-01-12T10:47:46.681Z"
   },
   {
    "duration": 15,
    "start_time": "2022-01-12T10:47:46.703Z"
   },
   {
    "duration": 46,
    "start_time": "2022-01-12T10:47:46.720Z"
   },
   {
    "duration": 20,
    "start_time": "2022-01-12T10:47:46.767Z"
   },
   {
    "duration": 14,
    "start_time": "2022-01-12T10:47:46.789Z"
   },
   {
    "duration": 7,
    "start_time": "2022-01-12T10:47:46.804Z"
   },
   {
    "duration": 14,
    "start_time": "2022-01-12T10:47:46.813Z"
   },
   {
    "duration": 53,
    "start_time": "2022-01-12T10:47:46.828Z"
   },
   {
    "duration": 524,
    "start_time": "2022-01-12T10:47:46.883Z"
   },
   {
    "duration": 367,
    "start_time": "2022-01-12T10:47:47.409Z"
   },
   {
    "duration": 337,
    "start_time": "2022-01-12T10:47:47.777Z"
   },
   {
    "duration": 8,
    "start_time": "2022-01-12T10:47:48.116Z"
   },
   {
    "duration": 256,
    "start_time": "2022-01-12T10:47:48.125Z"
   },
   {
    "duration": 461,
    "start_time": "2022-01-12T10:47:48.382Z"
   },
   {
    "duration": 81,
    "start_time": "2022-01-12T10:47:48.845Z"
   },
   {
    "duration": 16,
    "start_time": "2022-01-12T10:47:48.929Z"
   },
   {
    "duration": 41,
    "start_time": "2022-01-12T10:47:48.947Z"
   },
   {
    "duration": 338,
    "start_time": "2022-01-12T10:47:48.990Z"
   },
   {
    "duration": 394,
    "start_time": "2022-01-12T10:47:49.330Z"
   },
   {
    "duration": 379,
    "start_time": "2022-01-12T10:47:49.726Z"
   },
   {
    "duration": 10,
    "start_time": "2022-01-12T10:47:50.107Z"
   },
   {
    "duration": 372,
    "start_time": "2022-01-12T10:47:50.119Z"
   },
   {
    "duration": 357,
    "start_time": "2022-01-12T10:47:50.493Z"
   },
   {
    "duration": 16,
    "start_time": "2022-01-12T10:47:50.852Z"
   },
   {
    "duration": 293,
    "start_time": "2022-01-12T10:47:50.870Z"
   },
   {
    "duration": 5,
    "start_time": "2022-01-12T10:47:51.164Z"
   },
   {
    "duration": 30,
    "start_time": "2022-01-12T10:47:51.171Z"
   },
   {
    "duration": 265,
    "start_time": "2022-01-12T10:47:51.202Z"
   },
   {
    "duration": 273,
    "start_time": "2022-01-12T10:47:51.469Z"
   },
   {
    "duration": 273,
    "start_time": "2022-01-12T10:47:51.744Z"
   },
   {
    "duration": 319,
    "start_time": "2022-01-12T10:47:52.019Z"
   },
   {
    "duration": 249,
    "start_time": "2022-01-12T10:48:07.960Z"
   },
   {
    "duration": 13,
    "start_time": "2022-01-12T10:48:27.360Z"
   },
   {
    "duration": 18,
    "start_time": "2022-01-12T10:50:30.227Z"
   },
   {
    "duration": 31,
    "start_time": "2022-01-12T10:51:46.463Z"
   },
   {
    "duration": 251,
    "start_time": "2022-01-12T10:51:50.189Z"
   },
   {
    "duration": 1205,
    "start_time": "2022-01-12T10:52:35.769Z"
   },
   {
    "duration": 24,
    "start_time": "2022-01-12T10:52:36.977Z"
   },
   {
    "duration": 11,
    "start_time": "2022-01-12T10:52:37.006Z"
   },
   {
    "duration": 10,
    "start_time": "2022-01-12T10:52:37.020Z"
   },
   {
    "duration": 44,
    "start_time": "2022-01-12T10:52:37.032Z"
   },
   {
    "duration": 9,
    "start_time": "2022-01-12T10:52:37.079Z"
   },
   {
    "duration": 16,
    "start_time": "2022-01-12T10:52:37.092Z"
   },
   {
    "duration": 9,
    "start_time": "2022-01-12T10:52:37.111Z"
   },
   {
    "duration": 45,
    "start_time": "2022-01-12T10:52:37.121Z"
   },
   {
    "duration": 33,
    "start_time": "2022-01-12T10:52:37.168Z"
   },
   {
    "duration": 17,
    "start_time": "2022-01-12T10:52:37.203Z"
   },
   {
    "duration": 50,
    "start_time": "2022-01-12T10:52:37.222Z"
   },
   {
    "duration": 17,
    "start_time": "2022-01-12T10:52:37.274Z"
   },
   {
    "duration": 26,
    "start_time": "2022-01-12T10:52:37.293Z"
   },
   {
    "duration": 50,
    "start_time": "2022-01-12T10:52:37.321Z"
   },
   {
    "duration": 14,
    "start_time": "2022-01-12T10:52:37.373Z"
   },
   {
    "duration": 6,
    "start_time": "2022-01-12T10:52:37.389Z"
   },
   {
    "duration": 16,
    "start_time": "2022-01-12T10:52:37.397Z"
   },
   {
    "duration": 22,
    "start_time": "2022-01-12T10:52:37.415Z"
   },
   {
    "duration": 538,
    "start_time": "2022-01-12T10:52:37.460Z"
   },
   {
    "duration": 375,
    "start_time": "2022-01-12T10:52:38.000Z"
   },
   {
    "duration": 365,
    "start_time": "2022-01-12T10:52:38.378Z"
   },
   {
    "duration": 18,
    "start_time": "2022-01-12T10:52:38.746Z"
   },
   {
    "duration": 262,
    "start_time": "2022-01-12T10:52:38.766Z"
   },
   {
    "duration": 498,
    "start_time": "2022-01-12T10:52:39.029Z"
   },
   {
    "duration": 81,
    "start_time": "2022-01-12T10:52:39.529Z"
   },
   {
    "duration": 18,
    "start_time": "2022-01-12T10:52:39.612Z"
   },
   {
    "duration": 52,
    "start_time": "2022-01-12T10:52:39.632Z"
   },
   {
    "duration": 358,
    "start_time": "2022-01-12T10:52:39.686Z"
   },
   {
    "duration": 377,
    "start_time": "2022-01-12T10:52:40.046Z"
   },
   {
    "duration": 364,
    "start_time": "2022-01-12T10:52:40.425Z"
   },
   {
    "duration": 11,
    "start_time": "2022-01-12T10:52:40.790Z"
   },
   {
    "duration": 481,
    "start_time": "2022-01-12T10:52:40.803Z"
   },
   {
    "duration": 380,
    "start_time": "2022-01-12T10:52:41.287Z"
   },
   {
    "duration": 11,
    "start_time": "2022-01-12T10:52:41.670Z"
   },
   {
    "duration": 309,
    "start_time": "2022-01-12T10:52:41.683Z"
   },
   {
    "duration": 31,
    "start_time": "2022-01-12T10:52:41.995Z"
   },
   {
    "duration": 289,
    "start_time": "2022-01-12T10:52:42.029Z"
   },
   {
    "duration": 267,
    "start_time": "2022-01-12T10:52:42.320Z"
   },
   {
    "duration": 422,
    "start_time": "2022-01-12T10:52:42.590Z"
   },
   {
    "duration": 48,
    "start_time": "2022-01-12T10:52:43.020Z"
   },
   {
    "duration": 29,
    "start_time": "2022-01-12T10:52:43.077Z"
   },
   {
    "duration": 31,
    "start_time": "2022-01-12T10:53:03.921Z"
   },
   {
    "duration": 30,
    "start_time": "2022-01-12T10:53:10.330Z"
   },
   {
    "duration": 30,
    "start_time": "2022-01-12T10:53:12.666Z"
   },
   {
    "duration": 28,
    "start_time": "2022-01-12T10:53:39.277Z"
   },
   {
    "duration": 1188,
    "start_time": "2022-01-12T10:54:00.705Z"
   },
   {
    "duration": 24,
    "start_time": "2022-01-12T10:54:01.895Z"
   },
   {
    "duration": 22,
    "start_time": "2022-01-12T10:54:01.922Z"
   },
   {
    "duration": 15,
    "start_time": "2022-01-12T10:54:01.946Z"
   },
   {
    "duration": 13,
    "start_time": "2022-01-12T10:54:01.964Z"
   },
   {
    "duration": 11,
    "start_time": "2022-01-12T10:54:01.979Z"
   },
   {
    "duration": 10,
    "start_time": "2022-01-12T10:54:01.992Z"
   },
   {
    "duration": 16,
    "start_time": "2022-01-12T10:54:02.005Z"
   },
   {
    "duration": 38,
    "start_time": "2022-01-12T10:54:02.024Z"
   },
   {
    "duration": 30,
    "start_time": "2022-01-12T10:54:02.064Z"
   },
   {
    "duration": 17,
    "start_time": "2022-01-12T10:54:02.095Z"
   },
   {
    "duration": 47,
    "start_time": "2022-01-12T10:54:02.114Z"
   },
   {
    "duration": 18,
    "start_time": "2022-01-12T10:54:02.163Z"
   },
   {
    "duration": 51,
    "start_time": "2022-01-12T10:54:02.183Z"
   },
   {
    "duration": 20,
    "start_time": "2022-01-12T10:54:02.236Z"
   },
   {
    "duration": 15,
    "start_time": "2022-01-12T10:54:02.258Z"
   },
   {
    "duration": 8,
    "start_time": "2022-01-12T10:54:02.276Z"
   },
   {
    "duration": 17,
    "start_time": "2022-01-12T10:54:02.286Z"
   },
   {
    "duration": 31,
    "start_time": "2022-01-12T10:54:02.304Z"
   },
   {
    "duration": 558,
    "start_time": "2022-01-12T10:54:02.337Z"
   },
   {
    "duration": 488,
    "start_time": "2022-01-12T10:54:02.898Z"
   },
   {
    "duration": 344,
    "start_time": "2022-01-12T10:54:03.388Z"
   },
   {
    "duration": 9,
    "start_time": "2022-01-12T10:54:03.735Z"
   },
   {
    "duration": 261,
    "start_time": "2022-01-12T10:54:03.746Z"
   },
   {
    "duration": 490,
    "start_time": "2022-01-12T10:54:04.009Z"
   },
   {
    "duration": 78,
    "start_time": "2022-01-12T10:54:04.500Z"
   },
   {
    "duration": 17,
    "start_time": "2022-01-12T10:54:04.580Z"
   },
   {
    "duration": 31,
    "start_time": "2022-01-12T10:54:04.599Z"
   },
   {
    "duration": 353,
    "start_time": "2022-01-12T10:54:04.632Z"
   },
   {
    "duration": 343,
    "start_time": "2022-01-12T10:54:04.986Z"
   },
   {
    "duration": 372,
    "start_time": "2022-01-12T10:54:05.331Z"
   },
   {
    "duration": 10,
    "start_time": "2022-01-12T10:54:05.705Z"
   },
   {
    "duration": 359,
    "start_time": "2022-01-12T10:54:05.716Z"
   },
   {
    "duration": 344,
    "start_time": "2022-01-12T10:54:06.076Z"
   },
   {
    "duration": 10,
    "start_time": "2022-01-12T10:54:06.421Z"
   },
   {
    "duration": 298,
    "start_time": "2022-01-12T10:54:06.433Z"
   },
   {
    "duration": 38,
    "start_time": "2022-01-12T10:54:06.733Z"
   },
   {
    "duration": 337,
    "start_time": "2022-01-12T10:54:06.773Z"
   },
   {
    "duration": 313,
    "start_time": "2022-01-12T10:54:07.113Z"
   },
   {
    "duration": 275,
    "start_time": "2022-01-12T10:54:07.427Z"
   },
   {
    "duration": 24,
    "start_time": "2022-01-12T10:54:07.704Z"
   },
   {
    "duration": 36,
    "start_time": "2022-01-12T10:54:07.730Z"
   },
   {
    "duration": 18,
    "start_time": "2022-01-12T10:55:06.803Z"
   },
   {
    "duration": 19,
    "start_time": "2022-01-12T10:57:28.433Z"
   },
   {
    "duration": 19,
    "start_time": "2022-01-12T10:57:48.768Z"
   },
   {
    "duration": 261,
    "start_time": "2022-01-12T11:01:29.688Z"
   },
   {
    "duration": 378,
    "start_time": "2022-01-12T11:02:00.904Z"
   },
   {
    "duration": 270,
    "start_time": "2022-01-12T11:02:08.193Z"
   },
   {
    "duration": 284,
    "start_time": "2022-01-12T11:02:17.361Z"
   },
   {
    "duration": 287,
    "start_time": "2022-01-12T11:10:19.491Z"
   },
   {
    "duration": 276,
    "start_time": "2022-01-12T11:10:22.691Z"
   },
   {
    "duration": 351,
    "start_time": "2022-01-12T11:13:45.877Z"
   },
   {
    "duration": 1447,
    "start_time": "2022-01-12T11:13:53.769Z"
   },
   {
    "duration": 35,
    "start_time": "2022-01-12T11:13:55.220Z"
   },
   {
    "duration": 18,
    "start_time": "2022-01-12T11:13:55.257Z"
   },
   {
    "duration": 18,
    "start_time": "2022-01-12T11:13:55.278Z"
   },
   {
    "duration": 15,
    "start_time": "2022-01-12T11:13:55.298Z"
   },
   {
    "duration": 13,
    "start_time": "2022-01-12T11:13:55.316Z"
   },
   {
    "duration": 11,
    "start_time": "2022-01-12T11:13:55.331Z"
   },
   {
    "duration": 31,
    "start_time": "2022-01-12T11:13:55.345Z"
   },
   {
    "duration": 26,
    "start_time": "2022-01-12T11:13:55.379Z"
   },
   {
    "duration": 31,
    "start_time": "2022-01-12T11:13:55.407Z"
   },
   {
    "duration": 37,
    "start_time": "2022-01-12T11:13:55.440Z"
   },
   {
    "duration": 23,
    "start_time": "2022-01-12T11:13:55.479Z"
   },
   {
    "duration": 18,
    "start_time": "2022-01-12T11:13:55.505Z"
   },
   {
    "duration": 31,
    "start_time": "2022-01-12T11:13:55.562Z"
   },
   {
    "duration": 27,
    "start_time": "2022-01-12T11:13:55.596Z"
   },
   {
    "duration": 42,
    "start_time": "2022-01-12T11:13:55.625Z"
   },
   {
    "duration": 17,
    "start_time": "2022-01-12T11:13:55.670Z"
   },
   {
    "duration": 16,
    "start_time": "2022-01-12T11:13:55.690Z"
   },
   {
    "duration": 54,
    "start_time": "2022-01-12T11:13:55.708Z"
   },
   {
    "duration": 753,
    "start_time": "2022-01-12T11:13:55.765Z"
   },
   {
    "duration": 427,
    "start_time": "2022-01-12T11:13:56.521Z"
   },
   {
    "duration": 374,
    "start_time": "2022-01-12T11:13:56.950Z"
   },
   {
    "duration": 11,
    "start_time": "2022-01-12T11:13:57.329Z"
   },
   {
    "duration": 370,
    "start_time": "2022-01-12T11:13:57.342Z"
   },
   {
    "duration": 550,
    "start_time": "2022-01-12T11:13:57.714Z"
   },
   {
    "duration": 75,
    "start_time": "2022-01-12T11:13:58.266Z"
   },
   {
    "duration": 33,
    "start_time": "2022-01-12T11:13:58.344Z"
   },
   {
    "duration": 42,
    "start_time": "2022-01-12T11:13:58.379Z"
   },
   {
    "duration": 567,
    "start_time": "2022-01-12T11:13:58.424Z"
   },
   {
    "duration": 466,
    "start_time": "2022-01-12T11:13:58.994Z"
   },
   {
    "duration": 469,
    "start_time": "2022-01-12T11:13:59.463Z"
   },
   {
    "duration": 13,
    "start_time": "2022-01-12T11:13:59.934Z"
   },
   {
    "duration": 502,
    "start_time": "2022-01-12T11:13:59.971Z"
   },
   {
    "duration": 482,
    "start_time": "2022-01-12T11:14:00.476Z"
   },
   {
    "duration": 17,
    "start_time": "2022-01-12T11:14:00.961Z"
   },
   {
    "duration": 496,
    "start_time": "2022-01-12T11:14:00.981Z"
   },
   {
    "duration": 48,
    "start_time": "2022-01-12T11:14:01.479Z"
   },
   {
    "duration": 459,
    "start_time": "2022-01-12T11:14:01.529Z"
   },
   {
    "duration": 447,
    "start_time": "2022-01-12T11:14:01.990Z"
   },
   {
    "duration": 386,
    "start_time": "2022-01-12T11:14:02.440Z"
   },
   {
    "duration": 46,
    "start_time": "2022-01-12T11:14:02.828Z"
   },
   {
    "duration": 338,
    "start_time": "2022-01-12T11:14:02.877Z"
   },
   {
    "duration": 483,
    "start_time": "2022-01-12T11:14:03.217Z"
   },
   {
    "duration": 441,
    "start_time": "2022-01-12T11:14:03.702Z"
   },
   {
    "duration": 291,
    "start_time": "2022-01-12T11:20:03.249Z"
   },
   {
    "duration": 273,
    "start_time": "2022-01-12T11:20:09.816Z"
   },
   {
    "duration": 271,
    "start_time": "2022-01-12T11:20:13.976Z"
   },
   {
    "duration": 268,
    "start_time": "2022-01-12T11:20:29.097Z"
   },
   {
    "duration": 14,
    "start_time": "2022-01-12T11:50:08.978Z"
   },
   {
    "duration": 25,
    "start_time": "2022-01-12T11:50:21.840Z"
   },
   {
    "duration": 382,
    "start_time": "2022-01-12T11:56:27.049Z"
   },
   {
    "duration": 275,
    "start_time": "2022-01-12T12:02:18.149Z"
   },
   {
    "duration": 264,
    "start_time": "2022-01-12T12:06:46.222Z"
   },
   {
    "duration": 272,
    "start_time": "2022-01-12T12:06:56.159Z"
   },
   {
    "duration": 265,
    "start_time": "2022-01-12T12:29:40.815Z"
   },
   {
    "duration": 370,
    "start_time": "2022-01-12T12:29:43.968Z"
   },
   {
    "duration": 303,
    "start_time": "2022-01-12T12:29:46.608Z"
   },
   {
    "duration": 110,
    "start_time": "2022-01-12T13:20:52.329Z"
   },
   {
    "duration": 82,
    "start_time": "2022-01-12T13:21:05.664Z"
   },
   {
    "duration": 78,
    "start_time": "2022-01-12T13:21:13.641Z"
   },
   {
    "duration": 75,
    "start_time": "2022-01-12T13:21:21.865Z"
   },
   {
    "duration": 72,
    "start_time": "2022-01-12T13:21:36.090Z"
   },
   {
    "duration": 31,
    "start_time": "2022-01-12T13:21:46.522Z"
   },
   {
    "duration": 12,
    "start_time": "2022-01-12T13:21:58.364Z"
   },
   {
    "duration": 1281,
    "start_time": "2022-01-12T13:22:06.093Z"
   },
   {
    "duration": 22,
    "start_time": "2022-01-12T13:22:07.376Z"
   },
   {
    "duration": 32,
    "start_time": "2022-01-12T13:22:07.400Z"
   },
   {
    "duration": 27,
    "start_time": "2022-01-12T13:22:07.434Z"
   },
   {
    "duration": 32,
    "start_time": "2022-01-12T13:22:07.463Z"
   },
   {
    "duration": 26,
    "start_time": "2022-01-12T13:22:07.497Z"
   },
   {
    "duration": 27,
    "start_time": "2022-01-12T13:22:07.525Z"
   },
   {
    "duration": 24,
    "start_time": "2022-01-12T13:22:07.555Z"
   },
   {
    "duration": 35,
    "start_time": "2022-01-12T13:22:07.582Z"
   },
   {
    "duration": 41,
    "start_time": "2022-01-12T13:22:07.619Z"
   },
   {
    "duration": 16,
    "start_time": "2022-01-12T13:22:07.662Z"
   },
   {
    "duration": 38,
    "start_time": "2022-01-12T13:22:07.680Z"
   },
   {
    "duration": 15,
    "start_time": "2022-01-12T13:22:07.720Z"
   },
   {
    "duration": 25,
    "start_time": "2022-01-12T13:22:07.737Z"
   },
   {
    "duration": 25,
    "start_time": "2022-01-12T13:22:07.763Z"
   },
   {
    "duration": 13,
    "start_time": "2022-01-12T13:22:07.790Z"
   },
   {
    "duration": 18,
    "start_time": "2022-01-12T13:22:07.805Z"
   },
   {
    "duration": 25,
    "start_time": "2022-01-12T13:22:07.825Z"
   },
   {
    "duration": 30,
    "start_time": "2022-01-12T13:22:07.851Z"
   },
   {
    "duration": 532,
    "start_time": "2022-01-12T13:22:07.882Z"
   },
   {
    "duration": 378,
    "start_time": "2022-01-12T13:22:08.416Z"
   },
   {
    "duration": 361,
    "start_time": "2022-01-12T13:22:08.795Z"
   },
   {
    "duration": 9,
    "start_time": "2022-01-12T13:22:09.163Z"
   },
   {
    "duration": 265,
    "start_time": "2022-01-12T13:22:09.174Z"
   },
   {
    "duration": 502,
    "start_time": "2022-01-12T13:22:09.441Z"
   },
   {
    "duration": 83,
    "start_time": "2022-01-12T13:22:09.945Z"
   },
   {
    "duration": 18,
    "start_time": "2022-01-12T13:22:10.030Z"
   },
   {
    "duration": 33,
    "start_time": "2022-01-12T13:22:10.061Z"
   },
   {
    "duration": 346,
    "start_time": "2022-01-12T13:22:10.096Z"
   },
   {
    "duration": 402,
    "start_time": "2022-01-12T13:22:10.444Z"
   },
   {
    "duration": 392,
    "start_time": "2022-01-12T13:22:10.848Z"
   },
   {
    "duration": 19,
    "start_time": "2022-01-12T13:22:11.242Z"
   },
   {
    "duration": 373,
    "start_time": "2022-01-12T13:22:11.263Z"
   },
   {
    "duration": 385,
    "start_time": "2022-01-12T13:22:11.638Z"
   },
   {
    "duration": 10,
    "start_time": "2022-01-12T13:22:12.025Z"
   },
   {
    "duration": 299,
    "start_time": "2022-01-12T13:22:12.037Z"
   },
   {
    "duration": 37,
    "start_time": "2022-01-12T13:22:12.338Z"
   },
   {
    "duration": 268,
    "start_time": "2022-01-12T13:22:12.377Z"
   },
   {
    "duration": 277,
    "start_time": "2022-01-12T13:22:12.647Z"
   },
   {
    "duration": 286,
    "start_time": "2022-01-12T13:22:12.926Z"
   },
   {
    "duration": 22,
    "start_time": "2022-01-12T13:22:13.214Z"
   },
   {
    "duration": 285,
    "start_time": "2022-01-12T13:22:13.238Z"
   },
   {
    "duration": 377,
    "start_time": "2022-01-12T13:22:13.525Z"
   },
   {
    "duration": 288,
    "start_time": "2022-01-12T13:22:13.903Z"
   },
   {
    "duration": 19,
    "start_time": "2022-01-12T13:22:14.192Z"
   },
   {
    "duration": 285,
    "start_time": "2022-01-12T13:22:14.213Z"
   },
   {
    "duration": 271,
    "start_time": "2022-01-12T13:22:14.499Z"
   },
   {
    "duration": 287,
    "start_time": "2022-01-12T13:22:14.773Z"
   },
   {
    "duration": 13,
    "start_time": "2022-01-12T13:22:15.062Z"
   },
   {
    "duration": 5275,
    "start_time": "2022-01-12T13:22:15.077Z"
   },
   {
    "duration": 24,
    "start_time": "2022-01-12T13:26:40.455Z"
   },
   {
    "duration": 25,
    "start_time": "2022-01-12T13:27:53.163Z"
   },
   {
    "duration": 10,
    "start_time": "2022-01-12T13:40:10.438Z"
   },
   {
    "duration": 215,
    "start_time": "2022-01-12T13:40:26.301Z"
   },
   {
    "duration": 8,
    "start_time": "2022-01-12T13:40:41.774Z"
   },
   {
    "duration": 7,
    "start_time": "2022-01-12T13:40:54.134Z"
   },
   {
    "duration": 9,
    "start_time": "2022-01-12T13:40:57.847Z"
   },
   {
    "duration": 81,
    "start_time": "2022-01-12T13:41:51.752Z"
   },
   {
    "duration": 8,
    "start_time": "2022-01-12T13:42:19.346Z"
   },
   {
    "duration": 8,
    "start_time": "2022-01-12T13:42:21.930Z"
   },
   {
    "duration": 9,
    "start_time": "2022-01-12T13:42:37.002Z"
   },
   {
    "duration": 7,
    "start_time": "2022-01-12T13:43:39.559Z"
   },
   {
    "duration": 10,
    "start_time": "2022-01-12T13:44:23.750Z"
   },
   {
    "duration": 8,
    "start_time": "2022-01-12T13:46:39.596Z"
   },
   {
    "duration": 8,
    "start_time": "2022-01-12T13:47:10.029Z"
   },
   {
    "duration": 9,
    "start_time": "2022-01-12T13:47:41.469Z"
   },
   {
    "duration": 11,
    "start_time": "2022-01-12T13:47:43.846Z"
   },
   {
    "duration": 9,
    "start_time": "2022-01-12T13:47:47.117Z"
   },
   {
    "duration": 8,
    "start_time": "2022-01-12T13:47:49.910Z"
   },
   {
    "duration": 5,
    "start_time": "2022-01-12T13:55:14.529Z"
   },
   {
    "duration": 6,
    "start_time": "2022-01-12T13:55:55.610Z"
   },
   {
    "duration": 6,
    "start_time": "2022-01-12T13:56:01.592Z"
   },
   {
    "duration": 9,
    "start_time": "2022-01-12T13:58:30.859Z"
   },
   {
    "duration": 9,
    "start_time": "2022-01-12T13:58:37.145Z"
   },
   {
    "duration": 8,
    "start_time": "2022-01-12T13:58:41.577Z"
   },
   {
    "duration": 8,
    "start_time": "2022-01-12T13:58:44.273Z"
   },
   {
    "duration": 5,
    "start_time": "2022-01-12T13:59:04.056Z"
   },
   {
    "duration": 5,
    "start_time": "2022-01-12T14:00:38.700Z"
   },
   {
    "duration": 7,
    "start_time": "2022-01-12T14:00:43.125Z"
   },
   {
    "duration": 10,
    "start_time": "2022-01-12T14:06:49.348Z"
   },
   {
    "duration": 7,
    "start_time": "2022-01-12T14:07:17.300Z"
   },
   {
    "duration": 7,
    "start_time": "2022-01-12T14:07:19.700Z"
   },
   {
    "duration": 9,
    "start_time": "2022-01-12T14:11:24.512Z"
   },
   {
    "duration": 9,
    "start_time": "2022-01-12T14:11:58.324Z"
   },
   {
    "duration": 9,
    "start_time": "2022-01-12T14:12:00.564Z"
   },
   {
    "duration": 7,
    "start_time": "2022-01-12T14:12:07.996Z"
   },
   {
    "duration": 9,
    "start_time": "2022-01-12T14:16:50.017Z"
   },
   {
    "duration": 10,
    "start_time": "2022-01-12T14:17:00.008Z"
   },
   {
    "duration": 5,
    "start_time": "2022-01-12T14:18:51.244Z"
   },
   {
    "duration": 1316,
    "start_time": "2022-01-12T15:19:10.617Z"
   },
   {
    "duration": 27,
    "start_time": "2022-01-12T15:19:11.935Z"
   },
   {
    "duration": 13,
    "start_time": "2022-01-12T15:19:11.964Z"
   },
   {
    "duration": 11,
    "start_time": "2022-01-12T15:19:11.979Z"
   },
   {
    "duration": 16,
    "start_time": "2022-01-12T15:19:11.992Z"
   },
   {
    "duration": 10,
    "start_time": "2022-01-12T15:19:12.010Z"
   },
   {
    "duration": 42,
    "start_time": "2022-01-12T15:19:12.021Z"
   },
   {
    "duration": 8,
    "start_time": "2022-01-12T15:19:12.065Z"
   },
   {
    "duration": 21,
    "start_time": "2022-01-12T15:19:12.075Z"
   },
   {
    "duration": 30,
    "start_time": "2022-01-12T15:19:12.098Z"
   },
   {
    "duration": 45,
    "start_time": "2022-01-12T15:19:12.130Z"
   },
   {
    "duration": 22,
    "start_time": "2022-01-12T15:19:12.176Z"
   },
   {
    "duration": 17,
    "start_time": "2022-01-12T15:19:12.200Z"
   },
   {
    "duration": 47,
    "start_time": "2022-01-12T15:19:12.219Z"
   },
   {
    "duration": 22,
    "start_time": "2022-01-12T15:19:12.268Z"
   },
   {
    "duration": 14,
    "start_time": "2022-01-12T15:19:12.292Z"
   },
   {
    "duration": 8,
    "start_time": "2022-01-12T15:19:12.307Z"
   },
   {
    "duration": 45,
    "start_time": "2022-01-12T15:19:12.317Z"
   },
   {
    "duration": 23,
    "start_time": "2022-01-12T15:19:12.364Z"
   },
   {
    "duration": 543,
    "start_time": "2022-01-12T15:19:12.388Z"
   },
   {
    "duration": 385,
    "start_time": "2022-01-12T15:19:12.933Z"
   },
   {
    "duration": 357,
    "start_time": "2022-01-12T15:19:13.319Z"
   },
   {
    "duration": 10,
    "start_time": "2022-01-12T15:19:13.678Z"
   },
   {
    "duration": 264,
    "start_time": "2022-01-12T15:19:13.690Z"
   },
   {
    "duration": 512,
    "start_time": "2022-01-12T15:19:13.956Z"
   },
   {
    "duration": 77,
    "start_time": "2022-01-12T15:19:14.470Z"
   },
   {
    "duration": 19,
    "start_time": "2022-01-12T15:19:14.565Z"
   },
   {
    "duration": 31,
    "start_time": "2022-01-12T15:19:14.586Z"
   },
   {
    "duration": 355,
    "start_time": "2022-01-12T15:19:14.619Z"
   },
   {
    "duration": 352,
    "start_time": "2022-01-12T15:19:14.976Z"
   },
   {
    "duration": 384,
    "start_time": "2022-01-12T15:19:15.330Z"
   },
   {
    "duration": 12,
    "start_time": "2022-01-12T15:19:15.716Z"
   },
   {
    "duration": 392,
    "start_time": "2022-01-12T15:19:15.729Z"
   },
   {
    "duration": 368,
    "start_time": "2022-01-12T15:19:16.123Z"
   },
   {
    "duration": 10,
    "start_time": "2022-01-12T15:19:16.493Z"
   },
   {
    "duration": 320,
    "start_time": "2022-01-12T15:19:16.505Z"
   },
   {
    "duration": 40,
    "start_time": "2022-01-12T15:19:16.827Z"
   },
   {
    "duration": 284,
    "start_time": "2022-01-12T15:19:16.869Z"
   },
   {
    "duration": 338,
    "start_time": "2022-01-12T15:19:17.155Z"
   },
   {
    "duration": 351,
    "start_time": "2022-01-12T15:19:17.495Z"
   },
   {
    "duration": 28,
    "start_time": "2022-01-12T15:19:17.847Z"
   },
   {
    "duration": 286,
    "start_time": "2022-01-12T15:19:17.877Z"
   },
   {
    "duration": 367,
    "start_time": "2022-01-12T15:19:18.165Z"
   },
   {
    "duration": 286,
    "start_time": "2022-01-12T15:19:18.534Z"
   },
   {
    "duration": 19,
    "start_time": "2022-01-12T15:19:18.822Z"
   },
   {
    "duration": 286,
    "start_time": "2022-01-12T15:19:18.842Z"
   },
   {
    "duration": 282,
    "start_time": "2022-01-12T15:19:19.131Z"
   },
   {
    "duration": 279,
    "start_time": "2022-01-12T15:19:19.415Z"
   },
   {
    "duration": 9,
    "start_time": "2022-01-12T15:19:19.696Z"
   },
   {
    "duration": 9,
    "start_time": "2022-01-12T15:19:19.707Z"
   },
   {
    "duration": 8,
    "start_time": "2022-01-12T15:19:19.717Z"
   },
   {
    "duration": 36,
    "start_time": "2022-01-12T15:19:19.726Z"
   },
   {
    "duration": 6,
    "start_time": "2022-01-12T15:19:19.764Z"
   },
   {
    "duration": 21,
    "start_time": "2022-01-12T15:19:19.772Z"
   },
   {
    "duration": 14,
    "start_time": "2022-01-12T15:19:19.795Z"
   },
   {
    "duration": 10,
    "start_time": "2022-01-12T15:19:19.811Z"
   },
   {
    "duration": 8,
    "start_time": "2022-01-12T15:19:19.823Z"
   },
   {
    "duration": 29,
    "start_time": "2022-01-12T15:19:19.833Z"
   },
   {
    "duration": 1224,
    "start_time": "2022-01-12T15:46:24.943Z"
   },
   {
    "duration": 23,
    "start_time": "2022-01-12T15:46:26.169Z"
   },
   {
    "duration": 10,
    "start_time": "2022-01-12T15:46:26.194Z"
   },
   {
    "duration": 9,
    "start_time": "2022-01-12T15:46:26.206Z"
   },
   {
    "duration": 46,
    "start_time": "2022-01-12T15:46:26.216Z"
   },
   {
    "duration": 8,
    "start_time": "2022-01-12T15:46:26.263Z"
   },
   {
    "duration": 9,
    "start_time": "2022-01-12T15:46:26.272Z"
   },
   {
    "duration": 7,
    "start_time": "2022-01-12T15:46:26.283Z"
   },
   {
    "duration": 18,
    "start_time": "2022-01-12T15:46:26.292Z"
   },
   {
    "duration": 70,
    "start_time": "2022-01-12T15:46:26.312Z"
   },
   {
    "duration": 18,
    "start_time": "2022-01-12T15:46:26.383Z"
   },
   {
    "duration": 19,
    "start_time": "2022-01-12T15:46:26.402Z"
   },
   {
    "duration": 39,
    "start_time": "2022-01-12T15:46:26.423Z"
   },
   {
    "duration": 22,
    "start_time": "2022-01-12T15:46:26.464Z"
   },
   {
    "duration": 22,
    "start_time": "2022-01-12T15:46:26.487Z"
   },
   {
    "duration": 14,
    "start_time": "2022-01-12T15:46:26.511Z"
   },
   {
    "duration": 7,
    "start_time": "2022-01-12T15:46:26.561Z"
   },
   {
    "duration": 11,
    "start_time": "2022-01-12T15:46:26.570Z"
   },
   {
    "duration": 24,
    "start_time": "2022-01-12T15:46:26.583Z"
   },
   {
    "duration": 569,
    "start_time": "2022-01-12T15:46:26.608Z"
   },
   {
    "duration": 387,
    "start_time": "2022-01-12T15:46:27.178Z"
   },
   {
    "duration": 355,
    "start_time": "2022-01-12T15:46:27.566Z"
   },
   {
    "duration": 8,
    "start_time": "2022-01-12T15:46:27.925Z"
   },
   {
    "duration": 273,
    "start_time": "2022-01-12T15:46:27.935Z"
   },
   {
    "duration": 503,
    "start_time": "2022-01-12T15:46:28.209Z"
   },
   {
    "duration": 88,
    "start_time": "2022-01-12T15:46:28.714Z"
   },
   {
    "duration": 16,
    "start_time": "2022-01-12T15:46:28.803Z"
   },
   {
    "duration": 46,
    "start_time": "2022-01-12T15:46:28.821Z"
   },
   {
    "duration": 332,
    "start_time": "2022-01-12T15:46:28.869Z"
   },
   {
    "duration": 325,
    "start_time": "2022-01-12T15:46:29.202Z"
   },
   {
    "duration": 369,
    "start_time": "2022-01-12T15:46:29.529Z"
   },
   {
    "duration": 10,
    "start_time": "2022-01-12T15:46:29.900Z"
   },
   {
    "duration": 355,
    "start_time": "2022-01-12T15:46:29.912Z"
   },
   {
    "duration": 375,
    "start_time": "2022-01-12T15:46:30.269Z"
   },
   {
    "duration": 18,
    "start_time": "2022-01-12T15:46:30.646Z"
   },
   {
    "duration": 297,
    "start_time": "2022-01-12T15:46:30.666Z"
   },
   {
    "duration": 28,
    "start_time": "2022-01-12T15:46:30.965Z"
   },
   {
    "duration": 325,
    "start_time": "2022-01-12T15:46:30.995Z"
   },
   {
    "duration": 268,
    "start_time": "2022-01-12T15:46:31.322Z"
   },
   {
    "duration": 276,
    "start_time": "2022-01-12T15:46:31.592Z"
   },
   {
    "duration": 21,
    "start_time": "2022-01-12T15:46:31.870Z"
   },
   {
    "duration": 298,
    "start_time": "2022-01-12T15:46:31.893Z"
   },
   {
    "duration": 367,
    "start_time": "2022-01-12T15:46:32.193Z"
   },
   {
    "duration": 274,
    "start_time": "2022-01-12T15:46:32.562Z"
   },
   {
    "duration": 29,
    "start_time": "2022-01-12T15:46:32.837Z"
   },
   {
    "duration": 280,
    "start_time": "2022-01-12T15:46:32.868Z"
   },
   {
    "duration": 294,
    "start_time": "2022-01-12T15:46:33.150Z"
   },
   {
    "duration": 283,
    "start_time": "2022-01-12T15:46:33.446Z"
   },
   {
    "duration": 10,
    "start_time": "2022-01-12T15:46:33.732Z"
   },
   {
    "duration": 22,
    "start_time": "2022-01-12T15:46:33.744Z"
   },
   {
    "duration": 8,
    "start_time": "2022-01-12T15:46:33.768Z"
   },
   {
    "duration": 9,
    "start_time": "2022-01-12T15:46:33.779Z"
   },
   {
    "duration": 9,
    "start_time": "2022-01-12T15:46:33.790Z"
   },
   {
    "duration": 11,
    "start_time": "2022-01-12T15:46:33.801Z"
   },
   {
    "duration": 51,
    "start_time": "2022-01-12T15:46:33.814Z"
   },
   {
    "duration": 8,
    "start_time": "2022-01-12T15:46:33.867Z"
   },
   {
    "duration": 12,
    "start_time": "2022-01-12T15:46:33.877Z"
   },
   {
    "duration": 7,
    "start_time": "2022-01-12T15:46:33.891Z"
   },
   {
    "duration": 1054,
    "start_time": "2022-01-14T07:48:49.168Z"
   },
   {
    "duration": 19,
    "start_time": "2022-01-14T07:48:50.224Z"
   },
   {
    "duration": 9,
    "start_time": "2022-01-14T07:48:50.245Z"
   },
   {
    "duration": 7,
    "start_time": "2022-01-14T07:48:50.256Z"
   },
   {
    "duration": 11,
    "start_time": "2022-01-14T07:48:50.264Z"
   },
   {
    "duration": 8,
    "start_time": "2022-01-14T07:48:50.276Z"
   },
   {
    "duration": 6,
    "start_time": "2022-01-14T07:48:50.312Z"
   },
   {
    "duration": 7,
    "start_time": "2022-01-14T07:48:50.320Z"
   },
   {
    "duration": 14,
    "start_time": "2022-01-14T07:48:50.329Z"
   },
   {
    "duration": 24,
    "start_time": "2022-01-14T07:48:50.344Z"
   },
   {
    "duration": 13,
    "start_time": "2022-01-14T07:48:50.370Z"
   },
   {
    "duration": 42,
    "start_time": "2022-01-14T07:48:50.385Z"
   },
   {
    "duration": 12,
    "start_time": "2022-01-14T07:48:50.428Z"
   },
   {
    "duration": 19,
    "start_time": "2022-01-14T07:48:50.441Z"
   },
   {
    "duration": 17,
    "start_time": "2022-01-14T07:48:50.461Z"
   },
   {
    "duration": 39,
    "start_time": "2022-01-14T07:48:50.479Z"
   },
   {
    "duration": 6,
    "start_time": "2022-01-14T07:48:50.519Z"
   },
   {
    "duration": 8,
    "start_time": "2022-01-14T07:48:50.527Z"
   },
   {
    "duration": 20,
    "start_time": "2022-01-14T07:48:50.536Z"
   },
   {
    "duration": 483,
    "start_time": "2022-01-14T07:48:50.558Z"
   },
   {
    "duration": 336,
    "start_time": "2022-01-14T07:48:51.043Z"
   },
   {
    "duration": 312,
    "start_time": "2022-01-14T07:48:51.381Z"
   },
   {
    "duration": 16,
    "start_time": "2022-01-14T07:48:51.697Z"
   },
   {
    "duration": 227,
    "start_time": "2022-01-14T07:48:51.714Z"
   },
   {
    "duration": 418,
    "start_time": "2022-01-14T07:48:51.942Z"
   },
   {
    "duration": 68,
    "start_time": "2022-01-14T07:48:52.362Z"
   },
   {
    "duration": 16,
    "start_time": "2022-01-14T07:48:52.432Z"
   },
   {
    "duration": 26,
    "start_time": "2022-01-14T07:48:52.449Z"
   },
   {
    "duration": 305,
    "start_time": "2022-01-14T07:48:52.477Z"
   },
   {
    "duration": 353,
    "start_time": "2022-01-14T07:48:52.784Z"
   },
   {
    "duration": 324,
    "start_time": "2022-01-14T07:48:53.139Z"
   },
   {
    "duration": 10,
    "start_time": "2022-01-14T07:48:53.465Z"
   },
   {
    "duration": 404,
    "start_time": "2022-01-14T07:48:53.477Z"
   },
   {
    "duration": 402,
    "start_time": "2022-01-14T07:48:53.883Z"
   },
   {
    "duration": 10,
    "start_time": "2022-01-14T07:48:54.286Z"
   },
   {
    "duration": 286,
    "start_time": "2022-01-14T07:48:54.297Z"
   },
   {
    "duration": 38,
    "start_time": "2022-01-14T07:48:54.584Z"
   },
   {
    "duration": 247,
    "start_time": "2022-01-14T07:48:54.624Z"
   },
   {
    "duration": 242,
    "start_time": "2022-01-14T07:48:54.872Z"
   },
   {
    "duration": 241,
    "start_time": "2022-01-14T07:48:55.115Z"
   },
   {
    "duration": 16,
    "start_time": "2022-01-14T07:48:55.358Z"
   },
   {
    "duration": 242,
    "start_time": "2022-01-14T07:48:55.375Z"
   },
   {
    "duration": 304,
    "start_time": "2022-01-14T07:48:55.619Z"
   },
   {
    "duration": 251,
    "start_time": "2022-01-14T07:48:55.925Z"
   },
   {
    "duration": 17,
    "start_time": "2022-01-14T07:48:56.178Z"
   },
   {
    "duration": 247,
    "start_time": "2022-01-14T07:48:56.196Z"
   },
   {
    "duration": 243,
    "start_time": "2022-01-14T07:48:56.445Z"
   },
   {
    "duration": 251,
    "start_time": "2022-01-14T07:48:56.690Z"
   },
   {
    "duration": 7,
    "start_time": "2022-01-14T07:48:56.943Z"
   },
   {
    "duration": 7,
    "start_time": "2022-01-14T07:48:56.951Z"
   },
   {
    "duration": 7,
    "start_time": "2022-01-14T07:48:56.960Z"
   },
   {
    "duration": 7,
    "start_time": "2022-01-14T07:48:56.968Z"
   },
   {
    "duration": 38,
    "start_time": "2022-01-14T07:48:56.976Z"
   },
   {
    "duration": 7,
    "start_time": "2022-01-14T07:48:57.016Z"
   },
   {
    "duration": 7,
    "start_time": "2022-01-14T07:48:57.025Z"
   },
   {
    "duration": 7,
    "start_time": "2022-01-14T07:48:57.033Z"
   },
   {
    "duration": 6,
    "start_time": "2022-01-14T07:48:57.042Z"
   },
   {
    "duration": 5,
    "start_time": "2022-01-14T07:48:57.049Z"
   },
   {
    "duration": 1608,
    "start_time": "2022-01-14T15:47:54.771Z"
   },
   {
    "duration": 37,
    "start_time": "2022-01-14T15:47:56.382Z"
   },
   {
    "duration": 16,
    "start_time": "2022-01-14T15:47:56.422Z"
   },
   {
    "duration": 34,
    "start_time": "2022-01-14T15:47:56.441Z"
   },
   {
    "duration": 19,
    "start_time": "2022-01-14T15:47:56.477Z"
   },
   {
    "duration": 11,
    "start_time": "2022-01-14T15:47:56.499Z"
   },
   {
    "duration": 12,
    "start_time": "2022-01-14T15:47:56.512Z"
   },
   {
    "duration": 46,
    "start_time": "2022-01-14T15:47:56.528Z"
   },
   {
    "duration": 26,
    "start_time": "2022-01-14T15:47:56.578Z"
   },
   {
    "duration": 72,
    "start_time": "2022-01-14T15:47:56.607Z"
   },
   {
    "duration": 25,
    "start_time": "2022-01-14T15:47:56.682Z"
   },
   {
    "duration": 62,
    "start_time": "2022-01-14T15:47:56.709Z"
   },
   {
    "duration": 22,
    "start_time": "2022-01-14T15:47:56.774Z"
   },
   {
    "duration": 35,
    "start_time": "2022-01-14T15:47:56.799Z"
   },
   {
    "duration": 59,
    "start_time": "2022-01-14T15:47:56.837Z"
   },
   {
    "duration": 19,
    "start_time": "2022-01-14T15:47:56.899Z"
   },
   {
    "duration": 9,
    "start_time": "2022-01-14T15:47:56.921Z"
   },
   {
    "duration": 16,
    "start_time": "2022-01-14T15:47:56.968Z"
   },
   {
    "duration": 37,
    "start_time": "2022-01-14T15:47:56.987Z"
   },
   {
    "duration": 919,
    "start_time": "2022-01-14T15:47:57.027Z"
   },
   {
    "duration": 664,
    "start_time": "2022-01-14T15:47:57.949Z"
   },
   {
    "duration": 588,
    "start_time": "2022-01-14T15:47:58.615Z"
   },
   {
    "duration": 12,
    "start_time": "2022-01-14T15:47:59.210Z"
   },
   {
    "duration": 457,
    "start_time": "2022-01-14T15:47:59.226Z"
   },
   {
    "duration": 774,
    "start_time": "2022-01-14T15:47:59.686Z"
   },
   {
    "duration": 134,
    "start_time": "2022-01-14T15:48:00.463Z"
   },
   {
    "duration": 27,
    "start_time": "2022-01-14T15:48:00.600Z"
   },
   {
    "duration": 74,
    "start_time": "2022-01-14T15:48:00.630Z"
   },
   {
    "duration": 569,
    "start_time": "2022-01-14T15:48:00.706Z"
   },
   {
    "duration": 529,
    "start_time": "2022-01-14T15:48:01.277Z"
   },
   {
    "duration": 507,
    "start_time": "2022-01-14T15:48:01.808Z"
   },
   {
    "duration": 13,
    "start_time": "2022-01-14T15:48:02.318Z"
   },
   {
    "duration": 564,
    "start_time": "2022-01-14T15:48:02.334Z"
   },
   {
    "duration": 532,
    "start_time": "2022-01-14T15:48:02.901Z"
   },
   {
    "duration": 37,
    "start_time": "2022-01-14T15:48:03.436Z"
   },
   {
    "duration": 594,
    "start_time": "2022-01-14T15:48:03.477Z"
   },
   {
    "duration": 48,
    "start_time": "2022-01-14T15:48:04.074Z"
   },
   {
    "duration": 475,
    "start_time": "2022-01-14T15:48:04.124Z"
   },
   {
    "duration": 445,
    "start_time": "2022-01-14T15:48:04.602Z"
   },
   {
    "duration": 451,
    "start_time": "2022-01-14T15:48:05.049Z"
   },
   {
    "duration": 27,
    "start_time": "2022-01-14T15:48:05.503Z"
   },
   {
    "duration": 457,
    "start_time": "2022-01-14T15:48:05.532Z"
   },
   {
    "duration": 530,
    "start_time": "2022-01-14T15:48:05.991Z"
   },
   {
    "duration": 461,
    "start_time": "2022-01-14T15:48:06.524Z"
   },
   {
    "duration": 32,
    "start_time": "2022-01-14T15:48:06.987Z"
   },
   {
    "duration": 475,
    "start_time": "2022-01-14T15:48:07.021Z"
   },
   {
    "duration": 467,
    "start_time": "2022-01-14T15:48:07.500Z"
   },
   {
    "duration": 559,
    "start_time": "2022-01-14T15:48:07.970Z"
   },
   {
    "duration": 11,
    "start_time": "2022-01-14T15:48:08.532Z"
   },
   {
    "duration": 28,
    "start_time": "2022-01-14T15:48:08.545Z"
   },
   {
    "duration": 10,
    "start_time": "2022-01-14T15:48:08.576Z"
   },
   {
    "duration": 14,
    "start_time": "2022-01-14T15:48:08.588Z"
   },
   {
    "duration": 12,
    "start_time": "2022-01-14T15:48:08.604Z"
   },
   {
    "duration": 51,
    "start_time": "2022-01-14T15:48:08.618Z"
   },
   {
    "duration": 11,
    "start_time": "2022-01-14T15:48:08.671Z"
   },
   {
    "duration": 11,
    "start_time": "2022-01-14T15:48:08.684Z"
   },
   {
    "duration": 12,
    "start_time": "2022-01-14T15:48:08.697Z"
   },
   {
    "duration": 9,
    "start_time": "2022-01-14T15:48:08.711Z"
   },
   {
    "duration": 1618,
    "start_time": "2022-01-14T16:14:44.652Z"
   },
   {
    "duration": 34,
    "start_time": "2022-01-14T16:14:46.272Z"
   },
   {
    "duration": 18,
    "start_time": "2022-01-14T16:14:46.309Z"
   },
   {
    "duration": 36,
    "start_time": "2022-01-14T16:14:46.330Z"
   },
   {
    "duration": 20,
    "start_time": "2022-01-14T16:14:46.369Z"
   },
   {
    "duration": 15,
    "start_time": "2022-01-14T16:14:46.391Z"
   },
   {
    "duration": 12,
    "start_time": "2022-01-14T16:14:46.408Z"
   },
   {
    "duration": 45,
    "start_time": "2022-01-14T16:14:46.424Z"
   },
   {
    "duration": 23,
    "start_time": "2022-01-14T16:14:46.472Z"
   },
   {
    "duration": 45,
    "start_time": "2022-01-14T16:14:46.498Z"
   },
   {
    "duration": 24,
    "start_time": "2022-01-14T16:14:46.568Z"
   },
   {
    "duration": 33,
    "start_time": "2022-01-14T16:14:46.595Z"
   },
   {
    "duration": 55,
    "start_time": "2022-01-14T16:14:46.630Z"
   },
   {
    "duration": 37,
    "start_time": "2022-01-14T16:14:46.688Z"
   },
   {
    "duration": 58,
    "start_time": "2022-01-14T16:14:46.728Z"
   },
   {
    "duration": 19,
    "start_time": "2022-01-14T16:14:46.789Z"
   },
   {
    "duration": 10,
    "start_time": "2022-01-14T16:14:46.810Z"
   },
   {
    "duration": 46,
    "start_time": "2022-01-14T16:14:46.822Z"
   },
   {
    "duration": 36,
    "start_time": "2022-01-14T16:14:46.871Z"
   },
   {
    "duration": 911,
    "start_time": "2022-01-14T16:14:46.910Z"
   },
   {
    "duration": 631,
    "start_time": "2022-01-14T16:14:47.824Z"
   },
   {
    "duration": 583,
    "start_time": "2022-01-14T16:14:48.457Z"
   },
   {
    "duration": 23,
    "start_time": "2022-01-14T16:14:49.046Z"
   },
   {
    "duration": 426,
    "start_time": "2022-01-14T16:14:49.073Z"
   },
   {
    "duration": 776,
    "start_time": "2022-01-14T16:14:49.501Z"
   },
   {
    "duration": 146,
    "start_time": "2022-01-14T16:14:50.279Z"
   },
   {
    "duration": 39,
    "start_time": "2022-01-14T16:14:50.428Z"
   },
   {
    "duration": 56,
    "start_time": "2022-01-14T16:14:50.469Z"
   },
   {
    "duration": 597,
    "start_time": "2022-01-14T16:14:50.527Z"
   },
   {
    "duration": 541,
    "start_time": "2022-01-14T16:14:51.126Z"
   },
   {
    "duration": 508,
    "start_time": "2022-01-14T16:14:51.669Z"
   },
   {
    "duration": 15,
    "start_time": "2022-01-14T16:14:52.180Z"
   },
   {
    "duration": 515,
    "start_time": "2022-01-14T16:14:52.198Z"
   },
   {
    "duration": 574,
    "start_time": "2022-01-14T16:14:52.716Z"
   },
   {
    "duration": 15,
    "start_time": "2022-01-14T16:14:53.292Z"
   },
   {
    "duration": 496,
    "start_time": "2022-01-14T16:14:53.310Z"
   },
   {
    "duration": 44,
    "start_time": "2022-01-14T16:14:53.809Z"
   },
   {
    "duration": 465,
    "start_time": "2022-01-14T16:14:53.868Z"
   },
   {
    "duration": 457,
    "start_time": "2022-01-14T16:14:54.335Z"
   },
   {
    "duration": 503,
    "start_time": "2022-01-14T16:14:54.795Z"
   },
   {
    "duration": 31,
    "start_time": "2022-01-14T16:14:55.301Z"
   },
   {
    "duration": 468,
    "start_time": "2022-01-14T16:14:55.334Z"
   },
   {
    "duration": 867,
    "start_time": "2022-01-14T16:14:55.804Z"
   },
   {
    "duration": 543,
    "start_time": "2022-01-14T16:14:56.674Z"
   },
   {
    "duration": 30,
    "start_time": "2022-01-14T16:14:57.219Z"
   },
   {
    "duration": 481,
    "start_time": "2022-01-14T16:14:57.251Z"
   },
   {
    "duration": 470,
    "start_time": "2022-01-14T16:14:57.735Z"
   },
   {
    "duration": 467,
    "start_time": "2022-01-14T16:14:58.208Z"
   },
   {
    "duration": 11,
    "start_time": "2022-01-14T16:14:58.678Z"
   },
   {
    "duration": 10,
    "start_time": "2022-01-14T16:14:58.692Z"
   },
   {
    "duration": 11,
    "start_time": "2022-01-14T16:14:58.705Z"
   },
   {
    "duration": 56,
    "start_time": "2022-01-14T16:14:58.718Z"
   },
   {
    "duration": 7,
    "start_time": "2022-01-14T16:14:58.776Z"
   },
   {
    "duration": 13,
    "start_time": "2022-01-14T16:14:58.786Z"
   },
   {
    "duration": 11,
    "start_time": "2022-01-14T16:14:58.802Z"
   },
   {
    "duration": 51,
    "start_time": "2022-01-14T16:14:58.816Z"
   },
   {
    "duration": 11,
    "start_time": "2022-01-14T16:14:58.870Z"
   },
   {
    "duration": 8,
    "start_time": "2022-01-14T16:14:58.883Z"
   },
   {
    "duration": 509,
    "start_time": "2022-01-14T16:48:25.196Z"
   },
   {
    "duration": 1672,
    "start_time": "2022-01-14T16:49:04.810Z"
   },
   {
    "duration": 36,
    "start_time": "2022-01-14T16:49:06.484Z"
   },
   {
    "duration": 15,
    "start_time": "2022-01-14T16:49:06.523Z"
   },
   {
    "duration": 20,
    "start_time": "2022-01-14T16:49:06.566Z"
   },
   {
    "duration": 19,
    "start_time": "2022-01-14T16:49:06.588Z"
   },
   {
    "duration": 11,
    "start_time": "2022-01-14T16:49:06.610Z"
   },
   {
    "duration": 10,
    "start_time": "2022-01-14T16:49:06.623Z"
   },
   {
    "duration": 48,
    "start_time": "2022-01-14T16:49:06.637Z"
   },
   {
    "duration": 24,
    "start_time": "2022-01-14T16:49:06.689Z"
   },
   {
    "duration": 72,
    "start_time": "2022-01-14T16:49:06.715Z"
   },
   {
    "duration": 24,
    "start_time": "2022-01-14T16:49:06.790Z"
   },
   {
    "duration": 59,
    "start_time": "2022-01-14T16:49:06.817Z"
   },
   {
    "duration": 24,
    "start_time": "2022-01-14T16:49:06.878Z"
   },
   {
    "duration": 35,
    "start_time": "2022-01-14T16:49:06.905Z"
   },
   {
    "duration": 57,
    "start_time": "2022-01-14T16:49:06.943Z"
   },
   {
    "duration": 19,
    "start_time": "2022-01-14T16:49:07.003Z"
   },
   {
    "duration": 9,
    "start_time": "2022-01-14T16:49:07.025Z"
   },
   {
    "duration": 20,
    "start_time": "2022-01-14T16:49:07.075Z"
   },
   {
    "duration": 38,
    "start_time": "2022-01-14T16:49:07.097Z"
   },
   {
    "duration": 1022,
    "start_time": "2022-01-14T16:49:07.138Z"
   },
   {
    "duration": 655,
    "start_time": "2022-01-14T16:49:08.162Z"
   },
   {
    "duration": 595,
    "start_time": "2022-01-14T16:49:08.819Z"
   },
   {
    "duration": 11,
    "start_time": "2022-01-14T16:49:09.420Z"
   },
   {
    "duration": 460,
    "start_time": "2022-01-14T16:49:09.434Z"
   },
   {
    "duration": 889,
    "start_time": "2022-01-14T16:49:09.897Z"
   },
   {
    "duration": 132,
    "start_time": "2022-01-14T16:49:10.789Z"
   },
   {
    "duration": 28,
    "start_time": "2022-01-14T16:49:10.923Z"
   },
   {
    "duration": 57,
    "start_time": "2022-01-14T16:49:10.966Z"
   },
   {
    "duration": 589,
    "start_time": "2022-01-14T16:49:11.026Z"
   },
   {
    "duration": 513,
    "start_time": "2022-01-14T16:49:11.618Z"
   },
   {
    "duration": 556,
    "start_time": "2022-01-14T16:49:12.134Z"
   },
   {
    "duration": 15,
    "start_time": "2022-01-14T16:49:12.693Z"
   },
   {
    "duration": 574,
    "start_time": "2022-01-14T16:49:12.711Z"
   },
   {
    "duration": 504,
    "start_time": "2022-01-14T16:49:13.288Z"
   },
   {
    "duration": 16,
    "start_time": "2022-01-14T16:49:13.794Z"
   },
   {
    "duration": 547,
    "start_time": "2022-01-14T16:49:13.813Z"
   },
   {
    "duration": 48,
    "start_time": "2022-01-14T16:49:14.363Z"
   },
   {
    "duration": 507,
    "start_time": "2022-01-14T16:49:14.413Z"
   },
   {
    "duration": 481,
    "start_time": "2022-01-14T16:49:14.923Z"
   },
   {
    "duration": 493,
    "start_time": "2022-01-14T16:49:15.407Z"
   },
   {
    "duration": 38,
    "start_time": "2022-01-14T16:49:15.903Z"
   },
   {
    "duration": 624,
    "start_time": "2022-01-14T16:49:15.943Z"
   },
   {
    "duration": 548,
    "start_time": "2022-01-14T16:49:16.570Z"
   },
   {
    "duration": 480,
    "start_time": "2022-01-14T16:49:17.121Z"
   },
   {
    "duration": 36,
    "start_time": "2022-01-14T16:49:17.604Z"
   },
   {
    "duration": 492,
    "start_time": "2022-01-14T16:49:17.643Z"
   },
   {
    "duration": 490,
    "start_time": "2022-01-14T16:49:18.137Z"
   },
   {
    "duration": 466,
    "start_time": "2022-01-14T16:49:18.629Z"
   },
   {
    "duration": 14,
    "start_time": "2022-01-14T16:49:19.098Z"
   },
   {
    "duration": 12,
    "start_time": "2022-01-14T16:49:19.115Z"
   },
   {
    "duration": 53,
    "start_time": "2022-01-14T16:49:19.130Z"
   },
   {
    "duration": 12,
    "start_time": "2022-01-14T16:49:19.186Z"
   },
   {
    "duration": 10,
    "start_time": "2022-01-14T16:49:19.201Z"
   },
   {
    "duration": 12,
    "start_time": "2022-01-14T16:49:19.214Z"
   },
   {
    "duration": 15,
    "start_time": "2022-01-14T16:49:19.268Z"
   },
   {
    "duration": 12,
    "start_time": "2022-01-14T16:49:19.286Z"
   },
   {
    "duration": 9,
    "start_time": "2022-01-14T16:49:19.301Z"
   },
   {
    "duration": 7,
    "start_time": "2022-01-14T16:49:19.313Z"
   },
   {
    "duration": 451,
    "start_time": "2022-01-15T08:18:23.331Z"
   },
   {
    "duration": 1616,
    "start_time": "2022-01-15T08:18:32.509Z"
   },
   {
    "duration": 36,
    "start_time": "2022-01-15T08:18:34.128Z"
   },
   {
    "duration": 42,
    "start_time": "2022-01-15T08:18:34.168Z"
   },
   {
    "duration": 14,
    "start_time": "2022-01-15T08:18:34.213Z"
   },
   {
    "duration": 22,
    "start_time": "2022-01-15T08:18:34.230Z"
   },
   {
    "duration": 50,
    "start_time": "2022-01-15T08:18:34.254Z"
   },
   {
    "duration": 15,
    "start_time": "2022-01-15T08:18:34.307Z"
   },
   {
    "duration": 12,
    "start_time": "2022-01-15T08:18:34.327Z"
   },
   {
    "duration": 58,
    "start_time": "2022-01-15T08:18:34.343Z"
   },
   {
    "duration": 45,
    "start_time": "2022-01-15T08:18:34.404Z"
   },
   {
    "duration": 55,
    "start_time": "2022-01-15T08:18:34.452Z"
   },
   {
    "duration": 33,
    "start_time": "2022-01-15T08:18:34.510Z"
   },
   {
    "duration": 55,
    "start_time": "2022-01-15T08:18:34.546Z"
   },
   {
    "duration": 36,
    "start_time": "2022-01-15T08:18:34.604Z"
   },
   {
    "duration": 63,
    "start_time": "2022-01-15T08:18:34.643Z"
   },
   {
    "duration": 21,
    "start_time": "2022-01-15T08:18:34.709Z"
   },
   {
    "duration": 13,
    "start_time": "2022-01-15T08:18:34.733Z"
   },
   {
    "duration": 22,
    "start_time": "2022-01-15T08:18:34.748Z"
   },
   {
    "duration": 61,
    "start_time": "2022-01-15T08:18:34.772Z"
   },
   {
    "duration": 974,
    "start_time": "2022-01-15T08:18:34.835Z"
   },
   {
    "duration": 641,
    "start_time": "2022-01-15T08:18:35.811Z"
   },
   {
    "duration": 551,
    "start_time": "2022-01-15T08:18:36.455Z"
   },
   {
    "duration": 8,
    "start_time": "2022-01-15T08:18:37.013Z"
   },
   {
    "duration": 11,
    "start_time": "2022-01-15T08:18:37.024Z"
   },
   {
    "duration": 438,
    "start_time": "2022-01-15T08:18:37.037Z"
   },
   {
    "duration": 842,
    "start_time": "2022-01-15T08:18:37.477Z"
   },
   {
    "duration": 130,
    "start_time": "2022-01-15T08:18:38.321Z"
   },
   {
    "duration": 26,
    "start_time": "2022-01-15T08:18:38.454Z"
   },
   {
    "duration": 67,
    "start_time": "2022-01-15T08:18:38.482Z"
   },
   {
    "duration": 581,
    "start_time": "2022-01-15T08:18:38.552Z"
   },
   {
    "duration": 508,
    "start_time": "2022-01-15T08:18:39.136Z"
   },
   {
    "duration": 521,
    "start_time": "2022-01-15T08:18:39.647Z"
   },
   {
    "duration": 14,
    "start_time": "2022-01-15T08:18:40.170Z"
   },
   {
    "duration": 522,
    "start_time": "2022-01-15T08:18:40.186Z"
   },
   {
    "duration": 501,
    "start_time": "2022-01-15T08:18:40.710Z"
   },
   {
    "duration": 15,
    "start_time": "2022-01-15T08:18:41.213Z"
   },
   {
    "duration": 476,
    "start_time": "2022-01-15T08:18:41.230Z"
   },
   {
    "duration": 43,
    "start_time": "2022-01-15T08:18:41.709Z"
   },
   {
    "duration": 465,
    "start_time": "2022-01-15T08:18:41.755Z"
   },
   {
    "duration": 457,
    "start_time": "2022-01-15T08:18:42.222Z"
   },
   {
    "duration": 445,
    "start_time": "2022-01-15T08:18:42.681Z"
   },
   {
    "duration": 30,
    "start_time": "2022-01-15T08:18:43.128Z"
   },
   {
    "duration": 457,
    "start_time": "2022-01-15T08:18:43.161Z"
   },
   {
    "duration": 527,
    "start_time": "2022-01-15T08:18:43.621Z"
   },
   {
    "duration": 536,
    "start_time": "2022-01-15T08:18:44.150Z"
   },
   {
    "duration": 38,
    "start_time": "2022-01-15T08:18:44.689Z"
   },
   {
    "duration": 473,
    "start_time": "2022-01-15T08:18:44.730Z"
   },
   {
    "duration": 445,
    "start_time": "2022-01-15T08:18:45.205Z"
   },
   {
    "duration": 448,
    "start_time": "2022-01-15T08:18:45.652Z"
   },
   {
    "duration": 11,
    "start_time": "2022-01-15T08:18:46.103Z"
   },
   {
    "duration": 10,
    "start_time": "2022-01-15T08:18:46.118Z"
   },
   {
    "duration": 10,
    "start_time": "2022-01-15T08:18:46.131Z"
   },
   {
    "duration": 10,
    "start_time": "2022-01-15T08:18:46.143Z"
   },
   {
    "duration": 50,
    "start_time": "2022-01-15T08:18:46.155Z"
   },
   {
    "duration": 12,
    "start_time": "2022-01-15T08:18:46.208Z"
   },
   {
    "duration": 13,
    "start_time": "2022-01-15T08:18:46.223Z"
   },
   {
    "duration": 13,
    "start_time": "2022-01-15T08:18:46.238Z"
   },
   {
    "duration": 12,
    "start_time": "2022-01-15T08:18:46.302Z"
   },
   {
    "duration": 10,
    "start_time": "2022-01-15T08:18:46.317Z"
   },
   {
    "duration": 13,
    "start_time": "2022-01-15T08:21:11.757Z"
   },
   {
    "duration": 15,
    "start_time": "2022-01-15T08:21:34.456Z"
   },
   {
    "duration": 11,
    "start_time": "2022-01-15T08:21:53.320Z"
   },
   {
    "duration": 20,
    "start_time": "2022-01-15T08:22:13.480Z"
   },
   {
    "duration": 11,
    "start_time": "2022-01-15T08:22:21.600Z"
   },
   {
    "duration": 534,
    "start_time": "2022-01-15T08:26:05.113Z"
   },
   {
    "duration": 331,
    "start_time": "2022-01-15T08:26:36.003Z"
   },
   {
    "duration": 353,
    "start_time": "2022-01-15T08:26:45.315Z"
   },
   {
    "duration": 13,
    "start_time": "2022-01-15T08:32:50.678Z"
   },
   {
    "duration": 17,
    "start_time": "2022-01-15T08:32:54.832Z"
   },
   {
    "duration": 365,
    "start_time": "2022-01-15T08:33:54.531Z"
   },
   {
    "duration": 14,
    "start_time": "2022-01-15T08:34:08.571Z"
   },
   {
    "duration": 14,
    "start_time": "2022-01-15T08:34:11.755Z"
   },
   {
    "duration": 18,
    "start_time": "2022-01-15T08:37:41.226Z"
   },
   {
    "duration": 1625,
    "start_time": "2022-01-15T08:38:36.285Z"
   },
   {
    "duration": 1633,
    "start_time": "2022-01-15T08:50:06.750Z"
   },
   {
    "duration": 342,
    "start_time": "2022-01-15T08:50:40.960Z"
   },
   {
    "duration": 346,
    "start_time": "2022-01-15T08:51:08.825Z"
   },
   {
    "duration": 1184,
    "start_time": "2022-01-15T08:53:22.469Z"
   },
   {
    "duration": 341,
    "start_time": "2022-01-15T08:59:34.309Z"
   },
   {
    "duration": 344,
    "start_time": "2022-01-15T08:59:40.705Z"
   },
   {
    "duration": 141,
    "start_time": "2022-01-15T08:59:57.428Z"
   },
   {
    "duration": 38,
    "start_time": "2022-01-15T09:00:03.893Z"
   },
   {
    "duration": 17,
    "start_time": "2022-01-15T09:01:14.327Z"
   },
   {
    "duration": 1652,
    "start_time": "2022-01-15T09:01:24.087Z"
   },
   {
    "duration": 36,
    "start_time": "2022-01-15T09:01:25.742Z"
   },
   {
    "duration": 31,
    "start_time": "2022-01-15T09:01:25.781Z"
   },
   {
    "duration": 13,
    "start_time": "2022-01-15T09:01:25.815Z"
   },
   {
    "duration": 21,
    "start_time": "2022-01-15T09:01:25.831Z"
   },
   {
    "duration": 51,
    "start_time": "2022-01-15T09:01:25.854Z"
   },
   {
    "duration": 13,
    "start_time": "2022-01-15T09:01:25.908Z"
   },
   {
    "duration": 11,
    "start_time": "2022-01-15T09:01:25.926Z"
   },
   {
    "duration": 67,
    "start_time": "2022-01-15T09:01:25.941Z"
   },
   {
    "duration": 64,
    "start_time": "2022-01-15T09:01:26.010Z"
   },
   {
    "duration": 54,
    "start_time": "2022-01-15T09:01:26.077Z"
   },
   {
    "duration": 41,
    "start_time": "2022-01-15T09:01:26.134Z"
   },
   {
    "duration": 23,
    "start_time": "2022-01-15T09:01:26.201Z"
   },
   {
    "duration": 74,
    "start_time": "2022-01-15T09:01:26.226Z"
   },
   {
    "duration": 34,
    "start_time": "2022-01-15T09:01:26.303Z"
   },
   {
    "duration": 27,
    "start_time": "2022-01-15T09:01:26.340Z"
   },
   {
    "duration": 42,
    "start_time": "2022-01-15T09:01:26.370Z"
   },
   {
    "duration": 20,
    "start_time": "2022-01-15T09:01:26.415Z"
   },
   {
    "duration": 72,
    "start_time": "2022-01-15T09:01:26.438Z"
   },
   {
    "duration": 887,
    "start_time": "2022-01-15T09:01:26.513Z"
   },
   {
    "duration": 633,
    "start_time": "2022-01-15T09:01:27.403Z"
   },
   {
    "duration": 591,
    "start_time": "2022-01-15T09:01:28.038Z"
   },
   {
    "duration": 1274,
    "start_time": "2022-01-15T09:01:28.635Z"
   },
   {
    "duration": 38,
    "start_time": "2022-01-15T09:01:29.912Z"
   },
   {
    "duration": 12,
    "start_time": "2022-01-15T09:01:29.952Z"
   },
   {
    "duration": 470,
    "start_time": "2022-01-15T09:01:29.966Z"
   },
   {
    "duration": 729,
    "start_time": "2022-01-15T09:01:30.439Z"
   },
   {
    "duration": 133,
    "start_time": "2022-01-15T09:01:31.170Z"
   },
   {
    "duration": 26,
    "start_time": "2022-01-15T09:01:31.305Z"
   },
   {
    "duration": 69,
    "start_time": "2022-01-15T09:01:31.334Z"
   },
   {
    "duration": 582,
    "start_time": "2022-01-15T09:01:31.406Z"
   },
   {
    "duration": 664,
    "start_time": "2022-01-15T09:01:31.991Z"
   },
   {
    "duration": 656,
    "start_time": "2022-01-15T09:01:32.658Z"
   },
   {
    "duration": 15,
    "start_time": "2022-01-15T09:01:33.316Z"
   },
   {
    "duration": 500,
    "start_time": "2022-01-15T09:01:33.333Z"
   },
   {
    "duration": 504,
    "start_time": "2022-01-15T09:01:33.836Z"
   },
   {
    "duration": 14,
    "start_time": "2022-01-15T09:01:34.342Z"
   },
   {
    "duration": 687,
    "start_time": "2022-01-15T09:01:34.358Z"
   },
   {
    "duration": 58,
    "start_time": "2022-01-15T09:01:35.048Z"
   },
   {
    "duration": 449,
    "start_time": "2022-01-15T09:01:35.109Z"
   },
   {
    "duration": 479,
    "start_time": "2022-01-15T09:01:35.561Z"
   },
   {
    "duration": 450,
    "start_time": "2022-01-15T09:01:36.043Z"
   },
   {
    "duration": 29,
    "start_time": "2022-01-15T09:01:36.495Z"
   },
   {
    "duration": 456,
    "start_time": "2022-01-15T09:01:36.526Z"
   },
   {
    "duration": 456,
    "start_time": "2022-01-15T09:01:36.985Z"
   },
   {
    "duration": 451,
    "start_time": "2022-01-15T09:01:37.443Z"
   },
   {
    "duration": 29,
    "start_time": "2022-01-15T09:01:37.901Z"
   },
   {
    "duration": 471,
    "start_time": "2022-01-15T09:01:37.933Z"
   },
   {
    "duration": 447,
    "start_time": "2022-01-15T09:01:38.406Z"
   },
   {
    "duration": 468,
    "start_time": "2022-01-15T09:01:38.855Z"
   },
   {
    "duration": 11,
    "start_time": "2022-01-15T09:01:39.325Z"
   },
   {
    "duration": 12,
    "start_time": "2022-01-15T09:01:39.339Z"
   },
   {
    "duration": 16,
    "start_time": "2022-01-15T09:01:39.353Z"
   },
   {
    "duration": 11,
    "start_time": "2022-01-15T09:01:39.400Z"
   },
   {
    "duration": 7,
    "start_time": "2022-01-15T09:01:39.413Z"
   },
   {
    "duration": 10,
    "start_time": "2022-01-15T09:01:39.422Z"
   },
   {
    "duration": 10,
    "start_time": "2022-01-15T09:01:39.434Z"
   },
   {
    "duration": 54,
    "start_time": "2022-01-15T09:01:39.446Z"
   },
   {
    "duration": 11,
    "start_time": "2022-01-15T09:01:39.503Z"
   },
   {
    "duration": 21,
    "start_time": "2022-01-15T09:01:39.517Z"
   },
   {
    "duration": 763,
    "start_time": "2022-01-15T09:06:00.189Z"
   },
   {
    "duration": 22,
    "start_time": "2022-01-15T09:06:19.799Z"
   },
   {
    "duration": 21,
    "start_time": "2022-01-15T09:07:06.417Z"
   },
   {
    "duration": 17,
    "start_time": "2022-01-15T09:07:14.747Z"
   },
   {
    "duration": 468,
    "start_time": "2022-01-15T09:15:08.883Z"
   },
   {
    "duration": 363,
    "start_time": "2022-01-15T09:18:16.057Z"
   },
   {
    "duration": 7,
    "start_time": "2022-01-15T09:19:49.452Z"
   },
   {
    "duration": 6,
    "start_time": "2022-01-15T09:20:28.494Z"
   },
   {
    "duration": 6,
    "start_time": "2022-01-15T09:20:53.783Z"
   },
   {
    "duration": 9,
    "start_time": "2022-01-15T09:21:00.478Z"
   },
   {
    "duration": 12,
    "start_time": "2022-01-15T09:21:11.246Z"
   },
   {
    "duration": 1594,
    "start_time": "2022-01-15T09:21:21.391Z"
   },
   {
    "duration": 35,
    "start_time": "2022-01-15T09:21:22.988Z"
   },
   {
    "duration": 15,
    "start_time": "2022-01-15T09:21:23.026Z"
   },
   {
    "duration": 14,
    "start_time": "2022-01-15T09:21:23.044Z"
   },
   {
    "duration": 53,
    "start_time": "2022-01-15T09:21:23.061Z"
   },
   {
    "duration": 11,
    "start_time": "2022-01-15T09:21:23.117Z"
   },
   {
    "duration": 10,
    "start_time": "2022-01-15T09:21:23.130Z"
   },
   {
    "duration": 10,
    "start_time": "2022-01-15T09:21:23.143Z"
   },
   {
    "duration": 64,
    "start_time": "2022-01-15T09:21:23.156Z"
   },
   {
    "duration": 46,
    "start_time": "2022-01-15T09:21:23.223Z"
   },
   {
    "duration": 52,
    "start_time": "2022-01-15T09:21:23.272Z"
   },
   {
    "duration": 34,
    "start_time": "2022-01-15T09:21:23.327Z"
   },
   {
    "duration": 57,
    "start_time": "2022-01-15T09:21:23.364Z"
   },
   {
    "duration": 36,
    "start_time": "2022-01-15T09:21:23.424Z"
   },
   {
    "duration": 67,
    "start_time": "2022-01-15T09:21:23.463Z"
   },
   {
    "duration": 21,
    "start_time": "2022-01-15T09:21:23.533Z"
   },
   {
    "duration": 44,
    "start_time": "2022-01-15T09:21:23.557Z"
   },
   {
    "duration": 20,
    "start_time": "2022-01-15T09:21:23.604Z"
   },
   {
    "duration": 36,
    "start_time": "2022-01-15T09:21:23.627Z"
   },
   {
    "duration": 868,
    "start_time": "2022-01-15T09:21:23.666Z"
   },
   {
    "duration": 659,
    "start_time": "2022-01-15T09:21:24.537Z"
   },
   {
    "duration": 855,
    "start_time": "2022-01-15T09:21:25.201Z"
   },
   {
    "duration": 1283,
    "start_time": "2022-01-15T09:21:26.063Z"
   },
   {
    "duration": 481,
    "start_time": "2022-01-15T09:21:27.351Z"
   },
   {
    "duration": -654,
    "start_time": "2022-01-15T09:21:28.489Z"
   },
   {
    "duration": -655,
    "start_time": "2022-01-15T09:21:28.491Z"
   },
   {
    "duration": -657,
    "start_time": "2022-01-15T09:21:28.495Z"
   },
   {
    "duration": -663,
    "start_time": "2022-01-15T09:21:28.502Z"
   },
   {
    "duration": -663,
    "start_time": "2022-01-15T09:21:28.504Z"
   },
   {
    "duration": -663,
    "start_time": "2022-01-15T09:21:28.506Z"
   },
   {
    "duration": -665,
    "start_time": "2022-01-15T09:21:28.509Z"
   },
   {
    "duration": -722,
    "start_time": "2022-01-15T09:21:28.568Z"
   },
   {
    "duration": -723,
    "start_time": "2022-01-15T09:21:28.570Z"
   },
   {
    "duration": -724,
    "start_time": "2022-01-15T09:21:28.573Z"
   },
   {
    "duration": -725,
    "start_time": "2022-01-15T09:21:28.575Z"
   },
   {
    "duration": -753,
    "start_time": "2022-01-15T09:21:28.604Z"
   },
   {
    "duration": -792,
    "start_time": "2022-01-15T09:21:28.645Z"
   },
   {
    "duration": -802,
    "start_time": "2022-01-15T09:21:28.656Z"
   },
   {
    "duration": -803,
    "start_time": "2022-01-15T09:21:28.659Z"
   },
   {
    "duration": -849,
    "start_time": "2022-01-15T09:21:28.706Z"
   },
   {
    "duration": -851,
    "start_time": "2022-01-15T09:21:28.709Z"
   },
   {
    "duration": -861,
    "start_time": "2022-01-15T09:21:28.721Z"
   },
   {
    "duration": -862,
    "start_time": "2022-01-15T09:21:28.723Z"
   },
   {
    "duration": -864,
    "start_time": "2022-01-15T09:21:28.726Z"
   },
   {
    "duration": -865,
    "start_time": "2022-01-15T09:21:28.728Z"
   },
   {
    "duration": -876,
    "start_time": "2022-01-15T09:21:28.740Z"
   },
   {
    "duration": -877,
    "start_time": "2022-01-15T09:21:28.742Z"
   },
   {
    "duration": -888,
    "start_time": "2022-01-15T09:21:28.755Z"
   },
   {
    "duration": -936,
    "start_time": "2022-01-15T09:21:28.804Z"
   },
   {
    "duration": -937,
    "start_time": "2022-01-15T09:21:28.806Z"
   },
   {
    "duration": -938,
    "start_time": "2022-01-15T09:21:28.808Z"
   },
   {
    "duration": -940,
    "start_time": "2022-01-15T09:21:28.811Z"
   },
   {
    "duration": -922,
    "start_time": "2022-01-15T09:21:28.822Z"
   },
   {
    "duration": -923,
    "start_time": "2022-01-15T09:21:28.825Z"
   },
   {
    "duration": -923,
    "start_time": "2022-01-15T09:21:28.827Z"
   },
   {
    "duration": -925,
    "start_time": "2022-01-15T09:21:28.830Z"
   },
   {
    "duration": -927,
    "start_time": "2022-01-15T09:21:28.833Z"
   },
   {
    "duration": -927,
    "start_time": "2022-01-15T09:21:28.835Z"
   },
   {
    "duration": -932,
    "start_time": "2022-01-15T09:21:28.841Z"
   },
   {
    "duration": -932,
    "start_time": "2022-01-15T09:21:28.843Z"
   },
   {
    "duration": -933,
    "start_time": "2022-01-15T09:21:28.845Z"
   },
   {
    "duration": 7,
    "start_time": "2022-01-15T09:26:25.535Z"
   },
   {
    "duration": 11,
    "start_time": "2022-01-15T09:26:48.824Z"
   },
   {
    "duration": 12,
    "start_time": "2022-01-15T09:27:01.441Z"
   },
   {
    "duration": 22,
    "start_time": "2022-01-15T09:35:06.115Z"
   },
   {
    "duration": 23,
    "start_time": "2022-01-15T09:35:12.515Z"
   },
   {
    "duration": 31,
    "start_time": "2022-01-15T09:36:27.846Z"
   },
   {
    "duration": 18,
    "start_time": "2022-01-15T09:37:17.736Z"
   },
   {
    "duration": 21,
    "start_time": "2022-01-15T09:37:27.223Z"
   },
   {
    "duration": 113,
    "start_time": "2022-01-15T09:40:29.487Z"
   },
   {
    "duration": 24,
    "start_time": "2022-01-15T09:41:00.015Z"
   },
   {
    "duration": 20,
    "start_time": "2022-01-15T09:41:13.920Z"
   },
   {
    "duration": 17,
    "start_time": "2022-01-15T09:41:27.449Z"
   },
   {
    "duration": 18,
    "start_time": "2022-01-15T09:41:39.217Z"
   },
   {
    "duration": 1565,
    "start_time": "2022-01-15T09:42:03.904Z"
   },
   {
    "duration": 33,
    "start_time": "2022-01-15T09:42:05.471Z"
   },
   {
    "duration": 14,
    "start_time": "2022-01-15T09:42:05.507Z"
   },
   {
    "duration": 13,
    "start_time": "2022-01-15T09:42:05.523Z"
   },
   {
    "duration": 20,
    "start_time": "2022-01-15T09:42:05.538Z"
   },
   {
    "duration": 45,
    "start_time": "2022-01-15T09:42:05.561Z"
   },
   {
    "duration": 10,
    "start_time": "2022-01-15T09:42:05.608Z"
   },
   {
    "duration": 10,
    "start_time": "2022-01-15T09:42:05.622Z"
   },
   {
    "duration": 67,
    "start_time": "2022-01-15T09:42:05.636Z"
   },
   {
    "duration": 43,
    "start_time": "2022-01-15T09:42:05.707Z"
   },
   {
    "duration": 48,
    "start_time": "2022-01-15T09:42:05.752Z"
   },
   {
    "duration": 31,
    "start_time": "2022-01-15T09:42:05.803Z"
   },
   {
    "duration": 25,
    "start_time": "2022-01-15T09:42:05.836Z"
   },
   {
    "duration": 65,
    "start_time": "2022-01-15T09:42:05.864Z"
   },
   {
    "duration": 34,
    "start_time": "2022-01-15T09:42:05.932Z"
   },
   {
    "duration": 46,
    "start_time": "2022-01-15T09:42:05.969Z"
   },
   {
    "duration": 22,
    "start_time": "2022-01-15T09:42:06.018Z"
   },
   {
    "duration": 33,
    "start_time": "2022-01-15T09:42:06.043Z"
   },
   {
    "duration": 50,
    "start_time": "2022-01-15T09:42:06.079Z"
   },
   {
    "duration": 1016,
    "start_time": "2022-01-15T09:42:06.132Z"
   },
   {
    "duration": 616,
    "start_time": "2022-01-15T09:42:07.151Z"
   },
   {
    "duration": 602,
    "start_time": "2022-01-15T09:42:07.770Z"
   },
   {
    "duration": 1481,
    "start_time": "2022-01-15T09:42:08.378Z"
   },
   {
    "duration": 38,
    "start_time": "2022-01-15T09:42:09.863Z"
   },
   {
    "duration": 3,
    "start_time": "2022-01-15T09:42:09.904Z"
   },
   {
    "duration": 14,
    "start_time": "2022-01-15T09:42:09.909Z"
   },
   {
    "duration": 456,
    "start_time": "2022-01-15T09:42:09.926Z"
   },
   {
    "duration": 669,
    "start_time": "2022-01-15T09:42:10.385Z"
   },
   {
    "duration": 131,
    "start_time": "2022-01-15T09:42:11.057Z"
   },
   {
    "duration": 33,
    "start_time": "2022-01-15T09:42:11.191Z"
   },
   {
    "duration": 75,
    "start_time": "2022-01-15T09:42:11.227Z"
   },
   {
    "duration": 576,
    "start_time": "2022-01-15T09:42:11.304Z"
   },
   {
    "duration": 535,
    "start_time": "2022-01-15T09:42:11.883Z"
   },
   {
    "duration": 496,
    "start_time": "2022-01-15T09:42:12.421Z"
   },
   {
    "duration": 15,
    "start_time": "2022-01-15T09:42:12.920Z"
   },
   {
    "duration": 590,
    "start_time": "2022-01-15T09:42:12.938Z"
   },
   {
    "duration": 504,
    "start_time": "2022-01-15T09:42:13.530Z"
   },
   {
    "duration": 15,
    "start_time": "2022-01-15T09:42:14.037Z"
   },
   {
    "duration": 602,
    "start_time": "2022-01-15T09:42:14.055Z"
   },
   {
    "duration": 57,
    "start_time": "2022-01-15T09:42:14.659Z"
   },
   {
    "duration": 454,
    "start_time": "2022-01-15T09:42:14.719Z"
   },
   {
    "duration": 443,
    "start_time": "2022-01-15T09:42:15.176Z"
   },
   {
    "duration": 465,
    "start_time": "2022-01-15T09:42:15.622Z"
   },
   {
    "duration": 37,
    "start_time": "2022-01-15T09:42:16.089Z"
   },
   {
    "duration": 466,
    "start_time": "2022-01-15T09:42:16.128Z"
   },
   {
    "duration": 466,
    "start_time": "2022-01-15T09:42:16.596Z"
   },
   {
    "duration": 499,
    "start_time": "2022-01-15T09:42:17.065Z"
   },
   {
    "duration": 46,
    "start_time": "2022-01-15T09:42:17.567Z"
   },
   {
    "duration": 596,
    "start_time": "2022-01-15T09:42:17.616Z"
   },
   {
    "duration": 491,
    "start_time": "2022-01-15T09:42:18.215Z"
   },
   {
    "duration": 449,
    "start_time": "2022-01-15T09:42:18.709Z"
   },
   {
    "duration": 11,
    "start_time": "2022-01-15T09:42:19.160Z"
   },
   {
    "duration": 32,
    "start_time": "2022-01-15T09:42:19.174Z"
   },
   {
    "duration": 52,
    "start_time": "2022-01-15T09:42:19.209Z"
   },
   {
    "duration": 14,
    "start_time": "2022-01-15T09:42:19.264Z"
   },
   {
    "duration": 9,
    "start_time": "2022-01-15T09:42:19.281Z"
   },
   {
    "duration": 12,
    "start_time": "2022-01-15T09:42:19.293Z"
   },
   {
    "duration": 13,
    "start_time": "2022-01-15T09:42:19.310Z"
   },
   {
    "duration": 14,
    "start_time": "2022-01-15T09:42:19.326Z"
   },
   {
    "duration": 13,
    "start_time": "2022-01-15T09:42:19.343Z"
   },
   {
    "duration": 9,
    "start_time": "2022-01-15T09:42:19.402Z"
   },
   {
    "duration": 20,
    "start_time": "2022-01-15T09:43:25.435Z"
   },
   {
    "duration": 1627,
    "start_time": "2022-01-15T09:43:36.097Z"
   },
   {
    "duration": 37,
    "start_time": "2022-01-15T09:43:37.727Z"
   },
   {
    "duration": 36,
    "start_time": "2022-01-15T09:43:37.767Z"
   },
   {
    "duration": 13,
    "start_time": "2022-01-15T09:43:37.807Z"
   },
   {
    "duration": 21,
    "start_time": "2022-01-15T09:43:37.823Z"
   },
   {
    "duration": 10,
    "start_time": "2022-01-15T09:43:37.846Z"
   },
   {
    "duration": 51,
    "start_time": "2022-01-15T09:43:37.858Z"
   },
   {
    "duration": 17,
    "start_time": "2022-01-15T09:43:37.912Z"
   },
   {
    "duration": 37,
    "start_time": "2022-01-15T09:43:37.932Z"
   },
   {
    "duration": 59,
    "start_time": "2022-01-15T09:43:37.971Z"
   },
   {
    "duration": 24,
    "start_time": "2022-01-15T09:43:38.032Z"
   },
   {
    "duration": 56,
    "start_time": "2022-01-15T09:43:38.059Z"
   },
   {
    "duration": 22,
    "start_time": "2022-01-15T09:43:38.117Z"
   },
   {
    "duration": 61,
    "start_time": "2022-01-15T09:43:38.141Z"
   },
   {
    "duration": 32,
    "start_time": "2022-01-15T09:43:38.205Z"
   },
   {
    "duration": 21,
    "start_time": "2022-01-15T09:43:38.240Z"
   },
   {
    "duration": 42,
    "start_time": "2022-01-15T09:43:38.263Z"
   },
   {
    "duration": 34,
    "start_time": "2022-01-15T09:43:38.308Z"
   },
   {
    "duration": 57,
    "start_time": "2022-01-15T09:43:38.345Z"
   },
   {
    "duration": 901,
    "start_time": "2022-01-15T09:43:38.405Z"
   },
   {
    "duration": 645,
    "start_time": "2022-01-15T09:43:39.308Z"
   },
   {
    "duration": 583,
    "start_time": "2022-01-15T09:43:39.956Z"
   },
   {
    "duration": 1325,
    "start_time": "2022-01-15T09:43:40.548Z"
   },
   {
    "duration": 30,
    "start_time": "2022-01-15T09:43:41.876Z"
   },
   {
    "duration": 3,
    "start_time": "2022-01-15T09:43:41.908Z"
   },
   {
    "duration": 16,
    "start_time": "2022-01-15T09:43:41.914Z"
   },
   {
    "duration": 443,
    "start_time": "2022-01-15T09:43:41.933Z"
   },
   {
    "duration": 689,
    "start_time": "2022-01-15T09:43:42.378Z"
   },
   {
    "duration": 138,
    "start_time": "2022-01-15T09:43:43.071Z"
   },
   {
    "duration": 30,
    "start_time": "2022-01-15T09:43:43.212Z"
   },
   {
    "duration": 93,
    "start_time": "2022-01-15T09:43:43.244Z"
   },
   {
    "duration": 739,
    "start_time": "2022-01-15T09:43:43.340Z"
   },
   {
    "duration": 618,
    "start_time": "2022-01-15T09:43:44.082Z"
   },
   {
    "duration": 627,
    "start_time": "2022-01-15T09:43:44.703Z"
   },
   {
    "duration": 19,
    "start_time": "2022-01-15T09:43:45.333Z"
   },
   {
    "duration": 694,
    "start_time": "2022-01-15T09:43:45.355Z"
   },
   {
    "duration": 655,
    "start_time": "2022-01-15T09:43:46.052Z"
   },
   {
    "duration": 14,
    "start_time": "2022-01-15T09:43:46.710Z"
   },
   {
    "duration": 711,
    "start_time": "2022-01-15T09:43:46.728Z"
   },
   {
    "duration": 60,
    "start_time": "2022-01-15T09:43:47.442Z"
   },
   {
    "duration": 453,
    "start_time": "2022-01-15T09:43:47.505Z"
   },
   {
    "duration": 451,
    "start_time": "2022-01-15T09:43:47.961Z"
   },
   {
    "duration": 448,
    "start_time": "2022-01-15T09:43:48.415Z"
   },
   {
    "duration": 38,
    "start_time": "2022-01-15T09:43:48.865Z"
   },
   {
    "duration": 472,
    "start_time": "2022-01-15T09:43:48.906Z"
   },
   {
    "duration": 454,
    "start_time": "2022-01-15T09:43:49.380Z"
   },
   {
    "duration": 602,
    "start_time": "2022-01-15T09:43:49.836Z"
   },
   {
    "duration": 30,
    "start_time": "2022-01-15T09:43:50.440Z"
   },
   {
    "duration": 478,
    "start_time": "2022-01-15T09:43:50.473Z"
   },
   {
    "duration": 450,
    "start_time": "2022-01-15T09:43:50.954Z"
   },
   {
    "duration": 477,
    "start_time": "2022-01-15T09:43:51.406Z"
   },
   {
    "duration": 18,
    "start_time": "2022-01-15T09:43:51.885Z"
   },
   {
    "duration": 12,
    "start_time": "2022-01-15T09:43:51.905Z"
   },
   {
    "duration": 10,
    "start_time": "2022-01-15T09:43:51.920Z"
   },
   {
    "duration": 13,
    "start_time": "2022-01-15T09:43:51.932Z"
   },
   {
    "duration": 55,
    "start_time": "2022-01-15T09:43:51.948Z"
   },
   {
    "duration": 10,
    "start_time": "2022-01-15T09:43:52.005Z"
   },
   {
    "duration": 11,
    "start_time": "2022-01-15T09:43:52.018Z"
   },
   {
    "duration": 14,
    "start_time": "2022-01-15T09:43:52.032Z"
   },
   {
    "duration": 58,
    "start_time": "2022-01-15T09:43:52.049Z"
   },
   {
    "duration": 11,
    "start_time": "2022-01-15T09:43:52.110Z"
   },
   {
    "duration": 15,
    "start_time": "2022-01-15T09:44:21.229Z"
   },
   {
    "duration": 496,
    "start_time": "2022-01-15T09:45:35.457Z"
   },
   {
    "duration": 1806,
    "start_time": "2022-01-15T09:45:42.651Z"
   },
   {
    "duration": 43,
    "start_time": "2022-01-15T09:45:44.461Z"
   },
   {
    "duration": 68,
    "start_time": "2022-01-15T09:45:44.508Z"
   },
   {
    "duration": 16,
    "start_time": "2022-01-15T09:45:44.579Z"
   },
   {
    "duration": 25,
    "start_time": "2022-01-15T09:45:44.598Z"
   },
   {
    "duration": 11,
    "start_time": "2022-01-15T09:45:44.626Z"
   },
   {
    "duration": 13,
    "start_time": "2022-01-15T09:45:44.641Z"
   },
   {
    "duration": 52,
    "start_time": "2022-01-15T09:45:44.659Z"
   },
   {
    "duration": 25,
    "start_time": "2022-01-15T09:45:44.714Z"
   },
   {
    "duration": 76,
    "start_time": "2022-01-15T09:45:44.741Z"
   },
   {
    "duration": 31,
    "start_time": "2022-01-15T09:45:44.823Z"
   },
   {
    "duration": 64,
    "start_time": "2022-01-15T09:45:44.857Z"
   },
   {
    "duration": 23,
    "start_time": "2022-01-15T09:45:44.924Z"
   },
   {
    "duration": 74,
    "start_time": "2022-01-15T09:45:44.950Z"
   },
   {
    "duration": 43,
    "start_time": "2022-01-15T09:45:45.027Z"
   },
   {
    "duration": 41,
    "start_time": "2022-01-15T09:45:45.073Z"
   },
   {
    "duration": 10,
    "start_time": "2022-01-15T09:45:45.117Z"
   },
   {
    "duration": 23,
    "start_time": "2022-01-15T09:45:45.130Z"
   },
   {
    "duration": 75,
    "start_time": "2022-01-15T09:45:45.156Z"
   },
   {
    "duration": 929,
    "start_time": "2022-01-15T09:45:45.233Z"
   },
   {
    "duration": 613,
    "start_time": "2022-01-15T09:45:46.165Z"
   },
   {
    "duration": 635,
    "start_time": "2022-01-15T09:45:46.781Z"
   },
   {
    "duration": 507,
    "start_time": "2022-01-15T09:45:47.425Z"
   },
   {
    "duration": -35,
    "start_time": "2022-01-15T09:45:47.970Z"
   },
   {
    "duration": -36,
    "start_time": "2022-01-15T09:45:47.973Z"
   },
   {
    "duration": -38,
    "start_time": "2022-01-15T09:45:47.976Z"
   },
   {
    "duration": -38,
    "start_time": "2022-01-15T09:45:47.978Z"
   },
   {
    "duration": -40,
    "start_time": "2022-01-15T09:45:47.982Z"
   },
   {
    "duration": -41,
    "start_time": "2022-01-15T09:45:47.984Z"
   },
   {
    "duration": -43,
    "start_time": "2022-01-15T09:45:47.987Z"
   },
   {
    "duration": -43,
    "start_time": "2022-01-15T09:45:47.989Z"
   },
   {
    "duration": -43,
    "start_time": "2022-01-15T09:45:47.991Z"
   },
   {
    "duration": -44,
    "start_time": "2022-01-15T09:45:47.993Z"
   },
   {
    "duration": -45,
    "start_time": "2022-01-15T09:45:47.995Z"
   },
   {
    "duration": -45,
    "start_time": "2022-01-15T09:45:47.997Z"
   },
   {
    "duration": -47,
    "start_time": "2022-01-15T09:45:48.000Z"
   },
   {
    "duration": -54,
    "start_time": "2022-01-15T09:45:48.008Z"
   },
   {
    "duration": -70,
    "start_time": "2022-01-15T09:45:48.025Z"
   },
   {
    "duration": -72,
    "start_time": "2022-01-15T09:45:48.029Z"
   },
   {
    "duration": -73,
    "start_time": "2022-01-15T09:45:48.032Z"
   },
   {
    "duration": -77,
    "start_time": "2022-01-15T09:45:48.038Z"
   },
   {
    "duration": -78,
    "start_time": "2022-01-15T09:45:48.041Z"
   },
   {
    "duration": -79,
    "start_time": "2022-01-15T09:45:48.043Z"
   },
   {
    "duration": -81,
    "start_time": "2022-01-15T09:45:48.046Z"
   },
   {
    "duration": -82,
    "start_time": "2022-01-15T09:45:48.048Z"
   },
   {
    "duration": -83,
    "start_time": "2022-01-15T09:45:48.051Z"
   },
   {
    "duration": -84,
    "start_time": "2022-01-15T09:45:48.053Z"
   },
   {
    "duration": -90,
    "start_time": "2022-01-15T09:45:48.061Z"
   },
   {
    "duration": -63,
    "start_time": "2022-01-15T09:45:48.063Z"
   },
   {
    "duration": -64,
    "start_time": "2022-01-15T09:45:48.066Z"
   },
   {
    "duration": -65,
    "start_time": "2022-01-15T09:45:48.068Z"
   },
   {
    "duration": -66,
    "start_time": "2022-01-15T09:45:48.071Z"
   },
   {
    "duration": -67,
    "start_time": "2022-01-15T09:45:48.073Z"
   },
   {
    "duration": -69,
    "start_time": "2022-01-15T09:45:48.076Z"
   },
   {
    "duration": -70,
    "start_time": "2022-01-15T09:45:48.078Z"
   },
   {
    "duration": -71,
    "start_time": "2022-01-15T09:45:48.081Z"
   },
   {
    "duration": -72,
    "start_time": "2022-01-15T09:45:48.083Z"
   },
   {
    "duration": -73,
    "start_time": "2022-01-15T09:45:48.085Z"
   },
   {
    "duration": -80,
    "start_time": "2022-01-15T09:45:48.094Z"
   },
   {
    "duration": -82,
    "start_time": "2022-01-15T09:45:48.097Z"
   },
   {
    "duration": -83,
    "start_time": "2022-01-15T09:45:48.100Z"
   },
   {
    "duration": 1260,
    "start_time": "2022-01-15T09:46:32.462Z"
   },
   {
    "duration": 19,
    "start_time": "2022-01-15T09:46:39.950Z"
   },
   {
    "duration": 20,
    "start_time": "2022-01-15T09:46:56.790Z"
   },
   {
    "duration": 22,
    "start_time": "2022-01-15T09:47:09.951Z"
   },
   {
    "duration": 326,
    "start_time": "2022-01-15T09:47:57.721Z"
   },
   {
    "duration": 19,
    "start_time": "2022-01-15T09:48:38.450Z"
   },
   {
    "duration": 22,
    "start_time": "2022-01-15T09:48:53.947Z"
   },
   {
    "duration": 242,
    "start_time": "2022-01-15T09:49:13.484Z"
   },
   {
    "duration": 337,
    "start_time": "2022-01-15T09:49:35.165Z"
   },
   {
    "duration": 687,
    "start_time": "2022-01-15T09:49:43.988Z"
   },
   {
    "duration": 391,
    "start_time": "2022-01-15T09:51:04.720Z"
   },
   {
    "duration": 404,
    "start_time": "2022-01-15T09:51:32.159Z"
   },
   {
    "duration": 7,
    "start_time": "2022-01-15T09:52:03.042Z"
   },
   {
    "duration": 344,
    "start_time": "2022-01-15T09:52:14.522Z"
   },
   {
    "duration": 354,
    "start_time": "2022-01-15T09:52:18.841Z"
   },
   {
    "duration": 357,
    "start_time": "2022-01-15T09:52:40.306Z"
   },
   {
    "duration": 650,
    "start_time": "2022-01-15T09:52:46.803Z"
   },
   {
    "duration": 352,
    "start_time": "2022-01-15T09:55:05.737Z"
   },
   {
    "duration": 108,
    "start_time": "2022-01-15T09:55:19.777Z"
   },
   {
    "duration": 346,
    "start_time": "2022-01-15T09:55:25.321Z"
   },
   {
    "duration": 390,
    "start_time": "2022-01-15T09:56:20.394Z"
   },
   {
    "duration": 22,
    "start_time": "2022-01-15T09:56:24.212Z"
   },
   {
    "duration": 369,
    "start_time": "2022-01-15T09:56:27.884Z"
   },
   {
    "duration": 209,
    "start_time": "2022-01-15T09:58:41.376Z"
   },
   {
    "duration": 220,
    "start_time": "2022-01-15T09:58:59.841Z"
   },
   {
    "duration": 228,
    "start_time": "2022-01-15T10:03:37.612Z"
   },
   {
    "duration": 231,
    "start_time": "2022-01-15T10:03:52.452Z"
   },
   {
    "duration": 1534,
    "start_time": "2022-01-15T10:06:03.437Z"
   },
   {
    "duration": 35,
    "start_time": "2022-01-15T10:06:04.973Z"
   },
   {
    "duration": 17,
    "start_time": "2022-01-15T10:06:05.011Z"
   },
   {
    "duration": 13,
    "start_time": "2022-01-15T10:06:05.030Z"
   },
   {
    "duration": 55,
    "start_time": "2022-01-15T10:06:05.046Z"
   },
   {
    "duration": 11,
    "start_time": "2022-01-15T10:06:05.103Z"
   },
   {
    "duration": 10,
    "start_time": "2022-01-15T10:06:05.116Z"
   },
   {
    "duration": 10,
    "start_time": "2022-01-15T10:06:05.131Z"
   },
   {
    "duration": 68,
    "start_time": "2022-01-15T10:06:05.143Z"
   },
   {
    "duration": 43,
    "start_time": "2022-01-15T10:06:05.214Z"
   },
   {
    "duration": 50,
    "start_time": "2022-01-15T10:06:05.259Z"
   },
   {
    "duration": 33,
    "start_time": "2022-01-15T10:06:05.312Z"
   },
   {
    "duration": 23,
    "start_time": "2022-01-15T10:06:05.348Z"
   },
   {
    "duration": 35,
    "start_time": "2022-01-15T10:06:05.401Z"
   },
   {
    "duration": 31,
    "start_time": "2022-01-15T10:06:05.439Z"
   },
   {
    "duration": 45,
    "start_time": "2022-01-15T10:06:05.472Z"
   },
   {
    "duration": 24,
    "start_time": "2022-01-15T10:06:05.519Z"
   },
   {
    "duration": 32,
    "start_time": "2022-01-15T10:06:05.546Z"
   },
   {
    "duration": 44,
    "start_time": "2022-01-15T10:06:05.581Z"
   },
   {
    "duration": 952,
    "start_time": "2022-01-15T10:06:05.628Z"
   },
   {
    "duration": 613,
    "start_time": "2022-01-15T10:06:06.582Z"
   },
   {
    "duration": 559,
    "start_time": "2022-01-15T10:06:07.201Z"
   },
   {
    "duration": 1264,
    "start_time": "2022-01-15T10:06:07.766Z"
   },
   {
    "duration": 22,
    "start_time": "2022-01-15T10:06:09.033Z"
   },
   {
    "duration": 244,
    "start_time": "2022-01-15T10:06:09.058Z"
   },
   {
    "duration": 11,
    "start_time": "2022-01-15T10:06:09.304Z"
   },
   {
    "duration": 437,
    "start_time": "2022-01-15T10:06:09.317Z"
   },
   {
    "duration": 669,
    "start_time": "2022-01-15T10:06:09.757Z"
   },
   {
    "duration": 124,
    "start_time": "2022-01-15T10:06:10.428Z"
   },
   {
    "duration": 25,
    "start_time": "2022-01-15T10:06:10.554Z"
   },
   {
    "duration": 67,
    "start_time": "2022-01-15T10:06:10.581Z"
   },
   {
    "duration": 555,
    "start_time": "2022-01-15T10:06:10.650Z"
   },
   {
    "duration": 542,
    "start_time": "2022-01-15T10:06:11.207Z"
   },
   {
    "duration": 533,
    "start_time": "2022-01-15T10:06:11.751Z"
   },
   {
    "duration": 21,
    "start_time": "2022-01-15T10:06:12.287Z"
   },
   {
    "duration": 509,
    "start_time": "2022-01-15T10:06:12.310Z"
   },
   {
    "duration": 590,
    "start_time": "2022-01-15T10:06:12.821Z"
   },
   {
    "duration": 15,
    "start_time": "2022-01-15T10:06:13.413Z"
   },
   {
    "duration": 496,
    "start_time": "2022-01-15T10:06:13.430Z"
   },
   {
    "duration": 45,
    "start_time": "2022-01-15T10:06:13.928Z"
   },
   {
    "duration": 468,
    "start_time": "2022-01-15T10:06:13.975Z"
   },
   {
    "duration": 468,
    "start_time": "2022-01-15T10:06:14.445Z"
   },
   {
    "duration": 446,
    "start_time": "2022-01-15T10:06:14.916Z"
   },
   {
    "duration": 42,
    "start_time": "2022-01-15T10:06:15.364Z"
   },
   {
    "duration": 449,
    "start_time": "2022-01-15T10:06:15.408Z"
   },
   {
    "duration": 451,
    "start_time": "2022-01-15T10:06:15.859Z"
   },
   {
    "duration": 453,
    "start_time": "2022-01-15T10:06:16.313Z"
   },
   {
    "duration": 45,
    "start_time": "2022-01-15T10:06:16.769Z"
   },
   {
    "duration": 441,
    "start_time": "2022-01-15T10:06:16.816Z"
   },
   {
    "duration": 450,
    "start_time": "2022-01-15T10:06:17.259Z"
   },
   {
    "duration": 441,
    "start_time": "2022-01-15T10:06:17.712Z"
   },
   {
    "duration": 13,
    "start_time": "2022-01-15T10:06:18.155Z"
   },
   {
    "duration": 31,
    "start_time": "2022-01-15T10:06:18.171Z"
   },
   {
    "duration": 10,
    "start_time": "2022-01-15T10:06:18.205Z"
   },
   {
    "duration": 12,
    "start_time": "2022-01-15T10:06:18.217Z"
   },
   {
    "duration": 8,
    "start_time": "2022-01-15T10:06:18.232Z"
   },
   {
    "duration": 13,
    "start_time": "2022-01-15T10:06:18.243Z"
   },
   {
    "duration": 11,
    "start_time": "2022-01-15T10:06:18.301Z"
   },
   {
    "duration": 145,
    "start_time": "2022-01-15T10:06:18.315Z"
   },
   {
    "duration": 10,
    "start_time": "2022-01-15T10:06:18.463Z"
   },
   {
    "duration": 28,
    "start_time": "2022-01-15T10:06:18.475Z"
   },
   {
    "duration": 21,
    "start_time": "2022-01-15T10:11:41.092Z"
   },
   {
    "duration": 25,
    "start_time": "2022-01-15T10:13:28.336Z"
   },
   {
    "duration": 532,
    "start_time": "2022-01-15T10:15:49.485Z"
   },
   {
    "duration": 762,
    "start_time": "2022-01-15T10:27:11.248Z"
   },
   {
    "duration": 560,
    "start_time": "2022-01-15T10:29:26.163Z"
   },
   {
    "duration": 355,
    "start_time": "2022-01-15T10:30:00.252Z"
   },
   {
    "duration": 821,
    "start_time": "2022-01-15T10:30:08.038Z"
   },
   {
    "duration": 551,
    "start_time": "2022-01-15T10:31:25.912Z"
   },
   {
    "duration": 2029,
    "start_time": "2022-01-15T10:31:58.002Z"
   },
   {
    "duration": 41,
    "start_time": "2022-01-15T10:32:00.034Z"
   },
   {
    "duration": 37,
    "start_time": "2022-01-15T10:32:00.078Z"
   },
   {
    "duration": 21,
    "start_time": "2022-01-15T10:32:00.119Z"
   },
   {
    "duration": 33,
    "start_time": "2022-01-15T10:32:00.143Z"
   },
   {
    "duration": 27,
    "start_time": "2022-01-15T10:32:00.180Z"
   },
   {
    "duration": 32,
    "start_time": "2022-01-15T10:32:00.210Z"
   },
   {
    "duration": 18,
    "start_time": "2022-01-15T10:32:00.247Z"
   },
   {
    "duration": 43,
    "start_time": "2022-01-15T10:32:00.268Z"
   },
   {
    "duration": 47,
    "start_time": "2022-01-15T10:32:00.314Z"
   },
   {
    "duration": 53,
    "start_time": "2022-01-15T10:32:00.365Z"
   },
   {
    "duration": 33,
    "start_time": "2022-01-15T10:32:00.421Z"
   },
   {
    "duration": 58,
    "start_time": "2022-01-15T10:32:00.457Z"
   },
   {
    "duration": 38,
    "start_time": "2022-01-15T10:32:00.518Z"
   },
   {
    "duration": 60,
    "start_time": "2022-01-15T10:32:00.558Z"
   },
   {
    "duration": 24,
    "start_time": "2022-01-15T10:32:00.621Z"
   },
   {
    "duration": 16,
    "start_time": "2022-01-15T10:32:00.648Z"
   },
   {
    "duration": 19,
    "start_time": "2022-01-15T10:32:00.701Z"
   },
   {
    "duration": 40,
    "start_time": "2022-01-15T10:32:00.723Z"
   },
   {
    "duration": 889,
    "start_time": "2022-01-15T10:32:00.766Z"
   },
   {
    "duration": 679,
    "start_time": "2022-01-15T10:32:01.658Z"
   },
   {
    "duration": 1318,
    "start_time": "2022-01-15T10:32:02.340Z"
   },
   {
    "duration": 38,
    "start_time": "2022-01-15T10:32:03.664Z"
   },
   {
    "duration": 238,
    "start_time": "2022-01-15T10:32:03.706Z"
   },
   {
    "duration": 598,
    "start_time": "2022-01-15T10:32:03.946Z"
   },
   {
    "duration": 13,
    "start_time": "2022-01-15T10:32:04.546Z"
   },
   {
    "duration": 435,
    "start_time": "2022-01-15T10:32:04.561Z"
   },
   {
    "duration": 676,
    "start_time": "2022-01-15T10:32:04.998Z"
   },
   {
    "duration": 131,
    "start_time": "2022-01-15T10:32:05.677Z"
   },
   {
    "duration": 29,
    "start_time": "2022-01-15T10:32:05.811Z"
   },
   {
    "duration": 83,
    "start_time": "2022-01-15T10:32:05.843Z"
   },
   {
    "duration": 562,
    "start_time": "2022-01-15T10:32:05.928Z"
   },
   {
    "duration": 613,
    "start_time": "2022-01-15T10:32:06.493Z"
   },
   {
    "duration": 713,
    "start_time": "2022-01-15T10:32:07.108Z"
   },
   {
    "duration": 15,
    "start_time": "2022-01-15T10:32:07.823Z"
   },
   {
    "duration": 566,
    "start_time": "2022-01-15T10:32:07.840Z"
   },
   {
    "duration": 618,
    "start_time": "2022-01-15T10:32:08.408Z"
   },
   {
    "duration": 19,
    "start_time": "2022-01-15T10:32:09.029Z"
   },
   {
    "duration": 496,
    "start_time": "2022-01-15T10:32:09.051Z"
   },
   {
    "duration": 58,
    "start_time": "2022-01-15T10:32:09.549Z"
   },
   {
    "duration": 454,
    "start_time": "2022-01-15T10:32:09.610Z"
   },
   {
    "duration": 454,
    "start_time": "2022-01-15T10:32:10.067Z"
   },
   {
    "duration": 462,
    "start_time": "2022-01-15T10:32:10.524Z"
   },
   {
    "duration": 38,
    "start_time": "2022-01-15T10:32:10.988Z"
   },
   {
    "duration": 455,
    "start_time": "2022-01-15T10:32:11.028Z"
   },
   {
    "duration": 456,
    "start_time": "2022-01-15T10:32:11.485Z"
   },
   {
    "duration": 503,
    "start_time": "2022-01-15T10:32:11.943Z"
   },
   {
    "duration": 29,
    "start_time": "2022-01-15T10:32:12.449Z"
   },
   {
    "duration": 448,
    "start_time": "2022-01-15T10:32:12.500Z"
   },
   {
    "duration": 457,
    "start_time": "2022-01-15T10:32:12.950Z"
   },
   {
    "duration": 456,
    "start_time": "2022-01-15T10:32:13.410Z"
   },
   {
    "duration": 12,
    "start_time": "2022-01-15T10:32:13.869Z"
   },
   {
    "duration": 31,
    "start_time": "2022-01-15T10:32:13.883Z"
   },
   {
    "duration": 14,
    "start_time": "2022-01-15T10:32:13.917Z"
   },
   {
    "duration": 14,
    "start_time": "2022-01-15T10:32:13.934Z"
   },
   {
    "duration": 8,
    "start_time": "2022-01-15T10:32:13.951Z"
   },
   {
    "duration": 15,
    "start_time": "2022-01-15T10:32:14.002Z"
   },
   {
    "duration": 13,
    "start_time": "2022-01-15T10:32:14.020Z"
   },
   {
    "duration": 137,
    "start_time": "2022-01-15T10:32:14.036Z"
   },
   {
    "duration": 24,
    "start_time": "2022-01-15T10:32:14.176Z"
   },
   {
    "duration": 8,
    "start_time": "2022-01-15T10:32:14.202Z"
   },
   {
    "duration": 1609,
    "start_time": "2022-01-15T11:18:14.041Z"
   },
   {
    "duration": 35,
    "start_time": "2022-01-15T11:18:15.653Z"
   },
   {
    "duration": 20,
    "start_time": "2022-01-15T11:18:15.691Z"
   },
   {
    "duration": 12,
    "start_time": "2022-01-15T11:18:15.715Z"
   },
   {
    "duration": 19,
    "start_time": "2022-01-15T11:18:15.729Z"
   },
   {
    "duration": 48,
    "start_time": "2022-01-15T11:18:15.751Z"
   },
   {
    "duration": 11,
    "start_time": "2022-01-15T11:18:15.802Z"
   },
   {
    "duration": 15,
    "start_time": "2022-01-15T11:18:15.817Z"
   },
   {
    "duration": 33,
    "start_time": "2022-01-15T11:18:15.836Z"
   },
   {
    "duration": 64,
    "start_time": "2022-01-15T11:18:15.871Z"
   },
   {
    "duration": 25,
    "start_time": "2022-01-15T11:18:15.937Z"
   },
   {
    "duration": 60,
    "start_time": "2022-01-15T11:18:15.964Z"
   },
   {
    "duration": 22,
    "start_time": "2022-01-15T11:18:16.026Z"
   },
   {
    "duration": 57,
    "start_time": "2022-01-15T11:18:16.050Z"
   },
   {
    "duration": 33,
    "start_time": "2022-01-15T11:18:16.110Z"
   },
   {
    "duration": 20,
    "start_time": "2022-01-15T11:18:16.145Z"
   },
   {
    "duration": 38,
    "start_time": "2022-01-15T11:18:16.167Z"
   },
   {
    "duration": 20,
    "start_time": "2022-01-15T11:18:16.207Z"
   },
   {
    "duration": 36,
    "start_time": "2022-01-15T11:18:16.229Z"
   },
   {
    "duration": 881,
    "start_time": "2022-01-15T11:18:16.267Z"
   },
   {
    "duration": 670,
    "start_time": "2022-01-15T11:18:17.151Z"
   },
   {
    "duration": 1267,
    "start_time": "2022-01-15T11:18:17.824Z"
   },
   {
    "duration": 24,
    "start_time": "2022-01-15T11:18:19.106Z"
   },
   {
    "duration": 256,
    "start_time": "2022-01-15T11:18:19.135Z"
   },
   {
    "duration": 585,
    "start_time": "2022-01-15T11:18:19.401Z"
   },
   {
    "duration": 22,
    "start_time": "2022-01-15T11:18:19.989Z"
   },
   {
    "duration": 430,
    "start_time": "2022-01-15T11:18:20.014Z"
   },
   {
    "duration": 696,
    "start_time": "2022-01-15T11:18:20.446Z"
   },
   {
    "duration": 158,
    "start_time": "2022-01-15T11:18:21.144Z"
   },
   {
    "duration": 27,
    "start_time": "2022-01-15T11:18:21.304Z"
   },
   {
    "duration": 74,
    "start_time": "2022-01-15T11:18:21.333Z"
   },
   {
    "duration": 566,
    "start_time": "2022-01-15T11:18:21.409Z"
   },
   {
    "duration": 542,
    "start_time": "2022-01-15T11:18:21.977Z"
   },
   {
    "duration": 504,
    "start_time": "2022-01-15T11:18:22.521Z"
   },
   {
    "duration": 14,
    "start_time": "2022-01-15T11:18:23.028Z"
   },
   {
    "duration": 558,
    "start_time": "2022-01-15T11:18:23.045Z"
   },
   {
    "duration": 634,
    "start_time": "2022-01-15T11:18:23.605Z"
   },
   {
    "duration": 14,
    "start_time": "2022-01-15T11:18:24.241Z"
   },
   {
    "duration": 508,
    "start_time": "2022-01-15T11:18:24.258Z"
   },
   {
    "duration": 56,
    "start_time": "2022-01-15T11:18:24.769Z"
   },
   {
    "duration": 442,
    "start_time": "2022-01-15T11:18:24.828Z"
   },
   {
    "duration": 533,
    "start_time": "2022-01-15T11:18:25.273Z"
   },
   {
    "duration": 452,
    "start_time": "2022-01-15T11:18:25.808Z"
   },
   {
    "duration": 41,
    "start_time": "2022-01-15T11:18:26.262Z"
   },
   {
    "duration": 445,
    "start_time": "2022-01-15T11:18:26.306Z"
   },
   {
    "duration": 450,
    "start_time": "2022-01-15T11:18:26.753Z"
   },
   {
    "duration": 456,
    "start_time": "2022-01-15T11:18:27.206Z"
   },
   {
    "duration": 40,
    "start_time": "2022-01-15T11:18:27.665Z"
   },
   {
    "duration": 447,
    "start_time": "2022-01-15T11:18:27.707Z"
   },
   {
    "duration": 551,
    "start_time": "2022-01-15T11:18:28.157Z"
   },
   {
    "duration": 442,
    "start_time": "2022-01-15T11:18:28.711Z"
   },
   {
    "duration": 10,
    "start_time": "2022-01-15T11:18:29.155Z"
   },
   {
    "duration": 37,
    "start_time": "2022-01-15T11:18:29.168Z"
   },
   {
    "duration": 11,
    "start_time": "2022-01-15T11:18:29.207Z"
   },
   {
    "duration": 10,
    "start_time": "2022-01-15T11:18:29.221Z"
   },
   {
    "duration": 7,
    "start_time": "2022-01-15T11:18:29.234Z"
   },
   {
    "duration": 12,
    "start_time": "2022-01-15T11:18:29.243Z"
   },
   {
    "duration": 50,
    "start_time": "2022-01-15T11:18:29.258Z"
   },
   {
    "duration": 132,
    "start_time": "2022-01-15T11:18:29.311Z"
   },
   {
    "duration": 11,
    "start_time": "2022-01-15T11:18:29.445Z"
   },
   {
    "duration": 8,
    "start_time": "2022-01-15T11:18:29.458Z"
   },
   {
    "duration": 1772,
    "start_time": "2022-01-15T11:23:02.193Z"
   },
   {
    "duration": 34,
    "start_time": "2022-01-15T11:23:03.967Z"
   },
   {
    "duration": 32,
    "start_time": "2022-01-15T11:23:04.004Z"
   },
   {
    "duration": 26,
    "start_time": "2022-01-15T11:23:04.039Z"
   },
   {
    "duration": 41,
    "start_time": "2022-01-15T11:23:04.068Z"
   },
   {
    "duration": 26,
    "start_time": "2022-01-15T11:23:04.112Z"
   },
   {
    "duration": 21,
    "start_time": "2022-01-15T11:23:04.141Z"
   },
   {
    "duration": 30,
    "start_time": "2022-01-15T11:23:04.166Z"
   },
   {
    "duration": 51,
    "start_time": "2022-01-15T11:23:04.198Z"
   },
   {
    "duration": 54,
    "start_time": "2022-01-15T11:23:04.252Z"
   },
   {
    "duration": 38,
    "start_time": "2022-01-15T11:23:04.309Z"
   },
   {
    "duration": 67,
    "start_time": "2022-01-15T11:23:04.351Z"
   },
   {
    "duration": 22,
    "start_time": "2022-01-15T11:23:04.421Z"
   },
   {
    "duration": 56,
    "start_time": "2022-01-15T11:23:04.445Z"
   },
   {
    "duration": 35,
    "start_time": "2022-01-15T11:23:04.504Z"
   },
   {
    "duration": 22,
    "start_time": "2022-01-15T11:23:04.541Z"
   },
   {
    "duration": 47,
    "start_time": "2022-01-15T11:23:04.565Z"
   },
   {
    "duration": 58,
    "start_time": "2022-01-15T11:23:04.614Z"
   },
   {
    "duration": 59,
    "start_time": "2022-01-15T11:23:04.675Z"
   },
   {
    "duration": 930,
    "start_time": "2022-01-15T11:23:04.737Z"
   },
   {
    "duration": 682,
    "start_time": "2022-01-15T11:23:05.670Z"
   },
   {
    "duration": 1347,
    "start_time": "2022-01-15T11:23:06.354Z"
   },
   {
    "duration": 23,
    "start_time": "2022-01-15T11:23:07.707Z"
   },
   {
    "duration": 269,
    "start_time": "2022-01-15T11:23:07.734Z"
   },
   {
    "duration": 615,
    "start_time": "2022-01-15T11:23:08.005Z"
   },
   {
    "duration": 12,
    "start_time": "2022-01-15T11:23:08.623Z"
   },
   {
    "duration": 480,
    "start_time": "2022-01-15T11:23:08.638Z"
   },
   {
    "duration": 730,
    "start_time": "2022-01-15T11:23:09.120Z"
   },
   {
    "duration": 142,
    "start_time": "2022-01-15T11:23:09.853Z"
   },
   {
    "duration": 34,
    "start_time": "2022-01-15T11:23:09.999Z"
   },
   {
    "duration": 85,
    "start_time": "2022-01-15T11:23:10.036Z"
   },
   {
    "duration": 601,
    "start_time": "2022-01-15T11:23:10.124Z"
   },
   {
    "duration": 517,
    "start_time": "2022-01-15T11:23:10.729Z"
   },
   {
    "duration": 593,
    "start_time": "2022-01-15T11:23:11.250Z"
   },
   {
    "duration": 15,
    "start_time": "2022-01-15T11:23:11.846Z"
   },
   {
    "duration": 549,
    "start_time": "2022-01-15T11:23:11.863Z"
   },
   {
    "duration": 605,
    "start_time": "2022-01-15T11:23:12.415Z"
   },
   {
    "duration": 16,
    "start_time": "2022-01-15T11:23:13.023Z"
   },
   {
    "duration": 500,
    "start_time": "2022-01-15T11:23:13.042Z"
   },
   {
    "duration": 59,
    "start_time": "2022-01-15T11:23:13.545Z"
   },
   {
    "duration": 454,
    "start_time": "2022-01-15T11:23:13.607Z"
   },
   {
    "duration": 457,
    "start_time": "2022-01-15T11:23:14.063Z"
   },
   {
    "duration": 833,
    "start_time": "2022-01-15T11:23:14.523Z"
   },
   {
    "duration": 63,
    "start_time": "2022-01-15T11:23:15.359Z"
   },
   {
    "duration": 825,
    "start_time": "2022-01-15T11:23:15.426Z"
   },
   {
    "duration": 953,
    "start_time": "2022-01-15T11:23:16.255Z"
   },
   {
    "duration": 624,
    "start_time": "2022-01-15T11:23:17.211Z"
   },
   {
    "duration": 30,
    "start_time": "2022-01-15T11:23:17.837Z"
   },
   {
    "duration": 506,
    "start_time": "2022-01-15T11:23:17.869Z"
   },
   {
    "duration": 484,
    "start_time": "2022-01-15T11:23:18.378Z"
   },
   {
    "duration": 452,
    "start_time": "2022-01-15T11:23:18.865Z"
   },
   {
    "duration": 11,
    "start_time": "2022-01-15T11:23:19.320Z"
   },
   {
    "duration": 19,
    "start_time": "2022-01-15T11:23:19.334Z"
   },
   {
    "duration": 28,
    "start_time": "2022-01-15T11:23:19.356Z"
   },
   {
    "duration": 33,
    "start_time": "2022-01-15T11:23:19.387Z"
   },
   {
    "duration": 26,
    "start_time": "2022-01-15T11:23:19.422Z"
   },
   {
    "duration": 31,
    "start_time": "2022-01-15T11:23:19.451Z"
   },
   {
    "duration": 16,
    "start_time": "2022-01-15T11:23:19.485Z"
   },
   {
    "duration": 139,
    "start_time": "2022-01-15T11:23:19.504Z"
   },
   {
    "duration": 22,
    "start_time": "2022-01-15T11:23:19.646Z"
   },
   {
    "duration": 24,
    "start_time": "2022-01-15T11:23:19.671Z"
   }
  ],
  "kernelspec": {
   "display_name": "Python 3",
   "language": "python",
   "name": "python3"
  },
  "language_info": {
   "codemirror_mode": {
    "name": "ipython",
    "version": 3
   },
   "file_extension": ".py",
   "mimetype": "text/x-python",
   "name": "python",
   "nbconvert_exporter": "python",
   "pygments_lexer": "ipython3",
   "version": "3.7.8"
  },
  "toc": {
   "base_numbering": 1,
   "nav_menu": {},
   "number_sections": true,
   "sideBar": true,
   "skip_h1_title": true,
   "title_cell": "Table of Contents",
   "title_sidebar": "Contents",
   "toc_cell": false,
   "toc_position": {},
   "toc_section_display": true,
   "toc_window_display": false
  }
 },
 "nbformat": 4,
 "nbformat_minor": 2
}
